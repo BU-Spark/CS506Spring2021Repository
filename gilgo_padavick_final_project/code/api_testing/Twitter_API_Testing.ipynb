{
 "cells": [
  {
   "cell_type": "markdown",
   "metadata": {},
   "source": [
    "# Testing out some features on the Twitter API using Tweepy"
   ]
  },
  {
   "cell_type": "code",
   "execution_count": 1,
   "metadata": {},
   "outputs": [],
   "source": [
    "import json\n",
    "import tweepy\n",
    "import datetime as dt\n",
    "import pandas as pd"
   ]
  },
  {
   "cell_type": "code",
   "execution_count": 2,
   "metadata": {},
   "outputs": [],
   "source": [
    "with open('keys.json') as keys:\n",
    "    config = json.load(keys)\n",
    "auth = tweepy.OAuthHandler(config['twitter']['API_key'], config['twitter']['API_secret_key'])\n",
    "# auth.set_access_token(access_token, access_token_secret)\n",
    "\n",
    "api = tweepy.API(auth)"
   ]
  },
  {
   "cell_type": "markdown",
   "metadata": {},
   "source": [
    "## Example account (Elon Musk)"
   ]
  },
  {
   "cell_type": "code",
   "execution_count": 3,
   "metadata": {},
   "outputs": [],
   "source": [
    "user = api.get_user('elonmusk')"
   ]
  },
  {
   "cell_type": "code",
   "execution_count": 4,
   "metadata": {
    "scrolled": true
   },
   "outputs": [
    {
     "name": "stdout",
     "output_type": "stream",
     "text": [
      "elonmusk\n",
      "49493389\n",
      "TheMarsSociety\n",
      "CoinDesk\n",
      "dogecoin_devs\n",
      "dogecoin\n",
      "cleantechnica\n",
      "TheOnion\n",
      "TheBabylonBee\n",
      "karpathy\n",
      "Astro_Soichi\n",
      "PopMech\n",
      "PyTorch\n",
      "Nigel_Lockyer\n",
      "jagarikin\n",
      "AstroVicGlover\n",
      "Tesmanian_com\n",
      "flcnhvy\n",
      "machineIearning\n",
      "BBC_Future\n",
      "kanyewest\n",
      "teslacn\n"
     ]
    }
   ],
   "source": [
    "print(user.screen_name)\n",
    "print(user.followers_count)\n",
    "for friend in user.friends():\n",
    "    print(friend.screen_name)"
   ]
  },
  {
   "cell_type": "markdown",
   "metadata": {},
   "source": [
    "## Search by keyword on all tweets"
   ]
  },
  {
   "cell_type": "code",
   "execution_count": 4,
   "metadata": {},
   "outputs": [],
   "source": [
    "# tweets = tweepy.Cursor(user.search, q=str(search_string), tweet_mode='extended', lang='pt').items(ct.num_of_tweets)\n",
    "# tweet_search = api.search()\n",
    "query = '$GME'\n",
    "max_tweets = 100000\n",
    "searched_tweets = [status for status in tweepy.Cursor(api.search, q=query, since=\"2021-2-22\", until=\"2021-2-28\").items()]"
   ]
  },
  {
   "cell_type": "code",
   "execution_count": 14,
   "metadata": {},
   "outputs": [
    {
     "name": "stdout",
     "output_type": "stream",
     "text": [
      "Status(_api=<tweepy.api.API object at 0x000001D8C8A44288>, _json={'created_at': 'Wed Mar 24 00:54:02 +0000 2021', 'id': 1374524877093314569, 'id_str': '1374524877093314569', 'text': 'RT @FortuneMaster4: $JAKK reiterating my final PT of $30 here, definitely has room to go way higher. Fundamentals are solid with massive ch…', 'truncated': False, 'entities': {'hashtags': [], 'symbols': [{'text': 'JAKK', 'indices': [20, 25]}], 'user_mentions': [{'screen_name': 'FortuneMaster4', 'name': 'Fortune Master', 'id': 1286142595715018757, 'id_str': '1286142595715018757', 'indices': [3, 18]}], 'urls': []}, 'metadata': {'iso_language_code': 'en', 'result_type': 'recent'}, 'source': '<a href=\"http://twitter.com/download/iphone\" rel=\"nofollow\">Twitter for iPhone</a>', 'in_reply_to_status_id': None, 'in_reply_to_status_id_str': None, 'in_reply_to_user_id': None, 'in_reply_to_user_id_str': None, 'in_reply_to_screen_name': None, 'user': {'id': 770830615, 'id_str': '770830615', 'name': 'John Goldman', 'screen_name': 'GoldmanAdvisor', 'location': 'New York, NY', 'description': 'Independent thoughts on the markets and current macro investment themes.', 'url': None, 'entities': {'description': {'urls': []}}, 'protected': False, 'followers_count': 301, 'friends_count': 1071, 'listed_count': 8, 'created_at': 'Tue Aug 21 04:37:19 +0000 2012', 'favourites_count': 735, 'utc_offset': None, 'time_zone': None, 'geo_enabled': False, 'verified': False, 'statuses_count': 959, 'lang': None, 'contributors_enabled': False, 'is_translator': False, 'is_translation_enabled': False, 'profile_background_color': 'C0DEED', 'profile_background_image_url': 'http://abs.twimg.com/images/themes/theme1/bg.png', 'profile_background_image_url_https': 'https://abs.twimg.com/images/themes/theme1/bg.png', 'profile_background_tile': False, 'profile_image_url': 'http://pbs.twimg.com/profile_images/1096958356458270720/wzVNVBUV_normal.jpg', 'profile_image_url_https': 'https://pbs.twimg.com/profile_images/1096958356458270720/wzVNVBUV_normal.jpg', 'profile_banner_url': 'https://pbs.twimg.com/profile_banners/770830615/1546405658', 'profile_link_color': '1DA1F2', 'profile_sidebar_border_color': 'C0DEED', 'profile_sidebar_fill_color': 'DDEEF6', 'profile_text_color': '333333', 'profile_use_background_image': True, 'has_extended_profile': False, 'default_profile': True, 'default_profile_image': False, 'following': None, 'follow_request_sent': None, 'notifications': None, 'translator_type': 'none'}, 'geo': None, 'coordinates': None, 'place': None, 'contributors': None, 'retweeted_status': {'created_at': 'Tue Mar 23 15:40:22 +0000 2021', 'id': 1374385539143528448, 'id_str': '1374385539143528448', 'text': '$JAKK reiterating my final PT of $30 here, definitely has room to go way higher. Fundamentals are solid with massiv… https://t.co/Bq2DpBDYl7', 'truncated': True, 'entities': {'hashtags': [], 'symbols': [{'text': 'JAKK', 'indices': [0, 5]}], 'user_mentions': [], 'urls': [{'url': 'https://t.co/Bq2DpBDYl7', 'expanded_url': 'https://twitter.com/i/web/status/1374385539143528448', 'display_url': 'twitter.com/i/web/status/1…', 'indices': [117, 140]}]}, 'metadata': {'iso_language_code': 'en', 'result_type': 'recent'}, 'source': '<a href=\"https://stocktwits.com\" rel=\"nofollow\">StockTwits Web</a>', 'in_reply_to_status_id': None, 'in_reply_to_status_id_str': None, 'in_reply_to_user_id': None, 'in_reply_to_user_id_str': None, 'in_reply_to_screen_name': None, 'user': {'id': 1286142595715018757, 'id_str': '1286142595715018757', 'name': 'Fortune Master', 'screen_name': 'FortuneMaster4', 'location': '', 'description': 'Join the FortuneMaster for triple digit growth stock picks. I post 100%’ers for my followers with detailed analysis and entry/exit prices on https://t.co/3XrG9PgVqp.', 'url': None, 'entities': {'description': {'urls': [{'url': 'https://t.co/3XrG9PgVqp', 'expanded_url': 'http://fortunealerts.com', 'display_url': 'fortunealerts.com', 'indices': [141, 164]}]}}, 'protected': False, 'followers_count': 593, 'friends_count': 3, 'listed_count': 9, 'created_at': 'Thu Jul 23 03:34:35 +0000 2020', 'favourites_count': 679, 'utc_offset': None, 'time_zone': None, 'geo_enabled': False, 'verified': False, 'statuses_count': 1940, 'lang': None, 'contributors_enabled': False, 'is_translator': False, 'is_translation_enabled': False, 'profile_background_color': 'F5F8FA', 'profile_background_image_url': None, 'profile_background_image_url_https': None, 'profile_background_tile': False, 'profile_image_url': 'http://pbs.twimg.com/profile_images/1286142712165609472/BfmfDhyy_normal.jpg', 'profile_image_url_https': 'https://pbs.twimg.com/profile_images/1286142712165609472/BfmfDhyy_normal.jpg', 'profile_link_color': '1DA1F2', 'profile_sidebar_border_color': 'C0DEED', 'profile_sidebar_fill_color': 'DDEEF6', 'profile_text_color': '333333', 'profile_use_background_image': True, 'has_extended_profile': True, 'default_profile': True, 'default_profile_image': False, 'following': None, 'follow_request_sent': None, 'notifications': None, 'translator_type': 'none'}, 'geo': None, 'coordinates': None, 'place': None, 'contributors': None, 'is_quote_status': False, 'retweet_count': 1, 'favorite_count': 1, 'favorited': False, 'retweeted': False, 'lang': 'en'}, 'is_quote_status': False, 'retweet_count': 1, 'favorite_count': 0, 'favorited': False, 'retweeted': False, 'lang': 'en'}, created_at=datetime.datetime(2021, 3, 24, 0, 54, 2), id=1374524877093314569, id_str='1374524877093314569', text='RT @FortuneMaster4: $JAKK reiterating my final PT of $30 here, definitely has room to go way higher. Fundamentals are solid with massive ch…', truncated=False, entities={'hashtags': [], 'symbols': [{'text': 'JAKK', 'indices': [20, 25]}], 'user_mentions': [{'screen_name': 'FortuneMaster4', 'name': 'Fortune Master', 'id': 1286142595715018757, 'id_str': '1286142595715018757', 'indices': [3, 18]}], 'urls': []}, metadata={'iso_language_code': 'en', 'result_type': 'recent'}, source='Twitter for iPhone', source_url='http://twitter.com/download/iphone', in_reply_to_status_id=None, in_reply_to_status_id_str=None, in_reply_to_user_id=None, in_reply_to_user_id_str=None, in_reply_to_screen_name=None, author=User(_api=<tweepy.api.API object at 0x000001D8C8A44288>, _json={'id': 770830615, 'id_str': '770830615', 'name': 'John Goldman', 'screen_name': 'GoldmanAdvisor', 'location': 'New York, NY', 'description': 'Independent thoughts on the markets and current macro investment themes.', 'url': None, 'entities': {'description': {'urls': []}}, 'protected': False, 'followers_count': 301, 'friends_count': 1071, 'listed_count': 8, 'created_at': 'Tue Aug 21 04:37:19 +0000 2012', 'favourites_count': 735, 'utc_offset': None, 'time_zone': None, 'geo_enabled': False, 'verified': False, 'statuses_count': 959, 'lang': None, 'contributors_enabled': False, 'is_translator': False, 'is_translation_enabled': False, 'profile_background_color': 'C0DEED', 'profile_background_image_url': 'http://abs.twimg.com/images/themes/theme1/bg.png', 'profile_background_image_url_https': 'https://abs.twimg.com/images/themes/theme1/bg.png', 'profile_background_tile': False, 'profile_image_url': 'http://pbs.twimg.com/profile_images/1096958356458270720/wzVNVBUV_normal.jpg', 'profile_image_url_https': 'https://pbs.twimg.com/profile_images/1096958356458270720/wzVNVBUV_normal.jpg', 'profile_banner_url': 'https://pbs.twimg.com/profile_banners/770830615/1546405658', 'profile_link_color': '1DA1F2', 'profile_sidebar_border_color': 'C0DEED', 'profile_sidebar_fill_color': 'DDEEF6', 'profile_text_color': '333333', 'profile_use_background_image': True, 'has_extended_profile': False, 'default_profile': True, 'default_profile_image': False, 'following': None, 'follow_request_sent': None, 'notifications': None, 'translator_type': 'none'}, id=770830615, id_str='770830615', name='John Goldman', screen_name='GoldmanAdvisor', location='New York, NY', description='Independent thoughts on the markets and current macro investment themes.', url=None, entities={'description': {'urls': []}}, protected=False, followers_count=301, friends_count=1071, listed_count=8, created_at=datetime.datetime(2012, 8, 21, 4, 37, 19), favourites_count=735, utc_offset=None, time_zone=None, geo_enabled=False, verified=False, statuses_count=959, lang=None, contributors_enabled=False, is_translator=False, is_translation_enabled=False, profile_background_color='C0DEED', profile_background_image_url='http://abs.twimg.com/images/themes/theme1/bg.png', profile_background_image_url_https='https://abs.twimg.com/images/themes/theme1/bg.png', profile_background_tile=False, profile_image_url='http://pbs.twimg.com/profile_images/1096958356458270720/wzVNVBUV_normal.jpg', profile_image_url_https='https://pbs.twimg.com/profile_images/1096958356458270720/wzVNVBUV_normal.jpg', profile_banner_url='https://pbs.twimg.com/profile_banners/770830615/1546405658', profile_link_color='1DA1F2', profile_sidebar_border_color='C0DEED', profile_sidebar_fill_color='DDEEF6', profile_text_color='333333', profile_use_background_image=True, has_extended_profile=False, default_profile=True, default_profile_image=False, following=False, follow_request_sent=None, notifications=None, translator_type='none'), user=User(_api=<tweepy.api.API object at 0x000001D8C8A44288>, _json={'id': 770830615, 'id_str': '770830615', 'name': 'John Goldman', 'screen_name': 'GoldmanAdvisor', 'location': 'New York, NY', 'description': 'Independent thoughts on the markets and current macro investment themes.', 'url': None, 'entities': {'description': {'urls': []}}, 'protected': False, 'followers_count': 301, 'friends_count': 1071, 'listed_count': 8, 'created_at': 'Tue Aug 21 04:37:19 +0000 2012', 'favourites_count': 735, 'utc_offset': None, 'time_zone': None, 'geo_enabled': False, 'verified': False, 'statuses_count': 959, 'lang': None, 'contributors_enabled': False, 'is_translator': False, 'is_translation_enabled': False, 'profile_background_color': 'C0DEED', 'profile_background_image_url': 'http://abs.twimg.com/images/themes/theme1/bg.png', 'profile_background_image_url_https': 'https://abs.twimg.com/images/themes/theme1/bg.png', 'profile_background_tile': False, 'profile_image_url': 'http://pbs.twimg.com/profile_images/1096958356458270720/wzVNVBUV_normal.jpg', 'profile_image_url_https': 'https://pbs.twimg.com/profile_images/1096958356458270720/wzVNVBUV_normal.jpg', 'profile_banner_url': 'https://pbs.twimg.com/profile_banners/770830615/1546405658', 'profile_link_color': '1DA1F2', 'profile_sidebar_border_color': 'C0DEED', 'profile_sidebar_fill_color': 'DDEEF6', 'profile_text_color': '333333', 'profile_use_background_image': True, 'has_extended_profile': False, 'default_profile': True, 'default_profile_image': False, 'following': None, 'follow_request_sent': None, 'notifications': None, 'translator_type': 'none'}, id=770830615, id_str='770830615', name='John Goldman', screen_name='GoldmanAdvisor', location='New York, NY', description='Independent thoughts on the markets and current macro investment themes.', url=None, entities={'description': {'urls': []}}, protected=False, followers_count=301, friends_count=1071, listed_count=8, created_at=datetime.datetime(2012, 8, 21, 4, 37, 19), favourites_count=735, utc_offset=None, time_zone=None, geo_enabled=False, verified=False, statuses_count=959, lang=None, contributors_enabled=False, is_translator=False, is_translation_enabled=False, profile_background_color='C0DEED', profile_background_image_url='http://abs.twimg.com/images/themes/theme1/bg.png', profile_background_image_url_https='https://abs.twimg.com/images/themes/theme1/bg.png', profile_background_tile=False, profile_image_url='http://pbs.twimg.com/profile_images/1096958356458270720/wzVNVBUV_normal.jpg', profile_image_url_https='https://pbs.twimg.com/profile_images/1096958356458270720/wzVNVBUV_normal.jpg', profile_banner_url='https://pbs.twimg.com/profile_banners/770830615/1546405658', profile_link_color='1DA1F2', profile_sidebar_border_color='C0DEED', profile_sidebar_fill_color='DDEEF6', profile_text_color='333333', profile_use_background_image=True, has_extended_profile=False, default_profile=True, default_profile_image=False, following=False, follow_request_sent=None, notifications=None, translator_type='none'), geo=None, coordinates=None, place=None, contributors=None, retweeted_status=Status(_api=<tweepy.api.API object at 0x000001D8C8A44288>, _json={'created_at': 'Tue Mar 23 15:40:22 +0000 2021', 'id': 1374385539143528448, 'id_str': '1374385539143528448', 'text': '$JAKK reiterating my final PT of $30 here, definitely has room to go way higher. Fundamentals are solid with massiv… https://t.co/Bq2DpBDYl7', 'truncated': True, 'entities': {'hashtags': [], 'symbols': [{'text': 'JAKK', 'indices': [0, 5]}], 'user_mentions': [], 'urls': [{'url': 'https://t.co/Bq2DpBDYl7', 'expanded_url': 'https://twitter.com/i/web/status/1374385539143528448', 'display_url': 'twitter.com/i/web/status/1…', 'indices': [117, 140]}]}, 'metadata': {'iso_language_code': 'en', 'result_type': 'recent'}, 'source': '<a href=\"https://stocktwits.com\" rel=\"nofollow\">StockTwits Web</a>', 'in_reply_to_status_id': None, 'in_reply_to_status_id_str': None, 'in_reply_to_user_id': None, 'in_reply_to_user_id_str': None, 'in_reply_to_screen_name': None, 'user': {'id': 1286142595715018757, 'id_str': '1286142595715018757', 'name': 'Fortune Master', 'screen_name': 'FortuneMaster4', 'location': '', 'description': 'Join the FortuneMaster for triple digit growth stock picks. I post 100%’ers for my followers with detailed analysis and entry/exit prices on https://t.co/3XrG9PgVqp.', 'url': None, 'entities': {'description': {'urls': [{'url': 'https://t.co/3XrG9PgVqp', 'expanded_url': 'http://fortunealerts.com', 'display_url': 'fortunealerts.com', 'indices': [141, 164]}]}}, 'protected': False, 'followers_count': 593, 'friends_count': 3, 'listed_count': 9, 'created_at': 'Thu Jul 23 03:34:35 +0000 2020', 'favourites_count': 679, 'utc_offset': None, 'time_zone': None, 'geo_enabled': False, 'verified': False, 'statuses_count': 1940, 'lang': None, 'contributors_enabled': False, 'is_translator': False, 'is_translation_enabled': False, 'profile_background_color': 'F5F8FA', 'profile_background_image_url': None, 'profile_background_image_url_https': None, 'profile_background_tile': False, 'profile_image_url': 'http://pbs.twimg.com/profile_images/1286142712165609472/BfmfDhyy_normal.jpg', 'profile_image_url_https': 'https://pbs.twimg.com/profile_images/1286142712165609472/BfmfDhyy_normal.jpg', 'profile_link_color': '1DA1F2', 'profile_sidebar_border_color': 'C0DEED', 'profile_sidebar_fill_color': 'DDEEF6', 'profile_text_color': '333333', 'profile_use_background_image': True, 'has_extended_profile': True, 'default_profile': True, 'default_profile_image': False, 'following': None, 'follow_request_sent': None, 'notifications': None, 'translator_type': 'none'}, 'geo': None, 'coordinates': None, 'place': None, 'contributors': None, 'is_quote_status': False, 'retweet_count': 1, 'favorite_count': 1, 'favorited': False, 'retweeted': False, 'lang': 'en'}, created_at=datetime.datetime(2021, 3, 23, 15, 40, 22), id=1374385539143528448, id_str='1374385539143528448', text='$JAKK reiterating my final PT of $30 here, definitely has room to go way higher. Fundamentals are solid with massiv… https://t.co/Bq2DpBDYl7', truncated=True, entities={'hashtags': [], 'symbols': [{'text': 'JAKK', 'indices': [0, 5]}], 'user_mentions': [], 'urls': [{'url': 'https://t.co/Bq2DpBDYl7', 'expanded_url': 'https://twitter.com/i/web/status/1374385539143528448', 'display_url': 'twitter.com/i/web/status/1…', 'indices': [117, 140]}]}, metadata={'iso_language_code': 'en', 'result_type': 'recent'}, source='StockTwits Web', source_url='https://stocktwits.com', in_reply_to_status_id=None, in_reply_to_status_id_str=None, in_reply_to_user_id=None, in_reply_to_user_id_str=None, in_reply_to_screen_name=None, author=User(_api=<tweepy.api.API object at 0x000001D8C8A44288>, _json={'id': 1286142595715018757, 'id_str': '1286142595715018757', 'name': 'Fortune Master', 'screen_name': 'FortuneMaster4', 'location': '', 'description': 'Join the FortuneMaster for triple digit growth stock picks. I post 100%’ers for my followers with detailed analysis and entry/exit prices on https://t.co/3XrG9PgVqp.', 'url': None, 'entities': {'description': {'urls': [{'url': 'https://t.co/3XrG9PgVqp', 'expanded_url': 'http://fortunealerts.com', 'display_url': 'fortunealerts.com', 'indices': [141, 164]}]}}, 'protected': False, 'followers_count': 593, 'friends_count': 3, 'listed_count': 9, 'created_at': 'Thu Jul 23 03:34:35 +0000 2020', 'favourites_count': 679, 'utc_offset': None, 'time_zone': None, 'geo_enabled': False, 'verified': False, 'statuses_count': 1940, 'lang': None, 'contributors_enabled': False, 'is_translator': False, 'is_translation_enabled': False, 'profile_background_color': 'F5F8FA', 'profile_background_image_url': None, 'profile_background_image_url_https': None, 'profile_background_tile': False, 'profile_image_url': 'http://pbs.twimg.com/profile_images/1286142712165609472/BfmfDhyy_normal.jpg', 'profile_image_url_https': 'https://pbs.twimg.com/profile_images/1286142712165609472/BfmfDhyy_normal.jpg', 'profile_link_color': '1DA1F2', 'profile_sidebar_border_color': 'C0DEED', 'profile_sidebar_fill_color': 'DDEEF6', 'profile_text_color': '333333', 'profile_use_background_image': True, 'has_extended_profile': True, 'default_profile': True, 'default_profile_image': False, 'following': None, 'follow_request_sent': None, 'notifications': None, 'translator_type': 'none'}, id=1286142595715018757, id_str='1286142595715018757', name='Fortune Master', screen_name='FortuneMaster4', location='', description='Join the FortuneMaster for triple digit growth stock picks. I post 100%’ers for my followers with detailed analysis and entry/exit prices on https://t.co/3XrG9PgVqp.', url=None, entities={'description': {'urls': [{'url': 'https://t.co/3XrG9PgVqp', 'expanded_url': 'http://fortunealerts.com', 'display_url': 'fortunealerts.com', 'indices': [141, 164]}]}}, protected=False, followers_count=593, friends_count=3, listed_count=9, created_at=datetime.datetime(2020, 7, 23, 3, 34, 35), favourites_count=679, utc_offset=None, time_zone=None, geo_enabled=False, verified=False, statuses_count=1940, lang=None, contributors_enabled=False, is_translator=False, is_translation_enabled=False, profile_background_color='F5F8FA', profile_background_image_url=None, profile_background_image_url_https=None, profile_background_tile=False, profile_image_url='http://pbs.twimg.com/profile_images/1286142712165609472/BfmfDhyy_normal.jpg', profile_image_url_https='https://pbs.twimg.com/profile_images/1286142712165609472/BfmfDhyy_normal.jpg', profile_link_color='1DA1F2', profile_sidebar_border_color='C0DEED', profile_sidebar_fill_color='DDEEF6', profile_text_color='333333', profile_use_background_image=True, has_extended_profile=True, default_profile=True, default_profile_image=False, following=False, follow_request_sent=None, notifications=None, translator_type='none'), user=User(_api=<tweepy.api.API object at 0x000001D8C8A44288>, _json={'id': 1286142595715018757, 'id_str': '1286142595715018757', 'name': 'Fortune Master', 'screen_name': 'FortuneMaster4', 'location': '', 'description': 'Join the FortuneMaster for triple digit growth stock picks. I post 100%’ers for my followers with detailed analysis and entry/exit prices on https://t.co/3XrG9PgVqp.', 'url': None, 'entities': {'description': {'urls': [{'url': 'https://t.co/3XrG9PgVqp', 'expanded_url': 'http://fortunealerts.com', 'display_url': 'fortunealerts.com', 'indices': [141, 164]}]}}, 'protected': False, 'followers_count': 593, 'friends_count': 3, 'listed_count': 9, 'created_at': 'Thu Jul 23 03:34:35 +0000 2020', 'favourites_count': 679, 'utc_offset': None, 'time_zone': None, 'geo_enabled': False, 'verified': False, 'statuses_count': 1940, 'lang': None, 'contributors_enabled': False, 'is_translator': False, 'is_translation_enabled': False, 'profile_background_color': 'F5F8FA', 'profile_background_image_url': None, 'profile_background_image_url_https': None, 'profile_background_tile': False, 'profile_image_url': 'http://pbs.twimg.com/profile_images/1286142712165609472/BfmfDhyy_normal.jpg', 'profile_image_url_https': 'https://pbs.twimg.com/profile_images/1286142712165609472/BfmfDhyy_normal.jpg', 'profile_link_color': '1DA1F2', 'profile_sidebar_border_color': 'C0DEED', 'profile_sidebar_fill_color': 'DDEEF6', 'profile_text_color': '333333', 'profile_use_background_image': True, 'has_extended_profile': True, 'default_profile': True, 'default_profile_image': False, 'following': None, 'follow_request_sent': None, 'notifications': None, 'translator_type': 'none'}, id=1286142595715018757, id_str='1286142595715018757', name='Fortune Master', screen_name='FortuneMaster4', location='', description='Join the FortuneMaster for triple digit growth stock picks. I post 100%’ers for my followers with detailed analysis and entry/exit prices on https://t.co/3XrG9PgVqp.', url=None, entities={'description': {'urls': [{'url': 'https://t.co/3XrG9PgVqp', 'expanded_url': 'http://fortunealerts.com', 'display_url': 'fortunealerts.com', 'indices': [141, 164]}]}}, protected=False, followers_count=593, friends_count=3, listed_count=9, created_at=datetime.datetime(2020, 7, 23, 3, 34, 35), favourites_count=679, utc_offset=None, time_zone=None, geo_enabled=False, verified=False, statuses_count=1940, lang=None, contributors_enabled=False, is_translator=False, is_translation_enabled=False, profile_background_color='F5F8FA', profile_background_image_url=None, profile_background_image_url_https=None, profile_background_tile=False, profile_image_url='http://pbs.twimg.com/profile_images/1286142712165609472/BfmfDhyy_normal.jpg', profile_image_url_https='https://pbs.twimg.com/profile_images/1286142712165609472/BfmfDhyy_normal.jpg', profile_link_color='1DA1F2', profile_sidebar_border_color='C0DEED', profile_sidebar_fill_color='DDEEF6', profile_text_color='333333', profile_use_background_image=True, has_extended_profile=True, default_profile=True, default_profile_image=False, following=False, follow_request_sent=None, notifications=None, translator_type='none'), geo=None, coordinates=None, place=None, contributors=None, is_quote_status=False, retweet_count=1, favorite_count=1, favorited=False, retweeted=False, lang='en'), is_quote_status=False, retweet_count=1, favorite_count=0, favorited=False, retweeted=False, lang='en')\n"
     ]
    }
   ],
   "source": [
    "print(searched_tweets[0])"
   ]
  },
  {
   "cell_type": "markdown",
   "metadata": {},
   "source": [
    "Looks like there is a lot of information to dig into here. We might be able to just search on 'symbols' since this seems to already have the stock symbols taged. For now we'll just get a rough count of the number of tweets in the past week."
   ]
  },
  {
   "cell_type": "code",
   "execution_count": 6,
   "metadata": {
    "scrolled": true
   },
   "outputs": [
    {
     "name": "stdout",
     "output_type": "stream",
     "text": [
      "1044\n"
     ]
    }
   ],
   "source": [
    "# since=\"2021-2-22\", max_tweets = 100000\n",
    "print(len(searched_tweets))"
   ]
  },
  {
   "cell_type": "code",
   "execution_count": 8,
   "metadata": {},
   "outputs": [
    {
     "name": "stdout",
     "output_type": "stream",
     "text": [
      "1045\n"
     ]
    }
   ],
   "source": [
    "# since=\"2021-2-22\"\n",
    "print(len(searched_tweets))"
   ]
  },
  {
   "cell_type": "code",
   "execution_count": 10,
   "metadata": {},
   "outputs": [
    {
     "name": "stdout",
     "output_type": "stream",
     "text": [
      "1045\n"
     ]
    }
   ],
   "source": [
    "# since=\"2021-2-22\", until=\"2021-3-23\"\n",
    "print(len(searched_tweets))"
   ]
  },
  {
   "cell_type": "code",
   "execution_count": 15,
   "metadata": {},
   "outputs": [
    {
     "name": "stdout",
     "output_type": "stream",
     "text": [
      "1070\n"
     ]
    }
   ],
   "source": [
    "# since=\"2021-2-22\", until=None\n",
    "print(len(searched_tweets))"
   ]
  },
  {
   "cell_type": "markdown",
   "metadata": {},
   "source": [
    "So we had 917 tweets in the past week with the $GNUS tag. Now we need to get this in a format we can use with pandas."
   ]
  },
  {
   "cell_type": "code",
   "execution_count": null,
   "metadata": {},
   "outputs": [],
   "source": [
    "stock = 'GNUS'\n",
    "start_date = dt.date(year=2021, month=2, day=22)\n",
    "end_date = dt.date(year=2021, month=2, day=28)\n",
    "\n",
    "searched_tweets = [status for status in tweepy.Cursor(api.search, q=\"${}\".format(stock), since=start_date, until=end_date).items(max_tweets)]\n",
    "print(len(searched_tweets))"
   ]
  },
  {
   "cell_type": "code",
   "execution_count": 16,
   "metadata": {},
   "outputs": [],
   "source": [
    "def get_stock_tweets(stock, start_date, end_date=None, max_tweets=100000):\n",
    "    searched_tweets = [status for status in tweepy.Cursor(api.search, q=\"${}\".format(stock), since=start_date, until=end_date).items(max_tweets)]\n",
    "    return searched_tweets"
   ]
  },
  {
   "cell_type": "code",
   "execution_count": 18,
   "metadata": {},
   "outputs": [
    {
     "name": "stdout",
     "output_type": "stream",
     "text": [
      "12\n"
     ]
    }
   ],
   "source": [
    "start_date = dt.datetime(year=2021, month=2, day=22)\n",
    "end_date = dt.datetime(year=2021, month=3, day=22)\n",
    "tweets = get_stock_tweets('GNUS', start_date)\n",
    "print(len(tweets))"
   ]
  },
  {
   "cell_type": "code",
   "execution_count": null,
   "metadata": {},
   "outputs": [],
   "source": [
    "# Test of function above\n",
    "start_date = dt.datetime(year=2021, month=2, day=25)\n",
    "end_date = dt.datetime(year=2021, month=2, day=28)\n",
    "get_stock_tweets('GNUS', start_date, end_date)"
   ]
  },
  {
   "cell_type": "code",
   "execution_count": null,
   "metadata": {},
   "outputs": [],
   "source": [
    "starting_stocks = ['GNUS', 'XSPA', 'IBIO', 'GME', 'OPES']"
   ]
  },
  {
   "cell_type": "code",
   "execution_count": null,
   "metadata": {},
   "outputs": [],
   "source": [
    "start_date = dt.datetime(year=2021, month=3, day=15)\n",
    "end_date = dt.datetime(year=2021, month=3, day=22)\n",
    "data = pd.DataFrame()\n",
    "for stock in starting_stocks:\n",
    "    tweets = get_stock_tweets(stock, start_date, end_date, max_tweets=)\n",
    "    \n",
    "    stock_data = pd.DataFrame([{'datetime':tweet.created_at, 'tweet':tweet._json['text'], 'stock': stock} for tweet in tweets])\n",
    "    data = data.append(stock_data)\n",
    "data = data.set_index('datetime')"
   ]
  },
  {
   "cell_type": "code",
   "execution_count": null,
   "metadata": {
    "scrolled": true
   },
   "outputs": [],
   "source": [
    "data.head()"
   ]
  },
  {
   "cell_type": "code",
   "execution_count": null,
   "metadata": {},
   "outputs": [],
   "source": [
    "tweets_bucketed = data.groupby([pd.Grouper(freq='5min'), 'stock']).count().reset_index()\n",
    "tweets_bucketed.head()"
   ]
  },
  {
   "cell_type": "code",
   "execution_count": null,
   "metadata": {},
   "outputs": [],
   "source": [
    "tweets_bucketed[tweets_bucketed['stock'] == 'XSPA']"
   ]
  },
  {
   "cell_type": "code",
   "execution_count": null,
   "metadata": {},
   "outputs": [],
   "source": [
    "tweets_bucketed.to_parquet('tweet_count.parquet')"
   ]
  },
  {
   "cell_type": "markdown",
   "metadata": {},
   "source": [
    "## Generate tweets df using multiple API calls"
   ]
  },
  {
   "cell_type": "code",
   "execution_count": null,
   "metadata": {},
   "outputs": [],
   "source": [
    "starting_stocks = ['GNUS', 'XSPA', 'IBIO', 'GME', 'OPES']"
   ]
  },
  {
   "cell_type": "code",
   "execution_count": null,
   "metadata": {},
   "outputs": [],
   "source": [
    "def generate_intervals(minutes_interval, start_time, end_time):\n",
    "    total_minutes = (end_time - start_time).total_seconds()/60\n",
    "    return [end_time - dt.timedelta(minutes=x) for x in range(0, int(total_minutes), minutes_interval)]"
   ]
  },
  {
   "cell_type": "code",
   "execution_count": null,
   "metadata": {},
   "outputs": [],
   "source": [
    "start_date = dt.datetime(year=2021, month=2, day=22)\n",
    "end_date = dt.datetime(year=2021, month=2, day=28)\n",
    "generate_intervals(5, start_date, end_date)"
   ]
  },
  {
   "cell_type": "code",
   "execution_count": null,
   "metadata": {},
   "outputs": [],
   "source": [
    "start_date = dt.datetime(year=2021, month=2, day=22)\n",
    "end_date = dt.datetime(year=2021, month=2, day=28)\n",
    "\n",
    "for stock in starting_stocks:\n",
    "    print(stock)\n",
    "    for time in generate_intervals(5, start_date, end_date):\n",
    "        print(time.isoformat())\n",
    "        stock_tweet_num = len(get_stock_tweets(stock, time, time + dt.timedelta(minutes=5)))\n",
    "        print(stock_tweet_num)"
   ]
  },
  {
   "cell_type": "code",
   "execution_count": null,
   "metadata": {},
   "outputs": [],
   "source": []
  },
  {
   "cell_type": "markdown",
   "metadata": {},
   "source": [
    "## Testing functions for twitter_data.py"
   ]
  },
  {
   "cell_type": "code",
   "execution_count": 27,
   "metadata": {},
   "outputs": [],
   "source": [
    "def get_stock_tweets_list(stock, start_date, end_date=None, max_tweets=None):\n",
    "    searched_tweets = [status for status in tweepy.Cursor(api.search, q=\"${}\".format(stock), since=start_date, until=end_date).items()]\n",
    "    return searched_tweets"
   ]
  },
  {
   "cell_type": "code",
   "execution_count": 32,
   "metadata": {},
   "outputs": [],
   "source": [
    "def generate_df(stocks, start_date, end_date=None):\n",
    "    data = pd.DataFrame()\n",
    "    for stock in stocks:\n",
    "        tweets = get_stock_tweets_list(stock, start_date, end_date)\n",
    "        json_data = [tweet._json for tweet in tweets]\n",
    "        stock_data = pd.io.json.json_normalize(json_data)\n",
    "        stock_data['stock'] = stock\n",
    "        data = data.append(stock_data)\n",
    "    data = data.set_index('created_at')\n",
    "    return data"
   ]
  },
  {
   "cell_type": "code",
   "execution_count": 35,
   "metadata": {},
   "outputs": [],
   "source": [
    "start_date = dt.datetime(year=2021, month=2, day=22)\n",
    "end_date = dt.datetime(year=2021, month=2, day=28)\n",
    "test_df = generate_df(['GNUS'], start_date)"
   ]
  },
  {
   "cell_type": "code",
   "execution_count": 36,
   "metadata": {},
   "outputs": [
    {
     "name": "stdout",
     "output_type": "stream",
     "text": [
      "(12, 286)\n"
     ]
    }
   ],
   "source": [
    "print(test_df.shape)"
   ]
  },
  {
   "cell_type": "code",
   "execution_count": null,
   "metadata": {},
   "outputs": [],
   "source": []
  }
 ],
 "metadata": {
  "kernelspec": {
   "display_name": "Python 3",
   "language": "python",
   "name": "python3"
  },
  "language_info": {
   "codemirror_mode": {
    "name": "ipython",
    "version": 3
   },
   "file_extension": ".py",
   "mimetype": "text/x-python",
   "name": "python",
   "nbconvert_exporter": "python",
   "pygments_lexer": "ipython3",
   "version": "3.7.4-final"
  }
 },
 "nbformat": 4,
 "nbformat_minor": 2
}