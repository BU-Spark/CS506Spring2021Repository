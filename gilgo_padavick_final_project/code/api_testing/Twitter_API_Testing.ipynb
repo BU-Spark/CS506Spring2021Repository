{
 "cells": [
  {
   "cell_type": "markdown",
   "metadata": {},
   "source": [
    "# Testing out some features on the Twitter API using Tweepy"
   ]
  },
  {
   "cell_type": "code",
   "execution_count": 8,
   "metadata": {},
   "outputs": [],
   "source": [
    "import json\n",
    "import tweepy\n",
    "import datetime as dt\n",
    "import pandas as pd"
   ]
  },
  {
   "cell_type": "code",
   "execution_count": 9,
   "metadata": {},
   "outputs": [],
   "source": [
    "with open('keys.json') as keys:\n",
    "    config = json.load(keys)\n",
    "auth = tweepy.OAuthHandler(config['twitter']['API_key'], config['twitter']['API_secret_key'])\n",
    "# auth.set_access_token(access_token, access_token_secret)\n",
    "\n",
    "api = tweepy.API(auth)"
   ]
  },
  {
   "cell_type": "markdown",
   "metadata": {},
   "source": [
    "## Example account (Elon Musk)"
   ]
  },
  {
   "cell_type": "code",
   "execution_count": null,
   "metadata": {},
   "outputs": [],
   "source": [
    "user = api.get_user('elonmusk')"
   ]
  },
  {
   "cell_type": "code",
   "execution_count": null,
   "metadata": {
    "scrolled": true
   },
   "outputs": [],
   "source": [
    "print(user.screen_name)\n",
    "print(user.followers_count)\n",
    "for friend in user.friends():\n",
    "    print(friend.screen_name)"
   ]
  },
  {
   "cell_type": "markdown",
   "metadata": {},
   "source": [
    "## Search by keyword on all tweets"
   ]
  },
  {
   "cell_type": "code",
   "execution_count": 10,
   "metadata": {},
   "outputs": [],
   "source": [
    "# tweets = tweepy.Cursor(user.search, q=str(search_string), tweet_mode='extended', lang='pt').items(ct.num_of_tweets)\n",
    "# tweet_search = api.search()\n",
    "query = '$GNUS'\n",
    "max_tweets = 100000\n",
    "searched_tweets = [status for status in tweepy.Cursor(api.search, q=query, since=\"2021-2-22\").items(max_tweets)]"
   ]
  },
  {
   "cell_type": "code",
   "execution_count": null,
   "metadata": {},
   "outputs": [],
   "source": [
    "print(searched_tweets[0])"
   ]
  },
  {
   "cell_type": "markdown",
   "metadata": {},
   "source": [
    "Looks like there is a lot of information to dig into here. We might be able to just search on 'symbols' since this seems to already have the stock symbols taged. For now we'll just get a rough count of the number of tweets in the past week."
   ]
  },
  {
   "cell_type": "code",
   "execution_count": 11,
   "metadata": {},
   "outputs": [
    {
     "output_type": "stream",
     "name": "stdout",
     "text": [
      "3479\n"
     ]
    }
   ],
   "source": [
    "print(len(searched_tweets))"
   ]
  },
  {
   "cell_type": "markdown",
   "metadata": {},
   "source": [
    "So we had 917 tweets in the past week with the $GNUS tag. Now we need to get this in a format we can use with pandas."
   ]
  },
  {
   "cell_type": "code",
   "execution_count": null,
   "metadata": {},
   "outputs": [],
   "source": [
    "stock = 'GNUS'\n",
    "start_date = dt.date(year=2021, month=2, day=22)\n",
    "end_date = dt.date(year=2021, month=2, day=28)\n",
    "\n",
    "searched_tweets = [status for status in tweepy.Cursor(api.search, q=\"${}\".format(stock), since=start_date, until=end_date).items(max_tweets)]\n",
    "print(len(searched_tweets))"
   ]
  },
  {
   "cell_type": "code",
   "execution_count": 16,
   "metadata": {},
   "outputs": [],
   "source": [
    "def get_stock_tweets(stock, start_date, end_date=None, max_tweets=100000):\n",
    "    searched_tweets = [status for status in tweepy.Cursor(api.search, q=\"${}\".format(stock), since=start_date, until=end_date).items(max_tweets)]\n",
    "    return searched_tweets"
   ]
  },
  {
   "cell_type": "code",
   "execution_count": 18,
   "metadata": {},
   "outputs": [
    {
     "output_type": "stream",
     "name": "stdout",
     "text": [
      "12\n"
     ]
    }
   ],
   "source": [
    "start_date = dt.datetime(year=2021, month=2, day=22)\n",
    "end_date = dt.datetime(year=2021, month=3, day=22)\n",
    "tweets = get_stock_tweets('GNUS', start_date)\n",
    "print(len(tweets))"
   ]
  },
  {
   "cell_type": "code",
   "execution_count": null,
   "metadata": {},
   "outputs": [],
   "source": [
    "# Test of function above\n",
    "start_date = dt.datetime(year=2021, month=2, day=25)\n",
    "end_date = dt.datetime(year=2021, month=2, day=28)\n",
    "get_stock_tweets('GNUS', start_date, end_date)"
   ]
  },
  {
   "cell_type": "code",
   "execution_count": null,
   "metadata": {},
   "outputs": [],
   "source": [
    "starting_stocks = ['GNUS', 'XSPA', 'IBIO', 'GME', 'OPES']"
   ]
  },
  {
   "cell_type": "code",
   "execution_count": null,
   "metadata": {},
   "outputs": [],
   "source": [
    "start_date = dt.datetime(year=2021, month=3, day=15)\n",
    "end_date = dt.datetime(year=2021, month=3, day=22)\n",
    "data = pd.DataFrame()\n",
    "for stock in starting_stocks:\n",
    "    tweets = get_stock_tweets(stock, start_date, end_date, max_tweets=)\n",
    "    \n",
    "    stock_data = pd.DataFrame([{'datetime':tweet.created_at, 'tweet':tweet._json['text'], 'stock': stock} for tweet in tweets])\n",
    "    data = data.append(stock_data)\n",
    "data = data.set_index('datetime')"
   ]
  },
  {
   "cell_type": "code",
   "execution_count": null,
   "metadata": {
    "scrolled": true
   },
   "outputs": [],
   "source": [
    "data.head()"
   ]
  },
  {
   "cell_type": "code",
   "execution_count": null,
   "metadata": {},
   "outputs": [],
   "source": [
    "tweets_bucketed = data.groupby([pd.Grouper(freq='5min'), 'stock']).count().reset_index()\n",
    "tweets_bucketed.head()"
   ]
  },
  {
   "cell_type": "code",
   "execution_count": null,
   "metadata": {},
   "outputs": [],
   "source": [
    "tweets_bucketed[tweets_bucketed['stock'] == 'XSPA']"
   ]
  },
  {
   "cell_type": "code",
   "execution_count": null,
   "metadata": {},
   "outputs": [],
   "source": [
    "tweets_bucketed.to_parquet('tweet_count.parquet')"
   ]
  },
  {
   "cell_type": "markdown",
   "metadata": {},
   "source": [
    "## Generate tweets df using multiple API calls"
   ]
  },
  {
   "cell_type": "code",
   "execution_count": null,
   "metadata": {},
   "outputs": [],
   "source": [
    "starting_stocks = ['GNUS', 'XSPA', 'IBIO', 'GME', 'OPES']"
   ]
  },
  {
   "cell_type": "code",
   "execution_count": null,
   "metadata": {},
   "outputs": [],
   "source": [
    "def generate_intervals(minutes_interval, start_time, end_time):\n",
    "    total_minutes = (end_time - start_time).total_seconds()/60\n",
    "    return [end_time - dt.timedelta(minutes=x) for x in range(0, int(total_minutes), minutes_interval)]"
   ]
  },
  {
   "cell_type": "code",
   "execution_count": null,
   "metadata": {},
   "outputs": [],
   "source": [
    "start_date = dt.datetime(year=2021, month=2, day=22)\n",
    "end_date = dt.datetime(year=2021, month=2, day=28)\n",
    "generate_intervals(5, start_date, end_date)"
   ]
  },
  {
   "cell_type": "code",
   "execution_count": null,
   "metadata": {},
   "outputs": [],
   "source": [
    "start_date = dt.datetime(year=2021, month=2, day=22)\n",
    "end_date = dt.datetime(year=2021, month=2, day=28)\n",
    "\n",
    "for stock in starting_stocks:\n",
    "    print(stock)\n",
    "    for time in generate_intervals(5, start_date, end_date):\n",
    "        print(time.isoformat())\n",
    "        stock_tweet_num = len(get_stock_tweets(stock, time, time + dt.timedelta(minutes=5)))\n",
    "        print(stock_tweet_num)"
   ]
  },
  {
   "cell_type": "code",
   "execution_count": null,
   "metadata": {},
   "outputs": [],
   "source": []
  },
  {
   "source": [
    "## Testing functions for twitter_data.py"
   ],
   "cell_type": "markdown",
   "metadata": {}
  },
  {
   "cell_type": "code",
   "execution_count": 27,
   "metadata": {},
   "outputs": [],
   "source": [
    "def get_stock_tweets_list(stock, start_date, end_date=None, max_tweets=None):\n",
    "    searched_tweets = [status for status in tweepy.Cursor(api.search, q=\"${}\".format(stock), since=start_date, until=end_date).items()]\n",
    "    return searched_tweets"
   ]
  },
  {
   "cell_type": "code",
   "execution_count": 32,
   "metadata": {},
   "outputs": [],
   "source": [
    "def generate_df(stocks, start_date, end_date=None):\n",
    "    data = pd.DataFrame()\n",
    "    for stock in stocks:\n",
    "        tweets = get_stock_tweets_list(stock, start_date, end_date)\n",
    "        json_data = [tweet._json for tweet in tweets]\n",
    "        stock_data = pd.io.json.json_normalize(json_data)\n",
    "        stock_data['stock'] = stock\n",
    "        data = data.append(stock_data)\n",
    "    data = data.set_index('created_at')\n",
    "    return data"
   ]
  },
  {
   "cell_type": "code",
   "execution_count": 35,
   "metadata": {},
   "outputs": [],
   "source": [
    "start_date = dt.datetime(year=2021, month=2, day=22)\n",
    "end_date = dt.datetime(year=2021, month=2, day=28)\n",
    "test_df = generate_df(['GNUS'], start_date)"
   ]
  },
  {
   "cell_type": "code",
   "execution_count": 36,
   "metadata": {},
   "outputs": [
    {
     "output_type": "stream",
     "name": "stdout",
     "text": [
      "(12, 286)\n"
     ]
    }
   ],
   "source": [
    "print(test_df.shape)"
   ]
  },
  {
   "cell_type": "code",
   "execution_count": null,
   "metadata": {},
   "outputs": [],
   "source": []
  }
 ],
 "metadata": {
  "kernelspec": {
   "display_name": "Python 3",
   "language": "python",
   "name": "python3"
  },
  "language_info": {
   "codemirror_mode": {
    "name": "ipython",
    "version": 3
   },
   "file_extension": ".py",
   "mimetype": "text/x-python",
   "name": "python",
   "nbconvert_exporter": "python",
   "pygments_lexer": "ipython3",
   "version": "3.7.4-final"
  }
 },
 "nbformat": 4,
 "nbformat_minor": 2
}