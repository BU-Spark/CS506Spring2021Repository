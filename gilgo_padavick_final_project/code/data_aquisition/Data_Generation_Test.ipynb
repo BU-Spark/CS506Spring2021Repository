{
 "cells": [
  {
   "cell_type": "code",
   "execution_count": 1,
   "metadata": {},
   "outputs": [],
   "source": [
    "import twitter_data\n",
    "import datetime as dt"
   ]
  },
  {
   "cell_type": "code",
   "execution_count": 8,
   "metadata": {},
   "outputs": [],
   "source": [
    "start_date = dt.datetime(year=2021, month=3, day=1)\n",
    "end_date = dt.datetime(year=2021, month=3, day=22)"
   ]
  },
  {
   "cell_type": "code",
   "execution_count": 9,
   "metadata": {},
   "outputs": [
    {
     "output_type": "stream",
     "name": "stderr",
     "text": [
      "C:\\ProgramData\\Anaconda3\\lib\\site-packages\\pandas\\core\\frame.py:7123: FutureWarning: Sorting because non-concatenation axis is not aligned. A future version\nof pandas will change to not sort by default.\n\nTo accept the future behavior, pass 'sort=False'.\n\nTo retain the current behavior and silence the warning, pass 'sort=True'.\n\n  sort=sort,\n"
     ]
    }
   ],
   "source": [
    "test_df = twitter_data.generate_df(['GNUS', 'XSPA', 'IBIO', 'GME', 'OPES'], start_date, end_date)"
   ]
  },
  {
   "cell_type": "code",
   "execution_count": 10,
   "metadata": {},
   "outputs": [
    {
     "output_type": "execute_result",
     "data": {
      "text/plain": [
       "                               contributors coordinates  \\\n",
       "created_at                                                \n",
       "Fri Mar 19 19:09:42 +0000 2021         None        None   \n",
       "Wed Mar 17 14:00:47 +0000 2021         None        None   \n",
       "Wed Mar 17 14:00:18 +0000 2021         None        None   \n",
       "Mon Mar 15 23:43:27 +0000 2021         None        None   \n",
       "Mon Mar 15 23:23:39 +0000 2021         None        None   \n",
       "\n",
       "                                                                entities.hashtags  \\\n",
       "created_at                                                                          \n",
       "Fri Mar 19 19:09:42 +0000 2021                                                 []   \n",
       "Wed Mar 17 14:00:47 +0000 2021                                                 []   \n",
       "Wed Mar 17 14:00:18 +0000 2021  [{'text': 'StocksToBuy', 'indices': [62, 74]},...   \n",
       "Mon Mar 15 23:43:27 +0000 2021                                                 []   \n",
       "Mon Mar 15 23:23:39 +0000 2021                                                 []   \n",
       "\n",
       "                               entities.media  \\\n",
       "created_at                                      \n",
       "Fri Mar 19 19:09:42 +0000 2021            NaN   \n",
       "Wed Mar 17 14:00:47 +0000 2021            NaN   \n",
       "Wed Mar 17 14:00:18 +0000 2021            NaN   \n",
       "Mon Mar 15 23:43:27 +0000 2021            NaN   \n",
       "Mon Mar 15 23:23:39 +0000 2021            NaN   \n",
       "\n",
       "                                                                 entities.symbols  \\\n",
       "created_at                                                                          \n",
       "Fri Mar 19 19:09:42 +0000 2021            [{'text': 'gnus', 'indices': [75, 80]}]   \n",
       "Wed Mar 17 14:00:47 +0000 2021  [{'text': 'DS', 'indices': [46, 49]}, {'text':...   \n",
       "Wed Mar 17 14:00:18 +0000 2021            [{'text': 'gnus', 'indices': [25, 30]}]   \n",
       "Mon Mar 15 23:43:27 +0000 2021  [{'text': 'OCGN', 'indices': [53, 58]}, {'text...   \n",
       "Mon Mar 15 23:23:39 +0000 2021  [{'text': 'OCGN', 'indices': [36, 41]}, {'text...   \n",
       "\n",
       "                                                                    entities.urls  \\\n",
       "created_at                                                                          \n",
       "Fri Mar 19 19:09:42 +0000 2021                                                 []   \n",
       "Wed Mar 17 14:00:47 +0000 2021                                                 []   \n",
       "Wed Mar 17 14:00:18 +0000 2021  [{'url': 'https://t.co/yH2pxCZhcE', 'expanded_...   \n",
       "Mon Mar 15 23:43:27 +0000 2021                                                 []   \n",
       "Mon Mar 15 23:23:39 +0000 2021  [{'url': 'https://t.co/TV9DGlaD4c', 'expanded_...   \n",
       "\n",
       "                                                           entities.user_mentions  \\\n",
       "created_at                                                                          \n",
       "Fri Mar 19 19:09:42 +0000 2021                                                 []   \n",
       "Wed Mar 17 14:00:47 +0000 2021                                                 []   \n",
       "Wed Mar 17 14:00:18 +0000 2021                                                 []   \n",
       "Mon Mar 15 23:43:27 +0000 2021  [{'screen_name': 'JDuncan1987', 'name': '𝕰𝖞𝖊 𝚶...   \n",
       "Mon Mar 15 23:23:39 +0000 2021                                                 []   \n",
       "\n",
       "                               extended_entities.media  favorite_count  \\\n",
       "created_at                                                               \n",
       "Fri Mar 19 19:09:42 +0000 2021                     NaN             0.0   \n",
       "Wed Mar 17 14:00:47 +0000 2021                     NaN             1.0   \n",
       "Wed Mar 17 14:00:18 +0000 2021                     NaN             0.0   \n",
       "Mon Mar 15 23:43:27 +0000 2021                     NaN             0.0   \n",
       "Mon Mar 15 23:23:39 +0000 2021                     NaN            20.0   \n",
       "\n",
       "                               favorited  ... user.profile_text_color  \\\n",
       "created_at                                ...                           \n",
       "Fri Mar 19 19:09:42 +0000 2021     False  ...                  333333   \n",
       "Wed Mar 17 14:00:47 +0000 2021     False  ...                  333333   \n",
       "Wed Mar 17 14:00:18 +0000 2021     False  ...                  333333   \n",
       "Mon Mar 15 23:43:27 +0000 2021     False  ...                  333333   \n",
       "Mon Mar 15 23:23:39 +0000 2021     False  ...                  333333   \n",
       "\n",
       "                                user.profile_use_background_image  \\\n",
       "created_at                                                          \n",
       "Fri Mar 19 19:09:42 +0000 2021                               True   \n",
       "Wed Mar 17 14:00:47 +0000 2021                               True   \n",
       "Wed Mar 17 14:00:18 +0000 2021                               True   \n",
       "Mon Mar 15 23:43:27 +0000 2021                               True   \n",
       "Mon Mar 15 23:23:39 +0000 2021                               True   \n",
       "\n",
       "                               user.protected user.screen_name  \\\n",
       "created_at                                                       \n",
       "Fri Mar 19 19:09:42 +0000 2021          False     EdgeCritical   \n",
       "Wed Mar 17 14:00:47 +0000 2021          False  BeatTheStreetCo   \n",
       "Wed Mar 17 14:00:18 +0000 2021          False       LiVVinLife   \n",
       "Mon Mar 15 23:43:27 +0000 2021          False      MichaelBW80   \n",
       "Mon Mar 15 23:23:39 +0000 2021          False      JDuncan1987   \n",
       "\n",
       "                               user.statuses_count user.time_zone  \\\n",
       "created_at                                                          \n",
       "Fri Mar 19 19:09:42 +0000 2021              1047.0           None   \n",
       "Wed Mar 17 14:00:47 +0000 2021               142.0           None   \n",
       "Wed Mar 17 14:00:18 +0000 2021              1529.0           None   \n",
       "Mon Mar 15 23:43:27 +0000 2021             45990.0           None   \n",
       "Mon Mar 15 23:23:39 +0000 2021             11029.0           None   \n",
       "\n",
       "                               user.translator_type user.url user.utc_offset  \\\n",
       "created_at                                                                     \n",
       "Fri Mar 19 19:09:42 +0000 2021                 none     None            None   \n",
       "Wed Mar 17 14:00:47 +0000 2021                 none     None            None   \n",
       "Wed Mar 17 14:00:18 +0000 2021                 none     None            None   \n",
       "Mon Mar 15 23:43:27 +0000 2021                 none     None            None   \n",
       "Mon Mar 15 23:23:39 +0000 2021                 none     None            None   \n",
       "\n",
       "                               user.verified  \n",
       "created_at                                    \n",
       "Fri Mar 19 19:09:42 +0000 2021         False  \n",
       "Wed Mar 17 14:00:47 +0000 2021         False  \n",
       "Wed Mar 17 14:00:18 +0000 2021         False  \n",
       "Mon Mar 15 23:43:27 +0000 2021         False  \n",
       "Mon Mar 15 23:23:39 +0000 2021         False  \n",
       "\n",
       "[5 rows x 306 columns]"
      ],
      "text/html": "<div>\n<style scoped>\n    .dataframe tbody tr th:only-of-type {\n        vertical-align: middle;\n    }\n\n    .dataframe tbody tr th {\n        vertical-align: top;\n    }\n\n    .dataframe thead th {\n        text-align: right;\n    }\n</style>\n<table border=\"1\" class=\"dataframe\">\n  <thead>\n    <tr style=\"text-align: right;\">\n      <th></th>\n      <th>contributors</th>\n      <th>coordinates</th>\n      <th>entities.hashtags</th>\n      <th>entities.media</th>\n      <th>entities.symbols</th>\n      <th>entities.urls</th>\n      <th>entities.user_mentions</th>\n      <th>extended_entities.media</th>\n      <th>favorite_count</th>\n      <th>favorited</th>\n      <th>...</th>\n      <th>user.profile_text_color</th>\n      <th>user.profile_use_background_image</th>\n      <th>user.protected</th>\n      <th>user.screen_name</th>\n      <th>user.statuses_count</th>\n      <th>user.time_zone</th>\n      <th>user.translator_type</th>\n      <th>user.url</th>\n      <th>user.utc_offset</th>\n      <th>user.verified</th>\n    </tr>\n    <tr>\n      <th>created_at</th>\n      <th></th>\n      <th></th>\n      <th></th>\n      <th></th>\n      <th></th>\n      <th></th>\n      <th></th>\n      <th></th>\n      <th></th>\n      <th></th>\n      <th></th>\n      <th></th>\n      <th></th>\n      <th></th>\n      <th></th>\n      <th></th>\n      <th></th>\n      <th></th>\n      <th></th>\n      <th></th>\n      <th></th>\n    </tr>\n  </thead>\n  <tbody>\n    <tr>\n      <td>Fri Mar 19 19:09:42 +0000 2021</td>\n      <td>None</td>\n      <td>None</td>\n      <td>[]</td>\n      <td>NaN</td>\n      <td>[{'text': 'gnus', 'indices': [75, 80]}]</td>\n      <td>[]</td>\n      <td>[]</td>\n      <td>NaN</td>\n      <td>0.0</td>\n      <td>False</td>\n      <td>...</td>\n      <td>333333</td>\n      <td>True</td>\n      <td>False</td>\n      <td>EdgeCritical</td>\n      <td>1047.0</td>\n      <td>None</td>\n      <td>none</td>\n      <td>None</td>\n      <td>None</td>\n      <td>False</td>\n    </tr>\n    <tr>\n      <td>Wed Mar 17 14:00:47 +0000 2021</td>\n      <td>None</td>\n      <td>None</td>\n      <td>[]</td>\n      <td>NaN</td>\n      <td>[{'text': 'DS', 'indices': [46, 49]}, {'text':...</td>\n      <td>[]</td>\n      <td>[]</td>\n      <td>NaN</td>\n      <td>1.0</td>\n      <td>False</td>\n      <td>...</td>\n      <td>333333</td>\n      <td>True</td>\n      <td>False</td>\n      <td>BeatTheStreetCo</td>\n      <td>142.0</td>\n      <td>None</td>\n      <td>none</td>\n      <td>None</td>\n      <td>None</td>\n      <td>False</td>\n    </tr>\n    <tr>\n      <td>Wed Mar 17 14:00:18 +0000 2021</td>\n      <td>None</td>\n      <td>None</td>\n      <td>[{'text': 'StocksToBuy', 'indices': [62, 74]},...</td>\n      <td>NaN</td>\n      <td>[{'text': 'gnus', 'indices': [25, 30]}]</td>\n      <td>[{'url': 'https://t.co/yH2pxCZhcE', 'expanded_...</td>\n      <td>[]</td>\n      <td>NaN</td>\n      <td>0.0</td>\n      <td>False</td>\n      <td>...</td>\n      <td>333333</td>\n      <td>True</td>\n      <td>False</td>\n      <td>LiVVinLife</td>\n      <td>1529.0</td>\n      <td>None</td>\n      <td>none</td>\n      <td>None</td>\n      <td>None</td>\n      <td>False</td>\n    </tr>\n    <tr>\n      <td>Mon Mar 15 23:43:27 +0000 2021</td>\n      <td>None</td>\n      <td>None</td>\n      <td>[]</td>\n      <td>NaN</td>\n      <td>[{'text': 'OCGN', 'indices': [53, 58]}, {'text...</td>\n      <td>[]</td>\n      <td>[{'screen_name': 'JDuncan1987', 'name': '𝕰𝖞𝖊 𝚶...</td>\n      <td>NaN</td>\n      <td>0.0</td>\n      <td>False</td>\n      <td>...</td>\n      <td>333333</td>\n      <td>True</td>\n      <td>False</td>\n      <td>MichaelBW80</td>\n      <td>45990.0</td>\n      <td>None</td>\n      <td>none</td>\n      <td>None</td>\n      <td>None</td>\n      <td>False</td>\n    </tr>\n    <tr>\n      <td>Mon Mar 15 23:23:39 +0000 2021</td>\n      <td>None</td>\n      <td>None</td>\n      <td>[]</td>\n      <td>NaN</td>\n      <td>[{'text': 'OCGN', 'indices': [36, 41]}, {'text...</td>\n      <td>[{'url': 'https://t.co/TV9DGlaD4c', 'expanded_...</td>\n      <td>[]</td>\n      <td>NaN</td>\n      <td>20.0</td>\n      <td>False</td>\n      <td>...</td>\n      <td>333333</td>\n      <td>True</td>\n      <td>False</td>\n      <td>JDuncan1987</td>\n      <td>11029.0</td>\n      <td>None</td>\n      <td>none</td>\n      <td>None</td>\n      <td>None</td>\n      <td>False</td>\n    </tr>\n  </tbody>\n</table>\n<p>5 rows × 306 columns</p>\n</div>"
     },
     "metadata": {},
     "execution_count": 10
    }
   ],
   "source": [
    "test_df.head()"
   ]
  },
  {
   "cell_type": "code",
   "execution_count": 11,
   "metadata": {},
   "outputs": [
    {
     "output_type": "execute_result",
     "data": {
      "text/plain": [
       "                               contributors coordinates entities.hashtags  \\\n",
       "created_at                                                                  \n",
       "Thu Mar 18 19:44:06 +0000 2021         None        None                []   \n",
       "Thu Mar 18 19:43:22 +0000 2021         None        None                []   \n",
       "Thu Mar 18 16:49:43 +0000 2021         None        None                []   \n",
       "Wed Mar 17 18:14:35 +0000 2021         None        None                []   \n",
       "Tue Mar 16 14:30:19 +0000 2021         None        None                []   \n",
       "\n",
       "                               entities.media  \\\n",
       "created_at                                      \n",
       "Thu Mar 18 19:44:06 +0000 2021            NaN   \n",
       "Thu Mar 18 19:43:22 +0000 2021            NaN   \n",
       "Thu Mar 18 16:49:43 +0000 2021            NaN   \n",
       "Wed Mar 17 18:14:35 +0000 2021            NaN   \n",
       "Tue Mar 16 14:30:19 +0000 2021            NaN   \n",
       "\n",
       "                                                                 entities.symbols  \\\n",
       "created_at                                                                          \n",
       "Thu Mar 18 19:44:06 +0000 2021  [{'text': 'ZM', 'indices': [21, 24]}, {'text':...   \n",
       "Thu Mar 18 19:43:22 +0000 2021  [{'text': 'ZM', 'indices': [21, 24]}, {'text':...   \n",
       "Thu Mar 18 16:49:43 +0000 2021  [{'text': 'VBIV', 'indices': [18, 23]}, {'text...   \n",
       "Wed Mar 17 18:14:35 +0000 2021  [{'text': 'ZM', 'indices': [35, 38]}, {'text':...   \n",
       "Tue Mar 16 14:30:19 +0000 2021            [{'text': 'XSPA', 'indices': [76, 81]}]   \n",
       "\n",
       "                                                                    entities.urls  \\\n",
       "created_at                                                                          \n",
       "Thu Mar 18 19:44:06 +0000 2021  [{'url': 'https://t.co/HqHKYL9tn0', 'expanded_...   \n",
       "Thu Mar 18 19:43:22 +0000 2021  [{'url': 'https://t.co/6YTlCq3Xmg', 'expanded_...   \n",
       "Thu Mar 18 16:49:43 +0000 2021  [{'url': 'https://t.co/KIqE9PpXUT', 'expanded_...   \n",
       "Wed Mar 17 18:14:35 +0000 2021  [{'url': 'https://t.co/DkFmmaLso1', 'expanded_...   \n",
       "Tue Mar 16 14:30:19 +0000 2021                                                 []   \n",
       "\n",
       "                                                           entities.user_mentions  \\\n",
       "created_at                                                                          \n",
       "Thu Mar 18 19:44:06 +0000 2021                                                 []   \n",
       "Thu Mar 18 19:43:22 +0000 2021                                                 []   \n",
       "Thu Mar 18 16:49:43 +0000 2021                                                 []   \n",
       "Wed Mar 17 18:14:35 +0000 2021  [{'screen_name': '10', 'name': '10', 'id': 788...   \n",
       "Tue Mar 16 14:30:19 +0000 2021  [{'screen_name': 'DansGamePoker', 'name': 'Dan...   \n",
       "\n",
       "                               extended_entities.media  favorite_count  \\\n",
       "created_at                                                               \n",
       "Thu Mar 18 19:44:06 +0000 2021                     NaN             0.0   \n",
       "Thu Mar 18 19:43:22 +0000 2021                     NaN             0.0   \n",
       "Thu Mar 18 16:49:43 +0000 2021                     NaN             1.0   \n",
       "Wed Mar 17 18:14:35 +0000 2021                     NaN             0.0   \n",
       "Tue Mar 16 14:30:19 +0000 2021                     NaN             0.0   \n",
       "\n",
       "                               favorited  ... user.profile_text_color  \\\n",
       "created_at                                ...                           \n",
       "Thu Mar 18 19:44:06 +0000 2021     False  ...                  333333   \n",
       "Thu Mar 18 19:43:22 +0000 2021     False  ...                  333333   \n",
       "Thu Mar 18 16:49:43 +0000 2021     False  ...                  333333   \n",
       "Wed Mar 17 18:14:35 +0000 2021     False  ...                  333333   \n",
       "Tue Mar 16 14:30:19 +0000 2021     False  ...                  333333   \n",
       "\n",
       "                                user.profile_use_background_image  \\\n",
       "created_at                                                          \n",
       "Thu Mar 18 19:44:06 +0000 2021                               True   \n",
       "Thu Mar 18 19:43:22 +0000 2021                               True   \n",
       "Thu Mar 18 16:49:43 +0000 2021                               True   \n",
       "Wed Mar 17 18:14:35 +0000 2021                               True   \n",
       "Tue Mar 16 14:30:19 +0000 2021                               True   \n",
       "\n",
       "                               user.protected user.screen_name  \\\n",
       "created_at                                                       \n",
       "Thu Mar 18 19:44:06 +0000 2021          False  Stocktr92031087   \n",
       "Thu Mar 18 19:43:22 +0000 2021          False  Stocktr92031087   \n",
       "Thu Mar 18 16:49:43 +0000 2021          False      ProfitLogix   \n",
       "Wed Mar 17 18:14:35 +0000 2021          False    Stock24139377   \n",
       "Tue Mar 16 14:30:19 +0000 2021          False     MaccroCharts   \n",
       "\n",
       "                               user.statuses_count user.time_zone  \\\n",
       "created_at                                                          \n",
       "Thu Mar 18 19:44:06 +0000 2021               479.0           None   \n",
       "Thu Mar 18 19:43:22 +0000 2021               479.0           None   \n",
       "Thu Mar 18 16:49:43 +0000 2021              2608.0           None   \n",
       "Wed Mar 17 18:14:35 +0000 2021               275.0           None   \n",
       "Tue Mar 16 14:30:19 +0000 2021              3521.0           None   \n",
       "\n",
       "                               user.translator_type                 user.url  \\\n",
       "created_at                                                                     \n",
       "Thu Mar 18 19:44:06 +0000 2021                 none  https://t.co/crvLDIhvK1   \n",
       "Thu Mar 18 19:43:22 +0000 2021                 none  https://t.co/crvLDIhvK1   \n",
       "Thu Mar 18 16:49:43 +0000 2021                 none                     None   \n",
       "Wed Mar 17 18:14:35 +0000 2021                 none  https://t.co/crvLDIhvK1   \n",
       "Tue Mar 16 14:30:19 +0000 2021                 none  https://t.co/zvMGpuIea5   \n",
       "\n",
       "                               user.utc_offset user.verified  \n",
       "created_at                                                    \n",
       "Thu Mar 18 19:44:06 +0000 2021            None         False  \n",
       "Thu Mar 18 19:43:22 +0000 2021            None         False  \n",
       "Thu Mar 18 16:49:43 +0000 2021            None         False  \n",
       "Wed Mar 17 18:14:35 +0000 2021            None         False  \n",
       "Tue Mar 16 14:30:19 +0000 2021            None         False  \n",
       "\n",
       "[5 rows x 306 columns]"
      ],
      "text/html": "<div>\n<style scoped>\n    .dataframe tbody tr th:only-of-type {\n        vertical-align: middle;\n    }\n\n    .dataframe tbody tr th {\n        vertical-align: top;\n    }\n\n    .dataframe thead th {\n        text-align: right;\n    }\n</style>\n<table border=\"1\" class=\"dataframe\">\n  <thead>\n    <tr style=\"text-align: right;\">\n      <th></th>\n      <th>contributors</th>\n      <th>coordinates</th>\n      <th>entities.hashtags</th>\n      <th>entities.media</th>\n      <th>entities.symbols</th>\n      <th>entities.urls</th>\n      <th>entities.user_mentions</th>\n      <th>extended_entities.media</th>\n      <th>favorite_count</th>\n      <th>favorited</th>\n      <th>...</th>\n      <th>user.profile_text_color</th>\n      <th>user.profile_use_background_image</th>\n      <th>user.protected</th>\n      <th>user.screen_name</th>\n      <th>user.statuses_count</th>\n      <th>user.time_zone</th>\n      <th>user.translator_type</th>\n      <th>user.url</th>\n      <th>user.utc_offset</th>\n      <th>user.verified</th>\n    </tr>\n    <tr>\n      <th>created_at</th>\n      <th></th>\n      <th></th>\n      <th></th>\n      <th></th>\n      <th></th>\n      <th></th>\n      <th></th>\n      <th></th>\n      <th></th>\n      <th></th>\n      <th></th>\n      <th></th>\n      <th></th>\n      <th></th>\n      <th></th>\n      <th></th>\n      <th></th>\n      <th></th>\n      <th></th>\n      <th></th>\n      <th></th>\n    </tr>\n  </thead>\n  <tbody>\n    <tr>\n      <td>Thu Mar 18 19:44:06 +0000 2021</td>\n      <td>None</td>\n      <td>None</td>\n      <td>[]</td>\n      <td>NaN</td>\n      <td>[{'text': 'ZM', 'indices': [21, 24]}, {'text':...</td>\n      <td>[{'url': 'https://t.co/HqHKYL9tn0', 'expanded_...</td>\n      <td>[]</td>\n      <td>NaN</td>\n      <td>0.0</td>\n      <td>False</td>\n      <td>...</td>\n      <td>333333</td>\n      <td>True</td>\n      <td>False</td>\n      <td>Stocktr92031087</td>\n      <td>479.0</td>\n      <td>None</td>\n      <td>none</td>\n      <td>https://t.co/crvLDIhvK1</td>\n      <td>None</td>\n      <td>False</td>\n    </tr>\n    <tr>\n      <td>Thu Mar 18 19:43:22 +0000 2021</td>\n      <td>None</td>\n      <td>None</td>\n      <td>[]</td>\n      <td>NaN</td>\n      <td>[{'text': 'ZM', 'indices': [21, 24]}, {'text':...</td>\n      <td>[{'url': 'https://t.co/6YTlCq3Xmg', 'expanded_...</td>\n      <td>[]</td>\n      <td>NaN</td>\n      <td>0.0</td>\n      <td>False</td>\n      <td>...</td>\n      <td>333333</td>\n      <td>True</td>\n      <td>False</td>\n      <td>Stocktr92031087</td>\n      <td>479.0</td>\n      <td>None</td>\n      <td>none</td>\n      <td>https://t.co/crvLDIhvK1</td>\n      <td>None</td>\n      <td>False</td>\n    </tr>\n    <tr>\n      <td>Thu Mar 18 16:49:43 +0000 2021</td>\n      <td>None</td>\n      <td>None</td>\n      <td>[]</td>\n      <td>NaN</td>\n      <td>[{'text': 'VBIV', 'indices': [18, 23]}, {'text...</td>\n      <td>[{'url': 'https://t.co/KIqE9PpXUT', 'expanded_...</td>\n      <td>[]</td>\n      <td>NaN</td>\n      <td>1.0</td>\n      <td>False</td>\n      <td>...</td>\n      <td>333333</td>\n      <td>True</td>\n      <td>False</td>\n      <td>ProfitLogix</td>\n      <td>2608.0</td>\n      <td>None</td>\n      <td>none</td>\n      <td>None</td>\n      <td>None</td>\n      <td>False</td>\n    </tr>\n    <tr>\n      <td>Wed Mar 17 18:14:35 +0000 2021</td>\n      <td>None</td>\n      <td>None</td>\n      <td>[]</td>\n      <td>NaN</td>\n      <td>[{'text': 'ZM', 'indices': [35, 38]}, {'text':...</td>\n      <td>[{'url': 'https://t.co/DkFmmaLso1', 'expanded_...</td>\n      <td>[{'screen_name': '10', 'name': '10', 'id': 788...</td>\n      <td>NaN</td>\n      <td>0.0</td>\n      <td>False</td>\n      <td>...</td>\n      <td>333333</td>\n      <td>True</td>\n      <td>False</td>\n      <td>Stock24139377</td>\n      <td>275.0</td>\n      <td>None</td>\n      <td>none</td>\n      <td>https://t.co/crvLDIhvK1</td>\n      <td>None</td>\n      <td>False</td>\n    </tr>\n    <tr>\n      <td>Tue Mar 16 14:30:19 +0000 2021</td>\n      <td>None</td>\n      <td>None</td>\n      <td>[]</td>\n      <td>NaN</td>\n      <td>[{'text': 'XSPA', 'indices': [76, 81]}]</td>\n      <td>[]</td>\n      <td>[{'screen_name': 'DansGamePoker', 'name': 'Dan...</td>\n      <td>NaN</td>\n      <td>0.0</td>\n      <td>False</td>\n      <td>...</td>\n      <td>333333</td>\n      <td>True</td>\n      <td>False</td>\n      <td>MaccroCharts</td>\n      <td>3521.0</td>\n      <td>None</td>\n      <td>none</td>\n      <td>https://t.co/zvMGpuIea5</td>\n      <td>None</td>\n      <td>False</td>\n    </tr>\n  </tbody>\n</table>\n<p>5 rows × 306 columns</p>\n</div>"
     },
     "metadata": {},
     "execution_count": 11
    }
   ],
   "source": [
    "test_df[test_df['stock'] == 'XSPA'].head()"
   ]
  },
  {
   "cell_type": "code",
   "execution_count": 12,
   "metadata": {},
   "outputs": [
    {
     "output_type": "execute_result",
     "data": {
      "text/plain": [
       "                               stock  \\\n",
       "created_at                             \n",
       "Thu Mar 18 19:44:06 +0000 2021  XSPA   \n",
       "Thu Mar 18 19:43:22 +0000 2021  XSPA   \n",
       "Thu Mar 18 16:49:43 +0000 2021  XSPA   \n",
       "Wed Mar 17 18:14:35 +0000 2021  XSPA   \n",
       "Tue Mar 16 14:30:19 +0000 2021  XSPA   \n",
       "\n",
       "                                                                             text  \n",
       "created_at                                                                         \n",
       "Thu Mar 18 19:44:06 +0000 2021  20 DAYS FREE TRIAL🚨\\n\\n$ZM 02/26 380C $10.5 PA...  \n",
       "Thu Mar 18 19:43:22 +0000 2021  20 DAYS FREE TRIAL🚨\\n\\n$ZM 02/26 380C $10.5 PA...  \n",
       "Thu Mar 18 16:49:43 +0000 2021  My buys for today $VBIV 3.60 and $DXF 1.99 als...  \n",
       "Wed Mar 17 18:14:35 +0000 2021  WE ALERTED💰\\n\\n20 DAYS FREE TRIAL🚨 \\n\\n$ZM 02/...  \n",
       "Tue Mar 16 14:30:19 +0000 2021  RT @DansGamePoker: I like having precision. 10...  "
      ],
      "text/html": "<div>\n<style scoped>\n    .dataframe tbody tr th:only-of-type {\n        vertical-align: middle;\n    }\n\n    .dataframe tbody tr th {\n        vertical-align: top;\n    }\n\n    .dataframe thead th {\n        text-align: right;\n    }\n</style>\n<table border=\"1\" class=\"dataframe\">\n  <thead>\n    <tr style=\"text-align: right;\">\n      <th></th>\n      <th>stock</th>\n      <th>text</th>\n    </tr>\n    <tr>\n      <th>created_at</th>\n      <th></th>\n      <th></th>\n    </tr>\n  </thead>\n  <tbody>\n    <tr>\n      <td>Thu Mar 18 19:44:06 +0000 2021</td>\n      <td>XSPA</td>\n      <td>20 DAYS FREE TRIAL🚨\\n\\n$ZM 02/26 380C $10.5 PA...</td>\n    </tr>\n    <tr>\n      <td>Thu Mar 18 19:43:22 +0000 2021</td>\n      <td>XSPA</td>\n      <td>20 DAYS FREE TRIAL🚨\\n\\n$ZM 02/26 380C $10.5 PA...</td>\n    </tr>\n    <tr>\n      <td>Thu Mar 18 16:49:43 +0000 2021</td>\n      <td>XSPA</td>\n      <td>My buys for today $VBIV 3.60 and $DXF 1.99 als...</td>\n    </tr>\n    <tr>\n      <td>Wed Mar 17 18:14:35 +0000 2021</td>\n      <td>XSPA</td>\n      <td>WE ALERTED💰\\n\\n20 DAYS FREE TRIAL🚨 \\n\\n$ZM 02/...</td>\n    </tr>\n    <tr>\n      <td>Tue Mar 16 14:30:19 +0000 2021</td>\n      <td>XSPA</td>\n      <td>RT @DansGamePoker: I like having precision. 10...</td>\n    </tr>\n  </tbody>\n</table>\n</div>"
     },
     "metadata": {},
     "execution_count": 12
    }
   ],
   "source": [
    "test_df[test_df['stock'] == 'XSPA'][['stock', 'text']].head()"
   ]
  },
  {
   "cell_type": "code",
   "execution_count": 13,
   "metadata": {},
   "outputs": [
    {
     "output_type": "stream",
     "name": "stdout",
     "text": [
      "(404, 306)\n"
     ]
    }
   ],
   "source": [
    "print(test_df.shape)"
   ]
  },
  {
   "cell_type": "code",
   "execution_count": 14,
   "metadata": {},
   "outputs": [],
   "source": [
    "test_df.to_parquet('2021-03-01_to_2021-03-22.parquet')"
   ]
  },
  {
   "cell_type": "code",
   "execution_count": null,
   "metadata": {},
   "outputs": [],
   "source": []
  }
 ],
 "metadata": {
  "kernelspec": {
   "display_name": "Python 3",
   "language": "python",
   "name": "python3"
  },
  "language_info": {
   "codemirror_mode": {
    "name": "ipython",
    "version": 3
   },
   "file_extension": ".py",
   "mimetype": "text/x-python",
   "name": "python",
   "nbconvert_exporter": "python",
   "pygments_lexer": "ipython3",
   "version": "3.7.4-final"
  }
 },
 "nbformat": 4,
 "nbformat_minor": 2
}