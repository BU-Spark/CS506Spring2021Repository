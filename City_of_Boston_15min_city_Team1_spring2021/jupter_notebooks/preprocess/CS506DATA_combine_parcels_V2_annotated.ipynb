{
  "nbformat": 4,
  "nbformat_minor": 0,
  "metadata": {
    "colab": {
      "name": "CS506DATA_combine_parcels_V2_annotated.ipynb",
      "provenance": [],
      "collapsed_sections": []
    },
    "kernelspec": {
      "name": "python3",
      "display_name": "Python 3"
    }
  },
  "cells": [
    {
      "cell_type": "markdown",
      "metadata": {
        "id": "PxLyukqmyRni"
      },
      "source": [
        "# This notebook combines small parcels into bigger parcels depending on the Euclidean distance between them. In our setting we use 50 meters. "
      ]
    },
    {
      "cell_type": "code",
      "metadata": {
        "colab": {
          "base_uri": "https://localhost:8080/"
        },
        "id": "oszof_WxH2Xv",
        "outputId": "23dc5949-3753-4888-b436-1a576e2a42ee"
      },
      "source": [
        "from google.colab import drive\n",
        "drive.mount('/content/gdrive')"
      ],
      "execution_count": null,
      "outputs": [
        {
          "output_type": "stream",
          "text": [
            "Drive already mounted at /content/gdrive; to attempt to forcibly remount, call drive.mount(\"/content/gdrive\", force_remount=True).\n"
          ],
          "name": "stdout"
        }
      ]
    },
    {
      "cell_type": "code",
      "metadata": {
        "id": "685Fwz3kH6ub"
      },
      "source": [
        "PARCELS = \"/content/gdrive/My Drive/Colab Notebooks/CS506FinalProject/final_parcels_coords.csv\""
      ],
      "execution_count": null,
      "outputs": []
    },
    {
      "cell_type": "code",
      "metadata": {
        "id": "SzPvYTVeH6r4"
      },
      "source": [
        "import pandas as pd\n",
        "import numpy as np\n",
        "import math\n",
        "import matplotlib.pyplot as plt \n",
        "import json\n",
        "\n",
        "import folium\n",
        "from folium import plugins\n",
        "from folium.plugins import HeatMap"
      ],
      "execution_count": null,
      "outputs": []
    },
    {
      "cell_type": "code",
      "metadata": {
        "id": "8bIlGncrwtA3"
      },
      "source": [
        "pd.set_option('display.max_colwidth', None)"
      ],
      "execution_count": null,
      "outputs": []
    },
    {
      "cell_type": "code",
      "metadata": {
        "colab": {
          "base_uri": "https://localhost:8080/",
          "height": 1000
        },
        "id": "-SaFbvYVH6pg",
        "outputId": "d1c7a564-c1ec-4cd0-bbab-4f42a01814f6"
      },
      "source": [
        "parcels_origin = pd.read_csv(PARCELS)\n",
        "parcels_origin.head(20)"
      ],
      "execution_count": null,
      "outputs": [
        {
          "output_type": "execute_result",
          "data": {
            "text/html": [
              "<div>\n",
              "<style scoped>\n",
              "    .dataframe tbody tr th:only-of-type {\n",
              "        vertical-align: middle;\n",
              "    }\n",
              "\n",
              "    .dataframe tbody tr th {\n",
              "        vertical-align: top;\n",
              "    }\n",
              "\n",
              "    .dataframe thead th {\n",
              "        text-align: right;\n",
              "    }\n",
              "</style>\n",
              "<table border=\"1\" class=\"dataframe\">\n",
              "  <thead>\n",
              "    <tr style=\"text-align: right;\">\n",
              "      <th></th>\n",
              "      <th>Unnamed: 0</th>\n",
              "      <th>ADDRESSEE</th>\n",
              "      <th>CITY</th>\n",
              "      <th>FULL_ADDRESS</th>\n",
              "      <th>MAIL_ADDRESS</th>\n",
              "      <th>MAIL_CS</th>\n",
              "      <th>MAIL_ZIPCODE</th>\n",
              "      <th>OWNER</th>\n",
              "      <th>Unnamed: 0.1</th>\n",
              "      <th>Unnamed: 0.1.1</th>\n",
              "      <th>ZIPCODE</th>\n",
              "      <th>address_on_map</th>\n",
              "      <th>lat</th>\n",
              "      <th>lon</th>\n",
              "    </tr>\n",
              "  </thead>\n",
              "  <tbody>\n",
              "    <tr>\n",
              "      <th>0</th>\n",
              "      <td>0</td>\n",
              "      <td>VIPOND ALEX RICHARD</td>\n",
              "      <td>EAST BOSTON</td>\n",
              "      <td>288   LEXINGTON ST, 02128</td>\n",
              "      <td>288 LEXINGTON ST</td>\n",
              "      <td>EAST BOSTON MA</td>\n",
              "      <td>02128</td>\n",
              "      <td>VIPOND ALEX RICHARD</td>\n",
              "      <td>0</td>\n",
              "      <td>0</td>\n",
              "      <td>2128.0</td>\n",
              "      <td>288   lexington st, east boston, 02128</td>\n",
              "      <td>42.380572</td>\n",
              "      <td>-71.030120</td>\n",
              "    </tr>\n",
              "    <tr>\n",
              "      <th>1</th>\n",
              "      <td>1</td>\n",
              "      <td>ALFARO MAREL W</td>\n",
              "      <td>EAST BOSTON</td>\n",
              "      <td>335   E EAGLE ST, 02128</td>\n",
              "      <td>335 E EAGLE ST</td>\n",
              "      <td>EAST BOSTON MA</td>\n",
              "      <td>02128</td>\n",
              "      <td>ALFARO MAREL W</td>\n",
              "      <td>1</td>\n",
              "      <td>1</td>\n",
              "      <td>2128.0</td>\n",
              "      <td>335   e eagle st, east boston, 02128</td>\n",
              "      <td>42.381250</td>\n",
              "      <td>-71.027780</td>\n",
              "    </tr>\n",
              "    <tr>\n",
              "      <th>2</th>\n",
              "      <td>2</td>\n",
              "      <td>GAVEGNANO HENRY J</td>\n",
              "      <td>EAST BOSTON</td>\n",
              "      <td>BREMEN ST, 02128</td>\n",
              "      <td>TWO JERICHO PZ WING C STE 11</td>\n",
              "      <td>JERICHO NY</td>\n",
              "      <td>11753</td>\n",
              "      <td>GAVEGNANO HENRY J</td>\n",
              "      <td>2</td>\n",
              "      <td>2</td>\n",
              "      <td>2128.0</td>\n",
              "      <td>bremen st, east boston, 02128</td>\n",
              "      <td>42.374128</td>\n",
              "      <td>-71.032806</td>\n",
              "    </tr>\n",
              "    <tr>\n",
              "      <th>3</th>\n",
              "      <td>3</td>\n",
              "      <td>MASSACHUSETTS PORT AUTHORITY</td>\n",
              "      <td>EAST BOSTON</td>\n",
              "      <td>5   VIENNA ST, 02128</td>\n",
              "      <td>1 HARBORSIDE DR #200S</td>\n",
              "      <td>EAST BOSTON MA</td>\n",
              "      <td>02128</td>\n",
              "      <td>MASSACHUSETTS PORT AUTHORITY</td>\n",
              "      <td>3</td>\n",
              "      <td>3</td>\n",
              "      <td>2128.0</td>\n",
              "      <td>5   vienna st, east boston, 02128</td>\n",
              "      <td>42.379767</td>\n",
              "      <td>-71.024596</td>\n",
              "    </tr>\n",
              "    <tr>\n",
              "      <th>4</th>\n",
              "      <td>4</td>\n",
              "      <td>MASS WATER RESOURCE AUTHORTY</td>\n",
              "      <td>EAST BOSTON</td>\n",
              "      <td>CHELSEA ST, 02128</td>\n",
              "      <td>CHELSEA</td>\n",
              "      <td>EAST BOSTON MA</td>\n",
              "      <td>02128</td>\n",
              "      <td>MASS WATER RESOURCE AUTHORTY</td>\n",
              "      <td>4</td>\n",
              "      <td>4</td>\n",
              "      <td>2128.0</td>\n",
              "      <td>chelsea st, east boston, 02128</td>\n",
              "      <td>42.371344</td>\n",
              "      <td>-71.037101</td>\n",
              "    </tr>\n",
              "    <tr>\n",
              "      <th>5</th>\n",
              "      <td>5</td>\n",
              "      <td>FIVE46 SARATOGA STREET LLC</td>\n",
              "      <td>EAST BOSTON</td>\n",
              "      <td>546   SARATOGA ST, 02128</td>\n",
              "      <td>581 BOYLSTON ST STE 604</td>\n",
              "      <td>BOSTON MA</td>\n",
              "      <td>02116</td>\n",
              "      <td>FIVE46 SARATOGA STREET LLC</td>\n",
              "      <td>5</td>\n",
              "      <td>5</td>\n",
              "      <td>2128.0</td>\n",
              "      <td>546   saratoga st, east boston, 02128</td>\n",
              "      <td>42.380942</td>\n",
              "      <td>-71.025119</td>\n",
              "    </tr>\n",
              "    <tr>\n",
              "      <th>6</th>\n",
              "      <td>6</td>\n",
              "      <td>TETZAGUIC HILDA</td>\n",
              "      <td>EAST BOSTON</td>\n",
              "      <td>668   BENNINGTON ST, 02128</td>\n",
              "      <td>668 BENNINGTON ST</td>\n",
              "      <td>E BOSTON MA</td>\n",
              "      <td>02128</td>\n",
              "      <td>TETZAGUIC HILDA</td>\n",
              "      <td>6</td>\n",
              "      <td>6</td>\n",
              "      <td>2128.0</td>\n",
              "      <td>668   bennington st, east boston, 02128</td>\n",
              "      <td>42.375361</td>\n",
              "      <td>-71.037625</td>\n",
              "    </tr>\n",
              "    <tr>\n",
              "      <th>7</th>\n",
              "      <td>7</td>\n",
              "      <td>DA SILVA EDIVALDO BENTO</td>\n",
              "      <td>EAST BOSTON</td>\n",
              "      <td>1084   SARATOGA ST, 02128</td>\n",
              "      <td>1084 SARATOGA</td>\n",
              "      <td>EAST BOSTON MA</td>\n",
              "      <td>02128</td>\n",
              "      <td>DA SILVA EDIVALDO BENTO</td>\n",
              "      <td>7</td>\n",
              "      <td>7</td>\n",
              "      <td>2128.0</td>\n",
              "      <td>1084   saratoga st, east boston, 02128</td>\n",
              "      <td>42.380303</td>\n",
              "      <td>-71.026454</td>\n",
              "    </tr>\n",
              "    <tr>\n",
              "      <th>8</th>\n",
              "      <td>8</td>\n",
              "      <td>TOSCANO VINCENT A</td>\n",
              "      <td>EAST BOSTON</td>\n",
              "      <td>1078   SARATOGA ST, 02128</td>\n",
              "      <td>1078 SARATOGA ST</td>\n",
              "      <td>EAST BOSTON MA</td>\n",
              "      <td>02128</td>\n",
              "      <td>TOSCANO VINCENT A</td>\n",
              "      <td>8</td>\n",
              "      <td>8</td>\n",
              "      <td>2128.0</td>\n",
              "      <td>1078   saratoga st, east boston, 02128</td>\n",
              "      <td>42.380303</td>\n",
              "      <td>-71.026454</td>\n",
              "    </tr>\n",
              "    <tr>\n",
              "      <th>9</th>\n",
              "      <td>9</td>\n",
              "      <td>LOPEZ JOHN M ETAL</td>\n",
              "      <td>EAST BOSTON</td>\n",
              "      <td>1072   SARATOGA ST, 02128</td>\n",
              "      <td>1072 SARATOGA</td>\n",
              "      <td>EAST BOSTON MA</td>\n",
              "      <td>02128</td>\n",
              "      <td>LOPEZ JOHN M ETAL</td>\n",
              "      <td>9</td>\n",
              "      <td>9</td>\n",
              "      <td>2128.0</td>\n",
              "      <td>1072   saratoga st, east boston, 02128</td>\n",
              "      <td>42.380303</td>\n",
              "      <td>-71.026454</td>\n",
              "    </tr>\n",
              "    <tr>\n",
              "      <th>10</th>\n",
              "      <td>10</td>\n",
              "      <td>LOMBARDO SALVATORE A TRST</td>\n",
              "      <td>EAST BOSTON</td>\n",
              "      <td>SARATOGA ST, 02128</td>\n",
              "      <td>ONE CVS DRIVE</td>\n",
              "      <td>WOONSOCKET RI</td>\n",
              "      <td>02895</td>\n",
              "      <td>LOMBARDO SALVATORE A TRST</td>\n",
              "      <td>10</td>\n",
              "      <td>10</td>\n",
              "      <td>2128.0</td>\n",
              "      <td>saratoga st, east boston, 02128</td>\n",
              "      <td>42.380303</td>\n",
              "      <td>-71.026454</td>\n",
              "    </tr>\n",
              "    <tr>\n",
              "      <th>11</th>\n",
              "      <td>11</td>\n",
              "      <td>LOMBARDO VINCENT J TS</td>\n",
              "      <td>EAST BOSTON</td>\n",
              "      <td>1150   SARATOGA ST, 02128</td>\n",
              "      <td>ONE CVS DRIVE</td>\n",
              "      <td>WOONSOCKET RI</td>\n",
              "      <td>02895</td>\n",
              "      <td>LOMBARDO VINCENT J TS</td>\n",
              "      <td>11</td>\n",
              "      <td>11</td>\n",
              "      <td>2128.0</td>\n",
              "      <td>1150   saratoga st, east boston, 02128</td>\n",
              "      <td>42.380303</td>\n",
              "      <td>-71.026454</td>\n",
              "    </tr>\n",
              "    <tr>\n",
              "      <th>12</th>\n",
              "      <td>12</td>\n",
              "      <td>DEPARTMENT OF PUBLIC WORKS</td>\n",
              "      <td>EAST BOSTON</td>\n",
              "      <td>BENNINGTON ST, 02128</td>\n",
              "      <td>1011 BENNINGTON ST</td>\n",
              "      <td>EAST BOSTON MA</td>\n",
              "      <td>02128</td>\n",
              "      <td>DEPARTMENT OF PUBLIC WORKS</td>\n",
              "      <td>12</td>\n",
              "      <td>12</td>\n",
              "      <td>2128.0</td>\n",
              "      <td>bennington st, east boston, 02128</td>\n",
              "      <td>42.375361</td>\n",
              "      <td>-71.037625</td>\n",
              "    </tr>\n",
              "    <tr>\n",
              "      <th>13</th>\n",
              "      <td>13</td>\n",
              "      <td>SAN CLEMENTE RAUL A</td>\n",
              "      <td>EAST BOSTON</td>\n",
              "      <td>1066   BENNINGTON ST, 02128</td>\n",
              "      <td>1066 BENNINGTON ST</td>\n",
              "      <td>EAST BOSTON MA</td>\n",
              "      <td>02128</td>\n",
              "      <td>SAN CLEMENTE RAUL A</td>\n",
              "      <td>13</td>\n",
              "      <td>13</td>\n",
              "      <td>2128.0</td>\n",
              "      <td>1066   bennington st, east boston, 02128</td>\n",
              "      <td>42.375361</td>\n",
              "      <td>-71.037625</td>\n",
              "    </tr>\n",
              "    <tr>\n",
              "      <th>14</th>\n",
              "      <td>14</td>\n",
              "      <td>QUICENO JOSE</td>\n",
              "      <td>EAST BOSTON</td>\n",
              "      <td>966   BENNINGTON ST, 02128</td>\n",
              "      <td>966 BENNINGTON ST</td>\n",
              "      <td>EAST BOSTON MA</td>\n",
              "      <td>02128</td>\n",
              "      <td>QUICENO JOSE</td>\n",
              "      <td>14</td>\n",
              "      <td>14</td>\n",
              "      <td>2128.0</td>\n",
              "      <td>966   bennington st, east boston, 02128</td>\n",
              "      <td>42.375361</td>\n",
              "      <td>-71.037625</td>\n",
              "    </tr>\n",
              "    <tr>\n",
              "      <th>15</th>\n",
              "      <td>15</td>\n",
              "      <td>VASQUEZ ELVIS</td>\n",
              "      <td>EAST BOSTON</td>\n",
              "      <td>62   EUTAW ST, 02128</td>\n",
              "      <td>62 EUTAW ST</td>\n",
              "      <td>EAST BOSTON MA</td>\n",
              "      <td>02128</td>\n",
              "      <td>VASQUEZ ELVIS</td>\n",
              "      <td>15</td>\n",
              "      <td>15</td>\n",
              "      <td>2128.0</td>\n",
              "      <td>62   eutaw st, east boston, 02128</td>\n",
              "      <td>42.379453</td>\n",
              "      <td>-71.037249</td>\n",
              "    </tr>\n",
              "    <tr>\n",
              "      <th>16</th>\n",
              "      <td>16</td>\n",
              "      <td>ROBERTO FRANK TS</td>\n",
              "      <td>BOSTON</td>\n",
              "      <td>STILLMAN ST, 02113</td>\n",
              "      <td>77 FOREST ST</td>\n",
              "      <td>MEDFORD MA</td>\n",
              "      <td>02155</td>\n",
              "      <td>ROBERTO FRANK TS</td>\n",
              "      <td>16</td>\n",
              "      <td>16</td>\n",
              "      <td>2113.0</td>\n",
              "      <td>stillman st, boston, 02113</td>\n",
              "      <td>42.363715</td>\n",
              "      <td>-71.056203</td>\n",
              "    </tr>\n",
              "    <tr>\n",
              "      <th>17</th>\n",
              "      <td>17</td>\n",
              "      <td>ILARDI FILIPPO</td>\n",
              "      <td>EAST BOSTON</td>\n",
              "      <td>178   PRINCETON ST, 02128</td>\n",
              "      <td>178 PRINCETON ST</td>\n",
              "      <td>EAST BOSTON MA</td>\n",
              "      <td>02128</td>\n",
              "      <td>ILARDI FILIPPO</td>\n",
              "      <td>17</td>\n",
              "      <td>17</td>\n",
              "      <td>2128.0</td>\n",
              "      <td>178   princeton st, east boston, 02128</td>\n",
              "      <td>42.378656</td>\n",
              "      <td>-71.033155</td>\n",
              "    </tr>\n",
              "    <tr>\n",
              "      <th>18</th>\n",
              "      <td>18</td>\n",
              "      <td>BUONO MICHAEL A ETAL</td>\n",
              "      <td>EAST BOSTON</td>\n",
              "      <td>178   LEXINGTON ST, 02128</td>\n",
              "      <td>178 LEXINGTON</td>\n",
              "      <td>EAST BOSTON MA</td>\n",
              "      <td>02128</td>\n",
              "      <td>BUONO MICHAEL A ETAL</td>\n",
              "      <td>18</td>\n",
              "      <td>18</td>\n",
              "      <td>2128.0</td>\n",
              "      <td>178   lexington st, east boston, 02128</td>\n",
              "      <td>42.379366</td>\n",
              "      <td>-71.033473</td>\n",
              "    </tr>\n",
              "    <tr>\n",
              "      <th>19</th>\n",
              "      <td>19</td>\n",
              "      <td>NOLAN KAREN A</td>\n",
              "      <td>EAST BOSTON</td>\n",
              "      <td>117   EUTAW ST, 02128</td>\n",
              "      <td>117 EUTAW STREET</td>\n",
              "      <td>EAST BOSTON MA</td>\n",
              "      <td>02128</td>\n",
              "      <td>NOLAN KAREN A</td>\n",
              "      <td>19</td>\n",
              "      <td>19</td>\n",
              "      <td>2128.0</td>\n",
              "      <td>117   eutaw st, east boston, 02128</td>\n",
              "      <td>42.380051</td>\n",
              "      <td>-71.034993</td>\n",
              "    </tr>\n",
              "  </tbody>\n",
              "</table>\n",
              "</div>"
            ],
            "text/plain": [
              "    Unnamed: 0                     ADDRESSEE  ...        lat        lon\n",
              "0            0           VIPOND ALEX RICHARD  ...  42.380572 -71.030120\n",
              "1            1                ALFARO MAREL W  ...  42.381250 -71.027780\n",
              "2            2             GAVEGNANO HENRY J  ...  42.374128 -71.032806\n",
              "3            3  MASSACHUSETTS PORT AUTHORITY  ...  42.379767 -71.024596\n",
              "4            4  MASS WATER RESOURCE AUTHORTY  ...  42.371344 -71.037101\n",
              "5            5    FIVE46 SARATOGA STREET LLC  ...  42.380942 -71.025119\n",
              "6            6               TETZAGUIC HILDA  ...  42.375361 -71.037625\n",
              "7            7      DA SILVA EDIVALDO BENTO   ...  42.380303 -71.026454\n",
              "8            8             TOSCANO VINCENT A  ...  42.380303 -71.026454\n",
              "9            9             LOPEZ JOHN M ETAL  ...  42.380303 -71.026454\n",
              "10          10     LOMBARDO SALVATORE A TRST  ...  42.380303 -71.026454\n",
              "11          11         LOMBARDO VINCENT J TS  ...  42.380303 -71.026454\n",
              "12          12    DEPARTMENT OF PUBLIC WORKS  ...  42.375361 -71.037625\n",
              "13          13           SAN CLEMENTE RAUL A  ...  42.375361 -71.037625\n",
              "14          14                  QUICENO JOSE  ...  42.375361 -71.037625\n",
              "15          15                 VASQUEZ ELVIS  ...  42.379453 -71.037249\n",
              "16          16              ROBERTO FRANK TS  ...  42.363715 -71.056203\n",
              "17          17                ILARDI FILIPPO  ...  42.378656 -71.033155\n",
              "18          18          BUONO MICHAEL A ETAL  ...  42.379366 -71.033473\n",
              "19          19                 NOLAN KAREN A  ...  42.380051 -71.034993\n",
              "\n",
              "[20 rows x 14 columns]"
            ]
          },
          "metadata": {
            "tags": []
          },
          "execution_count": 26
        }
      ]
    },
    {
      "cell_type": "code",
      "metadata": {
        "colab": {
          "base_uri": "https://localhost:8080/"
        },
        "id": "OpL5trs4IhgX",
        "outputId": "ec2651c0-e365-4b51-978c-b6194cdb593d"
      },
      "source": [
        "print(parcels_origin.shape)"
      ],
      "execution_count": null,
      "outputs": [
        {
          "output_type": "stream",
          "text": [
            "(170731, 14)\n"
          ],
          "name": "stdout"
        }
      ]
    },
    {
      "cell_type": "markdown",
      "metadata": {
        "id": "Cr60uD3Qywlp"
      },
      "source": [
        "#Some helper functions:"
      ]
    },
    {
      "cell_type": "code",
      "metadata": {
        "id": "wVo-6vc-Ihd-"
      },
      "source": [
        "def is_city_Boston(zipcode):\n",
        "  \"\"\"zipcode: an integer number which is the zipcode\"\"\"\n",
        "  \"\"\"return true if it is within city of Boston; false otherwise\"\"\"\n",
        "  zip = [2108, 2109, 2110, 2111, 2112, 2113, 2114, 2115, 2116, 2117, 2118, 2119, 2120, 2121, 2122, 2123, \n",
        "         2124, 2125, 2126, 2127, 2128, 2129, 2130, 2131, 2132, 2133, 2134, 2135, 2136, 2137, 2163,\n",
        "         2196, 2199, 2201, 2203, 2204, 2205, 2206, 2210, 2211, 2212, 2215, 2217, 2222, 2241, 2266, \n",
        "         2283, 2284, 2293, 2297, 2298]\n",
        "  try:\n",
        "    if int(zipcode) in zip:\n",
        "      return 1\n",
        "    else:\n",
        "      return 0\n",
        "  except:\n",
        "    return 0\n",
        "\n",
        "def whole_address(full, city, zip):\n",
        "  \"\"\"\" returns the whole address of a parcel \"\"\"\n",
        "  return (full[:-5] + city + ',0' + str(int(zip))).lower()\n",
        "\n",
        "def is_within(lat1, lon1, lat2, lon2):\n",
        "  \"\"\" whether 2 parcels are within certain distance \"\"\"\n",
        "  if abs(lat1 - lat2) <= n_meter_lat and abs(lon1 - lon2) <= n_meter_lon:\n",
        "    return True\n",
        "  return False\n",
        "\n",
        "def get_avg_lat_lon(lats, lons):\n",
        "  \"\"\" get the average latitudes and longitudes from 2 lists \"\"\"\n",
        "  lat_avg = sum(lats) / len(lats)\n",
        "  lon_avg = sum(lons) / len(lons)\n",
        "  return lat_avg, lon_avg\n",
        "\n",
        "def generateBaseMap(default_location =[42.361145, -71.057083]):\n",
        "  base_map = folium.Map( location=default_location)\n",
        "  return base_map\n",
        "\n",
        "def show_on_map(name, df, c):\n",
        "  \"\"\" show the clusterings on map and save as html\"\"\"\n",
        "  \"\"\" name: the html file name, a string\"\"\"\n",
        "  \"\"\" df: the pandas dataframe\"\"\"\n",
        "  \"\"\" c: the color\"\"\"\n",
        "  base_map = generateBaseMap()\n",
        "  df.apply(lambda row: folium.CircleMarker(location=[row[\"lat\"], row[\"lon\"]], radius=5, color=c).add_to(base_map), axis=1)\n",
        "  base_map.save(name)"
      ],
      "execution_count": null,
      "outputs": []
    },
    {
      "cell_type": "markdown",
      "metadata": {
        "id": "x7zOhXzRzYfv"
      },
      "source": [
        "The average latitudes of our parcels."
      ]
    },
    {
      "cell_type": "code",
      "metadata": {
        "colab": {
          "base_uri": "https://localhost:8080/"
        },
        "id": "0ZP2T_1ELxtG",
        "outputId": "36ee867a-99f5-4df8-9fc1-cdc9385a9309"
      },
      "source": [
        "avg_lat = parcels_origin['lat'].mean()\n",
        "print(avg_lat)"
      ],
      "execution_count": null,
      "outputs": [
        {
          "output_type": "stream",
          "text": [
            "42.23833374839008\n"
          ],
          "name": "stdout"
        }
      ]
    },
    {
      "cell_type": "markdown",
      "metadata": {
        "id": "Qr-c3kHQzePX"
      },
      "source": [
        "#Convert meters and longitudes & latitudes. Math here."
      ]
    },
    {
      "cell_type": "code",
      "metadata": {
        "colab": {
          "base_uri": "https://localhost:8080/"
        },
        "id": "LTV3Z-R6J9lP",
        "outputId": "f2c71f62-56f8-4a89-adf9-2cef4c237774"
      },
      "source": [
        "one_meter_on_lat = 1 / 111320\n",
        "one_meter_on_lon = one_meter_on_lat / math.cos(42.3 * 0.018)\n",
        "print(\"1 m in lat: \"+str(one_meter_on_lat))\n",
        "print(\"1 m in lon: \"+str(one_meter_on_lon))\n",
        "lat_lon_ratio = one_meter_on_lat / one_meter_on_lon\n",
        "print(lat_lon_ratio)\n",
        "\n",
        "n_meter_lat = 50 * one_meter_on_lat\n",
        "n_meter_lon = 50 * one_meter_on_lon\n",
        "print('%f' % n_meter_lat)\n",
        "print(n_meter_lon)"
      ],
      "execution_count": null,
      "outputs": [
        {
          "output_type": "stream",
          "text": [
            "1 m in lat: 8.98311174991017e-06\n",
            "1 m in lon: 1.240982730233615e-05\n",
            "0.7238708106936427\n",
            "0.000449\n",
            "0.0006204913651168075\n"
          ],
          "name": "stdout"
        }
      ]
    },
    {
      "cell_type": "markdown",
      "metadata": {
        "id": "0vRJUBjp4qFR"
      },
      "source": [
        "#Drop those addresses that are not in Boston area. "
      ]
    },
    {
      "cell_type": "code",
      "metadata": {
        "colab": {
          "base_uri": "https://localhost:8080/",
          "height": 410
        },
        "id": "UyYZcYKKZAfU",
        "outputId": "a0011900-9e7a-4b14-8c07-d4f94fb3df54"
      },
      "source": [
        "parcels_origin = parcels_origin[parcels_origin['ZIPCODE'].map(lambda x: is_city_Boston(x)) == 1]\n",
        "parcels_origin = parcels_origin.dropna()\n",
        "print(parcels_origin.shape)\n",
        "\n",
        "# remove wrong entries that are clearly not within MA\n",
        "parcels_origin = parcels_origin[parcels_origin['lat'] < 42.4]\n",
        "parcels_origin = parcels_origin[parcels_origin['lat'] > 42.2]\n",
        "parcels_origin = parcels_origin[parcels_origin['lon'] < -70.9]\n",
        "parcels_origin = parcels_origin[parcels_origin['lon'] > -71.5]\n",
        "print(parcels_origin.shape)\n",
        "\n",
        "unique_lats = set(parcels_origin['lat'].to_list())\n",
        "print(len(unique_lats))\n",
        "\n",
        "\n",
        "#parcels_origin['valid_address'] = parcels_origin.apply(lambda row: whole_address(row['FULL_ADDRESS'], row['CITY'], row['ZIPCODE']), axis = 1)\n",
        "#parcels = parcels_origin.drop(columns=['Unnamed: 0', 'CITY', 'OWNER', 'FULL_ADDRESS', 'ZIPCODE', 'MAIL_ADDRESS', 'ADDRESSEE', 'MAIL_CS', 'MAIL_ZIPCODE', 'address_on_map'])\n",
        "parcels = parcels_origin[['lat', 'lon', 'address_on_map']]\n",
        "\n",
        "parcels = parcels.groupby(['lat', 'lon']).agg(lambda x: tuple(x)).applymap(list).reset_index()\n",
        "#parcels = parcels.groupby([\"lat\", \"lon\"])['valid_address'].apply(list)\n",
        "parcels.head(10)"
      ],
      "execution_count": null,
      "outputs": [
        {
          "output_type": "stream",
          "text": [
            "(170731, 14)\n",
            "(169015, 14)\n",
            "86703\n"
          ],
          "name": "stdout"
        },
        {
          "output_type": "execute_result",
          "data": {
            "text/html": [
              "<div>\n",
              "<style scoped>\n",
              "    .dataframe tbody tr th:only-of-type {\n",
              "        vertical-align: middle;\n",
              "    }\n",
              "\n",
              "    .dataframe tbody tr th {\n",
              "        vertical-align: top;\n",
              "    }\n",
              "\n",
              "    .dataframe thead th {\n",
              "        text-align: right;\n",
              "    }\n",
              "</style>\n",
              "<table border=\"1\" class=\"dataframe\">\n",
              "  <thead>\n",
              "    <tr style=\"text-align: right;\">\n",
              "      <th></th>\n",
              "      <th>lat</th>\n",
              "      <th>lon</th>\n",
              "      <th>address_on_map</th>\n",
              "    </tr>\n",
              "  </thead>\n",
              "  <tbody>\n",
              "    <tr>\n",
              "      <th>0</th>\n",
              "      <td>42.232105</td>\n",
              "      <td>-71.129619</td>\n",
              "      <td>[54   meadowview rd, hyde park, 02136]</td>\n",
              "    </tr>\n",
              "    <tr>\n",
              "      <th>1</th>\n",
              "      <td>42.232159</td>\n",
              "      <td>-71.128829</td>\n",
              "      <td>[meadow rd, hyde park, 02136]</td>\n",
              "    </tr>\n",
              "    <tr>\n",
              "      <th>2</th>\n",
              "      <td>42.232215</td>\n",
              "      <td>-71.130024</td>\n",
              "      <td>[53   meadowview rd, hyde park, 02136]</td>\n",
              "    </tr>\n",
              "    <tr>\n",
              "      <th>3</th>\n",
              "      <td>42.232262</td>\n",
              "      <td>-71.129549</td>\n",
              "      <td>[50   meadowview rd, hyde park, 02136]</td>\n",
              "    </tr>\n",
              "    <tr>\n",
              "      <th>4</th>\n",
              "      <td>42.232404</td>\n",
              "      <td>-71.130497</td>\n",
              "      <td>[66   colchester st, hyde park, 02136]</td>\n",
              "    </tr>\n",
              "    <tr>\n",
              "      <th>5</th>\n",
              "      <td>42.232417</td>\n",
              "      <td>-71.129926</td>\n",
              "      <td>[49   meadowview rd, hyde park, 02136]</td>\n",
              "    </tr>\n",
              "    <tr>\n",
              "      <th>6</th>\n",
              "      <td>42.232423</td>\n",
              "      <td>-71.131005</td>\n",
              "      <td>[65   colchester st, hyde park, 02136]</td>\n",
              "    </tr>\n",
              "    <tr>\n",
              "      <th>7</th>\n",
              "      <td>42.232457</td>\n",
              "      <td>-71.129462</td>\n",
              "      <td>[46   meadowview rd, hyde park, 02136]</td>\n",
              "    </tr>\n",
              "    <tr>\n",
              "      <th>8</th>\n",
              "      <td>42.232551</td>\n",
              "      <td>-71.130443</td>\n",
              "      <td>[62   colchester st, hyde park, 02136]</td>\n",
              "    </tr>\n",
              "    <tr>\n",
              "      <th>9</th>\n",
              "      <td>42.232553</td>\n",
              "      <td>-71.129876</td>\n",
              "      <td>[45   meadowview rd, hyde park, 02136]</td>\n",
              "    </tr>\n",
              "  </tbody>\n",
              "</table>\n",
              "</div>"
            ],
            "text/plain": [
              "         lat        lon                          address_on_map\n",
              "0  42.232105 -71.129619  [54   meadowview rd, hyde park, 02136]\n",
              "1  42.232159 -71.128829           [meadow rd, hyde park, 02136]\n",
              "2  42.232215 -71.130024  [53   meadowview rd, hyde park, 02136]\n",
              "3  42.232262 -71.129549  [50   meadowview rd, hyde park, 02136]\n",
              "4  42.232404 -71.130497  [66   colchester st, hyde park, 02136]\n",
              "5  42.232417 -71.129926  [49   meadowview rd, hyde park, 02136]\n",
              "6  42.232423 -71.131005  [65   colchester st, hyde park, 02136]\n",
              "7  42.232457 -71.129462  [46   meadowview rd, hyde park, 02136]\n",
              "8  42.232551 -71.130443  [62   colchester st, hyde park, 02136]\n",
              "9  42.232553 -71.129876  [45   meadowview rd, hyde park, 02136]"
            ]
          },
          "metadata": {
            "tags": []
          },
          "execution_count": 31
        }
      ]
    },
    {
      "cell_type": "markdown",
      "metadata": {
        "id": "TBe0b4M-442J"
      },
      "source": [
        "#Combine the parcels.\n",
        "The result is a dictionary, containing the average longitudes, latitudes and all the small parcels that are included in one bigger parcel."
      ]
    },
    {
      "cell_type": "code",
      "metadata": {
        "id": "TJrHILmmF6qm",
        "colab": {
          "base_uri": "https://localhost:8080/"
        },
        "outputId": "169a0876-e02e-4fd4-bab3-61fca0dadabf"
      },
      "source": [
        "combined_dict = {}\n",
        "sparse_dict = parcels.to_dict('index')\n",
        "print(len(sparse_dict.keys()))\n",
        "print(sparse_dict[0])\n",
        "\n",
        "index2 = 0\n",
        "lats = [] # list of lats \n",
        "lons = [] # list of lons\n",
        "addresses = [] # lists of addresses of parcels that are in the combination\n",
        "current_lat = None # the \"center\"\n",
        "current_lon = None # the \"center\"\n",
        "is_included = [0 for i in range(len(sparse_dict.keys()))] # if the current small parcel is included in any combination\n",
        "\n",
        "# something like a greedy algorithm: combine all the parcels that all within n meter square; one parcel can only be in 1 cluster\n",
        "for i in range(len(sparse_dict.keys())):\n",
        "  if is_included[i] == 1: # it has been a part of a bigger parcel\n",
        "    continue\n",
        "  else: # initialize\n",
        "    instance = sparse_dict[i]\n",
        "    lat = instance['lat']\n",
        "    lon = instance['lon']\n",
        "    address = instance['address_on_map']\n",
        "    lats.append(lat)\n",
        "    lons.append(lon)\n",
        "    addresses += address\n",
        "    current_lat = lat\n",
        "    current_lon = lon\n",
        "    is_included[i] = 1 # update the record\n",
        "    for j in range(i+1, len(sparse_dict.keys())):\n",
        "      if is_included[j] == 1:\n",
        "        continue\n",
        "      else:\n",
        "        instance = sparse_dict[j]\n",
        "        lat = instance['lat']\n",
        "        lon = instance['lon']\n",
        "        address = instance['address_on_map']\n",
        "        if is_within(current_lat, current_lon, lat, lon):\n",
        "          lats.append(lat)\n",
        "          lons.append(lon)\n",
        "          addresses += address\n",
        "          is_included[j] = 1\n",
        "\n",
        "  # update the info of bigger parcels\n",
        "  lat_avg, lon_avg = get_avg_lat_lon(lats, lons)\n",
        "  inner = {'lat': lat_avg, 'lon': lon_avg, 'addresses': addresses}\n",
        "  combined_dict[index2] = inner\n",
        "  index2 += 1\n",
        "  lats = [] \n",
        "  lons = [] \n",
        "  addresses = []\n",
        "\n",
        "print(len(combined_dict.keys()))"
      ],
      "execution_count": null,
      "outputs": [
        {
          "output_type": "stream",
          "text": [
            "87640\n",
            "{'lat': 42.2321047, 'lon': -71.1296193176282, 'address_on_map': ['54   meadowview rd, hyde park, 02136']}\n",
            "13121\n"
          ],
          "name": "stdout"
        }
      ]
    },
    {
      "cell_type": "markdown",
      "metadata": {
        "id": "2owV2rMH5IAA"
      },
      "source": [
        "Transform the dictionary to a dataframe."
      ]
    },
    {
      "cell_type": "code",
      "metadata": {
        "colab": {
          "base_uri": "https://localhost:8080/",
          "height": 720
        },
        "id": "VXsIitSZF6oO",
        "outputId": "0cb0cf69-d18d-4def-d925-cf2c8024a619"
      },
      "source": [
        "combined_parcels = pd.DataFrame.from_dict(combined_dict, orient='index')\n",
        "combined_parcels.head(20)"
      ],
      "execution_count": null,
      "outputs": [
        {
          "output_type": "execute_result",
          "data": {
            "text/html": [
              "<div>\n",
              "<style scoped>\n",
              "    .dataframe tbody tr th:only-of-type {\n",
              "        vertical-align: middle;\n",
              "    }\n",
              "\n",
              "    .dataframe tbody tr th {\n",
              "        vertical-align: top;\n",
              "    }\n",
              "\n",
              "    .dataframe thead th {\n",
              "        text-align: right;\n",
              "    }\n",
              "</style>\n",
              "<table border=\"1\" class=\"dataframe\">\n",
              "  <thead>\n",
              "    <tr style=\"text-align: right;\">\n",
              "      <th></th>\n",
              "      <th>lat</th>\n",
              "      <th>lon</th>\n",
              "      <th>addresses</th>\n",
              "    </tr>\n",
              "  </thead>\n",
              "  <tbody>\n",
              "    <tr>\n",
              "      <th>0</th>\n",
              "      <td>42.232335</td>\n",
              "      <td>-71.129743</td>\n",
              "      <td>[54   meadowview rd, hyde park, 02136, 53   meadowview rd, hyde park, 02136, 50   meadowview rd, hyde park, 02136, 49   meadowview rd, hyde park, 02136, 46   meadowview rd, hyde park, 02136, 45   meadowview rd, hyde park, 02136]</td>\n",
              "    </tr>\n",
              "    <tr>\n",
              "      <th>1</th>\n",
              "      <td>42.232159</td>\n",
              "      <td>-71.128829</td>\n",
              "      <td>[meadow rd, hyde park, 02136]</td>\n",
              "    </tr>\n",
              "    <tr>\n",
              "      <th>2</th>\n",
              "      <td>42.232633</td>\n",
              "      <td>-71.130628</td>\n",
              "      <td>[66   colchester st, hyde park, 02136, 65   colchester st, hyde park, 02136, 62   colchester st, hyde park, 02136, 58   colchester st, hyde park, 02136, 61   colchester st, hyde park, 02136, 71   millstone rd, hyde park, 02136, 63   colchester st, hyde park, 02136]</td>\n",
              "    </tr>\n",
              "    <tr>\n",
              "      <th>3</th>\n",
              "      <td>42.232842</td>\n",
              "      <td>-71.129517</td>\n",
              "      <td>[42   meadowview rd, hyde park, 02136, 75   millstone rd, hyde park, 02136, meadowview rd, hyde park, 02136, 38   meadowview rd, hyde park, 02136, 72   millstone rd, hyde park, 02136, 37   meadowview rd, hyde park, 02136, 34   meadowview rd, hyde park, 02136]</td>\n",
              "    </tr>\n",
              "    <tr>\n",
              "      <th>4</th>\n",
              "      <td>42.232839</td>\n",
              "      <td>-71.132042</td>\n",
              "      <td>[65   clifford st, hyde park, 02136, 80   hamilton st, hyde park, 02136, 70   clifford st, hyde park, 02136, 61   clifford st, hyde park, 02136]</td>\n",
              "    </tr>\n",
              "    <tr>\n",
              "      <th>5</th>\n",
              "      <td>42.232967</td>\n",
              "      <td>-71.131394</td>\n",
              "      <td>[64   clifford st, hyde park, 02136, 58   clifford st, hyde park, 02136, 67   millstone rd, hyde park, 02136, 63   millstone rd, hyde park, 02136, 59   millstone rd, hyde park, 02136]</td>\n",
              "    </tr>\n",
              "    <tr>\n",
              "      <th>6</th>\n",
              "      <td>42.233131</td>\n",
              "      <td>-71.132806</td>\n",
              "      <td>[81   hamilton st, hyde park, 02136, 79   hamilton st, hyde park, 02136, 76   hamilton st, hyde park, 02136, 77   hamilton st, hyde park, 02136, 73   hamilton st, hyde park, 02136]</td>\n",
              "    </tr>\n",
              "    <tr>\n",
              "      <th>7</th>\n",
              "      <td>42.233261</td>\n",
              "      <td>-71.130077</td>\n",
              "      <td>[70   millstone rd, hyde park, 02136, 56   colchester st, hyde park, 02136, 55   colchester st, hyde park, 02136, 33   meadowview rd, hyde park, 02136, 54   colchester st, hyde park, 02136, 29   meadowview rd, hyde park, 02136, 51   colchester st, hyde park, 02136, 25   meadowview rd, hyde park, 02136, 50   colchester st, hyde park, 02136, 52   colchester st, hyde park, 02136]</td>\n",
              "    </tr>\n",
              "    <tr>\n",
              "      <th>8</th>\n",
              "      <td>42.233430</td>\n",
              "      <td>-71.130827</td>\n",
              "      <td>[64   millstone rd, hyde park, 02136, 50   clifford st, hyde park, 02136, 48   clifford st, hyde park, 02136, 53   colchester st, hyde park, 02136, 48   colchester st, hyde park, 02136, 46   clifford st, hyde park, 02136]</td>\n",
              "    </tr>\n",
              "    <tr>\n",
              "      <th>9</th>\n",
              "      <td>42.233389</td>\n",
              "      <td>-71.129130</td>\n",
              "      <td>[30   meadowview rd, hyde park, 02136, 26   meadowview rd, hyde park, 02136, 22   meadowview rd, hyde park, 02136, 21   meadowview rd, hyde park, 02136]</td>\n",
              "    </tr>\n",
              "    <tr>\n",
              "      <th>10</th>\n",
              "      <td>42.233496</td>\n",
              "      <td>-71.131918</td>\n",
              "      <td>[55   millstone rd, hyde park, 02136, 47   millstone rd, hyde park, 02136, 54   millstone rd, hyde park, 02136, 49   clifford st, hyde park, 02136, 46   millstone rd, hyde park, 02136, 47   clifford st, hyde park, 02136, 62   hamilton st, hyde park, 02136]</td>\n",
              "    </tr>\n",
              "    <tr>\n",
              "      <th>11</th>\n",
              "      <td>42.233457</td>\n",
              "      <td>-71.138655</td>\n",
              "      <td>[18   lakeside av, hyde park, 02136, 4   lakeside av, hyde park, 02136, 16   lakeside av, hyde park, 02136, 102   sprague st, hyde park, 02136]</td>\n",
              "    </tr>\n",
              "    <tr>\n",
              "      <th>12</th>\n",
              "      <td>42.233708</td>\n",
              "      <td>-71.132649</td>\n",
              "      <td>[39   millstone rd, hyde park, 02136, 58 60 hamilton st, hyde park, 02136, 30   millstone rd, hyde park, 02136]</td>\n",
              "    </tr>\n",
              "    <tr>\n",
              "      <th>13</th>\n",
              "      <td>42.233867</td>\n",
              "      <td>-71.128992</td>\n",
              "      <td>[16   meadowview rd, hyde park, 02136, 17   meadowview rd, hyde park, 02136, 15   meadowview rd, hyde park, 02136, 10   meadowview rd, hyde park, 02136, 9   meadowview rd, hyde park, 02136, 6   meadowview rd, hyde park, 02136, 2   meadowview rd, hyde park, 02136]</td>\n",
              "    </tr>\n",
              "    <tr>\n",
              "      <th>14</th>\n",
              "      <td>42.233927</td>\n",
              "      <td>-71.130121</td>\n",
              "      <td>[46   colchester st, hyde park, 02136, 43   colchester st, hyde park, 02136, 44   colchester st, hyde park, 02136, 41   colchester st, hyde park, 02136, 39   colchester st, hyde park, 02136, 40   colchester st, hyde park, 02136]</td>\n",
              "    </tr>\n",
              "    <tr>\n",
              "      <th>15</th>\n",
              "      <td>42.233747</td>\n",
              "      <td>-71.134023</td>\n",
              "      <td>[25   millstone rd, hyde park, 02136, 19   millstone rd, hyde park, 02136, 17   millstone rd, hyde park, 02136]</td>\n",
              "    </tr>\n",
              "    <tr>\n",
              "      <th>16</th>\n",
              "      <td>42.233884</td>\n",
              "      <td>-71.131141</td>\n",
              "      <td>[44   clifford st, hyde park, 02136, 45   clifford st, hyde park, 02136, 42   clifford st, hyde park, 02136, 41   clifford st, hyde park, 02136, 38   clifford st, hyde park, 02136]</td>\n",
              "    </tr>\n",
              "    <tr>\n",
              "      <th>17</th>\n",
              "      <td>42.234040</td>\n",
              "      <td>-71.132049</td>\n",
              "      <td>[56 54 hamilton st, hyde park, 02136, 50   hamilton st, hyde park, 02136, 14   parkson st, hyde park, 02136]</td>\n",
              "    </tr>\n",
              "    <tr>\n",
              "      <th>18</th>\n",
              "      <td>42.234026</td>\n",
              "      <td>-71.138598</td>\n",
              "      <td>[98   sprague st, hyde park, 02136, 96   sprague st, hyde park, 02136, 94   sprague st, hyde park, 02136, 88   sprague st, hyde park, 02136, 86   sprague st, hyde park, 02136]</td>\n",
              "    </tr>\n",
              "    <tr>\n",
              "      <th>19</th>\n",
              "      <td>42.234257</td>\n",
              "      <td>-71.128247</td>\n",
              "      <td>[71   stanbro st, hyde park, 02136, 67   stanbro st, hyde park, 02136, 63   stanbro st, hyde park, 02136, 68   stanbro st, hyde park, 02136, 64   stanbro st, hyde park, 02136, 60   stanbro st, hyde park, 02136]</td>\n",
              "    </tr>\n",
              "  </tbody>\n",
              "</table>\n",
              "</div>"
            ],
            "text/plain": [
              "          lat  ...                                                                                                                                                                                                                                                                                                                                                                                    addresses\n",
              "0   42.232335  ...                                                                                                                                                         [54   meadowview rd, hyde park, 02136, 53   meadowview rd, hyde park, 02136, 50   meadowview rd, hyde park, 02136, 49   meadowview rd, hyde park, 02136, 46   meadowview rd, hyde park, 02136, 45   meadowview rd, hyde park, 02136]\n",
              "1   42.232159  ...                                                                                                                                                                                                                                                                                                                                                                [meadow rd, hyde park, 02136]\n",
              "2   42.232633  ...                                                                                                                    [66   colchester st, hyde park, 02136, 65   colchester st, hyde park, 02136, 62   colchester st, hyde park, 02136, 58   colchester st, hyde park, 02136, 61   colchester st, hyde park, 02136, 71   millstone rd, hyde park, 02136, 63   colchester st, hyde park, 02136]\n",
              "3   42.232842  ...                                                                                                                          [42   meadowview rd, hyde park, 02136, 75   millstone rd, hyde park, 02136, meadowview rd, hyde park, 02136, 38   meadowview rd, hyde park, 02136, 72   millstone rd, hyde park, 02136, 37   meadowview rd, hyde park, 02136, 34   meadowview rd, hyde park, 02136]\n",
              "4   42.232839  ...                                                                                                                                                                                                                                             [65   clifford st, hyde park, 02136, 80   hamilton st, hyde park, 02136, 70   clifford st, hyde park, 02136, 61   clifford st, hyde park, 02136]\n",
              "5   42.232967  ...                                                                                                                                                                                                      [64   clifford st, hyde park, 02136, 58   clifford st, hyde park, 02136, 67   millstone rd, hyde park, 02136, 63   millstone rd, hyde park, 02136, 59   millstone rd, hyde park, 02136]\n",
              "6   42.233131  ...                                                                                                                                                                                                         [81   hamilton st, hyde park, 02136, 79   hamilton st, hyde park, 02136, 76   hamilton st, hyde park, 02136, 77   hamilton st, hyde park, 02136, 73   hamilton st, hyde park, 02136]\n",
              "7   42.233261  ...  [70   millstone rd, hyde park, 02136, 56   colchester st, hyde park, 02136, 55   colchester st, hyde park, 02136, 33   meadowview rd, hyde park, 02136, 54   colchester st, hyde park, 02136, 29   meadowview rd, hyde park, 02136, 51   colchester st, hyde park, 02136, 25   meadowview rd, hyde park, 02136, 50   colchester st, hyde park, 02136, 52   colchester st, hyde park, 02136]\n",
              "8   42.233430  ...                                                                                                                                                                [64   millstone rd, hyde park, 02136, 50   clifford st, hyde park, 02136, 48   clifford st, hyde park, 02136, 53   colchester st, hyde park, 02136, 48   colchester st, hyde park, 02136, 46   clifford st, hyde park, 02136]\n",
              "9   42.233389  ...                                                                                                                                                                                                                                     [30   meadowview rd, hyde park, 02136, 26   meadowview rd, hyde park, 02136, 22   meadowview rd, hyde park, 02136, 21   meadowview rd, hyde park, 02136]\n",
              "10  42.233496  ...                                                                                                                             [55   millstone rd, hyde park, 02136, 47   millstone rd, hyde park, 02136, 54   millstone rd, hyde park, 02136, 49   clifford st, hyde park, 02136, 46   millstone rd, hyde park, 02136, 47   clifford st, hyde park, 02136, 62   hamilton st, hyde park, 02136]\n",
              "11  42.233457  ...                                                                                                                                                                                                                                              [18   lakeside av, hyde park, 02136, 4   lakeside av, hyde park, 02136, 16   lakeside av, hyde park, 02136, 102   sprague st, hyde park, 02136]\n",
              "12  42.233708  ...                                                                                                                                                                                                                                                                              [39   millstone rd, hyde park, 02136, 58 60 hamilton st, hyde park, 02136, 30   millstone rd, hyde park, 02136]\n",
              "13  42.233867  ...                                                                                                                      [16   meadowview rd, hyde park, 02136, 17   meadowview rd, hyde park, 02136, 15   meadowview rd, hyde park, 02136, 10   meadowview rd, hyde park, 02136, 9   meadowview rd, hyde park, 02136, 6   meadowview rd, hyde park, 02136, 2   meadowview rd, hyde park, 02136]\n",
              "14  42.233927  ...                                                                                                                                                         [46   colchester st, hyde park, 02136, 43   colchester st, hyde park, 02136, 44   colchester st, hyde park, 02136, 41   colchester st, hyde park, 02136, 39   colchester st, hyde park, 02136, 40   colchester st, hyde park, 02136]\n",
              "15  42.233747  ...                                                                                                                                                                                                                                                                              [25   millstone rd, hyde park, 02136, 19   millstone rd, hyde park, 02136, 17   millstone rd, hyde park, 02136]\n",
              "16  42.233884  ...                                                                                                                                                                                                         [44   clifford st, hyde park, 02136, 45   clifford st, hyde park, 02136, 42   clifford st, hyde park, 02136, 41   clifford st, hyde park, 02136, 38   clifford st, hyde park, 02136]\n",
              "17  42.234040  ...                                                                                                                                                                                                                                                                                 [56 54 hamilton st, hyde park, 02136, 50   hamilton st, hyde park, 02136, 14   parkson st, hyde park, 02136]\n",
              "18  42.234026  ...                                                                                                                                                                                                              [98   sprague st, hyde park, 02136, 96   sprague st, hyde park, 02136, 94   sprague st, hyde park, 02136, 88   sprague st, hyde park, 02136, 86   sprague st, hyde park, 02136]\n",
              "19  42.234257  ...                                                                                                                                                                           [71   stanbro st, hyde park, 02136, 67   stanbro st, hyde park, 02136, 63   stanbro st, hyde park, 02136, 68   stanbro st, hyde park, 02136, 64   stanbro st, hyde park, 02136, 60   stanbro st, hyde park, 02136]\n",
              "\n",
              "[20 rows x 3 columns]"
            ]
          },
          "metadata": {
            "tags": []
          },
          "execution_count": 33
        }
      ]
    },
    {
      "cell_type": "markdown",
      "metadata": {
        "id": "ss1YP5lt5OBa"
      },
      "source": [
        "#Visualize all the big parcels."
      ]
    },
    {
      "cell_type": "code",
      "metadata": {
        "colab": {
          "base_uri": "https://localhost:8080/",
          "height": 267
        },
        "id": "Vqp5QR6rurPv",
        "outputId": "05903442-a638-4d04-f9cb-a89fd5bdcea8"
      },
      "source": [
        "current_lats = combined_parcels['lat'].to_list()\n",
        "current_lons = combined_parcels['lon'].to_list()\n",
        "plt.scatter(current_lons, current_lats)\n",
        "plt.show()\n",
        "\n",
        "show_on_map(\"/content/gdrive/My Drive/Colab Notebooks/data/show_parcels_temp.html\", combined_parcels, 'red')"
      ],
      "execution_count": null,
      "outputs": [
        {
          "output_type": "display_data",
          "data": {
            "image/png": "[encoded data removed]",
            "text/plain": [
              "<Figure size 432x288 with 1 Axes>"
            ]
          },
          "metadata": {
            "tags": [],
            "needs_background": "light"
          }
        }
      ]
    },
    {
      "cell_type": "code",
      "metadata": {
        "colab": {
          "base_uri": "https://localhost:8080/"
        },
        "id": "6ZKfLsvprTAF",
        "outputId": "74dff4ac-1541-4ec1-8bca-189fc60f3d7e"
      },
      "source": [
        "print(combined_parcels.shape)"
      ],
      "execution_count": null,
      "outputs": [
        {
          "output_type": "stream",
          "text": [
            "(13121, 3)\n"
          ],
          "name": "stdout"
        }
      ]
    },
    {
      "cell_type": "markdown",
      "metadata": {
        "id": "iXzpuJKH5Whn"
      },
      "source": [
        "#Now, let's load the dataset of essential services and match each big parcel with n cloest essential services of each kind.\n",
        "n = 2 in our setting."
      ]
    },
    {
      "cell_type": "code",
      "metadata": {
        "id": "s3KFN1VCkwuX"
      },
      "source": [
        "combined_parcels.to_csv(\"/content/gdrive/My Drive/Colab Notebooks/CS506FinalProject/CS506_combined_parcels.csv\")"
      ],
      "execution_count": null,
      "outputs": []
    },
    {
      "cell_type": "code",
      "metadata": {
        "id": "sWNPOizXF6jj",
        "colab": {
          "base_uri": "https://localhost:8080/",
          "height": 221
        },
        "outputId": "848dfc1b-6c89-4956-de0a-7bb74af5e3b8"
      },
      "source": [
        "all_essential_services = pd.read_csv(\"/content/gdrive/My Drive/Colab Notebooks/CS506FinalProject/merged_processed5.csv\")\n",
        "all_essential_services = all_essential_services.drop(columns=['Unnamed: 0'])\n",
        "print(all_essential_services.shape)\n",
        "all_essential_services.head()"
      ],
      "execution_count": null,
      "outputs": [
        {
          "output_type": "stream",
          "text": [
            "(5620, 6)\n"
          ],
          "name": "stdout"
        },
        {
          "output_type": "execute_result",
          "data": {
            "text/html": [
              "<div>\n",
              "<style scoped>\n",
              "    .dataframe tbody tr th:only-of-type {\n",
              "        vertical-align: middle;\n",
              "    }\n",
              "\n",
              "    .dataframe tbody tr th {\n",
              "        vertical-align: top;\n",
              "    }\n",
              "\n",
              "    .dataframe thead th {\n",
              "        text-align: right;\n",
              "    }\n",
              "</style>\n",
              "<table border=\"1\" class=\"dataframe\">\n",
              "  <thead>\n",
              "    <tr style=\"text-align: right;\">\n",
              "      <th></th>\n",
              "      <th>name</th>\n",
              "      <th>type</th>\n",
              "      <th>address</th>\n",
              "      <th>zip</th>\n",
              "      <th>lat</th>\n",
              "      <th>lon</th>\n",
              "    </tr>\n",
              "  </thead>\n",
              "  <tbody>\n",
              "    <tr>\n",
              "      <th>0</th>\n",
              "      <td>7-Eleven</td>\n",
              "      <td>grocery</td>\n",
              "      <td>462 Washington St</td>\n",
              "      <td>2135.0</td>\n",
              "      <td>42.348527</td>\n",
              "      <td>-71.158960</td>\n",
              "    </tr>\n",
              "    <tr>\n",
              "      <th>1</th>\n",
              "      <td>24 Seven</td>\n",
              "      <td>grocery</td>\n",
              "      <td>655 Warren St</td>\n",
              "      <td>2121.0</td>\n",
              "      <td>42.309813</td>\n",
              "      <td>-71.082883</td>\n",
              "    </tr>\n",
              "    <tr>\n",
              "      <th>2</th>\n",
              "      <td>24 Seven Convenience Store</td>\n",
              "      <td>grocery</td>\n",
              "      <td>655 Warren St</td>\n",
              "      <td>2121.0</td>\n",
              "      <td>42.309813</td>\n",
              "      <td>-71.082883</td>\n",
              "    </tr>\n",
              "    <tr>\n",
              "      <th>3</th>\n",
              "      <td>Food Land</td>\n",
              "      <td>grocery</td>\n",
              "      <td>199 Adams St</td>\n",
              "      <td>2122.0</td>\n",
              "      <td>42.302039</td>\n",
              "      <td>-71.060150</td>\n",
              "    </tr>\n",
              "    <tr>\n",
              "      <th>4</th>\n",
              "      <td>660 Corp</td>\n",
              "      <td>grocery</td>\n",
              "      <td>543 Commonwealth Ave</td>\n",
              "      <td>2215.0</td>\n",
              "      <td>42.349045</td>\n",
              "      <td>-71.097122</td>\n",
              "    </tr>\n",
              "  </tbody>\n",
              "</table>\n",
              "</div>"
            ],
            "text/plain": [
              "                         name     type  ...        lat        lon\n",
              "0                    7-Eleven  grocery  ...  42.348527 -71.158960\n",
              "1                    24 Seven  grocery  ...  42.309813 -71.082883\n",
              "2  24 Seven Convenience Store  grocery  ...  42.309813 -71.082883\n",
              "3                   Food Land  grocery  ...  42.302039 -71.060150\n",
              "4                    660 Corp  grocery  ...  42.349045 -71.097122\n",
              "\n",
              "[5 rows x 6 columns]"
            ]
          },
          "metadata": {
            "tags": []
          },
          "execution_count": 43
        }
      ]
    },
    {
      "cell_type": "code",
      "metadata": {
        "id": "U2eU1Oi1F6hc",
        "colab": {
          "base_uri": "https://localhost:8080/"
        },
        "outputId": "e452f934-be2c-4b35-caec-91b329d7f022"
      },
      "source": [
        "all_types = set(all_essential_services['type'].to_list())\n",
        "print(all_types)"
      ],
      "execution_count": null,
      "outputs": [
        {
          "output_type": "stream",
          "text": [
            "{'healthcare', 'park', 'open space', 'hospital', 'supermarket', 'grocery'}\n"
          ],
          "name": "stdout"
        }
      ]
    },
    {
      "cell_type": "markdown",
      "metadata": {
        "id": "9U1cczQR5kQ4"
      },
      "source": [
        "Divide."
      ]
    },
    {
      "cell_type": "code",
      "metadata": {
        "id": "i1qABgopF6e8"
      },
      "source": [
        "supermarkets = all_essential_services[all_essential_services['type'] == 'supermarket'].to_dict('index')\n",
        "parks_openspace = all_essential_services[all_essential_services['type'].isin(['park', 'open space'])].to_dict('index')\n",
        "grocery = all_essential_services[all_essential_services['type'] == 'grocery'].to_dict('index')\n",
        "healthcares = all_essential_services[all_essential_services['type'] == 'healthcare'].to_dict('index')\n",
        "hospitals = all_essential_services[all_essential_services['type'] == 'hospital'].to_dict('index')"
      ],
      "execution_count": null,
      "outputs": []
    },
    {
      "cell_type": "code",
      "metadata": {
        "colab": {
          "base_uri": "https://localhost:8080/"
        },
        "id": "NkYayMBDy6Pc",
        "outputId": "54e713c7-7777-4996-8d66-280791db6682"
      },
      "source": [
        "# look at the ids of one essential service\n",
        "supermarkets.keys()"
      ],
      "execution_count": null,
      "outputs": [
        {
          "output_type": "execute_result",
          "data": {
            "text/plain": [
              "dict_keys([1330, 1343, 1347, 1350, 1382, 1383, 1402, 1417, 1546, 1573, 1803, 2134, 2136, 2148, 2308, 2510, 2533, 2570, 2585, 2695, 2737, 2777, 2795, 2879, 2967, 2981, 3073, 3129, 3222, 3386, 3419, 3442, 3445, 3459, 3480, 3489, 3498, 3563, 3635, 3664, 3669, 3812, 3920, 3955, 4038, 4072, 4102, 4109, 4137, 4198, 4203, 4250, 4260, 4309, 4319, 4322, 4452, 4548, 4607, 4614, 4673, 4681, 4691, 4803, 4901, 4941, 4948, 4951])"
            ]
          },
          "metadata": {
            "tags": []
          },
          "execution_count": 46
        }
      ]
    },
    {
      "cell_type": "markdown",
      "metadata": {
        "id": "lgYGk0p85vTQ"
      },
      "source": [
        "# Time for matching"
      ]
    },
    {
      "cell_type": "code",
      "metadata": {
        "id": "P1ZqheCqxn6R"
      },
      "source": [
        "def get_match_dict(combined_dict, service_dict):\n",
        "  \"\"\"\n",
        "  match each big parcel with 2 cloest essential services of the same kind (using Euclidean distance for approximation).\n",
        "  combined_dict: the dictionary that contains lats, lons and addresses of all small parcels in big parcels\n",
        "  service_dict: the dictionary for one kind of essential service only\n",
        "  \"\"\"\n",
        "  r = {}\n",
        "  \n",
        "  for key, parcel in combined_dict.items():\n",
        "    closest1 = 1000000.0 # the first closest\n",
        "    closest2 = 1000000.0 # the second closest\n",
        "    index1 = None\n",
        "    index2 = None\n",
        "    r[key] = {}\n",
        "    r[key]['parcel'] = parcel\n",
        "    lat = parcel['lat']\n",
        "    lon = parcel['lon']\n",
        "    for i in service_dict.keys():\n",
        "      target_lat = service_dict[i]['lat']\n",
        "      target_lon = service_dict[i]['lon']\n",
        "      d = (target_lat - lat)**2 + ((target_lon - lon) * lat_lon_ratio)**2\n",
        "      if d < closest1: # d is the first closest\n",
        "        closest2 = closest1\n",
        "        index2 = index1\n",
        "        closest1 = d\n",
        "        index1 = i\n",
        "      elif closest1 < d < closest2: # d is the second closest\n",
        "        closest2 = d\n",
        "        index2 = i\n",
        "        \n",
        "\n",
        "    service_name1 = service_dict[index1]['name']\n",
        "    service_address1 = service_dict[index1]['address']\n",
        "    service_lat1 = service_dict[index1]['lat']\n",
        "    service_lon1 = service_dict[index1]['lon']\n",
        "    r[key]['closest1'] = {'name': service_name1, 'address': service_address1, 'lat': service_lat1, 'lon': service_lon1} \n",
        "\n",
        "    service_name2 = service_dict[index2]['name']\n",
        "    service_address2 = service_dict[index2]['address']\n",
        "    service_lat2 = service_dict[index2]['lat']\n",
        "    service_lon2 = service_dict[index2]['lon']\n",
        "    r[key]['closest2'] = {'name': service_name2, 'address': service_address2, 'lat': service_lat2, 'lon': service_lon2} \n",
        "\n",
        "\n",
        "  return r"
      ],
      "execution_count": null,
      "outputs": []
    },
    {
      "cell_type": "code",
      "metadata": {
        "id": "LTSN0njoxn3y"
      },
      "source": [
        "parcel_supermarket = get_match_dict(combined_dict, supermarkets)\n",
        "parcel_parks_openspace = get_match_dict(combined_dict, parks_openspace)\n",
        "parcel_grocery = get_match_dict(combined_dict, grocery)\n",
        "parcel_healthcares = get_match_dict(combined_dict, healthcares)\n",
        "parcel_hospitals = get_match_dict(combined_dict, hospitals)"
      ],
      "execution_count": null,
      "outputs": []
    },
    {
      "cell_type": "code",
      "metadata": {
        "id": "PVaZJvKGxn1a"
      },
      "source": [
        ""
      ],
      "execution_count": null,
      "outputs": []
    },
    {
      "cell_type": "markdown",
      "metadata": {
        "id": "0tEofrrz6ZNY"
      },
      "source": [
        "Take a look at the result:"
      ]
    },
    {
      "cell_type": "code",
      "metadata": {
        "colab": {
          "base_uri": "https://localhost:8080/"
        },
        "id": "2POy_1e7xT7X",
        "outputId": "3e267928-ee07-4e15-a404-1ed8f826e86a"
      },
      "source": [
        "print(parcel_supermarket[1])\n",
        "print(parcel_supermarket[10])\n",
        "print(parcel_supermarket[100])\n",
        "print(parcel_supermarket[1000])\n",
        "print(parcel_supermarket[10000])"
      ],
      "execution_count": null,
      "outputs": [
        {
          "output_type": "stream",
          "text": [
            "{'parcel': {'lat': 42.232159, 'lon': -71.12882909999998, 'addresses': ['meadow rd, hyde park, 02136']}, 'closest1': {'name': 'Save Mart Supermarket', 'address': '270 Reservation Rd', 'lat': 42.2541, 'lon': -71.13388}, 'closest2': {'name': 'Super Discount Store', 'address': '1232 River St Hyde Park', 'lat': 42.2558083, 'lon': -71.1228839}}\n",
            "{'parcel': {'lat': 42.23349566428572, 'lon': -71.13191838721544, 'addresses': ['55   millstone rd, hyde park, 02136', '47   millstone rd, hyde park, 02136', '54   millstone rd, hyde park, 02136', '49   clifford st, hyde park, 02136', '46   millstone rd, hyde park, 02136', '47   clifford st, hyde park, 02136', '62   hamilton st, hyde park, 02136']}, 'closest1': {'name': 'Save Mart Supermarket', 'address': '270 Reservation Rd', 'lat': 42.2541, 'lon': -71.13388}, 'closest2': {'name': 'Super Discount Store', 'address': '1232 River St Hyde Park', 'lat': 42.2558083, 'lon': -71.1228839}}\n",
            "{'parcel': {'lat': 42.240603539759334, 'lon': -71.13809794303812, 'addresses': ['36   como rd, hyde park, 02136', '38   como rd, hyde park, 02136', '40   como rd, hyde park, 02136', '43   como rd, hyde park, 02136', '37   como rd, hyde park, 02136', '39   como rd, hyde park, 02136', '41   como rd, hyde park, 02136']}, 'closest1': {'name': 'Save Mart Supermarket', 'address': '270 Reservation Rd', 'lat': 42.2541, 'lon': -71.13388}, 'closest2': {'name': 'Roche Bros.', 'address': '8 Summer St', 'lat': 42.256789000000005, 'lon': -71.12583000000001}}\n",
            "{'parcel': {'lat': 42.2625292781616, 'lon': -71.15766153040373, 'addresses': ['35   overlook rd, west roxbury, 02132', 'overlook rd, west roxbury, 02132', 'overlook rd, west roxbury, 02132', 'overlook rd, west roxbury, 02132', 'overlook rd, west roxbury, 02132', 'overlook rd, west roxbury, 02132', 'overlook rd, west roxbury, 02132', 'overlook rd, west roxbury, 02132', 'overlook rd, west roxbury, 02132', 'overlook rd, west roxbury, 02132', 'overlook rd, west roxbury, 02132', 'overlook rd, west roxbury, 02132', 'overlook rd, west roxbury, 02132', '203 221 grove st, west roxbury, 02132']}, 'closest1': {'name': 'Dollar Tree', 'address': '1230 Vfw Pkwy', 'lat': 42.27802, 'lon': -71.17018}, 'closest2': {'name': 'Save Mart Supermarket', 'address': '270 Reservation Rd', 'lat': 42.2541, 'lon': -71.13388}}\n",
            "{'parcel': {'lat': 42.342408849428814, 'lon': -71.07692698284373, 'addresses': ['131   w newton st, boston, 02118', '125   pembroke st, boston, 02118', '104   pembroke st, boston, 02118', '104   pembroke st, boston, 02118', '104   pembroke st, boston, 02118', '104   pembroke st, boston, 02118', '104   pembroke st, boston, 02118', '150   w newton st, boston, 02118', '130   pembroke st, boston, 02118', '130   pembroke st, boston, 02118', '130   pembroke st, boston, 02118', '130   pembroke st, boston, 02118', '130   pembroke st, boston, 02118', '131   pembroke st, boston, 02118', '131   pembroke st, boston, 02118', '131   pembroke st, boston, 02118', '131   pembroke st, boston, 02118', '131   pembroke st, boston, 02118', '131   pembroke st, boston, 02118', '133   pembroke st, boston, 02118', '133   pembroke st, boston, 02118', '133   pembroke st, boston, 02118', '133   pembroke st, boston, 02118', '133   pembroke st, boston, 02118', '133   pembroke st, boston, 02118', '133   pembroke st, boston, 02118', '108   pembroke st, boston, 02118', '105   pembroke st, boston, 02118', '105   pembroke st, boston, 02118', '105   pembroke st, boston, 02118', '105   pembroke st, boston, 02118']}, 'closest1': {'name': 'Going Bananas', 'address': '682 Tremont St', 'lat': 42.34096908569336, 'lon': -71.07666015625}, 'closest2': {'name': 'Villa Victoria Market', 'address': '65 W Dedham St', 'lat': 42.341864, 'lon': -71.072445}}\n"
          ],
          "name": "stdout"
        }
      ]
    },
    {
      "cell_type": "code",
      "metadata": {
        "id": "ZkMWhBkoxT4Q",
        "colab": {
          "base_uri": "https://localhost:8080/"
        },
        "outputId": "924e1506-8b09-433b-836e-ec352f3d4358"
      },
      "source": [
        "print(len(parcel_supermarket.keys()))\n",
        "print(len(parcel_parks_openspace.keys()))\n",
        "print(len(parcel_grocery.keys()))\n",
        "print(len(parcel_healthcares.keys()))\n",
        "print(len(parcel_hospitals.keys()))"
      ],
      "execution_count": null,
      "outputs": [
        {
          "output_type": "stream",
          "text": [
            "13121\n",
            "13121\n",
            "13121\n",
            "13121\n",
            "13121\n"
          ],
          "name": "stdout"
        }
      ]
    },
    {
      "cell_type": "markdown",
      "metadata": {
        "id": "xv1EBV4O6etx"
      },
      "source": [
        "#Save the result as a dictionary."
      ]
    },
    {
      "cell_type": "code",
      "metadata": {
        "id": "zximqb3h7gAy"
      },
      "source": [
        "whole_dict = {'supermarket': parcel_supermarket, 'parks and open space': parcel_parks_openspace, 'grocery': parcel_grocery, 'healthcare': parcel_healthcares, 'hospital': parcel_hospitals}\n",
        "with open(\"/content/gdrive/My Drive/Colab Notebooks/CS506FinalProject/CS506_parcels_service.json\", 'w') as f:\n",
        "  f.write(json.dumps(whole_dict))"
      ],
      "execution_count": null,
      "outputs": []
    },
    {
      "cell_type": "code",
      "metadata": {
        "id": "ouNRVzq77f-C"
      },
      "source": [
        ""
      ],
      "execution_count": null,
      "outputs": []
    },
    {
      "cell_type": "code",
      "metadata": {
        "id": "5DTdEdTo7f7y"
      },
      "source": [
        ""
      ],
      "execution_count": null,
      "outputs": []
    },
    {
      "cell_type": "code",
      "metadata": {
        "id": "wBgKfbL27f5r"
      },
      "source": [
        ""
      ],
      "execution_count": null,
      "outputs": []
    },
    {
      "cell_type": "code",
      "metadata": {
        "id": "ziVeGIbH7f1S"
      },
      "source": [
        ""
      ],
      "execution_count": null,
      "outputs": []
    },
    {
      "cell_type": "code",
      "metadata": {
        "id": "MCHk_rof7fy6"
      },
      "source": [
        ""
      ],
      "execution_count": null,
      "outputs": []
    }
  ]
}