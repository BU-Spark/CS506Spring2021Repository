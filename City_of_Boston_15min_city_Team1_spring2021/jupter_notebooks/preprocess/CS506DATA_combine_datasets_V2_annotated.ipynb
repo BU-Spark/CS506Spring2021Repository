{
  "nbformat": 4,
  "nbformat_minor": 0,
  "metadata": {
    "colab": {
      "name": "CS506DATA_combine_datasets_V2_annotated.ipynb",
      "provenance": [],
      "collapsed_sections": []
    },
    "kernelspec": {
      "name": "python3",
      "display_name": "Python 3"
    }
  },
  "cells": [
    {
      "cell_type": "markdown",
      "metadata": {
        "id": "TxZH82sQ67NC"
      },
      "source": [
        "# This notebook preprocesses all the raw data regarding services and combine them into one big dataset."
      ]
    },
    {
      "cell_type": "code",
      "metadata": {
        "colab": {
          "base_uri": "https://localhost:8080/"
        },
        "id": "V8bZxhFrehOb",
        "outputId": "3a6fc981-1405-4cb0-e83a-f97799092ed2"
      },
      "source": [
        "from google.colab import drive\n",
        "drive.mount('/content/gdrive')"
      ],
      "execution_count": null,
      "outputs": [
        {
          "output_type": "stream",
          "text": [
            "Drive already mounted at /content/gdrive; to attempt to forcibly remount, call drive.mount(\"/content/gdrive\", force_remount=True).\n"
          ],
          "name": "stdout"
        }
      ]
    },
    {
      "cell_type": "code",
      "metadata": {
        "id": "e9iqvYBVgoBT"
      },
      "source": [
        "food_retailers = '/content/gdrive/My Drive/Colab Notebooks/CS506FinalProject/food_retailers_2017_pt.csv'\n",
        "merged =  '/content/gdrive/My Drive/Colab Notebooks/CS506FinalProject/Final_merge.xlsx'"
      ],
      "execution_count": null,
      "outputs": []
    },
    {
      "cell_type": "code",
      "metadata": {
        "id": "o8Al0_gahYSb"
      },
      "source": [
        "import pandas as pd\n",
        "import re\n",
        "import requests\n",
        "import urllib.parse\n",
        "import json\n",
        "import ast"
      ],
      "execution_count": null,
      "outputs": []
    },
    {
      "cell_type": "markdown",
      "metadata": {
        "id": "Qno9PW5AifFC"
      },
      "source": [
        "#Open space:"
      ]
    },
    {
      "cell_type": "code",
      "metadata": {
        "colab": {
          "base_uri": "https://localhost:8080/",
          "height": 359
        },
        "id": "5wuzQ-XbbQ4S",
        "outputId": "79eb014c-49a5-4fb9-f7d0-08909c85541a"
      },
      "source": [
        "osdf = pd.read_csv('/content/gdrive/My Drive/Colab Notebooks/CS506FinalProject/Open_Space_fully_processed.csv')\n",
        "osdf.head(10)"
      ],
      "execution_count": null,
      "outputs": [
        {
          "output_type": "execute_result",
          "data": {
            "text/html": [
              "<div>\n",
              "<style scoped>\n",
              "    .dataframe tbody tr th:only-of-type {\n",
              "        vertical-align: middle;\n",
              "    }\n",
              "\n",
              "    .dataframe tbody tr th {\n",
              "        vertical-align: top;\n",
              "    }\n",
              "\n",
              "    .dataframe thead th {\n",
              "        text-align: right;\n",
              "    }\n",
              "</style>\n",
              "<table border=\"1\" class=\"dataframe\">\n",
              "  <thead>\n",
              "    <tr style=\"text-align: right;\">\n",
              "      <th></th>\n",
              "      <th>name</th>\n",
              "      <th>type</th>\n",
              "      <th>address</th>\n",
              "      <th>zip</th>\n",
              "      <th>lat</th>\n",
              "      <th>lon</th>\n",
              "    </tr>\n",
              "  </thead>\n",
              "  <tbody>\n",
              "    <tr>\n",
              "      <th>0</th>\n",
              "      <td>Wilson Park</td>\n",
              "      <td>open space</td>\n",
              "      <td>Allston-Brighton</td>\n",
              "      <td>NaN</td>\n",
              "      <td>42.340985</td>\n",
              "      <td>-71.145930</td>\n",
              "    </tr>\n",
              "    <tr>\n",
              "      <th>1</th>\n",
              "      <td>Nickerson Field</td>\n",
              "      <td>open space</td>\n",
              "      <td>Allston-Brighton</td>\n",
              "      <td>NaN</td>\n",
              "      <td>42.353369</td>\n",
              "      <td>-71.119283</td>\n",
              "    </tr>\n",
              "    <tr>\n",
              "      <th>2</th>\n",
              "      <td>Smith Playground</td>\n",
              "      <td>open space</td>\n",
              "      <td>Allston-Brighton</td>\n",
              "      <td>NaN</td>\n",
              "      <td>42.364359</td>\n",
              "      <td>-71.131411</td>\n",
              "    </tr>\n",
              "    <tr>\n",
              "      <th>3</th>\n",
              "      <td>Fern Square</td>\n",
              "      <td>open space</td>\n",
              "      <td>Allston-Brighton</td>\n",
              "      <td>NaN</td>\n",
              "      <td>41.211271</td>\n",
              "      <td>-81.496505</td>\n",
              "    </tr>\n",
              "    <tr>\n",
              "      <th>4</th>\n",
              "      <td>Ringer Playground</td>\n",
              "      <td>open space</td>\n",
              "      <td>Allston-Brighton</td>\n",
              "      <td>NaN</td>\n",
              "      <td>42.350446</td>\n",
              "      <td>-71.138224</td>\n",
              "    </tr>\n",
              "    <tr>\n",
              "      <th>5</th>\n",
              "      <td>McKinney Playground</td>\n",
              "      <td>open space</td>\n",
              "      <td>Allston-Brighton</td>\n",
              "      <td>NaN</td>\n",
              "      <td>42.354751</td>\n",
              "      <td>-71.152922</td>\n",
              "    </tr>\n",
              "    <tr>\n",
              "      <th>6</th>\n",
              "      <td>Hobart Park</td>\n",
              "      <td>open space</td>\n",
              "      <td>Allston-Brighton</td>\n",
              "      <td>NaN</td>\n",
              "      <td>42.355735</td>\n",
              "      <td>-71.161270</td>\n",
              "    </tr>\n",
              "    <tr>\n",
              "      <th>7</th>\n",
              "      <td>Jackson Square</td>\n",
              "      <td>open space</td>\n",
              "      <td>Allston-Brighton</td>\n",
              "      <td>NaN</td>\n",
              "      <td>42.322596</td>\n",
              "      <td>-71.100257</td>\n",
              "    </tr>\n",
              "    <tr>\n",
              "      <th>8</th>\n",
              "      <td>Boyden Park</td>\n",
              "      <td>open space</td>\n",
              "      <td>Allston-Brighton</td>\n",
              "      <td>NaN</td>\n",
              "      <td>42.339545</td>\n",
              "      <td>-71.166317</td>\n",
              "    </tr>\n",
              "    <tr>\n",
              "      <th>9</th>\n",
              "      <td>Evergreen Cemetery</td>\n",
              "      <td>open space</td>\n",
              "      <td>Allston-Brighton</td>\n",
              "      <td>NaN</td>\n",
              "      <td>42.338336</td>\n",
              "      <td>-71.162957</td>\n",
              "    </tr>\n",
              "  </tbody>\n",
              "</table>\n",
              "</div>"
            ],
            "text/plain": [
              "                  name        type           address  zip        lat        lon\n",
              "0          Wilson Park  open space  Allston-Brighton  NaN  42.340985 -71.145930\n",
              "1      Nickerson Field  open space  Allston-Brighton  NaN  42.353369 -71.119283\n",
              "2     Smith Playground  open space  Allston-Brighton  NaN  42.364359 -71.131411\n",
              "3          Fern Square  open space  Allston-Brighton  NaN  41.211271 -81.496505\n",
              "4    Ringer Playground  open space  Allston-Brighton  NaN  42.350446 -71.138224\n",
              "5  McKinney Playground  open space  Allston-Brighton  NaN  42.354751 -71.152922\n",
              "6          Hobart Park  open space  Allston-Brighton  NaN  42.355735 -71.161270\n",
              "7       Jackson Square  open space  Allston-Brighton  NaN  42.322596 -71.100257\n",
              "8          Boyden Park  open space  Allston-Brighton  NaN  42.339545 -71.166317\n",
              "9   Evergreen Cemetery  open space  Allston-Brighton  NaN  42.338336 -71.162957"
            ]
          },
          "metadata": {
            "tags": []
          },
          "execution_count": 4
        }
      ]
    },
    {
      "cell_type": "markdown",
      "metadata": {
        "id": "0bZ3_WbPilN6"
      },
      "source": [
        "#Food retailers (groceries)"
      ]
    },
    {
      "cell_type": "code",
      "metadata": {
        "colab": {
          "base_uri": "https://localhost:8080/",
          "height": 204
        },
        "id": "jezh1vV1hcUT",
        "outputId": "b1574302-0310-4faa-f58f-c1c0fbe4c309"
      },
      "source": [
        "# do food retailers \n",
        "df = pd.read_csv(food_retailers)\n",
        "df.head()"
      ],
      "execution_count": null,
      "outputs": [
        {
          "output_type": "execute_result",
          "data": {
            "text/html": [
              "<div>\n",
              "<style scoped>\n",
              "    .dataframe tbody tr th:only-of-type {\n",
              "        vertical-align: middle;\n",
              "    }\n",
              "\n",
              "    .dataframe tbody tr th {\n",
              "        vertical-align: top;\n",
              "    }\n",
              "\n",
              "    .dataframe thead th {\n",
              "        text-align: right;\n",
              "    }\n",
              "</style>\n",
              "<table border=\"1\" class=\"dataframe\">\n",
              "  <thead>\n",
              "    <tr style=\"text-align: right;\">\n",
              "      <th></th>\n",
              "      <th>objectid</th>\n",
              "      <th>name</th>\n",
              "      <th>address</th>\n",
              "      <th>address2</th>\n",
              "      <th>municipal</th>\n",
              "      <th>state</th>\n",
              "      <th>zipcode</th>\n",
              "      <th>recordtype</th>\n",
              "      <th>data_year</th>\n",
              "      <th>source</th>\n",
              "      <th>market_id</th>\n",
              "      <th>ebt</th>\n",
              "      <th>coupons</th>\n",
              "      <th>latitude</th>\n",
              "      <th>longitude</th>\n",
              "      <th>prim_type</th>\n",
              "      <th>shape</th>\n",
              "    </tr>\n",
              "  </thead>\n",
              "  <tbody>\n",
              "    <tr>\n",
              "      <th>0</th>\n",
              "      <td>1</td>\n",
              "      <td>7-Eleven</td>\n",
              "      <td>462 Washington St</td>\n",
              "      <td></td>\n",
              "      <td>Brighton</td>\n",
              "      <td>MA</td>\n",
              "      <td>2135</td>\n",
              "      <td>Unverified</td>\n",
              "      <td>2016</td>\n",
              "      <td>ReferenceUSA</td>\n",
              "      <td>0</td>\n",
              "      <td></td>\n",
              "      <td></td>\n",
              "      <td>42.348527</td>\n",
              "      <td>-71.158960</td>\n",
              "      <td>Convenience Stores</td>\n",
              "      <td>2400000001000000010004006A6900000C000000010000...</td>\n",
              "    </tr>\n",
              "    <tr>\n",
              "      <th>1</th>\n",
              "      <td>2</td>\n",
              "      <td>7-Eleven</td>\n",
              "      <td>131 Middlesex Tpke</td>\n",
              "      <td></td>\n",
              "      <td>Burlington</td>\n",
              "      <td>MA</td>\n",
              "      <td>1803</td>\n",
              "      <td>Unverified</td>\n",
              "      <td>2016</td>\n",
              "      <td>ReferenceUSA</td>\n",
              "      <td>0</td>\n",
              "      <td></td>\n",
              "      <td></td>\n",
              "      <td>42.487965</td>\n",
              "      <td>-71.221743</td>\n",
              "      <td>Convenience Stores</td>\n",
              "      <td>2400000001000000010004006A6900000C000000010000...</td>\n",
              "    </tr>\n",
              "    <tr>\n",
              "      <th>2</th>\n",
              "      <td>3</td>\n",
              "      <td>7-Eleven</td>\n",
              "      <td>226 Winthrop Ave</td>\n",
              "      <td></td>\n",
              "      <td>Lawrence</td>\n",
              "      <td>MA</td>\n",
              "      <td>1843</td>\n",
              "      <td>Unverified</td>\n",
              "      <td>2016</td>\n",
              "      <td>ReferenceUSA</td>\n",
              "      <td>0</td>\n",
              "      <td></td>\n",
              "      <td></td>\n",
              "      <td>42.686019</td>\n",
              "      <td>-71.139769</td>\n",
              "      <td>Convenience Stores</td>\n",
              "      <td>2400000001000000010004006A6900000C000000010000...</td>\n",
              "    </tr>\n",
              "    <tr>\n",
              "      <th>3</th>\n",
              "      <td>4</td>\n",
              "      <td>7-Eleven</td>\n",
              "      <td>1693 Route 6</td>\n",
              "      <td></td>\n",
              "      <td>Somerset</td>\n",
              "      <td>MA</td>\n",
              "      <td>2726</td>\n",
              "      <td>Unverified</td>\n",
              "      <td>2016</td>\n",
              "      <td>ReferenceUSA</td>\n",
              "      <td>0</td>\n",
              "      <td></td>\n",
              "      <td></td>\n",
              "      <td>41.754381</td>\n",
              "      <td>-71.151866</td>\n",
              "      <td>Convenience Stores</td>\n",
              "      <td>2400000001000000010004006A6900000C000000010000...</td>\n",
              "    </tr>\n",
              "    <tr>\n",
              "      <th>4</th>\n",
              "      <td>5</td>\n",
              "      <td>7-Eleven</td>\n",
              "      <td>226 Broadway</td>\n",
              "      <td></td>\n",
              "      <td>Taunton</td>\n",
              "      <td>MA</td>\n",
              "      <td>2780</td>\n",
              "      <td>Unverified</td>\n",
              "      <td>2016</td>\n",
              "      <td>ReferenceUSA</td>\n",
              "      <td>0</td>\n",
              "      <td></td>\n",
              "      <td></td>\n",
              "      <td>41.920467</td>\n",
              "      <td>-71.091320</td>\n",
              "      <td>Convenience Stores</td>\n",
              "      <td>2400000001000000010004006A6900000C000000010000...</td>\n",
              "    </tr>\n",
              "  </tbody>\n",
              "</table>\n",
              "</div>"
            ],
            "text/plain": [
              "   objectid  ...                                              shape\n",
              "0         1  ...  2400000001000000010004006A6900000C000000010000...\n",
              "1         2  ...  2400000001000000010004006A6900000C000000010000...\n",
              "2         3  ...  2400000001000000010004006A6900000C000000010000...\n",
              "3         4  ...  2400000001000000010004006A6900000C000000010000...\n",
              "4         5  ...  2400000001000000010004006A6900000C000000010000...\n",
              "\n",
              "[5 rows x 17 columns]"
            ]
          },
          "metadata": {
            "tags": []
          },
          "execution_count": 5
        }
      ]
    },
    {
      "cell_type": "markdown",
      "metadata": {
        "id": "gCheWktw7Mzf"
      },
      "source": [
        "Drop the unnecessary infomation."
      ]
    },
    {
      "cell_type": "code",
      "metadata": {
        "colab": {
          "base_uri": "https://localhost:8080/",
          "height": 204
        },
        "id": "FwNjCXQMpYlM",
        "outputId": "be6ecce5-a14d-4cc8-a496-8faa70537971"
      },
      "source": [
        "columns_drop = ['address2', 'state', 'recordtype', 'data_year', 'source', 'market_id', 'ebt', 'coupons', 'shape']\n",
        "df = df.drop(columns = columns_drop)\n",
        "df.head(5)"
      ],
      "execution_count": null,
      "outputs": [
        {
          "output_type": "execute_result",
          "data": {
            "text/html": [
              "<div>\n",
              "<style scoped>\n",
              "    .dataframe tbody tr th:only-of-type {\n",
              "        vertical-align: middle;\n",
              "    }\n",
              "\n",
              "    .dataframe tbody tr th {\n",
              "        vertical-align: top;\n",
              "    }\n",
              "\n",
              "    .dataframe thead th {\n",
              "        text-align: right;\n",
              "    }\n",
              "</style>\n",
              "<table border=\"1\" class=\"dataframe\">\n",
              "  <thead>\n",
              "    <tr style=\"text-align: right;\">\n",
              "      <th></th>\n",
              "      <th>objectid</th>\n",
              "      <th>name</th>\n",
              "      <th>address</th>\n",
              "      <th>municipal</th>\n",
              "      <th>zipcode</th>\n",
              "      <th>latitude</th>\n",
              "      <th>longitude</th>\n",
              "      <th>prim_type</th>\n",
              "    </tr>\n",
              "  </thead>\n",
              "  <tbody>\n",
              "    <tr>\n",
              "      <th>0</th>\n",
              "      <td>1</td>\n",
              "      <td>7-Eleven</td>\n",
              "      <td>462 Washington St</td>\n",
              "      <td>Brighton</td>\n",
              "      <td>2135</td>\n",
              "      <td>42.348527</td>\n",
              "      <td>-71.158960</td>\n",
              "      <td>Convenience Stores</td>\n",
              "    </tr>\n",
              "    <tr>\n",
              "      <th>1</th>\n",
              "      <td>2</td>\n",
              "      <td>7-Eleven</td>\n",
              "      <td>131 Middlesex Tpke</td>\n",
              "      <td>Burlington</td>\n",
              "      <td>1803</td>\n",
              "      <td>42.487965</td>\n",
              "      <td>-71.221743</td>\n",
              "      <td>Convenience Stores</td>\n",
              "    </tr>\n",
              "    <tr>\n",
              "      <th>2</th>\n",
              "      <td>3</td>\n",
              "      <td>7-Eleven</td>\n",
              "      <td>226 Winthrop Ave</td>\n",
              "      <td>Lawrence</td>\n",
              "      <td>1843</td>\n",
              "      <td>42.686019</td>\n",
              "      <td>-71.139769</td>\n",
              "      <td>Convenience Stores</td>\n",
              "    </tr>\n",
              "    <tr>\n",
              "      <th>3</th>\n",
              "      <td>4</td>\n",
              "      <td>7-Eleven</td>\n",
              "      <td>1693 Route 6</td>\n",
              "      <td>Somerset</td>\n",
              "      <td>2726</td>\n",
              "      <td>41.754381</td>\n",
              "      <td>-71.151866</td>\n",
              "      <td>Convenience Stores</td>\n",
              "    </tr>\n",
              "    <tr>\n",
              "      <th>4</th>\n",
              "      <td>5</td>\n",
              "      <td>7-Eleven</td>\n",
              "      <td>226 Broadway</td>\n",
              "      <td>Taunton</td>\n",
              "      <td>2780</td>\n",
              "      <td>41.920467</td>\n",
              "      <td>-71.091320</td>\n",
              "      <td>Convenience Stores</td>\n",
              "    </tr>\n",
              "  </tbody>\n",
              "</table>\n",
              "</div>"
            ],
            "text/plain": [
              "   objectid      name  ...  longitude           prim_type\n",
              "0         1  7-Eleven  ... -71.158960  Convenience Stores\n",
              "1         2  7-Eleven  ... -71.221743  Convenience Stores\n",
              "2         3  7-Eleven  ... -71.139769  Convenience Stores\n",
              "3         4  7-Eleven  ... -71.151866  Convenience Stores\n",
              "4         5  7-Eleven  ... -71.091320  Convenience Stores\n",
              "\n",
              "[5 rows x 8 columns]"
            ]
          },
          "metadata": {
            "tags": []
          },
          "execution_count": 6
        }
      ]
    },
    {
      "cell_type": "markdown",
      "metadata": {
        "id": "1lKw1X5j7RMO"
      },
      "source": [
        "Check how many cities are in the dataset:"
      ]
    },
    {
      "cell_type": "code",
      "metadata": {
        "colab": {
          "base_uri": "https://localhost:8080/"
        },
        "id": "IlO-QaX4qpWD",
        "outputId": "842b57f6-b843-4c63-a4e6-6c39f7563f1c"
      },
      "source": [
        "all_municipal = set(df['municipal'].to_list())\n",
        "print(all_municipal)"
      ],
      "execution_count": null,
      "outputs": [
        {
          "output_type": "stream",
          "text": [
            "{'Lunenburg', 'Raynham', 'Mission Hill', 'Wenham', 'West Springfield', 'South Chatham', 'Ware', 'Holland', 'South Deerfield', 'Jamaica Plain', 'Wendell', 'Webster', 'Mill River', 'Brookline', 'Hanson', 'Hudson', 'Topsfield', 'Bedford', 'Fall River', 'Ipswich', 'Chilmark', 'Menemsha', 'West Bridgewater', 'Lanesborough', 'West Boylston', 'Cuttyhunk', 'Wilkinsonville', 'Dartmouth', 'Feeding Hills', 'Eastham', 'Hatfield', 'Merrimac', 'Warren', 'Nahant', 'Tyngsboro', 'Danvers', 'Gloucester', 'Burlington', 'Leeds', 'Melrose', 'Woods Hole', 'North Carver', 'Lancaster', 'Westport Point', 'Gill', 'Osterville', 'Granby', 'Green Harbor', 'Framingham', 'Leverett', 'Bernardston', 'Newburyport', 'Dighton', 'Millbury', 'Lynn', 'Edgartown', 'Charlemont', 'Millville', 'Templeton', 'Hopkinton', 'North Adams', 'North Marshfield', 'Ludlow', 'North Easton', 'West Roxbury', 'Cohasset', 'Teaticket', 'Billerica', 'Chatham', 'South Easton', 'Thorndike', 'Blandford', 'Westwood', 'Brant Rock', 'Nantucket', 'Shirley', 'North Eastham', 'Uxbridge', 'Seekonk', 'South Dennis', 'Brewster', 'Hyde Park', 'Dudley', 'Westborough', 'Auburn', 'Chester', 'Hyannis', 'Mansfield', 'Becket', 'Palmer', 'Boston', 'Bass River', 'Plympton', 'Hubbardston', 'East Wareham', 'Pembroke', 'West Tisbury', 'Halifax', 'Weston', 'East Falmouth', 'Hadley', 'Northampton', 'Hanover', 'Rockport', 'Newtonville', 'Lowell', 'Norfolk', 'Upton', 'Woburn', 'Onset', 'Chestnut Hill', 'Petersham', 'Barre', 'Peabody', 'Fairhaven', 'Montague', 'Cummington', 'Medford', 'Randolph', 'Holbrook', 'West Harwich', 'Orleans', 'Harwich Port', 'South Wellfleet', 'East Bridgewater', 'Waltham', 'West Dennis', 'North Attleboro', 'Hanscom AFB', 'Fitchburg', 'Boylston', 'Watertown', 'Winchendon', 'Chelmsford', 'Lincoln', 'Amesbury', 'Weymouth', 'Dover', 'North Andover', 'East Boston', 'Marblehead', 'North Dartmouth', 'Norton', 'Byfield', 'Ashfield', 'Dorchester', 'Housatonic', 'Millers Falls', 'Harwich', 'Needham Heights', 'Clinton', 'Stow', 'Millis', 'North Grafton', 'Norwood', 'Stoughton', 'Brookfield', 'Somerville', 'Cambridge', 'Richmond', 'Indian Orchard', 'Maynard', 'Southampton', 'Southborough', 'Whitman', 'Easthampton', 'Monterey', 'Monument Beach', 'Sharon', 'Marlborough', 'Ashby', 'South Hadley', 'Carlisle', 'Bondsville', 'Beverly', 'Natick', 'Provincetown', 'East Dennis', 'Phillipston', 'Harvard', 'West Wareham', 'Hampden', 'Middleton', 'East Brookfield', 'Hardwick', 'Fields Corner', 'North Uxbridge', 'Rowley', 'Norwell', 'North Quincy', 'Sandisfield', 'Charlestown', 'Southwick', 'Westford', 'East Orleans', 'Acton', 'Dracut', 'Foxboro', 'West Falmouth', 'Lawrence', 'East Sandwich', 'Medway', 'North Brookfield', 'Hopedale', 'Belchertown', 'Newbury', 'Newton Highlands', 'Roxbury', 'Paxton', 'Chicopee', 'West Newbury', 'Holliston', 'Mattapoisett', 'Bellingham', 'Huntington', 'North Chatham', 'Belmont', 'Hancock', 'Brockton', 'South Hamilton', 'New Bedford', 'Everett', 'Three Rivers', 'Ayer', 'East Walpole', 'Turners Falls', 'Berkley', 'Methuen', 'Franklin', 'Adams', 'Cherry Valley', 'Vineyard Haven', 'Attleboro Falls', 'South Barre', 'Marshfield', 'Siasconset', 'Salem', 'Greenfield', 'Egremont', 'Williamstown', 'Taunton', 'Shelburne', 'Monson', 'Athol', 'North Truro', 'West Chatham', 'Lenox Dale', 'Attleboro', 'Milford', 'Florence', 'Amherst', 'Stockbridge', 'Canton', 'South Lancaster', 'West Newton', 'West Groton', 'Leominster', 'Cheshire', 'Sutton', 'Allston', 'Middleboro', 'Wales', 'Yarmouth Port', 'Shutesbury', 'Boxford', 'Concord', 'Somerset', 'Shrewsbury', 'Goshen', 'Dedham', 'Erving', 'Dalton', 'Florida', 'Holden', 'Quincy', 'Whitinsville', 'Sterling', 'White Horse Bch', 'Savoy', 'Springfield', 'West Townsend', 'Grafton', 'Haverhill', 'Littleton', 'Hampshire', 'Bridgewater', 'West Stockbridge', 'Gardner', 'Sagamore Beach', 'South Yarmouth', 'Scituate', 'Northbridge', 'Pittsfield', 'Milton', 'Plymouth', 'North Reading', 'Newton', 'Carver', 'Mattapan', 'Truro', 'Hinsdale', 'Swansea', 'Walpole', 'Wellesley Hills', 'Longmeadow', 'Lexington', 'Pocasset', 'Dennis Port', 'West Barnstable', 'South Dartmouth', 'Salisbury', 'Tewksbury', 'Mendon', 'Waquoit', 'Buzzards Bay', 'Oak Bluffs', 'Kingston', 'Medfield', 'Wellfleet', 'Hull', 'Wakefield', 'Winthrop', 'Newton Center', 'East Longmeadow', 'Wilbraham', 'Marion', 'Avon', 'Groton', 'Lynnfield', 'Arlington', 'East Freetown', 'Assonet', 'Wayland', 'Easton', 'New Salem', 'Princeton', 'Ashland', 'Blackstone', 'Marstons Mills', 'Wellesley', 'Needham', 'Centerville', 'Worthington', 'East Taunton', 'Holyoke', 'Charlton', 'Sheffield', 'Mashpee', 'Rochester', 'Bolton', 'Chesterfield', 'Newton Upper Fls', 'Baldwinville', 'Andover', 'Great Barrington', 'Sandwich', 'Granville', 'Chartley', 'Agawam', 'Cataumet', 'Whately', 'Milton Village', 'Royalston', 'Lenox', 'Orange', 'Barnstable', 'Sagamore', 'Berlin', 'Westhampton', 'Wrentham', 'Otis', 'Westfield', 'Lakeville', 'East Weymouth', 'Dennis', 'Groveland', 'Essex', 'Accord', 'Hyannis Port', 'Worcester', 'Revere', 'North Billerica', 'Plainville', 'Hamilton', 'South Boston', 'Manomet', 'Saugus', 'Abington', 'South Weymouth', 'Manchestr By Sea', 'Southfield', 'Dorchester Ctr', 'Williamsburg', 'Stoneham', 'Marshfield Hills', 'Brimfield', 'North Weymouth', 'Roxbury Crossing', 'Fiskdale', 'Wareham', 'Russell', 'Sudbury', 'Falmouth', 'West Brookfield', 'Townsend', 'North Dighton', 'Lee', 'Cotuit', 'Brighton', 'Leicester', 'Gilbertville', 'Waban', 'Rehoboth', 'Pepperell', 'Acushnet', 'Roslindale', 'North Chelmsford', 'Spencer', 'Georgetown', 'Sturbridge', 'Hingham', 'South Grafton', 'Oxford', 'Ashburnham', 'Winchester', 'Sherborn', 'Westport', 'Shelburne Falls', 'Deerfield', 'North Oxford', 'Duxbury', 'Buckland', 'Braintree', 'West Yarmouth', 'Southbridge', 'East Otis', 'Sunderland', 'Northborough', 'Bourne', 'Wilmington', 'Conway', 'Malden', 'Westminster', 'Auburndale', 'Chelsea', 'Northfield', 'Wilbrham', 'North Falmouth', 'Reading', 'Boxborough', 'Swampscott', 'Rutland', 'Douglas', 'West Warren', 'Rockland'}\n"
          ],
          "name": "stdout"
        }
      ]
    },
    {
      "cell_type": "markdown",
      "metadata": {
        "id": "gvCloYnM7VMg"
      },
      "source": [
        "Check Zipcodes:"
      ]
    },
    {
      "cell_type": "code",
      "metadata": {
        "colab": {
          "base_uri": "https://localhost:8080/"
        },
        "id": "SWdrzGBBr22j",
        "outputId": "32131697-c8a4-4ff2-8032-3893ecf12f48"
      },
      "source": [
        "all_zipcode = set(df['zipcode'].to_list())\n",
        "print(all_zipcode)"
      ],
      "execution_count": null,
      "outputs": [
        {
          "output_type": "stream",
          "text": [
            "{2048, 0, 2050, 2051, 2052, 2053, 2054, 2056, 2059, 2061, 2062, 2066, 2067, 2072, 2081, 2090, 2093, 2108, 2109, 2110, 2111, 2112, 2113, 2114, 2115, 2116, 2117, 2118, 2119, 2120, 2121, 2122, 2124, 2125, 2126, 2127, 2128, 2129, 2130, 2131, 2132, 2134, 2135, 2136, 2138, 2139, 2140, 2141, 2142, 2143, 2144, 2145, 2148, 2149, 2150, 2151, 2152, 2155, 2163, 2169, 2170, 2171, 2176, 2180, 2184, 2186, 2187, 2188, 2189, 2190, 2191, 2199, 2201, 2203, 2210, 2215, 2222, 2301, 2302, 2322, 2324, 2330, 2332, 2333, 2334, 2338, 2339, 2341, 2343, 2345, 2346, 2347, 2351, 2355, 2356, 2359, 2360, 2364, 2367, 2368, 2370, 2375, 2379, 2381, 2382, 2420, 2421, 2445, 2446, 2451, 2452, 2453, 2458, 2459, 2460, 2461, 2464, 2465, 2466, 2467, 2468, 2472, 2474, 2476, 2478, 2481, 2482, 2492, 2493, 2494, 2532, 2534, 2535, 2536, 2537, 2538, 2539, 2540, 2543, 2552, 2553, 2554, 2556, 2557, 2558, 2559, 2561, 2562, 2563, 2564, 2568, 2571, 2574, 2575, 2576, 2601, 2630, 2631, 2632, 2633, 2635, 2638, 2639, 2641, 2642, 2643, 2645, 2646, 2647, 2648, 2649, 2650, 2651, 2652, 2653, 2655, 2657, 2659, 2660, 2663, 2664, 2666, 2667, 2668, 2669, 2670, 2671, 2673, 2675, 2702, 2703, 2712, 2713, 2715, 2717, 2718, 2719, 2720, 2721, 2722, 2723, 2724, 2725, 2726, 2738, 2739, 2740, 2741, 2743, 2744, 2745, 2746, 2747, 2748, 2760, 2762, 2763, 2764, 2766, 2767, 2769, 2770, 2771, 2777, 2779, 2780, 2790, 2791, 1001, 1002, 1005, 1007, 1008, 1009, 1010, 1011, 1012, 1013, 1020, 1022, 1026, 1027, 1028, 1029, 1030, 1031, 1032, 1033, 1034, 1035, 1036, 1037, 1038, 1040, 1050, 1053, 1054, 1056, 1057, 1060, 1062, 1063, 1069, 1071, 1072, 1073, 1074, 1075, 1077, 1079, 1080, 1081, 1082, 1083, 1085, 1089, 1092, 1093, 1095, 1096, 1098, 1101, 1102, 1103, 1104, 1105, 1106, 1107, 1108, 1109, 1118, 1119, 1128, 1129, 1144, 1151, 1201, 1220, 1223, 1225, 1226, 1230, 1235, 1236, 1237, 1238, 1240, 1242, 1244, 1245, 1247, 1253, 1254, 1255, 1256, 1257, 1259, 1262, 1266, 1267, 1301, 1330, 1331, 1337, 1338, 1339, 1341, 1342, 1344, 1349, 1351, 1354, 1355, 1360, 1364, 1366, 1368, 1370, 1373, 1375, 1376, 1379, 1420, 1430, 1431, 1432, 1436, 1440, 1450, 1451, 1452, 1453, 1460, 1462, 1463, 1464, 1468, 1469, 1472, 1473, 1474, 1475, 1501, 1503, 1504, 1505, 1506, 1507, 1510, 1515, 1516, 1518, 1519, 1520, 1521, 1523, 1524, 1527, 1529, 1532, 1534, 1535, 1536, 1537, 1538, 1540, 1541, 1543, 1545, 1550, 1560, 1561, 1562, 1564, 1566, 1568, 1569, 1570, 1571, 1581, 1583, 1585, 1588, 1590, 1602, 1603, 1604, 1605, 1606, 1607, 1608, 1609, 1610, 1611, 1612, 1653, 1701, 1702, 1719, 1720, 1721, 1730, 1731, 1740, 1741, 1742, 1746, 1747, 1748, 1749, 1752, 1754, 1756, 1757, 1760, 1770, 1772, 1773, 1775, 1776, 1778, 1801, 1803, 1810, 1821, 1824, 1826, 1830, 1832, 1833, 1834, 1835, 1840, 1841, 1843, 1844, 1845, 1850, 1851, 1852, 1854, 1860, 1862, 1863, 1864, 1867, 1876, 1879, 1880, 1886, 1887, 1890, 1901, 1902, 1904, 1905, 1906, 1907, 1908, 1913, 1915, 1921, 1922, 1923, 1929, 1930, 1931, 1936, 1938, 1940, 1944, 1945, 1949, 1950, 1951, 1952, 1960, 1966, 1969, 1970, 1982, 1983, 1984, 1985, 2018, 2019, 2020, 2021, 2025, 2026, 2030, 2032, 2035, 2038, 2041, 2043, 2045}\n"
          ],
          "name": "stdout"
        }
      ]
    },
    {
      "cell_type": "markdown",
      "metadata": {
        "id": "9KnFkVyr7b-3"
      },
      "source": [
        "Preprocess and drop unneeded instances."
      ]
    },
    {
      "cell_type": "code",
      "metadata": {
        "id": "FsNKmBHrsW3D"
      },
      "source": [
        "def is_city_Boston(zipcode):\n",
        "  \"\"\"zipcode: an integer number which is the zipcode\"\"\"\n",
        "  \"\"\"return true if it is within city of Boston; false otherwise\"\"\"\n",
        "  zip = [2108, 2109, 2110, 2111, 2112, 2113, 2114, 2115, 2116, 2117, 2118, 2119, 2120, 2121, 2122, 2123, \n",
        "         2124, 2125, 2126, 2127, 2128, 2129, 2130, 2131, 2132, 2133, 2134, 2135, 2136, 2137, 2163,\n",
        "         2196, 2199, 2201, 2203, 2204, 2205, 2206, 2210, 2211, 2212, 2215, 2217, 2222, 2241, 2266, \n",
        "         2283, 2284, 2293, 2297, 2298]\n",
        "  if zipcode in zip:\n",
        "    return 1\n",
        "  return 0"
      ],
      "execution_count": null,
      "outputs": []
    },
    {
      "cell_type": "code",
      "metadata": {
        "colab": {
          "base_uri": "https://localhost:8080/"
        },
        "id": "tSDNdd1zWei2",
        "outputId": "879211b3-7921-47fe-a25a-332712e6744c"
      },
      "source": [
        "all_prim_types = set(df['prim_type'].to_list())\n",
        "print(all_prim_types)"
      ],
      "execution_count": null,
      "outputs": [
        {
          "output_type": "stream",
          "text": [
            "{'Fruit & Vegetable Markets', 'Winter Markets', 'Department Stores (Except Discount Dept Stores)', 'Meat Markets', 'Fish & Seafood Markets', '452990', 'Supermarkets/Other Grocery (Exc Convenience) Strs', 'Farmers Markets', 'Warehouse Clubs & Supercenters', 'All Other Specialty Food Stores', 'Convenience Stores', 'Pharmacies & Drug Stores'}\n"
          ],
          "name": "stdout"
        }
      ]
    },
    {
      "cell_type": "markdown",
      "metadata": {
        "id": "vC6fG3uCgq0u"
      },
      "source": [
        "The final data type should be:\n",
        "\n",
        "'name', 'type', 'address', 'zip', 'lat', 'lon'"
      ]
    },
    {
      "cell_type": "code",
      "metadata": {
        "colab": {
          "base_uri": "https://localhost:8080/",
          "height": 204
        },
        "id": "KSC9mbykgkpF",
        "outputId": "5d7b0dca-b58b-4cc2-8168-e7fd9535b8c5"
      },
      "source": [
        "columns_drop = ['objectid', 'municipal', 'prim_type']\n",
        "df = df.drop(columns = columns_drop)\n",
        "df = df.rename(columns = {'zipcode':'zip', 'latitude':'lat', 'longitude':'lon'})\n",
        "df.insert(1, 'type', 'grocery')\n",
        "df.head(5)"
      ],
      "execution_count": null,
      "outputs": [
        {
          "output_type": "execute_result",
          "data": {
            "text/html": [
              "<div>\n",
              "<style scoped>\n",
              "    .dataframe tbody tr th:only-of-type {\n",
              "        vertical-align: middle;\n",
              "    }\n",
              "\n",
              "    .dataframe tbody tr th {\n",
              "        vertical-align: top;\n",
              "    }\n",
              "\n",
              "    .dataframe thead th {\n",
              "        text-align: right;\n",
              "    }\n",
              "</style>\n",
              "<table border=\"1\" class=\"dataframe\">\n",
              "  <thead>\n",
              "    <tr style=\"text-align: right;\">\n",
              "      <th></th>\n",
              "      <th>name</th>\n",
              "      <th>type</th>\n",
              "      <th>address</th>\n",
              "      <th>zip</th>\n",
              "      <th>lat</th>\n",
              "      <th>lon</th>\n",
              "    </tr>\n",
              "  </thead>\n",
              "  <tbody>\n",
              "    <tr>\n",
              "      <th>0</th>\n",
              "      <td>7-Eleven</td>\n",
              "      <td>grocery</td>\n",
              "      <td>462 Washington St</td>\n",
              "      <td>2135</td>\n",
              "      <td>42.348527</td>\n",
              "      <td>-71.158960</td>\n",
              "    </tr>\n",
              "    <tr>\n",
              "      <th>1</th>\n",
              "      <td>7-Eleven</td>\n",
              "      <td>grocery</td>\n",
              "      <td>131 Middlesex Tpke</td>\n",
              "      <td>1803</td>\n",
              "      <td>42.487965</td>\n",
              "      <td>-71.221743</td>\n",
              "    </tr>\n",
              "    <tr>\n",
              "      <th>2</th>\n",
              "      <td>7-Eleven</td>\n",
              "      <td>grocery</td>\n",
              "      <td>226 Winthrop Ave</td>\n",
              "      <td>1843</td>\n",
              "      <td>42.686019</td>\n",
              "      <td>-71.139769</td>\n",
              "    </tr>\n",
              "    <tr>\n",
              "      <th>3</th>\n",
              "      <td>7-Eleven</td>\n",
              "      <td>grocery</td>\n",
              "      <td>1693 Route 6</td>\n",
              "      <td>2726</td>\n",
              "      <td>41.754381</td>\n",
              "      <td>-71.151866</td>\n",
              "    </tr>\n",
              "    <tr>\n",
              "      <th>4</th>\n",
              "      <td>7-Eleven</td>\n",
              "      <td>grocery</td>\n",
              "      <td>226 Broadway</td>\n",
              "      <td>2780</td>\n",
              "      <td>41.920467</td>\n",
              "      <td>-71.091320</td>\n",
              "    </tr>\n",
              "  </tbody>\n",
              "</table>\n",
              "</div>"
            ],
            "text/plain": [
              "       name     type             address   zip        lat        lon\n",
              "0  7-Eleven  grocery   462 Washington St  2135  42.348527 -71.158960\n",
              "1  7-Eleven  grocery  131 Middlesex Tpke  1803  42.487965 -71.221743\n",
              "2  7-Eleven  grocery    226 Winthrop Ave  1843  42.686019 -71.139769\n",
              "3  7-Eleven  grocery        1693 Route 6  2726  41.754381 -71.151866\n",
              "4  7-Eleven  grocery        226 Broadway  2780  41.920467 -71.091320"
            ]
          },
          "metadata": {
            "tags": []
          },
          "execution_count": 11
        }
      ]
    },
    {
      "cell_type": "markdown",
      "metadata": {
        "id": "pAwbueIbizMK"
      },
      "source": [
        "#Boston Business:\n",
        "Load dataset:"
      ]
    },
    {
      "cell_type": "code",
      "metadata": {
        "colab": {
          "base_uri": "https://localhost:8080/",
          "height": 332
        },
        "id": "MYAWpOxLvuR0",
        "outputId": "a78d9d68-fe38-4cd3-96b8-cb95fca76143"
      },
      "source": [
        "# do the last dataset\n",
        "mdf = pd.read_excel(merged)\n",
        "mdf.head(3)"
      ],
      "execution_count": null,
      "outputs": [
        {
          "output_type": "execute_result",
          "data": {
            "text/html": [
              "<div>\n",
              "<style scoped>\n",
              "    .dataframe tbody tr th:only-of-type {\n",
              "        vertical-align: middle;\n",
              "    }\n",
              "\n",
              "    .dataframe tbody tr th {\n",
              "        vertical-align: top;\n",
              "    }\n",
              "\n",
              "    .dataframe thead th {\n",
              "        text-align: right;\n",
              "    }\n",
              "</style>\n",
              "<table border=\"1\" class=\"dataframe\">\n",
              "  <thead>\n",
              "    <tr style=\"text-align: right;\">\n",
              "      <th></th>\n",
              "      <th>Unnamed: 0</th>\n",
              "      <th>LAT(Bing)</th>\n",
              "      <th>LON(Bing)</th>\n",
              "      <th>ADDRESS_LINE(Bing)</th>\n",
              "      <th>BING_BUSINESS_NAME</th>\n",
              "      <th>BING_BUSINESS_TYPE</th>\n",
              "      <th>BING_BUSINESS_OTHER_TYPES</th>\n",
              "      <th>BING_FULL_ADDRESS</th>\n",
              "      <th>BING_LOCALITY</th>\n",
              "      <th>BING_ZIP_CODES</th>\n",
              "      <th>Google_place_id</th>\n",
              "      <th>Google_lat</th>\n",
              "      <th>Google_lon</th>\n",
              "      <th>Google_Business_name</th>\n",
              "      <th>Google_vicinity</th>\n",
              "      <th>Google_business_status</th>\n",
              "      <th>Google_business_types</th>\n",
              "      <th>Google_opening_hours</th>\n",
              "      <th>Google_price_level</th>\n",
              "      <th>Google_rating</th>\n",
              "      <th>Google_user_ratings_total</th>\n",
              "      <th>Google_reference</th>\n",
              "      <th>Google_viewport</th>\n",
              "      <th>Google_Zips</th>\n",
              "      <th>H distance</th>\n",
              "      <th>Fuzzy Similarity</th>\n",
              "      <th>Yelp_business_name</th>\n",
              "      <th>Yelp_categories</th>\n",
              "      <th>Yelp_id</th>\n",
              "      <th>Yelp_is_closed</th>\n",
              "      <th>Yelp_latitude</th>\n",
              "      <th>Yelp_locality</th>\n",
              "      <th>Yelp_longitude</th>\n",
              "      <th>Yelp_phone</th>\n",
              "      <th>Yelp_price</th>\n",
              "      <th>Yelp_rating</th>\n",
              "      <th>Yelp_review_count</th>\n",
              "      <th>Yelp_street_address</th>\n",
              "      <th>Yelp_Zip_Codes</th>\n",
              "      <th>UUID</th>\n",
              "      <th>All_addresses</th>\n",
              "      <th>All_Zips</th>\n",
              "      <th>All_Lat</th>\n",
              "      <th>All_Lon</th>\n",
              "      <th>locationName(Yellowpages)</th>\n",
              "      <th>Yellowpages_categories</th>\n",
              "      <th>Yellowpages_locationAddress</th>\n",
              "      <th>Yellowpages_locationCity</th>\n",
              "      <th>Yellowpages_locationState</th>\n",
              "      <th>Yellowpages_locationZip</th>\n",
              "      <th>Yellowpages_locationPhone</th>\n",
              "      <th>Yellowpages_openTime</th>\n",
              "      <th>Years In Business(Yellowpages)</th>\n",
              "      <th>Final_addresses</th>\n",
              "      <th>Final_Zips</th>\n",
              "      <th>Final_Lon</th>\n",
              "      <th>Final_Lat</th>\n",
              "    </tr>\n",
              "  </thead>\n",
              "  <tbody>\n",
              "    <tr>\n",
              "      <th>0</th>\n",
              "      <td>0</td>\n",
              "      <td>42.342962</td>\n",
              "      <td>-71.068945</td>\n",
              "      <td>278 Shawmut Ave</td>\n",
              "      <td>Franklin Cafe</td>\n",
              "      <td>Café</td>\n",
              "      <td>['Food and Drink', 'Bars', 'Restaurants', 'Cui...</td>\n",
              "      <td>278 Shawmut Ave, Boston, MA 02118, US</td>\n",
              "      <td>Boston</td>\n",
              "      <td>2118.0</td>\n",
              "      <td>ChIJt-MjhxN644kRFgBWz_vPOkM</td>\n",
              "      <td>42.342915</td>\n",
              "      <td>-71.068979</td>\n",
              "      <td>Franklin Cafe</td>\n",
              "      <td>278 Shawmut Avenue, Boston</td>\n",
              "      <td>CLOSED_TEMPORARILY</td>\n",
              "      <td>['bar', 'restaurant', 'food', 'point_of_intere...</td>\n",
              "      <td>NaN</td>\n",
              "      <td>2.0</td>\n",
              "      <td>4.5</td>\n",
              "      <td>225.0</td>\n",
              "      <td>ChIJt-MjhxN644kRFgBWz_vPOkM</td>\n",
              "      <td>{'northeast': {'lat': 42.3443437802915, 'lng':...</td>\n",
              "      <td>2118.0</td>\n",
              "      <td>0.002410</td>\n",
              "      <td>100.0</td>\n",
              "      <td>Franklin Cafe</td>\n",
              "      <td>['Lounges', 'American (New)']</td>\n",
              "      <td>fmw_0vST7GjdibObHWLOuQ</td>\n",
              "      <td>0.0</td>\n",
              "      <td>42.342910</td>\n",
              "      <td>Boston, MA 02118</td>\n",
              "      <td>-71.068950</td>\n",
              "      <td>(617) 350-0010</td>\n",
              "      <td>$$</td>\n",
              "      <td>4.0</td>\n",
              "      <td>510.0</td>\n",
              "      <td>278 Shawmut Ave</td>\n",
              "      <td>2118.0</td>\n",
              "      <td>2bd8377e-884a-50aa-a190-ade425fd6ff3</td>\n",
              "      <td>Franklin Cafe</td>\n",
              "      <td>2118.0</td>\n",
              "      <td>42.342915</td>\n",
              "      <td>-71.068979</td>\n",
              "      <td>Franklin Cafe</td>\n",
              "      <td>['Restaurants', 'American Restaurants', 'Bar &amp;...</td>\n",
              "      <td>278 Shawmut Ave</td>\n",
              "      <td>Boston</td>\n",
              "      <td>MA</td>\n",
              "      <td>2118.0</td>\n",
              "      <td>(617) 350-0010</td>\n",
              "      <td>5:00 pm - 10:30 pm</td>\n",
              "      <td>24.0</td>\n",
              "      <td>Franklin Cafe</td>\n",
              "      <td>2118</td>\n",
              "      <td>-71.068979</td>\n",
              "      <td>42.342915</td>\n",
              "    </tr>\n",
              "    <tr>\n",
              "      <th>1</th>\n",
              "      <td>1</td>\n",
              "      <td>42.342103</td>\n",
              "      <td>-71.070354</td>\n",
              "      <td>314 Shawmut Ave</td>\n",
              "      <td>South End Buttery</td>\n",
              "      <td>Bakeries</td>\n",
              "      <td>['Food and Drink', 'Bars', 'Restaurants', 'San...</td>\n",
              "      <td>314 Shawmut Ave, Boston, MA 02118, US</td>\n",
              "      <td>Boston</td>\n",
              "      <td>2118.0</td>\n",
              "      <td>ChIJZcElp3J644kRiDPnMMAYfbQ</td>\n",
              "      <td>42.342101</td>\n",
              "      <td>-71.070373</td>\n",
              "      <td>South End Buttery</td>\n",
              "      <td>314 Shawmut Avenue, Boston</td>\n",
              "      <td>OPERATIONAL</td>\n",
              "      <td>['restaurant', 'cafe', 'bar', 'food', 'point_o...</td>\n",
              "      <td>NaN</td>\n",
              "      <td>2.0</td>\n",
              "      <td>4.3</td>\n",
              "      <td>736.0</td>\n",
              "      <td>ChIJZcElp3J644kRiDPnMMAYfbQ</td>\n",
              "      <td>{'northeast': {'lat': 42.3435140302915, 'lng':...</td>\n",
              "      <td>2118.0</td>\n",
              "      <td>0.006104</td>\n",
              "      <td>100.0</td>\n",
              "      <td>South End Buttery</td>\n",
              "      <td>['Breakfast &amp; Brunch', 'Bars', 'American (New)']</td>\n",
              "      <td>WR6RXp1I9QmO7-21lsqD8g</td>\n",
              "      <td>0.0</td>\n",
              "      <td>42.342109</td>\n",
              "      <td>Boston, MA 02118</td>\n",
              "      <td>-71.070447</td>\n",
              "      <td>(617) 482-1015</td>\n",
              "      <td>$$</td>\n",
              "      <td>3.5</td>\n",
              "      <td>879.0</td>\n",
              "      <td>314 Shawmut Ave</td>\n",
              "      <td>2118.0</td>\n",
              "      <td>a1b22528-d444-5bbc-9baa-003a0143b608</td>\n",
              "      <td>South End Buttery</td>\n",
              "      <td>2118.0</td>\n",
              "      <td>42.342101</td>\n",
              "      <td>-71.070373</td>\n",
              "      <td>South End Buttery</td>\n",
              "      <td>['Restaurants', 'American Restaurants', 'Take ...</td>\n",
              "      <td>314 Shawmut Ave</td>\n",
              "      <td>Boston</td>\n",
              "      <td>MA</td>\n",
              "      <td>2118.0</td>\n",
              "      <td>(617) 482-1015</td>\n",
              "      <td>6:00 am - 10:00 pm</td>\n",
              "      <td>9.0</td>\n",
              "      <td>South End Buttery</td>\n",
              "      <td>2118</td>\n",
              "      <td>-71.070373</td>\n",
              "      <td>42.342101</td>\n",
              "    </tr>\n",
              "    <tr>\n",
              "      <th>2</th>\n",
              "      <td>2</td>\n",
              "      <td>42.343681</td>\n",
              "      <td>-71.065255</td>\n",
              "      <td>117 E Berkeley St</td>\n",
              "      <td>JJ Foley's Cafe</td>\n",
              "      <td>Bars</td>\n",
              "      <td>['Food and Drink', 'Restaurants', 'Retail', 'H...</td>\n",
              "      <td>117 E Berkeley St, Boston, MA 02118, US</td>\n",
              "      <td>Boston</td>\n",
              "      <td>2118.0</td>\n",
              "      <td>ChIJQw3LKG5644kRevjN1DTlXWE</td>\n",
              "      <td>42.343664</td>\n",
              "      <td>-71.065280</td>\n",
              "      <td>J.J. Foley's Cafe</td>\n",
              "      <td>117 East Berkeley Street, Boston</td>\n",
              "      <td>OPERATIONAL</td>\n",
              "      <td>['bar', 'restaurant', 'food', 'point_of_intere...</td>\n",
              "      <td>NaN</td>\n",
              "      <td>1.0</td>\n",
              "      <td>4.5</td>\n",
              "      <td>440.0</td>\n",
              "      <td>ChIJQw3LKG5644kRevjN1DTlXWE</td>\n",
              "      <td>{'northeast': {'lat': 42.3450521802915, 'lng':...</td>\n",
              "      <td>2118.0</td>\n",
              "      <td>0.005026</td>\n",
              "      <td>100.0</td>\n",
              "      <td>JJ Foleys Cafe</td>\n",
              "      <td>['Irish Pub']</td>\n",
              "      <td>W62OJx5O8xwno-Dn3EuqJw</td>\n",
              "      <td>0.0</td>\n",
              "      <td>42.343689</td>\n",
              "      <td>Boston, MA 02118</td>\n",
              "      <td>-71.065331</td>\n",
              "      <td>(617) 728-9101</td>\n",
              "      <td>$$</td>\n",
              "      <td>4.0</td>\n",
              "      <td>210.0</td>\n",
              "      <td>117 E Berkeley St</td>\n",
              "      <td>2118.0</td>\n",
              "      <td>d0267467-57cf-5c6c-8c0a-fbbe483a857d</td>\n",
              "      <td>J.J. Foley's Cafe</td>\n",
              "      <td>2118.0</td>\n",
              "      <td>42.343664</td>\n",
              "      <td>-71.065280</td>\n",
              "      <td>J.J. Foley's Cafe</td>\n",
              "      <td>['Restaurants', 'Irish Restaurants', 'American...</td>\n",
              "      <td>117 E Berkeley St</td>\n",
              "      <td>Boston</td>\n",
              "      <td>MA</td>\n",
              "      <td>2118.0</td>\n",
              "      <td>(617) 728-9101</td>\n",
              "      <td>11:00 am - 11:00 am</td>\n",
              "      <td>111.0</td>\n",
              "      <td>J.J. Foley's Cafe</td>\n",
              "      <td>2118</td>\n",
              "      <td>-71.065280</td>\n",
              "      <td>42.343664</td>\n",
              "    </tr>\n",
              "  </tbody>\n",
              "</table>\n",
              "</div>"
            ],
            "text/plain": [
              "   Unnamed: 0  LAT(Bing)  LON(Bing)  ... Final_Zips  Final_Lon  Final_Lat\n",
              "0           0  42.342962 -71.068945  ...       2118 -71.068979  42.342915\n",
              "1           1  42.342103 -71.070354  ...       2118 -71.070373  42.342101\n",
              "2           2  42.343681 -71.065255  ...       2118 -71.065280  42.343664\n",
              "\n",
              "[3 rows x 57 columns]"
            ]
          },
          "metadata": {
            "tags": []
          },
          "execution_count": 12
        }
      ]
    },
    {
      "cell_type": "markdown",
      "metadata": {
        "id": "8YOHvPtu7vvR"
      },
      "source": [
        "Drop all the unnecessary infomation. There are too many of them, so I do it in 2 steps."
      ]
    },
    {
      "cell_type": "code",
      "metadata": {
        "colab": {
          "base_uri": "https://localhost:8080/",
          "height": 247
        },
        "id": "EGIBqM65wlNi",
        "outputId": "513069b9-bc8e-42d1-d0df-411090bee320"
      },
      "source": [
        "c_todrop = ['Unnamed: 0', 'BING_BUSINESS_OTHER_TYPES', 'BING_FULL_ADDRESS', 'Google_place_id', 'Google_opening_hours', 'Google_price_level', 'Google_rating', 'Google_user_ratings_total', 'Google_reference',\n",
        "            'Google_viewport', 'H distance', 'Fuzzy Similarity', 'Yelp_id', 'Yelp_phone', 'Yelp_price', 'Yelp_rating', 'Yelp_review_count', 'UUID']\n",
        "mdf = mdf.drop(columns = c_todrop)\n",
        "mdf.head(3)"
      ],
      "execution_count": null,
      "outputs": [
        {
          "output_type": "execute_result",
          "data": {
            "text/html": [
              "<div>\n",
              "<style scoped>\n",
              "    .dataframe tbody tr th:only-of-type {\n",
              "        vertical-align: middle;\n",
              "    }\n",
              "\n",
              "    .dataframe tbody tr th {\n",
              "        vertical-align: top;\n",
              "    }\n",
              "\n",
              "    .dataframe thead th {\n",
              "        text-align: right;\n",
              "    }\n",
              "</style>\n",
              "<table border=\"1\" class=\"dataframe\">\n",
              "  <thead>\n",
              "    <tr style=\"text-align: right;\">\n",
              "      <th></th>\n",
              "      <th>LAT(Bing)</th>\n",
              "      <th>LON(Bing)</th>\n",
              "      <th>ADDRESS_LINE(Bing)</th>\n",
              "      <th>BING_BUSINESS_NAME</th>\n",
              "      <th>BING_BUSINESS_TYPE</th>\n",
              "      <th>BING_LOCALITY</th>\n",
              "      <th>BING_ZIP_CODES</th>\n",
              "      <th>Google_lat</th>\n",
              "      <th>Google_lon</th>\n",
              "      <th>Google_Business_name</th>\n",
              "      <th>Google_vicinity</th>\n",
              "      <th>Google_business_status</th>\n",
              "      <th>Google_business_types</th>\n",
              "      <th>Google_Zips</th>\n",
              "      <th>Yelp_business_name</th>\n",
              "      <th>Yelp_categories</th>\n",
              "      <th>Yelp_is_closed</th>\n",
              "      <th>Yelp_latitude</th>\n",
              "      <th>Yelp_locality</th>\n",
              "      <th>Yelp_longitude</th>\n",
              "      <th>Yelp_street_address</th>\n",
              "      <th>Yelp_Zip_Codes</th>\n",
              "      <th>All_addresses</th>\n",
              "      <th>All_Zips</th>\n",
              "      <th>All_Lat</th>\n",
              "      <th>All_Lon</th>\n",
              "      <th>locationName(Yellowpages)</th>\n",
              "      <th>Yellowpages_categories</th>\n",
              "      <th>Yellowpages_locationAddress</th>\n",
              "      <th>Yellowpages_locationCity</th>\n",
              "      <th>Yellowpages_locationState</th>\n",
              "      <th>Yellowpages_locationZip</th>\n",
              "      <th>Yellowpages_locationPhone</th>\n",
              "      <th>Yellowpages_openTime</th>\n",
              "      <th>Years In Business(Yellowpages)</th>\n",
              "      <th>Final_addresses</th>\n",
              "      <th>Final_Zips</th>\n",
              "      <th>Final_Lon</th>\n",
              "      <th>Final_Lat</th>\n",
              "    </tr>\n",
              "  </thead>\n",
              "  <tbody>\n",
              "    <tr>\n",
              "      <th>0</th>\n",
              "      <td>42.342962</td>\n",
              "      <td>-71.068945</td>\n",
              "      <td>278 Shawmut Ave</td>\n",
              "      <td>Franklin Cafe</td>\n",
              "      <td>Café</td>\n",
              "      <td>Boston</td>\n",
              "      <td>2118.0</td>\n",
              "      <td>42.342915</td>\n",
              "      <td>-71.068979</td>\n",
              "      <td>Franklin Cafe</td>\n",
              "      <td>278 Shawmut Avenue, Boston</td>\n",
              "      <td>CLOSED_TEMPORARILY</td>\n",
              "      <td>['bar', 'restaurant', 'food', 'point_of_intere...</td>\n",
              "      <td>2118.0</td>\n",
              "      <td>Franklin Cafe</td>\n",
              "      <td>['Lounges', 'American (New)']</td>\n",
              "      <td>0.0</td>\n",
              "      <td>42.342910</td>\n",
              "      <td>Boston, MA 02118</td>\n",
              "      <td>-71.068950</td>\n",
              "      <td>278 Shawmut Ave</td>\n",
              "      <td>2118.0</td>\n",
              "      <td>Franklin Cafe</td>\n",
              "      <td>2118.0</td>\n",
              "      <td>42.342915</td>\n",
              "      <td>-71.068979</td>\n",
              "      <td>Franklin Cafe</td>\n",
              "      <td>['Restaurants', 'American Restaurants', 'Bar &amp;...</td>\n",
              "      <td>278 Shawmut Ave</td>\n",
              "      <td>Boston</td>\n",
              "      <td>MA</td>\n",
              "      <td>2118.0</td>\n",
              "      <td>(617) 350-0010</td>\n",
              "      <td>5:00 pm - 10:30 pm</td>\n",
              "      <td>24.0</td>\n",
              "      <td>Franklin Cafe</td>\n",
              "      <td>2118</td>\n",
              "      <td>-71.068979</td>\n",
              "      <td>42.342915</td>\n",
              "    </tr>\n",
              "    <tr>\n",
              "      <th>1</th>\n",
              "      <td>42.342103</td>\n",
              "      <td>-71.070354</td>\n",
              "      <td>314 Shawmut Ave</td>\n",
              "      <td>South End Buttery</td>\n",
              "      <td>Bakeries</td>\n",
              "      <td>Boston</td>\n",
              "      <td>2118.0</td>\n",
              "      <td>42.342101</td>\n",
              "      <td>-71.070373</td>\n",
              "      <td>South End Buttery</td>\n",
              "      <td>314 Shawmut Avenue, Boston</td>\n",
              "      <td>OPERATIONAL</td>\n",
              "      <td>['restaurant', 'cafe', 'bar', 'food', 'point_o...</td>\n",
              "      <td>2118.0</td>\n",
              "      <td>South End Buttery</td>\n",
              "      <td>['Breakfast &amp; Brunch', 'Bars', 'American (New)']</td>\n",
              "      <td>0.0</td>\n",
              "      <td>42.342109</td>\n",
              "      <td>Boston, MA 02118</td>\n",
              "      <td>-71.070447</td>\n",
              "      <td>314 Shawmut Ave</td>\n",
              "      <td>2118.0</td>\n",
              "      <td>South End Buttery</td>\n",
              "      <td>2118.0</td>\n",
              "      <td>42.342101</td>\n",
              "      <td>-71.070373</td>\n",
              "      <td>South End Buttery</td>\n",
              "      <td>['Restaurants', 'American Restaurants', 'Take ...</td>\n",
              "      <td>314 Shawmut Ave</td>\n",
              "      <td>Boston</td>\n",
              "      <td>MA</td>\n",
              "      <td>2118.0</td>\n",
              "      <td>(617) 482-1015</td>\n",
              "      <td>6:00 am - 10:00 pm</td>\n",
              "      <td>9.0</td>\n",
              "      <td>South End Buttery</td>\n",
              "      <td>2118</td>\n",
              "      <td>-71.070373</td>\n",
              "      <td>42.342101</td>\n",
              "    </tr>\n",
              "    <tr>\n",
              "      <th>2</th>\n",
              "      <td>42.343681</td>\n",
              "      <td>-71.065255</td>\n",
              "      <td>117 E Berkeley St</td>\n",
              "      <td>JJ Foley's Cafe</td>\n",
              "      <td>Bars</td>\n",
              "      <td>Boston</td>\n",
              "      <td>2118.0</td>\n",
              "      <td>42.343664</td>\n",
              "      <td>-71.065280</td>\n",
              "      <td>J.J. Foley's Cafe</td>\n",
              "      <td>117 East Berkeley Street, Boston</td>\n",
              "      <td>OPERATIONAL</td>\n",
              "      <td>['bar', 'restaurant', 'food', 'point_of_intere...</td>\n",
              "      <td>2118.0</td>\n",
              "      <td>JJ Foleys Cafe</td>\n",
              "      <td>['Irish Pub']</td>\n",
              "      <td>0.0</td>\n",
              "      <td>42.343689</td>\n",
              "      <td>Boston, MA 02118</td>\n",
              "      <td>-71.065331</td>\n",
              "      <td>117 E Berkeley St</td>\n",
              "      <td>2118.0</td>\n",
              "      <td>J.J. Foley's Cafe</td>\n",
              "      <td>2118.0</td>\n",
              "      <td>42.343664</td>\n",
              "      <td>-71.065280</td>\n",
              "      <td>J.J. Foley's Cafe</td>\n",
              "      <td>['Restaurants', 'Irish Restaurants', 'American...</td>\n",
              "      <td>117 E Berkeley St</td>\n",
              "      <td>Boston</td>\n",
              "      <td>MA</td>\n",
              "      <td>2118.0</td>\n",
              "      <td>(617) 728-9101</td>\n",
              "      <td>11:00 am - 11:00 am</td>\n",
              "      <td>111.0</td>\n",
              "      <td>J.J. Foley's Cafe</td>\n",
              "      <td>2118</td>\n",
              "      <td>-71.065280</td>\n",
              "      <td>42.343664</td>\n",
              "    </tr>\n",
              "  </tbody>\n",
              "</table>\n",
              "</div>"
            ],
            "text/plain": [
              "   LAT(Bing)  LON(Bing) ADDRESS_LINE(Bing)  ... Final_Zips  Final_Lon  Final_Lat\n",
              "0  42.342962 -71.068945    278 Shawmut Ave  ...       2118 -71.068979  42.342915\n",
              "1  42.342103 -71.070354    314 Shawmut Ave  ...       2118 -71.070373  42.342101\n",
              "2  42.343681 -71.065255  117 E Berkeley St  ...       2118 -71.065280  42.343664\n",
              "\n",
              "[3 rows x 39 columns]"
            ]
          },
          "metadata": {
            "tags": []
          },
          "execution_count": 13
        }
      ]
    },
    {
      "cell_type": "code",
      "metadata": {
        "colab": {
          "base_uri": "https://localhost:8080/",
          "height": 230
        },
        "id": "lJRfZzThyVlL",
        "outputId": "ca323907-ed7b-4767-f1e7-f7aff086cd23"
      },
      "source": [
        "c_todrop = ['All_addresses', 'All_Zips', 'All_Lat', 'All_Lon', 'locationName(Yellowpages)', 'Yellowpages_categories', 'Yellowpages_locationAddress', 'Yellowpages_locationCity', 'Yellowpages_locationState',\n",
        "            'Yellowpages_locationZip', 'Yellowpages_locationPhone', 'Yellowpages_openTime', 'Years In Business(Yellowpages)']\n",
        "mdf = mdf.drop(columns = c_todrop)\n",
        "mdf.head(3)"
      ],
      "execution_count": null,
      "outputs": [
        {
          "output_type": "execute_result",
          "data": {
            "text/html": [
              "<div>\n",
              "<style scoped>\n",
              "    .dataframe tbody tr th:only-of-type {\n",
              "        vertical-align: middle;\n",
              "    }\n",
              "\n",
              "    .dataframe tbody tr th {\n",
              "        vertical-align: top;\n",
              "    }\n",
              "\n",
              "    .dataframe thead th {\n",
              "        text-align: right;\n",
              "    }\n",
              "</style>\n",
              "<table border=\"1\" class=\"dataframe\">\n",
              "  <thead>\n",
              "    <tr style=\"text-align: right;\">\n",
              "      <th></th>\n",
              "      <th>LAT(Bing)</th>\n",
              "      <th>LON(Bing)</th>\n",
              "      <th>ADDRESS_LINE(Bing)</th>\n",
              "      <th>BING_BUSINESS_NAME</th>\n",
              "      <th>BING_BUSINESS_TYPE</th>\n",
              "      <th>BING_LOCALITY</th>\n",
              "      <th>BING_ZIP_CODES</th>\n",
              "      <th>Google_lat</th>\n",
              "      <th>Google_lon</th>\n",
              "      <th>Google_Business_name</th>\n",
              "      <th>Google_vicinity</th>\n",
              "      <th>Google_business_status</th>\n",
              "      <th>Google_business_types</th>\n",
              "      <th>Google_Zips</th>\n",
              "      <th>Yelp_business_name</th>\n",
              "      <th>Yelp_categories</th>\n",
              "      <th>Yelp_is_closed</th>\n",
              "      <th>Yelp_latitude</th>\n",
              "      <th>Yelp_locality</th>\n",
              "      <th>Yelp_longitude</th>\n",
              "      <th>Yelp_street_address</th>\n",
              "      <th>Yelp_Zip_Codes</th>\n",
              "      <th>Final_addresses</th>\n",
              "      <th>Final_Zips</th>\n",
              "      <th>Final_Lon</th>\n",
              "      <th>Final_Lat</th>\n",
              "    </tr>\n",
              "  </thead>\n",
              "  <tbody>\n",
              "    <tr>\n",
              "      <th>0</th>\n",
              "      <td>42.342962</td>\n",
              "      <td>-71.068945</td>\n",
              "      <td>278 Shawmut Ave</td>\n",
              "      <td>Franklin Cafe</td>\n",
              "      <td>Café</td>\n",
              "      <td>Boston</td>\n",
              "      <td>2118.0</td>\n",
              "      <td>42.342915</td>\n",
              "      <td>-71.068979</td>\n",
              "      <td>Franklin Cafe</td>\n",
              "      <td>278 Shawmut Avenue, Boston</td>\n",
              "      <td>CLOSED_TEMPORARILY</td>\n",
              "      <td>['bar', 'restaurant', 'food', 'point_of_intere...</td>\n",
              "      <td>2118.0</td>\n",
              "      <td>Franklin Cafe</td>\n",
              "      <td>['Lounges', 'American (New)']</td>\n",
              "      <td>0.0</td>\n",
              "      <td>42.342910</td>\n",
              "      <td>Boston, MA 02118</td>\n",
              "      <td>-71.068950</td>\n",
              "      <td>278 Shawmut Ave</td>\n",
              "      <td>2118.0</td>\n",
              "      <td>Franklin Cafe</td>\n",
              "      <td>2118</td>\n",
              "      <td>-71.068979</td>\n",
              "      <td>42.342915</td>\n",
              "    </tr>\n",
              "    <tr>\n",
              "      <th>1</th>\n",
              "      <td>42.342103</td>\n",
              "      <td>-71.070354</td>\n",
              "      <td>314 Shawmut Ave</td>\n",
              "      <td>South End Buttery</td>\n",
              "      <td>Bakeries</td>\n",
              "      <td>Boston</td>\n",
              "      <td>2118.0</td>\n",
              "      <td>42.342101</td>\n",
              "      <td>-71.070373</td>\n",
              "      <td>South End Buttery</td>\n",
              "      <td>314 Shawmut Avenue, Boston</td>\n",
              "      <td>OPERATIONAL</td>\n",
              "      <td>['restaurant', 'cafe', 'bar', 'food', 'point_o...</td>\n",
              "      <td>2118.0</td>\n",
              "      <td>South End Buttery</td>\n",
              "      <td>['Breakfast &amp; Brunch', 'Bars', 'American (New)']</td>\n",
              "      <td>0.0</td>\n",
              "      <td>42.342109</td>\n",
              "      <td>Boston, MA 02118</td>\n",
              "      <td>-71.070447</td>\n",
              "      <td>314 Shawmut Ave</td>\n",
              "      <td>2118.0</td>\n",
              "      <td>South End Buttery</td>\n",
              "      <td>2118</td>\n",
              "      <td>-71.070373</td>\n",
              "      <td>42.342101</td>\n",
              "    </tr>\n",
              "    <tr>\n",
              "      <th>2</th>\n",
              "      <td>42.343681</td>\n",
              "      <td>-71.065255</td>\n",
              "      <td>117 E Berkeley St</td>\n",
              "      <td>JJ Foley's Cafe</td>\n",
              "      <td>Bars</td>\n",
              "      <td>Boston</td>\n",
              "      <td>2118.0</td>\n",
              "      <td>42.343664</td>\n",
              "      <td>-71.065280</td>\n",
              "      <td>J.J. Foley's Cafe</td>\n",
              "      <td>117 East Berkeley Street, Boston</td>\n",
              "      <td>OPERATIONAL</td>\n",
              "      <td>['bar', 'restaurant', 'food', 'point_of_intere...</td>\n",
              "      <td>2118.0</td>\n",
              "      <td>JJ Foleys Cafe</td>\n",
              "      <td>['Irish Pub']</td>\n",
              "      <td>0.0</td>\n",
              "      <td>42.343689</td>\n",
              "      <td>Boston, MA 02118</td>\n",
              "      <td>-71.065331</td>\n",
              "      <td>117 E Berkeley St</td>\n",
              "      <td>2118.0</td>\n",
              "      <td>J.J. Foley's Cafe</td>\n",
              "      <td>2118</td>\n",
              "      <td>-71.065280</td>\n",
              "      <td>42.343664</td>\n",
              "    </tr>\n",
              "  </tbody>\n",
              "</table>\n",
              "</div>"
            ],
            "text/plain": [
              "   LAT(Bing)  LON(Bing) ADDRESS_LINE(Bing)  ... Final_Zips  Final_Lon  Final_Lat\n",
              "0  42.342962 -71.068945    278 Shawmut Ave  ...       2118 -71.068979  42.342915\n",
              "1  42.342103 -71.070354    314 Shawmut Ave  ...       2118 -71.070373  42.342101\n",
              "2  42.343681 -71.065255  117 E Berkeley St  ...       2118 -71.065280  42.343664\n",
              "\n",
              "[3 rows x 26 columns]"
            ]
          },
          "metadata": {
            "tags": []
          },
          "execution_count": 14
        }
      ]
    },
    {
      "cell_type": "markdown",
      "metadata": {
        "id": "81NjS7d_738_"
      },
      "source": [
        "### Find all the business types from Bing"
      ]
    },
    {
      "cell_type": "code",
      "metadata": {
        "colab": {
          "base_uri": "https://localhost:8080/"
        },
        "id": "TAV0--7HzErT",
        "outputId": "13a2b8f3-52fe-49ff-a09a-53468c273ff7"
      },
      "source": [
        "all_bing_business_types = list(set(mdf['BING_BUSINESS_TYPE'].to_list()))\n",
        "all_bing_business_types = all_bing_business_types[1:] # remove the first nan\n",
        "all_bing_business_types.sort()\n",
        "print(all_bing_business_types)"
      ],
      "execution_count": null,
      "outputs": [
        {
          "output_type": "stream",
          "text": [
            "['ATMs', 'Abuse and Addiction Treatment', 'Accounting and Bookkeeping', 'Acupuncturists', 'Adult Education', 'Adult Entertainment', 'Advertising Agencies', 'Afghani Restaurant', 'African Restaurant', 'Air Conditioning Services', 'Airline Ticket Offices', 'Airport Shuttles', 'Airports', 'Alcohol and Drug Treatment Centers', 'Allergists and Immunologists', 'Alternative Medicine', 'Alternative Schools', 'Ambulance and EMS Services', 'American Restaurant', 'Amusement Parks', 'Anesthesiologists', 'Animal Shelters and Humane Societies', 'Animal and Pet Services', 'Antique Stores', 'Apartments', 'Apparel', 'Apparel Accessories', 'Aquariums', 'Armed Forces', 'Art Galleries', 'Art Museums', 'Art Schools', 'Arts and Crafts Supply Stores', 'Arts and Entertainment', 'Assisted Living and Care Services', 'Associations', 'Attractions', 'Audio-Visual Production and Design', 'Audiologists', 'Australian Restaurant', 'Auto Body Shops', 'Auto Detailing Services', 'Auto Maintenance and Repair', 'Auto Parts and Accessories Stores', 'Auto Road Services', 'Auto and Home Insurance', 'Automotive and Vehicle', 'Automotive and Vehicles', 'B2B Advertising', 'B2B Auto Parts', 'B2B Autos and Vehicles', 'B2B Business Services', 'B2B Electronic Equipment', 'B2B Equipment Maintenance and Repair', 'B2B Farms', 'B2B Food Products', 'B2B Fuel Oil', 'B2B Furniture and Housewares', 'B2B Jewelers', 'B2B Office Furniture', 'B2B Promotional Products and Services', 'B2B Restaurant Equipment and Supplies', 'B2B Restaurant Services', 'B2B Rubber and Plastics', 'B2B Scientific Equipment', 'B2B Signage', 'B2B Storage and Transportation', 'B2B Textiles', 'B2B Truck Dealers', 'B2B Truck Repair and Service', 'B2B Vending Machines', 'Baby Supply Stores', 'Bagels', 'Bakeries', 'Banking and Finance', 'Banks and Credit Unions', 'Barbecue', 'Barbers', 'Barbers and Hair Salons', 'Bariatric Medicine', 'Bars', 'Baseball', 'Basketball', 'Beaches', 'Beauty Salons', 'Beauty Supply Stores', 'Beauty and Spa', 'Bed and Breakfasts', 'Bedding and Bath Stores', 'Bicycle Shops', 'Boat and Yacht Dealers', 'Book Publishers', 'Bookstores', 'Botanical Gardens', 'Boutique Stores', 'Bowling', 'Brake Service and Repair', 'Brazilian Restaurant', 'Breakfast', 'Breweries', 'Bridal Wear Stores', 'British Restaurant', 'Brokers', 'Buffet', 'Bus Stations', 'Buses and Charters', 'Business Brokers', 'Business Centers', 'Business Consultants', 'Business Management Services', 'Business Records Storage and Management', 'Business-to-Business', 'Butcher Shop', 'CD and Record Stores', 'Cable and Satellite Television Services', 'Café', 'Cajun and Creole Restaurant', 'Camera Shops', 'Camps', 'Cancer Treatment Centers', 'Candy and Confectionery Stores', 'Cantonese Restaurant', 'Car Rentals', 'Car Washes', 'Car and Limousine Services', 'Cardiologists', 'Cargo and Freight Services', 'Caribbean Restaurant', 'Cars and Trucks', 'Cash Registers and Supplies', 'Casinos', 'Casting, Molding and Machining', 'Catering', 'Cemeteries', 'Chambers of Commerce', 'Charitable Organizations', 'Charter Schools', 'Cheese Shops', \"Children's Clothing Stores\", 'Chinese Restaurant', 'Chiropractors', 'Churches', 'Cigar and Tobacco Shops', 'Cinema', 'Cleaning Services', 'Clinical Laboratories', 'Cocktail Lounges', 'Coffee Houses', 'Collectibles Stores', 'Colleges and Universities', 'Comic Book Stores', 'Commercial Printers', 'Community Centers', 'Community and Junior Colleges', 'Computer Coaching', 'Computer Service and Repair Stores', 'Condominiums and Townhouses', 'Consulting Engineers', 'Convenience Stores', 'Convention Centers', 'Cooking Schools', 'Cosmetic Dentistry', 'Cosmetics and Perfume Shops', 'Costume Stores', 'Courts', 'Credit and Debt Counseling', 'Creperies', 'Crisis Intervention Services', 'Crops', 'Cruises', 'Currency Exchange Services', 'Dance Groups and Organizations', 'Dance Schools', 'Day Spas', 'Daycares', 'Delicatessens', 'Delivery Service', 'Dental Care', 'Dentists', 'Department Stores', 'Dermatologists', 'Desserts', 'Diagnostic Centers', 'Dialysis Clinics', 'Dim Sum Restaurant', 'Diners', 'Direct Mail Advertising', 'Discount Stores', 'Doctors', 'Doctors and Clinics', 'Donuts', 'Driving Schools', 'Ear, Nose and Throat', 'Eating Disorder Treatment Centers', 'Education', 'Educational Research Institutes', 'Electric Companies', 'Electricity', 'Electronics Service and Repair Stores', 'Electronics Stores', 'Elementary Schools', 'Embassies and Consulates', 'Emergency Rooms', 'Endocrinologists', 'Energy Management and Conservation Consultants', 'Engineering Services', 'Environmental Consultants', 'Ethnic Food Stores', 'Executive Search Consultants', 'Exhaust and Muffler Repair', 'Eye Care', 'Fabric Shops', 'Fairs', 'Family Activity Centers', 'Family and General Practice Physicians', 'Farmers Markets', 'Farming', 'Fast Food', 'Federal Government Offices', 'Ferries', 'Financial and Investment Planning', 'Fire Protection', 'Fish Markets', 'Flea Markets', 'Flooring and Carpet Stores', 'Florists and Gift Shops', 'Food Trucks', 'Food and Drink', 'Formal Wear Stores', 'Foster Care Services', 'Fraternities and Sororities', 'Freight Agents and Brokers', 'French Restaurant', 'Frozen Yogurt', 'Fruit and Vegetable Stands', 'Furniture Stores', 'Game Arcades', 'Gas Stations', 'Gastroenterologists', 'Golf', 'Golf Courses', 'Golf Equipment and Supply Stores', 'Government Services', 'Government and Community', 'Greek Restaurant', 'Grocery', 'Ground Transportation', 'Guest Houses', 'Gynecologists', 'Hair Removal', 'Hair Salons', 'Handbag Stores', 'Hat Stores', 'Haunted Houses', 'Hawaiian Restaurant', 'Health Clinics', 'Health Insurance', 'Health and Beauty Supplies', 'Healthcare', 'Heating Services', 'Helicopter Charters', 'High Schools', 'Hindu Temples', 'Historical Sites', 'Hobby Shops', 'Hockey', 'Holding Companies', 'Holistic Medicine', 'Home Appliance Stores', 'Home Builders', 'Home Décor Stores', 'Home Improvement Stores', 'Home and Garden', 'Homeless Shelters', 'Hospices', 'Hospitals', 'Hostels', 'Hot Dogs', 'Hotels', 'Housewares', 'Housing Authorities', 'Human Resource Services', 'Hunting and Fishing Stores', 'Hypnosis And Hypnotherapy', 'Ice Cream Parlors', 'Importers', 'Indian Restaurant', 'Industrial Cleaning Services', 'Industrial Equipment', 'Infectious Disease Specialists', 'Information Services', 'Information Technology Companies', 'Insurance', 'Internal Medicine Specialists', 'Internet Cafes', 'Internet Services', 'Irish Restaurant', 'Italian Restaurant', 'Jails and Prisons', 'Japanese Restaurant', 'Jazz Clubs', 'Jewelry and Watches Stores', 'Juices', 'Junior and Middle Schools', 'Justice, Public Order, and Safety Activities', 'Karaoke', 'Kitchenware Stores', 'Korean Restaurant', 'Labor Organizations and Unions', 'Language Schools', 'Latin American Restaurant', 'Lawyers', 'Legal Services', 'Libraries', 'Licensing Services', 'Life Insurance', 'Lighting Stores', 'Lingerie Stores', 'Liquor and Wine Stores', 'Live Music', 'Loan Lending Companies', 'Local and State Government Offices', 'Luggage and Travel Accessories Stores', 'Mailing and Shipping Services', 'Malaysian Restaurant', 'Malls and Shopping Centers', 'Manufactured and Mobile Homes', 'Marijuana Stores', 'Marinas', 'Marketing Consultants', 'Martial Arts and Self-Defense', 'Massage', 'Medical Centers', 'Medical Schools', 'Medical Supply and Equipment Stores', 'Mediterranean Restaurant', \"Men's Clothing Stores\", 'Mental Health Services', 'Metals', 'Mexican Restaurant', 'Middle Eastern Restaurant', 'Midwife Services', 'Mills', 'Mobile Phones and Services', 'Modeling Agencies', 'Money Transfer Services', 'Monuments', 'Moroccan Restaurant', 'Mortgage Brokers', 'Mortgage Lenders', 'Mosques', 'Motion Picture Producers and Studios', 'Motor Freight Trucking', 'Motorcycle Dealers', 'Motorcycle Repair and Service', 'Movie Theaters', 'Museums', 'Music Production Services', 'Music Schools', 'Music Stores', 'Musical Instrument Stores', 'Nail Salons', 'National Security Services', 'Natural Gas Companies', 'Naturopathic Physicians', 'Nephrologists', 'Neurologists', 'New Car and Truck Dealers', 'News and Media', 'Newspaper and Magazine Stands', 'Newspapers', 'Nightclubs', 'Non-Governmental Organizations', 'Notaries', 'Nursing Homes and Life Care Facilities', 'Nursing Schools', 'Nutritionists And Dietitians', 'Oil Change Services', 'Oncologists', 'Ophthalmologists', 'Optical Stores', 'Optometrists', 'Oral and Maxillofacial Surgeons', 'Orthodontists', 'Orthopedic Medicine', 'Outdoor Advertising', 'Outdoor Recreational Equipment Stores', 'Outlet Stores', 'Pancakes and Waffles', 'Park and Rides', 'Parking', 'Parks', 'Parks and Recreation', 'Party Supply Stores', 'Party and Event Planning', 'Paternity Tests and Services', 'Pathologists', 'Pawn Shops', 'Payroll Services', 'Pediatric Dentists', 'Pediatricians', 'Peruvian Restaurant', 'Pet Supply Stores', 'Pharmacies', 'Pharmacy Schools', 'Physical Fitness Facilities', 'Physical Therapists', 'Pizzeria', 'Places of Worship', 'Playgrounds', 'Podiatrists', 'Police and Sheriffs', 'Polish Restaurant', 'Pool and Billiards', 'Pool and Spa Supply Stores', 'Portuguese Restaurant', 'Postal Services', 'Poultry Farming', 'Preschool and Kindergarten', 'Pretzels', 'Private Schools', 'Professionals and Services', 'Property Management and Maintenance', 'Psychiatrists', 'Psychologists', 'Psychotherapists', 'Public Transit', 'Publicity Services', 'Publishers and Printers', 'RV Dealers and Rentals', 'RVs and Trailers', 'Racing and Race Tracks', 'Radio Stations', 'Radio and Television Commercials', 'Radiologists', 'Real Estate', 'Real Estate Agents and Brokers', 'Real Estate Services', 'Recreation Centers and Gymnasiums', 'Rehabilitation Services', 'Religion', 'Rental Services', 'Resorts', 'Restaurant Management', 'Restaurants', 'Retail', 'Rheumatologists', 'Rock Climbing', 'Sandwiches', 'School District Offices', 'School and Office Supply Stores', 'Schools', 'Science Schools', 'Scientific Laboratories', 'Scrap Metals', 'Screen Printing', 'Seafood', 'Senior Citizen Services', 'Shanghai Food Restaurant', 'Sheet Metal', 'Shipyards', 'Shoe Repair Services', 'Shoe Stores', 'Shooting Ranges', 'Sichuan Restaurant', 'Sightseeing Tours', 'Skating Rinks', 'Sleep Disorder Centers', 'Snow Sports Stores', 'Soba Udon and Ramen Restaurant', 'Soccer', 'Social Service Organizations', 'Social and Human Services', 'Soul Food Restaurant', 'Southwestern Restaurant', 'Spanish Restaurant', 'Special Education', 'Specialty Education', 'Speech Pathologists', 'Sporting Goods Stores', 'Sports Bars', 'Sports Clubs', 'Sports Medicine', 'Sports and Outdoors', 'Sports and Recreation', 'Sportswear Stores', 'Stadiums and Playing Fields', 'Steak House', 'Stock and Bond Brokers', 'Suicide Prevention Services', 'Sunglass Stores', 'Supermarkets', 'Sushi Restaurant', 'Swimming Pools', 'Swimwear Stores', 'Synagogues', 'Tailors', 'Taiwanese Restaurant', 'Take Away', 'Tanning Salons', 'Tapas', 'Tattoos and Piercings', 'Tax Return Preparation and Filing', 'Taxation', 'Taxi Services', 'Tea Lounges', 'Telecommunications Companies', 'Telephone Services', 'Television Stations', 'Tennis', 'Thai Restaurant', 'Theaters and Performance Venues', 'Thrift Stores', 'Tire Stores', 'Tourist Information', 'Toy and Game Stores', 'Trailer Parts and Accessories Stores', 'Train Stations', 'Transcription Services', 'Travel', 'Travel Accommodations', 'Travel Agencies', 'Trophies and Awards Shops', 'Trucking', 'Trucks and Industrial Vehicles', 'Trusts', 'Turkish Restaurant', 'Tutoring Services', 'Uniform Stores', 'Urgent Care', 'Urologists', 'Used Car and Truck Dealers', 'Utilities', 'Vacation Home Rentals', 'Vegetarian and Vegan Restaurant', 'Veterans Associations', 'Veterinarians', 'Video Stores', 'Vietnamese Restaurant', 'Vitamin and Supplement Stores', 'Vocational and Training Schools', 'Warehouse Club Stores', 'Warehouses', 'Waste Management Services', 'Watch Repair and Services', 'Water Treatment Equipment and Services', 'Water and Sewer Utilities', 'Wig and Hairpiece Stores', 'Wildlife Sanctuaries', 'Wine Bars', 'Wineries', \"Women's Clothing Stores\", 'Yard and Garden Supply Stores', 'Yarn and Knitting Stores', 'Yoga', 'Youth Organizations', 'Zoos']\n"
          ],
          "name": "stdout"
        }
      ]
    },
    {
      "cell_type": "markdown",
      "metadata": {
        "id": "jlv5eM_U8EkL"
      },
      "source": [
        "### Find all the business types from Google"
      ]
    },
    {
      "cell_type": "code",
      "metadata": {
        "colab": {
          "base_uri": "https://localhost:8080/"
        },
        "id": "fHPcC5NA0LmS",
        "outputId": "d663d802-e6b0-40c2-fe96-092431b2b56e"
      },
      "source": [
        "def sum_lists(lists):\n",
        "  \"\"\"lists: a 2d list\"\"\"\n",
        "  \"\"\"return a 1d list\"\"\"\n",
        "  templist = []\n",
        "  for i in lists:\n",
        "    if type(i) != float: # nan\n",
        "      i = re.sub(\"'\", '', i)\n",
        "      i_list = i.strip(\"[]\").split(\", \") # remove both , and whitespace\n",
        "      templist += i_list\n",
        "  return templist\n",
        "\n",
        "temp = mdf['Google_business_types'].to_list()\n",
        "all_google_business_types = list(set(sum_lists(temp)))\n",
        "all_google_business_types.sort()\n",
        "print(all_google_business_types)"
      ],
      "execution_count": null,
      "outputs": [
        {
          "output_type": "stream",
          "text": [
            "['accounting', 'airport', 'aquarium', 'art_gallery', 'atm', 'bakery', 'bank', 'bar', 'beauty_salon', 'bicycle_store', 'book_store', 'bowling_alley', 'bus_station', 'cafe', 'campground', 'car_dealer', 'car_rental', 'car_repair', 'car_wash', 'cemetery', 'church', 'city_hall', 'clothing_store', 'convenience_store', 'courthouse', 'dentist', 'department_store', 'doctor', 'drugstore', 'electrician', 'electronics_store', 'embassy', 'establishment', 'finance', 'fire_station', 'florist', 'food', 'funeral_home', 'furniture_store', 'gas_station', 'general_contractor', 'grocery_or_supermarket', 'gym', 'hair_care', 'hardware_store', 'health', 'hindu_temple', 'home_goods_store', 'hospital', 'insurance_agency', 'jewelry_store', 'laundry', 'lawyer', 'library', 'light_rail_station', 'liquor_store', 'local_government_office', 'locality', 'locksmith', 'lodging', 'meal_delivery', 'meal_takeaway', 'mosque', 'movie_rental', 'movie_theater', 'moving_company', 'museum', 'natural_feature', 'neighborhood', 'night_club', 'painter', 'park', 'parking', 'pet_store', 'pharmacy', 'physiotherapist', 'place_of_worship', 'plumber', 'point_of_interest', 'police', 'political', 'post_office', 'premise', 'primary_school', 'real_estate_agency', 'restaurant', 'roofing_contractor', 'rv_park', 'school', 'secondary_school', 'shoe_store', 'shopping_mall', 'spa', 'stadium', 'storage', 'store', 'subway_station', 'supermarket', 'synagogue', 'tourist_attraction', 'train_station', 'transit_station', 'travel_agency', 'university', 'veterinary_care', 'zoo']\n"
          ],
          "name": "stdout"
        }
      ]
    },
    {
      "cell_type": "markdown",
      "metadata": {
        "id": "gAu-p_jF8I_-"
      },
      "source": [
        "### Find all the business types from Yelp."
      ]
    },
    {
      "cell_type": "code",
      "metadata": {
        "colab": {
          "base_uri": "https://localhost:8080/"
        },
        "id": "5H9i1qi432cj",
        "outputId": "9731d8bb-1ac5-4edf-932c-86f27c4b0b6b"
      },
      "source": [
        "temp = mdf['Yelp_categories'].to_list()\n",
        "all_Yelp_categories\t= list(set(sum_lists(temp)))\n",
        "all_Yelp_categories.sort()\n",
        "print(all_Yelp_categories)"
      ],
      "execution_count": null,
      "outputs": [
        {
          "output_type": "stream",
          "text": [
            "['', '\"Childrens Clothing\"', '\"Childrens Museums\"', '\"Mens Clothing\"', '\"Mens Hair Salons\"', '\"Womens Clothing\"', '& Probates', '3D Printing', 'Acai Bowls', 'Accessories', 'Accountants', 'Acne Treatment', 'Active Life', 'Acupuncture', 'Adult', 'Adult Education', 'Adult Entertainment', 'Advertising', 'Aerial Fitness', 'Aestheticians', 'Afghan', 'African', 'Airlines', 'Airport Lounges', 'Airport Shuttles', 'Airport Terminals', 'Amateur Sports Teams', 'American (New)', 'American (Traditional)', 'Animal Shelters', 'Antiques', 'Apartment Agents', 'Apartments', 'Appliances', 'Appliances & Repair', 'Appraisal Services', 'Aquarium Services', 'Aquariums', 'Arcades', 'Architects', 'Art Classes', 'Art Galleries', 'Art Museums', 'Art Schools', 'Art Space Rentals', 'Art Supplies', 'Arts & Crafts', 'Arts & Entertainment', 'Asian Fusion', 'Assisted Living Facilities', 'Auction Houses', 'Audio/Visual Equipment Rental', 'Audiologist', 'Australian', 'Auto Customization', 'Auto Detailing', 'Auto Glass Services', 'Auto Insurance', 'Auto Loan Providers', 'Auto Parts & Supplies', 'Auto Repair', 'Auto Upholstery', 'Automotive', 'Baby Gear & Furniture', 'Bagels', 'Bakeries', 'Balloon Services', 'Bangladeshi', 'Bankruptcy Law', 'Banks & Credit Unions', 'Barbeque', 'Barbers', 'Barre Classes', 'Bars', 'Bartenders', 'Baseball Fields', 'Basketball Courts', 'Beaches', 'Beauty & Spas', 'Bed & Breakfast', 'Beer', 'Beer Bar', 'Beer Gardens', 'Beer Tours', 'Behavior Analysts', 'Bespoke Clothing', 'Bike Rentals', 'Bike Repair/Maintenance', 'Bike tours', 'Bikes', 'Blood & Plasma Donation Centers', 'Blow Dry/Out Services', 'Boat Charters', 'Boat Tours', 'Boating', 'Body Shops', 'Bookkeepers', 'Bookstores', 'Boot Camps', 'Boudoir Photography', 'Bowling', 'Boxing', 'Brasseries', 'Brazilian', 'Brazilian Jiu-jitsu', 'Breakfast & Brunch', 'Breweries', 'Brewpubs', 'Bridal', 'British', 'Bubble Tea', 'Buffets', 'Building Supplies', 'Burgers', 'Burmese', 'Bus Stations', 'Bus Tours', 'Buses', 'Business Consulting', 'Business Law', 'Butcher', 'CPR Classes', 'Cabaret', 'Cabinetry', 'Cafes', 'Cafeteria', 'Cajun/Creole', 'Calligraphy', 'Cambodian', 'Candy Stores', 'Cannabis Clinics', 'Cannabis Collective', 'Cantonese', 'Car Brokers', 'Car Buyers', 'Car Dealers', 'Car Rental', 'Car Stereo Installation', 'Car Wash', 'Car Window Tinting', 'Cardio Classes', 'Cards & Stationery', 'Career Counseling', 'Caribbean', 'Carousels', 'Carpenters', 'Carpet Cleaning', 'Carpet Installation', 'Carpeting', 'Catalan', 'Caterers', 'Champagne Bars', 'Check Cashing/Pay-day Loans', 'Cheese Shops', 'Cheesesteaks', 'Chicken Shop', 'Chicken Wings', 'Child Care & Day Care', 'Childbirth Education', 'Chimney Sweeps', 'Chinese', 'Chinese Martial Arts', 'Chiropractors', 'Chocolatiers & Shops', 'Christmas Trees', 'Churches', 'Cinema', 'Circuit Training Gyms', 'Climbing', 'Clock Repair', 'Cocktail Bars', 'Coffee & Tea', 'Coffee Roasteries', 'College Counseling', 'Colleges & Universities', 'Colombian', 'Comedy Clubs', 'Comfort Food', 'Comic Books', 'Commercial Real Estate', 'Community Centers', 'Community Gardens', 'Community Service/Non-Profit', 'Computers', 'Concierge Medicine', 'Condominiums', 'Contractors', 'Convenience Stores', 'Cooking Classes', 'Cosmetic Dentists', 'Cosmetic Surgeons', 'Cosmetics & Beauty Supply', 'Cosmetology Schools', 'Costumes', 'Counseling & Mental Health', 'Countertop Installation', 'Couriers & Delivery Services', 'Courthouses', 'Crane Services', 'Cremation Services', 'Creperies', 'Criminal Defense Law', 'Crisis Pregnancy Centers', 'Cryotherapy', 'Cuban', 'Cultural Center', 'Cupcakes', 'Currency Exchange', 'Custom Cakes', 'Customized Merchandise', 'Cycling Classes', 'DJs', 'DUI Law', 'Damage Restoration', 'Dance Clubs', 'Dance Schools', 'Dance Studios', 'Data Recovery', 'Day Spas', 'Decks & Railing', 'Delis', 'Demolition Services', 'Dentists', 'Department Stores', 'Departments of Motor Vehicles', 'Dermatologists', 'Desserts', 'Diagnostic Imaging', 'Diamond Buyers', 'Dietitians', 'Dim Sum', 'Diners', 'Dinner Theater', 'Disability Law', 'Discount Store', 'Distilleries', 'Dive Bars', 'Divorce & Family Law', 'Do-It-Yourself Food', 'Doctors', 'Dog Parks', 'Dog Walkers', 'Dominican', 'Donation Center', 'Donuts', 'Door Sales/Installation', 'Doulas', 'Driving Schools', 'Drugstores', 'Dry Cleaning', 'Drywall Installation & Repair', 'Dumpster Rental', 'Ear Nose & Throat', 'Editorial Services', 'Education', 'Educational Services', 'Egyptian', 'Elder Law', 'Electricians', 'Electronics', 'Electronics Repair', 'Elementary Schools', 'Embroidery & Crochet', 'Emergency Pet Hospital', 'Emergency Rooms', 'Empanadas', 'Employment Agencies', 'Employment Law', 'Endodontists', 'Engraving', 'Environmental Abatement', 'Escape Games', 'Estheticians', 'Ethiopian', 'Event Photography', 'Event Planning & Services', 'Excavation Services', 'Eyebrow Services', 'Eyelash Service', 'Eyewear & Opticians', 'Fabric Stores', 'Falafel', 'Family Practice', 'Farmers Market', 'Fashion', 'Fast Food', 'Fences & Gates', 'Fencing Clubs', 'Ferries', 'Festivals', 'Financial Advising', 'Financial Services', 'Fireplace Services', 'First Aid Classes', 'Fish & Chips', 'Fishing', 'Fitness & Instruction', 'Flooring', 'Floral Designers', 'Florists', 'Flowers & Gifts', 'Fondue', 'Food Banks', 'Food Court', 'Food Delivery Services', 'Food Stands', 'Food Tours', 'Food Trucks', 'Formal Wear', 'Framing', 'French', 'Fruits & Veggies', 'Funeral Services & Cemeteries', 'Fur Clothing', 'Furniture Assembly', 'Furniture Repair', 'Furniture Reupholstery', 'Furniture Stores', 'Game Truck Rental', 'Garage Door Services', 'Gardeners', 'Gas Stations', 'Gastroenterologist', 'Gastropubs', 'Gay Bars', 'Gelato', 'General Dentistry', 'General Litigation', 'Gift Shops', 'Glass & Mirrors', 'Gluten-Free', 'Gold Buyers', 'Golf', 'Golf Lessons', 'Graphic Design', 'Greek', 'Grocery', 'Guest Houses', 'Guitar Stores', 'Gutter Services', 'Gymnastics', 'Gyms', 'Hair Extensions', 'Hair Loss Centers', 'Hair Removal', 'Hair Salons', 'Hair Stylists', 'Haitian', 'Halal', 'Handyman', 'Hardware Stores', 'Hats', 'Hawaiian', 'Head Shops', 'Health & Medical', 'Health Coach', 'Health Insurance Offices', 'Health Markets', 'Health Retreats', 'Hearing Aid Providers', 'Heating & Air Conditioning/HVAC', 'Henna Artists', 'Hepatologists', 'Herbs & Spices', 'Hiking', 'Himalayan/Nepalese', 'Historical Tours', 'Hobby Shops', 'Holiday Decorating Services', 'Home & Rental Insurance', 'Home Automation', 'Home Cleaning', 'Home Decor', 'Home Developers', 'Home Health Care', 'Home Inspectors', 'Home Network Installation', 'Home Theatre Installation', 'Home Window Tinting', 'Hong Kong Style Cafe', 'Hookah Bars', 'Hospitals', 'Hostels', 'Hot Dogs', 'Hot Pot', 'Hotels', 'Hungarian', 'Hunting & Fishing Supplies', 'Hypnosis/Hypnotherapy', 'IT Services & Computer Repair', 'IV Hydration', 'Ice Cream & Frozen Yogurt', 'Immigration Law', 'Imported Food', 'Indian', 'Indoor Landscaping', 'Insurance', 'Interior Design', 'Internal Medicine', 'International Grocery', 'Internet Cafes', 'Internet Service Providers', 'Interval Training Gyms', 'Investing', 'Irish', 'Irish Pub', 'Irrigation', 'Italian', 'Izakaya', 'Japanese', 'Japanese Curry', 'Jazz & Blues', 'Jewelry', 'Jewelry Repair', 'Juice Bars & Smoothies', 'Junk Removal & Hauling', 'Karaoke', 'Karate', 'Kebab', 'Keys & Locksmiths', 'Kickboxing', 'Kids Activities', 'Kids Hair Salons', 'Kitchen & Bath', 'Kitchen Incubators', 'Knife Sharpening', 'Knitting Supplies', 'Korean', 'Kosher', 'LAN Centers', 'Laboratory Testing', 'Lactation Services', 'Landmarks & Historical Buildings', 'Landscape Architects', 'Landscaping', 'Language Schools', 'Laser Eye Surgery/Lasik', 'Laser Hair Removal', 'Latin American', 'Laundromat', 'Laundry Services', 'Lawn Services', 'Lawyers', 'Leather Goods', 'Lebanese', 'Legal Services', 'Libraries', 'Life Coach', 'Life Insurance', 'Lighting Fixtures & Equipment', 'Limos', 'Lingerie', 'Live/Raw Food', 'Local Flavor', 'Local Services', 'Lounges', 'Luggage', 'Macarons', 'Machine & Tool Rental', 'Magicians', 'Mailbox Centers', 'Makeup Artists', 'Malaysian', 'Marinas', 'Marketing', 'Martial Arts', 'Masonry/Concrete', 'Massage', 'Massage Schools', 'Massage Therapy', 'Matchmakers', 'Mattresses', 'Meat Shops', 'Mediators', 'Medical Centers', 'Medical Law', 'Medical Spas', 'Medical Supplies', 'Meditation Centers', 'Mediterranean', 'Metal Fabricators', 'Metro Stations', 'Mexican', 'Middle Eastern', 'Middle Schools & High Schools', 'Mobile Phone Accessories', 'Mobile Phone Repair', 'Mobile Phones', 'Modern European', 'Mongolian', 'Montessori Schools', 'Moroccan', 'Mortgage Brokers', 'Mortgage Lenders', 'Mosques', 'Motorcycle Dealers', 'Motorcycle Repair', 'Mountain Biking', 'Movers', 'Museums', 'Music & DVDs', 'Music Production Services', 'Music Venues', 'Musical Instrument Services', 'Musical Instruments & Teachers', 'Musicians', 'Nail Salons', 'Nail Technicians', 'Nanny Services', 'Naturopathic/Holistic', 'Newspapers & Magazines', 'Nightlife', 'Noodles', 'Notaries', 'Nurseries & Gardening', 'Nutritionists', 'Obstetricians & Gynecologists', 'Occupational Therapy', 'Office Cleaning', 'Office Equipment', 'Oil Change Stations', 'Oncologist', 'Opera & Ballet', 'Ophthalmologists', 'Optometrists', 'Oral Surgeons', 'Organic Stores', 'Orthodontists', 'Orthopedists', 'Orthotics', 'Otologists', 'Outdoor Furniture Stores', 'Outdoor Gear', 'Outlet Stores', 'Packing Services', 'Packing Supplies', 'Paddleboarding', 'Paint Stores', 'Painters', 'Pakistani', 'Pan Asian', 'Parking', 'Parklets', 'Parks', 'Party & Event Planning', 'Party Bus Rentals', 'Party Equipment Rentals', 'Party Supplies', 'Passport & Visa Services', 'Pasta Shops', 'Patisserie/Cake Shop', 'Pawn Shops', 'Payroll Services', 'Pediatric Dentists', 'Pediatricians', 'Performing Arts', 'Perfume', 'Periodontists', 'Permanent Makeup', 'Persian/Iranian', 'Personal Assistants', 'Personal Care Services', 'Personal Chefs', 'Personal Injury Law', 'Personal Shopping', 'Peruvian', 'Pest Control', 'Pet Boarding', 'Pet Groomers', 'Pet Insurance', 'Pet Photography', 'Pet Sitting', 'Pet Stores', 'Pet Training', 'Pet Transportation', 'Pharmacy', 'Photo Booth Rentals', 'Photographers', 'Photography Classes', 'Photography Stores & Services', 'Physical Therapy', 'Piano Bars', 'Piano Services', 'Piano Stores', 'Piercing', 'Pilates', 'Pizza', 'Plastic Surgeons', 'Playgrounds', 'Plumbing', 'Plus Size Fashion', 'Podiatrists', 'Poke', 'Pole Dancing Classes', 'Police Departments', 'Polish', 'Pool Halls', 'Pop-up Shops', 'Portuguese', 'Post Offices', 'Powder Coating', 'Prenatal/Perinatal Care', 'Preschools', 'Pressure Washers', 'Pretzels', 'Print Media', 'Printing Services', 'Private Tutors', 'Process Servers', 'Professional Services', 'Professional Sports Teams', 'Propane', 'Property Management', 'Prosthetics', 'Prosthodontists', 'Psychiatrists', 'Psychic Mediums', 'Psychics', 'Psychologists', 'Public Art', 'Public Markets', 'Public Relations', 'Public Services & Government', 'Public Transportation', 'Pubs', 'Puerto Rican', 'Qi Gong', 'Radio Stations', 'Rafting/Kayaking', 'Ramen', 'Real Estate', 'Real Estate Agents', 'Real Estate Law', 'Real Estate Services', 'Recording & Rehearsal Studios', 'Recycling Center', 'Refinishing Services', 'Reflexology', 'Rehabilitation Center', 'Reiki', 'Religious Organizations', 'Religious Schools', 'Reproductive Health Services', 'Resorts', 'Restaurants', 'Retirement Homes', 'Roadside Assistance', 'Rock Climbing', 'Roofing', 'Rugs', 'Russian', 'Safe Stores', 'Safety Equipment', 'Sailing', 'Salad', 'Salvadoran', 'Sandwiches', 'Saunas', 'Scavenger Hunts', 'Scooter Rentals', 'Scottish', 'Screen Printing', 'Screen Printing/T-Shirt Printing', 'Seafood', 'Seafood Markets', 'Security Services', 'Self Storage', 'Self-defense Classes', 'Session Photography', 'Sewing & Alterations', 'Shades & Blinds', 'Shanghainese', 'Shared Office Spaces', 'Shaved Ice', 'Shipping Centers', 'Shoe Repair', 'Shoe Stores', 'Shopping', 'Shopping Centers', 'Signmaking', 'Skate Parks', 'Skate Shops', 'Skating Rinks', 'Skilled Nursing', 'Skin Care', 'Sleep Specialists', 'Smog Check Stations', 'Snow Removal', 'Soccer', 'Social Clubs', 'Social Security Law', 'Software Development', 'Solar Installation', 'Somali', 'Soul Food', 'Soup', 'Southern', 'Souvenir Shops', 'Spanish', 'Special Education', 'Specialty Food', 'Specialty Schools', 'Sporting Goods', 'Sports Bars', 'Sports Clubs', 'Sports Medicine', 'Sports Wear', 'Spray Tanning', 'Squash', 'Stadiums & Arenas', 'Steakhouses', 'Street Vendors', 'Structural Engineers', 'Stucco Services', 'Summer Camps', 'Sunglasses', 'Sushi Bars', 'Swimming Pools', 'Swimwear', 'Synagogues', 'Szechuan', 'TV Mounting', 'Tableware', 'Tacos', 'Taekwondo', 'Tai Chi', 'Taiwanese', 'Talent Agencies', 'Tanning', 'Tanning Beds', 'Tapas Bars', 'Tapas/Small Plates', 'Tattoo', 'Tattoo Removal', 'Tax Law', 'Tax Services', 'Taxis', 'Tea Rooms', 'Team Building Activities', 'Teeth Whitening', 'Telecommunications', 'Television Service Providers', 'Tenant and Eviction Law', 'Tennis', 'Teppanyaki', 'Test Preparation', 'Tex-Mex', 'Thai', 'Threading Services', 'Thrift Stores', 'Ticket Sales', 'Tiki Bars', 'Tires', 'Tobacco Shops', 'Tours', 'Towing', 'Town Car Service', 'Town Hall', 'Toy Stores', 'Traditional Chinese Medicine', 'Traffic Ticketing Law', 'Train Stations', 'Trainers', 'Trains', 'Trampoline Parks', 'Translation Services', 'Transmission Repair', 'Transportation', 'Travel Agents', 'Travel Services', 'Tree Services', 'Trinidadian', 'Trophy Shops', 'Truck Rental', 'Trusts', 'Turkish', 'Tutoring Centers', 'Uniforms', 'University Housing', 'Unofficial Yelp Events', 'Urgent Care', 'Used', 'Used Bookstore', 'Used Car Dealers', 'Utilities', 'Uzbek', 'Vacation Rentals', 'Valet Services', 'Vape Shops', 'Vegan', 'Vegetarian', 'Vehicle Shipping', 'Vehicle Wraps', 'Venezuelan', 'Venues & Event Spaces', 'Veterinarians', 'Video Game Stores', 'Video/Film Production', 'Videographers', 'Videos & Video Game Rental', 'Vietnamese', 'Vintage & Consignment', 'Vinyl Records', 'Vitamins & Supplements', 'Vocal Coach', 'Vocational & Technical School', 'Waffles', 'Walk-in Clinics', 'Walking Tours', 'Wallpapering', 'Watch Repair', 'Watches', 'Water Delivery', 'Water Heater Installation/Repair', 'Waxing', 'Web Design', 'Wedding Planning', 'Weight Loss Centers', 'Wheel & Rim Repair', 'Whiskey Bars', 'Wigs', 'Wills', 'Window Washing', 'Windows Installation', 'Windshield Installation & Repair', 'Wine & Spirits', 'Wine Bars', 'Wine Tasting Room', 'Wine Tours', 'Wineries', 'Workers Compensation Law', 'Wraps', 'Yelp Events', 'Yoga']\n"
          ],
          "name": "stdout"
        }
      ]
    },
    {
      "cell_type": "markdown",
      "metadata": {
        "id": "Yih1ay6jCAz9"
      },
      "source": [
        "### Manually Build all the dictionaries:"
      ]
    },
    {
      "cell_type": "code",
      "metadata": {
        "id": "Gi84xJJV9xUi"
      },
      "source": [
        "Google_dic = {\n",
        "    'hospital': ['hospital'],\n",
        "    'healthcare': ['dentist', 'doctor', 'drugstore', 'health', 'pharmacy', 'physiotherapist'],\n",
        "    'grocery': ['convenience_store', 'grocery_or_supermarket'],\n",
        "    'supermarket': ['shopping_mall', 'supermarket'],\n",
        "    'park': ['campground', 'park', 'rv_park', 'zoo']\n",
        "}"
      ],
      "execution_count": null,
      "outputs": []
    },
    {
      "cell_type": "code",
      "metadata": {
        "id": "FywCj5WgEc2g"
      },
      "source": [
        "Bing_dic = {\n",
        "    'hospital': ['Emergency Rooms', 'Hospitals', 'Medical Centers', 'Urgent Care'],\n",
        "    'healthcare': ['Abuse and Addiction Treatment', 'Acupuncturists', 'Alcohol and Drug Treatment Centers', \n",
        "                   'Allergists and Immunologists', 'Alternative Medicine', 'Ambulance and EMS Services', \n",
        "                   'Anesthesiologists', 'Assisted Living and Care Services', 'Bariatric Medicine', \n",
        "                   'Cancer Treatment Centers', 'Cardiologists', 'Chiropractors', 'Dental Care', 'Dentists', \n",
        "                   'Dermatologists', 'Diagnostic Centers', 'Dialysis Clinics', 'Doctors', \n",
        "                   'Doctors and Clinics', 'Ear, Nose and Throat', 'Eating Disorder Treatment Centers', \n",
        "                   'Endocrinologists', 'Eye Care', 'Family and General Practice Physicians', \n",
        "                   'Gastroenterologists', 'Gynecologists', 'Health Clinics', 'Healthcare', 'Holistic Medicine',\n",
        "                   'Hospices', 'Hypnosis And Hypnotherapy', 'Infectious Disease Specialists', 'Massage', \n",
        "                   'Medical Supply and Equipment Stores', 'Mental Health Services', 'Naturopathic Physicians', \n",
        "                   'Nephrologists', 'Neurologists', 'Nursing Homes and Life Care Facilities', \n",
        "                   'Nutritionists And Dietitians', 'Oncologists', 'Ophthalmologists', \n",
        "                   'Oral and Maxillofacial Surgeons', 'Orthodontists', 'Orthopedic Medicine', \n",
        "                   'Paternity Tests and Services', 'Pathologists', 'Pediatric Dentists', \n",
        "                   'Pediatricians', 'Pharmacies', 'Physical Therapists', 'Podiatrists', 'Psychiatrists', \n",
        "                   'Psychologists', 'Psychotherapists', 'Radiologists', 'Rehabilitation Services', \n",
        "                   'Rheumatologists', 'Sleep Disorder Centers', 'Speech Pathologists', 'Sports Medicine', \n",
        "                   'Urologists', 'Vitamin and Supplement Stores'],\n",
        "    'grocery': ['Butcher Shop', 'Convenience Stores', 'Ethnic Food Stores', 'Farmers Markets', 'Fish Markets', \n",
        "                'Fruit and Vegetable Stands', 'Grocery'],\n",
        "    'supermarket': ['Flea Markets', 'Malls and Shopping Centers', 'Outlet Stores', 'Supermarkets'],\n",
        "    'park': ['Amusement Parks', 'Beaches', 'Botanical Gardens', 'Camps', 'Park and Rides', \n",
        "                            'Parks', 'Parks and Recreation', 'Playgrounds', 'Zoos']\n",
        "}\n",
        "\n",
        "Yelp_dic = {\n",
        "    'hospital': ['Doctors', 'Emergency Rooms', 'Hospitals', 'Medical Centers', 'Personal Care Services', 'Urgent Care', \n",
        "                 'Walk-in Clinics'],\n",
        "    'healthcare': ['Acne Treatment','Acupuncture', 'Behavior Analysts', 'Blood & Plasma Donation Centers', 'Cannabis Clinics', \n",
        "                   'Chiropractors', 'Concierge Medicine', 'Cosmetic Dentists', 'Cosmetic Surgeons', 'Counseling & Mental Health', 'Crisis Pregnancy Centers', \n",
        "                   'Cryotherapy', 'Dentists', 'Dermatologists', 'Diagnostic Imaging', 'Dietitians', 'Drugstores', 'Ear Nose & Throat', 'Endodontists', \n",
        "                   'General Dentistry', 'Health & Medical', 'Hepatologists', 'Hypnosis/Hypnotherapy', 'Internal Medicine', 'Laboratory Testing',\n",
        "                   'Laser Eye Surgery/Lasik', 'Massage', 'Massage Therapy', 'Medical Supplies', 'Nutritionists', 'Obstetricians & Gynecologists', \n",
        "                   'Occupational Therapy', 'Oncologist', 'Ophthalmologists', 'Optometrists', 'Oral Surgeons', 'Orthodontists', 'Orthopedists', \n",
        "                   'Orthotics', 'Otologists', 'Pediatric Dentists', 'Pediatricians', 'Periodontists', 'Pharmacy', 'Physical Therapy', 'Plastic Surgeons', \n",
        "                   'Podiatrists', 'Prenatal/Perinatal Care', 'Prosthetics', 'Prosthodontists', 'Psychiatrists', 'Psychologists', 'Reflexology', \n",
        "                   'Rehabilitation Center', 'Sports Medicine', 'Traditional Chinese Medicine', 'Vitamins & Supplements'],   \n",
        "    'grocery': ['Butcher', 'Cheese Shops','Chocolatiers & Shops', 'Convenience Stores', 'Farmers Market', 'Fruits & Veggies', 'Gastroenterologist', 'Grocery', \n",
        "                'International Grocery', 'Live/Raw Food', 'Meat Shops', 'Organic Stores', 'Seafood Markets'],\n",
        "    'supermarket': ['Discount Store', 'Outlet Stores', 'Public Markets', 'Shopping', 'Shopping Centers'],\n",
        "    'park': ['Beaches', 'Dog Parks', 'Parklets', 'Parks', 'Playgrounds', 'Skate Parks', 'Trampoline Parks','Baseball Fields', 'Basketball Courts']\n",
        "    }"
      ],
      "execution_count": null,
      "outputs": []
    },
    {
      "cell_type": "markdown",
      "metadata": {
        "id": "GiyheGqGH3hm"
      },
      "source": [
        "### I will use google info first; if it is not available for that entry, I will use Bing; Yelp is the last choice.\n",
        "\n",
        "The final data type should be:\n",
        "\n",
        "'Name', 'type', 'address', 'zip', 'lat', 'lon'\n",
        "\n",
        "*In later experiment, we find there are some inconsistencies of business types from these 3 sources (e.g., they assign quite different types to the same instance). However, those cases are rare. This dataset is provided by the former SPARK! team, and we trust most of the infomation it provides is accurate. "
      ]
    },
    {
      "cell_type": "code",
      "metadata": {
        "id": "cHssFXS7H2Xu"
      },
      "source": [
        "def get_key(value, dic):\n",
        "  \"\"\"value: the unique value in the dictionary\"\"\"\n",
        "  \"\"\"dic: the dictionary\"\"\"\n",
        "  \"\"\"return: the key that contains the value\"\"\"\n",
        "  for key, values in dic.items():\n",
        "    if value in values:\n",
        "      #print(\"key find!\")\n",
        "      return key\n",
        "  return None"
      ],
      "execution_count": null,
      "outputs": []
    },
    {
      "cell_type": "code",
      "metadata": {
        "id": "y92RzDtpJmKn"
      },
      "source": [
        "def process_row(row):\n",
        "  \"\"\"take in a pandas row and return a list with values corresponding to description above\"\"\"\n",
        "  r = []\n",
        "  switch = -1 # 0 for Google, 1 for Bing and 2 for Yelp\n",
        "  label = None\n",
        "  # google\n",
        "  types = row['Google_business_types']\n",
        "  if type(types) != float:\n",
        "    for typ in types:\n",
        "      t = get_key(typ, Google_dic)\n",
        "      if t != None:\n",
        "        label = t\n",
        "        break\n",
        "    if label == None: # not an essential service\n",
        "      return None\n",
        "      #print(\"Google None\")\n",
        "    else:\n",
        "      switch = 0\n",
        "      #print(\"Google!\")\n",
        "  else: # Bing\n",
        "    typ = row['BING_BUSINESS_TYPE']\n",
        "    if type(typ) != float:\n",
        "      label = get_key(typ, Bing_dic)\n",
        "      if label == None: # not an essential service\n",
        "        #print(\"Bing None\")\n",
        "        return None\n",
        "      else:\n",
        "        switch = 1\n",
        "        #print(\"Bing!\")\n",
        "    else: # Yelp\n",
        "      types = row['Yelp_categories'] # it is a string, for strange reason\n",
        "      if type(types) != float:\n",
        "        types = ast.literal_eval(types)\n",
        "        for typename in types:\n",
        "          t = get_key(typename, Yelp_dic)\n",
        "          if t != None:\n",
        "            label = t\n",
        "            break\n",
        "        if label == None: # not an essential service\n",
        "          return None\n",
        "        else:\n",
        "          switch = 2\n",
        "          #print(\"Yelp!\")\n",
        "\n",
        "  if switch == 0: # Google\n",
        "    r.append(row['Google_Business_name']) # name\n",
        "    r.append(label) # type\n",
        "    #print(\"type\")\n",
        "    splited = row['Google_vicinity'].split(',')\n",
        "    #print(\"split\")\n",
        "    r.append(splited[0]) # address\n",
        "    #print(\"address\")\n",
        "    r.append(int(row['Google_Zips'])) # zip\n",
        "    #print(\"zip\")\n",
        "    r.append(row['Google_lat']) # lat\n",
        "    #print(\"lat\")\n",
        "    r.append(row['Google_lon']) # lon\n",
        "    #print(\"lon\")\n",
        "  elif switch == 1: # Bing\n",
        "    r.append(row['BING_BUSINESS_NAME']) # name\n",
        "    r.append(label) # type\n",
        "    #print(\"type\")\n",
        "    r.append(row['ADDRESS_LINE(Bing)']) # address\n",
        "    #print(\"address\")\n",
        "    r.append(int(row['BING_ZIP_CODES'])) # zip\n",
        "    #print(\"zip\")\n",
        "    r.append(row['LAT(Bing)']) # lat\n",
        "    #print(\"lat\")\n",
        "    r.append(row['LON(Bing)']) # lon\n",
        "    #print(\"lon\")\n",
        "  elif switch == 2: # Yelp\n",
        "    r.append(row['Yelp_business_name']) # name\n",
        "    r.append(label) # type\n",
        "    #print(\"type\")\n",
        "    r.append(row['Yelp_street_address']) # address\n",
        "    #print(\"address\")\n",
        "    r.append(int(row['Yelp_Zip_Codes'])) # zip\n",
        "    #print(\"zip\")\n",
        "    r.append(row['Yelp_latitude']) # lat\n",
        "    #print(\"lat\")\n",
        "    r.append(row['Yelp_longitude']) # lon\n",
        "    #print(\"lon\")\n",
        "  else:\n",
        "    return None\n",
        "  return r"
      ],
      "execution_count": null,
      "outputs": []
    },
    {
      "cell_type": "markdown",
      "metadata": {
        "id": "LnDRqqK_9Z6Y"
      },
      "source": [
        "Do some tests:"
      ]
    },
    {
      "cell_type": "code",
      "metadata": {
        "colab": {
          "base_uri": "https://localhost:8080/"
        },
        "id": "z3XmWFAcu686",
        "outputId": "b4652b14-d03a-429b-e95f-ef1a1037e05d"
      },
      "source": [
        "get_key('Seafood Markets', Yelp_dic)"
      ],
      "execution_count": null,
      "outputs": [
        {
          "output_type": "execute_result",
          "data": {
            "application/vnd.google.colaboratory.intrinsic+json": {
              "type": "string"
            },
            "text/plain": [
              "'grocery'"
            ]
          },
          "metadata": {
            "tags": []
          },
          "execution_count": 22
        }
      ]
    },
    {
      "cell_type": "code",
      "metadata": {
        "colab": {
          "base_uri": "https://localhost:8080/"
        },
        "id": "0Z2Xgn4UvhKq",
        "outputId": "d5b4cc65-d679-45e5-8b0c-a5046b562621"
      },
      "source": [
        "tttt = mdf.iloc[0]['Yelp_categories']\n",
        "print(tttt)\n",
        "print(type(tttt))"
      ],
      "execution_count": null,
      "outputs": [
        {
          "output_type": "stream",
          "text": [
            "['Lounges', 'American (New)']\n",
            "<class 'str'>\n"
          ],
          "name": "stdout"
        }
      ]
    },
    {
      "cell_type": "markdown",
      "metadata": {
        "id": "sRTHhKun-WX3"
      },
      "source": [
        "### Extract the useful services from the Business dataset:"
      ]
    },
    {
      "cell_type": "code",
      "metadata": {
        "id": "q9zmx0OKM99g"
      },
      "source": [
        "rows = []\n",
        "for index, row in mdf.iterrows():\n",
        "  r = process_row(row)\n",
        "  if r != None:\n",
        "    rows.append(r)"
      ],
      "execution_count": null,
      "outputs": []
    },
    {
      "cell_type": "code",
      "metadata": {
        "colab": {
          "base_uri": "https://localhost:8080/"
        },
        "id": "8XuUNGjEO8LA",
        "outputId": "d61e5df5-ca61-4b6f-d8fc-051753e55cb0"
      },
      "source": [
        "print(len(rows))"
      ],
      "execution_count": null,
      "outputs": [
        {
          "output_type": "stream",
          "text": [
            "3792\n"
          ],
          "name": "stdout"
        }
      ]
    },
    {
      "cell_type": "markdown",
      "metadata": {
        "id": "juOWYsFR9im4"
      },
      "source": [
        "### Get the result:"
      ]
    },
    {
      "cell_type": "markdown",
      "metadata": {
        "id": "gViGGEmg99BW"
      },
      "source": [
        "Convert the lists into a dataframe:"
      ]
    },
    {
      "cell_type": "code",
      "metadata": {
        "id": "syife60ofcag"
      },
      "source": [
        "df1 = pd.DataFrame(rows, columns = ['name', 'type', 'address', 'zip', 'lat', 'lon'])"
      ],
      "execution_count": null,
      "outputs": []
    },
    {
      "cell_type": "markdown",
      "metadata": {
        "id": "n6RGUjzj9-oP"
      },
      "source": [
        "combine the food retailers and business:"
      ]
    },
    {
      "cell_type": "code",
      "metadata": {
        "id": "y1_IpVvkjHkF"
      },
      "source": [
        "df2 = pd.concat([df, df1], ignore_index=True) # combine 2 dataframes (with same columns)"
      ],
      "execution_count": null,
      "outputs": []
    },
    {
      "cell_type": "code",
      "metadata": {
        "colab": {
          "base_uri": "https://localhost:8080/"
        },
        "id": "-dNucLYxlLif",
        "outputId": "8b77a860-eabe-47c5-b4d4-e0315a18399d"
      },
      "source": [
        "df2.head(5)"
      ],
      "execution_count": null,
      "outputs": [
        {
          "output_type": "execute_result",
          "data": {
            "text/html": [
              "<div>\n",
              "<style scoped>\n",
              "    .dataframe tbody tr th:only-of-type {\n",
              "        vertical-align: middle;\n",
              "    }\n",
              "\n",
              "    .dataframe tbody tr th {\n",
              "        vertical-align: top;\n",
              "    }\n",
              "\n",
              "    .dataframe thead th {\n",
              "        text-align: right;\n",
              "    }\n",
              "</style>\n",
              "<table border=\"1\" class=\"dataframe\">\n",
              "  <thead>\n",
              "    <tr style=\"text-align: right;\">\n",
              "      <th></th>\n",
              "      <th>name</th>\n",
              "      <th>type</th>\n",
              "      <th>address</th>\n",
              "      <th>zip</th>\n",
              "      <th>lat</th>\n",
              "      <th>lon</th>\n",
              "    </tr>\n",
              "  </thead>\n",
              "  <tbody>\n",
              "    <tr>\n",
              "      <th>0</th>\n",
              "      <td>7-Eleven</td>\n",
              "      <td>grocery</td>\n",
              "      <td>462 Washington St</td>\n",
              "      <td>2135</td>\n",
              "      <td>42.348527</td>\n",
              "      <td>-71.158960</td>\n",
              "    </tr>\n",
              "    <tr>\n",
              "      <th>1</th>\n",
              "      <td>7-Eleven</td>\n",
              "      <td>grocery</td>\n",
              "      <td>131 Middlesex Tpke</td>\n",
              "      <td>1803</td>\n",
              "      <td>42.487965</td>\n",
              "      <td>-71.221743</td>\n",
              "    </tr>\n",
              "    <tr>\n",
              "      <th>2</th>\n",
              "      <td>7-Eleven</td>\n",
              "      <td>grocery</td>\n",
              "      <td>226 Winthrop Ave</td>\n",
              "      <td>1843</td>\n",
              "      <td>42.686019</td>\n",
              "      <td>-71.139769</td>\n",
              "    </tr>\n",
              "    <tr>\n",
              "      <th>3</th>\n",
              "      <td>7-Eleven</td>\n",
              "      <td>grocery</td>\n",
              "      <td>1693 Route 6</td>\n",
              "      <td>2726</td>\n",
              "      <td>41.754381</td>\n",
              "      <td>-71.151866</td>\n",
              "    </tr>\n",
              "    <tr>\n",
              "      <th>4</th>\n",
              "      <td>7-Eleven</td>\n",
              "      <td>grocery</td>\n",
              "      <td>226 Broadway</td>\n",
              "      <td>2780</td>\n",
              "      <td>41.920467</td>\n",
              "      <td>-71.091320</td>\n",
              "    </tr>\n",
              "  </tbody>\n",
              "</table>\n",
              "</div>"
            ],
            "text/plain": [
              "       name     type             address   zip        lat        lon\n",
              "0  7-Eleven  grocery   462 Washington St  2135  42.348527 -71.158960\n",
              "1  7-Eleven  grocery  131 Middlesex Tpke  1803  42.487965 -71.221743\n",
              "2  7-Eleven  grocery    226 Winthrop Ave  1843  42.686019 -71.139769\n",
              "3  7-Eleven  grocery        1693 Route 6  2726  41.754381 -71.151866\n",
              "4  7-Eleven  grocery        226 Broadway  2780  41.920467 -71.091320"
            ]
          },
          "metadata": {
            "tags": []
          },
          "execution_count": 28
        }
      ]
    },
    {
      "cell_type": "markdown",
      "metadata": {
        "id": "83sTOxFU97ao"
      },
      "source": [
        "remove those not in Boston City:"
      ]
    },
    {
      "cell_type": "code",
      "metadata": {
        "id": "79zBkNYw65q6"
      },
      "source": [
        "df3 = df2[df2['zip'].map(lambda x: is_city_Boston(x)) == 1]"
      ],
      "execution_count": null,
      "outputs": []
    },
    {
      "cell_type": "code",
      "metadata": {
        "colab": {
          "base_uri": "https://localhost:8080/"
        },
        "id": "tq-4KxL88oSy",
        "outputId": "9e621cbc-1992-41b3-dbc2-f9c28b2dd66f"
      },
      "source": [
        "df3.head(5)"
      ],
      "execution_count": null,
      "outputs": [
        {
          "output_type": "execute_result",
          "data": {
            "text/html": [
              "<div>\n",
              "<style scoped>\n",
              "    .dataframe tbody tr th:only-of-type {\n",
              "        vertical-align: middle;\n",
              "    }\n",
              "\n",
              "    .dataframe tbody tr th {\n",
              "        vertical-align: top;\n",
              "    }\n",
              "\n",
              "    .dataframe thead th {\n",
              "        text-align: right;\n",
              "    }\n",
              "</style>\n",
              "<table border=\"1\" class=\"dataframe\">\n",
              "  <thead>\n",
              "    <tr style=\"text-align: right;\">\n",
              "      <th></th>\n",
              "      <th>name</th>\n",
              "      <th>type</th>\n",
              "      <th>address</th>\n",
              "      <th>zip</th>\n",
              "      <th>lat</th>\n",
              "      <th>lon</th>\n",
              "    </tr>\n",
              "  </thead>\n",
              "  <tbody>\n",
              "    <tr>\n",
              "      <th>0</th>\n",
              "      <td>7-Eleven</td>\n",
              "      <td>grocery</td>\n",
              "      <td>462 Washington St</td>\n",
              "      <td>2135</td>\n",
              "      <td>42.348527</td>\n",
              "      <td>-71.158960</td>\n",
              "    </tr>\n",
              "    <tr>\n",
              "      <th>22</th>\n",
              "      <td>24 Seven</td>\n",
              "      <td>grocery</td>\n",
              "      <td>655 Warren St</td>\n",
              "      <td>2121</td>\n",
              "      <td>42.309813</td>\n",
              "      <td>-71.082883</td>\n",
              "    </tr>\n",
              "    <tr>\n",
              "      <th>23</th>\n",
              "      <td>24 Seven Convenience Store</td>\n",
              "      <td>grocery</td>\n",
              "      <td>655 Warren St</td>\n",
              "      <td>2121</td>\n",
              "      <td>42.309813</td>\n",
              "      <td>-71.082883</td>\n",
              "    </tr>\n",
              "    <tr>\n",
              "      <th>29</th>\n",
              "      <td>Food Land</td>\n",
              "      <td>grocery</td>\n",
              "      <td>199 Adams St</td>\n",
              "      <td>2122</td>\n",
              "      <td>42.302039</td>\n",
              "      <td>-71.060150</td>\n",
              "    </tr>\n",
              "    <tr>\n",
              "      <th>35</th>\n",
              "      <td>660 Corp</td>\n",
              "      <td>grocery</td>\n",
              "      <td>543 Commonwealth Ave</td>\n",
              "      <td>2215</td>\n",
              "      <td>42.349045</td>\n",
              "      <td>-71.097122</td>\n",
              "    </tr>\n",
              "  </tbody>\n",
              "</table>\n",
              "</div>"
            ],
            "text/plain": [
              "                          name     type  ...        lat        lon\n",
              "0                     7-Eleven  grocery  ...  42.348527 -71.158960\n",
              "22                    24 Seven  grocery  ...  42.309813 -71.082883\n",
              "23  24 Seven Convenience Store  grocery  ...  42.309813 -71.082883\n",
              "29                   Food Land  grocery  ...  42.302039 -71.060150\n",
              "35                    660 Corp  grocery  ...  42.349045 -71.097122\n",
              "\n",
              "[5 rows x 6 columns]"
            ]
          },
          "metadata": {
            "tags": []
          },
          "execution_count": 30
        }
      ]
    },
    {
      "cell_type": "markdown",
      "metadata": {
        "id": "NV0cmCTP-7zP"
      },
      "source": [
        "Add the open space:"
      ]
    },
    {
      "cell_type": "code",
      "metadata": {
        "colab": {
          "base_uri": "https://localhost:8080/"
        },
        "id": "CT1n_FUTcder",
        "outputId": "0dee3575-f56f-44ca-d14d-1725489be309"
      },
      "source": [
        "df4 = pd.concat([df3, osdf], ignore_index=True)\n",
        "df4.head()"
      ],
      "execution_count": null,
      "outputs": [
        {
          "output_type": "execute_result",
          "data": {
            "text/html": [
              "<div>\n",
              "<style scoped>\n",
              "    .dataframe tbody tr th:only-of-type {\n",
              "        vertical-align: middle;\n",
              "    }\n",
              "\n",
              "    .dataframe tbody tr th {\n",
              "        vertical-align: top;\n",
              "    }\n",
              "\n",
              "    .dataframe thead th {\n",
              "        text-align: right;\n",
              "    }\n",
              "</style>\n",
              "<table border=\"1\" class=\"dataframe\">\n",
              "  <thead>\n",
              "    <tr style=\"text-align: right;\">\n",
              "      <th></th>\n",
              "      <th>name</th>\n",
              "      <th>type</th>\n",
              "      <th>address</th>\n",
              "      <th>zip</th>\n",
              "      <th>lat</th>\n",
              "      <th>lon</th>\n",
              "    </tr>\n",
              "  </thead>\n",
              "  <tbody>\n",
              "    <tr>\n",
              "      <th>0</th>\n",
              "      <td>7-Eleven</td>\n",
              "      <td>grocery</td>\n",
              "      <td>462 Washington St</td>\n",
              "      <td>2135.0</td>\n",
              "      <td>42.348527</td>\n",
              "      <td>-71.158960</td>\n",
              "    </tr>\n",
              "    <tr>\n",
              "      <th>1</th>\n",
              "      <td>24 Seven</td>\n",
              "      <td>grocery</td>\n",
              "      <td>655 Warren St</td>\n",
              "      <td>2121.0</td>\n",
              "      <td>42.309813</td>\n",
              "      <td>-71.082883</td>\n",
              "    </tr>\n",
              "    <tr>\n",
              "      <th>2</th>\n",
              "      <td>24 Seven Convenience Store</td>\n",
              "      <td>grocery</td>\n",
              "      <td>655 Warren St</td>\n",
              "      <td>2121.0</td>\n",
              "      <td>42.309813</td>\n",
              "      <td>-71.082883</td>\n",
              "    </tr>\n",
              "    <tr>\n",
              "      <th>3</th>\n",
              "      <td>Food Land</td>\n",
              "      <td>grocery</td>\n",
              "      <td>199 Adams St</td>\n",
              "      <td>2122.0</td>\n",
              "      <td>42.302039</td>\n",
              "      <td>-71.060150</td>\n",
              "    </tr>\n",
              "    <tr>\n",
              "      <th>4</th>\n",
              "      <td>660 Corp</td>\n",
              "      <td>grocery</td>\n",
              "      <td>543 Commonwealth Ave</td>\n",
              "      <td>2215.0</td>\n",
              "      <td>42.349045</td>\n",
              "      <td>-71.097122</td>\n",
              "    </tr>\n",
              "  </tbody>\n",
              "</table>\n",
              "</div>"
            ],
            "text/plain": [
              "                         name     type  ...        lat        lon\n",
              "0                    7-Eleven  grocery  ...  42.348527 -71.158960\n",
              "1                    24 Seven  grocery  ...  42.309813 -71.082883\n",
              "2  24 Seven Convenience Store  grocery  ...  42.309813 -71.082883\n",
              "3                   Food Land  grocery  ...  42.302039 -71.060150\n",
              "4                    660 Corp  grocery  ...  42.349045 -71.097122\n",
              "\n",
              "[5 rows x 6 columns]"
            ]
          },
          "metadata": {
            "tags": []
          },
          "execution_count": 31
        }
      ]
    },
    {
      "cell_type": "code",
      "metadata": {
        "colab": {
          "base_uri": "https://localhost:8080/"
        },
        "id": "2Eep5PTKxScS",
        "outputId": "574fdee3-433c-45a2-f22e-c086da046f49"
      },
      "source": [
        "print(df4.shape)"
      ],
      "execution_count": null,
      "outputs": [
        {
          "output_type": "stream",
          "text": [
            "(5620, 6)\n"
          ],
          "name": "stdout"
        }
      ]
    },
    {
      "cell_type": "markdown",
      "metadata": {
        "id": "4RIrUw7w--p-"
      },
      "source": [
        "Save the result:"
      ]
    },
    {
      "cell_type": "code",
      "metadata": {
        "id": "Bf3Gpt1Hfu9f"
      },
      "source": [
        "df4.to_csv('/content/gdrive/My Drive/Colab Notebooks/CS506FinalProject/merged_processed5.csv')"
      ],
      "execution_count": null,
      "outputs": []
    }
  ]
}