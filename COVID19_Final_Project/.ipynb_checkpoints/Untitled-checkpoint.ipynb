{
 "cells": [
  {
   "cell_type": "code",
   "execution_count": 46,
   "metadata": {},
   "outputs": [
    {
     "name": "stdout",
     "output_type": "stream",
     "text": [
      "March 2020 Covid Means:\n",
      "Confirmed    10.537647\n",
      "Deaths        0.252656\n",
      "dtype: float64\n",
      "\n",
      "April 2020 Covid Means:\n",
      "Confirmed    195.135549\n",
      "Deaths        10.329471\n",
      "dtype: float64\n",
      "\n",
      "May 2020 Covid Means:\n",
      "Confirmed    438.551033\n",
      "Deaths        26.353834\n",
      "dtype: float64\n",
      "\n",
      "June 2020 Covid Means:\n",
      "Confirmed    648.042265\n",
      "Deaths        35.115140\n",
      "dtype: float64\n",
      "\n",
      "July 2020 Covid Means:\n",
      "Confirmed    1035.268053\n",
      "Deaths         41.062586\n",
      "dtype: float64\n",
      "\n"
     ]
    }
   ],
   "source": [
    "import pandas as pd\n",
    "import numpy as np\n",
    "\n",
    "csvr = pd.read_csv(\"usa_county_wise.csv\")\n",
    "\n",
    "# get relevant columns\n",
    "covid = csvr.loc[:,['Admin2', 'Province_State', 'Date', 'Confirmed', 'Deaths']]\n",
    "\n",
    "RESULT = pd.DataFrame(covid, index=covid.index, columns=covid.columns)\n",
    "\n",
    "\n",
    "rows = [0, 103540, 203740, 307280, 407480, 497661] # March-July\n",
    "monthNames = [\"March\", \"April\", \"May\", \"June\", \"July\"]\n",
    "\n",
    "for i in range(len(rows) - 1):\n",
    "    month = RESULT[rows[i]:rows[i + 1]] # data from one month\n",
    "    \n",
    "    #con = RESULT.loc[RESULT.index[rows[i]:rows[i + 1]], 'Confirmed']\n",
    "    print(monthNames[i], \"2020 Covid Means:\")\n",
    "    print(month.mean(axis = 0, skipna = True))\n",
    "    print()\n",
    "    \n",
    "    "
   ]
  },
  {
   "cell_type": "code",
   "execution_count": null,
   "metadata": {},
   "outputs": [],
   "source": []
  }
 ],
 "metadata": {
  "kernelspec": {
   "display_name": "Python 3",
   "language": "python",
   "name": "python3"
  },
  "language_info": {
   "codemirror_mode": {
    "name": "ipython",
    "version": 3
   },
   "file_extension": ".py",
   "mimetype": "text/x-python",
   "name": "python",
   "nbconvert_exporter": "python",
   "pygments_lexer": "ipython3",
   "version": "3.8.5"
  }
 },
 "nbformat": 4,
 "nbformat_minor": 4
}
