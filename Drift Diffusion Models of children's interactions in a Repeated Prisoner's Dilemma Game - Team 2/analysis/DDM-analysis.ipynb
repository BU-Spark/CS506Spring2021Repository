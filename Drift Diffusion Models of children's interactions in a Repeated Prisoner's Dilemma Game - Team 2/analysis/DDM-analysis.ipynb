{
 "cells": [
  {
   "cell_type": "markdown",
   "metadata": {},
   "source": [
    "tutorial: https://pyddm.readthedocs.io/en/latest/quickstart.html"
   ]
  },
  {
   "cell_type": "code",
   "execution_count": 3,
   "metadata": {},
   "outputs": [],
   "source": [
    "import matplotlib.pyplot as plt\n",
    "from ddm import Model\n",
    "from ddm.models import DriftConstant, NoiseConstant, BoundConstant, OverlayNonDecision\n",
    "from ddm.functions import fit_adjust_model, display_model"
   ]
  },
  {
   "cell_type": "code",
   "execution_count": 4,
   "metadata": {},
   "outputs": [
    {
     "data": {
      "image/png": "[encoded data removed]",
      "text/plain": [
       "<Figure size 432x288 with 1 Axes>"
      ]
     },
     "metadata": {
      "needs_background": "light"
     },
     "output_type": "display_data"
    }
   ],
   "source": [
    "m = Model()\n",
    "s = m.solve()\n",
    "plt.plot(s.model.t_domain(), s.pdf_corr())\n",
    "plt.savefig(\"helloworld.png\")\n",
    "plt.show()"
   ]
  },
  {
   "cell_type": "code",
   "execution_count": 5,
   "metadata": {},
   "outputs": [
    {
     "name": "stdout",
     "output_type": "stream",
     "text": [
      "Model Simple model information:\n",
      "Drift component DriftConstant:\n",
      "    constant\n",
      "    Fixed parameters:\n",
      "    - drift: 2.200000\n",
      "Noise component NoiseConstant:\n",
      "    constant\n",
      "    Fixed parameters:\n",
      "    - noise: 1.500000\n",
      "Bound component BoundConstant:\n",
      "    constant\n",
      "    Fixed parameters:\n",
      "    - B: 1.100000\n",
      "IC component ICPointSourceCenter:\n",
      "    point_source_center\n",
      "    (No parameters)\n",
      "Overlay component OverlayNonDecision:\n",
      "    Add a non-decision by shifting the histogram\n",
      "    Fixed parameters:\n",
      "    - nondectime: 0.100000\n",
      "\n"
     ]
    }
   ],
   "source": [
    "model = Model(name='Simple model',\n",
    "              drift=DriftConstant(drift=2.2),\n",
    "              noise=NoiseConstant(noise=1.5),\n",
    "              bound=BoundConstant(B=1.1),\n",
    "              overlay=OverlayNonDecision(nondectime=.1),\n",
    "              dx=.001, dt=.01, T_dur=2)\n",
    "display_model(model)\n",
    "sol = model.solve()"
   ]
  }
 ],
 "metadata": {
  "kernelspec": {
   "display_name": "Python 3",
   "language": "python",
   "name": "python3"
  },
  "language_info": {
   "codemirror_mode": {
    "name": "ipython",
    "version": 3
   },
   "file_extension": ".py",
   "mimetype": "text/x-python",
   "name": "python",
   "nbconvert_exporter": "python",
   "pygments_lexer": "ipython3",
   "version": "3.7.9"
  }
 },
 "nbformat": 4,
 "nbformat_minor": 4
}
