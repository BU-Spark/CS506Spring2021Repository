{
 "cells": [
  {
   "cell_type": "markdown",
   "metadata": {},
   "source": [
    "## Goal: try to make a model to predict child's decision based on previous child and previous partner decision and child's aggressiveness"
   ]
  },
  {
   "cell_type": "code",
   "execution_count": 1,
   "metadata": {},
   "outputs": [
    {
     "output_type": "error",
     "ename": "ModuleNotFoundError",
     "evalue": "No module named 'matplotlib'",
     "traceback": [
      "\u001b[0;31m---------------------------------------------------------------------------\u001b[0m",
      "\u001b[0;31mModuleNotFoundError\u001b[0m                       Traceback (most recent call last)",
      "\u001b[0;32m<ipython-input-1-41e480d7a1a2>\u001b[0m in \u001b[0;36m<module>\u001b[0;34m\u001b[0m\n\u001b[0;32m----> 1\u001b[0;31m \u001b[0;32mimport\u001b[0m \u001b[0mmatplotlib\u001b[0m\u001b[0;34m.\u001b[0m\u001b[0mpyplot\u001b[0m \u001b[0;32mas\u001b[0m \u001b[0mplt\u001b[0m\u001b[0;34m\u001b[0m\u001b[0;34m\u001b[0m\u001b[0m\n\u001b[0m\u001b[1;32m      2\u001b[0m \u001b[0;32mimport\u001b[0m \u001b[0mpandas\u001b[0m \u001b[0;32mas\u001b[0m \u001b[0mpd\u001b[0m\u001b[0;34m\u001b[0m\u001b[0;34m\u001b[0m\u001b[0m\n",
      "\u001b[0;31mModuleNotFoundError\u001b[0m: No module named 'matplotlib'"
     ]
    }
   ],
   "source": [
    "import matplotlib.pyplot as plt\n",
    "import pandas as pd"
   ]
  },
  {
   "source": [
    "## Data formatting"
   ],
   "cell_type": "markdown",
   "metadata": {}
  },
  {
   "cell_type": "code",
   "execution_count": 29,
   "metadata": {},
   "outputs": [],
   "source": [
    "df = pd.read_csv(\"data/Blake_RPD_Dataset-1_Twins-03-19-21.csv\")\n",
    "\n",
    "dropCols = [i for i in range(22) if i != 14]\n",
    "df.drop(df.columns[dropCols],axis=1,inplace=True)\n",
    "\n",
    "df = df.dropna()"
   ]
  },
  {
   "cell_type": "code",
   "execution_count": 30,
   "metadata": {},
   "outputs": [
    {
     "output_type": "execute_result",
     "data": {
      "text/plain": [
       "     C-EATQ_Aggression tft1  tft_rt1 tft2 tft_rt2 tft3 tft_rt3 tft4  tft_rt4  \\\n",
       "0                 18.0   DC    10.27   CD   20.13   CC   28.39   CC    36.51   \n",
       "1                 32.0   CC    14.86   CC   20.77   CC   25.32   CC    31.07   \n",
       "2                 26.0   CC    14.19   CC   22.08   CC    27.2   CC    32.11   \n",
       "3                 22.0   DC    13.22   CD   29.85   DC   37.89   CD    46.33   \n",
       "4                 26.0   CC     7.98   CC   14.05   CC   17.76   CC    21.81   \n",
       "..                 ...  ...      ...  ...     ...  ...     ...  ...      ...   \n",
       "210               21.0   DC    19.06   CD   27.68   DC   35.85   DD    41.05   \n",
       "211               29.0   CC    12.21   CC   18.57   CC   23.14   DC    27.20   \n",
       "212               27.0   DC    11.39   DD   22.12   CD   29.58   DC    34.76   \n",
       "213               26.0   CC    10.79   DC   16.45   DD   23.22   DD    29.78   \n",
       "214               25.0   CC    10.39   CC   15.25   CC   19.54   CC    24.52   \n",
       "\n",
       "    tft5  ...  def6 def_rt6  def7 def_rt7  def8 def_rt8  def9 def_rt9 def10  \\\n",
       "0     CC  ...    CD   39.09    DC   46.46    DD   51.27    DD   58.52    DD   \n",
       "1     CC  ...    DD   28.91    CC   32.96    CD   37.27    DD   40.95    DD   \n",
       "2     CC  ...    DD   34.31    DC   38.28    CD   42.91    DD   49.00    CD   \n",
       "3     DC  ...    DD   33.16    DC   39.39    DD   44.23    DD   48.91    DD   \n",
       "4     CC  ...    DD   34.72    DC   38.32    DD   42.72    DD   47.36    DD   \n",
       "..   ...  ...   ...     ...   ...     ...   ...     ...   ...     ...   ...   \n",
       "210   CD  ...    DD   31.64    DC   36.79    DD   41.45    DD   44.96    DD   \n",
       "211   CD  ...    DD   27.97    DC   31.31    DD   34.63    DD   37.98    DD   \n",
       "212   DD  ...    DD   36.81    DC   41.67    DD   48.16    CD   53.54    DD   \n",
       "213   DD  ...    DD   33.49    DC   37.20    DD   41.10    DD   44.72    DD   \n",
       "214   CC  ...    DD   32.51    CC   36.63    DD   41.25    DD   45.90    DD   \n",
       "\n",
       "    def_rt10  \n",
       "0       67.6  \n",
       "1      45.24  \n",
       "2      53.58  \n",
       "3      53.03  \n",
       "4         52  \n",
       "..       ...  \n",
       "210    49.27  \n",
       "211     41.3  \n",
       "212    58.51  \n",
       "213    48.52  \n",
       "214    50.51  \n",
       "\n",
       "[215 rows x 61 columns]"
      ],
      "text/html": "<div>\n<style scoped>\n    .dataframe tbody tr th:only-of-type {\n        vertical-align: middle;\n    }\n\n    .dataframe tbody tr th {\n        vertical-align: top;\n    }\n\n    .dataframe thead th {\n        text-align: right;\n    }\n</style>\n<table border=\"1\" class=\"dataframe\">\n  <thead>\n    <tr style=\"text-align: right;\">\n      <th></th>\n      <th>C-EATQ_Aggression</th>\n      <th>tft1</th>\n      <th>tft_rt1</th>\n      <th>tft2</th>\n      <th>tft_rt2</th>\n      <th>tft3</th>\n      <th>tft_rt3</th>\n      <th>tft4</th>\n      <th>tft_rt4</th>\n      <th>tft5</th>\n      <th>...</th>\n      <th>def6</th>\n      <th>def_rt6</th>\n      <th>def7</th>\n      <th>def_rt7</th>\n      <th>def8</th>\n      <th>def_rt8</th>\n      <th>def9</th>\n      <th>def_rt9</th>\n      <th>def10</th>\n      <th>def_rt10</th>\n    </tr>\n  </thead>\n  <tbody>\n    <tr>\n      <th>0</th>\n      <td>18.0</td>\n      <td>DC</td>\n      <td>10.27</td>\n      <td>CD</td>\n      <td>20.13</td>\n      <td>CC</td>\n      <td>28.39</td>\n      <td>CC</td>\n      <td>36.51</td>\n      <td>CC</td>\n      <td>...</td>\n      <td>CD</td>\n      <td>39.09</td>\n      <td>DC</td>\n      <td>46.46</td>\n      <td>DD</td>\n      <td>51.27</td>\n      <td>DD</td>\n      <td>58.52</td>\n      <td>DD</td>\n      <td>67.6</td>\n    </tr>\n    <tr>\n      <th>1</th>\n      <td>32.0</td>\n      <td>CC</td>\n      <td>14.86</td>\n      <td>CC</td>\n      <td>20.77</td>\n      <td>CC</td>\n      <td>25.32</td>\n      <td>CC</td>\n      <td>31.07</td>\n      <td>CC</td>\n      <td>...</td>\n      <td>DD</td>\n      <td>28.91</td>\n      <td>CC</td>\n      <td>32.96</td>\n      <td>CD</td>\n      <td>37.27</td>\n      <td>DD</td>\n      <td>40.95</td>\n      <td>DD</td>\n      <td>45.24</td>\n    </tr>\n    <tr>\n      <th>2</th>\n      <td>26.0</td>\n      <td>CC</td>\n      <td>14.19</td>\n      <td>CC</td>\n      <td>22.08</td>\n      <td>CC</td>\n      <td>27.2</td>\n      <td>CC</td>\n      <td>32.11</td>\n      <td>CC</td>\n      <td>...</td>\n      <td>DD</td>\n      <td>34.31</td>\n      <td>DC</td>\n      <td>38.28</td>\n      <td>CD</td>\n      <td>42.91</td>\n      <td>DD</td>\n      <td>49.00</td>\n      <td>CD</td>\n      <td>53.58</td>\n    </tr>\n    <tr>\n      <th>3</th>\n      <td>22.0</td>\n      <td>DC</td>\n      <td>13.22</td>\n      <td>CD</td>\n      <td>29.85</td>\n      <td>DC</td>\n      <td>37.89</td>\n      <td>CD</td>\n      <td>46.33</td>\n      <td>DC</td>\n      <td>...</td>\n      <td>DD</td>\n      <td>33.16</td>\n      <td>DC</td>\n      <td>39.39</td>\n      <td>DD</td>\n      <td>44.23</td>\n      <td>DD</td>\n      <td>48.91</td>\n      <td>DD</td>\n      <td>53.03</td>\n    </tr>\n    <tr>\n      <th>4</th>\n      <td>26.0</td>\n      <td>CC</td>\n      <td>7.98</td>\n      <td>CC</td>\n      <td>14.05</td>\n      <td>CC</td>\n      <td>17.76</td>\n      <td>CC</td>\n      <td>21.81</td>\n      <td>CC</td>\n      <td>...</td>\n      <td>DD</td>\n      <td>34.72</td>\n      <td>DC</td>\n      <td>38.32</td>\n      <td>DD</td>\n      <td>42.72</td>\n      <td>DD</td>\n      <td>47.36</td>\n      <td>DD</td>\n      <td>52</td>\n    </tr>\n    <tr>\n      <th>...</th>\n      <td>...</td>\n      <td>...</td>\n      <td>...</td>\n      <td>...</td>\n      <td>...</td>\n      <td>...</td>\n      <td>...</td>\n      <td>...</td>\n      <td>...</td>\n      <td>...</td>\n      <td>...</td>\n      <td>...</td>\n      <td>...</td>\n      <td>...</td>\n      <td>...</td>\n      <td>...</td>\n      <td>...</td>\n      <td>...</td>\n      <td>...</td>\n      <td>...</td>\n      <td>...</td>\n    </tr>\n    <tr>\n      <th>210</th>\n      <td>21.0</td>\n      <td>DC</td>\n      <td>19.06</td>\n      <td>CD</td>\n      <td>27.68</td>\n      <td>DC</td>\n      <td>35.85</td>\n      <td>DD</td>\n      <td>41.05</td>\n      <td>CD</td>\n      <td>...</td>\n      <td>DD</td>\n      <td>31.64</td>\n      <td>DC</td>\n      <td>36.79</td>\n      <td>DD</td>\n      <td>41.45</td>\n      <td>DD</td>\n      <td>44.96</td>\n      <td>DD</td>\n      <td>49.27</td>\n    </tr>\n    <tr>\n      <th>211</th>\n      <td>29.0</td>\n      <td>CC</td>\n      <td>12.21</td>\n      <td>CC</td>\n      <td>18.57</td>\n      <td>CC</td>\n      <td>23.14</td>\n      <td>DC</td>\n      <td>27.20</td>\n      <td>CD</td>\n      <td>...</td>\n      <td>DD</td>\n      <td>27.97</td>\n      <td>DC</td>\n      <td>31.31</td>\n      <td>DD</td>\n      <td>34.63</td>\n      <td>DD</td>\n      <td>37.98</td>\n      <td>DD</td>\n      <td>41.3</td>\n    </tr>\n    <tr>\n      <th>212</th>\n      <td>27.0</td>\n      <td>DC</td>\n      <td>11.39</td>\n      <td>DD</td>\n      <td>22.12</td>\n      <td>CD</td>\n      <td>29.58</td>\n      <td>DC</td>\n      <td>34.76</td>\n      <td>DD</td>\n      <td>...</td>\n      <td>DD</td>\n      <td>36.81</td>\n      <td>DC</td>\n      <td>41.67</td>\n      <td>DD</td>\n      <td>48.16</td>\n      <td>CD</td>\n      <td>53.54</td>\n      <td>DD</td>\n      <td>58.51</td>\n    </tr>\n    <tr>\n      <th>213</th>\n      <td>26.0</td>\n      <td>CC</td>\n      <td>10.79</td>\n      <td>DC</td>\n      <td>16.45</td>\n      <td>DD</td>\n      <td>23.22</td>\n      <td>DD</td>\n      <td>29.78</td>\n      <td>DD</td>\n      <td>...</td>\n      <td>DD</td>\n      <td>33.49</td>\n      <td>DC</td>\n      <td>37.20</td>\n      <td>DD</td>\n      <td>41.10</td>\n      <td>DD</td>\n      <td>44.72</td>\n      <td>DD</td>\n      <td>48.52</td>\n    </tr>\n    <tr>\n      <th>214</th>\n      <td>25.0</td>\n      <td>CC</td>\n      <td>10.39</td>\n      <td>CC</td>\n      <td>15.25</td>\n      <td>CC</td>\n      <td>19.54</td>\n      <td>CC</td>\n      <td>24.52</td>\n      <td>CC</td>\n      <td>...</td>\n      <td>DD</td>\n      <td>32.51</td>\n      <td>CC</td>\n      <td>36.63</td>\n      <td>DD</td>\n      <td>41.25</td>\n      <td>DD</td>\n      <td>45.90</td>\n      <td>DD</td>\n      <td>50.51</td>\n    </tr>\n  </tbody>\n</table>\n<p>215 rows × 61 columns</p>\n</div>"
     },
     "metadata": {},
     "execution_count": 30
    }
   ],
   "source": [
    "df"
   ]
  },
  {
   "cell_type": "code",
   "execution_count": 1,
   "metadata": {},
   "outputs": [],
   "source": [
    "# split child and partner decision column into 2 binary columns"
   ]
  },
  {
   "cell_type": "code",
   "execution_count": 2,
   "metadata": {},
   "outputs": [],
   "source": [
    "# transform data in to array of tuples with features paired with child's next decision"
   ]
  },
  {
   "cell_type": "code",
   "execution_count": 3,
   "metadata": {},
   "outputs": [],
   "source": [
    "# create WindowGenerator class\n",
    "# outputs tuples using sliding window across the time series\n",
    "# should automatically wrap from child to child so whole dataset is continuous"
   ]
  },
  {
   "source": [
    "## Create LSTM neural network"
   ],
   "cell_type": "markdown",
   "metadata": {}
  },
  {
   "cell_type": "code",
   "execution_count": 4,
   "metadata": {},
   "outputs": [],
   "source": [
    "# used TensorFlow keras sequential class to create stack of LSTM and Dense layers\n",
    "# LSTM consumes data from WindowGenerator and Dense layer applies activation function, weights matrix, and bias (learned parameters) to LSTM output. "
   ]
  },
  {
   "source": [
    "## Train LSTM"
   ],
   "cell_type": "markdown",
   "metadata": {}
  },
  {
   "cell_type": "code",
   "execution_count": 5,
   "metadata": {},
   "outputs": [],
   "source": [
    "# train on batches from WindowGenerator"
   ]
  },
  {
   "source": [
    "## Results and Predictions"
   ],
   "cell_type": "markdown",
   "metadata": {}
  },
  {
   "cell_type": "code",
   "execution_count": 6,
   "metadata": {},
   "outputs": [],
   "source": [
    "# plot predicted decisions vs actual desicions and print metrics"
   ]
  }
 ],
 "metadata": {
  "kernelspec": {
   "name": "pythonjvsc74a57bd00e53d7a4b62b6c190c5f5b129fd3e85599a5139e8c80f453cf5a68968a279c5c",
   "display_name": "Python 3.7.2  ('venv': venv)"
  },
  "language_info": {
   "codemirror_mode": {
    "name": "ipython",
    "version": 3
   },
   "file_extension": ".py",
   "mimetype": "text/x-python",
   "name": "python",
   "nbconvert_exporter": "python",
   "pygments_lexer": "ipython3",
   "version": "3.7.2"
  },
  "metadata": {
   "interpreter": {
    "hash": "0e53d7a4b62b6c190c5f5b129fd3e85599a5139e8c80f453cf5a68968a279c5c"
   }
  }
 },
 "nbformat": 4,
 "nbformat_minor": 2
}