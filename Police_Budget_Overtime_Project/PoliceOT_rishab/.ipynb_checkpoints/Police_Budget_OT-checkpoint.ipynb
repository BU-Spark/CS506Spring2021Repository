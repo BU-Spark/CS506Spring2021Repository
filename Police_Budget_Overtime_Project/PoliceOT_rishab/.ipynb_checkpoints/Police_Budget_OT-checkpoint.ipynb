{
 "cells": [
  {
   "cell_type": "code",
   "execution_count": 2,
   "id": "da74f824-64d9-408f-b858-49a51569dd35",
   "metadata": {},
   "outputs": [],
   "source": [
    "import numpy as np\n",
    "import pandas as pd\n",
    "import datetime as dt\n",
    "import matplotlib.pyplot as plt"
   ]
  },
  {
   "cell_type": "code",
   "execution_count": 3,
   "id": "27df4d26-3b55-4f6d-ae4a-4e7265d23a66",
   "metadata": {},
   "outputs": [
    {
     "data": {
      "text/plain": [
       "75"
      ]
     },
     "execution_count": 3,
     "metadata": {},
     "output_type": "execute_result"
    }
   ],
   "source": [
    "# 2017 Melnea FIO's\n",
    "fio_2017 = pd.read_csv('rms_fieldcontacts_for_public_2017_202003111424.csv')\n",
    "fio_2017.street = fio_2017.street.str.upper()\n",
    "fio_2017.contact_reason = fio_2017.contact_reason.str.upper()\n",
    "len(fio_2017[fio_2017.street.str.contains('MELNEA', na=False)|fio_2017.contact_reason.str.contains('MELNEA', na=False)])"
   ]
  },
  {
   "cell_type": "code",
   "execution_count": 4,
   "id": "c054dc62-2dfd-4bd2-bbf1-a196b157a880",
   "metadata": {},
   "outputs": [
    {
     "data": {
      "text/plain": [
       "42"
      ]
     },
     "execution_count": 4,
     "metadata": {},
     "output_type": "execute_result"
    }
   ],
   "source": [
    "# 2018 Melnea FIO's\n",
    "fio_2018 = pd.read_csv('rms_fieldcontacts_for_public_2018_202003111433.csv')\n",
    "fio_2018.street = fio_2018.street.str.upper()\n",
    "fio_2018.contact_reason = fio_2018.contact_reason.str.upper()\n",
    "len(fio_2018[fio_2018.street.str.contains('MELNEA', na=False)|fio_2018.contact_reason.str.contains('MELNEA', na=False)])"
   ]
  },
  {
   "cell_type": "code",
   "execution_count": 5,
   "id": "c792833d-699e-4973-9794-c4b7091345ab",
   "metadata": {},
   "outputs": [
    {
     "data": {
      "text/plain": [
       "60"
      ]
     },
     "execution_count": 5,
     "metadata": {},
     "output_type": "execute_result"
    }
   ],
   "source": [
    "# 2019 Melnea FIO's\n",
    "\n",
    "# jan-sept 2019 Melnea FIO's\n",
    "fio_2019 = pd.read_csv('rms_fieldcontacts_for_public_2019.csv')\n",
    "fio_2019.street = fio_2019.street.str.upper()\n",
    "fio_2019.contact_reason = fio_2019.contact_reason.str.upper()\n",
    "jan_sept = len(fio_2019[fio_2019.street.str.contains('MELNEA', na=False)|fio_2019.contact_reason.str.contains('MELNEA', na=False)])\n",
    "\n",
    "# sept-dec 2019 Melnea FIO's\n",
    "fio_2019_2 = pd.read_csv('mark43_fieldcontacts_for_public_20192.csv')\n",
    "fio_2019_2.street = fio_2019_2.street.str.upper()\n",
    "fio_2019_2.narrative = fio_2019_2.narrative.str.upper()\n",
    "sept_dec = len(fio_2019_2[fio_2019_2.street.str.contains('MELNEA', na=False)|fio_2019_2.narrative.str.contains('MELNEA', na=False)])\n",
    "\n",
    "jan_sept+sept_dec"
   ]
  },
  {
   "cell_type": "code",
   "execution_count": 6,
   "id": "86d5ea77-275e-4a31-8cfe-146781dd3147",
   "metadata": {},
   "outputs": [
    {
     "data": {
      "text/plain": [
       "65"
      ]
     },
     "execution_count": 6,
     "metadata": {},
     "output_type": "execute_result"
    }
   ],
   "source": [
    "# sept-dec 2020 Melnea FIO's\n",
    "fio_2020 = pd.read_csv('mark43_fieldcontacts_for_public_2020_202104151551.csv')\n",
    "fio_2020.street = fio_2020.street.str.upper()\n",
    "fio_2020.contact_reason = fio_2020.contact_reason.str.upper()\n",
    "len(fio_2020[fio_2020.street.str.contains('MELNEA', na=False)|fio_2020.contact_reason.str.contains('MELNEA', na=False)])"
   ]
  },
  {
   "cell_type": "code",
   "execution_count": 11,
   "id": "fc1c58d9-9ed5-412b-ab1d-d1b2f60cfc80",
   "metadata": {},
   "outputs": [],
   "source": [
    "event_categorization = pd.read_csv('event-categorization.csv')\n",
    "categories = {k: v.tolist() for k, v in event_categorization.groupby(\"category\")[\"description\"]}"
   ]
  },
  {
   "cell_type": "code",
   "execution_count": 12,
   "id": "134915f7-cd75-4bee-b638-b2554f0af185",
   "metadata": {},
   "outputs": [],
   "source": [
    "special_event_file_list = ['Special Events 2015 - present - 2015.csv','Special Events 2015 - present - 2016.csv','Special Events 2015 - present - 2017.csv','Special Events 2015 - present - 2018.csv','Special Events 2015 - present - 2019.csv','Special Events 2015 - present - 2020.csv']"
   ]
  },
  {
   "cell_type": "code",
   "execution_count": 13,
   "id": "707b4b6d-1c51-4f7e-8414-08810927a2cb",
   "metadata": {},
   "outputs": [
    {
     "name": "stdout",
     "output_type": "stream",
     "text": [
      "[0.0, 8404.5, 0.0, 18431.0, 1348.5, 0.0, 23098.25, 19460.0, 2058.0, 19967.75, 16579.0, 0.0, 0.0, 3295.5]\n",
      "[0.0, 5614.75, 18.0, 18889.0, 1709.5, 0.0, 23109.0, 2700.25, 6.0, 18433.5, 101.75, 85.25, 0.0, 4168.75]\n",
      "[0.0, 2886.0, 0.0, 18178.0, 1773.75, 0.0, 44064.75, 351.0, 0.0, 16436.75, 16572.0, 7.5, 0.0, 3003.25]\n",
      "[0.0, 2399.25, 0.0, 19122.25, 1199.5, 0.0, 19210.25, 937.75, 0.0, 17774.5, 27340.0, 0.0, 0.0, 5570.5]\n",
      "[8.5, 6605.0, 0.0, 18208.25, 683.25, 17745.25, 19887.25, 413.5, 0.0, 16069.25, 31863.5, 99.75, 337.75, 11066.5]\n",
      "[0.0, 0.0, 0.0, 12218.75, 681.5, 40968.5, 1127.0, 203.25, 0.0, 28.0, 858.5, 0.0, 347.75, 7962.0]\n"
     ]
    }
   ],
   "source": [
    "for file in special_event_file_list:\n",
    "    data = pd.read_csv(file)\n",
    "    data_array = []\n",
    "    for category in categories:\n",
    "        mentions_by_category = data[data['DESCRIPTION'].isin(categories[category])]\n",
    "        data_array.append(mentions_by_category.OTHOURS.sum())\n",
    "    print(data_array)"
   ]
  },
  {
   "cell_type": "code",
   "execution_count": 10,
   "id": "417ff36b-d421-45ef-b965-2afb94fe6b9d",
   "metadata": {},
   "outputs": [],
   "source": [
    "special_event_file_list_2019_2020 = ['Special Events 2015 - present - 2019.csv','Special Events 2015 - present - 2020.csv']"
   ]
  },
  {
   "cell_type": "code",
   "execution_count": 21,
   "id": "99f1bc86-472d-441f-aca0-fdbf55dc36a8",
   "metadata": {},
   "outputs": [
    {
     "name": "stdout",
     "output_type": "stream",
     "text": [
      "[[47.5, 33.25, 314.5, 96.5, 6490.0, 7638.75, 62.25, 53.5, 70.0, 12.0, 5311.25, 47.0, 33.0, 534.5, 2007.5, 11881.5, 98.25, 1098.5, 831.25, 1065.0, 2762.0, 3434.75, 2529.25, 7421.75, 489.5, 504.25, 11391.0, 727.75, 690.5, 1983.0, 819.5, 1686.5, 2528.75, 8580.25, 10771.5, 1872.25, 2148.5, 2165.0, 1290.75, 1428.25, 1748.5, 913.0, 948.5, 819.0, 1112.75, 930.75, 910.5, 1362.0, 2214.75, 2219.5, 2244.5, 1903.25, 2709.75], [47.5, 33.25, 314.5, 96.5, 6490.0, 7638.75, 62.25, 53.5, 70.0, 12.0, 5311.25, 47.0, 33.0, 534.5, 2007.5, 11881.5, 98.25, 1098.5, 831.25, 1065.0, 2762.0, 3434.75, 2529.25, 7421.75, 489.5, 504.25, 11391.0, 727.75, 690.5, 1983.0, 819.5, 1686.5, 2528.75, 8580.25, 10771.5, 1872.25, 2148.5, 2165.0, 1290.75, 1428.25, 1748.5, 913.0, 948.5, 819.0, 1112.75, 930.75, 910.5, 1362.0, 2214.75, 2219.5, 2244.5, 1903.25, 2709.75], [47.5, 33.25, 314.5, 96.5, 6490.0, 7638.75, 62.25, 53.5, 70.0, 12.0, 5311.25, 47.0, 33.0, 534.5, 2007.5, 11881.5, 98.25, 1098.5, 831.25, 1065.0, 2762.0, 3434.75, 2529.25, 7421.75, 489.5, 504.25, 11391.0, 727.75, 690.5, 1983.0, 819.5, 1686.5, 2528.75, 8580.25, 10771.5, 1872.25, 2148.5, 2165.0, 1290.75, 1428.25, 1748.5, 913.0, 948.5, 819.0, 1112.75, 930.75, 910.5, 1362.0, 2214.75, 2219.5, 2244.5, 1903.25, 2709.75], [47.5, 33.25, 314.5, 96.5, 6490.0, 7638.75, 62.25, 53.5, 70.0, 12.0, 5311.25, 47.0, 33.0, 534.5, 2007.5, 11881.5, 98.25, 1098.5, 831.25, 1065.0, 2762.0, 3434.75, 2529.25, 7421.75, 489.5, 504.25, 11391.0, 727.75, 690.5, 1983.0, 819.5, 1686.5, 2528.75, 8580.25, 10771.5, 1872.25, 2148.5, 2165.0, 1290.75, 1428.25, 1748.5, 913.0, 948.5, 819.0, 1112.75, 930.75, 910.5, 1362.0, 2214.75, 2219.5, 2244.5, 1903.25, 2709.75], [47.5, 33.25, 314.5, 96.5, 6490.0, 7638.75, 62.25, 53.5, 70.0, 12.0, 5311.25, 47.0, 33.0, 534.5, 2007.5, 11881.5, 98.25, 1098.5, 831.25, 1065.0, 2762.0, 3434.75, 2529.25, 7421.75, 489.5, 504.25, 11391.0, 727.75, 690.5, 1983.0, 819.5, 1686.5, 2528.75, 8580.25, 10771.5, 1872.25, 2148.5, 2165.0, 1290.75, 1428.25, 1748.5, 913.0, 948.5, 819.0, 1112.75, 930.75, 910.5, 1362.0, 2214.75, 2219.5, 2244.5, 1903.25, 2709.75], [47.5, 33.25, 314.5, 96.5, 6490.0, 7638.75, 62.25, 53.5, 70.0, 12.0, 5311.25, 47.0, 33.0, 534.5, 2007.5, 11881.5, 98.25, 1098.5, 831.25, 1065.0, 2762.0, 3434.75, 2529.25, 7421.75, 489.5, 504.25, 11391.0, 727.75, 690.5, 1983.0, 819.5, 1686.5, 2528.75, 8580.25, 10771.5, 1872.25, 2148.5, 2165.0, 1290.75, 1428.25, 1748.5, 913.0, 948.5, 819.0, 1112.75, 930.75, 910.5, 1362.0, 2214.75, 2219.5, 2244.5, 1903.25, 2709.75], [47.5, 33.25, 314.5, 96.5, 6490.0, 7638.75, 62.25, 53.5, 70.0, 12.0, 5311.25, 47.0, 33.0, 534.5, 2007.5, 11881.5, 98.25, 1098.5, 831.25, 1065.0, 2762.0, 3434.75, 2529.25, 7421.75, 489.5, 504.25, 11391.0, 727.75, 690.5, 1983.0, 819.5, 1686.5, 2528.75, 8580.25, 10771.5, 1872.25, 2148.5, 2165.0, 1290.75, 1428.25, 1748.5, 913.0, 948.5, 819.0, 1112.75, 930.75, 910.5, 1362.0, 2214.75, 2219.5, 2244.5, 1903.25, 2709.75], [47.5, 33.25, 314.5, 96.5, 6490.0, 7638.75, 62.25, 53.5, 70.0, 12.0, 5311.25, 47.0, 33.0, 534.5, 2007.5, 11881.5, 98.25, 1098.5, 831.25, 1065.0, 2762.0, 3434.75, 2529.25, 7421.75, 489.5, 504.25, 11391.0, 727.75, 690.5, 1983.0, 819.5, 1686.5, 2528.75, 8580.25, 10771.5, 1872.25, 2148.5, 2165.0, 1290.75, 1428.25, 1748.5, 913.0, 948.5, 819.0, 1112.75, 930.75, 910.5, 1362.0, 2214.75, 2219.5, 2244.5, 1903.25, 2709.75], [47.5, 33.25, 314.5, 96.5, 6490.0, 7638.75, 62.25, 53.5, 70.0, 12.0, 5311.25, 47.0, 33.0, 534.5, 2007.5, 11881.5, 98.25, 1098.5, 831.25, 1065.0, 2762.0, 3434.75, 2529.25, 7421.75, 489.5, 504.25, 11391.0, 727.75, 690.5, 1983.0, 819.5, 1686.5, 2528.75, 8580.25, 10771.5, 1872.25, 2148.5, 2165.0, 1290.75, 1428.25, 1748.5, 913.0, 948.5, 819.0, 1112.75, 930.75, 910.5, 1362.0, 2214.75, 2219.5, 2244.5, 1903.25, 2709.75], [47.5, 33.25, 314.5, 96.5, 6490.0, 7638.75, 62.25, 53.5, 70.0, 12.0, 5311.25, 47.0, 33.0, 534.5, 2007.5, 11881.5, 98.25, 1098.5, 831.25, 1065.0, 2762.0, 3434.75, 2529.25, 7421.75, 489.5, 504.25, 11391.0, 727.75, 690.5, 1983.0, 819.5, 1686.5, 2528.75, 8580.25, 10771.5, 1872.25, 2148.5, 2165.0, 1290.75, 1428.25, 1748.5, 913.0, 948.5, 819.0, 1112.75, 930.75, 910.5, 1362.0, 2214.75, 2219.5, 2244.5, 1903.25, 2709.75], [47.5, 33.25, 314.5, 96.5, 6490.0, 7638.75, 62.25, 53.5, 70.0, 12.0, 5311.25, 47.0, 33.0, 534.5, 2007.5, 11881.5, 98.25, 1098.5, 831.25, 1065.0, 2762.0, 3434.75, 2529.25, 7421.75, 489.5, 504.25, 11391.0, 727.75, 690.5, 1983.0, 819.5, 1686.5, 2528.75, 8580.25, 10771.5, 1872.25, 2148.5, 2165.0, 1290.75, 1428.25, 1748.5, 913.0, 948.5, 819.0, 1112.75, 930.75, 910.5, 1362.0, 2214.75, 2219.5, 2244.5, 1903.25, 2709.75], [47.5, 33.25, 314.5, 96.5, 6490.0, 7638.75, 62.25, 53.5, 70.0, 12.0, 5311.25, 47.0, 33.0, 534.5, 2007.5, 11881.5, 98.25, 1098.5, 831.25, 1065.0, 2762.0, 3434.75, 2529.25, 7421.75, 489.5, 504.25, 11391.0, 727.75, 690.5, 1983.0, 819.5, 1686.5, 2528.75, 8580.25, 10771.5, 1872.25, 2148.5, 2165.0, 1290.75, 1428.25, 1748.5, 913.0, 948.5, 819.0, 1112.75, 930.75, 910.5, 1362.0, 2214.75, 2219.5, 2244.5, 1903.25, 2709.75], [47.5, 33.25, 314.5, 96.5, 6490.0, 7638.75, 62.25, 53.5, 70.0, 12.0, 5311.25, 47.0, 33.0, 534.5, 2007.5, 11881.5, 98.25, 1098.5, 831.25, 1065.0, 2762.0, 3434.75, 2529.25, 7421.75, 489.5, 504.25, 11391.0, 727.75, 690.5, 1983.0, 819.5, 1686.5, 2528.75, 8580.25, 10771.5, 1872.25, 2148.5, 2165.0, 1290.75, 1428.25, 1748.5, 913.0, 948.5, 819.0, 1112.75, 930.75, 910.5, 1362.0, 2214.75, 2219.5, 2244.5, 1903.25, 2709.75], [47.5, 33.25, 314.5, 96.5, 6490.0, 7638.75, 62.25, 53.5, 70.0, 12.0, 5311.25, 47.0, 33.0, 534.5, 2007.5, 11881.5, 98.25, 1098.5, 831.25, 1065.0, 2762.0, 3434.75, 2529.25, 7421.75, 489.5, 504.25, 11391.0, 727.75, 690.5, 1983.0, 819.5, 1686.5, 2528.75, 8580.25, 10771.5, 1872.25, 2148.5, 2165.0, 1290.75, 1428.25, 1748.5, 913.0, 948.5, 819.0, 1112.75, 930.75, 910.5, 1362.0, 2214.75, 2219.5, 2244.5, 1903.25, 2709.75]]\n",
      "[[47.5, 33.25, 314.5, 96.5, 6490.0, 7638.75, 62.25, 53.5, 70.0, 12.0, 5311.25, 47.0, 33.0, 534.5, 2007.5, 11881.5, 98.25, 1098.5, 831.25, 1065.0, 2762.0, 3434.75, 2529.25, 7421.75, 489.5, 504.25, 11391.0, 727.75, 690.5, 1983.0, 819.5, 1686.5, 2528.75, 8580.25, 10771.5, 1872.25, 2148.5, 2165.0, 1290.75, 1428.25, 1748.5, 913.0, 948.5, 819.0, 1112.75, 930.75, 910.5, 1362.0, 2214.75, 2219.5, 2244.5, 1903.25, 2709.75], [47.5, 33.25, 314.5, 96.5, 6490.0, 7638.75, 62.25, 53.5, 70.0, 12.0, 5311.25, 47.0, 33.0, 534.5, 2007.5, 11881.5, 98.25, 1098.5, 831.25, 1065.0, 2762.0, 3434.75, 2529.25, 7421.75, 489.5, 504.25, 11391.0, 727.75, 690.5, 1983.0, 819.5, 1686.5, 2528.75, 8580.25, 10771.5, 1872.25, 2148.5, 2165.0, 1290.75, 1428.25, 1748.5, 913.0, 948.5, 819.0, 1112.75, 930.75, 910.5, 1362.0, 2214.75, 2219.5, 2244.5, 1903.25, 2709.75], [47.5, 33.25, 314.5, 96.5, 6490.0, 7638.75, 62.25, 53.5, 70.0, 12.0, 5311.25, 47.0, 33.0, 534.5, 2007.5, 11881.5, 98.25, 1098.5, 831.25, 1065.0, 2762.0, 3434.75, 2529.25, 7421.75, 489.5, 504.25, 11391.0, 727.75, 690.5, 1983.0, 819.5, 1686.5, 2528.75, 8580.25, 10771.5, 1872.25, 2148.5, 2165.0, 1290.75, 1428.25, 1748.5, 913.0, 948.5, 819.0, 1112.75, 930.75, 910.5, 1362.0, 2214.75, 2219.5, 2244.5, 1903.25, 2709.75], [47.5, 33.25, 314.5, 96.5, 6490.0, 7638.75, 62.25, 53.5, 70.0, 12.0, 5311.25, 47.0, 33.0, 534.5, 2007.5, 11881.5, 98.25, 1098.5, 831.25, 1065.0, 2762.0, 3434.75, 2529.25, 7421.75, 489.5, 504.25, 11391.0, 727.75, 690.5, 1983.0, 819.5, 1686.5, 2528.75, 8580.25, 10771.5, 1872.25, 2148.5, 2165.0, 1290.75, 1428.25, 1748.5, 913.0, 948.5, 819.0, 1112.75, 930.75, 910.5, 1362.0, 2214.75, 2219.5, 2244.5, 1903.25, 2709.75], [47.5, 33.25, 314.5, 96.5, 6490.0, 7638.75, 62.25, 53.5, 70.0, 12.0, 5311.25, 47.0, 33.0, 534.5, 2007.5, 11881.5, 98.25, 1098.5, 831.25, 1065.0, 2762.0, 3434.75, 2529.25, 7421.75, 489.5, 504.25, 11391.0, 727.75, 690.5, 1983.0, 819.5, 1686.5, 2528.75, 8580.25, 10771.5, 1872.25, 2148.5, 2165.0, 1290.75, 1428.25, 1748.5, 913.0, 948.5, 819.0, 1112.75, 930.75, 910.5, 1362.0, 2214.75, 2219.5, 2244.5, 1903.25, 2709.75], [47.5, 33.25, 314.5, 96.5, 6490.0, 7638.75, 62.25, 53.5, 70.0, 12.0, 5311.25, 47.0, 33.0, 534.5, 2007.5, 11881.5, 98.25, 1098.5, 831.25, 1065.0, 2762.0, 3434.75, 2529.25, 7421.75, 489.5, 504.25, 11391.0, 727.75, 690.5, 1983.0, 819.5, 1686.5, 2528.75, 8580.25, 10771.5, 1872.25, 2148.5, 2165.0, 1290.75, 1428.25, 1748.5, 913.0, 948.5, 819.0, 1112.75, 930.75, 910.5, 1362.0, 2214.75, 2219.5, 2244.5, 1903.25, 2709.75], [47.5, 33.25, 314.5, 96.5, 6490.0, 7638.75, 62.25, 53.5, 70.0, 12.0, 5311.25, 47.0, 33.0, 534.5, 2007.5, 11881.5, 98.25, 1098.5, 831.25, 1065.0, 2762.0, 3434.75, 2529.25, 7421.75, 489.5, 504.25, 11391.0, 727.75, 690.5, 1983.0, 819.5, 1686.5, 2528.75, 8580.25, 10771.5, 1872.25, 2148.5, 2165.0, 1290.75, 1428.25, 1748.5, 913.0, 948.5, 819.0, 1112.75, 930.75, 910.5, 1362.0, 2214.75, 2219.5, 2244.5, 1903.25, 2709.75], [47.5, 33.25, 314.5, 96.5, 6490.0, 7638.75, 62.25, 53.5, 70.0, 12.0, 5311.25, 47.0, 33.0, 534.5, 2007.5, 11881.5, 98.25, 1098.5, 831.25, 1065.0, 2762.0, 3434.75, 2529.25, 7421.75, 489.5, 504.25, 11391.0, 727.75, 690.5, 1983.0, 819.5, 1686.5, 2528.75, 8580.25, 10771.5, 1872.25, 2148.5, 2165.0, 1290.75, 1428.25, 1748.5, 913.0, 948.5, 819.0, 1112.75, 930.75, 910.5, 1362.0, 2214.75, 2219.5, 2244.5, 1903.25, 2709.75], [47.5, 33.25, 314.5, 96.5, 6490.0, 7638.75, 62.25, 53.5, 70.0, 12.0, 5311.25, 47.0, 33.0, 534.5, 2007.5, 11881.5, 98.25, 1098.5, 831.25, 1065.0, 2762.0, 3434.75, 2529.25, 7421.75, 489.5, 504.25, 11391.0, 727.75, 690.5, 1983.0, 819.5, 1686.5, 2528.75, 8580.25, 10771.5, 1872.25, 2148.5, 2165.0, 1290.75, 1428.25, 1748.5, 913.0, 948.5, 819.0, 1112.75, 930.75, 910.5, 1362.0, 2214.75, 2219.5, 2244.5, 1903.25, 2709.75], [47.5, 33.25, 314.5, 96.5, 6490.0, 7638.75, 62.25, 53.5, 70.0, 12.0, 5311.25, 47.0, 33.0, 534.5, 2007.5, 11881.5, 98.25, 1098.5, 831.25, 1065.0, 2762.0, 3434.75, 2529.25, 7421.75, 489.5, 504.25, 11391.0, 727.75, 690.5, 1983.0, 819.5, 1686.5, 2528.75, 8580.25, 10771.5, 1872.25, 2148.5, 2165.0, 1290.75, 1428.25, 1748.5, 913.0, 948.5, 819.0, 1112.75, 930.75, 910.5, 1362.0, 2214.75, 2219.5, 2244.5, 1903.25, 2709.75], [47.5, 33.25, 314.5, 96.5, 6490.0, 7638.75, 62.25, 53.5, 70.0, 12.0, 5311.25, 47.0, 33.0, 534.5, 2007.5, 11881.5, 98.25, 1098.5, 831.25, 1065.0, 2762.0, 3434.75, 2529.25, 7421.75, 489.5, 504.25, 11391.0, 727.75, 690.5, 1983.0, 819.5, 1686.5, 2528.75, 8580.25, 10771.5, 1872.25, 2148.5, 2165.0, 1290.75, 1428.25, 1748.5, 913.0, 948.5, 819.0, 1112.75, 930.75, 910.5, 1362.0, 2214.75, 2219.5, 2244.5, 1903.25, 2709.75], [47.5, 33.25, 314.5, 96.5, 6490.0, 7638.75, 62.25, 53.5, 70.0, 12.0, 5311.25, 47.0, 33.0, 534.5, 2007.5, 11881.5, 98.25, 1098.5, 831.25, 1065.0, 2762.0, 3434.75, 2529.25, 7421.75, 489.5, 504.25, 11391.0, 727.75, 690.5, 1983.0, 819.5, 1686.5, 2528.75, 8580.25, 10771.5, 1872.25, 2148.5, 2165.0, 1290.75, 1428.25, 1748.5, 913.0, 948.5, 819.0, 1112.75, 930.75, 910.5, 1362.0, 2214.75, 2219.5, 2244.5, 1903.25, 2709.75], [47.5, 33.25, 314.5, 96.5, 6490.0, 7638.75, 62.25, 53.5, 70.0, 12.0, 5311.25, 47.0, 33.0, 534.5, 2007.5, 11881.5, 98.25, 1098.5, 831.25, 1065.0, 2762.0, 3434.75, 2529.25, 7421.75, 489.5, 504.25, 11391.0, 727.75, 690.5, 1983.0, 819.5, 1686.5, 2528.75, 8580.25, 10771.5, 1872.25, 2148.5, 2165.0, 1290.75, 1428.25, 1748.5, 913.0, 948.5, 819.0, 1112.75, 930.75, 910.5, 1362.0, 2214.75, 2219.5, 2244.5, 1903.25, 2709.75], [47.5, 33.25, 314.5, 96.5, 6490.0, 7638.75, 62.25, 53.5, 70.0, 12.0, 5311.25, 47.0, 33.0, 534.5, 2007.5, 11881.5, 98.25, 1098.5, 831.25, 1065.0, 2762.0, 3434.75, 2529.25, 7421.75, 489.5, 504.25, 11391.0, 727.75, 690.5, 1983.0, 819.5, 1686.5, 2528.75, 8580.25, 10771.5, 1872.25, 2148.5, 2165.0, 1290.75, 1428.25, 1748.5, 913.0, 948.5, 819.0, 1112.75, 930.75, 910.5, 1362.0, 2214.75, 2219.5, 2244.5, 1903.25, 2709.75]]\n"
     ]
    }
   ],
   "source": [
    "for file in special_event_file_list_2019_2020:\n",
    "    data = pd.read_csv(file)\n",
    "    data['OTDATE'] = pd.to_datetime(data['OTDATE'])\n",
    "    data_array = []\n",
    "    for category in categories:\n",
    "        category_array = []\n",
    "        mentions_by_category = data[data['DESCRIPTION'].isin(categories[category])]\n",
    "        weeks = [g for n, g in df.groupby(pd.Grouper(key='OTDATE',freq='W'))]\n",
    "        for week in weeks:\n",
    "            category_array.append(week.OTHOURS.sum())\n",
    "        data_array.append(category_array)\n",
    "    print(data_array)"
   ]
  },
  {
   "cell_type": "code",
   "execution_count": 24,
   "id": "7bfdaca9-f744-4fbf-84fc-0d39a28879dd",
   "metadata": {},
   "outputs": [],
   "source": [
    "possibly_cancelled_event_list = ['CARIBBEAN CARNIVAL', 'OUTSIDE THE BOX', 'BAA BOSTON MARATHON', 'GREEK INDEP DAY PARA', 'HAITIAN-AMER.UNITY P', 'BRIGHTON DAY PARADE', 'EVACUATION DAY PARAD', 'DYKE MARCH']"
   ]
  },
  {
   "cell_type": "code",
   "execution_count": 9,
   "id": "f590027a-d0ec-4eb1-84f7-5a0100993172",
   "metadata": {},
   "outputs": [
    {
     "data": {
      "text/plain": [
       "5258"
      ]
     },
     "execution_count": 9,
     "metadata": {},
     "output_type": "execute_result"
    }
   ],
   "source": [
    "# number of special events referencing possibly cancelled events in 2020 in 2015\n",
    "special_events_2015 = pd.read_csv('Special Events 2015 - present - 2015.csv')\n",
    "possibly_cancelled_events_2015 = special_events_2015[special_events_2015['DESCRIPTION'].isin(possibly_cancelled_event_list)]\n",
    "len(possibly_cancelled_events_2015)"
   ]
  },
  {
   "cell_type": "code",
   "execution_count": 16,
   "id": "2fc81042-c30b-4162-b300-afd74ddbe3f4",
   "metadata": {},
   "outputs": [
    {
     "data": {
      "text/plain": [
       "5385"
      ]
     },
     "execution_count": 16,
     "metadata": {},
     "output_type": "execute_result"
    }
   ],
   "source": [
    "# number of special events referencing possibly cancelled events in 2020 in 2016\n",
    "special_events_2016 = pd.read_csv('Special Events 2015 - present - 2016.csv')\n",
    "possibly_cancelled_events_2016 = special_events_2016[special_events_2016['DESCRIPTION'].isin(possibly_cancelled_event_list)]\n",
    "len(possibly_cancelled_events_2016)"
   ]
  },
  {
   "cell_type": "code",
   "execution_count": 15,
   "id": "43a569aa-dc53-4ddc-bdd7-a6b690b7711c",
   "metadata": {},
   "outputs": [
    {
     "data": {
      "text/plain": [
       "4752"
      ]
     },
     "execution_count": 15,
     "metadata": {},
     "output_type": "execute_result"
    }
   ],
   "source": [
    "# number of special events referencing possibly cancelled events in 2020 in 2017\n",
    "special_events_2017 = pd.read_csv('Special Events 2015 - present - 2017.csv')\n",
    "possibly_cancelled_events_2017 = special_events_2017[special_events_2017['DESCRIPTION'].isin(possibly_cancelled_event_list)]\n",
    "len(possibly_cancelled_events_2017)"
   ]
  },
  {
   "cell_type": "code",
   "execution_count": 14,
   "id": "843cb51a-b220-44dc-b330-eb291e3d2285",
   "metadata": {},
   "outputs": [
    {
     "data": {
      "text/plain": [
       "4808"
      ]
     },
     "execution_count": 14,
     "metadata": {},
     "output_type": "execute_result"
    }
   ],
   "source": [
    "# number of special events referencing possibly cancelled events in 2020 in 2018\n",
    "special_events_2018 = pd.read_csv('Special Events 2015 - present - 2018.csv')\n",
    "possibly_cancelled_events_2018 = special_events_2018[special_events_2018['DESCRIPTION'].isin(possibly_cancelled_event_list)]\n",
    "len(possibly_cancelled_events_2018)"
   ]
  },
  {
   "cell_type": "code",
   "execution_count": 13,
   "id": "0188f2d4-4a77-4226-8828-cc23830e0afb",
   "metadata": {},
   "outputs": [
    {
     "data": {
      "text/plain": [
       "4859"
      ]
     },
     "execution_count": 13,
     "metadata": {},
     "output_type": "execute_result"
    }
   ],
   "source": [
    "# number of special events referencing possibly cancelled events in 2020 in 2019\n",
    "special_events_2019 = pd.read_csv('Special Events 2015 - present - 2019.csv')\n",
    "possibly_cancelled_events_2019 = special_events_2019[special_events_2019['DESCRIPTION'].isin(possibly_cancelled_event_list)]\n",
    "len(possibly_cancelled_events_2019)"
   ]
  },
  {
   "cell_type": "code",
   "execution_count": 12,
   "id": "0d245a66-bd83-4f8e-bf43-207a01413b36",
   "metadata": {},
   "outputs": [
    {
     "data": {
      "text/plain": [
       "163"
      ]
     },
     "execution_count": 12,
     "metadata": {},
     "output_type": "execute_result"
    }
   ],
   "source": [
    "# number of special events referencing possibly cancelled events in 2020\n",
    "special_events_2020 = pd.read_csv('Special Events 2015 - present - 2020.csv')\n",
    "possibly_cancelled_events_2020 = special_events_2020[special_events_2020['DESCRIPTION'].isin(possibly_cancelled_event_list)]\n",
    "len(possibly_cancelled_events_2020)"
   ]
  },
  {
   "cell_type": "code",
   "execution_count": 76,
   "id": "ec386674-4dcd-4fb6-a7f7-a8b1f56fc71e",
   "metadata": {},
   "outputs": [
    {
     "data": {
      "text/plain": [
       "0"
      ]
     },
     "execution_count": 76,
     "metadata": {},
     "output_type": "execute_result"
    }
   ],
   "source": [
    "# number of special events referencing MASS/MELNEA in 2015\n",
    "special_events_2015 = pd.read_csv('Special Events 2015 - present - 2015.csv')\n",
    "melnea_2015 = special_events_2015[special_events_2015['DESCRIPTION'] == \"MASS / MELNEA\"]\n",
    "len(melnea_2015)"
   ]
  },
  {
   "cell_type": "code",
   "execution_count": 77,
   "id": "15d742b3-d34f-4774-b62c-0766656dfd3b",
   "metadata": {},
   "outputs": [
    {
     "data": {
      "text/plain": [
       "0"
      ]
     },
     "execution_count": 77,
     "metadata": {},
     "output_type": "execute_result"
    }
   ],
   "source": [
    "# number of special events referencing MASS/MELNEA in 2016\n",
    "special_events_2016 = pd.read_csv('Special Events 2015 - present - 2016.csv')\n",
    "melnea_2016 = special_events_2016[special_events_2016['DESCRIPTION'] == \"MASS / MELNEA\"]\n",
    "len(melnea_2016)"
   ]
  },
  {
   "cell_type": "code",
   "execution_count": 78,
   "id": "8bc4a935-dc09-4e1b-b929-baeca4e7d67c",
   "metadata": {},
   "outputs": [
    {
     "data": {
      "text/plain": [
       "0"
      ]
     },
     "execution_count": 78,
     "metadata": {},
     "output_type": "execute_result"
    }
   ],
   "source": [
    "# number of special events referencing MASS/MELNEA in 2017\n",
    "special_events_2017 = pd.read_csv('Special Events 2015 - present - 2017.csv')\n",
    "melnea_2017 = special_events_2017[special_events_2017['DESCRIPTION'] == \"MASS / MELNEA\"]\n",
    "len(melnea_2017)"
   ]
  },
  {
   "cell_type": "code",
   "execution_count": 79,
   "id": "2571bb5e-81c5-4b93-ba67-0e1e42a13605",
   "metadata": {},
   "outputs": [
    {
     "data": {
      "text/plain": [
       "0"
      ]
     },
     "execution_count": 79,
     "metadata": {},
     "output_type": "execute_result"
    }
   ],
   "source": [
    "# number of special events referencing MASS/MELNEA in 2018\n",
    "special_events_2018 = pd.read_csv('Special Events 2015 - present - 2018.csv')\n",
    "melnea_2018 = special_events_2018[special_events_2018['DESCRIPTION'] == \"MASS / MELNEA\"]\n",
    "len(melnea_2018)"
   ]
  },
  {
   "cell_type": "code",
   "execution_count": 114,
   "id": "e508bc8d-77ac-420a-bc0c-920c6cfe48e5",
   "metadata": {},
   "outputs": [
    {
     "data": {
      "text/plain": [
       "2551"
      ]
     },
     "execution_count": 114,
     "metadata": {},
     "output_type": "execute_result"
    }
   ],
   "source": [
    "# number of special events referencing MASS/MELNEA in 2019\n",
    "special_events_2019 = pd.read_csv('Special Events 2015 - present - 2019.csv')\n",
    "melnea_2019 = special_events_2019[special_events_2019['DESCRIPTION'] == \"MASS / MELNEA\"]\n",
    "len(melnea_2019)"
   ]
  },
  {
   "cell_type": "code",
   "execution_count": 115,
   "id": "24fd2e8c-6e09-4c73-b409-b2659c70aba0",
   "metadata": {},
   "outputs": [
    {
     "data": {
      "text/plain": [
       "5325"
      ]
     },
     "execution_count": 115,
     "metadata": {},
     "output_type": "execute_result"
    }
   ],
   "source": [
    "# number of special events referencing MASS/MELNEA in 2020\n",
    "special_events_2020 = pd.read_csv('Special Events 2015 - present - 2020.csv')\n",
    "melnea_2020 = pd.read_csv('MASS_MELNEA.txt')\n",
    "len(melnea_2020)"
   ]
  },
  {
   "cell_type": "code",
   "execution_count": 116,
   "id": "b8bb6913-e544-4f4d-bcfe-7ab68e222241",
   "metadata": {},
   "outputs": [],
   "source": [
    "bpda_dataset = pd.read_excel('BPD_personnel_PRR_9_4_2020.xls')"
   ]
  },
  {
   "cell_type": "code",
   "execution_count": 83,
   "id": "7adddcb4-d84e-4b07-bac0-53b9979547c6",
   "metadata": {},
   "outputs": [],
   "source": [
    "# merge dataset with BPDA personnel dataset to add rate data\n",
    "merged_2020 = melnea_2020.merge(bpda_dataset[['ID', 'Hrly Rate', 'Job Title', 'Task Profile Descr', 'Ethnic Grp']], how='left', on='ID')\n",
    "merged_2020 = merged_2020[merged_2020['Ethnic Grp'].notna()]\n",
    "merged_2020.OTDATE = pd.to_datetime(merged_2020.OTDATE)"
   ]
  },
  {
   "cell_type": "code",
   "execution_count": 117,
   "id": "bored-twenty",
   "metadata": {},
   "outputs": [],
   "source": [
    "merged_2019 = melnea_2019.merge(bpda_dataset[['ID', 'Hrly Rate', 'Job Title', 'Task Profile Descr', 'Ethnic Grp']], how='left', on='ID')\n",
    "merged_2019 = merged_2019[merged_2019['Ethnic Grp'].notna()]\n",
    "merged_2019.OTDATE = pd.to_datetime(merged_2019.OTDATE)"
   ]
  },
  {
   "cell_type": "code",
   "execution_count": 135,
   "id": "84121253-55cf-405f-bc15-644af693e361",
   "metadata": {},
   "outputs": [],
   "source": [
    "# top 20 MASS/MELNEA OT accumulators in 2019\n",
    "summary_2019 = merged_2019.pivot_table(values=['WRKDHRS', 'OTHOURS', 'Job Title', 'Task Profile Descr', 'Ethnic Grp', 'Hrly Rate'], index=['ID', 'NAME'], aggfunc={'WRKDHRS': lambda x: np.sum(x), 'OTHOURS': lambda x: np.sum(x), 'Job Title': 'first', 'Task Profile Descr': 'first', 'Ethnic Grp': 'first', 'Hrly Rate': 'first'})\n",
    "summary_2019['TOTALOT'] = summary_2019['Hrly Rate']*summary_2019['OTHOURS']*1.5\n",
    "summary_2019 = summary_2019.nlargest(20, 'OTHOURS')\n",
    "summary_2019.to_csv('data/top_20_MASS_MELNEA_OT_accumulators_2019.csv')"
   ]
  },
  {
   "cell_type": "code",
   "execution_count": 119,
   "id": "e05ca947-f7e7-40de-b7ba-1dee64ee9170",
   "metadata": {},
   "outputs": [
    {
     "data": {
      "text/plain": [
       "'$1,168,632.62'"
      ]
     },
     "execution_count": 119,
     "metadata": {},
     "output_type": "execute_result"
    }
   ],
   "source": [
    "# OT money spent in 2019 on MASS/MELNEA\n",
    "\"${:,.2f}\".format(summary_2019.TOTALOT.sum())"
   ]
  },
  {
   "cell_type": "code",
   "execution_count": 134,
   "id": "ebf55660-4b8b-4e71-adcb-f96961a41e45",
   "metadata": {},
   "outputs": [],
   "source": [
    "# top 20 MASS/MELNEA OT accumulators in 2020\n",
    "summary_2020 = merged_2020.pivot_table(values=['WRKDHRS', 'OTHOURS', 'Job Title', 'Task Profile Descr', 'Ethnic Grp', 'Hrly Rate'], index=['ID', 'NAME'], aggfunc={'WRKDHRS': lambda x: np.sum(x), 'OTHOURS': lambda x: np.sum(x), 'Job Title': 'first', 'Task Profile Descr': 'first', 'Ethnic Grp': 'first', 'Hrly Rate': 'first'})\n",
    "summary_2020['TOTALOT'] = summary_2020['Hrly Rate']*summary_2020['OTHOURS']*1.5\n",
    "top20_summary_2020 = summary_2020.nlargest(20, 'OTHOURS')\n",
    "top20_summary_2020.to_csv('data/top_20_MASS_MELNEA_OT_accumulators_2020.csv')"
   ]
  },
  {
   "cell_type": "code",
   "execution_count": 87,
   "id": "f9ada8a7-95f8-4512-bb1b-d3836de9b476",
   "metadata": {},
   "outputs": [
    {
     "data": {
      "text/plain": [
       "'$2,616,947.27'"
      ]
     },
     "execution_count": 87,
     "metadata": {},
     "output_type": "execute_result"
    }
   ],
   "source": [
    "# OT money spent in 2020 on MASS/MELNEA\n",
    "\"${:,.2f}\".format(summary_2020.TOTALOT.sum())"
   ]
  },
  {
   "cell_type": "code",
   "execution_count": 88,
   "id": "09e2d3aa-b774-4481-8d30-1e8806077f2a",
   "metadata": {},
   "outputs": [
    {
     "data": {
      "text/plain": [
       "37"
      ]
     },
     "execution_count": 88,
     "metadata": {},
     "output_type": "execute_result"
    }
   ],
   "source": [
    "# 2015 Melnea Incident Reports\n",
    "cio_2015 = pd.read_csv('crime-incident-reports-2015.csv')\n",
    "cio_2015.STREET = cio_2015.STREET.str.upper()\n",
    "len(cio_2015[cio_2015.STREET.str.contains('MELNEA', na=False)])"
   ]
  },
  {
   "cell_type": "code",
   "execution_count": 89,
   "id": "300eefb7-d425-41c2-a866-138868b815fc",
   "metadata": {},
   "outputs": [
    {
     "data": {
      "text/plain": [
       "83"
      ]
     },
     "execution_count": 89,
     "metadata": {},
     "output_type": "execute_result"
    }
   ],
   "source": [
    "# 2016 Melnea Incident Reports\n",
    "cio_2016 = pd.read_csv('crime-incident-reports-2016.csv')\n",
    "cio_2016.STREET = cio_2016.STREET.str.upper()\n",
    "len(cio_2016[cio_2016.STREET.str.contains('MELNEA', na=False)])"
   ]
  },
  {
   "cell_type": "code",
   "execution_count": 90,
   "id": "fe492baa-fcbc-42d7-a9c5-a6ed7f386e0d",
   "metadata": {},
   "outputs": [
    {
     "data": {
      "text/plain": [
       "87"
      ]
     },
     "execution_count": 90,
     "metadata": {},
     "output_type": "execute_result"
    }
   ],
   "source": [
    "# 2017 Melnea Incident Reports\n",
    "cio_2017 = pd.read_csv('crime-incident-reports-2017.csv')\n",
    "cio_2017.STREET = cio_2017.STREET.str.upper()\n",
    "len(cio_2017[cio_2017.STREET.str.contains('MELNEA', na=False)])"
   ]
  },
  {
   "cell_type": "code",
   "execution_count": 91,
   "id": "888897a8-9c91-46ee-a6be-57d2cfcabcfc",
   "metadata": {},
   "outputs": [
    {
     "data": {
      "text/plain": [
       "113"
      ]
     },
     "execution_count": 91,
     "metadata": {},
     "output_type": "execute_result"
    }
   ],
   "source": [
    "# 2018 Melnea Incident Reports\n",
    "cio_2018 = pd.read_csv('crime-incident-reports-2018.csv')\n",
    "cio_2018.STREET = cio_2018.STREET.str.upper()\n",
    "len(cio_2018[cio_2018.STREET.str.contains('MELNEA', na=False)])"
   ]
  },
  {
   "cell_type": "code",
   "execution_count": 92,
   "id": "0229594a-9c86-4115-a65d-788bd86d2cf9",
   "metadata": {},
   "outputs": [
    {
     "data": {
      "text/plain": [
       "61"
      ]
     },
     "execution_count": 92,
     "metadata": {},
     "output_type": "execute_result"
    }
   ],
   "source": [
    "# 2019 Melnea Incident Reports\n",
    "cio_2019 = pd.read_csv('script_113631134_20210423192813_combine.csv')\n",
    "cio_2019.STREET = cio_2019.STREET.str.upper()\n",
    "len(cio_2019[cio_2019.STREET.str.contains('MELNEA', na=False)])"
   ]
  },
  {
   "cell_type": "code",
   "execution_count": 93,
   "id": "bfc2dc34-d7d6-4b4a-aba1-d5bfb8bcdaed",
   "metadata": {},
   "outputs": [
    {
     "name": "stderr",
     "output_type": "stream",
     "text": [
      "/usr/lib/python3/dist-packages/IPython/core/interactiveshell.py:3155: DtypeWarning: Columns (0) have mixed types.Specify dtype option on import or set low_memory=False.\n",
      "  has_raised = await self.run_ast_nodes(code_ast.body, cell_name,\n"
     ]
    },
    {
     "data": {
      "text/plain": [
       "196"
      ]
     },
     "execution_count": 93,
     "metadata": {},
     "output_type": "execute_result"
    }
   ],
   "source": [
    "# 2020 Melnea Incident Reports\n",
    "cio_2020 = pd.read_csv('script_113631134_20210423193017_combine.csv')\n",
    "cio_2020.STREET = cio_2020.STREET.str.upper()\n",
    "len(cio_2020[cio_2020.STREET.str.contains('MELNEA', na=False)])"
   ]
  },
  {
   "cell_type": "code",
   "execution_count": 98,
   "id": "ab82ae4b-d15e-4b20-b6f2-342ea22f4db8",
   "metadata": {},
   "outputs": [
    {
     "data": {
      "text/plain": [
       "77"
      ]
     },
     "execution_count": 98,
     "metadata": {},
     "output_type": "execute_result"
    }
   ],
   "source": [
    "# 2021 Melnea Incident Reports\n",
    "cio_2021 = pd.read_csv('tmpjjjswbgo.csv')\n",
    "cio_2021.STREET = cio_2021.STREET.str.upper()\n",
    "len(cio_2021[cio_2021.STREET.str.contains('MELNEA', na=False)])"
   ]
  },
  {
   "cell_type": "code",
   "execution_count": 132,
   "id": "8d1b5c24-e0fd-4917-9a50-e926f20b0fb9",
   "metadata": {},
   "outputs": [],
   "source": [
    "# 2011 Earnings of top 20 overtime earners in 2020\n",
    "earnings_2011 = pd.read_csv('employee-earnings-report-2011.csv')\n",
    "earnings_2011.rename(columns = {\"Name\": \"NAME\"}, inplace = True)\n",
    "earnings_2011_2020 = top20_summary_2020.merge(earnings_2011[['NAME', 'Overtime']], how='left', on='NAME')\n",
    "earnings_2011_2020 = earnings_2011_2020[earnings_2011_2020['Overtime'].notna()]\n",
    "earnings_2011_2020.to_csv(\"data/2011_earnings_of_top20_overtime_earners_2020.csv\")"
   ]
  },
  {
   "cell_type": "code",
   "execution_count": 131,
   "id": "7e87351e-02d3-49b3-8f71-7a585731090e",
   "metadata": {},
   "outputs": [],
   "source": [
    "# 2012 Earnings of top 20 overtime earners in 2020\n",
    "earnings_2012 = pd.read_csv('employee-earnings-report-2012.csv')\n",
    "earnings_2012.rename(columns = {\"Name\": \"NAME\"}, inplace = True)\n",
    "earnings_2012_2020 = top20_summary_2020.merge(earnings_2012[['NAME', 'OVERTIME']], how='left', on='NAME')\n",
    "earnings_2012_2020 = earnings_2012_2020[earnings_2012_2020['OVERTIME'].notna()]\n",
    "earnings_2012_2020.to_csv(\"data/2012_earnings_of_top20_overtime_earners_2020.csv\")"
   ]
  },
  {
   "cell_type": "code",
   "execution_count": 130,
   "id": "5e9816ac-3d78-4358-a599-f15cf267d8d4",
   "metadata": {},
   "outputs": [],
   "source": [
    "# 2013 Earnings of top 20 overtime earners in 2020\n",
    "earnings_2013 = pd.read_csv('employee-earnings-report-2013.csv')\n",
    "earnings_2013.rename(columns = {\"Name\": \"NAME\"}, inplace = True)\n",
    "earnings_2013_2020 = top20_summary_2020.merge(earnings_2013[['NAME', 'OVERTIME']], how='left', on='NAME')\n",
    "earnings_2013_2020 = earnings_2013_2020[earnings_2013_2020['OVERTIME'].notna()]\n",
    "earnings_2013_2020.to_csv(\"data/2013_earnings_of_top20_overtime_earners_2020.csv\")"
   ]
  },
  {
   "cell_type": "code",
   "execution_count": 129,
   "id": "7835e175-dfb3-4823-bf3e-4d78a200f35d",
   "metadata": {},
   "outputs": [],
   "source": [
    "# 2014 Earnings of top 20 overtime earners in 2020\n",
    "earnings_2014 = pd.read_csv('employee-earnings-report-2014.csv')\n",
    "earnings_2014.rename(columns = {\"Name\": \"NAME\"}, inplace = True)\n",
    "earnings_2014_2020 = top20_summary_2020.merge(earnings_2014[['NAME', 'OVERTIME']], how='left', on='NAME')\n",
    "earnings_2014_2020 = earnings_2014_2020[earnings_2014_2020['OVERTIME'].notna()]\n",
    "earnings_2014_2020.to_csv(\"data/2014_earnings_of_top20_overtime_earners_2020.csv\")"
   ]
  },
  {
   "cell_type": "code",
   "execution_count": 128,
   "id": "25aca9c1-6d7c-42f6-867e-4837b62cb10c",
   "metadata": {},
   "outputs": [],
   "source": [
    "# 2015 Earnings of top 20 overtime earners in 2020\n",
    "earnings_2015 = pd.read_csv('employee-earnings-report-2015.csv')\n",
    "earnings_2015.rename(columns = {\"Name\": \"NAME\"}, inplace = True)\n",
    "earnings_2015_2020 = top20_summary_2020.merge(earnings_2015[['NAME', 'OVERTIME']], how='left', on='NAME')\n",
    "earnings_2015_2020 = earnings_2015_2020[earnings_2015_2020['OVERTIME'].notna()]\n",
    "earnings_2015_2020.to_csv(\"data/2015_earnings_of_top20_overtime_earners_2020.csv\")"
   ]
  },
  {
   "cell_type": "code",
   "execution_count": 127,
   "id": "620af3f1-8b98-4410-aedb-f18fecf8216c",
   "metadata": {},
   "outputs": [],
   "source": [
    "# 2016 Earnings of top 20 overtime earners in 2020\n",
    "earnings_2016 = pd.read_csv('employee-earnings-report-2016.csv')\n",
    "earnings_2016.rename(columns = {\"Name\": \"NAME\"}, inplace = True)\n",
    "earnings_2016_2020 = top20_summary_2020.merge(earnings_2016[['NAME', 'OVERTIME']], how='left', on='NAME')\n",
    "earnings_2016_2020 = earnings_2016_2020[earnings_2016_2020['OVERTIME'].notna()]\n",
    "earnings_2016_2020.to_csv(\"data/2016_earnings_of_top20_overtime_earners_2020.csv\")"
   ]
  },
  {
   "cell_type": "code",
   "execution_count": 126,
   "id": "96086e59-c846-433c-bcc2-e8ae06d1a752",
   "metadata": {},
   "outputs": [],
   "source": [
    "# 2017 Earnings of top 20 overtime earners in 2020\n",
    "earnings_2017 = pd.read_csv('employee-earnings-report-2017.csv')\n",
    "earnings_2017.rename(columns = {\"Name\": \"NAME\"}, inplace = True)\n",
    "earnings_2017_2020 = top20_summary_2020.merge(earnings_2017[['NAME', 'OVERTIME']], how='left', on='NAME')\n",
    "earnings_2017_2020 = earnings_2017_2020[earnings_2017_2020['OVERTIME'].notna()]\n",
    "earnings_2017_2020.to_csv(\"data/2017_earnings_of_top20_overtime_earners_2020.csv\")"
   ]
  },
  {
   "cell_type": "code",
   "execution_count": 125,
   "id": "99a6e839-2eac-413d-a1bb-3276ac3a09c6",
   "metadata": {},
   "outputs": [],
   "source": [
    "# 2018 Earnings of top 20 overtime earners in 2020\n",
    "earnings_2018 = pd.read_csv('employeeearningscy18full.csv')\n",
    "earnings_2018.rename(columns = {\"Name\": \"NAME\"}, inplace = True)\n",
    "earnings_2018_2020 = top20_summary_2020.merge(earnings_2018[['NAME', 'OVERTIME']], how='left', on='NAME')\n",
    "earnings_2018_2020 = earnings_2018_2020[earnings_2018_2020['OVERTIME'].notna()]\n",
    "earnings_2018_2020.to_csv(\"data/2018_earnings_of_top20_overtime_earners_2020.csv\")"
   ]
  },
  {
   "cell_type": "code",
   "execution_count": 124,
   "id": "3a97a7f8-3633-421c-94e8-1a3fcb0e446c",
   "metadata": {},
   "outputs": [],
   "source": [
    "# 2019 Earnings of top 20 overtime earners in 2020\n",
    "earnings_2019 = pd.read_csv('allemployeescy2019_feb19_20final-all.csv')\n",
    "earnings_2019.rename(columns = {\"Name\": \"NAME\"}, inplace = True)\n",
    "earnings_2019_2020 = top20_summary_2020.merge(earnings_2019[['NAME', ' OVERTIME ']], how='left', on='NAME')\n",
    "earnings_2019_2020 = earnings_2019_2020[earnings_2019_2020[' OVERTIME '].notna()]\n",
    "earnings_2019_2020.to_csv(\"data/2019_earnings_of_top20_overtime_earners_2020.csv\")"
   ]
  },
  {
   "cell_type": "code",
   "execution_count": 123,
   "id": "dd0250b1-5da7-464e-8e58-5ea7e6d6ca40",
   "metadata": {},
   "outputs": [],
   "source": [
    "# 2020 Earnings of top 20 overtime earners in 2020\n",
    "earnings_2020 = pd.read_csv('city-of-boston-calendar-year-2020-earnings.csv')\n",
    "earnings_2020.rename(columns = {\"Name\": \"NAME\"}, inplace = True)\n",
    "earnings_2020_2020 = top20_summary_2020.merge(earnings_2020[['NAME', ' OVERTIME ']], how='left', on='NAME')\n",
    "earnings_2020_2020 = earnings_2020_2020[earnings_2020_2020[' OVERTIME '].notna()]\n",
    "earnings_2020_2020.to_csv(\"data/2020_earnings_of_top20_overtime_earners_2020.csv\")"
   ]
  },
  {
   "cell_type": "code",
   "execution_count": 121,
   "id": "6e2aa689-6245-41e2-8f40-fd7c0a78b2e2",
   "metadata": {},
   "outputs": [],
   "source": [
    "# check for medically incapacitated unit across special events\n",
    "earnings_2020 = pd.read_csv('city-of-boston-calendar-year-2020-earnings.csv')\n",
    "bpda_dataset.rename(columns = {\"LN,FN\": \"NAME\"}, inplace = True)\n",
    "earnings_2020_medically_incapacitated = bpda_dataset[['NAME', 'ID', 'Hrly Rate', 'Job Title', 'Task Profile Descr', 'Ethnic Grp']].merge(earnings_2020[['NAME', ' OVERTIME ']], how='left', on='NAME')\n",
    "earnings_2020_medically_incapacitated = earnings_2020_medically_incapacitated[earnings_2020_medically_incapacitated['Task Profile Descr'] == \"Medically Incapacitated Unit\"]\n",
    "earnings_2020_medically_incapacitated = earnings_2020_medically_incapacitated[earnings_2020_medically_incapacitated[' OVERTIME '].notna()]\n",
    "earnings_2020_medically_incapacitated.to_csv(\"data/medically_incapacitated_2020.csv\")"
   ]
  },
  {
   "cell_type": "code",
   "execution_count": 120,
   "id": "rotary-tractor",
   "metadata": {},
   "outputs": [],
   "source": [
    "# create csv with event descriptions for each year\n",
    "special_events_2015.DESCRIPTION.to_csv(\"data/special_events_2015_desc.csv\")\n",
    "special_events_2016.DESCRIPTION.to_csv(\"data/special_events_2016_desc.csv\")\n",
    "special_events_2017.DESCRIPTION.to_csv(\"data/special_events_2017_desc.csv\")\n",
    "special_events_2018.DESCRIPTION.to_csv(\"data/special_events_2018_desc.csv\")\n",
    "special_events_2019.DESCRIPTION.to_csv(\"data/special_events_2019_desc.csv\")\n",
    "special_events_2020.DESCRIPTION.to_csv(\"data/special_events_2020_desc.csv\")"
   ]
  },
  {
   "cell_type": "code",
   "execution_count": null,
   "id": "cathedral-square",
   "metadata": {},
   "outputs": [],
   "source": []
  }
 ],
 "metadata": {
  "kernelspec": {
   "display_name": "Python 3.9.4 64-bit",
   "language": "python",
   "name": "python394jvsc74a57bd031f2aee4e71d21fbe5cf8b01ff0e069b9275f58929596ceb00d14d90e3e16cd6"
  },
  "language_info": {
   "codemirror_mode": {
    "name": "ipython",
    "version": 3
   },
   "file_extension": ".py",
   "mimetype": "text/x-python",
   "name": "python",
   "nbconvert_exporter": "python",
   "pygments_lexer": "ipython3",
   "version": "3.9.5"
  },
  "metadata": {
   "interpreter": {
    "hash": "31f2aee4e71d21fbe5cf8b01ff0e069b9275f58929596ceb00d14d90e3e16cd6"
   }
  },
  "toc-autonumbering": false,
  "toc-showcode": false,
  "toc-showmarkdowntxt": false
 },
 "nbformat": 4,
 "nbformat_minor": 5
}
