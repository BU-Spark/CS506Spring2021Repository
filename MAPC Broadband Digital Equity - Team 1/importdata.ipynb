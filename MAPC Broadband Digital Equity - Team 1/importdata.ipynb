{
 "cells": [
  {
   "cell_type": "markdown",
   "metadata": {},
   "source": [
    "# MAPC Team 1 Notebook"
   ]
  },
  {
   "cell_type": "code",
   "execution_count": null,
   "metadata": {},
   "outputs": [],
   "source": [
    "# code block for imports \n",
    "import pandas as pd \n",
    "import numpy as np\n",
    "import sqlite3\n",
    "from sqlalchemy import create_engine\n",
    "import os\n",
    "import matplotlib.pyplot as plt\n",
    "import pandas as pd\n",
    "import folium\n",
    "from folium import plugins\n",
    "from folium.plugins import HeatMap\n"
   ]
  },
  {
   "cell_type": "code",
   "execution_count": null,
   "metadata": {},
   "outputs": [],
   "source": [
    "# functions for reading data as a df and inserting into sql db\n",
    "def readData(filename):\n",
    "    data = pd.read_csv(filename)\n",
    "    return data\n",
    "\n",
    "def insertDataToDB(tablename, df,conn):\n",
    "    df.to_sql(tablename,conn, if_exists=\"replace\")\n"
   ]
  },
  {
   "cell_type": "code",
   "execution_count": null,
   "metadata": {},
   "outputs": [],
   "source": [
    "# connect to database cs506MAPC.db\n",
    "conn = sqlite3.connect('cs506MAPC.db')\n",
    "\n",
    "# read data from FCC June 2019 data. \n",
    "# If this line causes errors for you, you first need to download the data and \n",
    "# and unzip it into your local copy of your repository. (Can't upload the CSV to git because it's too large)\n",
    "# to download the zip file, go here --> https://github.com/MAPC/broadband-data-bu/tree/main/FCC%20data\n",
    "# NOTE: Make sure that you have the .csv file in the 'MAPC Broadband Equity - Team 1' folder and that you rename it\n",
    "# to \"fcc_data_june2019.csv\" \n",
    "\n",
    "df = readData(\"fcc_data_june2019.csv\")\n",
    "insertDataToDB(\"fcc_data_t\",df,conn)"
   ]
  },
  {
   "cell_type": "markdown",
   "metadata": {},
   "source": [
    "**Command to import cities with their long and lat**"
   ]
  },
  {
   "cell_type": "code",
   "execution_count": null,
   "metadata": {},
   "outputs": [],
   "source": [
    "df = readData(\"MACityLongLat.csv\")\n",
    "insertDataToDB(\"CityLongLat_t\",df,conn)"
   ]
  },
  {
   "cell_type": "code",
   "execution_count": null,
   "metadata": {},
   "outputs": [],
   "source": [
    "qryStr = \"CREATE TABLE IF NOT EXISTS censusblocks_t (town TEXT, blockcode TEXT PRIMARY KEY NOT NULL)\"\n",
    "cursor = conn.cursor()\n",
    "cursor.execute(qryStr)\n",
    "\n",
    "dict = {}\n",
    "\n",
    "\n",
    "for filename in os.listdir('census_blocks'):\n",
    "    readFile = os.path.join('census_blocks', filename)\n",
    "    names = filename.split(\".\")\n",
    "    cityName = names[0].upper()\n",
    "    f = open(readFile,\"r\", encoding=\"latin-1\");\n",
    "    lines = f.readlines();\n",
    "    count = 0\n",
    "    for line in lines:\n",
    "        if count == 0:\n",
    "            count += 1\n",
    "            continue\n",
    "        entries = line.split(\";\")\n",
    "        if len(entries) != 6:\n",
    "            continue\n",
    "        tracts = entries[3].split(\".\");\n",
    "        censusblock = entries[1] + entries[2] + tracts[0] + tracts[1]\n",
    "        \n",
    "        if censusblock not in dict:\n",
    "            dict[censusblock] = cityName\n",
    "        else:\n",
    "            continue\n",
    "        cursor.execute(\"INSERT INTO censusblocks_t VALUES(?,?)\",(cityName,censusblock));\n",
    "        conn.commit()"
   ]
  },
  {
   "cell_type": "code",
   "execution_count": null,
   "metadata": {},
   "outputs": [],
   "source": [
    "df = readData(\"median_income.csv\")\n",
    "print(df.head(10))\n",
    "df_filtered = df[['ct10_id','mhi','mhi_me','o_mhi','o_mhi_me','r_mhi','r_mhi_me']]\n",
    "insertDataToDB(\"median_income_t\",df_filtered,conn)\n",
    "\n",
    "\n",
    "#todo: filter data from fcc data which has 0 max_ad_up and max_ad_down\n",
    "#this means company doesnt supply that area. "
   ]
  },
  {
   "cell_type": "markdown",
   "metadata": {},
   "source": [
    "## Display first 10 Providers with no service (0 upload and 0 download)"
   ]
  },
  {
   "cell_type": "code",
   "execution_count": null,
   "metadata": {
    "scrolled": true
   },
   "outputs": [],
   "source": [
    "qrystr =\"SELECT DISTINCT t1.ProviderName,substr(t1.BlockCode,0,12) as tractNum,t1.MaxAdDown,t1.MaxAdUp, t2.town, t3.Longitude, t3.Latitude FROM FCC_DATA_T t1, censusblocks_t t2, CityLongLat_t t3 WHERE substr(t1.BlockCode,0,12) = t2.blockcode AND t2.town = t3.town ORDER BY t2.town ASC\"\n",
    "\n",
    "\n",
    "#convert query results into dataframe\n",
    "df_filtered_providers = pd.read_sql_query(qrystr, conn)\n",
    "print(df_filtered_providers.head(10))\n",
    "\n",
    "\n"
   ]
  },
  {
   "cell_type": "markdown",
   "metadata": {},
   "source": [
    "**Display first 10 Providers with service in blocks**"
   ]
  },
  {
   "cell_type": "code",
   "execution_count": null,
   "metadata": {},
   "outputs": [],
   "source": [
    "qryStr2 = \"SELECT DISTINCT t1.ProviderName,substr(t1.BlockCode,0,12) as tractNum,t1.MaxAdDown,t1.MaxAdUp, t2.town, t3.Longitude, t3.Latitude FROM FCC_DATA_T t1, censusblocks_t t2, CityLongLat_t t3 WHERE MaxAdDown != 0.0 AND MaxAdUp != 0.0 and substr(t1.BlockCode,0,12) = t2.blockcode AND t2.town = t3.town ORDER BY t2.town ASC\"\n",
    "df_filtered_non_zero_providers = pd.read_sql_query(qryStr2, conn)\n",
    "print(df_filtered_non_zero_providers.head(10))\n"
   ]
  },
  {
   "cell_type": "markdown",
   "metadata": {},
   "source": [
    "**Display first 10 Providers with no service in blocks**"
   ]
  },
  {
   "cell_type": "code",
   "execution_count": null,
   "metadata": {},
   "outputs": [],
   "source": [
    "qryStr3 = \"SELECT DISTINCT t1.ProviderName,substr(t1.BlockCode,0,12) as tractNum,t1.MaxAdDown,t1.MaxAdUp, t2.town, t3.Longitude, t3.Latitude FROM FCC_DATA_T t1, censusblocks_t t2, CityLongLat_t t3 WHERE MaxAdDown = 0 AND MaxAdUp = 0 and substr(t1.BlockCode,0,12) = t2.blockcode AND t2.town = t3.town ORDER BY t2.town ASC\"\n",
    "df_filtered_zero_providers = pd.read_sql_query(qryStr3, conn)\n",
    "print(df_filtered_zero_providers.head(10))"
   ]
  },
  {
   "cell_type": "code",
   "execution_count": null,
   "metadata": {},
   "outputs": [],
   "source": [
    "def generateBaseMap(default_location=[42.360081, -71.058884]):\n",
    "    base_map = folium.Map(location=default_location)\n",
    "    return base_map\n",
    "\n",
    "# download speed\n",
    "base_map = generateBaseMap()\n",
    "\n",
    "HeatMap(data=df_filtered_non_zero_providers [['Latitude', 'Longitude', 'MaxAdDown']].groupby(['Latitude', 'Longitude']).\n",
    "        mean().reset_index().values.tolist(), radius=8, max_zoom=13).add_to(base_map) \n",
    "\n",
    "base_map.save('maxaddown.html')\n",
    "\n",
    "# upload speed\n",
    "base_map = generateBaseMap()\n",
    "\n",
    "HeatMap(data=df_filtered_non_zero_providers [['Latitude', 'Longitude', 'MaxAdUp']].groupby(['Latitude', 'Longitude']).\n",
    "        mean().reset_index().values.tolist(), radius=8, max_zoom=13).add_to(base_map) \n",
    "\n",
    "base_map.save('maxadup.html')"
   ]
  },
  {
   "cell_type": "code",
   "execution_count": null,
   "metadata": {},
   "outputs": [],
   "source": []
  }
 ],
 "metadata": {
  "kernelspec": {
   "display_name": "Python 3",
   "language": "python",
   "name": "python3"
  },
  "language_info": {
   "codemirror_mode": {
    "name": "ipython",
    "version": 3
   },
   "file_extension": ".py",
   "mimetype": "text/x-python",
   "name": "python",
   "nbconvert_exporter": "python",
   "pygments_lexer": "ipython3",
   "version": "3.8.8"
  }
 },
 "nbformat": 4,
 "nbformat_minor": 4
}
