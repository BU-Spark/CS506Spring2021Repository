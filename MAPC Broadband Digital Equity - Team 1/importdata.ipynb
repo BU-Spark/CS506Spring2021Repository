{
 "cells": [
  {
   "cell_type": "markdown",
   "metadata": {},
   "source": [
    "# MAPC Team 1 Notebook"
   ]
  },
  {
   "cell_type": "code",
   "execution_count": 1,
   "metadata": {},
   "outputs": [],
   "source": [
    "# code block for imports \n",
    "import pandas as pd \n",
    "import numpy as np\n",
    "import sqlite3\n",
    "from sqlalchemy import create_engine"
   ]
  },
  {
   "cell_type": "code",
   "execution_count": 2,
   "metadata": {},
   "outputs": [],
   "source": [
    "# functions for reading data as a df and inserting into sql db\n",
    "def readData(filename):\n",
    "    data = pd.read_csv(filename)\n",
    "    return data\n",
    "\n",
    "def insertDataToDB(tablename, df,conn):\n",
    "    df.to_sql(tablename,conn, if_exists=\"replace\")\n"
   ]
  },
  {
   "cell_type": "code",
   "execution_count": 3,
   "metadata": {},
   "outputs": [],
   "source": [
    "# connect to database cs506MAPC.db\n",
    "conn = sqlite3.connect('cs506MAPC.db')\n",
    "\n",
    "# read data from FCC June 2019 data. \n",
    "# If this line causes errors for you, you first need to download the data and \n",
    "# and unzip it into your local copy of your repository. (Can't upload the CSV to git because it's too large)\n",
    "# to download the zip file, go here --> https://github.com/MAPC/broadband-data-bu/tree/main/FCC%20data\n",
    "# NOTE: Make sure that you have the .csv file in the 'MAPC Broadband Equity - Team 1' folder and that you rename it\n",
    "# to \"fcc_data_june2019.csv\" \n",
    "\n",
    "df = readData(\"fcc_data_june2019.csv\")\n",
    "insertDataToDB(\"fcc_data_t\",df,conn)"
   ]
  },
  {
   "cell_type": "markdown",
   "metadata": {},
   "source": [
    "## Display first 10 Providers with no service (0 upload and 0 download)"
   ]
  },
  {
   "cell_type": "code",
   "execution_count": 4,
   "metadata": {},
   "outputs": [
    {
     "name": "stdout",
     "output_type": "stream",
     "text": [
      "                        ProviderName     tractNum  MaxAdDown  MaxAdUp\n",
      "0     MCI Communications Corporation  25001010100        0.0    0.000\n",
      "1                       ViaSat, Inc.  25001010100       35.0    3.000\n",
      "2             U.S. TelePacific Corp.  25001010100        0.0    0.000\n",
      "3  COMCAST CABLE COMMUNICATIONS, LLC  25001010100      987.0   35.000\n",
      "4  COMCAST CABLE COMMUNICATIONS, LLC  25001010100        0.0    0.000\n",
      "5            EarthLink Business, LLC  25001010100        0.0    0.000\n",
      "6        PAETEC Communications, Inc.  25001010100        0.0    0.000\n",
      "7           Verizon New England Inc.  25001010100       10.0    1.000\n",
      "8           Verizon New England Inc.  25001010100       15.0    1.000\n",
      "9           Verizon New England Inc.  25001010100        7.0    0.768\n"
     ]
    }
   ],
   "source": [
    "qrystr =\"SELECT DISTINCT ProviderName,substr(BlockCode,0,12) as tractNum,MaxAdDown,MaxAdUp FROM FCC_DATA_T ORDER BY substr(BlockCode,0,12) ASC\"\n",
    "\n",
    "\n",
    "#convert query results into dataframe\n",
    "df_filtered_providers = pd.read_sql_query(qrystr, conn)\n",
    "print(df_filtered.head(10))\n",
    "\n",
    "\n"
   ]
  },
  {
   "cell_type": "code",
   "execution_count": 12,
   "metadata": {},
   "outputs": [
    {
     "name": "stdout",
     "output_type": "stream",
     "text": [
      "                        ProviderName     tractNum  MaxAdDown  MaxAdUp\n",
      "0                       ViaSat, Inc.  25001010100       35.0    3.000\n",
      "1  COMCAST CABLE COMMUNICATIONS, LLC  25001010100      987.0   35.000\n",
      "2           Verizon New England Inc.  25001010100       10.0    1.000\n",
      "3           Verizon New England Inc.  25001010100       15.0    1.000\n",
      "4           Verizon New England Inc.  25001010100        7.0    0.768\n",
      "5           Verizon New England Inc.  25001010100        5.0    0.768\n",
      "6           Verizon New England Inc.  25001010100        1.5    0.384\n",
      "7           Verizon New England Inc.  25001010100        3.0    0.768\n",
      "8               HNS License Sub, LLC  25001010100       25.0    3.000\n",
      "9                  VSAT Systems, LLC  25001010100        2.0    1.300\n"
     ]
    }
   ],
   "source": [
    "qryStr2 = \"SELECT DISTINCT ProviderName, substr(BlockCode,0,12) as tractNum, MaxAdDown, MaxAdUp FROM FCC_DATA_T WHERE MaxAdDown != 0.0 AND MaxAdUp != 0.0 ORDER BY substr(BlockCode,0,12) ASC\"\n",
    "df_filtered_non_zero_providers = pd.read_sql_query(qryStr2, conn)\n",
    "print(df_filtered_non_zero_providers.head(10))\n"
   ]
  },
  {
   "cell_type": "code",
   "execution_count": 5,
   "metadata": {},
   "outputs": [
    {
     "name": "stdout",
     "output_type": "stream",
     "text": [
      "   seq_id      ct10_id               geoid  logrecno acs_year    mhi  mhi_me  \\\n",
      "0   11825  25001010100  14000US25001010100       911  2014-18  50741    7720   \n",
      "1   11826  25001010206  14000US25001010206       912  2014-18  69267    7140   \n",
      "2   11827  25001010208  14000US25001010208       913  2014-18  65446   10571   \n",
      "3   11828  25001010304  14000US25001010304       914  2014-18  79044   14744   \n",
      "4   11829  25001010306  14000US25001010306       915  2014-18  62553   10246   \n",
      "5   11830  25001010400  14000US25001010400       916  2014-18  60188   15938   \n",
      "6   11831  25001010500  14000US25001010500       917  2014-18  78682   18270   \n",
      "7   11832  25001010600  14000US25001010600       918  2014-18  73203   12880   \n",
      "8   11833  25001010700  14000US25001010700       919  2014-18  82417   20490   \n",
      "9   11834  25001010800  14000US25001010800       920  2014-18  71776    8325   \n",
      "\n",
      "   o_mhi  o_mhi_me  r_mhi  r_mhi_me  \n",
      "0  57109      9886  32930      8570  \n",
      "1  71019      4989  31023     20026  \n",
      "2  66341      6223  41250     19532  \n",
      "3  89297     13570      0         0  \n",
      "4  63910      9075  36676     28961  \n",
      "5  66477     15004  38500     24465  \n",
      "6  97031     16844  15545      5205  \n",
      "7  91875     12470  26686      8414  \n",
      "8  95982     15511  31452     16133  \n",
      "9  74599     10757  23482     18890  \n"
     ]
    }
   ],
   "source": [
    "df = readData(\"median_income.csv\")\n",
    "print(df.head(10))\n",
    "df_filtered = df[['ct10_id','mhi','mhi_me','o_mhi','o_mhi_me','r_mhi','r_mhi_me']]\n",
    "insertDataToDB(\"median_income_t\",df_filtered,conn)\n",
    "\n",
    "\n",
    "#todo: filter data from fcc data which has 0 max_ad_up and max_ad_down\n",
    "#this means company doesnt supply that area. "
   ]
  },
  {
   "cell_type": "code",
   "execution_count": null,
   "metadata": {},
   "outputs": [],
   "source": []
  }
 ],
 "metadata": {
  "kernelspec": {
   "display_name": "Python 3",
   "language": "python",
   "name": "python3"
  },
  "language_info": {
   "codemirror_mode": {
    "name": "ipython",
    "version": 3
   },
   "file_extension": ".py",
   "mimetype": "text/x-python",
   "name": "python",
   "nbconvert_exporter": "python",
   "pygments_lexer": "ipython3",
   "version": "3.8.8"
  }
 },
 "nbformat": 4,
 "nbformat_minor": 4
}
