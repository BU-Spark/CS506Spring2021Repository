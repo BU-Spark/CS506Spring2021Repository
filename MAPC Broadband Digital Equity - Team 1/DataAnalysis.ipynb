{
 "cells": [
  {
   "cell_type": "code",
   "execution_count": null,
   "id": "arctic-input",
   "metadata": {},
   "outputs": [],
   "source": [
    "# code block for imports \n",
    "import pandas as pd \n",
    "import numpy as np\n",
    "import sqlite3\n",
    "from sqlalchemy import create_engine\n",
    "import os\n",
    "import matplotlib.pyplot as plt\n",
    "import pandas as pd\n",
    "import folium\n",
    "from folium import plugins\n",
    "from folium.plugins import HeatMap"
   ]
  },
  {
   "cell_type": "code",
   "execution_count": null,
   "id": "compact-comparative",
   "metadata": {},
   "outputs": [],
   "source": [
    "conn = sqlite3.connect('cs506MAPC.db')"
   ]
  },
  {
   "cell_type": "markdown",
   "id": "generous-evidence",
   "metadata": {},
   "source": [
    "## Display first 10 Providers "
   ]
  },
  {
   "cell_type": "code",
   "execution_count": null,
   "id": "universal-portugal",
   "metadata": {},
   "outputs": [],
   "source": [
    "qrystr =\"SELECT DISTINCT t1.ProviderName,substr(t1.BlockCode,0,12) as tractNum,t1.MaxAdDown,t1.MaxAdUp, t2.town, t3.Longitude, t3.Latitude FROM FCC_DATA_T t1, censusblocks_t t2, CityLongLat_t t3 WHERE substr(t1.BlockCode,0,12) = t2.blockcode AND t2.town = t3.town ORDER BY t2.town ASC\"\n",
    "\n",
    "\n",
    "#convert query results into dataframe\n",
    "df_filtered_providers = pd.read_sql_query(qrystr, conn)\n",
    "print(df_filtered_providers.head(10))"
   ]
  },
  {
   "cell_type": "markdown",
   "id": "assumed-eleven",
   "metadata": {},
   "source": [
    "## Non Zero Providers"
   ]
  },
  {
   "cell_type": "code",
   "execution_count": null,
   "id": "computational-niger",
   "metadata": {},
   "outputs": [],
   "source": [
    "qryStr2 = \"SELECT DISTINCT t1.ProviderName,substr(t1.BlockCode,0,12) as tractNum,t1.MaxAdDown,t1.MaxAdUp, t2.town, t3.Longitude, t3.Latitude FROM FCC_DATA_T t1, censusblocks_t t2, CityLongLat_t t3 WHERE MaxAdDown != 0.0 AND MaxAdUp != 0.0 and substr(t1.BlockCode,0,12) = t2.blockcode AND t2.town = t3.town ORDER BY t2.town ASC\"\n",
    "df_filtered_non_zero_providers = pd.read_sql_query(qryStr2, conn)\n",
    "print(df_filtered_non_zero_providers.head(10))\n"
   ]
  },
  {
   "cell_type": "markdown",
   "id": "fossil-repository",
   "metadata": {},
   "source": [
    "## Zero Providers"
   ]
  },
  {
   "cell_type": "code",
   "execution_count": null,
   "id": "romantic-murder",
   "metadata": {},
   "outputs": [],
   "source": [
    "qryStr3 = \"SELECT DISTINCT t1.ProviderName,substr(t1.BlockCode,0,12) as tractNum,t1.MaxAdDown,t1.MaxAdUp, t2.town, t3.Longitude, t3.Latitude FROM FCC_DATA_T t1, censusblocks_t t2, CityLongLat_t t3 WHERE MaxAdDown = 0 AND MaxAdUp = 0 and substr(t1.BlockCode,0,12) = t2.blockcode AND t2.town = t3.town ORDER BY t2.town ASC\"\n",
    "df_filtered_zero_providers = pd.read_sql_query(qryStr3, conn)\n",
    "print(df_filtered_zero_providers.head(10))"
   ]
  },
  {
   "source": [
    "## Max Providers Per Area"
   ],
   "cell_type": "markdown",
   "metadata": {}
  },
  {
   "cell_type": "code",
   "execution_count": null,
   "metadata": {
    "tags": []
   },
   "outputs": [],
   "source": [
    "town_dict = {}\n",
    "towns = df_filtered_zero_providers['town']\n",
    "providers = df_filtered_zero_providers['ProviderName']\n",
    "df_towns_providers = pd.concat([towns, providers], axis=1)\n",
    "numpy_arr = df_towns_providers.to_numpy()\n",
    "for i in range(len(numpy_arr)):\n",
    "    town_name = numpy_arr[i][0]\n",
    "    if town_name not in town_dict.keys():\n",
    "        town_dict[town_name] = [numpy_arr[i][1]]\n",
    "    elif numpy_arr[i][1] not in town_dict.get(town_name):\n",
    "        town_dict[town_name].append(numpy_arr[i][1])\n",
    "    else:\n",
    "        continue\n",
    "\n",
    "num_providers_dict = {}\n",
    "for key in town_dict.keys():\n",
    "    num_providers_dict[key] = len(town_dict.get(key))\n",
    "\n",
    "df_num_providers = pd.DataFrame(num_providers_dict.items(), columns=['Town', 'ProviderCount'])\n",
    "print(df_num_providers)\n"
   ]
  }
 ],
 "metadata": {
  "kernelspec": {
   "name": "python3",
   "display_name": "Python 3.9.1 64-bit",
   "metadata": {
    "interpreter": {
     "hash": "ac59ebe37160ed0dfa835113d9b8498d9f09ceb179beaac4002f036b9467c963"
    }
   }
  },
  "language_info": {
   "codemirror_mode": {
    "name": "ipython",
    "version": 3
   },
   "file_extension": ".py",
   "mimetype": "text/x-python",
   "name": "python",
   "nbconvert_exporter": "python",
   "pygments_lexer": "ipython3",
   "version": "3.9.1-final"
  }
 },
 "nbformat": 4,
 "nbformat_minor": 5
}