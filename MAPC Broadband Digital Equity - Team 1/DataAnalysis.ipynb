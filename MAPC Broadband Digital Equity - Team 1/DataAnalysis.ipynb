{
 "cells": [
  {
   "cell_type": "code",
   "execution_count": 1,
   "id": "oriented-pioneer",
   "metadata": {},
   "outputs": [],
   "source": [
    "# code block for imports \n",
    "import pandas as pd \n",
    "import numpy as np\n",
    "import sqlite3\n",
    "from sqlalchemy import create_engine\n",
    "import os\n",
    "import matplotlib.pyplot as plt\n",
    "from matplotlib.ticker import MaxNLocator\n",
    "import pandas as pd\n",
    "import folium\n",
    "from folium import plugins\n",
    "from folium.plugins import HeatMap\n",
    "import seaborn as sns"
   ]
  },
  {
   "cell_type": "code",
   "execution_count": 2,
   "id": "eastern-syracuse",
   "metadata": {},
   "outputs": [],
   "source": [
    "conn = sqlite3.connect('cs506MAPC.db')"
   ]
  },
  {
   "cell_type": "markdown",
   "id": "requested-regression",
   "metadata": {},
   "source": [
    "## Display first 10 Providers "
   ]
  },
  {
   "cell_type": "code",
   "execution_count": 3,
   "id": "crucial-loading",
   "metadata": {},
   "outputs": [
    {
     "name": "stdout",
     "output_type": "stream",
     "text": [
      "                     ProviderName     tractNum  MaxAdDown  MaxAdUp      town  \\\n",
      "0  MCI Communications Corporation  25023520100        0.0      0.0  ABINGTON   \n",
      "1  MCI Communications Corporation  25023520201        0.0      0.0  ABINGTON   \n",
      "2  MCI Communications Corporation  25023520202        0.0      0.0  ABINGTON   \n",
      "3          Crown Castle Fiber LLC  25023520100        0.0      0.0  ABINGTON   \n",
      "4          Crown Castle Fiber LLC  25023520201        0.0      0.0  ABINGTON   \n",
      "5          Crown Castle Fiber LLC  25023520202        0.0      0.0  ABINGTON   \n",
      "6                    ViaSat, Inc.  25023520100      100.0      3.0  ABINGTON   \n",
      "7                    ViaSat, Inc.  25023520201      100.0      3.0  ABINGTON   \n",
      "8                    ViaSat, Inc.  25023520202      100.0      3.0  ABINGTON   \n",
      "9          U.S. TelePacific Corp.  25023520202        0.0      0.0  ABINGTON   \n",
      "\n",
      "   Longitude  Latitude  \n",
      "0     -70.96     42.12  \n",
      "1     -70.96     42.12  \n",
      "2     -70.96     42.12  \n",
      "3     -70.96     42.12  \n",
      "4     -70.96     42.12  \n",
      "5     -70.96     42.12  \n",
      "6     -70.96     42.12  \n",
      "7     -70.96     42.12  \n",
      "8     -70.96     42.12  \n",
      "9     -70.96     42.12  \n"
     ]
    }
   ],
   "source": [
    "qrystr =\"SELECT DISTINCT t1.ProviderName,substr(t1.BlockCode,0,12) as tractNum,t1.MaxAdDown,t1.MaxAdUp, t2.town, t3.Longitude, t3.Latitude FROM FCC_DATA_T t1, censusblocks_t t2, CityLongLat_t t3 WHERE substr(t1.BlockCode,0,12) = t2.blockcode AND t2.town = t3.town ORDER BY t2.town ASC\"\n",
    "\n",
    "\n",
    "#convert query results into dataframe\n",
    "df_filtered_providers = pd.read_sql_query(qrystr, conn)\n",
    "print(df_filtered_providers.head(10))"
   ]
  },
  {
   "cell_type": "markdown",
   "id": "grateful-horizontal",
   "metadata": {},
   "source": [
    "## Non Zero Providers"
   ]
  },
  {
   "cell_type": "code",
   "execution_count": 4,
   "id": "identified-justice",
   "metadata": {},
   "outputs": [
    {
     "name": "stdout",
     "output_type": "stream",
     "text": [
      "                        ProviderName     tractNum  MaxAdDown  MaxAdUp  \\\n",
      "0                       ViaSat, Inc.  25023520100      100.0    3.000   \n",
      "1                       ViaSat, Inc.  25023520201      100.0    3.000   \n",
      "2                       ViaSat, Inc.  25023520202      100.0    3.000   \n",
      "3  COMCAST CABLE COMMUNICATIONS, LLC  25023520100      987.0   35.000   \n",
      "4  COMCAST CABLE COMMUNICATIONS, LLC  25023520201      987.0   35.000   \n",
      "5  COMCAST CABLE COMMUNICATIONS, LLC  25023520202      987.0   35.000   \n",
      "6           Verizon New England Inc.  25023520202      940.0  880.000   \n",
      "7           Verizon New England Inc.  25023520202        5.0    0.768   \n",
      "8           Verizon New England Inc.  25023520202       15.0    1.000   \n",
      "9           Verizon New England Inc.  25023520202       10.0    1.000   \n",
      "\n",
      "       town  Longitude  Latitude  \n",
      "0  ABINGTON     -70.96     42.12  \n",
      "1  ABINGTON     -70.96     42.12  \n",
      "2  ABINGTON     -70.96     42.12  \n",
      "3  ABINGTON     -70.96     42.12  \n",
      "4  ABINGTON     -70.96     42.12  \n",
      "5  ABINGTON     -70.96     42.12  \n",
      "6  ABINGTON     -70.96     42.12  \n",
      "7  ABINGTON     -70.96     42.12  \n",
      "8  ABINGTON     -70.96     42.12  \n",
      "9  ABINGTON     -70.96     42.12  \n"
     ]
    }
   ],
   "source": [
    "qryStr2 = \"SELECT DISTINCT t1.ProviderName,substr(t1.BlockCode,0,12) as tractNum,t1.MaxAdDown,t1.MaxAdUp, t2.town, t3.Longitude, t3.Latitude FROM FCC_DATA_T t1, censusblocks_t t2, CityLongLat_t t3 WHERE MaxAdDown != 0.0 AND MaxAdUp != 0.0 and substr(t1.BlockCode,0,12) = t2.blockcode AND t2.town = t3.town ORDER BY t2.town ASC\"\n",
    "df_filtered_non_zero_providers = pd.read_sql_query(qryStr2, conn)\n",
    "print(df_filtered_non_zero_providers.head(10))"
   ]
  },
  {
   "cell_type": "markdown",
   "id": "swiss-command",
   "metadata": {},
   "source": [
    "## Zero Providers"
   ]
  },
  {
   "cell_type": "code",
   "execution_count": 5,
   "id": "lasting-insulation",
   "metadata": {},
   "outputs": [
    {
     "name": "stdout",
     "output_type": "stream",
     "text": [
      "                        ProviderName     tractNum  MaxAdDown  MaxAdUp  \\\n",
      "0     MCI Communications Corporation  25023520100        0.0      0.0   \n",
      "1     MCI Communications Corporation  25023520201        0.0      0.0   \n",
      "2     MCI Communications Corporation  25023520202        0.0      0.0   \n",
      "3             Crown Castle Fiber LLC  25023520100        0.0      0.0   \n",
      "4             Crown Castle Fiber LLC  25023520201        0.0      0.0   \n",
      "5             Crown Castle Fiber LLC  25023520202        0.0      0.0   \n",
      "6             U.S. TelePacific Corp.  25023520202        0.0      0.0   \n",
      "7  Broadview Networks Holdings, Inc.  25023520100        0.0      0.0   \n",
      "8  COMCAST CABLE COMMUNICATIONS, LLC  25023520201        0.0      0.0   \n",
      "9  COMCAST CABLE COMMUNICATIONS, LLC  25023520100        0.0      0.0   \n",
      "\n",
      "       town  Longitude  Latitude  \n",
      "0  ABINGTON     -70.96     42.12  \n",
      "1  ABINGTON     -70.96     42.12  \n",
      "2  ABINGTON     -70.96     42.12  \n",
      "3  ABINGTON     -70.96     42.12  \n",
      "4  ABINGTON     -70.96     42.12  \n",
      "5  ABINGTON     -70.96     42.12  \n",
      "6  ABINGTON     -70.96     42.12  \n",
      "7  ABINGTON     -70.96     42.12  \n",
      "8  ABINGTON     -70.96     42.12  \n",
      "9  ABINGTON     -70.96     42.12  \n"
     ]
    }
   ],
   "source": [
    "qryStr3 = \"SELECT DISTINCT t1.ProviderName,substr(t1.BlockCode,0,12) as tractNum,t1.MaxAdDown,t1.MaxAdUp, t2.town, t3.Longitude, t3.Latitude FROM FCC_DATA_T t1, censusblocks_t t2, CityLongLat_t t3 WHERE MaxAdDown = 0 AND MaxAdUp = 0 and substr(t1.BlockCode,0,12) = t2.blockcode AND t2.town = t3.town ORDER BY t2.town ASC\"\n",
    "df_filtered_zero_providers = pd.read_sql_query(qryStr3, conn)\n",
    "print(df_filtered_zero_providers.head(10))"
   ]
  },
  {
   "cell_type": "markdown",
   "id": "herbal-potter",
   "metadata": {},
   "source": [
    "## Max Providers Per Area"
   ]
  },
  {
   "cell_type": "code",
   "execution_count": 6,
   "id": "burning-scale",
   "metadata": {
    "tags": []
   },
   "outputs": [
    {
     "name": "stdout",
     "output_type": "stream",
     "text": [
      "                Town  ProviderCount\n",
      "0           ABINGTON              9\n",
      "1    ACUSHNET CENTER              4\n",
      "2              ADAMS              5\n",
      "3        AGAWAM TOWN             13\n",
      "4      AMESBURY TOWN              8\n",
      "..               ...            ...\n",
      "183       WINCHENDON              6\n",
      "184       WINCHESTER              7\n",
      "185    WINTHROP TOWN              6\n",
      "186           WOBURN             17\n",
      "187        WORCESTER             18\n",
      "\n",
      "[188 rows x 2 columns]\n"
     ]
    }
   ],
   "source": [
    "town_dict = {}\n",
    "towns = df_filtered_zero_providers['town']\n",
    "providers = df_filtered_zero_providers['ProviderName']\n",
    "df_towns_providers = pd.concat([towns, providers], axis=1)\n",
    "numpy_arr = df_towns_providers.to_numpy()\n",
    "for i in range(len(numpy_arr)):\n",
    "    town_name = numpy_arr[i][0]\n",
    "    if town_name not in town_dict.keys():\n",
    "        town_dict[town_name] = [numpy_arr[i][1]]\n",
    "    elif numpy_arr[i][1] not in town_dict.get(town_name):\n",
    "        town_dict[town_name].append(numpy_arr[i][1])\n",
    "    else:\n",
    "        continue\n",
    "\n",
    "num_providers_dict = {}\n",
    "for key in town_dict.keys():\n",
    "    num_providers_dict[key] = len(town_dict.get(key))\n",
    "\n",
    "df_num_providers = pd.DataFrame(num_providers_dict.items(), columns=['Town', 'ProviderCount'])\n",
    "print(df_num_providers)"
   ]
  },
  {
   "cell_type": "markdown",
   "id": "third-stroke",
   "metadata": {},
   "source": [
    "## Display top/bottom 5 areas by number of providers (& Revere, Everett, Quincy)"
   ]
  },
  {
   "cell_type": "code",
   "execution_count": 7,
   "id": "metric-measurement",
   "metadata": {},
   "outputs": [
    {
     "name": "stdout",
     "output_type": "stream",
     "text": [
      "               Town  ProviderCount\n",
      "0         CAMBRIDGE             21\n",
      "1            BOSTON             18\n",
      "2         WORCESTER             18\n",
      "3        SOMERVILLE             17\n",
      "4           WALTHAM             17\n",
      "5   BARNSTABLE TOWN              1\n",
      "6            HANSON              1\n",
      "7       OCEAN GROVE              1\n",
      "8     SOUTH AMHERST              1\n",
      "9           HOLLAND              2\n",
      "10          EVERETT             11\n",
      "11           QUINCY             13\n",
      "12           REVERE             10\n"
     ]
    },
    {
     "data": {
      "image/png": "[encoded data removed]",
      "text/plain": [
       "<Figure size 432x288 with 1 Axes>"
      ]
     },
     "metadata": {
      "needs_background": "light"
     },
     "output_type": "display_data"
    }
   ],
   "source": [
    "five_most_providers = dict(sorted(num_providers_dict.items(), key=lambda item: item[1], reverse=True)[:5])\n",
    "five_least_providers = dict(sorted(num_providers_dict.items(), key=lambda item: item[1])[:5])\n",
    "everett_providers = {'EVERETT': num_providers_dict.get('EVERETT')}\n",
    "quincy_providers = {'QUINCY': num_providers_dict.get('QUINCY')}\n",
    "revere_providers = {'REVERE': num_providers_dict.get('REVERE')}\n",
    "plot_providers = {**five_most_providers, **five_least_providers, **everett_providers, **quincy_providers, **revere_providers}\n",
    "df_plot_providers = pd.DataFrame(plot_providers.items(), columns=['Town', 'ProviderCount'])\n",
    "\n",
    "y_max_tick = max(plot_providers.values())\n",
    "\n",
    "print(df_plot_providers)\n",
    "df_plot_providers.plot(x='Town', y='ProviderCount', kind='bar')\n",
    "plt.yticks(np.arange(0, y_max_tick, 2))\n",
    "plt.show()"
   ]
  },
  {
   "cell_type": "markdown",
   "id": "ancient-developer",
   "metadata": {},
   "source": [
    "## MaxAdDown"
   ]
  },
  {
   "cell_type": "code",
   "execution_count": 8,
   "id": "shaped-messaging",
   "metadata": {},
   "outputs": [
    {
     "name": "stdout",
     "output_type": "stream",
     "text": [
      "   MaxAdDown            Town\n",
      "0     1000.0       WESTFIELD\n",
      "1     1000.0  AMHERST CENTER\n",
      "2      500.0          WOBURN\n",
      "3      500.0      WINCHESTER\n",
      "4      500.0       WELLESLEY\n",
      "5      500.0  WATERTOWN TOWN\n",
      "6      500.0         WALTHAM\n",
      "7      500.0        STONEHAM\n",
      "8      500.0      SOMERVILLE\n",
      "9      500.0          SAUGUS\n"
     ]
    },
    {
     "data": {
      "image/png": "[encoded data removed]",
      "text/plain": [
       "<Figure size 432x288 with 1 Axes>"
      ]
     },
     "metadata": {
      "needs_background": "light"
     },
     "output_type": "display_data"
    },
    {
     "data": {
      "image/png": "[encoded data removed]",
      "text/plain": [
       "<Figure size 432x288 with 1 Axes>"
      ]
     },
     "metadata": {
      "needs_background": "light"
     },
     "output_type": "display_data"
    }
   ],
   "source": [
    "qryStr4 = \"SELECT DISTINCT t1.MaxAdDown, t2.town as Town FROM FCC_DATA_T t1, censusblocks_t t2, CityLongLat_t t3 WHERE MaxAdDown != 0.0 AND MaxAdUp != 0.0 and substr(t1.BlockCode,0,12) = t2.blockcode AND t2.town = t3.town GROUP BY t2.town ORDER BY MaxAdDown DESC\"\n",
    "df_filtered_max_down = pd.read_sql_query(qryStr4, conn)\n",
    "print(df_filtered_max_down.head(10))\n",
    "\n",
    "top_ten = df_filtered_max_down.nlargest(10, ['MaxAdDown'])\n",
    "bottom_ten = df_filtered_max_down.nsmallest(10, ['MaxAdDown'])\n",
    "revere = df_filtered_max_down.loc[df_filtered_max_down['Town'] == 'REVERE']\n",
    "quincy = df_filtered_max_down.loc[df_filtered_max_down['Town'] == 'QUINCY']\n",
    "everett = df_filtered_max_down.loc[df_filtered_max_down['Town'] == 'EVERETT']\n",
    "\n",
    "combined_max_down_top = pd.concat([top_ten, revere, quincy, everett], axis=0)\n",
    "combined_max_down_top = combined_max_down_top.reset_index(drop=True)\n",
    "combined_max_down_bottom = pd.concat([bottom_ten, revere, quincy, everett], axis=0)\n",
    "combined_max_down_bottom = combined_max_down_bottom.reset_index(drop=True)\n",
    "\n",
    "combined_max_down_top.plot(x='Town', y='MaxAdDown', kind='bar', title = \"Top 10 Town Download Speeds\")\n",
    "plt.show()\n",
    "\n",
    "combined_max_down_bottom.plot(x='Town', y='MaxAdDown', kind='bar', title = \"Bottom 10 Town Download Speeds\")\n",
    "plt.show()"
   ]
  },
  {
   "cell_type": "markdown",
   "id": "formal-receipt",
   "metadata": {},
   "source": [
    "## MaxAdUp"
   ]
  },
  {
   "cell_type": "code",
   "execution_count": 9,
   "id": "faced-title",
   "metadata": {},
   "outputs": [
    {
     "name": "stdout",
     "output_type": "stream",
     "text": [
      "   MaxAdUp            Town\n",
      "0   1000.0       WESTFIELD\n",
      "1   1000.0  AMHERST CENTER\n",
      "2    150.0    WEST CONCORD\n",
      "3     20.0          WOBURN\n",
      "4     20.0      WINCHESTER\n",
      "5     20.0       WELLESLEY\n",
      "6     20.0  WATERTOWN TOWN\n",
      "7     20.0         WALTHAM\n",
      "8     20.0        STONEHAM\n",
      "9     20.0      SOMERVILLE\n"
     ]
    },
    {
     "data": {
      "image/png": "[encoded data removed]",
      "text/plain": [
       "<Figure size 432x288 with 1 Axes>"
      ]
     },
     "metadata": {
      "needs_background": "light"
     },
     "output_type": "display_data"
    },
    {
     "data": {
      "image/png": "[encoded data removed]",
      "text/plain": [
       "<Figure size 432x288 with 1 Axes>"
      ]
     },
     "metadata": {
      "needs_background": "light"
     },
     "output_type": "display_data"
    }
   ],
   "source": [
    "qryStr5 = \"SELECT DISTINCT t1.MaxAdUp, t2.town as Town FROM FCC_DATA_T t1, censusblocks_t t2, CityLongLat_t t3 WHERE MaxAdDown != 0.0 AND MaxAdUp != 0.0 and substr(t1.BlockCode,0,12) = t2.blockcode AND t2.town = t3.town GROUP BY t2.town ORDER BY MaxAdUp DESC\"\n",
    "df_filtered_max_up = pd.read_sql_query(qryStr5, conn)\n",
    "print(df_filtered_max_up.head(10))\n",
    "\n",
    "top_ten = df_filtered_max_up.nlargest(10, ['MaxAdUp'])\n",
    "bottom_ten = df_filtered_max_up.nsmallest(10, ['MaxAdUp'])\n",
    "revere = df_filtered_max_up.loc[df_filtered_max_up['Town'] == 'REVERE']\n",
    "quincy = df_filtered_max_up.loc[df_filtered_max_up['Town'] == 'QUINCY']\n",
    "everett = df_filtered_max_up.loc[df_filtered_max_up['Town'] == 'EVERETT']\n",
    "\n",
    "combined_max_up_top = pd.concat([top_ten, revere, quincy, everett], axis=0)\n",
    "combined_max_up_top = combined_max_up_top.reset_index(drop=True)\n",
    "combined_max_up_bottom = pd.concat([bottom_ten, revere, quincy, everett], axis=0)\n",
    "combined_max_up_bottom = combined_max_up_bottom.reset_index(drop=True)\n",
    "\n",
    "combined_max_up_top.plot(x='Town', y='MaxAdUp', kind='bar', title = \"Top 10 Town Upload Speeds\")\n",
    "plt.show()\n",
    "\n",
    "combined_max_up_bottom.plot(x='Town', y='MaxAdUp', kind='bar', title = \"Bottom 10 Town Upload Speeds\")\n",
    "plt.show()"
   ]
  },
  {
   "cell_type": "markdown",
   "id": "early-publicity",
   "metadata": {},
   "source": [
    "## Median Income  (Census Tracks)"
   ]
  },
  {
   "cell_type": "code",
   "execution_count": 10,
   "id": "extreme-retreat",
   "metadata": {},
   "outputs": [
    {
     "data": {
      "text/html": [
       "<div>\n",
       "<style scoped>\n",
       "    .dataframe tbody tr th:only-of-type {\n",
       "        vertical-align: middle;\n",
       "    }\n",
       "\n",
       "    .dataframe tbody tr th {\n",
       "        vertical-align: top;\n",
       "    }\n",
       "\n",
       "    .dataframe thead th {\n",
       "        text-align: right;\n",
       "    }\n",
       "</style>\n",
       "<table border=\"1\" class=\"dataframe\">\n",
       "  <thead>\n",
       "    <tr style=\"text-align: right;\">\n",
       "      <th></th>\n",
       "      <th>Town</th>\n",
       "      <th>Average Median Income</th>\n",
       "    </tr>\n",
       "  </thead>\n",
       "  <tbody>\n",
       "    <tr>\n",
       "      <th>0</th>\n",
       "      <td>ABINGTON</td>\n",
       "      <td>89531.333333</td>\n",
       "    </tr>\n",
       "    <tr>\n",
       "      <th>1</th>\n",
       "      <td>ACUSHNET CENTER</td>\n",
       "      <td>69091.500000</td>\n",
       "    </tr>\n",
       "    <tr>\n",
       "      <th>2</th>\n",
       "      <td>ADAMS</td>\n",
       "      <td>50431.000000</td>\n",
       "    </tr>\n",
       "    <tr>\n",
       "      <th>3</th>\n",
       "      <td>AGAWAM TOWN</td>\n",
       "      <td>70442.500000</td>\n",
       "    </tr>\n",
       "    <tr>\n",
       "      <th>4</th>\n",
       "      <td>AMESBURY TOWN</td>\n",
       "      <td>83022.250000</td>\n",
       "    </tr>\n",
       "    <tr>\n",
       "      <th>...</th>\n",
       "      <td>...</td>\n",
       "      <td>...</td>\n",
       "    </tr>\n",
       "    <tr>\n",
       "      <th>181</th>\n",
       "      <td>WINCHENDON</td>\n",
       "      <td>74986.000000</td>\n",
       "    </tr>\n",
       "    <tr>\n",
       "      <th>182</th>\n",
       "      <td>WINCHESTER</td>\n",
       "      <td>160758.800000</td>\n",
       "    </tr>\n",
       "    <tr>\n",
       "      <th>183</th>\n",
       "      <td>WINTHROP TOWN</td>\n",
       "      <td>73106.200000</td>\n",
       "    </tr>\n",
       "    <tr>\n",
       "      <th>184</th>\n",
       "      <td>WOBURN</td>\n",
       "      <td>87139.285714</td>\n",
       "    </tr>\n",
       "    <tr>\n",
       "      <th>185</th>\n",
       "      <td>WORCESTER</td>\n",
       "      <td>50699.690476</td>\n",
       "    </tr>\n",
       "  </tbody>\n",
       "</table>\n",
       "<p>186 rows × 2 columns</p>\n",
       "</div>"
      ],
      "text/plain": [
       "                Town  Average Median Income\n",
       "0           ABINGTON           89531.333333\n",
       "1    ACUSHNET CENTER           69091.500000\n",
       "2              ADAMS           50431.000000\n",
       "3        AGAWAM TOWN           70442.500000\n",
       "4      AMESBURY TOWN           83022.250000\n",
       "..               ...                    ...\n",
       "181       WINCHENDON           74986.000000\n",
       "182       WINCHESTER          160758.800000\n",
       "183    WINTHROP TOWN           73106.200000\n",
       "184           WOBURN           87139.285714\n",
       "185        WORCESTER           50699.690476\n",
       "\n",
       "[186 rows x 2 columns]"
      ]
     },
     "execution_count": 10,
     "metadata": {},
     "output_type": "execute_result"
    }
   ],
   "source": [
    "qryStr6 = \"SELECT t2.Town as Town, AVG(t1.mhi) as 'Average Median Income' FROM median_income_t t1, censusblocks_t t2 WHERE t2.blockcode = t1.ct10_id and t1.mhi > 1 GROUP BY t2.Town;\"\n",
    "town_median_income  = pd.read_sql_query(qryStr6, conn)\n",
    "town_median_income"
   ]
  },
  {
   "cell_type": "code",
   "execution_count": 11,
   "id": "regulated-frequency",
   "metadata": {},
   "outputs": [
    {
     "data": {
      "text/html": [
       "<div>\n",
       "<style scoped>\n",
       "    .dataframe tbody tr th:only-of-type {\n",
       "        vertical-align: middle;\n",
       "    }\n",
       "\n",
       "    .dataframe tbody tr th {\n",
       "        vertical-align: top;\n",
       "    }\n",
       "\n",
       "    .dataframe thead th {\n",
       "        text-align: right;\n",
       "    }\n",
       "</style>\n",
       "<table border=\"1\" class=\"dataframe\">\n",
       "  <thead>\n",
       "    <tr style=\"text-align: right;\">\n",
       "      <th></th>\n",
       "      <th>Town</th>\n",
       "      <th>Average Median Income</th>\n",
       "    </tr>\n",
       "  </thead>\n",
       "  <tbody>\n",
       "    <tr>\n",
       "      <th>0</th>\n",
       "      <td>DOVER</td>\n",
       "      <td>224784.000000</td>\n",
       "    </tr>\n",
       "    <tr>\n",
       "      <th>1</th>\n",
       "      <td>WELLESLEY</td>\n",
       "      <td>191841.500000</td>\n",
       "    </tr>\n",
       "    <tr>\n",
       "      <th>2</th>\n",
       "      <td>BOXFORD</td>\n",
       "      <td>174340.000000</td>\n",
       "    </tr>\n",
       "    <tr>\n",
       "      <th>3</th>\n",
       "      <td>LEXINGTON</td>\n",
       "      <td>174233.166667</td>\n",
       "    </tr>\n",
       "    <tr>\n",
       "      <th>4</th>\n",
       "      <td>HOPKINTON</td>\n",
       "      <td>167733.500000</td>\n",
       "    </tr>\n",
       "    <tr>\n",
       "      <th>5</th>\n",
       "      <td>SPRINGFIELD</td>\n",
       "      <td>38017.162162</td>\n",
       "    </tr>\n",
       "    <tr>\n",
       "      <th>6</th>\n",
       "      <td>NORTH ADAMS</td>\n",
       "      <td>38142.500000</td>\n",
       "    </tr>\n",
       "    <tr>\n",
       "      <th>7</th>\n",
       "      <td>LAWRENCE</td>\n",
       "      <td>39653.166667</td>\n",
       "    </tr>\n",
       "    <tr>\n",
       "      <th>8</th>\n",
       "      <td>HOLYOKE</td>\n",
       "      <td>40761.636364</td>\n",
       "    </tr>\n",
       "    <tr>\n",
       "      <th>9</th>\n",
       "      <td>FALL RIVER</td>\n",
       "      <td>43967.920000</td>\n",
       "    </tr>\n",
       "    <tr>\n",
       "      <th>10</th>\n",
       "      <td>REVERE</td>\n",
       "      <td>55013.500000</td>\n",
       "    </tr>\n",
       "    <tr>\n",
       "      <th>11</th>\n",
       "      <td>QUINCY</td>\n",
       "      <td>75583.850000</td>\n",
       "    </tr>\n",
       "    <tr>\n",
       "      <th>12</th>\n",
       "      <td>EVERETT</td>\n",
       "      <td>58378.500000</td>\n",
       "    </tr>\n",
       "  </tbody>\n",
       "</table>\n",
       "</div>"
      ],
      "text/plain": [
       "           Town  Average Median Income\n",
       "0         DOVER          224784.000000\n",
       "1     WELLESLEY          191841.500000\n",
       "2       BOXFORD          174340.000000\n",
       "3     LEXINGTON          174233.166667\n",
       "4     HOPKINTON          167733.500000\n",
       "5   SPRINGFIELD           38017.162162\n",
       "6   NORTH ADAMS           38142.500000\n",
       "7      LAWRENCE           39653.166667\n",
       "8       HOLYOKE           40761.636364\n",
       "9    FALL RIVER           43967.920000\n",
       "10       REVERE           55013.500000\n",
       "11       QUINCY           75583.850000\n",
       "12      EVERETT           58378.500000"
      ]
     },
     "execution_count": 11,
     "metadata": {},
     "output_type": "execute_result"
    }
   ],
   "source": [
    "town_median_income.sort_values(by=['Average Median Income'])\n",
    "top_five_towns = town_median_income.nlargest(5, ['Average Median Income'])\n",
    "bottom_five_towns = town_median_income.nsmallest(5, ['Average Median Income'])\n",
    "revere = town_median_income.loc[town_median_income['Town'] == 'REVERE']\n",
    "quincy = town_median_income.loc[town_median_income['Town'] == 'QUINCY']\n",
    "everett = town_median_income.loc[town_median_income['Town'] == 'EVERETT']\n",
    "combined_median_income_df = pd.concat([top_five_towns, bottom_five_towns, revere, quincy, everett], axis=0)\n",
    "combined_median_income_df = combined_median_income_df.reset_index(drop=True)\n",
    "combined_median_income_df"
   ]
  },
  {
   "cell_type": "code",
   "execution_count": 12,
   "id": "increasing-apache",
   "metadata": {},
   "outputs": [
    {
     "data": {
      "image/png": "[encoded data removed]",
      "text/plain": [
       "<Figure size 432x288 with 1 Axes>"
      ]
     },
     "metadata": {
      "needs_background": "light"
     },
     "output_type": "display_data"
    }
   ],
   "source": [
    "combined_median_income_df.plot(x='Town', y='Average Median Income', kind='bar') \n",
    "plt.show()"
   ]
  },
  {
   "cell_type": "code",
   "execution_count": 13,
   "id": "alleged-battery",
   "metadata": {},
   "outputs": [
    {
     "data": {
      "text/html": [
       "<div>\n",
       "<style scoped>\n",
       "    .dataframe tbody tr th:only-of-type {\n",
       "        vertical-align: middle;\n",
       "    }\n",
       "\n",
       "    .dataframe tbody tr th {\n",
       "        vertical-align: top;\n",
       "    }\n",
       "\n",
       "    .dataframe thead th {\n",
       "        text-align: right;\n",
       "    }\n",
       "</style>\n",
       "<table border=\"1\" class=\"dataframe\">\n",
       "  <thead>\n",
       "    <tr style=\"text-align: right;\">\n",
       "      <th></th>\n",
       "      <th>Town</th>\n",
       "      <th>AverageMaxDown</th>\n",
       "      <th>AverageMaxUp</th>\n",
       "    </tr>\n",
       "  </thead>\n",
       "  <tbody>\n",
       "    <tr>\n",
       "      <th>0</th>\n",
       "      <td>ABINGTON</td>\n",
       "      <td>316.49</td>\n",
       "      <td>141.37</td>\n",
       "    </tr>\n",
       "    <tr>\n",
       "      <th>1</th>\n",
       "      <td>ACUSHNET CENTER</td>\n",
       "      <td>207.52</td>\n",
       "      <td>30.63</td>\n",
       "    </tr>\n",
       "    <tr>\n",
       "      <th>2</th>\n",
       "      <td>ADAMS</td>\n",
       "      <td>216.09</td>\n",
       "      <td>9.17</td>\n",
       "    </tr>\n",
       "    <tr>\n",
       "      <th>3</th>\n",
       "      <td>AGAWAM TOWN</td>\n",
       "      <td>188.94</td>\n",
       "      <td>7.52</td>\n",
       "    </tr>\n",
       "    <tr>\n",
       "      <th>4</th>\n",
       "      <td>AMESBURY TOWN</td>\n",
       "      <td>178.74</td>\n",
       "      <td>7.03</td>\n",
       "    </tr>\n",
       "    <tr>\n",
       "      <th>...</th>\n",
       "      <td>...</td>\n",
       "      <td>...</td>\n",
       "      <td>...</td>\n",
       "    </tr>\n",
       "    <tr>\n",
       "      <th>183</th>\n",
       "      <td>WINCHENDON</td>\n",
       "      <td>143.58</td>\n",
       "      <td>5.82</td>\n",
       "    </tr>\n",
       "    <tr>\n",
       "      <th>184</th>\n",
       "      <td>WINCHESTER</td>\n",
       "      <td>328.73</td>\n",
       "      <td>146.88</td>\n",
       "    </tr>\n",
       "    <tr>\n",
       "      <th>185</th>\n",
       "      <td>WINTHROP TOWN</td>\n",
       "      <td>212.94</td>\n",
       "      <td>8.20</td>\n",
       "    </tr>\n",
       "    <tr>\n",
       "      <th>186</th>\n",
       "      <td>WOBURN</td>\n",
       "      <td>357.69</td>\n",
       "      <td>117.77</td>\n",
       "    </tr>\n",
       "    <tr>\n",
       "      <th>187</th>\n",
       "      <td>WORCESTER</td>\n",
       "      <td>228.06</td>\n",
       "      <td>9.11</td>\n",
       "    </tr>\n",
       "  </tbody>\n",
       "</table>\n",
       "<p>188 rows × 3 columns</p>\n",
       "</div>"
      ],
      "text/plain": [
       "                Town  AverageMaxDown  AverageMaxUp\n",
       "0           ABINGTON          316.49        141.37\n",
       "1    ACUSHNET CENTER          207.52         30.63\n",
       "2              ADAMS          216.09          9.17\n",
       "3        AGAWAM TOWN          188.94          7.52\n",
       "4      AMESBURY TOWN          178.74          7.03\n",
       "..               ...             ...           ...\n",
       "183       WINCHENDON          143.58          5.82\n",
       "184       WINCHESTER          328.73        146.88\n",
       "185    WINTHROP TOWN          212.94          8.20\n",
       "186           WOBURN          357.69        117.77\n",
       "187        WORCESTER          228.06          9.11\n",
       "\n",
       "[188 rows x 3 columns]"
      ]
     },
     "execution_count": 13,
     "metadata": {},
     "output_type": "execute_result"
    }
   ],
   "source": [
    "qryStr7 = \"SELECT t2.Town as Town, ROUND(AVG(t1.MaxAdDown),2) as AverageMaxDown, ROUND(AVG(t1.MaxAdUp),2) as AverageMaxUp FROM fcc_data_t t1, censusblocks_t t2 WHERE  substr(t1.BlockCode,0,12) = t2.blockcode AND (t1.MaxAdDown > 0 AND t1.MaxAdUp > 0) GROUP BY t2.TOWN\"\n",
    "town_average_speeds  = pd.read_sql_query(qryStr7, conn)\n",
    "town_average_speeds"
   ]
  },
  {
   "cell_type": "code",
   "execution_count": 14,
   "id": "handmade-crowd",
   "metadata": {},
   "outputs": [
    {
     "data": {
      "text/html": [
       "<div>\n",
       "<style scoped>\n",
       "    .dataframe tbody tr th:only-of-type {\n",
       "        vertical-align: middle;\n",
       "    }\n",
       "\n",
       "    .dataframe tbody tr th {\n",
       "        vertical-align: top;\n",
       "    }\n",
       "\n",
       "    .dataframe thead th {\n",
       "        text-align: right;\n",
       "    }\n",
       "</style>\n",
       "<table border=\"1\" class=\"dataframe\">\n",
       "  <thead>\n",
       "    <tr style=\"text-align: right;\">\n",
       "      <th></th>\n",
       "      <th>Town</th>\n",
       "      <th>AverageMaxDown</th>\n",
       "      <th>AverageMaxUp</th>\n",
       "    </tr>\n",
       "  </thead>\n",
       "  <tbody>\n",
       "    <tr>\n",
       "      <th>0</th>\n",
       "      <td>DOVER</td>\n",
       "      <td>322.58</td>\n",
       "      <td>140.98</td>\n",
       "    </tr>\n",
       "    <tr>\n",
       "      <th>1</th>\n",
       "      <td>WELLESLEY</td>\n",
       "      <td>322.43</td>\n",
       "      <td>141.99</td>\n",
       "    </tr>\n",
       "    <tr>\n",
       "      <th>2</th>\n",
       "      <td>BOXFORD</td>\n",
       "      <td>286.46</td>\n",
       "      <td>122.86</td>\n",
       "    </tr>\n",
       "    <tr>\n",
       "      <th>3</th>\n",
       "      <td>LEXINGTON</td>\n",
       "      <td>353.73</td>\n",
       "      <td>115.81</td>\n",
       "    </tr>\n",
       "    <tr>\n",
       "      <th>4</th>\n",
       "      <td>HOPKINTON</td>\n",
       "      <td>322.86</td>\n",
       "      <td>143.56</td>\n",
       "    </tr>\n",
       "    <tr>\n",
       "      <th>5</th>\n",
       "      <td>SPRINGFIELD</td>\n",
       "      <td>188.51</td>\n",
       "      <td>7.40</td>\n",
       "    </tr>\n",
       "    <tr>\n",
       "      <th>6</th>\n",
       "      <td>NORTH ADAMS</td>\n",
       "      <td>226.23</td>\n",
       "      <td>10.00</td>\n",
       "    </tr>\n",
       "    <tr>\n",
       "      <th>7</th>\n",
       "      <td>LAWRENCE</td>\n",
       "      <td>313.94</td>\n",
       "      <td>139.31</td>\n",
       "    </tr>\n",
       "    <tr>\n",
       "      <th>8</th>\n",
       "      <td>HOLYOKE</td>\n",
       "      <td>173.91</td>\n",
       "      <td>6.89</td>\n",
       "    </tr>\n",
       "    <tr>\n",
       "      <th>9</th>\n",
       "      <td>FALL RIVER</td>\n",
       "      <td>186.09</td>\n",
       "      <td>7.42</td>\n",
       "    </tr>\n",
       "    <tr>\n",
       "      <th>10</th>\n",
       "      <td>REVERE</td>\n",
       "      <td>291.60</td>\n",
       "      <td>23.66</td>\n",
       "    </tr>\n",
       "    <tr>\n",
       "      <th>11</th>\n",
       "      <td>QUINCY</td>\n",
       "      <td>196.29</td>\n",
       "      <td>14.31</td>\n",
       "    </tr>\n",
       "    <tr>\n",
       "      <th>12</th>\n",
       "      <td>EVERETT</td>\n",
       "      <td>272.11</td>\n",
       "      <td>21.88</td>\n",
       "    </tr>\n",
       "  </tbody>\n",
       "</table>\n",
       "</div>"
      ],
      "text/plain": [
       "           Town  AverageMaxDown  AverageMaxUp\n",
       "0         DOVER          322.58        140.98\n",
       "1     WELLESLEY          322.43        141.99\n",
       "2       BOXFORD          286.46        122.86\n",
       "3     LEXINGTON          353.73        115.81\n",
       "4     HOPKINTON          322.86        143.56\n",
       "5   SPRINGFIELD          188.51          7.40\n",
       "6   NORTH ADAMS          226.23         10.00\n",
       "7      LAWRENCE          313.94        139.31\n",
       "8       HOLYOKE          173.91          6.89\n",
       "9    FALL RIVER          186.09          7.42\n",
       "10       REVERE          291.60         23.66\n",
       "11       QUINCY          196.29         14.31\n",
       "12      EVERETT          272.11         21.88"
      ]
     },
     "execution_count": 14,
     "metadata": {},
     "output_type": "execute_result"
    }
   ],
   "source": [
    "dover = town_average_speeds.loc[town_average_speeds['Town'] == 'DOVER']\n",
    "wellesley = town_average_speeds.loc[town_average_speeds['Town'] == 'WELLESLEY']\n",
    "boxford = town_average_speeds.loc[town_average_speeds['Town'] == 'BOXFORD']\n",
    "lexington = town_average_speeds.loc[town_average_speeds['Town'] == 'LEXINGTON']\n",
    "hopkinton = town_average_speeds.loc[town_average_speeds['Town'] == 'HOPKINTON']\n",
    "springfield = town_average_speeds.loc[town_average_speeds['Town'] == 'SPRINGFIELD']\n",
    "north_adams = town_average_speeds.loc[town_average_speeds['Town'] == 'NORTH ADAMS']\n",
    "lawrence = town_average_speeds.loc[town_average_speeds['Town'] == 'LAWRENCE']\n",
    "holyoke = town_average_speeds.loc[town_average_speeds['Town'] == 'HOLYOKE']\n",
    "fall_river = town_average_speeds.loc[town_average_speeds['Town'] == 'FALL RIVER']\n",
    "revere = town_average_speeds.loc[town_average_speeds['Town'] == 'REVERE']\n",
    "quincy = town_average_speeds.loc[town_average_speeds['Town'] == 'QUINCY']\n",
    "everett = town_average_speeds.loc[town_average_speeds['Town'] == 'EVERETT']\n",
    "\n",
    "combined_average_speed_df = pd.concat([dover, wellesley, boxford, lexington, hopkinton, springfield, north_adams, lawrence, holyoke, fall_river, revere, quincy, everett], axis=0)\n",
    "combined_average_speed_df = combined_average_speed_df.reset_index(drop=True)\n",
    "combined_average_speed_df"
   ]
  },
  {
   "cell_type": "code",
   "execution_count": 15,
   "id": "fuzzy-stewart",
   "metadata": {},
   "outputs": [
    {
     "data": {
      "image/png": "[encoded data removed]",
      "text/plain": [
       "<Figure size 432x288 with 1 Axes>"
      ]
     },
     "metadata": {
      "needs_background": "light"
     },
     "output_type": "display_data"
    }
   ],
   "source": [
    "combined_average_speed_df.plot(x='Town', y='AverageMaxDown', kind='bar') \n",
    "plt.show()\n",
    "\n",
    "# add Average Max Up"
   ]
  },
  {
   "cell_type": "code",
   "execution_count": 16,
   "id": "graduate-adelaide",
   "metadata": {},
   "outputs": [
    {
     "data": {
      "image/png": "[encoded data removed]",
      "text/plain": [
       "<Figure size 432x288 with 1 Axes>"
      ]
     },
     "metadata": {
      "needs_background": "light"
     },
     "output_type": "display_data"
    }
   ],
   "source": [
    "combined_average_speed_df.plot(x='Town', y='AverageMaxUp', kind='bar') \n",
    "plt.show()"
   ]
  },
  {
   "cell_type": "code",
   "execution_count": 17,
   "id": "widespread-teacher",
   "metadata": {},
   "outputs": [
    {
     "data": {
      "text/html": [
       "<div>\n",
       "<style scoped>\n",
       "    .dataframe tbody tr th:only-of-type {\n",
       "        vertical-align: middle;\n",
       "    }\n",
       "\n",
       "    .dataframe tbody tr th {\n",
       "        vertical-align: top;\n",
       "    }\n",
       "\n",
       "    .dataframe thead th {\n",
       "        text-align: right;\n",
       "    }\n",
       "</style>\n",
       "<table border=\"1\" class=\"dataframe\">\n",
       "  <thead>\n",
       "    <tr style=\"text-align: right;\">\n",
       "      <th></th>\n",
       "      <th>Town</th>\n",
       "      <th>AverageMaxDown</th>\n",
       "      <th>AverageMaxUp</th>\n",
       "      <th>Average Median Income</th>\n",
       "    </tr>\n",
       "  </thead>\n",
       "  <tbody>\n",
       "    <tr>\n",
       "      <th>0</th>\n",
       "      <td>DOVER</td>\n",
       "      <td>322.58</td>\n",
       "      <td>140.98</td>\n",
       "      <td>224784.000000</td>\n",
       "    </tr>\n",
       "    <tr>\n",
       "      <th>1</th>\n",
       "      <td>WELLESLEY</td>\n",
       "      <td>322.43</td>\n",
       "      <td>141.99</td>\n",
       "      <td>191841.500000</td>\n",
       "    </tr>\n",
       "    <tr>\n",
       "      <th>2</th>\n",
       "      <td>BOXFORD</td>\n",
       "      <td>286.46</td>\n",
       "      <td>122.86</td>\n",
       "      <td>174340.000000</td>\n",
       "    </tr>\n",
       "    <tr>\n",
       "      <th>3</th>\n",
       "      <td>LEXINGTON</td>\n",
       "      <td>353.73</td>\n",
       "      <td>115.81</td>\n",
       "      <td>174233.166667</td>\n",
       "    </tr>\n",
       "    <tr>\n",
       "      <th>4</th>\n",
       "      <td>HOPKINTON</td>\n",
       "      <td>322.86</td>\n",
       "      <td>143.56</td>\n",
       "      <td>167733.500000</td>\n",
       "    </tr>\n",
       "    <tr>\n",
       "      <th>5</th>\n",
       "      <td>SPRINGFIELD</td>\n",
       "      <td>188.51</td>\n",
       "      <td>7.40</td>\n",
       "      <td>38017.162162</td>\n",
       "    </tr>\n",
       "    <tr>\n",
       "      <th>6</th>\n",
       "      <td>NORTH ADAMS</td>\n",
       "      <td>226.23</td>\n",
       "      <td>10.00</td>\n",
       "      <td>38142.500000</td>\n",
       "    </tr>\n",
       "    <tr>\n",
       "      <th>7</th>\n",
       "      <td>LAWRENCE</td>\n",
       "      <td>313.94</td>\n",
       "      <td>139.31</td>\n",
       "      <td>39653.166667</td>\n",
       "    </tr>\n",
       "    <tr>\n",
       "      <th>8</th>\n",
       "      <td>HOLYOKE</td>\n",
       "      <td>173.91</td>\n",
       "      <td>6.89</td>\n",
       "      <td>40761.636364</td>\n",
       "    </tr>\n",
       "    <tr>\n",
       "      <th>9</th>\n",
       "      <td>FALL RIVER</td>\n",
       "      <td>186.09</td>\n",
       "      <td>7.42</td>\n",
       "      <td>43967.920000</td>\n",
       "    </tr>\n",
       "    <tr>\n",
       "      <th>10</th>\n",
       "      <td>REVERE</td>\n",
       "      <td>291.60</td>\n",
       "      <td>23.66</td>\n",
       "      <td>55013.500000</td>\n",
       "    </tr>\n",
       "    <tr>\n",
       "      <th>11</th>\n",
       "      <td>QUINCY</td>\n",
       "      <td>196.29</td>\n",
       "      <td>14.31</td>\n",
       "      <td>75583.850000</td>\n",
       "    </tr>\n",
       "    <tr>\n",
       "      <th>12</th>\n",
       "      <td>EVERETT</td>\n",
       "      <td>272.11</td>\n",
       "      <td>21.88</td>\n",
       "      <td>58378.500000</td>\n",
       "    </tr>\n",
       "  </tbody>\n",
       "</table>\n",
       "</div>"
      ],
      "text/plain": [
       "           Town  AverageMaxDown  AverageMaxUp  Average Median Income\n",
       "0         DOVER          322.58        140.98          224784.000000\n",
       "1     WELLESLEY          322.43        141.99          191841.500000\n",
       "2       BOXFORD          286.46        122.86          174340.000000\n",
       "3     LEXINGTON          353.73        115.81          174233.166667\n",
       "4     HOPKINTON          322.86        143.56          167733.500000\n",
       "5   SPRINGFIELD          188.51          7.40           38017.162162\n",
       "6   NORTH ADAMS          226.23         10.00           38142.500000\n",
       "7      LAWRENCE          313.94        139.31           39653.166667\n",
       "8       HOLYOKE          173.91          6.89           40761.636364\n",
       "9    FALL RIVER          186.09          7.42           43967.920000\n",
       "10       REVERE          291.60         23.66           55013.500000\n",
       "11       QUINCY          196.29         14.31           75583.850000\n",
       "12      EVERETT          272.11         21.88           58378.500000"
      ]
     },
     "execution_count": 17,
     "metadata": {},
     "output_type": "execute_result"
    }
   ],
   "source": [
    "median_income_and_speed_df = combined_average_speed_df\n",
    "median_income_and_speed_df['Average Median Income'] = combined_median_income_df['Average Median Income']\n",
    "median_income_and_speed_df"
   ]
  },
  {
   "cell_type": "code",
   "execution_count": 18,
   "id": "mental-words",
   "metadata": {},
   "outputs": [
    {
     "data": {
      "image/png": "[encoded data removed]",
      "text/plain": [
       "<Figure size 432x288 with 1 Axes>"
      ]
     },
     "metadata": {
      "needs_background": "light"
     },
     "output_type": "display_data"
    }
   ],
   "source": [
    "ax1 = median_income_and_speed_df.plot(kind='scatter', x='Average Median Income', y='AverageMaxDown', title='Median income vs Average Max Down Speed',)    \n",
    "\n",
    "# annotate points in axis\n",
    "for idx, row in median_income_and_speed_df.iterrows():\n",
    "    ax1.annotate(row['Town'], (row['Average Median Income'], row['AverageMaxDown']))\n",
    "\n",
    "plt.show()\n"
   ]
  },
  {
   "cell_type": "code",
   "execution_count": 19,
   "id": "previous-elder",
   "metadata": {},
   "outputs": [
    {
     "data": {
      "image/png": "[encoded data removed]",
      "text/plain": [
       "<Figure size 432x288 with 1 Axes>"
      ]
     },
     "metadata": {
      "needs_background": "light"
     },
     "output_type": "display_data"
    }
   ],
   "source": [
    "ax2 = median_income_and_speed_df[:6].plot(kind='scatter', x='Average Median Income', y='AverageMaxUp', title='Median income vs Average Max Up Speed',)    \n",
    "\n",
    "# annotate points in axis\n",
    "for idx, row in median_income_and_speed_df[:6].iterrows():\n",
    "    ax2.annotate(row['Town'], (row['Average Median Income'], row['AverageMaxUp']))\n",
    "\n",
    "plt.show()"
   ]
  },
  {
   "cell_type": "code",
   "execution_count": 20,
   "id": "nonprofit-landing",
   "metadata": {},
   "outputs": [
    {
     "data": {
      "image/png": "[encoded data removed]",
      "text/plain": [
       "<Figure size 432x288 with 1 Axes>"
      ]
     },
     "metadata": {
      "needs_background": "light"
     },
     "output_type": "display_data"
    }
   ],
   "source": [
    "ax3 = median_income_and_speed_df[7:].plot(kind='scatter', x='Average Median Income', y='AverageMaxUp', title='Median income vs Average Max Up Speed',)    \n",
    "\n",
    "# annotate points in axis\n",
    "for idx, row in median_income_and_speed_df[7:].iterrows():\n",
    "    ax3.annotate(row['Town'], (row['Average Median Income'], row['AverageMaxUp']))\n",
    "\n",
    "plt.show()"
   ]
  },
  {
   "cell_type": "code",
   "execution_count": 21,
   "id": "standing-reflection",
   "metadata": {},
   "outputs": [
    {
     "name": "stdout",
     "output_type": "stream",
     "text": [
      "              Town  AverageMaxDown  AverageMaxUp   nh_p  nhwhi_p  nhaa_p  \\\n",
      "0         ABINGTON          316.49        141.37  97.81    88.89    1.52   \n",
      "1  ACUSHNET CENTER          207.52         30.63  95.95    88.68    0.11   \n",
      "2            ADAMS          216.09          9.17  98.89    96.31    0.68   \n",
      "3      AGAWAM TOWN          188.94          7.52  94.40    89.28    1.78   \n",
      "4    AMESBURY TOWN          178.74          7.03  97.32    92.45    0.63   \n",
      "5   AMHERST CENTER          172.43          7.37  93.46    71.55    5.89   \n",
      "6          ANDOVER          273.03        119.54  96.63    80.41    3.22   \n",
      "7        ARLINGTON          394.22        123.11  95.01    76.77    2.69   \n",
      "8            ATHOL          247.04          9.72  95.07    91.44    0.49   \n",
      "9        ATTLEBORO          194.69          8.92  92.25    82.03    3.25   \n",
      "\n",
      "   nhna_p  nhas_p  nhpi_p  nhoth_p  nhmlt_p  lat_p  \n",
      "0    0.00    3.89    0.00     0.98     2.54   2.19  \n",
      "1    0.00    1.43    0.00     2.65     3.09   4.05  \n",
      "2    0.04    0.63    0.00     0.12     1.10   1.11  \n",
      "3    0.02    2.04    0.00     0.00     1.27   5.60  \n",
      "4    0.09    0.89    0.00     0.15     3.11   2.68  \n",
      "5    0.25   11.33    0.12     0.13     4.20   6.54  \n",
      "6    0.03   10.76    0.00     0.05     2.14   3.37  \n",
      "7    0.03   11.54    0.00     0.24     3.74   4.99  \n",
      "8    0.07    0.92    0.00     0.00     2.15   4.93  \n",
      "9    0.03    4.80    0.00     0.07     2.08   7.75  \n"
     ]
    }
   ],
   "source": [
    "qryStr6 =\"SELECT t2.Town as Town, ROUND(AVG(t1.MaxAdDown),2) as AverageMaxDown, ROUND(AVG(t1.MaxAdUp),2) as AverageMaxUp,ROUND(AVG(t3.nh_p),2) as nh_p, ROUND(AVG(t3.nhwhi_p),2) as nhwhi_p,ROUND(AVG(t3.nhaa_p),2) as nhaa_p, ROUND(AVG(t3.nhna_p),2) as nhna_p,ROUND(AVG(t3.nhas_p),2) as nhas_p, ROUND(AVG(t3.nhpi_p),2) as nhpi_p,ROUND(AVG(t3.nhoth_p),2) as nhoth_p, ROUND(AVG(t3.nhmlt_p),2) as nhmlt_p,ROUND(AVG(t3.lat_p),2) as lat_p FROM fcc_data_t t1, censusblocks_t t2, race_ethnicity_t t3 WHERE substr(t1.BlockCode,0,12) = t2.blockcode  AND (t1.MaxAdDown > 0 AND t1.MaxAdUp > 0) AND t2.blockcode = t3.ct10_id GROUP BY t2.TOWN\"\n",
    "df_averages_percentage = pd.read_sql_query(qryStr6, conn)\n",
    "print(df_averages_percentage.head(10))\n",
    "\n"
   ]
  },
  {
   "cell_type": "code",
   "execution_count": 22,
   "id": "present-revision",
   "metadata": {},
   "outputs": [],
   "source": [
    "df_averages_percentage = df_averages_percentage.rename(columns={\"nh_p\":\"Non-Hispanic\",\"nhwhi_p\": \"Non-Hispanic White\",\n",
    "                                      \"nhaa_p\":\"Non-Hispanic Black or African American\",\"nhna_p\": \"Non-Hispanic American Indian and Alaska Native\",\n",
    "                                      \"nhas_p\":\"Non-Hispanic Asian\",\"nhpi_p\": \"Non-Hispanic Native Hawaiian/Other Pacific Islander\",\n",
    "                                      \"nhoth_p\":\"Non-Hispanic Some Other Races\",\"nhmlt_p\": \"Non-Hispanic Two or More Races\",\n",
    "                                      \"lat_p\":\"Hispanic/Latino\"})"
   ]
  },
  {
   "cell_type": "code",
   "execution_count": 23,
   "id": "polished-renaissance",
   "metadata": {},
   "outputs": [],
   "source": [
    "# df_averages_percentage.to_csv('MaxSpeed_Race.csv',index = False)"
   ]
  },
  {
   "cell_type": "code",
   "execution_count": 24,
   "id": "comic-logan",
   "metadata": {},
   "outputs": [
    {
     "data": {
      "text/html": [
       "<div>\n",
       "<style scoped>\n",
       "    .dataframe tbody tr th:only-of-type {\n",
       "        vertical-align: middle;\n",
       "    }\n",
       "\n",
       "    .dataframe tbody tr th {\n",
       "        vertical-align: top;\n",
       "    }\n",
       "\n",
       "    .dataframe thead th {\n",
       "        text-align: right;\n",
       "    }\n",
       "</style>\n",
       "<table border=\"1\" class=\"dataframe\">\n",
       "  <thead>\n",
       "    <tr style=\"text-align: right;\">\n",
       "      <th></th>\n",
       "      <th>Town</th>\n",
       "      <th>AverageMaxDown</th>\n",
       "      <th>AverageMaxUp</th>\n",
       "      <th>Non-Hispanic</th>\n",
       "      <th>Non-Hispanic White</th>\n",
       "      <th>Non-Hispanic Black or African American</th>\n",
       "      <th>Non-Hispanic American Indian and Alaska Native</th>\n",
       "      <th>Non-Hispanic Asian</th>\n",
       "      <th>Non-Hispanic Native Hawaiian/Other Pacific Islander</th>\n",
       "      <th>Non-Hispanic Some Other Races</th>\n",
       "      <th>Non-Hispanic Two or More Races</th>\n",
       "      <th>Hispanic/Latino</th>\n",
       "    </tr>\n",
       "  </thead>\n",
       "  <tbody>\n",
       "    <tr>\n",
       "      <th>0</th>\n",
       "      <td>ABINGTON</td>\n",
       "      <td>316.49</td>\n",
       "      <td>141.37</td>\n",
       "      <td>97.81</td>\n",
       "      <td>88.89</td>\n",
       "      <td>1.52</td>\n",
       "      <td>0.00</td>\n",
       "      <td>3.89</td>\n",
       "      <td>0.00</td>\n",
       "      <td>0.98</td>\n",
       "      <td>2.54</td>\n",
       "      <td>2.19</td>\n",
       "    </tr>\n",
       "    <tr>\n",
       "      <th>1</th>\n",
       "      <td>ACUSHNET CENTER</td>\n",
       "      <td>207.52</td>\n",
       "      <td>30.63</td>\n",
       "      <td>95.95</td>\n",
       "      <td>88.68</td>\n",
       "      <td>0.11</td>\n",
       "      <td>0.00</td>\n",
       "      <td>1.43</td>\n",
       "      <td>0.00</td>\n",
       "      <td>2.65</td>\n",
       "      <td>3.09</td>\n",
       "      <td>4.05</td>\n",
       "    </tr>\n",
       "    <tr>\n",
       "      <th>2</th>\n",
       "      <td>ADAMS</td>\n",
       "      <td>216.09</td>\n",
       "      <td>9.17</td>\n",
       "      <td>98.89</td>\n",
       "      <td>96.31</td>\n",
       "      <td>0.68</td>\n",
       "      <td>0.04</td>\n",
       "      <td>0.63</td>\n",
       "      <td>0.00</td>\n",
       "      <td>0.12</td>\n",
       "      <td>1.10</td>\n",
       "      <td>1.11</td>\n",
       "    </tr>\n",
       "    <tr>\n",
       "      <th>3</th>\n",
       "      <td>AGAWAM TOWN</td>\n",
       "      <td>188.94</td>\n",
       "      <td>7.52</td>\n",
       "      <td>94.40</td>\n",
       "      <td>89.28</td>\n",
       "      <td>1.78</td>\n",
       "      <td>0.02</td>\n",
       "      <td>2.04</td>\n",
       "      <td>0.00</td>\n",
       "      <td>0.00</td>\n",
       "      <td>1.27</td>\n",
       "      <td>5.60</td>\n",
       "    </tr>\n",
       "    <tr>\n",
       "      <th>4</th>\n",
       "      <td>AMESBURY TOWN</td>\n",
       "      <td>178.74</td>\n",
       "      <td>7.03</td>\n",
       "      <td>97.32</td>\n",
       "      <td>92.45</td>\n",
       "      <td>0.63</td>\n",
       "      <td>0.09</td>\n",
       "      <td>0.89</td>\n",
       "      <td>0.00</td>\n",
       "      <td>0.15</td>\n",
       "      <td>3.11</td>\n",
       "      <td>2.68</td>\n",
       "    </tr>\n",
       "    <tr>\n",
       "      <th>...</th>\n",
       "      <td>...</td>\n",
       "      <td>...</td>\n",
       "      <td>...</td>\n",
       "      <td>...</td>\n",
       "      <td>...</td>\n",
       "      <td>...</td>\n",
       "      <td>...</td>\n",
       "      <td>...</td>\n",
       "      <td>...</td>\n",
       "      <td>...</td>\n",
       "      <td>...</td>\n",
       "      <td>...</td>\n",
       "    </tr>\n",
       "    <tr>\n",
       "      <th>183</th>\n",
       "      <td>WINCHENDON</td>\n",
       "      <td>143.58</td>\n",
       "      <td>5.82</td>\n",
       "      <td>97.02</td>\n",
       "      <td>93.09</td>\n",
       "      <td>0.83</td>\n",
       "      <td>0.00</td>\n",
       "      <td>1.00</td>\n",
       "      <td>0.00</td>\n",
       "      <td>0.00</td>\n",
       "      <td>2.09</td>\n",
       "      <td>2.98</td>\n",
       "    </tr>\n",
       "    <tr>\n",
       "      <th>184</th>\n",
       "      <td>WINCHESTER</td>\n",
       "      <td>328.73</td>\n",
       "      <td>146.88</td>\n",
       "      <td>98.00</td>\n",
       "      <td>82.48</td>\n",
       "      <td>0.29</td>\n",
       "      <td>0.00</td>\n",
       "      <td>12.12</td>\n",
       "      <td>0.00</td>\n",
       "      <td>0.97</td>\n",
       "      <td>2.14</td>\n",
       "      <td>2.00</td>\n",
       "    </tr>\n",
       "    <tr>\n",
       "      <th>185</th>\n",
       "      <td>WINTHROP TOWN</td>\n",
       "      <td>212.94</td>\n",
       "      <td>8.20</td>\n",
       "      <td>91.27</td>\n",
       "      <td>87.89</td>\n",
       "      <td>1.20</td>\n",
       "      <td>0.00</td>\n",
       "      <td>0.61</td>\n",
       "      <td>0.00</td>\n",
       "      <td>0.20</td>\n",
       "      <td>1.37</td>\n",
       "      <td>8.73</td>\n",
       "    </tr>\n",
       "    <tr>\n",
       "      <th>186</th>\n",
       "      <td>WOBURN</td>\n",
       "      <td>357.69</td>\n",
       "      <td>117.77</td>\n",
       "      <td>94.81</td>\n",
       "      <td>76.50</td>\n",
       "      <td>6.70</td>\n",
       "      <td>0.00</td>\n",
       "      <td>8.17</td>\n",
       "      <td>0.00</td>\n",
       "      <td>1.69</td>\n",
       "      <td>1.75</td>\n",
       "      <td>5.19</td>\n",
       "    </tr>\n",
       "    <tr>\n",
       "      <th>187</th>\n",
       "      <td>WORCESTER</td>\n",
       "      <td>228.06</td>\n",
       "      <td>9.11</td>\n",
       "      <td>80.93</td>\n",
       "      <td>58.02</td>\n",
       "      <td>12.09</td>\n",
       "      <td>0.20</td>\n",
       "      <td>8.04</td>\n",
       "      <td>0.03</td>\n",
       "      <td>0.40</td>\n",
       "      <td>2.16</td>\n",
       "      <td>19.07</td>\n",
       "    </tr>\n",
       "  </tbody>\n",
       "</table>\n",
       "<p>188 rows × 12 columns</p>\n",
       "</div>"
      ],
      "text/plain": [
       "                Town  AverageMaxDown  AverageMaxUp  Non-Hispanic  \\\n",
       "0           ABINGTON          316.49        141.37         97.81   \n",
       "1    ACUSHNET CENTER          207.52         30.63         95.95   \n",
       "2              ADAMS          216.09          9.17         98.89   \n",
       "3        AGAWAM TOWN          188.94          7.52         94.40   \n",
       "4      AMESBURY TOWN          178.74          7.03         97.32   \n",
       "..               ...             ...           ...           ...   \n",
       "183       WINCHENDON          143.58          5.82         97.02   \n",
       "184       WINCHESTER          328.73        146.88         98.00   \n",
       "185    WINTHROP TOWN          212.94          8.20         91.27   \n",
       "186           WOBURN          357.69        117.77         94.81   \n",
       "187        WORCESTER          228.06          9.11         80.93   \n",
       "\n",
       "     Non-Hispanic White  Non-Hispanic Black or African American  \\\n",
       "0                 88.89                                    1.52   \n",
       "1                 88.68                                    0.11   \n",
       "2                 96.31                                    0.68   \n",
       "3                 89.28                                    1.78   \n",
       "4                 92.45                                    0.63   \n",
       "..                  ...                                     ...   \n",
       "183               93.09                                    0.83   \n",
       "184               82.48                                    0.29   \n",
       "185               87.89                                    1.20   \n",
       "186               76.50                                    6.70   \n",
       "187               58.02                                   12.09   \n",
       "\n",
       "     Non-Hispanic American Indian and Alaska Native  Non-Hispanic Asian  \\\n",
       "0                                              0.00                3.89   \n",
       "1                                              0.00                1.43   \n",
       "2                                              0.04                0.63   \n",
       "3                                              0.02                2.04   \n",
       "4                                              0.09                0.89   \n",
       "..                                              ...                 ...   \n",
       "183                                            0.00                1.00   \n",
       "184                                            0.00               12.12   \n",
       "185                                            0.00                0.61   \n",
       "186                                            0.00                8.17   \n",
       "187                                            0.20                8.04   \n",
       "\n",
       "     Non-Hispanic Native Hawaiian/Other Pacific Islander  \\\n",
       "0                                                 0.00     \n",
       "1                                                 0.00     \n",
       "2                                                 0.00     \n",
       "3                                                 0.00     \n",
       "4                                                 0.00     \n",
       "..                                                 ...     \n",
       "183                                               0.00     \n",
       "184                                               0.00     \n",
       "185                                               0.00     \n",
       "186                                               0.00     \n",
       "187                                               0.03     \n",
       "\n",
       "     Non-Hispanic Some Other Races  Non-Hispanic Two or More Races  \\\n",
       "0                             0.98                            2.54   \n",
       "1                             2.65                            3.09   \n",
       "2                             0.12                            1.10   \n",
       "3                             0.00                            1.27   \n",
       "4                             0.15                            3.11   \n",
       "..                             ...                             ...   \n",
       "183                           0.00                            2.09   \n",
       "184                           0.97                            2.14   \n",
       "185                           0.20                            1.37   \n",
       "186                           1.69                            1.75   \n",
       "187                           0.40                            2.16   \n",
       "\n",
       "     Hispanic/Latino  \n",
       "0               2.19  \n",
       "1               4.05  \n",
       "2               1.11  \n",
       "3               5.60  \n",
       "4               2.68  \n",
       "..               ...  \n",
       "183             2.98  \n",
       "184             2.00  \n",
       "185             8.73  \n",
       "186             5.19  \n",
       "187            19.07  \n",
       "\n",
       "[188 rows x 12 columns]"
      ]
     },
     "execution_count": 24,
     "metadata": {},
     "output_type": "execute_result"
    }
   ],
   "source": [
    "df_averages_percentage"
   ]
  },
  {
   "cell_type": "code",
   "execution_count": 25,
   "id": "cloudy-concentration",
   "metadata": {},
   "outputs": [],
   "source": [
    "df = df_averages_percentage[['Non-Hispanic Asian','AverageMaxDown']]"
   ]
  },
  {
   "cell_type": "code",
   "execution_count": 36,
   "id": "mysterious-substitute",
   "metadata": {},
   "outputs": [
    {
     "data": {
      "image/png": "[encoded data removed]",
      "text/plain": [
       "<Figure size 432x288 with 1 Axes>"
      ]
     },
     "metadata": {
      "needs_background": "light"
     },
     "output_type": "display_data"
    }
   ],
   "source": [
    "plt.xlim(0,100)\n",
    "plt.title('Hispanic/Latino Percentage vs Average Max Down')\n",
    "plt.scatter(df_averages_percentage['Hispanic/Latino'], df_averages_percentage['AverageMaxDown'])\n",
    "plt.show()"
   ]
  },
  {
   "cell_type": "code",
   "execution_count": 27,
   "id": "aware-rotation",
   "metadata": {},
   "outputs": [
    {
     "data": {
      "image/png": "[encoded data removed]",
      "text/plain": [
       "<Figure size 432x288 with 1 Axes>"
      ]
     },
     "metadata": {
      "needs_background": "light"
     },
     "output_type": "display_data"
    }
   ],
   "source": [
    "plt.xlim(0,100)\n",
    "plt.title('Hispanic/Latino Percentage vs Average Max Up')\n",
    "plt.scatter(df_averages_percentage['Hispanic/Latino'], df_averages_percentage['AverageMaxUp'])\n",
    "plt.show()"
   ]
  },
  {
   "cell_type": "code",
   "execution_count": 28,
   "id": "timely-place",
   "metadata": {},
   "outputs": [
    {
     "data": {
      "image/png": "[encoded data removed]",
      "text/plain": [
       "<Figure size 432x288 with 1 Axes>"
      ]
     },
     "metadata": {
      "needs_background": "light"
     },
     "output_type": "display_data"
    }
   ],
   "source": [
    "plt.xlim(0,100)\n",
    "plt.scatter(df_averages_percentage['Non-Hispanic Black or African American'], df_averages_percentage['AverageMaxUp'])\n",
    "plt.show()"
   ]
  },
  {
   "cell_type": "code",
   "execution_count": 29,
   "id": "false-burden",
   "metadata": {},
   "outputs": [
    {
     "data": {
      "image/png": "[encoded data removed]",
      "text/plain": [
       "<Figure size 432x288 with 1 Axes>"
      ]
     },
     "metadata": {
      "needs_background": "light"
     },
     "output_type": "display_data"
    }
   ],
   "source": [
    "plt.xlim(0,100)\n",
    "plt.scatter(df_averages_percentage['Non-Hispanic Black or African American'], df_averages_percentage['AverageMaxDown'])\n",
    "plt.show()"
   ]
  },
  {
   "cell_type": "code",
   "execution_count": 30,
   "id": "blond-sudan",
   "metadata": {},
   "outputs": [
    {
     "data": {
      "image/png": "[encoded data removed]",
      "text/plain": [
       "<Figure size 432x288 with 1 Axes>"
      ]
     },
     "metadata": {
      "needs_background": "light"
     },
     "output_type": "display_data"
    }
   ],
   "source": [
    "plt.xlim(0,100)\n",
    "plt.scatter(df_averages_percentage['Non-Hispanic White'], df_averages_percentage['AverageMaxDown'])\n",
    "plt.show()"
   ]
  },
  {
   "cell_type": "code",
   "execution_count": 31,
   "id": "injured-letter",
   "metadata": {},
   "outputs": [
    {
     "data": {
      "image/png": "[encoded data removed]",
      "text/plain": [
       "<Figure size 432x288 with 1 Axes>"
      ]
     },
     "metadata": {
      "needs_background": "light"
     },
     "output_type": "display_data"
    }
   ],
   "source": [
    "plt.xlim(0,100)\n",
    "plt.scatter(df_averages_percentage['Non-Hispanic White'], df_averages_percentage['AverageMaxUp'])\n",
    "plt.show()"
   ]
  },
  {
   "cell_type": "code",
   "execution_count": 32,
   "id": "continental-mills",
   "metadata": {},
   "outputs": [
    {
     "data": {
      "image/png": "[encoded data removed]",
      "text/plain": [
       "<Figure size 432x288 with 1 Axes>"
      ]
     },
     "metadata": {
      "needs_background": "light"
     },
     "output_type": "display_data"
    }
   ],
   "source": [
    "plt.xlim(0,100)\n",
    "plt.scatter(df_averages_percentage['Non-Hispanic Asian'], df_averages_percentage['AverageMaxUp'])\n",
    "plt.show()"
   ]
  },
  {
   "cell_type": "code",
   "execution_count": 33,
   "id": "lasting-background",
   "metadata": {},
   "outputs": [
    {
     "data": {
      "image/png": "[encoded data removed]",
      "text/plain": [
       "<Figure size 432x288 with 1 Axes>"
      ]
     },
     "metadata": {
      "needs_background": "light"
     },
     "output_type": "display_data"
    }
   ],
   "source": [
    "plt.xlim(0,100)\n",
    "plt.scatter(df_averages_percentage['Non-Hispanic Asian'], df_averages_percentage['AverageMaxDown'])\n",
    "plt.show()"
   ]
  },
  {
   "cell_type": "code",
   "execution_count": 34,
   "id": "structured-compatibility",
   "metadata": {},
   "outputs": [],
   "source": [
    "l1 = df_num_providers['Town'].to_list()\n",
    "l2 = df_averages_percentage['Town'].to_list()"
   ]
  },
  {
   "cell_type": "code",
   "execution_count": 35,
   "id": "hidden-oxide",
   "metadata": {},
   "outputs": [],
   "source": [
    "def Diff(li1, li2):\n",
    "    return (list(list(set(li1)-set(li2)) + list(set(li2)-set(li1))))"
   ]
  }
 ],
 "metadata": {
  "kernelspec": {
   "display_name": "Python 3",
   "language": "python",
   "name": "python3"
  },
  "language_info": {
   "codemirror_mode": {
    "name": "ipython",
    "version": 3
   },
   "file_extension": ".py",
   "mimetype": "text/x-python",
   "name": "python",
   "nbconvert_exporter": "python",
   "pygments_lexer": "ipython3",
   "version": "3.8.8"
  }
 },
 "nbformat": 4,
 "nbformat_minor": 5
}
