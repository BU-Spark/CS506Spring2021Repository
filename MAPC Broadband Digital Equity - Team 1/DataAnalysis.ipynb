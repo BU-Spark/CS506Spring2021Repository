{
 "cells": [
  {
   "cell_type": "code",
   "execution_count": 4,
   "metadata": {},
   "outputs": [],
   "source": [
    "# code block for imports \n",
    "import pandas as pd \n",
    "import numpy as np\n",
    "import sqlite3\n",
    "from sqlalchemy import create_engine\n",
    "import os\n",
    "import matplotlib.pyplot as plt\n",
    "import pandas as pd\n",
    "import folium\n",
    "from folium import plugins\n",
    "from folium.plugins import HeatMap"
   ]
  },
  {
   "cell_type": "code",
   "execution_count": 5,
   "metadata": {},
   "outputs": [],
   "source": [
    "conn = sqlite3.connect('cs506MAPC.db')"
   ]
  },
  {
   "cell_type": "markdown",
   "metadata": {},
   "source": [
    "## Display first 10 Providers "
   ]
  },
  {
   "cell_type": "code",
   "execution_count": 6,
   "metadata": {},
   "outputs": [
    {
     "name": "stdout",
     "output_type": "stream",
     "text": [
      "                        ProviderName  MaxAdDown  MaxAdUp      town  Longitude  \\\n",
      "0     MCI Communications Corporation        0.0      0.0  ABINGTON     -70.96   \n",
      "1             Crown Castle Fiber LLC        0.0      0.0  ABINGTON     -70.96   \n",
      "2                       ViaSat, Inc.      100.0      3.0  ABINGTON     -70.96   \n",
      "3             U.S. TelePacific Corp.        0.0      0.0  ABINGTON     -70.96   \n",
      "4  Broadview Networks Holdings, Inc.        0.0      0.0  ABINGTON     -70.96   \n",
      "5  COMCAST CABLE COMMUNICATIONS, LLC      987.0     35.0  ABINGTON     -70.96   \n",
      "6  COMCAST CABLE COMMUNICATIONS, LLC        0.0      0.0  ABINGTON     -70.96   \n",
      "7            EarthLink Business, LLC        0.0      0.0  ABINGTON     -70.96   \n",
      "8        PAETEC Communications, Inc.        0.0      0.0  ABINGTON     -70.96   \n",
      "9                   Spectrotel, Inc.        0.0      0.0  ABINGTON     -70.96   \n",
      "\n",
      "   Latitude  \n",
      "0     42.12  \n",
      "1     42.12  \n",
      "2     42.12  \n",
      "3     42.12  \n",
      "4     42.12  \n",
      "5     42.12  \n",
      "6     42.12  \n",
      "7     42.12  \n",
      "8     42.12  \n",
      "9     42.12  \n"
     ]
    }
   ],
   "source": [
    "qrystr =\"SELECT DISTINCT t1.ProviderName,t1.MaxAdDown,t1.MaxAdUp, t2.town, t3.Longitude, t3.Latitude FROM FCC_DATA_T t1, censusblocks_t t2, CityLongLat_t t3 WHERE substr(t1.BlockCode,0,12) = t2.blockcode AND t2.town = t3.town ORDER BY t2.town ASC\"\n",
    "\n",
    "\n",
    "#convert query results into dataframe\n",
    "df_filtered_providers = pd.read_sql_query(qrystr, conn)\n",
    "print(df_filtered_providers.head(10))"
   ]
  },
  {
   "cell_type": "markdown",
   "metadata": {},
   "source": [
    "## Non Zero Providers"
   ]
  },
  {
   "cell_type": "code",
   "execution_count": 7,
   "metadata": {},
   "outputs": [
    {
     "name": "stdout",
     "output_type": "stream",
     "text": [
      "                        ProviderName  MaxAdDown  MaxAdUp      town  Longitude  \\\n",
      "0                       ViaSat, Inc.      100.0    3.000  ABINGTON     -70.96   \n",
      "1  COMCAST CABLE COMMUNICATIONS, LLC      987.0   35.000  ABINGTON     -70.96   \n",
      "2           Verizon New England Inc.      940.0  880.000  ABINGTON     -70.96   \n",
      "3           Verizon New England Inc.        5.0    0.768  ABINGTON     -70.96   \n",
      "4           Verizon New England Inc.       15.0    1.000  ABINGTON     -70.96   \n",
      "5           Verizon New England Inc.       10.0    1.000  ABINGTON     -70.96   \n",
      "6           Verizon New England Inc.        7.0    0.768  ABINGTON     -70.96   \n",
      "7           Verizon New England Inc.        1.5    0.384  ABINGTON     -70.96   \n",
      "8           Verizon New England Inc.        3.0    0.768  ABINGTON     -70.96   \n",
      "9           Verizon New England Inc.        1.0    0.384  ABINGTON     -70.96   \n",
      "\n",
      "   Latitude  \n",
      "0     42.12  \n",
      "1     42.12  \n",
      "2     42.12  \n",
      "3     42.12  \n",
      "4     42.12  \n",
      "5     42.12  \n",
      "6     42.12  \n",
      "7     42.12  \n",
      "8     42.12  \n",
      "9     42.12  \n"
     ]
    }
   ],
   "source": [
    "qryStr2 = \"SELECT DISTINCT t1.ProviderName,t1.MaxAdDown,t1.MaxAdUp, t2.town, t3.Longitude, t3.Latitude FROM FCC_DATA_T t1, censusblocks_t t2, CityLongLat_t t3 WHERE MaxAdDown != 0.0 AND MaxAdUp != 0.0 and substr(t1.BlockCode,0,12) = t2.blockcode AND t2.town = t3.town ORDER BY t2.town ASC\"\n",
    "df_filtered_non_zero_providers = pd.read_sql_query(qryStr2, conn)\n",
    "print(df_filtered_non_zero_providers.head(10))\n"
   ]
  },
  {
   "cell_type": "markdown",
   "metadata": {},
   "source": [
    "## Zero Providers"
   ]
  },
  {
   "cell_type": "code",
   "execution_count": 8,
   "metadata": {},
   "outputs": [
    {
     "name": "stdout",
     "output_type": "stream",
     "text": [
      "                        ProviderName  MaxAdDown  MaxAdUp             town  \\\n",
      "0     MCI Communications Corporation        0.0      0.0         ABINGTON   \n",
      "1             Crown Castle Fiber LLC        0.0      0.0         ABINGTON   \n",
      "2             U.S. TelePacific Corp.        0.0      0.0         ABINGTON   \n",
      "3  Broadview Networks Holdings, Inc.        0.0      0.0         ABINGTON   \n",
      "4  COMCAST CABLE COMMUNICATIONS, LLC        0.0      0.0         ABINGTON   \n",
      "5            EarthLink Business, LLC        0.0      0.0         ABINGTON   \n",
      "6        PAETEC Communications, Inc.        0.0      0.0         ABINGTON   \n",
      "7                   Spectrotel, Inc.        0.0      0.0         ABINGTON   \n",
      "8            GCI Communication Corp.        0.0      0.0         ABINGTON   \n",
      "9             U.S. TelePacific Corp.        0.0      0.0  ACUSHNET CENTER   \n",
      "\n",
      "   Longitude  Latitude  \n",
      "0     -70.96     42.12  \n",
      "1     -70.96     42.12  \n",
      "2     -70.96     42.12  \n",
      "3     -70.96     42.12  \n",
      "4     -70.96     42.12  \n",
      "5     -70.96     42.12  \n",
      "6     -70.96     42.12  \n",
      "7     -70.96     42.12  \n",
      "8     -70.96     42.12  \n",
      "9     -70.91     41.69  \n"
     ]
    }
   ],
   "source": [
    "qryStr3 = \"SELECT DISTINCT t1.ProviderName,t1.MaxAdDown,t1.MaxAdUp, t2.town, t3.Longitude, t3.Latitude FROM FCC_DATA_T t1, censusblocks_t t2, CityLongLat_t t3 WHERE MaxAdDown = 0 AND MaxAdUp = 0 and substr(t1.BlockCode,0,12) = t2.blockcode AND t2.town = t3.town ORDER BY t2.town ASC\"\n",
    "df_filtered_zero_providers = pd.read_sql_query(qryStr3, conn)\n",
    "print(df_filtered_zero_providers.head(10))"
   ]
  },
  {
   "cell_type": "code",
   "execution_count": 9,
   "metadata": {},
   "outputs": [],
   "source": [
    "def generateBaseMap(default_location=[42.360081, -71.058884]):\n",
    "    base_map = folium.Map(location=default_location)\n",
    "    return base_map\n",
    "\n",
    "# download speed\n",
    "base_map = generateBaseMap()\n",
    "\n",
    "HeatMap(data=df_filtered_non_zero_providers [['Latitude', 'Longitude', 'MaxAdDown']].groupby(['Latitude', 'Longitude']).\n",
    "        mean().reset_index().values.tolist(), radius=8, max_zoom=13).add_to(base_map) \n",
    "\n",
    "base_map.save('maxaddown.html')\n",
    "\n",
    "# upload speed\n",
    "base_map = generateBaseMap()\n",
    "\n",
    "HeatMap(data=df_filtered_non_zero_providers [['Latitude', 'Longitude', 'MaxAdUp']].groupby(['Latitude', 'Longitude']).\n",
    "        mean().reset_index().values.tolist(), radius=8, max_zoom=13).add_to(base_map) \n",
    "\n",
    "base_map.save('maxadup.html')"
   ]
  },
  {
   "cell_type": "markdown",
   "metadata": {},
   "source": [
    "## Median Income Per Race (Census Tracks)"
   ]
  },
  {
   "cell_type": "code",
   "execution_count": 15,
   "metadata": {},
   "outputs": [
    {
     "name": "stdout",
     "output_type": "stream",
     "text": [
      "              Town  Average Median Income\n",
      "0         ABINGTON           89531.333333\n",
      "1  ACUSHNET CENTER           69091.500000\n",
      "2            ADAMS           50431.000000\n",
      "3      AGAWAM TOWN           70442.500000\n",
      "4    AMESBURY TOWN           83022.250000\n",
      "5   AMHERST CENTER           47272.800000\n",
      "6          ANDOVER          130214.500000\n",
      "7        ARLINGTON          110874.250000\n",
      "8            ATHOL           55275.333333\n",
      "9        ATTLEBORO           75457.750000\n"
     ]
    }
   ],
   "source": [
    "qryStr4 = \"SELECT t2.Town as Town, AVG(t1.mhi) as 'Average Median Income' FROM median_income_t t1, censusblocks_t t2 WHERE t2.blockcode = t1.ct10_id and t1.mhi > 1 GROUP BY t2.Town;\"\n",
    "town_median_income  = pd.read_sql_query(qryStr4, conn)\n",
    "print(town_median_income.head(10))"
   ]
  },
  {
   "cell_type": "code",
   "execution_count": 22,
   "metadata": {},
   "outputs": [],
   "source": [
    "town_median_income.sort_values(by=['Average Median Income'])\n",
    "top_five_towns = town_median_income.nlargest(5, ['Average Median Income'])\n",
    "bottom_five_towns = town_median_income.nsmallest(5, ['Average Median Income'])"
   ]
  },
  {
   "cell_type": "code",
   "execution_count": 23,
   "metadata": {},
   "outputs": [
    {
     "data": {
      "image/png": "[encoded data removed]",
      "text/plain": [
       "<Figure size 432x288 with 1 Axes>"
      ]
     },
     "metadata": {
      "needs_background": "light"
     },
     "output_type": "display_data"
    }
   ],
   "source": [
    "top_five_towns.plot(x='Town', y='Average Median Income', kind='bar') \n",
    "plt.show()"
   ]
  },
  {
   "cell_type": "code",
   "execution_count": 24,
   "metadata": {},
   "outputs": [
    {
     "data": {
      "image/png": "[encoded data removed]",
      "text/plain": [
       "<Figure size 432x288 with 1 Axes>"
      ]
     },
     "metadata": {
      "needs_background": "light"
     },
     "output_type": "display_data"
    }
   ],
   "source": [
    "bottom_five_towns.plot(x='Town', y='Average Median Income', kind='bar') \n",
    "plt.show()"
   ]
  },
  {
   "cell_type": "code",
   "execution_count": null,
   "metadata": {},
   "outputs": [],
   "source": []
  }
 ],
 "metadata": {
  "kernelspec": {
   "display_name": "Python 3",
   "language": "python",
   "name": "python3"
  },
  "language_info": {
   "codemirror_mode": {
    "name": "ipython",
    "version": 3
   },
   "file_extension": ".py",
   "mimetype": "text/x-python",
   "name": "python",
   "nbconvert_exporter": "python",
   "pygments_lexer": "ipython3",
   "version": "3.8.3"
  }
 },
 "nbformat": 4,
 "nbformat_minor": 5
}
