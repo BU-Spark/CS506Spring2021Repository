{
 "cells": [
  {
   "cell_type": "code",
   "execution_count": null,
   "id": "analyzed-process",
   "metadata": {},
   "outputs": [],
   "source": [
    "# code block for imports \n",
    "import pandas as pd \n",
    "import numpy as np\n",
    "import sqlite3\n",
    "from sqlalchemy import create_engine\n",
    "import os\n",
    "import matplotlib.pyplot as plt\n",
    "import pandas as pd\n",
    "import folium\n",
    "from folium import plugins\n",
    "from folium.plugins import HeatMap"
   ]
  },
  {
   "cell_type": "code",
   "execution_count": null,
   "id": "critical-composite",
   "metadata": {},
   "outputs": [],
   "source": [
    "conn = sqlite3.connect('cs506MAPC.db')"
   ]
  },
  {
   "cell_type": "markdown",
   "id": "recent-session",
   "metadata": {},
   "source": [
    "## Display first 10 Providers "
   ]
  },
  {
   "cell_type": "code",
   "execution_count": null,
   "id": "unavailable-coating",
   "metadata": {},
   "outputs": [],
   "source": [
    "qrystr =\"SELECT DISTINCT t1.ProviderName,t1.MaxAdDown,t1.MaxAdUp, t2.town, t3.Longitude, t3.Latitude FROM FCC_DATA_T t1, censusblocks_t t2, CityLongLat_t t3 WHERE substr(t1.BlockCode,0,12) = t2.blockcode AND t2.town = t3.town ORDER BY t2.town ASC\"\n",
    "\n",
    "\n",
    "#convert query results into dataframe\n",
    "df_filtered_providers = pd.read_sql_query(qrystr, conn)\n",
    "print(df_filtered_providers.head(10))"
   ]
  },
  {
   "cell_type": "markdown",
   "id": "handed-inspiration",
   "metadata": {},
   "source": [
    "## Non Zero Providers"
   ]
  },
  {
   "cell_type": "code",
   "execution_count": null,
   "id": "finite-syracuse",
   "metadata": {},
   "outputs": [],
   "source": [
    "qryStr2 = \"SELECT DISTINCT t1.ProviderName,t1.MaxAdDown,t1.MaxAdUp, t2.town, t3.Longitude, t3.Latitude FROM FCC_DATA_T t1, censusblocks_t t2, CityLongLat_t t3 WHERE MaxAdDown != 0.0 AND MaxAdUp != 0.0 and substr(t1.BlockCode,0,12) = t2.blockcode AND t2.town = t3.town ORDER BY t2.town ASC\"\n",
    "df_filtered_non_zero_providers = pd.read_sql_query(qryStr2, conn)\n",
    "print(df_filtered_non_zero_providers.head(10))\n"
   ]
  },
  {
   "cell_type": "markdown",
   "id": "southwest-saskatchewan",
   "metadata": {},
   "source": [
    "## Zero Providers"
   ]
  },
  {
   "cell_type": "code",
   "execution_count": null,
   "id": "cloudy-serum",
   "metadata": {},
   "outputs": [],
   "source": [
    "qryStr3 = \"SELECT DISTINCT t1.ProviderName,t1.MaxAdDown,t1.MaxAdUp, t2.town, t3.Longitude, t3.Latitude FROM FCC_DATA_T t1, censusblocks_t t2, CityLongLat_t t3 WHERE MaxAdDown = 0 AND MaxAdUp = 0 and substr(t1.BlockCode,0,12) = t2.blockcode AND t2.town = t3.town ORDER BY t2.town ASC\"\n",
    "df_filtered_zero_providers = pd.read_sql_query(qryStr3, conn)\n",
    "print(df_filtered_zero_providers.head(10))"
   ]
  },
  {
   "cell_type": "code",
   "execution_count": null,
   "id": "absolute-turner",
   "metadata": {},
   "outputs": [],
   "source": [
    "def generateBaseMap(default_location=[42.360081, -71.058884]):\n",
    "    base_map = folium.Map(location=default_location)\n",
    "    return base_map\n",
    "\n",
    "# download speed\n",
    "base_map = generateBaseMap()\n",
    "\n",
    "HeatMap(data=df_filtered_non_zero_providers [['Latitude', 'Longitude', 'MaxAdDown']].groupby(['Latitude', 'Longitude']).\n",
    "        mean().reset_index().values.tolist(), radius=8, max_zoom=13).add_to(base_map) \n",
    "\n",
    "base_map.save('maxaddown.html')\n",
    "\n",
    "# upload speed\n",
    "base_map = generateBaseMap()\n",
    "\n",
    "HeatMap(data=df_filtered_non_zero_providers [['Latitude', 'Longitude', 'MaxAdUp']].groupby(['Latitude', 'Longitude']).\n",
    "        mean().reset_index().values.tolist(), radius=8, max_zoom=13).add_to(base_map) \n",
    "\n",
    "base_map.save('maxadup.html')"
   ]
  },
  {
   "cell_type": "code",
   "execution_count": null,
   "id": "worthy-gabriel",
   "metadata": {},
   "outputs": [],
   "source": []
  }
 ],
 "metadata": {
  "kernelspec": {
   "display_name": "Python 3",
   "language": "python",
   "name": "python3"
  },
  "language_info": {
   "codemirror_mode": {
    "name": "ipython",
    "version": 3
   },
   "file_extension": ".py",
   "mimetype": "text/x-python",
   "name": "python",
   "nbconvert_exporter": "python",
   "pygments_lexer": "ipython3",
   "version": "3.8.8"
  }
 },
 "nbformat": 4,
 "nbformat_minor": 5
}
