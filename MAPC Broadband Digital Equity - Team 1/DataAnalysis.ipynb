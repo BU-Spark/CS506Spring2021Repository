{
 "cells": [
  {
   "cell_type": "code",
   "execution_count": 2,
   "metadata": {},
   "outputs": [],
   "source": [
    "# code block for imports \n",
    "import pandas as pd \n",
    "import numpy as np\n",
    "import sqlite3\n",
    "from sqlalchemy import create_engine\n",
    "import os\n",
    "import matplotlib.pyplot as plt\n",
    "import pandas as pd\n",
    "import folium\n",
    "from folium import plugins\n",
    "from folium.plugins import HeatMap\n",
    "import seaborn as sns"
   ]
  },
  {
   "cell_type": "code",
   "execution_count": 3,
   "metadata": {},
   "outputs": [],
   "source": [
    "conn = sqlite3.connect('cs506MAPC.db')"
   ]
  },
  {
   "cell_type": "markdown",
   "metadata": {},
   "source": [
    "## Display first 10 Providers "
   ]
  },
  {
   "cell_type": "code",
   "execution_count": null,
   "metadata": {},
   "outputs": [
    {
     "name": "stdout",
     "output_type": "stream",
     "text": [
      "                        ProviderName  MaxAdDown  MaxAdUp      town  Longitude  \\\n",
      "0     MCI Communications Corporation        0.0      0.0  ABINGTON     -70.96   \n",
      "1             Crown Castle Fiber LLC        0.0      0.0  ABINGTON     -70.96   \n",
      "2                       ViaSat, Inc.      100.0      3.0  ABINGTON     -70.96   \n",
      "3             U.S. TelePacific Corp.        0.0      0.0  ABINGTON     -70.96   \n",
      "4  Broadview Networks Holdings, Inc.        0.0      0.0  ABINGTON     -70.96   \n",
      "5  COMCAST CABLE COMMUNICATIONS, LLC      987.0     35.0  ABINGTON     -70.96   \n",
      "6  COMCAST CABLE COMMUNICATIONS, LLC        0.0      0.0  ABINGTON     -70.96   \n",
      "7            EarthLink Business, LLC        0.0      0.0  ABINGTON     -70.96   \n",
      "8        PAETEC Communications, Inc.        0.0      0.0  ABINGTON     -70.96   \n",
      "9                   Spectrotel, Inc.        0.0      0.0  ABINGTON     -70.96   \n",
      "\n",
      "   Latitude  \n",
      "0     42.12  \n",
      "1     42.12  \n",
      "2     42.12  \n",
      "3     42.12  \n",
      "4     42.12  \n",
      "5     42.12  \n",
      "6     42.12  \n",
      "7     42.12  \n",
      "8     42.12  \n",
      "9     42.12  \n"
     ]
    }
   ],
   "source": [
    "qrystr =\"SELECT DISTINCT t1.ProviderName,substr(t1.BlockCode,0,12) as tractNum,t1.MaxAdDown,t1.MaxAdUp, t2.town, t3.Longitude, t3.Latitude FROM FCC_DATA_T t1, censusblocks_t t2, CityLongLat_t t3 WHERE substr(t1.BlockCode,0,12) = t2.blockcode AND t2.town = t3.town ORDER BY t2.town ASC\"\n",
    "\n",
    "\n",
    "#convert query results into dataframe\n",
    "df_filtered_providers = pd.read_sql_query(qrystr, conn)\n",
    "print(df_filtered_providers.head(10))"
   ]
  },
  {
   "cell_type": "markdown",
   "metadata": {},
   "source": [
    "## Non Zero Providers"
   ]
  },
  {
   "cell_type": "code",
   "execution_count": null,
   "metadata": {},
   "outputs": [
    {
     "name": "stdout",
     "output_type": "stream",
     "text": [
      "                        ProviderName  MaxAdDown  MaxAdUp      town  Longitude  \\\n",
      "0                       ViaSat, Inc.      100.0    3.000  ABINGTON     -70.96   \n",
      "1  COMCAST CABLE COMMUNICATIONS, LLC      987.0   35.000  ABINGTON     -70.96   \n",
      "2           Verizon New England Inc.      940.0  880.000  ABINGTON     -70.96   \n",
      "3           Verizon New England Inc.        5.0    0.768  ABINGTON     -70.96   \n",
      "4           Verizon New England Inc.       15.0    1.000  ABINGTON     -70.96   \n",
      "5           Verizon New England Inc.       10.0    1.000  ABINGTON     -70.96   \n",
      "6           Verizon New England Inc.        7.0    0.768  ABINGTON     -70.96   \n",
      "7           Verizon New England Inc.        1.5    0.384  ABINGTON     -70.96   \n",
      "8           Verizon New England Inc.        3.0    0.768  ABINGTON     -70.96   \n",
      "9           Verizon New England Inc.        1.0    0.384  ABINGTON     -70.96   \n",
      "\n",
      "   Latitude  \n",
      "0     42.12  \n",
      "1     42.12  \n",
      "2     42.12  \n",
      "3     42.12  \n",
      "4     42.12  \n",
      "5     42.12  \n",
      "6     42.12  \n",
      "7     42.12  \n",
      "8     42.12  \n",
      "9     42.12  \n"
     ]
    }
   ],
   "source": [
    "qryStr2 = \"SELECT DISTINCT t1.ProviderName,substr(t1.BlockCode,0,12) as tractNum,t1.MaxAdDown,t1.MaxAdUp, t2.town, t3.Longitude, t3.Latitude FROM FCC_DATA_T t1, censusblocks_t t2, CityLongLat_t t3 WHERE MaxAdDown != 0.0 AND MaxAdUp != 0.0 and substr(t1.BlockCode,0,12) = t2.blockcode AND t2.town = t3.town ORDER BY t2.town ASC\"\n",
    "df_filtered_non_zero_providers = pd.read_sql_query(qryStr2, conn)\n",
    "print(df_filtered_non_zero_providers.head(10))\n"
   ]
  },
  {
   "cell_type": "markdown",
   "metadata": {},
   "source": [
    "## Zero Providers"
   ]
  },
  {
   "cell_type": "code",
   "execution_count": null,
   "metadata": {},
   "outputs": [
    {
     "name": "stdout",
     "output_type": "stream",
     "text": [
      "                        ProviderName  MaxAdDown  MaxAdUp             town  \\\n",
      "0     MCI Communications Corporation        0.0      0.0         ABINGTON   \n",
      "1             Crown Castle Fiber LLC        0.0      0.0         ABINGTON   \n",
      "2             U.S. TelePacific Corp.        0.0      0.0         ABINGTON   \n",
      "3  Broadview Networks Holdings, Inc.        0.0      0.0         ABINGTON   \n",
      "4  COMCAST CABLE COMMUNICATIONS, LLC        0.0      0.0         ABINGTON   \n",
      "5            EarthLink Business, LLC        0.0      0.0         ABINGTON   \n",
      "6        PAETEC Communications, Inc.        0.0      0.0         ABINGTON   \n",
      "7                   Spectrotel, Inc.        0.0      0.0         ABINGTON   \n",
      "8            GCI Communication Corp.        0.0      0.0         ABINGTON   \n",
      "9             U.S. TelePacific Corp.        0.0      0.0  ACUSHNET CENTER   \n",
      "\n",
      "   Longitude  Latitude  \n",
      "0     -70.96     42.12  \n",
      "1     -70.96     42.12  \n",
      "2     -70.96     42.12  \n",
      "3     -70.96     42.12  \n",
      "4     -70.96     42.12  \n",
      "5     -70.96     42.12  \n",
      "6     -70.96     42.12  \n",
      "7     -70.96     42.12  \n",
      "8     -70.96     42.12  \n",
      "9     -70.91     41.69  \n"
     ]
    }
   ],
   "source": [
    "qryStr3 = \"SELECT DISTINCT t1.ProviderName,substr(t1.BlockCode,0,12) as tractNum,t1.MaxAdDown,t1.MaxAdUp, t2.town, t3.Longitude, t3.Latitude FROM FCC_DATA_T t1, censusblocks_t t2, CityLongLat_t t3 WHERE MaxAdDown = 0 AND MaxAdUp = 0 and substr(t1.BlockCode,0,12) = t2.blockcode AND t2.town = t3.town ORDER BY t2.town ASC\"\n",
    "df_filtered_zero_providers = pd.read_sql_query(qryStr3, conn)\n",
    "print(df_filtered_zero_providers.head(10))"
   ]
  },
  {
   "cell_type": "markdown",
   "metadata": {},
   "source": [
    "## Max Providers Per Area"
   ]
  },
  {
   "cell_type": "code",
   "execution_count": null,
   "metadata": {
    "tags": []
   },
   "outputs": [],
   "source": [
    "town_dict = {}\n",
    "towns = df_filtered_zero_providers['town']\n",
    "providers = df_filtered_zero_providers['ProviderName']\n",
    "df_towns_providers = pd.concat([towns, providers], axis=1)\n",
    "numpy_arr = df_towns_providers.to_numpy()\n",
    "for i in range(len(numpy_arr)):\n",
    "    town_name = numpy_arr[i][0]\n",
    "    if town_name not in town_dict.keys():\n",
    "        town_dict[town_name] = [numpy_arr[i][1]]\n",
    "    elif numpy_arr[i][1] not in town_dict.get(town_name):\n",
    "        town_dict[town_name].append(numpy_arr[i][1])\n",
    "    else:\n",
    "        continue\n",
    "\n",
    "num_providers_dict = {}\n",
    "for key in town_dict.keys():\n",
    "    num_providers_dict[key] = len(town_dict.get(key))\n",
    "\n",
    "df_num_providers = pd.DataFrame(num_providers_dict.items(), columns=['Town', 'ProviderCount'])\n",
    "print(df_num_providers)\n"
   ]
  },
  {
   "cell_type": "markdown",
   "metadata": {},
   "source": [
    "## MaxAdDown"
   ]
  },
  {
   "cell_type": "code",
   "execution_count": 88,
   "metadata": {},
   "outputs": [
    {
     "name": "stdout",
     "output_type": "stream",
     "text": [
      "   MaxAdDown            Town\n",
      "0     1000.0       WESTFIELD\n",
      "1     1000.0  AMHERST CENTER\n",
      "2      500.0          WOBURN\n",
      "3      500.0      WINCHESTER\n",
      "4      500.0       WELLESLEY\n",
      "5      500.0  WATERTOWN TOWN\n",
      "6      500.0         WALTHAM\n",
      "7      500.0        STONEHAM\n",
      "8      500.0      SOMERVILLE\n",
      "9      500.0          SAUGUS\n"
     ]
    },
    {
     "data": {
      "image/png": "[encoded data removed]",
      "text/plain": [
       "<Figure size 432x288 with 1 Axes>"
      ]
     },
     "metadata": {
      "needs_background": "light"
     },
     "output_type": "display_data"
    },
    {
     "data": {
      "image/png": "[encoded data removed]",
      "text/plain": [
       "<Figure size 432x288 with 1 Axes>"
      ]
     },
     "metadata": {
      "needs_background": "light"
     },
     "output_type": "display_data"
    }
   ],
   "source": [
    "qryStr4 = \"SELECT DISTINCT t1.MaxAdDown, t2.town as Town FROM FCC_DATA_T t1, censusblocks_t t2, CityLongLat_t t3 WHERE MaxAdDown != 0.0 AND MaxAdUp != 0.0 and substr(t1.BlockCode,0,12) = t2.blockcode AND t2.town = t3.town GROUP BY t2.town ORDER BY MaxAdDown DESC\"\n",
    "df_filtered_max_down = pd.read_sql_query(qryStr4, conn)\n",
    "print(df_filtered_max_down.head(10))\n",
    "\n",
    "top_ten = df_filtered_max_down.nlargest(10, ['MaxAdDown'])\n",
    "bottom_ten = df_filtered_max_down.nsmallest(10, ['MaxAdDown'])\n",
    "\n",
    "top_ten.plot(x='Town', y='MaxAdDown', kind='bar', title = \"Top 10 Town Download Speeds\")\n",
    "plt.show()\n",
    "\n",
    "bottom_ten.plot(x='Town', y='MaxAdDown', kind='bar', title = \"Bottom 10 Town Download Speeds\")\n",
    "plt.show()"
   ]
  },
  {
   "cell_type": "markdown",
   "metadata": {},
   "source": [
    "## MaxAdUp"
   ]
  },
  {
   "cell_type": "code",
   "execution_count": 89,
   "metadata": {},
   "outputs": [
    {
     "name": "stdout",
     "output_type": "stream",
     "text": [
      "   MaxAdUp            Town\n",
      "0   1000.0       WESTFIELD\n",
      "1   1000.0  AMHERST CENTER\n",
      "2    150.0    WEST CONCORD\n",
      "3     20.0          WOBURN\n",
      "4     20.0      WINCHESTER\n",
      "5     20.0       WELLESLEY\n",
      "6     20.0  WATERTOWN TOWN\n",
      "7     20.0         WALTHAM\n",
      "8     20.0        STONEHAM\n",
      "9     20.0      SOMERVILLE\n"
     ]
    },
    {
     "data": {
      "image/png": "[encoded data removed]",
      "text/plain": [
       "<Figure size 432x288 with 1 Axes>"
      ]
     },
     "metadata": {
      "needs_background": "light"
     },
     "output_type": "display_data"
    },
    {
     "data": {
      "image/png": "[encoded data removed]",
      "text/plain": [
       "<Figure size 432x288 with 1 Axes>"
      ]
     },
     "metadata": {
      "needs_background": "light"
     },
     "output_type": "display_data"
    }
   ],
   "source": [
    "qryStr5 = \"SELECT DISTINCT t1.MaxAdUp, t2.town as Town FROM FCC_DATA_T t1, censusblocks_t t2, CityLongLat_t t3 WHERE MaxAdDown != 0.0 AND MaxAdUp != 0.0 and substr(t1.BlockCode,0,12) = t2.blockcode AND t2.town = t3.town GROUP BY t2.town ORDER BY MaxAdUp DESC\"\n",
    "df_filtered_max_down = pd.read_sql_query(qryStr5, conn)\n",
    "print(df_filtered_max_down.head(10))\n",
    "\n",
    "top_ten = df_filtered_max_down.nlargest(10, ['MaxAdUp'])\n",
    "bottom_ten = df_filtered_max_down.nsmallest(10, ['MaxAdUp'])\n",
    "\n",
    "top_ten.plot(x='Town', y='MaxAdUp', kind='bar', title = \"Top 10 Town Upload Speeds\")\n",
    "plt.show()\n",
    "\n",
    "bottom_ten.plot(x='Town', y='MaxAdUp', kind='bar', title = \"Bottom 10 Town Upload Speeds\")\n",
    "plt.show()"
   ]
  },
  {
   "cell_type": "markdown",
   "metadata": {},
   "source": [
    "## Median Income Per Race (Census Tracks)"
   ]
  },
  {
   "cell_type": "code",
   "execution_count": 5,
   "metadata": {},
   "outputs": [
    {
     "data": {
      "text/html": [
       "<div>\n",
       "<style scoped>\n",
       "    .dataframe tbody tr th:only-of-type {\n",
       "        vertical-align: middle;\n",
       "    }\n",
       "\n",
       "    .dataframe tbody tr th {\n",
       "        vertical-align: top;\n",
       "    }\n",
       "\n",
       "    .dataframe thead th {\n",
       "        text-align: right;\n",
       "    }\n",
       "</style>\n",
       "<table border=\"1\" class=\"dataframe\">\n",
       "  <thead>\n",
       "    <tr style=\"text-align: right;\">\n",
       "      <th></th>\n",
       "      <th>Town</th>\n",
       "      <th>Average Median Income</th>\n",
       "    </tr>\n",
       "  </thead>\n",
       "  <tbody>\n",
       "    <tr>\n",
       "      <th>0</th>\n",
       "      <td>ABINGTON</td>\n",
       "      <td>89531.333333</td>\n",
       "    </tr>\n",
       "    <tr>\n",
       "      <th>1</th>\n",
       "      <td>ACUSHNET CENTER</td>\n",
       "      <td>69091.500000</td>\n",
       "    </tr>\n",
       "    <tr>\n",
       "      <th>2</th>\n",
       "      <td>ADAMS</td>\n",
       "      <td>50431.000000</td>\n",
       "    </tr>\n",
       "    <tr>\n",
       "      <th>3</th>\n",
       "      <td>AGAWAM TOWN</td>\n",
       "      <td>70442.500000</td>\n",
       "    </tr>\n",
       "    <tr>\n",
       "      <th>4</th>\n",
       "      <td>AMESBURY TOWN</td>\n",
       "      <td>83022.250000</td>\n",
       "    </tr>\n",
       "    <tr>\n",
       "      <th>...</th>\n",
       "      <td>...</td>\n",
       "      <td>...</td>\n",
       "    </tr>\n",
       "    <tr>\n",
       "      <th>177</th>\n",
       "      <td>WINCHENDON</td>\n",
       "      <td>74986.000000</td>\n",
       "    </tr>\n",
       "    <tr>\n",
       "      <th>178</th>\n",
       "      <td>WINCHESTER</td>\n",
       "      <td>160758.800000</td>\n",
       "    </tr>\n",
       "    <tr>\n",
       "      <th>179</th>\n",
       "      <td>WINTHROP TOWN</td>\n",
       "      <td>80237.333333</td>\n",
       "    </tr>\n",
       "    <tr>\n",
       "      <th>180</th>\n",
       "      <td>WOBURN</td>\n",
       "      <td>87139.285714</td>\n",
       "    </tr>\n",
       "    <tr>\n",
       "      <th>181</th>\n",
       "      <td>WORCESTER</td>\n",
       "      <td>50699.690476</td>\n",
       "    </tr>\n",
       "  </tbody>\n",
       "</table>\n",
       "<p>182 rows × 2 columns</p>\n",
       "</div>"
      ],
      "text/plain": [
       "                Town  Average Median Income\n",
       "0           ABINGTON           89531.333333\n",
       "1    ACUSHNET CENTER           69091.500000\n",
       "2              ADAMS           50431.000000\n",
       "3        AGAWAM TOWN           70442.500000\n",
       "4      AMESBURY TOWN           83022.250000\n",
       "..               ...                    ...\n",
       "177       WINCHENDON           74986.000000\n",
       "178       WINCHESTER          160758.800000\n",
       "179    WINTHROP TOWN           80237.333333\n",
       "180           WOBURN           87139.285714\n",
       "181        WORCESTER           50699.690476\n",
       "\n",
       "[182 rows x 2 columns]"
      ]
     },
     "execution_count": 5,
     "metadata": {},
     "output_type": "execute_result"
    }
   ],
   "source": [
    "qryStr6 = \"SELECT t2.Town as Town, AVG(t1.mhi) as 'Average Median Income' FROM median_income_t t1, censusblocks_t t2 WHERE t2.blockcode = t1.ct10_id and t1.mhi > 1 GROUP BY t2.Town;\"\n",
    "town_median_income  = pd.read_sql_query(qryStr6, conn)\n",
    "town_median_income"
   ]
  },
  {
   "cell_type": "code",
   "execution_count": 6,
   "metadata": {},
   "outputs": [
    {
     "data": {
      "text/html": [
       "<div>\n",
       "<style scoped>\n",
       "    .dataframe tbody tr th:only-of-type {\n",
       "        vertical-align: middle;\n",
       "    }\n",
       "\n",
       "    .dataframe tbody tr th {\n",
       "        vertical-align: top;\n",
       "    }\n",
       "\n",
       "    .dataframe thead th {\n",
       "        text-align: right;\n",
       "    }\n",
       "</style>\n",
       "<table border=\"1\" class=\"dataframe\">\n",
       "  <thead>\n",
       "    <tr style=\"text-align: right;\">\n",
       "      <th></th>\n",
       "      <th>Town</th>\n",
       "      <th>Average Median Income</th>\n",
       "    </tr>\n",
       "  </thead>\n",
       "  <tbody>\n",
       "    <tr>\n",
       "      <th>0</th>\n",
       "      <td>DOVER</td>\n",
       "      <td>224784.000000</td>\n",
       "    </tr>\n",
       "    <tr>\n",
       "      <th>1</th>\n",
       "      <td>WELLESLEY</td>\n",
       "      <td>183744.285714</td>\n",
       "    </tr>\n",
       "    <tr>\n",
       "      <th>2</th>\n",
       "      <td>BOXFORD</td>\n",
       "      <td>174340.000000</td>\n",
       "    </tr>\n",
       "    <tr>\n",
       "      <th>3</th>\n",
       "      <td>LEXINGTON</td>\n",
       "      <td>174233.166667</td>\n",
       "    </tr>\n",
       "    <tr>\n",
       "      <th>4</th>\n",
       "      <td>HOPKINTON</td>\n",
       "      <td>167733.500000</td>\n",
       "    </tr>\n",
       "    <tr>\n",
       "      <th>5</th>\n",
       "      <td>SPRINGFIELD</td>\n",
       "      <td>38017.162162</td>\n",
       "    </tr>\n",
       "    <tr>\n",
       "      <th>6</th>\n",
       "      <td>NORTH ADAMS</td>\n",
       "      <td>38142.500000</td>\n",
       "    </tr>\n",
       "    <tr>\n",
       "      <th>7</th>\n",
       "      <td>LAWRENCE</td>\n",
       "      <td>39653.166667</td>\n",
       "    </tr>\n",
       "    <tr>\n",
       "      <th>8</th>\n",
       "      <td>HOLYOKE</td>\n",
       "      <td>40761.636364</td>\n",
       "    </tr>\n",
       "    <tr>\n",
       "      <th>9</th>\n",
       "      <td>FALL RIVER</td>\n",
       "      <td>43967.920000</td>\n",
       "    </tr>\n",
       "    <tr>\n",
       "      <th>10</th>\n",
       "      <td>REVERE</td>\n",
       "      <td>55013.500000</td>\n",
       "    </tr>\n",
       "    <tr>\n",
       "      <th>11</th>\n",
       "      <td>QUINCY</td>\n",
       "      <td>75583.850000</td>\n",
       "    </tr>\n",
       "    <tr>\n",
       "      <th>12</th>\n",
       "      <td>EVERETT</td>\n",
       "      <td>58378.500000</td>\n",
       "    </tr>\n",
       "  </tbody>\n",
       "</table>\n",
       "</div>"
      ],
      "text/plain": [
       "           Town  Average Median Income\n",
       "0         DOVER          224784.000000\n",
       "1     WELLESLEY          183744.285714\n",
       "2       BOXFORD          174340.000000\n",
       "3     LEXINGTON          174233.166667\n",
       "4     HOPKINTON          167733.500000\n",
       "5   SPRINGFIELD           38017.162162\n",
       "6   NORTH ADAMS           38142.500000\n",
       "7      LAWRENCE           39653.166667\n",
       "8       HOLYOKE           40761.636364\n",
       "9    FALL RIVER           43967.920000\n",
       "10       REVERE           55013.500000\n",
       "11       QUINCY           75583.850000\n",
       "12      EVERETT           58378.500000"
      ]
     },
     "execution_count": 6,
     "metadata": {},
     "output_type": "execute_result"
    }
   ],
   "source": [
    "town_median_income.sort_values(by=['Average Median Income'])\n",
    "top_five_towns = town_median_income.nlargest(5, ['Average Median Income'])\n",
    "bottom_five_towns = town_median_income.nsmallest(5, ['Average Median Income'])\n",
    "revere = town_median_income.loc[town_median_income['Town'] == 'REVERE']\n",
    "quincy = town_median_income.loc[town_median_income['Town'] == 'QUINCY']\n",
    "everett = town_median_income.loc[town_median_income['Town'] == 'EVERETT']\n",
    "combined_median_income_df = pd.concat([top_five_towns, bottom_five_towns, revere, quincy, everett], axis=0)\n",
    "combined_median_income_df = combined_median_income_df.reset_index(drop=True)\n",
    "combined_median_income_df"
   ]
  },
  {
   "cell_type": "code",
   "execution_count": 7,
   "metadata": {},
   "outputs": [
    {
     "data": {
      "image/png": "[encoded data removed]",
      "text/plain": [
       "<Figure size 432x288 with 1 Axes>"
      ]
     },
     "metadata": {
      "needs_background": "light"
     },
     "output_type": "display_data"
    }
   ],
   "source": [
    "combined_median_income_df.plot(x='Town', y='Average Median Income', kind='bar') \n",
    "plt.show()"
   ]
  },
  {
   "cell_type": "code",
   "execution_count": 10,
   "metadata": {},
   "outputs": [
    {
     "data": {
      "text/html": [
       "<div>\n",
       "<style scoped>\n",
       "    .dataframe tbody tr th:only-of-type {\n",
       "        vertical-align: middle;\n",
       "    }\n",
       "\n",
       "    .dataframe tbody tr th {\n",
       "        vertical-align: top;\n",
       "    }\n",
       "\n",
       "    .dataframe thead th {\n",
       "        text-align: right;\n",
       "    }\n",
       "</style>\n",
       "<table border=\"1\" class=\"dataframe\">\n",
       "  <thead>\n",
       "    <tr style=\"text-align: right;\">\n",
       "      <th></th>\n",
       "      <th>Town</th>\n",
       "      <th>AverageMaxDown</th>\n",
       "      <th>AverageMaxUp</th>\n",
       "    </tr>\n",
       "  </thead>\n",
       "  <tbody>\n",
       "    <tr>\n",
       "      <th>0</th>\n",
       "      <td>ABINGTON</td>\n",
       "      <td>250.73</td>\n",
       "      <td>111.99</td>\n",
       "    </tr>\n",
       "    <tr>\n",
       "      <th>1</th>\n",
       "      <td>ACUSHNET CENTER</td>\n",
       "      <td>170.98</td>\n",
       "      <td>25.24</td>\n",
       "    </tr>\n",
       "    <tr>\n",
       "      <th>2</th>\n",
       "      <td>ADAMS</td>\n",
       "      <td>178.95</td>\n",
       "      <td>7.60</td>\n",
       "    </tr>\n",
       "    <tr>\n",
       "      <th>3</th>\n",
       "      <td>AGAWAM TOWN</td>\n",
       "      <td>144.87</td>\n",
       "      <td>5.77</td>\n",
       "    </tr>\n",
       "    <tr>\n",
       "      <th>4</th>\n",
       "      <td>AMESBURY TOWN</td>\n",
       "      <td>144.11</td>\n",
       "      <td>5.67</td>\n",
       "    </tr>\n",
       "    <tr>\n",
       "      <th>...</th>\n",
       "      <td>...</td>\n",
       "      <td>...</td>\n",
       "      <td>...</td>\n",
       "    </tr>\n",
       "    <tr>\n",
       "      <th>179</th>\n",
       "      <td>WINCHENDON</td>\n",
       "      <td>115.36</td>\n",
       "      <td>4.68</td>\n",
       "    </tr>\n",
       "    <tr>\n",
       "      <th>180</th>\n",
       "      <td>WINCHESTER</td>\n",
       "      <td>261.78</td>\n",
       "      <td>116.97</td>\n",
       "    </tr>\n",
       "    <tr>\n",
       "      <th>181</th>\n",
       "      <td>WINTHROP TOWN</td>\n",
       "      <td>144.88</td>\n",
       "      <td>10.11</td>\n",
       "    </tr>\n",
       "    <tr>\n",
       "      <th>182</th>\n",
       "      <td>WOBURN</td>\n",
       "      <td>281.54</td>\n",
       "      <td>92.69</td>\n",
       "    </tr>\n",
       "    <tr>\n",
       "      <th>183</th>\n",
       "      <td>WORCESTER</td>\n",
       "      <td>175.23</td>\n",
       "      <td>7.00</td>\n",
       "    </tr>\n",
       "  </tbody>\n",
       "</table>\n",
       "<p>184 rows × 3 columns</p>\n",
       "</div>"
      ],
      "text/plain": [
       "                Town  AverageMaxDown  AverageMaxUp\n",
       "0           ABINGTON          250.73        111.99\n",
       "1    ACUSHNET CENTER          170.98         25.24\n",
       "2              ADAMS          178.95          7.60\n",
       "3        AGAWAM TOWN          144.87          5.77\n",
       "4      AMESBURY TOWN          144.11          5.67\n",
       "..               ...             ...           ...\n",
       "179       WINCHENDON          115.36          4.68\n",
       "180       WINCHESTER          261.78        116.97\n",
       "181    WINTHROP TOWN          144.88         10.11\n",
       "182           WOBURN          281.54         92.69\n",
       "183        WORCESTER          175.23          7.00\n",
       "\n",
       "[184 rows x 3 columns]"
      ]
     },
     "execution_count": 10,
     "metadata": {},
     "output_type": "execute_result"
    }
   ],
   "source": [
    "qryStr7 = \"SELECT t2.Town as Town, ROUND(AVG(t1.MaxAdDown),2) as AverageMaxDown, ROUND(AVG(t1.MaxAdUp),2) as AverageMaxUp FROM fcc_data_t t1, censusblocks_t t2 WHERE substr(t1.BlockCode,0,12) = t2.blockcode GROUP BY t2.TOWN\"\n",
    "town_average_speeds  = pd.read_sql_query(qryStr7, conn)\n",
    "town_average_speeds"
   ]
  },
  {
   "cell_type": "code",
   "execution_count": 11,
   "metadata": {},
   "outputs": [
    {
     "data": {
      "text/html": [
       "<div>\n",
       "<style scoped>\n",
       "    .dataframe tbody tr th:only-of-type {\n",
       "        vertical-align: middle;\n",
       "    }\n",
       "\n",
       "    .dataframe tbody tr th {\n",
       "        vertical-align: top;\n",
       "    }\n",
       "\n",
       "    .dataframe thead th {\n",
       "        text-align: right;\n",
       "    }\n",
       "</style>\n",
       "<table border=\"1\" class=\"dataframe\">\n",
       "  <thead>\n",
       "    <tr style=\"text-align: right;\">\n",
       "      <th></th>\n",
       "      <th>Town</th>\n",
       "      <th>AverageMaxDown</th>\n",
       "      <th>AverageMaxUp</th>\n",
       "    </tr>\n",
       "  </thead>\n",
       "  <tbody>\n",
       "    <tr>\n",
       "      <th>0</th>\n",
       "      <td>DOVER</td>\n",
       "      <td>266.60</td>\n",
       "      <td>116.52</td>\n",
       "    </tr>\n",
       "    <tr>\n",
       "      <th>1</th>\n",
       "      <td>WELLESLEY</td>\n",
       "      <td>271.43</td>\n",
       "      <td>114.13</td>\n",
       "    </tr>\n",
       "    <tr>\n",
       "      <th>2</th>\n",
       "      <td>BOXFORD</td>\n",
       "      <td>229.41</td>\n",
       "      <td>98.39</td>\n",
       "    </tr>\n",
       "    <tr>\n",
       "      <th>3</th>\n",
       "      <td>LEXINGTON</td>\n",
       "      <td>281.84</td>\n",
       "      <td>92.27</td>\n",
       "    </tr>\n",
       "    <tr>\n",
       "      <th>4</th>\n",
       "      <td>HOPKINTON</td>\n",
       "      <td>253.57</td>\n",
       "      <td>112.75</td>\n",
       "    </tr>\n",
       "    <tr>\n",
       "      <th>5</th>\n",
       "      <td>SPRINGFIELD</td>\n",
       "      <td>143.97</td>\n",
       "      <td>5.65</td>\n",
       "    </tr>\n",
       "    <tr>\n",
       "      <th>6</th>\n",
       "      <td>NORTH ADAMS</td>\n",
       "      <td>181.18</td>\n",
       "      <td>8.01</td>\n",
       "    </tr>\n",
       "    <tr>\n",
       "      <th>7</th>\n",
       "      <td>LAWRENCE</td>\n",
       "      <td>249.54</td>\n",
       "      <td>110.73</td>\n",
       "    </tr>\n",
       "    <tr>\n",
       "      <th>8</th>\n",
       "      <td>HOLYOKE</td>\n",
       "      <td>135.08</td>\n",
       "      <td>5.35</td>\n",
       "    </tr>\n",
       "    <tr>\n",
       "      <th>9</th>\n",
       "      <td>FALL RIVER</td>\n",
       "      <td>147.38</td>\n",
       "      <td>5.87</td>\n",
       "    </tr>\n",
       "    <tr>\n",
       "      <th>10</th>\n",
       "      <td>REVERE</td>\n",
       "      <td>237.55</td>\n",
       "      <td>19.68</td>\n",
       "    </tr>\n",
       "    <tr>\n",
       "      <th>11</th>\n",
       "      <td>QUINCY</td>\n",
       "      <td>152.04</td>\n",
       "      <td>11.08</td>\n",
       "    </tr>\n",
       "    <tr>\n",
       "      <th>12</th>\n",
       "      <td>EVERETT</td>\n",
       "      <td>217.56</td>\n",
       "      <td>17.50</td>\n",
       "    </tr>\n",
       "  </tbody>\n",
       "</table>\n",
       "</div>"
      ],
      "text/plain": [
       "           Town  AverageMaxDown  AverageMaxUp\n",
       "0         DOVER          266.60        116.52\n",
       "1     WELLESLEY          271.43        114.13\n",
       "2       BOXFORD          229.41         98.39\n",
       "3     LEXINGTON          281.84         92.27\n",
       "4     HOPKINTON          253.57        112.75\n",
       "5   SPRINGFIELD          143.97          5.65\n",
       "6   NORTH ADAMS          181.18          8.01\n",
       "7      LAWRENCE          249.54        110.73\n",
       "8       HOLYOKE          135.08          5.35\n",
       "9    FALL RIVER          147.38          5.87\n",
       "10       REVERE          237.55         19.68\n",
       "11       QUINCY          152.04         11.08\n",
       "12      EVERETT          217.56         17.50"
      ]
     },
     "execution_count": 11,
     "metadata": {},
     "output_type": "execute_result"
    }
   ],
   "source": [
    "dover = town_average_speeds.loc[town_average_speeds['Town'] == 'DOVER']\n",
    "wellesley = town_average_speeds.loc[town_average_speeds['Town'] == 'WELLESLEY']\n",
    "boxford = town_average_speeds.loc[town_average_speeds['Town'] == 'BOXFORD']\n",
    "lexington = town_average_speeds.loc[town_average_speeds['Town'] == 'LEXINGTON']\n",
    "hopkinton = town_average_speeds.loc[town_average_speeds['Town'] == 'HOPKINTON']\n",
    "springfield = town_average_speeds.loc[town_average_speeds['Town'] == 'SPRINGFIELD']\n",
    "north_adams = town_average_speeds.loc[town_average_speeds['Town'] == 'NORTH ADAMS']\n",
    "lawrence = town_average_speeds.loc[town_average_speeds['Town'] == 'LAWRENCE']\n",
    "holyoke = town_average_speeds.loc[town_average_speeds['Town'] == 'HOLYOKE']\n",
    "fall_river = town_average_speeds.loc[town_average_speeds['Town'] == 'FALL RIVER']\n",
    "revere = town_average_speeds.loc[town_average_speeds['Town'] == 'REVERE']\n",
    "quincy = town_average_speeds.loc[town_average_speeds['Town'] == 'QUINCY']\n",
    "everett = town_average_speeds.loc[town_average_speeds['Town'] == 'EVERETT']\n",
    "\n",
    "combined_average_speed_df = pd.concat([dover, wellesley, boxford, lexington, hopkinton, springfield, north_adams, lawrence, holyoke, fall_river, revere, quincy, everett], axis=0)\n",
    "combined_average_speed_df = combined_average_speed_df.reset_index(drop=True)\n",
    "combined_average_speed_df"
   ]
  },
  {
   "cell_type": "code",
   "execution_count": 12,
   "metadata": {},
   "outputs": [
    {
     "data": {
      "image/png": "[encoded data removed]",
      "text/plain": [
       "<Figure size 432x288 with 1 Axes>"
      ]
     },
     "metadata": {
      "needs_background": "light"
     },
     "output_type": "display_data"
    }
   ],
   "source": [
    "combined_average_speed_df.plot(x='Town', y='AverageMaxDown', kind='bar') \n",
    "plt.show()"
   ]
  },
  {
   "cell_type": "code",
   "execution_count": 13,
   "metadata": {},
   "outputs": [
    {
     "data": {
      "text/html": [
       "<div>\n",
       "<style scoped>\n",
       "    .dataframe tbody tr th:only-of-type {\n",
       "        vertical-align: middle;\n",
       "    }\n",
       "\n",
       "    .dataframe tbody tr th {\n",
       "        vertical-align: top;\n",
       "    }\n",
       "\n",
       "    .dataframe thead th {\n",
       "        text-align: right;\n",
       "    }\n",
       "</style>\n",
       "<table border=\"1\" class=\"dataframe\">\n",
       "  <thead>\n",
       "    <tr style=\"text-align: right;\">\n",
       "      <th></th>\n",
       "      <th>Town</th>\n",
       "      <th>AverageMaxDown</th>\n",
       "      <th>AverageMaxUp</th>\n",
       "      <th>Average Median Income</th>\n",
       "    </tr>\n",
       "  </thead>\n",
       "  <tbody>\n",
       "    <tr>\n",
       "      <th>0</th>\n",
       "      <td>DOVER</td>\n",
       "      <td>266.60</td>\n",
       "      <td>116.52</td>\n",
       "      <td>224784.000000</td>\n",
       "    </tr>\n",
       "    <tr>\n",
       "      <th>1</th>\n",
       "      <td>WELLESLEY</td>\n",
       "      <td>271.43</td>\n",
       "      <td>114.13</td>\n",
       "      <td>183744.285714</td>\n",
       "    </tr>\n",
       "    <tr>\n",
       "      <th>2</th>\n",
       "      <td>BOXFORD</td>\n",
       "      <td>229.41</td>\n",
       "      <td>98.39</td>\n",
       "      <td>174340.000000</td>\n",
       "    </tr>\n",
       "    <tr>\n",
       "      <th>3</th>\n",
       "      <td>LEXINGTON</td>\n",
       "      <td>281.84</td>\n",
       "      <td>92.27</td>\n",
       "      <td>174233.166667</td>\n",
       "    </tr>\n",
       "    <tr>\n",
       "      <th>4</th>\n",
       "      <td>HOPKINTON</td>\n",
       "      <td>253.57</td>\n",
       "      <td>112.75</td>\n",
       "      <td>167733.500000</td>\n",
       "    </tr>\n",
       "    <tr>\n",
       "      <th>5</th>\n",
       "      <td>SPRINGFIELD</td>\n",
       "      <td>143.97</td>\n",
       "      <td>5.65</td>\n",
       "      <td>38017.162162</td>\n",
       "    </tr>\n",
       "    <tr>\n",
       "      <th>6</th>\n",
       "      <td>NORTH ADAMS</td>\n",
       "      <td>181.18</td>\n",
       "      <td>8.01</td>\n",
       "      <td>38142.500000</td>\n",
       "    </tr>\n",
       "    <tr>\n",
       "      <th>7</th>\n",
       "      <td>LAWRENCE</td>\n",
       "      <td>249.54</td>\n",
       "      <td>110.73</td>\n",
       "      <td>39653.166667</td>\n",
       "    </tr>\n",
       "    <tr>\n",
       "      <th>8</th>\n",
       "      <td>HOLYOKE</td>\n",
       "      <td>135.08</td>\n",
       "      <td>5.35</td>\n",
       "      <td>40761.636364</td>\n",
       "    </tr>\n",
       "    <tr>\n",
       "      <th>9</th>\n",
       "      <td>FALL RIVER</td>\n",
       "      <td>147.38</td>\n",
       "      <td>5.87</td>\n",
       "      <td>43967.920000</td>\n",
       "    </tr>\n",
       "    <tr>\n",
       "      <th>10</th>\n",
       "      <td>REVERE</td>\n",
       "      <td>237.55</td>\n",
       "      <td>19.68</td>\n",
       "      <td>55013.500000</td>\n",
       "    </tr>\n",
       "    <tr>\n",
       "      <th>11</th>\n",
       "      <td>QUINCY</td>\n",
       "      <td>152.04</td>\n",
       "      <td>11.08</td>\n",
       "      <td>75583.850000</td>\n",
       "    </tr>\n",
       "    <tr>\n",
       "      <th>12</th>\n",
       "      <td>EVERETT</td>\n",
       "      <td>217.56</td>\n",
       "      <td>17.50</td>\n",
       "      <td>58378.500000</td>\n",
       "    </tr>\n",
       "  </tbody>\n",
       "</table>\n",
       "</div>"
      ],
      "text/plain": [
       "           Town  AverageMaxDown  AverageMaxUp  Average Median Income\n",
       "0         DOVER          266.60        116.52          224784.000000\n",
       "1     WELLESLEY          271.43        114.13          183744.285714\n",
       "2       BOXFORD          229.41         98.39          174340.000000\n",
       "3     LEXINGTON          281.84         92.27          174233.166667\n",
       "4     HOPKINTON          253.57        112.75          167733.500000\n",
       "5   SPRINGFIELD          143.97          5.65           38017.162162\n",
       "6   NORTH ADAMS          181.18          8.01           38142.500000\n",
       "7      LAWRENCE          249.54        110.73           39653.166667\n",
       "8       HOLYOKE          135.08          5.35           40761.636364\n",
       "9    FALL RIVER          147.38          5.87           43967.920000\n",
       "10       REVERE          237.55         19.68           55013.500000\n",
       "11       QUINCY          152.04         11.08           75583.850000\n",
       "12      EVERETT          217.56         17.50           58378.500000"
      ]
     },
     "execution_count": 13,
     "metadata": {},
     "output_type": "execute_result"
    }
   ],
   "source": [
    "median_income_and_speed_df = combined_average_speed_df\n",
    "median_income_and_speed_df['Average Median Income'] = combined_median_income_df['Average Median Income']\n",
    "median_income_and_speed_df"
   ]
  },
  {
   "cell_type": "code",
   "execution_count": 14,
   "metadata": {},
   "outputs": [
    {
     "data": {
      "image/png": "[encoded data removed]",
      "text/plain": [
       "<Figure size 432x288 with 1 Axes>"
      ]
     },
     "metadata": {
      "needs_background": "light"
     },
     "output_type": "display_data"
    }
   ],
   "source": [
    "ax1 = median_income_and_speed_df.plot(kind='scatter', x='Average Median Income', y='AverageMaxDown', title='Median income vs Average Max Down Speed',)    \n",
    "\n",
    "# annotate points in axis\n",
    "for idx, row in median_income_and_speed_df.iterrows():\n",
    "    ax1.annotate(row['Town'], (row['Average Median Income'], row['AverageMaxDown']))\n",
    "\n",
    "plt.show()\n"
   ]
  },
  {
   "cell_type": "code",
   "execution_count": 15,
   "metadata": {},
   "outputs": [
    {
     "data": {
      "image/png": "[encoded data removed]",
      "text/plain": [
       "<Figure size 432x288 with 1 Axes>"
      ]
     },
     "metadata": {
      "needs_background": "light"
     },
     "output_type": "display_data"
    }
   ],
   "source": [
    "ax2 = median_income_and_speed_df.plot(kind='scatter', x='Average Median Income', y='AverageMaxUp', title='Median income vs Average Max Up Speed',)    \n",
    "\n",
    "# annotate points in axis\n",
    "for idx, row in median_income_and_speed_df.iterrows():\n",
    "    ax2.annotate(row['Town'], (row['Average Median Income'], row['AverageMaxUp']))\n",
    "\n",
    "plt.show()"
   ]
  },
  {
   "cell_type": "code",
   "execution_count": null,
   "metadata": {},
   "outputs": [],
   "source": []
  }
 ],
 "metadata": {
  "kernelspec": {
   "display_name": "Python 3",
   "language": "python",
   "name": "python3"
  },
  "language_info": {
   "codemirror_mode": {
    "name": "ipython",
    "version": 3
   },
   "file_extension": ".py",
   "mimetype": "text/x-python",
   "name": "python",
   "nbconvert_exporter": "python",
   "pygments_lexer": "ipython3",
   "version": "3.8.3"
  }
 },
 "nbformat": 4,
 "nbformat_minor": 5
}
