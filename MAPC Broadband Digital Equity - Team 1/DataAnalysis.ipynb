{
 "cells": [
  {
   "cell_type": "code",
   "execution_count": 1,
   "id": "arctic-input",
   "metadata": {},
   "outputs": [],
   "source": [
    "# code block for imports \n",
    "import pandas as pd \n",
    "import numpy as np\n",
    "import sqlite3\n",
    "from sqlalchemy import create_engine\n",
    "import os\n",
    "import matplotlib.pyplot as plt\n",
    "import pandas as pd\n",
    "import folium\n",
    "from folium import plugins\n",
    "from folium.plugins import HeatMap"
   ]
  },
  {
   "cell_type": "code",
   "execution_count": 2,
   "id": "compact-comparative",
   "metadata": {},
   "outputs": [],
   "source": [
    "conn = sqlite3.connect('cs506MAPC.db')"
   ]
  },
  {
   "cell_type": "markdown",
   "id": "generous-evidence",
   "metadata": {},
   "source": [
    "## Display first 10 Providers "
   ]
  },
  {
   "cell_type": "code",
   "execution_count": 3,
   "id": "universal-portugal",
   "metadata": {},
   "outputs": [
    {
     "name": "stdout",
     "output_type": "stream",
     "text": [
      "                     ProviderName     tractNum  MaxAdDown  MaxAdUp      town  \\\n",
      "0  MCI Communications Corporation  25023520100        0.0      0.0  ABINGTON   \n",
      "1  MCI Communications Corporation  25023520201        0.0      0.0  ABINGTON   \n",
      "2  MCI Communications Corporation  25023520202        0.0      0.0  ABINGTON   \n",
      "3          Crown Castle Fiber LLC  25023520100        0.0      0.0  ABINGTON   \n",
      "4          Crown Castle Fiber LLC  25023520201        0.0      0.0  ABINGTON   \n",
      "5          Crown Castle Fiber LLC  25023520202        0.0      0.0  ABINGTON   \n",
      "6                    ViaSat, Inc.  25023520100      100.0      3.0  ABINGTON   \n",
      "7                    ViaSat, Inc.  25023520201      100.0      3.0  ABINGTON   \n",
      "8                    ViaSat, Inc.  25023520202      100.0      3.0  ABINGTON   \n",
      "9          U.S. TelePacific Corp.  25023520202        0.0      0.0  ABINGTON   \n",
      "\n",
      "   Longitude  Latitude  \n",
      "0     -70.96     42.12  \n",
      "1     -70.96     42.12  \n",
      "2     -70.96     42.12  \n",
      "3     -70.96     42.12  \n",
      "4     -70.96     42.12  \n",
      "5     -70.96     42.12  \n",
      "6     -70.96     42.12  \n",
      "7     -70.96     42.12  \n",
      "8     -70.96     42.12  \n",
      "9     -70.96     42.12  \n"
     ]
    }
   ],
   "source": [
    "qrystr =\"SELECT DISTINCT t1.ProviderName,substr(t1.BlockCode,0,12) as tractNum,t1.MaxAdDown,t1.MaxAdUp, t2.town, t3.Longitude, t3.Latitude FROM FCC_DATA_T t1, censusblocks_t t2, CityLongLat_t t3 WHERE substr(t1.BlockCode,0,12) = t2.blockcode AND t2.town = t3.town ORDER BY t2.town ASC\"\n",
    "\n",
    "\n",
    "#convert query results into dataframe\n",
    "df_filtered_providers = pd.read_sql_query(qrystr, conn)\n",
    "print(df_filtered_providers.head(10))"
   ]
  },
  {
   "cell_type": "markdown",
   "id": "assumed-eleven",
   "metadata": {},
   "source": [
    "## Non Zero Providers"
   ]
  },
  {
   "cell_type": "code",
   "execution_count": 4,
   "id": "computational-niger",
   "metadata": {},
   "outputs": [
    {
     "name": "stdout",
     "output_type": "stream",
     "text": [
      "                        ProviderName     tractNum  MaxAdDown  MaxAdUp  \\\n",
      "0                       ViaSat, Inc.  25023520100      100.0    3.000   \n",
      "1                       ViaSat, Inc.  25023520201      100.0    3.000   \n",
      "2                       ViaSat, Inc.  25023520202      100.0    3.000   \n",
      "3  COMCAST CABLE COMMUNICATIONS, LLC  25023520100      987.0   35.000   \n",
      "4  COMCAST CABLE COMMUNICATIONS, LLC  25023520201      987.0   35.000   \n",
      "5  COMCAST CABLE COMMUNICATIONS, LLC  25023520202      987.0   35.000   \n",
      "6           Verizon New England Inc.  25023520202      940.0  880.000   \n",
      "7           Verizon New England Inc.  25023520202        5.0    0.768   \n",
      "8           Verizon New England Inc.  25023520202       15.0    1.000   \n",
      "9           Verizon New England Inc.  25023520202       10.0    1.000   \n",
      "\n",
      "       town  Longitude  Latitude  \n",
      "0  ABINGTON     -70.96     42.12  \n",
      "1  ABINGTON     -70.96     42.12  \n",
      "2  ABINGTON     -70.96     42.12  \n",
      "3  ABINGTON     -70.96     42.12  \n",
      "4  ABINGTON     -70.96     42.12  \n",
      "5  ABINGTON     -70.96     42.12  \n",
      "6  ABINGTON     -70.96     42.12  \n",
      "7  ABINGTON     -70.96     42.12  \n",
      "8  ABINGTON     -70.96     42.12  \n",
      "9  ABINGTON     -70.96     42.12  \n"
     ]
    }
   ],
   "source": [
    "qryStr2 = \"SELECT DISTINCT t1.ProviderName,substr(t1.BlockCode,0,12) as tractNum,t1.MaxAdDown,t1.MaxAdUp, t2.town, t3.Longitude, t3.Latitude FROM FCC_DATA_T t1, censusblocks_t t2, CityLongLat_t t3 WHERE MaxAdDown != 0.0 AND MaxAdUp != 0.0 and substr(t1.BlockCode,0,12) = t2.blockcode AND t2.town = t3.town ORDER BY t2.town ASC\"\n",
    "df_filtered_non_zero_providers = pd.read_sql_query(qryStr2, conn)\n",
    "print(df_filtered_non_zero_providers.head(10))\n"
   ]
  },
  {
   "cell_type": "markdown",
   "id": "fossil-repository",
   "metadata": {},
   "source": [
    "## Zero Providers"
   ]
  },
  {
   "cell_type": "code",
   "execution_count": 5,
   "id": "romantic-murder",
   "metadata": {},
   "outputs": [
    {
     "name": "stdout",
     "output_type": "stream",
     "text": [
      "                        ProviderName     tractNum  MaxAdDown  MaxAdUp  \\\n",
      "0     MCI Communications Corporation  25023520100        0.0      0.0   \n",
      "1     MCI Communications Corporation  25023520201        0.0      0.0   \n",
      "2     MCI Communications Corporation  25023520202        0.0      0.0   \n",
      "3             Crown Castle Fiber LLC  25023520100        0.0      0.0   \n",
      "4             Crown Castle Fiber LLC  25023520201        0.0      0.0   \n",
      "5             Crown Castle Fiber LLC  25023520202        0.0      0.0   \n",
      "6             U.S. TelePacific Corp.  25023520202        0.0      0.0   \n",
      "7  Broadview Networks Holdings, Inc.  25023520100        0.0      0.0   \n",
      "8  COMCAST CABLE COMMUNICATIONS, LLC  25023520201        0.0      0.0   \n",
      "9  COMCAST CABLE COMMUNICATIONS, LLC  25023520100        0.0      0.0   \n",
      "\n",
      "       town  Longitude  Latitude  \n",
      "0  ABINGTON     -70.96     42.12  \n",
      "1  ABINGTON     -70.96     42.12  \n",
      "2  ABINGTON     -70.96     42.12  \n",
      "3  ABINGTON     -70.96     42.12  \n",
      "4  ABINGTON     -70.96     42.12  \n",
      "5  ABINGTON     -70.96     42.12  \n",
      "6  ABINGTON     -70.96     42.12  \n",
      "7  ABINGTON     -70.96     42.12  \n",
      "8  ABINGTON     -70.96     42.12  \n",
      "9  ABINGTON     -70.96     42.12  \n"
     ]
    }
   ],
   "source": [
    "qryStr3 = \"SELECT DISTINCT t1.ProviderName,substr(t1.BlockCode,0,12) as tractNum,t1.MaxAdDown,t1.MaxAdUp, t2.town, t3.Longitude, t3.Latitude FROM FCC_DATA_T t1, censusblocks_t t2, CityLongLat_t t3 WHERE MaxAdDown = 0 AND MaxAdUp = 0 and substr(t1.BlockCode,0,12) = t2.blockcode AND t2.town = t3.town ORDER BY t2.town ASC\"\n",
    "df_filtered_zero_providers = pd.read_sql_query(qryStr3, conn)\n",
    "print(df_filtered_zero_providers.head(10))"
   ]
  }
 ],
 "metadata": {
  "kernelspec": {
   "display_name": "Python 3",
   "language": "python",
   "name": "python3"
  },
  "language_info": {
   "codemirror_mode": {
    "name": "ipython",
    "version": 3
   },
   "file_extension": ".py",
   "mimetype": "text/x-python",
   "name": "python",
   "nbconvert_exporter": "python",
   "pygments_lexer": "ipython3",
   "version": "3.8.8"
  }
 },
 "nbformat": 4,
 "nbformat_minor": 5
}
