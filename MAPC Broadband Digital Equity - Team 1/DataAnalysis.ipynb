{
 "cells": [
  {
   "cell_type": "code",
   "execution_count": 1,
   "id": "unavailable-ladder",
   "metadata": {},
   "outputs": [],
   "source": [
    "# code block for imports \n",
    "import pandas as pd \n",
    "import numpy as np\n",
    "import sqlite3\n",
    "from sqlalchemy import create_engine\n",
    "import os\n",
    "import matplotlib.pyplot as plt\n",
    "from matplotlib.ticker import MaxNLocator\n",
    "import pandas as pd\n",
    "import folium\n",
    "from folium import plugins\n",
    "from folium.plugins import HeatMap\n",
    "import seaborn as sns"
   ]
  },
  {
   "cell_type": "code",
   "execution_count": 2,
   "id": "extensive-quebec",
   "metadata": {},
   "outputs": [],
   "source": [
    "conn = sqlite3.connect('cs506MAPC.db')"
   ]
  },
  {
   "cell_type": "markdown",
   "id": "documented-finder",
   "metadata": {},
   "source": [
    "## Display first 10 Providers "
   ]
  },
  {
   "cell_type": "code",
   "execution_count": 3,
   "id": "automotive-begin",
   "metadata": {},
   "outputs": [
    {
     "name": "stdout",
     "output_type": "stream",
     "text": [
      "                     ProviderName     tractNum  MaxAdDown  MaxAdUp      town  \\\n",
      "0  MCI Communications Corporation  25023520100        0.0      0.0  ABINGTON   \n",
      "1  MCI Communications Corporation  25023520201        0.0      0.0  ABINGTON   \n",
      "2  MCI Communications Corporation  25023520202        0.0      0.0  ABINGTON   \n",
      "3          Crown Castle Fiber LLC  25023520100        0.0      0.0  ABINGTON   \n",
      "4          Crown Castle Fiber LLC  25023520201        0.0      0.0  ABINGTON   \n",
      "5          Crown Castle Fiber LLC  25023520202        0.0      0.0  ABINGTON   \n",
      "6                    ViaSat, Inc.  25023520100      100.0      3.0  ABINGTON   \n",
      "7                    ViaSat, Inc.  25023520201      100.0      3.0  ABINGTON   \n",
      "8                    ViaSat, Inc.  25023520202      100.0      3.0  ABINGTON   \n",
      "9          U.S. TelePacific Corp.  25023520202        0.0      0.0  ABINGTON   \n",
      "\n",
      "   Longitude  Latitude  \n",
      "0     -70.96     42.12  \n",
      "1     -70.96     42.12  \n",
      "2     -70.96     42.12  \n",
      "3     -70.96     42.12  \n",
      "4     -70.96     42.12  \n",
      "5     -70.96     42.12  \n",
      "6     -70.96     42.12  \n",
      "7     -70.96     42.12  \n",
      "8     -70.96     42.12  \n",
      "9     -70.96     42.12  \n"
     ]
    }
   ],
   "source": [
    "qrystr =\"SELECT DISTINCT t1.ProviderName,substr(t1.BlockCode,0,12) as tractNum,t1.MaxAdDown,t1.MaxAdUp, t2.town, t3.Longitude, t3.Latitude FROM FCC_DATA_T t1, censusblocks_t t2, CityLongLat_t t3 WHERE substr(t1.BlockCode,0,12) = t2.blockcode AND t2.town = t3.town ORDER BY t2.town ASC\"\n",
    "\n",
    "\n",
    "#convert query results into dataframe\n",
    "df_filtered_providers = pd.read_sql_query(qrystr, conn)\n",
    "print(df_filtered_providers.head(10))"
   ]
  },
  {
   "cell_type": "markdown",
   "id": "neural-restriction",
   "metadata": {},
   "source": [
    "## Non Zero Providers"
   ]
  },
  {
   "cell_type": "code",
   "execution_count": 4,
   "id": "thirty-reward",
   "metadata": {},
   "outputs": [
    {
     "name": "stdout",
     "output_type": "stream",
     "text": [
      "                        ProviderName     tractNum  MaxAdDown  MaxAdUp  \\\n",
      "0                       ViaSat, Inc.  25023520100      100.0    3.000   \n",
      "1                       ViaSat, Inc.  25023520201      100.0    3.000   \n",
      "2                       ViaSat, Inc.  25023520202      100.0    3.000   \n",
      "3  COMCAST CABLE COMMUNICATIONS, LLC  25023520100      987.0   35.000   \n",
      "4  COMCAST CABLE COMMUNICATIONS, LLC  25023520201      987.0   35.000   \n",
      "5  COMCAST CABLE COMMUNICATIONS, LLC  25023520202      987.0   35.000   \n",
      "6           Verizon New England Inc.  25023520202      940.0  880.000   \n",
      "7           Verizon New England Inc.  25023520202        5.0    0.768   \n",
      "8           Verizon New England Inc.  25023520202       15.0    1.000   \n",
      "9           Verizon New England Inc.  25023520202       10.0    1.000   \n",
      "\n",
      "       town  Longitude  Latitude  \n",
      "0  ABINGTON     -70.96     42.12  \n",
      "1  ABINGTON     -70.96     42.12  \n",
      "2  ABINGTON     -70.96     42.12  \n",
      "3  ABINGTON     -70.96     42.12  \n",
      "4  ABINGTON     -70.96     42.12  \n",
      "5  ABINGTON     -70.96     42.12  \n",
      "6  ABINGTON     -70.96     42.12  \n",
      "7  ABINGTON     -70.96     42.12  \n",
      "8  ABINGTON     -70.96     42.12  \n",
      "9  ABINGTON     -70.96     42.12  \n"
     ]
    }
   ],
   "source": [
    "qryStr2 = \"SELECT DISTINCT t1.ProviderName,substr(t1.BlockCode,0,12) as tractNum,t1.MaxAdDown,t1.MaxAdUp, t2.town, t3.Longitude, t3.Latitude FROM FCC_DATA_T t1, censusblocks_t t2, CityLongLat_t t3 WHERE MaxAdDown != 0.0 AND MaxAdUp != 0.0 and substr(t1.BlockCode,0,12) = t2.blockcode AND t2.town = t3.town ORDER BY t2.town ASC\"\n",
    "df_filtered_non_zero_providers = pd.read_sql_query(qryStr2, conn)\n",
    "print(df_filtered_non_zero_providers.head(10))\n"
   ]
  },
  {
   "cell_type": "markdown",
   "id": "brutal-noise",
   "metadata": {},
   "source": [
    "## Zero Providers"
   ]
  },
  {
   "cell_type": "code",
   "execution_count": 5,
   "id": "prescribed-shame",
   "metadata": {},
   "outputs": [
    {
     "name": "stdout",
     "output_type": "stream",
     "text": [
      "                        ProviderName     tractNum  MaxAdDown  MaxAdUp  \\\n",
      "0     MCI Communications Corporation  25023520100        0.0      0.0   \n",
      "1     MCI Communications Corporation  25023520201        0.0      0.0   \n",
      "2     MCI Communications Corporation  25023520202        0.0      0.0   \n",
      "3             Crown Castle Fiber LLC  25023520100        0.0      0.0   \n",
      "4             Crown Castle Fiber LLC  25023520201        0.0      0.0   \n",
      "5             Crown Castle Fiber LLC  25023520202        0.0      0.0   \n",
      "6             U.S. TelePacific Corp.  25023520202        0.0      0.0   \n",
      "7  Broadview Networks Holdings, Inc.  25023520100        0.0      0.0   \n",
      "8  COMCAST CABLE COMMUNICATIONS, LLC  25023520201        0.0      0.0   \n",
      "9  COMCAST CABLE COMMUNICATIONS, LLC  25023520100        0.0      0.0   \n",
      "\n",
      "       town  Longitude  Latitude  \n",
      "0  ABINGTON     -70.96     42.12  \n",
      "1  ABINGTON     -70.96     42.12  \n",
      "2  ABINGTON     -70.96     42.12  \n",
      "3  ABINGTON     -70.96     42.12  \n",
      "4  ABINGTON     -70.96     42.12  \n",
      "5  ABINGTON     -70.96     42.12  \n",
      "6  ABINGTON     -70.96     42.12  \n",
      "7  ABINGTON     -70.96     42.12  \n",
      "8  ABINGTON     -70.96     42.12  \n",
      "9  ABINGTON     -70.96     42.12  \n"
     ]
    }
   ],
   "source": [
    "qryStr3 = \"SELECT DISTINCT t1.ProviderName,substr(t1.BlockCode,0,12) as tractNum,t1.MaxAdDown,t1.MaxAdUp, t2.town, t3.Longitude, t3.Latitude FROM FCC_DATA_T t1, censusblocks_t t2, CityLongLat_t t3 WHERE MaxAdDown = 0 AND MaxAdUp = 0 and substr(t1.BlockCode,0,12) = t2.blockcode AND t2.town = t3.town ORDER BY t2.town ASC\"\n",
    "df_filtered_zero_providers = pd.read_sql_query(qryStr3, conn)\n",
    "print(df_filtered_zero_providers.head(10))"
   ]
  },
  {
   "cell_type": "markdown",
   "id": "contained-wrong",
   "metadata": {},
   "source": [
    "## Max Providers Per Area"
   ]
  },
  {
   "cell_type": "code",
   "execution_count": 6,
   "id": "coupled-fiber",
   "metadata": {
    "tags": []
   },
   "outputs": [
    {
     "name": "stdout",
     "output_type": "stream",
     "text": [
      "                Town  ProviderCount\n",
      "0           ABINGTON              9\n",
      "1    ACUSHNET CENTER              4\n",
      "2              ADAMS              5\n",
      "3        AGAWAM TOWN             13\n",
      "4      AMESBURY TOWN              8\n",
      "..               ...            ...\n",
      "181       WINCHENDON              6\n",
      "182       WINCHESTER              7\n",
      "183    WINTHROP TOWN              6\n",
      "184           WOBURN             17\n",
      "185        WORCESTER             18\n",
      "\n",
      "[186 rows x 2 columns]\n"
     ]
    }
   ],
   "source": [
    "town_dict = {}\n",
    "towns = df_filtered_zero_providers['town']\n",
    "providers = df_filtered_zero_providers['ProviderName']\n",
    "df_towns_providers = pd.concat([towns, providers], axis=1)\n",
    "numpy_arr = df_towns_providers.to_numpy()\n",
    "for i in range(len(numpy_arr)):\n",
    "    town_name = numpy_arr[i][0]\n",
    "    if town_name not in town_dict.keys():\n",
    "        town_dict[town_name] = [numpy_arr[i][1]]\n",
    "    elif numpy_arr[i][1] not in town_dict.get(town_name):\n",
    "        town_dict[town_name].append(numpy_arr[i][1])\n",
    "    else:\n",
    "        continue\n",
    "\n",
    "num_providers_dict = {}\n",
    "for key in town_dict.keys():\n",
    "    num_providers_dict[key] = len(town_dict.get(key))\n",
    "\n",
    "df_num_providers = pd.DataFrame(num_providers_dict.items(), columns=['Town', 'ProviderCount'])\n",
    "print(df_num_providers)"
   ]
  },
  {
   "cell_type": "markdown",
   "id": "entire-metadata",
   "metadata": {},
   "source": [
    "## Display top/bottom 5 areas by number of providers (& Revere, Everett, Quincy)"
   ]
  },
  {
   "cell_type": "code",
   "execution_count": 7,
   "id": "alike-innocent",
   "metadata": {},
   "outputs": [
    {
     "name": "stdout",
     "output_type": "stream",
     "text": [
      "               Town  ProviderCount\n",
      "0         CAMBRIDGE             21\n",
      "1            BOSTON             18\n",
      "2         WORCESTER             18\n",
      "3        SOMERVILLE             17\n",
      "4           WALTHAM             17\n",
      "5   BARNSTABLE TOWN              1\n",
      "6            HANSON              1\n",
      "7       OCEAN GROVE              1\n",
      "8     SOUTH AMHERST              1\n",
      "9           HOLLAND              2\n",
      "10          EVERETT             11\n",
      "11           QUINCY             13\n",
      "12           REVERE             10\n"
     ]
    },
    {
     "data": {
      "image/png": "[encoded data removed]",
      "text/plain": [
       "<Figure size 432x288 with 1 Axes>"
      ]
     },
     "metadata": {
      "needs_background": "light"
     },
     "output_type": "display_data"
    }
   ],
   "source": [
    "five_most_providers = dict(sorted(num_providers_dict.items(), key=lambda item: item[1], reverse=True)[:5])\n",
    "five_least_providers = dict(sorted(num_providers_dict.items(), key=lambda item: item[1])[:5])\n",
    "everett_providers = {'EVERETT': num_providers_dict.get('EVERETT')}\n",
    "quincy_providers = {'QUINCY': num_providers_dict.get('QUINCY')}\n",
    "revere_providers = {'REVERE': num_providers_dict.get('REVERE')}\n",
    "plot_providers = {**five_most_providers, **five_least_providers, **everett_providers, **quincy_providers, **revere_providers}\n",
    "df_plot_providers = pd.DataFrame(plot_providers.items(), columns=['Town', 'ProviderCount'])\n",
    "\n",
    "y_max_tick = max(plot_providers.values())\n",
    "\n",
    "print(df_plot_providers)\n",
    "df_plot_providers.plot(x='Town', y='ProviderCount', kind='bar')\n",
    "plt.yticks(np.arange(0, y_max_tick, 2))\n",
    "plt.show()"
   ]
  },
  {
   "cell_type": "markdown",
   "id": "hired-wings",
   "metadata": {},
   "source": [
    "## MaxAdDown"
   ]
  },
  {
   "cell_type": "code",
   "execution_count": 8,
   "id": "organic-cornell",
   "metadata": {},
   "outputs": [
    {
     "name": "stdout",
     "output_type": "stream",
     "text": [
      "   MaxAdDown            Town\n",
      "0     1000.0       WESTFIELD\n",
      "1     1000.0  AMHERST CENTER\n",
      "2      500.0          WOBURN\n",
      "3      500.0      WINCHESTER\n",
      "4      500.0       WELLESLEY\n",
      "5      500.0  WATERTOWN TOWN\n",
      "6      500.0         WALTHAM\n",
      "7      500.0        STONEHAM\n",
      "8      500.0      SOMERVILLE\n",
      "9      500.0          SAUGUS\n"
     ]
    },
    {
     "data": {
      "image/png": "[encoded data removed]",
      "text/plain": [
       "<Figure size 432x288 with 1 Axes>"
      ]
     },
     "metadata": {
      "needs_background": "light"
     },
     "output_type": "display_data"
    },
    {
     "data": {
      "image/png": "[encoded data removed]",
      "text/plain": [
       "<Figure size 432x288 with 1 Axes>"
      ]
     },
     "metadata": {
      "needs_background": "light"
     },
     "output_type": "display_data"
    }
   ],
   "source": [
    "qryStr4 = \"SELECT DISTINCT t1.MaxAdDown, t2.town as Town FROM FCC_DATA_T t1, censusblocks_t t2, CityLongLat_t t3 WHERE MaxAdDown != 0.0 AND MaxAdUp != 0.0 and substr(t1.BlockCode,0,12) = t2.blockcode AND t2.town = t3.town GROUP BY t2.town ORDER BY MaxAdDown DESC\"\n",
    "df_filtered_max_down = pd.read_sql_query(qryStr4, conn)\n",
    "print(df_filtered_max_down.head(10))\n",
    "\n",
    "top_ten = df_filtered_max_down.nlargest(10, ['MaxAdDown'])\n",
    "bottom_ten = df_filtered_max_down.nsmallest(10, ['MaxAdDown'])\n",
    "revere = df_filtered_max_down.loc[df_filtered_max_down['Town'] == 'REVERE']\n",
    "quincy = df_filtered_max_down.loc[df_filtered_max_down['Town'] == 'QUINCY']\n",
    "everett = df_filtered_max_down.loc[df_filtered_max_down['Town'] == 'EVERETT']\n",
    "\n",
    "combined_max_down_top = pd.concat([top_ten, revere, quincy, everett], axis=0)\n",
    "combined_max_down_top = combined_max_down_top.reset_index(drop=True)\n",
    "combined_max_down_bottom = pd.concat([bottom_ten, revere, quincy, everett], axis=0)\n",
    "combined_max_down_bottom = combined_max_down_bottom.reset_index(drop=True)\n",
    "\n",
    "combined_max_down_top.plot(x='Town', y='MaxAdDown', kind='bar', title = \"Top 10 Town Download Speeds\")\n",
    "plt.show()\n",
    "\n",
    "combined_max_down_bottom.plot(x='Town', y='MaxAdDown', kind='bar', title = \"Bottom 10 Town Download Speeds\")\n",
    "plt.show()"
   ]
  },
  {
   "cell_type": "markdown",
   "id": "outer-vacation",
   "metadata": {},
   "source": [
    "## MaxAdUp"
   ]
  },
  {
   "cell_type": "code",
   "execution_count": 9,
   "id": "fatty-luther",
   "metadata": {},
   "outputs": [
    {
     "name": "stdout",
     "output_type": "stream",
     "text": [
      "   MaxAdUp            Town\n",
      "0   1000.0       WESTFIELD\n",
      "1   1000.0  AMHERST CENTER\n",
      "2    150.0    WEST CONCORD\n",
      "3     20.0          WOBURN\n",
      "4     20.0      WINCHESTER\n",
      "5     20.0       WELLESLEY\n",
      "6     20.0  WATERTOWN TOWN\n",
      "7     20.0         WALTHAM\n",
      "8     20.0        STONEHAM\n",
      "9     20.0      SOMERVILLE\n"
     ]
    },
    {
     "data": {
      "image/png": "[encoded data removed]",
      "text/plain": [
       "<Figure size 432x288 with 1 Axes>"
      ]
     },
     "metadata": {
      "needs_background": "light"
     },
     "output_type": "display_data"
    },
    {
     "data": {
      "image/png": "[encoded data removed]",
      "text/plain": [
       "<Figure size 432x288 with 1 Axes>"
      ]
     },
     "metadata": {
      "needs_background": "light"
     },
     "output_type": "display_data"
    }
   ],
   "source": [
    "qryStr5 = \"SELECT DISTINCT t1.MaxAdUp, t2.town as Town FROM FCC_DATA_T t1, censusblocks_t t2, CityLongLat_t t3 WHERE MaxAdDown != 0.0 AND MaxAdUp != 0.0 and substr(t1.BlockCode,0,12) = t2.blockcode AND t2.town = t3.town GROUP BY t2.town ORDER BY MaxAdUp DESC\"\n",
    "df_filtered_max_up = pd.read_sql_query(qryStr5, conn)\n",
    "print(df_filtered_max_up.head(10))\n",
    "\n",
    "top_ten = df_filtered_max_up.nlargest(10, ['MaxAdUp'])\n",
    "bottom_ten = df_filtered_max_up.nsmallest(10, ['MaxAdUp'])\n",
    "revere = df_filtered_max_up.loc[df_filtered_max_up['Town'] == 'REVERE']\n",
    "quincy = df_filtered_max_up.loc[df_filtered_max_up['Town'] == 'QUINCY']\n",
    "everett = df_filtered_max_up.loc[df_filtered_max_up['Town'] == 'EVERETT']\n",
    "\n",
    "combined_max_up_top = pd.concat([top_ten, revere, quincy, everett], axis=0)\n",
    "combined_max_up_top = combined_max_up_top.reset_index(drop=True)\n",
    "combined_max_up_bottom = pd.concat([bottom_ten, revere, quincy, everett], axis=0)\n",
    "combined_max_up_bottom = combined_max_up_bottom.reset_index(drop=True)\n",
    "\n",
    "combined_max_up_top.plot(x='Town', y='MaxAdUp', kind='bar', title = \"Top 10 Town Upload Speeds\")\n",
    "plt.show()\n",
    "\n",
    "combined_max_up_bottom.plot(x='Town', y='MaxAdUp', kind='bar', title = \"Bottom 10 Town Upload Speeds\")\n",
    "plt.show()"
   ]
  },
  {
   "cell_type": "markdown",
   "id": "mobile-addition",
   "metadata": {},
   "source": [
    "## Median Income  (Census Tracks)"
   ]
  },
  {
   "cell_type": "code",
   "execution_count": 10,
   "id": "proved-warrant",
   "metadata": {},
   "outputs": [
    {
     "data": {
      "text/html": [
       "<div>\n",
       "<style scoped>\n",
       "    .dataframe tbody tr th:only-of-type {\n",
       "        vertical-align: middle;\n",
       "    }\n",
       "\n",
       "    .dataframe tbody tr th {\n",
       "        vertical-align: top;\n",
       "    }\n",
       "\n",
       "    .dataframe thead th {\n",
       "        text-align: right;\n",
       "    }\n",
       "</style>\n",
       "<table border=\"1\" class=\"dataframe\">\n",
       "  <thead>\n",
       "    <tr style=\"text-align: right;\">\n",
       "      <th></th>\n",
       "      <th>Town</th>\n",
       "      <th>Average Median Income</th>\n",
       "    </tr>\n",
       "  </thead>\n",
       "  <tbody>\n",
       "    <tr>\n",
       "      <th>0</th>\n",
       "      <td>ABINGTON</td>\n",
       "      <td>89531.333333</td>\n",
       "    </tr>\n",
       "    <tr>\n",
       "      <th>1</th>\n",
       "      <td>ACUSHNET CENTER</td>\n",
       "      <td>69091.500000</td>\n",
       "    </tr>\n",
       "    <tr>\n",
       "      <th>2</th>\n",
       "      <td>ADAMS</td>\n",
       "      <td>50431.000000</td>\n",
       "    </tr>\n",
       "    <tr>\n",
       "      <th>3</th>\n",
       "      <td>AGAWAM TOWN</td>\n",
       "      <td>70442.500000</td>\n",
       "    </tr>\n",
       "    <tr>\n",
       "      <th>4</th>\n",
       "      <td>AMESBURY TOWN</td>\n",
       "      <td>83022.250000</td>\n",
       "    </tr>\n",
       "    <tr>\n",
       "      <th>...</th>\n",
       "      <td>...</td>\n",
       "      <td>...</td>\n",
       "    </tr>\n",
       "    <tr>\n",
       "      <th>181</th>\n",
       "      <td>WINCHENDON</td>\n",
       "      <td>74986.000000</td>\n",
       "    </tr>\n",
       "    <tr>\n",
       "      <th>182</th>\n",
       "      <td>WINCHESTER</td>\n",
       "      <td>160758.800000</td>\n",
       "    </tr>\n",
       "    <tr>\n",
       "      <th>183</th>\n",
       "      <td>WINTHROP TOWN</td>\n",
       "      <td>73106.200000</td>\n",
       "    </tr>\n",
       "    <tr>\n",
       "      <th>184</th>\n",
       "      <td>WOBURN</td>\n",
       "      <td>87139.285714</td>\n",
       "    </tr>\n",
       "    <tr>\n",
       "      <th>185</th>\n",
       "      <td>WORCESTER</td>\n",
       "      <td>50699.690476</td>\n",
       "    </tr>\n",
       "  </tbody>\n",
       "</table>\n",
       "<p>186 rows × 2 columns</p>\n",
       "</div>"
      ],
      "text/plain": [
       "                Town  Average Median Income\n",
       "0           ABINGTON           89531.333333\n",
       "1    ACUSHNET CENTER           69091.500000\n",
       "2              ADAMS           50431.000000\n",
       "3        AGAWAM TOWN           70442.500000\n",
       "4      AMESBURY TOWN           83022.250000\n",
       "..               ...                    ...\n",
       "181       WINCHENDON           74986.000000\n",
       "182       WINCHESTER          160758.800000\n",
       "183    WINTHROP TOWN           73106.200000\n",
       "184           WOBURN           87139.285714\n",
       "185        WORCESTER           50699.690476\n",
       "\n",
       "[186 rows x 2 columns]"
      ]
     },
     "execution_count": 10,
     "metadata": {},
     "output_type": "execute_result"
    }
   ],
   "source": [
    "qryStr6 = \"SELECT t2.Town as Town, AVG(t1.mhi) as 'Average Median Income' FROM median_income_t t1, censusblocks_t t2 WHERE t2.blockcode = t1.ct10_id and t1.mhi > 1 GROUP BY t2.Town;\"\n",
    "town_median_income  = pd.read_sql_query(qryStr6, conn)\n",
    "town_median_income"
   ]
  },
  {
   "cell_type": "code",
   "execution_count": 11,
   "id": "grave-quantity",
   "metadata": {},
   "outputs": [
    {
     "data": {
      "text/html": [
       "<div>\n",
       "<style scoped>\n",
       "    .dataframe tbody tr th:only-of-type {\n",
       "        vertical-align: middle;\n",
       "    }\n",
       "\n",
       "    .dataframe tbody tr th {\n",
       "        vertical-align: top;\n",
       "    }\n",
       "\n",
       "    .dataframe thead th {\n",
       "        text-align: right;\n",
       "    }\n",
       "</style>\n",
       "<table border=\"1\" class=\"dataframe\">\n",
       "  <thead>\n",
       "    <tr style=\"text-align: right;\">\n",
       "      <th></th>\n",
       "      <th>Town</th>\n",
       "      <th>Average Median Income</th>\n",
       "    </tr>\n",
       "  </thead>\n",
       "  <tbody>\n",
       "    <tr>\n",
       "      <th>0</th>\n",
       "      <td>DOVER</td>\n",
       "      <td>224784.000000</td>\n",
       "    </tr>\n",
       "    <tr>\n",
       "      <th>1</th>\n",
       "      <td>WELLESLEY</td>\n",
       "      <td>191841.500000</td>\n",
       "    </tr>\n",
       "    <tr>\n",
       "      <th>2</th>\n",
       "      <td>BOXFORD</td>\n",
       "      <td>174340.000000</td>\n",
       "    </tr>\n",
       "    <tr>\n",
       "      <th>3</th>\n",
       "      <td>LEXINGTON</td>\n",
       "      <td>174233.166667</td>\n",
       "    </tr>\n",
       "    <tr>\n",
       "      <th>4</th>\n",
       "      <td>HOPKINTON</td>\n",
       "      <td>167733.500000</td>\n",
       "    </tr>\n",
       "    <tr>\n",
       "      <th>5</th>\n",
       "      <td>SPRINGFIELD</td>\n",
       "      <td>38017.162162</td>\n",
       "    </tr>\n",
       "    <tr>\n",
       "      <th>6</th>\n",
       "      <td>NORTH ADAMS</td>\n",
       "      <td>38142.500000</td>\n",
       "    </tr>\n",
       "    <tr>\n",
       "      <th>7</th>\n",
       "      <td>LAWRENCE</td>\n",
       "      <td>39653.166667</td>\n",
       "    </tr>\n",
       "    <tr>\n",
       "      <th>8</th>\n",
       "      <td>HOLYOKE</td>\n",
       "      <td>40761.636364</td>\n",
       "    </tr>\n",
       "    <tr>\n",
       "      <th>9</th>\n",
       "      <td>FALL RIVER</td>\n",
       "      <td>43967.920000</td>\n",
       "    </tr>\n",
       "    <tr>\n",
       "      <th>10</th>\n",
       "      <td>REVERE</td>\n",
       "      <td>55013.500000</td>\n",
       "    </tr>\n",
       "    <tr>\n",
       "      <th>11</th>\n",
       "      <td>QUINCY</td>\n",
       "      <td>75583.850000</td>\n",
       "    </tr>\n",
       "    <tr>\n",
       "      <th>12</th>\n",
       "      <td>EVERETT</td>\n",
       "      <td>58378.500000</td>\n",
       "    </tr>\n",
       "  </tbody>\n",
       "</table>\n",
       "</div>"
      ],
      "text/plain": [
       "           Town  Average Median Income\n",
       "0         DOVER          224784.000000\n",
       "1     WELLESLEY          191841.500000\n",
       "2       BOXFORD          174340.000000\n",
       "3     LEXINGTON          174233.166667\n",
       "4     HOPKINTON          167733.500000\n",
       "5   SPRINGFIELD           38017.162162\n",
       "6   NORTH ADAMS           38142.500000\n",
       "7      LAWRENCE           39653.166667\n",
       "8       HOLYOKE           40761.636364\n",
       "9    FALL RIVER           43967.920000\n",
       "10       REVERE           55013.500000\n",
       "11       QUINCY           75583.850000\n",
       "12      EVERETT           58378.500000"
      ]
     },
     "execution_count": 11,
     "metadata": {},
     "output_type": "execute_result"
    }
   ],
   "source": [
    "town_median_income.sort_values(by=['Average Median Income'])\n",
    "top_five_towns = town_median_income.nlargest(5, ['Average Median Income'])\n",
    "bottom_five_towns = town_median_income.nsmallest(5, ['Average Median Income'])\n",
    "revere = town_median_income.loc[town_median_income['Town'] == 'REVERE']\n",
    "quincy = town_median_income.loc[town_median_income['Town'] == 'QUINCY']\n",
    "everett = town_median_income.loc[town_median_income['Town'] == 'EVERETT']\n",
    "combined_median_income_df = pd.concat([top_five_towns, bottom_five_towns, revere, quincy, everett], axis=0)\n",
    "combined_median_income_df = combined_median_income_df.reset_index(drop=True)\n",
    "combined_median_income_df"
   ]
  },
  {
   "cell_type": "code",
   "execution_count": 12,
   "id": "christian-wrong",
   "metadata": {},
   "outputs": [
    {
     "data": {
      "image/png": "[encoded data removed]",
      "text/plain": [
       "<Figure size 432x288 with 1 Axes>"
      ]
     },
     "metadata": {
      "needs_background": "light"
     },
     "output_type": "display_data"
    }
   ],
   "source": [
    "combined_median_income_df.plot(x='Town', y='Average Median Income', kind='bar') \n",
    "plt.show()"
   ]
  },
  {
   "cell_type": "code",
   "execution_count": 13,
   "id": "consolidated-correspondence",
   "metadata": {},
   "outputs": [
    {
     "data": {
      "text/html": [
       "<div>\n",
       "<style scoped>\n",
       "    .dataframe tbody tr th:only-of-type {\n",
       "        vertical-align: middle;\n",
       "    }\n",
       "\n",
       "    .dataframe tbody tr th {\n",
       "        vertical-align: top;\n",
       "    }\n",
       "\n",
       "    .dataframe thead th {\n",
       "        text-align: right;\n",
       "    }\n",
       "</style>\n",
       "<table border=\"1\" class=\"dataframe\">\n",
       "  <thead>\n",
       "    <tr style=\"text-align: right;\">\n",
       "      <th></th>\n",
       "      <th>Town</th>\n",
       "      <th>AverageMaxDown</th>\n",
       "      <th>AverageMaxUp</th>\n",
       "    </tr>\n",
       "  </thead>\n",
       "  <tbody>\n",
       "    <tr>\n",
       "      <th>0</th>\n",
       "      <td>ABINGTON</td>\n",
       "      <td>250.73</td>\n",
       "      <td>111.99</td>\n",
       "    </tr>\n",
       "    <tr>\n",
       "      <th>1</th>\n",
       "      <td>ACUSHNET CENTER</td>\n",
       "      <td>170.98</td>\n",
       "      <td>25.24</td>\n",
       "    </tr>\n",
       "    <tr>\n",
       "      <th>2</th>\n",
       "      <td>ADAMS</td>\n",
       "      <td>178.95</td>\n",
       "      <td>7.60</td>\n",
       "    </tr>\n",
       "    <tr>\n",
       "      <th>3</th>\n",
       "      <td>AGAWAM TOWN</td>\n",
       "      <td>144.87</td>\n",
       "      <td>5.77</td>\n",
       "    </tr>\n",
       "    <tr>\n",
       "      <th>4</th>\n",
       "      <td>AMESBURY TOWN</td>\n",
       "      <td>144.11</td>\n",
       "      <td>5.67</td>\n",
       "    </tr>\n",
       "    <tr>\n",
       "      <th>...</th>\n",
       "      <td>...</td>\n",
       "      <td>...</td>\n",
       "      <td>...</td>\n",
       "    </tr>\n",
       "    <tr>\n",
       "      <th>183</th>\n",
       "      <td>WINCHENDON</td>\n",
       "      <td>115.36</td>\n",
       "      <td>4.68</td>\n",
       "    </tr>\n",
       "    <tr>\n",
       "      <th>184</th>\n",
       "      <td>WINCHESTER</td>\n",
       "      <td>261.78</td>\n",
       "      <td>116.97</td>\n",
       "    </tr>\n",
       "    <tr>\n",
       "      <th>185</th>\n",
       "      <td>WINTHROP TOWN</td>\n",
       "      <td>176.10</td>\n",
       "      <td>6.78</td>\n",
       "    </tr>\n",
       "    <tr>\n",
       "      <th>186</th>\n",
       "      <td>WOBURN</td>\n",
       "      <td>281.54</td>\n",
       "      <td>92.69</td>\n",
       "    </tr>\n",
       "    <tr>\n",
       "      <th>187</th>\n",
       "      <td>WORCESTER</td>\n",
       "      <td>175.23</td>\n",
       "      <td>7.00</td>\n",
       "    </tr>\n",
       "  </tbody>\n",
       "</table>\n",
       "<p>188 rows × 3 columns</p>\n",
       "</div>"
      ],
      "text/plain": [
       "                Town  AverageMaxDown  AverageMaxUp\n",
       "0           ABINGTON          250.73        111.99\n",
       "1    ACUSHNET CENTER          170.98         25.24\n",
       "2              ADAMS          178.95          7.60\n",
       "3        AGAWAM TOWN          144.87          5.77\n",
       "4      AMESBURY TOWN          144.11          5.67\n",
       "..               ...             ...           ...\n",
       "183       WINCHENDON          115.36          4.68\n",
       "184       WINCHESTER          261.78        116.97\n",
       "185    WINTHROP TOWN          176.10          6.78\n",
       "186           WOBURN          281.54         92.69\n",
       "187        WORCESTER          175.23          7.00\n",
       "\n",
       "[188 rows x 3 columns]"
      ]
     },
     "execution_count": 13,
     "metadata": {},
     "output_type": "execute_result"
    }
   ],
   "source": [
    "qryStr7 = \"SELECT t2.Town as Town, ROUND(AVG(t1.MaxAdDown),2) as AverageMaxDown, ROUND(AVG(t1.MaxAdUp),2) as AverageMaxUp FROM fcc_data_t t1, censusblocks_t t2 WHERE substr(t1.BlockCode,0,12) = t2.blockcode GROUP BY t2.TOWN\"\n",
    "town_average_speeds  = pd.read_sql_query(qryStr7, conn)\n",
    "town_average_speeds"
   ]
  },
  {
   "cell_type": "code",
   "execution_count": 14,
   "id": "certified-buddy",
   "metadata": {},
   "outputs": [
    {
     "data": {
      "text/html": [
       "<div>\n",
       "<style scoped>\n",
       "    .dataframe tbody tr th:only-of-type {\n",
       "        vertical-align: middle;\n",
       "    }\n",
       "\n",
       "    .dataframe tbody tr th {\n",
       "        vertical-align: top;\n",
       "    }\n",
       "\n",
       "    .dataframe thead th {\n",
       "        text-align: right;\n",
       "    }\n",
       "</style>\n",
       "<table border=\"1\" class=\"dataframe\">\n",
       "  <thead>\n",
       "    <tr style=\"text-align: right;\">\n",
       "      <th></th>\n",
       "      <th>Town</th>\n",
       "      <th>AverageMaxDown</th>\n",
       "      <th>AverageMaxUp</th>\n",
       "    </tr>\n",
       "  </thead>\n",
       "  <tbody>\n",
       "    <tr>\n",
       "      <th>0</th>\n",
       "      <td>DOVER</td>\n",
       "      <td>266.60</td>\n",
       "      <td>116.52</td>\n",
       "    </tr>\n",
       "    <tr>\n",
       "      <th>1</th>\n",
       "      <td>WELLESLEY</td>\n",
       "      <td>259.47</td>\n",
       "      <td>114.26</td>\n",
       "    </tr>\n",
       "    <tr>\n",
       "      <th>2</th>\n",
       "      <td>BOXFORD</td>\n",
       "      <td>229.41</td>\n",
       "      <td>98.39</td>\n",
       "    </tr>\n",
       "    <tr>\n",
       "      <th>3</th>\n",
       "      <td>LEXINGTON</td>\n",
       "      <td>281.84</td>\n",
       "      <td>92.27</td>\n",
       "    </tr>\n",
       "    <tr>\n",
       "      <th>4</th>\n",
       "      <td>HOPKINTON</td>\n",
       "      <td>253.57</td>\n",
       "      <td>112.75</td>\n",
       "    </tr>\n",
       "    <tr>\n",
       "      <th>5</th>\n",
       "      <td>SPRINGFIELD</td>\n",
       "      <td>143.97</td>\n",
       "      <td>5.65</td>\n",
       "    </tr>\n",
       "    <tr>\n",
       "      <th>6</th>\n",
       "      <td>NORTH ADAMS</td>\n",
       "      <td>181.18</td>\n",
       "      <td>8.01</td>\n",
       "    </tr>\n",
       "    <tr>\n",
       "      <th>7</th>\n",
       "      <td>LAWRENCE</td>\n",
       "      <td>249.54</td>\n",
       "      <td>110.73</td>\n",
       "    </tr>\n",
       "    <tr>\n",
       "      <th>8</th>\n",
       "      <td>HOLYOKE</td>\n",
       "      <td>135.08</td>\n",
       "      <td>5.35</td>\n",
       "    </tr>\n",
       "    <tr>\n",
       "      <th>9</th>\n",
       "      <td>FALL RIVER</td>\n",
       "      <td>147.38</td>\n",
       "      <td>5.87</td>\n",
       "    </tr>\n",
       "    <tr>\n",
       "      <th>10</th>\n",
       "      <td>REVERE</td>\n",
       "      <td>242.83</td>\n",
       "      <td>19.70</td>\n",
       "    </tr>\n",
       "    <tr>\n",
       "      <th>11</th>\n",
       "      <td>QUINCY</td>\n",
       "      <td>152.04</td>\n",
       "      <td>11.08</td>\n",
       "    </tr>\n",
       "    <tr>\n",
       "      <th>12</th>\n",
       "      <td>EVERETT</td>\n",
       "      <td>217.56</td>\n",
       "      <td>17.50</td>\n",
       "    </tr>\n",
       "  </tbody>\n",
       "</table>\n",
       "</div>"
      ],
      "text/plain": [
       "           Town  AverageMaxDown  AverageMaxUp\n",
       "0         DOVER          266.60        116.52\n",
       "1     WELLESLEY          259.47        114.26\n",
       "2       BOXFORD          229.41         98.39\n",
       "3     LEXINGTON          281.84         92.27\n",
       "4     HOPKINTON          253.57        112.75\n",
       "5   SPRINGFIELD          143.97          5.65\n",
       "6   NORTH ADAMS          181.18          8.01\n",
       "7      LAWRENCE          249.54        110.73\n",
       "8       HOLYOKE          135.08          5.35\n",
       "9    FALL RIVER          147.38          5.87\n",
       "10       REVERE          242.83         19.70\n",
       "11       QUINCY          152.04         11.08\n",
       "12      EVERETT          217.56         17.50"
      ]
     },
     "execution_count": 14,
     "metadata": {},
     "output_type": "execute_result"
    }
   ],
   "source": [
    "dover = town_average_speeds.loc[town_average_speeds['Town'] == 'DOVER']\n",
    "wellesley = town_average_speeds.loc[town_average_speeds['Town'] == 'WELLESLEY']\n",
    "boxford = town_average_speeds.loc[town_average_speeds['Town'] == 'BOXFORD']\n",
    "lexington = town_average_speeds.loc[town_average_speeds['Town'] == 'LEXINGTON']\n",
    "hopkinton = town_average_speeds.loc[town_average_speeds['Town'] == 'HOPKINTON']\n",
    "springfield = town_average_speeds.loc[town_average_speeds['Town'] == 'SPRINGFIELD']\n",
    "north_adams = town_average_speeds.loc[town_average_speeds['Town'] == 'NORTH ADAMS']\n",
    "lawrence = town_average_speeds.loc[town_average_speeds['Town'] == 'LAWRENCE']\n",
    "holyoke = town_average_speeds.loc[town_average_speeds['Town'] == 'HOLYOKE']\n",
    "fall_river = town_average_speeds.loc[town_average_speeds['Town'] == 'FALL RIVER']\n",
    "revere = town_average_speeds.loc[town_average_speeds['Town'] == 'REVERE']\n",
    "quincy = town_average_speeds.loc[town_average_speeds['Town'] == 'QUINCY']\n",
    "everett = town_average_speeds.loc[town_average_speeds['Town'] == 'EVERETT']\n",
    "\n",
    "combined_average_speed_df = pd.concat([dover, wellesley, boxford, lexington, hopkinton, springfield, north_adams, lawrence, holyoke, fall_river, revere, quincy, everett], axis=0)\n",
    "combined_average_speed_df = combined_average_speed_df.reset_index(drop=True)\n",
    "combined_average_speed_df"
   ]
  },
  {
   "cell_type": "code",
   "execution_count": 15,
   "id": "veterinary-float",
   "metadata": {},
   "outputs": [
    {
     "data": {
      "image/png": "[encoded data removed]",
      "text/plain": [
       "<Figure size 432x288 with 1 Axes>"
      ]
     },
     "metadata": {
      "needs_background": "light"
     },
     "output_type": "display_data"
    }
   ],
   "source": [
    "combined_average_speed_df.plot(x='Town', y='AverageMaxDown', kind='bar') \n",
    "plt.show()\n",
    "\n",
    "# add Average Max Up"
   ]
  },
  {
   "cell_type": "code",
   "execution_count": 16,
   "id": "stopped-sweden",
   "metadata": {},
   "outputs": [
    {
     "data": {
      "image/png": "[encoded data removed]",
      "text/plain": [
       "<Figure size 432x288 with 1 Axes>"
      ]
     },
     "metadata": {
      "needs_background": "light"
     },
     "output_type": "display_data"
    }
   ],
   "source": [
    "combined_average_speed_df.plot(x='Town', y='AverageMaxUp', kind='bar') \n",
    "plt.show()"
   ]
  },
  {
   "cell_type": "code",
   "execution_count": 17,
   "id": "turkish-blues",
   "metadata": {},
   "outputs": [
    {
     "data": {
      "text/html": [
       "<div>\n",
       "<style scoped>\n",
       "    .dataframe tbody tr th:only-of-type {\n",
       "        vertical-align: middle;\n",
       "    }\n",
       "\n",
       "    .dataframe tbody tr th {\n",
       "        vertical-align: top;\n",
       "    }\n",
       "\n",
       "    .dataframe thead th {\n",
       "        text-align: right;\n",
       "    }\n",
       "</style>\n",
       "<table border=\"1\" class=\"dataframe\">\n",
       "  <thead>\n",
       "    <tr style=\"text-align: right;\">\n",
       "      <th></th>\n",
       "      <th>Town</th>\n",
       "      <th>AverageMaxDown</th>\n",
       "      <th>AverageMaxUp</th>\n",
       "      <th>Average Median Income</th>\n",
       "    </tr>\n",
       "  </thead>\n",
       "  <tbody>\n",
       "    <tr>\n",
       "      <th>0</th>\n",
       "      <td>DOVER</td>\n",
       "      <td>266.60</td>\n",
       "      <td>116.52</td>\n",
       "      <td>224784.000000</td>\n",
       "    </tr>\n",
       "    <tr>\n",
       "      <th>1</th>\n",
       "      <td>WELLESLEY</td>\n",
       "      <td>259.47</td>\n",
       "      <td>114.26</td>\n",
       "      <td>191841.500000</td>\n",
       "    </tr>\n",
       "    <tr>\n",
       "      <th>2</th>\n",
       "      <td>BOXFORD</td>\n",
       "      <td>229.41</td>\n",
       "      <td>98.39</td>\n",
       "      <td>174340.000000</td>\n",
       "    </tr>\n",
       "    <tr>\n",
       "      <th>3</th>\n",
       "      <td>LEXINGTON</td>\n",
       "      <td>281.84</td>\n",
       "      <td>92.27</td>\n",
       "      <td>174233.166667</td>\n",
       "    </tr>\n",
       "    <tr>\n",
       "      <th>4</th>\n",
       "      <td>HOPKINTON</td>\n",
       "      <td>253.57</td>\n",
       "      <td>112.75</td>\n",
       "      <td>167733.500000</td>\n",
       "    </tr>\n",
       "    <tr>\n",
       "      <th>5</th>\n",
       "      <td>SPRINGFIELD</td>\n",
       "      <td>143.97</td>\n",
       "      <td>5.65</td>\n",
       "      <td>38017.162162</td>\n",
       "    </tr>\n",
       "    <tr>\n",
       "      <th>6</th>\n",
       "      <td>NORTH ADAMS</td>\n",
       "      <td>181.18</td>\n",
       "      <td>8.01</td>\n",
       "      <td>38142.500000</td>\n",
       "    </tr>\n",
       "    <tr>\n",
       "      <th>7</th>\n",
       "      <td>LAWRENCE</td>\n",
       "      <td>249.54</td>\n",
       "      <td>110.73</td>\n",
       "      <td>39653.166667</td>\n",
       "    </tr>\n",
       "    <tr>\n",
       "      <th>8</th>\n",
       "      <td>HOLYOKE</td>\n",
       "      <td>135.08</td>\n",
       "      <td>5.35</td>\n",
       "      <td>40761.636364</td>\n",
       "    </tr>\n",
       "    <tr>\n",
       "      <th>9</th>\n",
       "      <td>FALL RIVER</td>\n",
       "      <td>147.38</td>\n",
       "      <td>5.87</td>\n",
       "      <td>43967.920000</td>\n",
       "    </tr>\n",
       "    <tr>\n",
       "      <th>10</th>\n",
       "      <td>REVERE</td>\n",
       "      <td>242.83</td>\n",
       "      <td>19.70</td>\n",
       "      <td>55013.500000</td>\n",
       "    </tr>\n",
       "    <tr>\n",
       "      <th>11</th>\n",
       "      <td>QUINCY</td>\n",
       "      <td>152.04</td>\n",
       "      <td>11.08</td>\n",
       "      <td>75583.850000</td>\n",
       "    </tr>\n",
       "    <tr>\n",
       "      <th>12</th>\n",
       "      <td>EVERETT</td>\n",
       "      <td>217.56</td>\n",
       "      <td>17.50</td>\n",
       "      <td>58378.500000</td>\n",
       "    </tr>\n",
       "  </tbody>\n",
       "</table>\n",
       "</div>"
      ],
      "text/plain": [
       "           Town  AverageMaxDown  AverageMaxUp  Average Median Income\n",
       "0         DOVER          266.60        116.52          224784.000000\n",
       "1     WELLESLEY          259.47        114.26          191841.500000\n",
       "2       BOXFORD          229.41         98.39          174340.000000\n",
       "3     LEXINGTON          281.84         92.27          174233.166667\n",
       "4     HOPKINTON          253.57        112.75          167733.500000\n",
       "5   SPRINGFIELD          143.97          5.65           38017.162162\n",
       "6   NORTH ADAMS          181.18          8.01           38142.500000\n",
       "7      LAWRENCE          249.54        110.73           39653.166667\n",
       "8       HOLYOKE          135.08          5.35           40761.636364\n",
       "9    FALL RIVER          147.38          5.87           43967.920000\n",
       "10       REVERE          242.83         19.70           55013.500000\n",
       "11       QUINCY          152.04         11.08           75583.850000\n",
       "12      EVERETT          217.56         17.50           58378.500000"
      ]
     },
     "execution_count": 17,
     "metadata": {},
     "output_type": "execute_result"
    }
   ],
   "source": [
    "median_income_and_speed_df = combined_average_speed_df\n",
    "median_income_and_speed_df['Average Median Income'] = combined_median_income_df['Average Median Income']\n",
    "median_income_and_speed_df"
   ]
  },
  {
   "cell_type": "code",
   "execution_count": 18,
   "id": "floppy-hamilton",
   "metadata": {},
   "outputs": [
    {
     "data": {
      "image/png": "[encoded data removed]",
      "text/plain": [
       "<Figure size 432x288 with 1 Axes>"
      ]
     },
     "metadata": {
      "needs_background": "light"
     },
     "output_type": "display_data"
    }
   ],
   "source": [
    "ax1 = median_income_and_speed_df.plot(kind='scatter', x='Average Median Income', y='AverageMaxDown', title='Median income vs Average Max Down Speed',)    \n",
    "\n",
    "# annotate points in axis\n",
    "for idx, row in median_income_and_speed_df.iterrows():\n",
    "    ax1.annotate(row['Town'], (row['Average Median Income'], row['AverageMaxDown']))\n",
    "\n",
    "plt.show()\n"
   ]
  },
  {
   "cell_type": "code",
   "execution_count": 19,
   "id": "nuclear-wallace",
   "metadata": {},
   "outputs": [
    {
     "data": {
      "image/png": "[encoded data removed]",
      "text/plain": [
       "<Figure size 432x288 with 1 Axes>"
      ]
     },
     "metadata": {
      "needs_background": "light"
     },
     "output_type": "display_data"
    }
   ],
   "source": [
    "ax2 = median_income_and_speed_df[:6].plot(kind='scatter', x='Average Median Income', y='AverageMaxUp', title='Median income vs Average Max Up Speed',)    \n",
    "\n",
    "# annotate points in axis\n",
    "for idx, row in median_income_and_speed_df[:6].iterrows():\n",
    "    ax2.annotate(row['Town'], (row['Average Median Income'], row['AverageMaxUp']))\n",
    "\n",
    "plt.show()"
   ]
  },
  {
   "cell_type": "code",
   "execution_count": 20,
   "id": "stuffed-vector",
   "metadata": {},
   "outputs": [
    {
     "data": {
      "image/png": "[encoded data removed]",
      "text/plain": [
       "<Figure size 432x288 with 1 Axes>"
      ]
     },
     "metadata": {
      "needs_background": "light"
     },
     "output_type": "display_data"
    }
   ],
   "source": [
    "ax3 = median_income_and_speed_df[7:].plot(kind='scatter', x='Average Median Income', y='AverageMaxUp', title='Median income vs Average Max Up Speed',)    \n",
    "\n",
    "# annotate points in axis\n",
    "for idx, row in median_income_and_speed_df[7:].iterrows():\n",
    "    ax3.annotate(row['Town'], (row['Average Median Income'], row['AverageMaxUp']))\n",
    "\n",
    "plt.show()"
   ]
  },
  {
   "cell_type": "code",
   "execution_count": 37,
   "id": "pacific-equilibrium",
   "metadata": {},
   "outputs": [
    {
     "name": "stdout",
     "output_type": "stream",
     "text": [
      "              Town  AverageMaxDown  AverageMaxUp  index      ct10_id   nh_p  \\\n",
      "0         ABINGTON          250.73        111.99   1054  25023520100  97.48   \n",
      "1  ACUSHNET CENTER          170.98         25.24    218  25005654100  98.23   \n",
      "2            ADAMS          178.95          7.60     80  25003922100  97.95   \n",
      "3      AGAWAM TOWN          144.87          5.77    496  25013813206  89.61   \n",
      "4    AMESBURY TOWN          144.11          5.67    380  25009266200  97.20   \n",
      "5   AMHERST CENTER          134.88          5.77    519  25015820400  93.70   \n",
      "6          ANDOVER          211.13         92.44    353  25009254100  97.84   \n",
      "7        ARLINGTON          330.43        103.19    758  25017356602  95.50   \n",
      "8            ATHOL          204.69          8.06   1309  25027703100  98.92   \n",
      "9        ATTLEBORO          151.15          6.92    134  25005631100  93.61   \n",
      "\n",
      "   nhwhi_p  nhaa_p  nhna_p  nhas_p  nhpi_p  nhoth_p  nhmlt_p  lat_p  \n",
      "0    88.75    1.33    0.00    3.96     0.0     0.47     2.98   2.52  \n",
      "1    89.86    0.00    0.00    1.89     0.0     4.47     2.01   1.77  \n",
      "2    94.62    1.77    0.00    0.00     0.0     0.00     1.56   2.05  \n",
      "3    84.31    2.25    0.00    2.32     0.0     0.00     0.73  10.39  \n",
      "4    89.84    1.84    0.39    1.73     0.0     0.00     3.41   2.80  \n",
      "5    70.37    4.17    0.40   16.31     0.0     0.05     2.40   6.30  \n",
      "6    83.67    3.07    0.00    9.68     0.0     0.00     1.42   2.16  \n",
      "7    79.96    1.72    0.00    8.27     0.0     0.00     5.55   4.50  \n",
      "8    96.37    0.82    0.00    0.49     0.0     0.00     1.24   1.08  \n",
      "9    84.80    2.40    0.00    4.41     0.0     0.01     1.99   6.39  \n"
     ]
    }
   ],
   "source": [
    "qryStr6 = \"SELECT t2.Town as Town, ROUND(AVG(t1.MaxAdDown),2) as AverageMaxDown, ROUND(AVG(t1.MaxAdUp),2) as AverageMaxUp, t3.* FROM fcc_data_t t1, censusblocks_t t2, race_ethnicity_t t3 WHERE substr(t1.BlockCode,0,12) = t2.blockcode  AND t2.blockcode = t3.ct10_id GROUP BY t2.TOWN\"\n",
    "df_averages_percentage = pd.read_sql_query(qryStr6, conn)\n",
    "print(df_averages_percentage.head(10))\n",
    "\n"
   ]
  },
  {
   "cell_type": "code",
   "execution_count": 38,
   "id": "mental-enlargement",
   "metadata": {},
   "outputs": [],
   "source": [
    "df_averages_percentage = df_averages_percentage.drop(['ct10_id','index'],axis = 1)\n",
    "df_averages_percentage = df_averages_percentage.rename(columns={\"nh_p\":\"Non-Hispanic\",\"nhwhi_p\": \"Non-Hispanic White\",\n",
    "                                      \"nhaa_p\":\"Non-Hispanic Black or African American\",\"nhna_p\": \"Non-Hispanic American Indian and Alaska Native\",\n",
    "                                      \"nhas_p\":\"Non-Hispanic Asian\",\"nhpi_p\": \"Non-Hispanic Native Hawaiian/Other Pacific Islander\",\n",
    "                                      \"nhoth_p\":\"Non-Hispanic Some Other Races\",\"nhmlt_p\": \"Non-Hispanic Two or More Races\",\n",
    "                                      \"lat_p\":\"Hispanic/Latino\"})"
   ]
  },
  {
   "cell_type": "code",
   "execution_count": 39,
   "id": "hawaiian-invalid",
   "metadata": {},
   "outputs": [
    {
     "data": {
      "text/html": [
       "<div>\n",
       "<style scoped>\n",
       "    .dataframe tbody tr th:only-of-type {\n",
       "        vertical-align: middle;\n",
       "    }\n",
       "\n",
       "    .dataframe tbody tr th {\n",
       "        vertical-align: top;\n",
       "    }\n",
       "\n",
       "    .dataframe thead th {\n",
       "        text-align: right;\n",
       "    }\n",
       "</style>\n",
       "<table border=\"1\" class=\"dataframe\">\n",
       "  <thead>\n",
       "    <tr style=\"text-align: right;\">\n",
       "      <th></th>\n",
       "      <th>Town</th>\n",
       "      <th>AverageMaxDown</th>\n",
       "      <th>AverageMaxUp</th>\n",
       "      <th>Non-Hispanic</th>\n",
       "      <th>Non-Hispanic White</th>\n",
       "      <th>Non-Hispanic Black or African American</th>\n",
       "      <th>Non-Hispanic American Indian and Alaska Native</th>\n",
       "      <th>Non-Hispanic Asian</th>\n",
       "      <th>Non-Hispanic Native Hawaiian/Other Pacific Islander</th>\n",
       "      <th>Non-Hispanic Some Other Races</th>\n",
       "      <th>Non-Hispanic Two or More Races</th>\n",
       "      <th>Hispanic/Latino</th>\n",
       "    </tr>\n",
       "  </thead>\n",
       "  <tbody>\n",
       "    <tr>\n",
       "      <th>0</th>\n",
       "      <td>ABINGTON</td>\n",
       "      <td>250.73</td>\n",
       "      <td>111.99</td>\n",
       "      <td>97.48</td>\n",
       "      <td>88.75</td>\n",
       "      <td>1.33</td>\n",
       "      <td>0.00</td>\n",
       "      <td>3.96</td>\n",
       "      <td>0.0</td>\n",
       "      <td>0.47</td>\n",
       "      <td>2.98</td>\n",
       "      <td>2.52</td>\n",
       "    </tr>\n",
       "    <tr>\n",
       "      <th>1</th>\n",
       "      <td>ACUSHNET CENTER</td>\n",
       "      <td>170.98</td>\n",
       "      <td>25.24</td>\n",
       "      <td>98.23</td>\n",
       "      <td>89.86</td>\n",
       "      <td>0.00</td>\n",
       "      <td>0.00</td>\n",
       "      <td>1.89</td>\n",
       "      <td>0.0</td>\n",
       "      <td>4.47</td>\n",
       "      <td>2.01</td>\n",
       "      <td>1.77</td>\n",
       "    </tr>\n",
       "    <tr>\n",
       "      <th>2</th>\n",
       "      <td>ADAMS</td>\n",
       "      <td>178.95</td>\n",
       "      <td>7.60</td>\n",
       "      <td>97.95</td>\n",
       "      <td>94.62</td>\n",
       "      <td>1.77</td>\n",
       "      <td>0.00</td>\n",
       "      <td>0.00</td>\n",
       "      <td>0.0</td>\n",
       "      <td>0.00</td>\n",
       "      <td>1.56</td>\n",
       "      <td>2.05</td>\n",
       "    </tr>\n",
       "    <tr>\n",
       "      <th>3</th>\n",
       "      <td>AGAWAM TOWN</td>\n",
       "      <td>144.87</td>\n",
       "      <td>5.77</td>\n",
       "      <td>89.61</td>\n",
       "      <td>84.31</td>\n",
       "      <td>2.25</td>\n",
       "      <td>0.00</td>\n",
       "      <td>2.32</td>\n",
       "      <td>0.0</td>\n",
       "      <td>0.00</td>\n",
       "      <td>0.73</td>\n",
       "      <td>10.39</td>\n",
       "    </tr>\n",
       "    <tr>\n",
       "      <th>4</th>\n",
       "      <td>AMESBURY TOWN</td>\n",
       "      <td>144.11</td>\n",
       "      <td>5.67</td>\n",
       "      <td>97.20</td>\n",
       "      <td>89.84</td>\n",
       "      <td>1.84</td>\n",
       "      <td>0.39</td>\n",
       "      <td>1.73</td>\n",
       "      <td>0.0</td>\n",
       "      <td>0.00</td>\n",
       "      <td>3.41</td>\n",
       "      <td>2.80</td>\n",
       "    </tr>\n",
       "    <tr>\n",
       "      <th>...</th>\n",
       "      <td>...</td>\n",
       "      <td>...</td>\n",
       "      <td>...</td>\n",
       "      <td>...</td>\n",
       "      <td>...</td>\n",
       "      <td>...</td>\n",
       "      <td>...</td>\n",
       "      <td>...</td>\n",
       "      <td>...</td>\n",
       "      <td>...</td>\n",
       "      <td>...</td>\n",
       "      <td>...</td>\n",
       "    </tr>\n",
       "    <tr>\n",
       "      <th>183</th>\n",
       "      <td>WINCHENDON</td>\n",
       "      <td>115.36</td>\n",
       "      <td>4.68</td>\n",
       "      <td>96.66</td>\n",
       "      <td>92.58</td>\n",
       "      <td>1.00</td>\n",
       "      <td>0.00</td>\n",
       "      <td>1.60</td>\n",
       "      <td>0.0</td>\n",
       "      <td>0.00</td>\n",
       "      <td>1.47</td>\n",
       "      <td>3.34</td>\n",
       "    </tr>\n",
       "    <tr>\n",
       "      <th>184</th>\n",
       "      <td>WINCHESTER</td>\n",
       "      <td>261.78</td>\n",
       "      <td>116.97</td>\n",
       "      <td>96.84</td>\n",
       "      <td>73.25</td>\n",
       "      <td>0.34</td>\n",
       "      <td>0.00</td>\n",
       "      <td>20.61</td>\n",
       "      <td>0.0</td>\n",
       "      <td>2.16</td>\n",
       "      <td>0.48</td>\n",
       "      <td>3.16</td>\n",
       "    </tr>\n",
       "    <tr>\n",
       "      <th>185</th>\n",
       "      <td>WINTHROP TOWN</td>\n",
       "      <td>176.10</td>\n",
       "      <td>6.78</td>\n",
       "      <td>93.50</td>\n",
       "      <td>92.47</td>\n",
       "      <td>0.43</td>\n",
       "      <td>0.00</td>\n",
       "      <td>0.17</td>\n",
       "      <td>0.0</td>\n",
       "      <td>0.00</td>\n",
       "      <td>0.43</td>\n",
       "      <td>6.50</td>\n",
       "    </tr>\n",
       "    <tr>\n",
       "      <th>186</th>\n",
       "      <td>WOBURN</td>\n",
       "      <td>281.54</td>\n",
       "      <td>92.69</td>\n",
       "      <td>90.32</td>\n",
       "      <td>71.32</td>\n",
       "      <td>8.51</td>\n",
       "      <td>0.00</td>\n",
       "      <td>8.73</td>\n",
       "      <td>0.0</td>\n",
       "      <td>1.43</td>\n",
       "      <td>0.34</td>\n",
       "      <td>9.68</td>\n",
       "    </tr>\n",
       "    <tr>\n",
       "      <th>187</th>\n",
       "      <td>WORCESTER</td>\n",
       "      <td>175.23</td>\n",
       "      <td>7.00</td>\n",
       "      <td>79.28</td>\n",
       "      <td>55.99</td>\n",
       "      <td>20.32</td>\n",
       "      <td>0.00</td>\n",
       "      <td>2.30</td>\n",
       "      <td>0.0</td>\n",
       "      <td>0.00</td>\n",
       "      <td>0.66</td>\n",
       "      <td>20.72</td>\n",
       "    </tr>\n",
       "  </tbody>\n",
       "</table>\n",
       "<p>188 rows × 12 columns</p>\n",
       "</div>"
      ],
      "text/plain": [
       "                Town  AverageMaxDown  AverageMaxUp  Non-Hispanic  \\\n",
       "0           ABINGTON          250.73        111.99         97.48   \n",
       "1    ACUSHNET CENTER          170.98         25.24         98.23   \n",
       "2              ADAMS          178.95          7.60         97.95   \n",
       "3        AGAWAM TOWN          144.87          5.77         89.61   \n",
       "4      AMESBURY TOWN          144.11          5.67         97.20   \n",
       "..               ...             ...           ...           ...   \n",
       "183       WINCHENDON          115.36          4.68         96.66   \n",
       "184       WINCHESTER          261.78        116.97         96.84   \n",
       "185    WINTHROP TOWN          176.10          6.78         93.50   \n",
       "186           WOBURN          281.54         92.69         90.32   \n",
       "187        WORCESTER          175.23          7.00         79.28   \n",
       "\n",
       "     Non-Hispanic White  Non-Hispanic Black or African American  \\\n",
       "0                 88.75                                    1.33   \n",
       "1                 89.86                                    0.00   \n",
       "2                 94.62                                    1.77   \n",
       "3                 84.31                                    2.25   \n",
       "4                 89.84                                    1.84   \n",
       "..                  ...                                     ...   \n",
       "183               92.58                                    1.00   \n",
       "184               73.25                                    0.34   \n",
       "185               92.47                                    0.43   \n",
       "186               71.32                                    8.51   \n",
       "187               55.99                                   20.32   \n",
       "\n",
       "     Non-Hispanic American Indian and Alaska Native  Non-Hispanic Asian  \\\n",
       "0                                              0.00                3.96   \n",
       "1                                              0.00                1.89   \n",
       "2                                              0.00                0.00   \n",
       "3                                              0.00                2.32   \n",
       "4                                              0.39                1.73   \n",
       "..                                              ...                 ...   \n",
       "183                                            0.00                1.60   \n",
       "184                                            0.00               20.61   \n",
       "185                                            0.00                0.17   \n",
       "186                                            0.00                8.73   \n",
       "187                                            0.00                2.30   \n",
       "\n",
       "     Non-Hispanic Native Hawaiian/Other Pacific Islander  \\\n",
       "0                                                  0.0     \n",
       "1                                                  0.0     \n",
       "2                                                  0.0     \n",
       "3                                                  0.0     \n",
       "4                                                  0.0     \n",
       "..                                                 ...     \n",
       "183                                                0.0     \n",
       "184                                                0.0     \n",
       "185                                                0.0     \n",
       "186                                                0.0     \n",
       "187                                                0.0     \n",
       "\n",
       "     Non-Hispanic Some Other Races  Non-Hispanic Two or More Races  \\\n",
       "0                             0.47                            2.98   \n",
       "1                             4.47                            2.01   \n",
       "2                             0.00                            1.56   \n",
       "3                             0.00                            0.73   \n",
       "4                             0.00                            3.41   \n",
       "..                             ...                             ...   \n",
       "183                           0.00                            1.47   \n",
       "184                           2.16                            0.48   \n",
       "185                           0.00                            0.43   \n",
       "186                           1.43                            0.34   \n",
       "187                           0.00                            0.66   \n",
       "\n",
       "     Hispanic/Latino  \n",
       "0               2.52  \n",
       "1               1.77  \n",
       "2               2.05  \n",
       "3              10.39  \n",
       "4               2.80  \n",
       "..               ...  \n",
       "183             3.34  \n",
       "184             3.16  \n",
       "185             6.50  \n",
       "186             9.68  \n",
       "187            20.72  \n",
       "\n",
       "[188 rows x 12 columns]"
      ]
     },
     "execution_count": 39,
     "metadata": {},
     "output_type": "execute_result"
    }
   ],
   "source": [
    "df_averages_percentage.to_csv('MaxSpeed_Race.csv',index = false)"
   ]
  }
 ],
 "metadata": {
  "kernelspec": {
   "display_name": "Python 3",
   "language": "python",
   "name": "python3"
  },
  "language_info": {
   "codemirror_mode": {
    "name": "ipython",
    "version": 3
   },
   "file_extension": ".py",
   "mimetype": "text/x-python",
   "name": "python",
   "nbconvert_exporter": "python",
   "pygments_lexer": "ipython3",
   "version": "3.8.8"
  }
 },
 "nbformat": 4,
 "nbformat_minor": 5
}
