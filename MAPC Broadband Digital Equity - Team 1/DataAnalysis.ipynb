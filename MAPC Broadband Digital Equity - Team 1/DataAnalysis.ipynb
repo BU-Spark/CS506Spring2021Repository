{
 "cells": [
  {
   "cell_type": "code",
   "execution_count": 1,
   "id": "noted-fault",
   "metadata": {},
   "outputs": [],
   "source": [
    "# code block for imports \n",
    "import pandas as pd \n",
    "import numpy as np\n",
    "import sqlite3\n",
    "from sqlalchemy import create_engine\n",
    "import os\n",
    "import matplotlib.pyplot as plt\n",
    "import pandas as pd\n",
    "import folium\n",
    "from folium import plugins\n",
    "from folium.plugins import HeatMap"
   ]
  },
  {
   "cell_type": "code",
   "execution_count": 2,
   "id": "incredible-musical",
   "metadata": {},
   "outputs": [],
   "source": [
    "conn = sqlite3.connect('cs506MAPC.db')"
   ]
  },
  {
   "cell_type": "markdown",
   "id": "monetary-connecticut",
   "metadata": {},
   "source": [
    "## Display first 10 Providers "
   ]
  },
  {
   "cell_type": "code",
   "execution_count": 3,
   "id": "bibliographic-smile",
   "metadata": {},
   "outputs": [
    {
     "name": "stdout",
     "output_type": "stream",
     "text": [
      "                     ProviderName     tractNum  MaxAdDown  MaxAdUp      town  \\\n",
      "0  MCI Communications Corporation  25023520100        0.0      0.0  ABINGTON   \n",
      "1  MCI Communications Corporation  25023520201        0.0      0.0  ABINGTON   \n",
      "2  MCI Communications Corporation  25023520202        0.0      0.0  ABINGTON   \n",
      "3          Crown Castle Fiber LLC  25023520100        0.0      0.0  ABINGTON   \n",
      "4          Crown Castle Fiber LLC  25023520201        0.0      0.0  ABINGTON   \n",
      "5          Crown Castle Fiber LLC  25023520202        0.0      0.0  ABINGTON   \n",
      "6                    ViaSat, Inc.  25023520100      100.0      3.0  ABINGTON   \n",
      "7                    ViaSat, Inc.  25023520201      100.0      3.0  ABINGTON   \n",
      "8                    ViaSat, Inc.  25023520202      100.0      3.0  ABINGTON   \n",
      "9          U.S. TelePacific Corp.  25023520202        0.0      0.0  ABINGTON   \n",
      "\n",
      "   Longitude  Latitude  \n",
      "0     -70.96     42.12  \n",
      "1     -70.96     42.12  \n",
      "2     -70.96     42.12  \n",
      "3     -70.96     42.12  \n",
      "4     -70.96     42.12  \n",
      "5     -70.96     42.12  \n",
      "6     -70.96     42.12  \n",
      "7     -70.96     42.12  \n",
      "8     -70.96     42.12  \n",
      "9     -70.96     42.12  \n"
     ]
    }
   ],
   "source": [
    "qrystr =\"SELECT DISTINCT t1.ProviderName,t1.MaxAdDown,t1.MaxAdUp, t2.town, t3.Longitude, t3.Latitude FROM FCC_DATA_T t1, censusblocks_t t2, CityLongLat_t t3 WHERE substr(t1.BlockCode,0,12) = t2.blockcode AND t2.town = t3.town ORDER BY t2.town ASC\"\n",
    "\n",
    "\n",
    "#convert query results into dataframe\n",
    "df_filtered_providers = pd.read_sql_query(qrystr, conn)\n",
    "print(df_filtered_providers.head(10))"
   ]
  },
  {
   "cell_type": "markdown",
   "id": "active-saying",
   "metadata": {},
   "source": [
    "## Non Zero Providers"
   ]
  },
  {
   "cell_type": "code",
   "execution_count": 7,
   "id": "fitting-boards",
   "metadata": {},
   "outputs": [
    {
     "name": "stdout",
     "output_type": "stream",
     "text": [
      "                        ProviderName      town  MaxAdDown  MaxAdUp      town  \\\n",
      "0                       ViaSat, Inc.  ABINGTON      100.0    3.000  ABINGTON   \n",
      "1  COMCAST CABLE COMMUNICATIONS, LLC  ABINGTON      987.0   35.000  ABINGTON   \n",
      "2           Verizon New England Inc.  ABINGTON      940.0  880.000  ABINGTON   \n",
      "3           Verizon New England Inc.  ABINGTON        5.0    0.768  ABINGTON   \n",
      "4           Verizon New England Inc.  ABINGTON       15.0    1.000  ABINGTON   \n",
      "5           Verizon New England Inc.  ABINGTON       10.0    1.000  ABINGTON   \n",
      "6           Verizon New England Inc.  ABINGTON        7.0    0.768  ABINGTON   \n",
      "7           Verizon New England Inc.  ABINGTON        1.5    0.384  ABINGTON   \n",
      "8           Verizon New England Inc.  ABINGTON        3.0    0.768  ABINGTON   \n",
      "9           Verizon New England Inc.  ABINGTON        1.0    0.384  ABINGTON   \n",
      "\n",
      "   Longitude  Latitude  \n",
      "0     -70.96     42.12  \n",
      "1     -70.96     42.12  \n",
      "2     -70.96     42.12  \n",
      "3     -70.96     42.12  \n",
      "4     -70.96     42.12  \n",
      "5     -70.96     42.12  \n",
      "6     -70.96     42.12  \n",
      "7     -70.96     42.12  \n",
      "8     -70.96     42.12  \n",
      "9     -70.96     42.12  \n"
     ]
    }
   ],
   "source": [
    "qryStr2 = \"SELECT DISTINCT t1.ProviderName,t1.MaxAdDown,t1.MaxAdUp, t2.town, t3.Longitude, t3.Latitude FROM FCC_DATA_T t1, censusblocks_t t2, CityLongLat_t t3 WHERE MaxAdDown != 0.0 AND MaxAdUp != 0.0 and substr(t1.BlockCode,0,12) = t2.blockcode AND t2.town = t3.town ORDER BY t2.town ASC\"\n",
    "df_filtered_non_zero_providers = pd.read_sql_query(qryStr2, conn)\n",
    "print(df_filtered_non_zero_providers.head(10))\n"
   ]
  },
  {
   "cell_type": "markdown",
   "id": "ambient-command",
   "metadata": {},
   "source": [
    "## Zero Providers"
   ]
  },
  {
   "cell_type": "code",
   "execution_count": 5,
   "id": "selected-mounting",
   "metadata": {},
   "outputs": [
    {
     "name": "stdout",
     "output_type": "stream",
     "text": [
      "                        ProviderName     tractNum  MaxAdDown  MaxAdUp  \\\n",
      "0     MCI Communications Corporation  25023520100        0.0      0.0   \n",
      "1     MCI Communications Corporation  25023520201        0.0      0.0   \n",
      "2     MCI Communications Corporation  25023520202        0.0      0.0   \n",
      "3             Crown Castle Fiber LLC  25023520100        0.0      0.0   \n",
      "4             Crown Castle Fiber LLC  25023520201        0.0      0.0   \n",
      "5             Crown Castle Fiber LLC  25023520202        0.0      0.0   \n",
      "6             U.S. TelePacific Corp.  25023520202        0.0      0.0   \n",
      "7  Broadview Networks Holdings, Inc.  25023520100        0.0      0.0   \n",
      "8  COMCAST CABLE COMMUNICATIONS, LLC  25023520201        0.0      0.0   \n",
      "9  COMCAST CABLE COMMUNICATIONS, LLC  25023520100        0.0      0.0   \n",
      "\n",
      "       town  Longitude  Latitude  \n",
      "0  ABINGTON     -70.96     42.12  \n",
      "1  ABINGTON     -70.96     42.12  \n",
      "2  ABINGTON     -70.96     42.12  \n",
      "3  ABINGTON     -70.96     42.12  \n",
      "4  ABINGTON     -70.96     42.12  \n",
      "5  ABINGTON     -70.96     42.12  \n",
      "6  ABINGTON     -70.96     42.12  \n",
      "7  ABINGTON     -70.96     42.12  \n",
      "8  ABINGTON     -70.96     42.12  \n",
      "9  ABINGTON     -70.96     42.12  \n"
     ]
    }
   ],
   "source": [
    "qryStr3 = \"SELECT DISTINCT t1.ProviderName,t1.MaxAdDown,t1.MaxAdUp, t2.town, t3.Longitude, t3.Latitude FROM FCC_DATA_T t1, censusblocks_t t2, CityLongLat_t t3 WHERE MaxAdDown = 0 AND MaxAdUp = 0 and substr(t1.BlockCode,0,12) = t2.blockcode AND t2.town = t3.town ORDER BY t2.town ASC\"\n",
    "df_filtered_zero_providers = pd.read_sql_query(qryStr3, conn)\n",
    "print(df_filtered_zero_providers.head(10))"
   ]
  },
  {
   "cell_type": "code",
   "execution_count": 8,
   "id": "global-bidder",
   "metadata": {},
   "outputs": [],
   "source": [
    "def generateBaseMap(default_location=[42.360081, -71.058884]):\n",
    "    base_map = folium.Map(location=default_location)\n",
    "    return base_map\n",
    "\n",
    "# download speed\n",
    "base_map = generateBaseMap()\n",
    "\n",
    "HeatMap(data=df_filtered_non_zero_providers [['Latitude', 'Longitude', 'MaxAdDown']].groupby(['Latitude', 'Longitude']).\n",
    "        mean().reset_index().values.tolist(), radius=8, max_zoom=13).add_to(base_map) \n",
    "\n",
    "base_map.save('maxaddown.html')\n",
    "\n",
    "# upload speed\n",
    "base_map = generateBaseMap()\n",
    "\n",
    "HeatMap(data=df_filtered_non_zero_providers [['Latitude', 'Longitude', 'MaxAdUp']].groupby(['Latitude', 'Longitude']).\n",
    "        mean().reset_index().values.tolist(), radius=8, max_zoom=13).add_to(base_map) \n",
    "\n",
    "base_map.save('maxadup.html')"
   ]
  },
  {
   "cell_type": "code",
   "execution_count": null,
   "id": "according-spelling",
   "metadata": {},
   "outputs": [],
   "source": []
  }
 ],
 "metadata": {
  "kernelspec": {
   "display_name": "Python 3",
   "language": "python",
   "name": "python3"
  },
  "language_info": {
   "codemirror_mode": {
    "name": "ipython",
    "version": 3
   },
   "file_extension": ".py",
   "mimetype": "text/x-python",
   "name": "python",
   "nbconvert_exporter": "python",
   "pygments_lexer": "ipython3",
   "version": "3.8.8"
  }
 },
 "nbformat": 4,
 "nbformat_minor": 5
}
