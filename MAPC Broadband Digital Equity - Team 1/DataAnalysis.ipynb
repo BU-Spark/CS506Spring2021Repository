{
 "cells": [
  {
   "cell_type": "code",
   "execution_count": null,
   "id": "english-catalyst",
   "metadata": {},
   "outputs": [],
   "source": [
    "# code block for imports \n",
    "import pandas as pd \n",
    "import numpy as np\n",
    "import sqlite3\n",
    "from sqlalchemy import create_engine\n",
    "import os\n",
    "import matplotlib.pyplot as plt\n",
    "from matplotlib.ticker import MaxNLocator\n",
    "import pandas as pd\n",
    "import folium\n",
    "from folium import plugins\n",
    "from folium.plugins import HeatMap\n",
    "import seaborn as sns"
   ]
  },
  {
   "cell_type": "code",
   "execution_count": null,
   "id": "viral-uncle",
   "metadata": {},
   "outputs": [],
   "source": [
    "conn = sqlite3.connect('cs506MAPC.db')"
   ]
  },
  {
   "cell_type": "markdown",
   "id": "threaded-orange",
   "metadata": {},
   "source": [
    "## Display first 10 Providers "
   ]
  },
  {
   "cell_type": "code",
   "execution_count": null,
   "id": "restricted-summit",
   "metadata": {},
   "outputs": [],
   "source": [
    "qrystr =\"SELECT DISTINCT t1.ProviderName,substr(t1.BlockCode,0,12) as tractNum,t1.MaxAdDown,t1.MaxAdUp, t2.town, t3.Longitude, t3.Latitude FROM FCC_DATA_T t1, censusblocks_t t2, CityLongLat_t t3 WHERE substr(t1.BlockCode,0,12) = t2.blockcode AND t2.town = t3.town ORDER BY t2.town ASC\"\n",
    "\n",
    "\n",
    "#convert query results into dataframe\n",
    "df_filtered_providers = pd.read_sql_query(qrystr, conn)\n",
    "display(df_filtered_providers.head(10))"
   ]
  },
  {
   "cell_type": "markdown",
   "id": "incorporated-grenada",
   "metadata": {},
   "source": [
    "## Non Zero Providers"
   ]
  },
  {
   "cell_type": "code",
   "execution_count": null,
   "id": "unauthorized-elder",
   "metadata": {},
   "outputs": [],
   "source": [
    "qryStr2 = \"SELECT DISTINCT t1.ProviderName,substr(t1.BlockCode,0,12) as tractNum,t1.MaxAdDown,t1.MaxAdUp, t2.town, t3.Longitude, t3.Latitude FROM FCC_DATA_T t1, censusblocks_t t2, CityLongLat_t t3 WHERE MaxAdDown != 0.0 AND MaxAdUp != 0.0 and substr(t1.BlockCode,0,12) = t2.blockcode AND t2.town = t3.town ORDER BY t2.town ASC\"\n",
    "df_filtered_non_zero_providers = pd.read_sql_query(qryStr2, conn)\n",
    "display(df_filtered_non_zero_providers.head(10))\n"
   ]
  },
  {
   "cell_type": "markdown",
   "id": "obvious-tiger",
   "metadata": {},
   "source": [
    "## Zero Providers"
   ]
  },
  {
   "cell_type": "code",
   "execution_count": null,
   "id": "local-wilderness",
   "metadata": {},
   "outputs": [],
   "source": [
    "qryStr3 = \"SELECT DISTINCT t1.ProviderName,substr(t1.BlockCode,0,12) as tractNum,t1.MaxAdDown,t1.MaxAdUp, t2.town, t3.Longitude, t3.Latitude FROM FCC_DATA_T t1, censusblocks_t t2, CityLongLat_t t3 WHERE MaxAdDown = 0 AND MaxAdUp = 0 and substr(t1.BlockCode,0,12) = t2.blockcode AND t2.town = t3.town ORDER BY t2.town ASC\"\n",
    "df_filtered_zero_providers = pd.read_sql_query(qryStr3, conn)\n",
    "display(df_filtered_zero_providers.head(10))"
   ]
  },
  {
   "cell_type": "markdown",
   "id": "agricultural-quantum",
   "metadata": {},
   "source": [
    "## Max Providers Per Area"
   ]
  },
  {
   "cell_type": "code",
   "execution_count": null,
   "id": "wrapped-desktop",
   "metadata": {
    "tags": []
   },
   "outputs": [],
   "source": [
    "town_dict = {}\n",
    "towns = df_filtered_zero_providers['town']\n",
    "providers = df_filtered_zero_providers['ProviderName']\n",
    "df_towns_providers = pd.concat([towns, providers], axis=1)\n",
    "numpy_arr = df_towns_providers.to_numpy()\n",
    "for i in range(len(numpy_arr)):\n",
    "    town_name = numpy_arr[i][0]\n",
    "    if town_name not in town_dict.keys():\n",
    "        town_dict[town_name] = [numpy_arr[i][1]]\n",
    "    elif numpy_arr[i][1] not in town_dict.get(town_name):\n",
    "        town_dict[town_name].append(numpy_arr[i][1])\n",
    "    else:\n",
    "        continue\n",
    "\n",
    "num_providers_dict = {}\n",
    "for key in town_dict.keys():\n",
    "    num_providers_dict[key] = len(town_dict.get(key))\n",
    "\n",
    "df_num_providers = pd.DataFrame(num_providers_dict.items(), columns=['Town', 'ProviderCount'])\n",
    "display(df_num_providers)"
   ]
  },
  {
   "cell_type": "markdown",
   "id": "automated-subcommittee",
   "metadata": {},
   "source": [
    "## Display top/bottom 5 areas by number of providers (& Revere, Everett, Quincy)"
   ]
  },
  {
   "cell_type": "code",
   "execution_count": null,
   "id": "numerous-boston",
   "metadata": {},
   "outputs": [],
   "source": [
    "five_most_providers = dict(sorted(num_providers_dict.items(), key=lambda item: item[1], reverse=True)[:5])\n",
    "five_least_providers = dict(sorted(num_providers_dict.items(), key=lambda item: item[1])[:5])\n",
    "everett_providers = {'EVERETT': num_providers_dict.get('EVERETT')}\n",
    "quincy_providers = {'QUINCY': num_providers_dict.get('QUINCY')}\n",
    "revere_providers = {'REVERE': num_providers_dict.get('REVERE')}\n",
    "plot_providers = {**five_most_providers, **five_least_providers, **everett_providers, **quincy_providers, **revere_providers}\n",
    "df_plot_providers = pd.DataFrame(plot_providers.items(), columns=['Town', 'ProviderCount'])\n",
    "\n",
    "y_max_tick = max(plot_providers.values())\n",
    "\n",
    "display(df_plot_providers)\n",
    "df_plot_providers.plot(x='Town', y='ProviderCount', kind='bar')\n",
    "plt.yticks(np.arange(0, y_max_tick, 2))\n",
    "plt.show()"
   ]
  },
  {
   "cell_type": "markdown",
   "id": "soviet-tooth",
   "metadata": {},
   "source": [
    "## MaxAdDown"
   ]
  },
  {
   "cell_type": "code",
   "execution_count": null,
   "id": "hairy-newsletter",
   "metadata": {},
   "outputs": [],
   "source": [
    "qryStr4 = \"SELECT DISTINCT t1.MaxAdDown, t2.town as Town FROM FCC_DATA_T t1, censusblocks_t t2, CityLongLat_t t3 WHERE MaxAdDown != 0.0 AND MaxAdUp != 0.0 and substr(t1.BlockCode,0,12) = t2.blockcode AND t2.town = t3.town GROUP BY t2.town ORDER BY MaxAdDown DESC\"\n",
    "df_filtered_max_down = pd.read_sql_query(qryStr4, conn)\n",
    "display(df_filtered_max_down.head(10))\n",
    "\n",
    "top_ten = df_filtered_max_down.nlargest(10, ['MaxAdDown'])\n",
    "bottom_ten = df_filtered_max_down.nsmallest(10, ['MaxAdDown'])\n",
    "\n",
    "top_ten.plot(x='Town', y='MaxAdDown', kind='bar', title = \"Top 10 Town Download Speeds\")\n",
    "plt.show()\n",
    "\n",
    "bottom_ten.plot(x='Town', y='MaxAdDown', kind='bar', title = \"Bottom 10 Town Download Speeds\")\n",
    "plt.show()"
   ]
  },
  {
   "cell_type": "markdown",
   "id": "relative-liabilities",
   "metadata": {},
   "source": [
    "## MaxAdUp"
   ]
  },
  {
   "cell_type": "code",
   "execution_count": null,
   "id": "shared-springer",
   "metadata": {},
   "outputs": [],
   "source": [
    "qryStr5 = \"SELECT DISTINCT t1.MaxAdUp, t2.town as Town FROM FCC_DATA_T t1, censusblocks_t t2, CityLongLat_t t3 WHERE MaxAdDown != 0.0 AND MaxAdUp != 0.0 and substr(t1.BlockCode,0,12) = t2.blockcode AND t2.town = t3.town GROUP BY t2.town ORDER BY MaxAdUp DESC\"\n",
    "df_filtered_max_up = pd.read_sql_query(qryStr5, conn)\n",
    "display(df_filtered_max_up.head(10))\n",
    "\n",
    "top_ten = df_filtered_max_up.nlargest(10, ['MaxAdUp'])\n",
    "bottom_ten = df_filtered_max_up.nsmallest(10, ['MaxAdUp'])\n",
    "\n",
    "top_ten.plot(x='Town', y='MaxAdUp', kind='bar', title = \"Top 10 Town Upload Speeds\")\n",
    "plt.show()\n",
    "\n",
    "bottom_ten.plot(x='Town', y='MaxAdUp', kind='bar', title = \"Bottom 10 Town Upload Speeds\")\n",
    "plt.show()"
   ]
  },
  {
   "cell_type": "markdown",
   "id": "impressed-measure",
   "metadata": {},
   "source": [
    "## Median Income Per Race (Census Tracks)"
   ]
  },
  {
   "cell_type": "code",
   "execution_count": null,
   "id": "satisfactory-annual",
   "metadata": {},
   "outputs": [],
   "source": [
    "qryStr6 = \"SELECT t2.Town as Town, AVG(t1.mhi) as 'Average Median Income' FROM median_income_t t1, censusblocks_t t2 WHERE t2.blockcode = t1.ct10_id and t1.mhi > 1 GROUP BY t2.Town;\"\n",
    "town_median_income  = pd.read_sql_query(qryStr6, conn)\n",
    "town_median_income"
   ]
  },
  {
   "cell_type": "code",
   "execution_count": null,
   "id": "unnecessary-convertible",
   "metadata": {},
   "outputs": [],
   "source": [
    "town_median_income.sort_values(by=['Average Median Income'])\n",
    "top_five_towns = town_median_income.nlargest(5, ['Average Median Income'])\n",
    "bottom_five_towns = town_median_income.nsmallest(5, ['Average Median Income'])\n",
    "revere = town_median_income.loc[town_median_income['Town'] == 'REVERE']\n",
    "quincy = town_median_income.loc[town_median_income['Town'] == 'QUINCY']\n",
    "everett = town_median_income.loc[town_median_income['Town'] == 'EVERETT']\n",
    "combined_median_income_df = pd.concat([top_five_towns, bottom_five_towns, revere, quincy, everett], axis=0)\n",
    "combined_median_income_df = combined_median_income_df.reset_index(drop=True)\n",
    "combined_median_income_df"
   ]
  },
  {
   "cell_type": "code",
   "execution_count": null,
   "id": "killing-entrance",
   "metadata": {},
   "outputs": [],
   "source": [
    "combined_median_income_df.plot(x='Town', y='Average Median Income', kind='bar') \n",
    "plt.show()"
   ]
  },
  {
   "cell_type": "code",
   "execution_count": null,
   "id": "artistic-patrol",
   "metadata": {},
   "outputs": [],
   "source": [
    "qryStr7 = \"SELECT t2.Town as Town, ROUND(AVG(t1.MaxAdDown),2) as AverageMaxDown, ROUND(AVG(t1.MaxAdUp),2) as AverageMaxUp FROM fcc_data_t t1, censusblocks_t t2 WHERE substr(t1.BlockCode,0,12) = t2.blockcode GROUP BY t2.TOWN\"\n",
    "town_average_speeds  = pd.read_sql_query(qryStr7, conn)\n",
    "town_average_speeds"
   ]
  },
  {
   "cell_type": "code",
   "execution_count": null,
   "id": "weird-brook",
   "metadata": {},
   "outputs": [],
   "source": [
    "dover = town_average_speeds.loc[town_average_speeds['Town'] == 'DOVER']\n",
    "wellesley = town_average_speeds.loc[town_average_speeds['Town'] == 'WELLESLEY']\n",
    "boxford = town_average_speeds.loc[town_average_speeds['Town'] == 'BOXFORD']\n",
    "lexington = town_average_speeds.loc[town_average_speeds['Town'] == 'LEXINGTON']\n",
    "hopkinton = town_average_speeds.loc[town_average_speeds['Town'] == 'HOPKINTON']\n",
    "springfield = town_average_speeds.loc[town_average_speeds['Town'] == 'SPRINGFIELD']\n",
    "north_adams = town_average_speeds.loc[town_average_speeds['Town'] == 'NORTH ADAMS']\n",
    "lawrence = town_average_speeds.loc[town_average_speeds['Town'] == 'LAWRENCE']\n",
    "holyoke = town_average_speeds.loc[town_average_speeds['Town'] == 'HOLYOKE']\n",
    "fall_river = town_average_speeds.loc[town_average_speeds['Town'] == 'FALL RIVER']\n",
    "revere = town_average_speeds.loc[town_average_speeds['Town'] == 'REVERE']\n",
    "quincy = town_average_speeds.loc[town_average_speeds['Town'] == 'QUINCY']\n",
    "everett = town_average_speeds.loc[town_average_speeds['Town'] == 'EVERETT']\n",
    "\n",
    "combined_average_speed_df = pd.concat([dover, wellesley, boxford, lexington, hopkinton, springfield, north_adams, lawrence, holyoke, fall_river, revere, quincy, everett], axis=0)\n",
    "combined_average_speed_df = combined_average_speed_df.reset_index(drop=True)\n",
    "combined_average_speed_df"
   ]
  },
  {
   "cell_type": "code",
   "execution_count": null,
   "id": "honey-elimination",
   "metadata": {},
   "outputs": [],
   "source": [
    "combined_average_speed_df.plot(x='Town', y='AverageMaxDown', kind='bar') \n",
    "plt.show()"
   ]
  },
  {
   "cell_type": "code",
   "execution_count": null,
   "id": "unlimited-suffering",
   "metadata": {},
   "outputs": [],
   "source": [
    "median_income_and_speed_df = combined_average_speed_df\n",
    "median_income_and_speed_df['Average Median Income'] = combined_median_income_df['Average Median Income']\n",
    "median_income_and_speed_df"
   ]
  },
  {
   "cell_type": "code",
   "execution_count": null,
   "id": "legitimate-capital",
   "metadata": {},
   "outputs": [],
   "source": [
    "ax1 = median_income_and_speed_df.plot(kind='scatter', x='Average Median Income', y='AverageMaxDown', title='Median income vs Average Max Down Speed',)    \n",
    "\n",
    "# annotate points in axis\n",
    "for idx, row in median_income_and_speed_df.iterrows():\n",
    "    ax1.annotate(row['Town'], (row['Average Median Income'], row['AverageMaxDown']))\n",
    "\n",
    "plt.show()\n"
   ]
  },
  {
   "cell_type": "code",
   "execution_count": null,
   "id": "answering-regular",
   "metadata": {},
   "outputs": [],
   "source": [
    "ax2 = median_income_and_speed_df.plot(kind='scatter', x='Average Median Income', y='AverageMaxUp', title='Median income vs Average Max Up Speed',)    \n",
    "\n",
    "# annotate points in axis\n",
    "for idx, row in median_income_and_speed_df.iterrows():\n",
    "    ax2.annotate(row['Town'], (row['Average Median Income'], row['AverageMaxUp']))\n",
    "\n",
    "plt.show()"
   ]
  },
  {
   "cell_type": "markdown",
   "id": "residential-pottery",
   "metadata": {},
   "source": [
    "## Heatmaps for Max Ad Download & Upload Speed per Area"
   ]
  },
  {
   "cell_type": "code",
   "execution_count": null,
   "id": "loved-dream",
   "metadata": {},
   "outputs": [],
   "source": [
    "def generateBaseMap(default_location=[42.360081, -71.058884]):\n",
    "    base_map = folium.Map(location=default_location)\n",
    "    return base_map\n",
    "    \n",
    "# download speed\n",
    "base_map = generateBaseMap()\n",
    "\n",
    "HeatMap(data=df_filtered_non_zero_providers [['Latitude', 'Longitude', 'MaxAdDown']].groupby(  \n",
    "['Latitude', 'Longitude']). mean().reset_index().values.tolist(), radius=8, max_zoom=13).add_to(base_map)\n",
    "base_map.save('maxaddown.html')\n",
    "\n",
    "# upload speed\n",
    "base_map = generateBaseMap()\n",
    "HeatMap(data=df_filtered_non_zero_providers [['Latitude', 'Longitude', 'MaxAdUp']].groupby(['Latitude', 'Longitude']).mean().reset_index().values.tolist(), radius=8, max_zoom=13).add_to(base_map)\n",
    "\n",
    "base_map.save('maxadup.html')"
   ]
  },
  {
   "cell_type": "markdown",
   "id": "extended-nickel",
   "metadata": {},
   "source": [
    "## Heatmap for # of Providers per Area"
   ]
  },
  {
   "cell_type": "code",
   "execution_count": null,
   "id": "productive-selection",
   "metadata": {},
   "outputs": [],
   "source": [
    "def generateBaseMap(default_location=[42.360081, -71.058884]):\n",
    "    base_map = folium.Map(location=default_location)\n",
    "    return base_map\n",
    "\n",
    "base_map = generateBaseMap()\n",
    "\n",
    "df_town_coords = df_filtered_non_zero_providers.drop_duplicates(subset=['town'])\n",
    "\n",
    "df_num_providers_coords = pd.merge(left=df_num_providers, right=df_town_coords[['town', 'Longitude', 'Latitude']], left_on='Town', right_on='town')\n",
    "\n",
    "df_num_providers_coords = df_num_providers_coords.drop(columns=['town'])\n",
    "\n",
    "HeatMap(data=df_num_providers_coords [['Latitude', 'Longitude', 'ProviderCount']].groupby(['Latitude', 'Longitude']).mean().reset_index().values.tolist(), radius=8, max_zoom=13).add_to(base_map)\n",
    "\n",
    "base_map.save('numproviders.html')"
   ]
  },
  {
   "cell_type": "markdown",
   "id": "selective-cornwall",
   "metadata": {},
   "source": [
    "## Create a csv file that maps out each town to a list of Providers"
   ]
  },
  {
   "cell_type": "code",
   "execution_count": null,
   "id": "angry-hamilton",
   "metadata": {},
   "outputs": [],
   "source": [
    "qryTownProvider = \"SELECT DISTINCT t2.town as Town, t1.ProviderName FROM FCC_DATA_T t1, censusblocks_t t2 WHERE substr(t1.BlockCode,0,12) = t2.blockcode ORDER BY t2.town ASC\"\n",
    "df_townProvider = pd.read_sql_query(qryTownProvider, conn)\n",
    "df_townProvider.to_csv(\"Town_Provider.csv\",index=False)"
   ]
  },
  {
   "cell_type": "markdown",
   "id": "derived-consolidation",
   "metadata": {},
   "source": [
    "## Scatter Plot: Number of Providers vs Average Upload/Download Speed"
   ]
  },
  {
   "cell_type": "code",
   "execution_count": null,
   "id": "retired-special",
   "metadata": {},
   "outputs": [],
   "source": [
    "df_num_providers_speeds = pd.merge(left=df_num_providers, right=town_average_speeds, left_on='Town', right_on='Town')\n",
    "\n",
    "display(df_num_providers_speeds)\n",
    "\n",
    "ax1 = df_num_providers_speeds.plot(kind='scatter', x='ProviderCount', y='AverageMaxDown', title='Number of Providers vs Average Max Down Speed',)\n",
    "\n",
    "ax2 = df_num_providers_speeds.plot(kind='scatter', x='ProviderCount', y='AverageMaxUp', title='Number of Providers vs Average Max Up Speed',)\n",
    "\n",
    "plt.show()"
   ]
  },
  {
   "cell_type": "markdown",
   "id": "academic-fight",
   "metadata": {},
   "source": [
    "## Scatter Plot: Average Median Income vs Max Advertised Up/Down Speed"
   ]
  },
  {
   "cell_type": "code",
   "execution_count": null,
   "id": "mysterious-franchise",
   "metadata": {},
   "outputs": [],
   "source": [
    "df_median_income_speeds = pd.merge(left=town_median_income, right=df_filtered_max_down, left_on='Town', right_on='Town')\n",
    "df_median_income_speeds = pd.merge(left=df_median_income_speeds, right=df_filtered_max_up, left_on='Town', right_on='Town')\n",
    "\n",
    "display(df_median_income_speeds)\n",
    "\n",
    "ax1 = df_median_income_speeds.plot(kind='scatter', x='Average Median Income', y='MaxAdDown', title='Average Median Income vs Max Ad Down Speed',)\n",
    "\n",
    "ax2 = df_median_income_speeds.plot(kind='scatter', x='Average Median Income', y='MaxAdUp', title='Average Median Income vs Max Ad Up Speed',)\n",
    "\n",
    "plt.show()"
   ]
  },
  {
   "cell_type": "markdown",
   "id": "biological-delicious",
   "metadata": {},
   "source": [
    "# % Unemployment vs Upload and Download Speeds"
   ]
  },
  {
   "cell_type": "code",
   "execution_count": null,
   "id": "fifty-compiler",
   "metadata": {},
   "outputs": [],
   "source": [
    "# qryStr6 = \"SELECT t2.Town as Town, AVG(t1.mhi) as 'Average Median Income' FROM median_income_t t1, censusblocks_t t2 WHERE t2.blockcode = t1.ct10_id and t1.mhi > 1 GROUP BY t2.Town;\"\n",
    "qryUnemployment =\"SELECT t2.town as Town, t1.unemp_p as 'Unemployment %' FROM laborforce_t t1, censusblocks_t t2 WHERE t2.blockcode = t1.ct10_id and t1.unemp > 1 GROUP BY t2.Town;\"\n",
    "unemployment_df = pd.read_sql_query(qryUnemployment, conn)\n",
    "unemployment_df = pd.merge(left = unemployment_df, right = town_average_speeds, left_on='Town', right_on='Town')\n",
    "display(unemployment_df)\n",
    "\n",
    "# plotting against Max Down and Max Up\n",
    "ax1 = unemployment_df.plot(kind='scatter', x='Unemployment %', y='AverageMaxDown', title='Percent of Unemployment vs Average Max Ad Down Speed',)\n",
    "\n",
    "ax2 = unemployment_df.plot(kind='scatter', x='Unemployment %', y='AverageMaxUp', title='Percent of Unemployment vs Average Median Income vs Average Max Ad Up Speed',)\n",
    "\n",
    "plt.show()"
   ]
  },
  {
   "cell_type": "markdown",
   "id": "decimal-glenn",
   "metadata": {},
   "source": [
    "# % Population/HouseholdSize/ No. of Families vs Upload and Download Speeds"
   ]
  },
  {
   "cell_type": "code",
   "execution_count": null,
   "id": "improved-physiology",
   "metadata": {},
   "outputs": [],
   "source": [
    "qryPopulationData = \"SELECT t2.town as Town, t1.pop as 'Population', t1.fam as 'Number of families', t1.hh as 'Number of households' FROM demographics_t t1, censusblocks_t t2 WHERE t2.blockcode = t1.ct10_id GROUP BY t2.Town;\"\n",
    "population_df = pd.read_sql_query(qryPopulationData, conn)\n",
    "population_df = pd.merge(left = population_df, right = town_average_speeds, left_on='Town', right_on='Town')\n",
    "display(population_df)\n",
    "\n",
    "# plotting against Max Down and Max Up\n",
    "ax1_1 = population_df.plot(kind='scatter', x='Population', y='AverageMaxDown', title='Population vs Average Max Ad Down Speed',)\n",
    "ax1_2 = population_df.plot(kind='scatter', x='Population', y='AverageMaxUp', title='Population vs Average Max Ad Up Speed',)\n",
    "\n",
    "ax2_1 = population_df.plot(kind='scatter', x='Number of families', y='AverageMaxDown', title='Number of families vs Average Max Ad Down Speed',)\n",
    "ax2_2 = population_df.plot(kind='scatter', x='Number of families', y='AverageMaxUp', title='Number of families vs Average Max Ad Up Speed',)\n",
    "\n",
    "ax3_1 = population_df.plot(kind='scatter', x='Number of households', y='AverageMaxDown', title='Number of households vs Average Max Ad Down Speed',)\n",
    "ax3_2 = population_df.plot(kind='scatter', x='Number of households', y='AverageMaxUp', title='Number of households vs Average Max Ad Up Speed',)\n",
    "\n",
    "plt.show()"
   ]
  }
 ],
 "metadata": {
  "kernelspec": {
   "display_name": "Python 3",
   "language": "python",
   "name": "python3"
  },
  "language_info": {
   "codemirror_mode": {
    "name": "ipython",
    "version": 3
   },
   "file_extension": ".py",
   "mimetype": "text/x-python",
   "name": "python",
   "nbconvert_exporter": "python",
   "pygments_lexer": "ipython3",
   "version": "3.8.8"
  },
  "metadata": {
   "interpreter": {
    "hash": "ac59ebe37160ed0dfa835113d9b8498d9f09ceb179beaac4002f036b9467c963"
   }
  }
 },
 "nbformat": 4,
 "nbformat_minor": 5
}
