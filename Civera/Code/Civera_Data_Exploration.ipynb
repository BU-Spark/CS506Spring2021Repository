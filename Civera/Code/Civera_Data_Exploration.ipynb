{
 "cells": [
  {
   "cell_type": "code",
   "execution_count": 2,
   "metadata": {},
   "outputs": [],
   "source": [
    "import pandas as pd\n",
    "import numpy as np\n",
    "from sklearn.cluster import KMeans\n",
    "from sklearn.feature_extraction.text import TfidfVectorizer\n",
    "from sklearn.feature_extraction.text import TfidfTransformer\n"
   ]
  },
  {
   "cell_type": "code",
   "execution_count": 2,
   "metadata": {},
   "outputs": [
    {
     "name": "stdout",
     "output_type": "stream",
     "text": [
      "4\n"
     ]
    },
    {
     "data": {
      "text/plain": [
       "0      Application filed on 04/27/2011 at Boston Muni...\n",
       "1      Appearance for Potfolio Recovery Associates, L...\n",
       "2      Supplementary process application filed; filin...\n",
       "3             HEARING SCHEDULED for 06/09/2011 10:00 AM.\n",
       "4      Return of service on complaint and summons to ...\n",
       "                             ...                        \n",
       "995    Supplementary process application filed; filin...\n",
       "996           HEARING SCHEDULED for 11/04/2010 10:00 AM.\n",
       "997    Return of service on complaint and summons to ...\n",
       "998     CONTINUED FOR PAYMENT until 03/24/2011 10:00 AM.\n",
       "999     CONTINUED FOR PAYMENT until 09/22/2011 10:00 AM.\n",
       "Name: 2, Length: 1000, dtype: object"
      ]
     },
     "execution_count": 2,
     "metadata": {},
     "output_type": "execute_result"
    }
   ],
   "source": [
    "df_aad = pd.read_csv(\"actor_action_desc.csv\", nrows=1000)\n",
    "#print(df_aad.head())\n",
    "df_aad.shape\n",
    "n = (len(pd.unique(df_aad['0'])))\n",
    "print(n)\n",
    "df_aad['2']"
   ]
  },
  {
   "cell_type": "code",
   "execution_count": 3,
   "metadata": {},
   "outputs": [
    {
     "name": "stdout",
     "output_type": "stream",
     "text": [
      "0      Plaintiff\n",
      "1      Plaintiff\n",
      "2      Plaintiff\n",
      "3          Court\n",
      "4          Court\n",
      "         ...    \n",
      "995    Plaintiff\n",
      "996        Court\n",
      "997        Court\n",
      "998        Court\n",
      "999        Court\n",
      "Name: 0, Length: 1000, dtype: object\n",
      "(1000, 2)\n",
      "             0                                                  2\n",
      "0    Plaintiff  Application filed on 04/27/2011 at Boston Muni...\n",
      "1    Plaintiff  Appearance for Potfolio Recovery Associates, L...\n",
      "2    Plaintiff  Supplementary process application filed; filin...\n",
      "3        Court         HEARING SCHEDULED for 06/09/2011 10:00 AM.\n",
      "4        Court  Return of service on complaint and summons to ...\n",
      "..         ...                                                ...\n",
      "995  Plaintiff  Supplementary process application filed; filin...\n",
      "996      Court         HEARING SCHEDULED for 11/04/2010 10:00 AM.\n",
      "997      Court  Return of service on complaint and summons to ...\n",
      "998      Court   CONTINUED FOR PAYMENT until 03/24/2011 10:00 AM.\n",
      "999      Court   CONTINUED FOR PAYMENT until 09/22/2011 10:00 AM.\n",
      "\n",
      "[1000 rows x 2 columns]\n"
     ]
    }
   ],
   "source": [
    "df = pd.read_csv(\"actor_action_desc.csv\", nrows=1000)\n",
    "# import .csv and remove unneeded columns\n",
    "\n",
    "# print(df.columns)\n",
    "# print(df.head)\n",
    "del df['1']\n",
    "\n",
    "# Removed the irrelvant column to vectorize and cluster the vectorized description.\n",
    "dataset = df.iloc[:,0:2]  \n",
    "\n",
    "print(dataset['0'])\n",
    "print(dataset.shape)\n",
    "print(dataset.iloc[:,0:2])"
   ]
  },
  {
   "cell_type": "markdown",
   "metadata": {},
   "source": [
    "TFIDF"
   ]
  },
  {
   "cell_type": "code",
   "execution_count": 12,
   "metadata": {},
   "outputs": [],
   "source": [
    "tfidf = TfidfVectorizer(min_df=5, ngram_range=(1,3))\n",
    "\n",
    "# features = tfidf.fit_transform(dataset['0'].astype('U'))\n",
    "description_vectorized = tfidf.fit_transform(dataset['2'].astype('U'))"
   ]
  },
  {
   "cell_type": "code",
   "execution_count": 13,
   "metadata": {},
   "outputs": [
    {
     "name": "stdout",
     "output_type": "stream",
     "text": [
      "Number of Samples:  1000\n",
      "K-clusters:  4\n",
      "k:  4 SSE:  834.0632240513913\n",
      "labels:  [1 1 3 3 1 3 1 0 1 1 2 1 1 1 3 3 1 3 3 2 3 3 1 3 3 3 3 3 3 3 3 1 3 3 1 1 1\n",
      " 0 2 1 1 3 3 1 1 1 1 3 1 1 0 2 1 1 1 3 3 1 1 1 1 3 1 1 0 2 1 1 1 1 3 3 1 1\n",
      " 1 3 1 1 1 1 1 1 3 0 2 1 1 3 3 1 1 1 1 3 1 1 0 2 1 1 3 3 1 3 1 1 0 2 1 1 3\n",
      " 3 1 1 1 1 3 1 1 0 1 2 1 1 3 3 1 1 1 3 1 3 1 0 2 1 1 3 3 1 3 1 1 0 2 1 1 3\n",
      " 3 1 1 1 1 0 1 2 1 1 1 3 3 1 1 1 1 3 1 1 1 0 2 1 1 3 3 1 3 1 0 2 1 1 1 3 3\n",
      " 1 1 1 1 3 1 1 1 1 0 2 1 1 1 1 3 3 1 3 1 3 1 1 0 2 1 1 3 3 1 3 1 1 0 2 1 1\n",
      " 3 3 1 3 1 1 1 1 3 1 1 1 3 2 3 1 1 1 3 3 1 1 0 2 1 1 3 3 1 1 1 3 1 1 0 1 1\n",
      " 3 2 3 1 3 1 1 1 3 1 1 3 3 1 1 1 3 1 1 3 1 1 0 1 1 3 2 3 1 1 1 1 3 3 1 1 1\n",
      " 3 1 1 0 2 1 1 1 1 3 3 1 3 1 1 0 2 1 1 3 3 1 1 0 2 1 1 3 3 1 1 1 1 3 1 1 1\n",
      " 0 1 3 2 3 3 3 1 1 1 3 3 1 3 1 1 1 3 1 3 2 3 3 1 3 1 1 1 3 3 1 3 1 1 3 1 3\n",
      " 1 1 1 3 1 1 0 3 1 0 1 3 1 3 2 1 3 3 1 3 1 1 3 1 3 1 1 1 3 1 1 0 3 1 0 1 3\n",
      " 1 3 2 1 3 3 1 1 1 0 2 1 1 3 1 1 3 1 3 0 1 1 1 1 1 2 1 1 1 3 1 3 1 3 0 1 1\n",
      " 1 3 1 1 1 1 3 1 1 1 1 1 3 1 3 1 1 3 1 1 1 1 3 1 1 3 1 2 1 1 3 1 1 1 1 3 1\n",
      " 1 3 1 3 0 1 1 3 1 1 3 0 2 1 1 3 1 1 3 1 3 1 3 0 1 3 1 1 2 1 1 3 1 1 3 1 3\n",
      " 3 1 0 1 3 1 1 3 1 1 3 1 0 1 2 1 1 3 1 1 3 1 3 0 1 1 1 1 1 1 2 1 1 3 1 1 3\n",
      " 1 3 0 1 1 1 1 1 2 1 1 3 1 1 3 3 1 0 1 1 1 1 1 2 1 1 3 1 1 3 1 3 0 1 1 1 1\n",
      " 1 1 2 1 1 3 1 1 3 1 3 0 1 1 1 1 1 2 1 1 3 1 1 3 1 3 0 1 1 3 1 1 1 1 1 3 1\n",
      " 1 1 1 3 1 1 1 1 3 1 2 1 1 3 1 3 1 3 1 3 3 1 1 3 1 1 0 2 1 3 3 1 1 1 3 1 1\n",
      " 0 3 3 1 1 3 1 2 1 3 3 1 1 1 3 1 3 1 1 3 1 1 0 2 1 1 3 1 1 3 1 1 3 1 1 3 1\n",
      " 1 1 1 0 2 1 1 3 1 1 3 1 3 1 1 1 3 1 1 3 1 1 3 1 3 1 0 1 2 1 1 3 1 1 3 1 3\n",
      " 0 1 1 1 1 1 2 1 1 3 1 1 3 1 3 0 1 1 1 1 1 2 1 1 1 1 3 1 1 3 1 3 0 1 1 1 1\n",
      " 1 2 1 1 3 1 1 3 3 1 0 1 1 1 1 1 2 1 1 3 1 1 3 1 3 0 1 1 1 1 1 1 1 1 1 2 1\n",
      " 1 3 1 1 3 1 3 0 1 1 3 1 1 3 1 1 1 2 1 1 3 1 1 3 1 3 0 1 1 3 1 1 1 3 1 3 1\n",
      " 3 1 1 3 0 2 1 1 3 1 1 3 3 1 0 1 2 1 1 1 3 1 1 3 1 3 1 3 0 1 2 1 1 3 1 1 3\n",
      " 1 3 0 1 3 1 1 1 1 1 1 1 1 1 2 1 1 1 1 3 3 1 1 0 2 1 1 3 3 1 1 1 0 2 1 3 3\n",
      " 3 1 1 0 1 1 2 1 1 3 3 1 1 1 0 2 1 1 3 3 2 1 1 3 3 1 3 3 1 0 2 1 1 3 3 1 3\n",
      " 1 0 2 1 1 1 3 3 1 1 1 0 2 1 1 3 3 1 3 1 0 2 1 1 3 3 1 1 1 0 2 1 1 3 3 1 3\n",
      " 3]\n",
      "             0                                                  2  Labels\n",
      "0    Plaintiff  Application filed on 04/27/2011 at Boston Muni...       1\n",
      "1    Plaintiff  Appearance for Potfolio Recovery Associates, L...       1\n",
      "2    Plaintiff  Supplementary process application filed; filin...       3\n",
      "3        Court         HEARING SCHEDULED for 06/09/2011 10:00 AM.       3\n",
      "4        Court  Return of service on complaint and summons to ...       1\n",
      "..         ...                                                ...     ...\n",
      "995  Plaintiff  Supplementary process application filed; filin...       3\n",
      "996      Court         HEARING SCHEDULED for 11/04/2010 10:00 AM.       3\n",
      "997      Court  Return of service on complaint and summons to ...       1\n",
      "998      Court   CONTINUED FOR PAYMENT until 03/24/2011 10:00 AM.       3\n",
      "999      Court   CONTINUED FOR PAYMENT until 09/22/2011 10:00 AM.       3\n",
      "\n",
      "[1000 rows x 3 columns]\n"
     ]
    },
    {
     "name": "stderr",
     "output_type": "stream",
     "text": [
      "<ipython-input-13-1e42ce6ff48d>:26: SettingWithCopyWarning: \n",
      "A value is trying to be set on a copy of a slice from a DataFrame.\n",
      "Try using .loc[row_indexer,col_indexer] = value instead\n",
      "\n",
      "See the caveats in the documentation: https://pandas.pydata.org/pandas-docs/stable/user_guide/indexing.html#returning-a-view-versus-a-copy\n",
      "  dataset['Labels']=labels\n"
     ]
    }
   ],
   "source": [
    "numSamples = len(dataset)\n",
    "K = 4\n",
    "\n",
    "print(\"Number of Samples: \", numSamples)\n",
    "print(\"K-clusters: \", K)\n",
    "\n",
    "\n",
    "# Create a kmeans model on our data, using k clusters.\n",
    "# Random_state helps ensure that the algorithm returns the\n",
    "# same results each time.\n",
    "kmeans_model = KMeans(n_clusters=4, init='k-means++').fit(description_vectorized) # here, can use init='K-means++' instead of random\n",
    "# How to input 2 different sized vectore above:\n",
    "\n",
    "\n",
    "# These are our fitted labels for clusters --\n",
    "# The first cluster has label 0, the second has label 1.\n",
    "labels = kmeans_model.labels_\n",
    "    \n",
    "# Sum of distances of samples to their closest cluster center\n",
    "SSE = kmeans_model.inertia_\n",
    "    \n",
    "print(\"k: \", K, \"SSE: \", SSE)\n",
    "print(\"labels: \", labels)\n",
    "\n",
    "# Add labels to dataset\n",
    "dataset['Labels']=labels\n",
    "print(dataset)\n",
    "dataset.to_csv('test_Kmeans_out2.csv')"
   ]
  },
  {
   "cell_type": "code",
   "execution_count": 33,
   "metadata": {},
   "outputs": [],
   "source": [
    "df_mia = pd.read_csv(\"actor_action_desc.csv\")"
   ]
  },
  {
   "cell_type": "code",
   "execution_count": 34,
   "metadata": {},
   "outputs": [
    {
     "data": {
      "text/plain": [
       "27892686"
      ]
     },
     "execution_count": 34,
     "metadata": {},
     "output_type": "execute_result"
    }
   ],
   "source": [
    "df_mia['1'].isnull().sum().sum()"
   ]
  },
  {
   "cell_type": "code",
   "execution_count": 72,
   "metadata": {},
   "outputs": [
    {
     "name": "stdout",
     "output_type": "stream",
     "text": [
      "27892686\n",
      "27892686\n"
     ]
    }
   ],
   "source": [
    "df_null_action = df_mia[df_mia.iloc[:, 1].isnull()]\n",
    "print(len(df_null_action))\n",
    "df_null_action.dropna()\n",
    "print(len(df_null_action))\n",
    "# print(len(df_null_action))\n",
    "# df_null_action.to_csv(\"df_null_action.csv\", index=False)"
   ]
  },
  {
   "cell_type": "code",
   "execution_count": 41,
   "metadata": {},
   "outputs": [
    {
     "data": {
      "text/plain": [
       "0       NOTICE:  Citation on Petition for Formal Adjud...\n",
       "1                       Citation Filed; Served as Ordered\n",
       "2       An Interested Person,Johanna Soris, Asst. Atto...\n",
       "3        Letters of Authority for Personal Representative\n",
       "4       NOTICE:  Citation on Petition for Formal Adjud...\n",
       "                              ...                        \n",
       "9995    MAGISTRATE TRIAL IN PROGRESS SCHEDULED TO CONT...\n",
       "9996    Magistrate trial held ( Sargent, Dennis ) (Tap...\n",
       "9997                      Will dated 1/27/87  --  3 pages\n",
       "9998           Misc Entry: Letter filed by the defendant.\n",
       "9999                  Appearance for  filed by Attorney .\n",
       "Name: 2, Length: 10000, dtype: object"
      ]
     },
     "execution_count": 41,
     "metadata": {},
     "output_type": "execute_result"
    }
   ],
   "source": [
    "df_desc_null_actions = pd.read_csv(\"df_null_action.csv\", nrows=10000)\n",
    "df_desc_null_actions['2']"
   ]
  },
  {
   "cell_type": "code",
   "execution_count": 42,
   "metadata": {},
   "outputs": [],
   "source": [
    "tfidf = TfidfVectorizer(min_df=5, ngram_range=(1,3))\n",
    "\n",
    "# features = tfidf.fit_transform(dataset['0'].astype('U'))\n",
    "description_mia_vectorized = tfidf.fit_transform(df_desc_null_actions['2'].astype('U'))"
   ]
  },
  {
   "cell_type": "code",
   "execution_count": 43,
   "metadata": {},
   "outputs": [
    {
     "data": {
      "text/plain": [
       "<10000x8354 sparse matrix of type '<class 'numpy.float64'>'\n",
       "\twith 216411 stored elements in Compressed Sparse Row format>"
      ]
     },
     "execution_count": 43,
     "metadata": {},
     "output_type": "execute_result"
    }
   ],
   "source": [
    "description_mia_vectorized"
   ]
  },
  {
   "cell_type": "code",
   "execution_count": 45,
   "metadata": {},
   "outputs": [
    {
     "name": "stdout",
     "output_type": "stream",
     "text": [
      "k:  50 SSE:  7145.5121898082125\n",
      "labels:  [36 30 18 ... 24  2  6]\n",
      "      Unnamed: 0          0   1  \\\n",
      "0           3943        NaN NaN   \n",
      "1           3945        NaN NaN   \n",
      "2           3946        NaN NaN   \n",
      "3           3949        NaN NaN   \n",
      "4           3969        NaN NaN   \n",
      "...          ...        ...  ..   \n",
      "9995       82176        NaN NaN   \n",
      "9996       82179        NaN NaN   \n",
      "9997       82195        NaN NaN   \n",
      "9998       82218  Defendant NaN   \n",
      "9999       82219  Plaintiff NaN   \n",
      "\n",
      "                                                      2  Labels  \n",
      "0     NOTICE:  Citation on Petition for Formal Adjud...      36  \n",
      "1                     Citation Filed; Served as Ordered      30  \n",
      "2     An Interested Person,Johanna Soris, Asst. Atto...      18  \n",
      "3      Letters of Authority for Personal Representative       1  \n",
      "4     NOTICE:  Citation on Petition for Formal Adjud...      36  \n",
      "...                                                 ...     ...  \n",
      "9995  MAGISTRATE TRIAL IN PROGRESS SCHEDULED TO CONT...      38  \n",
      "9996  Magistrate trial held ( Sargent, Dennis ) (Tap...      26  \n",
      "9997                    Will dated 1/27/87  --  3 pages      24  \n",
      "9998         Misc Entry: Letter filed by the defendant.       2  \n",
      "9999                Appearance for  filed by Attorney .       6  \n",
      "\n",
      "[10000 rows x 5 columns]\n"
     ]
    }
   ],
   "source": [
    "# Create a kmeans model on our data, using k clusters.\n",
    "# Random_state helps ensure that the algorithm returns the\n",
    "# same results each time.\n",
    "k = 50\n",
    "kmeans_model = KMeans(n_clusters=50, init='k-means++').fit(description_mia_vectorized) # here, can use init='K-means++' instead of random\n",
    "# How to input 2 different sized vectore above:\n",
    "\n",
    "\n",
    "# These are our fitted labels for clusters --\n",
    "# The first cluster has label 0, the second has label 1.\n",
    "labels = kmeans_model.labels_\n",
    "    \n",
    "# Sum of distances of samples to their closest cluster center\n",
    "SSE = kmeans_model.inertia_\n",
    "    \n",
    "print(\"k: \", k, \"SSE: \", SSE)\n",
    "print(\"labels: \", labels)\n",
    "\n",
    "# Add labels to dataset\n",
    "df_desc_null_actions['Labels']=labels\n",
    "print(df_desc_null_actions)\n",
    "df_desc_null_actions.to_csv('desc_mia_clusters.csv')"
   ]
  },
  {
   "cell_type": "code",
   "execution_count": 64,
   "metadata": {},
   "outputs": [
    {
     "data": {
      "text/html": [
       "<div>\n",
       "<style scoped>\n",
       "    .dataframe tbody tr th:only-of-type {\n",
       "        vertical-align: middle;\n",
       "    }\n",
       "\n",
       "    .dataframe tbody tr th {\n",
       "        vertical-align: top;\n",
       "    }\n",
       "\n",
       "    .dataframe thead th {\n",
       "        text-align: right;\n",
       "    }\n",
       "</style>\n",
       "<table border=\"1\" class=\"dataframe\">\n",
       "  <thead>\n",
       "    <tr style=\"text-align: right;\">\n",
       "      <th></th>\n",
       "      <th>2</th>\n",
       "      <th>Labels</th>\n",
       "    </tr>\n",
       "  </thead>\n",
       "  <tbody>\n",
       "    <tr>\n",
       "      <th>1675</th>\n",
       "      <td>Misc Entry: Change of Address for Defendant fr...</td>\n",
       "      <td>2</td>\n",
       "    </tr>\n",
       "    <tr>\n",
       "      <th>8691</th>\n",
       "      <td>Misc Entry: return receipt signed by Housing C...</td>\n",
       "      <td>2</td>\n",
       "    </tr>\n",
       "    <tr>\n",
       "      <th>2171</th>\n",
       "      <td>Misc Entry: On 7/10/13 Judgment vacated Plaint...</td>\n",
       "      <td>2</td>\n",
       "    </tr>\n",
       "    <tr>\n",
       "      <th>1397</th>\n",
       "      <td>Misc Entry:\\n\\nneither party present but no no...</td>\n",
       "      <td>2</td>\n",
       "    </tr>\n",
       "    <tr>\n",
       "      <th>8728</th>\n",
       "      <td>Misc Entry:\\n\\n1232 CV 309</td>\n",
       "      <td>2</td>\n",
       "    </tr>\n",
       "    <tr>\n",
       "      <th>...</th>\n",
       "      <td>...</td>\n",
       "      <td>...</td>\n",
       "    </tr>\n",
       "    <tr>\n",
       "      <th>8033</th>\n",
       "      <td>Misc Entry:  Plt.'s Mos. for Attchment by Trus...</td>\n",
       "      <td>2</td>\n",
       "    </tr>\n",
       "    <tr>\n",
       "      <th>164</th>\n",
       "      <td>Misc Entry:  Attorney Callahan forgot to have ...</td>\n",
       "      <td>2</td>\n",
       "    </tr>\n",
       "    <tr>\n",
       "      <th>954</th>\n",
       "      <td>Misc Entry: MOt to vacate default judg alld  PJM</td>\n",
       "      <td>2</td>\n",
       "    </tr>\n",
       "    <tr>\n",
       "      <th>3119</th>\n",
       "      <td>Misc Entry: Execution returned to creditors at...</td>\n",
       "      <td>2</td>\n",
       "    </tr>\n",
       "    <tr>\n",
       "      <th>5758</th>\n",
       "      <td>Misc Entry: Defendant in court on the capias o...</td>\n",
       "      <td>2</td>\n",
       "    </tr>\n",
       "  </tbody>\n",
       "</table>\n",
       "<p>643 rows × 2 columns</p>\n",
       "</div>"
      ],
      "text/plain": [
       "                                                      2  Labels\n",
       "1675  Misc Entry: Change of Address for Defendant fr...       2\n",
       "8691  Misc Entry: return receipt signed by Housing C...       2\n",
       "2171  Misc Entry: On 7/10/13 Judgment vacated Plaint...       2\n",
       "1397  Misc Entry:\\n\\nneither party present but no no...       2\n",
       "8728                         Misc Entry:\\n\\n1232 CV 309       2\n",
       "...                                                 ...     ...\n",
       "8033  Misc Entry:  Plt.'s Mos. for Attchment by Trus...       2\n",
       "164   Misc Entry:  Attorney Callahan forgot to have ...       2\n",
       "954    Misc Entry: MOt to vacate default judg alld  PJM       2\n",
       "3119  Misc Entry: Execution returned to creditors at...       2\n",
       "5758  Misc Entry: Defendant in court on the capias o...       2\n",
       "\n",
       "[643 rows x 2 columns]"
      ]
     },
     "execution_count": 64,
     "metadata": {},
     "output_type": "execute_result"
    }
   ],
   "source": [
    "# df_desc_null_actions\n",
    "df_desc_null_actions\n",
    "df_desc_null_actions.to_csv(\"desc_null_actions.csv\")\n",
    "df_desc_null_actions[df_desc_null_actions['Labels']==2]"
   ]
  }
 ],
 "metadata": {
  "kernelspec": {
   "display_name": "Python 3",
   "language": "python",
   "name": "python3"
  },
  "language_info": {
   "codemirror_mode": {
    "name": "ipython",
    "version": 3
   },
   "file_extension": ".py",
   "mimetype": "text/x-python",
   "name": "python",
   "nbconvert_exporter": "python",
   "pygments_lexer": "ipython3",
   "version": "3.8.3"
  }
 },
 "nbformat": 4,
 "nbformat_minor": 4
}
