{
 "cells": [
  {
   "cell_type": "code",
   "execution_count": 17,
   "metadata": {},
   "outputs": [],
   "source": [
    "import pandas as pd\n",
    "import numpy as np\n",
    "from sklearn.cluster import KMeans\n",
    "from sklearn.feature_extraction.text import TfidfVectorizer\n",
    "from sklearn.feature_extraction.text import TfidfTransformer\n",
    "from sklearn import metrics\n",
    "from scipy.spatial.distance import cdist\n",
    "import matplotlib.pyplot as plt\n",
    "from sklearn.decomposition import PCA\n",
    "from sklearn.preprocessing import normalize\n",
    "from sklearn.metrics import pairwise_distances"
   ]
  },
  {
   "cell_type": "code",
   "execution_count": 18,
   "metadata": {},
   "outputs": [
    {
     "data": {
      "text/plain": [
       "0       NOTICE:  Citation on Petition for Formal Adjud...\n",
       "1                       Citation Filed; Served as Ordered\n",
       "2       An Interested Person,Johanna Soris, Asst. Atto...\n",
       "3        Letters of Authority for Personal Representative\n",
       "4       NOTICE:  Citation on Petition for Formal Adjud...\n",
       "                              ...                        \n",
       "9995    MAGISTRATE TRIAL IN PROGRESS SCHEDULED TO CONT...\n",
       "9996    Magistrate trial held ( Sargent, Dennis ) (Tap...\n",
       "9997                      Will dated 1/27/87  --  3 pages\n",
       "9998           Misc Entry: Letter filed by the defendant.\n",
       "9999                  Appearance for  filed by Attorney .\n",
       "Name: 2, Length: 10000, dtype: object"
      ]
     },
     "execution_count": 18,
     "metadata": {},
     "output_type": "execute_result"
    }
   ],
   "source": [
    "df_desc_null_actions = pd.read_csv(\"df_null_action.csv\", nrows=10000)\n",
    "df_desc_null_actions['2']"
   ]
  },
  {
   "cell_type": "code",
   "execution_count": 19,
   "metadata": {},
   "outputs": [],
   "source": [
    "tfidf = TfidfVectorizer(min_df=5, ngram_range=(1,3))\n",
    "\n",
    "# features = tfidf.fit_transform(dataset['0'].astype('U'))\n",
    "description_mia_vectorized = tfidf.fit_transform(df_desc_null_actions['2'].astype('U'))\n",
    "tf_idf_norm = normalize(description_mia_vectorized)\n",
    "tf_idf_array = tf_idf_norm.toarray()"
   ]
  },
  {
   "cell_type": "code",
   "execution_count": 24,
   "metadata": {},
   "outputs": [
    {
     "data": {
      "image/png": "[encoded data removed]",
      "text/plain": [
       "<Figure size 432x288 with 1 Axes>"
      ]
     },
     "metadata": {
      "needs_background": "light"
     },
     "output_type": "display_data"
    }
   ],
   "source": [
    "#KMeans in a range of 1 - 60 for number of clusters.\n",
    "number_clusters = range(1, 60)\n",
    "\n",
    "kmeans = [KMeans(n_clusters=i, max_iter = 600) for i in number_clusters]\n",
    "kmeans\n",
    "\n",
    "#Y_sklearn is PCA'd data. Done in next cell.\n",
    "score = [kmeans[i].fit(Y_sklearn).score(Y_sklearn) for i in range(len(kmeans))]\n",
    "score\n",
    "\n",
    "plt.plot(number_clusters, score)\n",
    "plt.xlabel('Number of Clusters')\n",
    "plt.ylabel('Score')\n",
    "plt.title('Elbow Method')\n",
    "plt.show()"
   ]
  },
  {
   "cell_type": "code",
   "execution_count": 23,
   "metadata": {},
   "outputs": [
    {
     "name": "stdout",
     "output_type": "stream",
     "text": [
      "[[ 0.06585608  0.01498227]\n",
      " [ 0.96438123  0.14368244]\n",
      " [-0.01855102 -0.00304425]\n",
      " ...\n",
      " [-0.01689619 -0.01597129]\n",
      " [-0.00417619 -0.03932441]\n",
      " [ 0.00548694 -0.0297067 ]]\n"
     ]
    }
   ],
   "source": [
    "# Decomposing the tfiff array into two dimensions\n",
    "\n",
    "sklearn_pca = PCA(n_components = 2)\n",
    "Y_sklearn = sklearn_pca.fit_transform(tf_idf_array)\n",
    "\n",
    "## Some nebulous error below:\n",
    "# test_e = kmeans(3, 1, 600)\n",
    "# fitted = test_e.fit_kmeans(Y_sklearn)\n",
    "# predicted_values = test_e.predict(Y_sklearn)\n",
    "\n",
    "# plt.scatter(Y_sklearn[:, 0], Y_sklearn[:, 1], c=predicted_values, s=50, cmap='viridis')\n",
    "\n",
    "# centers = fitted.centroids\n",
    "# plt.scatter(centers[:, 0], centers[:, 1],c='black', s=300, alpha=0.6);"
   ]
  }
 ],
 "metadata": {
  "kernelspec": {
   "display_name": "Python 3",
   "language": "python",
   "name": "python3"
  },
  "language_info": {
   "codemirror_mode": {
    "name": "ipython",
    "version": 3
   },
   "file_extension": ".py",
   "mimetype": "text/x-python",
   "name": "python",
   "nbconvert_exporter": "python",
   "pygments_lexer": "ipython3",
   "version": "3.8.3"
  }
 },
 "nbformat": 4,
 "nbformat_minor": 4
}
