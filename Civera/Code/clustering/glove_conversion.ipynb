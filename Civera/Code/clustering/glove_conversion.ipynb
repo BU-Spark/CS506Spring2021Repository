{
 "cells": [
  {
   "cell_type": "code",
   "execution_count": 8,
   "metadata": {},
   "outputs": [],
   "source": [
    "import numpy as np\n",
    "import bcolz\n",
    "import pickle"
   ]
  },
  {
   "cell_type": "code",
   "execution_count": 4,
   "metadata": {},
   "outputs": [],
   "source": [
    "words = []\n",
    "idx = 0\n",
    "word2idx = {}\n",
    "vectors = bcolz.carray(np.zeros(1), rootdir='./glove.6B.50d.dat', mode='w')\n",
    "\n",
    "with open('./glove.6B/glove.6B.50d.txt', 'rb') as f:\n",
    "    for l in f:\n",
    "        line = l.decode().split()\n",
    "        word = line[0]\n",
    "        words.append(word)\n",
    "        word2idx[word] = idx\n",
    "        idx += 1\n",
    "        vect = np.array(line[1:]).astype(np.float)\n",
    "        vectors.append(vect)\n",
    "    \n"
   ]
  },
  {
   "cell_type": "code",
   "execution_count": 12,
   "metadata": {},
   "outputs": [],
   "source": [
    "vectors = bcolz.carray(vectors[1:].reshape((len(word2idx), 50)), rootdir='./glove.6B.50d.dat', mode='w')\n",
    "vectors.flush()\n",
    "pickle.dump(words, open('./glove.6B.50d_words.pkl', 'wb'))\n",
    "pickle.dump(word2idx, open('./glove.6B.50d_idx.pkl', 'wb'))"
   ]
  },
  {
   "cell_type": "code",
   "execution_count": 15,
   "metadata": {},
   "outputs": [],
   "source": [
    "vectors = bcolz.open('./glove.6B.50d.dat')[:]\n",
    "words = pickle.load(open('./glove.6B.50d_words.pkl', 'rb'))\n",
    "word2idx = pickle.load(open('./glove.6B.50d_idx.pkl', 'rb'))\n",
    "\n",
    "glove = {w: vectors[word2idx[w]] for w in words}"
   ]
  },
  {
   "cell_type": "code",
   "execution_count": 17,
   "metadata": {},
   "outputs": [
    {
     "data": {
      "text/plain": [
       "array([-0.018111, -0.48998 ,  0.039832,  1.223   , -0.064751,  0.97506 ,\n",
       "       -0.65473 ,  0.59848 ,  0.19106 , -0.46486 , -0.54645 , -0.10028 ,\n",
       "       -0.23217 , -0.55799 ,  1.0629  , -0.54729 , -1.4316  , -0.92281 ,\n",
       "        0.40787 , -0.61326 ,  0.9322  ,  0.30581 , -0.26139 , -0.39321 ,\n",
       "       -1.2954  , -1.8117  ,  0.012267, -0.49196 , -0.86876 , -0.76876 ,\n",
       "        1.7949  , -1.0667  , -0.40497 , -0.47038 , -0.19908 , -0.93827 ,\n",
       "        0.43171 , -1.1943  ,  0.63    , -0.51395 ,  0.050097,  0.053083,\n",
       "        0.25257 ,  0.67521 , -0.47057 , -0.28903 , -1.139   ,  0.21274 ,\n",
       "       -0.12432 , -0.024222])"
      ]
     },
     "execution_count": 17,
     "metadata": {},
     "output_type": "execute_result"
    }
   ],
   "source": [
    "glove['filed']"
   ]
  }
 ],
 "metadata": {
  "kernelspec": {
   "display_name": "Python 3",
   "language": "python",
   "name": "python3"
  },
  "language_info": {
   "codemirror_mode": {
    "name": "ipython",
    "version": 3
   },
   "file_extension": ".py",
   "mimetype": "text/x-python",
   "name": "python",
   "nbconvert_exporter": "python",
   "pygments_lexer": "ipython3",
   "version": "3.8.5"
  }
 },
 "nbformat": 4,
 "nbformat_minor": 4
}
