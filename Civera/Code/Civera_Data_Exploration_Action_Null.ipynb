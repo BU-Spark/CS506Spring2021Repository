{
 "cells": [
  {
   "cell_type": "code",
   "execution_count": 1,
   "metadata": {},
   "outputs": [],
   "source": [
    "import pandas as pd\n",
    "import numpy as np\n",
    "from sklearn.cluster import KMeans\n",
    "from sklearn.feature_extraction.text import TfidfVectorizer\n",
    "from sklearn.feature_extraction.text import TfidfTransformer"
   ]
  },
  {
   "cell_type": "code",
   "execution_count": 2,
   "metadata": {},
   "outputs": [
    {
     "data": {
      "text/plain": [
       "0       NOTICE:  Citation on Petition for Formal Adjud...\n",
       "1                       Citation Filed; Served as Ordered\n",
       "2       An Interested Person,Johanna Soris, Asst. Atto...\n",
       "3        Letters of Authority for Personal Representative\n",
       "4       NOTICE:  Citation on Petition for Formal Adjud...\n",
       "                              ...                        \n",
       "9995    MAGISTRATE TRIAL IN PROGRESS SCHEDULED TO CONT...\n",
       "9996    Magistrate trial held ( Sargent, Dennis ) (Tap...\n",
       "9997                      Will dated 1/27/87  --  3 pages\n",
       "9998           Misc Entry: Letter filed by the defendant.\n",
       "9999                  Appearance for  filed by Attorney .\n",
       "Name: 2, Length: 10000, dtype: object"
      ]
     },
     "execution_count": 2,
     "metadata": {},
     "output_type": "execute_result"
    }
   ],
   "source": [
    "df_desc_null_actions = pd.read_csv(\"df_null_action.csv\", nrows=10000)\n",
    "df_desc_null_actions['2']"
   ]
  },
  {
   "cell_type": "code",
   "execution_count": 3,
   "metadata": {},
   "outputs": [],
   "source": [
    "tfidf = TfidfVectorizer(min_df=5, ngram_range=(1,3))\n",
    "\n",
    "# features = tfidf.fit_transform(dataset['0'].astype('U'))\n",
    "description_mia_vectorized = tfidf.fit_transform(df_desc_null_actions['2'].astype('U'))"
   ]
  },
  {
   "cell_type": "code",
   "execution_count": 4,
   "metadata": {},
   "outputs": [
    {
     "data": {
      "text/plain": [
       "<10000x8354 sparse matrix of type '<class 'numpy.float64'>'\n",
       "\twith 216411 stored elements in Compressed Sparse Row format>"
      ]
     },
     "execution_count": 4,
     "metadata": {},
     "output_type": "execute_result"
    }
   ],
   "source": [
    "description_mia_vectorized"
   ]
  },
  {
   "cell_type": "code",
   "execution_count": 5,
   "metadata": {},
   "outputs": [
    {
     "name": "stdout",
     "output_type": "stream",
     "text": [
      "k:  50 SSE:  7114.447082469981\n",
      "labels:  [ 7  2 25 ... 24 39  4]\n",
      "      Unnamed: 0          0   1  \\\n",
      "0           3943        NaN NaN   \n",
      "1           3945        NaN NaN   \n",
      "2           3946        NaN NaN   \n",
      "3           3949        NaN NaN   \n",
      "4           3969        NaN NaN   \n",
      "...          ...        ...  ..   \n",
      "9995       82176        NaN NaN   \n",
      "9996       82179        NaN NaN   \n",
      "9997       82195        NaN NaN   \n",
      "9998       82218  Defendant NaN   \n",
      "9999       82219  Plaintiff NaN   \n",
      "\n",
      "                                                      2  Labels  \n",
      "0     NOTICE:  Citation on Petition for Formal Adjud...       7  \n",
      "1                     Citation Filed; Served as Ordered       2  \n",
      "2     An Interested Person,Johanna Soris, Asst. Atto...      25  \n",
      "3      Letters of Authority for Personal Representative       1  \n",
      "4     NOTICE:  Citation on Petition for Formal Adjud...       7  \n",
      "...                                                 ...     ...  \n",
      "9995  MAGISTRATE TRIAL IN PROGRESS SCHEDULED TO CONT...      25  \n",
      "9996  Magistrate trial held ( Sargent, Dennis ) (Tap...      20  \n",
      "9997                    Will dated 1/27/87  --  3 pages      24  \n",
      "9998         Misc Entry: Letter filed by the defendant.      39  \n",
      "9999                Appearance for  filed by Attorney .       4  \n",
      "\n",
      "[10000 rows x 5 columns]\n"
     ]
    }
   ],
   "source": [
    "# Create a kmeans model on our data, using k clusters.\n",
    "# Random_state helps ensure that the algorithm returns the\n",
    "# same results each time.\n",
    "k = 50\n",
    "kmeans_model = KMeans(n_clusters=50, init='k-means++').fit(description_mia_vectorized) # here, can use init='K-means++' instead of random\n",
    "# How to input 2 different sized vectore above:\n",
    "\n",
    "\n",
    "# These are our fitted labels for clusters --\n",
    "# The first cluster has label 0, the second has label 1.\n",
    "labels = kmeans_model.labels_\n",
    "    \n",
    "# Sum of distances of samples to their closest cluster center\n",
    "SSE = kmeans_model.inertia_\n",
    "    \n",
    "print(\"k: \", k, \"SSE: \", SSE)\n",
    "print(\"labels: \", labels)\n",
    "\n",
    "# Add labels to dataset\n",
    "df_desc_null_actions['Labels']=labels\n",
    "print(df_desc_null_actions)\n",
    "df_desc_null_actions.to_csv('desc_mia_clusters.csv')"
   ]
  }
 ],
 "metadata": {
  "kernelspec": {
   "display_name": "Python 3",
   "language": "python",
   "name": "python3"
  },
  "language_info": {
   "codemirror_mode": {
    "name": "ipython",
    "version": 3
   },
   "file_extension": ".py",
   "mimetype": "text/x-python",
   "name": "python",
   "nbconvert_exporter": "python",
   "pygments_lexer": "ipython3",
   "version": "3.8.3"
  }
 },
 "nbformat": 4,
 "nbformat_minor": 4
}
