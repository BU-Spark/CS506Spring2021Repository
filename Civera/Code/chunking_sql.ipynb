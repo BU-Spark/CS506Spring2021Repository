{
 "cells": [
  {
   "cell_type": "code",
   "execution_count": null,
   "metadata": {},
   "outputs": [],
   "source": [
    "import numpy as np\n",
    "import pandas as pd\n",
    "import mysql.connector"
   ]
  },
  {
   "cell_type": "code",
   "execution_count": null,
   "metadata": {},
   "outputs": [],
   "source": [
    "mydb = mysql.connector.connect(host='73.38.248.152', user='buspark', password='U@5p1r3!')\n",
    "\n",
    "if (mydb):\n",
    "    print(\"Connection Successful\")\n",
    "\n",
    "else:\n",
    "    print(\"Connection Unsuccessful\")\n",
    "\n",
    "mycursor = mydb.cursor()\n",
    "\n",
    "mycursor.execute(\"Show databases\")\n",
    "\n",
    "for db in mycursor:\n",
    "    print(db)"
   ]
  },
  {
   "cell_type": "code",
   "execution_count": null,
   "metadata": {},
   "outputs": [],
   "source": [
    "query = \"SELECT * FROM wp_courtdocs.cdocs_case_action_index as c_a_index \\\n",
    "                          WHERE c_a_index.action != ' ' and c_a_index.actor != ' ';\"\n",
    "chunks = []\n",
    "chunk_no =0\n",
    "num_rows_per_chunk = 100000\n",
    "for big_chunk in pd.read_sql(query,con = mydb, chunksize = num_rows_per_chunk):\n",
    "    chunks.append(big_chunk)\n",
    "    print(chunk_no)\n",
    "    chunk_no+=1"
   ]
  },
  {
   "cell_type": "code",
   "execution_count": null,
   "metadata": {},
   "outputs": [],
   "source": [
    "df_case_action = pd.concat(chunks,ignore_index=True)\n",
    "del chunks\n",
    "df_case_action.head()"
   ]
  },
  {
   "cell_type": "code",
   "execution_count": null,
   "metadata": {},
   "outputs": [],
   "source": []
  }
 ],
 "metadata": {
  "kernelspec": {
   "display_name": "Python 3",
   "language": "python",
   "name": "python3"
  },
  "language_info": {
   "codemirror_mode": {
    "name": "ipython",
    "version": 3
   },
   "file_extension": ".py",
   "mimetype": "text/x-python",
   "name": "python",
   "nbconvert_exporter": "python",
   "pygments_lexer": "ipython3",
   "version": "3.8.5"
  }
 },
 "nbformat": 4,
 "nbformat_minor": 4
}
