{
 "cells": [
  {
   "cell_type": "code",
   "execution_count": 13,
   "metadata": {},
   "outputs": [],
   "source": [
    "import pandas as pd\n",
    "import numpy as np\n",
    "from sklearn.cluster import KMeans\n",
    "from sklearn.feature_extraction.text import TfidfVectorizer\n",
    "from sklearn.feature_extraction.text import TfidfTransformer\n",
    "import matplotlib.pyplot as plt\n",
    "%matplotlib inline"
   ]
  },
  {
   "cell_type": "code",
   "execution_count": 27,
   "metadata": {},
   "outputs": [
    {
     "data": {
      "text/plain": [
       "0        NOTICE:  Citation on Petition for Formal Adjud...\n",
       "1                        Citation Filed; Served as Ordered\n",
       "2        An Interested Person,Johanna Soris, Asst. Atto...\n",
       "3         Letters of Authority for Personal Representative\n",
       "4        NOTICE:  Citation on Petition for Formal Adjud...\n",
       "                               ...                        \n",
       "29995                     Answer of Arthur Joseph Gear\\n\\n\n",
       "29996                                   Findings and Order\n",
       "29997    Judgment issued\\nFinal Judgment\\t\\t\\tFinding\\n...\n",
       "29998    8/31/10 Affidavit of SERVICE FOR D01  SHIRLEY ...\n",
       "29999    Attorney Daniels, Jr., Esq., Richard S dismiss...\n",
       "Name: 2, Length: 30000, dtype: object"
      ]
     },
     "execution_count": 27,
     "metadata": {},
     "output_type": "execute_result"
    }
   ],
   "source": [
    "df_desc_null_actions = pd.read_csv(\"df_null_action.csv\", nrows=30000)\n",
    "df_desc_null_actions['2']"
   ]
  },
  {
   "cell_type": "code",
   "execution_count": 28,
   "metadata": {},
   "outputs": [],
   "source": [
    "# Vectorize the descriptions.\n",
    "tfidf = TfidfVectorizer(min_df=5, ngram_range=(1,3))\n",
    "\n",
    "# features = tfidf.fit_transform(dataset['0'].astype('U'))\n",
    "description_mia_vectorized = tfidf.fit_transform(df_desc_null_actions['2'].astype('U'))"
   ]
  },
  {
   "cell_type": "code",
   "execution_count": 29,
   "metadata": {},
   "outputs": [
    {
     "data": {
      "text/plain": [
       "<30000x18366 sparse matrix of type '<class 'numpy.float64'>'\n",
       "\twith 771896 stored elements in Compressed Sparse Row format>"
      ]
     },
     "execution_count": 29,
     "metadata": {},
     "output_type": "execute_result"
    }
   ],
   "source": [
    "description_mia_vectorized"
   ]
  },
  {
   "cell_type": "code",
   "execution_count": 30,
   "metadata": {},
   "outputs": [],
   "source": [
    "# Create a kmeans model on our data, using k clusters. Compile a list of SSEs for each k.\n",
    "\n",
    "k_list = []\n",
    "SSE_list = []\n",
    "\n",
    "number_clusters = range(1,100)\n",
    "\n",
    "for i in number_clusters:\n",
    "    kmeans_model = KMeans(algorithm='auto', copy_x=True, init='k-means++', max_iter=300,\n",
    "                         n_clusters=i, n_init=10, random_state=None, tol=0.0001, verbose=0).fit(description_mia_vectorized)\n",
    "    SSE = kmeans_model.inertia_\n",
    "    SSE_list.append(SSE)\n",
    "    k_list.append(i)"
   ]
  },
  {
   "cell_type": "code",
   "execution_count": 26,
   "metadata": {},
   "outputs": [
    {
     "name": "stdout",
     "output_type": "stream",
     "text": [
      "[30, 35, 40, 45, 50, 55]\n"
     ]
    }
   ],
   "source": [
    "print(k_list)"
   ]
  },
  {
   "cell_type": "code",
   "execution_count": 31,
   "metadata": {},
   "outputs": [
    {
     "data": {
      "text/plain": [
       "Text(0, 0.5, '$SSE$')"
      ]
     },
     "execution_count": 31,
     "metadata": {},
     "output_type": "execute_result"
    },
    {
     "data": {
      "image/png": "[encoded data removed]",
      "text/plain": [
       "<Figure size 432x288 with 1 Axes>"
      ]
     },
     "metadata": {
      "needs_background": "light"
     },
     "output_type": "display_data"
    }
   ],
   "source": [
    "# Plot the results\n",
    "fig = plt.figure()\n",
    "ax1 = fig.add_subplot(121)\n",
    "ax1.plot(k_list, SSE_list)\n",
    "ax1.set_xlabel('$No. of Clusters$')\n",
    "ax1.set_ylabel('$SSE$')"
   ]
  }
 ],
 "metadata": {
  "kernelspec": {
   "display_name": "Python 3",
   "language": "python",
   "name": "python3"
  },
  "language_info": {
   "codemirror_mode": {
    "name": "ipython",
    "version": 3
   },
   "file_extension": ".py",
   "mimetype": "text/x-python",
   "name": "python",
   "nbconvert_exporter": "python",
   "pygments_lexer": "ipython3",
   "version": "3.8.3"
  }
 },
 "nbformat": 4,
 "nbformat_minor": 4
}
