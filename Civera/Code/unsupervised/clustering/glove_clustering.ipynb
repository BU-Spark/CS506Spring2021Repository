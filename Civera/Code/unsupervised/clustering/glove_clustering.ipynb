{
 "cells": [
  {
   "cell_type": "code",
   "execution_count": 9,
   "metadata": {},
   "outputs": [],
   "source": [
    "import numpy as np\n",
    "import pandas as pd\n",
    "import pickle\n",
    "import bcolz\n",
    "import mysql.connector\n",
    "\n",
    "from nltk import word_tokenize\n",
    "from sklearn.cluster import KMeans\n",
    "from sentence_transformers import util"
   ]
  },
  {
   "cell_type": "markdown",
   "metadata": {},
   "source": [
    "## Load Data"
   ]
  },
  {
   "cell_type": "code",
   "execution_count": 2,
   "metadata": {
    "scrolled": true
   },
   "outputs": [
    {
     "name": "stdout",
     "output_type": "stream",
     "text": [
      "0\n",
      "1\n"
     ]
    }
   ],
   "source": [
    "chunksize = 100000\n",
    "chunks = []\n",
    "chunk_no=0\n",
    "for chunk in pd.read_csv('./actor_action_desc.csv', chunksize=chunksize):\n",
    "    print(chunk_no)\n",
    "    chunks.append(chunk)\n",
    "    chunk_no+=1\n",
    "    if chunk_no==2:\n",
    "        break"
   ]
  },
  {
   "cell_type": "code",
   "execution_count": 3,
   "metadata": {},
   "outputs": [
    {
     "data": {
      "text/html": [
       "<div>\n",
       "<style scoped>\n",
       "    .dataframe tbody tr th:only-of-type {\n",
       "        vertical-align: middle;\n",
       "    }\n",
       "\n",
       "    .dataframe tbody tr th {\n",
       "        vertical-align: top;\n",
       "    }\n",
       "\n",
       "    .dataframe thead th {\n",
       "        text-align: right;\n",
       "    }\n",
       "</style>\n",
       "<table border=\"1\" class=\"dataframe\">\n",
       "  <thead>\n",
       "    <tr style=\"text-align: right;\">\n",
       "      <th></th>\n",
       "      <th>Actor</th>\n",
       "      <th>Action</th>\n",
       "      <th>Description</th>\n",
       "    </tr>\n",
       "  </thead>\n",
       "  <tbody>\n",
       "    <tr>\n",
       "      <th>0</th>\n",
       "      <td>Plaintiff</td>\n",
       "      <td>Application filed</td>\n",
       "      <td>Application filed on 04/27/2011 at Boston Muni...</td>\n",
       "    </tr>\n",
       "    <tr>\n",
       "      <th>1</th>\n",
       "      <td>Plaintiff</td>\n",
       "      <td>Appearance filed</td>\n",
       "      <td>Appearance for Potfolio Recovery Associates, L...</td>\n",
       "    </tr>\n",
       "    <tr>\n",
       "      <th>2</th>\n",
       "      <td>Plaintiff</td>\n",
       "      <td>Application filed</td>\n",
       "      <td>Supplementary process application filed; filin...</td>\n",
       "    </tr>\n",
       "    <tr>\n",
       "      <th>3</th>\n",
       "      <td>Court</td>\n",
       "      <td>Event scheduled</td>\n",
       "      <td>HEARING SCHEDULED for 06/09/2011 10:00 AM.</td>\n",
       "    </tr>\n",
       "    <tr>\n",
       "      <th>4</th>\n",
       "      <td>Court</td>\n",
       "      <td>Return of Service</td>\n",
       "      <td>Return of service on complaint and summons to ...</td>\n",
       "    </tr>\n",
       "  </tbody>\n",
       "</table>\n",
       "</div>"
      ],
      "text/plain": [
       "       Actor             Action  \\\n",
       "0  Plaintiff  Application filed   \n",
       "1  Plaintiff   Appearance filed   \n",
       "2  Plaintiff  Application filed   \n",
       "3      Court    Event scheduled   \n",
       "4      Court  Return of Service   \n",
       "\n",
       "                                         Description  \n",
       "0  Application filed on 04/27/2011 at Boston Muni...  \n",
       "1  Appearance for Potfolio Recovery Associates, L...  \n",
       "2  Supplementary process application filed; filin...  \n",
       "3         HEARING SCHEDULED for 06/09/2011 10:00 AM.  \n",
       "4  Return of service on complaint and summons to ...  "
      ]
     },
     "execution_count": 3,
     "metadata": {},
     "output_type": "execute_result"
    }
   ],
   "source": [
    "df_case_action = pd.concat(chunks,ignore_index=True)\n",
    "del chunks\n",
    "df_case_action.columns = ['Actor','Action','Description']\n",
    "df_case_action.head()"
   ]
  },
  {
   "cell_type": "code",
   "execution_count": 17,
   "metadata": {},
   "outputs": [
    {
     "data": {
      "text/html": [
       "<div>\n",
       "<style scoped>\n",
       "    .dataframe tbody tr th:only-of-type {\n",
       "        vertical-align: middle;\n",
       "    }\n",
       "\n",
       "    .dataframe tbody tr th {\n",
       "        vertical-align: top;\n",
       "    }\n",
       "\n",
       "    .dataframe thead th {\n",
       "        text-align: right;\n",
       "    }\n",
       "</style>\n",
       "<table border=\"1\" class=\"dataframe\">\n",
       "  <thead>\n",
       "    <tr style=\"text-align: right;\">\n",
       "      <th></th>\n",
       "      <th>Actor</th>\n",
       "      <th>Action</th>\n",
       "      <th>Description</th>\n",
       "    </tr>\n",
       "  </thead>\n",
       "  <tbody>\n",
       "    <tr>\n",
       "      <th>53505511</th>\n",
       "      <td>NaN</td>\n",
       "      <td>Return of Service</td>\n",
       "      <td>Return of service Summons ret. w/serv. RE: CRA...</td>\n",
       "    </tr>\n",
       "    <tr>\n",
       "      <th>53505512</th>\n",
       "      <td>NaN</td>\n",
       "      <td>Return of Service</td>\n",
       "      <td>Return of service Summons ret. w/serv. RE: NCO...</td>\n",
       "    </tr>\n",
       "    <tr>\n",
       "      <th>53505513</th>\n",
       "      <td>NaN</td>\n",
       "      <td>Return of Service</td>\n",
       "      <td>Return of service Summons ret. w/serv. RE PORT...</td>\n",
       "    </tr>\n",
       "    <tr>\n",
       "      <th>53505514</th>\n",
       "      <td>NaN</td>\n",
       "      <td>Event resulted</td>\n",
       "      <td>Event Resulted  The following event: Case Mana...</td>\n",
       "    </tr>\n",
       "    <tr>\n",
       "      <th>53505515</th>\n",
       "      <td>NaN</td>\n",
       "      <td>NaN</td>\n",
       "      <td>Motion Receiver's mot. for approval of propose...</td>\n",
       "    </tr>\n",
       "  </tbody>\n",
       "</table>\n",
       "</div>"
      ],
      "text/plain": [
       "         Actor             Action  \\\n",
       "53505511   NaN  Return of Service   \n",
       "53505512   NaN  Return of Service   \n",
       "53505513   NaN  Return of Service   \n",
       "53505514   NaN     Event resulted   \n",
       "53505515   NaN                NaN   \n",
       "\n",
       "                                                Description  \n",
       "53505511  Return of service Summons ret. w/serv. RE: CRA...  \n",
       "53505512  Return of service Summons ret. w/serv. RE: NCO...  \n",
       "53505513  Return of service Summons ret. w/serv. RE PORT...  \n",
       "53505514  Event Resulted  The following event: Case Mana...  \n",
       "53505515  Motion Receiver's mot. for approval of propose...  "
      ]
     },
     "execution_count": 17,
     "metadata": {},
     "output_type": "execute_result"
    }
   ],
   "source": [
    "df_case_action.tail()"
   ]
  },
  {
   "cell_type": "code",
   "execution_count": 16,
   "metadata": {},
   "outputs": [
    {
     "data": {
      "text/plain": [
       "0            True\n",
       "1            True\n",
       "2            True\n",
       "3            True\n",
       "4            True\n",
       "            ...  \n",
       "53505511    False\n",
       "53505512    False\n",
       "53505513    False\n",
       "53505514    False\n",
       "53505515    False\n",
       "Length: 53505516, dtype: bool"
      ]
     },
     "execution_count": 16,
     "metadata": {},
     "output_type": "execute_result"
    }
   ],
   "source": [
    "df_case_action['Actor'].notnull() & df_case_action['Action'].notnull()"
   ]
  },
  {
   "cell_type": "code",
   "execution_count": 69,
   "metadata": {},
   "outputs": [
    {
     "name": "stdout",
     "output_type": "stream",
     "text": [
      "Connection Successful\n",
      "('information_schema',)\n",
      "('civica_courtdocs',)\n",
      "('wp_courtdocs',)\n",
      "('wp_courtdocs_NORMALIZED',)\n"
     ]
    }
   ],
   "source": [
    "mydb = mysql.connector.connect(host='73.38.248.152', user='buspark', password='U@5p1r3!')\n",
    "\n",
    "if (mydb):\n",
    "    print(\"Connection Successful\")\n",
    "\n",
    "else:\n",
    "    print(\"Connection Unsuccessful\")\n",
    "\n",
    "mycursor = mydb.cursor()\n",
    "\n",
    "mycursor.execute(\"Show databases\")\n",
    "\n",
    "for db in mycursor:\n",
    "    print(db)"
   ]
  },
  {
   "cell_type": "code",
   "execution_count": 54,
   "metadata": {},
   "outputs": [],
   "source": [
    "df = pd.read_sql(\"SELECT * FROM wp_courtdocs.cdocs_case_action_index as c_a_index \\\n",
    "                          WHERE c_a_index.action != ' ' and c_a_index.actor != ' ' LIMIT 0, 100000;\"\n",
    "                          ,con = mydb)"
   ]
  },
  {
   "cell_type": "markdown",
   "metadata": {},
   "source": [
    "## Load Embeddings"
   ]
  },
  {
   "cell_type": "code",
   "execution_count": 4,
   "metadata": {},
   "outputs": [],
   "source": [
    "vectors = bcolz.open('./glove.6B.50d.dat')[:]\n",
    "words = pickle.load(open('./glove.6B.50d_words.pkl', 'rb'))\n",
    "word2idx = pickle.load(open('./glove.6B.50d_idx.pkl', 'rb'))\n",
    "\n",
    "glove = {w: vectors[word2idx[w]] for w in words}"
   ]
  },
  {
   "cell_type": "markdown",
   "metadata": {},
   "source": [
    "## Encode Sentences"
   ]
  },
  {
   "cell_type": "code",
   "execution_count": 8,
   "metadata": {},
   "outputs": [
    {
     "name": "stdout",
     "output_type": "stream",
     "text": [
      "Order-mailed\n",
      "INVETORY\n",
      "Order-mailed\n",
      "Order-mailed 11-30-2010\n",
      "Agreement-JB\n",
      "Affidavit-Kiernan Joliat\n",
      "Default-No Capias\n",
      "Order-mailed\n",
      "Order-mailed\n",
      "Order-mailed\n"
     ]
    }
   ],
   "source": [
    "text = df_case_action['Description'].astype('str').values\n",
    "text_embeddings = np.zeros((text.shape[0],50))\n",
    "for i,sentence in enumerate(text):\n",
    "    tokens = word_tokenize(sentence)\n",
    "    sentence_emb = []\n",
    "    for token in tokens:\n",
    "        try:\n",
    "            sentence_emb.append(glove[token.lower()])\n",
    "        except:\n",
    "            continue\n",
    "    if len(sentence_emb) == 0:\n",
    "        print(sentence)\n",
    "    else:\n",
    "        text_embeddings[i] = np.mean(np.array(sentence_emb),axis=0)\n",
    "    "
   ]
  },
  {
   "cell_type": "code",
   "execution_count": 11,
   "metadata": {},
   "outputs": [
    {
     "data": {
      "text/plain": [
       "(200000, 50)"
      ]
     },
     "execution_count": 11,
     "metadata": {},
     "output_type": "execute_result"
    }
   ],
   "source": [
    "text_embeddings.shape"
   ]
  },
  {
   "cell_type": "markdown",
   "metadata": {},
   "source": [
    "## Clustering"
   ]
  },
  {
   "cell_type": "code",
   "execution_count": 12,
   "metadata": {},
   "outputs": [],
   "source": [
    "def community_detection(embeddings, threshold=0.75, min_community_size=10, init_max_size=1000):\n",
    "    \"\"\"\n",
    "    Function for Fast Community Detection\n",
    "    Finds in the embeddings all communities, i.e. embeddings that are close (closer than threshold).\n",
    "    Returns only communities that are larger than min_community_size. The communities are returned\n",
    "    in decreasing order. The first element in each list is the central point in the community.\n",
    "    \"\"\"\n",
    "\n",
    "    # Compute cosine similarity scores\n",
    "    cos_scores = util.pytorch_cos_sim(embeddings, embeddings)\n",
    "\n",
    "    # Minimum size for a community\n",
    "    top_k_values, _ = cos_scores.topk(k=min_community_size, largest=True)\n",
    "\n",
    "    # Filter for rows >= min_threshold\n",
    "    extracted_communities = []\n",
    "    for i in range(len(top_k_values)):\n",
    "        if top_k_values[i][-1] >= threshold:\n",
    "            new_cluster = []\n",
    "\n",
    "            # Only check top k most similar entries\n",
    "            top_val_large, top_idx_large = cos_scores[i].topk(k=init_max_size, largest=True)\n",
    "            top_idx_large = top_idx_large.tolist()\n",
    "            top_val_large = top_val_large.tolist()\n",
    "\n",
    "            if top_val_large[-1] < threshold:\n",
    "                for idx, val in zip(top_idx_large, top_val_large):\n",
    "                    if val < threshold:\n",
    "                        break\n",
    "\n",
    "                    new_cluster.append(idx)\n",
    "            else:\n",
    "                # Iterate over all entries (slow)\n",
    "                for idx, val in enumerate(cos_scores[i].tolist()):\n",
    "                    if val >= threshold:\n",
    "                        new_cluster.append(idx)\n",
    "\n",
    "            extracted_communities.append(new_cluster)\n",
    "\n",
    "    # Largest cluster first\n",
    "    extracted_communities = sorted(extracted_communities, key=lambda x: len(x), reverse=True)\n",
    "\n",
    "    # Step 2) Remove overlapping communities\n",
    "    unique_communities = []\n",
    "    extracted_ids = set()\n",
    "\n",
    "    for community in extracted_communities:\n",
    "        add_cluster = True\n",
    "        for idx in community:\n",
    "            if idx in extracted_ids:\n",
    "                add_cluster = False\n",
    "                break\n",
    "\n",
    "        if add_cluster:\n",
    "            unique_communities.append(community)\n",
    "            for idx in community:\n",
    "                extracted_ids.add(idx)\n",
    "\n",
    "    return unique_communities"
   ]
  },
  {
   "cell_type": "code",
   "execution_count": 22,
   "metadata": {},
   "outputs": [],
   "source": [
    "clusters = community_detection(text_embeddings[:10000], min_community_size=2, threshold=0.95)"
   ]
  },
  {
   "cell_type": "code",
   "execution_count": 23,
   "metadata": {},
   "outputs": [
    {
     "data": {
      "text/plain": [
       "Event scheduled                1220\n",
       "Fee due                         597\n",
       "Event resulted                  547\n",
       "Appearance filed                412\n",
       "Judgment                        396\n",
       "                               ... \n",
       "Motion to amend judgment          1\n",
       "Deposit in Court                  1\n",
       "Amended Answer filed              1\n",
       "Arbitration                       1\n",
       "Must file to avoid judgment       1\n",
       "Name: Action, Length: 146, dtype: int64"
      ]
     },
     "execution_count": 23,
     "metadata": {},
     "output_type": "execute_result"
    }
   ],
   "source": [
    "df_case_action.iloc[:10000]['Action'].value_counts()"
   ]
  },
  {
   "cell_type": "code",
   "execution_count": 26,
   "metadata": {},
   "outputs": [],
   "source": [
    "len(clusters)\n",
    "df = df_case_action.iloc[:10000]"
   ]
  },
  {
   "cell_type": "code",
   "execution_count": 37,
   "metadata": {},
   "outputs": [
    {
     "name": "stdout",
     "output_type": "stream",
     "text": [
      "Counsel added       165\n",
      "Appearance filed      1\n",
      "Name: Action, dtype: int64\n",
      "Plaintiff     139\n",
      "Defendant      12\n",
      "Intervenor      1\n",
      "Name: Actor, dtype: int64\n"
     ]
    },
    {
     "data": {
      "text/html": [
       "<div>\n",
       "<style scoped>\n",
       "    .dataframe tbody tr th:only-of-type {\n",
       "        vertical-align: middle;\n",
       "    }\n",
       "\n",
       "    .dataframe tbody tr th {\n",
       "        vertical-align: top;\n",
       "    }\n",
       "\n",
       "    .dataframe thead th {\n",
       "        text-align: right;\n",
       "    }\n",
       "</style>\n",
       "<table border=\"1\" class=\"dataframe\">\n",
       "  <thead>\n",
       "    <tr style=\"text-align: right;\">\n",
       "      <th></th>\n",
       "      <th>Actor</th>\n",
       "      <th>Action</th>\n",
       "      <th>Description</th>\n",
       "    </tr>\n",
       "  </thead>\n",
       "  <tbody>\n",
       "    <tr>\n",
       "      <th>8850</th>\n",
       "      <td>Plaintiff</td>\n",
       "      <td>Counsel added</td>\n",
       "      <td>On this date Wed Feb 22 00:00:00 EST 2012 Wils...</td>\n",
       "    </tr>\n",
       "    <tr>\n",
       "      <th>5783</th>\n",
       "      <td>Plaintiff</td>\n",
       "      <td>Counsel added</td>\n",
       "      <td>Filed\\nOn this date Wed Jan 29 00:00:00 EST 20...</td>\n",
       "    </tr>\n",
       "    <tr>\n",
       "      <th>8705</th>\n",
       "      <td>Plaintiff</td>\n",
       "      <td>Counsel added</td>\n",
       "      <td>Filed\\nOn this date Mon Dec 17 00:00:00 EST 20...</td>\n",
       "    </tr>\n",
       "    <tr>\n",
       "      <th>8348</th>\n",
       "      <td>Plaintiff</td>\n",
       "      <td>Counsel added</td>\n",
       "      <td>Filed\\nOn this date Mon Oct 06 00:00:00 EDT 20...</td>\n",
       "    </tr>\n",
       "    <tr>\n",
       "      <th>7625</th>\n",
       "      <td>Plaintiff</td>\n",
       "      <td>Counsel added</td>\n",
       "      <td>Filed\\nOn this date Mon Oct 06 00:00:00 EDT 20...</td>\n",
       "    </tr>\n",
       "    <tr>\n",
       "      <th>...</th>\n",
       "      <td>...</td>\n",
       "      <td>...</td>\n",
       "      <td>...</td>\n",
       "    </tr>\n",
       "    <tr>\n",
       "      <th>6688</th>\n",
       "      <td>Plaintiff</td>\n",
       "      <td>Counsel added</td>\n",
       "      <td>Filed\\nOn this date Wed Feb 12 00:00:00 EST 20...</td>\n",
       "    </tr>\n",
       "    <tr>\n",
       "      <th>4133</th>\n",
       "      <td>Plaintiff</td>\n",
       "      <td>Counsel added</td>\n",
       "      <td>Filed\\nOn this date Sat Apr 12 00:00:00 EDT 20...</td>\n",
       "    </tr>\n",
       "    <tr>\n",
       "      <th>3563</th>\n",
       "      <td>Plaintiff</td>\n",
       "      <td>Counsel added</td>\n",
       "      <td>Filed\\nOn this date Mon Oct 07 00:00:00 EDT 20...</td>\n",
       "    </tr>\n",
       "    <tr>\n",
       "      <th>3550</th>\n",
       "      <td>Plaintiff</td>\n",
       "      <td>Counsel added</td>\n",
       "      <td>Filed\\nOn this date Mon Oct 07 00:00:00 EDT 20...</td>\n",
       "    </tr>\n",
       "    <tr>\n",
       "      <th>3537</th>\n",
       "      <td>Plaintiff</td>\n",
       "      <td>Counsel added</td>\n",
       "      <td>Filed\\nOn this date Mon Oct 07 00:00:00 EDT 20...</td>\n",
       "    </tr>\n",
       "  </tbody>\n",
       "</table>\n",
       "<p>168 rows × 3 columns</p>\n",
       "</div>"
      ],
      "text/plain": [
       "          Actor         Action  \\\n",
       "8850  Plaintiff  Counsel added   \n",
       "5783  Plaintiff  Counsel added   \n",
       "8705  Plaintiff  Counsel added   \n",
       "8348  Plaintiff  Counsel added   \n",
       "7625  Plaintiff  Counsel added   \n",
       "...         ...            ...   \n",
       "6688  Plaintiff  Counsel added   \n",
       "4133  Plaintiff  Counsel added   \n",
       "3563  Plaintiff  Counsel added   \n",
       "3550  Plaintiff  Counsel added   \n",
       "3537  Plaintiff  Counsel added   \n",
       "\n",
       "                                            Description  \n",
       "8850  On this date Wed Feb 22 00:00:00 EST 2012 Wils...  \n",
       "5783  Filed\\nOn this date Wed Jan 29 00:00:00 EST 20...  \n",
       "8705  Filed\\nOn this date Mon Dec 17 00:00:00 EST 20...  \n",
       "8348  Filed\\nOn this date Mon Oct 06 00:00:00 EDT 20...  \n",
       "7625  Filed\\nOn this date Mon Oct 06 00:00:00 EDT 20...  \n",
       "...                                                 ...  \n",
       "6688  Filed\\nOn this date Wed Feb 12 00:00:00 EST 20...  \n",
       "4133  Filed\\nOn this date Sat Apr 12 00:00:00 EDT 20...  \n",
       "3563  Filed\\nOn this date Mon Oct 07 00:00:00 EDT 20...  \n",
       "3550  Filed\\nOn this date Mon Oct 07 00:00:00 EDT 20...  \n",
       "3537  Filed\\nOn this date Mon Oct 07 00:00:00 EDT 20...  \n",
       "\n",
       "[168 rows x 3 columns]"
      ]
     },
     "execution_count": 37,
     "metadata": {},
     "output_type": "execute_result"
    }
   ],
   "source": [
    "print(df.iloc[clusters[5]]['Action'].value_counts())\n",
    "print(df.iloc[clusters[5]]['Actor'].value_counts())\n",
    "df.iloc[clusters[5]]"
   ]
  },
  {
   "cell_type": "code",
   "execution_count": null,
   "metadata": {},
   "outputs": [],
   "source": []
  },
  {
   "cell_type": "code",
   "execution_count": null,
   "metadata": {},
   "outputs": [],
   "source": []
  },
  {
   "cell_type": "code",
   "execution_count": 53,
   "metadata": {},
   "outputs": [
    {
     "data": {
      "text/plain": [
       "KMeans(n_clusters=161, random_state=42)"
      ]
     },
     "execution_count": 53,
     "metadata": {},
     "output_type": "execute_result"
    }
   ],
   "source": [
    "kmeans = KMeans(n_clusters = 161, init = 'k-means++', random_state = 42)\n",
    "kmeans.fit(text_embeddings)"
   ]
  },
  {
   "cell_type": "code",
   "execution_count": 38,
   "metadata": {},
   "outputs": [],
   "source": [
    "preds = kmeans.predict(text_embeddings)"
   ]
  },
  {
   "cell_type": "code",
   "execution_count": 44,
   "metadata": {
    "scrolled": true
   },
   "outputs": [
    {
     "name": "stdout",
     "output_type": "stream",
     "text": [
      "Certificate of Death\n",
      "predicted :  4\n",
      "actual :  Administrator/rix CTA\n",
      "\n",
      "\n",
      "Appointment of Agent\n",
      "predicted :  0\n",
      "actual :  Administrator/rix CTA\n",
      "\n",
      "\n",
      "Petition for Administration CTA\n",
      "predicted :  3\n",
      "actual :  Administrator/rix CTA\n",
      "\n",
      "\n",
      "Certificate of Death (Mary Lorraine Vernaglia)\n",
      "predicted :  2\n",
      "actual :  Administrator/rix CTA\n",
      "\n",
      "\n",
      "Petition for Sale of Real Estate\n",
      "predicted :  0\n",
      "actual :  Administrator/rix CTA\n",
      "\n",
      "\n",
      "Petition for Administration CTA\n",
      "predicted :  3\n",
      "actual :  Administrator/rix CTA\n",
      "\n",
      "\n",
      "Copy of Will dated 09/19/1989 3p.\n",
      "predicted :  2\n",
      "actual :  Administrator/rix CTA\n",
      "\n",
      "\n",
      "Certificate of Death\n",
      "predicted :  4\n",
      "actual :  Administrator/rix CTA\n",
      "\n",
      "\n",
      "Petition for Order of Complete Settlement\n",
      "predicted :  0\n",
      "actual :  Administrator/rix CTA\n",
      "\n",
      "\n",
      "Petition for Administration\n",
      "predicted :  3\n",
      "actual :  Administrator/rix CTA\n",
      "\n",
      "\n",
      "Certificate of Death\n",
      "predicted :  4\n",
      "actual :  Administrator/rix CTA\n",
      "\n",
      "\n",
      "Petition for Administration CTA\n",
      "predicted :  3\n",
      "actual :  Administrator/rix CTA\n",
      "\n",
      "\n",
      "Certificate of Death\n",
      "predicted :  4\n",
      "actual :  Administrator/rix CTA\n",
      "\n",
      "\n",
      "Petition for Sale of Real Estate by Temporary Administrator WWA\n",
      "predicted :  0\n",
      "actual :  Administrator/rix CTA\n",
      "\n",
      "\n",
      "Petition for Order of Complete Settlement\n",
      "predicted :  0\n",
      "actual :  Administrator/rix CTA\n",
      "\n",
      "\n",
      "Petition for Probate of Will and Appointment of Executor\n",
      "predicted :  0\n",
      "actual :  Administrator/rix CTA\n",
      "\n",
      "\n",
      "Certificate of Death\n",
      "predicted :  4\n",
      "actual :  Administrator/rix CTA\n",
      "\n",
      "\n",
      "Will\n",
      "predicted :  0\n",
      "actual :  Administrator/rix CTA\n",
      "\n",
      "\n",
      "Certificate of Death\n",
      "predicted :  4\n",
      "actual :  Administrator/rix CTA\n",
      "\n",
      "\n",
      "Bond without Sureties\n",
      "predicted :  2\n",
      "actual :  Administrator/rix CTA\n",
      "\n",
      "\n",
      "Petition for Administration CTA\n",
      "predicted :  3\n",
      "actual :  Administrator/rix CTA\n",
      "\n",
      "\n"
     ]
    }
   ],
   "source": [
    "for i in range(len(preds)):\n",
    "    print(text[i])\n",
    "    print('predicted : ',preds[i])\n",
    "    print('actual : ',df.at[i,'actor'])\n",
    "    print('\\n')\n",
    "    if i==20:\n",
    "        break"
   ]
  },
  {
   "cell_type": "code",
   "execution_count": null,
   "metadata": {},
   "outputs": [],
   "source": []
  }
 ],
 "metadata": {
  "kernelspec": {
   "display_name": "Python 3",
   "language": "python",
   "name": "python3"
  },
  "language_info": {
   "codemirror_mode": {
    "name": "ipython",
    "version": 3
   },
   "file_extension": ".py",
   "mimetype": "text/x-python",
   "name": "python",
   "nbconvert_exporter": "python",
   "pygments_lexer": "ipython3",
   "version": "3.8.5"
  }
 },
 "nbformat": 4,
 "nbformat_minor": 4
}
