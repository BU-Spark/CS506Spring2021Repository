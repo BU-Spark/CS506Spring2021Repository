{
 "cells": [
  {
   "cell_type": "code",
   "execution_count": 1,
   "metadata": {},
   "outputs": [
    {
     "name": "stderr",
     "output_type": "stream",
     "text": [
      "[NbConvertApp] Converting notebook prelim_MAPC.ipynb to html\n",
      "[NbConvertApp] Writing 616064 bytes to prelim_MAPC.html\n"
     ]
    }
   ],
   "source": [
    "!jupyter nbconvert --to html prelim_MAPC.ipynb"
   ]
  },
  {
   "cell_type": "markdown",
   "metadata": {},
   "source": [
    "## Deliverable 1 analysis for MAPC"
   ]
  },
  {
   "cell_type": "markdown",
   "metadata": {},
   "source": [
    "Some quick notes\n",
    "- MAPC is **super expansive**\n",
    "- Some datasets are harder to acquire than others (scraping?)\n",
    "- Some datasets are not there at all/some download links aren't working/No easy csv export\n",
    "- No easy way to download each dataset, might have to individually click links for each data\n",
    "- Does already have some spatial and demographic data, might be good gut checks when we get to it\n",
    "- Layer files?\n",
    "- What is the coords column?"
   ]
  },
  {
   "cell_type": "markdown",
   "metadata": {},
   "source": [
    "**What datasets are important?**\n",
    "- Food retailers\n",
    "- Emergency food providers \n",
    "    - This data can be hard to obtain in particular as there is no easy export to csv or shp. Scrape?\n",
    "- Schools\n",
    "- MBTA rapid transit and bus routes\n",
    "\n",
    "\n",
    "**What datasets can be useful later to validate our analysis?**\n",
    "- Food access index\n",
    "- Demographic data\n",
    "    - Poverty, food access indexes, race statistics\n",
    "    "
   ]
  },
  {
   "cell_type": "markdown",
   "metadata": {},
   "source": [
    "**The catagorization of the datasets are relatively easy**\n",
    "- Food retailers are under food access/maybe commercial?\n",
    "- Farmer markets are under food access\n",
    "- Schools are education\n",
    "\n",
    "**Where we might want more data**\n",
    "- Hospitals and city centers\n",
    "\n",
    "**Big questions/limitations:**\n",
    "- Is there any overlap with these datasets and the BU spark dataset? If so, what's an easy way to deal with it?\n",
    "- We should try to standardize the structure of our data to make future merging easier\n",
    "- Some of the data does not have an easy export to csv option, we will likely need to scrape the data\n"
   ]
  },
  {
   "cell_type": "markdown",
   "metadata": {},
   "source": [
    "## Next steps"
   ]
  },
  {
   "cell_type": "markdown",
   "metadata": {},
   "source": [
    "- Merging dataframes that are similar\n",
    "    - ie: Farmers/food retailers\n",
    "- Do a more thorough analysis of the BU spark dataset to see if overlap exists\n",
    "- Scrape the harder to reach datasets\n",
    "- Consider which datasets are important or not"
   ]
  },
  {
   "cell_type": "markdown",
   "metadata": {},
   "source": [
    "***"
   ]
  },
  {
   "cell_type": "markdown",
   "metadata": {},
   "source": [
    "## Code"
   ]
  },
  {
   "cell_type": "code",
   "execution_count": 2,
   "metadata": {},
   "outputs": [],
   "source": [
    "import shapefile\n",
    "import pandas as pd\n",
    "import os"
   ]
  },
  {
   "cell_type": "code",
   "execution_count": 3,
   "metadata": {},
   "outputs": [],
   "source": [
    "#https://stackoverflow.com/questions/55112771/read-shapefiles-into-dataframe\n",
    "def read_shapefile(sf_shape):\n",
    "    \"\"\"\n",
    "    Read a shapefile into a Pandas dataframe with a 'coords' \n",
    "    column holding the geometry information. This uses the pyshp\n",
    "    package\n",
    "    \"\"\"\n",
    "\n",
    "    fields = [x[0] for x in sf_shape.fields][1:]\n",
    "    records = [y[:] for y in sf_shape.records()]\n",
    "    #records = sf_shape.records()\n",
    "    shps = [s.points for s in sf_shape.shapes()]\n",
    "    df = pd.DataFrame(columns=fields, data=records)\n",
    "    df = df.assign(coords=shps)\n",
    "    return df"
   ]
  },
  {
   "cell_type": "code",
   "execution_count": 4,
   "metadata": {},
   "outputs": [
    {
     "name": "stdout",
     "output_type": "stream",
     "text": [
      "FARMERSMARKETS_PT.shp\n",
      "data/Farmers_market/FARMERSMARKETS_PT.shp\n",
      "mapc.food_retailers_2017_pt.csv\n",
      "SCHOOLS_PT.shp\n",
      "data/Schools/SCHOOLS_PT.shp\n"
     ]
    }
   ],
   "source": [
    "data = {}\n",
    "for folder in os.listdir('data'):\n",
    "    \n",
    "    for item in os.listdir('data/' + folder):\n",
    "        if('.csv' in item):\n",
    "            print(item)\n",
    "            data[item] = pd.read_csv('data/'+folder+'/' + item)\n",
    "        \n",
    "        #xml files are weird\n",
    "        elif('.shp' in item and '.xml' not in item):\n",
    "            print(item)\n",
    "            print(\"data/\" + folder + '/' + item)\n",
    "            shape = shapefile.Reader(\"data/\" + folder + '/' + item)\n",
    "            data[item] = read_shapefile(shape)"
   ]
  },
  {
   "cell_type": "code",
   "execution_count": 5,
   "metadata": {},
   "outputs": [
    {
     "name": "stdout",
     "output_type": "stream",
     "text": [
      "FARMERSMARKETS_PT.shp\n",
      "mapc.food_retailers_2017_pt.csv\n",
      "SCHOOLS_PT.shp\n"
     ]
    }
   ],
   "source": [
    "for key, value in data.items():\n",
    "    print(key)  "
   ]
  },
  {
   "cell_type": "markdown",
   "metadata": {},
   "source": [
    "### Farmer's Market"
   ]
  },
  {
   "cell_type": "code",
   "execution_count": 6,
   "metadata": {},
   "outputs": [
    {
     "name": "stderr",
     "output_type": "stream",
     "text": [
      "<ipython-input-6-924e5cca9ca7>:3: SettingWithCopyWarning: \n",
      "A value is trying to be set on a copy of a slice from a DataFrame.\n",
      "Try using .loc[row_indexer,col_indexer] = value instead\n",
      "\n",
      "See the caveats in the documentation: https://pandas.pydata.org/pandas-docs/stable/user_guide/indexing.html#returning-a-view-versus-a-copy\n",
      "  df['buisness_type'] = 'Food access'\n"
     ]
    }
   ],
   "source": [
    "df = data['FARMERSMARKETS_PT.shp']\n",
    "df = df[['NAME','ADDR_1','COUPONS','LONGITUDE','LATITUDE','coords','TOWN']]\n",
    "df['buisness_type'] = 'Food access'\n",
    "\n",
    "#directory = os.path.dirname(os.path.abspath('dataset_clean'))\n",
    "#os.path.join(directory,'farmers_sanitized.csv')\n",
    "df[df['TOWN'] == 'Boston'].to_csv('farmer_sanitized.csv')"
   ]
  },
  {
   "cell_type": "markdown",
   "metadata": {},
   "source": [
    "### Food retailers"
   ]
  },
  {
   "cell_type": "code",
   "execution_count": 7,
   "metadata": {},
   "outputs": [],
   "source": [
    "df = data['mapc.food_retailers_2017_pt.csv']\n",
    "df['buisness_type'] = 'Food access'\n",
    "df = df[['name','municipal','zipcode','address','latitude','longitude','buisness_type']]\n",
    "df[df['municipal'] == 'Boston'].to_csv('food_retailers_sanitized.csv')"
   ]
  },
  {
   "cell_type": "code",
   "execution_count": 8,
   "metadata": {},
   "outputs": [
    {
     "data": {
      "text/plain": [
       "'C:\\\\Users\\\\Darren Liu\\\\Dropbox\\\\BU\\\\CS506 Comp Tools for Data Sci\\\\Final Workspace\\\\farmers_sanitized.csv'"
      ]
     },
     "execution_count": 8,
     "metadata": {},
     "output_type": "execute_result"
    }
   ],
   "source": [
    "directory = os.path.dirname(os.path.abspath('CS506Final'))\n",
    "os.path.join(directory,'farmers_sanitized.csv')"
   ]
  },
  {
   "cell_type": "markdown",
   "metadata": {},
   "source": [
    "## Schools"
   ]
  },
  {
   "cell_type": "code",
   "execution_count": 9,
   "metadata": {},
   "outputs": [
    {
     "name": "stderr",
     "output_type": "stream",
     "text": [
      "<ipython-input-9-d66f579ed3ac>:3: SettingWithCopyWarning: \n",
      "A value is trying to be set on a copy of a slice from a DataFrame.\n",
      "Try using .loc[row_indexer,col_indexer] = value instead\n",
      "\n",
      "See the caveats in the documentation: https://pandas.pydata.org/pandas-docs/stable/user_guide/indexing.html#returning-a-view-versus-a-copy\n",
      "  df['buisness_type'] = 'education'\n"
     ]
    }
   ],
   "source": [
    "df = data['SCHOOLS_PT.shp']\n",
    "df = df[df['TOWN'] == 'BOSTON']\n",
    "df['buisness_type'] = 'education'\n",
    "df[['NAME','ZIPCODE','coords','buisness_type']].to_csv('schools_sanitized.csv')"
   ]
  },
  {
   "cell_type": "markdown",
   "metadata": {},
   "source": [
    "## Don't worry about anything below this"
   ]
  },
  {
   "cell_type": "code",
   "execution_count": 10,
   "metadata": {},
   "outputs": [
    {
     "data": {
      "text/html": [
       "<div>\n",
       "<style scoped>\n",
       "    .dataframe tbody tr th:only-of-type {\n",
       "        vertical-align: middle;\n",
       "    }\n",
       "\n",
       "    .dataframe tbody tr th {\n",
       "        vertical-align: top;\n",
       "    }\n",
       "\n",
       "    .dataframe thead th {\n",
       "        text-align: right;\n",
       "    }\n",
       "</style>\n",
       "<table border=\"1\" class=\"dataframe\">\n",
       "  <thead>\n",
       "    <tr style=\"text-align: right;\">\n",
       "      <th></th>\n",
       "      <th>MARKET_ID</th>\n",
       "      <th>NAME</th>\n",
       "      <th>TYPE</th>\n",
       "      <th>ADDR_1</th>\n",
       "      <th>ADDR_2</th>\n",
       "      <th>TOWN</th>\n",
       "      <th>ZIP_CODE</th>\n",
       "      <th>DAY_TIME</th>\n",
       "      <th>DATES</th>\n",
       "      <th>UPDATE_DAT</th>\n",
       "      <th>YEAR_START</th>\n",
       "      <th>WEBSITE</th>\n",
       "      <th>EBT</th>\n",
       "      <th>WIC_CVV</th>\n",
       "      <th>COUPONS</th>\n",
       "      <th>LONGITUDE</th>\n",
       "      <th>LATITUDE</th>\n",
       "      <th>coords</th>\n",
       "    </tr>\n",
       "  </thead>\n",
       "  <tbody>\n",
       "    <tr>\n",
       "      <th>0</th>\n",
       "      <td>606.0</td>\n",
       "      <td>Sustainable Nantucket/Wednesday</td>\n",
       "      <td>Farmers Markets</td>\n",
       "      <td>113 Pleasant St.</td>\n",
       "      <td>Next to Glidden's Seafood</td>\n",
       "      <td>Nantucket</td>\n",
       "      <td>02554</td>\n",
       "      <td>Wednesday, 3:30 pm - 6:30 pm</td>\n",
       "      <td>July 6 to September 14</td>\n",
       "      <td>2016</td>\n",
       "      <td>2016</td>\n",
       "      <td>http://www.sustainablenantucket.org</td>\n",
       "      <td>EBT-SNAP Accepted</td>\n",
       "      <td></td>\n",
       "      <td>WIC &amp; Senior Coupons Accepted</td>\n",
       "      <td>-70.09361</td>\n",
       "      <td>41.27301</td>\n",
       "      <td>[[317843.0842999965, 781295.2232000008]]</td>\n",
       "    </tr>\n",
       "    <tr>\n",
       "      <th>1</th>\n",
       "      <td>607.0</td>\n",
       "      <td>Holden/Market on Main at Jed's</td>\n",
       "      <td>Farmers Markets</td>\n",
       "      <td>450 Main St.</td>\n",
       "      <td>Jed's Hardware and Garden</td>\n",
       "      <td>Holden</td>\n",
       "      <td>01520</td>\n",
       "      <td>Friday, 3:30 pm - 7:00 pm</td>\n",
       "      <td>May 20 to October 28</td>\n",
       "      <td>2016</td>\n",
       "      <td>2016</td>\n",
       "      <td></td>\n",
       "      <td></td>\n",
       "      <td></td>\n",
       "      <td></td>\n",
       "      <td>-71.83454</td>\n",
       "      <td>42.33213</td>\n",
       "      <td>[[172428.67920000106, 898013.9431999996]]</td>\n",
       "    </tr>\n",
       "    <tr>\n",
       "      <th>2</th>\n",
       "      <td>535.0</td>\n",
       "      <td>West Newton</td>\n",
       "      <td>Farmers Markets</td>\n",
       "      <td>Elm Street</td>\n",
       "      <td>off Washington Street</td>\n",
       "      <td>West Newton</td>\n",
       "      <td>02465</td>\n",
       "      <td>Saturday, 10:00 am - 2:00 pm</td>\n",
       "      <td>June 18 to October 8</td>\n",
       "      <td>2016</td>\n",
       "      <td>2014</td>\n",
       "      <td>http://www.newtonma.gov/gov/parks</td>\n",
       "      <td>EBT-SNAP Accepted</td>\n",
       "      <td></td>\n",
       "      <td>WIC &amp; Senior Coupons Accepted</td>\n",
       "      <td>-71.22932</td>\n",
       "      <td>42.34906</td>\n",
       "      <td>[[222302.31149999797, 899875.7833000012]]</td>\n",
       "    </tr>\n",
       "    <tr>\n",
       "      <th>3</th>\n",
       "      <td>538.0</td>\n",
       "      <td>Plainville</td>\n",
       "      <td>Farmers Markets</td>\n",
       "      <td>200 South Street</td>\n",
       "      <td>Old Wood School</td>\n",
       "      <td>Plainville</td>\n",
       "      <td>02762</td>\n",
       "      <td>Sunday, 10:00 am - 2:00 pm</td>\n",
       "      <td>May 25 to November 2</td>\n",
       "      <td>2015</td>\n",
       "      <td>2014</td>\n",
       "      <td>http://www.plainvillefarmersmarket.com/</td>\n",
       "      <td>EBT-SNAP Accepted</td>\n",
       "      <td></td>\n",
       "      <td>WIC &amp; Senior Coupons Accepted</td>\n",
       "      <td>-71.33843</td>\n",
       "      <td>42.00941</td>\n",
       "      <td>[[213383.81689999998, 862127.1283]]</td>\n",
       "    </tr>\n",
       "    <tr>\n",
       "      <th>4</th>\n",
       "      <td>539.0</td>\n",
       "      <td>Worcester Art Museum</td>\n",
       "      <td>Farmers Markets</td>\n",
       "      <td>Lancaster St.</td>\n",
       "      <td>Worcester Art Museum</td>\n",
       "      <td>Worcester</td>\n",
       "      <td>01609</td>\n",
       "      <td>Saturdays, 10:00 am - 1:00 pm</td>\n",
       "      <td>July 11 to August 29</td>\n",
       "      <td>2015</td>\n",
       "      <td>2014</td>\n",
       "      <td></td>\n",
       "      <td></td>\n",
       "      <td></td>\n",
       "      <td>WIC &amp; Senior Coupons Accepted</td>\n",
       "      <td>-71.80202</td>\n",
       "      <td>42.27328</td>\n",
       "      <td>[[175085.67759999633, 891467.1953999996]]</td>\n",
       "    </tr>\n",
       "    <tr>\n",
       "      <th>...</th>\n",
       "      <td>...</td>\n",
       "      <td>...</td>\n",
       "      <td>...</td>\n",
       "      <td>...</td>\n",
       "      <td>...</td>\n",
       "      <td>...</td>\n",
       "      <td>...</td>\n",
       "      <td>...</td>\n",
       "      <td>...</td>\n",
       "      <td>...</td>\n",
       "      <td>...</td>\n",
       "      <td>...</td>\n",
       "      <td>...</td>\n",
       "      <td>...</td>\n",
       "      <td>...</td>\n",
       "      <td>...</td>\n",
       "      <td>...</td>\n",
       "      <td>...</td>\n",
       "    </tr>\n",
       "    <tr>\n",
       "      <th>296</th>\n",
       "      <td>578.0</td>\n",
       "      <td>Dorchester/Carney Hospital</td>\n",
       "      <td>Winter Markets</td>\n",
       "      <td>2100 Dorchester Ave.</td>\n",
       "      <td>Carney Hospital, by Seton Building Entrance</td>\n",
       "      <td>Boston</td>\n",
       "      <td>02124</td>\n",
       "      <td>Wednesday, 8:00 am - Noon</td>\n",
       "      <td>Year- Round</td>\n",
       "      <td>2015</td>\n",
       "      <td>2015</td>\n",
       "      <td></td>\n",
       "      <td>EBT-SNAP Accepted</td>\n",
       "      <td></td>\n",
       "      <td></td>\n",
       "      <td>-71.06634</td>\n",
       "      <td>42.27898</td>\n",
       "      <td>[[235770.3096999973, 892147.1444000006]]</td>\n",
       "    </tr>\n",
       "    <tr>\n",
       "      <th>297</th>\n",
       "      <td>590.0</td>\n",
       "      <td>Mattapoisett</td>\n",
       "      <td>Farmers Markets</td>\n",
       "      <td>57 Fairhaven Rd.</td>\n",
       "      <td>Knights of Columbus Hall</td>\n",
       "      <td>Mattapoisett</td>\n",
       "      <td>02739</td>\n",
       "      <td>Wednesday, 3:00 pm - 7:00 pm</td>\n",
       "      <td>Year-Round</td>\n",
       "      <td>2015</td>\n",
       "      <td>2015</td>\n",
       "      <td></td>\n",
       "      <td></td>\n",
       "      <td></td>\n",
       "      <td>WIC &amp; Senior Coupons Accepted</td>\n",
       "      <td>-70.82973</td>\n",
       "      <td>41.65840</td>\n",
       "      <td>[[255828.3222000003, 823347.6334000006]]</td>\n",
       "    </tr>\n",
       "    <tr>\n",
       "      <th>298</th>\n",
       "      <td>591.0</td>\n",
       "      <td>Mattapoisett Winter</td>\n",
       "      <td>Winter Markets</td>\n",
       "      <td>57 Fairhaven Rd.</td>\n",
       "      <td>Knights of Columbus Hall</td>\n",
       "      <td>Mattapoisett</td>\n",
       "      <td>02739</td>\n",
       "      <td>Wednesday, 3:00 pm - 7:00 pm</td>\n",
       "      <td>Year-Round</td>\n",
       "      <td>2015</td>\n",
       "      <td>2015</td>\n",
       "      <td></td>\n",
       "      <td></td>\n",
       "      <td></td>\n",
       "      <td></td>\n",
       "      <td>-70.82973</td>\n",
       "      <td>41.65840</td>\n",
       "      <td>[[255828.3222000003, 823347.6334000006]]</td>\n",
       "    </tr>\n",
       "    <tr>\n",
       "      <th>299</th>\n",
       "      <td>592.0</td>\n",
       "      <td>Southbridge/Big Bunny</td>\n",
       "      <td>Farmers Markets</td>\n",
       "      <td>942 Main St.</td>\n",
       "      <td>Big Bunny Market</td>\n",
       "      <td>Worcester</td>\n",
       "      <td>01550</td>\n",
       "      <td>Saturday, 9:00 am - 2:00 pm</td>\n",
       "      <td>May 28 to October 8</td>\n",
       "      <td>2016</td>\n",
       "      <td>2015</td>\n",
       "      <td>http://www.facebook.com/Big-Bunny-Farmers-Mark...</td>\n",
       "      <td>EBT-SNAP Accepted</td>\n",
       "      <td></td>\n",
       "      <td>WIC &amp; Senior Coupons Accepted</td>\n",
       "      <td>-72.04777</td>\n",
       "      <td>42.08311</td>\n",
       "      <td>[[154677.76370000094, 870445.8894000016]]</td>\n",
       "    </tr>\n",
       "    <tr>\n",
       "      <th>300</th>\n",
       "      <td>593.0</td>\n",
       "      <td>Lee</td>\n",
       "      <td>Farmers Markets</td>\n",
       "      <td>West Park Street</td>\n",
       "      <td>Town Green in front of the First Congegational...</td>\n",
       "      <td>Lee</td>\n",
       "      <td>01238</td>\n",
       "      <td>Saturday, 2:00 pm - 6:00 pm</td>\n",
       "      <td>May 23 to September 26</td>\n",
       "      <td>2015</td>\n",
       "      <td>2014</td>\n",
       "      <td>http://www.leefarmersmarket.com</td>\n",
       "      <td></td>\n",
       "      <td></td>\n",
       "      <td></td>\n",
       "      <td>-73.24840</td>\n",
       "      <td>42.30528</td>\n",
       "      <td>[[55853.12600000203, 896454.9046999998]]</td>\n",
       "    </tr>\n",
       "  </tbody>\n",
       "</table>\n",
       "<p>301 rows × 18 columns</p>\n",
       "</div>"
      ],
      "text/plain": [
       "     MARKET_ID                             NAME             TYPE  \\\n",
       "0        606.0  Sustainable Nantucket/Wednesday  Farmers Markets   \n",
       "1        607.0   Holden/Market on Main at Jed's  Farmers Markets   \n",
       "2        535.0                      West Newton  Farmers Markets   \n",
       "3        538.0                       Plainville  Farmers Markets   \n",
       "4        539.0             Worcester Art Museum  Farmers Markets   \n",
       "..         ...                              ...              ...   \n",
       "296      578.0       Dorchester/Carney Hospital   Winter Markets   \n",
       "297      590.0                     Mattapoisett  Farmers Markets   \n",
       "298      591.0              Mattapoisett Winter   Winter Markets   \n",
       "299      592.0            Southbridge/Big Bunny  Farmers Markets   \n",
       "300      593.0                              Lee  Farmers Markets   \n",
       "\n",
       "                   ADDR_1                                             ADDR_2  \\\n",
       "0        113 Pleasant St.                          Next to Glidden's Seafood   \n",
       "1            450 Main St.                          Jed's Hardware and Garden   \n",
       "2              Elm Street                              off Washington Street   \n",
       "3        200 South Street                                    Old Wood School   \n",
       "4           Lancaster St.                               Worcester Art Museum   \n",
       "..                    ...                                                ...   \n",
       "296  2100 Dorchester Ave.        Carney Hospital, by Seton Building Entrance   \n",
       "297      57 Fairhaven Rd.                           Knights of Columbus Hall   \n",
       "298      57 Fairhaven Rd.                           Knights of Columbus Hall   \n",
       "299          942 Main St.                                   Big Bunny Market   \n",
       "300      West Park Street  Town Green in front of the First Congegational...   \n",
       "\n",
       "             TOWN ZIP_CODE                       DAY_TIME  \\\n",
       "0       Nantucket    02554   Wednesday, 3:30 pm - 6:30 pm   \n",
       "1          Holden    01520      Friday, 3:30 pm - 7:00 pm   \n",
       "2     West Newton    02465   Saturday, 10:00 am - 2:00 pm   \n",
       "3      Plainville    02762     Sunday, 10:00 am - 2:00 pm   \n",
       "4       Worcester    01609  Saturdays, 10:00 am - 1:00 pm   \n",
       "..            ...      ...                            ...   \n",
       "296        Boston    02124      Wednesday, 8:00 am - Noon   \n",
       "297  Mattapoisett    02739   Wednesday, 3:00 pm - 7:00 pm   \n",
       "298  Mattapoisett    02739   Wednesday, 3:00 pm - 7:00 pm   \n",
       "299     Worcester    01550    Saturday, 9:00 am - 2:00 pm   \n",
       "300           Lee    01238    Saturday, 2:00 pm - 6:00 pm   \n",
       "\n",
       "                      DATES UPDATE_DAT YEAR_START  \\\n",
       "0    July 6 to September 14       2016       2016   \n",
       "1      May 20 to October 28       2016       2016   \n",
       "2      June 18 to October 8       2016       2014   \n",
       "3      May 25 to November 2       2015       2014   \n",
       "4      July 11 to August 29       2015       2014   \n",
       "..                      ...        ...        ...   \n",
       "296             Year- Round       2015       2015   \n",
       "297              Year-Round       2015       2015   \n",
       "298              Year-Round       2015       2015   \n",
       "299     May 28 to October 8       2016       2015   \n",
       "300  May 23 to September 26       2015       2014   \n",
       "\n",
       "                                               WEBSITE                EBT  \\\n",
       "0                  http://www.sustainablenantucket.org  EBT-SNAP Accepted   \n",
       "1                                                                           \n",
       "2                    http://www.newtonma.gov/gov/parks  EBT-SNAP Accepted   \n",
       "3              http://www.plainvillefarmersmarket.com/  EBT-SNAP Accepted   \n",
       "4                                                                           \n",
       "..                                                 ...                ...   \n",
       "296                                                     EBT-SNAP Accepted   \n",
       "297                                                                         \n",
       "298                                                                         \n",
       "299  http://www.facebook.com/Big-Bunny-Farmers-Mark...  EBT-SNAP Accepted   \n",
       "300                    http://www.leefarmersmarket.com                      \n",
       "\n",
       "    WIC_CVV                        COUPONS  LONGITUDE  LATITUDE  \\\n",
       "0            WIC & Senior Coupons Accepted  -70.09361  41.27301   \n",
       "1                                           -71.83454  42.33213   \n",
       "2            WIC & Senior Coupons Accepted  -71.22932  42.34906   \n",
       "3            WIC & Senior Coupons Accepted  -71.33843  42.00941   \n",
       "4            WIC & Senior Coupons Accepted  -71.80202  42.27328   \n",
       "..      ...                            ...        ...       ...   \n",
       "296                                         -71.06634  42.27898   \n",
       "297          WIC & Senior Coupons Accepted  -70.82973  41.65840   \n",
       "298                                         -70.82973  41.65840   \n",
       "299          WIC & Senior Coupons Accepted  -72.04777  42.08311   \n",
       "300                                         -73.24840  42.30528   \n",
       "\n",
       "                                        coords  \n",
       "0     [[317843.0842999965, 781295.2232000008]]  \n",
       "1    [[172428.67920000106, 898013.9431999996]]  \n",
       "2    [[222302.31149999797, 899875.7833000012]]  \n",
       "3          [[213383.81689999998, 862127.1283]]  \n",
       "4    [[175085.67759999633, 891467.1953999996]]  \n",
       "..                                         ...  \n",
       "296   [[235770.3096999973, 892147.1444000006]]  \n",
       "297   [[255828.3222000003, 823347.6334000006]]  \n",
       "298   [[255828.3222000003, 823347.6334000006]]  \n",
       "299  [[154677.76370000094, 870445.8894000016]]  \n",
       "300   [[55853.12600000203, 896454.9046999998]]  \n",
       "\n",
       "[301 rows x 18 columns]"
      ]
     },
     "execution_count": 10,
     "metadata": {},
     "output_type": "execute_result"
    }
   ],
   "source": [
    "shape = shapefile.Reader(\"data/Farmers_market/FARMERSMARKETS_PT.shp\")\n",
    "read_shapefile(shape)"
   ]
  },
  {
   "cell_type": "code",
   "execution_count": 11,
   "metadata": {},
   "outputs": [
    {
     "ename": "ShapefileException",
     "evalue": "Unable to open C:\\Users\\Darren Liu\\Dropbox\\BU\\CS506 Comp Tools for Data Sci\\Final Workspace\\Farmers_market\\FARMERSMARKETS_PT.dbf or C:\\Users\\Darren Liu\\Dropbox\\BU\\CS506 Comp Tools for Data Sci\\Final Workspace\\Farmers_market\\FARMERSMARKETS_PT.shp.",
     "output_type": "error",
     "traceback": [
      "\u001b[1;31m---------------------------------------------------------------------------\u001b[0m",
      "\u001b[1;31mShapefileException\u001b[0m                        Traceback (most recent call last)",
      "\u001b[1;32m<ipython-input-11-7ed588bec184>\u001b[0m in \u001b[0;36m<module>\u001b[1;34m\u001b[0m\n\u001b[1;32m----> 1\u001b[1;33m \u001b[0mshape\u001b[0m \u001b[1;33m=\u001b[0m \u001b[0mshapefile\u001b[0m\u001b[1;33m.\u001b[0m\u001b[0mReader\u001b[0m\u001b[1;33m(\u001b[0m\u001b[0mos\u001b[0m\u001b[1;33m.\u001b[0m\u001b[0mpath\u001b[0m\u001b[1;33m.\u001b[0m\u001b[0mabspath\u001b[0m\u001b[1;33m(\u001b[0m\u001b[1;34m\"Farmers_market\\FARMERSMARKETS_PT.shp\"\u001b[0m\u001b[1;33m)\u001b[0m\u001b[1;33m)\u001b[0m\u001b[1;33m\u001b[0m\u001b[1;33m\u001b[0m\u001b[0m\n\u001b[0m",
      "\u001b[1;32m~\\AppData\\Local\\Programs\\Python\\Python39\\lib\\site-packages\\shapefile.py\u001b[0m in \u001b[0;36m__init__\u001b[1;34m(self, *args, **kwargs)\u001b[0m\n\u001b[0;32m    806\u001b[0m         \u001b[1;32mif\u001b[0m \u001b[0mlen\u001b[0m\u001b[1;33m(\u001b[0m\u001b[0margs\u001b[0m\u001b[1;33m)\u001b[0m \u001b[1;33m>\u001b[0m \u001b[1;36m0\u001b[0m\u001b[1;33m:\u001b[0m\u001b[1;33m\u001b[0m\u001b[1;33m\u001b[0m\u001b[0m\n\u001b[0;32m    807\u001b[0m             \u001b[1;32mif\u001b[0m \u001b[0mis_string\u001b[0m\u001b[1;33m(\u001b[0m\u001b[0margs\u001b[0m\u001b[1;33m[\u001b[0m\u001b[1;36m0\u001b[0m\u001b[1;33m]\u001b[0m\u001b[1;33m)\u001b[0m\u001b[1;33m:\u001b[0m\u001b[1;33m\u001b[0m\u001b[1;33m\u001b[0m\u001b[0m\n\u001b[1;32m--> 808\u001b[1;33m                 \u001b[0mself\u001b[0m\u001b[1;33m.\u001b[0m\u001b[0mload\u001b[0m\u001b[1;33m(\u001b[0m\u001b[0margs\u001b[0m\u001b[1;33m[\u001b[0m\u001b[1;36m0\u001b[0m\u001b[1;33m]\u001b[0m\u001b[1;33m)\u001b[0m\u001b[1;33m\u001b[0m\u001b[1;33m\u001b[0m\u001b[0m\n\u001b[0m\u001b[0;32m    809\u001b[0m                 \u001b[1;32mreturn\u001b[0m\u001b[1;33m\u001b[0m\u001b[1;33m\u001b[0m\u001b[0m\n\u001b[0;32m    810\u001b[0m         \u001b[1;31m# Otherwise, load from separate shp/shx/dbf args (must be file-like)\u001b[0m\u001b[1;33m\u001b[0m\u001b[1;33m\u001b[0m\u001b[1;33m\u001b[0m\u001b[0m\n",
      "\u001b[1;32m~\\AppData\\Local\\Programs\\Python\\Python39\\lib\\site-packages\\shapefile.py\u001b[0m in \u001b[0;36mload\u001b[1;34m(self, shapefile)\u001b[0m\n\u001b[0;32m    933\u001b[0m             \u001b[0mself\u001b[0m\u001b[1;33m.\u001b[0m\u001b[0mload_dbf\u001b[0m\u001b[1;33m(\u001b[0m\u001b[0mshapeName\u001b[0m\u001b[1;33m)\u001b[0m\u001b[1;33m\u001b[0m\u001b[1;33m\u001b[0m\u001b[0m\n\u001b[0;32m    934\u001b[0m             \u001b[1;32mif\u001b[0m \u001b[1;32mnot\u001b[0m \u001b[1;33m(\u001b[0m\u001b[0mself\u001b[0m\u001b[1;33m.\u001b[0m\u001b[0mshp\u001b[0m \u001b[1;32mor\u001b[0m \u001b[0mself\u001b[0m\u001b[1;33m.\u001b[0m\u001b[0mdbf\u001b[0m\u001b[1;33m)\u001b[0m\u001b[1;33m:\u001b[0m\u001b[1;33m\u001b[0m\u001b[1;33m\u001b[0m\u001b[0m\n\u001b[1;32m--> 935\u001b[1;33m                 \u001b[1;32mraise\u001b[0m \u001b[0mShapefileException\u001b[0m\u001b[1;33m(\u001b[0m\u001b[1;34m\"Unable to open %s.dbf or %s.shp.\"\u001b[0m \u001b[1;33m%\u001b[0m \u001b[1;33m(\u001b[0m\u001b[0mshapeName\u001b[0m\u001b[1;33m,\u001b[0m \u001b[0mshapeName\u001b[0m\u001b[1;33m)\u001b[0m\u001b[1;33m)\u001b[0m\u001b[1;33m\u001b[0m\u001b[1;33m\u001b[0m\u001b[0m\n\u001b[0m\u001b[0;32m    936\u001b[0m         \u001b[1;32mif\u001b[0m \u001b[0mself\u001b[0m\u001b[1;33m.\u001b[0m\u001b[0mshp\u001b[0m\u001b[1;33m:\u001b[0m\u001b[1;33m\u001b[0m\u001b[1;33m\u001b[0m\u001b[0m\n\u001b[0;32m    937\u001b[0m             \u001b[0mself\u001b[0m\u001b[1;33m.\u001b[0m\u001b[0m__shpHeader\u001b[0m\u001b[1;33m(\u001b[0m\u001b[1;33m)\u001b[0m\u001b[1;33m\u001b[0m\u001b[1;33m\u001b[0m\u001b[0m\n",
      "\u001b[1;31mShapefileException\u001b[0m: Unable to open C:\\Users\\Darren Liu\\Dropbox\\BU\\CS506 Comp Tools for Data Sci\\Final Workspace\\Farmers_market\\FARMERSMARKETS_PT.dbf or C:\\Users\\Darren Liu\\Dropbox\\BU\\CS506 Comp Tools for Data Sci\\Final Workspace\\Farmers_market\\FARMERSMARKETS_PT.shp."
     ]
    }
   ],
   "source": [
    "shape = shapefile.Reader(os.path.abspath(\"Farmers_market\\FARMERSMARKETS_PT.shp\"))"
   ]
  },
  {
   "cell_type": "code",
   "execution_count": null,
   "metadata": {},
   "outputs": [],
   "source": [
    "os.path.abspath(\"Farmers_market\\FARMERSMARKETS_PT.shp\")"
   ]
  },
  {
   "cell_type": "code",
   "execution_count": null,
   "metadata": {},
   "outputs": [],
   "source": [
    "open(\"Farmers_market/FARMERSMARKETS_PT.shp\")"
   ]
  },
  {
   "cell_type": "code",
   "execution_count": null,
   "metadata": {},
   "outputs": [],
   "source": []
  }
 ],
 "metadata": {
  "kernelspec": {
   "display_name": "Python 3",
   "language": "python",
   "name": "python3"
  },
  "language_info": {
   "codemirror_mode": {
    "name": "ipython",
    "version": 3
   },
   "file_extension": ".py",
   "mimetype": "text/x-python",
   "name": "python",
   "nbconvert_exporter": "python",
   "pygments_lexer": "ipython3",
   "version": "3.9.1"
  }
 },
 "nbformat": 4,
 "nbformat_minor": 2
}
