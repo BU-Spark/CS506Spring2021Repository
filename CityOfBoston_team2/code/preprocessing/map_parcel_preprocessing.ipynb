{
 "metadata": {
  "language_info": {
   "codemirror_mode": {
    "name": "ipython",
    "version": 3
   },
   "file_extension": ".py",
   "mimetype": "text/x-python",
   "name": "python",
   "nbconvert_exporter": "python",
   "pygments_lexer": "ipython3",
   "version": "3.8.2-final"
  },
  "orig_nbformat": 2,
  "kernelspec": {
   "name": "python3",
   "display_name": "Python 3.8.2 64-bit",
   "metadata": {
    "interpreter": {
     "hash": "082e9a3bcad0a290d0001e938aa60b99250c6c2ef33a923c00b70f9826caf4b7"
    }
   }
  }
 },
 "nbformat": 4,
 "nbformat_minor": 2,
 "cells": [
  {
   "cell_type": "code",
   "execution_count": 1,
   "metadata": {},
   "outputs": [],
   "source": [
    "import pandas as pd\n",
    "\n",
    "local_data_path = \"../../dataset_ignore/\"\n",
    "parcels = pd.read_csv(f\"{local_data_path}Parcels_2020.csv\")\n",
    "property_assessment = pd.read_csv(f\"{local_data_path}property-assessment.csv\")"
   ]
  },
  {
   "cell_type": "code",
   "execution_count": 3,
   "metadata": {},
   "outputs": [
    {
     "output_type": "execute_result",
     "data": {
      "text/plain": [
       "             OBJECTID   MAP_PAR_ID            LOC_ID POLY_TYPE  MAP_NO  \\\n",
       "100001000.0     71006  100001000.0  F_782457_2963624       FEE     1.0   \n",
       "100002000.0     68430  100002000.0  F_782474_2963634       FEE     1.0   \n",
       "100003000.0     71584  100003000.0  F_782492_2963642       FEE     1.0   \n",
       "100004000.0     61304  100004000.0  F_782510_2963652       FEE     1.0   \n",
       "100005000.0      6734  100005000.0  F_782539_2963640       FEE     1.0   \n",
       "\n",
       "             SOURCE  PLAN_ID  LAST_EDIT  BND_CHK NO_MATCH  ...  U_BTH_STYLE2  \\\n",
       "100001000.0  ASSESS      NaN   20191107      NaN        N  ...           NaN   \n",
       "100002000.0  ASSESS      NaN   20191107      NaN        N  ...           NaN   \n",
       "100003000.0  ASSESS      NaN   20191107      NaN        N  ...           NaN   \n",
       "100004000.0  ASSESS      NaN   20191107      NaN        N  ...           NaN   \n",
       "100005000.0  ASSESS      NaN   20191107      NaN        N  ...           NaN   \n",
       "\n",
       "             U_BTH_STYLE3  U_KITCH_TYPE  U_KITCH_STYLE  U_HEAT_TYP U_AC  \\\n",
       "100001000.0           NaN           NaN            NaN         NaN  NaN   \n",
       "100002000.0           NaN           NaN            NaN         NaN  NaN   \n",
       "100003000.0           NaN           NaN            NaN         NaN  NaN   \n",
       "100004000.0           NaN           NaN            NaN         NaN  NaN   \n",
       "100005000.0           NaN           NaN            NaN         NaN  NaN   \n",
       "\n",
       "            U_FPLACE  U_INT_FIN  U_INT_CND  U_VIEW  \n",
       "100001000.0      NaN        NaN        NaN     NaN  \n",
       "100002000.0      NaN        NaN        NaN     NaN  \n",
       "100003000.0      NaN        NaN        NaN     NaN  \n",
       "100004000.0      NaN        NaN        NaN     NaN  \n",
       "100005000.0      NaN        NaN        NaN     NaN  \n",
       "\n",
       "[5 rows x 98 columns]"
      ],
      "text/html": "<div>\n<style scoped>\n    .dataframe tbody tr th:only-of-type {\n        vertical-align: middle;\n    }\n\n    .dataframe tbody tr th {\n        vertical-align: top;\n    }\n\n    .dataframe thead th {\n        text-align: right;\n    }\n</style>\n<table border=\"1\" class=\"dataframe\">\n  <thead>\n    <tr style=\"text-align: right;\">\n      <th></th>\n      <th>OBJECTID</th>\n      <th>MAP_PAR_ID</th>\n      <th>LOC_ID</th>\n      <th>POLY_TYPE</th>\n      <th>MAP_NO</th>\n      <th>SOURCE</th>\n      <th>PLAN_ID</th>\n      <th>LAST_EDIT</th>\n      <th>BND_CHK</th>\n      <th>NO_MATCH</th>\n      <th>...</th>\n      <th>U_BTH_STYLE2</th>\n      <th>U_BTH_STYLE3</th>\n      <th>U_KITCH_TYPE</th>\n      <th>U_KITCH_STYLE</th>\n      <th>U_HEAT_TYP</th>\n      <th>U_AC</th>\n      <th>U_FPLACE</th>\n      <th>U_INT_FIN</th>\n      <th>U_INT_CND</th>\n      <th>U_VIEW</th>\n    </tr>\n  </thead>\n  <tbody>\n    <tr>\n      <th>100001000.0</th>\n      <td>71006</td>\n      <td>100001000.0</td>\n      <td>F_782457_2963624</td>\n      <td>FEE</td>\n      <td>1.0</td>\n      <td>ASSESS</td>\n      <td>NaN</td>\n      <td>20191107</td>\n      <td>NaN</td>\n      <td>N</td>\n      <td>...</td>\n      <td>NaN</td>\n      <td>NaN</td>\n      <td>NaN</td>\n      <td>NaN</td>\n      <td>NaN</td>\n      <td>NaN</td>\n      <td>NaN</td>\n      <td>NaN</td>\n      <td>NaN</td>\n      <td>NaN</td>\n    </tr>\n    <tr>\n      <th>100002000.0</th>\n      <td>68430</td>\n      <td>100002000.0</td>\n      <td>F_782474_2963634</td>\n      <td>FEE</td>\n      <td>1.0</td>\n      <td>ASSESS</td>\n      <td>NaN</td>\n      <td>20191107</td>\n      <td>NaN</td>\n      <td>N</td>\n      <td>...</td>\n      <td>NaN</td>\n      <td>NaN</td>\n      <td>NaN</td>\n      <td>NaN</td>\n      <td>NaN</td>\n      <td>NaN</td>\n      <td>NaN</td>\n      <td>NaN</td>\n      <td>NaN</td>\n      <td>NaN</td>\n    </tr>\n    <tr>\n      <th>100003000.0</th>\n      <td>71584</td>\n      <td>100003000.0</td>\n      <td>F_782492_2963642</td>\n      <td>FEE</td>\n      <td>1.0</td>\n      <td>ASSESS</td>\n      <td>NaN</td>\n      <td>20191107</td>\n      <td>NaN</td>\n      <td>N</td>\n      <td>...</td>\n      <td>NaN</td>\n      <td>NaN</td>\n      <td>NaN</td>\n      <td>NaN</td>\n      <td>NaN</td>\n      <td>NaN</td>\n      <td>NaN</td>\n      <td>NaN</td>\n      <td>NaN</td>\n      <td>NaN</td>\n    </tr>\n    <tr>\n      <th>100004000.0</th>\n      <td>61304</td>\n      <td>100004000.0</td>\n      <td>F_782510_2963652</td>\n      <td>FEE</td>\n      <td>1.0</td>\n      <td>ASSESS</td>\n      <td>NaN</td>\n      <td>20191107</td>\n      <td>NaN</td>\n      <td>N</td>\n      <td>...</td>\n      <td>NaN</td>\n      <td>NaN</td>\n      <td>NaN</td>\n      <td>NaN</td>\n      <td>NaN</td>\n      <td>NaN</td>\n      <td>NaN</td>\n      <td>NaN</td>\n      <td>NaN</td>\n      <td>NaN</td>\n    </tr>\n    <tr>\n      <th>100005000.0</th>\n      <td>6734</td>\n      <td>100005000.0</td>\n      <td>F_782539_2963640</td>\n      <td>FEE</td>\n      <td>1.0</td>\n      <td>ASSESS</td>\n      <td>NaN</td>\n      <td>20191107</td>\n      <td>NaN</td>\n      <td>N</td>\n      <td>...</td>\n      <td>NaN</td>\n      <td>NaN</td>\n      <td>NaN</td>\n      <td>NaN</td>\n      <td>NaN</td>\n      <td>NaN</td>\n      <td>NaN</td>\n      <td>NaN</td>\n      <td>NaN</td>\n      <td>NaN</td>\n    </tr>\n  </tbody>\n</table>\n<p>5 rows × 98 columns</p>\n</div>"
     },
     "metadata": {},
     "execution_count": 3
    }
   ],
   "source": [
    "# Join datasets on \"PID_LONG\" = \"PID\"\n",
    "\n",
    "map_parcel = parcels.set_index(\"PID_LONG\").join(property_assessment.set_index(\"PID\"))\n",
    "map_parcel.head()"
   ]
  },
  {
   "cell_type": "code",
   "execution_count": null,
   "metadata": {},
   "outputs": [],
   "source": []
  }
 ]
}