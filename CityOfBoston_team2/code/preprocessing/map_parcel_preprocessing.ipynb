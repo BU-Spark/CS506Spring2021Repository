{
 "metadata": {
  "language_info": {
   "codemirror_mode": {
    "name": "ipython",
    "version": 3
   },
   "file_extension": ".py",
   "mimetype": "text/x-python",
   "name": "python",
   "nbconvert_exporter": "python",
   "pygments_lexer": "ipython3",
   "version": "3.8.2-final"
  },
  "orig_nbformat": 2,
  "kernelspec": {
   "name": "python3",
   "display_name": "Python 3.8.2 64-bit",
   "metadata": {
    "interpreter": {
     "hash": "082e9a3bcad0a290d0001e938aa60b99250c6c2ef33a923c00b70f9826caf4b7"
    }
   }
  }
 },
 "nbformat": 4,
 "nbformat_minor": 2,
 "cells": [
  {
   "cell_type": "code",
   "execution_count": 1,
   "metadata": {},
   "outputs": [],
   "source": [
    "import pandas as pd\n",
    "\n",
    "local_data_path = \"../../dataset_ignore/\"\n",
    "parcels = pd.read_csv(f\"{local_data_path}Parcels_2020.csv\")\n",
    "property_assessment = pd.read_csv(f\"{local_data_path}property-assessment.csv\")"
   ]
  },
  {
   "cell_type": "code",
   "execution_count": 2,
   "metadata": {},
   "outputs": [
    {
     "output_type": "execute_result",
     "data": {
      "text/plain": [
       "             OBJECTID   MAP_PAR_ID            LOC_ID POLY_TYPE  MAP_NO  \\\n",
       "100001000.0     71006  100001000.0  F_782457_2963624       FEE     1.0   \n",
       "100002000.0     68430  100002000.0  F_782474_2963634       FEE     1.0   \n",
       "100003000.0     71584  100003000.0  F_782492_2963642       FEE     1.0   \n",
       "100004000.0     61304  100004000.0  F_782510_2963652       FEE     1.0   \n",
       "100005000.0      6734  100005000.0  F_782539_2963640       FEE     1.0   \n",
       "\n",
       "             SOURCE  PLAN_ID  LAST_EDIT  BND_CHK NO_MATCH  ...  U_BTH_STYLE2  \\\n",
       "100001000.0  ASSESS      NaN   20191107      NaN        N  ...           NaN   \n",
       "100002000.0  ASSESS      NaN   20191107      NaN        N  ...           NaN   \n",
       "100003000.0  ASSESS      NaN   20191107      NaN        N  ...           NaN   \n",
       "100004000.0  ASSESS      NaN   20191107      NaN        N  ...           NaN   \n",
       "100005000.0  ASSESS      NaN   20191107      NaN        N  ...           NaN   \n",
       "\n",
       "             U_BTH_STYLE3  U_KITCH_TYPE  U_KITCH_STYLE  U_HEAT_TYP U_AC  \\\n",
       "100001000.0           NaN           NaN            NaN         NaN  NaN   \n",
       "100002000.0           NaN           NaN            NaN         NaN  NaN   \n",
       "100003000.0           NaN           NaN            NaN         NaN  NaN   \n",
       "100004000.0           NaN           NaN            NaN         NaN  NaN   \n",
       "100005000.0           NaN           NaN            NaN         NaN  NaN   \n",
       "\n",
       "            U_FPLACE  U_INT_FIN  U_INT_CND  U_VIEW  \n",
       "100001000.0      NaN        NaN        NaN     NaN  \n",
       "100002000.0      NaN        NaN        NaN     NaN  \n",
       "100003000.0      NaN        NaN        NaN     NaN  \n",
       "100004000.0      NaN        NaN        NaN     NaN  \n",
       "100005000.0      NaN        NaN        NaN     NaN  \n",
       "\n",
       "[5 rows x 98 columns]"
      ],
      "text/html": "<div>\n<style scoped>\n    .dataframe tbody tr th:only-of-type {\n        vertical-align: middle;\n    }\n\n    .dataframe tbody tr th {\n        vertical-align: top;\n    }\n\n    .dataframe thead th {\n        text-align: right;\n    }\n</style>\n<table border=\"1\" class=\"dataframe\">\n  <thead>\n    <tr style=\"text-align: right;\">\n      <th></th>\n      <th>OBJECTID</th>\n      <th>MAP_PAR_ID</th>\n      <th>LOC_ID</th>\n      <th>POLY_TYPE</th>\n      <th>MAP_NO</th>\n      <th>SOURCE</th>\n      <th>PLAN_ID</th>\n      <th>LAST_EDIT</th>\n      <th>BND_CHK</th>\n      <th>NO_MATCH</th>\n      <th>...</th>\n      <th>U_BTH_STYLE2</th>\n      <th>U_BTH_STYLE3</th>\n      <th>U_KITCH_TYPE</th>\n      <th>U_KITCH_STYLE</th>\n      <th>U_HEAT_TYP</th>\n      <th>U_AC</th>\n      <th>U_FPLACE</th>\n      <th>U_INT_FIN</th>\n      <th>U_INT_CND</th>\n      <th>U_VIEW</th>\n    </tr>\n  </thead>\n  <tbody>\n    <tr>\n      <th>100001000.0</th>\n      <td>71006</td>\n      <td>100001000.0</td>\n      <td>F_782457_2963624</td>\n      <td>FEE</td>\n      <td>1.0</td>\n      <td>ASSESS</td>\n      <td>NaN</td>\n      <td>20191107</td>\n      <td>NaN</td>\n      <td>N</td>\n      <td>...</td>\n      <td>NaN</td>\n      <td>NaN</td>\n      <td>NaN</td>\n      <td>NaN</td>\n      <td>NaN</td>\n      <td>NaN</td>\n      <td>NaN</td>\n      <td>NaN</td>\n      <td>NaN</td>\n      <td>NaN</td>\n    </tr>\n    <tr>\n      <th>100002000.0</th>\n      <td>68430</td>\n      <td>100002000.0</td>\n      <td>F_782474_2963634</td>\n      <td>FEE</td>\n      <td>1.0</td>\n      <td>ASSESS</td>\n      <td>NaN</td>\n      <td>20191107</td>\n      <td>NaN</td>\n      <td>N</td>\n      <td>...</td>\n      <td>NaN</td>\n      <td>NaN</td>\n      <td>NaN</td>\n      <td>NaN</td>\n      <td>NaN</td>\n      <td>NaN</td>\n      <td>NaN</td>\n      <td>NaN</td>\n      <td>NaN</td>\n      <td>NaN</td>\n    </tr>\n    <tr>\n      <th>100003000.0</th>\n      <td>71584</td>\n      <td>100003000.0</td>\n      <td>F_782492_2963642</td>\n      <td>FEE</td>\n      <td>1.0</td>\n      <td>ASSESS</td>\n      <td>NaN</td>\n      <td>20191107</td>\n      <td>NaN</td>\n      <td>N</td>\n      <td>...</td>\n      <td>NaN</td>\n      <td>NaN</td>\n      <td>NaN</td>\n      <td>NaN</td>\n      <td>NaN</td>\n      <td>NaN</td>\n      <td>NaN</td>\n      <td>NaN</td>\n      <td>NaN</td>\n      <td>NaN</td>\n    </tr>\n    <tr>\n      <th>100004000.0</th>\n      <td>61304</td>\n      <td>100004000.0</td>\n      <td>F_782510_2963652</td>\n      <td>FEE</td>\n      <td>1.0</td>\n      <td>ASSESS</td>\n      <td>NaN</td>\n      <td>20191107</td>\n      <td>NaN</td>\n      <td>N</td>\n      <td>...</td>\n      <td>NaN</td>\n      <td>NaN</td>\n      <td>NaN</td>\n      <td>NaN</td>\n      <td>NaN</td>\n      <td>NaN</td>\n      <td>NaN</td>\n      <td>NaN</td>\n      <td>NaN</td>\n      <td>NaN</td>\n    </tr>\n    <tr>\n      <th>100005000.0</th>\n      <td>6734</td>\n      <td>100005000.0</td>\n      <td>F_782539_2963640</td>\n      <td>FEE</td>\n      <td>1.0</td>\n      <td>ASSESS</td>\n      <td>NaN</td>\n      <td>20191107</td>\n      <td>NaN</td>\n      <td>N</td>\n      <td>...</td>\n      <td>NaN</td>\n      <td>NaN</td>\n      <td>NaN</td>\n      <td>NaN</td>\n      <td>NaN</td>\n      <td>NaN</td>\n      <td>NaN</td>\n      <td>NaN</td>\n      <td>NaN</td>\n      <td>NaN</td>\n    </tr>\n  </tbody>\n</table>\n<p>5 rows × 98 columns</p>\n</div>"
     },
     "metadata": {},
     "execution_count": 2
    }
   ],
   "source": [
    "# Join datasets on \"PID_LONG\" = \"PID\"\n",
    "\n",
    "df = parcels.set_index(\"PID_LONG\").join(property_assessment.set_index(\"PID\"))\n",
    "df.head()"
   ]
  },
  {
   "source": [
    "Since this DataFrame is a join of two general datasets, we might want to drop the unwanted columns."
   ],
   "cell_type": "markdown",
   "metadata": {}
  },
  {
   "cell_type": "code",
   "execution_count": 3,
   "metadata": {},
   "outputs": [
    {
     "output_type": "stream",
     "name": "stdout",
     "text": [
      "Index(['OBJECTID', 'MAP_PAR_ID', 'LOC_ID', 'POLY_TYPE', 'MAP_NO', 'SOURCE',\n       'PLAN_ID', 'LAST_EDIT', 'BND_CHK', 'NO_MATCH', 'TOWN_ID', 'XCOOR',\n       'YCOOR', 'OBJECTID_12', 'WARD', 'PARCEL', 'WPD', 'BATCH',\n       'Shape__Length_1', 'Shape__Area_1', 'Shape__Length_12',\n       'Shape__Area_12', 'Shape__Area', 'Shape__Length', 'CM_ID', 'GIS_ID',\n       'ST_NUM', 'ST_NAME', 'ST_NAME_SUF', 'UNIT_NUM', 'ZIPCODE', 'PTYPE',\n       'LU', 'OWN_OCC', 'OWNER', 'MAIL_ADDRESSEE', 'MAIL_ADDRESS', 'MAIL CS',\n       'MAIL_ZIPCODE', 'AV_LAND', 'AV_BLDG', 'AV_TOTAL', 'GROSS_TAX',\n       'LAND_SF', 'YR_BUILT', 'YR_REMOD', 'GROSS_AREA', 'LIVING_AREA',\n       'NUM_FLOORS', 'STRUCTURE_CLASS', 'R_BLDG_STYL', 'R_ROOF_TYP',\n       'R_EXT_FIN', 'R_TOTAL_RMS', 'R_BDRMS', 'R_FULL_BTH', 'R_HALF_BTH',\n       'R_BTH_STYLE', 'R_BTH_STYLE2', 'R_BTH_STYLE3', 'R_KITCH',\n       'R_KITCH_STYLE', 'R_KITCH_STYLE2', 'R_KITCH_STYLE3', 'R_HEAT_TYP',\n       'R_AC', 'R_FPLACE', 'R_EXT_CND', 'R_OVRALL_CND', 'R_INT_CND',\n       'R_INT_FIN', 'R_VIEW', 'S_NUM_BLDG', 'S_BLDG_STYL', 'S_UNIT_RES',\n       'S_UNIT_COM', 'S_UNIT_RC', 'S_EXT_FIN', 'S_EXT_CND', 'U_BASE_FLOOR',\n       'U_NUM_PARK', 'U_CORNER', 'U_ORIENT', 'U_TOT_RMS', 'U_BDRMS',\n       'U_FULL_BTH', 'U_HALF_BTH', 'U_BTH_STYLE', 'U_BTH_STYLE2',\n       'U_BTH_STYLE3', 'U_KITCH_TYPE', 'U_KITCH_STYLE', 'U_HEAT_TYP', 'U_AC',\n       'U_FPLACE', 'U_INT_FIN', 'U_INT_CND', 'U_VIEW'],\n      dtype='object')\n"
     ]
    }
   ],
   "source": [
    "print(df.columns)"
   ]
  },
  {
   "cell_type": "code",
   "execution_count": 4,
   "metadata": {},
   "outputs": [
    {
     "output_type": "execute_result",
     "data": {
      "text/plain": [
       "                              NAME  LATITUDE  LONGITUDE      ST_NUM  \\\n",
       "100001000.0         PASCUCCI CARLO  782457.0  2963624.0  104  A 104   \n",
       "100002000.0        ATANASOV DANIEL  782474.0  2963634.0        197    \n",
       "100003000.0        CHEVARRIA ANA S  782492.0  2963642.0        199    \n",
       "100004000.0  MADDALENI JAMES E, TS  782510.0  2963652.0        201    \n",
       "100005000.0      DIGIROLAMO JOHN A  782539.0  2963640.0        203    \n",
       "\n",
       "               ST_NAME ST_NAME_SUF  ZIPCODE  PTYPE  \n",
       "100001000.0     PUTNAM         ST    2128.0    105  \n",
       "100002000.0  LEXINGTON         ST    2128.0    105  \n",
       "100003000.0  LEXINGTON         ST    2128.0    105  \n",
       "100004000.0  LEXINGTON         ST    2128.0    105  \n",
       "100005000.0  LEXINGTON         ST    2128.0    104  "
      ],
      "text/html": "<div>\n<style scoped>\n    .dataframe tbody tr th:only-of-type {\n        vertical-align: middle;\n    }\n\n    .dataframe tbody tr th {\n        vertical-align: top;\n    }\n\n    .dataframe thead th {\n        text-align: right;\n    }\n</style>\n<table border=\"1\" class=\"dataframe\">\n  <thead>\n    <tr style=\"text-align: right;\">\n      <th></th>\n      <th>NAME</th>\n      <th>LATITUDE</th>\n      <th>LONGITUDE</th>\n      <th>ST_NUM</th>\n      <th>ST_NAME</th>\n      <th>ST_NAME_SUF</th>\n      <th>ZIPCODE</th>\n      <th>PTYPE</th>\n    </tr>\n  </thead>\n  <tbody>\n    <tr>\n      <th>100001000.0</th>\n      <td>PASCUCCI CARLO</td>\n      <td>782457.0</td>\n      <td>2963624.0</td>\n      <td>104  A 104</td>\n      <td>PUTNAM</td>\n      <td>ST</td>\n      <td>2128.0</td>\n      <td>105</td>\n    </tr>\n    <tr>\n      <th>100002000.0</th>\n      <td>ATANASOV DANIEL</td>\n      <td>782474.0</td>\n      <td>2963634.0</td>\n      <td>197</td>\n      <td>LEXINGTON</td>\n      <td>ST</td>\n      <td>2128.0</td>\n      <td>105</td>\n    </tr>\n    <tr>\n      <th>100003000.0</th>\n      <td>CHEVARRIA ANA S</td>\n      <td>782492.0</td>\n      <td>2963642.0</td>\n      <td>199</td>\n      <td>LEXINGTON</td>\n      <td>ST</td>\n      <td>2128.0</td>\n      <td>105</td>\n    </tr>\n    <tr>\n      <th>100004000.0</th>\n      <td>MADDALENI JAMES E, TS</td>\n      <td>782510.0</td>\n      <td>2963652.0</td>\n      <td>201</td>\n      <td>LEXINGTON</td>\n      <td>ST</td>\n      <td>2128.0</td>\n      <td>105</td>\n    </tr>\n    <tr>\n      <th>100005000.0</th>\n      <td>DIGIROLAMO JOHN A</td>\n      <td>782539.0</td>\n      <td>2963640.0</td>\n      <td>203</td>\n      <td>LEXINGTON</td>\n      <td>ST</td>\n      <td>2128.0</td>\n      <td>104</td>\n    </tr>\n  </tbody>\n</table>\n</div>"
     },
     "metadata": {},
     "execution_count": 4
    }
   ],
   "source": [
    "df = df[['OWNER', 'XCOOR', 'YCOOR', 'ST_NUM', 'ST_NAME', 'ST_NAME_SUF', 'ZIPCODE', 'PTYPE',]].rename(columns={'OWNER': 'NAME', 'XCOOR': 'LATITUDE', 'YCOOR': 'LONGITUDE'}).dropna(subset=['PTYPE']).astype({'ZIPCODE': 'int64', 'PTYPE': 'int64'}, errors='ignore')\n",
    "df.head()"
   ]
  },
  {
   "source": [
    "According to the property occupancy codes \\[0\\], I have picked out the property types (PTYPE) that seem applicable to our categories of interest, stated in \\[1\\]. \n",
    "* Education: 904 (PRIV SCHOOL/COLLEGE), \\[937, 943\\] (education-related e.g. dormitory, classroom, ...), 976 (SCHOOL), 977 (COLLEGE), 978 (LIBRARY)\n",
    "* Food access: \\[323, 328\\] (shopping center, supermarket, restaurant, etc.), 944 (DINING FACILITY/CAFETERIA)\n",
    "* Healthcare: 309+953 (MEDICAL CLINIC), 954 (MEDICAL OFFICE), 979 (HOSPITAL)\n",
    "* Recreation: \\[362, 364\\] (theatres), \\[365, 377\\] (sport centers, clubs, arenas, etc.), \\[380, 384\\] (golf/tennis, swimming, marina, etc.), 947 (ATHLETIC/SPORTS CTR), 984 (PUBLIC BEACH)\n",
    "* Social: 353 (SOCIAL CLUB), 945 (ACTIVITY/SOCIAL CENTER), \n",
    "* Commercial: \\[300, 399\\] (except for those mentioned above)\n",
    "\n",
    "\n",
    "\\[0\\] https://data.boston.gov/dataset/property-assessment/resource/d6c1268c-cd83-4dc3-a914-bba1ed59da6d\n",
    "\n",
    "\\[1\\] https://github.com/Zayta/CS506Spring2021Repository/tree/master/CityOfBoston_team2/deliverables/deliverable0#project-description"
   ],
   "cell_type": "markdown",
   "metadata": {}
  },
  {
   "cell_type": "code",
   "execution_count": 5,
   "metadata": {},
   "outputs": [],
   "source": [
    "import numpy as np\n",
    "\n",
    "def map_amenity(ptype):\n",
    "    \"\"\"Map PTYPE to essential amenity category, if applicable.\"\"\"\n",
    "    if ptype in [904, *range(937, 944), 976, 977, 978]:\n",
    "        return 'Education'\n",
    "    if ptype in [*range(323, 329), 944]:\n",
    "        return 'Food access'\n",
    "    if ptype in [305, 953, 954, 979]:\n",
    "        return 'Healthcare'\n",
    "    if ptype in [*range(362, 365), *range(365, 378), *range(380, 385), 947, 984]:\n",
    "        return 'Recreation'\n",
    "    if ptype in [353, 945]:\n",
    "        return 'Social'\n",
    "    if ptype in range(300, 400):\n",
    "        return 'Commercial'\n",
    "    \n",
    "    return np.nan"
   ]
  },
  {
   "cell_type": "code",
   "execution_count": 6,
   "metadata": {},
   "outputs": [
    {
     "output_type": "execute_result",
     "data": {
      "text/plain": [
       "array([nan, 'Food access', 'Commercial', 'Education', 'Social',\n",
       "       'Recreation', 'Healthcare'], dtype=object)"
      ]
     },
     "metadata": {},
     "execution_count": 6
    }
   ],
   "source": [
    "df['CATEGORY'] = [map_amenity(parcel) for parcel in df['PTYPE']]\n",
    "df['CATEGORY'].unique()"
   ]
  },
  {
   "source": [
    "df = df.drop('PTYPE', axis=1).dropna(subset=['CATEGORY'])\n",
    "df.head()"
   ],
   "cell_type": "code",
   "metadata": {},
   "execution_count": 7,
   "outputs": [
    {
     "output_type": "execute_result",
     "data": {
      "text/plain": [
       "                          NAME  LATITUDE  LONGITUDE     ST_NUM     ST_NAME  \\\n",
       "100056000.0      CABANALV  INC  783331.0  2963346.0   254  256  BENNINGTON   \n",
       "100079000.0  FAZIO ENTERPRISES  783751.0  2963716.0  392  -398     CHELSEA   \n",
       "100085000.0        PEREZ MIRZA  783616.0  2963555.0       300   BENNINGTON   \n",
       "100086000.0       TRUONG NGHIA  783594.0  2963536.0  296  A298  BENNINGTON   \n",
       "100087000.0     ROBERTO RITA M  783573.0  2963518.0       294   BENNINGTON   \n",
       "\n",
       "            ST_NAME_SUF  ZIPCODE     CATEGORY  \n",
       "100056000.0         ST    2128.0  Food access  \n",
       "100079000.0         ST    2128.0   Commercial  \n",
       "100085000.0         ST    2128.0   Commercial  \n",
       "100086000.0         ST    2128.0   Commercial  \n",
       "100087000.0         ST    2128.0  Food access  "
      ],
      "text/html": "<div>\n<style scoped>\n    .dataframe tbody tr th:only-of-type {\n        vertical-align: middle;\n    }\n\n    .dataframe tbody tr th {\n        vertical-align: top;\n    }\n\n    .dataframe thead th {\n        text-align: right;\n    }\n</style>\n<table border=\"1\" class=\"dataframe\">\n  <thead>\n    <tr style=\"text-align: right;\">\n      <th></th>\n      <th>NAME</th>\n      <th>LATITUDE</th>\n      <th>LONGITUDE</th>\n      <th>ST_NUM</th>\n      <th>ST_NAME</th>\n      <th>ST_NAME_SUF</th>\n      <th>ZIPCODE</th>\n      <th>CATEGORY</th>\n    </tr>\n  </thead>\n  <tbody>\n    <tr>\n      <th>100056000.0</th>\n      <td>CABANALV  INC</td>\n      <td>783331.0</td>\n      <td>2963346.0</td>\n      <td>254  256</td>\n      <td>BENNINGTON</td>\n      <td>ST</td>\n      <td>2128.0</td>\n      <td>Food access</td>\n    </tr>\n    <tr>\n      <th>100079000.0</th>\n      <td>FAZIO ENTERPRISES</td>\n      <td>783751.0</td>\n      <td>2963716.0</td>\n      <td>392  -398</td>\n      <td>CHELSEA</td>\n      <td>ST</td>\n      <td>2128.0</td>\n      <td>Commercial</td>\n    </tr>\n    <tr>\n      <th>100085000.0</th>\n      <td>PEREZ MIRZA</td>\n      <td>783616.0</td>\n      <td>2963555.0</td>\n      <td>300</td>\n      <td>BENNINGTON</td>\n      <td>ST</td>\n      <td>2128.0</td>\n      <td>Commercial</td>\n    </tr>\n    <tr>\n      <th>100086000.0</th>\n      <td>TRUONG NGHIA</td>\n      <td>783594.0</td>\n      <td>2963536.0</td>\n      <td>296  A298</td>\n      <td>BENNINGTON</td>\n      <td>ST</td>\n      <td>2128.0</td>\n      <td>Commercial</td>\n    </tr>\n    <tr>\n      <th>100087000.0</th>\n      <td>ROBERTO RITA M</td>\n      <td>783573.0</td>\n      <td>2963518.0</td>\n      <td>294</td>\n      <td>BENNINGTON</td>\n      <td>ST</td>\n      <td>2128.0</td>\n      <td>Food access</td>\n    </tr>\n  </tbody>\n</table>\n</div>"
     },
     "metadata": {},
     "execution_count": 7
    }
   ]
  },
  {
   "cell_type": "code",
   "execution_count": 8,
   "metadata": {},
   "outputs": [],
   "source": [
    "df.to_csv('../../datasets_clean/parcels_sanitized.csv')"
   ]
  },
  {
   "cell_type": "code",
   "execution_count": null,
   "metadata": {},
   "outputs": [],
   "source": []
  }
 ]
}