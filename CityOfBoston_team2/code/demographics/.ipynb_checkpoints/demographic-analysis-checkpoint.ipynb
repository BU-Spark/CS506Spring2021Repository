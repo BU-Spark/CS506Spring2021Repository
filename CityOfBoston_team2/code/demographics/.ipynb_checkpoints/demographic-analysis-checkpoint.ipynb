{
 "cells": [
  {
   "cell_type": "code",
   "execution_count": 3,
   "id": "religious-budget",
   "metadata": {},
   "outputs": [],
   "source": [
    "import numpy as np"
   ]
  },
  {
   "cell_type": "code",
   "execution_count": 13,
   "id": "isolated-legislature",
   "metadata": {},
   "outputs": [
    {
     "data": {
      "text/html": [
       "<div>\n",
       "<style scoped>\n",
       "    .dataframe tbody tr th:only-of-type {\n",
       "        vertical-align: middle;\n",
       "    }\n",
       "\n",
       "    .dataframe tbody tr th {\n",
       "        vertical-align: top;\n",
       "    }\n",
       "\n",
       "    .dataframe thead th {\n",
       "        text-align: right;\n",
       "    }\n",
       "</style>\n",
       "<table border=\"1\" class=\"dataframe\">\n",
       "  <thead>\n",
       "    <tr style=\"text-align: right;\">\n",
       "      <th></th>\n",
       "      <th>Unnamed: 0</th>\n",
       "      <th>zip</th>\n",
       "      <th>po_name</th>\n",
       "      <th>pop2010</th>\n",
       "      <th>pop2013</th>\n",
       "      <th>white</th>\n",
       "      <th>black</th>\n",
       "      <th>ameri_es</th>\n",
       "      <th>asian</th>\n",
       "      <th>hawn_pi</th>\n",
       "      <th>...</th>\n",
       "      <th>households</th>\n",
       "      <th>ave_hh_sz</th>\n",
       "      <th>hsehld_1_m</th>\n",
       "      <th>hsehld_1_f</th>\n",
       "      <th>marhh_chd</th>\n",
       "      <th>marhh_no_c</th>\n",
       "      <th>mhh_child</th>\n",
       "      <th>fhh_child</th>\n",
       "      <th>families</th>\n",
       "      <th>ave_fam_sz</th>\n",
       "    </tr>\n",
       "  </thead>\n",
       "  <tbody>\n",
       "  </tbody>\n",
       "</table>\n",
       "<p>0 rows × 40 columns</p>\n",
       "</div>"
      ],
      "text/plain": [
       "Empty DataFrame\n",
       "Columns: [Unnamed: 0, zip, po_name, pop2010, pop2013, white, black, ameri_es, asian, hawn_pi, hispanic, other, mult_race, males, females, age_under5, age_5_9, age_10_14, age_15_19, age_20_24, age_25_34, age_35_44, age_45_54, age_55_64, age_65_74, age_75_84, age_85_up, med_age, med_age_m, med_age_f, households, ave_hh_sz, hsehld_1_m, hsehld_1_f, marhh_chd, marhh_no_c, mhh_child, fhh_child, families, ave_fam_sz]\n",
       "Index: []\n",
       "\n",
       "[0 rows x 40 columns]"
      ]
     },
     "execution_count": 13,
     "metadata": {},
     "output_type": "execute_result"
    }
   ],
   "source": [
    "import pandas as pd\n",
    "from pandas import DataFrame\n",
    "def import_data(filename):\n",
    "    data = pd.read_csv(filename, sep=',')\n",
    "    return data\n",
    "\n",
    "# print(df.head())\n",
    "df = import_data('../../datasets_clean/demographics.csv')\n",
    "df = df[df['po_name'] == 'Boston']\n",
    "\n",
    "df['zip'] = df['zip'].apply(lambda x: '{0:0>5}'.format(x))\n",
    "# df.columns\n",
    "df\n"
   ]
  },
  {
   "cell_type": "code",
   "execution_count": 4,
   "id": "split-lithuania",
   "metadata": {},
   "outputs": [],
   "source": [
    "# https://levelup.gitconnected.com/visualizing-housing-data-with-folium-maps-4718ed3452c2\n",
    "import folium\n",
    "import json\n",
    "import numpy as np\n",
    "def get_center_latlong(df):\n",
    "    #center lat long of boston\n",
    "    return (42.361145, -71.057083)\n",
    "def plot_demographic_heatmap(df,col, output_path):\n",
    "    # this line just to force our dataset zipcodes from numbers to strings so they match our geojson file\n",
    "    df['zip'] = df['zip'].astype('str')\n",
    "\n",
    "\n",
    "    # load my geojson file which contains my Polygons\n",
    "    boundary_file = '../../datasets_clean/Boston_ZIP_Codes.geojson'\n",
    "    with open(boundary_file, 'r') as f:\n",
    "        zipcode_boundary = json.load(f)\n",
    "\n",
    "\n",
    "    # Grab my map center again using our created fucntion (same as before)\n",
    "    center = get_center_latlong(df)\n",
    "\n",
    "\n",
    "    # Initialize Folium Map again (same as before)\n",
    "    m = folium.Map(location=center, \n",
    "                   zoom_start=10)\n",
    "\n",
    "\n",
    "    # Use the groupby method to \n",
    "    zipcode_data = df.groupby('zip').aggregate(np.mean)\n",
    "    zipcode_data.reset_index(inplace = True)\n",
    "\n",
    "\n",
    "    # Create choropleth map  \n",
    "    folium.Choropleth(\n",
    "        geo_data=zipcode_boundary,\n",
    "        name='choropleth',\n",
    "        data=zipcode_data,\n",
    "        columns=['zip', col],\n",
    "        key_on='feature.properties.ZIP5',\n",
    "        fill_color='Spectral',\n",
    "        fill_opacity=0.6,\n",
    "        nan_fill_opacity=0,\n",
    "        line_opacity=1,\n",
    "        legend_name='Avg Population Density'\n",
    "    ).add_to(m)\n",
    "\n",
    "\n",
    "    m.save(output_path)"
   ]
  },
  {
   "cell_type": "code",
   "execution_count": 14,
   "id": "operational-institute",
   "metadata": {},
   "outputs": [
    {
     "name": "stdout",
     "output_type": "stream",
     "text": [
      "Index(['Unnamed: 0', 'zip', 'po_name', 'pop2010', 'pop2013', 'white', 'black',\n",
      "       'ameri_es', 'asian', 'hawn_pi', 'hispanic', 'other', 'mult_race',\n",
      "       'males', 'females', 'age_under5', 'age_5_9', 'age_10_14', 'age_15_19',\n",
      "       'age_20_24', 'age_25_34', 'age_35_44', 'age_45_54', 'age_55_64',\n",
      "       'age_65_74', 'age_75_84', 'age_85_up', 'med_age', 'med_age_m',\n",
      "       'med_age_f', 'households', 'ave_hh_sz', 'hsehld_1_m', 'hsehld_1_f',\n",
      "       'marhh_chd', 'marhh_no_c', 'mhh_child', 'fhh_child', 'families',\n",
      "       'ave_fam_sz'],\n",
      "      dtype='object')\n"
     ]
    }
   ],
   "source": [
    "print(df.columns)"
   ]
  },
  {
   "cell_type": "code",
   "execution_count": 17,
   "id": "worthy-application",
   "metadata": {},
   "outputs": [],
   "source": [
    "#plot demographic heat maps\n",
    "plot_demographic_heatmap(df,'hispanic','maps/ethnicity/hispanic.html')\n",
    "plot_demographic_heatmap(df,'white','maps/ethnicity/white.html')\n",
    "plot_demographic_heatmap(df,'black','maps/ethnicity/black.html')\n",
    "plot_demographic_heatmap(df,'ameri_es','maps/ethnicity/ameri_es.html')\n",
    "plot_demographic_heatmap(df,'asian','maps/ethnicity/asian.html')\n",
    "plot_demographic_heatmap(df,'hawn_pi','maps/ethnicity/hawn_pi.html')\n",
    "plot_demographic_heatmap(df,'hispanic','maps/ethnicity/hispanic.html')\n",
    "plot_demographic_heatmap(df,'other','maps/ethnicity/other.html')\n",
    "plot_demographic_heatmap(df,'mult_race','maps/ethnicity/mult_race.html')\n"
   ]
  },
  {
   "cell_type": "code",
   "execution_count": 16,
   "id": "vertical-french",
   "metadata": {},
   "outputs": [],
   "source": [
    "#graph population\n",
    "plot_demographic_heatmap(df,'pop2013','maps/pop2013.html')"
   ]
  },
  {
   "cell_type": "code",
   "execution_count": 10,
   "id": "chronic-resident",
   "metadata": {},
   "outputs": [
    {
     "name": "stdout",
     "output_type": "stream",
     "text": [
      "     zip  hispanic  white  black  ameri_es  asian  hawn_pi  hispanic  other  \\\n",
      "4  02119      7388   4061  14748       233    382       15      7388   4078   \n",
      "\n",
      "   mult_race zip_str  \n",
      "4       4078   02119  \n"
     ]
    },
    {
     "name": "stderr",
     "output_type": "stream",
     "text": [
      "d:\\downloads\\python37\\lib\\site-packages\\ipykernel_launcher.py:3: SettingWithCopyWarning: \n",
      "A value is trying to be set on a copy of a slice from a DataFrame.\n",
      "Try using .loc[row_indexer,col_indexer] = value instead\n",
      "\n",
      "See the caveats in the documentation: https://pandas.pydata.org/pandas-docs/stable/user_guide/indexing.html#returning-a-view-versus-a-copy\n",
      "  This is separate from the ipykernel package so we can avoid doing imports until\n"
     ]
    }
   ],
   "source": []
  }
 ],
 "metadata": {
  "kernelspec": {
   "display_name": "Python 3",
   "language": "python",
   "name": "python3"
  },
  "language_info": {
   "codemirror_mode": {
    "name": "ipython",
    "version": 3
   },
   "file_extension": ".py",
   "mimetype": "text/x-python",
   "name": "python",
   "nbconvert_exporter": "python",
   "pygments_lexer": "ipython3",
   "version": "3.7.9"
  }
 },
 "nbformat": 4,
 "nbformat_minor": 5
}
