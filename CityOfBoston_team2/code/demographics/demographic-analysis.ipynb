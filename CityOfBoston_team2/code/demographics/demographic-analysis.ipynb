{
 "cells": [
  {
   "cell_type": "code",
   "execution_count": 14,
   "id": "religious-budget",
   "metadata": {},
   "outputs": [],
   "source": [
    "import numpy as np"
   ]
  },
  {
   "cell_type": "code",
   "execution_count": 39,
   "id": "isolated-legislature",
   "metadata": {},
   "outputs": [],
   "source": [
    "import pandas as pd\n",
    "from pandas import DataFrame\n",
    "def import_data(filename):\n",
    "    data = pd.read_csv(filename, sep=',')\n",
    "    return data\n",
    "\n",
    "# print(df.head())\n",
    "df = import_data('../../datasets_clean/demographics.csv')\n",
    "df['zip'] = df['zip'].apply(lambda x: '{0:0>5}'.format(x))\n",
    "# df.columns\n",
    "# df\n"
   ]
  },
  {
   "cell_type": "code",
   "execution_count": 38,
   "id": "split-lithuania",
   "metadata": {},
   "outputs": [],
   "source": [
    "import folium\n",
    "import json\n",
    "import numpy as np\n",
    "def get_center_latlong(df):\n",
    "    #center lat long of boston\n",
    "    return (42.361145, -71.057083)\n",
    "def plot_demographic_heatmap(df,col, output_path):\n",
    "    # this line just to force our dataset zipcodes from numbers to strings so they match our geojson file\n",
    "    df['zip'] = df['zip'].astype('str')\n",
    "\n",
    "\n",
    "    # load my geojson file which contains my Polygons\n",
    "    boundary_file = '../../datasets_clean/Boston_ZIP_Codes.geojson'\n",
    "    with open(boundary_file, 'r') as f:\n",
    "        zipcode_boundary = json.load(f)\n",
    "\n",
    "\n",
    "    # Grab my map center again using our created fucntion (same as before)\n",
    "    center = get_center_latlong(df)\n",
    "\n",
    "\n",
    "    # Initialize Folium Map again (same as before)\n",
    "    m = folium.Map(location=center, \n",
    "                   zoom_start=10)\n",
    "\n",
    "\n",
    "    # Use the groupby method to \n",
    "    zipcode_data = df.groupby('zip').aggregate(np.mean)\n",
    "    zipcode_data.reset_index(inplace = True)\n",
    "\n",
    "\n",
    "    # Create choropleth map  \n",
    "    folium.Choropleth(\n",
    "        geo_data=zipcode_boundary,\n",
    "        name='choropleth',\n",
    "        data=zipcode_data,\n",
    "        columns=['zip', col],\n",
    "        key_on='feature.properties.ZIP5',\n",
    "        fill_color='Spectral',\n",
    "        fill_opacity=0.6,\n",
    "        nan_fill_opacity=0,\n",
    "        line_opacity=1,\n",
    "        legend_name='Avg Density'\n",
    "    ).add_to(m)\n",
    "\n",
    "\n",
    "    m.save(output_path)"
   ]
  },
  {
   "cell_type": "code",
   "execution_count": 40,
   "id": "operational-institute",
   "metadata": {},
   "outputs": [
    {
     "name": "stdout",
     "output_type": "stream",
     "text": [
      "Index(['Unnamed: 0', 'zip', 'po_name', 'pop2010', 'pop2013', 'white', 'black',\n",
      "       'ameri_es', 'asian', 'hawn_pi', 'hispanic', 'other', 'mult_race',\n",
      "       'males', 'females', 'age_under5', 'age_5_9', 'age_10_14', 'age_15_19',\n",
      "       'age_20_24', 'age_25_34', 'age_35_44', 'age_45_54', 'age_55_64',\n",
      "       'age_65_74', 'age_75_84', 'age_85_up', 'med_age', 'med_age_m',\n",
      "       'med_age_f', 'households', 'ave_hh_sz', 'hsehld_1_m', 'hsehld_1_f',\n",
      "       'marhh_chd', 'marhh_no_c', 'mhh_child', 'fhh_child', 'families',\n",
      "       'ave_fam_sz'],\n",
      "      dtype='object')\n"
     ]
    }
   ],
   "source": [
    "print(df.columns)"
   ]
  },
  {
   "cell_type": "code",
   "execution_count": null,
   "id": "worthy-application",
   "metadata": {},
   "outputs": [],
   "source": [
    "\n",
    "plot_demographic_heatmap(df,'hispanic','maps/hispanic.html')\n",
    "plot_demographic_heatmap(df,'white','maps/white.html')\n",
    "plot_demographic_heatmap(df,'hispanic','maps/hispanic.html')\n",
    "plot_demographic_heatmap(df,'hispanic','maps/hispanic.html')\n",
    "plot_demographic_heatmap(df,'hispanic','maps/hispanic.html')\n"
   ]
  }
 ],
 "metadata": {
  "kernelspec": {
   "display_name": "Python 3",
   "language": "python",
   "name": "python3"
  },
  "language_info": {
   "codemirror_mode": {
    "name": "ipython",
    "version": 3
   },
   "file_extension": ".py",
   "mimetype": "text/x-python",
   "name": "python",
   "nbconvert_exporter": "python",
   "pygments_lexer": "ipython3",
   "version": "3.7.9"
  }
 },
 "nbformat": 4,
 "nbformat_minor": 5
}
