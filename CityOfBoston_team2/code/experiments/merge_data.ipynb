{
 "cells": [
  {
   "cell_type": "code",
   "execution_count": 1,
   "id": "educational-sellers",
   "metadata": {},
   "outputs": [],
   "source": [
    "import pandas as pd\n",
    "import numpy as np"
   ]
  },
  {
   "cell_type": "code",
   "execution_count": 2,
   "id": "worth-notice",
   "metadata": {},
   "outputs": [],
   "source": [
    "def import_data(filename):\n",
    "    data = pd.read_csv(filename, sep=',')\n",
    "    return data"
   ]
  },
  {
   "cell_type": "code",
   "execution_count": 3,
   "id": "retired-daisy",
   "metadata": {},
   "outputs": [
    {
     "name": "stdout",
     "output_type": "stream",
     "text": [
      "   Unnamed: 0               name   zip        lon        lat  \\\n",
      "0           0      Franklin Cafe  2118 -71.068979  42.342915   \n",
      "1           1  South End Buttery  2118 -71.070373  42.342101   \n",
      "2           2  J.J. Foley's Cafe  2118 -71.065280  42.343664   \n",
      "3           3  Cathedral Station  2118 -71.066770  42.342806   \n",
      "4           4            Dunkin'  2118 -71.065905  42.343730   \n",
      "\n",
      "                                               types  \n",
      "0  ['Café', 'Food and Drink', 'Bars', 'Restaurant...  \n",
      "1  ['Bakeries', 'Food and Drink', 'Bars', 'Restau...  \n",
      "2  ['Bars', 'Food and Drink', 'Restaurants', 'Ret...  \n",
      "3  ['Bars', 'EatDrink', 'bar', 'point_of_interest...  \n",
      "4  ['Coffee Houses', 'Coffee and Tea', 'Food and ...  \n"
     ]
    }
   ],
   "source": [
    "businesses = import_data('../../datasets_clean/businesses_sanitized.csv')\n",
    "print(businesses.head())"
   ]
  },
  {
   "cell_type": "code",
   "execution_count": 4,
   "id": "warming-turning",
   "metadata": {},
   "outputs": [
    {
     "name": "stdout",
     "output_type": "stream",
     "text": [
      "   Unnamed: 0                               NAME                     ADDR_1  \\\n",
      "0          16                        East Boston          209 Sumner Street   \n",
      "1          42               Boston/Copley Square           206 Clarendon St   \n",
      "2          43         Roxbury/Dudley Town Common  Blue Hill Ave & Dudley St   \n",
      "3          47      Boston Public Market/Greenway      136 Blackstone Street   \n",
      "4         130  Boston/South End at the Ink Block          375 Harrison Ave.   \n",
      "\n",
      "                         COUPONS       lon       lat  \\\n",
      "0  WIC & Senior Coupons Accepted -71.03940  42.36899   \n",
      "1  WIC & Senior Coupons Accepted -71.07497  42.35014   \n",
      "2  WIC & Senior Coupons Accepted -71.07497  42.32529   \n",
      "3  WIC & Senior Coupons Accepted -71.05933  42.35919   \n",
      "4  WIC & Senior Coupons Accepted -71.06492  42.34463   \n",
      "\n",
      "                                      coords    TOWN buisness_type  \n",
      "0   [[237938.4373999983, 902156.5898000002]]  Boston   Food access  \n",
      "1  [[235019.08659999818, 900047.6088000014]]  Boston   Food access  \n",
      "2  [[235032.84080000222, 897287.3988999985]]  Boston   Food access  \n",
      "3  [[236302.49329999834, 901059.3781999983]]  Boston   Food access  \n",
      "4   [[235850.24130000174, 899439.760400001]]  Boston   Food access  \n"
     ]
    }
   ],
   "source": [
    "farmers = import_data('../../datasets_clean/farmers_sanitized.csv')\n",
    "farmers = farmers.rename(columns={\"LONGITUDE\": \"lon\", \"LATITUDE\": \"lat\"})\n",
    "print(farmers.head())\n"
   ]
  },
  {
   "cell_type": "code",
   "execution_count": 5,
   "id": "missing-tribune",
   "metadata": {},
   "outputs": [
    {
     "name": "stdout",
     "output_type": "stream",
     "text": [
      "   Unnamed: 0        id                                               name  \\\n",
      "0           0   4570205                  Brooke Charter School East Boston   \n",
      "1           1  35120305           UP Academy Charter School of Springfield   \n",
      "2           2   4120530   Academy of the Pacific Rim Charter Public School   \n",
      "3           3    350560                                Boston Latin School   \n",
      "4           4   4190305  Helen Y Davis Leadership Academy Charter Publi...   \n",
      "\n",
      "                   address        lat        lon   zip  \n",
      "0         94 Horace Street  42.382879 -71.016061  2128  \n",
      "1          90 Canal Street  42.364038 -71.059923  2114  \n",
      "2     1 Westinghouse Plaza  42.244380 -71.132364  2136  \n",
      "3  78 Avenue Louis Pasteur  42.337899 -71.101691  2115  \n",
      "4        23 Leonard Street  42.301323 -71.058689  2122  \n"
     ]
    }
   ],
   "source": [
    "schools = import_data('../../datasets_clean/schools_latlon.csv')\n",
    "print(schools.head())\n"
   ]
  },
  {
   "cell_type": "code",
   "execution_count": 6,
   "id": "sound-ghost",
   "metadata": {
    "scrolled": false
   },
   "outputs": [
    {
     "name": "stdout",
     "output_type": "stream",
     "text": [
      "   Unnamed: 0  id        lat        lon\n",
      "0           0   1  42.249539 -71.126761\n",
      "1           1   2  42.276385 -71.096688\n",
      "2           2   3  42.312093 -71.073634\n",
      "3           3   4  42.309176 -71.074293\n",
      "4           4   5  42.346613 -71.134690\n"
     ]
    }
   ],
   "source": [
    "parcels = import_data('../../datasets_clean/parcels_latlon.csv')\n",
    "print(parcels.head())\n"
   ]
  },
  {
   "cell_type": "code",
   "execution_count": 19,
   "id": "natural-unknown",
   "metadata": {
    "scrolled": false
   },
   "outputs": [
    {
     "name": "stdout",
     "output_type": "stream",
     "text": [
      "                    SITE_NAME                     ADDRESS        lat  \\\n",
      "0               Franklin Park              143 Seaver St. -71.098270   \n",
      "4            Arnold Arboretum  Opposite 376 Arborway Str. -71.123580   \n",
      "8   George Wright Golf Course               420 West Str. -71.130664   \n",
      "15          Jamaica Pond Park             507 Jamaica Way -71.120792   \n",
      "16          Millennium Park I            300 Gardner Str. -71.184486   \n",
      "\n",
      "          lon business_type  \n",
      "0   42.303353    recreation  \n",
      "4   42.298531    recreation  \n",
      "8   42.267001    recreation  \n",
      "15  42.317698    recreation  \n",
      "16  42.280914    recreation  \n"
     ]
    }
   ],
   "source": [
    "osp = import_data('../../datasets_clean/open_space_latlon_avg.csv')\n",
    "\n",
    "osp_amenity = osp[osp['business_type'].notnull()]\n",
    "# osp_amenity.to_csv('../../datasets_clean/osp_recreation_amenities.csv')\n",
    "print(osp_amenity.head())"
   ]
  }
 ],
 "metadata": {
  "kernelspec": {
   "display_name": "Python 3",
   "language": "python",
   "name": "python3"
  },
  "language_info": {
   "codemirror_mode": {
    "name": "ipython",
    "version": 3
   },
   "file_extension": ".py",
   "mimetype": "text/x-python",
   "name": "python",
   "nbconvert_exporter": "python",
   "pygments_lexer": "ipython3",
   "version": "3.7.9"
  }
 },
 "nbformat": 4,
 "nbformat_minor": 5
}
