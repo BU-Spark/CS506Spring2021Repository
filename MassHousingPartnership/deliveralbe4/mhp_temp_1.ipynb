{
 "cells": [
  {
   "cell_type": "code",
   "execution_count": 1,
   "metadata": {},
   "outputs": [],
   "source": [
    "import geopandas as gpd\n",
    "import re\n",
    "from geofeather import from_geofeather\n",
    "from geofeather import to_geofeather"
   ]
  },
  {
   "cell_type": "code",
   "execution_count": 2,
   "metadata": {},
   "outputs": [],
   "source": [
    "from datetime import datetime\n",
    "import matplotlib.pyplot as plt\n",
    "import folium\n",
    "from folium.plugins import HeatMap\n",
    "from folium.plugins import MarkerCluster\n",
    "\n",
    "from texttable import Texttable"
   ]
  },
  {
   "cell_type": "code",
   "execution_count": 3,
   "metadata": {},
   "outputs": [],
   "source": [
    "from helper import *\n",
    "from draw_maps import *\n",
    "from main_logic import *\n",
    "from debug import *\n",
    "from loc_dict import *"
   ]
  },
  {
   "cell_type": "code",
   "execution_count": 408,
   "metadata": {},
   "outputs": [],
   "source": [
    "pd.set_option('display.max_columns', None)"
   ]
  },
  {
   "cell_type": "markdown",
   "metadata": {},
   "source": [
    "## Read data - Statewide"
   ]
  },
  {
   "cell_type": "code",
   "execution_count": 40,
   "metadata": {},
   "outputs": [
    {
     "output_type": "stream",
     "name": "stdout",
     "text": [
      "Time cost: 64357.50ms\n"
     ]
    }
   ],
   "source": [
    "start_time = datetime.now()\n",
    "\n",
    "parcel_whole = from_geofeather(\"data/ParcelData/statewide_parcel_data.feather\")\n",
    "address_whole = from_geofeather(\"data/AddressData/statewide_address_data.feather\")\n",
    "\n",
    "end_time = datetime.now()\n",
    "print(\"Time cost: %.2fms\" %((end_time - start_time).total_seconds() * 1000))"
   ]
  },
  {
   "cell_type": "code",
   "execution_count": 41,
   "metadata": {},
   "outputs": [],
   "source": [
    "parcel_style_whole_set = set(parcel_whole['STYLE'])"
   ]
  },
  {
   "cell_type": "code",
   "execution_count": 5,
   "metadata": {},
   "outputs": [],
   "source": [
    "parcel_quincy = parcel_whole[parcel_whole['CITY'] == \"QUINCY\"]\n",
    "address_quincy = address_whole[address_whole['COMMUNITY_NAME'] == \"QUINCY\"]"
   ]
  },
  {
   "cell_type": "code",
   "execution_count": 9,
   "metadata": {},
   "outputs": [],
   "source": [
    "parcel_quincy = parcel_quincy.reset_index()\n",
    "address_quincy = address_quincy.reset_index()"
   ]
  },
  {
   "cell_type": "code",
   "execution_count": 10,
   "metadata": {},
   "outputs": [],
   "source": [
    "to_geofeather(parcel_quincy, \"./data/test_data/quincy_parcel.feather\")\n",
    "to_geofeather(address_quincy, \"./data/test_data/quincy_address.feather\")"
   ]
  },
  {
   "source": [
    "### Test area - for style"
   ],
   "cell_type": "markdown",
   "metadata": {}
  },
  {
   "cell_type": "code",
   "execution_count": 42,
   "metadata": {},
   "outputs": [
    {
     "output_type": "execute_result",
     "data": {
      "text/plain": [
       "3476"
      ]
     },
     "metadata": {},
     "execution_count": 42
    }
   ],
   "source": [
    "len(parcel_style_whole_set)"
   ]
  },
  {
   "cell_type": "code",
   "execution_count": 93,
   "metadata": {},
   "outputs": [],
   "source": [
    "def filter_out_style_by_keywords(style_set, keywords=[\"apt\"], do_print=False):\n",
    "    output = set()\n",
    "    for v in style_set:\n",
    "        for k in keywords:\n",
    "            if k in v: \n",
    "                output.add(v)\n",
    "                break\n",
    "    print(len(output))\n",
    "    if do_print:\n",
    "        print(output)\n",
    "    return output\n",
    "\n",
    "def delete_from_set(style_set, not_desired_set):\n",
    "    output = set()\n",
    "    for v in style_set:\n",
    "        if v not in not_desired_set: output.add(v)\n",
    "    print(len(output))\n",
    "    return output"
   ]
  },
  {
   "cell_type": "code",
   "execution_count": 75,
   "metadata": {},
   "outputs": [
    {
     "output_type": "execute_result",
     "data": {
      "text/plain": [
       "1774"
      ]
     },
     "metadata": {},
     "execution_count": 75
    }
   ],
   "source": [
    "parcel_style_whole_set = set([str(v).lower() for v in set(parcel_whole_res['STYLE'])])\n",
    "len(parcel_style_whole_set)"
   ]
  },
  {
   "cell_type": "code",
   "execution_count": 107,
   "metadata": {},
   "outputs": [
    {
     "output_type": "stream",
     "name": "stdout",
     "text": [
      "Run time Cost is : 607.73ms\n"
     ]
    }
   ],
   "source": [
    "res_usecode_set_style_confidence = generate_residential_usecode_set({\" \" : usecode_desc['Style confidence']})\n",
    "parcel_whole_res_style_confidence = benchmark(filter_out_residential_parcels, (parcel_whole, res_usecode_set_style_confidence))"
   ]
  },
  {
   "cell_type": "code",
   "execution_count": 108,
   "metadata": {},
   "outputs": [
    {
     "output_type": "execute_result",
     "data": {
      "text/plain": [
       "960"
      ]
     },
     "metadata": {},
     "execution_count": 108
    }
   ],
   "source": [
    "parcel_style_whole_set_style_confidence = set([str(v).lower() for v in set(parcel_whole_res_style_confidence['STYLE'])])\n",
    "len(parcel_style_whole_set_style_confidence)"
   ]
  },
  {
   "cell_type": "code",
   "execution_count": 100,
   "metadata": {},
   "outputs": [
    {
     "output_type": "stream",
     "name": "stdout",
     "text": [
      "0\n"
     ]
    },
    {
     "output_type": "execute_result",
     "data": {
      "text/plain": [
       "set()"
      ]
     },
     "metadata": {},
     "execution_count": 100
    }
   ],
   "source": [
    "filter_out_style_by_keywords(parcel_style_whole_set_style_confidence, keywords=['cndo'])"
   ]
  },
  {
   "cell_type": "code",
   "execution_count": 109,
   "metadata": {},
   "outputs": [
    {
     "output_type": "stream",
     "name": "stdout",
     "text": [
      "273\n687\n"
     ]
    },
    {
     "output_type": "execute_result",
     "data": {
      "text/plain": [
       "{'0',\n",
       " '1',\n",
       " '1.5',\n",
       " '1.6',\n",
       " '1.65',\n",
       " '1.7',\n",
       " '1.75',\n",
       " '1.8',\n",
       " '1.85',\n",
       " '1.9',\n",
       " '12:duplex',\n",
       " '1:ranch',\n",
       " '2',\n",
       " '2 multi tnhs',\n",
       " '2-decker',\n",
       " '2.25',\n",
       " '2.3',\n",
       " '2.4',\n",
       " '2.5',\n",
       " '2f',\n",
       " '3',\n",
       " '3 decker',\n",
       " '3-decker',\n",
       " '4',\n",
       " '4:conv',\n",
       " '5:contemp',\n",
       " '6:dutch col',\n",
       " '6:ranch',\n",
       " '7:ranch slab',\n",
       " '8:raised ranch',\n",
       " '9',\n",
       " 'accessory bldg',\n",
       " 'accessorybld',\n",
       " 'administrative bldg',\n",
       " 'antique',\n",
       " 'antique 1',\n",
       " 'antique 3',\n",
       " 'antique mix',\n",
       " 'antique/olduni',\n",
       " 'antique/victor',\n",
       " 'antq-multi',\n",
       " 'apartmnt-old',\n",
       " 'aprtmt 4-8',\n",
       " 'aq',\n",
       " 'aq custom',\n",
       " 'arena',\n",
       " 'artist studio',\n",
       " 'assist livin',\n",
       " 'assistd livng',\n",
       " 'assisted liv',\n",
       " 'assisted living',\n",
       " 'assisted living/ eld',\n",
       " 'asst living',\n",
       " 'asst lvg fclty',\n",
       " 'at',\n",
       " 'auto dealer',\n",
       " 'auto dealr',\n",
       " 'auto repair shop',\n",
       " 'auto sales repa',\n",
       " 'auto sales rpr',\n",
       " 'auto sales/rpr',\n",
       " 'auto supply/service',\n",
       " 'b&b',\n",
       " 'b&b/inn',\n",
       " 'b+b/ inn',\n",
       " 'b+b/inn',\n",
       " 'bakery',\n",
       " 'bank',\n",
       " 'bank building',\n",
       " 'bar',\n",
       " 'bar/tavern',\n",
       " 'bar/tavern/pub',\n",
       " 'barbershop/salon',\n",
       " 'barn',\n",
       " 'barn/convr',\n",
       " 'barn/garage',\n",
       " 'barn/stg',\n",
       " 'basement',\n",
       " 'bath house',\n",
       " 'bathhouse',\n",
       " 'bl',\n",
       " 'bl duplex 1bd',\n",
       " 'bl free stg 1bd',\n",
       " 'bl free stg 2bd',\n",
       " 'bn',\n",
       " 'boarding house',\n",
       " 'boarding hse',\n",
       " 'boarding/group house',\n",
       " 'boat house /marina',\n",
       " 'bowling alley',\n",
       " 'branch bank',\n",
       " 'brdng house',\n",
       " 'brewery/winery',\n",
       " 'bung/cot',\n",
       " 'camp',\n",
       " 'camp sea',\n",
       " 'camp, yrnd',\n",
       " 'camp,seas',\n",
       " 'camp,yrrnd',\n",
       " 'camp/seasonal',\n",
       " 'camp/yr rnd',\n",
       " 'car wash',\n",
       " 'cg',\n",
       " 'chalet',\n",
       " 'chalet/a-frame',\n",
       " 'church, synagogue',\n",
       " 'church/syn',\n",
       " 'church/syn.',\n",
       " 'church/temple',\n",
       " 'churches',\n",
       " 'city club',\n",
       " 'cl',\n",
       " 'classrooms',\n",
       " 'club house',\n",
       " 'club hse',\n",
       " 'club/ldg/hall',\n",
       " 'club/lodge',\n",
       " 'club/lodge/hall',\n",
       " 'clubhouse',\n",
       " 'clubs/lodges',\n",
       " 'cm',\n",
       " 'cmrcl garage',\n",
       " 'cmty ctr',\n",
       " 'cn',\n",
       " 'cnvmrtservst',\n",
       " 'co',\n",
       " 'col/garr/tudor',\n",
       " 'cold storage',\n",
       " 'cold storg',\n",
       " 'college',\n",
       " 'com center',\n",
       " 'com utility bldg /sh',\n",
       " 'com-conv',\n",
       " 'comm bldg',\n",
       " 'comm blk',\n",
       " 'comm block',\n",
       " 'comm gar',\n",
       " 'comm multi-use',\n",
       " 'comm pkg garage',\n",
       " 'comm. block',\n",
       " 'comm. center',\n",
       " 'comm/res blk',\n",
       " 'commercial',\n",
       " 'cont. ranch',\n",
       " 'contemp',\n",
       " 'contemp 2 story',\n",
       " 'contemp coln',\n",
       " 'contemp ranch',\n",
       " 'contemp/1 story',\n",
       " 'contemp0ry',\n",
       " 'contemp`ry',\n",
       " 'contempor',\n",
       " 'contemporary',\n",
       " 'contempory',\n",
       " 'conv seasonal',\n",
       " 'conv. market',\n",
       " 'conv/ old sty',\n",
       " 'conv/old style',\n",
       " 'convalescnt',\n",
       " 'conven mkt',\n",
       " 'conven. store',\n",
       " 'conven/old',\n",
       " 'conven`l',\n",
       " 'convenience store',\n",
       " 'convent/conver',\n",
       " 'convent`nl',\n",
       " 'conventional',\n",
       " 'conventl',\n",
       " 'conventnl',\n",
       " 'conventnl os',\n",
       " 'conversion',\n",
       " 'convnt-multi',\n",
       " 'cott/seasonal',\n",
       " 'cottge-bnglw',\n",
       " 'country club',\n",
       " 'cp',\n",
       " 'cs',\n",
       " 'ct',\n",
       " 'custom',\n",
       " 'custom plus',\n",
       " \"cvt'd barn\",\n",
       " 'dance studio',\n",
       " 'day care',\n",
       " 'day care cente',\n",
       " 'day care center',\n",
       " 'day care cntr',\n",
       " 'day-care',\n",
       " 'day-care-ctr',\n",
       " 'daycare',\n",
       " 'daycare center',\n",
       " 'deck house',\n",
       " 'deck hse',\n",
       " 'decker',\n",
       " 'dentst',\n",
       " 'dept store',\n",
       " 'detached twnhs',\n",
       " 'din/lounge',\n",
       " 'discount store',\n",
       " 'dk',\n",
       " 'donutfastfoo',\n",
       " 'dormitory',\n",
       " 'dormitory  bd',\n",
       " 'downtown mixed use',\n",
       " 'downtown row bldg',\n",
       " 'dry clean/laund',\n",
       " 'dry clean/laundromat',\n",
       " 'dry cleaner',\n",
       " 'dry cln/laundry',\n",
       " 'duplex',\n",
       " 'duplex / row',\n",
       " 'duplex 1s',\n",
       " 'duplex 2s',\n",
       " 'duplex/ row',\n",
       " 'duplex/row',\n",
       " 'dx',\n",
       " 'educational facility',\n",
       " 'elderly home',\n",
       " 'elderly housing',\n",
       " 'end townhouse',\n",
       " 'equestrian  arena st',\n",
       " 'estate',\n",
       " 'exempt 121a prop',\n",
       " 'farm gr bldg',\n",
       " 'farm grade bldg',\n",
       " 'farm house',\n",
       " 'farm stand',\n",
       " 'farmhouse',\n",
       " 'fast food',\n",
       " 'fast food regional',\n",
       " 'fast food restaurant',\n",
       " 'flex space',\n",
       " 'fn',\n",
       " 'fran. fast food',\n",
       " 'franchise f. fd',\n",
       " 'frat/sor',\n",
       " 'fraternal hall',\n",
       " 'fraternity',\n",
       " 'free standing',\n",
       " 'full service restaur',\n",
       " 'function hall',\n",
       " 'funeral hm',\n",
       " 'funeral home',\n",
       " 'funeral home/comm.ty',\n",
       " 'funeral home/restype',\n",
       " 'funrl home',\n",
       " 'furn showroom',\n",
       " 'furniture showroom',\n",
       " 'gambrel',\n",
       " 'gambrel dch col',\n",
       " 'gar brk conv',\n",
       " 'gar brk new',\n",
       " 'gar w/qtrs',\n",
       " 'gar/qtrs',\n",
       " 'garage',\n",
       " 'garage warehouse',\n",
       " 'garage/base ops',\n",
       " 'garage/office',\n",
       " 'garden-1srty-re',\n",
       " 'garr / gamb',\n",
       " 'garrison',\n",
       " 'gb',\n",
       " 'gen office',\n",
       " 'gen retail',\n",
       " 'gen-office',\n",
       " 'general hospital',\n",
       " 'golf club',\n",
       " 'gov bldg',\n",
       " 'government bldg',\n",
       " 'govt bldg',\n",
       " 'govt. bldg.',\n",
       " 'gr',\n",
       " 'group care',\n",
       " 'group home',\n",
       " 'group res',\n",
       " 'guest hse/inn',\n",
       " 'gymnasium',\n",
       " 'h rise conv',\n",
       " 'h rise new',\n",
       " 'health clb',\n",
       " 'health club',\n",
       " 'health spa /club',\n",
       " 'heavy indust',\n",
       " 'historical',\n",
       " 'historical custom',\n",
       " 'hlt-nurs',\n",
       " 'home for aged',\n",
       " 'home for aged - 1%',\n",
       " 'hospital',\n",
       " 'hotel',\n",
       " 'ind living facility',\n",
       " 'ind shop',\n",
       " 'indust lght',\n",
       " 'indust-lt',\n",
       " 'indust-mfctr',\n",
       " 'industrial',\n",
       " 'industrial loft',\n",
       " 'inn',\n",
       " 'inn, resort',\n",
       " 'inn-b_b',\n",
       " 'inn/b&b',\n",
       " 'inn/b+b res',\n",
       " 'kennel',\n",
       " 'laundromat',\n",
       " 'laundromat /cleaner',\n",
       " 'laundry/dryc',\n",
       " 'lc',\n",
       " 'lg',\n",
       " 'lh',\n",
       " 'library',\n",
       " 'life sci hi tech',\n",
       " 'light indust',\n",
       " 'light industrial',\n",
       " 'light manuf.',\n",
       " 'light warehouse',\n",
       " 'light whse',\n",
       " 'loc shop cntr',\n",
       " 'loc shop ctr',\n",
       " 'lodge',\n",
       " 'lodge/club',\n",
       " 'lodging suites',\n",
       " 'loft',\n",
       " 'log',\n",
       " 'log cabin',\n",
       " 'log home',\n",
       " 'log house',\n",
       " 'low rise',\n",
       " 'low rise general off',\n",
       " 'low-rise',\n",
       " 'lt industrial',\n",
       " 'lt industrl',\n",
       " 'm1',\n",
       " 'm3',\n",
       " 'm4',\n",
       " 'machine shop (small)',\n",
       " 'maint bldg',\n",
       " 'manor',\n",
       " 'mansard',\n",
       " 'mansion',\n",
       " 'med office',\n",
       " 'med pro building',\n",
       " 'medical clinic outpa',\n",
       " 'medical office',\n",
       " 'mh',\n",
       " 'mid rise',\n",
       " 'mid-rise',\n",
       " 'mill',\n",
       " 'mill type warehouse',\n",
       " 'mini storage',\n",
       " 'mini-storage',\n",
       " 'mini-warehouse',\n",
       " 'mix nbhd ctr w/com',\n",
       " 'mix nbhd ctr w/res',\n",
       " 'mix use com',\n",
       " 'mix use com tp',\n",
       " 'mix use comm',\n",
       " 'mix use cond',\n",
       " 'mix use re',\n",
       " 'mix use/res tp',\n",
       " 'mix-old',\n",
       " 'mixed',\n",
       " 'mixed comm',\n",
       " 'mixed old',\n",
       " 'mixed res ty',\n",
       " 'mixed res/com',\n",
       " 'mixed ret/res',\n",
       " 'mixed retail/res',\n",
       " 'mixed use',\n",
       " 'mixed use (c/r)',\n",
       " 'mixed use comm',\n",
       " 'mixed use r/c',\n",
       " 'mixed use res',\n",
       " 'mixed use/comm-type',\n",
       " 'mixed use/ol',\n",
       " 'mixed use/resi-type',\n",
       " 'mixed-comm sect',\n",
       " 'mixed-res',\n",
       " 'mixed/old',\n",
       " 'mixed/use',\n",
       " 'mixeduse (o)',\n",
       " 'mixeduse (r)',\n",
       " 'mixeduse(c)',\n",
       " 'mn',\n",
       " 'mngrs qrtrs',\n",
       " 'moblle/man-s',\n",
       " 'modern colonia',\n",
       " 'modern style',\n",
       " 'modern/conte',\n",
       " 'modern/contemp',\n",
       " 'modern/contemporary',\n",
       " 'mort-fh',\n",
       " 'motel',\n",
       " 'motel/eff ssnl',\n",
       " 'motel/eff yr rn',\n",
       " 'motel/hotel',\n",
       " 'motels',\n",
       " 'muiti-garden',\n",
       " 'mult-resdnce',\n",
       " 'multi 111',\n",
       " 'multi 2-3',\n",
       " 'multi 4-8',\n",
       " 'multi conv',\n",
       " 'multi conversion',\n",
       " 'multi dx/sa',\n",
       " 'multi level',\n",
       " 'multi res/com',\n",
       " 'multi use',\n",
       " 'multi- tnhs',\n",
       " 'multi-coloni',\n",
       " 'multi-conv',\n",
       " 'multi-conver',\n",
       " 'multi-garden',\n",
       " 'multi-grd',\n",
       " 'multi-grdn',\n",
       " 'multi-tnhs',\n",
       " 'multi4-8',\n",
       " 'multipurp coll',\n",
       " 'museum, gallery',\n",
       " 'mutii-wtr',\n",
       " 'mx old',\n",
       " 'mx use < 9',\n",
       " 'mxd old',\n",
       " 'nbhd shop ct',\n",
       " 'ne col cot',\n",
       " 'new england',\n",
       " 'new manufacturing',\n",
       " 'new style',\n",
       " 'newenglandr',\n",
       " 'newstyle',\n",
       " 'night club',\n",
       " 'nightclub/bar',\n",
       " 'none',\n",
       " 'nur. home/extended c',\n",
       " 'nursing /conv home',\n",
       " 'nursing hm',\n",
       " 'nursing home',\n",
       " 'nursing snf',\n",
       " 'ofc a',\n",
       " 'ofc bldg',\n",
       " 'ofc-genl',\n",
       " 'off bldg',\n",
       " 'offc ovr ret',\n",
       " 'offc/ind/whs',\n",
       " 'office',\n",
       " 'office (attached)',\n",
       " 'office - b',\n",
       " 'office - pro',\n",
       " 'office 1-2 story',\n",
       " 'office 3-9 story',\n",
       " 'office bldg',\n",
       " 'office build',\n",
       " 'office building',\n",
       " 'office cls b',\n",
       " 'office cls b+',\n",
       " 'office conv',\n",
       " 'office park',\n",
       " 'office trailer',\n",
       " 'office warehous',\n",
       " 'office warehse',\n",
       " 'office-med',\n",
       " 'office-pro',\n",
       " 'office-prof',\n",
       " 'office-small',\n",
       " 'office-whse',\n",
       " 'office/pro',\n",
       " 'office/res.type',\n",
       " 'office/wareh',\n",
       " 'office/warehouse',\n",
       " 'office/warehs',\n",
       " 'office/whse',\n",
       " 'office: industrial',\n",
       " 'old stl/convtnl',\n",
       " 'old sty /mlt',\n",
       " 'old style',\n",
       " 'old/mix',\n",
       " 'os',\n",
       " 'ot',\n",
       " 'other',\n",
       " 'other municip',\n",
       " 'other state',\n",
       " 'outbuildings',\n",
       " 'packing plant',\n",
       " 'parkg-struct',\n",
       " 'parking gar',\n",
       " 'parking gar./high ri',\n",
       " 'pckrng rtl c',\n",
       " 'post off',\n",
       " 'post office',\n",
       " 'post/beam',\n",
       " 'pre-eng gar',\n",
       " 'pre-eng garage',\n",
       " 'pre-eng ware',\n",
       " 'pre-eng warehs',\n",
       " 'pre-eng whse',\n",
       " 'pre-eng whse/gar',\n",
       " 'priv city club',\n",
       " 'processing',\n",
       " 'prof bldg',\n",
       " 'prof building',\n",
       " 'prof. building',\n",
       " 'profess. bldg',\n",
       " 'professional',\n",
       " 'public ofc',\n",
       " 'quonset bldg.',\n",
       " 'r and d',\n",
       " 'r ranch',\n",
       " 'r ranch/split',\n",
       " 'r/m shop',\n",
       " 'raised colon',\n",
       " 'raised ran',\n",
       " 'raised ranch',\n",
       " 'raised rnch',\n",
       " 'raised-ranch',\n",
       " 'ranch',\n",
       " 'ranch mixed',\n",
       " 'rc',\n",
       " 'rc/res tp comm',\n",
       " 'recreation bldg',\n",
       " 'rect/conv',\n",
       " 'rectory',\n",
       " 'rectory, convent',\n",
       " 'relay bldg',\n",
       " 'religious building',\n",
       " 'religious organizati',\n",
       " 'repair gar',\n",
       " 'repair gar.',\n",
       " 'repair garage',\n",
       " 'res /commercial use',\n",
       " 'res parking garage',\n",
       " 'res style comm',\n",
       " 'res typ com',\n",
       " 'res typ com or mix',\n",
       " 'res typ com or mu',\n",
       " 'res typ comm',\n",
       " 'res type com',\n",
       " 'res type comm',\n",
       " 'res type commercial',\n",
       " 'res-conv',\n",
       " 'res/com',\n",
       " 'res/com 01mdl',\n",
       " 'res/comm',\n",
       " 'rescomm',\n",
       " 'resid design office',\n",
       " 'residential',\n",
       " 'rest homes',\n",
       " 'rest/bar',\n",
       " 'restaurant',\n",
       " 'restaurant/cafeteria',\n",
       " 'restaurant/lounge',\n",
       " 'ret/whsl/service',\n",
       " 'retail',\n",
       " 'retail <10,000 sq.ft',\n",
       " 'retail sm',\n",
       " 'retail store',\n",
       " 'retail store detache',\n",
       " 'retail-store',\n",
       " 'rm',\n",
       " 'rmng/brdng',\n",
       " 'rn',\n",
       " 'roomg hse',\n",
       " 'rooming house',\n",
       " 'rooming hs',\n",
       " 'row end',\n",
       " 'row end twn hse',\n",
       " 'row house',\n",
       " 'row house 108',\n",
       " 'row mdd twn hse',\n",
       " 'row middle',\n",
       " 'rr',\n",
       " 'rr/splent',\n",
       " 'rs',\n",
       " 'rst-pizza',\n",
       " 'rtl store',\n",
       " 'rtl-genl',\n",
       " 'rtl-small',\n",
       " 'saltbox',\n",
       " 'sb',\n",
       " 'school',\n",
       " 'schools',\n",
       " 'seasonal/camp',\n",
       " 'self storage',\n",
       " 'semi-det',\n",
       " 'senior housing',\n",
       " 'ser shops',\n",
       " 'serv shop/gar',\n",
       " 'serv w/ gas',\n",
       " 'service center',\n",
       " 'service garage',\n",
       " 'service shop',\n",
       " 'service shop/gar',\n",
       " 'service st',\n",
       " 'service station',\n",
       " 'service statn',\n",
       " 'service/job shop',\n",
       " 'servsta 3bay',\n",
       " 'shared lvng',\n",
       " 'shop center',\n",
       " 'shop ctr',\n",
       " 'shop ctr n',\n",
       " 'shop ctr reg',\n",
       " 'shop mall',\n",
       " 'shop plaza',\n",
       " 'shop-ctr nei',\n",
       " 'shop/salon',\n",
       " 'shopping ctr',\n",
       " 'sl',\n",
       " 'sm fin comm',\n",
       " 'sm retail',\n",
       " 'social club',\n",
       " 'split',\n",
       " 'split colonl',\n",
       " 'split ent',\n",
       " 'split entry',\n",
       " 'split gamb',\n",
       " 'split level',\n",
       " 'split levl',\n",
       " 'split-level',\n",
       " 'split-multi level',\n",
       " 'srvc/shwrm',\n",
       " 'st',\n",
       " 'stable',\n",
       " 'standard basic',\n",
       " 'standard plus',\n",
       " 'stge/util',\n",
       " 'storage',\n",
       " 'storage ancillary',\n",
       " 'storage gar',\n",
       " 'storage garage',\n",
       " 'storage warehouse',\n",
       " 'storage whse',\n",
       " 'storage whse (old)',\n",
       " 'storage-whse',\n",
       " 'storage/gar',\n",
       " 'store',\n",
       " 'store(sm ret)',\n",
       " 'store(sm retail',\n",
       " 'store(sm. ret)',\n",
       " 'store(sm.retail',\n",
       " 'store-storag',\n",
       " 'store/retail',\n",
       " 'store/sm retail',\n",
       " 'stores/apart',\n",
       " 'strip mall',\n",
       " 'strip retail/ office',\n",
       " 'strip stores',\n",
       " 'studio bldg',\n",
       " 'subsd housing s- 8',\n",
       " 'subsd housing s-202',\n",
       " 'subsd housing s-231d',\n",
       " 'super mkt',\n",
       " 'supermarket',\n",
       " 'svc job shop',\n",
       " 'take out',\n",
       " 'td',\n",
       " 'telephone bldg.',\n",
       " 'tennis clb',\n",
       " 'tennis club',\n",
       " 'th',\n",
       " 'theaters (enc)',\n",
       " 'townhouse',\n",
       " 'training /priv educ',\n",
       " 'tri level',\n",
       " 'truck terminal',\n",
       " 'tudor',\n",
       " 'two-floors',\n",
       " 'typical',\n",
       " 'used car sales',\n",
       " 'util bldg',\n",
       " 'utility bldg',\n",
       " 'vacant',\n",
       " 'vacant land',\n",
       " 'vacnt land',\n",
       " 'vet clinic',\n",
       " 'vet. clinic',\n",
       " 'veterinary hospital',\n",
       " 'victorian',\n",
       " 'victrian/edw',\n",
       " 'vt',\n",
       " 'warehouse',\n",
       " 'warehouse - 1%',\n",
       " 'warehouse /distrib',\n",
       " 'warehousing',\n",
       " 'warehse/office',\n",
       " 'whse - mini',\n",
       " 'whse-mini',\n",
       " 'whse-strg',\n",
       " 'whse: industrial',\n",
       " 'yard items'}"
      ]
     },
     "metadata": {},
     "execution_count": 109
    }
   ],
   "source": [
    "wanted_style_set = filter_out_style_by_keywords(parcel_style_whole_set_style_confidence, keywords=['apartment', 'apt', 'condo', 'fam', 'family', 'aprtmnt', 'flat', 'colonial', 'bungalow', 'bunglw', 'cottage', 'mobile', 'cndo', 'unit', 'units', 'cape'])\n",
    "delete_from_set(parcel_style_whole_set_style_confidence, wanted_style_set)"
   ]
  },
  {
   "cell_type": "code",
   "execution_count": 49,
   "metadata": {},
   "outputs": [
    {
     "output_type": "execute_result",
     "data": {
      "text/plain": [
       "3165"
      ]
     },
     "metadata": {},
     "execution_count": 49
    }
   ],
   "source": [
    "len(parcel_style_whole_set)"
   ]
  },
  {
   "source": [
    "### end test"
   ],
   "cell_type": "markdown",
   "metadata": {}
  },
  {
   "source": [
    "## Read data - Test data"
   ],
   "cell_type": "markdown",
   "metadata": {}
  },
  {
   "cell_type": "code",
   "execution_count": 110,
   "metadata": {},
   "outputs": [
    {
     "output_type": "stream",
     "name": "stdout",
     "text": [
      "Time cost: 792.67ms\n"
     ]
    }
   ],
   "source": [
    "start_time = datetime.now()\n",
    "\n",
    "parcel_quincy = from_geofeather(\"./data/test_data/quincy_parcel.feather\")\n",
    "address_quincy = from_geofeather(\"./data/test_data/quincy_address.feather\")\n",
    "\n",
    "end_time = datetime.now()\n",
    "print(\"Time cost: %.2fms\" %((end_time - start_time).total_seconds() * 1000))"
   ]
  },
  {
   "source": [
    "### Read use code"
   ],
   "cell_type": "markdown",
   "metadata": {}
  },
  {
   "cell_type": "code",
   "execution_count": 111,
   "metadata": {},
   "outputs": [],
   "source": [
    "state_use_code = gpd.read_file(\"data/state_use_codes_lookup_table/\")"
   ]
  },
  {
   "source": [
    "## Main process\n",
    "### Clean addresses"
   ],
   "cell_type": "markdown",
   "metadata": {}
  },
  {
   "cell_type": "code",
   "execution_count": 169,
   "metadata": {},
   "outputs": [],
   "source": [
    "def count_parcels(parcel_df, usecode_dict):\n",
    "    id_ = []\n",
    "    count_by_usecode = []\n",
    "    usecode_str = []\n",
    "    style_desc = []\n",
    "    geometry_ = []\n",
    "    area = []\n",
    "\n",
    "    for loc_id_, df_ in parcel_df.groupby(\"LOC_ID\"):\n",
    "        # count_temp_style = 0\n",
    "        style_set = set()\n",
    "        for style_ in df_[\"STYLE\"]:\n",
    "            style_set.add(str(style_))\n",
    "            # if style_ in usecode_dict.keys():\n",
    "            #     count_temp += usecode_dict[style_]\n",
    "        \n",
    "        count_temp_usecode = 0\n",
    "        usecode_set = set()\n",
    "        for uc in df_[\"USE_CODE\"]:\n",
    "            usecode_set.add(str(uc))\n",
    "            if uc and uc[:3] in usecode_dict.keys():\n",
    "                count_temp_usecode += usecode_dict[uc[:3]]\n",
    "            else:\n",
    "                count_temp_usecode = -1\n",
    "\n",
    "        id_.append(loc_id_)\n",
    "        count_by_usecode.append(count_temp_usecode)\n",
    "        style_desc.append(compose_string(style_set))\n",
    "        usecode_str.append(compose_string(usecode_set))\n",
    "        area.append(df_[\"SHAPE_AREA\"].iloc[0])\n",
    "        geometry_.append(df_['geometry'].iloc[0])\n",
    "\n",
    "    return [id_, style_desc, count_by_usecode, usecode_str, area, geometry_]"
   ]
  },
  {
   "cell_type": "code",
   "execution_count": 112,
   "metadata": {},
   "outputs": [
    {
     "output_type": "stream",
     "name": "stdout",
     "text": [
      "Run time Cost is : 8716.65ms\n"
     ]
    }
   ],
   "source": [
    "address_quincy_afterdrop = benchmark(clean_addresses, (address_quincy))"
   ]
  },
  {
   "source": [
    "### Filter out residential parcels"
   ],
   "cell_type": "markdown",
   "metadata": {}
  },
  {
   "cell_type": "code",
   "execution_count": 131,
   "metadata": {},
   "outputs": [],
   "source": [
    "res_usecode_set = generate_residential_usecode_set(usecode_desc)"
   ]
  },
  {
   "cell_type": "code",
   "execution_count": 132,
   "metadata": {},
   "outputs": [
    {
     "output_type": "stream",
     "name": "stdout",
     "text": [
      "Run time Cost is : 16.51ms\n"
     ]
    }
   ],
   "source": [
    "parcel_qunicy_residential = benchmark(filter_out_residential_parcels, (parcel_quincy, [\"101\", '102', '103', '104', '105', '109', '111', '112', '113', '114']))"
   ]
  },
  {
   "source": [
    "### Count by usecode"
   ],
   "cell_type": "markdown",
   "metadata": {}
  },
  {
   "cell_type": "code",
   "execution_count": 162,
   "metadata": {},
   "outputs": [],
   "source": [
    "parcel_qunicy_residential_conv = parcel_qunicy_residential.to_crs(\"EPSG:4326\")"
   ]
  },
  {
   "cell_type": "code",
   "execution_count": 170,
   "metadata": {},
   "outputs": [
    {
     "output_type": "stream",
     "name": "stdout",
     "text": [
      "Run time Cost is : 8304.24ms\n"
     ]
    }
   ],
   "source": [
    "res_quincy_parcel_test = benchmark(count_parcels, (parcel_qunicy_residential_conv, usecode_dict))"
   ]
  },
  {
   "cell_type": "code",
   "execution_count": 171,
   "metadata": {},
   "outputs": [
    {
     "output_type": "stream",
     "name": "stdout",
     "text": [
      "Run time Cost is : 26.01ms\n"
     ]
    },
    {
     "output_type": "execute_result",
     "data": {
      "text/plain": [
       "             LOC_ID  STYLE_DESC  count_by_usecode usecode_str          area  \\\n",
       "0  F_778027_2915235  Apartments                -1        1120  33452.339850   \n",
       "1  F_779136_2914626    Colonial                 1        1010   2501.946057   \n",
       "2  F_779195_2914956    Colonial                 1        1010   1059.174955   \n",
       "3  F_779198_2916311    Colonial                 1        1010    634.260808   \n",
       "4  F_779220_2914717    Colonial                 1        1010    925.200051   \n",
       "\n",
       "                                            geometry  \n",
       "0  POLYGON ((-71.04883 42.24728, -71.04863 42.246...  \n",
       "1  POLYGON ((-71.04536 42.24488, -71.04596 42.244...  \n",
       "2  POLYGON ((-71.04556 42.24579, -71.04575 42.245...  \n",
       "3  POLYGON ((-71.04553 42.24948, -71.04563 42.249...  \n",
       "4  POLYGON ((-71.04539 42.24508, -71.04539 42.245...  "
      ],
      "text/html": "<div>\n<style scoped>\n    .dataframe tbody tr th:only-of-type {\n        vertical-align: middle;\n    }\n\n    .dataframe tbody tr th {\n        vertical-align: top;\n    }\n\n    .dataframe thead th {\n        text-align: right;\n    }\n</style>\n<table border=\"1\" class=\"dataframe\">\n  <thead>\n    <tr style=\"text-align: right;\">\n      <th></th>\n      <th>LOC_ID</th>\n      <th>STYLE_DESC</th>\n      <th>count_by_usecode</th>\n      <th>usecode_str</th>\n      <th>area</th>\n      <th>geometry</th>\n    </tr>\n  </thead>\n  <tbody>\n    <tr>\n      <th>0</th>\n      <td>F_778027_2915235</td>\n      <td>Apartments</td>\n      <td>-1</td>\n      <td>1120</td>\n      <td>33452.339850</td>\n      <td>POLYGON ((-71.04883 42.24728, -71.04863 42.246...</td>\n    </tr>\n    <tr>\n      <th>1</th>\n      <td>F_779136_2914626</td>\n      <td>Colonial</td>\n      <td>1</td>\n      <td>1010</td>\n      <td>2501.946057</td>\n      <td>POLYGON ((-71.04536 42.24488, -71.04596 42.244...</td>\n    </tr>\n    <tr>\n      <th>2</th>\n      <td>F_779195_2914956</td>\n      <td>Colonial</td>\n      <td>1</td>\n      <td>1010</td>\n      <td>1059.174955</td>\n      <td>POLYGON ((-71.04556 42.24579, -71.04575 42.245...</td>\n    </tr>\n    <tr>\n      <th>3</th>\n      <td>F_779198_2916311</td>\n      <td>Colonial</td>\n      <td>1</td>\n      <td>1010</td>\n      <td>634.260808</td>\n      <td>POLYGON ((-71.04553 42.24948, -71.04563 42.249...</td>\n    </tr>\n    <tr>\n      <th>4</th>\n      <td>F_779220_2914717</td>\n      <td>Colonial</td>\n      <td>1</td>\n      <td>1010</td>\n      <td>925.200051</td>\n      <td>POLYGON ((-71.04539 42.24508, -71.04539 42.245...</td>\n    </tr>\n  </tbody>\n</table>\n</div>"
     },
     "metadata": {},
     "execution_count": 171
    }
   ],
   "source": [
    "res_qunicy_parcel_aftercount = benchmark(generate_gpd_dataframe, (res_quincy_parcel_test, [\"LOC_ID\", \"STYLE_DESC\", \"count_by_usecode\", \"usecode_str\", \"area\"]))\n",
    "res_qunicy_parcel_aftercount.head()"
   ]
  },
  {
   "cell_type": "code",
   "execution_count": 273,
   "metadata": {},
   "outputs": [
    {
     "output_type": "execute_result",
     "data": {
      "text/plain": [
       "                     geometry\n",
       "0  POINT (-71.03053 42.22899)\n",
       "1  POINT (-71.03053 42.22899)\n",
       "2  POINT (-71.03053 42.22899)\n",
       "3  POINT (-71.03053 42.22899)\n",
       "4  POINT (-71.02972 42.22912)"
      ],
      "text/html": "<div>\n<style scoped>\n    .dataframe tbody tr th:only-of-type {\n        vertical-align: middle;\n    }\n\n    .dataframe tbody tr th {\n        vertical-align: top;\n    }\n\n    .dataframe thead th {\n        text-align: right;\n    }\n</style>\n<table border=\"1\" class=\"dataframe\">\n  <thead>\n    <tr style=\"text-align: right;\">\n      <th></th>\n      <th>geometry</th>\n    </tr>\n  </thead>\n  <tbody>\n    <tr>\n      <th>0</th>\n      <td>POINT (-71.03053 42.22899)</td>\n    </tr>\n    <tr>\n      <th>1</th>\n      <td>POINT (-71.03053 42.22899)</td>\n    </tr>\n    <tr>\n      <th>2</th>\n      <td>POINT (-71.03053 42.22899)</td>\n    </tr>\n    <tr>\n      <th>3</th>\n      <td>POINT (-71.03053 42.22899)</td>\n    </tr>\n    <tr>\n      <th>4</th>\n      <td>POINT (-71.02972 42.22912)</td>\n    </tr>\n  </tbody>\n</table>\n</div>"
     },
     "metadata": {},
     "execution_count": 273
    }
   ],
   "source": [
    "address_quincy_loc.head()"
   ]
  },
  {
   "source": [
    "### Sjoin"
   ],
   "cell_type": "markdown",
   "metadata": {}
  },
  {
   "cell_type": "code",
   "execution_count": 410,
   "metadata": {},
   "outputs": [],
   "source": [
    "address_quincy_loc_test = address_quincy_afterdrop.to_crs(\"EPSG:4326\")\n",
    "sjoin_not_count = gpd.sjoin(address_quincy_loc_test, res_qunicy_parcel_aftercount_conv, how=\"left\", op=\"within\")"
   ]
  },
  {
   "cell_type": "code",
   "execution_count": 426,
   "metadata": {},
   "outputs": [],
   "source": [
    "## Duplicates!\n",
    "## TODO: Problem, different address for same building\n",
    "## TODO: How to solve?"
   ]
  },
  {
   "cell_type": "code",
   "execution_count": 425,
   "metadata": {},
   "outputs": [
    {
     "output_type": "execute_result",
     "data": {
      "text/plain": [
       "         index      CENTROID_ID FULL_NUMBER_STANDARDIZED  \\\n",
       "29168  2156026  M_239101_890354                      243   \n",
       "29307  2156425  M_239101_890354                      247   \n",
       "29309  2156427  M_239101_890354                      247   \n",
       "\n",
       "      ADDRESS_NUMBER_PREFIX  ADDRESS_NUMBER ADDRESS_NUMBER_SUFFIX  \\\n",
       "29168                  None           243.0                  None   \n",
       "29307                  None           247.0                  None   \n",
       "29309                  None           247.0                  None   \n",
       "\n",
       "      ADDRESS_NUMBER_2_PREFIX  ADDRESS_NUMBER_2 ADDRESS_NUMBER_2_SUFFIX  \\\n",
       "29168                    None               NaN                    None   \n",
       "29307                    None               NaN                    None   \n",
       "29309                    None               NaN                    None   \n",
       "\n",
       "                STREET_NAME FLOOR UNIT  MASTER_ADDRESS_ID  STREET_NAME_ID  \\\n",
       "29168  NORTH CENTRAL AVENUE  None    1            4280998          180076   \n",
       "29307  NORTH CENTRAL AVENUE  None    1            4385368          180076   \n",
       "29309  NORTH CENTRAL AVENUE  None    2            4046650          180076   \n",
       "\n",
       "      REL_LOC  SITE_ID BUILDING_NAME  GEOGRAPHIC_TOWN_ID  COMMUNITY_ID  \\\n",
       "29168    None      NaN          None               243.0           261   \n",
       "29307    None      NaN          None               243.0           261   \n",
       "29309    None      NaN          None               243.0           261   \n",
       "\n",
       "      COMMUNITY_NAME GEOGRAPHIC_TOWN POSTCODE PC_NAME   COUNTY STATE  \\\n",
       "29168         QUINCY          QUINCY    02170  QUINCY  NORFOLK    MA   \n",
       "29307         QUINCY          QUINCY    02170  QUINCY  NORFOLK    MA   \n",
       "29309         QUINCY          QUINCY    02170  QUINCY  NORFOLK    MA   \n",
       "\n",
       "                         geometry  index_right            LOC_ID  \\\n",
       "29168  POINT (-71.02608 42.26267)       4208.0  F_784455_2921099   \n",
       "29307  POINT (-71.02608 42.26267)       4208.0  F_784455_2921099   \n",
       "29309  POINT (-71.02608 42.26267)       4208.0  F_784455_2921099   \n",
       "\n",
       "         STYLE_DESC  count_by_usecode usecode_str        area  \n",
       "29168  2 Fam Conver               2.0        1040  800.808293  \n",
       "29307  2 Fam Conver               2.0        1040  800.808293  \n",
       "29309  2 Fam Conver               2.0        1040  800.808293  "
      ],
      "text/html": "<div>\n<style scoped>\n    .dataframe tbody tr th:only-of-type {\n        vertical-align: middle;\n    }\n\n    .dataframe tbody tr th {\n        vertical-align: top;\n    }\n\n    .dataframe thead th {\n        text-align: right;\n    }\n</style>\n<table border=\"1\" class=\"dataframe\">\n  <thead>\n    <tr style=\"text-align: right;\">\n      <th></th>\n      <th>index</th>\n      <th>CENTROID_ID</th>\n      <th>FULL_NUMBER_STANDARDIZED</th>\n      <th>ADDRESS_NUMBER_PREFIX</th>\n      <th>ADDRESS_NUMBER</th>\n      <th>ADDRESS_NUMBER_SUFFIX</th>\n      <th>ADDRESS_NUMBER_2_PREFIX</th>\n      <th>ADDRESS_NUMBER_2</th>\n      <th>ADDRESS_NUMBER_2_SUFFIX</th>\n      <th>STREET_NAME</th>\n      <th>FLOOR</th>\n      <th>UNIT</th>\n      <th>MASTER_ADDRESS_ID</th>\n      <th>STREET_NAME_ID</th>\n      <th>REL_LOC</th>\n      <th>SITE_ID</th>\n      <th>BUILDING_NAME</th>\n      <th>GEOGRAPHIC_TOWN_ID</th>\n      <th>COMMUNITY_ID</th>\n      <th>COMMUNITY_NAME</th>\n      <th>GEOGRAPHIC_TOWN</th>\n      <th>POSTCODE</th>\n      <th>PC_NAME</th>\n      <th>COUNTY</th>\n      <th>STATE</th>\n      <th>geometry</th>\n      <th>index_right</th>\n      <th>LOC_ID</th>\n      <th>STYLE_DESC</th>\n      <th>count_by_usecode</th>\n      <th>usecode_str</th>\n      <th>area</th>\n    </tr>\n  </thead>\n  <tbody>\n    <tr>\n      <th>29168</th>\n      <td>2156026</td>\n      <td>M_239101_890354</td>\n      <td>243</td>\n      <td>None</td>\n      <td>243.0</td>\n      <td>None</td>\n      <td>None</td>\n      <td>NaN</td>\n      <td>None</td>\n      <td>NORTH CENTRAL AVENUE</td>\n      <td>None</td>\n      <td>1</td>\n      <td>4280998</td>\n      <td>180076</td>\n      <td>None</td>\n      <td>NaN</td>\n      <td>None</td>\n      <td>243.0</td>\n      <td>261</td>\n      <td>QUINCY</td>\n      <td>QUINCY</td>\n      <td>02170</td>\n      <td>QUINCY</td>\n      <td>NORFOLK</td>\n      <td>MA</td>\n      <td>POINT (-71.02608 42.26267)</td>\n      <td>4208.0</td>\n      <td>F_784455_2921099</td>\n      <td>2 Fam Conver</td>\n      <td>2.0</td>\n      <td>1040</td>\n      <td>800.808293</td>\n    </tr>\n    <tr>\n      <th>29307</th>\n      <td>2156425</td>\n      <td>M_239101_890354</td>\n      <td>247</td>\n      <td>None</td>\n      <td>247.0</td>\n      <td>None</td>\n      <td>None</td>\n      <td>NaN</td>\n      <td>None</td>\n      <td>NORTH CENTRAL AVENUE</td>\n      <td>None</td>\n      <td>1</td>\n      <td>4385368</td>\n      <td>180076</td>\n      <td>None</td>\n      <td>NaN</td>\n      <td>None</td>\n      <td>243.0</td>\n      <td>261</td>\n      <td>QUINCY</td>\n      <td>QUINCY</td>\n      <td>02170</td>\n      <td>QUINCY</td>\n      <td>NORFOLK</td>\n      <td>MA</td>\n      <td>POINT (-71.02608 42.26267)</td>\n      <td>4208.0</td>\n      <td>F_784455_2921099</td>\n      <td>2 Fam Conver</td>\n      <td>2.0</td>\n      <td>1040</td>\n      <td>800.808293</td>\n    </tr>\n    <tr>\n      <th>29309</th>\n      <td>2156427</td>\n      <td>M_239101_890354</td>\n      <td>247</td>\n      <td>None</td>\n      <td>247.0</td>\n      <td>None</td>\n      <td>None</td>\n      <td>NaN</td>\n      <td>None</td>\n      <td>NORTH CENTRAL AVENUE</td>\n      <td>None</td>\n      <td>2</td>\n      <td>4046650</td>\n      <td>180076</td>\n      <td>None</td>\n      <td>NaN</td>\n      <td>None</td>\n      <td>243.0</td>\n      <td>261</td>\n      <td>QUINCY</td>\n      <td>QUINCY</td>\n      <td>02170</td>\n      <td>QUINCY</td>\n      <td>NORFOLK</td>\n      <td>MA</td>\n      <td>POINT (-71.02608 42.26267)</td>\n      <td>4208.0</td>\n      <td>F_784455_2921099</td>\n      <td>2 Fam Conver</td>\n      <td>2.0</td>\n      <td>1040</td>\n      <td>800.808293</td>\n    </tr>\n  </tbody>\n</table>\n</div>"
     },
     "metadata": {},
     "execution_count": 425
    }
   ],
   "source": [
    "sjoin_not_count[sjoin_not_count['LOC_ID'] == \"F_784455_2921099\"]"
   ]
  },
  {
   "cell_type": "code",
   "execution_count": 412,
   "metadata": {},
   "outputs": [],
   "source": [
    "address_quincy_loc = gpd.GeoDataFrame(address_quincy_afterdrop['geometry']).to_crs(\"EPSG:4326\")\n",
    "res_qunicy_parcel_aftercount_conv = res_qunicy_parcel_aftercount.set_crs(epsg=4326)"
   ]
  },
  {
   "cell_type": "code",
   "execution_count": 413,
   "metadata": {},
   "outputs": [
    {
     "output_type": "stream",
     "name": "stdout",
     "text": [
      "Run time Cost is : 2936.27ms\n"
     ]
    }
   ],
   "source": [
    "sjoin_test = benchmark(join_two_dataset, (address_quincy_loc, res_qunicy_parcel_aftercount_conv))"
   ]
  },
  {
   "cell_type": "code",
   "execution_count": 397,
   "metadata": {},
   "outputs": [
    {
     "output_type": "execute_result",
     "data": {
      "text/plain": [
       "   index_left            LOC_ID  STYLE_DESC  count_by_usecode usecode_str  \\\n",
       "0     24712.0  F_778027_2915235  Apartments                -1        1120   \n",
       "1      9144.0  F_779136_2914626    Colonial                 1        1010   \n",
       "2     26182.0  F_779195_2914956    Colonial                 1        1010   \n",
       "3     19226.0  F_779198_2916311    Colonial                 1        1010   \n",
       "4     25852.0  F_779220_2914717    Colonial                 1        1010   \n",
       "\n",
       "           area                                           geometry  ADD_COUNT  \n",
       "0  33452.339850  POLYGON ((-71.04883 42.24728, -71.04863 42.246...          2  \n",
       "1   2501.946057  POLYGON ((-71.04536 42.24488, -71.04596 42.244...          1  \n",
       "2   1059.174955  POLYGON ((-71.04556 42.24579, -71.04575 42.245...          1  \n",
       "3    634.260808  POLYGON ((-71.04553 42.24948, -71.04563 42.249...          1  \n",
       "4    925.200051  POLYGON ((-71.04539 42.24508, -71.04539 42.245...          1  "
      ],
      "text/html": "<div>\n<style scoped>\n    .dataframe tbody tr th:only-of-type {\n        vertical-align: middle;\n    }\n\n    .dataframe tbody tr th {\n        vertical-align: top;\n    }\n\n    .dataframe thead th {\n        text-align: right;\n    }\n</style>\n<table border=\"1\" class=\"dataframe\">\n  <thead>\n    <tr style=\"text-align: right;\">\n      <th></th>\n      <th>index_left</th>\n      <th>LOC_ID</th>\n      <th>STYLE_DESC</th>\n      <th>count_by_usecode</th>\n      <th>usecode_str</th>\n      <th>area</th>\n      <th>geometry</th>\n      <th>ADD_COUNT</th>\n    </tr>\n  </thead>\n  <tbody>\n    <tr>\n      <th>0</th>\n      <td>24712.0</td>\n      <td>F_778027_2915235</td>\n      <td>Apartments</td>\n      <td>-1</td>\n      <td>1120</td>\n      <td>33452.339850</td>\n      <td>POLYGON ((-71.04883 42.24728, -71.04863 42.246...</td>\n      <td>2</td>\n    </tr>\n    <tr>\n      <th>1</th>\n      <td>9144.0</td>\n      <td>F_779136_2914626</td>\n      <td>Colonial</td>\n      <td>1</td>\n      <td>1010</td>\n      <td>2501.946057</td>\n      <td>POLYGON ((-71.04536 42.24488, -71.04596 42.244...</td>\n      <td>1</td>\n    </tr>\n    <tr>\n      <th>2</th>\n      <td>26182.0</td>\n      <td>F_779195_2914956</td>\n      <td>Colonial</td>\n      <td>1</td>\n      <td>1010</td>\n      <td>1059.174955</td>\n      <td>POLYGON ((-71.04556 42.24579, -71.04575 42.245...</td>\n      <td>1</td>\n    </tr>\n    <tr>\n      <th>3</th>\n      <td>19226.0</td>\n      <td>F_779198_2916311</td>\n      <td>Colonial</td>\n      <td>1</td>\n      <td>1010</td>\n      <td>634.260808</td>\n      <td>POLYGON ((-71.04553 42.24948, -71.04563 42.249...</td>\n      <td>1</td>\n    </tr>\n    <tr>\n      <th>4</th>\n      <td>25852.0</td>\n      <td>F_779220_2914717</td>\n      <td>Colonial</td>\n      <td>1</td>\n      <td>1010</td>\n      <td>925.200051</td>\n      <td>POLYGON ((-71.04539 42.24508, -71.04539 42.245...</td>\n      <td>1</td>\n    </tr>\n  </tbody>\n</table>\n</div>"
     },
     "metadata": {},
     "execution_count": 397
    }
   ],
   "source": [
    "sjoin_test.head()"
   ]
  },
  {
   "source": [
    "### Merge two datasets"
   ],
   "cell_type": "markdown",
   "metadata": {}
  },
  {
   "cell_type": "code",
   "execution_count": 420,
   "metadata": {},
   "outputs": [],
   "source": [
    "# No style yet\n",
    "def filter_out_need_analysis(df, parcel_confidence_set, address_confidence_set):\n",
    "    count_by_usecode = df['count_by_usecode']\n",
    "    count_by_add = df['ADD_COUNT']\n",
    "    usecode = df['usecode_str']\n",
    "\n",
    "    assumption = []\n",
    "\n",
    "    for i, u in enumerate(usecode):\n",
    "        uu = u[:3]\n",
    "        if uu in parcel_confidence_set:\n",
    "            assumption.append(count_by_usecode[i])\n",
    "            continue\n",
    "        if uu in address_confidence_set:\n",
    "            assumption.append(count_by_add[i])\n",
    "            continue\n",
    "        # TODO： possibile?\n",
    "        # Two people live in a two family house?\n",
    "        if count_by_add[i] < count_by_usecode[i]:\n",
    "            assumption.append(count_by_add[i])\n",
    "            continue\n",
    "        if count_by_usecode[i] == count_by_add[i]:\n",
    "            assumption.append(count_by_usecode[i])\n",
    "            continue\n",
    "\n",
    "        assumption.append(-1)\n",
    "    return assumption"
   ]
  },
  {
   "cell_type": "code",
   "execution_count": 253,
   "metadata": {},
   "outputs": [],
   "source": [
    "parcel_confidence_set = set([\"102\"])\n",
    "address_confidence_set = set([\"109\", \"111\", \"112\", \"113\", \"114\"])"
   ]
  },
  {
   "cell_type": "code",
   "execution_count": 421,
   "metadata": {},
   "outputs": [],
   "source": [
    "assumption_quincy_v1 = filter_out_need_analysis(sjoin_test, parcel_confidence_set, address_confidence_set)\n",
    "sjoin_test['Assumption'] = assumption_quincy_v1"
   ]
  },
  {
   "cell_type": "code",
   "execution_count": 249,
   "metadata": {},
   "outputs": [
    {
     "output_type": "execute_result",
     "data": {
      "text/plain": [
       "                  index_left  STYLE_DESC  count_by_usecode usecode_str  \\\n",
       "LOC_ID                                                                   \n",
       "F_778027_2915235     24712.0  Apartments                -1        1120   \n",
       "F_779136_2914626      9144.0    Colonial                 1        1010   \n",
       "F_779195_2914956     26182.0    Colonial                 1        1010   \n",
       "F_779198_2916311     19226.0    Colonial                 1        1010   \n",
       "F_779220_2914717     25852.0    Colonial                 1        1010   \n",
       "\n",
       "                          area  \\\n",
       "LOC_ID                           \n",
       "F_778027_2915235  33452.339850   \n",
       "F_779136_2914626   2501.946057   \n",
       "F_779195_2914956   1059.174955   \n",
       "F_779198_2916311    634.260808   \n",
       "F_779220_2914717    925.200051   \n",
       "\n",
       "                                                           geometry  \\\n",
       "LOC_ID                                                                \n",
       "F_778027_2915235  POLYGON ((-71.04883 42.24728, -71.04863 42.246...   \n",
       "F_779136_2914626  POLYGON ((-71.04536 42.24488, -71.04596 42.244...   \n",
       "F_779195_2914956  POLYGON ((-71.04556 42.24579, -71.04575 42.245...   \n",
       "F_779198_2916311  POLYGON ((-71.04553 42.24948, -71.04563 42.249...   \n",
       "F_779220_2914717  POLYGON ((-71.04539 42.24508, -71.04539 42.245...   \n",
       "\n",
       "                  ADD_COUNT  Assumption  \n",
       "LOC_ID                                   \n",
       "F_778027_2915235          2           2  \n",
       "F_779136_2914626          1           1  \n",
       "F_779195_2914956          1           1  \n",
       "F_779198_2916311          1           1  \n",
       "F_779220_2914717          1           1  "
      ],
      "text/html": "<div>\n<style scoped>\n    .dataframe tbody tr th:only-of-type {\n        vertical-align: middle;\n    }\n\n    .dataframe tbody tr th {\n        vertical-align: top;\n    }\n\n    .dataframe thead th {\n        text-align: right;\n    }\n</style>\n<table border=\"1\" class=\"dataframe\">\n  <thead>\n    <tr style=\"text-align: right;\">\n      <th></th>\n      <th>index_left</th>\n      <th>STYLE_DESC</th>\n      <th>count_by_usecode</th>\n      <th>usecode_str</th>\n      <th>area</th>\n      <th>geometry</th>\n      <th>ADD_COUNT</th>\n      <th>Assumption</th>\n    </tr>\n    <tr>\n      <th>LOC_ID</th>\n      <th></th>\n      <th></th>\n      <th></th>\n      <th></th>\n      <th></th>\n      <th></th>\n      <th></th>\n      <th></th>\n    </tr>\n  </thead>\n  <tbody>\n    <tr>\n      <th>F_778027_2915235</th>\n      <td>24712.0</td>\n      <td>Apartments</td>\n      <td>-1</td>\n      <td>1120</td>\n      <td>33452.339850</td>\n      <td>POLYGON ((-71.04883 42.24728, -71.04863 42.246...</td>\n      <td>2</td>\n      <td>2</td>\n    </tr>\n    <tr>\n      <th>F_779136_2914626</th>\n      <td>9144.0</td>\n      <td>Colonial</td>\n      <td>1</td>\n      <td>1010</td>\n      <td>2501.946057</td>\n      <td>POLYGON ((-71.04536 42.24488, -71.04596 42.244...</td>\n      <td>1</td>\n      <td>1</td>\n    </tr>\n    <tr>\n      <th>F_779195_2914956</th>\n      <td>26182.0</td>\n      <td>Colonial</td>\n      <td>1</td>\n      <td>1010</td>\n      <td>1059.174955</td>\n      <td>POLYGON ((-71.04556 42.24579, -71.04575 42.245...</td>\n      <td>1</td>\n      <td>1</td>\n    </tr>\n    <tr>\n      <th>F_779198_2916311</th>\n      <td>19226.0</td>\n      <td>Colonial</td>\n      <td>1</td>\n      <td>1010</td>\n      <td>634.260808</td>\n      <td>POLYGON ((-71.04553 42.24948, -71.04563 42.249...</td>\n      <td>1</td>\n      <td>1</td>\n    </tr>\n    <tr>\n      <th>F_779220_2914717</th>\n      <td>25852.0</td>\n      <td>Colonial</td>\n      <td>1</td>\n      <td>1010</td>\n      <td>925.200051</td>\n      <td>POLYGON ((-71.04539 42.24508, -71.04539 42.245...</td>\n      <td>1</td>\n      <td>1</td>\n    </tr>\n  </tbody>\n</table>\n</div>"
     },
     "metadata": {},
     "execution_count": 249
    }
   ],
   "source": [
    "sjoin_test.head()"
   ]
  },
  {
   "source": [
    "### Draw map"
   ],
   "cell_type": "markdown",
   "metadata": {}
  },
  {
   "cell_type": "code",
   "execution_count": 238,
   "metadata": {},
   "outputs": [],
   "source": [
    "def add_polygons(polygons, m, popup_text = None, weights=None):\n",
    "    # if not weights: weights = [-1] * len(polygons)\n",
    "    for polygon, p, w in zip(polygons, popup_text, weights):\n",
    "        try:\n",
    "            geojson = folium.Choropleth(\n",
    "                geo_data = polygon,\n",
    "                fill_color = \"#FF0000\" if w == -1 else \"#0000FF\"\n",
    "            )\n",
    "            if p != \"-1\":\n",
    "                folium.Popup(p, max_width=1000).add_to(geojson)\n",
    "            geojson.add_to(m)\n",
    "        except Exception as e:\n",
    "            print(e)\n",
    "            print(type(polygon))\n",
    "            continue\n",
    "def draw_debug_plot(points, polygons, weights_points=None, popup_polygons=None, weights_polygons=None):\n",
    "    m = generateBaseMap()\n",
    "    # add_points(points, m, weights_points)\n",
    "    add_polygons(polygons, m, popup_polygons, weights_polygons)\n",
    "    return m"
   ]
  },
  {
   "cell_type": "code",
   "execution_count": 243,
   "metadata": {},
   "outputs": [
    {
     "output_type": "execute_result",
     "data": {
      "text/plain": [
       "                  index_left  STYLE_DESC  count_by_usecode usecode_str  \\\n",
       "LOC_ID                                                                   \n",
       "F_778027_2915235     24712.0  Apartments                -1        1120   \n",
       "F_779136_2914626      9144.0    Colonial                 1        1010   \n",
       "F_779195_2914956     26182.0    Colonial                 1        1010   \n",
       "F_779198_2916311     19226.0    Colonial                 1        1010   \n",
       "F_779220_2914717     25852.0    Colonial                 1        1010   \n",
       "\n",
       "                          area  \\\n",
       "LOC_ID                           \n",
       "F_778027_2915235  33452.339850   \n",
       "F_779136_2914626   2501.946057   \n",
       "F_779195_2914956   1059.174955   \n",
       "F_779198_2916311    634.260808   \n",
       "F_779220_2914717    925.200051   \n",
       "\n",
       "                                                           geometry  \\\n",
       "LOC_ID                                                                \n",
       "F_778027_2915235  POLYGON ((-71.04883 42.24728, -71.04863 42.246...   \n",
       "F_779136_2914626  POLYGON ((-71.04536 42.24488, -71.04596 42.244...   \n",
       "F_779195_2914956  POLYGON ((-71.04556 42.24579, -71.04575 42.245...   \n",
       "F_779198_2916311  POLYGON ((-71.04553 42.24948, -71.04563 42.249...   \n",
       "F_779220_2914717  POLYGON ((-71.04539 42.24508, -71.04539 42.245...   \n",
       "\n",
       "                  ADD_COUNT  Assumption  \n",
       "LOC_ID                                   \n",
       "F_778027_2915235          2          -1  \n",
       "F_779136_2914626          1           1  \n",
       "F_779195_2914956          1           1  \n",
       "F_779198_2916311          1           1  \n",
       "F_779220_2914717          1           1  "
      ],
      "text/html": "<div>\n<style scoped>\n    .dataframe tbody tr th:only-of-type {\n        vertical-align: middle;\n    }\n\n    .dataframe tbody tr th {\n        vertical-align: top;\n    }\n\n    .dataframe thead th {\n        text-align: right;\n    }\n</style>\n<table border=\"1\" class=\"dataframe\">\n  <thead>\n    <tr style=\"text-align: right;\">\n      <th></th>\n      <th>index_left</th>\n      <th>STYLE_DESC</th>\n      <th>count_by_usecode</th>\n      <th>usecode_str</th>\n      <th>area</th>\n      <th>geometry</th>\n      <th>ADD_COUNT</th>\n      <th>Assumption</th>\n    </tr>\n    <tr>\n      <th>LOC_ID</th>\n      <th></th>\n      <th></th>\n      <th></th>\n      <th></th>\n      <th></th>\n      <th></th>\n      <th></th>\n      <th></th>\n    </tr>\n  </thead>\n  <tbody>\n    <tr>\n      <th>F_778027_2915235</th>\n      <td>24712.0</td>\n      <td>Apartments</td>\n      <td>-1</td>\n      <td>1120</td>\n      <td>33452.339850</td>\n      <td>POLYGON ((-71.04883 42.24728, -71.04863 42.246...</td>\n      <td>2</td>\n      <td>-1</td>\n    </tr>\n    <tr>\n      <th>F_779136_2914626</th>\n      <td>9144.0</td>\n      <td>Colonial</td>\n      <td>1</td>\n      <td>1010</td>\n      <td>2501.946057</td>\n      <td>POLYGON ((-71.04536 42.24488, -71.04596 42.244...</td>\n      <td>1</td>\n      <td>1</td>\n    </tr>\n    <tr>\n      <th>F_779195_2914956</th>\n      <td>26182.0</td>\n      <td>Colonial</td>\n      <td>1</td>\n      <td>1010</td>\n      <td>1059.174955</td>\n      <td>POLYGON ((-71.04556 42.24579, -71.04575 42.245...</td>\n      <td>1</td>\n      <td>1</td>\n    </tr>\n    <tr>\n      <th>F_779198_2916311</th>\n      <td>19226.0</td>\n      <td>Colonial</td>\n      <td>1</td>\n      <td>1010</td>\n      <td>634.260808</td>\n      <td>POLYGON ((-71.04553 42.24948, -71.04563 42.249...</td>\n      <td>1</td>\n      <td>1</td>\n    </tr>\n    <tr>\n      <th>F_779220_2914717</th>\n      <td>25852.0</td>\n      <td>Colonial</td>\n      <td>1</td>\n      <td>1010</td>\n      <td>925.200051</td>\n      <td>POLYGON ((-71.04539 42.24508, -71.04539 42.245...</td>\n      <td>1</td>\n      <td>1</td>\n    </tr>\n  </tbody>\n</table>\n</div>"
     },
     "metadata": {},
     "execution_count": 243
    }
   ],
   "source": [
    "sjoin_test.head()"
   ]
  },
  {
   "cell_type": "code",
   "execution_count": 418,
   "metadata": {},
   "outputs": [
    {
     "output_type": "execute_result",
     "data": {
      "text/plain": [
       "       index_left            LOC_ID     STYLE_DESC  count_by_usecode  \\\n",
       "26        15253.0  F_779417_2915118     3 Fam Conv                 3   \n",
       "45         8933.0  F_779530_2914386       Colonial                 2   \n",
       "59        11305.0  F_779596_2914351  Family Duplex                 2   \n",
       "243       37567.0  F_780339_2923175     2 Fam Flat                 2   \n",
       "262       25288.0  F_780388_2914632   2 Fam Conver                 2   \n",
       "...           ...               ...            ...               ...   \n",
       "17862     48781.0  F_804860_2924209   Conventional                 1   \n",
       "17866     48787.0  F_804871_2924259   Conventional                 2   \n",
       "17872     40828.0  F_804886_2924375   Conventional                 1   \n",
       "17885     45683.0  F_804995_2925701   Conventional                 1   \n",
       "17890     43864.0  F_805063_2925312   Conventional                 1   \n",
       "\n",
       "      usecode_str         area  \\\n",
       "26           1050   786.224984   \n",
       "45           1040   635.708076   \n",
       "59           1040   637.316424   \n",
       "243          1040   557.778776   \n",
       "262          1040   619.801733   \n",
       "...           ...          ...   \n",
       "17862        1015   308.230356   \n",
       "17866        1040   261.314268   \n",
       "17872        1010   383.997719   \n",
       "17885        1010  1256.944923   \n",
       "17890        1010   372.565011   \n",
       "\n",
       "                                                geometry  ADD_COUNT  \\\n",
       "26     POLYGON ((-71.04481 42.24648, -71.04477 42.246...          2   \n",
       "45     POLYGON ((-71.04419 42.24438, -71.04435 42.244...          4   \n",
       "59     POLYGON ((-71.04394 42.24428, -71.04411 42.244...          1   \n",
       "243    POLYGON ((-71.04105 42.26855, -71.04108 42.268...          1   \n",
       "262    POLYGON ((-71.04127 42.24483, -71.04136 42.244...          1   \n",
       "...                                                  ...        ...   \n",
       "17862  POLYGON ((-70.95039 42.27089, -70.95040 42.270...          2   \n",
       "17866  POLYGON ((-70.95037 42.27104, -70.95038 42.270...          1   \n",
       "17872  POLYGON ((-70.95033 42.27126, -70.95033 42.271...          2   \n",
       "17885  POLYGON ((-70.94996 42.27489, -70.95034 42.274...          2   \n",
       "17890  POLYGON ((-70.94962 42.27386, -70.94979 42.273...          2   \n",
       "\n",
       "       Assumption  \n",
       "26             -1  \n",
       "45             -1  \n",
       "59             -1  \n",
       "243            -1  \n",
       "262            -1  \n",
       "...           ...  \n",
       "17862          -1  \n",
       "17866          -1  \n",
       "17872          -1  \n",
       "17885          -1  \n",
       "17890          -1  \n",
       "\n",
       "[2490 rows x 9 columns]"
      ],
      "text/html": "<div>\n<style scoped>\n    .dataframe tbody tr th:only-of-type {\n        vertical-align: middle;\n    }\n\n    .dataframe tbody tr th {\n        vertical-align: top;\n    }\n\n    .dataframe thead th {\n        text-align: right;\n    }\n</style>\n<table border=\"1\" class=\"dataframe\">\n  <thead>\n    <tr style=\"text-align: right;\">\n      <th></th>\n      <th>index_left</th>\n      <th>LOC_ID</th>\n      <th>STYLE_DESC</th>\n      <th>count_by_usecode</th>\n      <th>usecode_str</th>\n      <th>area</th>\n      <th>geometry</th>\n      <th>ADD_COUNT</th>\n      <th>Assumption</th>\n    </tr>\n  </thead>\n  <tbody>\n    <tr>\n      <th>26</th>\n      <td>15253.0</td>\n      <td>F_779417_2915118</td>\n      <td>3 Fam Conv</td>\n      <td>3</td>\n      <td>1050</td>\n      <td>786.224984</td>\n      <td>POLYGON ((-71.04481 42.24648, -71.04477 42.246...</td>\n      <td>2</td>\n      <td>-1</td>\n    </tr>\n    <tr>\n      <th>45</th>\n      <td>8933.0</td>\n      <td>F_779530_2914386</td>\n      <td>Colonial</td>\n      <td>2</td>\n      <td>1040</td>\n      <td>635.708076</td>\n      <td>POLYGON ((-71.04419 42.24438, -71.04435 42.244...</td>\n      <td>4</td>\n      <td>-1</td>\n    </tr>\n    <tr>\n      <th>59</th>\n      <td>11305.0</td>\n      <td>F_779596_2914351</td>\n      <td>Family Duplex</td>\n      <td>2</td>\n      <td>1040</td>\n      <td>637.316424</td>\n      <td>POLYGON ((-71.04394 42.24428, -71.04411 42.244...</td>\n      <td>1</td>\n      <td>-1</td>\n    </tr>\n    <tr>\n      <th>243</th>\n      <td>37567.0</td>\n      <td>F_780339_2923175</td>\n      <td>2 Fam Flat</td>\n      <td>2</td>\n      <td>1040</td>\n      <td>557.778776</td>\n      <td>POLYGON ((-71.04105 42.26855, -71.04108 42.268...</td>\n      <td>1</td>\n      <td>-1</td>\n    </tr>\n    <tr>\n      <th>262</th>\n      <td>25288.0</td>\n      <td>F_780388_2914632</td>\n      <td>2 Fam Conver</td>\n      <td>2</td>\n      <td>1040</td>\n      <td>619.801733</td>\n      <td>POLYGON ((-71.04127 42.24483, -71.04136 42.244...</td>\n      <td>1</td>\n      <td>-1</td>\n    </tr>\n    <tr>\n      <th>...</th>\n      <td>...</td>\n      <td>...</td>\n      <td>...</td>\n      <td>...</td>\n      <td>...</td>\n      <td>...</td>\n      <td>...</td>\n      <td>...</td>\n      <td>...</td>\n    </tr>\n    <tr>\n      <th>17862</th>\n      <td>48781.0</td>\n      <td>F_804860_2924209</td>\n      <td>Conventional</td>\n      <td>1</td>\n      <td>1015</td>\n      <td>308.230356</td>\n      <td>POLYGON ((-70.95039 42.27089, -70.95040 42.270...</td>\n      <td>2</td>\n      <td>-1</td>\n    </tr>\n    <tr>\n      <th>17866</th>\n      <td>48787.0</td>\n      <td>F_804871_2924259</td>\n      <td>Conventional</td>\n      <td>2</td>\n      <td>1040</td>\n      <td>261.314268</td>\n      <td>POLYGON ((-70.95037 42.27104, -70.95038 42.270...</td>\n      <td>1</td>\n      <td>-1</td>\n    </tr>\n    <tr>\n      <th>17872</th>\n      <td>40828.0</td>\n      <td>F_804886_2924375</td>\n      <td>Conventional</td>\n      <td>1</td>\n      <td>1010</td>\n      <td>383.997719</td>\n      <td>POLYGON ((-70.95033 42.27126, -70.95033 42.271...</td>\n      <td>2</td>\n      <td>-1</td>\n    </tr>\n    <tr>\n      <th>17885</th>\n      <td>45683.0</td>\n      <td>F_804995_2925701</td>\n      <td>Conventional</td>\n      <td>1</td>\n      <td>1010</td>\n      <td>1256.944923</td>\n      <td>POLYGON ((-70.94996 42.27489, -70.95034 42.274...</td>\n      <td>2</td>\n      <td>-1</td>\n    </tr>\n    <tr>\n      <th>17890</th>\n      <td>43864.0</td>\n      <td>F_805063_2925312</td>\n      <td>Conventional</td>\n      <td>1</td>\n      <td>1010</td>\n      <td>372.565011</td>\n      <td>POLYGON ((-70.94962 42.27386, -70.94979 42.273...</td>\n      <td>2</td>\n      <td>-1</td>\n    </tr>\n  </tbody>\n</table>\n<p>2490 rows × 9 columns</p>\n</div>"
     },
     "metadata": {},
     "execution_count": 418
    }
   ],
   "source": [
    "sjoin_test[sjoin_test[\"Assumption\"]==-1]"
   ]
  },
  {
   "cell_type": "code",
   "execution_count": 259,
   "metadata": {},
   "outputs": [],
   "source": [
    "# Generate popup text for maps\n",
    "def generate_popup_text(sjoin_df):\n",
    "    popup_text = []\n",
    "    for id_, s, ac, uc, ucus, asump in zip(sjoin_df['LOC_ID'], sjoin_df['STYLE_DESC'], sjoin_df['ADD_COUNT'], sjoin_df['usecode_str'], sjoin_df['count_by_usecode'], sjoin_test['Assumption']):\n",
    "        popup_text.append(id_ + \"<br>\" + s + \"<br>Address count:\" + str(ac) + \"<br>USE CODE: \" + str(uc) + \"<br>Unit count - use code:\" + str(ucus) + \"<br>Final assumption:\" + str(asump))\n",
    "    return popup_text"
   ]
  },
  {
   "cell_type": "code",
   "execution_count": 422,
   "metadata": {},
   "outputs": [],
   "source": [
    "test_agg_map = draw_debug_plot([], sjoin_test['geometry'], popup_polygons=generate_popup_text(sjoin_test), weights_polygons=sjoin_test['Assumption'])\n",
    "test_agg_map.save('./maps/test_agg_map_quincy_v2.html')"
   ]
  },
  {
   "source": [
    "### Distribution"
   ],
   "cell_type": "markdown",
   "metadata": {}
  },
  {
   "cell_type": "code",
   "execution_count": 427,
   "metadata": {},
   "outputs": [],
   "source": [
    "anomaly_data = sjoin_test[sjoin_test['Assumption'] == -1]"
   ]
  },
  {
   "cell_type": "code",
   "execution_count": 431,
   "metadata": {},
   "outputs": [
    {
     "output_type": "execute_result",
     "data": {
      "text/plain": [
       "318"
      ]
     },
     "metadata": {},
     "execution_count": 431
    }
   ],
   "source": [
    "len(anomaly_data)"
   ]
  },
  {
   "cell_type": "code",
   "execution_count": 434,
   "metadata": {},
   "outputs": [
    {
     "output_type": "execute_result",
     "data": {
      "text/plain": [
       "{(2, 1),\n",
       " (3, 1),\n",
       " (3, 2),\n",
       " (4, 1),\n",
       " (4, 2),\n",
       " (4, 3),\n",
       " (5, 1),\n",
       " (5, 2),\n",
       " (5, 3),\n",
       " (6, 2),\n",
       " (6, 3),\n",
       " (7, 3)}"
      ]
     },
     "metadata": {},
     "execution_count": 434
    }
   ],
   "source": [
    "set(zip(anomaly_data['ADD_COUNT'], anomaly_data['count_by_usecode']))"
   ]
  },
  {
   "cell_type": "code",
   "execution_count": 435,
   "metadata": {},
   "outputs": [
    {
     "output_type": "display_data",
     "data": {
      "text/plain": "<Figure size 432x288 with 1 Axes>",
      "image/svg+xml": "<?xml version=\"1.0\" encoding=\"utf-8\" standalone=\"no\"?>\r\n<!DOCTYPE svg PUBLIC \"-//W3C//DTD SVG 1.1//EN\"\r\n  \"http://www.w3.org/Graphics/SVG/1.1/DTD/svg11.dtd\">\r\n<!-- Created with matplotlib (https://matplotlib.org/) -->\r\n<svg height=\"264.431094pt\" version=\"1.1\" viewBox=\"0 0 401.712188 264.431094\" width=\"401.712188pt\" xmlns=\"http://www.w3.org/2000/svg\" xmlns:xlink=\"http://www.w3.org/1999/xlink\">\r\n <metadata>\r\n  <rdf:RDF xmlns:cc=\"http://creativecommons.org/ns#\" xmlns:dc=\"http://purl.org/dc/elements/1.1/\" xmlns:rdf=\"http://www.w3.org/1999/02/22-rdf-syntax-ns#\">\r\n   <cc:Work>\r\n    <dc:type rdf:resource=\"http://purl.org/dc/dcmitype/StillImage\"/>\r\n    <dc:date>2021-04-14T00:59:31.589164</dc:date>\r\n    <dc:format>image/svg+xml</dc:format>\r\n    <dc:creator>\r\n     <cc:Agent>\r\n      <dc:title>Matplotlib v3.3.4, https://matplotlib.org/</dc:title>\r\n     </cc:Agent>\r\n    </dc:creator>\r\n   </cc:Work>\r\n  </rdf:RDF>\r\n </metadata>\r\n <defs>\r\n  <style type=\"text/css\">*{stroke-linecap:butt;stroke-linejoin:round;}</style>\r\n </defs>\r\n <g id=\"figure_1\">\r\n  <g id=\"patch_1\">\r\n   <path d=\"M 0 264.431094 \r\nL 401.712188 264.431094 \r\nL 401.712188 0 \r\nL 0 0 \r\nz\r\n\" style=\"fill:none;\"/>\r\n  </g>\r\n  <g id=\"axes_1\">\r\n   <g id=\"patch_2\">\r\n    <path d=\"M 48.579375 228.439219 \r\nL 383.379375 228.439219 \r\nL 383.379375 10.999219 \r\nL 48.579375 10.999219 \r\nz\r\n\" style=\"fill:#eeeeee;\"/>\r\n   </g>\r\n   <g id=\"PathCollection_1\">\r\n    <defs>\r\n     <path d=\"M 0 1.581139 \r\nC 0.419323 1.581139 0.821528 1.41454 1.118034 1.118034 \r\nC 1.41454 0.821528 1.581139 0.419323 1.581139 0 \r\nC 1.581139 -0.419323 1.41454 -0.821528 1.118034 -1.118034 \r\nC 0.821528 -1.41454 0.419323 -1.581139 0 -1.581139 \r\nC -0.419323 -1.581139 -0.821528 -1.41454 -1.118034 -1.118034 \r\nC -1.41454 -0.821528 -1.581139 -0.419323 -1.581139 0 \r\nC -1.581139 0.419323 -1.41454 0.821528 -1.118034 1.118034 \r\nC -0.821528 1.41454 -0.419323 1.581139 0 1.581139 \r\nz\r\n\" id=\"ma41be01a61\" style=\"stroke:#ff0000;stroke-width:0.5;\"/>\r\n    </defs>\r\n    <g clip-path=\"url(#p0d43ee69db)\">\r\n     <use style=\"fill:#ff0000;stroke:#ff0000;stroke-width:0.5;\" x=\"115.539375\" xlink:href=\"#ma41be01a61\" y=\"206.695219\"/>\r\n     <use style=\"fill:#ff0000;stroke:#ff0000;stroke-width:0.5;\" x=\"82.059375\" xlink:href=\"#ma41be01a61\" y=\"217.567219\"/>\r\n     <use style=\"fill:#ff0000;stroke:#ff0000;stroke-width:0.5;\" x=\"149.019375\" xlink:href=\"#ma41be01a61\" y=\"195.823219\"/>\r\n     <use style=\"fill:#ff0000;stroke:#ff0000;stroke-width:0.5;\" x=\"82.059375\" xlink:href=\"#ma41be01a61\" y=\"217.567219\"/>\r\n     <use style=\"fill:#ff0000;stroke:#ff0000;stroke-width:0.5;\" x=\"98.799375\" xlink:href=\"#ma41be01a61\" y=\"206.695219\"/>\r\n     <use style=\"fill:#ff0000;stroke:#ff0000;stroke-width:0.5;\" x=\"115.539375\" xlink:href=\"#ma41be01a61\" y=\"195.823219\"/>\r\n     <use style=\"fill:#ff0000;stroke:#ff0000;stroke-width:0.5;\" x=\"82.059375\" xlink:href=\"#ma41be01a61\" y=\"217.567219\"/>\r\n     <use style=\"fill:#ff0000;stroke:#ff0000;stroke-width:0.5;\" x=\"98.799375\" xlink:href=\"#ma41be01a61\" y=\"206.695219\"/>\r\n     <use style=\"fill:#ff0000;stroke:#ff0000;stroke-width:0.5;\" x=\"82.059375\" xlink:href=\"#ma41be01a61\" y=\"217.567219\"/>\r\n     <use style=\"fill:#ff0000;stroke:#ff0000;stroke-width:0.5;\" x=\"115.539375\" xlink:href=\"#ma41be01a61\" y=\"195.823219\"/>\r\n     <use style=\"fill:#ff0000;stroke:#ff0000;stroke-width:0.5;\" x=\"115.539375\" xlink:href=\"#ma41be01a61\" y=\"195.823219\"/>\r\n     <use style=\"fill:#ff0000;stroke:#ff0000;stroke-width:0.5;\" x=\"82.059375\" xlink:href=\"#ma41be01a61\" y=\"217.567219\"/>\r\n     <use style=\"fill:#ff0000;stroke:#ff0000;stroke-width:0.5;\" x=\"82.059375\" xlink:href=\"#ma41be01a61\" y=\"217.567219\"/>\r\n     <use style=\"fill:#ff0000;stroke:#ff0000;stroke-width:0.5;\" x=\"132.279375\" xlink:href=\"#ma41be01a61\" y=\"195.823219\"/>\r\n     <use style=\"fill:#ff0000;stroke:#ff0000;stroke-width:0.5;\" x=\"115.539375\" xlink:href=\"#ma41be01a61\" y=\"195.823219\"/>\r\n     <use style=\"fill:#ff0000;stroke:#ff0000;stroke-width:0.5;\" x=\"82.059375\" xlink:href=\"#ma41be01a61\" y=\"217.567219\"/>\r\n     <use style=\"fill:#ff0000;stroke:#ff0000;stroke-width:0.5;\" x=\"98.799375\" xlink:href=\"#ma41be01a61\" y=\"206.695219\"/>\r\n     <use style=\"fill:#ff0000;stroke:#ff0000;stroke-width:0.5;\" x=\"98.799375\" xlink:href=\"#ma41be01a61\" y=\"217.567219\"/>\r\n     <use style=\"fill:#ff0000;stroke:#ff0000;stroke-width:0.5;\" x=\"115.539375\" xlink:href=\"#ma41be01a61\" y=\"195.823219\"/>\r\n     <use style=\"fill:#ff0000;stroke:#ff0000;stroke-width:0.5;\" x=\"98.799375\" xlink:href=\"#ma41be01a61\" y=\"206.695219\"/>\r\n     <use style=\"fill:#ff0000;stroke:#ff0000;stroke-width:0.5;\" x=\"98.799375\" xlink:href=\"#ma41be01a61\" y=\"206.695219\"/>\r\n     <use style=\"fill:#ff0000;stroke:#ff0000;stroke-width:0.5;\" x=\"98.799375\" xlink:href=\"#ma41be01a61\" y=\"217.567219\"/>\r\n     <use style=\"fill:#ff0000;stroke:#ff0000;stroke-width:0.5;\" x=\"165.759375\" xlink:href=\"#ma41be01a61\" y=\"195.823219\"/>\r\n     <use style=\"fill:#ff0000;stroke:#ff0000;stroke-width:0.5;\" x=\"82.059375\" xlink:href=\"#ma41be01a61\" y=\"217.567219\"/>\r\n     <use style=\"fill:#ff0000;stroke:#ff0000;stroke-width:0.5;\" x=\"98.799375\" xlink:href=\"#ma41be01a61\" y=\"206.695219\"/>\r\n     <use style=\"fill:#ff0000;stroke:#ff0000;stroke-width:0.5;\" x=\"82.059375\" xlink:href=\"#ma41be01a61\" y=\"217.567219\"/>\r\n     <use style=\"fill:#ff0000;stroke:#ff0000;stroke-width:0.5;\" x=\"115.539375\" xlink:href=\"#ma41be01a61\" y=\"195.823219\"/>\r\n     <use style=\"fill:#ff0000;stroke:#ff0000;stroke-width:0.5;\" x=\"82.059375\" xlink:href=\"#ma41be01a61\" y=\"217.567219\"/>\r\n     <use style=\"fill:#ff0000;stroke:#ff0000;stroke-width:0.5;\" x=\"115.539375\" xlink:href=\"#ma41be01a61\" y=\"206.695219\"/>\r\n     <use style=\"fill:#ff0000;stroke:#ff0000;stroke-width:0.5;\" x=\"98.799375\" xlink:href=\"#ma41be01a61\" y=\"206.695219\"/>\r\n     <use style=\"fill:#ff0000;stroke:#ff0000;stroke-width:0.5;\" x=\"98.799375\" xlink:href=\"#ma41be01a61\" y=\"206.695219\"/>\r\n     <use style=\"fill:#ff0000;stroke:#ff0000;stroke-width:0.5;\" x=\"149.019375\" xlink:href=\"#ma41be01a61\" y=\"206.695219\"/>\r\n     <use style=\"fill:#ff0000;stroke:#ff0000;stroke-width:0.5;\" x=\"82.059375\" xlink:href=\"#ma41be01a61\" y=\"217.567219\"/>\r\n     <use style=\"fill:#ff0000;stroke:#ff0000;stroke-width:0.5;\" x=\"82.059375\" xlink:href=\"#ma41be01a61\" y=\"217.567219\"/>\r\n     <use style=\"fill:#ff0000;stroke:#ff0000;stroke-width:0.5;\" x=\"98.799375\" xlink:href=\"#ma41be01a61\" y=\"217.567219\"/>\r\n     <use style=\"fill:#ff0000;stroke:#ff0000;stroke-width:0.5;\" x=\"82.059375\" xlink:href=\"#ma41be01a61\" y=\"217.567219\"/>\r\n     <use style=\"fill:#ff0000;stroke:#ff0000;stroke-width:0.5;\" x=\"98.799375\" xlink:href=\"#ma41be01a61\" y=\"206.695219\"/>\r\n     <use style=\"fill:#ff0000;stroke:#ff0000;stroke-width:0.5;\" x=\"115.539375\" xlink:href=\"#ma41be01a61\" y=\"206.695219\"/>\r\n     <use style=\"fill:#ff0000;stroke:#ff0000;stroke-width:0.5;\" x=\"98.799375\" xlink:href=\"#ma41be01a61\" y=\"206.695219\"/>\r\n     <use style=\"fill:#ff0000;stroke:#ff0000;stroke-width:0.5;\" x=\"115.539375\" xlink:href=\"#ma41be01a61\" y=\"206.695219\"/>\r\n     <use style=\"fill:#ff0000;stroke:#ff0000;stroke-width:0.5;\" x=\"115.539375\" xlink:href=\"#ma41be01a61\" y=\"195.823219\"/>\r\n     <use style=\"fill:#ff0000;stroke:#ff0000;stroke-width:0.5;\" x=\"115.539375\" xlink:href=\"#ma41be01a61\" y=\"195.823219\"/>\r\n     <use style=\"fill:#ff0000;stroke:#ff0000;stroke-width:0.5;\" x=\"98.799375\" xlink:href=\"#ma41be01a61\" y=\"206.695219\"/>\r\n     <use style=\"fill:#ff0000;stroke:#ff0000;stroke-width:0.5;\" x=\"98.799375\" xlink:href=\"#ma41be01a61\" y=\"206.695219\"/>\r\n     <use style=\"fill:#ff0000;stroke:#ff0000;stroke-width:0.5;\" x=\"115.539375\" xlink:href=\"#ma41be01a61\" y=\"195.823219\"/>\r\n     <use style=\"fill:#ff0000;stroke:#ff0000;stroke-width:0.5;\" x=\"98.799375\" xlink:href=\"#ma41be01a61\" y=\"206.695219\"/>\r\n     <use style=\"fill:#ff0000;stroke:#ff0000;stroke-width:0.5;\" x=\"98.799375\" xlink:href=\"#ma41be01a61\" y=\"206.695219\"/>\r\n     <use style=\"fill:#ff0000;stroke:#ff0000;stroke-width:0.5;\" x=\"115.539375\" xlink:href=\"#ma41be01a61\" y=\"195.823219\"/>\r\n     <use style=\"fill:#ff0000;stroke:#ff0000;stroke-width:0.5;\" x=\"98.799375\" xlink:href=\"#ma41be01a61\" y=\"206.695219\"/>\r\n     <use style=\"fill:#ff0000;stroke:#ff0000;stroke-width:0.5;\" x=\"98.799375\" xlink:href=\"#ma41be01a61\" y=\"206.695219\"/>\r\n     <use style=\"fill:#ff0000;stroke:#ff0000;stroke-width:0.5;\" x=\"82.059375\" xlink:href=\"#ma41be01a61\" y=\"217.567219\"/>\r\n     <use style=\"fill:#ff0000;stroke:#ff0000;stroke-width:0.5;\" x=\"98.799375\" xlink:href=\"#ma41be01a61\" y=\"206.695219\"/>\r\n     <use style=\"fill:#ff0000;stroke:#ff0000;stroke-width:0.5;\" x=\"115.539375\" xlink:href=\"#ma41be01a61\" y=\"206.695219\"/>\r\n     <use style=\"fill:#ff0000;stroke:#ff0000;stroke-width:0.5;\" x=\"132.279375\" xlink:href=\"#ma41be01a61\" y=\"217.567219\"/>\r\n     <use style=\"fill:#ff0000;stroke:#ff0000;stroke-width:0.5;\" x=\"98.799375\" xlink:href=\"#ma41be01a61\" y=\"206.695219\"/>\r\n     <use style=\"fill:#ff0000;stroke:#ff0000;stroke-width:0.5;\" x=\"98.799375\" xlink:href=\"#ma41be01a61\" y=\"206.695219\"/>\r\n     <use style=\"fill:#ff0000;stroke:#ff0000;stroke-width:0.5;\" x=\"132.279375\" xlink:href=\"#ma41be01a61\" y=\"195.823219\"/>\r\n     <use style=\"fill:#ff0000;stroke:#ff0000;stroke-width:0.5;\" x=\"82.059375\" xlink:href=\"#ma41be01a61\" y=\"217.567219\"/>\r\n     <use style=\"fill:#ff0000;stroke:#ff0000;stroke-width:0.5;\" x=\"98.799375\" xlink:href=\"#ma41be01a61\" y=\"206.695219\"/>\r\n     <use style=\"fill:#ff0000;stroke:#ff0000;stroke-width:0.5;\" x=\"149.019375\" xlink:href=\"#ma41be01a61\" y=\"195.823219\"/>\r\n     <use style=\"fill:#ff0000;stroke:#ff0000;stroke-width:0.5;\" x=\"82.059375\" xlink:href=\"#ma41be01a61\" y=\"217.567219\"/>\r\n     <use style=\"fill:#ff0000;stroke:#ff0000;stroke-width:0.5;\" x=\"98.799375\" xlink:href=\"#ma41be01a61\" y=\"206.695219\"/>\r\n     <use style=\"fill:#ff0000;stroke:#ff0000;stroke-width:0.5;\" x=\"98.799375\" xlink:href=\"#ma41be01a61\" y=\"206.695219\"/>\r\n     <use style=\"fill:#ff0000;stroke:#ff0000;stroke-width:0.5;\" x=\"82.059375\" xlink:href=\"#ma41be01a61\" y=\"217.567219\"/>\r\n     <use style=\"fill:#ff0000;stroke:#ff0000;stroke-width:0.5;\" x=\"132.279375\" xlink:href=\"#ma41be01a61\" y=\"195.823219\"/>\r\n     <use style=\"fill:#ff0000;stroke:#ff0000;stroke-width:0.5;\" x=\"132.279375\" xlink:href=\"#ma41be01a61\" y=\"195.823219\"/>\r\n     <use style=\"fill:#ff0000;stroke:#ff0000;stroke-width:0.5;\" x=\"98.799375\" xlink:href=\"#ma41be01a61\" y=\"206.695219\"/>\r\n     <use style=\"fill:#ff0000;stroke:#ff0000;stroke-width:0.5;\" x=\"115.539375\" xlink:href=\"#ma41be01a61\" y=\"206.695219\"/>\r\n     <use style=\"fill:#ff0000;stroke:#ff0000;stroke-width:0.5;\" x=\"115.539375\" xlink:href=\"#ma41be01a61\" y=\"195.823219\"/>\r\n     <use style=\"fill:#ff0000;stroke:#ff0000;stroke-width:0.5;\" x=\"98.799375\" xlink:href=\"#ma41be01a61\" y=\"206.695219\"/>\r\n     <use style=\"fill:#ff0000;stroke:#ff0000;stroke-width:0.5;\" x=\"98.799375\" xlink:href=\"#ma41be01a61\" y=\"206.695219\"/>\r\n     <use style=\"fill:#ff0000;stroke:#ff0000;stroke-width:0.5;\" x=\"98.799375\" xlink:href=\"#ma41be01a61\" y=\"206.695219\"/>\r\n     <use style=\"fill:#ff0000;stroke:#ff0000;stroke-width:0.5;\" x=\"115.539375\" xlink:href=\"#ma41be01a61\" y=\"195.823219\"/>\r\n     <use style=\"fill:#ff0000;stroke:#ff0000;stroke-width:0.5;\" x=\"132.279375\" xlink:href=\"#ma41be01a61\" y=\"195.823219\"/>\r\n     <use style=\"fill:#ff0000;stroke:#ff0000;stroke-width:0.5;\" x=\"82.059375\" xlink:href=\"#ma41be01a61\" y=\"217.567219\"/>\r\n     <use style=\"fill:#ff0000;stroke:#ff0000;stroke-width:0.5;\" x=\"115.539375\" xlink:href=\"#ma41be01a61\" y=\"195.823219\"/>\r\n     <use style=\"fill:#ff0000;stroke:#ff0000;stroke-width:0.5;\" x=\"98.799375\" xlink:href=\"#ma41be01a61\" y=\"206.695219\"/>\r\n     <use style=\"fill:#ff0000;stroke:#ff0000;stroke-width:0.5;\" x=\"115.539375\" xlink:href=\"#ma41be01a61\" y=\"195.823219\"/>\r\n     <use style=\"fill:#ff0000;stroke:#ff0000;stroke-width:0.5;\" x=\"132.279375\" xlink:href=\"#ma41be01a61\" y=\"195.823219\"/>\r\n     <use style=\"fill:#ff0000;stroke:#ff0000;stroke-width:0.5;\" x=\"98.799375\" xlink:href=\"#ma41be01a61\" y=\"206.695219\"/>\r\n     <use style=\"fill:#ff0000;stroke:#ff0000;stroke-width:0.5;\" x=\"115.539375\" xlink:href=\"#ma41be01a61\" y=\"206.695219\"/>\r\n     <use style=\"fill:#ff0000;stroke:#ff0000;stroke-width:0.5;\" x=\"82.059375\" xlink:href=\"#ma41be01a61\" y=\"217.567219\"/>\r\n     <use style=\"fill:#ff0000;stroke:#ff0000;stroke-width:0.5;\" x=\"115.539375\" xlink:href=\"#ma41be01a61\" y=\"195.823219\"/>\r\n     <use style=\"fill:#ff0000;stroke:#ff0000;stroke-width:0.5;\" x=\"115.539375\" xlink:href=\"#ma41be01a61\" y=\"206.695219\"/>\r\n     <use style=\"fill:#ff0000;stroke:#ff0000;stroke-width:0.5;\" x=\"115.539375\" xlink:href=\"#ma41be01a61\" y=\"195.823219\"/>\r\n     <use style=\"fill:#ff0000;stroke:#ff0000;stroke-width:0.5;\" x=\"98.799375\" xlink:href=\"#ma41be01a61\" y=\"206.695219\"/>\r\n     <use style=\"fill:#ff0000;stroke:#ff0000;stroke-width:0.5;\" x=\"98.799375\" xlink:href=\"#ma41be01a61\" y=\"206.695219\"/>\r\n     <use style=\"fill:#ff0000;stroke:#ff0000;stroke-width:0.5;\" x=\"98.799375\" xlink:href=\"#ma41be01a61\" y=\"206.695219\"/>\r\n     <use style=\"fill:#ff0000;stroke:#ff0000;stroke-width:0.5;\" x=\"115.539375\" xlink:href=\"#ma41be01a61\" y=\"195.823219\"/>\r\n     <use style=\"fill:#ff0000;stroke:#ff0000;stroke-width:0.5;\" x=\"98.799375\" xlink:href=\"#ma41be01a61\" y=\"206.695219\"/>\r\n     <use style=\"fill:#ff0000;stroke:#ff0000;stroke-width:0.5;\" x=\"115.539375\" xlink:href=\"#ma41be01a61\" y=\"195.823219\"/>\r\n     <use style=\"fill:#ff0000;stroke:#ff0000;stroke-width:0.5;\" x=\"115.539375\" xlink:href=\"#ma41be01a61\" y=\"195.823219\"/>\r\n     <use style=\"fill:#ff0000;stroke:#ff0000;stroke-width:0.5;\" x=\"115.539375\" xlink:href=\"#ma41be01a61\" y=\"195.823219\"/>\r\n     <use style=\"fill:#ff0000;stroke:#ff0000;stroke-width:0.5;\" x=\"82.059375\" xlink:href=\"#ma41be01a61\" y=\"217.567219\"/>\r\n     <use style=\"fill:#ff0000;stroke:#ff0000;stroke-width:0.5;\" x=\"98.799375\" xlink:href=\"#ma41be01a61\" y=\"206.695219\"/>\r\n     <use style=\"fill:#ff0000;stroke:#ff0000;stroke-width:0.5;\" x=\"115.539375\" xlink:href=\"#ma41be01a61\" y=\"195.823219\"/>\r\n     <use style=\"fill:#ff0000;stroke:#ff0000;stroke-width:0.5;\" x=\"115.539375\" xlink:href=\"#ma41be01a61\" y=\"195.823219\"/>\r\n     <use style=\"fill:#ff0000;stroke:#ff0000;stroke-width:0.5;\" x=\"82.059375\" xlink:href=\"#ma41be01a61\" y=\"217.567219\"/>\r\n     <use style=\"fill:#ff0000;stroke:#ff0000;stroke-width:0.5;\" x=\"115.539375\" xlink:href=\"#ma41be01a61\" y=\"206.695219\"/>\r\n     <use style=\"fill:#ff0000;stroke:#ff0000;stroke-width:0.5;\" x=\"98.799375\" xlink:href=\"#ma41be01a61\" y=\"206.695219\"/>\r\n     <use style=\"fill:#ff0000;stroke:#ff0000;stroke-width:0.5;\" x=\"98.799375\" xlink:href=\"#ma41be01a61\" y=\"206.695219\"/>\r\n     <use style=\"fill:#ff0000;stroke:#ff0000;stroke-width:0.5;\" x=\"98.799375\" xlink:href=\"#ma41be01a61\" y=\"206.695219\"/>\r\n     <use style=\"fill:#ff0000;stroke:#ff0000;stroke-width:0.5;\" x=\"132.279375\" xlink:href=\"#ma41be01a61\" y=\"195.823219\"/>\r\n     <use style=\"fill:#ff0000;stroke:#ff0000;stroke-width:0.5;\" x=\"98.799375\" xlink:href=\"#ma41be01a61\" y=\"206.695219\"/>\r\n     <use style=\"fill:#ff0000;stroke:#ff0000;stroke-width:0.5;\" x=\"115.539375\" xlink:href=\"#ma41be01a61\" y=\"195.823219\"/>\r\n     <use style=\"fill:#ff0000;stroke:#ff0000;stroke-width:0.5;\" x=\"115.539375\" xlink:href=\"#ma41be01a61\" y=\"195.823219\"/>\r\n     <use style=\"fill:#ff0000;stroke:#ff0000;stroke-width:0.5;\" x=\"98.799375\" xlink:href=\"#ma41be01a61\" y=\"206.695219\"/>\r\n     <use style=\"fill:#ff0000;stroke:#ff0000;stroke-width:0.5;\" x=\"98.799375\" xlink:href=\"#ma41be01a61\" y=\"206.695219\"/>\r\n     <use style=\"fill:#ff0000;stroke:#ff0000;stroke-width:0.5;\" x=\"115.539375\" xlink:href=\"#ma41be01a61\" y=\"195.823219\"/>\r\n     <use style=\"fill:#ff0000;stroke:#ff0000;stroke-width:0.5;\" x=\"132.279375\" xlink:href=\"#ma41be01a61\" y=\"195.823219\"/>\r\n     <use style=\"fill:#ff0000;stroke:#ff0000;stroke-width:0.5;\" x=\"132.279375\" xlink:href=\"#ma41be01a61\" y=\"195.823219\"/>\r\n     <use style=\"fill:#ff0000;stroke:#ff0000;stroke-width:0.5;\" x=\"98.799375\" xlink:href=\"#ma41be01a61\" y=\"206.695219\"/>\r\n     <use style=\"fill:#ff0000;stroke:#ff0000;stroke-width:0.5;\" x=\"82.059375\" xlink:href=\"#ma41be01a61\" y=\"217.567219\"/>\r\n     <use style=\"fill:#ff0000;stroke:#ff0000;stroke-width:0.5;\" x=\"115.539375\" xlink:href=\"#ma41be01a61\" y=\"195.823219\"/>\r\n     <use style=\"fill:#ff0000;stroke:#ff0000;stroke-width:0.5;\" x=\"115.539375\" xlink:href=\"#ma41be01a61\" y=\"195.823219\"/>\r\n     <use style=\"fill:#ff0000;stroke:#ff0000;stroke-width:0.5;\" x=\"149.019375\" xlink:href=\"#ma41be01a61\" y=\"195.823219\"/>\r\n     <use style=\"fill:#ff0000;stroke:#ff0000;stroke-width:0.5;\" x=\"98.799375\" xlink:href=\"#ma41be01a61\" y=\"206.695219\"/>\r\n     <use style=\"fill:#ff0000;stroke:#ff0000;stroke-width:0.5;\" x=\"98.799375\" xlink:href=\"#ma41be01a61\" y=\"206.695219\"/>\r\n     <use style=\"fill:#ff0000;stroke:#ff0000;stroke-width:0.5;\" x=\"115.539375\" xlink:href=\"#ma41be01a61\" y=\"195.823219\"/>\r\n     <use style=\"fill:#ff0000;stroke:#ff0000;stroke-width:0.5;\" x=\"115.539375\" xlink:href=\"#ma41be01a61\" y=\"195.823219\"/>\r\n     <use style=\"fill:#ff0000;stroke:#ff0000;stroke-width:0.5;\" x=\"98.799375\" xlink:href=\"#ma41be01a61\" y=\"206.695219\"/>\r\n     <use style=\"fill:#ff0000;stroke:#ff0000;stroke-width:0.5;\" x=\"149.019375\" xlink:href=\"#ma41be01a61\" y=\"195.823219\"/>\r\n     <use style=\"fill:#ff0000;stroke:#ff0000;stroke-width:0.5;\" x=\"115.539375\" xlink:href=\"#ma41be01a61\" y=\"206.695219\"/>\r\n     <use style=\"fill:#ff0000;stroke:#ff0000;stroke-width:0.5;\" x=\"132.279375\" xlink:href=\"#ma41be01a61\" y=\"195.823219\"/>\r\n     <use style=\"fill:#ff0000;stroke:#ff0000;stroke-width:0.5;\" x=\"115.539375\" xlink:href=\"#ma41be01a61\" y=\"195.823219\"/>\r\n     <use style=\"fill:#ff0000;stroke:#ff0000;stroke-width:0.5;\" x=\"115.539375\" xlink:href=\"#ma41be01a61\" y=\"195.823219\"/>\r\n     <use style=\"fill:#ff0000;stroke:#ff0000;stroke-width:0.5;\" x=\"132.279375\" xlink:href=\"#ma41be01a61\" y=\"195.823219\"/>\r\n     <use style=\"fill:#ff0000;stroke:#ff0000;stroke-width:0.5;\" x=\"115.539375\" xlink:href=\"#ma41be01a61\" y=\"217.567219\"/>\r\n     <use style=\"fill:#ff0000;stroke:#ff0000;stroke-width:0.5;\" x=\"115.539375\" xlink:href=\"#ma41be01a61\" y=\"195.823219\"/>\r\n     <use style=\"fill:#ff0000;stroke:#ff0000;stroke-width:0.5;\" x=\"115.539375\" xlink:href=\"#ma41be01a61\" y=\"206.695219\"/>\r\n     <use style=\"fill:#ff0000;stroke:#ff0000;stroke-width:0.5;\" x=\"98.799375\" xlink:href=\"#ma41be01a61\" y=\"206.695219\"/>\r\n     <use style=\"fill:#ff0000;stroke:#ff0000;stroke-width:0.5;\" x=\"115.539375\" xlink:href=\"#ma41be01a61\" y=\"195.823219\"/>\r\n     <use style=\"fill:#ff0000;stroke:#ff0000;stroke-width:0.5;\" x=\"115.539375\" xlink:href=\"#ma41be01a61\" y=\"206.695219\"/>\r\n     <use style=\"fill:#ff0000;stroke:#ff0000;stroke-width:0.5;\" x=\"115.539375\" xlink:href=\"#ma41be01a61\" y=\"195.823219\"/>\r\n     <use style=\"fill:#ff0000;stroke:#ff0000;stroke-width:0.5;\" x=\"98.799375\" xlink:href=\"#ma41be01a61\" y=\"206.695219\"/>\r\n     <use style=\"fill:#ff0000;stroke:#ff0000;stroke-width:0.5;\" x=\"115.539375\" xlink:href=\"#ma41be01a61\" y=\"195.823219\"/>\r\n     <use style=\"fill:#ff0000;stroke:#ff0000;stroke-width:0.5;\" x=\"98.799375\" xlink:href=\"#ma41be01a61\" y=\"206.695219\"/>\r\n     <use style=\"fill:#ff0000;stroke:#ff0000;stroke-width:0.5;\" x=\"115.539375\" xlink:href=\"#ma41be01a61\" y=\"195.823219\"/>\r\n     <use style=\"fill:#ff0000;stroke:#ff0000;stroke-width:0.5;\" x=\"98.799375\" xlink:href=\"#ma41be01a61\" y=\"206.695219\"/>\r\n     <use style=\"fill:#ff0000;stroke:#ff0000;stroke-width:0.5;\" x=\"98.799375\" xlink:href=\"#ma41be01a61\" y=\"206.695219\"/>\r\n     <use style=\"fill:#ff0000;stroke:#ff0000;stroke-width:0.5;\" x=\"98.799375\" xlink:href=\"#ma41be01a61\" y=\"206.695219\"/>\r\n     <use style=\"fill:#ff0000;stroke:#ff0000;stroke-width:0.5;\" x=\"115.539375\" xlink:href=\"#ma41be01a61\" y=\"195.823219\"/>\r\n     <use style=\"fill:#ff0000;stroke:#ff0000;stroke-width:0.5;\" x=\"115.539375\" xlink:href=\"#ma41be01a61\" y=\"206.695219\"/>\r\n     <use style=\"fill:#ff0000;stroke:#ff0000;stroke-width:0.5;\" x=\"82.059375\" xlink:href=\"#ma41be01a61\" y=\"217.567219\"/>\r\n     <use style=\"fill:#ff0000;stroke:#ff0000;stroke-width:0.5;\" x=\"98.799375\" xlink:href=\"#ma41be01a61\" y=\"206.695219\"/>\r\n     <use style=\"fill:#ff0000;stroke:#ff0000;stroke-width:0.5;\" x=\"115.539375\" xlink:href=\"#ma41be01a61\" y=\"206.695219\"/>\r\n     <use style=\"fill:#ff0000;stroke:#ff0000;stroke-width:0.5;\" x=\"82.059375\" xlink:href=\"#ma41be01a61\" y=\"217.567219\"/>\r\n     <use style=\"fill:#ff0000;stroke:#ff0000;stroke-width:0.5;\" x=\"115.539375\" xlink:href=\"#ma41be01a61\" y=\"195.823219\"/>\r\n     <use style=\"fill:#ff0000;stroke:#ff0000;stroke-width:0.5;\" x=\"82.059375\" xlink:href=\"#ma41be01a61\" y=\"217.567219\"/>\r\n     <use style=\"fill:#ff0000;stroke:#ff0000;stroke-width:0.5;\" x=\"115.539375\" xlink:href=\"#ma41be01a61\" y=\"195.823219\"/>\r\n     <use style=\"fill:#ff0000;stroke:#ff0000;stroke-width:0.5;\" x=\"115.539375\" xlink:href=\"#ma41be01a61\" y=\"195.823219\"/>\r\n     <use style=\"fill:#ff0000;stroke:#ff0000;stroke-width:0.5;\" x=\"115.539375\" xlink:href=\"#ma41be01a61\" y=\"195.823219\"/>\r\n     <use style=\"fill:#ff0000;stroke:#ff0000;stroke-width:0.5;\" x=\"82.059375\" xlink:href=\"#ma41be01a61\" y=\"217.567219\"/>\r\n     <use style=\"fill:#ff0000;stroke:#ff0000;stroke-width:0.5;\" x=\"98.799375\" xlink:href=\"#ma41be01a61\" y=\"206.695219\"/>\r\n     <use style=\"fill:#ff0000;stroke:#ff0000;stroke-width:0.5;\" x=\"98.799375\" xlink:href=\"#ma41be01a61\" y=\"206.695219\"/>\r\n     <use style=\"fill:#ff0000;stroke:#ff0000;stroke-width:0.5;\" x=\"98.799375\" xlink:href=\"#ma41be01a61\" y=\"206.695219\"/>\r\n     <use style=\"fill:#ff0000;stroke:#ff0000;stroke-width:0.5;\" x=\"98.799375\" xlink:href=\"#ma41be01a61\" y=\"206.695219\"/>\r\n     <use style=\"fill:#ff0000;stroke:#ff0000;stroke-width:0.5;\" x=\"132.279375\" xlink:href=\"#ma41be01a61\" y=\"195.823219\"/>\r\n     <use style=\"fill:#ff0000;stroke:#ff0000;stroke-width:0.5;\" x=\"115.539375\" xlink:href=\"#ma41be01a61\" y=\"195.823219\"/>\r\n     <use style=\"fill:#ff0000;stroke:#ff0000;stroke-width:0.5;\" x=\"132.279375\" xlink:href=\"#ma41be01a61\" y=\"195.823219\"/>\r\n     <use style=\"fill:#ff0000;stroke:#ff0000;stroke-width:0.5;\" x=\"115.539375\" xlink:href=\"#ma41be01a61\" y=\"195.823219\"/>\r\n     <use style=\"fill:#ff0000;stroke:#ff0000;stroke-width:0.5;\" x=\"98.799375\" xlink:href=\"#ma41be01a61\" y=\"206.695219\"/>\r\n     <use style=\"fill:#ff0000;stroke:#ff0000;stroke-width:0.5;\" x=\"98.799375\" xlink:href=\"#ma41be01a61\" y=\"206.695219\"/>\r\n     <use style=\"fill:#ff0000;stroke:#ff0000;stroke-width:0.5;\" x=\"82.059375\" xlink:href=\"#ma41be01a61\" y=\"217.567219\"/>\r\n     <use style=\"fill:#ff0000;stroke:#ff0000;stroke-width:0.5;\" x=\"115.539375\" xlink:href=\"#ma41be01a61\" y=\"195.823219\"/>\r\n     <use style=\"fill:#ff0000;stroke:#ff0000;stroke-width:0.5;\" x=\"98.799375\" xlink:href=\"#ma41be01a61\" y=\"206.695219\"/>\r\n     <use style=\"fill:#ff0000;stroke:#ff0000;stroke-width:0.5;\" x=\"82.059375\" xlink:href=\"#ma41be01a61\" y=\"217.567219\"/>\r\n     <use style=\"fill:#ff0000;stroke:#ff0000;stroke-width:0.5;\" x=\"98.799375\" xlink:href=\"#ma41be01a61\" y=\"206.695219\"/>\r\n     <use style=\"fill:#ff0000;stroke:#ff0000;stroke-width:0.5;\" x=\"98.799375\" xlink:href=\"#ma41be01a61\" y=\"206.695219\"/>\r\n     <use style=\"fill:#ff0000;stroke:#ff0000;stroke-width:0.5;\" x=\"115.539375\" xlink:href=\"#ma41be01a61\" y=\"195.823219\"/>\r\n     <use style=\"fill:#ff0000;stroke:#ff0000;stroke-width:0.5;\" x=\"98.799375\" xlink:href=\"#ma41be01a61\" y=\"206.695219\"/>\r\n     <use style=\"fill:#ff0000;stroke:#ff0000;stroke-width:0.5;\" x=\"98.799375\" xlink:href=\"#ma41be01a61\" y=\"206.695219\"/>\r\n     <use style=\"fill:#ff0000;stroke:#ff0000;stroke-width:0.5;\" x=\"149.019375\" xlink:href=\"#ma41be01a61\" y=\"195.823219\"/>\r\n     <use style=\"fill:#ff0000;stroke:#ff0000;stroke-width:0.5;\" x=\"115.539375\" xlink:href=\"#ma41be01a61\" y=\"206.695219\"/>\r\n     <use style=\"fill:#ff0000;stroke:#ff0000;stroke-width:0.5;\" x=\"132.279375\" xlink:href=\"#ma41be01a61\" y=\"195.823219\"/>\r\n     <use style=\"fill:#ff0000;stroke:#ff0000;stroke-width:0.5;\" x=\"98.799375\" xlink:href=\"#ma41be01a61\" y=\"206.695219\"/>\r\n     <use style=\"fill:#ff0000;stroke:#ff0000;stroke-width:0.5;\" x=\"115.539375\" xlink:href=\"#ma41be01a61\" y=\"195.823219\"/>\r\n     <use style=\"fill:#ff0000;stroke:#ff0000;stroke-width:0.5;\" x=\"115.539375\" xlink:href=\"#ma41be01a61\" y=\"195.823219\"/>\r\n     <use style=\"fill:#ff0000;stroke:#ff0000;stroke-width:0.5;\" x=\"115.539375\" xlink:href=\"#ma41be01a61\" y=\"195.823219\"/>\r\n     <use style=\"fill:#ff0000;stroke:#ff0000;stroke-width:0.5;\" x=\"115.539375\" xlink:href=\"#ma41be01a61\" y=\"195.823219\"/>\r\n     <use style=\"fill:#ff0000;stroke:#ff0000;stroke-width:0.5;\" x=\"149.019375\" xlink:href=\"#ma41be01a61\" y=\"195.823219\"/>\r\n     <use style=\"fill:#ff0000;stroke:#ff0000;stroke-width:0.5;\" x=\"82.059375\" xlink:href=\"#ma41be01a61\" y=\"217.567219\"/>\r\n     <use style=\"fill:#ff0000;stroke:#ff0000;stroke-width:0.5;\" x=\"98.799375\" xlink:href=\"#ma41be01a61\" y=\"217.567219\"/>\r\n     <use style=\"fill:#ff0000;stroke:#ff0000;stroke-width:0.5;\" x=\"115.539375\" xlink:href=\"#ma41be01a61\" y=\"195.823219\"/>\r\n     <use style=\"fill:#ff0000;stroke:#ff0000;stroke-width:0.5;\" x=\"115.539375\" xlink:href=\"#ma41be01a61\" y=\"206.695219\"/>\r\n     <use style=\"fill:#ff0000;stroke:#ff0000;stroke-width:0.5;\" x=\"82.059375\" xlink:href=\"#ma41be01a61\" y=\"217.567219\"/>\r\n     <use style=\"fill:#ff0000;stroke:#ff0000;stroke-width:0.5;\" x=\"149.019375\" xlink:href=\"#ma41be01a61\" y=\"195.823219\"/>\r\n     <use style=\"fill:#ff0000;stroke:#ff0000;stroke-width:0.5;\" x=\"98.799375\" xlink:href=\"#ma41be01a61\" y=\"206.695219\"/>\r\n     <use style=\"fill:#ff0000;stroke:#ff0000;stroke-width:0.5;\" x=\"115.539375\" xlink:href=\"#ma41be01a61\" y=\"195.823219\"/>\r\n     <use style=\"fill:#ff0000;stroke:#ff0000;stroke-width:0.5;\" x=\"82.059375\" xlink:href=\"#ma41be01a61\" y=\"217.567219\"/>\r\n     <use style=\"fill:#ff0000;stroke:#ff0000;stroke-width:0.5;\" x=\"98.799375\" xlink:href=\"#ma41be01a61\" y=\"206.695219\"/>\r\n     <use style=\"fill:#ff0000;stroke:#ff0000;stroke-width:0.5;\" x=\"115.539375\" xlink:href=\"#ma41be01a61\" y=\"195.823219\"/>\r\n     <use style=\"fill:#ff0000;stroke:#ff0000;stroke-width:0.5;\" x=\"149.019375\" xlink:href=\"#ma41be01a61\" y=\"195.823219\"/>\r\n     <use style=\"fill:#ff0000;stroke:#ff0000;stroke-width:0.5;\" x=\"98.799375\" xlink:href=\"#ma41be01a61\" y=\"206.695219\"/>\r\n     <use style=\"fill:#ff0000;stroke:#ff0000;stroke-width:0.5;\" x=\"98.799375\" xlink:href=\"#ma41be01a61\" y=\"206.695219\"/>\r\n     <use style=\"fill:#ff0000;stroke:#ff0000;stroke-width:0.5;\" x=\"115.539375\" xlink:href=\"#ma41be01a61\" y=\"195.823219\"/>\r\n     <use style=\"fill:#ff0000;stroke:#ff0000;stroke-width:0.5;\" x=\"98.799375\" xlink:href=\"#ma41be01a61\" y=\"206.695219\"/>\r\n     <use style=\"fill:#ff0000;stroke:#ff0000;stroke-width:0.5;\" x=\"98.799375\" xlink:href=\"#ma41be01a61\" y=\"206.695219\"/>\r\n     <use style=\"fill:#ff0000;stroke:#ff0000;stroke-width:0.5;\" x=\"115.539375\" xlink:href=\"#ma41be01a61\" y=\"195.823219\"/>\r\n     <use style=\"fill:#ff0000;stroke:#ff0000;stroke-width:0.5;\" x=\"115.539375\" xlink:href=\"#ma41be01a61\" y=\"195.823219\"/>\r\n     <use style=\"fill:#ff0000;stroke:#ff0000;stroke-width:0.5;\" x=\"98.799375\" xlink:href=\"#ma41be01a61\" y=\"206.695219\"/>\r\n     <use style=\"fill:#ff0000;stroke:#ff0000;stroke-width:0.5;\" x=\"98.799375\" xlink:href=\"#ma41be01a61\" y=\"206.695219\"/>\r\n     <use style=\"fill:#ff0000;stroke:#ff0000;stroke-width:0.5;\" x=\"98.799375\" xlink:href=\"#ma41be01a61\" y=\"206.695219\"/>\r\n     <use style=\"fill:#ff0000;stroke:#ff0000;stroke-width:0.5;\" x=\"82.059375\" xlink:href=\"#ma41be01a61\" y=\"217.567219\"/>\r\n     <use style=\"fill:#ff0000;stroke:#ff0000;stroke-width:0.5;\" x=\"149.019375\" xlink:href=\"#ma41be01a61\" y=\"195.823219\"/>\r\n     <use style=\"fill:#ff0000;stroke:#ff0000;stroke-width:0.5;\" x=\"98.799375\" xlink:href=\"#ma41be01a61\" y=\"206.695219\"/>\r\n     <use style=\"fill:#ff0000;stroke:#ff0000;stroke-width:0.5;\" x=\"115.539375\" xlink:href=\"#ma41be01a61\" y=\"206.695219\"/>\r\n     <use style=\"fill:#ff0000;stroke:#ff0000;stroke-width:0.5;\" x=\"115.539375\" xlink:href=\"#ma41be01a61\" y=\"195.823219\"/>\r\n     <use style=\"fill:#ff0000;stroke:#ff0000;stroke-width:0.5;\" x=\"98.799375\" xlink:href=\"#ma41be01a61\" y=\"206.695219\"/>\r\n     <use style=\"fill:#ff0000;stroke:#ff0000;stroke-width:0.5;\" x=\"115.539375\" xlink:href=\"#ma41be01a61\" y=\"195.823219\"/>\r\n     <use style=\"fill:#ff0000;stroke:#ff0000;stroke-width:0.5;\" x=\"98.799375\" xlink:href=\"#ma41be01a61\" y=\"206.695219\"/>\r\n     <use style=\"fill:#ff0000;stroke:#ff0000;stroke-width:0.5;\" x=\"115.539375\" xlink:href=\"#ma41be01a61\" y=\"195.823219\"/>\r\n     <use style=\"fill:#ff0000;stroke:#ff0000;stroke-width:0.5;\" x=\"98.799375\" xlink:href=\"#ma41be01a61\" y=\"206.695219\"/>\r\n     <use style=\"fill:#ff0000;stroke:#ff0000;stroke-width:0.5;\" x=\"98.799375\" xlink:href=\"#ma41be01a61\" y=\"206.695219\"/>\r\n     <use style=\"fill:#ff0000;stroke:#ff0000;stroke-width:0.5;\" x=\"98.799375\" xlink:href=\"#ma41be01a61\" y=\"206.695219\"/>\r\n     <use style=\"fill:#ff0000;stroke:#ff0000;stroke-width:0.5;\" x=\"98.799375\" xlink:href=\"#ma41be01a61\" y=\"206.695219\"/>\r\n     <use style=\"fill:#ff0000;stroke:#ff0000;stroke-width:0.5;\" x=\"115.539375\" xlink:href=\"#ma41be01a61\" y=\"206.695219\"/>\r\n     <use style=\"fill:#ff0000;stroke:#ff0000;stroke-width:0.5;\" x=\"98.799375\" xlink:href=\"#ma41be01a61\" y=\"206.695219\"/>\r\n     <use style=\"fill:#ff0000;stroke:#ff0000;stroke-width:0.5;\" x=\"115.539375\" xlink:href=\"#ma41be01a61\" y=\"195.823219\"/>\r\n     <use style=\"fill:#ff0000;stroke:#ff0000;stroke-width:0.5;\" x=\"115.539375\" xlink:href=\"#ma41be01a61\" y=\"206.695219\"/>\r\n     <use style=\"fill:#ff0000;stroke:#ff0000;stroke-width:0.5;\" x=\"98.799375\" xlink:href=\"#ma41be01a61\" y=\"206.695219\"/>\r\n     <use style=\"fill:#ff0000;stroke:#ff0000;stroke-width:0.5;\" x=\"98.799375\" xlink:href=\"#ma41be01a61\" y=\"206.695219\"/>\r\n     <use style=\"fill:#ff0000;stroke:#ff0000;stroke-width:0.5;\" x=\"115.539375\" xlink:href=\"#ma41be01a61\" y=\"195.823219\"/>\r\n     <use style=\"fill:#ff0000;stroke:#ff0000;stroke-width:0.5;\" x=\"132.279375\" xlink:href=\"#ma41be01a61\" y=\"206.695219\"/>\r\n     <use style=\"fill:#ff0000;stroke:#ff0000;stroke-width:0.5;\" x=\"98.799375\" xlink:href=\"#ma41be01a61\" y=\"206.695219\"/>\r\n     <use style=\"fill:#ff0000;stroke:#ff0000;stroke-width:0.5;\" x=\"132.279375\" xlink:href=\"#ma41be01a61\" y=\"195.823219\"/>\r\n     <use style=\"fill:#ff0000;stroke:#ff0000;stroke-width:0.5;\" x=\"98.799375\" xlink:href=\"#ma41be01a61\" y=\"206.695219\"/>\r\n     <use style=\"fill:#ff0000;stroke:#ff0000;stroke-width:0.5;\" x=\"115.539375\" xlink:href=\"#ma41be01a61\" y=\"206.695219\"/>\r\n     <use style=\"fill:#ff0000;stroke:#ff0000;stroke-width:0.5;\" x=\"132.279375\" xlink:href=\"#ma41be01a61\" y=\"195.823219\"/>\r\n     <use style=\"fill:#ff0000;stroke:#ff0000;stroke-width:0.5;\" x=\"98.799375\" xlink:href=\"#ma41be01a61\" y=\"206.695219\"/>\r\n     <use style=\"fill:#ff0000;stroke:#ff0000;stroke-width:0.5;\" x=\"98.799375\" xlink:href=\"#ma41be01a61\" y=\"206.695219\"/>\r\n     <use style=\"fill:#ff0000;stroke:#ff0000;stroke-width:0.5;\" x=\"98.799375\" xlink:href=\"#ma41be01a61\" y=\"206.695219\"/>\r\n     <use style=\"fill:#ff0000;stroke:#ff0000;stroke-width:0.5;\" x=\"115.539375\" xlink:href=\"#ma41be01a61\" y=\"195.823219\"/>\r\n     <use style=\"fill:#ff0000;stroke:#ff0000;stroke-width:0.5;\" x=\"98.799375\" xlink:href=\"#ma41be01a61\" y=\"206.695219\"/>\r\n     <use style=\"fill:#ff0000;stroke:#ff0000;stroke-width:0.5;\" x=\"98.799375\" xlink:href=\"#ma41be01a61\" y=\"206.695219\"/>\r\n     <use style=\"fill:#ff0000;stroke:#ff0000;stroke-width:0.5;\" x=\"132.279375\" xlink:href=\"#ma41be01a61\" y=\"195.823219\"/>\r\n     <use style=\"fill:#ff0000;stroke:#ff0000;stroke-width:0.5;\" x=\"98.799375\" xlink:href=\"#ma41be01a61\" y=\"206.695219\"/>\r\n     <use style=\"fill:#ff0000;stroke:#ff0000;stroke-width:0.5;\" x=\"98.799375\" xlink:href=\"#ma41be01a61\" y=\"206.695219\"/>\r\n     <use style=\"fill:#ff0000;stroke:#ff0000;stroke-width:0.5;\" x=\"98.799375\" xlink:href=\"#ma41be01a61\" y=\"206.695219\"/>\r\n     <use style=\"fill:#ff0000;stroke:#ff0000;stroke-width:0.5;\" x=\"115.539375\" xlink:href=\"#ma41be01a61\" y=\"195.823219\"/>\r\n     <use style=\"fill:#ff0000;stroke:#ff0000;stroke-width:0.5;\" x=\"98.799375\" xlink:href=\"#ma41be01a61\" y=\"206.695219\"/>\r\n     <use style=\"fill:#ff0000;stroke:#ff0000;stroke-width:0.5;\" x=\"98.799375\" xlink:href=\"#ma41be01a61\" y=\"206.695219\"/>\r\n     <use style=\"fill:#ff0000;stroke:#ff0000;stroke-width:0.5;\" x=\"98.799375\" xlink:href=\"#ma41be01a61\" y=\"206.695219\"/>\r\n     <use style=\"fill:#ff0000;stroke:#ff0000;stroke-width:0.5;\" x=\"115.539375\" xlink:href=\"#ma41be01a61\" y=\"195.823219\"/>\r\n     <use style=\"fill:#ff0000;stroke:#ff0000;stroke-width:0.5;\" x=\"98.799375\" xlink:href=\"#ma41be01a61\" y=\"206.695219\"/>\r\n     <use style=\"fill:#ff0000;stroke:#ff0000;stroke-width:0.5;\" x=\"98.799375\" xlink:href=\"#ma41be01a61\" y=\"206.695219\"/>\r\n     <use style=\"fill:#ff0000;stroke:#ff0000;stroke-width:0.5;\" x=\"98.799375\" xlink:href=\"#ma41be01a61\" y=\"206.695219\"/>\r\n     <use style=\"fill:#ff0000;stroke:#ff0000;stroke-width:0.5;\" x=\"98.799375\" xlink:href=\"#ma41be01a61\" y=\"206.695219\"/>\r\n     <use style=\"fill:#ff0000;stroke:#ff0000;stroke-width:0.5;\" x=\"115.539375\" xlink:href=\"#ma41be01a61\" y=\"195.823219\"/>\r\n     <use style=\"fill:#ff0000;stroke:#ff0000;stroke-width:0.5;\" x=\"98.799375\" xlink:href=\"#ma41be01a61\" y=\"206.695219\"/>\r\n     <use style=\"fill:#ff0000;stroke:#ff0000;stroke-width:0.5;\" x=\"132.279375\" xlink:href=\"#ma41be01a61\" y=\"195.823219\"/>\r\n     <use style=\"fill:#ff0000;stroke:#ff0000;stroke-width:0.5;\" x=\"98.799375\" xlink:href=\"#ma41be01a61\" y=\"206.695219\"/>\r\n     <use style=\"fill:#ff0000;stroke:#ff0000;stroke-width:0.5;\" x=\"98.799375\" xlink:href=\"#ma41be01a61\" y=\"206.695219\"/>\r\n     <use style=\"fill:#ff0000;stroke:#ff0000;stroke-width:0.5;\" x=\"115.539375\" xlink:href=\"#ma41be01a61\" y=\"195.823219\"/>\r\n     <use style=\"fill:#ff0000;stroke:#ff0000;stroke-width:0.5;\" x=\"115.539375\" xlink:href=\"#ma41be01a61\" y=\"195.823219\"/>\r\n     <use style=\"fill:#ff0000;stroke:#ff0000;stroke-width:0.5;\" x=\"115.539375\" xlink:href=\"#ma41be01a61\" y=\"195.823219\"/>\r\n     <use style=\"fill:#ff0000;stroke:#ff0000;stroke-width:0.5;\" x=\"82.059375\" xlink:href=\"#ma41be01a61\" y=\"217.567219\"/>\r\n     <use style=\"fill:#ff0000;stroke:#ff0000;stroke-width:0.5;\" x=\"98.799375\" xlink:href=\"#ma41be01a61\" y=\"206.695219\"/>\r\n     <use style=\"fill:#ff0000;stroke:#ff0000;stroke-width:0.5;\" x=\"98.799375\" xlink:href=\"#ma41be01a61\" y=\"206.695219\"/>\r\n     <use style=\"fill:#ff0000;stroke:#ff0000;stroke-width:0.5;\" x=\"115.539375\" xlink:href=\"#ma41be01a61\" y=\"217.567219\"/>\r\n     <use style=\"fill:#ff0000;stroke:#ff0000;stroke-width:0.5;\" x=\"98.799375\" xlink:href=\"#ma41be01a61\" y=\"206.695219\"/>\r\n     <use style=\"fill:#ff0000;stroke:#ff0000;stroke-width:0.5;\" x=\"98.799375\" xlink:href=\"#ma41be01a61\" y=\"206.695219\"/>\r\n     <use style=\"fill:#ff0000;stroke:#ff0000;stroke-width:0.5;\" x=\"115.539375\" xlink:href=\"#ma41be01a61\" y=\"195.823219\"/>\r\n     <use style=\"fill:#ff0000;stroke:#ff0000;stroke-width:0.5;\" x=\"115.539375\" xlink:href=\"#ma41be01a61\" y=\"195.823219\"/>\r\n     <use style=\"fill:#ff0000;stroke:#ff0000;stroke-width:0.5;\" x=\"82.059375\" xlink:href=\"#ma41be01a61\" y=\"217.567219\"/>\r\n     <use style=\"fill:#ff0000;stroke:#ff0000;stroke-width:0.5;\" x=\"115.539375\" xlink:href=\"#ma41be01a61\" y=\"195.823219\"/>\r\n     <use style=\"fill:#ff0000;stroke:#ff0000;stroke-width:0.5;\" x=\"82.059375\" xlink:href=\"#ma41be01a61\" y=\"217.567219\"/>\r\n     <use style=\"fill:#ff0000;stroke:#ff0000;stroke-width:0.5;\" x=\"98.799375\" xlink:href=\"#ma41be01a61\" y=\"206.695219\"/>\r\n     <use style=\"fill:#ff0000;stroke:#ff0000;stroke-width:0.5;\" x=\"149.019375\" xlink:href=\"#ma41be01a61\" y=\"195.823219\"/>\r\n     <use style=\"fill:#ff0000;stroke:#ff0000;stroke-width:0.5;\" x=\"98.799375\" xlink:href=\"#ma41be01a61\" y=\"206.695219\"/>\r\n     <use style=\"fill:#ff0000;stroke:#ff0000;stroke-width:0.5;\" x=\"98.799375\" xlink:href=\"#ma41be01a61\" y=\"206.695219\"/>\r\n     <use style=\"fill:#ff0000;stroke:#ff0000;stroke-width:0.5;\" x=\"115.539375\" xlink:href=\"#ma41be01a61\" y=\"206.695219\"/>\r\n     <use style=\"fill:#ff0000;stroke:#ff0000;stroke-width:0.5;\" x=\"98.799375\" xlink:href=\"#ma41be01a61\" y=\"206.695219\"/>\r\n     <use style=\"fill:#ff0000;stroke:#ff0000;stroke-width:0.5;\" x=\"98.799375\" xlink:href=\"#ma41be01a61\" y=\"206.695219\"/>\r\n     <use style=\"fill:#ff0000;stroke:#ff0000;stroke-width:0.5;\" x=\"82.059375\" xlink:href=\"#ma41be01a61\" y=\"217.567219\"/>\r\n     <use style=\"fill:#ff0000;stroke:#ff0000;stroke-width:0.5;\" x=\"132.279375\" xlink:href=\"#ma41be01a61\" y=\"195.823219\"/>\r\n     <use style=\"fill:#ff0000;stroke:#ff0000;stroke-width:0.5;\" x=\"98.799375\" xlink:href=\"#ma41be01a61\" y=\"206.695219\"/>\r\n     <use style=\"fill:#ff0000;stroke:#ff0000;stroke-width:0.5;\" x=\"82.059375\" xlink:href=\"#ma41be01a61\" y=\"217.567219\"/>\r\n     <use style=\"fill:#ff0000;stroke:#ff0000;stroke-width:0.5;\" x=\"115.539375\" xlink:href=\"#ma41be01a61\" y=\"195.823219\"/>\r\n     <use style=\"fill:#ff0000;stroke:#ff0000;stroke-width:0.5;\" x=\"115.539375\" xlink:href=\"#ma41be01a61\" y=\"195.823219\"/>\r\n     <use style=\"fill:#ff0000;stroke:#ff0000;stroke-width:0.5;\" x=\"115.539375\" xlink:href=\"#ma41be01a61\" y=\"195.823219\"/>\r\n     <use style=\"fill:#ff0000;stroke:#ff0000;stroke-width:0.5;\" x=\"115.539375\" xlink:href=\"#ma41be01a61\" y=\"195.823219\"/>\r\n     <use style=\"fill:#ff0000;stroke:#ff0000;stroke-width:0.5;\" x=\"132.279375\" xlink:href=\"#ma41be01a61\" y=\"195.823219\"/>\r\n     <use style=\"fill:#ff0000;stroke:#ff0000;stroke-width:0.5;\" x=\"98.799375\" xlink:href=\"#ma41be01a61\" y=\"206.695219\"/>\r\n     <use style=\"fill:#ff0000;stroke:#ff0000;stroke-width:0.5;\" x=\"82.059375\" xlink:href=\"#ma41be01a61\" y=\"217.567219\"/>\r\n     <use style=\"fill:#ff0000;stroke:#ff0000;stroke-width:0.5;\" x=\"98.799375\" xlink:href=\"#ma41be01a61\" y=\"206.695219\"/>\r\n     <use style=\"fill:#ff0000;stroke:#ff0000;stroke-width:0.5;\" x=\"98.799375\" xlink:href=\"#ma41be01a61\" y=\"206.695219\"/>\r\n     <use style=\"fill:#ff0000;stroke:#ff0000;stroke-width:0.5;\" x=\"82.059375\" xlink:href=\"#ma41be01a61\" y=\"217.567219\"/>\r\n     <use style=\"fill:#ff0000;stroke:#ff0000;stroke-width:0.5;\" x=\"115.539375\" xlink:href=\"#ma41be01a61\" y=\"206.695219\"/>\r\n     <use style=\"fill:#ff0000;stroke:#ff0000;stroke-width:0.5;\" x=\"98.799375\" xlink:href=\"#ma41be01a61\" y=\"206.695219\"/>\r\n     <use style=\"fill:#ff0000;stroke:#ff0000;stroke-width:0.5;\" x=\"98.799375\" xlink:href=\"#ma41be01a61\" y=\"206.695219\"/>\r\n     <use style=\"fill:#ff0000;stroke:#ff0000;stroke-width:0.5;\" x=\"149.019375\" xlink:href=\"#ma41be01a61\" y=\"195.823219\"/>\r\n     <use style=\"fill:#ff0000;stroke:#ff0000;stroke-width:0.5;\" x=\"115.539375\" xlink:href=\"#ma41be01a61\" y=\"195.823219\"/>\r\n     <use style=\"fill:#ff0000;stroke:#ff0000;stroke-width:0.5;\" x=\"82.059375\" xlink:href=\"#ma41be01a61\" y=\"217.567219\"/>\r\n     <use style=\"fill:#ff0000;stroke:#ff0000;stroke-width:0.5;\" x=\"98.799375\" xlink:href=\"#ma41be01a61\" y=\"206.695219\"/>\r\n     <use style=\"fill:#ff0000;stroke:#ff0000;stroke-width:0.5;\" x=\"132.279375\" xlink:href=\"#ma41be01a61\" y=\"195.823219\"/>\r\n     <use style=\"fill:#ff0000;stroke:#ff0000;stroke-width:0.5;\" x=\"82.059375\" xlink:href=\"#ma41be01a61\" y=\"217.567219\"/>\r\n     <use style=\"fill:#ff0000;stroke:#ff0000;stroke-width:0.5;\" x=\"98.799375\" xlink:href=\"#ma41be01a61\" y=\"206.695219\"/>\r\n     <use style=\"fill:#ff0000;stroke:#ff0000;stroke-width:0.5;\" x=\"98.799375\" xlink:href=\"#ma41be01a61\" y=\"206.695219\"/>\r\n     <use style=\"fill:#ff0000;stroke:#ff0000;stroke-width:0.5;\" x=\"115.539375\" xlink:href=\"#ma41be01a61\" y=\"195.823219\"/>\r\n     <use style=\"fill:#ff0000;stroke:#ff0000;stroke-width:0.5;\" x=\"82.059375\" xlink:href=\"#ma41be01a61\" y=\"217.567219\"/>\r\n     <use style=\"fill:#ff0000;stroke:#ff0000;stroke-width:0.5;\" x=\"115.539375\" xlink:href=\"#ma41be01a61\" y=\"195.823219\"/>\r\n     <use style=\"fill:#ff0000;stroke:#ff0000;stroke-width:0.5;\" x=\"82.059375\" xlink:href=\"#ma41be01a61\" y=\"217.567219\"/>\r\n     <use style=\"fill:#ff0000;stroke:#ff0000;stroke-width:0.5;\" x=\"82.059375\" xlink:href=\"#ma41be01a61\" y=\"217.567219\"/>\r\n     <use style=\"fill:#ff0000;stroke:#ff0000;stroke-width:0.5;\" x=\"82.059375\" xlink:href=\"#ma41be01a61\" y=\"217.567219\"/>\r\n     <use style=\"fill:#ff0000;stroke:#ff0000;stroke-width:0.5;\" x=\"98.799375\" xlink:href=\"#ma41be01a61\" y=\"206.695219\"/>\r\n     <use style=\"fill:#ff0000;stroke:#ff0000;stroke-width:0.5;\" x=\"82.059375\" xlink:href=\"#ma41be01a61\" y=\"217.567219\"/>\r\n     <use style=\"fill:#ff0000;stroke:#ff0000;stroke-width:0.5;\" x=\"98.799375\" xlink:href=\"#ma41be01a61\" y=\"206.695219\"/>\r\n     <use style=\"fill:#ff0000;stroke:#ff0000;stroke-width:0.5;\" x=\"98.799375\" xlink:href=\"#ma41be01a61\" y=\"206.695219\"/>\r\n     <use style=\"fill:#ff0000;stroke:#ff0000;stroke-width:0.5;\" x=\"82.059375\" xlink:href=\"#ma41be01a61\" y=\"217.567219\"/>\r\n     <use style=\"fill:#ff0000;stroke:#ff0000;stroke-width:0.5;\" x=\"115.539375\" xlink:href=\"#ma41be01a61\" y=\"206.695219\"/>\r\n     <use style=\"fill:#ff0000;stroke:#ff0000;stroke-width:0.5;\" x=\"98.799375\" xlink:href=\"#ma41be01a61\" y=\"217.567219\"/>\r\n     <use style=\"fill:#ff0000;stroke:#ff0000;stroke-width:0.5;\" x=\"82.059375\" xlink:href=\"#ma41be01a61\" y=\"217.567219\"/>\r\n     <use style=\"fill:#ff0000;stroke:#ff0000;stroke-width:0.5;\" x=\"82.059375\" xlink:href=\"#ma41be01a61\" y=\"217.567219\"/>\r\n     <use style=\"fill:#ff0000;stroke:#ff0000;stroke-width:0.5;\" x=\"82.059375\" xlink:href=\"#ma41be01a61\" y=\"217.567219\"/>\r\n     <use style=\"fill:#ff0000;stroke:#ff0000;stroke-width:0.5;\" x=\"82.059375\" xlink:href=\"#ma41be01a61\" y=\"217.567219\"/>\r\n     <use style=\"fill:#ff0000;stroke:#ff0000;stroke-width:0.5;\" x=\"82.059375\" xlink:href=\"#ma41be01a61\" y=\"217.567219\"/>\r\n     <use style=\"fill:#ff0000;stroke:#ff0000;stroke-width:0.5;\" x=\"82.059375\" xlink:href=\"#ma41be01a61\" y=\"217.567219\"/>\r\n    </g>\r\n   </g>\r\n   <g id=\"matplotlib.axis_1\">\r\n    <g id=\"xtick_1\">\r\n     <g id=\"line2d_1\">\r\n      <path clip-path=\"url(#p0d43ee69db)\" d=\"M 48.579375 228.439219 \r\nL 48.579375 10.999219 \r\n\" style=\"fill:none;stroke:#b2b2b2;stroke-dasharray:1.85,0.8;stroke-dashoffset:0;stroke-width:0.5;\"/>\r\n     </g>\r\n     <g id=\"line2d_2\">\r\n      <defs>\r\n       <path d=\"M 0 0 \r\nL 0 -3.5 \r\n\" id=\"m131bcb3757\" style=\"stroke:#000000;stroke-width:0.8;\"/>\r\n      </defs>\r\n      <g>\r\n       <use style=\"stroke:#000000;stroke-width:0.8;\" x=\"48.579375\" xlink:href=\"#m131bcb3757\" y=\"228.439219\"/>\r\n      </g>\r\n     </g>\r\n     <g id=\"text_1\">\r\n      <!-- 0.0 -->\r\n      <g transform=\"translate(40.627813 239.537656)scale(0.1 -0.1)\">\r\n       <defs>\r\n        <path d=\"M 31.78125 66.40625 \r\nQ 24.171875 66.40625 20.328125 58.90625 \r\nQ 16.5 51.421875 16.5 36.375 \r\nQ 16.5 21.390625 20.328125 13.890625 \r\nQ 24.171875 6.390625 31.78125 6.390625 \r\nQ 39.453125 6.390625 43.28125 13.890625 \r\nQ 47.125 21.390625 47.125 36.375 \r\nQ 47.125 51.421875 43.28125 58.90625 \r\nQ 39.453125 66.40625 31.78125 66.40625 \r\nz\r\nM 31.78125 74.21875 \r\nQ 44.046875 74.21875 50.515625 64.515625 \r\nQ 56.984375 54.828125 56.984375 36.375 \r\nQ 56.984375 17.96875 50.515625 8.265625 \r\nQ 44.046875 -1.421875 31.78125 -1.421875 \r\nQ 19.53125 -1.421875 13.0625 8.265625 \r\nQ 6.59375 17.96875 6.59375 36.375 \r\nQ 6.59375 54.828125 13.0625 64.515625 \r\nQ 19.53125 74.21875 31.78125 74.21875 \r\nz\r\n\" id=\"DejaVuSans-48\"/>\r\n        <path d=\"M 10.6875 12.40625 \r\nL 21 12.40625 \r\nL 21 0 \r\nL 10.6875 0 \r\nz\r\n\" id=\"DejaVuSans-46\"/>\r\n       </defs>\r\n       <use xlink:href=\"#DejaVuSans-48\"/>\r\n       <use x=\"63.623047\" xlink:href=\"#DejaVuSans-46\"/>\r\n       <use x=\"95.410156\" xlink:href=\"#DejaVuSans-48\"/>\r\n      </g>\r\n     </g>\r\n    </g>\r\n    <g id=\"xtick_2\">\r\n     <g id=\"line2d_3\">\r\n      <path clip-path=\"url(#p0d43ee69db)\" d=\"M 90.429375 228.439219 \r\nL 90.429375 10.999219 \r\n\" style=\"fill:none;stroke:#b2b2b2;stroke-dasharray:1.85,0.8;stroke-dashoffset:0;stroke-width:0.5;\"/>\r\n     </g>\r\n     <g id=\"line2d_4\">\r\n      <g>\r\n       <use style=\"stroke:#000000;stroke-width:0.8;\" x=\"90.429375\" xlink:href=\"#m131bcb3757\" y=\"228.439219\"/>\r\n      </g>\r\n     </g>\r\n     <g id=\"text_2\">\r\n      <!-- 2.5 -->\r\n      <g transform=\"translate(82.477813 239.537656)scale(0.1 -0.1)\">\r\n       <defs>\r\n        <path d=\"M 19.1875 8.296875 \r\nL 53.609375 8.296875 \r\nL 53.609375 0 \r\nL 7.328125 0 \r\nL 7.328125 8.296875 \r\nQ 12.9375 14.109375 22.625 23.890625 \r\nQ 32.328125 33.6875 34.8125 36.53125 \r\nQ 39.546875 41.84375 41.421875 45.53125 \r\nQ 43.3125 49.21875 43.3125 52.78125 \r\nQ 43.3125 58.59375 39.234375 62.25 \r\nQ 35.15625 65.921875 28.609375 65.921875 \r\nQ 23.96875 65.921875 18.8125 64.3125 \r\nQ 13.671875 62.703125 7.8125 59.421875 \r\nL 7.8125 69.390625 \r\nQ 13.765625 71.78125 18.9375 73 \r\nQ 24.125 74.21875 28.421875 74.21875 \r\nQ 39.75 74.21875 46.484375 68.546875 \r\nQ 53.21875 62.890625 53.21875 53.421875 \r\nQ 53.21875 48.921875 51.53125 44.890625 \r\nQ 49.859375 40.875 45.40625 35.40625 \r\nQ 44.1875 33.984375 37.640625 27.21875 \r\nQ 31.109375 20.453125 19.1875 8.296875 \r\nz\r\n\" id=\"DejaVuSans-50\"/>\r\n        <path d=\"M 10.796875 72.90625 \r\nL 49.515625 72.90625 \r\nL 49.515625 64.59375 \r\nL 19.828125 64.59375 \r\nL 19.828125 46.734375 \r\nQ 21.96875 47.46875 24.109375 47.828125 \r\nQ 26.265625 48.1875 28.421875 48.1875 \r\nQ 40.625 48.1875 47.75 41.5 \r\nQ 54.890625 34.8125 54.890625 23.390625 \r\nQ 54.890625 11.625 47.5625 5.09375 \r\nQ 40.234375 -1.421875 26.90625 -1.421875 \r\nQ 22.3125 -1.421875 17.546875 -0.640625 \r\nQ 12.796875 0.140625 7.71875 1.703125 \r\nL 7.71875 11.625 \r\nQ 12.109375 9.234375 16.796875 8.0625 \r\nQ 21.484375 6.890625 26.703125 6.890625 \r\nQ 35.15625 6.890625 40.078125 11.328125 \r\nQ 45.015625 15.765625 45.015625 23.390625 \r\nQ 45.015625 31 40.078125 35.4375 \r\nQ 35.15625 39.890625 26.703125 39.890625 \r\nQ 22.75 39.890625 18.8125 39.015625 \r\nQ 14.890625 38.140625 10.796875 36.28125 \r\nz\r\n\" id=\"DejaVuSans-53\"/>\r\n       </defs>\r\n       <use xlink:href=\"#DejaVuSans-50\"/>\r\n       <use x=\"63.623047\" xlink:href=\"#DejaVuSans-46\"/>\r\n       <use x=\"95.410156\" xlink:href=\"#DejaVuSans-53\"/>\r\n      </g>\r\n     </g>\r\n    </g>\r\n    <g id=\"xtick_3\">\r\n     <g id=\"line2d_5\">\r\n      <path clip-path=\"url(#p0d43ee69db)\" d=\"M 132.279375 228.439219 \r\nL 132.279375 10.999219 \r\n\" style=\"fill:none;stroke:#b2b2b2;stroke-dasharray:1.85,0.8;stroke-dashoffset:0;stroke-width:0.5;\"/>\r\n     </g>\r\n     <g id=\"line2d_6\">\r\n      <g>\r\n       <use style=\"stroke:#000000;stroke-width:0.8;\" x=\"132.279375\" xlink:href=\"#m131bcb3757\" y=\"228.439219\"/>\r\n      </g>\r\n     </g>\r\n     <g id=\"text_3\">\r\n      <!-- 5.0 -->\r\n      <g transform=\"translate(124.327813 239.537656)scale(0.1 -0.1)\">\r\n       <use xlink:href=\"#DejaVuSans-53\"/>\r\n       <use x=\"63.623047\" xlink:href=\"#DejaVuSans-46\"/>\r\n       <use x=\"95.410156\" xlink:href=\"#DejaVuSans-48\"/>\r\n      </g>\r\n     </g>\r\n    </g>\r\n    <g id=\"xtick_4\">\r\n     <g id=\"line2d_7\">\r\n      <path clip-path=\"url(#p0d43ee69db)\" d=\"M 174.129375 228.439219 \r\nL 174.129375 10.999219 \r\n\" style=\"fill:none;stroke:#b2b2b2;stroke-dasharray:1.85,0.8;stroke-dashoffset:0;stroke-width:0.5;\"/>\r\n     </g>\r\n     <g id=\"line2d_8\">\r\n      <g>\r\n       <use style=\"stroke:#000000;stroke-width:0.8;\" x=\"174.129375\" xlink:href=\"#m131bcb3757\" y=\"228.439219\"/>\r\n      </g>\r\n     </g>\r\n     <g id=\"text_4\">\r\n      <!-- 7.5 -->\r\n      <g transform=\"translate(166.177813 239.537656)scale(0.1 -0.1)\">\r\n       <defs>\r\n        <path d=\"M 8.203125 72.90625 \r\nL 55.078125 72.90625 \r\nL 55.078125 68.703125 \r\nL 28.609375 0 \r\nL 18.3125 0 \r\nL 43.21875 64.59375 \r\nL 8.203125 64.59375 \r\nz\r\n\" id=\"DejaVuSans-55\"/>\r\n       </defs>\r\n       <use xlink:href=\"#DejaVuSans-55\"/>\r\n       <use x=\"63.623047\" xlink:href=\"#DejaVuSans-46\"/>\r\n       <use x=\"95.410156\" xlink:href=\"#DejaVuSans-53\"/>\r\n      </g>\r\n     </g>\r\n    </g>\r\n    <g id=\"xtick_5\">\r\n     <g id=\"line2d_9\">\r\n      <path clip-path=\"url(#p0d43ee69db)\" d=\"M 215.979375 228.439219 \r\nL 215.979375 10.999219 \r\n\" style=\"fill:none;stroke:#b2b2b2;stroke-dasharray:1.85,0.8;stroke-dashoffset:0;stroke-width:0.5;\"/>\r\n     </g>\r\n     <g id=\"line2d_10\">\r\n      <g>\r\n       <use style=\"stroke:#000000;stroke-width:0.8;\" x=\"215.979375\" xlink:href=\"#m131bcb3757\" y=\"228.439219\"/>\r\n      </g>\r\n     </g>\r\n     <g id=\"text_5\">\r\n      <!-- 10.0 -->\r\n      <g transform=\"translate(204.846563 239.537656)scale(0.1 -0.1)\">\r\n       <defs>\r\n        <path d=\"M 12.40625 8.296875 \r\nL 28.515625 8.296875 \r\nL 28.515625 63.921875 \r\nL 10.984375 60.40625 \r\nL 10.984375 69.390625 \r\nL 28.421875 72.90625 \r\nL 38.28125 72.90625 \r\nL 38.28125 8.296875 \r\nL 54.390625 8.296875 \r\nL 54.390625 0 \r\nL 12.40625 0 \r\nz\r\n\" id=\"DejaVuSans-49\"/>\r\n       </defs>\r\n       <use xlink:href=\"#DejaVuSans-49\"/>\r\n       <use x=\"63.623047\" xlink:href=\"#DejaVuSans-48\"/>\r\n       <use x=\"127.246094\" xlink:href=\"#DejaVuSans-46\"/>\r\n       <use x=\"159.033203\" xlink:href=\"#DejaVuSans-48\"/>\r\n      </g>\r\n     </g>\r\n    </g>\r\n    <g id=\"xtick_6\">\r\n     <g id=\"line2d_11\">\r\n      <path clip-path=\"url(#p0d43ee69db)\" d=\"M 257.829375 228.439219 \r\nL 257.829375 10.999219 \r\n\" style=\"fill:none;stroke:#b2b2b2;stroke-dasharray:1.85,0.8;stroke-dashoffset:0;stroke-width:0.5;\"/>\r\n     </g>\r\n     <g id=\"line2d_12\">\r\n      <g>\r\n       <use style=\"stroke:#000000;stroke-width:0.8;\" x=\"257.829375\" xlink:href=\"#m131bcb3757\" y=\"228.439219\"/>\r\n      </g>\r\n     </g>\r\n     <g id=\"text_6\">\r\n      <!-- 12.5 -->\r\n      <g transform=\"translate(246.696563 239.537656)scale(0.1 -0.1)\">\r\n       <use xlink:href=\"#DejaVuSans-49\"/>\r\n       <use x=\"63.623047\" xlink:href=\"#DejaVuSans-50\"/>\r\n       <use x=\"127.246094\" xlink:href=\"#DejaVuSans-46\"/>\r\n       <use x=\"159.033203\" xlink:href=\"#DejaVuSans-53\"/>\r\n      </g>\r\n     </g>\r\n    </g>\r\n    <g id=\"xtick_7\">\r\n     <g id=\"line2d_13\">\r\n      <path clip-path=\"url(#p0d43ee69db)\" d=\"M 299.679375 228.439219 \r\nL 299.679375 10.999219 \r\n\" style=\"fill:none;stroke:#b2b2b2;stroke-dasharray:1.85,0.8;stroke-dashoffset:0;stroke-width:0.5;\"/>\r\n     </g>\r\n     <g id=\"line2d_14\">\r\n      <g>\r\n       <use style=\"stroke:#000000;stroke-width:0.8;\" x=\"299.679375\" xlink:href=\"#m131bcb3757\" y=\"228.439219\"/>\r\n      </g>\r\n     </g>\r\n     <g id=\"text_7\">\r\n      <!-- 15.0 -->\r\n      <g transform=\"translate(288.546563 239.537656)scale(0.1 -0.1)\">\r\n       <use xlink:href=\"#DejaVuSans-49\"/>\r\n       <use x=\"63.623047\" xlink:href=\"#DejaVuSans-53\"/>\r\n       <use x=\"127.246094\" xlink:href=\"#DejaVuSans-46\"/>\r\n       <use x=\"159.033203\" xlink:href=\"#DejaVuSans-48\"/>\r\n      </g>\r\n     </g>\r\n    </g>\r\n    <g id=\"xtick_8\">\r\n     <g id=\"line2d_15\">\r\n      <path clip-path=\"url(#p0d43ee69db)\" d=\"M 341.529375 228.439219 \r\nL 341.529375 10.999219 \r\n\" style=\"fill:none;stroke:#b2b2b2;stroke-dasharray:1.85,0.8;stroke-dashoffset:0;stroke-width:0.5;\"/>\r\n     </g>\r\n     <g id=\"line2d_16\">\r\n      <g>\r\n       <use style=\"stroke:#000000;stroke-width:0.8;\" x=\"341.529375\" xlink:href=\"#m131bcb3757\" y=\"228.439219\"/>\r\n      </g>\r\n     </g>\r\n     <g id=\"text_8\">\r\n      <!-- 17.5 -->\r\n      <g transform=\"translate(330.396563 239.537656)scale(0.1 -0.1)\">\r\n       <use xlink:href=\"#DejaVuSans-49\"/>\r\n       <use x=\"63.623047\" xlink:href=\"#DejaVuSans-55\"/>\r\n       <use x=\"127.246094\" xlink:href=\"#DejaVuSans-46\"/>\r\n       <use x=\"159.033203\" xlink:href=\"#DejaVuSans-53\"/>\r\n      </g>\r\n     </g>\r\n    </g>\r\n    <g id=\"xtick_9\">\r\n     <g id=\"line2d_17\">\r\n      <path clip-path=\"url(#p0d43ee69db)\" d=\"M 383.379375 228.439219 \r\nL 383.379375 10.999219 \r\n\" style=\"fill:none;stroke:#b2b2b2;stroke-dasharray:1.85,0.8;stroke-dashoffset:0;stroke-width:0.5;\"/>\r\n     </g>\r\n     <g id=\"line2d_18\">\r\n      <g>\r\n       <use style=\"stroke:#000000;stroke-width:0.8;\" x=\"383.379375\" xlink:href=\"#m131bcb3757\" y=\"228.439219\"/>\r\n      </g>\r\n     </g>\r\n     <g id=\"text_9\">\r\n      <!-- 20.0 -->\r\n      <g transform=\"translate(372.246563 239.537656)scale(0.1 -0.1)\">\r\n       <use xlink:href=\"#DejaVuSans-50\"/>\r\n       <use x=\"63.623047\" xlink:href=\"#DejaVuSans-48\"/>\r\n       <use x=\"127.246094\" xlink:href=\"#DejaVuSans-46\"/>\r\n       <use x=\"159.033203\" xlink:href=\"#DejaVuSans-48\"/>\r\n      </g>\r\n     </g>\r\n    </g>\r\n    <g id=\"text_10\">\r\n     <!-- Address count -->\r\n     <g transform=\"translate(173.252813 254.735469)scale(0.12 -0.12)\">\r\n      <defs>\r\n       <path d=\"M 34.1875 63.1875 \r\nL 20.796875 26.90625 \r\nL 47.609375 26.90625 \r\nz\r\nM 28.609375 72.90625 \r\nL 39.796875 72.90625 \r\nL 67.578125 0 \r\nL 57.328125 0 \r\nL 50.6875 18.703125 \r\nL 17.828125 18.703125 \r\nL 11.1875 0 \r\nL 0.78125 0 \r\nz\r\n\" id=\"DejaVuSans-65\"/>\r\n       <path d=\"M 45.40625 46.390625 \r\nL 45.40625 75.984375 \r\nL 54.390625 75.984375 \r\nL 54.390625 0 \r\nL 45.40625 0 \r\nL 45.40625 8.203125 \r\nQ 42.578125 3.328125 38.25 0.953125 \r\nQ 33.9375 -1.421875 27.875 -1.421875 \r\nQ 17.96875 -1.421875 11.734375 6.484375 \r\nQ 5.515625 14.40625 5.515625 27.296875 \r\nQ 5.515625 40.1875 11.734375 48.09375 \r\nQ 17.96875 56 27.875 56 \r\nQ 33.9375 56 38.25 53.625 \r\nQ 42.578125 51.265625 45.40625 46.390625 \r\nz\r\nM 14.796875 27.296875 \r\nQ 14.796875 17.390625 18.875 11.75 \r\nQ 22.953125 6.109375 30.078125 6.109375 \r\nQ 37.203125 6.109375 41.296875 11.75 \r\nQ 45.40625 17.390625 45.40625 27.296875 \r\nQ 45.40625 37.203125 41.296875 42.84375 \r\nQ 37.203125 48.484375 30.078125 48.484375 \r\nQ 22.953125 48.484375 18.875 42.84375 \r\nQ 14.796875 37.203125 14.796875 27.296875 \r\nz\r\n\" id=\"DejaVuSans-100\"/>\r\n       <path d=\"M 41.109375 46.296875 \r\nQ 39.59375 47.171875 37.8125 47.578125 \r\nQ 36.03125 48 33.890625 48 \r\nQ 26.265625 48 22.1875 43.046875 \r\nQ 18.109375 38.09375 18.109375 28.8125 \r\nL 18.109375 0 \r\nL 9.078125 0 \r\nL 9.078125 54.6875 \r\nL 18.109375 54.6875 \r\nL 18.109375 46.1875 \r\nQ 20.953125 51.171875 25.484375 53.578125 \r\nQ 30.03125 56 36.53125 56 \r\nQ 37.453125 56 38.578125 55.875 \r\nQ 39.703125 55.765625 41.0625 55.515625 \r\nz\r\n\" id=\"DejaVuSans-114\"/>\r\n       <path d=\"M 56.203125 29.59375 \r\nL 56.203125 25.203125 \r\nL 14.890625 25.203125 \r\nQ 15.484375 15.921875 20.484375 11.0625 \r\nQ 25.484375 6.203125 34.421875 6.203125 \r\nQ 39.59375 6.203125 44.453125 7.46875 \r\nQ 49.3125 8.734375 54.109375 11.28125 \r\nL 54.109375 2.78125 \r\nQ 49.265625 0.734375 44.1875 -0.34375 \r\nQ 39.109375 -1.421875 33.890625 -1.421875 \r\nQ 20.796875 -1.421875 13.15625 6.1875 \r\nQ 5.515625 13.8125 5.515625 26.8125 \r\nQ 5.515625 40.234375 12.765625 48.109375 \r\nQ 20.015625 56 32.328125 56 \r\nQ 43.359375 56 49.78125 48.890625 \r\nQ 56.203125 41.796875 56.203125 29.59375 \r\nz\r\nM 47.21875 32.234375 \r\nQ 47.125 39.59375 43.09375 43.984375 \r\nQ 39.0625 48.390625 32.421875 48.390625 \r\nQ 24.90625 48.390625 20.390625 44.140625 \r\nQ 15.875 39.890625 15.1875 32.171875 \r\nz\r\n\" id=\"DejaVuSans-101\"/>\r\n       <path d=\"M 44.28125 53.078125 \r\nL 44.28125 44.578125 \r\nQ 40.484375 46.53125 36.375 47.5 \r\nQ 32.28125 48.484375 27.875 48.484375 \r\nQ 21.1875 48.484375 17.84375 46.4375 \r\nQ 14.5 44.390625 14.5 40.28125 \r\nQ 14.5 37.15625 16.890625 35.375 \r\nQ 19.28125 33.59375 26.515625 31.984375 \r\nL 29.59375 31.296875 \r\nQ 39.15625 29.25 43.1875 25.515625 \r\nQ 47.21875 21.78125 47.21875 15.09375 \r\nQ 47.21875 7.46875 41.1875 3.015625 \r\nQ 35.15625 -1.421875 24.609375 -1.421875 \r\nQ 20.21875 -1.421875 15.453125 -0.5625 \r\nQ 10.6875 0.296875 5.421875 2 \r\nL 5.421875 11.28125 \r\nQ 10.40625 8.6875 15.234375 7.390625 \r\nQ 20.0625 6.109375 24.8125 6.109375 \r\nQ 31.15625 6.109375 34.5625 8.28125 \r\nQ 37.984375 10.453125 37.984375 14.40625 \r\nQ 37.984375 18.0625 35.515625 20.015625 \r\nQ 33.0625 21.96875 24.703125 23.78125 \r\nL 21.578125 24.515625 \r\nQ 13.234375 26.265625 9.515625 29.90625 \r\nQ 5.8125 33.546875 5.8125 39.890625 \r\nQ 5.8125 47.609375 11.28125 51.796875 \r\nQ 16.75 56 26.8125 56 \r\nQ 31.78125 56 36.171875 55.265625 \r\nQ 40.578125 54.546875 44.28125 53.078125 \r\nz\r\n\" id=\"DejaVuSans-115\"/>\r\n       <path id=\"DejaVuSans-32\"/>\r\n       <path d=\"M 48.78125 52.59375 \r\nL 48.78125 44.1875 \r\nQ 44.96875 46.296875 41.140625 47.34375 \r\nQ 37.3125 48.390625 33.40625 48.390625 \r\nQ 24.65625 48.390625 19.8125 42.84375 \r\nQ 14.984375 37.3125 14.984375 27.296875 \r\nQ 14.984375 17.28125 19.8125 11.734375 \r\nQ 24.65625 6.203125 33.40625 6.203125 \r\nQ 37.3125 6.203125 41.140625 7.25 \r\nQ 44.96875 8.296875 48.78125 10.40625 \r\nL 48.78125 2.09375 \r\nQ 45.015625 0.34375 40.984375 -0.53125 \r\nQ 36.96875 -1.421875 32.421875 -1.421875 \r\nQ 20.0625 -1.421875 12.78125 6.34375 \r\nQ 5.515625 14.109375 5.515625 27.296875 \r\nQ 5.515625 40.671875 12.859375 48.328125 \r\nQ 20.21875 56 33.015625 56 \r\nQ 37.15625 56 41.109375 55.140625 \r\nQ 45.0625 54.296875 48.78125 52.59375 \r\nz\r\n\" id=\"DejaVuSans-99\"/>\r\n       <path d=\"M 30.609375 48.390625 \r\nQ 23.390625 48.390625 19.1875 42.75 \r\nQ 14.984375 37.109375 14.984375 27.296875 \r\nQ 14.984375 17.484375 19.15625 11.84375 \r\nQ 23.34375 6.203125 30.609375 6.203125 \r\nQ 37.796875 6.203125 41.984375 11.859375 \r\nQ 46.1875 17.53125 46.1875 27.296875 \r\nQ 46.1875 37.015625 41.984375 42.703125 \r\nQ 37.796875 48.390625 30.609375 48.390625 \r\nz\r\nM 30.609375 56 \r\nQ 42.328125 56 49.015625 48.375 \r\nQ 55.71875 40.765625 55.71875 27.296875 \r\nQ 55.71875 13.875 49.015625 6.21875 \r\nQ 42.328125 -1.421875 30.609375 -1.421875 \r\nQ 18.84375 -1.421875 12.171875 6.21875 \r\nQ 5.515625 13.875 5.515625 27.296875 \r\nQ 5.515625 40.765625 12.171875 48.375 \r\nQ 18.84375 56 30.609375 56 \r\nz\r\n\" id=\"DejaVuSans-111\"/>\r\n       <path d=\"M 8.5 21.578125 \r\nL 8.5 54.6875 \r\nL 17.484375 54.6875 \r\nL 17.484375 21.921875 \r\nQ 17.484375 14.15625 20.5 10.265625 \r\nQ 23.53125 6.390625 29.59375 6.390625 \r\nQ 36.859375 6.390625 41.078125 11.03125 \r\nQ 45.3125 15.671875 45.3125 23.6875 \r\nL 45.3125 54.6875 \r\nL 54.296875 54.6875 \r\nL 54.296875 0 \r\nL 45.3125 0 \r\nL 45.3125 8.40625 \r\nQ 42.046875 3.421875 37.71875 1 \r\nQ 33.40625 -1.421875 27.6875 -1.421875 \r\nQ 18.265625 -1.421875 13.375 4.4375 \r\nQ 8.5 10.296875 8.5 21.578125 \r\nz\r\nM 31.109375 56 \r\nz\r\n\" id=\"DejaVuSans-117\"/>\r\n       <path d=\"M 54.890625 33.015625 \r\nL 54.890625 0 \r\nL 45.90625 0 \r\nL 45.90625 32.71875 \r\nQ 45.90625 40.484375 42.875 44.328125 \r\nQ 39.84375 48.1875 33.796875 48.1875 \r\nQ 26.515625 48.1875 22.3125 43.546875 \r\nQ 18.109375 38.921875 18.109375 30.90625 \r\nL 18.109375 0 \r\nL 9.078125 0 \r\nL 9.078125 54.6875 \r\nL 18.109375 54.6875 \r\nL 18.109375 46.1875 \r\nQ 21.34375 51.125 25.703125 53.5625 \r\nQ 30.078125 56 35.796875 56 \r\nQ 45.21875 56 50.046875 50.171875 \r\nQ 54.890625 44.34375 54.890625 33.015625 \r\nz\r\n\" id=\"DejaVuSans-110\"/>\r\n       <path d=\"M 18.3125 70.21875 \r\nL 18.3125 54.6875 \r\nL 36.8125 54.6875 \r\nL 36.8125 47.703125 \r\nL 18.3125 47.703125 \r\nL 18.3125 18.015625 \r\nQ 18.3125 11.328125 20.140625 9.421875 \r\nQ 21.96875 7.515625 27.59375 7.515625 \r\nL 36.8125 7.515625 \r\nL 36.8125 0 \r\nL 27.59375 0 \r\nQ 17.1875 0 13.234375 3.875 \r\nQ 9.28125 7.765625 9.28125 18.015625 \r\nL 9.28125 47.703125 \r\nL 2.6875 47.703125 \r\nL 2.6875 54.6875 \r\nL 9.28125 54.6875 \r\nL 9.28125 70.21875 \r\nz\r\n\" id=\"DejaVuSans-116\"/>\r\n      </defs>\r\n      <use xlink:href=\"#DejaVuSans-65\"/>\r\n      <use x=\"66.658203\" xlink:href=\"#DejaVuSans-100\"/>\r\n      <use x=\"130.134766\" xlink:href=\"#DejaVuSans-100\"/>\r\n      <use x=\"193.611328\" xlink:href=\"#DejaVuSans-114\"/>\r\n      <use x=\"232.474609\" xlink:href=\"#DejaVuSans-101\"/>\r\n      <use x=\"293.998047\" xlink:href=\"#DejaVuSans-115\"/>\r\n      <use x=\"346.097656\" xlink:href=\"#DejaVuSans-115\"/>\r\n      <use x=\"398.197266\" xlink:href=\"#DejaVuSans-32\"/>\r\n      <use x=\"429.984375\" xlink:href=\"#DejaVuSans-99\"/>\r\n      <use x=\"484.964844\" xlink:href=\"#DejaVuSans-111\"/>\r\n      <use x=\"546.146484\" xlink:href=\"#DejaVuSans-117\"/>\r\n      <use x=\"609.525391\" xlink:href=\"#DejaVuSans-110\"/>\r\n      <use x=\"672.904297\" xlink:href=\"#DejaVuSans-116\"/>\r\n     </g>\r\n    </g>\r\n   </g>\r\n   <g id=\"matplotlib.axis_2\">\r\n    <g id=\"ytick_1\">\r\n     <g id=\"line2d_19\">\r\n      <path clip-path=\"url(#p0d43ee69db)\" d=\"M 48.579375 228.439219 \r\nL 383.379375 228.439219 \r\n\" style=\"fill:none;stroke:#b2b2b2;stroke-dasharray:1.85,0.8;stroke-dashoffset:0;stroke-width:0.5;\"/>\r\n     </g>\r\n     <g id=\"line2d_20\">\r\n      <defs>\r\n       <path d=\"M 0 0 \r\nL 3.5 0 \r\n\" id=\"m1dcb641d82\" style=\"stroke:#000000;stroke-width:0.8;\"/>\r\n      </defs>\r\n      <g>\r\n       <use style=\"stroke:#000000;stroke-width:0.8;\" x=\"48.579375\" xlink:href=\"#m1dcb641d82\" y=\"228.439219\"/>\r\n      </g>\r\n     </g>\r\n     <g id=\"text_11\">\r\n      <!-- 0.0 -->\r\n      <g transform=\"translate(29.17625 232.238438)scale(0.1 -0.1)\">\r\n       <use xlink:href=\"#DejaVuSans-48\"/>\r\n       <use x=\"63.623047\" xlink:href=\"#DejaVuSans-46\"/>\r\n       <use x=\"95.410156\" xlink:href=\"#DejaVuSans-48\"/>\r\n      </g>\r\n     </g>\r\n    </g>\r\n    <g id=\"ytick_2\">\r\n     <g id=\"line2d_21\">\r\n      <path clip-path=\"url(#p0d43ee69db)\" d=\"M 48.579375 201.259219 \r\nL 383.379375 201.259219 \r\n\" style=\"fill:none;stroke:#b2b2b2;stroke-dasharray:1.85,0.8;stroke-dashoffset:0;stroke-width:0.5;\"/>\r\n     </g>\r\n     <g id=\"line2d_22\">\r\n      <g>\r\n       <use style=\"stroke:#000000;stroke-width:0.8;\" x=\"48.579375\" xlink:href=\"#m1dcb641d82\" y=\"201.259219\"/>\r\n      </g>\r\n     </g>\r\n     <g id=\"text_12\">\r\n      <!-- 2.5 -->\r\n      <g transform=\"translate(29.17625 205.058437)scale(0.1 -0.1)\">\r\n       <use xlink:href=\"#DejaVuSans-50\"/>\r\n       <use x=\"63.623047\" xlink:href=\"#DejaVuSans-46\"/>\r\n       <use x=\"95.410156\" xlink:href=\"#DejaVuSans-53\"/>\r\n      </g>\r\n     </g>\r\n    </g>\r\n    <g id=\"ytick_3\">\r\n     <g id=\"line2d_23\">\r\n      <path clip-path=\"url(#p0d43ee69db)\" d=\"M 48.579375 174.079219 \r\nL 383.379375 174.079219 \r\n\" style=\"fill:none;stroke:#b2b2b2;stroke-dasharray:1.85,0.8;stroke-dashoffset:0;stroke-width:0.5;\"/>\r\n     </g>\r\n     <g id=\"line2d_24\">\r\n      <g>\r\n       <use style=\"stroke:#000000;stroke-width:0.8;\" x=\"48.579375\" xlink:href=\"#m1dcb641d82\" y=\"174.079219\"/>\r\n      </g>\r\n     </g>\r\n     <g id=\"text_13\">\r\n      <!-- 5.0 -->\r\n      <g transform=\"translate(29.17625 177.878437)scale(0.1 -0.1)\">\r\n       <use xlink:href=\"#DejaVuSans-53\"/>\r\n       <use x=\"63.623047\" xlink:href=\"#DejaVuSans-46\"/>\r\n       <use x=\"95.410156\" xlink:href=\"#DejaVuSans-48\"/>\r\n      </g>\r\n     </g>\r\n    </g>\r\n    <g id=\"ytick_4\">\r\n     <g id=\"line2d_25\">\r\n      <path clip-path=\"url(#p0d43ee69db)\" d=\"M 48.579375 146.899219 \r\nL 383.379375 146.899219 \r\n\" style=\"fill:none;stroke:#b2b2b2;stroke-dasharray:1.85,0.8;stroke-dashoffset:0;stroke-width:0.5;\"/>\r\n     </g>\r\n     <g id=\"line2d_26\">\r\n      <g>\r\n       <use style=\"stroke:#000000;stroke-width:0.8;\" x=\"48.579375\" xlink:href=\"#m1dcb641d82\" y=\"146.899219\"/>\r\n      </g>\r\n     </g>\r\n     <g id=\"text_14\">\r\n      <!-- 7.5 -->\r\n      <g transform=\"translate(29.17625 150.698438)scale(0.1 -0.1)\">\r\n       <use xlink:href=\"#DejaVuSans-55\"/>\r\n       <use x=\"63.623047\" xlink:href=\"#DejaVuSans-46\"/>\r\n       <use x=\"95.410156\" xlink:href=\"#DejaVuSans-53\"/>\r\n      </g>\r\n     </g>\r\n    </g>\r\n    <g id=\"ytick_5\">\r\n     <g id=\"line2d_27\">\r\n      <path clip-path=\"url(#p0d43ee69db)\" d=\"M 48.579375 119.719219 \r\nL 383.379375 119.719219 \r\n\" style=\"fill:none;stroke:#b2b2b2;stroke-dasharray:1.85,0.8;stroke-dashoffset:0;stroke-width:0.5;\"/>\r\n     </g>\r\n     <g id=\"line2d_28\">\r\n      <g>\r\n       <use style=\"stroke:#000000;stroke-width:0.8;\" x=\"48.579375\" xlink:href=\"#m1dcb641d82\" y=\"119.719219\"/>\r\n      </g>\r\n     </g>\r\n     <g id=\"text_15\">\r\n      <!-- 10.0 -->\r\n      <g transform=\"translate(22.81375 123.518438)scale(0.1 -0.1)\">\r\n       <use xlink:href=\"#DejaVuSans-49\"/>\r\n       <use x=\"63.623047\" xlink:href=\"#DejaVuSans-48\"/>\r\n       <use x=\"127.246094\" xlink:href=\"#DejaVuSans-46\"/>\r\n       <use x=\"159.033203\" xlink:href=\"#DejaVuSans-48\"/>\r\n      </g>\r\n     </g>\r\n    </g>\r\n    <g id=\"ytick_6\">\r\n     <g id=\"line2d_29\">\r\n      <path clip-path=\"url(#p0d43ee69db)\" d=\"M 48.579375 92.539219 \r\nL 383.379375 92.539219 \r\n\" style=\"fill:none;stroke:#b2b2b2;stroke-dasharray:1.85,0.8;stroke-dashoffset:0;stroke-width:0.5;\"/>\r\n     </g>\r\n     <g id=\"line2d_30\">\r\n      <g>\r\n       <use style=\"stroke:#000000;stroke-width:0.8;\" x=\"48.579375\" xlink:href=\"#m1dcb641d82\" y=\"92.539219\"/>\r\n      </g>\r\n     </g>\r\n     <g id=\"text_16\">\r\n      <!-- 12.5 -->\r\n      <g transform=\"translate(22.81375 96.338437)scale(0.1 -0.1)\">\r\n       <use xlink:href=\"#DejaVuSans-49\"/>\r\n       <use x=\"63.623047\" xlink:href=\"#DejaVuSans-50\"/>\r\n       <use x=\"127.246094\" xlink:href=\"#DejaVuSans-46\"/>\r\n       <use x=\"159.033203\" xlink:href=\"#DejaVuSans-53\"/>\r\n      </g>\r\n     </g>\r\n    </g>\r\n    <g id=\"ytick_7\">\r\n     <g id=\"line2d_31\">\r\n      <path clip-path=\"url(#p0d43ee69db)\" d=\"M 48.579375 65.359219 \r\nL 383.379375 65.359219 \r\n\" style=\"fill:none;stroke:#b2b2b2;stroke-dasharray:1.85,0.8;stroke-dashoffset:0;stroke-width:0.5;\"/>\r\n     </g>\r\n     <g id=\"line2d_32\">\r\n      <g>\r\n       <use style=\"stroke:#000000;stroke-width:0.8;\" x=\"48.579375\" xlink:href=\"#m1dcb641d82\" y=\"65.359219\"/>\r\n      </g>\r\n     </g>\r\n     <g id=\"text_17\">\r\n      <!-- 15.0 -->\r\n      <g transform=\"translate(22.81375 69.158438)scale(0.1 -0.1)\">\r\n       <use xlink:href=\"#DejaVuSans-49\"/>\r\n       <use x=\"63.623047\" xlink:href=\"#DejaVuSans-53\"/>\r\n       <use x=\"127.246094\" xlink:href=\"#DejaVuSans-46\"/>\r\n       <use x=\"159.033203\" xlink:href=\"#DejaVuSans-48\"/>\r\n      </g>\r\n     </g>\r\n    </g>\r\n    <g id=\"ytick_8\">\r\n     <g id=\"line2d_33\">\r\n      <path clip-path=\"url(#p0d43ee69db)\" d=\"M 48.579375 38.179219 \r\nL 383.379375 38.179219 \r\n\" style=\"fill:none;stroke:#b2b2b2;stroke-dasharray:1.85,0.8;stroke-dashoffset:0;stroke-width:0.5;\"/>\r\n     </g>\r\n     <g id=\"line2d_34\">\r\n      <g>\r\n       <use style=\"stroke:#000000;stroke-width:0.8;\" x=\"48.579375\" xlink:href=\"#m1dcb641d82\" y=\"38.179219\"/>\r\n      </g>\r\n     </g>\r\n     <g id=\"text_18\">\r\n      <!-- 17.5 -->\r\n      <g transform=\"translate(22.81375 41.978438)scale(0.1 -0.1)\">\r\n       <use xlink:href=\"#DejaVuSans-49\"/>\r\n       <use x=\"63.623047\" xlink:href=\"#DejaVuSans-55\"/>\r\n       <use x=\"127.246094\" xlink:href=\"#DejaVuSans-46\"/>\r\n       <use x=\"159.033203\" xlink:href=\"#DejaVuSans-53\"/>\r\n      </g>\r\n     </g>\r\n    </g>\r\n    <g id=\"ytick_9\">\r\n     <g id=\"line2d_35\">\r\n      <path clip-path=\"url(#p0d43ee69db)\" d=\"M 48.579375 10.999219 \r\nL 383.379375 10.999219 \r\n\" style=\"fill:none;stroke:#b2b2b2;stroke-dasharray:1.85,0.8;stroke-dashoffset:0;stroke-width:0.5;\"/>\r\n     </g>\r\n     <g id=\"line2d_36\">\r\n      <g>\r\n       <use style=\"stroke:#000000;stroke-width:0.8;\" x=\"48.579375\" xlink:href=\"#m1dcb641d82\" y=\"10.999219\"/>\r\n      </g>\r\n     </g>\r\n     <g id=\"text_19\">\r\n      <!-- 20.0 -->\r\n      <g transform=\"translate(22.81375 14.798438)scale(0.1 -0.1)\">\r\n       <use xlink:href=\"#DejaVuSans-50\"/>\r\n       <use x=\"63.623047\" xlink:href=\"#DejaVuSans-48\"/>\r\n       <use x=\"127.246094\" xlink:href=\"#DejaVuSans-46\"/>\r\n       <use x=\"159.033203\" xlink:href=\"#DejaVuSans-48\"/>\r\n      </g>\r\n     </g>\r\n    </g>\r\n    <g id=\"text_20\">\r\n     <!-- Unit count - usecode -->\r\n     <g transform=\"translate(16.318125 181.836094)rotate(-90)scale(0.12 -0.12)\">\r\n      <defs>\r\n       <path d=\"M 8.6875 72.90625 \r\nL 18.609375 72.90625 \r\nL 18.609375 28.609375 \r\nQ 18.609375 16.890625 22.84375 11.734375 \r\nQ 27.09375 6.59375 36.625 6.59375 \r\nQ 46.09375 6.59375 50.34375 11.734375 \r\nQ 54.59375 16.890625 54.59375 28.609375 \r\nL 54.59375 72.90625 \r\nL 64.5 72.90625 \r\nL 64.5 27.390625 \r\nQ 64.5 13.140625 57.4375 5.859375 \r\nQ 50.390625 -1.421875 36.625 -1.421875 \r\nQ 22.796875 -1.421875 15.734375 5.859375 \r\nQ 8.6875 13.140625 8.6875 27.390625 \r\nz\r\n\" id=\"DejaVuSans-85\"/>\r\n       <path d=\"M 9.421875 54.6875 \r\nL 18.40625 54.6875 \r\nL 18.40625 0 \r\nL 9.421875 0 \r\nz\r\nM 9.421875 75.984375 \r\nL 18.40625 75.984375 \r\nL 18.40625 64.59375 \r\nL 9.421875 64.59375 \r\nz\r\n\" id=\"DejaVuSans-105\"/>\r\n       <path d=\"M 4.890625 31.390625 \r\nL 31.203125 31.390625 \r\nL 31.203125 23.390625 \r\nL 4.890625 23.390625 \r\nz\r\n\" id=\"DejaVuSans-45\"/>\r\n      </defs>\r\n      <use xlink:href=\"#DejaVuSans-85\"/>\r\n      <use x=\"73.193359\" xlink:href=\"#DejaVuSans-110\"/>\r\n      <use x=\"136.572266\" xlink:href=\"#DejaVuSans-105\"/>\r\n      <use x=\"164.355469\" xlink:href=\"#DejaVuSans-116\"/>\r\n      <use x=\"203.564453\" xlink:href=\"#DejaVuSans-32\"/>\r\n      <use x=\"235.351562\" xlink:href=\"#DejaVuSans-99\"/>\r\n      <use x=\"290.332031\" xlink:href=\"#DejaVuSans-111\"/>\r\n      <use x=\"351.513672\" xlink:href=\"#DejaVuSans-117\"/>\r\n      <use x=\"414.892578\" xlink:href=\"#DejaVuSans-110\"/>\r\n      <use x=\"478.271484\" xlink:href=\"#DejaVuSans-116\"/>\r\n      <use x=\"517.480469\" xlink:href=\"#DejaVuSans-32\"/>\r\n      <use x=\"549.267578\" xlink:href=\"#DejaVuSans-45\"/>\r\n      <use x=\"585.351562\" xlink:href=\"#DejaVuSans-32\"/>\r\n      <use x=\"617.138672\" xlink:href=\"#DejaVuSans-117\"/>\r\n      <use x=\"680.517578\" xlink:href=\"#DejaVuSans-115\"/>\r\n      <use x=\"732.617188\" xlink:href=\"#DejaVuSans-101\"/>\r\n      <use x=\"794.140625\" xlink:href=\"#DejaVuSans-99\"/>\r\n      <use x=\"849.121094\" xlink:href=\"#DejaVuSans-111\"/>\r\n      <use x=\"910.302734\" xlink:href=\"#DejaVuSans-100\"/>\r\n      <use x=\"973.779297\" xlink:href=\"#DejaVuSans-101\"/>\r\n     </g>\r\n    </g>\r\n   </g>\r\n   <g id=\"patch_3\">\r\n    <path d=\"M 48.579375 228.439219 \r\nL 48.579375 10.999219 \r\n\" style=\"fill:none;stroke:#bcbcbc;stroke-linecap:square;stroke-linejoin:miter;stroke-width:0.8;\"/>\r\n   </g>\r\n   <g id=\"patch_4\">\r\n    <path d=\"M 383.379375 228.439219 \r\nL 383.379375 10.999219 \r\n\" style=\"fill:none;stroke:#bcbcbc;stroke-linecap:square;stroke-linejoin:miter;stroke-width:0.8;\"/>\r\n   </g>\r\n   <g id=\"patch_5\">\r\n    <path d=\"M 48.579375 228.439219 \r\nL 383.379375 228.439219 \r\n\" style=\"fill:none;stroke:#bcbcbc;stroke-linecap:square;stroke-linejoin:miter;stroke-width:0.8;\"/>\r\n   </g>\r\n   <g id=\"patch_6\">\r\n    <path d=\"M 48.579375 10.999219 \r\nL 383.379375 10.999219 \r\n\" style=\"fill:none;stroke:#bcbcbc;stroke-linecap:square;stroke-linejoin:miter;stroke-width:0.8;\"/>\r\n   </g>\r\n  </g>\r\n </g>\r\n <defs>\r\n  <clipPath id=\"p0d43ee69db\">\r\n   <rect height=\"217.44\" width=\"334.8\" x=\"48.579375\" y=\"10.999219\"/>\r\n  </clipPath>\r\n </defs>\r\n</svg>\r\n",
      "image/png": "[encoded data removed]"
     },
     "metadata": {
      "needs_background": "light"
     }
    }
   ],
   "source": [
    "generate_distribution_map(anomaly_data['ADD_COUNT'], anomaly_data['count_by_usecode'], [\"Address count\", \"Unit count - usecode\"], filename=\"./pics/Output/add-usecode-anomaly.png\", xlim=[0, 20], ylim=[0,20])"
   ]
  },
  {
   "cell_type": "code",
   "execution_count": 48,
   "metadata": {},
   "outputs": [
    {
     "output_type": "execute_result",
     "data": {
      "text/plain": [
       "                  index_left  UNIT_COUNT           STYLE  \\\n",
       "LOC_ID                                                     \n",
       "F_775349_2913131         NaN           0            None   \n",
       "F_775713_2913360         NaN           0            None   \n",
       "F_776140_2913906         NaN           0  Pre-Eng Warehs   \n",
       "F_776785_2904919       283.0           0   Skating Arena   \n",
       "F_777364_2914835         NaN           0            None   \n",
       "\n",
       "                                                           geometry  ADD_COUNT  \n",
       "LOC_ID                                                                          \n",
       "F_775349_2913131  POLYGON ((-71.05863 42.23951, -71.05916 42.239...          1  \n",
       "F_775713_2913360  POLYGON ((-71.05697 42.24151, -71.05697 42.241...          1  \n",
       "F_776140_2913906  POLYGON ((-71.05696 42.24151, -71.05696 42.241...          1  \n",
       "F_776785_2904919  MULTIPOLYGON (((-71.04710 42.22834, -71.04695 ...          2  \n",
       "F_777364_2914835  POLYGON ((-71.04975 42.24545, -71.05294 42.243...          1  "
      ],
      "text/html": "<div>\n<style scoped>\n    .dataframe tbody tr th:only-of-type {\n        vertical-align: middle;\n    }\n\n    .dataframe tbody tr th {\n        vertical-align: top;\n    }\n\n    .dataframe thead th {\n        text-align: right;\n    }\n</style>\n<table border=\"1\" class=\"dataframe\">\n  <thead>\n    <tr style=\"text-align: right;\">\n      <th></th>\n      <th>index_left</th>\n      <th>UNIT_COUNT</th>\n      <th>STYLE</th>\n      <th>geometry</th>\n      <th>ADD_COUNT</th>\n    </tr>\n    <tr>\n      <th>LOC_ID</th>\n      <th></th>\n      <th></th>\n      <th></th>\n      <th></th>\n      <th></th>\n    </tr>\n  </thead>\n  <tbody>\n    <tr>\n      <th>F_775349_2913131</th>\n      <td>NaN</td>\n      <td>0</td>\n      <td>None</td>\n      <td>POLYGON ((-71.05863 42.23951, -71.05916 42.239...</td>\n      <td>1</td>\n    </tr>\n    <tr>\n      <th>F_775713_2913360</th>\n      <td>NaN</td>\n      <td>0</td>\n      <td>None</td>\n      <td>POLYGON ((-71.05697 42.24151, -71.05697 42.241...</td>\n      <td>1</td>\n    </tr>\n    <tr>\n      <th>F_776140_2913906</th>\n      <td>NaN</td>\n      <td>0</td>\n      <td>Pre-Eng Warehs</td>\n      <td>POLYGON ((-71.05696 42.24151, -71.05696 42.241...</td>\n      <td>1</td>\n    </tr>\n    <tr>\n      <th>F_776785_2904919</th>\n      <td>283.0</td>\n      <td>0</td>\n      <td>Skating Arena</td>\n      <td>MULTIPOLYGON (((-71.04710 42.22834, -71.04695 ...</td>\n      <td>2</td>\n    </tr>\n    <tr>\n      <th>F_777364_2914835</th>\n      <td>NaN</td>\n      <td>0</td>\n      <td>None</td>\n      <td>POLYGON ((-71.04975 42.24545, -71.05294 42.243...</td>\n      <td>1</td>\n    </tr>\n  </tbody>\n</table>\n</div>"
     },
     "metadata": {},
     "execution_count": 48
    }
   ],
   "source": [
    "sjoin_test.head()"
   ]
  },
  {
   "source": [
    "## Use code"
   ],
   "cell_type": "markdown",
   "metadata": {}
  },
  {
   "cell_type": "code",
   "execution_count": 13,
   "metadata": {},
   "outputs": [],
   "source": [
    "filtered_use_code_0 = state_use_code[flter_list(state_use_code['USE_CODE'], pattern=\"^0\")]\n",
    "filtered_use_code_1 = state_use_code[flter_list(state_use_code['USE_CODE'], pattern=\"^1\")]\n",
    "filtered_use_code_9 = state_use_code[flter_list(state_use_code['USE_CODE'], pattern=\"^9\")]"
   ]
  },
  {
   "source": [
    "### USE CODE - Starts with 0\n",
    "Classes"
   ],
   "cell_type": "markdown",
   "metadata": {}
  },
  {
   "cell_type": "code",
   "execution_count": 14,
   "metadata": {},
   "outputs": [
    {
     "output_type": "stream",
     "name": "stdout",
     "text": [
      "+----------+---------------------------------------------------+-------+-------+\n| USE_CODE | USE_DESC                                          | COUNT | INDEX |\n+----------+---------------------------------------------------+-------+-------+\n| 000      | Use code not known or nor provided.               | 1     | 1     |\n+----------+---------------------------------------------------+-------+-------+\n| 007      | Mixed Use                                         | 1     | 2     |\n+----------+---------------------------------------------------+-------+-------+\n| 011      | Mixed Use-day care & residential                  | 1     | 3     |\n+----------+---------------------------------------------------+-------+-------+\n| 012      | Other                                             | 3     | 4     |\n+----------+---------------------------------------------------+-------+-------+\n| 013      | Mixed Use (Primarily Residential, some            | 1     | 5     |\n|          | Commercial)                                       |       |       |\n+----------+---------------------------------------------------+-------+-------+\n| 014      | Mixed Use (Primarily Residential, some            | 1     | 6     |\n|          | Industrial)                                       |       |       |\n+----------+---------------------------------------------------+-------+-------+\n| 016      | Mixed Use (Primarily Residential, some Forest)    | 1     | 7     |\n+----------+---------------------------------------------------+-------+-------+\n| 017      | Mixed Use (Primarily Residential, some            | 1     | 8     |\n|          | Agriculture)                                      |       |       |\n+----------+---------------------------------------------------+-------+-------+\n| 018      | Mixed Use (Primarily Residential, some            | 1     | 9     |\n|          | Recreation)                                       |       |       |\n+----------+---------------------------------------------------+-------+-------+\n| 019      | Mixed Use (Primarily Residential, some Tax-       | 1     | 10    |\n|          | Exempt)                                           |       |       |\n+----------+---------------------------------------------------+-------+-------+\n| 021      | Mixed Use (Primarily Open Space, some             | 1     | 11    |\n|          | Residential)                                      |       |       |\n+----------+---------------------------------------------------+-------+-------+\n| 023      | Mixed use, chaptered and commercial               | 2     | 12    |\n+----------+---------------------------------------------------+-------+-------+\n| 030      | Mixed Use (Primarily Commercial, some Other)      | 1     | 13    |\n+----------+---------------------------------------------------+-------+-------+\n| 031      | Mixed Use (Primarily Commercial, some             | 1     | 14    |\n|          | Residential)                                      |       |       |\n+----------+---------------------------------------------------+-------+-------+\n| 032      | Mixed use, commercial, chaptered                  | 1     | 15    |\n+----------+---------------------------------------------------+-------+-------+\n| 033      | Mixed Use (Primarily Commercial)                  | 1     | 16    |\n+----------+---------------------------------------------------+-------+-------+\n| 034      | Mixed Use (Primarily Commercial, some Industrial) | 1     | 17    |\n+----------+---------------------------------------------------+-------+-------+\n| 036      | Mixed Use (Primarily Commercial, some Forest)     | 1     | 18    |\n+----------+---------------------------------------------------+-------+-------+\n| 037      | Mixed Use (Primarily Commercial, some             | 1     | 19    |\n|          | Agriculture)                                      |       |       |\n+----------+---------------------------------------------------+-------+-------+\n| 038      | Mixed Use (Primarily Commercial, some Recreation) | 1     | 20    |\n+----------+---------------------------------------------------+-------+-------+\n| 039      | Other                                             | 21    | 21    |\n+----------+---------------------------------------------------+-------+-------+\n| 040      | Mixed Use (Primarily Industrial, some Other)      | 1     | 22    |\n+----------+---------------------------------------------------+-------+-------+\n| 041      | Mixed Use (Primarily Industrial, some             | 1     | 23    |\n|          | Residential)                                      |       |       |\n+----------+---------------------------------------------------+-------+-------+\n| 042      | Ind/Open SP                                       | 1     | 24    |\n+----------+---------------------------------------------------+-------+-------+\n| 043      | Mixed Use (Primarily Industrial, some Commercial) | 1     | 25    |\n+----------+---------------------------------------------------+-------+-------+\n| 046      | Mixed Use (Primarily Industrial, some Forest)     | 1     | 26    |\n+----------+---------------------------------------------------+-------+-------+\n| 047      | Mixed Use (Primarily Industrial, some             | 1     | 27    |\n|          | Agriculture)                                      |       |       |\n+----------+---------------------------------------------------+-------+-------+\n| 048      | Mixed Use (Primarily Industrial, some Recreation) | 1     | 28    |\n+----------+---------------------------------------------------+-------+-------+\n| 049      | Mixed use Industrial, Exempt                      | 10    | 29    |\n+----------+---------------------------------------------------+-------+-------+\n| 061      | Mixed Use (Primarily Forest, some Residential)    | 1     | 30    |\n+----------+---------------------------------------------------+-------+-------+\n| 063      | Mixed Use (Primarily Forest, some Commercial)     | 1     | 31    |\n+----------+---------------------------------------------------+-------+-------+\n| 064      | Mixed Use (Primarily Forest, some Industrial)     | 1     | 32    |\n+----------+---------------------------------------------------+-------+-------+\n| 067      | Mixed Use (Primarily Forest, some Agriculture)    | 1     | 33    |\n+----------+---------------------------------------------------+-------+-------+\n| 068      | Mixed Use (Primarily Forest, some Recreation)     | 1     | 34    |\n+----------+---------------------------------------------------+-------+-------+\n| 071      | Mixed Use (Primarily Agriculture, some            | 1     | 35    |\n|          | Residential)                                      |       |       |\n+----------+---------------------------------------------------+-------+-------+\n| 073      | Mixed Use (Primarily Agriculture, some            | 1     | 36    |\n|          | Commercial)                                       |       |       |\n+----------+---------------------------------------------------+-------+-------+\n| 074      | Mixed Use (Primarily Agriculture, some            | 1     | 37    |\n|          | Industrial)                                       |       |       |\n+----------+---------------------------------------------------+-------+-------+\n| 076      | Mixed Use (Primarily Agriculture, some Forest)    | 1     | 38    |\n+----------+---------------------------------------------------+-------+-------+\n| 077      | Mixed Use (Primarily Chapter 61A)                 | 1     | 39    |\n+----------+---------------------------------------------------+-------+-------+\n| 078      | Mixed Use (Primarily Agriculture, some            | 1     | 40    |\n|          | Recreation)                                       |       |       |\n+----------+---------------------------------------------------+-------+-------+\n| 081      | Mixed Use (Primarily Recreation, some             | 1     | 41    |\n|          | Residential)                                      |       |       |\n+----------+---------------------------------------------------+-------+-------+\n| 083      | Mixed Use (Primarily Recreation, some Commercial) | 1     | 42    |\n+----------+---------------------------------------------------+-------+-------+\n| 084      | Mixed Use (Primarily Recreation, some Industrial) | 1     | 43    |\n+----------+---------------------------------------------------+-------+-------+\n| 086      | Mixed Use (Primarily Recreation, some Forest)     | 1     | 44    |\n+----------+---------------------------------------------------+-------+-------+\n| 087      | Mixed Use (Primarily Recreation, some             | 1     | 45    |\n|          | Agriculture)                                      |       |       |\n+----------+---------------------------------------------------+-------+-------+\n| 089      | Mixed Use (Primarily Residential, some            | 1     | 46    |\n|          | Recreational, some Exempt)                        |       |       |\n+----------+---------------------------------------------------+-------+-------+\n| 091      | Exempt/Residential                                | 25    | 47    |\n+----------+---------------------------------------------------+-------+-------+\n| 093      | Mixed Use (Primarily Tax-Exempt, some Commercial) | 29    | 48    |\n+----------+---------------------------------------------------+-------+-------+\n| 094      | Exempt/ Industrial                                | 18    | 49    |\n+----------+---------------------------------------------------+-------+-------+\n| 097      | Mixed Use (Primarily Tax-Exempt, some             | 2     | 50    |\n|          | Agriculture)                                      |       |       |\n+----------+---------------------------------------------------+-------+-------+\n| 098      | Vacant, Selectmen or City Council, Other City or  | 1     | 51    |\n|          | Town (Municipal)                                  |       |       |\n+----------+---------------------------------------------------+-------+-------+\n| 099      | Mixed Use (Primarily Tax Exempt)                  | 1     | 52    |\n+----------+---------------------------------------------------+-------+-------+\n"
     ]
    }
   ],
   "source": [
    "print_use_code_classes(filtered_use_code_0)"
   ]
  },
  {
   "source": [
    "Details"
   ],
   "cell_type": "markdown",
   "metadata": {}
  },
  {
   "cell_type": "code",
   "execution_count": 15,
   "metadata": {},
   "outputs": [
    {
     "output_type": "stream",
     "name": "stdout",
     "text": [
      "+----------+---------------------------------------------------+-------+-------+\n| USE_CODE | USE_DESC                                          | COUNT | INDEX |\n+----------+---------------------------------------------------+-------+-------+\n| 000      | Use code not known or nor provided.               | 1     | 1     |\n+----------+---------------------------------------------------+-------+-------+\n| 007      | Mixed Use                                         | 1     | 2     |\n+----------+---------------------------------------------------+-------+-------+\n| 0101     | Single Fam                                        | 100   | 3     |\n+----------+---------------------------------------------------+-------+-------+\n| 0102     | Condo                                             | 8     | 4     |\n+----------+---------------------------------------------------+-------+-------+\n| 0103     | Mobile Hom                                        | 13    | 5     |\n+----------+---------------------------------------------------+-------+-------+\n| 0104     | Two Family                                        | 72    | 6     |\n+----------+---------------------------------------------------+-------+-------+\n| 0105     | THREE FAM                                         | 46    | 7     |\n+----------+---------------------------------------------------+-------+-------+\n| 0106     | AC LND IMP                                        | 26    | 8     |\n+----------+---------------------------------------------------+-------+-------+\n| 0107     | Mixed use agriculture                             | 2     | 9     |\n+----------+---------------------------------------------------+-------+-------+\n| 0108     | Res - 61B                                         | 2     | 10    |\n+----------+---------------------------------------------------+-------+-------+\n| 0109     | MULTI HSES                                        | 54    | 11    |\n+----------+---------------------------------------------------+-------+-------+\n| 010C     | TWO FAM M94                                       | 21    | 12    |\n+----------+---------------------------------------------------+-------+-------+\n| 010E     | Mixed use, two-family plus commercial, res model  | 1     | 13    |\n+----------+---------------------------------------------------+-------+-------+\n| 010F     | Mixed use, two-family plus commercial, comm model | 2     | 14    |\n+----------+---------------------------------------------------+-------+-------+\n| 010G     | Mixed use, three-family plus commercial, res      | 1     | 15    |\n|          | model                                             |       |       |\n+----------+---------------------------------------------------+-------+-------+\n| 010H     | TWO-FAMILY M94 WITH STORE/SHOP                    | 1     | 16    |\n+----------+---------------------------------------------------+-------+-------+\n| 010I     | SINGLE FAM  MDL-96                                | 1     | 17    |\n+----------+---------------------------------------------------+-------+-------+\n| 010J     | TWO FAMILY  MDL-94                                | 9     | 18    |\n+----------+---------------------------------------------------+-------+-------+\n| 010K     | Multiple Houses M96                               | 1     | 19    |\n+----------+---------------------------------------------------+-------+-------+\n| 010L     | TWO FAMILY  MDL-96                                | 2     | 20    |\n+----------+---------------------------------------------------+-------+-------+\n| 010M     | Mixed use, single-family plus commercial, res     | 1     | 21    |\n|          | type                                              |       |       |\n+----------+---------------------------------------------------+-------+-------+\n| 010R     | Two Family MDL                                    | 3     | 22    |\n+----------+---------------------------------------------------+-------+-------+\n| 010V     | SINGLE FAM MDL R                                  | 4     | 23    |\n+----------+---------------------------------------------------+-------+-------+\n| 010Z     | Other - Stores/Apt Com                            | 4     | 24    |\n+----------+---------------------------------------------------+-------+-------+\n| 011      | Mixed Use-day care & residential                  | 1     | 25    |\n+----------+---------------------------------------------------+-------+-------+\n| 0110     | APT 4-8 RES                                       | 1     | 26    |\n+----------+---------------------------------------------------+-------+-------+\n| 0111     | APT 4-UNIT                                        | 53    | 27    |\n+----------+---------------------------------------------------+-------+-------+\n| 0112     | APT OVER 8                                        | 27    | 28    |\n+----------+---------------------------------------------------+-------+-------+\n| 0113     | Apt 9 Units and Up C                              | 4     | 29    |\n+----------+---------------------------------------------------+-------+-------+\n| 0114     | Apt 4 to 8 Units C                                | 1     | 30    |\n+----------+---------------------------------------------------+-------+-------+\n| 011C     | APT 4-UNIT  MDL-94                                | 18    | 31    |\n+----------+---------------------------------------------------+-------+-------+\n| 011I     | Store                                             | 1     | 32    |\n+----------+---------------------------------------------------+-------+-------+\n| 011J     | Apts Over 8 M-9                                   | 1     | 33    |\n+----------+---------------------------------------------------+-------+-------+\n| 011M     | APT 4-8 MDL-03                                    | 1     | 34    |\n+----------+---------------------------------------------------+-------+-------+\n| 011Z     | Mixed Use Comm                                    | 1     | 35    |\n+----------+---------------------------------------------------+-------+-------+\n| 012      | Other                                             | 3     | 36    |\n+----------+---------------------------------------------------+-------+-------+\n| 0120     | PR RES OPN                                        | 3     | 37    |\n+----------+---------------------------------------------------+-------+-------+\n| 0121     | BOARDNG HS                                        | 12    | 38    |\n+----------+---------------------------------------------------+-------+-------+\n| 0122     | FRAT/SOROR                                        | 3     | 39    |\n+----------+---------------------------------------------------+-------+-------+\n| 0123     | DORMITORY                                         | 5     | 40    |\n+----------+---------------------------------------------------+-------+-------+\n| 0124     | REC/CONVEN                                        | 3     | 41    |\n+----------+---------------------------------------------------+-------+-------+\n| 0125     | Assisted Living                                   | 1     | 42    |\n+----------+---------------------------------------------------+-------+-------+\n| 012O     | Condo Dorm M06                                    | 1     | 43    |\n+----------+---------------------------------------------------+-------+-------+\n| 013      | Mixed Use (Primarily Residential, some            | 1     | 44    |\n|          | Commercial)                                       |       |       |\n+----------+---------------------------------------------------+-------+-------+\n| 0130     | Mixed Use (Primarily Residential, some            | 1     | 45    |\n|          | Commercial)                                       |       |       |\n+----------+---------------------------------------------------+-------+-------+\n| 0131     | RES ACLNPO                                        | 26    | 46    |\n+----------+---------------------------------------------------+-------+-------+\n| 0132     | RES ACLNUD                                        | 24    | 47    |\n+----------+---------------------------------------------------+-------+-------+\n| 0133     | MULTIUSE-RES-COM                                  | 3     | 48    |\n+----------+---------------------------------------------------+-------+-------+\n| 0134     | PRI RS C/I                                        | 17    | 49    |\n+----------+---------------------------------------------------+-------+-------+\n| 0135     | Pri Res/Com                                       | 4     | 50    |\n+----------+---------------------------------------------------+-------+-------+\n| 0136     | Mixed Use (Primarily Residential, some            | 16    | 51    |\n|          | Commercial, some Forest)                          |       |       |\n+----------+---------------------------------------------------+-------+-------+\n| 0137     | Res/Com/Agr                                       | 54    | 52    |\n+----------+---------------------------------------------------+-------+-------+\n| 0138     | MULTI-USE RES 61B                                 | 16    | 53    |\n+----------+---------------------------------------------------+-------+-------+\n| 0139     | Other                                             | 2     | 54    |\n+----------+---------------------------------------------------+-------+-------+\n| 013C     | Pri Res  Com                                      | 24    | 55    |\n+----------+---------------------------------------------------+-------+-------+\n| 013I     | IMPUTED - Mixed Use (Primarily Residential, some  | 2     | 56    |\n|          | Commercial)                                       |       |       |\n+----------+---------------------------------------------------+-------+-------+\n| 013M     | PRI RES MDL-03                                    | 5     | 57    |\n+----------+---------------------------------------------------+-------+-------+\n| 013R     | PRI RES MDL-01                                    | 2     | 58    |\n+----------+---------------------------------------------------+-------+-------+\n| 013V     | Pri Vac                                           | 6     | 59    |\n+----------+---------------------------------------------------+-------+-------+\n| 014      | Mixed Use (Primarily Residential, some            | 1     | 60    |\n|          | Industrial)                                       |       |       |\n+----------+---------------------------------------------------+-------+-------+\n| 0140     | Mixed Use (Primarily Residential, some            | 1     | 61    |\n|          | Industrial)                                       |       |       |\n+----------+---------------------------------------------------+-------+-------+\n| 0143     | Mixed Use (Primarily Residential, some            | 2     | 62    |\n|          | Industrial, some Commercial)                      |       |       |\n+----------+---------------------------------------------------+-------+-------+\n| 0146     | Mixed Use (Primarily Residential, some            | 6     | 63    |\n|          | Industrial, some Forest)                          |       |       |\n+----------+---------------------------------------------------+-------+-------+\n| 0147     | Mixed Use (Primarily Residential, some            | 12    | 64    |\n|          | Industrial, some Agriculture)                     |       |       |\n+----------+---------------------------------------------------+-------+-------+\n| 0148     | Mixed Use (Residential, Industrial, Recreation)   | 1     | 65    |\n+----------+---------------------------------------------------+-------+-------+\n| 014C     | MU Daycare 94                                     | 1     | 66    |\n+----------+---------------------------------------------------+-------+-------+\n| 016      | Mixed Use (Primarily Residential, some Forest)    | 1     | 67    |\n+----------+---------------------------------------------------+-------+-------+\n| 0160     | Mixed Use (Primarily Residential, some Forest)    | 1     | 68    |\n+----------+---------------------------------------------------+-------+-------+\n| 0161     | Predom Res/600 R                                  | 3     | 69    |\n+----------+---------------------------------------------------+-------+-------+\n| 0163     | Mixed use residential with CH61 & farm buildings  | 3     | 70    |\n+----------+---------------------------------------------------+-------+-------+\n| 0164     | Mixed Use (Primarily Residential, some Forest,    | 4     | 71    |\n|          | some Industrial)                                  |       |       |\n+----------+---------------------------------------------------+-------+-------+\n| 0167     | Mixed Use (Primarily Residential, some Forest,    | 29    | 72    |\n|          | some Agriculture)                                 |       |       |\n+----------+---------------------------------------------------+-------+-------+\n| 0168     | Mixed Use - Primarily Residential                 | 6     | 73    |\n+----------+---------------------------------------------------+-------+-------+\n| 016R     | MU RS CH61 M01                                    | 2     | 74    |\n+----------+---------------------------------------------------+-------+-------+\n| 016V     | Ex Vac                                            | 1     | 75    |\n+----------+---------------------------------------------------+-------+-------+\n| 017      | Mixed Use (Primarily Residential, some            | 1     | 76    |\n|          | Agriculture)                                      |       |       |\n+----------+---------------------------------------------------+-------+-------+\n| 0170     | Mixed Use (Primarily Residential, some            | 1     | 77    |\n|          | Agriculture)                                      |       |       |\n+----------+---------------------------------------------------+-------+-------+\n| 0171     | Predom Res/700 R                                  | 3     | 78    |\n+----------+---------------------------------------------------+-------+-------+\n| 0173     | Residential/ Chapter 61A/ Farm Buildings on       | 21    | 79    |\n|          | Chapter Land                                      |       |       |\n+----------+---------------------------------------------------+-------+-------+\n| 0174     | Mixed Use (Primarily Residential, Some            | 5     | 80    |\n|          | Agricultural, Some Industrial)                    |       |       |\n+----------+---------------------------------------------------+-------+-------+\n| 0176     | Mixed Use (Primarily Residential, some            | 22    | 81    |\n|          | Agriculture, some Forest)                         |       |       |\n+----------+---------------------------------------------------+-------+-------+\n| 0177     | Mixed Use (Primarily Residential some Chapter     | 1     | 82    |\n|          | 61A)                                              |       |       |\n+----------+---------------------------------------------------+-------+-------+\n| 0178     | Mixed Use (Primarily Residential, some            | 9     | 83    |\n|          | Agriculture, some Recreation)                     |       |       |\n+----------+---------------------------------------------------+-------+-------+\n| 0179     | Mixed use, primarily residential, with classified | 1     | 84    |\n|          | agricultural/horticultural use and an exempt      |       |       |\n|          | windmill                                          |       |       |\n+----------+---------------------------------------------------+-------+-------+\n| 017C     | Mixed use, residential/chapter 61A                | 1     | 85    |\n+----------+---------------------------------------------------+-------+-------+\n| 017R     | MU RS CH61A M01                                   | 3     | 86    |\n+----------+---------------------------------------------------+-------+-------+\n| 017V     | MixResVacCom                                      | 2     | 87    |\n+----------+---------------------------------------------------+-------+-------+\n| 018      | Mixed Use (Primarily Residential, some            | 1     | 88    |\n|          | Recreation)                                       |       |       |\n+----------+---------------------------------------------------+-------+-------+\n| 0180     | Mixed Use (Primarily Residential, some            | 1     | 89    |\n|          | Recreation)                                       |       |       |\n+----------+---------------------------------------------------+-------+-------+\n| 0181     | Predom Res/800 R                                  | 3     | 90    |\n+----------+---------------------------------------------------+-------+-------+\n| 0182     | PRED RES 800 C                                    | 1     | 91    |\n+----------+---------------------------------------------------+-------+-------+\n| 0183     | Other                                             | 5     | 92    |\n+----------+---------------------------------------------------+-------+-------+\n| 0186     | Other                                             | 13    | 93    |\n+----------+---------------------------------------------------+-------+-------+\n| 0187     | Mixed Use (Primarily Residential, some            | 18    | 94    |\n|          | Recreation,  some Agriculture)                    |       |       |\n+----------+---------------------------------------------------+-------+-------+\n| 018R     | MU RS CH61B M01                                   | 3     | 95    |\n+----------+---------------------------------------------------+-------+-------+\n| 019      | Mixed Use (Primarily Residential, some Tax-       | 1     | 96    |\n|          | Exempt)                                           |       |       |\n+----------+---------------------------------------------------+-------+-------+\n| 0190     | Mixed Use (Primarily Residential, some Tax-       | 1     | 97    |\n|          | Exempt)                                           |       |       |\n+----------+---------------------------------------------------+-------+-------+\n| 0193     | Mixed Use (Primarily Residential some Exempt,     | 2     | 98    |\n|          | Commercial)                                       |       |       |\n+----------+---------------------------------------------------+-------+-------+\n| 0197     | Trustees of Reservations land that is managed     | 1     | 99    |\n|          | under an agricultural restriction, Oranization    |       |       |\n|          | exempt, but taxable residence on property         |       |       |\n+----------+---------------------------------------------------+-------+-------+\n| 0198     | MXD CNDO-RES-PKG                                  | 1     | 100   |\n+----------+---------------------------------------------------+-------+-------+\n| 0199     | MXD CONDO-BLDG                                    | 1     | 101   |\n+----------+---------------------------------------------------+-------+-------+\n| 0201     | SFR OPEN                                          | 3     | 102   |\n+----------+---------------------------------------------------+-------+-------+\n| 0202     | WET RES PV                                        | 2     | 103   |\n+----------+---------------------------------------------------+-------+-------+\n| 021      | Mixed Use (Primarily Open Space, some             | 1     | 104   |\n|          | Residential)                                      |       |       |\n+----------+---------------------------------------------------+-------+-------+\n| 0210     | Mixed Use (Primarily Open Space, some             | 1     | 105   |\n|          | Residential)                                      |       |       |\n+----------+---------------------------------------------------+-------+-------+\n| 0211     | NONPROD VC                                        | 2     | 106   |\n+----------+---------------------------------------------------+-------+-------+\n| 023      | Mixed use, chaptered and commercial               | 2     | 107   |\n+----------+---------------------------------------------------+-------+-------+\n| 0230     | Pri Open Comm Use                                 | 1     | 108   |\n+----------+---------------------------------------------------+-------+-------+\n| 030      | Mixed Use (Primarily Commercial, some Other)      | 1     | 109   |\n+----------+---------------------------------------------------+-------+-------+\n| 0300     | Mixed Use (Primarily Commercial, some Other)      | 1     | 110   |\n+----------+---------------------------------------------------+-------+-------+\n| 0301     | MOTELS                                            | 5     | 111   |\n+----------+---------------------------------------------------+-------+-------+\n| 0302     | INNS                                              | 11    | 112   |\n+----------+---------------------------------------------------+-------+-------+\n| 0303     | ACC COM LD                                        | 3     | 113   |\n+----------+---------------------------------------------------+-------+-------+\n| 0304     | NURSING HM                                        | 3     | 114   |\n+----------+---------------------------------------------------+-------+-------+\n| 0305     | HOSP PVT                                          | 4     | 115   |\n+----------+---------------------------------------------------+-------+-------+\n| 0306     | TRANS RES                                         | 3     | 116   |\n+----------+---------------------------------------------------+-------+-------+\n| 031      | Mixed Use (Primarily Commercial, some             | 1     | 117   |\n|          | Residential)                                      |       |       |\n+----------+---------------------------------------------------+-------+-------+\n| 0310     | Mixed Use (Primarily Commercial, some             | 1     | 118   |\n|          | Residential)                                      |       |       |\n+----------+---------------------------------------------------+-------+-------+\n| 0311     | RTL GAS ST                                        | 10    | 119   |\n+----------+---------------------------------------------------+-------+-------+\n| 0312     | GRAIN ELEV                                        | 4     | 120   |\n+----------+---------------------------------------------------+-------+-------+\n| 0313     | LUMBER YRD                                        | 12    | 121   |\n+----------+---------------------------------------------------+-------+-------+\n| 0314     | TRK TERM                                          | 9     | 122   |\n+----------+---------------------------------------------------+-------+-------+\n| 0315     | DOCKYARDS                                         | 5     | 123   |\n+----------+---------------------------------------------------+-------+-------+\n| 0316     | COMM WHSE                                         | 52    | 124   |\n+----------+---------------------------------------------------+-------+-------+\n| 0317     | Com/R/Agr                                         | 34    | 125   |\n+----------+---------------------------------------------------+-------+-------+\n| 0318     | Com/R/Rec                                         | 23    | 126   |\n+----------+---------------------------------------------------+-------+-------+\n| 0319     | Prim Comm R                                       | 3     | 127   |\n+----------+---------------------------------------------------+-------+-------+\n| 031A     | Mixed use - commercial portion of condo unit      | 1     | 128   |\n+----------+---------------------------------------------------+-------+-------+\n| 031B     | Family Conver.                                    | 1     | 129   |\n+----------+---------------------------------------------------+-------+-------+\n| 031C     | PRI COMM MDL-94                                   | 5     | 130   |\n+----------+---------------------------------------------------+-------+-------+\n| 031D     | MIXUSECOMMO6                                      | 1     | 131   |\n+----------+---------------------------------------------------+-------+-------+\n| 031F     | Mixed Use CR M96                                  | 1     | 132   |\n+----------+---------------------------------------------------+-------+-------+\n| 031I     | LUMBER YRD MDL C                                  | 10    | 133   |\n+----------+---------------------------------------------------+-------+-------+\n| 031J     | Commercial Greenhouse M94                         | 1     | 134   |\n+----------+---------------------------------------------------+-------+-------+\n| 031M     | Conventional                                      | 1     | 135   |\n+----------+---------------------------------------------------+-------+-------+\n| 031R     | PRI COMM                                          | 20    | 136   |\n+----------+---------------------------------------------------+-------+-------+\n| 031V     | Pri Comm  Vac                                     | 10    | 137   |\n+----------+---------------------------------------------------+-------+-------+\n| 031X     | MIXED USE CONDO                                   | 1     | 138   |\n+----------+---------------------------------------------------+-------+-------+\n| 031Z     | Commercial Greenhouse M96                         | 1     | 139   |\n+----------+---------------------------------------------------+-------+-------+\n| 032      | Mixed use, commercial, chaptered                  | 1     | 140   |\n+----------+---------------------------------------------------+-------+-------+\n| 0320     | Municiplal Condo M06                              | 2     | 141   |\n+----------+---------------------------------------------------+-------+-------+\n| 0321     | HRDWARE ST                                        | 10    | 142   |\n+----------+---------------------------------------------------+-------+-------+\n| 0322     | Store/Shop  Com                                   | 67    | 143   |\n+----------+---------------------------------------------------+-------+-------+\n| 0323     | SHOPNGMALL                                        | 5     | 144   |\n+----------+---------------------------------------------------+-------+-------+\n| 0324     | SUPERMKT                                          | 4     | 145   |\n+----------+---------------------------------------------------+-------+-------+\n| 0325     | MIXED USE RETAIN < 10,000 SF                      | 33    | 146   |\n+----------+---------------------------------------------------+-------+-------+\n| 0326     | Restaurant                                        | 60    | 147   |\n+----------+---------------------------------------------------+-------+-------+\n| 0327     | MXD RETAIL-CONDO                                  | 2     | 148   |\n+----------+---------------------------------------------------+-------+-------+\n| 0329     | MXD BILLBOARD                                     | 2     | 149   |\n+----------+---------------------------------------------------+-------+-------+\n| 032A     | RESTAURANT MDL C                                  | 2     | 150   |\n+----------+---------------------------------------------------+-------+-------+\n| 032C     | STORE/SHOP  MDL-94                                | 3     | 151   |\n+----------+---------------------------------------------------+-------+-------+\n| 032I     | STORE/SHOP  MDL-96                                | 16    | 152   |\n+----------+---------------------------------------------------+-------+-------+\n| 032L     | REST/CLUBS  MDL-96                                | 2     | 153   |\n+----------+---------------------------------------------------+-------+-------+\n| 032R     | Mixed Use (Primarily Small Retail & Service)      | 19    | 154   |\n+----------+---------------------------------------------------+-------+-------+\n| 032V     | Store/Shop Vac                                    | 6     | 155   |\n+----------+---------------------------------------------------+-------+-------+\n| 032Y     | Unknown - calling Jim Benoit                      | 1     | 156   |\n+----------+---------------------------------------------------+-------+-------+\n| 033      | Mixed Use (Primarily Commercial)                  | 1     | 157   |\n+----------+---------------------------------------------------+-------+-------+\n| 0330     | Stores/Apt Com                                    | 10    | 158   |\n+----------+---------------------------------------------------+-------+-------+\n| 0331     | Mixed Use (Primarily Automotive Supplies Sales    | 10    | 159   |\n|          | and Services)                                     |       |       |\n+----------+---------------------------------------------------+-------+-------+\n| 0332     | AUTO REPR                                         | 48    | 160   |\n+----------+---------------------------------------------------+-------+-------+\n| 0333     | FUEL SV/PR                                        | 2     | 161   |\n+----------+---------------------------------------------------+-------+-------+\n| 0334     | GAS ST SRV                                        | 11    | 162   |\n+----------+---------------------------------------------------+-------+-------+\n| 0335     | CAR WASH                                          | 4     | 163   |\n+----------+---------------------------------------------------+-------+-------+\n| 0336     | PARK GAR                                          | 3     | 164   |\n+----------+---------------------------------------------------+-------+-------+\n| 0337     | Park Lot                                          | 6     | 165   |\n+----------+---------------------------------------------------+-------+-------+\n| 0338     | MIXED USE OTHER MVE SERVICE/STATION               | 9     | 166   |\n+----------+---------------------------------------------------+-------+-------+\n| 0339     | MXD CONDO-PKG-SP                                  | 1     | 167   |\n+----------+---------------------------------------------------+-------+-------+\n| 033A     | AUTO REPR M00                                     | 1     | 168   |\n+----------+---------------------------------------------------+-------+-------+\n| 033I     | Auto Repr                                         | 8     | 169   |\n+----------+---------------------------------------------------+-------+-------+\n| 033R     | AUTO REPAIR M01                                   | 3     | 170   |\n+----------+---------------------------------------------------+-------+-------+\n| 033V     | AUTO REPR  MDL-00                                 | 1     | 171   |\n+----------+---------------------------------------------------+-------+-------+\n| 034      | Mixed Use (Primarily Commercial, some Industrial) | 1     | 172   |\n+----------+---------------------------------------------------+-------+-------+\n| 0340     | Mixed Use (Primarily Commercial, some Industrial) | 1     | 173   |\n+----------+---------------------------------------------------+-------+-------+\n| 0341     | Mixed use Commercial, Industrial, Residential     | 15    | 174   |\n+----------+---------------------------------------------------+-------+-------+\n| 0342     | Mixed Use (Primarily Medical Office Building)     | 29    | 175   |\n+----------+---------------------------------------------------+-------+-------+\n| 0343     | MXD OFFICE-CONDO                                  | 4     | 176   |\n+----------+---------------------------------------------------+-------+-------+\n| 0345     | MXD RETAIL-OFFIC                                  | 2     | 177   |\n+----------+---------------------------------------------------+-------+-------+\n| 0346     | Commercial, Industrial and Chapter 61B            | 2     | 178   |\n+----------+---------------------------------------------------+-------+-------+\n| 0347     | Mixed use commercial, industrial and Chapter 61A  | 2     | 179   |\n+----------+---------------------------------------------------+-------+-------+\n| 0348     | Mixed use, Commercial, Industrial, recreational   | 1     | 180   |\n+----------+---------------------------------------------------+-------+-------+\n| 034B     | PROF BLDG M-01                                    | 3     | 181   |\n+----------+---------------------------------------------------+-------+-------+\n| 034C     | Office Bld Mdl-94                                 | 1     | 182   |\n+----------+---------------------------------------------------+-------+-------+\n| 034I     | OFFICE MDL-96 C                                   | 4     | 183   |\n+----------+---------------------------------------------------+-------+-------+\n| 034M     | Mixed-use, office building, plus residential      | 1     | 184   |\n+----------+---------------------------------------------------+-------+-------+\n| 034R     | OFFICE MDL-01 C                                   | 21    | 185   |\n+----------+---------------------------------------------------+-------+-------+\n| 034V     | OFFICE MDL-00 C                                   | 2     | 186   |\n+----------+---------------------------------------------------+-------+-------+\n| 0350     | POST OFF                                          | 6     | 187   |\n+----------+---------------------------------------------------+-------+-------+\n| 0351     | EDUC BLDG                                         | 7     | 188   |\n+----------+---------------------------------------------------+-------+-------+\n| 0352     | DAY CARE                                          | 3     | 189   |\n+----------+---------------------------------------------------+-------+-------+\n| 0353     | Mixed Use-Fraternal Organization/Apartments       | 6     | 190   |\n+----------+---------------------------------------------------+-------+-------+\n| 0354     | TRANSPORT                                         | 2     | 191   |\n+----------+---------------------------------------------------+-------+-------+\n| 0355     | Funeral Hm                                        | 31    | 192   |\n+----------+---------------------------------------------------+-------+-------+\n| 0356     | PROF ASSOC                                        | 2     | 193   |\n+----------+---------------------------------------------------+-------+-------+\n| 035I     | FUNERAL HM MDL C                                  | 3     | 194   |\n+----------+---------------------------------------------------+-------+-------+\n| 035R     | FUNERAL HM MDL-01                                 | 1     | 195   |\n+----------+---------------------------------------------------+-------+-------+\n| 036      | Mixed Use (Primarily Commercial, some Forest)     | 1     | 196   |\n+----------+---------------------------------------------------+-------+-------+\n| 0360     | Mixed Use (Primarily Commercial, some Forest)     | 1     | 197   |\n+----------+---------------------------------------------------+-------+-------+\n| 0361     | Mixed Use (Primarily Commercial, some Forest,     | 8     | 198   |\n|          | some Residential)                                 |       |       |\n+----------+---------------------------------------------------+-------+-------+\n| 0362     | MOVIE THTR                                        | 4     | 199   |\n+----------+---------------------------------------------------+-------+-------+\n| 0363     | DRIVEINTHT                                        | 2     | 200   |\n+----------+---------------------------------------------------+-------+-------+\n| 0364     | THEATER                                           | 3     | 201   |\n+----------+---------------------------------------------------+-------+-------+\n| 0365     | STADIUMS                                          | 2     | 202   |\n+----------+---------------------------------------------------+-------+-------+\n| 0366     | Mixed Use - Arenas and Field Houses               | 5     | 203   |\n+----------+---------------------------------------------------+-------+-------+\n| 0367     | RACETRACK                                         | 5     | 204   |\n+----------+---------------------------------------------------+-------+-------+\n| 0368     | AMUSE PARK                                        | 3     | 205   |\n+----------+---------------------------------------------------+-------+-------+\n| 0369     | Mixed Use - Other Cultural and Entertainment      | 3     | 206   |\n|          | Properties                                        |       |       |\n+----------+---------------------------------------------------+-------+-------+\n| 037      | Mixed Use (Primarily Commercial, some             | 1     | 207   |\n|          | Agriculture)                                      |       |       |\n+----------+---------------------------------------------------+-------+-------+\n| 0370     | Mixed Use (Primarily Commercial, some             | 1     | 208   |\n|          | Agriculture)                                      |       |       |\n+----------+---------------------------------------------------+-------+-------+\n| 0371     | agricultural buildings with 61A Agricultural      | 5     | 209   |\n|          | lands and excluded land from ag                   |       |       |\n+----------+---------------------------------------------------+-------+-------+\n| 0372     | ROLLER SKT                                        | 2     | 210   |\n+----------+---------------------------------------------------+-------+-------+\n| 0373     | SWIM POOL                                         | 2     | 211   |\n+----------+---------------------------------------------------+-------+-------+\n| 0374     | HEALTH SPA                                        | 5     | 212   |\n+----------+---------------------------------------------------+-------+-------+\n| 0375     | TENNIS CLB                                        | 7     | 213   |\n+----------+---------------------------------------------------+-------+-------+\n| 0376     | Gymnasiums and Athletic Clubs                     | 5     | 214   |\n+----------+---------------------------------------------------+-------+-------+\n| 0377     | MIXED USE OTHER INDOOR REC                        | 7     | 215   |\n+----------+---------------------------------------------------+-------+-------+\n| 037I     | MU CM CH61A M96                                   | 2     | 216   |\n+----------+---------------------------------------------------+-------+-------+\n| 037R     | Mixed use, commercial/chapter 61A                 | 1     | 217   |\n+----------+---------------------------------------------------+-------+-------+\n| 038      | Mixed Use (Primarily Commercial, some Recreation) | 1     | 218   |\n+----------+---------------------------------------------------+-------+-------+\n| 0380     | Mixed Use (Primarily Commercial, some Recreation) | 1     | 219   |\n+----------+---------------------------------------------------+-------+-------+\n| 0381     | Commercial/chapter 61B/Residential                | 6     | 220   |\n+----------+---------------------------------------------------+-------+-------+\n| 0382     | Mixed Use Ridging Stables                         | 7     | 221   |\n+----------+---------------------------------------------------+-------+-------+\n| 0383     | BEACHES                                           | 2     | 222   |\n+----------+---------------------------------------------------+-------+-------+\n| 0384     | Mixed Use (Primarily Marinas - including marine   | 12    | 223   |\n|          | terminals & associated areas primarily for        |       |       |\n|          | recreational marine craft (not Ch. 61B))          |       |       |\n+----------+---------------------------------------------------+-------+-------+\n| 0385     | FISH&GAME                                         | 21    | 224   |\n+----------+---------------------------------------------------+-------+-------+\n| 0386     | commercial/chapter land(golf course)              | 16    | 225   |\n+----------+---------------------------------------------------+-------+-------+\n| 0387     | Mixed Use (Primarily Commercial, some Recreation, | 12    | 226   |\n|          | some Agriculture)                                 |       |       |\n+----------+---------------------------------------------------+-------+-------+\n| 0388     | Mixed Use - Other Outdoor facilities - e.g.       | 7     | 227   |\n|          | driving ranges, miniature golf, baseball batting  |       |       |\n|          | ranges, etc... (not Ch. 61B)                      |       |       |\n+----------+---------------------------------------------------+-------+-------+\n| 0389     | STRUCT-61B                                        | 5     | 228   |\n+----------+---------------------------------------------------+-------+-------+\n| 038C     | GOLF CRSE MDL                                     | 2     | 229   |\n+----------+---------------------------------------------------+-------+-------+\n| 038G     | MU CM CH61A M95                                   | 1     | 230   |\n+----------+---------------------------------------------------+-------+-------+\n| 038I     | GOLF CRSE MDL                                     | 2     | 231   |\n+----------+---------------------------------------------------+-------+-------+\n| 038R     | GOLF CRSE M-01                                    | 1     | 232   |\n+----------+---------------------------------------------------+-------+-------+\n| 038V     | OTHR OUTDR M-00                                   | 1     | 233   |\n+----------+---------------------------------------------------+-------+-------+\n| 039      | Other                                             | 21    | 234   |\n+----------+---------------------------------------------------+-------+-------+\n| 0390     | Mixed Use (Primarily Developable Vacant Land)     | 7     | 235   |\n+----------+---------------------------------------------------+-------+-------+\n| 0391     | POT DEVEL                                         | 8     | 236   |\n+----------+---------------------------------------------------+-------+-------+\n| 0392     | UNDEV LAND                                        | 4     | 237   |\n+----------+---------------------------------------------------+-------+-------+\n| 0393     | Mixed Use (Primarily Agricultural Vacant Land)    | 7     | 238   |\n+----------+---------------------------------------------------+-------+-------+\n| 0394     | Mixed Use commercial/exempt/industrial, primarily | 1     | 239   |\n|          | commercial                                        |       |       |\n+----------+---------------------------------------------------+-------+-------+\n| 0395     | M/U DEV LAND MDL-00                               | 1     | 240   |\n+----------+---------------------------------------------------+-------+-------+\n| 0399     | Mixed Use (multi village)                         | 1     | 241   |\n+----------+---------------------------------------------------+-------+-------+\n| 040      | Mixed Use (Primarily Industrial, some Other)      | 1     | 242   |\n+----------+---------------------------------------------------+-------+-------+\n| 0400     | Mixed Use (Primarily Industrial, some Other)      | 1     | 243   |\n+----------+---------------------------------------------------+-------+-------+\n| 0401     | Pre-Eng Warehs                                    | 10    | 244   |\n+----------+---------------------------------------------------+-------+-------+\n| 0402     | Manufacturing and Processing - Office Building -  | 8     | 245   |\n|          | part of manufacturing                             |       |       |\n|          | operation                                         |       |       |\n+----------+---------------------------------------------------+-------+-------+\n| 0403     | ACCLND MFG                                        | 2     | 246   |\n+----------+---------------------------------------------------+-------+-------+\n| 0404     | R-D FACIL                                         | 3     | 247   |\n+----------+---------------------------------------------------+-------+-------+\n| 0406     | MXD HIGH-TECH                                     | 1     | 248   |\n+----------+---------------------------------------------------+-------+-------+\n| 0407     | MXD CLEAN-MANUF                                   | 1     | 249   |\n+----------+---------------------------------------------------+-------+-------+\n| 0409     | MXD INDUST-CONDO                                  | 1     | 250   |\n+----------+---------------------------------------------------+-------+-------+\n| 040C     | Light Indust                                      | 1     | 251   |\n+----------+---------------------------------------------------+-------+-------+\n| 041      | Mixed Use (Primarily Industrial, some             | 1     | 252   |\n|          | Residential)                                      |       |       |\n+----------+---------------------------------------------------+-------+-------+\n| 0410     | Mixed Use (Primarily Industrial, some             | 1     | 253   |\n|          | Residential)                                      |       |       |\n+----------+---------------------------------------------------+-------+-------+\n| 0411     | GYPSUMMINE                                        | 2     | 254   |\n+----------+---------------------------------------------------+-------+-------+\n| 0412     | ROCK MINE                                         | 3     | 255   |\n+----------+---------------------------------------------------+-------+-------+\n| 0413     | IMPUTED - Mixed Use (Primarily Industrial, some   | 9     | 256   |\n|          | Residential, some Commercial)                     |       |       |\n+----------+---------------------------------------------------+-------+-------+\n| 0415     | Predom Ind R                                      | 1     | 257   |\n+----------+---------------------------------------------------+-------+-------+\n| 0416     | IMPUTED - Mixed Use (Primarily Industrial, some   | 4     | 258   |\n|          | Residential, some Forest)                         |       |       |\n+----------+---------------------------------------------------+-------+-------+\n| 0417     | Quarry & Vacant buildable lot                     | 4     | 259   |\n+----------+---------------------------------------------------+-------+-------+\n| 0418     | Other                                             | 2     | 260   |\n+----------+---------------------------------------------------+-------+-------+\n| 041E     | Ind Exempt                                        | 1     | 261   |\n+----------+---------------------------------------------------+-------+-------+\n| 041I     | IMPUTED - Mixed Use (Primarily Industrial, some   | 1     | 262   |\n|          | Residential)                                      |       |       |\n+----------+---------------------------------------------------+-------+-------+\n| 041R     | Pr Ind Res                                        | 1     | 263   |\n+----------+---------------------------------------------------+-------+-------+\n| 042      | Ind/Open SP                                       | 1     | 264   |\n+----------+---------------------------------------------------+-------+-------+\n| 0420     | PUB TANKS                                         | 2     | 265   |\n+----------+---------------------------------------------------+-------+-------+\n| 0421     | TANKS LNG                                         | 2     | 266   |\n+----------+---------------------------------------------------+-------+-------+\n| 0422     | ELEC PLANT                                        | 3     | 267   |\n+----------+---------------------------------------------------+-------+-------+\n| 0423     | ELEC ROW                                          | 2     | 268   |\n+----------+---------------------------------------------------+-------+-------+\n| 0424     | ELECSUBSTA                                        | 4     | 269   |\n+----------+---------------------------------------------------+-------+-------+\n| 0425     | GAS PLANT                                         | 2     | 270   |\n+----------+---------------------------------------------------+-------+-------+\n| 0426     | GAS ROW                                           | 2     | 271   |\n+----------+---------------------------------------------------+-------+-------+\n| 0427     | GAS STG                                           | 2     | 272   |\n+----------+---------------------------------------------------+-------+-------+\n| 0428     | GAS SUBSTA                                        | 3     | 273   |\n+----------+---------------------------------------------------+-------+-------+\n| 043      | Mixed Use (Primarily Industrial, some Commercial) | 1     | 274   |\n+----------+---------------------------------------------------+-------+-------+\n| 0430     | Mixed Use (Primarily Industrial, some Commercial) | 1     | 275   |\n+----------+---------------------------------------------------+-------+-------+\n| 0431     | Mixed Use (Primarily Industrial, some Commercial, | 7     | 276   |\n|          | some Residential)                                 |       |       |\n+----------+---------------------------------------------------+-------+-------+\n| 0432     | CBL-TV TR                                         | 2     | 277   |\n+----------+---------------------------------------------------+-------+-------+\n| 0433     | RAD/TV TR                                         | 2     | 278   |\n+----------+---------------------------------------------------+-------+-------+\n| 0437     | Mixed Use (Primarily Industrial, some Commercial, | 2     | 279   |\n|          | some Residential)                                 |       |       |\n+----------+---------------------------------------------------+-------+-------+\n| 0438     | Mixed Use (Primarily industrial, some commercial  | 1     | 280   |\n|          | and Chapter 61B)                                  |       |       |\n+----------+---------------------------------------------------+-------+-------+\n| 0439     | Mixed Use (Primarily Manufacture, some            | 2     | 281   |\n|          | Commercial, some Tax Exempt)                      |       |       |\n+----------+---------------------------------------------------+-------+-------+\n| 0440     | IND LD DV                                         | 2     | 282   |\n+----------+---------------------------------------------------+-------+-------+\n| 0441     | IND LD PO                                         | 3     | 283   |\n+----------+---------------------------------------------------+-------+-------+\n| 0442     | IND LD UD                                         | 3     | 284   |\n+----------+---------------------------------------------------+-------+-------+\n| 0450     | electric generation (solar farm)                  | 1     | 285   |\n+----------+---------------------------------------------------+-------+-------+\n| 0452     | MIXED USE SOLAR                                   | 1     | 286   |\n+----------+---------------------------------------------------+-------+-------+\n| 046      | Mixed Use (Primarily Industrial, some Forest)     | 1     | 287   |\n+----------+---------------------------------------------------+-------+-------+\n| 0460     | Mixed Use (Primarily Industrial, some Forest)     | 1     | 288   |\n+----------+---------------------------------------------------+-------+-------+\n| 0467     | Mixed Use (Sand and Gravel Mining/Quarry, Chapter | 1     | 289   |\n|          | 61, Chapter 61A)                                  |       |       |\n+----------+---------------------------------------------------+-------+-------+\n| 047      | Mixed Use (Primarily Industrial, some             | 1     | 290   |\n|          | Agriculture)                                      |       |       |\n+----------+---------------------------------------------------+-------+-------+\n| 0470     | Mixed Use (Primarily Industrial, some             | 1     | 291   |\n|          | Agriculture)                                      |       |       |\n+----------+---------------------------------------------------+-------+-------+\n| 0471     | Mixed Use (Primarily Industrial some Agriculture, | 3     | 292   |\n|          | Residential)                                      |       |       |\n+----------+---------------------------------------------------+-------+-------+\n| 0475     | Unknown                                           | 1     | 293   |\n+----------+---------------------------------------------------+-------+-------+\n| 0476     | Industrial mixed-use with CH61A Agricultural      | 1     | 294   |\n|          | lands & C61 Forestry (more ag than forestry)      |       |       |\n+----------+---------------------------------------------------+-------+-------+\n| 0477     | Mixed Use (Primarily Industrial, some Chapter     | 1     | 295   |\n|          | 61A)                                              |       |       |\n+----------+---------------------------------------------------+-------+-------+\n| 048      | Mixed Use (Primarily Industrial, some Recreation) | 1     | 296   |\n+----------+---------------------------------------------------+-------+-------+\n| 0480     | Mixed Use (Primarily Industrial, some Recreation) | 1     | 297   |\n+----------+---------------------------------------------------+-------+-------+\n| 0487     | Mixed Use (Primarily Industrial some              | 1     | 298   |\n|          | Recreational, Agriculture)                        |       |       |\n+----------+---------------------------------------------------+-------+-------+\n| 049      | Mixed use Industrial, Exempt                      | 10    | 299   |\n+----------+---------------------------------------------------+-------+-------+\n| 0490     | Industrial Exemption                              | 2     | 300   |\n+----------+---------------------------------------------------+-------+-------+\n| 049C     | Other                                             | 1     | 301   |\n+----------+---------------------------------------------------+-------+-------+\n| 049R     | Ind Exempt                                        | 1     | 302   |\n+----------+---------------------------------------------------+-------+-------+\n| 0501     | IND ASC TR                                        | 2     | 303   |\n+----------+---------------------------------------------------+-------+-------+\n| 0502     | DOM/FOR CP                                        | 2     | 304   |\n+----------+---------------------------------------------------+-------+-------+\n| 0503     | DOM/FOR ME                                        | 2     | 305   |\n+----------+---------------------------------------------------+-------+-------+\n| 0504     | PUB UTIL                                          | 2     | 306   |\n+----------+---------------------------------------------------+-------+-------+\n| 0505     | MCH PL/WR                                         | 2     | 307   |\n+----------+---------------------------------------------------+-------+-------+\n| 0506     | PIPE LINES                                        | 2     | 308   |\n+----------+---------------------------------------------------+-------+-------+\n| 0601     | Mixed Use (Primarily Chapter 61 Forest Land)      | 38    | 309   |\n+----------+---------------------------------------------------+-------+-------+\n| 0602     | C61 5 YEAR                                        | 2     | 310   |\n+----------+---------------------------------------------------+-------+-------+\n| 061      | Mixed Use (Primarily Forest, some Residential)    | 1     | 311   |\n+----------+---------------------------------------------------+-------+-------+\n| 0610     | Mixed Use (Primarily Forest, some Residential)    | 1     | 312   |\n+----------+---------------------------------------------------+-------+-------+\n| 063      | Mixed Use (Primarily Forest, some Commercial)     | 1     | 313   |\n+----------+---------------------------------------------------+-------+-------+\n| 0630     | Mixed Use (Primarily Forest, some Commercial)     | 1     | 314   |\n+----------+---------------------------------------------------+-------+-------+\n| 064      | Mixed Use (Primarily Forest, some Industrial)     | 1     | 315   |\n+----------+---------------------------------------------------+-------+-------+\n| 0640     | Mixed Use (Primarily Forest, some Industrial)     | 1     | 316   |\n+----------+---------------------------------------------------+-------+-------+\n| 0641     | Mixed Use (Primarily Forest, some Industrial,     | 1     | 317   |\n|          | some Residential)                                 |       |       |\n+----------+---------------------------------------------------+-------+-------+\n| 067      | Mixed Use (Primarily Forest, some Agriculture)    | 1     | 318   |\n+----------+---------------------------------------------------+-------+-------+\n| 0670     | Mixed Use (Primarily Forest, some Agriculture)    | 1     | 319   |\n+----------+---------------------------------------------------+-------+-------+\n| 0671     | Mixed Use (Primarily Forestry, some Agriculture,  | 1     | 320   |\n|          | Residential)                                      |       |       |\n+----------+---------------------------------------------------+-------+-------+\n| 0673     | Other                                             | 1     | 321   |\n+----------+---------------------------------------------------+-------+-------+\n| 068      | Mixed Use (Primarily Forest, some Recreation)     | 1     | 322   |\n+----------+---------------------------------------------------+-------+-------+\n| 0680     | Mixed Use (Primarily Forest, some Recreation)     | 1     | 323   |\n+----------+---------------------------------------------------+-------+-------+\n| 071      | Mixed Use (Primarily Agriculture, some            | 1     | 324   |\n|          | Residential)                                      |       |       |\n+----------+---------------------------------------------------+-------+-------+\n| 0710     | Mixed Use (Primarily Agriculture, some            | 1     | 325   |\n|          | Residential)                                      |       |       |\n+----------+---------------------------------------------------+-------+-------+\n| 0711     | TOBACCO SD                                        | 4     | 326   |\n+----------+---------------------------------------------------+-------+-------+\n| 0712     | mixed use agricultural                            | 24    | 327   |\n+----------+---------------------------------------------------+-------+-------+\n| 0713     | Mixed Use - Field Crops - hay, wheat, tillable    | 41    | 328   |\n|          | forage, cropland, etc... (Ch. 61A, not classified |       |       |\n|          | as Open Space)                                    |       |       |\n+----------+---------------------------------------------------+-------+-------+\n| 0714     | Colonial                                          | 19    | 329   |\n+----------+---------------------------------------------------+-------+-------+\n| 0715     | VINEYARDS                                         | 7     | 330   |\n+----------+---------------------------------------------------+-------+-------+\n| 0716     | Mixed Use - necessary                             | 26    | 331   |\n+----------+---------------------------------------------------+-------+-------+\n| 0717     | Vacant Land                                       | 26    | 332   |\n+----------+---------------------------------------------------+-------+-------+\n| 0718     | Mixed Use - pasture                               | 32    | 333   |\n+----------+---------------------------------------------------+-------+-------+\n| 0719     | Mixed Use - nurseries                             | 13    | 334   |\n+----------+---------------------------------------------------+-------+-------+\n| 071C     | Mixed use, 61A/residential                        | 1     | 335   |\n+----------+---------------------------------------------------+-------+-------+\n| 071R     | Mixed Use (Primarily Agriculture, some            | 2     | 336   |\n|          | Residential)                                      |       |       |\n+----------+---------------------------------------------------+-------+-------+\n| 071S     | Mixed Use (Primarily Agriculture)                 | 1     | 337   |\n+----------+---------------------------------------------------+-------+-------+\n| 0720     | Mixed Use - nonprod                               | 16    | 338   |\n+----------+---------------------------------------------------+-------+-------+\n| 0722     | NONPROWETLD                                       | 7     | 339   |\n+----------+---------------------------------------------------+-------+-------+\n| 073      | Mixed Use (Primarily Agriculture, some            | 1     | 340   |\n|          | Commercial)                                       |       |       |\n+----------+---------------------------------------------------+-------+-------+\n| 0730     | Mixed Use (Primarily Agriculture, some            | 1     | 341   |\n|          | Commercial)                                       |       |       |\n+----------+---------------------------------------------------+-------+-------+\n| 0731     | Other                                             | 4     | 342   |\n+----------+---------------------------------------------------+-------+-------+\n| 0736     | Mixed Use (Primarily Agriculture, some            | 2     | 343   |\n|          | Commercial, Forestry)                             |       |       |\n+----------+---------------------------------------------------+-------+-------+\n| 0738     | Combination of 713 - Hay/Grain; 720 - Nonprod;    | 1     | 344   |\n|          | 803 - 61B Natural; 393 - Agricult                 |       |       |\n+----------+---------------------------------------------------+-------+-------+\n| 074      | Mixed Use (Primarily Agriculture, some            | 1     | 345   |\n|          | Industrial)                                       |       |       |\n+----------+---------------------------------------------------+-------+-------+\n| 0740     | Mixed Use (Primarily Agriculture, some            | 1     | 346   |\n|          | Industrial)                                       |       |       |\n+----------+---------------------------------------------------+-------+-------+\n| 0741     | Mixed Use - Chapter 61A Commercial Solar          | 1     | 347   |\n+----------+---------------------------------------------------+-------+-------+\n| 076      | Mixed Use (Primarily Agriculture, some Forest)    | 1     | 348   |\n+----------+---------------------------------------------------+-------+-------+\n| 0760     | Mixed Use (Primarily Agriculture, some Forest)    | 1     | 349   |\n+----------+---------------------------------------------------+-------+-------+\n| 0761     | FF/Res                                            | 6     | 350   |\n+----------+---------------------------------------------------+-------+-------+\n| 0763     | Other                                             | 3     | 351   |\n+----------+---------------------------------------------------+-------+-------+\n| 0764     | Mixed Use (Primarily Agriculture, some Forest,    | 1     | 352   |\n|          | some Electric ROW)                                |       |       |\n+----------+---------------------------------------------------+-------+-------+\n| 077      | Mixed Use (Primarily Chapter 61A)                 | 1     | 353   |\n+----------+---------------------------------------------------+-------+-------+\n| 078      | Mixed Use (Primarily Agriculture, some            | 1     | 354   |\n|          | Recreation)                                       |       |       |\n+----------+---------------------------------------------------+-------+-------+\n| 0780     | Mixed Use (Primarily Agriculture, some            | 1     | 355   |\n|          | Recreation)                                       |       |       |\n+----------+---------------------------------------------------+-------+-------+\n| 0783     | Chapter 61A/chapter 61B/Commercial                | 1     | 356   |\n+----------+---------------------------------------------------+-------+-------+\n| 0800     | Mixed Use - Chapter 61B Recreational Land         | 12    | 357   |\n+----------+---------------------------------------------------+-------+-------+\n| 0801     | 61B HIKE                                          | 15    | 358   |\n+----------+---------------------------------------------------+-------+-------+\n| 0802     | recreational land- camping                        | 4     | 359   |\n+----------+---------------------------------------------------+-------+-------+\n| 0803     | Conventional                                      | 24    | 360   |\n+----------+---------------------------------------------------+-------+-------+\n| 0804     | 61B BOAT                                          | 2     | 361   |\n+----------+---------------------------------------------------+-------+-------+\n| 0805     | Recreational Land ? Golfing                       | 18    | 362   |\n+----------+---------------------------------------------------+-------+-------+\n| 0806     | Mixed Use - 61B horse                             | 11    | 363   |\n+----------+---------------------------------------------------+-------+-------+\n| 0807     | 61B HUNT                                          | 3     | 364   |\n+----------+---------------------------------------------------+-------+-------+\n| 0808     | 61B FISH                                          | 4     | 365   |\n+----------+---------------------------------------------------+-------+-------+\n| 0809     | 61B AL-SKI                                        | 2     | 366   |\n+----------+---------------------------------------------------+-------+-------+\n| 080C     | Mixed Use (Primarily Golf) Commercial             | 1     | 367   |\n+----------+---------------------------------------------------+-------+-------+\n| 081      | Mixed Use (Primarily Recreation, some             | 1     | 368   |\n|          | Residential)                                      |       |       |\n+----------+---------------------------------------------------+-------+-------+\n| 0810     | Mixed Use (Primarily Recreation, some             | 1     | 369   |\n|          | Residential)                                      |       |       |\n+----------+---------------------------------------------------+-------+-------+\n| 0811     | 61B SWIM                                          | 4     | 370   |\n+----------+---------------------------------------------------+-------+-------+\n| 0812     | 61B PICNIC                                        | 2     | 371   |\n+----------+---------------------------------------------------+-------+-------+\n| 0813     | 61B GLIDE                                         | 2     | 372   |\n+----------+---------------------------------------------------+-------+-------+\n| 0814     | 61B TARGET                                        | 5     | 373   |\n+----------+---------------------------------------------------+-------+-------+\n| 0816     | Mixed Use (Chapter 61 and Residential with        | 1     | 374   |\n|          | Chapter 61b land)                                 |       |       |\n+----------+---------------------------------------------------+-------+-------+\n| 083      | Mixed Use (Primarily Recreation, some Commercial) | 1     | 375   |\n+----------+---------------------------------------------------+-------+-------+\n| 0830     | Mixed Use (Primarily Recreation, some Commercial) | 1     | 376   |\n+----------+---------------------------------------------------+-------+-------+\n| 0831     | Mixed use CD61B & commercial & residential        | 2     | 377   |\n+----------+---------------------------------------------------+-------+-------+\n| 0837     | Mixed Use (Primarily Recreation, some Commercial, | 3     | 378   |\n|          | some Agriculture)                                 |       |       |\n+----------+---------------------------------------------------+-------+-------+\n| 084      | Mixed Use (Primarily Recreation, some Industrial) | 1     | 379   |\n+----------+---------------------------------------------------+-------+-------+\n| 0840     | Mixed Use (Primarily Recreation, some Industrial) | 1     | 380   |\n+----------+---------------------------------------------------+-------+-------+\n| 086      | Mixed Use (Primarily Recreation, some Forest)     | 1     | 381   |\n+----------+---------------------------------------------------+-------+-------+\n| 0860     | Mixed Use (Primarily Recreation, some Forest)     | 1     | 382   |\n+----------+---------------------------------------------------+-------+-------+\n| 0861     | Mixed Use (Chapter 61 and Chapter 61b land)       | 1     | 383   |\n+----------+---------------------------------------------------+-------+-------+\n| 0863     | Other                                             | 1     | 384   |\n+----------+---------------------------------------------------+-------+-------+\n| 087      | Mixed Use (Primarily Recreation, some             | 1     | 385   |\n|          | Agriculture)                                      |       |       |\n+----------+---------------------------------------------------+-------+-------+\n| 0870     | Mixed Use (Primarily Recreation, some             | 1     | 386   |\n|          | Agriculture)                                      |       |       |\n+----------+---------------------------------------------------+-------+-------+\n| 0871     | Mixed Use (Primarily Recreation, some             | 1     | 387   |\n|          | Agriculture, Residential)                         |       |       |\n+----------+---------------------------------------------------+-------+-------+\n| 0873     | 61B/61A/COM                                       | 1     | 388   |\n+----------+---------------------------------------------------+-------+-------+\n| 089      | Mixed Use (Primarily Residential, some            | 1     | 389   |\n|          | Recreational, some Exempt)                        |       |       |\n+----------+---------------------------------------------------+-------+-------+\n| 0900     | US GOVT                                           | 2     | 390   |\n+----------+---------------------------------------------------+-------+-------+\n| 0901     | COMM-MASS                                         | 3     | 391   |\n+----------+---------------------------------------------------+-------+-------+\n| 0902     | COUNTY                                            | 2     | 392   |\n+----------+---------------------------------------------------+-------+-------+\n| 0903     | EXEMPT                                            | 7     | 393   |\n+----------+---------------------------------------------------+-------+-------+\n| 0904     | PRI SCHOOL                                        | 4     | 394   |\n+----------+---------------------------------------------------+-------+-------+\n| 0905     | P/HOS CHAR                                        | 4     | 395   |\n+----------+---------------------------------------------------+-------+-------+\n| 0906     | CHURCH ETC                                        | 4     | 396   |\n+----------+---------------------------------------------------+-------+-------+\n| 0907     | 121A CORP                                         | 2     | 397   |\n+----------+---------------------------------------------------+-------+-------+\n| 0908     | EXEMPT                                            | 3     | 398   |\n+----------+---------------------------------------------------+-------+-------+\n| 0909     | RELIGIOUS                                         | 3     | 399   |\n+----------+---------------------------------------------------+-------+-------+\n| 091      | Exempt/Residential                                | 25    | 400   |\n+----------+---------------------------------------------------+-------+-------+\n| 0910     | Mixed Use Residential Exemption                   | 6     | 401   |\n+----------+---------------------------------------------------+-------+-------+\n| 0913     | Dept. of Public Health (DPH) - Soldiers' Homes    | 1     | 402   |\n+----------+---------------------------------------------------+-------+-------+\n| 0914     | State - Dept of Mental Health                     | 1     | 403   |\n+----------+---------------------------------------------------+-------+-------+\n| 0920     | NON PROFIT                                        | 6     | 404   |\n+----------+---------------------------------------------------+-------+-------+\n| 093      | Mixed Use (Primarily Tax-Exempt, some Commercial) | 29    | 405   |\n+----------+---------------------------------------------------+-------+-------+\n| 0930     | Mixed Use - Commercial Exemption                  | 1     | 406   |\n+----------+---------------------------------------------------+-------+-------+\n| 0931     | Improved, Selectmen or City Council               | 1     | 407   |\n+----------+---------------------------------------------------+-------+-------+\n| 0934     | exempt, commercial and industrial                 | 2     | 408   |\n+----------+---------------------------------------------------+-------+-------+\n| 0938     | Mixed Use (Primarily Exempt, some Residential,    | 1     | 409   |\n|          | some Recreational)                                |       |       |\n+----------+---------------------------------------------------+-------+-------+\n| 094      | Exempt/ Industrial                                | 18    | 410   |\n+----------+---------------------------------------------------+-------+-------+\n| 0940     | School and Industrial Building                    | 2     | 411   |\n+----------+---------------------------------------------------+-------+-------+\n| 0943     | Mixed Use Exempt C                                | 2     | 412   |\n+----------+---------------------------------------------------+-------+-------+\n| 094R     | Mixed Use Exempt R                                | 1     | 413   |\n+----------+---------------------------------------------------+-------+-------+\n| 0956     | MIXED USE EXEMPT                                  | 1     | 414   |\n+----------+---------------------------------------------------+-------+-------+\n| 0960     | mixed use church                                  | 1     | 415   |\n+----------+---------------------------------------------------+-------+-------+\n| 0961     | RES TYPE EXEMPT                                   | 1     | 416   |\n+----------+---------------------------------------------------+-------+-------+\n| 097      | Mixed Use (Primarily Tax-Exempt, some             | 2     | 417   |\n|          | Agriculture)                                      |       |       |\n+----------+---------------------------------------------------+-------+-------+\n| 098      | Vacant, Selectmen or City Council, Other City or  | 1     | 418   |\n|          | Town (Municipal)                                  |       |       |\n+----------+---------------------------------------------------+-------+-------+\n| 099      | Mixed Use (Primarily Tax Exempt)                  | 1     | 419   |\n+----------+---------------------------------------------------+-------+-------+\n"
     ]
    }
   ],
   "source": [
    "print_by_usecode(filtered_use_code_0)"
   ]
  },
  {
   "source": [
    "### USE CODE - Starts with 1\n",
    "Classes"
   ],
   "cell_type": "markdown",
   "metadata": {}
  },
  {
   "cell_type": "code",
   "execution_count": 16,
   "metadata": {},
   "outputs": [
    {
     "output_type": "stream",
     "name": "stdout",
     "text": [
      "+----------+---------------------------------------------------+-------+-------+\n| USE_CODE | USE_DESC                                          | COUNT | INDEX |\n+----------+---------------------------------------------------+-------+-------+\n| 101      | Single Family Residential                         | 1     | 1     |\n+----------+---------------------------------------------------+-------+-------+\n| 102      | Residential Condominium                           | 1     | 2     |\n+----------+---------------------------------------------------+-------+-------+\n| 103      | Mobile Home (includes mobile home park land)      | 1     | 3     |\n+----------+---------------------------------------------------+-------+-------+\n| 104      | Two-Family Residential                            | 1     | 4     |\n+----------+---------------------------------------------------+-------+-------+\n| 105      | Three-Family Residential                          | 1     | 5     |\n+----------+---------------------------------------------------+-------+-------+\n| 106      | Accessory Land with Improvement                   | 1     | 6     |\n+----------+---------------------------------------------------+-------+-------+\n| 107      | (Unknown)                                         | 14    | 7     |\n+----------+---------------------------------------------------+-------+-------+\n| 108      | (Unknown)                                         | 7     | 8     |\n+----------+---------------------------------------------------+-------+-------+\n| 109      | Multiple Houses on one parcel                     | 1     | 9     |\n+----------+---------------------------------------------------+-------+-------+\n| 110      | Trailer Park                                      | 23    | 10    |\n+----------+---------------------------------------------------+-------+-------+\n| 111      | Apartments with Four to Eight Units               | 1     | 11    |\n+----------+---------------------------------------------------+-------+-------+\n| 112      | Apartments with More than Eight Units             | 1     | 12    |\n+----------+---------------------------------------------------+-------+-------+\n| 113      | Apartment with over 100 units                     | 5     | 13    |\n+----------+---------------------------------------------------+-------+-------+\n| 114      | Affordable Housing Units (Greater than 50% of the | 43    | 14    |\n|          | units qualify)                                    |       |       |\n+----------+---------------------------------------------------+-------+-------+\n| 116      | IMPUTED - Residential                             | 1     | 15    |\n+----------+---------------------------------------------------+-------+-------+\n| 117      | IMPUTED - Residential                             | 1     | 16    |\n+----------+---------------------------------------------------+-------+-------+\n| 118      | IMPUTED - Residential                             | 1     | 17    |\n+----------+---------------------------------------------------+-------+-------+\n| 119      | IMPUTED - Residential                             | 1     | 18    |\n+----------+---------------------------------------------------+-------+-------+\n| 120      | Other - R1                                        | 4     | 19    |\n+----------+---------------------------------------------------+-------+-------+\n| 121      | Rooming and Boarding Houses                       | 1     | 20    |\n+----------+---------------------------------------------------+-------+-------+\n| 122      | Fraternity and Sorority Houses                    | 1     | 21    |\n+----------+---------------------------------------------------+-------+-------+\n| 123      | Residence Halls or Dormitories                    | 1     | 22    |\n+----------+---------------------------------------------------+-------+-------+\n| 124      | Rectories, Convents, Monasteries                  | 1     | 23    |\n+----------+---------------------------------------------------+-------+-------+\n| 125      | Other Congregate Housing (includes non-transient  | 1     | 24    |\n|          | shared living arrangements)                       |       |       |\n+----------+---------------------------------------------------+-------+-------+\n| 126      | IMPUTED - Residential                             | 1     | 25    |\n+----------+---------------------------------------------------+-------+-------+\n| 127      | IMPUTED - Residential                             | 1     | 26    |\n+----------+---------------------------------------------------+-------+-------+\n| 128      | IMPUTED - Residential                             | 1     | 27    |\n+----------+---------------------------------------------------+-------+-------+\n| 129      | IMPUTED - Residential                             | 1     | 28    |\n+----------+---------------------------------------------------+-------+-------+\n| 130      | Developable Residential Land                      | 1     | 29    |\n+----------+---------------------------------------------------+-------+-------+\n| 131      | Potentially Developable Residential Land          | 1     | 30    |\n+----------+---------------------------------------------------+-------+-------+\n| 132      | Undevelopable Residential Land                    | 1     | 31    |\n+----------+---------------------------------------------------+-------+-------+\n| 134      | PR RES COM                                        | 8     | 32    |\n+----------+---------------------------------------------------+-------+-------+\n| 135      | RRI RES/COM                                       | 3     | 33    |\n+----------+---------------------------------------------------+-------+-------+\n| 136      | Residience                                        | 4     | 34    |\n+----------+---------------------------------------------------+-------+-------+\n| 137      | Residence                                         | 11    | 35    |\n+----------+---------------------------------------------------+-------+-------+\n| 138      | MixResCom                                         | 3     | 36    |\n+----------+---------------------------------------------------+-------+-------+\n| 140      | Child Care Facility                               | 1     | 37    |\n+----------+---------------------------------------------------+-------+-------+\n| 142      | Day Care                                          | 1     | 38    |\n+----------+---------------------------------------------------+-------+-------+\n| 150      | Garage                                            | 1     | 39    |\n+----------+---------------------------------------------------+-------+-------+\n| 152      | IMPUTED - Residential                             | 1     | 40    |\n+----------+---------------------------------------------------+-------+-------+\n| 160      | IMPUTED - RES 61                                  | 5     | 41    |\n+----------+---------------------------------------------------+-------+-------+\n| 161      | Predom Res/600 R                                  | 1     | 42    |\n+----------+---------------------------------------------------+-------+-------+\n| 163      | Use code not known or nor provided.               | 1     | 43    |\n+----------+---------------------------------------------------+-------+-------+\n| 167      | Mixed use residential; chapter 61 and chapter 61A | 2     | 44    |\n+----------+---------------------------------------------------+-------+-------+\n| 170      | IMPUTED - RES 61A                                 | 6     | 45    |\n+----------+---------------------------------------------------+-------+-------+\n| 171      | Predom Res/700 R                                  | 3     | 46    |\n+----------+---------------------------------------------------+-------+-------+\n| 172      | Other                                             | 2     | 47    |\n+----------+---------------------------------------------------+-------+-------+\n| 173      | Mixed Use (Primarily Residential, some            | 1     | 48    |\n|          | Commercial)                                       |       |       |\n+----------+---------------------------------------------------+-------+-------+\n| 176      | Mixed use residential; chapter 61A and chapter 61 | 4     | 49    |\n+----------+---------------------------------------------------+-------+-------+\n| 178      | Mixed Use (Primarily Residential, some            | 1     | 50    |\n|          | Agriculture, some Forest)                         |       |       |\n+----------+---------------------------------------------------+-------+-------+\n| 180      | Predom Res/800 V                                  | 3     | 51    |\n+----------+---------------------------------------------------+-------+-------+\n| 181      | Predom Res/800 R                                  | 2     | 52    |\n+----------+---------------------------------------------------+-------+-------+\n| 187      | Other                                             | 3     | 53    |\n+----------+---------------------------------------------------+-------+-------+\n| 198      | CNDO-RES-PKG                                      | 1     | 54    |\n+----------+---------------------------------------------------+-------+-------+\n| 199      | Other                                             | 3     | 55    |\n+----------+---------------------------------------------------+-------+-------+\n"
     ]
    }
   ],
   "source": [
    "print_use_code_classes(filtered_use_code_1)"
   ]
  },
  {
   "source": [
    "Details"
   ],
   "cell_type": "markdown",
   "metadata": {}
  },
  {
   "source": [
    "print_by_usecode(filtered_use_code_1)"
   ],
   "cell_type": "code",
   "metadata": {},
   "execution_count": 17,
   "outputs": [
    {
     "output_type": "stream",
     "name": "stdout",
     "text": [
      "+----------+---------------------------------------------------+-------+-------+\n| USE_CODE | USE_DESC                                          | COUNT | INDEX |\n+----------+---------------------------------------------------+-------+-------+\n| 1000     | Unknown [IMPUTED]                                 | 2     | 1     |\n+----------+---------------------------------------------------+-------+-------+\n| 1001     | Planned Development                               | 1     | 2     |\n+----------+---------------------------------------------------+-------+-------+\n| 101      | Single Family Residential                         | 1     | 3     |\n+----------+---------------------------------------------------+-------+-------+\n| 1010     | Single Family Residential                         | 1     | 4     |\n+----------+---------------------------------------------------+-------+-------+\n| 1011     | Single Family - NL                                | 23    | 5     |\n+----------+---------------------------------------------------+-------+-------+\n| 1012     | OCN FT                                            | 25    | 6     |\n+----------+---------------------------------------------------+-------+-------+\n| 1013     | Single Family Residential                         | 65    | 7     |\n+----------+---------------------------------------------------+-------+-------+\n| 1014     | IMPUTED - Single Family Residential               | 19    | 8     |\n+----------+---------------------------------------------------+-------+-------+\n| 1015     | Bungalow                                          | 8     | 9     |\n+----------+---------------------------------------------------+-------+-------+\n| 1016     | ONE FAMILY W/DAYCARE                              | 1     | 10    |\n+----------+---------------------------------------------------+-------+-------+\n| 1017     | Single Family with in-law                         | 3     | 11    |\n+----------+---------------------------------------------------+-------+-------+\n| 1018     | IMPUTED - Single Family Residential               | 2     | 12    |\n+----------+---------------------------------------------------+-------+-------+\n| 101A     | Other                                             | 5     | 13    |\n+----------+---------------------------------------------------+-------+-------+\n| 101B     | 40B Deed Restriction                              | 2     | 14    |\n+----------+---------------------------------------------------+-------+-------+\n| 101C     | ONE FAM                                           | 6     | 15    |\n+----------+---------------------------------------------------+-------+-------+\n| 101F     | Single Family CR                                  | 1     | 16    |\n+----------+---------------------------------------------------+-------+-------+\n| 101H     | Single Family                                     | 2     | 17    |\n+----------+---------------------------------------------------+-------+-------+\n| 101I     | SINGLE FAM MDL R                                  | 3     | 18    |\n+----------+---------------------------------------------------+-------+-------+\n| 101M     | SFR W-INLAW                                       | 3     | 19    |\n+----------+---------------------------------------------------+-------+-------+\n| 101R     | Single family home                                | 2     | 20    |\n+----------+---------------------------------------------------+-------+-------+\n| 101T     | SINGLE FAM M02                                    | 1     | 21    |\n+----------+---------------------------------------------------+-------+-------+\n| 101U     | SINGLE FAM MDL R                                  | 2     | 22    |\n+----------+---------------------------------------------------+-------+-------+\n| 101V     | Single Family - Vacant                            | 19    | 23    |\n+----------+---------------------------------------------------+-------+-------+\n| 102      | Residential Condominium                           | 1     | 24    |\n+----------+---------------------------------------------------+-------+-------+\n| 1020     | Residential Condominium                           | 1     | 25    |\n+----------+---------------------------------------------------+-------+-------+\n| 1021     | Residential Condominium                           | 78    | 26    |\n+----------+---------------------------------------------------+-------+-------+\n| 1022     | CONDO APT MDL-05                                  | 9     | 27    |\n+----------+---------------------------------------------------+-------+-------+\n| 1023     | SmCmplxTwnhse                                     | 8     | 28    |\n+----------+---------------------------------------------------+-------+-------+\n| 1024     | HNC Condo                                         | 2     | 29    |\n+----------+---------------------------------------------------+-------+-------+\n| 1027     | IMPUTED - Residential Condominium                 | 2     | 30    |\n+----------+---------------------------------------------------+-------+-------+\n| 1028     | CNDO-RES-PKG                                      | 1     | 31    |\n+----------+---------------------------------------------------+-------+-------+\n| 1029     | Condo                                             | 2     | 32    |\n+----------+---------------------------------------------------+-------+-------+\n| 102A     | Condo - Affordable                                | 4     | 33    |\n+----------+---------------------------------------------------+-------+-------+\n| 102C     | Condominium NL MDL-94                             | 2     | 34    |\n+----------+---------------------------------------------------+-------+-------+\n| 102G     | RESCNDOGAR                                        | 1     | 35    |\n+----------+---------------------------------------------------+-------+-------+\n| 102H     | HFH Condo                                         | 1     | 36    |\n+----------+---------------------------------------------------+-------+-------+\n| 102I     | Condominium NL MDL-96                             | 1     | 37    |\n+----------+---------------------------------------------------+-------+-------+\n| 102L     | Condo with Land                                   | 1     | 38    |\n+----------+---------------------------------------------------+-------+-------+\n| 102M     | Other                                             | 1     | 39    |\n+----------+---------------------------------------------------+-------+-------+\n| 102P     | Outbuildings                                      | 1     | 40    |\n+----------+---------------------------------------------------+-------+-------+\n| 102R     | Condo - Res                                       | 10    | 41    |\n+----------+---------------------------------------------------+-------+-------+\n| 102U     | CONDO NL MDL-05                                   | 4     | 42    |\n+----------+---------------------------------------------------+-------+-------+\n| 102V     | Condo - Vacant                                    | 27    | 43    |\n+----------+---------------------------------------------------+-------+-------+\n| 103      | Mobile Home (includes mobile home park land)      | 1     | 44    |\n+----------+---------------------------------------------------+-------+-------+\n| 1030     | Mobile Home (includes mobile home park land)      | 1     | 45    |\n+----------+---------------------------------------------------+-------+-------+\n| 1031     | Trailer MDL-02                                    | 8     | 46    |\n+----------+---------------------------------------------------+-------+-------+\n| 1032     | Two Family                                        | 6     | 47    |\n+----------+---------------------------------------------------+-------+-------+\n| 1034     | Mobile Home (includes mobile home park land)      | 2     | 48    |\n+----------+---------------------------------------------------+-------+-------+\n| 1035     | MHP/ House                                        | 1     | 49    |\n+----------+---------------------------------------------------+-------+-------+\n| 103A     | Trailer Mdl-00                                    | 1     | 50    |\n+----------+---------------------------------------------------+-------+-------+\n| 103C     | Local Use Code Variation for tracking and         | 6     | 51    |\n|          | administrative purposes, Same as \"1030\".          |       |       |\n+----------+---------------------------------------------------+-------+-------+\n| 103I     | Two Family                                        | 3     | 52    |\n+----------+---------------------------------------------------+-------+-------+\n| 103M     | Mobile Home (includes mobile home park land)      | 1     | 53    |\n+----------+---------------------------------------------------+-------+-------+\n| 103P     | Mobile Home Park                                  | 1     | 54    |\n+----------+---------------------------------------------------+-------+-------+\n| 103R     | Mobile Hom                                        | 5     | 55    |\n+----------+---------------------------------------------------+-------+-------+\n| 103V     | Local Use Code Variation for tracking and         | 12    | 56    |\n|          | administrative purposes, Same as \"1030\".          |       |       |\n+----------+---------------------------------------------------+-------+-------+\n| 104      | Two-Family Residential                            | 1     | 57    |\n+----------+---------------------------------------------------+-------+-------+\n| 1040     | Two-Family Residential                            | 1     | 58    |\n+----------+---------------------------------------------------+-------+-------+\n| 1041     | Two-Family Residential                            | 20    | 59    |\n+----------+---------------------------------------------------+-------+-------+\n| 1042     | TWO FAM W/IN-LAW                                  | 1     | 60    |\n+----------+---------------------------------------------------+-------+-------+\n| 1043     | TWO FAM WATE                                      | 4     | 61    |\n+----------+---------------------------------------------------+-------+-------+\n| 1045     | Two Fam In Law                                    | 1     | 62    |\n+----------+---------------------------------------------------+-------+-------+\n| 1048     | 2 Family Host                                     | 1     | 63    |\n+----------+---------------------------------------------------+-------+-------+\n| 104A     | Other                                             | 1     | 64    |\n+----------+---------------------------------------------------+-------+-------+\n| 104C     | TWO FAM                                           | 2     | 65    |\n+----------+---------------------------------------------------+-------+-------+\n| 104D     | Single Family                                     | 1     | 66    |\n+----------+---------------------------------------------------+-------+-------+\n| 104M     | TWO FAMILY  MDL-03                                | 4     | 67    |\n+----------+---------------------------------------------------+-------+-------+\n| 104R     | IMPUTED - Two Family Residential                  | 6     | 68    |\n+----------+---------------------------------------------------+-------+-------+\n| 104U     | TWO FAMILY MDL R                                  | 2     | 69    |\n+----------+---------------------------------------------------+-------+-------+\n| 104V     | TWO FAMILY  MDL-00                                | 3     | 70    |\n+----------+---------------------------------------------------+-------+-------+\n| 105      | Three-Family Residential                          | 1     | 71    |\n+----------+---------------------------------------------------+-------+-------+\n| 1050     | Three-Family Residential                          | 1     | 72    |\n+----------+---------------------------------------------------+-------+-------+\n| 1051     | THREE FAM                                         | 5     | 73    |\n+----------+---------------------------------------------------+-------+-------+\n| 1052     | THREE FAM W/IN-LAW                                | 1     | 74    |\n+----------+---------------------------------------------------+-------+-------+\n| 1053     | THREE FAM WTR                                     | 2     | 75    |\n+----------+---------------------------------------------------+-------+-------+\n| 1058     | 3 Family Host                                     | 1     | 76    |\n+----------+---------------------------------------------------+-------+-------+\n| 105C     | THREE FAM MDL- R                                  | 5     | 77    |\n+----------+---------------------------------------------------+-------+-------+\n| 105M     | Three Family Residence                            | 2     | 78    |\n+----------+---------------------------------------------------+-------+-------+\n| 105R     | IMPUTED - Three Family Residential                | 2     | 79    |\n+----------+---------------------------------------------------+-------+-------+\n| 106      | Accessory Land with Improvement                   | 1     | 80    |\n+----------+---------------------------------------------------+-------+-------+\n| 1060     | Accessory Land with Improvement                   | 1     | 81    |\n+----------+---------------------------------------------------+-------+-------+\n| 1061     | Accessory Land with Improvement                   | 5     | 82    |\n+----------+---------------------------------------------------+-------+-------+\n| 1062     | RES LND-IMP UNDEV                                 | 1     | 83    |\n+----------+---------------------------------------------------+-------+-------+\n| 1063     | AC IMP WTR                                        | 3     | 84    |\n+----------+---------------------------------------------------+-------+-------+\n| 1067     | RES-COV-PKG                                       | 1     | 85    |\n+----------+---------------------------------------------------+-------+-------+\n| 1068     | IMP Host                                          | 1     | 86    |\n+----------+---------------------------------------------------+-------+-------+\n| 106C     | Residential ? Accessory Land with improvements    | 5     | 87    |\n+----------+---------------------------------------------------+-------+-------+\n| 106G     | Accessory Land with Improvement                   | 1     | 88    |\n+----------+---------------------------------------------------+-------+-------+\n| 106I     | AC LND IMP MDL                                    | 3     | 89    |\n+----------+---------------------------------------------------+-------+-------+\n| 106R     | OB - Res                                          | 4     | 90    |\n+----------+---------------------------------------------------+-------+-------+\n| 106V     | AC LND IMP MDL-00                                 | 22    | 91    |\n+----------+---------------------------------------------------+-------+-------+\n| 107      | (Unknown)                                         | 14    | 92    |\n+----------+---------------------------------------------------+-------+-------+\n| 1070     | SFRACCAPT R                                       | 14    | 93    |\n+----------+---------------------------------------------------+-------+-------+\n| 1073     | Cooperative Water Front M01                       | 1     | 94    |\n+----------+---------------------------------------------------+-------+-------+\n| 107V     | Coopertive Water Front M00                        | 2     | 95    |\n+----------+---------------------------------------------------+-------+-------+\n| 108      | (Unknown)                                         | 7     | 96    |\n+----------+---------------------------------------------------+-------+-------+\n| 1080     | Accessory Land with Improvement                   | 5     | 97    |\n+----------+---------------------------------------------------+-------+-------+\n| 109      | Multiple Houses on one parcel                     | 1     | 98    |\n+----------+---------------------------------------------------+-------+-------+\n| 1090     | Multiple Houses on one parcel                     | 1     | 99    |\n+----------+---------------------------------------------------+-------+-------+\n| 1091     | Ranch                                             | 18    | 100   |\n+----------+---------------------------------------------------+-------+-------+\n| 1092     | Multiple Houses on one parcel                     | 4     | 101   |\n+----------+---------------------------------------------------+-------+-------+\n| 1093     | MULTI HS WAT                                      | 6     | 102   |\n+----------+---------------------------------------------------+-------+-------+\n| 1094     | MULT-RES-2FAM                                     | 1     | 103   |\n+----------+---------------------------------------------------+-------+-------+\n| 1095     | MULT-RES-3FAM                                     | 1     | 104   |\n+----------+---------------------------------------------------+-------+-------+\n| 1098     | MULT-RES-4-8-APT                                  | 1     | 105   |\n+----------+---------------------------------------------------+-------+-------+\n| 1099     | RES NO VALUE                                      | 2     | 106   |\n+----------+---------------------------------------------------+-------+-------+\n| 109C     | MULT HS                                           | 6     | 107   |\n+----------+---------------------------------------------------+-------+-------+\n| 109M     | MULTI HSES  MDL-03                                | 3     | 108   |\n+----------+---------------------------------------------------+-------+-------+\n| 109R     | IMPUTED - Multiple Houses on one parcel           | 6     | 109   |\n+----------+---------------------------------------------------+-------+-------+\n| 109T     | MULTI HSE MDL-02                                  | 4     | 110   |\n+----------+---------------------------------------------------+-------+-------+\n| 109V     | MULTI HSES MDL R                                  | 4     | 111   |\n+----------+---------------------------------------------------+-------+-------+\n| 110      | Trailer Park                                      | 23    | 112   |\n+----------+---------------------------------------------------+-------+-------+\n| 1100     | TRLR PK                                           | 2     | 113   |\n+----------+---------------------------------------------------+-------+-------+\n| 111      | Apartments with Four to Eight Units               | 1     | 114   |\n+----------+---------------------------------------------------+-------+-------+\n| 1110     | Apartments with Four to Eight Units               | 1     | 115   |\n+----------+---------------------------------------------------+-------+-------+\n| 1111     | APT 8+UP  MDL-03                                  | 23    | 116   |\n+----------+---------------------------------------------------+-------+-------+\n| 1112     | Use code not known or nor provided.               | 11    | 117   |\n+----------+---------------------------------------------------+-------+-------+\n| 1113     | Apartments                                        | 3     | 118   |\n+----------+---------------------------------------------------+-------+-------+\n| 1114     | IMPUTED - Apartments with Four to Eight Units     | 1     | 119   |\n+----------+---------------------------------------------------+-------+-------+\n| 111B     | NOT USED                                          | 1     | 120   |\n+----------+---------------------------------------------------+-------+-------+\n| 111C     | Apt 4 - 8 Com                                     | 47    | 121   |\n+----------+---------------------------------------------------+-------+-------+\n| 111E     | Four to Eight Units                               | 1     | 122   |\n+----------+---------------------------------------------------+-------+-------+\n| 111F     | Apartments with Four to Eight Units               | 1     | 123   |\n+----------+---------------------------------------------------+-------+-------+\n| 111I     | APT 4-UNT  MDL-96                                 | 2     | 124   |\n+----------+---------------------------------------------------+-------+-------+\n| 111J     | Use code not known or nor provided.               | 1     | 125   |\n+----------+---------------------------------------------------+-------+-------+\n| 111M     | Aptartment 4-8 units, res type                    | 4     | 126   |\n+----------+---------------------------------------------------+-------+-------+\n| 111R     | APT 4-7UNT  MDL-01                                | 5     | 127   |\n+----------+---------------------------------------------------+-------+-------+\n| 111V     | APT 4-8 UN MDL R                                  | 3     | 128   |\n+----------+---------------------------------------------------+-------+-------+\n| 111X     | APT BLDG CONDO                                    | 1     | 129   |\n+----------+---------------------------------------------------+-------+-------+\n| 112      | Apartments with More than Eight Units             | 1     | 130   |\n+----------+---------------------------------------------------+-------+-------+\n| 1120     | Apartments with More than Eight Units             | 1     | 131   |\n+----------+---------------------------------------------------+-------+-------+\n| 1121     | Apartments with More than Eight Units             | 6     | 132   |\n+----------+---------------------------------------------------+-------+-------+\n| 1123     | Apt 9 and Up C                                    | 1     | 133   |\n+----------+---------------------------------------------------+-------+-------+\n| 1124     | Apt 9 Units & Up Subs                             | 5     | 134   |\n+----------+---------------------------------------------------+-------+-------+\n| 1125     | Apt Subsidized C                                  | 1     | 135   |\n+----------+---------------------------------------------------+-------+-------+\n| 1126     | More than eight units apartment bldg              | 1     | 136   |\n+----------+---------------------------------------------------+-------+-------+\n| 1129     | assisted living                                   | 1     | 137   |\n+----------+---------------------------------------------------+-------+-------+\n| 112A     | Condo, other                                      | 1     | 138   |\n+----------+---------------------------------------------------+-------+-------+\n| 112B     | APT LAND W/BLDG                                   | 1     | 139   |\n+----------+---------------------------------------------------+-------+-------+\n| 112C     | Apt 8+ Com                                        | 39    | 140   |\n+----------+---------------------------------------------------+-------+-------+\n| 112I     | Apt 8 - NL                                        | 5     | 141   |\n+----------+---------------------------------------------------+-------+-------+\n| 112M     | Aptartment over 8 units, res type                 | 4     | 142   |\n+----------+---------------------------------------------------+-------+-------+\n| 112R     | Apartments with More than Eight Units Residential | 8     | 143   |\n+----------+---------------------------------------------------+-------+-------+\n| 112V     | APT OVER 8                                        | 6     | 144   |\n+----------+---------------------------------------------------+-------+-------+\n| 113      | Apartment with over 100 units                     | 5     | 145   |\n+----------+---------------------------------------------------+-------+-------+\n| 1130     | IMPUTED - Residential                             | 1     | 146   |\n+----------+---------------------------------------------------+-------+-------+\n| 113C     | MDL-94                                            | 2     | 147   |\n+----------+---------------------------------------------------+-------+-------+\n| 114      | Affordable Housing Units (Greater than 50% of the | 43    | 148   |\n|          | units qualify)                                    |       |       |\n+----------+---------------------------------------------------+-------+-------+\n| 1140     | Affordable Housing Units (Greater than 50% of the | 39    | 149   |\n|          | units qualify)                                    |       |       |\n+----------+---------------------------------------------------+-------+-------+\n| 114C     | APT Afford OV 8                                   | 1     | 150   |\n+----------+---------------------------------------------------+-------+-------+\n| 116      | IMPUTED - Residential                             | 1     | 151   |\n+----------+---------------------------------------------------+-------+-------+\n| 1160     | IMPUTED - Residential                             | 1     | 152   |\n+----------+---------------------------------------------------+-------+-------+\n| 117      | IMPUTED - Residential                             | 1     | 153   |\n+----------+---------------------------------------------------+-------+-------+\n| 1170     | IMPUTED - Residential                             | 1     | 154   |\n+----------+---------------------------------------------------+-------+-------+\n| 118      | IMPUTED - Residential                             | 1     | 155   |\n+----------+---------------------------------------------------+-------+-------+\n| 1180     | IMPUTED - Residential                             | 1     | 156   |\n+----------+---------------------------------------------------+-------+-------+\n| 119      | IMPUTED - Residential                             | 1     | 157   |\n+----------+---------------------------------------------------+-------+-------+\n| 1190     | IMPUTED - Residential                             | 1     | 158   |\n+----------+---------------------------------------------------+-------+-------+\n| 120      | Other - R1                                        | 4     | 159   |\n+----------+---------------------------------------------------+-------+-------+\n| 1200     | Inn - Res                                         | 4     | 160   |\n+----------+---------------------------------------------------+-------+-------+\n| 120C     | Inn - Com                                         | 3     | 161   |\n+----------+---------------------------------------------------+-------+-------+\n| 120V     | INN/B&B                                           | 2     | 162   |\n+----------+---------------------------------------------------+-------+-------+\n| 121      | Rooming and Boarding Houses                       | 1     | 163   |\n+----------+---------------------------------------------------+-------+-------+\n| 1210     | Rooming and Boarding Houses                       | 1     | 164   |\n+----------+---------------------------------------------------+-------+-------+\n| 1211     | Boarding House                                    | 3     | 165   |\n+----------+---------------------------------------------------+-------+-------+\n| 1212     | Boarding House C                                  | 1     | 166   |\n+----------+---------------------------------------------------+-------+-------+\n| 121C     | Room Board House                                  | 4     | 167   |\n+----------+---------------------------------------------------+-------+-------+\n| 122      | Fraternity and Sorority Houses                    | 1     | 168   |\n+----------+---------------------------------------------------+-------+-------+\n| 1220     | Fraternity and Sorority Houses                    | 1     | 169   |\n+----------+---------------------------------------------------+-------+-------+\n| 122C     | Frat/Sorority - Com                               | 3     | 170   |\n+----------+---------------------------------------------------+-------+-------+\n| 123      | Residence Halls or Dormitories                    | 1     | 171   |\n+----------+---------------------------------------------------+-------+-------+\n| 1230     | Residence Halls or Dormitories                    | 1     | 172   |\n+----------+---------------------------------------------------+-------+-------+\n| 1231     | 1231                                              | 1     | 173   |\n+----------+---------------------------------------------------+-------+-------+\n| 123C     | IMPUTED - Residence Halls or Dormitories          | 1     | 174   |\n+----------+---------------------------------------------------+-------+-------+\n| 124      | Rectories, Convents, Monasteries                  | 1     | 175   |\n+----------+---------------------------------------------------+-------+-------+\n| 1240     | Rectories, Convents, Monasteries                  | 1     | 176   |\n+----------+---------------------------------------------------+-------+-------+\n| 125      | Other Congregate Housing (includes non-transient  | 1     | 177   |\n|          | shared living arrangements)                       |       |       |\n+----------+---------------------------------------------------+-------+-------+\n| 1250     | Other Congregate Housing (includes non-transient  | 1     | 178   |\n|          | shared living arrangements)                       |       |       |\n+----------+---------------------------------------------------+-------+-------+\n| 1251     | ASSIST LIV RES                                    | 4     | 179   |\n+----------+---------------------------------------------------+-------+-------+\n| 1252     | IMPUTED - Other Congregate Housing (includes non- | 2     | 180   |\n|          | transient shared living arrangements)             |       |       |\n+----------+---------------------------------------------------+-------+-------+\n| 1259     | Bed & Breakfasts                                  | 1     | 181   |\n+----------+---------------------------------------------------+-------+-------+\n| 125C     | Othr Liv F  Com                                   | 11    | 182   |\n+----------+---------------------------------------------------+-------+-------+\n| 125R     | CONGREGATE HOUSING                                | 1     | 183   |\n+----------+---------------------------------------------------+-------+-------+\n| 125U     | OTHR LIV F                                        | 2     | 184   |\n+----------+---------------------------------------------------+-------+-------+\n| 126      | IMPUTED - Residential                             | 1     | 185   |\n+----------+---------------------------------------------------+-------+-------+\n| 1260     | Bed & Brkf                                        | 2     | 186   |\n+----------+---------------------------------------------------+-------+-------+\n| 126C     | ASSISTED LIVING                                   | 1     | 187   |\n+----------+---------------------------------------------------+-------+-------+\n| 126R     | ASSISTED LIVING                                   | 1     | 188   |\n+----------+---------------------------------------------------+-------+-------+\n| 127      | IMPUTED - Residential                             | 1     | 189   |\n+----------+---------------------------------------------------+-------+-------+\n| 1270     | IMIPUTED - Residential                            | 1     | 190   |\n+----------+---------------------------------------------------+-------+-------+\n| 128      | IMPUTED - Residential                             | 1     | 191   |\n+----------+---------------------------------------------------+-------+-------+\n| 1280     | IMPUTED - Residential                             | 1     | 192   |\n+----------+---------------------------------------------------+-------+-------+\n| 129      | IMPUTED - Residential                             | 1     | 193   |\n+----------+---------------------------------------------------+-------+-------+\n| 1290     | IMPUTED - Residential                             | 1     | 194   |\n+----------+---------------------------------------------------+-------+-------+\n| 130      | Developable Residential Land                      | 1     | 195   |\n+----------+---------------------------------------------------+-------+-------+\n| 1300     | Developable Residential Land                      | 1     | 196   |\n+----------+---------------------------------------------------+-------+-------+\n| 1301     | VACANT LAND DEV V                                 | 3     | 197   |\n+----------+---------------------------------------------------+-------+-------+\n| 1303     | DEV LAND WTR                                      | 4     | 198   |\n+----------+---------------------------------------------------+-------+-------+\n| 1306     | IMPUTED - Developable Residential Land            | 1     | 199   |\n+----------+---------------------------------------------------+-------+-------+\n| 130I     | Unknown                                           | 1     | 200   |\n+----------+---------------------------------------------------+-------+-------+\n| 130R     | Developable Residential Land                      | 6     | 201   |\n+----------+---------------------------------------------------+-------+-------+\n| 130V     | RES ACLNDV MDL-00                                 | 5     | 202   |\n+----------+---------------------------------------------------+-------+-------+\n| 131      | Potentially Developable Residential Land          | 1     | 203   |\n+----------+---------------------------------------------------+-------+-------+\n| 1310     | Potentially Developable Residential Land          | 1     | 204   |\n+----------+---------------------------------------------------+-------+-------+\n| 1311     | Vacant Land Owned by an Abutter                   | 2     | 205   |\n+----------+---------------------------------------------------+-------+-------+\n| 1313     | P DEV LAND WTR                                    | 4     | 206   |\n+----------+---------------------------------------------------+-------+-------+\n| 131R     | VAC RESD LAND POT                                 | 1     | 207   |\n+----------+---------------------------------------------------+-------+-------+\n| 131V     | RES ACLNDV MDL                                    | 4     | 208   |\n+----------+---------------------------------------------------+-------+-------+\n| 132      | Undevelopable Residential Land                    | 1     | 209   |\n+----------+---------------------------------------------------+-------+-------+\n| 1320     | Undevelopable Residential Land                    | 1     | 210   |\n+----------+---------------------------------------------------+-------+-------+\n| 1321     | RES C RES                                         | 4     | 211   |\n+----------+---------------------------------------------------+-------+-------+\n| 1322     | Undevelopable Residential Land                    | 4     | 212   |\n+----------+---------------------------------------------------+-------+-------+\n| 1323     | UNDEV LAND WATER                                  | 3     | 213   |\n+----------+---------------------------------------------------+-------+-------+\n| 1325     | RES CR                                            | 2     | 214   |\n+----------+---------------------------------------------------+-------+-------+\n| 1327     | RES COMMON                                        | 1     | 215   |\n+----------+---------------------------------------------------+-------+-------+\n| 132B     | Unbuildable Land - B stands for Beach Parking     | 1     | 216   |\n+----------+---------------------------------------------------+-------+-------+\n| 132C     | Undevelopable Residential Land                    | 1     | 217   |\n+----------+---------------------------------------------------+-------+-------+\n| 132R     | IMPUTED - Undevelopable Residential Land          | 1     | 218   |\n+----------+---------------------------------------------------+-------+-------+\n| 132U     | IMPUTED - Undevelopable Residential Land          | 1     | 219   |\n+----------+---------------------------------------------------+-------+-------+\n| 132V     | RES ACLNDV MDL                                    | 3     | 220   |\n+----------+---------------------------------------------------+-------+-------+\n| 1333     | Unbuildable Water Front PF Wet                    | 1     | 221   |\n+----------+---------------------------------------------------+-------+-------+\n| 134      | PR RES COM                                        | 8     | 222   |\n+----------+---------------------------------------------------+-------+-------+\n| 1340     | OFC RES LND                                       | 2     | 223   |\n+----------+---------------------------------------------------+-------+-------+\n| 135      | RRI RES/COM                                       | 3     | 224   |\n+----------+---------------------------------------------------+-------+-------+\n| 136      | Residience                                        | 4     | 225   |\n+----------+---------------------------------------------------+-------+-------+\n| 137      | Residence                                         | 11    | 226   |\n+----------+---------------------------------------------------+-------+-------+\n| 138      | MixResCom                                         | 3     | 227   |\n+----------+---------------------------------------------------+-------+-------+\n| 140      | Child Care Facility                               | 1     | 228   |\n+----------+---------------------------------------------------+-------+-------+\n| 1400     | Child Care Facility                               | 1     | 229   |\n+----------+---------------------------------------------------+-------+-------+\n| 1401     | Local Use Code Variation for tracking and         | 5     | 230   |\n|          | administrative purposes, Same as \"1400\".          |       |       |\n+----------+---------------------------------------------------+-------+-------+\n| 140C     | CHILD CARE C                                      | 16    | 231   |\n+----------+---------------------------------------------------+-------+-------+\n| 140I     | Child Care Facility                               | 2     | 232   |\n+----------+---------------------------------------------------+-------+-------+\n| 140R     | IMPUTED - Child Care Facility                     | 3     | 233   |\n+----------+---------------------------------------------------+-------+-------+\n| 142      | Day Care                                          | 1     | 234   |\n+----------+---------------------------------------------------+-------+-------+\n| 150      | Garage                                            | 1     | 235   |\n+----------+---------------------------------------------------+-------+-------+\n| 1500     | MOBILE HOME PARK                                  | 1     | 236   |\n+----------+---------------------------------------------------+-------+-------+\n| 1501     | MBL HM PK MDL-94                                  | 1     | 237   |\n+----------+---------------------------------------------------+-------+-------+\n| 1502     | MBL HM PK MDL-96                                  | 1     | 238   |\n+----------+---------------------------------------------------+-------+-------+\n| 1503     | MBL HM PK MDL-01                                  | 1     | 239   |\n+----------+---------------------------------------------------+-------+-------+\n| 1504     | MBL HM PK MDL 00                                  | 1     | 240   |\n+----------+---------------------------------------------------+-------+-------+\n| 152      | IMPUTED - Residential                             | 1     | 241   |\n+----------+---------------------------------------------------+-------+-------+\n| 1520     | IMPUTED - Residential                             | 1     | 242   |\n+----------+---------------------------------------------------+-------+-------+\n| 160      | IMPUTED - RES 61                                  | 5     | 243   |\n+----------+---------------------------------------------------+-------+-------+\n| 161      | Predom Res/600 R                                  | 1     | 244   |\n+----------+---------------------------------------------------+-------+-------+\n| 163      | Use code not known or nor provided.               | 1     | 245   |\n+----------+---------------------------------------------------+-------+-------+\n| 167      | Mixed use residential; chapter 61 and chapter 61A | 2     | 246   |\n+----------+---------------------------------------------------+-------+-------+\n| 170      | IMPUTED - RES 61A                                 | 6     | 247   |\n+----------+---------------------------------------------------+-------+-------+\n| 171      | Predom Res/700 R                                  | 3     | 248   |\n+----------+---------------------------------------------------+-------+-------+\n| 172      | Other                                             | 2     | 249   |\n+----------+---------------------------------------------------+-------+-------+\n| 173      | Mixed Use (Primarily Residential, some            | 1     | 250   |\n|          | Commercial)                                       |       |       |\n+----------+---------------------------------------------------+-------+-------+\n| 176      | Mixed use residential; chapter 61A and chapter 61 | 4     | 251   |\n+----------+---------------------------------------------------+-------+-------+\n| 178      | Mixed Use (Primarily Residential, some            | 1     | 252   |\n|          | Agriculture, some Forest)                         |       |       |\n+----------+---------------------------------------------------+-------+-------+\n| 180      | Predom Res/800 V                                  | 3     | 253   |\n+----------+---------------------------------------------------+-------+-------+\n| 181      | Predom Res/800 R                                  | 2     | 254   |\n+----------+---------------------------------------------------+-------+-------+\n| 187      | Other                                             | 3     | 255   |\n+----------+---------------------------------------------------+-------+-------+\n| 198      | CNDO-RES-PKG                                      | 1     | 256   |\n+----------+---------------------------------------------------+-------+-------+\n| 1980     | Unknown [IMPUTED]                                 | 1     | 257   |\n+----------+---------------------------------------------------+-------+-------+\n| 199      | Other                                             | 3     | 258   |\n+----------+---------------------------------------------------+-------+-------+\n| 1990     | Res                                               | 1     | 259   |\n+----------+---------------------------------------------------+-------+-------+\n"
     ]
    }
   ]
  },
  {
   "source": [
    "### USE CODE - Starts with 9\n",
    "Classes"
   ],
   "cell_type": "markdown",
   "metadata": {}
  },
  {
   "source": [
    "print_use_code_classes(filtered_use_code_9)"
   ],
   "cell_type": "code",
   "metadata": {},
   "execution_count": 18,
   "outputs": [
    {
     "output_type": "stream",
     "name": "stdout",
     "text": [
      "+----------+---------------------------------------------------+-------+-------+\n| USE_CODE | USE_DESC                                          | COUNT | INDEX |\n+----------+---------------------------------------------------+-------+-------+\n| 900      | United States Government                          | 1     | 1     |\n+----------+---------------------------------------------------+-------+-------+\n| 901      | (formerly Commonwealth of Massachusetts.  Removed | 1     | 2     |\n|          | June 2009.)                                       |       |       |\n+----------+---------------------------------------------------+-------+-------+\n| 902      | (formerly Counties.  Removed June 2009.)          | 1     | 3     |\n+----------+---------------------------------------------------+-------+-------+\n| 903      | (formerly Municipalities/Districts.  Removed June | 1     | 4     |\n|          | 2009.)                                            |       |       |\n+----------+---------------------------------------------------+-------+-------+\n| 904      | (formerly Colleges, Schools(private).  Removed    | 1     | 5     |\n|          | June 2009. )                                      |       |       |\n+----------+---------------------------------------------------+-------+-------+\n| 905      | (formerly Charitable Organizations (private       | 1     | 6     |\n|          | hospitals, etc...).  Removed June 2009. )         |       |       |\n+----------+---------------------------------------------------+-------+-------+\n| 906      | (formerly Religious Organizations.  Removed June  | 1     | 7     |\n|          | 2009.)                                            |       |       |\n+----------+---------------------------------------------------+-------+-------+\n| 907      | (formerly 121A Corporations.  Removed June 2009.) | 1     | 8     |\n+----------+---------------------------------------------------+-------+-------+\n| 908      | (formerly Housing Authority.  Removed June 2009.) | 1     | 9     |\n+----------+---------------------------------------------------+-------+-------+\n| 909      | Exempt                                            | 26    | 10    |\n+----------+---------------------------------------------------+-------+-------+\n| 910      | Dept. of Conservation and Recreation (DCR),       | 1     | 11    |\n|          | Division of State Parks and Recreation            |       |       |\n+----------+---------------------------------------------------+-------+-------+\n| 911      | Dept. of Fish and Game (DFG) -- formerly Division | 2     | 12    |\n|          | of Fisheries and Wildlife, Environmental Law      |       |       |\n|          | Enforcement (DFWELE)                              |       |       |\n+----------+---------------------------------------------------+-------+-------+\n| 912      | Dept. of Corrections (DOC) - Division of Youth    | 1     | 13    |\n|          | Services                                          |       |       |\n+----------+---------------------------------------------------+-------+-------+\n| 913      | Dept. of Public Health (DPH) - Soldiers' Homes    | 1     | 14    |\n+----------+---------------------------------------------------+-------+-------+\n| 914      | Dept. of Mental Health (DMH) - Dept. of Mental    | 1     | 15    |\n|          | Retardation                                       |       |       |\n+----------+---------------------------------------------------+-------+-------+\n| 915      | Dept. of Conservation and Recreation (DCR) -      | 1     | 16    |\n|          | Division of Water Supply Protection               |       |       |\n+----------+---------------------------------------------------+-------+-------+\n| 916      | Military Division - Campgrounds                   | 1     | 17    |\n+----------+---------------------------------------------------+-------+-------+\n| 917      | Dept. of Education (DOE) - UMass., State          | 1     | 18    |\n|          | Colleges, Community Colleges                      |       |       |\n+----------+---------------------------------------------------+-------+-------+\n| 918      | Dept. of Environmental Protection (DEP) - Low-    | 1     | 19    |\n|          | level Radioactive Waste Management Board          |       |       |\n+----------+---------------------------------------------------+-------+-------+\n| 919      | Comm. Of Mass. (Other)                            | 1     | 20    |\n+----------+---------------------------------------------------+-------+-------+\n| 920      | Dept. of Conservation and Recreation (DCR) -      | 1     | 21    |\n|          | Division of Urban Parks and Recreation (non-      |       |       |\n|          | reimbursable)                                     |       |       |\n+----------+---------------------------------------------------+-------+-------+\n| 921      | Dept. of Fish and Game, Environmental Law         | 2     | 22    |\n|          | Enforcement (DFG, formerly DFWELE) (non-          |       |       |\n|          | reimbursable)                                     |       |       |\n+----------+---------------------------------------------------+-------+-------+\n| 922      | Dept. of Corrections (DOC) - Division of Youth    | 1     | 23    |\n|          | Services,Mass. Military,State Police,Sheriffs'    |       |       |\n|          | Depts. (non-reimbursable)                         |       |       |\n+----------+---------------------------------------------------+-------+-------+\n| 923      | Dept. of Public Health (DPH) - Soldiers' Homes,   | 1     | 24    |\n|          | Dept. of Mental Health (DMH) - Dept. of Mental    |       |       |\n|          | Retardation (non-reimburs                         |       |       |\n+----------+---------------------------------------------------+-------+-------+\n| 924      | Mass. Highway Dept. (MHD) (non-reimbursable)      | 1     | 25    |\n+----------+---------------------------------------------------+-------+-------+\n| 925      | Dept. of Conservation and Recreation (DCR) -      | 1     | 26    |\n|          | Division of Water Supply Protection, Urban Parks  |       |       |\n|          | (non-reimbursable)                                |       |       |\n+----------+---------------------------------------------------+-------+-------+\n| 926      | Judiciary (non-reimbursable)                      | 1     | 27    |\n+----------+---------------------------------------------------+-------+-------+\n| 927      | Dept. of Education (DOE) - UMass., State          | 1     | 28    |\n|          | Colleges, Community Colleges (non-reimbursable)   |       |       |\n+----------+---------------------------------------------------+-------+-------+\n| 928      | Division of Capital Asset Management (DCAM) -     | 1     | 29    |\n|          | Bureau of State Office Buildings (non-            |       |       |\n|          | reimbursable)                                     |       |       |\n+----------+---------------------------------------------------+-------+-------+\n| 929      | Comm. Of Mass. (Other, non-reimbursable)          | 1     | 30    |\n+----------+---------------------------------------------------+-------+-------+\n| 930      | Vacant, Selectmen or City Council (Municipal)     | 1     | 31    |\n+----------+---------------------------------------------------+-------+-------+\n| 931      | Improved, Selectmen or City Council (Municipal)   | 1     | 32    |\n+----------+---------------------------------------------------+-------+-------+\n| 932      | Vacant, Conservation (Municipal or County)        | 1     | 33    |\n+----------+---------------------------------------------------+-------+-------+\n| 933      | Vacant, Education (Municipal or County)           | 1     | 34    |\n+----------+---------------------------------------------------+-------+-------+\n| 934      | Improved, Education (Municipal or County)         | 1     | 35    |\n+----------+---------------------------------------------------+-------+-------+\n| 935      | Improved, Municipal Public Safety                 | 1     | 36    |\n+----------+---------------------------------------------------+-------+-------+\n| 936      | Vacant, Tax Title/Treasurer                       | 1     | 37    |\n+----------+---------------------------------------------------+-------+-------+\n| 937      | Improved, Tax Title/Treasurer                     | 1     | 38    |\n+----------+---------------------------------------------------+-------+-------+\n| 938      | Vacant, District (County)                         | 1     | 39    |\n+----------+---------------------------------------------------+-------+-------+\n| 939      | Improved, District (County)                       | 1     | 40    |\n+----------+---------------------------------------------------+-------+-------+\n| 940      | Elementary Level (Educational Private)            | 1     | 41    |\n+----------+---------------------------------------------------+-------+-------+\n| 941      | Secondary Level (Educational Private)             | 1     | 42    |\n+----------+---------------------------------------------------+-------+-------+\n| 942      | College or University (Educational Private)       | 1     | 43    |\n+----------+---------------------------------------------------+-------+-------+\n| 943      | Other Educational (Educational Private)           | 1     | 44    |\n+----------+---------------------------------------------------+-------+-------+\n| 944      | Auxiliary Athletic (Educational Private)          | 1     | 45    |\n+----------+---------------------------------------------------+-------+-------+\n| 945      | Affiliated Housing (Educational Private)          | 1     | 46    |\n+----------+---------------------------------------------------+-------+-------+\n| 946      | Vacant (Educational Private)                      | 1     | 47    |\n+----------+---------------------------------------------------+-------+-------+\n| 947      | Other (Educational Private)                       | 1     | 48    |\n+----------+---------------------------------------------------+-------+-------+\n| 948      | Pilot Tax Agreement                               | 2     | 49    |\n+----------+---------------------------------------------------+-------+-------+\n| 949      | Educational, Private                              | 2     | 50    |\n+----------+---------------------------------------------------+-------+-------+\n| 950      | Vacant, Conservation Organizations (Charitable    | 1     | 51    |\n|          | Org.)                                             |       |       |\n+----------+---------------------------------------------------+-------+-------+\n| 951      | Other (Charitable Org.)                           | 1     | 52    |\n+----------+---------------------------------------------------+-------+-------+\n| 952      | Auxiliary use - Storage, Barns, etc...            | 1     | 53    |\n|          | (Charitable Org.)                                 |       |       |\n+----------+---------------------------------------------------+-------+-------+\n| 953      | Cemeteries (Charitable Org.)                      | 1     | 54    |\n+----------+---------------------------------------------------+-------+-------+\n| 954      | Function Halls, Community Centers, Fraternal      | 1     | 55    |\n|          | Organizations (Charitable Org.)                   |       |       |\n+----------+---------------------------------------------------+-------+-------+\n| 955      | Hospitals (Charitable Org.)                       | 1     | 56    |\n+----------+---------------------------------------------------+-------+-------+\n| 956      | Libraries, Museums (Charitable Org.)              | 1     | 57    |\n+----------+---------------------------------------------------+-------+-------+\n| 957      | Charitable Services                               | 1     | 58    |\n+----------+---------------------------------------------------+-------+-------+\n| 958      | Recreation, Active Use (Charitable Org.)          | 1     | 59    |\n+----------+---------------------------------------------------+-------+-------+\n| 959      | Housing, Other (Charitable Org.)                  | 1     | 60    |\n+----------+---------------------------------------------------+-------+-------+\n| 960      | Church, Mosque, Synagogue, Temple, etc...         | 1     | 61    |\n+----------+---------------------------------------------------+-------+-------+\n| 961      | Rectory or Parsonage                              | 1     | 62    |\n+----------+---------------------------------------------------+-------+-------+\n| 962      | Other (Religious Org.)                            | 1     | 63    |\n+----------+---------------------------------------------------+-------+-------+\n| 963      | Religious-Auxilary Use (offices,garage)           | 3     | 64    |\n+----------+---------------------------------------------------+-------+-------+\n| 964      | Religious-Education                               | 1     | 65    |\n+----------+---------------------------------------------------+-------+-------+\n| 965      | IMPUTED - Exempt                                  | 1     | 66    |\n+----------+---------------------------------------------------+-------+-------+\n| 966      | IMPUTED - Exempt                                  | 1     | 67    |\n+----------+---------------------------------------------------+-------+-------+\n| 968      | IMPUTED - Exempt                                  | 1     | 68    |\n+----------+---------------------------------------------------+-------+-------+\n| 969      | Religious Group                                   | 2     | 69    |\n+----------+---------------------------------------------------+-------+-------+\n| 970      | Housing Authority                                 | 1     | 70    |\n+----------+---------------------------------------------------+-------+-------+\n| 971      | Utility Authority - Electric, Light, Sewer, Water | 1     | 71    |\n+----------+---------------------------------------------------+-------+-------+\n| 972      | Transportation Authority                          | 1     | 72    |\n+----------+---------------------------------------------------+-------+-------+\n| 973      | Vacant, Housing Authority                         | 1     | 73    |\n+----------+---------------------------------------------------+-------+-------+\n| 974      | Vacant, Utility Authority                         | 1     | 74    |\n+----------+---------------------------------------------------+-------+-------+\n| 975      | Vacant, Transportation Authority                  | 1     | 75    |\n+----------+---------------------------------------------------+-------+-------+\n| 976      | Library                                           | 3     | 76    |\n+----------+---------------------------------------------------+-------+-------+\n| 977      | DPW                                               | 3     | 77    |\n+----------+---------------------------------------------------+-------+-------+\n| 978      | IMPUTED - Exempt                                  | 1     | 78    |\n+----------+---------------------------------------------------+-------+-------+\n| 979      | IMPUTED - Exempt                                  | 1     | 79    |\n+----------+---------------------------------------------------+-------+-------+\n| 980      | Vacant, Selectmen or City Council, Other City or  | 1     | 80    |\n|          | Town (Municipal)                                  |       |       |\n+----------+---------------------------------------------------+-------+-------+\n| 981      | Improved, Selectmen or City Council, Other City   | 1     | 81    |\n|          | or Town (Municipal)                               |       |       |\n+----------+---------------------------------------------------+-------+-------+\n| 982      | Vacant, Conservation, Other City or Town          | 1     | 82    |\n+----------+---------------------------------------------------+-------+-------+\n| 983      | IMPUTED - Exempt                                  | 1     | 83    |\n+----------+---------------------------------------------------+-------+-------+\n| 985      | Improved Municipal or Public Safety, Other City   | 1     | 84    |\n|          | or Town                                           |       |       |\n+----------+---------------------------------------------------+-------+-------+\n| 986      | IMPUTED - Exempt                                  | 1     | 85    |\n+----------+---------------------------------------------------+-------+-------+\n| 987      | IMPUTED - Exempt                                  | 1     | 86    |\n+----------+---------------------------------------------------+-------+-------+\n| 988      | Vacant, Other District (County)                   | 1     | 87    |\n+----------+---------------------------------------------------+-------+-------+\n| 989      | Improved, Other District (County)                 | 1     | 88    |\n+----------+---------------------------------------------------+-------+-------+\n| 990      | 121A CORP                                         | 2     | 89    |\n+----------+---------------------------------------------------+-------+-------+\n| 991      | Vacant, County or Regional                        | 1     | 90    |\n+----------+---------------------------------------------------+-------+-------+\n| 992      | Improved, County or Regional, Deeds or            | 1     | 91    |\n|          | Administration                                    |       |       |\n+----------+---------------------------------------------------+-------+-------+\n| 993      | Improved County or Regional Correctional          | 1     | 92    |\n+----------+---------------------------------------------------+-------+-------+\n| 994      | Improved County or Regional Association           | 1     | 93    |\n|          | Commission                                        |       |       |\n+----------+---------------------------------------------------+-------+-------+\n| 995      | Other, Open Space                                 | 1     | 94    |\n+----------+---------------------------------------------------+-------+-------+\n| 996      | Other, Non-Taxable Condominium Common Land        | 1     | 95    |\n+----------+---------------------------------------------------+-------+-------+\n| 997      | Other                                             | 1     | 96    |\n+----------+---------------------------------------------------+-------+-------+\n| 998      | Imputed - Unknown                                 | 6     | 97    |\n+----------+---------------------------------------------------+-------+-------+\n| 999      | City Cem                                          | 12    | 98    |\n+----------+---------------------------------------------------+-------+-------+\n"
     ]
    }
   ]
  },
  {
   "source": [
    "Details"
   ],
   "cell_type": "markdown",
   "metadata": {}
  },
  {
   "cell_type": "code",
   "execution_count": 19,
   "metadata": {},
   "outputs": [
    {
     "output_type": "stream",
     "name": "stdout",
     "text": [
      "+----------+---------------------------------------------------+-------+-------+\n| USE_CODE | USE_DESC                                          | COUNT | INDEX |\n+----------+---------------------------------------------------+-------+-------+\n| 900      | United States Government                          | 1     | 1     |\n+----------+---------------------------------------------------+-------+-------+\n| 9000     | United States Government                          | 1     | 2     |\n+----------+---------------------------------------------------+-------+-------+\n| 9001     | US GOVERNMENT - C                                 | 4     | 3     |\n+----------+---------------------------------------------------+-------+-------+\n| 9002     | US Govt C                                         | 2     | 4     |\n+----------+---------------------------------------------------+-------+-------+\n| 9003     | US Government                                     | 1     | 5     |\n+----------+---------------------------------------------------+-------+-------+\n| 9004     | United States Government                          | 1     | 6     |\n+----------+---------------------------------------------------+-------+-------+\n| 9005     | US Govt Land                                      | 2     | 7     |\n+----------+---------------------------------------------------+-------+-------+\n| 9006     | U S Govt                                          | 1     | 8     |\n+----------+---------------------------------------------------+-------+-------+\n| 900A     | exempt organizations                              | 1     | 9     |\n+----------+---------------------------------------------------+-------+-------+\n| 900C     | US GOVT  MDL-94                                   | 11    | 10    |\n+----------+---------------------------------------------------+-------+-------+\n| 900I     | US GOVT  M-96                                     | 7     | 11    |\n+----------+---------------------------------------------------+-------+-------+\n| 900R     | US GOVT  MDL-01                                   | 16    | 12    |\n+----------+---------------------------------------------------+-------+-------+\n| 900V     | US Gov, Vacant                                    | 18    | 13    |\n+----------+---------------------------------------------------+-------+-------+\n| 901      | (formerly Commonwealth of Massachusetts.  Removed | 1     | 14    |\n|          | June 2009.)                                       |       |       |\n+----------+---------------------------------------------------+-------+-------+\n| 9010     | (formerly Commonwealth of Massachusetts.  Removed | 1     | 15    |\n|          | June 2009.)                                       |       |       |\n+----------+---------------------------------------------------+-------+-------+\n| 9011     | Umass Amhe                                        | 4     | 16    |\n+----------+---------------------------------------------------+-------+-------+\n| 9013     | Comm Mass I                                       | 1     | 17    |\n+----------+---------------------------------------------------+-------+-------+\n| 9015     | 9015                                              | 1     | 18    |\n+----------+---------------------------------------------------+-------+-------+\n| 9016     | IMPUTED - Commonwealth of Massachusetts           | 1     | 19    |\n+----------+---------------------------------------------------+-------+-------+\n| 901C     | Comm-Mass                                         | 5     | 20    |\n+----------+---------------------------------------------------+-------+-------+\n| 901I     | COMM-MASS  MDL-96                                 | 5     | 21    |\n+----------+---------------------------------------------------+-------+-------+\n| 901R     | Public Service Properties - unknown               | 6     | 22    |\n+----------+---------------------------------------------------+-------+-------+\n| 901S     | COMM-MASS  MDL-95                                 | 1     | 23    |\n+----------+---------------------------------------------------+-------+-------+\n| 901T     | COMM-MASS MDL-02                                  | 1     | 24    |\n+----------+---------------------------------------------------+-------+-------+\n| 901V     | IMPUTED - (formerly Commonwealth of               | 15    | 25    |\n|          | Massachusetts.  Removed June 2009.)               |       |       |\n+----------+---------------------------------------------------+-------+-------+\n| 902      | (formerly Counties.  Removed June 2009.)          | 1     | 26    |\n+----------+---------------------------------------------------+-------+-------+\n| 9020     | (formerly Counties.  Removed June 2009.)          | 1     | 27    |\n+----------+---------------------------------------------------+-------+-------+\n| 9022     | Ice Rink                                          | 2     | 28    |\n+----------+---------------------------------------------------+-------+-------+\n| 902C     | County Comm                                       | 4     | 29    |\n+----------+---------------------------------------------------+-------+-------+\n| 902I     | COUNTY MDL-96                                     | 2     | 30    |\n+----------+---------------------------------------------------+-------+-------+\n| 902R     | Other                                             | 1     | 31    |\n+----------+---------------------------------------------------+-------+-------+\n| 902V     | COUNTY MDL-00                                     | 2     | 32    |\n+----------+---------------------------------------------------+-------+-------+\n| 903      | (formerly Municipalities/Districts.  Removed June | 1     | 33    |\n|          | 2009.)                                            |       |       |\n+----------+---------------------------------------------------+-------+-------+\n| 9030     | (formerly Municipalities/Districts.  Removed June | 1     | 34    |\n|          | 2009.)                                            |       |       |\n+----------+---------------------------------------------------+-------+-------+\n| 9031     | Municpal R                                        | 21    | 35    |\n+----------+---------------------------------------------------+-------+-------+\n| 9032     | FUTURE PAR                                        | 30    | 36    |\n+----------+---------------------------------------------------+-------+-------+\n| 9033     | Pub-School                                        | 40    | 37    |\n+----------+---------------------------------------------------+-------+-------+\n| 9034     | Municpal C                                        | 10    | 38    |\n+----------+---------------------------------------------------+-------+-------+\n| 9035     | IMPUTED - (formerly Municipalities/Districts.     | 51    | 39    |\n|          | Removed June 2009.)                               |       |       |\n+----------+---------------------------------------------------+-------+-------+\n| 9036     | MUNICPAL I                                        | 11    | 40    |\n+----------+---------------------------------------------------+-------+-------+\n| 9037     | EXEMPT                                            | 6     | 41    |\n+----------+---------------------------------------------------+-------+-------+\n| 9038     | Town-Prop  Comm                                   | 4     | 42    |\n+----------+---------------------------------------------------+-------+-------+\n| 9039     | United States Government                          | 3     | 43    |\n+----------+---------------------------------------------------+-------+-------+\n| 903A     | TOWN-PROP MDL-                                    | 8     | 44    |\n+----------+---------------------------------------------------+-------+-------+\n| 903B     | TOWN-PROP  MDL-01                                 | 5     | 45    |\n+----------+---------------------------------------------------+-------+-------+\n| 903C     | MUNICPAL  MDL-94                                  | 31    | 46    |\n+----------+---------------------------------------------------+-------+-------+\n| 903I     | MUNICPAL  MDL-96                                  | 27    | 47    |\n+----------+---------------------------------------------------+-------+-------+\n| 903J     | TOWN-PROP  MDL-94                                 | 6     | 48    |\n+----------+---------------------------------------------------+-------+-------+\n| 903L     | PUB-SCHOOL  MDL-96                                | 4     | 49    |\n+----------+---------------------------------------------------+-------+-------+\n| 903O     | MUNICPAL  M-06                                    | 1     | 50    |\n+----------+---------------------------------------------------+-------+-------+\n| 903R     | MUNICPAL  MDL-01                                  | 30    | 51    |\n+----------+---------------------------------------------------+-------+-------+\n| 903S     | TOWN-PROP M95                                     | 1     | 52    |\n+----------+---------------------------------------------------+-------+-------+\n| 903T     | MUNICPAL  MDL-02                                  | 1     | 53    |\n+----------+---------------------------------------------------+-------+-------+\n| 903U     | TOWN-PROP MDL-05                                  | 2     | 54    |\n+----------+---------------------------------------------------+-------+-------+\n| 903V     | MUNICIPAL MDL-00                                  | 44    | 55    |\n+----------+---------------------------------------------------+-------+-------+\n| 903X     | CEMETERY  MDL-00                                  | 1     | 56    |\n+----------+---------------------------------------------------+-------+-------+\n| 903Z     | TOWN-PROP MDL- E                                  | 1     | 57    |\n+----------+---------------------------------------------------+-------+-------+\n| 904      | (formerly Colleges, Schools(private).  Removed    | 1     | 58    |\n|          | June 2009. )                                      |       |       |\n+----------+---------------------------------------------------+-------+-------+\n| 9040     | (formerly Colleges, Schools(private).  Removed    | 1     | 59    |\n|          | June 2009. )                                      |       |       |\n+----------+---------------------------------------------------+-------+-------+\n| 9041     | Pri Schl R                                        | 4     | 60    |\n+----------+---------------------------------------------------+-------+-------+\n| 9042     | Pri Schl C                                        | 5     | 61    |\n+----------+---------------------------------------------------+-------+-------+\n| 9043     | PRI SCHL I                                        | 2     | 62    |\n+----------+---------------------------------------------------+-------+-------+\n| 904C     | PRI SCHOOL MDL-94                                 | 7     | 63    |\n+----------+---------------------------------------------------+-------+-------+\n| 904I     | PRI SCHOOL MDL-96                                 | 5     | 64    |\n+----------+---------------------------------------------------+-------+-------+\n| 904M     | PRI SCHL R                                        | 3     | 65    |\n+----------+---------------------------------------------------+-------+-------+\n| 904R     | Pri Schl R                                        | 15    | 66    |\n+----------+---------------------------------------------------+-------+-------+\n| 904U     | PRI SCHOOL  MDL-05                                | 1     | 67    |\n+----------+---------------------------------------------------+-------+-------+\n| 904V     | Use code not known or nor provided.               | 11    | 68    |\n+----------+---------------------------------------------------+-------+-------+\n| 905      | (formerly Charitable Organizations (private       | 1     | 69    |\n|          | hospitals, etc...).  Removed June 2009. )         |       |       |\n+----------+---------------------------------------------------+-------+-------+\n| 9050     | (formerly Charitable Organizations (private       | 1     | 70    |\n|          | hospitals, etc...).  Removed June 2009. )         |       |       |\n+----------+---------------------------------------------------+-------+-------+\n| 9051     | Char R                                            | 9     | 71    |\n+----------+---------------------------------------------------+-------+-------+\n| 9052     | Char C                                            | 5     | 72    |\n+----------+---------------------------------------------------+-------+-------+\n| 9054     | Charitable Org V                                  | 1     | 73    |\n+----------+---------------------------------------------------+-------+-------+\n| 905A     | A/HSocCL4A  MDL-01                                | 1     | 74    |\n+----------+---------------------------------------------------+-------+-------+\n| 905B     | Use code not known or nor provided.               | 1     | 75    |\n+----------+---------------------------------------------------+-------+-------+\n| 905C     | P/HOS CHAR                                        | 25    | 76    |\n+----------+---------------------------------------------------+-------+-------+\n| 905I     | P/Hos Char  Indl                                  | 5     | 77    |\n+----------+---------------------------------------------------+-------+-------+\n| 905J     | CHAR R                                            | 4     | 78    |\n+----------+---------------------------------------------------+-------+-------+\n| 905L     | A/HSocCL4A  MDL-96                                | 2     | 79    |\n+----------+---------------------------------------------------+-------+-------+\n| 905O     | P/HOS CHAR  MDL-06                                | 2     | 80    |\n+----------+---------------------------------------------------+-------+-------+\n| 905R     | P/HOS CHAR  MDL-01                                | 33    | 81    |\n+----------+---------------------------------------------------+-------+-------+\n| 905U     | Char R Condo                                      | 7     | 82    |\n+----------+---------------------------------------------------+-------+-------+\n| 905V     | CHARITABLE  MDL-00                                | 32    | 83    |\n+----------+---------------------------------------------------+-------+-------+\n| 905X     | US Secretary of Housing                           | 1     | 84    |\n+----------+---------------------------------------------------+-------+-------+\n| 906      | (formerly Religious Organizations.  Removed June  | 1     | 85    |\n|          | 2009.)                                            |       |       |\n+----------+---------------------------------------------------+-------+-------+\n| 9060     | (formerly Religious Organizations.  Removed June  | 1     | 86    |\n|          | 2009.)                                            |       |       |\n+----------+---------------------------------------------------+-------+-------+\n| 9061     | Church - Res                                      | 6     | 87    |\n+----------+---------------------------------------------------+-------+-------+\n| 9062     | Church C                                          | 4     | 88    |\n+----------+---------------------------------------------------+-------+-------+\n| 9064     | Church Commercial                                 | 1     | 89    |\n+----------+---------------------------------------------------+-------+-------+\n| 9065     | Church R                                          | 2     | 90    |\n+----------+---------------------------------------------------+-------+-------+\n| 906A     | CHURCH M05                                        | 1     | 91    |\n+----------+---------------------------------------------------+-------+-------+\n| 906C     | Church R Com                                      | 24    | 92    |\n+----------+---------------------------------------------------+-------+-------+\n| 906I     | Use code not known or nor provided.               | 26    | 93    |\n+----------+---------------------------------------------------+-------+-------+\n| 906M     | Church                                            | 1     | 94    |\n|          |                                                   |       |       |\n+----------+---------------------------------------------------+-------+-------+\n| 906R     | CHURCH ETC  MDL-01                                | 23    | 95    |\n+----------+---------------------------------------------------+-------+-------+\n| 906V     | CHURCH ETC MDL-00                                 | 22    | 96    |\n+----------+---------------------------------------------------+-------+-------+\n| 907      | (formerly 121A Corporations.  Removed June 2009.) | 1     | 97    |\n+----------+---------------------------------------------------+-------+-------+\n| 9070     | (formerly 121A Corporations.  Removed June 2009.) | 1     | 98    |\n+----------+---------------------------------------------------+-------+-------+\n| 907J     | 121A CORP  MDL-94                                 | 2     | 99    |\n+----------+---------------------------------------------------+-------+-------+\n| 907R     | (formerly 121A Corporations.  Removed June 2009.) | 1     | 100   |\n+----------+---------------------------------------------------+-------+-------+\n| 907V     | 121A CORP MOO                                     | 2     | 101   |\n+----------+---------------------------------------------------+-------+-------+\n| 908      | (formerly Housing Authority.  Removed June 2009.) | 1     | 102   |\n+----------+---------------------------------------------------+-------+-------+\n| 9080     | (formerly Housing Authority.  Removed June 2009.) | 1     | 103   |\n+----------+---------------------------------------------------+-------+-------+\n| 9081     | Hsg Auth R                                        | 4     | 104   |\n+----------+---------------------------------------------------+-------+-------+\n| 9082     | Hsg Auth C                                        | 4     | 105   |\n+----------+---------------------------------------------------+-------+-------+\n| 9084     | Housing Authority                                 | 1     | 106   |\n+----------+---------------------------------------------------+-------+-------+\n| 908C     | HSNG AUTH MDL-94                                  | 9     | 107   |\n+----------+---------------------------------------------------+-------+-------+\n| 908I     | Hsng Auth  Indl                                   | 1     | 108   |\n+----------+---------------------------------------------------+-------+-------+\n| 908M     | Housing Authority.                                | 1     | 109   |\n+----------+---------------------------------------------------+-------+-------+\n| 908R     | Hsng Auth MDL                                     | 10    | 110   |\n+----------+---------------------------------------------------+-------+-------+\n| 908U     | HSNG AUTH  MDL-05                                 | 3     | 111   |\n+----------+---------------------------------------------------+-------+-------+\n| 908V     | HSNG AUTH MDL-00                                  | 9     | 112   |\n+----------+---------------------------------------------------+-------+-------+\n| 909      | Exempt                                            | 26    | 113   |\n+----------+---------------------------------------------------+-------+-------+\n| 9090     | RELIGIOUS                                         | 35    | 114   |\n+----------+---------------------------------------------------+-------+-------+\n| 909C     | RELIGIOUS                                         | 3     | 115   |\n+----------+---------------------------------------------------+-------+-------+\n| 909I     | RELIGIOUS  MDL-96                                 | 3     | 116   |\n+----------+---------------------------------------------------+-------+-------+\n| 909R     | RELIGIOUS  MDL-01                                 | 5     | 117   |\n+----------+---------------------------------------------------+-------+-------+\n| 909V     | RELEGIOUS VACANT                                  | 6     | 118   |\n+----------+---------------------------------------------------+-------+-------+\n| 910      | Dept. of Conservation and Recreation (DCR),       | 1     | 119   |\n|          | Division of State Parks and Recreation            |       |       |\n+----------+---------------------------------------------------+-------+-------+\n| 9100     | Dept. of Conservation and Recreation (DCR),       | 1     | 120   |\n|          | Division of State Parks and Recreation            |       |       |\n+----------+---------------------------------------------------+-------+-------+\n| 9101     | Dem R                                             | 11    | 121   |\n+----------+---------------------------------------------------+-------+-------+\n| 9103     | Ex Condo  Com                                     | 2     | 122   |\n+----------+---------------------------------------------------+-------+-------+\n| 9105     | DCR- State Parks and Rec                          | 1     | 123   |\n+----------+---------------------------------------------------+-------+-------+\n| 9106     | DENV MNG I                                        | 1     | 124   |\n+----------+---------------------------------------------------+-------+-------+\n| 910B     | CHARITABLE MDL-01                                 | 1     | 125   |\n+----------+---------------------------------------------------+-------+-------+\n| 910C     | COM DCR PARKS REC                                 | 5     | 126   |\n+----------+---------------------------------------------------+-------+-------+\n| 910M     | EX CONDO  MDL-06                                  | 2     | 127   |\n+----------+---------------------------------------------------+-------+-------+\n| 910R     | municipal use other                               | 14    | 128   |\n+----------+---------------------------------------------------+-------+-------+\n| 910V     | Dept. of Conservation and Recreation (DCR),       | 14    | 129   |\n|          | Division of State Parks and Recreation            |       |       |\n+----------+---------------------------------------------------+-------+-------+\n| 911      | Dept. of Fish and Game (DFG) -- formerly Division | 2     | 130   |\n|          | of Fisheries and Wildlife, Environmental Law      |       |       |\n|          | Enforcement (DFWELE)                              |       |       |\n+----------+---------------------------------------------------+-------+-------+\n| 9110     | Dept. of Fish and Game (DFG) -- formerly Division | 2     | 131   |\n|          | of Fisheries and Wildlife, Environmental Law      |       |       |\n|          | Enforcement (DFWELE)                              |       |       |\n+----------+---------------------------------------------------+-------+-------+\n| 9111     | EXEMPT NL M94                                     | 4     | 132   |\n+----------+---------------------------------------------------+-------+-------+\n| 9113     | Division of Wildlife and Fishe                    | 1     | 133   |\n+----------+---------------------------------------------------+-------+-------+\n| 9114     | FISH/WL REIM COM                                  | 1     | 134   |\n+----------+---------------------------------------------------+-------+-------+\n| 9115     | Division of Wildlife and Fishe                    | 1     | 135   |\n+----------+---------------------------------------------------+-------+-------+\n| 911R     | EXEMPT NI MOI                                     | 2     | 136   |\n+----------+---------------------------------------------------+-------+-------+\n| 911U     | EXEMPT NI M05                                     | 1     | 137   |\n+----------+---------------------------------------------------+-------+-------+\n| 911V     | IMPUTED - Dept. of Fish and Game (DFG) --         | 6     | 138   |\n|          | formerly Division of Fisheries and Wildlife,      |       |       |\n|          | Environmental Law Enforcement (DFWELE)            |       |       |\n+----------+---------------------------------------------------+-------+-------+\n| 912      | Dept. of Corrections (DOC) - Division of Youth    | 1     | 139   |\n|          | Services                                          |       |       |\n+----------+---------------------------------------------------+-------+-------+\n| 9120     | Dept. of Corrections (DOC) - Division of Youth    | 1     | 140   |\n|          | Services                                          |       |       |\n+----------+---------------------------------------------------+-------+-------+\n| 9121     | Department of Corrections                         | 1     | 141   |\n+----------+---------------------------------------------------+-------+-------+\n| 9123     | Department of Corrections                         | 1     | 142   |\n+----------+---------------------------------------------------+-------+-------+\n| 9125     | Department of Corrections                         | 1     | 143   |\n+----------+---------------------------------------------------+-------+-------+\n| 912I     | DOC/DYS M-96                                      | 1     | 144   |\n+----------+---------------------------------------------------+-------+-------+\n| 912R     | CORR REIMB  MDL-01                                | 1     | 145   |\n+----------+---------------------------------------------------+-------+-------+\n| 912V     | DOC/DYS M-00                                      | 2     | 146   |\n+----------+---------------------------------------------------+-------+-------+\n| 913      | Dept. of Public Health (DPH) - Soldiers' Homes    | 1     | 147   |\n+----------+---------------------------------------------------+-------+-------+\n| 9130     | Dept. of Public Health (DPH) - Soldiers' Homes    | 1     | 148   |\n+----------+---------------------------------------------------+-------+-------+\n| 9131     | Local Use Code Variation for tracking and         | 2     | 149   |\n|          | administrative purposes, Same as \"9130\".          |       |       |\n+----------+---------------------------------------------------+-------+-------+\n| 9133     | Department of Public Health                       | 1     | 150   |\n+----------+---------------------------------------------------+-------+-------+\n| 9135     | Department of Public Health                       | 1     | 151   |\n+----------+---------------------------------------------------+-------+-------+\n| 913C     | SOLD HOME  MDL-94                                 | 1     | 152   |\n+----------+---------------------------------------------------+-------+-------+\n| 913I     | SOLD HOME  MDL-96                                 | 1     | 153   |\n+----------+---------------------------------------------------+-------+-------+\n| 913R     | Mass DPHR-Mdl-01                                  | 2     | 154   |\n+----------+---------------------------------------------------+-------+-------+\n| 914      | Dept. of Mental Health (DMH) - Dept. of Mental    | 1     | 155   |\n|          | Retardation                                       |       |       |\n+----------+---------------------------------------------------+-------+-------+\n| 9140     | Dept. of Mental Health (DMH) - Dept. of Mental    | 1     | 156   |\n|          | Retardation                                       |       |       |\n+----------+---------------------------------------------------+-------+-------+\n| 9141     | Commonwealth of Mass DMH (Dept Mental Health)     | 3     | 157   |\n+----------+---------------------------------------------------+-------+-------+\n| 9142     | Mass DMR C                                        | 2     | 158   |\n+----------+---------------------------------------------------+-------+-------+\n| 9143     | Department of Mental Health                       | 1     | 159   |\n+----------+---------------------------------------------------+-------+-------+\n| 9145     | Department of Mental Health                       | 1     | 160   |\n+----------+---------------------------------------------------+-------+-------+\n| 914C     | Dept. of Mental Health (DMH) - Dept. of Mental    | 1     | 161   |\n|          | Retardation                                       |       |       |\n+----------+---------------------------------------------------+-------+-------+\n| 914V     | Comm Mass Dmh Vac                                 | 2     | 162   |\n+----------+---------------------------------------------------+-------+-------+\n| 915      | Dept. of Conservation and Recreation (DCR) -      | 1     | 163   |\n|          | Division of Water Supply Protection               |       |       |\n+----------+---------------------------------------------------+-------+-------+\n| 9150     | Dept. of Conservation and Recreation (DCR) -      | 1     | 164   |\n|          | Division of Water Supply Protection               |       |       |\n+----------+---------------------------------------------------+-------+-------+\n| 9151     | DCR reimbursable land                             | 3     | 165   |\n+----------+---------------------------------------------------+-------+-------+\n| 9153     | DCR, Division of Water Supply                     | 1     | 166   |\n+----------+---------------------------------------------------+-------+-------+\n| 9155     | DCR, Division of Water Supply                     | 1     | 167   |\n+----------+---------------------------------------------------+-------+-------+\n| 915C     | Exempt DCR, Division of water supply protection   | 2     | 168   |\n+----------+---------------------------------------------------+-------+-------+\n| 915E     | State owned commercial                            | 1     | 169   |\n+----------+---------------------------------------------------+-------+-------+\n| 915I     | MDC MDL-96                                        | 2     | 170   |\n+----------+---------------------------------------------------+-------+-------+\n| 915R     | MDC MDL-01                                        | 2     | 171   |\n+----------+---------------------------------------------------+-------+-------+\n| 915V     | MDC MDL-00                                        | 5     | 172   |\n+----------+---------------------------------------------------+-------+-------+\n| 916      | Military Division - Campgrounds                   | 1     | 173   |\n+----------+---------------------------------------------------+-------+-------+\n| 9160     | Military Division - Campgrounds                   | 1     | 174   |\n+----------+---------------------------------------------------+-------+-------+\n| 9161     | Military Div, Camp Grounds                        | 1     | 175   |\n+----------+---------------------------------------------------+-------+-------+\n| 9163     | Military Div, Camp Grounds                        | 1     | 176   |\n+----------+---------------------------------------------------+-------+-------+\n| 9165     | Military Div, Camp Grounds                        | 1     | 177   |\n+----------+---------------------------------------------------+-------+-------+\n| 917      | Dept. of Education (DOE) - UMass., State          | 1     | 178   |\n|          | Colleges, Community Colleges                      |       |       |\n+----------+---------------------------------------------------+-------+-------+\n| 9170     | Dept. of Education (DOE) - UMass., State          | 1     | 179   |\n|          | Colleges, Community Colleges                      |       |       |\n+----------+---------------------------------------------------+-------+-------+\n| 9171     | Doe R                                             | 4     | 180   |\n+----------+---------------------------------------------------+-------+-------+\n| 9172     | Doe C                                             | 3     | 181   |\n+----------+---------------------------------------------------+-------+-------+\n| 9173     | Education- State Colleges                         | 1     | 182   |\n+----------+---------------------------------------------------+-------+-------+\n| 9175     | Education- State Colleges                         | 1     | 183   |\n+----------+---------------------------------------------------+-------+-------+\n| 917C     | ED  C REIMB                                       | 2     | 184   |\n+----------+---------------------------------------------------+-------+-------+\n| 917I     | ED MDL-96 REIMB                                   | 1     | 185   |\n+----------+---------------------------------------------------+-------+-------+\n| 917R     | State Education                                   | 1     | 186   |\n+----------+---------------------------------------------------+-------+-------+\n| 917V     | EDU MDL-00                                        | 1     | 187   |\n+----------+---------------------------------------------------+-------+-------+\n| 918      | Dept. of Environmental Protection (DEP) - Low-    | 1     | 188   |\n|          | level Radioactive Waste Management Board          |       |       |\n+----------+---------------------------------------------------+-------+-------+\n| 9180     | Dept. of Environmental Protection (DEP) - Low-    | 1     | 189   |\n|          | level Radioactive Waste Management Board          |       |       |\n+----------+---------------------------------------------------+-------+-------+\n| 9181     | Mass EPA                                          | 1     | 190   |\n+----------+---------------------------------------------------+-------+-------+\n| 9183     | Mass EPA                                          | 1     | 191   |\n+----------+---------------------------------------------------+-------+-------+\n| 9185     | Mass EPA                                          | 1     | 192   |\n+----------+---------------------------------------------------+-------+-------+\n| 919      | Comm. Of Mass. (Other)                            | 1     | 193   |\n+----------+---------------------------------------------------+-------+-------+\n| 9190     | Comm. Of Mass. (Other)                            | 1     | 194   |\n+----------+---------------------------------------------------+-------+-------+\n| 9191     | Other State Reimburseable                         | 2     | 195   |\n+----------+---------------------------------------------------+-------+-------+\n| 9192     | Mass Other C                                      | 1     | 196   |\n+----------+---------------------------------------------------+-------+-------+\n| 9193     | Other State Reimburseable                         | 1     | 197   |\n+----------+---------------------------------------------------+-------+-------+\n| 9194     | Comm. Of Mass. (Other)                            | 1     | 198   |\n+----------+---------------------------------------------------+-------+-------+\n| 9195     | Other State Reimburseable                         | 1     | 199   |\n+----------+---------------------------------------------------+-------+-------+\n| 919C     | OTHER  MODEL 94                                   | 1     | 200   |\n+----------+---------------------------------------------------+-------+-------+\n| 919R     | Exempt Property                                   | 2     | 201   |\n+----------+---------------------------------------------------+-------+-------+\n| 919V     | Ex Vac                                            | 2     | 202   |\n+----------+---------------------------------------------------+-------+-------+\n| 920      | Dept. of Conservation and Recreation (DCR) -      | 1     | 203   |\n|          | Division of Urban Parks and Recreation (non-      |       |       |\n|          | reimbursable)                                     |       |       |\n+----------+---------------------------------------------------+-------+-------+\n| 9200     | Dept. of Conservation and Recreation (DCR) -      | 1     | 204   |\n|          | Division of Urban Parks and Recreation (non-      |       |       |\n|          | reimbursable)                                     |       |       |\n+----------+---------------------------------------------------+-------+-------+\n| 9201     | Mass DEM                                          | 4     | 205   |\n+----------+---------------------------------------------------+-------+-------+\n| 9202     | Us Govt C                                         | 4     | 206   |\n+----------+---------------------------------------------------+-------+-------+\n| 9203     | DCR Urban Parks                                   | 1     | 207   |\n+----------+---------------------------------------------------+-------+-------+\n| 9205     | DCR Urban Parks                                   | 2     | 208   |\n+----------+---------------------------------------------------+-------+-------+\n| 920C     | NREIMB DPT E                                      | 10    | 209   |\n+----------+---------------------------------------------------+-------+-------+\n| 920I     | Non Profit  Indl                                  | 1     | 210   |\n+----------+---------------------------------------------------+-------+-------+\n| 920O     | NON PROFIT M06                                    | 2     | 211   |\n+----------+---------------------------------------------------+-------+-------+\n| 920R     | NON PROFIT MDL-01                                 | 7     | 212   |\n+----------+---------------------------------------------------+-------+-------+\n| 920U     | Non Profit - MDL-05                               | 1     | 213   |\n+----------+---------------------------------------------------+-------+-------+\n| 920V     | NON-PROFIT VACA                                   | 17    | 214   |\n+----------+---------------------------------------------------+-------+-------+\n| 921      | Dept. of Fish and Game, Environmental Law         | 2     | 215   |\n|          | Enforcement (DFG, formerly DFWELE) (non-          |       |       |\n|          | reimbursable)                                     |       |       |\n+----------+---------------------------------------------------+-------+-------+\n| 9210     | Dept. of Fish and Game, Environmental Law         | 2     | 216   |\n|          | Enforcement (DFG, formerly DFWELE) (non-          |       |       |\n|          | reimbursable)                                     |       |       |\n+----------+---------------------------------------------------+-------+-------+\n| 9211     | Exempt - DFW                                      | 2     | 217   |\n+----------+---------------------------------------------------+-------+-------+\n| 9213     | DFW, Non-Reimburseable                            | 1     | 218   |\n+----------+---------------------------------------------------+-------+-------+\n| 9215     | DFW, Non-Reimburseable                            | 1     | 219   |\n+----------+---------------------------------------------------+-------+-------+\n| 921C     | CONDO/XMPT  MDL-94                                | 1     | 220   |\n+----------+---------------------------------------------------+-------+-------+\n| 921I     | CONDO/XMPT  MDL-96                                | 1     | 221   |\n+----------+---------------------------------------------------+-------+-------+\n| 921R     | CONDO/XMPT  MDL-01                                | 1     | 222   |\n+----------+---------------------------------------------------+-------+-------+\n| 921V     | NREIMB DIV F                                      | 4     | 223   |\n+----------+---------------------------------------------------+-------+-------+\n| 922      | Dept. of Corrections (DOC) - Division of Youth    | 1     | 224   |\n|          | Services,Mass. Military,State Police,Sheriffs'    |       |       |\n|          | Depts. (non-reimbursable)                         |       |       |\n+----------+---------------------------------------------------+-------+-------+\n| 9220     | Dept. of Corrections (DOC) - Division of Youth    | 1     | 225   |\n|          | Services,Mass. Military,State Police,Sheriffs'    |       |       |\n|          | Depts. (non-reimbursable)                         |       |       |\n+----------+---------------------------------------------------+-------+-------+\n| 9221     | Local Use Code Variation for tracking and         | 4     | 226   |\n|          | administrative purposes, Same as \"9220\".          |       |       |\n+----------+---------------------------------------------------+-------+-------+\n| 9222     | Mass Dept Corr C                                  | 1     | 227   |\n+----------+---------------------------------------------------+-------+-------+\n| 9223     | Dept Correction, State Police                     | 2     | 228   |\n+----------+---------------------------------------------------+-------+-------+\n| 9225     | Dept Correction, State Police                     | 1     | 229   |\n+----------+---------------------------------------------------+-------+-------+\n| 922C     | MASS MILITARY                                     | 2     | 230   |\n+----------+---------------------------------------------------+-------+-------+\n| 922I     | COR,YOUTH,SHER  NR                                | 5     | 231   |\n+----------+---------------------------------------------------+-------+-------+\n| 922V     | MASS MILITARY                                     | 2     | 232   |\n+----------+---------------------------------------------------+-------+-------+\n| 923      | Dept. of Public Health (DPH) - Soldiers' Homes,   | 1     | 233   |\n|          | Dept. of Mental Health (DMH) - Dept. of Mental    |       |       |\n|          | Retardation (non-reimburs                         |       |       |\n+----------+---------------------------------------------------+-------+-------+\n| 9230     | Dept. of Public Health (DPH) - Soldiers' Homes,   | 1     | 234   |\n|          | Dept. of Mental Health (DMH) - Dept. of Mental    |       |       |\n|          | Retardation (non-reimburs                         |       |       |\n+----------+---------------------------------------------------+-------+-------+\n| 9231     | PUB HLTH/SH NREIM RES                             | 2     | 235   |\n+----------+---------------------------------------------------+-------+-------+\n| 9233     | Dept Public Health, DMH                           | 1     | 236   |\n+----------+---------------------------------------------------+-------+-------+\n| 9235     | Dept Public Health, DMH                           | 1     | 237   |\n+----------+---------------------------------------------------+-------+-------+\n| 923V     | Dept. of Public Health (DPH) - Soldiers' Homes,   | 2     | 238   |\n|          | Dept. of Mental Health (DMH) - Dept. of Mental    |       |       |\n|          | Retardation (non-reimburs                         |       |       |\n+----------+---------------------------------------------------+-------+-------+\n| 924      | Mass. Highway Dept. (MHD) (non-reimbursable)      | 1     | 239   |\n+----------+---------------------------------------------------+-------+-------+\n| 9240     | Mass. Highway Dept. (MHD) (non-reimbursable)      | 1     | 240   |\n+----------+---------------------------------------------------+-------+-------+\n| 9241     | MASS HIGHWAY R                                    | 2     | 241   |\n+----------+---------------------------------------------------+-------+-------+\n| 9242     | Mass Highway Non C                                | 4     | 242   |\n+----------+---------------------------------------------------+-------+-------+\n| 9243     | Mass Highway Dep                                  | 1     | 243   |\n+----------+---------------------------------------------------+-------+-------+\n| 9244     | NR HIGHWAY                                        | 1     | 244   |\n+----------+---------------------------------------------------+-------+-------+\n| 9245     | Mass Highway Dep                                  | 2     | 245   |\n+----------+---------------------------------------------------+-------+-------+\n| 9246     | NR HIGHWAY                                        | 1     | 246   |\n|          |                                                   |       |       |\n+----------+---------------------------------------------------+-------+-------+\n| 924C     | NREIMB MA HW                                      | 3     | 247   |\n+----------+---------------------------------------------------+-------+-------+\n| 924I     | commonwealth mass  model 96                       | 3     | 248   |\n+----------+---------------------------------------------------+-------+-------+\n| 924R     | NREIMB MA HWY DPT-01                              | 1     | 249   |\n+----------+---------------------------------------------------+-------+-------+\n| 924V     | NREIMB MA HW                                      | 17    | 250   |\n+----------+---------------------------------------------------+-------+-------+\n| 925      | Dept. of Conservation and Recreation (DCR) -      | 1     | 251   |\n|          | Division of Water Supply Protection, Urban Parks  |       |       |\n|          | (non-reimbursable)                                |       |       |\n+----------+---------------------------------------------------+-------+-------+\n| 9250     | Dept. of Conservation and Recreation (DCR) -      | 1     | 252   |\n|          | Division of Water Supply Protection, Urban Parks  |       |       |\n|          | (non-reimbursable)                                |       |       |\n+----------+---------------------------------------------------+-------+-------+\n| 9251     | DCR non-reimbursable land                         | 3     | 253   |\n+----------+---------------------------------------------------+-------+-------+\n| 9252     | Clubs/Lodges                                      | 1     | 254   |\n+----------+---------------------------------------------------+-------+-------+\n| 9253     | DCR, Water Supply Protection                      | 1     | 255   |\n+----------+---------------------------------------------------+-------+-------+\n| 9255     | DCR, Water Supply Protection                      | 1     | 256   |\n+----------+---------------------------------------------------+-------+-------+\n| 925C     | COMM MASS DWS                                     | 2     | 257   |\n+----------+---------------------------------------------------+-------+-------+\n| 925I     | MDC  MDL-96                                       | 3     | 258   |\n+----------+---------------------------------------------------+-------+-------+\n| 925V     | CON & REC MDL-00                                  | 9     | 259   |\n+----------+---------------------------------------------------+-------+-------+\n| 926      | Judiciary (non-reimbursable)                      | 1     | 260   |\n+----------+---------------------------------------------------+-------+-------+\n| 9260     | Judiciary (non-reimbursable)                      | 1     | 261   |\n+----------+---------------------------------------------------+-------+-------+\n| 9261     | Judiciary                                         | 1     | 262   |\n+----------+---------------------------------------------------+-------+-------+\n| 9263     | Judiciary                                         | 1     | 263   |\n+----------+---------------------------------------------------+-------+-------+\n| 9265     | Judiciary                                         | 1     | 264   |\n+----------+---------------------------------------------------+-------+-------+\n| 926C     | MA-JUDIC  MDL-94                                  | 1     | 265   |\n+----------+---------------------------------------------------+-------+-------+\n| 927      | Dept. of Education (DOE) - UMass., State          | 1     | 266   |\n|          | Colleges, Community Colleges (non-reimbursable)   |       |       |\n+----------+---------------------------------------------------+-------+-------+\n| 9270     | Dept. of Education (DOE) - UMass., State          | 1     | 267   |\n|          | Colleges, Community Colleges (non-reimbursable)   |       |       |\n+----------+---------------------------------------------------+-------+-------+\n| 9271     | State Colleges                                    | 1     | 268   |\n+----------+---------------------------------------------------+-------+-------+\n| 9273     | State Colleges                                    | 1     | 269   |\n+----------+---------------------------------------------------+-------+-------+\n| 9275     | State Colleges                                    | 1     | 270   |\n+----------+---------------------------------------------------+-------+-------+\n| 927C     | NREIMB EDUCA                                      | 2     | 271   |\n+----------+---------------------------------------------------+-------+-------+\n| 927V     | MDL-00                                            | 1     | 272   |\n+----------+---------------------------------------------------+-------+-------+\n| 928      | Division of Capital Asset Management (DCAM) -     | 1     | 273   |\n|          | Bureau of State Office Buildings (non-            |       |       |\n|          | reimbursable)                                     |       |       |\n+----------+---------------------------------------------------+-------+-------+\n| 9280     | Division of Capital Asset Management (DCAM) -     | 1     | 274   |\n|          | Bureau of State Office Buildings (non-            |       |       |\n|          | reimbursable)                                     |       |       |\n+----------+---------------------------------------------------+-------+-------+\n| 9281     | Mass DCA R                                        | 2     | 275   |\n+----------+---------------------------------------------------+-------+-------+\n| 9282     | Mass DCA C                                        | 1     | 276   |\n+----------+---------------------------------------------------+-------+-------+\n| 9283     | Div Capital Asset Mngmnt                          | 1     | 277   |\n+----------+---------------------------------------------------+-------+-------+\n| 9285     | Div Capital Asset Mngmnt                          | 1     | 278   |\n+----------+---------------------------------------------------+-------+-------+\n| 928C     | DIV CAP ASSET    NR                               | 2     | 279   |\n+----------+---------------------------------------------------+-------+-------+\n| 928I     | Exempt- Division of capital asset management,     | 1     | 280   |\n|          | bureau of state office buildings                  |       |       |\n+----------+---------------------------------------------------+-------+-------+\n| 928V     | IMPUTED - Division of Capital Asset Management    | 4     | 281   |\n|          | (DCAM) - Bureau of State Office Buildings (non-   |       |       |\n|          | reimbursable)                                     |       |       |\n+----------+---------------------------------------------------+-------+-------+\n| 929      | Comm. Of Mass. (Other, non-reimbursable)          | 1     | 282   |\n+----------+---------------------------------------------------+-------+-------+\n| 9290     | Comm. Of Mass. (Other, non-reimbursable)          | 1     | 283   |\n+----------+---------------------------------------------------+-------+-------+\n| 9291     | Other V Non                                       | 2     | 284   |\n+----------+---------------------------------------------------+-------+-------+\n| 9292     | Office Bldg                                       | 1     | 285   |\n+----------+---------------------------------------------------+-------+-------+\n| 9295     | Other State Non-reimburse                         | 1     | 286   |\n+----------+---------------------------------------------------+-------+-------+\n| 9296     | OTHER/NR I                                        | 1     | 287   |\n+----------+---------------------------------------------------+-------+-------+\n| 929A     | Non Profit                                        | 1     | 288   |\n+----------+---------------------------------------------------+-------+-------+\n| 929B     | Non Profit  Indl                                  | 1     | 289   |\n+----------+---------------------------------------------------+-------+-------+\n| 929C     | MA-OTHER  MDL-94                                  | 4     | 290   |\n+----------+---------------------------------------------------+-------+-------+\n| 929I     | MA-OTHER  MDL-96                                  | 6     | 291   |\n+----------+---------------------------------------------------+-------+-------+\n| 929V     | NREIMB OTHER                                      | 9     | 292   |\n+----------+---------------------------------------------------+-------+-------+\n| 930      | Vacant, Selectmen or City Council (Municipal)     | 1     | 293   |\n+----------+---------------------------------------------------+-------+-------+\n| 9300     | Vacant, Selectmen or City Council (Municipal)     | 1     | 294   |\n+----------+---------------------------------------------------+-------+-------+\n| 9301     | IMPUTED - Vacant, Selectmen or City Council       | 5     | 295   |\n|          | (Municipal)                                       |       |       |\n+----------+---------------------------------------------------+-------+-------+\n| 9302     | Grafton Vacant C                                  | 5     | 296   |\n+----------+---------------------------------------------------+-------+-------+\n| 9304     | IMPUTED - Vac,Select                              | 2     | 297   |\n+----------+---------------------------------------------------+-------+-------+\n| 9305     | Vac,Select,Rstrct                                 | 3     | 298   |\n+----------+---------------------------------------------------+-------+-------+\n| 9306     | Non Profit Industrial                             | 4     | 299   |\n+----------+---------------------------------------------------+-------+-------+\n| 9307     | UNKNOWN OWNER V                                   | 2     | 300   |\n+----------+---------------------------------------------------+-------+-------+\n| 9308     | TOWN CEMETERY                                     | 3     | 301   |\n+----------+---------------------------------------------------+-------+-------+\n| 930A     | TOWN-PROP MOO                                     | 1     | 302   |\n+----------+---------------------------------------------------+-------+-------+\n| 930B     | SELCT PROP MO1                                    | 1     | 303   |\n+----------+---------------------------------------------------+-------+-------+\n| 930C     | MUNICIPAL-SE                                      | 7     | 304   |\n+----------+---------------------------------------------------+-------+-------+\n| 930F     | IMPUTED - Vacant, Selectmen or City Council       | 1     | 305   |\n|          | (Municipal)                                       |       |       |\n+----------+---------------------------------------------------+-------+-------+\n| 930G     | TOWN CEMETERY                                     | 1     | 306   |\n+----------+---------------------------------------------------+-------+-------+\n| 930L     | WATER DEPT MDL-96                                 | 2     | 307   |\n+----------+---------------------------------------------------+-------+-------+\n| 930R     | MUNICPAL-SEL                                      | 3     | 308   |\n+----------+---------------------------------------------------+-------+-------+\n| 930V     | Town-Prop - LAN                                   | 22    | 309   |\n+----------+---------------------------------------------------+-------+-------+\n| 930W     | MUN VACANT WATER                                  | 1     | 310   |\n+----------+---------------------------------------------------+-------+-------+\n| 931      | Improved, Selectmen or City Council (Municipal)   | 1     | 311   |\n+----------+---------------------------------------------------+-------+-------+\n| 9310     | Improved, Selectmen or City Council (Municipal)   | 1     | 312   |\n+----------+---------------------------------------------------+-------+-------+\n| 9311     | Improved, Selectmen or City Council (Municipal)   | 35    | 313   |\n+----------+---------------------------------------------------+-------+-------+\n| 9312     | Improved, Selectmen or City Council (Municipal)   | 2     | 314   |\n+----------+---------------------------------------------------+-------+-------+\n| 9313     | Grafton Improved V                                | 2     | 315   |\n+----------+---------------------------------------------------+-------+-------+\n| 9314     | SELECTMEN COM                                     | 1     | 316   |\n+----------+---------------------------------------------------+-------+-------+\n| 9315     | Improved City                                     | 1     | 317   |\n+----------+---------------------------------------------------+-------+-------+\n| 931A     | AFFORDABLE LEXHAB                                 | 1     | 318   |\n+----------+---------------------------------------------------+-------+-------+\n| 931B     | Unknown                                           | 1     | 319   |\n+----------+---------------------------------------------------+-------+-------+\n| 931C     | SELECTMEN-IMPRVD                                  | 26    | 320   |\n+----------+---------------------------------------------------+-------+-------+\n| 931I     | SELECTMEN-IMPRVD                                  | 19    | 321   |\n+----------+---------------------------------------------------+-------+-------+\n| 931J     | IMPUTED - Improved, Selectmen or City Council     | 1     | 322   |\n|          | (Municipal)                                       |       |       |\n+----------+---------------------------------------------------+-------+-------+\n| 931N     | Comm Mass Mwra                                    | 1     | 323   |\n+----------+---------------------------------------------------+-------+-------+\n| 931R     | Improved, Selectmen or City Council (Municipal)   | 27    | 324   |\n+----------+---------------------------------------------------+-------+-------+\n| 931U     | EXEMPT CONDO COT                                  | 1     | 325   |\n+----------+---------------------------------------------------+-------+-------+\n| 931V     | Improved, Selectmen or City Council (Municipal)   | 12    | 326   |\n+----------+---------------------------------------------------+-------+-------+\n| 931Z     | Condo, other                                      | 1     | 327   |\n+----------+---------------------------------------------------+-------+-------+\n| 932      | Vacant, Conservation (Municipal or County)        | 1     | 328   |\n+----------+---------------------------------------------------+-------+-------+\n| 9320     | Vacant, Conservation (Municipal or County)        | 1     | 329   |\n+----------+---------------------------------------------------+-------+-------+\n| 932C     | IMPUTED - Vacant, Conservation (Municipal or      | 2     | 330   |\n|          | County)                                           |       |       |\n+----------+---------------------------------------------------+-------+-------+\n| 932I     | Municipal Exempt                                  | 1     | 331   |\n+----------+---------------------------------------------------+-------+-------+\n| 932R     | CONSERVATION                                      | 3     | 332   |\n+----------+---------------------------------------------------+-------+-------+\n| 932V     | Vacant, Conservation (Municipal or County)        | 15    | 333   |\n+----------+---------------------------------------------------+-------+-------+\n| 933      | Vacant, Education (Municipal or County)           | 1     | 334   |\n+----------+---------------------------------------------------+-------+-------+\n| 9330     | Vacant, Education (Municipal or County)           | 1     | 335   |\n+----------+---------------------------------------------------+-------+-------+\n| 9331     | REMOVE CODE                                       | 1     | 336   |\n+----------+---------------------------------------------------+-------+-------+\n| 9333     | REMOVE CODE                                       | 1     | 337   |\n+----------+---------------------------------------------------+-------+-------+\n| 9335     | REMOVE CODE                                       | 1     | 338   |\n+----------+---------------------------------------------------+-------+-------+\n| 933V     | EDU VACANT                                        | 12    | 339   |\n+----------+---------------------------------------------------+-------+-------+\n| 934      | Improved, Education (Municipal or County)         | 1     | 340   |\n+----------+---------------------------------------------------+-------+-------+\n| 9340     | Improved, Education (Municipal or County)         | 1     | 341   |\n+----------+---------------------------------------------------+-------+-------+\n| 9341     | IMPUTED - Improved, Education (Municipal or       | 24    | 342   |\n|          | County)                                           |       |       |\n+----------+---------------------------------------------------+-------+-------+\n| 9344     | EDUCATION COM                                     | 1     | 343   |\n+----------+---------------------------------------------------+-------+-------+\n| 9345     | Improved Local Edu                                | 1     | 344   |\n+----------+---------------------------------------------------+-------+-------+\n| 934C     | improved education                                | 14    | 345   |\n+----------+---------------------------------------------------+-------+-------+\n| 934I     | improved education                                | 6     | 346   |\n+----------+---------------------------------------------------+-------+-------+\n| 934R     | Family Conver.                                    | 1     | 347   |\n+----------+---------------------------------------------------+-------+-------+\n| 934V     | VAC Educational                                   | 7     | 348   |\n+----------+---------------------------------------------------+-------+-------+\n| 935      | Improved, Municipal Public Safety                 | 1     | 349   |\n+----------+---------------------------------------------------+-------+-------+\n| 9350     | Improved, Municipal Public Safety                 | 1     | 350   |\n+----------+---------------------------------------------------+-------+-------+\n| 9351     | IMPUTED - Improved, Municipal Public Safety       | 26    | 351   |\n+----------+---------------------------------------------------+-------+-------+\n| 9353     | Improved Public Safety                            | 1     | 352   |\n+----------+---------------------------------------------------+-------+-------+\n| 9354     | PUBLIC SAFETY COM                                 | 1     | 353   |\n+----------+---------------------------------------------------+-------+-------+\n| 9355     | Improved Public Safety                            | 1     | 354   |\n+----------+---------------------------------------------------+-------+-------+\n| 935C     | improved public safety                            | 7     | 355   |\n+----------+---------------------------------------------------+-------+-------+\n| 935F     | Fire M96                                          | 1     | 356   |\n+----------+---------------------------------------------------+-------+-------+\n| 935H     | Hydrant M00                                       | 1     | 357   |\n+----------+---------------------------------------------------+-------+-------+\n| 935I     | improved public safety                            | 8     | 358   |\n+----------+---------------------------------------------------+-------+-------+\n| 935L     | IMP-FIRE                                          | 1     | 359   |\n+----------+---------------------------------------------------+-------+-------+\n| 935P     | Police M94                                        | 1     | 360   |\n+----------+---------------------------------------------------+-------+-------+\n| 935V     | Municip - Pub Safety Vac                          | 2     | 361   |\n+----------+---------------------------------------------------+-------+-------+\n| 936      | Vacant, Tax Title/Treasurer                       | 1     | 362   |\n+----------+---------------------------------------------------+-------+-------+\n| 9360     | Vacant, Tax Title/Treasurer                       | 1     | 363   |\n+----------+---------------------------------------------------+-------+-------+\n| 9361     | REMOVE CODE                                       | 1     | 364   |\n+----------+---------------------------------------------------+-------+-------+\n| 9362     | Vac,Tax Title,Marsh                               | 1     | 365   |\n+----------+---------------------------------------------------+-------+-------+\n| 9363     | Vac,Tax Title, Rec                                | 2     | 366   |\n+----------+---------------------------------------------------+-------+-------+\n| 9364     | Vac,Tax Title, Consv                              | 1     | 367   |\n+----------+---------------------------------------------------+-------+-------+\n| 9365     | REMOVE CODE                                       | 1     | 368   |\n+----------+---------------------------------------------------+-------+-------+\n| 936A     | VACANT TAX TITLE                                  | 1     | 369   |\n+----------+---------------------------------------------------+-------+-------+\n| 936P     | TAX FORECLOSURE                                   | 1     | 370   |\n+----------+---------------------------------------------------+-------+-------+\n| 936V     | IMPUTED - Vacant, Tax Title/Treasurer             | 6     | 371   |\n+----------+---------------------------------------------------+-------+-------+\n| 936Z     | TAXTFORCL MDL-00                                  | 1     | 372   |\n+----------+---------------------------------------------------+-------+-------+\n| 937      | Improved, Tax Title/Treasurer                     | 1     | 373   |\n+----------+---------------------------------------------------+-------+-------+\n| 9370     | Improved, Tax Title/Treasurer                     | 1     | 374   |\n+----------+---------------------------------------------------+-------+-------+\n| 9371     | Improved, Tax Title/Treasurer                     | 7     | 375   |\n+----------+---------------------------------------------------+-------+-------+\n| 9372     | Condo - Town FCL                                  | 3     | 376   |\n+----------+---------------------------------------------------+-------+-------+\n| 9373     | IMPR COMM TT                                      | 1     | 377   |\n+----------+---------------------------------------------------+-------+-------+\n| 9375     | Improved, Tax Title                               | 1     | 378   |\n+----------+---------------------------------------------------+-------+-------+\n| 937B     | IMPROV TAX TITLE                                  | 1     | 379   |\n+----------+---------------------------------------------------+-------+-------+\n| 937C     | MUNICIPAL TA                                      | 2     | 380   |\n+----------+---------------------------------------------------+-------+-------+\n| 937I     | MUNICIPAL TA                                      | 1     | 381   |\n+----------+---------------------------------------------------+-------+-------+\n| 937R     | TAX TITLE IMP RES                                 | 10    | 382   |\n+----------+---------------------------------------------------+-------+-------+\n| 937U     | MUN TAX TITLE CND                                 | 1     | 383   |\n+----------+---------------------------------------------------+-------+-------+\n| 937V     | Improved, Tax Title/Treasurer                     | 1     | 384   |\n+----------+---------------------------------------------------+-------+-------+\n| 938      | Vacant, District (County)                         | 1     | 385   |\n+----------+---------------------------------------------------+-------+-------+\n| 9380     | Vacant, District (County)                         | 1     | 386   |\n+----------+---------------------------------------------------+-------+-------+\n| 9383     | WILKINSONVILLE WD V                               | 1     | 387   |\n+----------+---------------------------------------------------+-------+-------+\n| 938V     | VAC DISTRCT  MDL-00                               | 2     | 388   |\n+----------+---------------------------------------------------+-------+-------+\n| 939      | Improved, District (County)                       | 1     | 389   |\n+----------+---------------------------------------------------+-------+-------+\n| 9390     | Improved, District (County)                       | 1     | 390   |\n+----------+---------------------------------------------------+-------+-------+\n| 9391     | IMPUTED - Improved, District (County)             | 8     | 391   |\n+----------+---------------------------------------------------+-------+-------+\n| 9393     | Improved District                                 | 1     | 392   |\n+----------+---------------------------------------------------+-------+-------+\n| 9395     | Improved District                                 | 1     | 393   |\n+----------+---------------------------------------------------+-------+-------+\n| 939C     | IMP DISTRCT  MDL-94                               | 7     | 394   |\n+----------+---------------------------------------------------+-------+-------+\n| 939I     | Improved, District (County)                       | 1     | 395   |\n+----------+---------------------------------------------------+-------+-------+\n| 939R     | TOWN OF SWANSEA M0                                | 5     | 396   |\n|          |                                                   |       |       |\n+----------+---------------------------------------------------+-------+-------+\n| 939V     | Improved, District (County) vacant                | 3     | 397   |\n+----------+---------------------------------------------------+-------+-------+\n| 940      | Elementary Level (Educational Private)            | 1     | 398   |\n+----------+---------------------------------------------------+-------+-------+\n| 9400     | Elementary Level (Educational Private)            | 1     | 399   |\n+----------+---------------------------------------------------+-------+-------+\n| 9401     | PRIV ELEMENTARY C                                 | 8     | 400   |\n+----------+---------------------------------------------------+-------+-------+\n| 9402     | Non Profit C                                      | 2     | 401   |\n+----------+---------------------------------------------------+-------+-------+\n| 9403     | Private Elementary Education                      | 2     | 402   |\n+----------+---------------------------------------------------+-------+-------+\n| 9405     | Private Elementary Education                      | 1     | 403   |\n+----------+---------------------------------------------------+-------+-------+\n| 940C     | PRIV ELEM                                         | 6     | 404   |\n+----------+---------------------------------------------------+-------+-------+\n| 940I     | NPROFIT 96                                        | 1     | 405   |\n+----------+---------------------------------------------------+-------+-------+\n| 940R     | CHARITABLE M                                      | 4     | 406   |\n+----------+---------------------------------------------------+-------+-------+\n| 940V     | NPROFIT 00                                        | 3     | 407   |\n+----------+---------------------------------------------------+-------+-------+\n| 941      | Secondary Level (Educational Private)             | 1     | 408   |\n+----------+---------------------------------------------------+-------+-------+\n| 9410     | Secondary Level (Educational Private)             | 1     | 409   |\n+----------+---------------------------------------------------+-------+-------+\n| 9411     | PRIV SECONDARY C                                  | 8     | 410   |\n+----------+---------------------------------------------------+-------+-------+\n| 9413     | Private Secondary Education                       | 1     | 411   |\n+----------+---------------------------------------------------+-------+-------+\n| 9415     | Private Secondary Education                       | 1     | 412   |\n+----------+---------------------------------------------------+-------+-------+\n| 941C     | NPROFIT 06  MDL-94                                | 5     | 413   |\n+----------+---------------------------------------------------+-------+-------+\n| 941I     | SEC EDU 96                                        | 1     | 414   |\n+----------+---------------------------------------------------+-------+-------+\n| 941R     | PRI School MDL                                    | 3     | 415   |\n+----------+---------------------------------------------------+-------+-------+\n| 941V     | ex vac                                            | 3     | 416   |\n+----------+---------------------------------------------------+-------+-------+\n| 942      | College or University (Educational Private)       | 1     | 417   |\n+----------+---------------------------------------------------+-------+-------+\n| 9420     | College or University (Educational Private)       | 1     | 418   |\n+----------+---------------------------------------------------+-------+-------+\n| 9421     | Private College commercial                        | 5     | 419   |\n+----------+---------------------------------------------------+-------+-------+\n| 9422     | Private Edu Sec C                                 | 1     | 420   |\n+----------+---------------------------------------------------+-------+-------+\n| 9423     | Private College, University                       | 1     | 421   |\n+----------+---------------------------------------------------+-------+-------+\n| 9425     | Private College, University                       | 1     | 422   |\n+----------+---------------------------------------------------+-------+-------+\n| 942C     | EXEMPT UNIVERSITY CONDO                           | 2     | 423   |\n+----------+---------------------------------------------------+-------+-------+\n| 942R     | PRVT COLLEGE                                      | 3     | 424   |\n+----------+---------------------------------------------------+-------+-------+\n| 942V     | VAC PRIV COL                                      | 6     | 425   |\n+----------+---------------------------------------------------+-------+-------+\n| 943      | Other Educational (Educational Private)           | 1     | 426   |\n+----------+---------------------------------------------------+-------+-------+\n| 9430     | Other Educational (Educational Private)           | 1     | 427   |\n+----------+---------------------------------------------------+-------+-------+\n| 9431     | PRIV OTHER RDU C                                  | 7     | 428   |\n+----------+---------------------------------------------------+-------+-------+\n| 9433     | Other Educational                                 | 1     | 429   |\n+----------+---------------------------------------------------+-------+-------+\n| 9435     | Other Educational                                 | 1     | 430   |\n+----------+---------------------------------------------------+-------+-------+\n| 9439     | Educ Other P Tax                                  | 1     | 431   |\n+----------+---------------------------------------------------+-------+-------+\n| 943C     | Other Education                                   | 5     | 432   |\n+----------+---------------------------------------------------+-------+-------+\n| 943I     | Priv Other Edu                                    | 1     | 433   |\n+----------+---------------------------------------------------+-------+-------+\n| 943V     | MDL-00                                            | 1     | 434   |\n+----------+---------------------------------------------------+-------+-------+\n| 944      | Auxiliary Athletic (Educational Private)          | 1     | 435   |\n+----------+---------------------------------------------------+-------+-------+\n| 9440     | Auxiliary Athletic (Educational Private)          | 1     | 436   |\n+----------+---------------------------------------------------+-------+-------+\n| 9441     | Auxiliary Athletic                                | 1     | 437   |\n+----------+---------------------------------------------------+-------+-------+\n| 9445     | Auxiliary Athletic                                | 1     | 438   |\n+----------+---------------------------------------------------+-------+-------+\n| 944C     | ED AUXILIARY ATHLETIC                             | 1     | 439   |\n+----------+---------------------------------------------------+-------+-------+\n| 944V     | Ex Vac                                            | 2     | 440   |\n+----------+---------------------------------------------------+-------+-------+\n| 945      | Affiliated Housing (Educational Private)          | 1     | 441   |\n+----------+---------------------------------------------------+-------+-------+\n| 9450     | Affiliated Housing (Educational Private)          | 1     | 442   |\n+----------+---------------------------------------------------+-------+-------+\n| 9451     | Affiliated Housing                                | 2     | 443   |\n+----------+---------------------------------------------------+-------+-------+\n| 9453     | Affiliated Housing                                | 1     | 444   |\n+----------+---------------------------------------------------+-------+-------+\n| 9455     | Affiliated Housing                                | 1     | 445   |\n+----------+---------------------------------------------------+-------+-------+\n| 945C     | PRIV AFF HSING COMM                               | 2     | 446   |\n+----------+---------------------------------------------------+-------+-------+\n| 945I     | PRVT ED HSNG                                      | 1     | 447   |\n+----------+---------------------------------------------------+-------+-------+\n| 945R     | PRIV ED HSING M                                   | 3     | 448   |\n|          |                                                   |       |       |\n+----------+---------------------------------------------------+-------+-------+\n| 946      | Vacant (Educational Private)                      | 1     | 449   |\n+----------+---------------------------------------------------+-------+-------+\n| 9460     | Vacant (Educational Private)                      | 1     | 450   |\n+----------+---------------------------------------------------+-------+-------+\n| 9461     | IMPUTED - Vacant (Educational Private)            | 1     | 451   |\n+----------+---------------------------------------------------+-------+-------+\n| 9462     | IMPUTED - Vacant (Educational Private)            | 1     | 452   |\n+----------+---------------------------------------------------+-------+-------+\n| 946V     | EDUCAT VACANT                                     | 6     | 453   |\n+----------+---------------------------------------------------+-------+-------+\n| 947      | Other (Educational Private)                       | 1     | 454   |\n+----------+---------------------------------------------------+-------+-------+\n| 9470     | Other (Educational Private)                       | 1     | 455   |\n+----------+---------------------------------------------------+-------+-------+\n| 9471     | Other- Scientific                                 | 2     | 456   |\n+----------+---------------------------------------------------+-------+-------+\n| 9473     | Other- Scientific                                 | 1     | 457   |\n+----------+---------------------------------------------------+-------+-------+\n| 9475     | Other- Scientific                                 | 1     | 458   |\n+----------+---------------------------------------------------+-------+-------+\n| 947C     | ED COMM CONDO                                     | 1     | 459   |\n+----------+---------------------------------------------------+-------+-------+\n| 947V     | Other                                             | 2     | 460   |\n+----------+---------------------------------------------------+-------+-------+\n| 948      | Pilot Tax Agreement                               | 2     | 461   |\n+----------+---------------------------------------------------+-------+-------+\n| 949      | Educational, Private                              | 2     | 462   |\n+----------+---------------------------------------------------+-------+-------+\n| 9490     | Other                                             | 2     | 463   |\n+----------+---------------------------------------------------+-------+-------+\n| 950      | Vacant, Conservation Organizations (Charitable    | 1     | 464   |\n|          | Org.)                                             |       |       |\n+----------+---------------------------------------------------+-------+-------+\n| 9500     | Vacant, Conservation Organizations (Charitable    | 1     | 465   |\n|          | Org.)                                             |       |       |\n+----------+---------------------------------------------------+-------+-------+\n| 9501     | Vacant, Conservation Org                          | 1     | 466   |\n+----------+---------------------------------------------------+-------+-------+\n| 9503     | Vacant, Conservation Org                          | 1     | 467   |\n+----------+---------------------------------------------------+-------+-------+\n| 9505     | Vacant, Conservation Org                          | 1     | 468   |\n+----------+---------------------------------------------------+-------+-------+\n| 9507     | Char V CH 61A                                     | 1     | 469   |\n+----------+---------------------------------------------------+-------+-------+\n| 950I     | Vacant, Conservation Organizations (Charitable    | 1     | 470   |\n|          | Org.)                                             |       |       |\n+----------+---------------------------------------------------+-------+-------+\n| 950R     | Unknown                                           | 5     | 471   |\n+----------+---------------------------------------------------+-------+-------+\n| 950V     | Conservation  Vacant                              | 10    | 472   |\n+----------+---------------------------------------------------+-------+-------+\n| 951      | Other (Charitable Org.)                           | 1     | 473   |\n+----------+---------------------------------------------------+-------+-------+\n| 9510     | Other (Charitable Org.)                           | 1     | 474   |\n+----------+---------------------------------------------------+-------+-------+\n| 9511     | Other (Charitable Org.)                           | 18    | 475   |\n+----------+---------------------------------------------------+-------+-------+\n| 9512     | Other (Charitable Org.)                           | 14    | 476   |\n+----------+---------------------------------------------------+-------+-------+\n| 9513     | Char Other Condo                                  | 4     | 477   |\n+----------+---------------------------------------------------+-------+-------+\n| 9515     | Other Charitable                                  | 1     | 478   |\n+----------+---------------------------------------------------+-------+-------+\n| 951A     | Other                                             | 1     | 479   |\n+----------+---------------------------------------------------+-------+-------+\n| 951C     | Char Other M-94                                   | 8     | 480   |\n+----------+---------------------------------------------------+-------+-------+\n| 951I     | Unknown                                           | 2     | 481   |\n+----------+---------------------------------------------------+-------+-------+\n| 951R     | Other (Charitable Org.)                           | 8     | 482   |\n+----------+---------------------------------------------------+-------+-------+\n| 951V     | Other (Charitable Org.)                           | 5     | 483   |\n+----------+---------------------------------------------------+-------+-------+\n| 952      | Auxiliary use - Storage, Barns, etc...            | 1     | 484   |\n|          | (Charitable Org.)                                 |       |       |\n+----------+---------------------------------------------------+-------+-------+\n| 9520     | Auxiliary use - Storage, Barns, etc...            | 1     | 485   |\n|          | (Charitable Org.)                                 |       |       |\n+----------+---------------------------------------------------+-------+-------+\n| 9521     | Auxiliary Use Storage etc                         | 1     | 486   |\n+----------+---------------------------------------------------+-------+-------+\n| 9523     | Auxiliary Use Storage etc                         | 1     | 487   |\n+----------+---------------------------------------------------+-------+-------+\n| 9525     | Auxiliary Use Storage etc                         | 1     | 488   |\n+----------+---------------------------------------------------+-------+-------+\n| 952C     | CHARITABLE AUX USE                                | 1     | 489   |\n+----------+---------------------------------------------------+-------+-------+\n| 952V     | MDL-00                                            | 1     | 490   |\n+----------+---------------------------------------------------+-------+-------+\n| 953      | Cemeteries (Charitable Org.)                      | 1     | 491   |\n+----------+---------------------------------------------------+-------+-------+\n| 9530     | Cemeteries (Charitable Org.)                      | 1     | 492   |\n+----------+---------------------------------------------------+-------+-------+\n| 9531     | Cemeteries                                        | 2     | 493   |\n+----------+---------------------------------------------------+-------+-------+\n| 9532     | Cemeteries (Charitable Org.)                      | 4     | 494   |\n+----------+---------------------------------------------------+-------+-------+\n| 9534     | CEMETERIES COM                                    | 1     | 495   |\n+----------+---------------------------------------------------+-------+-------+\n| 9535     | Cemeteries                                        | 1     | 496   |\n+----------+---------------------------------------------------+-------+-------+\n| 953C     | CEMETERY RELIG                                    | 5     | 497   |\n+----------+---------------------------------------------------+-------+-------+\n| 953I     | Cemetery Improv                                   | 3     | 498   |\n+----------+---------------------------------------------------+-------+-------+\n| 953R     | OTHER - Cemeteries (Charitable Org.)              | 3     | 499   |\n+----------+---------------------------------------------------+-------+-------+\n| 953V     | Cemetery, Vacant                                  | 14    | 500   |\n+----------+---------------------------------------------------+-------+-------+\n| 954      | Function Halls, Community Centers, Fraternal      | 1     | 501   |\n|          | Organizations (Charitable Org.)                   |       |       |\n+----------+---------------------------------------------------+-------+-------+\n| 9540     | Function Halls, Community Centers, Fraternal      | 1     | 502   |\n|          | Organizations (Charitable Org.)                   |       |       |\n+----------+---------------------------------------------------+-------+-------+\n| 9541     | Function Halls, Community Centers, Fraternal      | 24    | 503   |\n|          | Organizations (Charitable Org.)                   |       |       |\n+----------+---------------------------------------------------+-------+-------+\n| 9542     | Fraternal/Org C                                   | 1     | 504   |\n+----------+---------------------------------------------------+-------+-------+\n| 9544     | FUNC/FRAT ORG COM                                 | 1     | 505   |\n+----------+---------------------------------------------------+-------+-------+\n| 9545     | Fraternity, Cmnty Ctr                             | 1     | 506   |\n+----------+---------------------------------------------------+-------+-------+\n| 954C     | charitable function                               | 22    | 507   |\n|          |                                                   |       |       |\n+----------+---------------------------------------------------+-------+-------+\n| 954D     | CHAR ORG 06                                       | 1     | 508   |\n+----------+---------------------------------------------------+-------+-------+\n| 954E     | FRAT CONDO                                        | 1     | 509   |\n+----------+---------------------------------------------------+-------+-------+\n| 954I     | Unknown                                           | 3     | 510   |\n+----------+---------------------------------------------------+-------+-------+\n| 954R     | CHARITABLE VACANT                                 | 10    | 511   |\n+----------+---------------------------------------------------+-------+-------+\n| 954V     | IMPUTED - Function Halls, Community Centers,      | 15    | 512   |\n|          | Fraternal Organizations (Charitable Org.)         |       |       |\n+----------+---------------------------------------------------+-------+-------+\n| 954X     | Function Halls, Community Centers, Fraternal      | 1     | 513   |\n|          | Organizations (Charitable Org.)                   |       |       |\n+----------+---------------------------------------------------+-------+-------+\n| 955      | Hospitals (Charitable Org.)                       | 1     | 514   |\n+----------+---------------------------------------------------+-------+-------+\n| 9550     | Hospitals (Charitable Org.)                       | 1     | 515   |\n+----------+---------------------------------------------------+-------+-------+\n| 9551     | Hospital, Residential                             | 4     | 516   |\n+----------+---------------------------------------------------+-------+-------+\n| 9552     | IMPUTED - Hospitals (Charitable Org.)             | 13    | 517   |\n+----------+---------------------------------------------------+-------+-------+\n| 9555     | Hospitals                                         | 1     | 518   |\n+----------+---------------------------------------------------+-------+-------+\n| 955C     | Hospitals (Charitable Org.)                       | 9     | 519   |\n+----------+---------------------------------------------------+-------+-------+\n| 955I     | HOSPITAL                                          | 3     | 520   |\n+----------+---------------------------------------------------+-------+-------+\n| 955O     | Char Hosp M-06                                    | 1     | 521   |\n+----------+---------------------------------------------------+-------+-------+\n| 955R     | IMPUTED - Hospitals (Charitable Org.)             | 4     | 522   |\n+----------+---------------------------------------------------+-------+-------+\n| 955U     | P/HOS CHAR MDL-05                                 | 1     | 523   |\n+----------+---------------------------------------------------+-------+-------+\n| 955V     | HOSPITALS                                         | 6     | 524   |\n+----------+---------------------------------------------------+-------+-------+\n| 956      | Libraries, Museums (Charitable Org.)              | 1     | 525   |\n+----------+---------------------------------------------------+-------+-------+\n| 9560     | Libraries, Museums (Charitable Org.)              | 1     | 526   |\n+----------+---------------------------------------------------+-------+-------+\n| 9561     | Libraries, Museums (Charitable Org.)              | 8     | 527   |\n+----------+---------------------------------------------------+-------+-------+\n| 9562     | Libraries-Museums R                               | 1     | 528   |\n+----------+---------------------------------------------------+-------+-------+\n| 9564     | LIBRARIES/MSM COM                                 | 1     | 529   |\n+----------+---------------------------------------------------+-------+-------+\n| 9565     | Libraries, Museums                                | 1     | 530   |\n+----------+---------------------------------------------------+-------+-------+\n| 956C     | Charitable, Libraries - Commercial                | 6     | 531   |\n+----------+---------------------------------------------------+-------+-------+\n| 956R     | Charitable, Libraries - Residential               | 9     | 532   |\n+----------+---------------------------------------------------+-------+-------+\n| 956V     | CHAR-MUS. LI                                      | 6     | 533   |\n+----------+---------------------------------------------------+-------+-------+\n| 957      | Charitable Services                               | 1     | 534   |\n+----------+---------------------------------------------------+-------+-------+\n| 9570     | Charitable Services                               | 1     | 535   |\n+----------+---------------------------------------------------+-------+-------+\n| 9571     | Charitable Services                               | 16    | 536   |\n+----------+---------------------------------------------------+-------+-------+\n| 9572     | Charitable Services, Other                        | 3     | 537   |\n+----------+---------------------------------------------------+-------+-------+\n| 9573     | CHAR SERVICES CONDO                               | 2     | 538   |\n+----------+---------------------------------------------------+-------+-------+\n| 9575     | Charitable Svc                                    | 1     | 539   |\n+----------+---------------------------------------------------+-------+-------+\n| 957A     | Charitable Services                               | 1     | 540   |\n+----------+---------------------------------------------------+-------+-------+\n| 957C     | CHARITABLE CM CONDO                               | 19    | 541   |\n+----------+---------------------------------------------------+-------+-------+\n| 957I     | CHARITABLE MD 96                                  | 2     | 542   |\n+----------+---------------------------------------------------+-------+-------+\n| 957M     | Charitable Services                               | 1     | 543   |\n+----------+---------------------------------------------------+-------+-------+\n| 957O     | CHARITABLE MDL-06                                 | 1     | 544   |\n+----------+---------------------------------------------------+-------+-------+\n| 957R     | IMPUTED - Charitable Services                     | 22    | 545   |\n+----------+---------------------------------------------------+-------+-------+\n| 957U     | CHAR SER                                          | 2     | 546   |\n+----------+---------------------------------------------------+-------+-------+\n| 957V     | CHARIT ORG  MDL-00                                | 7     | 547   |\n+----------+---------------------------------------------------+-------+-------+\n| 958      | Recreation, Active Use (Charitable Org.)          | 1     | 548   |\n+----------+---------------------------------------------------+-------+-------+\n| 9580     | Recreation, Active Use (Charitable Org.)          | 1     | 549   |\n+----------+---------------------------------------------------+-------+-------+\n| 9581     | charitable recreation activity residential        | 8     | 550   |\n+----------+---------------------------------------------------+-------+-------+\n| 9582     | CHAR REC ACTIVE C                                 | 7     | 551   |\n+----------+---------------------------------------------------+-------+-------+\n| 9585     | Recreation, Active Use                            | 1     | 552   |\n+----------+---------------------------------------------------+-------+-------+\n| 958A     | Airport                                           | 1     | 553   |\n+----------+---------------------------------------------------+-------+-------+\n| 958C     | recreation commercial                             | 7     | 554   |\n|          |                                                   |       |       |\n+----------+---------------------------------------------------+-------+-------+\n| 958I     | recreation industrial                             | 4     | 555   |\n+----------+---------------------------------------------------+-------+-------+\n| 958R     | recreation residential                            | 6     | 556   |\n+----------+---------------------------------------------------+-------+-------+\n| 958V     | IMPUTED - Recreation, Active Use (Charitable      | 11    | 557   |\n|          | Org.)                                             |       |       |\n+----------+---------------------------------------------------+-------+-------+\n| 959      | Housing, Other (Charitable Org.)                  | 1     | 558   |\n+----------+---------------------------------------------------+-------+-------+\n| 9590     | Housing, Other (Charitable Org.)                  | 1     | 559   |\n+----------+---------------------------------------------------+-------+-------+\n| 9591     | Housing, Other                                    | 22    | 560   |\n+----------+---------------------------------------------------+-------+-------+\n| 9592     | Housing, Other (Charitable Org.)                  | 11    | 561   |\n+----------+---------------------------------------------------+-------+-------+\n| 9593     | Local Use Code Variation for tracking and         | 2     | 562   |\n|          | administrative purposes, Same as \"9590\".          |       |       |\n+----------+---------------------------------------------------+-------+-------+\n| 9595     | Housing, Other                                    | 1     | 563   |\n+----------+---------------------------------------------------+-------+-------+\n| 959C     | IMPUTED - Housing, Other (Charitable Org.)        | 11    | 564   |\n+----------+---------------------------------------------------+-------+-------+\n| 959N     | Charitable                                        | 1     | 565   |\n+----------+---------------------------------------------------+-------+-------+\n| 959R     | IMPUTED - Housing, Other (Charitable Org.)        | 25    | 566   |\n+----------+---------------------------------------------------+-------+-------+\n| 959U     | Char. Condo M-05                                  | 3     | 567   |\n+----------+---------------------------------------------------+-------+-------+\n| 959V     | HOUSING                                           | 3     | 568   |\n+----------+---------------------------------------------------+-------+-------+\n| 960      | Church, Mosque, Synagogue, Temple, etc...         | 1     | 569   |\n+----------+---------------------------------------------------+-------+-------+\n| 9600     | Church, Mosque, Synagogue, Temple, etc...         | 1     | 570   |\n+----------+---------------------------------------------------+-------+-------+\n| 9601     | Church, Mosque, Synagogue, Temple, etc...         | 25    | 571   |\n+----------+---------------------------------------------------+-------+-------+\n| 9602     | Church, Mosque, Synagogue, Temple, etc...         | 29    | 572   |\n+----------+---------------------------------------------------+-------+-------+\n| 9603     | Church, Mosque, Synagogue, Temple, etc...         | 5     | 573   |\n+----------+---------------------------------------------------+-------+-------+\n| 9604     | HSE OF WORSHIP COM                                | 1     | 574   |\n+----------+---------------------------------------------------+-------+-------+\n| 9605     | Church                                            | 1     | 575   |\n+----------+---------------------------------------------------+-------+-------+\n| 960C     | Church, etc. MDL                                  | 23    | 576   |\n+----------+---------------------------------------------------+-------+-------+\n| 960I     | IMPUTED - Church, Mosque, Synagogue, Temple,      | 15    | 577   |\n|          | etc...                                            |       |       |\n+----------+---------------------------------------------------+-------+-------+\n| 960R     | Church Etc. MDL                                   | 24    | 578   |\n+----------+---------------------------------------------------+-------+-------+\n| 960V     | Unknown                                           | 22    | 579   |\n+----------+---------------------------------------------------+-------+-------+\n| 961      | Rectory or Parsonage                              | 1     | 580   |\n+----------+---------------------------------------------------+-------+-------+\n| 9610     | Rectory or Parsonage                              | 1     | 581   |\n+----------+---------------------------------------------------+-------+-------+\n| 9611     | CondominiumCondomini                              | 17    | 582   |\n+----------+---------------------------------------------------+-------+-------+\n| 9612     | Rectory or Parsonage                              | 6     | 583   |\n+----------+---------------------------------------------------+-------+-------+\n| 9613     | Rectory, Parsonage                                | 1     | 584   |\n+----------+---------------------------------------------------+-------+-------+\n| 9615     | Rectory, Parsonage                                | 1     | 585   |\n+----------+---------------------------------------------------+-------+-------+\n| 961C     | Religious, Rectory, Parsonage - Commercial        | 6     | 586   |\n+----------+---------------------------------------------------+-------+-------+\n| 961N     | Religious - Use                                   | 1     | 587   |\n+----------+---------------------------------------------------+-------+-------+\n| 961P     | Exempt Residential Condo                          | 1     | 588   |\n+----------+---------------------------------------------------+-------+-------+\n| 961R     | RELIG AFFL HSNG                                   | 17    | 589   |\n+----------+---------------------------------------------------+-------+-------+\n| 961U     | PARSONAGE-RE                                      | 2     | 590   |\n+----------+---------------------------------------------------+-------+-------+\n| 961V     | Ex Vac                                            | 2     | 591   |\n+----------+---------------------------------------------------+-------+-------+\n| 961W     | REC/PARSON WATER                                  | 1     | 592   |\n+----------+---------------------------------------------------+-------+-------+\n| 962      | Other (Religious Org.)                            | 1     | 593   |\n+----------+---------------------------------------------------+-------+-------+\n| 9620     | Other (Religious Org.)                            | 1     | 594   |\n+----------+---------------------------------------------------+-------+-------+\n| 9621     | Local Use Code Variation for tracking and         | 8     | 595   |\n|          | administrative purposes, Same as \"9620\".          |       |       |\n+----------+---------------------------------------------------+-------+-------+\n| 9622     | IMPUTED - Other (Religious Org.)                  | 12    | 596   |\n+----------+---------------------------------------------------+-------+-------+\n| 9625     | Other                                             | 1     | 597   |\n+----------+---------------------------------------------------+-------+-------+\n| 962C     | RELIG.-OTHER                                      | 7     | 598   |\n+----------+---------------------------------------------------+-------+-------+\n| 962D     | Dormitory                                         | 1     | 599   |\n+----------+---------------------------------------------------+-------+-------+\n| 962I     | Other (Religious Org.)                            | 2     | 600   |\n+----------+---------------------------------------------------+-------+-------+\n| 962R     | Other (Religious Org.) Residential                | 5     | 601   |\n+----------+---------------------------------------------------+-------+-------+\n| 962V     | RELIG VACANT                                      | 16    | 602   |\n+----------+---------------------------------------------------+-------+-------+\n| 963      | Religious-Auxilary Use (offices,garage)           | 3     | 603   |\n+----------+---------------------------------------------------+-------+-------+\n| 9630     | IMPUTED - Exempt                                  | 1     | 604   |\n+----------+---------------------------------------------------+-------+-------+\n| 964      | Religious-Education                               | 1     | 605   |\n+----------+---------------------------------------------------+-------+-------+\n| 965      | IMPUTED - Exempt                                  | 1     | 606   |\n+----------+---------------------------------------------------+-------+-------+\n| 9650     | IMPUTED - Exempt                                  | 1     | 607   |\n+----------+---------------------------------------------------+-------+-------+\n| 966      | IMPUTED - Exempt                                  | 1     | 608   |\n+----------+---------------------------------------------------+-------+-------+\n| 9660     | IMPUTED - Exempt                                  | 1     | 609   |\n+----------+---------------------------------------------------+-------+-------+\n| 968      | IMPUTED - Exempt                                  | 1     | 610   |\n+----------+---------------------------------------------------+-------+-------+\n| 9680     | IMPUTED - Exempt                                  | 1     | 611   |\n+----------+---------------------------------------------------+-------+-------+\n| 969      | Religious Group                                   | 2     | 612   |\n+----------+---------------------------------------------------+-------+-------+\n| 9690     | Other                                             | 3     | 613   |\n+----------+---------------------------------------------------+-------+-------+\n| 9691     | RELIG VACANT                                      | 1     | 614   |\n+----------+---------------------------------------------------+-------+-------+\n| 970      | Housing Authority                                 | 1     | 615   |\n+----------+---------------------------------------------------+-------+-------+\n| 9700     | Housing Authority                                 | 1     | 616   |\n+----------+---------------------------------------------------+-------+-------+\n| 9701     | Housing Authority                                 | 19    | 617   |\n+----------+---------------------------------------------------+-------+-------+\n| 9702     | IMPUTED - Housing Authority                       | 5     | 618   |\n+----------+---------------------------------------------------+-------+-------+\n| 9703     | Housing Authority                                 | 1     | 619   |\n+----------+---------------------------------------------------+-------+-------+\n| 9705     | Housing Authority                                 | 1     | 620   |\n+----------+---------------------------------------------------+-------+-------+\n| 970C     | Apartments                                        | 25    | 621   |\n+----------+---------------------------------------------------+-------+-------+\n| 970I     | THA M96                                           | 1     | 622   |\n+----------+---------------------------------------------------+-------+-------+\n| 970M     | HSNG AUTH M03                                     | 1     | 623   |\n+----------+---------------------------------------------------+-------+-------+\n| 970R     | 2 Family                                          | 18    | 624   |\n+----------+---------------------------------------------------+-------+-------+\n| 970V     | Housing Authority                                 | 5     | 625   |\n+----------+---------------------------------------------------+-------+-------+\n| 971      | Utility Authority - Electric, Light, Sewer, Water | 1     | 626   |\n+----------+---------------------------------------------------+-------+-------+\n| 9710     | Utility Authority - Electric, Light, Sewer, Water | 1     | 627   |\n+----------+---------------------------------------------------+-------+-------+\n| 9711     | Utility Authority V                               | 6     | 628   |\n+----------+---------------------------------------------------+-------+-------+\n| 9715     | Utility Authority                                 | 1     | 629   |\n+----------+---------------------------------------------------+-------+-------+\n| 9717     | IMPUTED - Mixed Use, Primarily Agriculture        | 1     | 630   |\n+----------+---------------------------------------------------+-------+-------+\n| 971C     | Authorities, Utilities, Electric, Water -         | 3     | 631   |\n|          | Commercial                                        |       |       |\n+----------+---------------------------------------------------+-------+-------+\n| 971I     | UTILITY M96                                       | 5     | 632   |\n+----------+---------------------------------------------------+-------+-------+\n| 971R     | UTILITY M01                                       | 2     | 633   |\n+----------+---------------------------------------------------+-------+-------+\n| 971V     | Town Prop - LAN                                   | 5     | 634   |\n+----------+---------------------------------------------------+-------+-------+\n| 972      | Transportation Authority                          | 1     | 635   |\n+----------+---------------------------------------------------+-------+-------+\n| 9720     | Transportation Authority                          | 1     | 636   |\n+----------+---------------------------------------------------+-------+-------+\n| 9721     | Transportation Authority                          | 9     | 637   |\n+----------+---------------------------------------------------+-------+-------+\n| 9725     | Transportation Authority                          | 1     | 638   |\n+----------+---------------------------------------------------+-------+-------+\n| 972C     | Transport Authority                               | 5     | 639   |\n+----------+---------------------------------------------------+-------+-------+\n| 972I     | Transport Authority                               | 3     | 640   |\n+----------+---------------------------------------------------+-------+-------+\n| 972V     | TRANS AUTH                                        | 5     | 641   |\n+----------+---------------------------------------------------+-------+-------+\n| 973      | Vacant, Housing Authority                         | 1     | 642   |\n+----------+---------------------------------------------------+-------+-------+\n| 9730     | Vacant, Housing Authority                         | 1     | 643   |\n+----------+---------------------------------------------------+-------+-------+\n| 973V     | VAC HSNG AUTH  MDL-00                             | 7     | 644   |\n+----------+---------------------------------------------------+-------+-------+\n| 974      | Vacant, Utility Authority                         | 1     | 645   |\n+----------+---------------------------------------------------+-------+-------+\n| 9740     | Vacant, Utility Authority                         | 1     | 646   |\n+----------+---------------------------------------------------+-------+-------+\n| 974V     | Municipal MDL-00                                  | 6     | 647   |\n+----------+---------------------------------------------------+-------+-------+\n| 975      | Vacant, Transportation Authority                  | 1     | 648   |\n+----------+---------------------------------------------------+-------+-------+\n| 9750     | Vacant, Transportation Authority                  | 1     | 649   |\n+----------+---------------------------------------------------+-------+-------+\n| 975V     | Trans Authority                                   | 4     | 650   |\n+----------+---------------------------------------------------+-------+-------+\n| 976      | Library                                           | 3     | 651   |\n+----------+---------------------------------------------------+-------+-------+\n| 9760     | IMPUTED - Exempt                                  | 1     | 652   |\n+----------+---------------------------------------------------+-------+-------+\n| 976V     | EXEMPT VACANT LAND                                | 1     | 653   |\n+----------+---------------------------------------------------+-------+-------+\n| 977      | DPW                                               | 3     | 654   |\n+----------+---------------------------------------------------+-------+-------+\n| 9770     | IMPUTED - Exempt                                  | 1     | 655   |\n+----------+---------------------------------------------------+-------+-------+\n| 9771     | Local Use Code Variation for tracking and         | 2     | 656   |\n|          | administrative purposes, Same as \"9770\".          |       |       |\n+----------+---------------------------------------------------+-------+-------+\n| 978      | IMPUTED - Exempt                                  | 1     | 657   |\n+----------+---------------------------------------------------+-------+-------+\n| 9780     | IMPUTED - Exempt                                  | 1     | 658   |\n+----------+---------------------------------------------------+-------+-------+\n| 979      | IMPUTED - Exempt                                  | 1     | 659   |\n+----------+---------------------------------------------------+-------+-------+\n| 9790     | IMPUTED - Exempt                                  | 1     | 660   |\n+----------+---------------------------------------------------+-------+-------+\n| 980      | Vacant, Selectmen or City Council, Other City or  | 1     | 661   |\n|          | Town (Municipal)                                  |       |       |\n+----------+---------------------------------------------------+-------+-------+\n| 9800     | Vacant, Selectmen or City Council, Other City or  | 1     | 662   |\n|          | Town (Municipal)                                  |       |       |\n+----------+---------------------------------------------------+-------+-------+\n| 9801     | Vacant Other Municipal                            | 1     | 663   |\n+----------+---------------------------------------------------+-------+-------+\n| 9803     | Vacant Other Municipal                            | 1     | 664   |\n+----------+---------------------------------------------------+-------+-------+\n| 9805     | Vacant Other Municipal                            | 1     | 665   |\n+----------+---------------------------------------------------+-------+-------+\n| 980V     | vacant other town                                 | 6     | 666   |\n|          |                                                   |       |       |\n+----------+---------------------------------------------------+-------+-------+\n| 981      | Improved, Selectmen or City Council, Other City   | 1     | 667   |\n|          | or Town (Municipal)                               |       |       |\n+----------+---------------------------------------------------+-------+-------+\n| 9810     | Improved, Selectmen or City Council, Other City   | 1     | 668   |\n|          | or Town (Municipal)                               |       |       |\n+----------+---------------------------------------------------+-------+-------+\n| 9811     | Improved, Selectmen or City Council, Other City   | 2     | 669   |\n|          | or Town (Municipal)                               |       |       |\n+----------+---------------------------------------------------+-------+-------+\n| 9815     | Improved Other Municipal                          | 1     | 670   |\n+----------+---------------------------------------------------+-------+-------+\n| 981R     | Exempt Improved held by other towns, cities -     | 1     | 671   |\n|          | Selectmen                                         |       |       |\n+----------+---------------------------------------------------+-------+-------+\n| 981V     | MUNICIPAL - AMHERST OWNED                         | 1     | 672   |\n|          |                                                   |       |       |\n+----------+---------------------------------------------------+-------+-------+\n| 982      | Vacant, Conservation, Other City or Town          | 1     | 673   |\n+----------+---------------------------------------------------+-------+-------+\n| 9820     | Vacant, Conservation, Other City or Town          | 1     | 674   |\n+----------+---------------------------------------------------+-------+-------+\n| 982V     | Exempt Vacant Conservation Land held by other     | 1     | 675   |\n|          | towns, cities - Selectmen                         |       |       |\n+----------+---------------------------------------------------+-------+-------+\n| 983      | IMPUTED - Exempt                                  | 1     | 676   |\n+----------+---------------------------------------------------+-------+-------+\n| 9830     | IMPUTED - Exempt                                  | 1     | 677   |\n+----------+---------------------------------------------------+-------+-------+\n| 985      | Improved Municipal or Public Safety, Other City   | 1     | 678   |\n|          | or Town                                           |       |       |\n+----------+---------------------------------------------------+-------+-------+\n| 9850     | Improved Municipal or Public Safety, Other City   | 1     | 679   |\n|          | or Town                                           |       |       |\n+----------+---------------------------------------------------+-------+-------+\n| 9851     | Local Use Code Variation for tracking and         | 1     | 680   |\n|          | administrative purposes, Same as \"9850\".          |       |       |\n+----------+---------------------------------------------------+-------+-------+\n| 985C     | OTHER CITY                                        | 1     | 681   |\n+----------+---------------------------------------------------+-------+-------+\n| 985I     | OTHER CITY                                        | 1     | 682   |\n+----------+---------------------------------------------------+-------+-------+\n| 985V     | Improved Municipal or Public Safety, Other City   | 1     | 683   |\n|          | or Town                                           |       |       |\n+----------+---------------------------------------------------+-------+-------+\n| 986      | IMPUTED - Exempt                                  | 1     | 684   |\n+----------+---------------------------------------------------+-------+-------+\n| 9860     | IMPUTED - Exempt                                  | 1     | 685   |\n+----------+---------------------------------------------------+-------+-------+\n| 987      | IMPUTED - Exempt                                  | 1     | 686   |\n+----------+---------------------------------------------------+-------+-------+\n| 9870     | IMPUTED - Exempt                                  | 1     | 687   |\n+----------+---------------------------------------------------+-------+-------+\n| 988      | Vacant, Other District (County)                   | 1     | 688   |\n+----------+---------------------------------------------------+-------+-------+\n| 9880     | Vacant, Other District (County)                   | 1     | 689   |\n+----------+---------------------------------------------------+-------+-------+\n| 989      | Improved, Other District (County)                 | 1     | 690   |\n+----------+---------------------------------------------------+-------+-------+\n| 9890     | Improved, Other District (County)                 | 1     | 691   |\n+----------+---------------------------------------------------+-------+-------+\n| 9891     | Unknown                                           | 2     | 692   |\n+----------+---------------------------------------------------+-------+-------+\n| 9894     | OTHER DISTRICT COM                                | 1     | 693   |\n+----------+---------------------------------------------------+-------+-------+\n| 989C     | Improved, Other District (County)                 | 1     | 694   |\n+----------+---------------------------------------------------+-------+-------+\n| 989I     | IMPUTED - Improved, Other District (County)       | 1     | 695   |\n+----------+---------------------------------------------------+-------+-------+\n| 989R     | Improved, Other District (County)                 | 1     | 696   |\n+----------+---------------------------------------------------+-------+-------+\n| 989V     | Improved, Other District (County)                 | 1     | 697   |\n+----------+---------------------------------------------------+-------+-------+\n| 990      | 121A CORP                                         | 2     | 698   |\n+----------+---------------------------------------------------+-------+-------+\n| 9900     | 121A Corporations                                 | 1     | 699   |\n+----------+---------------------------------------------------+-------+-------+\n| 9901     | IMPUTED - 121A Corporations                       | 4     | 700   |\n+----------+---------------------------------------------------+-------+-------+\n| 9902     | Vacant, 121 A Corporation                         | 1     | 701   |\n+----------+---------------------------------------------------+-------+-------+\n| 9903     | 121 Corporation                                   | 1     | 702   |\n+----------+---------------------------------------------------+-------+-------+\n| 9905     | 121 Corporation                                   | 1     | 703   |\n+----------+---------------------------------------------------+-------+-------+\n| 990C     | 121A CORP MDL-94                                  | 3     | 704   |\n+----------+---------------------------------------------------+-------+-------+\n| 990V     | 121A CORP                                         | 5     | 705   |\n+----------+---------------------------------------------------+-------+-------+\n| 991      | Vacant, County or Regional                        | 1     | 706   |\n+----------+---------------------------------------------------+-------+-------+\n| 9910     | Vacant, County or Regional                        | 1     | 707   |\n+----------+---------------------------------------------------+-------+-------+\n| 991I     | IMPUTED - Vacant, County or Regional              | 1     | 708   |\n+----------+---------------------------------------------------+-------+-------+\n| 991V     | County/Regional                                   | 1     | 709   |\n+----------+---------------------------------------------------+-------+-------+\n| 992      | Improved, County or Regional, Deeds or            | 1     | 710   |\n|          | Administration                                    |       |       |\n+----------+---------------------------------------------------+-------+-------+\n| 9920     | Improved, County or Regional, Deeds or            | 1     | 711   |\n|          | Administration                                    |       |       |\n+----------+---------------------------------------------------+-------+-------+\n| 9921     | Imprvd County Admin                               | 2     | 712   |\n+----------+---------------------------------------------------+-------+-------+\n| 9925     | Imprvd County Admin                               | 1     | 713   |\n+----------+---------------------------------------------------+-------+-------+\n| 992I     | county improved                                   | 3     | 714   |\n+----------+---------------------------------------------------+-------+-------+\n| 992R     | County/Reg Deed                                   | 1     | 715   |\n+----------+---------------------------------------------------+-------+-------+\n| 993      | Improved County or Regional Correctional          | 1     | 716   |\n+----------+---------------------------------------------------+-------+-------+\n| 9930     | Improved County or Regional Correctional          | 1     | 717   |\n+----------+---------------------------------------------------+-------+-------+\n| 993V     | IMPRV CNTY CORRECTION                             | 2     | 718   |\n+----------+---------------------------------------------------+-------+-------+\n| 994      | Improved County or Regional Association           | 1     | 719   |\n|          | Commission                                        |       |       |\n+----------+---------------------------------------------------+-------+-------+\n| 9940     | Improved County or Regional Association           | 1     | 720   |\n|          | Commission                                        |       |       |\n+----------+---------------------------------------------------+-------+-------+\n| 9941     | county commission commercial                      | 6     | 721   |\n+----------+---------------------------------------------------+-------+-------+\n| 9945     | Improved County Correctional                      | 1     | 722   |\n+----------+---------------------------------------------------+-------+-------+\n| 994R     | IMPUTED - Improved County or Regional Association | 1     | 723   |\n|          | Commission                                        |       |       |\n+----------+---------------------------------------------------+-------+-------+\n| 995      | Other, Open Space                                 | 1     | 724   |\n+----------+---------------------------------------------------+-------+-------+\n| 9950     | Other, Open Space                                 | 1     | 725   |\n+----------+---------------------------------------------------+-------+-------+\n| 9951     | Other Open Space                                  | 1     | 726   |\n+----------+---------------------------------------------------+-------+-------+\n| 9953     | Other Open Space                                  | 1     | 727   |\n+----------+---------------------------------------------------+-------+-------+\n| 9955     | Other Open Space                                  | 1     | 728   |\n+----------+---------------------------------------------------+-------+-------+\n| 995C     | CONDO MAIN COM                                    | 2     | 729   |\n+----------+---------------------------------------------------+-------+-------+\n| 995I     | OTHER OP SP IND                                   | 2     | 730   |\n+----------+---------------------------------------------------+-------+-------+\n| 995V     | Condo main land                                   | 3     | 731   |\n+----------+---------------------------------------------------+-------+-------+\n| 995X     | CONDO MAIN MIXED                                  | 1     | 732   |\n+----------+---------------------------------------------------+-------+-------+\n| 996      | Other, Non-Taxable Condominium Common Land        | 1     | 733   |\n+----------+---------------------------------------------------+-------+-------+\n| 9960     | Other, Non-Taxable Condominium Common Land        | 1     | 734   |\n+----------+---------------------------------------------------+-------+-------+\n| 9961     | Other Ex R                                        | 2     | 735   |\n+----------+---------------------------------------------------+-------+-------+\n| 9962     | Light Indust                                      | 1     | 736   |\n+----------+---------------------------------------------------+-------+-------+\n| 9963     | Non Taxable Condo Land                            | 2     | 737   |\n+----------+---------------------------------------------------+-------+-------+\n| 9965     | Non Taxable Condo Land                            | 1     | 738   |\n+----------+---------------------------------------------------+-------+-------+\n| 996A     | Airport                                           | 1     | 739   |\n+----------+---------------------------------------------------+-------+-------+\n| 996C     | Condo Land - ?                                    | 1     | 740   |\n+----------+---------------------------------------------------+-------+-------+\n| 996O     | Open Space, Other                                 | 1     | 741   |\n+----------+---------------------------------------------------+-------+-------+\n| 996P     | CONDO PARKING                                     | 1     | 742   |\n+----------+---------------------------------------------------+-------+-------+\n| 996R     | Condo Land - ?                                    | 1     | 743   |\n+----------+---------------------------------------------------+-------+-------+\n| 996V     | Condo Land ?                                      | 3     | 744   |\n+----------+---------------------------------------------------+-------+-------+\n| 996X     | Condo, Other                                      | 1     | 745   |\n+----------+---------------------------------------------------+-------+-------+\n| 997      | Other                                             | 1     | 746   |\n+----------+---------------------------------------------------+-------+-------+\n| 9970     | Other                                             | 1     | 747   |\n+----------+---------------------------------------------------+-------+-------+\n| 9971     | Other - Apartments                                | 5     | 748   |\n+----------+---------------------------------------------------+-------+-------+\n| 9972     | Other                                             | 2     | 749   |\n+----------+---------------------------------------------------+-------+-------+\n| 9973     | Other                                             | 1     | 750   |\n+----------+---------------------------------------------------+-------+-------+\n| 9975     | Other                                             | 1     | 751   |\n+----------+---------------------------------------------------+-------+-------+\n| 997V     | OTHER VAC                                         | 2     | 752   |\n+----------+---------------------------------------------------+-------+-------+\n| 998      | Imputed - Unknown                                 | 6     | 753   |\n+----------+---------------------------------------------------+-------+-------+\n| 9980     | Unknown                                           | 4     | 754   |\n+----------+---------------------------------------------------+-------+-------+\n| 999      | City Cem                                          | 12    | 755   |\n+----------+---------------------------------------------------+-------+-------+\n| 9990     | Condo Land Exempt                                 | 2     | 756   |\n+----------+---------------------------------------------------+-------+-------+\n| 9999     | Owner Unknown                                     | 2     | 757   |\n+----------+---------------------------------------------------+-------+-------+\n| 999U     | Unknown - calling Jim Benoit                      | 1     | 758   |\n+----------+---------------------------------------------------+-------+-------+\n"
     ]
    }
   ],
   "source": [
    "print_by_usecode(filtered_use_code_9)"
   ]
  },
  {
   "cell_type": "markdown",
   "metadata": {},
   "source": [
    "### Using statewise dataset"
   ]
  },
  {
   "source": [
    "## Test section, Garbage for now"
   ],
   "cell_type": "markdown",
   "metadata": {}
  },
  {
   "cell_type": "code",
   "execution_count": 21,
   "metadata": {},
   "outputs": [],
   "source": [
    "def construct_df_map(df, keyword=\"COMMUNITY_NAME\"):\n",
    "    m = {}\n",
    "    for name, df in df.groupby(keyword):\n",
    "        m.update({name: df})\n",
    "    return m"
   ]
  },
  {
   "cell_type": "code",
   "execution_count": 22,
   "metadata": {},
   "outputs": [],
   "source": [
    "address_cityname_df_map = construct_df_map(address_whole)"
   ]
  },
  {
   "cell_type": "code",
   "execution_count": 24,
   "metadata": {},
   "outputs": [],
   "source": [
    "def join_two_dataset_state_map(parcel_df, address_df_map, keyword=\"CITY\"):\n",
    "    start_time = datetime.now()\n",
    "    \n",
    "    m = {}\n",
    "    for name, p_df in parcel_df.groupby(keyword):\n",
    "        start_time_2 = datetime.now()\n",
    "\n",
    "        a_df = address_df_map[address_df_map[\"COMMUNITY_NAME\"] == name]\n",
    "        join_two_dataset_map(a_df, p_df, m, \"LOC_ID\")\n",
    "        print(\"%s, cost: %.2dms\" %(name, (datetime.now() - start_time_2).total_seconds() * 1000))\n",
    "        print(\"res length: %d\" %(len(m)))\n",
    "\n",
    "    end_time = datetime.now()\n",
    "    print(\"Time cost: %.2fms\" %((end_time - start_time).total_seconds() * 1000))\n",
    "    return m\n"
   ]
  },
  {
   "cell_type": "code",
   "execution_count": 110,
   "metadata": {},
   "outputs": [
    {
     "name": "stdout",
     "output_type": "stream",
     "text": [
      "True\n"
     ]
    }
   ],
   "source": [
    "gdf = gpd.GeoDataFrame()\n",
    "print(gdf.empty)"
   ]
  },
  {
   "cell_type": "code",
   "execution_count": 101,
   "metadata": {},
   "outputs": [
    {
     "data": {
      "text/plain": [
       "<Projected CRS: EPSG:26986>\n",
       "Name: NAD83 / Massachusetts Mainland\n",
       "Axis Info [cartesian]:\n",
       "- X[east]: Easting (metre)\n",
       "- Y[north]: Northing (metre)\n",
       "Area of Use:\n",
       "- name: United States (USA) - Massachusetts onshore - counties of Barnstable; Berkshire; Bristol; Essex; Franklin; Hampden; Hampshire; Middlesex; Norfolk; Plymouth; Suffolk; Worcester.\n",
       "- bounds: (-73.5, 41.46, -69.86, 42.89)\n",
       "Coordinate Operation:\n",
       "- name: SPCS83 Massachusetts Mainland zone (meters)\n",
       "- method: Lambert Conic Conformal (2SP)\n",
       "Datum: North American Datum 1983\n",
       "- Ellipsoid: GRS 1980\n",
       "- Prime Meridian: Greenwich"
      ]
     },
     "execution_count": 101,
     "metadata": {},
     "output_type": "execute_result"
    }
   ],
   "source": [
    "parcel_whole.crs"
   ]
  },
  {
   "cell_type": "code",
   "execution_count": 18,
   "metadata": {},
   "outputs": [],
   "source": [
    "def join_state_data(address_whole, parcel_whole):\n",
    "    start_time = datetime.now()\n",
    "    res = join_two_dataset(address_whole, parcel_whole, \"LOC_ID\")\n",
    "    end_time = datetime.now()\n",
    "    print(\"Time cost: %.2fms\" %((end_time - start_time).total_seconds() * 1000))\n",
    "    return res"
   ]
  },
  {
   "cell_type": "code",
   "execution_count": 20,
   "metadata": {},
   "outputs": [
    {
     "name": "stdout",
     "output_type": "stream",
     "text": [
      "Time cost: 4064548.05ms\n"
     ]
    }
   ],
   "source": [
    "joined_state_1 = join_state_data(address_whole, parcel_whole)"
   ]
  },
  {
   "cell_type": "code",
   "execution_count": 23,
   "metadata": {},
   "outputs": [],
   "source": [
    "to_geofeather(joined_state_1.reset_index(), \"./data/processed.feather\")"
   ]
  },
  {
   "cell_type": "code",
   "execution_count": 24,
   "metadata": {},
   "outputs": [
    {
     "data": {
      "text/plain": [
       "1834283"
      ]
     },
     "execution_count": 24,
     "metadata": {},
     "output_type": "execute_result"
    }
   ],
   "source": [
    "len(joined_state_1.index)"
   ]
  },
  {
   "cell_type": "code",
   "execution_count": 27,
   "metadata": {},
   "outputs": [],
   "source": [
    "joined_state_1_conv = joined_state_1.to_crs(\"EPSG:4326\")\n",
    "mass_heat_map = draw_debug_heatmap(joined_state_1_conv.geometry, joined_state_1_conv.ADD_COUNT, 12)\n",
    "mass_heat_map.save(\"./maps/mass_heatmap.html\")"
   ]
  },
  {
   "cell_type": "code",
   "execution_count": null,
   "metadata": {
    "scrolled": true
   },
   "outputs": [
    {
     "name": "stdout",
     "output_type": "stream",
     "text": [
      "ABINGTON, cost: 2718ms\n",
      "res length: 4475\n",
      "ACTON, cost: 3823ms\n",
      "res length: 10786\n",
      "ACUSHNET, cost: 2239ms\n",
      "res length: 14434\n",
      "ADAMS, cost: 1884ms\n",
      "res length: 17384\n",
      "AGAWAM, cost: 5109ms\n",
      "res length: 25982\n",
      "ALFORD, cost: 363ms\n",
      "res length: 26321\n",
      "AMESBURY, cost: 3005ms\n",
      "res length: 31120\n",
      "AMHERST, cost: 3311ms\n",
      "res length: 36022\n",
      "ANDOVER, cost: 6095ms\n",
      "res length: 45979\n",
      "AQUINNAH, cost: 486ms\n",
      "res length: 46504\n",
      "ARLINGTON, cost: 7261ms\n",
      "res length: 58019\n",
      "ASHBURNHAM, cost: 1697ms\n",
      "res length: 60626\n",
      "ASHBY, cost: 851ms\n",
      "res length: 61827\n",
      "ASHFIELD, cost: 648ms\n",
      "res length: 62639\n",
      "ASHLAND, cost: 2706ms\n",
      "res length: 66887\n",
      "ATHOL, cost: 2510ms\n",
      "res length: 70856\n",
      "ATTLEBORO, cost: 7412ms\n",
      "res length: 82810\n",
      "AUBURN, cost: 3524ms\n",
      "res length: 88632\n",
      "AVON, cost: 1063ms\n",
      "res length: 90218\n",
      "AYER, cost: 1509ms\n",
      "res length: 92402\n",
      "BARNSTABLE, cost: 2827ms\n",
      "res length: 94399\n",
      "BARRE, cost: 1337ms\n",
      "res length: 96268\n",
      "BECKET, cost: 1337ms\n",
      "res length: 98088\n",
      "BEDFORD, cost: 2585ms\n",
      "res length: 102232\n",
      "BELCHERTOWN, cost: 3106ms\n",
      "res length: 107138\n",
      "BELLINGHAM, cost: 3247ms\n",
      "res length: 112432\n",
      "BELMONT, cost: 4270ms\n",
      "res length: 119317\n",
      "BERKLEY, cost: 1563ms\n",
      "res length: 121800\n",
      "BERLIN, cost: 762ms\n",
      "res length: 122786\n",
      "BERNARDSTON, cost: 789ms\n",
      "res length: 123887\n",
      "BEVERLY, cost: 6577ms\n",
      "res length: 134441\n",
      "BILLERICA, cost: 7150ms\n",
      "res length: 146281\n",
      "BLACKSTONE, cost: 1809ms\n",
      "res length: 149020\n",
      "BLANDFORD, cost: 526ms\n",
      "res length: 149603\n",
      "BOLTON, cost: 1213ms\n",
      "res length: 151392\n",
      "BOSTON, cost: 15386ms\n",
      "res length: 159787\n",
      "BOURNE, cost: 5665ms\n",
      "res length: 169036\n",
      "BOXBOROUGH, cost: 1008ms\n",
      "res length: 170413\n",
      "BOXFORD, cost: 1670ms\n",
      "res length: 173034\n",
      "BOYLSTON, cost: 1136ms\n",
      "res length: 174642\n",
      "BRAINTREE, cost: 6135ms\n",
      "res length: 184590\n",
      "BREWSTER, cost: 3683ms\n",
      "res length: 190453\n",
      "BRIDGEWATER, cost: 3929ms\n",
      "res length: 196753\n",
      "BRIMFIELD, cost: 1045ms\n",
      "res length: 198237\n",
      "BROCKTON, cost: 13189ms\n",
      "res length: 219754\n",
      "BROOKFIELD, cost: 925ms\n",
      "res length: 221098\n",
      "BROOKLINE, cost: 5689ms\n",
      "res length: 228888\n",
      "BUCKLAND, cost: 648ms\n",
      "res length: 229691\n",
      "BURLINGTON, cost: 4165ms\n",
      "res length: 236458\n",
      "CAMBRIDGE, cost: 9587ms\n",
      "res length: 248627\n",
      "CANTON, cost: 3876ms\n",
      "res length: 254829\n",
      "CARLISLE, cost: 1149ms\n",
      "res length: 256541\n",
      "CARVER, cost: 2249ms\n",
      "res length: 260012\n",
      "CHARLEMONT, cost: 505ms\n",
      "res length: 260566\n",
      "CHARLTON, cost: 2829ms\n",
      "res length: 264929\n",
      "CHATHAM, cost: 3867ms\n",
      "res length: 271309\n",
      "CHELMSFORD, cost: 5927ms\n",
      "res length: 280929\n",
      "CHELSEA, cost: 3134ms\n",
      "res length: 285271\n",
      "CHESHIRE, cost: 934ms\n",
      "res length: 286604\n",
      "CHESTER, cost: 572ms\n",
      "res length: 287285\n",
      "CHESTERFIELD, cost: 497ms\n",
      "res length: 287871\n",
      "CHICOPEE, cost: 8641ms\n",
      "res length: 302049\n",
      "CHILMARK, cost: 1064ms\n",
      "res length: 303565\n",
      "CLARKSBURG, cost: 536ms\n",
      "res length: 304226\n",
      "CLINTON, cost: 2366ms\n",
      "res length: 307896\n",
      "COHASSET, cost: 1718ms\n",
      "res length: 310578\n",
      "COLRAIN, cost: 649ms\n",
      "res length: 311362\n",
      "CONCORD, cost: 3454ms\n",
      "res length: 317136\n",
      "CONWAY, cost: 626ms\n",
      "res length: 317893\n",
      "CUMMINGTON, cost: 436ms\n",
      "res length: 318339\n",
      "DALTON, cost: 1467ms\n",
      "res length: 320683\n",
      "DANVERS, cost: 4563ms\n",
      "res length: 328209\n",
      "DARTMOUTH, cost: 6436ms\n",
      "res length: 338957\n",
      "DEDHAM, cost: 4944ms\n",
      "res length: 347130\n",
      "DEERFIELD, cost: 595ms\n",
      "res length: 347607\n",
      "DENNIS, cost: 2398ms\n",
      "res length: 350197\n",
      "DIGHTON, cost: 1691ms\n",
      "res length: 352852\n",
      "DOUGLAS, cost: 2097ms\n",
      "res length: 356158\n",
      "DOVER, cost: 1280ms\n",
      "res length: 358084\n",
      "DRACUT, cost: 5711ms\n",
      "res length: 367400\n",
      "DUDLEY, cost: 2324ms\n",
      "res length: 371026\n",
      "DUNSTABLE, cost: 839ms\n",
      "res length: 372211\n",
      "DUXBURY, cost: 3182ms\n",
      "res length: 377313\n",
      "EAST BRIDGEWATER, cost: 2780ms\n",
      "res length: 381617\n",
      "EAST BROOKFIELD, cost: 697ms\n",
      "res length: 382551\n",
      "EAST LONGMEADOW, cost: 3385ms\n",
      "res length: 388193\n",
      "EASTHAM, cost: 3515ms\n",
      "res length: 394087\n",
      "EASTHAMPTON, cost: 3231ms\n",
      "res length: 399208\n",
      "EASTON, cost: 4337ms\n",
      "res length: 406327\n",
      "EDGARTOWN, cost: 3390ms\n",
      "res length: 411890\n",
      "EGREMONT, cost: 689ms\n",
      "res length: 412776\n",
      "ERVING, cost: 532ms\n",
      "res length: 413412\n",
      "ESSEX, cost: 993ms\n",
      "res length: 414796\n",
      "EVERETT, cost: 4870ms\n",
      "res length: 422118\n",
      "FAIRHAVEN, cost: 3738ms\n",
      "res length: 428245\n",
      "FALL RIVER, cost: 12613ms\n",
      "res length: 446099\n",
      "FALMOUTH, cost: 11873ms\n",
      "res length: 465981\n",
      "FITCHBURG, cost: 6225ms\n",
      "res length: 476000\n",
      "FLORIDA, cost: 379ms\n",
      "res length: 476335\n",
      "FOXBOROUGH, cost: 3148ms\n",
      "res length: 481254\n",
      "FRAMINGHAM, cost: 10132ms\n",
      "res length: 497423\n",
      "FRANKLIN, cost: 5193ms\n",
      "res length: 505893\n",
      "FREETOWN, cost: 2082ms\n",
      "res length: 509234\n",
      "GARDNER, cost: 3607ms\n",
      "res length: 514616\n",
      "GEORGETOWN, cost: 1696ms\n",
      "res length: 517294\n",
      "GILL, cost: 510ms\n",
      "res length: 517873\n",
      "GLOUCESTER, cost: 7297ms\n",
      "res length: 529666\n",
      "GOSHEN, cost: 515ms\n",
      "res length: 530244\n",
      "GOSNOLD, cost: 187ms\n",
      "res length: 530275\n",
      "GRAFTON, cost: 3534ms\n",
      "res length: 535991\n",
      "GRANBY, cost: 1523ms\n",
      "res length: 538233\n",
      "GRANVILLE, cost: 548ms\n",
      "res length: 538891\n",
      "GREAT BARRINGTON, cost: 1956ms\n",
      "res length: 541914\n",
      "GREENFIELD, cost: 3444ms\n",
      "res length: 547336\n",
      "GROTON, cost: 2348ms\n",
      "res length: 550846\n",
      "GROVELAND, cost: 1367ms\n",
      "res length: 552899\n",
      "HADLEY, cost: 1532ms\n",
      "res length: 555182\n",
      "HALIFAX, cost: 1609ms\n",
      "res length: 557508\n",
      "HAMILTON, cost: 1505ms\n",
      "res length: 559812\n",
      "HAMPDEN, cost: 1226ms\n",
      "res length: 561645\n",
      "HANCOCK, cost: 398ms\n",
      "res length: 562004\n",
      "HANOVER, cost: 2758ms\n",
      "res length: 566495\n",
      "HANSON, cost: 2098ms\n",
      "res length: 569831\n",
      "HARDWICK, cost: 754ms\n",
      "res length: 570799\n",
      "HARVARD, cost: 1243ms\n",
      "res length: 572629\n",
      "HARWICH, cost: 5730ms\n",
      "res length: 582201\n",
      "HATFIELD, cost: 909ms\n",
      "res length: 583425\n",
      "HAVERHILL, cost: 9335ms\n",
      "res length: 598000\n",
      "HAWLEY, cost: 286ms\n",
      "res length: 598193\n",
      "HEATH, cost: 579ms\n",
      "res length: 598901\n",
      "HINGHAM, cost: 4259ms\n",
      "res length: 605775\n",
      "HINSDALE, cost: 747ms\n",
      "res length: 606713\n",
      "HOLBROOK, cost: 2502ms\n",
      "res length: 610711\n",
      "HOLDEN, cost: 3940ms\n",
      "res length: 616978\n",
      "HOLLAND, cost: 999ms\n",
      "res length: 618368\n",
      "HOLLISTON, cost: 2949ms\n",
      "res length: 623098\n",
      "HOLYOKE, cost: 5346ms\n",
      "res length: 631102\n",
      "HOPEDALE, cost: 1330ms\n",
      "res length: 633111\n",
      "HOPKINTON, cost: 3110ms\n",
      "res length: 637902\n",
      "HUBBARDSTON, cost: 1104ms\n",
      "res length: 639452\n",
      "HUDSON, cost: 3355ms\n",
      "res length: 644634\n",
      "HULL, cost: 2603ms\n",
      "res length: 648740\n",
      "HUNTINGTON, cost: 724ms\n",
      "res length: 649665\n",
      "IPSWICH, cost: 3074ms\n",
      "res length: 654519\n",
      "KINGSTON, cost: 2794ms\n",
      "res length: 659040\n",
      "LAKEVILLE, cost: 2689ms\n",
      "res length: 663306\n",
      "LANCASTER, cost: 1505ms\n",
      "res length: 665582\n",
      "LANESBOROUGH, cost: 971ms\n",
      "res length: 666962\n",
      "LAWRENCE, cost: 7521ms\n",
      "res length: 678071\n",
      "LEE, cost: 1722ms\n",
      "res length: 680677\n",
      "LEICESTER, cost: 2370ms\n",
      "res length: 684315\n"
     ]
    }
   ],
   "source": [
    "joined_state_2 = join_two_dataset_state_map(parcel_whole, address_whole)"
   ]
  },
  {
   "cell_type": "code",
   "execution_count": 23,
   "metadata": {},
   "outputs": [
    {
     "name": "stdout",
     "output_type": "stream",
     "text": [
      "<class 'geopandas.geodataframe.GeoDataFrame'>\n",
      "RangeIndex: 3656134 entries, 0 to 3656133\n",
      "Data columns (total 25 columns):\n",
      " #   Column                    Dtype   \n",
      "---  ------                    -----   \n",
      " 0   CENTROID_ID               object  \n",
      " 1   FULL_NUMBER_STANDARDIZED  object  \n",
      " 2   ADDRESS_NUMBER_PREFIX     object  \n",
      " 3   ADDRESS_NUMBER            float64 \n",
      " 4   ADDRESS_NUMBER_SUFFIX     object  \n",
      " 5   ADDRESS_NUMBER_2_PREFIX   object  \n",
      " 6   ADDRESS_NUMBER_2          float64 \n",
      " 7   ADDRESS_NUMBER_2_SUFFIX   object  \n",
      " 8   STREET_NAME               object  \n",
      " 9   FLOOR                     object  \n",
      " 10  UNIT                      object  \n",
      " 11  MASTER_ADDRESS_ID         int64   \n",
      " 12  STREET_NAME_ID            int64   \n",
      " 13  REL_LOC                   object  \n",
      " 14  SITE_ID                   float64 \n",
      " 15  BUILDING_NAME             object  \n",
      " 16  GEOGRAPHIC_TOWN_ID        float64 \n",
      " 17  COMMUNITY_ID              int64   \n",
      " 18  COMMUNITY_NAME            object  \n",
      " 19  GEOGRAPHIC_TOWN           object  \n",
      " 20  POSTCODE                  object  \n",
      " 21  PC_NAME                   object  \n",
      " 22  COUNTY                    object  \n",
      " 23  STATE                     object  \n",
      " 24  geometry                  geometry\n",
      "dtypes: float64(4), geometry(1), int64(3), object(17)\n",
      "memory usage: 697.4+ MB\n"
     ]
    }
   ],
   "source": [
    "address_whole.info()"
   ]
  },
  {
   "cell_type": "markdown",
   "metadata": {},
   "source": [
    "### Using Quincy dataset"
   ]
  },
  {
   "cell_type": "code",
   "execution_count": 12,
   "metadata": {},
   "outputs": [
    {
     "name": "stdout",
     "output_type": "stream",
     "text": [
      "Time cost: 291.07ms\n"
     ]
    }
   ],
   "source": [
    "#Merge using goepandas.sjoin\n",
    "start_time = datetime.now()\n",
    "\n",
    "joined_test_quincy_2k = gpd.sjoin(address_quincy, parcel_quincy_test_2k, how=\"inner\", op=\"within\")\n",
    "# newQuincy = gpd.sjoin(address_quincy, parcel_quincy[['LOC_ID', 'geometry']], how='left', op='within')\n",
    "# joined_test = gpd.sjoin(parcel_quincy_converted, address_quincy_converted, how=\"inner\", op=\"within\")\n",
    "\n",
    "end_time = datetime.now()\n",
    "print(\"Time cost: %.2fms\" %((end_time - start_time).total_seconds() * 1000))"
   ]
  },
  {
   "cell_type": "code",
   "execution_count": 14,
   "metadata": {},
   "outputs": [],
   "source": [
    "parcel_quincy_test_2k_conv = parcel_quincy_test_2k.to_crs(\"EPSG:4326\")\n",
    "joined_test_quincy_2k_conv = joined_test_quincy_2k.to_crs(\"EPSG:4326\")"
   ]
  },
  {
   "cell_type": "code",
   "execution_count": 19,
   "metadata": {},
   "outputs": [
    {
     "name": "stdout",
     "output_type": "stream",
     "text": [
      "<class 'geopandas.geodataframe.GeoDataFrame'>\n",
      "Int64Index: 3458 entries, 2120189 to 2225326\n",
      "Data columns (total 38 columns):\n",
      " #   Column                    Non-Null Count  Dtype   \n",
      "---  ------                    --------------  -----   \n",
      " 0   CENTROID_ID               3458 non-null   object  \n",
      " 1   FULL_NUMBER_STANDARDIZED  3458 non-null   object  \n",
      " 2   ADDRESS_NUMBER_PREFIX     1 non-null      object  \n",
      " 3   ADDRESS_NUMBER            3458 non-null   float64 \n",
      " 4   ADDRESS_NUMBER_SUFFIX     22 non-null     object  \n",
      " 5   ADDRESS_NUMBER_2_PREFIX   0 non-null      object  \n",
      " 6   ADDRESS_NUMBER_2          0 non-null      float64 \n",
      " 7   ADDRESS_NUMBER_2_SUFFIX   0 non-null      object  \n",
      " 8   STREET_NAME               3458 non-null   object  \n",
      " 9   FLOOR                     0 non-null      object  \n",
      " 10  UNIT                      1167 non-null   object  \n",
      " 11  MASTER_ADDRESS_ID         3458 non-null   int64   \n",
      " 12  STREET_NAME_ID            3458 non-null   int64   \n",
      " 13  REL_LOC                   1 non-null      object  \n",
      " 14  SITE_ID                   958 non-null    float64 \n",
      " 15  BUILDING_NAME             13 non-null     object  \n",
      " 16  GEOGRAPHIC_TOWN_ID        3458 non-null   float64 \n",
      " 17  COMMUNITY_ID              3458 non-null   int64   \n",
      " 18  COMMUNITY_NAME            3458 non-null   object  \n",
      " 19  GEOGRAPHIC_TOWN           3458 non-null   object  \n",
      " 20  POSTCODE                  3449 non-null   object  \n",
      " 21  PC_NAME                   3449 non-null   object  \n",
      " 22  COUNTY                    3458 non-null   object  \n",
      " 23  STATE                     3458 non-null   object  \n",
      " 24  geometry                  3458 non-null   geometry\n",
      " 25  index_right               3458 non-null   int64   \n",
      " 26  SHAPE_Leng                3458 non-null   float64 \n",
      " 27  SHAPE_Area                3458 non-null   float64 \n",
      " 28  MAP_PAR_ID                2370 non-null   object  \n",
      " 29  LOC_ID                    3458 non-null   object  \n",
      " 30  POLY_TYPE                 3458 non-null   object  \n",
      " 31  MAP_NO                    3458 non-null   object  \n",
      " 32  SOURCE                    3458 non-null   object  \n",
      " 33  PLAN_ID                   0 non-null      object  \n",
      " 34  LAST_EDIT                 3458 non-null   int64   \n",
      " 35  BND_CHK                   69 non-null     object  \n",
      " 36  NO_MATCH                  3458 non-null   object  \n",
      " 37  TOWN_ID                   3458 non-null   int64   \n",
      "dtypes: float64(6), geometry(1), int64(6), object(25)\n",
      "memory usage: 1.2+ MB\n"
     ]
    }
   ],
   "source": [
    "joined_test_quincy_2k_conv.info()"
   ]
  },
  {
   "cell_type": "markdown",
   "metadata": {},
   "source": []
  },
  {
   "cell_type": "code",
   "execution_count": 16,
   "metadata": {},
   "outputs": [],
   "source": [
    "test_m_1 = draw_debug_plot(joined_test_quincy_2k_conv.geometry, parcel_quincy_test_2k_conv.geometry)"
   ]
  },
  {
   "cell_type": "code",
   "execution_count": 18,
   "metadata": {},
   "outputs": [],
   "source": [
    "test_m_1.save(\"maps/test_m_1.html\")"
   ]
  },
  {
   "cell_type": "code",
   "execution_count": 65,
   "metadata": {},
   "outputs": [],
   "source": [
    "test_drop = parcel_quincy_2k.drop_duplicates([\"MAP_PAR_ID\"])"
   ]
  },
  {
   "cell_type": "code",
   "execution_count": 67,
   "metadata": {},
   "outputs": [
    {
     "data": {
      "text/plain": [
       "5190-22-A       1\n",
       "5012-10-555     1\n",
       "5056-61-760     1\n",
       "4001-27-        1\n",
       "6154-62-42      1\n",
       "               ..\n",
       "1168-44-C       1\n",
       "6018-25-A       1\n",
       "1033-20-76      1\n",
       "4125-17-14      1\n",
       "6017B-26-235    1\n",
       "Name: MAP_PAR_ID, Length: 1308, dtype: int64"
      ]
     },
     "execution_count": 67,
     "metadata": {},
     "output_type": "execute_result"
    }
   ],
   "source": [
    "test_drop.MAP_PAR_ID.value_counts()"
   ]
  },
  {
   "cell_type": "code",
   "execution_count": 32,
   "metadata": {},
   "outputs": [
    {
     "name": "stdout",
     "output_type": "stream",
     "text": [
      "<class 'geopandas.geodataframe.GeoDataFrame'>\n",
      "Int64Index: 24247 entries, 207 to 2406350\n",
      "Data columns (total 47 columns):\n",
      " #   Column      Non-Null Count  Dtype   \n",
      "---  ------      --------------  -----   \n",
      " 0   MAP_PAR_ID  17102 non-null  object  \n",
      " 1   LOC_ID      24247 non-null  object  \n",
      " 2   POLY_TYPE   24247 non-null  object  \n",
      " 3   MAP_NO      24241 non-null  object  \n",
      " 4   SOURCE      24247 non-null  object  \n",
      " 5   PLAN_ID     0 non-null      object  \n",
      " 6   LAST_EDIT   24247 non-null  int64   \n",
      " 7   BND_CHK     143 non-null    object  \n",
      " 8   NO_MATCH    24247 non-null  object  \n",
      " 9   TOWN_ID     24247 non-null  int64   \n",
      " 10  PROP_ID     24247 non-null  object  \n",
      " 11  BLDG_VAL    24247 non-null  int64   \n",
      " 12  LAND_VAL    24247 non-null  int64   \n",
      " 13  OTHER_VAL   24247 non-null  int64   \n",
      " 14  TOTAL_VAL   24247 non-null  int64   \n",
      " 15  FY          24247 non-null  int64   \n",
      " 16  LOT_SIZE    24247 non-null  float64 \n",
      " 17  LS_DATE     24247 non-null  object  \n",
      " 18  LS_PRICE    24247 non-null  int64   \n",
      " 19  USE_CODE    24247 non-null  object  \n",
      " 20  SITE_ADDR   24247 non-null  object  \n",
      " 21  ADDR_NUM    24245 non-null  object  \n",
      " 22  FULL_STR    24247 non-null  object  \n",
      " 23  LOCATION    0 non-null      object  \n",
      " 24  CITY        24247 non-null  object  \n",
      " 25  ZIP         24247 non-null  object  \n",
      " 26  OWNER1      24247 non-null  object  \n",
      " 27  OWN_ADDR    24246 non-null  object  \n",
      " 28  OWN_CITY    24246 non-null  object  \n",
      " 29  OWN_STATE   24246 non-null  object  \n",
      " 30  OWN_ZIP     24246 non-null  object  \n",
      " 31  OWN_CO      1 non-null      object  \n",
      " 32  LS_BOOK     24247 non-null  object  \n",
      " 33  LS_PAGE     24247 non-null  object  \n",
      " 34  REG_ID      0 non-null      object  \n",
      " 35  ZONING      22475 non-null  object  \n",
      " 36  YEAR_BUILT  24247 non-null  int64   \n",
      " 37  BLD_AREA    24247 non-null  int64   \n",
      " 38  UNITS       24247 non-null  int64   \n",
      " 39  RES_AREA    24247 non-null  int64   \n",
      " 40  STYLE       24247 non-null  object  \n",
      " 41  NUM_ROOMS   24247 non-null  int64   \n",
      " 42  LOT_UNITS   24247 non-null  object  \n",
      " 43  STORIES     24224 non-null  object  \n",
      " 44  SHAPE_AREA  24247 non-null  float64 \n",
      " 45  SHAPE_LEN   24247 non-null  float64 \n",
      " 46  geometry    24247 non-null  geometry\n",
      "dtypes: float64(3), geometry(1), int64(13), object(30)\n",
      "memory usage: 8.9+ MB\n"
     ]
    }
   ],
   "source": [
    "parcel_quincy.info()"
   ]
  },
  {
   "cell_type": "code",
   "execution_count": 59,
   "metadata": {},
   "outputs": [],
   "source": [
    "parcel_quincy_2k = parcel_quincy[:2000]"
   ]
  },
  {
   "cell_type": "code",
   "execution_count": 68,
   "metadata": {},
   "outputs": [
    {
     "name": "stdout",
     "output_type": "stream",
     "text": [
      "Time cost: 266.06ms\n"
     ]
    }
   ],
   "source": [
    "#Merge using goepandas.sjoin\n",
    "start_time = datetime.now()\n",
    "\n",
    "# joined_quincy_2k = gpd.sjoin(address_quincy, parcel_quincy_2k, how=\"inner\", op=\"within\")\n",
    "joined_quincy_2k = gpd.sjoin(address_quincy, test_drop, how=\"inner\", op=\"within\")\n",
    "\n",
    "end_time = datetime.now()\n",
    "print(\"Time cost: %.2fms\" %((end_time - start_time).total_seconds() * 1000))"
   ]
  },
  {
   "cell_type": "code",
   "execution_count": 80,
   "metadata": {},
   "outputs": [],
   "source": [
    "joined_quincy_2k_count = count_address(joined_quincy_2k)"
   ]
  },
  {
   "cell_type": "code",
   "execution_count": 69,
   "metadata": {},
   "outputs": [
    {
     "name": "stdout",
     "output_type": "stream",
     "text": [
      "<class 'geopandas.geodataframe.GeoDataFrame'>\n",
      "Int64Index: 5137 entries, 2065885 to 2303588\n",
      "Data columns (total 72 columns):\n",
      " #   Column                    Non-Null Count  Dtype   \n",
      "---  ------                    --------------  -----   \n",
      " 0   CENTROID_ID               5137 non-null   object  \n",
      " 1   FULL_NUMBER_STANDARDIZED  5137 non-null   object  \n",
      " 2   ADDRESS_NUMBER_PREFIX     1 non-null      object  \n",
      " 3   ADDRESS_NUMBER            5137 non-null   float64 \n",
      " 4   ADDRESS_NUMBER_SUFFIX     17 non-null     object  \n",
      " 5   ADDRESS_NUMBER_2_PREFIX   0 non-null      object  \n",
      " 6   ADDRESS_NUMBER_2          0 non-null      float64 \n",
      " 7   ADDRESS_NUMBER_2_SUFFIX   0 non-null      object  \n",
      " 8   STREET_NAME               5137 non-null   object  \n",
      " 9   FLOOR                     0 non-null      object  \n",
      " 10  UNIT                      3233 non-null   object  \n",
      " 11  MASTER_ADDRESS_ID         5137 non-null   int64   \n",
      " 12  STREET_NAME_ID            5137 non-null   int64   \n",
      " 13  REL_LOC                   0 non-null      object  \n",
      " 14  SITE_ID                   1006 non-null   float64 \n",
      " 15  BUILDING_NAME             7 non-null      object  \n",
      " 16  GEOGRAPHIC_TOWN_ID        5137 non-null   float64 \n",
      " 17  COMMUNITY_ID              5137 non-null   int64   \n",
      " 18  COMMUNITY_NAME            5137 non-null   object  \n",
      " 19  GEOGRAPHIC_TOWN           5137 non-null   object  \n",
      " 20  POSTCODE                  5137 non-null   object  \n",
      " 21  PC_NAME                   5137 non-null   object  \n",
      " 22  COUNTY                    5137 non-null   object  \n",
      " 23  STATE                     5137 non-null   object  \n",
      " 24  geometry                  5137 non-null   geometry\n",
      " 25  index_right               5137 non-null   int64   \n",
      " 26  MAP_PAR_ID                5134 non-null   object  \n",
      " 27  LOC_ID                    5137 non-null   object  \n",
      " 28  POLY_TYPE                 5137 non-null   object  \n",
      " 29  MAP_NO                    5137 non-null   object  \n",
      " 30  SOURCE                    5137 non-null   object  \n",
      " 31  PLAN_ID                   0 non-null      object  \n",
      " 32  LAST_EDIT                 5137 non-null   int64   \n",
      " 33  BND_CHK                   12 non-null     object  \n",
      " 34  NO_MATCH                  5137 non-null   object  \n",
      " 35  TOWN_ID                   5137 non-null   int64   \n",
      " 36  PROP_ID                   5137 non-null   object  \n",
      " 37  BLDG_VAL                  5137 non-null   int64   \n",
      " 38  LAND_VAL                  5137 non-null   int64   \n",
      " 39  OTHER_VAL                 5137 non-null   int64   \n",
      " 40  TOTAL_VAL                 5137 non-null   int64   \n",
      " 41  FY                        5137 non-null   int64   \n",
      " 42  LOT_SIZE                  5137 non-null   float64 \n",
      " 43  LS_DATE                   5137 non-null   object  \n",
      " 44  LS_PRICE                  5137 non-null   int64   \n",
      " 45  USE_CODE                  5137 non-null   object  \n",
      " 46  SITE_ADDR                 5137 non-null   object  \n",
      " 47  ADDR_NUM                  5137 non-null   object  \n",
      " 48  FULL_STR                  5137 non-null   object  \n",
      " 49  LOCATION                  0 non-null      object  \n",
      " 50  CITY                      5137 non-null   object  \n",
      " 51  ZIP                       5137 non-null   object  \n",
      " 52  OWNER1                    5137 non-null   object  \n",
      " 53  OWN_ADDR                  5137 non-null   object  \n",
      " 54  OWN_CITY                  5137 non-null   object  \n",
      " 55  OWN_STATE                 5137 non-null   object  \n",
      " 56  OWN_ZIP                   5137 non-null   object  \n",
      " 57  OWN_CO                    0 non-null      object  \n",
      " 58  LS_BOOK                   5137 non-null   object  \n",
      " 59  LS_PAGE                   5137 non-null   object  \n",
      " 60  REG_ID                    0 non-null      object  \n",
      " 61  ZONING                    4726 non-null   object  \n",
      " 62  YEAR_BUILT                5137 non-null   int64   \n",
      " 63  BLD_AREA                  5137 non-null   int64   \n",
      " 64  UNITS                     5137 non-null   int64   \n",
      " 65  RES_AREA                  5137 non-null   int64   \n",
      " 66  STYLE                     5137 non-null   object  \n",
      " 67  NUM_ROOMS                 5137 non-null   int64   \n",
      " 68  LOT_UNITS                 5137 non-null   object  \n",
      " 69  STORIES                   5137 non-null   object  \n",
      " 70  SHAPE_AREA                5137 non-null   float64 \n",
      " 71  SHAPE_LEN                 5137 non-null   float64 \n",
      "dtypes: float64(7), geometry(1), int64(17), object(47)\n",
      "memory usage: 2.9+ MB\n"
     ]
    }
   ],
   "source": [
    "joined_quincy_2k.info()"
   ]
  },
  {
   "cell_type": "code",
   "execution_count": 83,
   "metadata": {},
   "outputs": [],
   "source": [
    "joined_quincy_2k_count_conv = joined_quincy_2k_count.to_crs(\"EPSG:4326\")\n",
    "test_drop_conv = test_drop.to_crs(\"EPSG:4326\")"
   ]
  },
  {
   "cell_type": "code",
   "execution_count": 91,
   "metadata": {},
   "outputs": [],
   "source": [
    "test_m_2 = draw_debug_plot(joined_quincy_2k_count_conv.geometry, test_drop_conv.geometry, joined_quincy_2k_count_conv.ADD_COUNT)\n",
    "test_m_2.save(\"./maps/test_m_2.html\")"
   ]
  },
  {
   "cell_type": "code",
   "execution_count": 100,
   "metadata": {},
   "outputs": [],
   "source": [
    "parcel_quincy_conv = parcel_quincy.to_crs(\"EPSG:4326\")\n",
    "test_m_3 = draw_debug_plot([], parcel_quincy_conv.geometry)\n",
    "test_m_3.save(\"./maps/quincy_parcel.html\")"
   ]
  },
  {
   "cell_type": "code",
   "execution_count": 35,
   "metadata": {},
   "outputs": [
    {
     "data": {
      "text/plain": [
       "410"
      ]
     },
     "execution_count": 35,
     "metadata": {},
     "output_type": "execute_result"
    }
   ],
   "source": [
    "len(address_quincy[address_quincy[\"CENTROID_ID\"] == \"M_242902_889211\"])"
   ]
  },
  {
   "cell_type": "code",
   "execution_count": 53,
   "metadata": {},
   "outputs": [],
   "source": [
    "observe_data = parcel_quincy_2k[parcel_quincy_2k[\"MAP_PAR_ID\"] == \"4032-20-16MGT\"]"
   ]
  },
  {
   "cell_type": "code",
   "execution_count": 50,
   "metadata": {},
   "outputs": [],
   "source": [
    "# count polygons with same MAP_PAR_ID\n",
    "def count_polygons(polygons):\n",
    "    p = None\n",
    "    count = 1\n",
    "    for polygon in polygons:\n",
    "        if not p:\n",
    "            p = polygon\n",
    "            continue\n",
    "        if p != polygon:\n",
    "            p = polygon\n",
    "            count += 1\n",
    "    print(count)"
   ]
  },
  {
   "cell_type": "code",
   "execution_count": 54,
   "metadata": {},
   "outputs": [
    {
     "name": "stdout",
     "output_type": "stream",
     "text": [
      "1\n"
     ]
    }
   ],
   "source": [
    "count_polygons(observe_data.geometry)"
   ]
  },
  {
   "cell_type": "code",
   "execution_count": 115,
   "metadata": {},
   "outputs": [],
   "source": []
  },
  {
   "cell_type": "markdown",
   "metadata": {},
   "source": [
    "### Whole quincy"
   ]
  },
  {
   "cell_type": "code",
   "execution_count": 114,
   "metadata": {},
   "outputs": [
    {
     "name": "stdout",
     "output_type": "stream",
     "text": [
      "Time cost: 2224.01ms\n"
     ]
    }
   ],
   "source": [
    "quincy_join = join_two_dataset(address_quincy, parcel_quincy)"
   ]
  },
  {
   "cell_type": "code",
   "execution_count": 118,
   "metadata": {},
   "outputs": [
    {
     "data": {
      "text/plain": [
       "97.79"
      ]
     },
     "execution_count": 118,
     "metadata": {},
     "output_type": "execute_result"
    }
   ],
   "source": [
    "calculate_coverage(quincy_join, parcel_quincy.drop_duplicates(\"MAP_PAR_ID\"))"
   ]
  },
  {
   "cell_type": "code",
   "execution_count": 117,
   "metadata": {},
   "outputs": [
    {
     "name": "stdout",
     "output_type": "stream",
     "text": [
      "<class 'geopandas.geodataframe.GeoDataFrame'>\n",
      "Index: 15315 entries, 1002-1-103 to 6171-24-ML20B\n",
      "Data columns (total 72 columns):\n",
      " #   Column                    Non-Null Count  Dtype   \n",
      "---  ------                    --------------  -----   \n",
      " 0   CENTROID_ID               15315 non-null  object  \n",
      " 1   FULL_NUMBER_STANDARDIZED  15315 non-null  object  \n",
      " 2   ADDRESS_NUMBER_PREFIX     5 non-null      object  \n",
      " 3   ADDRESS_NUMBER            15315 non-null  float64 \n",
      " 4   ADDRESS_NUMBER_SUFFIX     106 non-null    object  \n",
      " 5   ADDRESS_NUMBER_2_PREFIX   0 non-null      object  \n",
      " 6   ADDRESS_NUMBER_2          0 non-null      float64 \n",
      " 7   ADDRESS_NUMBER_2_SUFFIX   0 non-null      object  \n",
      " 8   STREET_NAME               15315 non-null  object  \n",
      " 9   FLOOR                     0 non-null      object  \n",
      " 10  UNIT                      2037 non-null   object  \n",
      " 11  MASTER_ADDRESS_ID         15315 non-null  int64   \n",
      " 12  STREET_NAME_ID            15315 non-null  int64   \n",
      " 13  REL_LOC                   6 non-null      object  \n",
      " 14  SITE_ID                   78 non-null     float64 \n",
      " 15  BUILDING_NAME             68 non-null     object  \n",
      " 16  GEOGRAPHIC_TOWN_ID        15315 non-null  float64 \n",
      " 17  COMMUNITY_ID              15315 non-null  int64   \n",
      " 18  COMMUNITY_NAME            15315 non-null  object  \n",
      " 19  GEOGRAPHIC_TOWN           15315 non-null  object  \n",
      " 20  POSTCODE                  15298 non-null  object  \n",
      " 21  PC_NAME                   15298 non-null  object  \n",
      " 22  COUNTY                    15315 non-null  object  \n",
      " 23  STATE                     15315 non-null  object  \n",
      " 24  geometry                  15315 non-null  geometry\n",
      " 25  index_right               15315 non-null  int64   \n",
      " 26  LOC_ID                    15315 non-null  object  \n",
      " 27  POLY_TYPE                 15315 non-null  object  \n",
      " 28  MAP_NO                    15309 non-null  object  \n",
      " 29  SOURCE                    15315 non-null  object  \n",
      " 30  PLAN_ID                   0 non-null      object  \n",
      " 31  LAST_EDIT                 15315 non-null  int64   \n",
      " 32  BND_CHK                   61 non-null     object  \n",
      " 33  NO_MATCH                  15315 non-null  object  \n",
      " 34  TOWN_ID                   15315 non-null  int64   \n",
      " 35  PROP_ID                   15284 non-null  object  \n",
      " 36  BLDG_VAL                  15315 non-null  int64   \n",
      " 37  LAND_VAL                  15315 non-null  int64   \n",
      " 38  OTHER_VAL                 15315 non-null  int64   \n",
      " 39  TOTAL_VAL                 15315 non-null  int64   \n",
      " 40  FY                        15315 non-null  int64   \n",
      " 41  LOT_SIZE                  15315 non-null  float64 \n",
      " 42  LS_DATE                   15284 non-null  object  \n",
      " 43  LS_PRICE                  15315 non-null  int64   \n",
      " 44  USE_CODE                  15284 non-null  object  \n",
      " 45  SITE_ADDR                 15284 non-null  object  \n",
      " 46  ADDR_NUM                  14949 non-null  object  \n",
      " 47  FULL_STR                  15284 non-null  object  \n",
      " 48  LOCATION                  0 non-null      object  \n",
      " 49  CITY                      15315 non-null  object  \n",
      " 50  ZIP                       15284 non-null  object  \n",
      " 51  OWNER1                    15284 non-null  object  \n",
      " 52  OWN_ADDR                  15276 non-null  object  \n",
      " 53  OWN_CITY                  15278 non-null  object  \n",
      " 54  OWN_STATE                 15278 non-null  object  \n",
      " 55  OWN_ZIP                   15278 non-null  object  \n",
      " 56  OWN_CO                    0 non-null      object  \n",
      " 57  LS_BOOK                   15284 non-null  object  \n",
      " 58  LS_PAGE                   15284 non-null  object  \n",
      " 59  REG_ID                    0 non-null      object  \n",
      " 60  ZONING                    15154 non-null  object  \n",
      " 61  YEAR_BUILT                15315 non-null  int64   \n",
      " 62  BLD_AREA                  15315 non-null  int64   \n",
      " 63  UNITS                     15315 non-null  int64   \n",
      " 64  RES_AREA                  15315 non-null  int64   \n",
      " 65  STYLE                     14642 non-null  object  \n",
      " 66  NUM_ROOMS                 15315 non-null  int64   \n",
      " 67  LOT_UNITS                 15284 non-null  object  \n",
      " 68  STORIES                   14633 non-null  object  \n",
      " 69  SHAPE_AREA                15315 non-null  float64 \n",
      " 70  SHAPE_LEN                 15315 non-null  float64 \n",
      " 71  ADD_COUNT                 15315 non-null  int64   \n",
      "dtypes: float64(7), geometry(1), int64(18), object(46)\n",
      "memory usage: 8.5+ MB\n"
     ]
    }
   ],
   "source": [
    "quincy_join.info()"
   ]
  },
  {
   "cell_type": "code",
   "execution_count": 119,
   "metadata": {},
   "outputs": [],
   "source": [
    "quincy_join_conv = quincy_join.to_crs(\"EPSG:4326\")"
   ]
  },
  {
   "cell_type": "code",
   "execution_count": 25,
   "metadata": {},
   "outputs": [],
   "source": [
    "quincy_heat_map = draw_debug_heatmap(joined_state_1.geometry, joined_state_1.ADD_COUNT, 15)\n",
    "quincy_heat_map.save(\"./maps/mass_heatmap.html\")"
   ]
  }
 ],
 "metadata": {
  "kernelspec": {
   "name": "python388jvsc74a57bd0c33515209b3d69129f530b573dc0cb3665ff79b927d87f6f27ce5b5a7447eaab",
   "display_name": "Python 3.8.8 64-bit ('base': conda)"
  },
  "language_info": {
   "codemirror_mode": {
    "name": "ipython",
    "version": 3
   },
   "file_extension": ".py",
   "mimetype": "text/x-python",
   "name": "python",
   "nbconvert_exporter": "python",
   "pygments_lexer": "ipython3",
   "version": "3.8.8"
  }
 },
 "nbformat": 4,
 "nbformat_minor": 2
}