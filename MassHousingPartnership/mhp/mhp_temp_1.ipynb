{
 "cells": [
  {
   "cell_type": "code",
   "execution_count": 1,
   "metadata": {},
   "outputs": [],
   "source": [
    "import geopandas as gpd\n",
    "from geofeather import from_geofeather\n",
    "from geofeather import to_geofeather"
   ]
  },
  {
   "cell_type": "code",
   "execution_count": 1,
   "metadata": {},
   "outputs": [],
   "source": [
    "# Data file path\n",
    "# --data\n",
    "#   --ParcelData\n",
    "#     --statewide_parcel_data.feather\n",
    "#     --statewide_parcel_data.feather.crs\n",
    "#   --AddressData\n",
    "#     --statewide_address_data.feather\n",
    "#     --statewide_address_data.feather.crs"
   ]
  },
  {
   "cell_type": "code",
   "execution_count": 2,
   "metadata": {},
   "outputs": [],
   "source": [
    "parcel_whole = from_geofeather(\"data/ParcelData/statewide_parcel_data.feather\")\n",
    "address_whole = from_geofeather(\"data/AddressData/statewide_address_data.feather\")"
   ]
  },
  {
   "cell_type": "code",
   "execution_count": 3,
   "metadata": {},
   "outputs": [],
   "source": [
    "parcel_quincy = parcel_whole[parcel_whole['CITY'] == \"QUINCY\"]\n",
    "address_quincy = address_whole[address_whole['COMMUNITY_NAME'] == \"QUINCY\"]"
   ]
  },
  {
   "cell_type": "code",
   "execution_count": 4,
   "metadata": {},
   "outputs": [
    {
     "name": "stdout",
     "output_type": "stream",
     "text": [
      "Number of parcels in Quincy: 26537.\n",
      "Number of addresses in Quincy: 56431.\n"
     ]
    }
   ],
   "source": [
    "print(\"Number of parcels in Quincy: %d.\" %(len(parcel_quincy)))\n",
    "print(\"Number of addresses in Quincy: %d.\" %(len(address_quincy)))"
   ]
  },
  {
   "cell_type": "code",
   "execution_count": null,
   "metadata": {},
   "outputs": [],
   "source": [
    "parcel_qui"
   ]
  },
  {
   "cell_type": "code",
   "execution_count": 6,
   "metadata": {},
   "outputs": [],
   "source": [
    "# Convert crs\n",
    "parcel_quincy_converted = parcel_quincy.to_crs(\"EPSG:4326\")\n",
    "address_quincy_converted = address_quincy.to_crs(\"EPSG:4326\")"
   ]
  },
  {
   "cell_type": "code",
   "execution_count": 23,
   "metadata": {},
   "outputs": [
    {
     "data": {
      "text/plain": [
       "2065620    WILLARD STREET\n",
       "2065621    WILLARD STREET\n",
       "2065622    WILLARD STREET\n",
       "2065623    WILLARD STREET\n",
       "2065646    WILLARD STREET\n",
       "2065647    WILLARD STREET\n",
       "2065648    WILLARD STREET\n",
       "2065650    WILLARD STREET\n",
       "2065651    WILLARD STREET\n",
       "2065652    WILLARD STREET\n",
       "Name: STREET_NAME, dtype: object"
      ]
     },
     "execution_count": 23,
     "metadata": {},
     "output_type": "execute_result"
    }
   ],
   "source": [
    "# parcel_quincy_converted.info()\n",
    "address_quincy_converted.STREET_NAME[:10]"
   ]
  },
  {
   "cell_type": "code",
   "execution_count": 24,
   "metadata": {},
   "outputs": [],
   "source": [
    "parcel_quincy_trimmed = parcel_quincy_converted[['OWN_ADDR', 'geometry']]\n",
    "address_quincy_trimmed = address_quincy_converted[['STREET_NAME', 'geometry']]"
   ]
  },
  {
   "cell_type": "code",
   "execution_count": 55,
   "metadata": {},
   "outputs": [],
   "source": [
    "parcel_quincy_trimmed_2 = parcel_quincy[['OWN_ADDR', 'geometry']]\n",
    "address_quincy_trimmed_2 = address_quincy[['STREET_NAME', 'geometry']]"
   ]
  },
  {
   "cell_type": "code",
   "execution_count": 11,
   "metadata": {},
   "outputs": [],
   "source": [
    "from datetime import datetime"
   ]
  },
  {
   "cell_type": "code",
   "execution_count": 26,
   "metadata": {},
   "outputs": [
    {
     "name": "stdout",
     "output_type": "stream",
     "text": [
      "<class 'geopandas.geodataframe.GeoDataFrame'>\n",
      "Int64Index: 26537 entries, 207 to 2406350\n",
      "Data columns (total 2 columns):\n",
      " #   Column    Non-Null Count  Dtype   \n",
      "---  ------    --------------  -----   \n",
      " 0   OWN_ADDR  26425 non-null  object  \n",
      " 1   geometry  26537 non-null  geometry\n",
      "dtypes: geometry(1), object(1)\n",
      "memory usage: 622.0+ KB\n",
      "None\n",
      "\n",
      "<class 'geopandas.geodataframe.GeoDataFrame'>\n",
      "Int64Index: 56431 entries, 2065620 to 2329774\n",
      "Data columns (total 2 columns):\n",
      " #   Column       Non-Null Count  Dtype   \n",
      "---  ------       --------------  -----   \n",
      " 0   STREET_NAME  56431 non-null  object  \n",
      " 1   geometry     56431 non-null  geometry\n",
      "dtypes: geometry(1), object(1)\n",
      "memory usage: 1.3+ MB\n",
      "None\n"
     ]
    }
   ],
   "source": [
    "print(parcel_quincy_trimmed.info())\n",
    "print()\n",
    "print(address_quincy_trimmed.info())"
   ]
  },
  {
   "cell_type": "code",
   "execution_count": 56,
   "metadata": {},
   "outputs": [
    {
     "name": "stdout",
     "output_type": "stream",
     "text": [
      "Time cost: 31356.43ms\n"
     ]
    }
   ],
   "source": [
    "#Merge using goepandas.sjoin\n",
    "start_time = datetime.now()\n",
    "\n",
    "joined_test_quincy = gpd.sjoin(address_quincy_trimmed_2, parcel_quincy_trimmed_2, how=\"inner\", op=\"intersects\")\n",
    "# joined_test = gpd.sjoin(parcel_quincy_converted, address_quincy_converted, how=\"inner\", op=\"within\")\n",
    "\n",
    "end_time = datetime.now()\n",
    "print(\"Time cost: %.2fms\" %((end_time - start_time).total_seconds() * 1000))"
   ]
  },
  {
   "cell_type": "code",
   "execution_count": 41,
   "metadata": {},
   "outputs": [
    {
     "name": "stdout",
     "output_type": "stream",
     "text": [
      "<class 'geopandas.geodataframe.GeoDataFrame'>\n",
      "Int64Index: 26537 entries, 207 to 2406350\n",
      "Data columns (total 2 columns):\n",
      " #   Column    Non-Null Count  Dtype   \n",
      "---  ------    --------------  -----   \n",
      " 0   OWN_ADDR  26425 non-null  object  \n",
      " 1   geometry  26537 non-null  geometry\n",
      "dtypes: geometry(1), object(1)\n",
      "memory usage: 622.0+ KB\n",
      "<class 'geopandas.geodataframe.GeoDataFrame'>\n",
      "Int64Index: 56431 entries, 2065620 to 2329774\n",
      "Data columns (total 2 columns):\n",
      " #   Column       Non-Null Count  Dtype   \n",
      "---  ------       --------------  -----   \n",
      " 0   STREET_NAME  56431 non-null  object  \n",
      " 1   geometry     56431 non-null  geometry\n",
      "dtypes: geometry(1), object(1)\n",
      "memory usage: 1.3+ MB\n"
     ]
    }
   ],
   "source": [
    "parcel_quincy_trimmed.info()\n",
    "address_quincy_trimmed.info()"
   ]
  },
  {
   "cell_type": "code",
   "execution_count": 58,
   "metadata": {},
   "outputs": [
    {
     "data": {
      "text/html": [
       "<div>\n",
       "<style scoped>\n",
       "    .dataframe tbody tr th:only-of-type {\n",
       "        vertical-align: middle;\n",
       "    }\n",
       "\n",
       "    .dataframe tbody tr th {\n",
       "        vertical-align: top;\n",
       "    }\n",
       "\n",
       "    .dataframe thead th {\n",
       "        text-align: right;\n",
       "    }\n",
       "</style>\n",
       "<table border=\"1\" class=\"dataframe\">\n",
       "  <thead>\n",
       "    <tr style=\"text-align: right;\">\n",
       "      <th></th>\n",
       "      <th>STREET_NAME</th>\n",
       "      <th>geometry</th>\n",
       "      <th>index_right</th>\n",
       "      <th>OWN_ADDR</th>\n",
       "    </tr>\n",
       "  </thead>\n",
       "  <tbody>\n",
       "    <tr>\n",
       "      <th>2065620</th>\n",
       "      <td>WILLARD STREET</td>\n",
       "      <td>POINT (238754.959 886609.775)</td>\n",
       "      <td>1159314</td>\n",
       "      <td>PO BOX 87407</td>\n",
       "    </tr>\n",
       "    <tr>\n",
       "      <th>2065621</th>\n",
       "      <td>WILLARD STREET</td>\n",
       "      <td>POINT (238754.959 886609.775)</td>\n",
       "      <td>1159314</td>\n",
       "      <td>PO BOX 87407</td>\n",
       "    </tr>\n",
       "    <tr>\n",
       "      <th>2065622</th>\n",
       "      <td>WILLARD STREET</td>\n",
       "      <td>POINT (238754.959 886609.775)</td>\n",
       "      <td>1159314</td>\n",
       "      <td>PO BOX 87407</td>\n",
       "    </tr>\n",
       "    <tr>\n",
       "      <th>2065623</th>\n",
       "      <td>WILLARD STREET</td>\n",
       "      <td>POINT (238754.959 886609.775)</td>\n",
       "      <td>1159314</td>\n",
       "      <td>PO BOX 87407</td>\n",
       "    </tr>\n",
       "    <tr>\n",
       "      <th>2065646</th>\n",
       "      <td>WILLARD STREET</td>\n",
       "      <td>POINT (238821.324 886625.242)</td>\n",
       "      <td>1159314</td>\n",
       "      <td>PO BOX 87407</td>\n",
       "    </tr>\n",
       "    <tr>\n",
       "      <th>2065647</th>\n",
       "      <td>WILLARD STREET</td>\n",
       "      <td>POINT (238821.324 886625.242)</td>\n",
       "      <td>1159314</td>\n",
       "      <td>PO BOX 87407</td>\n",
       "    </tr>\n",
       "    <tr>\n",
       "      <th>2065648</th>\n",
       "      <td>WILLARD STREET</td>\n",
       "      <td>POINT (238821.324 886625.242)</td>\n",
       "      <td>1159314</td>\n",
       "      <td>PO BOX 87407</td>\n",
       "    </tr>\n",
       "    <tr>\n",
       "      <th>2065650</th>\n",
       "      <td>WILLARD STREET</td>\n",
       "      <td>POINT (238821.324 886625.242)</td>\n",
       "      <td>1159314</td>\n",
       "      <td>PO BOX 87407</td>\n",
       "    </tr>\n",
       "    <tr>\n",
       "      <th>2065651</th>\n",
       "      <td>WILLARD STREET</td>\n",
       "      <td>POINT (238821.324 886625.242)</td>\n",
       "      <td>1159314</td>\n",
       "      <td>PO BOX 87407</td>\n",
       "    </tr>\n",
       "    <tr>\n",
       "      <th>2065652</th>\n",
       "      <td>WILLARD STREET</td>\n",
       "      <td>POINT (238821.324 886625.242)</td>\n",
       "      <td>1159314</td>\n",
       "      <td>PO BOX 87407</td>\n",
       "    </tr>\n",
       "  </tbody>\n",
       "</table>\n",
       "</div>"
      ],
      "text/plain": [
       "            STREET_NAME                       geometry  index_right  \\\n",
       "2065620  WILLARD STREET  POINT (238754.959 886609.775)      1159314   \n",
       "2065621  WILLARD STREET  POINT (238754.959 886609.775)      1159314   \n",
       "2065622  WILLARD STREET  POINT (238754.959 886609.775)      1159314   \n",
       "2065623  WILLARD STREET  POINT (238754.959 886609.775)      1159314   \n",
       "2065646  WILLARD STREET  POINT (238821.324 886625.242)      1159314   \n",
       "2065647  WILLARD STREET  POINT (238821.324 886625.242)      1159314   \n",
       "2065648  WILLARD STREET  POINT (238821.324 886625.242)      1159314   \n",
       "2065650  WILLARD STREET  POINT (238821.324 886625.242)      1159314   \n",
       "2065651  WILLARD STREET  POINT (238821.324 886625.242)      1159314   \n",
       "2065652  WILLARD STREET  POINT (238821.324 886625.242)      1159314   \n",
       "\n",
       "             OWN_ADDR  \n",
       "2065620  PO BOX 87407  \n",
       "2065621  PO BOX 87407  \n",
       "2065622  PO BOX 87407  \n",
       "2065623  PO BOX 87407  \n",
       "2065646  PO BOX 87407  \n",
       "2065647  PO BOX 87407  \n",
       "2065648  PO BOX 87407  \n",
       "2065650  PO BOX 87407  \n",
       "2065651  PO BOX 87407  \n",
       "2065652  PO BOX 87407  "
      ]
     },
     "execution_count": 58,
     "metadata": {},
     "output_type": "execute_result"
    }
   ],
   "source": [
    "joined_test_quincy[:10]"
   ]
  },
  {
   "cell_type": "code",
   "execution_count": 54,
   "metadata": {},
   "outputs": [
    {
     "data": {
      "text/plain": [
       "2004814    497\n",
       "2321600    497\n",
       "422215     497\n",
       "2321793    497\n",
       "1688726    497\n",
       "          ... \n",
       "68881        1\n",
       "1068345      1\n",
       "1228135      1\n",
       "1463802      1\n",
       "2241559      1\n",
       "Name: index_right, Length: 26081, dtype: int64"
      ]
     },
     "execution_count": 54,
     "metadata": {},
     "output_type": "execute_result"
    }
   ],
   "source": [
    "joined_test_quincy['index_right'].value_counts()"
   ]
  }
 ],
 "metadata": {
  "kernelspec": {
   "display_name": "Python 3",
   "language": "python",
   "name": "python3"
  },
  "language_info": {
   "codemirror_mode": {
    "name": "ipython",
    "version": 3
   },
   "file_extension": ".py",
   "mimetype": "text/x-python",
   "name": "python",
   "nbconvert_exporter": "python",
   "pygments_lexer": "ipython3",
   "version": "3.7.4"
  }
 },
 "nbformat": 4,
 "nbformat_minor": 2
}
