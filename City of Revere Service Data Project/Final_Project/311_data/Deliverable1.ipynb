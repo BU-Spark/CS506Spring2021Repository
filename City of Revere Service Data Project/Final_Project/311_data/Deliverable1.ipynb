{
 "cells": [
  {
   "cell_type": "code",
   "execution_count": null,
   "metadata": {
    "id": "PxWNFMKxH-QY"
   },
   "outputs": [],
   "source": [
    "#modules\n",
    "import pandas as pd\n",
    "import numpy as np\n",
    "import matplotlib.pyplot as plt\n",
    "import folium\n",
    "from collections import Counter"
   ]
  },
  {
   "cell_type": "code",
   "execution_count": null,
   "metadata": {
    "id": "riGZZE1UOGj2"
   },
   "outputs": [],
   "source": []
  },
  {
   "cell_type": "markdown",
   "metadata": {
    "id": "wrxFmdPQHG8k"
   },
   "source": [
    "Use `df.copy(deep=True) ` in order to make copies of data frames before manipulating them directly\n"
   ]
  },
  {
   "cell_type": "code",
   "execution_count": null,
   "metadata": {
    "colab": {
     "base_uri": "https://localhost:8080/"
    },
    "id": "-udjkv-aIhkO",
    "outputId": "2e648a4d-0957-4a21-c8f1-caeef455c06a"
   },
   "outputs": [
    {
     "name": "stderr",
     "output_type": "stream",
     "text": [
      "/usr/local/lib/python3.7/dist-packages/IPython/core/interactiveshell.py:2718: DtypeWarning: Columns (16,17,24,50,66,68,69) have mixed types.Specify dtype option on import or set low_memory=False.\n",
      "  interactivity=interactivity, compiler=compiler, result=result)\n",
      "/usr/local/lib/python3.7/dist-packages/IPython/core/interactiveshell.py:2718: DtypeWarning: Columns (101,102,103,104,105,106,107,108) have mixed types.Specify dtype option on import or set low_memory=False.\n",
      "  interactivity=interactivity, compiler=compiler, result=result)\n"
     ]
    }
   ],
   "source": [
    "#Setting Global Variables for Data Frames\n",
    "df_311 = pd.read_csv('311data.csv',sep=',')\n",
    "df_census = pd.read_csv('tracks_census_block_group_by_address_city_of_revere_0224.csv',sep=',')\n"
   ]
  },
  {
   "cell_type": "markdown",
   "metadata": {
    "id": "Ws4tGp5XFuFB"
   },
   "source": [
    "Generates Map of Revere, Colored by District\n"
   ]
  },
  {
   "cell_type": "code",
   "execution_count": null,
   "metadata": {
    "id": "sg0_5N8kMpZ7"
   },
   "outputs": [],
   "source": [
    "\n",
    "def generateBaseMap(default_location=[42.408428, -71.011993]):\n",
    "    base_map = folium.Map(location=default_location)\n",
    "    return(base_map)\n",
    "data311 = df_311.copy(deep=True)\n",
    "base_map=generateBaseMap()\n",
    "base_map.save('reverebase.html')\n",
    "locations = data311[['Latitude', 'Longitude']] #add points on map\n",
    "addresses = data311['Complete Address']\n",
    "dists = data311['District']\n",
    "colors = ['red', 'orange', 'yellow', 'green', 'blue', 'purple']\n",
    "locationlist = locations.values.tolist()\n",
    "for point in range(0, len(locationlist)):\n",
    "    folium.CircleMarker(locationlist[point], radius=.5, color=colors[dists[point]-1], popup=addresses[point]).add_to(base_map)\n",
    "base_map.save('reverelatlong.html')"
   ]
  },
  {
   "cell_type": "code",
   "execution_count": null,
   "metadata": {
    "id": "iMyqOoAnMfKD"
   },
   "outputs": [],
   "source": []
  },
  {
   "cell_type": "markdown",
   "metadata": {
    "id": "u1-VR1sXIng_"
   },
   "source": [
    "Bar Charts for 311 Data"
   ]
  },
  {
   "cell_type": "code",
   "execution_count": null,
   "metadata": {
    "colab": {
     "base_uri": "https://localhost:8080/",
     "height": 298
    },
    "id": "3UE-1NZlCUoa",
    "outputId": "d2957526-62bd-4d47-b645-e393ec0ba6e7"
   },
   "outputs": [
    {
     "name": "stdout",
     "output_type": "stream",
     "text": [
      "['Covid19 Food Assistance', 'Pothole', 'Overgrowth/Unsanitary Conditions', 'Sidewalk repair', 'Private Property: Unsanitary or improper trash disposal', 'Request for New/Replacement Recycling Bin', 'Debris/Litter Pickup', 'Dead animal', 'Tree maintenance request', 'Sign Missing/Damaged']\n"
     ]
    },
    {
     "data": {
      "image/png": "[encoded data removed]",
      "text/plain": [
       "<Figure size 432x288 with 1 Axes>"
      ]
     },
     "metadata": {
      "needs_background": "light",
      "tags": []
     },
     "output_type": "display_data"
    }
   ],
   "source": [
    "\n",
    "df311 = df_311.copy(deep=True)\n",
    "\n",
    "cols = ['Address', 'Comments', 'Create Date', 'Department', 'Department ID', 'District', 'Master Request', 'Request ID', 'Request Type'  ]\n",
    "df311 = df311[cols]\n",
    "df311.head()\n",
    "\n",
    "\n",
    "# MOST POPULAR REQS\n",
    "c = ((Counter(df311['Request Type'])).most_common(10))\n",
    "x, y = [], []\n",
    "for i in range(len(c)):\n",
    "    x.append(i+1)\n",
    "    y.append(c[i][1])\n",
    "plt.bar(x,y)\n",
    "plt.title('10 most common request types')\n",
    "plt.ylabel('Frequency')\n",
    "print([i[0] for i in c ])\n",
    "\n",
    "#convert to yeardf, plot subplots\n",
    "import re\n",
    "\n",
    "yre =re.compile(r'20\\d\\d')\n",
    "\n",
    "def dfTop(df,col, n):\n",
    "    d = {}\n",
    "    for i in list(set((yrdf['Year']).values)):\n",
    "        d[i] = []\n",
    "    for i in range(len(df[col])):\n",
    "        d[df.iloc[i]['Year']] += [yrdf.iloc[i]['Request Type']]\n",
    "    for i in list(set((yrdf['Year']).values)):\n",
    "        d[i] = [i[1] for i in Counter(d[i]).most_common(n)]\n",
    "        #d[i] = Counter(d[i]).most_common(n)\n",
    "    return d\n",
    "tdict = { \n",
    "    'Uncleared sidewalk - Private Property': 'Trash',\n",
    "}\n",
    "\n"
   ]
  },
  {
   "cell_type": "code",
   "execution_count": null,
   "metadata": {
    "id": "lde2MKt_FnTH"
   },
   "outputs": [],
   "source": []
  },
  {
   "cell_type": "code",
   "execution_count": null,
   "metadata": {
    "colab": {
     "base_uri": "https://localhost:8080/",
     "height": 559
    },
    "id": "EsyydOMyF7q9",
    "outputId": "45b72d72-54fb-4ce1-c36d-240827a9558f"
   },
   "outputs": [
    {
     "data": {
      "text/plain": [
       "Counter({2018: 5451, 2019: 6925, 2020: 11069})"
      ]
     },
     "execution_count": 15,
     "metadata": {
      "tags": []
     },
     "output_type": "execute_result"
    },
    {
     "data": {
      "image/png": "[encoded data removed]",
      "text/plain": [
       "<Figure size 720x576 with 3 Axes>"
      ]
     },
     "metadata": {
      "needs_background": "light",
      "tags": []
     },
     "output_type": "display_data"
    }
   ],
   "source": [
    "#Evntually make trans table to  reduce number  of types\n",
    "\n",
    "df311['Year'] = [int(yre.search(i)[0]) for i in df311['Create Date']]\n",
    "yrdf = df311.loc[(df311['Year'] > 2017) & (df311['Year'] < 2021 )]\n",
    "yrdf= yrdf[['Year','Request Type']]\n",
    "yrdf['Request Type'] = yrdf['Request Type'].str.translate(tdict)\n",
    "Counter(yrdf['Request Type']).most_common()\n",
    "#yrdf.head()\n",
    "\n",
    "c1 = ['r', 'r', 'b', 'purple', 'r', 'purple', 'r', 'r', 'r', 'r' ]\n",
    "c2 = ['r', 'r', 'b', 'r', 'r', 'r', 'r', 'b', 'r','g']\n",
    "c3 = ['orange','orange','orange', 'b', 'r', 'orange','r','r','r']\n",
    "d = dfTop(yrdf,'Year',10)\n",
    "f, ax = plt.subplots(3,1,figsize=(10,8))\n",
    "\n",
    "plt.subplot(3, 1, 1)\n",
    "plt.bar(range(len(d[2018])),d[2018], color = c1)\n",
    "plt.title(\"2018\")\n",
    "\n",
    "plt.subplot(3, 1, 2)\n",
    "plt.bar(range(len(d[2019])),d[2019], color = c2)\n",
    "\n",
    "\n",
    "plt.subplot(3, 1, 3)\n",
    "plt.bar(range(len(d[2020])),d[2020], color = c3)\n",
    "plt.title(\"2020\")\n",
    "\n",
    "plt.suptitle(\"Top Ten Requests by year\")\n",
    "plt.plot()\n",
    "\n",
    "#requests per year\n",
    "plt.bar(Counter(yrdf['Year']).keys(),Counter(yrdf['Year']).values(),color = ['g','g','g'])\n",
    "plt.title('311 Requests per Year')\n",
    "plt.xticks([2018,2019,2020])\n",
    "plt.ylabel('Frequency')\n",
    "\n",
    "Counter(yrdf['Year'])"
   ]
  },
  {
   "cell_type": "code",
   "execution_count": null,
   "metadata": {
    "id": "nqZvccUArP-a"
   },
   "outputs": [],
   "source": []
  }
 ],
 "metadata": {
  "colab": {
   "collapsed_sections": [],
   "name": "Deliverable1.ipynb",
   "provenance": []
  },
  "kernelspec": {
   "display_name": "Python 3",
   "language": "python",
   "name": "python3"
  },
  "language_info": {
   "codemirror_mode": {
    "name": "ipython",
    "version": 3
   },
   "file_extension": ".py",
   "mimetype": "text/x-python",
   "name": "python",
   "nbconvert_exporter": "python",
   "pygments_lexer": "ipython3",
   "version": "3.7.4"
  }
 },
 "nbformat": 4,
 "nbformat_minor": 1
}
