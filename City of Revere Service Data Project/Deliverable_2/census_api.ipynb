{
 "metadata": {
  "language_info": {
   "codemirror_mode": {
    "name": "ipython",
    "version": 3
   },
   "file_extension": ".py",
   "mimetype": "text/x-python",
   "name": "python",
   "nbconvert_exporter": "python",
   "pygments_lexer": "ipython3",
   "version": "3.7.3-final"
  },
  "orig_nbformat": 2,
  "kernelspec": {
   "name": "python3",
   "display_name": "Python 3.7.3 64-bit",
   "metadata": {
    "interpreter": {
     "hash": "ca097889dea8353eada9ae0dd46c2262983d650f3347cafe8c6c8612f7c4431a"
    }
   }
  }
 },
 "nbformat": 4,
 "nbformat_minor": 2,
 "cells": [
  {
   "cell_type": "code",
   "execution_count": 8,
   "metadata": {},
   "outputs": [],
   "source": [
    "import numpy as np\n",
    "import pandas as pd\n",
    "import requests\n",
    "import json"
   ]
  },
  {
   "cell_type": "code",
   "execution_count": 15,
   "metadata": {},
   "outputs": [
    {
     "output_type": "execute_result",
     "data": {
      "text/plain": [
       "2          0                12  \n",
       "5                 25          0                17         15                25  \n",
       "6                 12          0                12          0                12  \n",
       "7                 31          0                17         20                31  \n",
       "8                332         14                23        375               331  \n",
       "9                 12          0                12          0                12  \n",
       "10               418         45                58        819               416  \n",
       "11               760         60                73       1668               767  \n",
       "12               569         71                72       1666               560  \n",
       "13               377         87               110        593               382  \n",
       "14               415          7                13        781               417  \n",
       "15               388        209               175        414               323  \n",
       "16               304         34                39        189               303  \n",
       "17               176        118               155         56                83  \n",
       "18                17          0                17          0                17  \n",
       "19               130          0                12        134               130  \n",
       "20                12          0                12          0                12  \n",
       "21               272          7                12        224               274  \n",
       "22                82          0                12        148                82  \n",
       "23               332        128               171        307               302  \n",
       "24                62         22                36         40                50  \n",
       "25                12          0                12          0                12  \n",
       "26                12          0                12          0                12  \n",
       "27                12          0                12          0                12  \n",
       "28                12          0                12          0                12  \n",
       "\n",
       "[29 rows x 44 columns]"
      ],
      "text/html": "<div>\n<style scoped>\n    .dataframe tbody tr th:only-of-type {\n        vertical-align: middle;\n    }\n\n    .dataframe tbody tr th {\n        vertical-align: top;\n    }\n\n    .dataframe thead th {\n        text-align: right;\n    }\n</style>\n<table border=\"1\" class=\"dataframe\">\n  <thead>\n    <tr style=\"text-align: right;\">\n      <th></th>\n      <th>geoid</th>\n      <th>name</th>\n      <th>B03002001</th>\n      <th>B03002001, Error</th>\n      <th>B03002002</th>\n      <th>B03002002, Error</th>\n      <th>B03002003</th>\n      <th>B03002003, Error</th>\n      <th>B03002004</th>\n      <th>B03002004, Error</th>\n      <th>...</th>\n      <th>B03002017</th>\n      <th>B03002017, Error</th>\n      <th>B03002018</th>\n      <th>B03002018, Error</th>\n      <th>B03002019</th>\n      <th>B03002019, Error</th>\n      <th>B03002020</th>\n      <th>B03002020, Error</th>\n      <th>B03002021</th>\n      <th>B03002021, Error</th>\n    </tr>\n  </thead>\n  <tbody>\n    <tr>\n      <th>0</th>\n      <td>14000US25009207200</td>\n      <td>Census Tract 2072, Essex, MA</td>\n      <td>2467</td>\n      <td>251</td>\n      <td>1540</td>\n      <td>274</td>\n      <td>698</td>\n      <td>253</td>\n      <td>280</td>\n      <td>120</td>\n      <td>...</td>\n      <td>0</td>\n      <td>12</td>\n      <td>510</td>\n      <td>306</td>\n      <td>159</td>\n      <td>133</td>\n      <td>135</td>\n      <td>120</td>\n      <td>24</td>\n      <td>45</td>\n    </tr>\n    <tr>\n      <th>1</th>\n      <td>14000US25009208101</td>\n      <td>Census Tract 2081.01, Essex, MA</td>\n      <td>4991</td>\n      <td>409</td>\n      <td>4571</td>\n      <td>403</td>\n      <td>4216</td>\n      <td>413</td>\n      <td>21</td>\n      <td>24</td>\n      <td>...</td>\n      <td>0</td>\n      <td>12</td>\n      <td>0</td>\n      <td>12</td>\n      <td>0</td>\n      <td>12</td>\n      <td>0</td>\n      <td>12</td>\n      <td>0</td>\n      <td>12</td>\n    </tr>\n    <tr>\n      <th>2</th>\n      <td>14000US25009208102</td>\n      <td>Census Tract 2081.02, Essex, MA</td>\n      <td>3258</td>\n      <td>342</td>\n      <td>2872</td>\n      <td>343</td>\n      <td>2471</td>\n      <td>311</td>\n      <td>133</td>\n      <td>154</td>\n      <td>...</td>\n      <td>0</td>\n      <td>12</td>\n      <td>18</td>\n      <td>35</td>\n      <td>13</td>\n      <td>20</td>\n      <td>13</td>\n      <td>20</td>\n      <td>0</td>\n      <td>12</td>\n    </tr>\n    <tr>\n      <th>3</th>\n      <td>14000US25009208200</td>\n      <td>Census Tract 2082, Essex, MA</td>\n      <td>5519</td>\n      <td>507</td>\n      <td>5263</td>\n      <td>469</td>\n      <td>4696</td>\n      <td>513</td>\n      <td>317</td>\n      <td>267</td>\n      <td>...</td>\n      <td>0</td>\n      <td>17</td>\n      <td>79</td>\n      <td>126</td>\n      <td>0</td>\n      <td>17</td>\n      <td>0</td>\n      <td>17</td>\n      <td>0</td>\n      <td>17</td>\n    </tr>\n    <tr>\n      <th>4</th>\n      <td>14000US25009990100</td>\n      <td>Census Tract 9901, Essex, MA</td>\n      <td>0</td>\n      <td>12</td>\n      <td>0</td>\n      <td>12</td>\n      <td>0</td>\n      <td>12</td>\n      <td>0</td>\n      <td>12</td>\n      <td>...</td>\n      <td>0</td>\n      <td>12</td>\n      <td>0</td>\n      <td>12</td>\n      <td>0</td>\n      <td>12</td>\n      <td>0</td>\n      <td>12</td>\n      <td>0</td>\n      <td>12</td>\n    </tr>\n    <tr>\n      <th>5</th>\n      <td>14000US25017336300</td>\n      <td>Census Tract 3363, Middlesex, MA</td>\n      <td>6582</td>\n      <td>319</td>\n      <td>6462</td>\n      <td>353</td>\n      <td>5913</td>\n      <td>361</td>\n      <td>55</td>\n      <td>52</td>\n      <td>...</td>\n      <td>0</td>\n      <td>17</td>\n      <td>0</td>\n      <td>17</td>\n      <td>15</td>\n      <td>25</td>\n      <td>0</td>\n      <td>17</td>\n      <td>15</td>\n      <td>25</td>\n    </tr>\n    <tr>\n      <th>6</th>\n      <td>14000US25017341901</td>\n      <td>Census Tract 3419.01, Middlesex, MA</td>\n      <td>1372</td>\n      <td>102</td>\n      <td>1342</td>\n      <td>110</td>\n      <td>1088</td>\n      <td>159</td>\n      <td>163</td>\n      <td>102</td>\n      <td>...</td>\n      <td>0</td>\n      <td>12</td>\n      <td>0</td>\n      <td>12</td>\n      <td>0</td>\n      <td>12</td>\n      <td>0</td>\n      <td>12</td>\n      <td>0</td>\n      <td>12</td>\n    </tr>\n    <tr>\n      <th>7</th>\n      <td>14000US25017341902</td>\n      <td>Census Tract 3419.02, Middlesex, MA</td>\n      <td>8998</td>\n      <td>585</td>\n      <td>8421</td>\n      <td>666</td>\n      <td>4837</td>\n      <td>726</td>\n      <td>1146</td>\n      <td>420</td>\n      <td>...</td>\n      <td>0</td>\n      <td>17</td>\n      <td>229</td>\n      <td>186</td>\n      <td>20</td>\n      <td>31</td>\n      <td>0</td>\n      <td>17</td>\n      <td>20</td>\n      <td>31</td>\n    </tr>\n    <tr>\n      <th>8</th>\n      <td>14000US25017342101</td>\n      <td>Census Tract 3421.01, Middlesex, MA</td>\n      <td>5096</td>\n      <td>508</td>\n      <td>3347</td>\n      <td>414</td>\n      <td>1781</td>\n      <td>307</td>\n      <td>672</td>\n      <td>219</td>\n      <td>...</td>\n      <td>0</td>\n      <td>17</td>\n      <td>364</td>\n      <td>238</td>\n      <td>389</td>\n      <td>332</td>\n      <td>14</td>\n      <td>23</td>\n      <td>375</td>\n      <td>331</td>\n    </tr>\n    <tr>\n      <th>9</th>\n      <td>14000US25017342102</td>\n      <td>Census Tract 3421.02, Middlesex, MA</td>\n      <td>4033</td>\n      <td>322</td>\n      <td>3022</td>\n      <td>471</td>\n      <td>1725</td>\n      <td>364</td>\n      <td>758</td>\n      <td>276</td>\n      <td>...</td>\n      <td>0</td>\n      <td>12</td>\n      <td>134</td>\n      <td>143</td>\n      <td>0</td>\n      <td>12</td>\n      <td>0</td>\n      <td>12</td>\n      <td>0</td>\n      <td>12</td>\n    </tr>\n    <tr>\n      <th>10</th>\n      <td>14000US25025051000</td>\n      <td>Census Tract 510, Suffolk, MA</td>\n      <td>4721</td>\n      <td>428</td>\n      <td>2773</td>\n      <td>319</td>\n      <td>2188</td>\n      <td>334</td>\n      <td>132</td>\n      <td>131</td>\n      <td>...</td>\n      <td>0</td>\n      <td>12</td>\n      <td>271</td>\n      <td>194</td>\n      <td>864</td>\n      <td>418</td>\n      <td>45</td>\n      <td>58</td>\n      <td>819</td>\n      <td>416</td>\n    </tr>\n    <tr>\n      <th>11</th>\n      <td>14000US25025051101</td>\n      <td>Census Tract 511.01, Suffolk, MA</td>\n      <td>7687</td>\n      <td>695</td>\n      <td>3529</td>\n      <td>465</td>\n      <td>2782</td>\n      <td>395</td>\n      <td>220</td>\n      <td>225</td>\n      <td>...</td>\n      <td>0</td>\n      <td>17</td>\n      <td>167</td>\n      <td>206</td>\n      <td>1728</td>\n      <td>760</td>\n      <td>60</td>\n      <td>73</td>\n      <td>1668</td>\n      <td>767</td>\n    </tr>\n    <tr>\n      <th>12</th>\n      <td>14000US25025160502</td>\n      <td>Census Tract 1605.02, Suffolk, MA</td>\n      <td>5105</td>\n      <td>532</td>\n      <td>1672</td>\n      <td>375</td>\n      <td>987</td>\n      <td>208</td>\n      <td>247</td>\n      <td>206</td>\n      <td>...</td>\n      <td>0</td>\n      <td>17</td>\n      <td>211</td>\n      <td>122</td>\n      <td>1737</td>\n      <td>569</td>\n      <td>71</td>\n      <td>72</td>\n      <td>1666</td>\n      <td>560</td>\n    </tr>\n    <tr>\n      <th>13</th>\n      <td>14000US25025160601</td>\n      <td>Census Tract 1606.01, Suffolk, MA</td>\n      <td>4713</td>\n      <td>478</td>\n      <td>2240</td>\n      <td>296</td>\n      <td>1514</td>\n      <td>305</td>\n      <td>280</td>\n      <td>185</td>\n      <td>...</td>\n      <td>0</td>\n      <td>12</td>\n      <td>444</td>\n      <td>227</td>\n      <td>680</td>\n      <td>377</td>\n      <td>87</td>\n      <td>110</td>\n      <td>593</td>\n      <td>382</td>\n    </tr>\n    <tr>\n      <th>14</th>\n      <td>14000US25025160602</td>\n      <td>Census Tract 1606.02, Suffolk, MA</td>\n      <td>5740</td>\n      <td>461</td>\n      <td>2862</td>\n      <td>317</td>\n      <td>1464</td>\n      <td>253</td>\n      <td>610</td>\n      <td>161</td>\n      <td>...</td>\n      <td>0</td>\n      <td>17</td>\n      <td>585</td>\n      <td>256</td>\n      <td>788</td>\n      <td>415</td>\n      <td>7</td>\n      <td>13</td>\n      <td>781</td>\n      <td>417</td>\n    </tr>\n    <tr>\n      <th>15</th>\n      <td>14000US25025170100</td>\n      <td>Census Tract 1701, Suffolk, MA</td>\n      <td>7935</td>\n      <td>765</td>\n      <td>4928</td>\n      <td>545</td>\n      <td>4371</td>\n      <td>574</td>\n      <td>298</td>\n      <td>189</td>\n      <td>...</td>\n      <td>0</td>\n      <td>17</td>\n      <td>301</td>\n      <td>317</td>\n      <td>623</td>\n      <td>388</td>\n      <td>209</td>\n      <td>175</td>\n      <td>414</td>\n      <td>323</td>\n    </tr>\n    <tr>\n      <th>16</th>\n      <td>14000US25025170200</td>\n      <td>Census Tract 1702, Suffolk, MA</td>\n      <td>4844</td>\n      <td>495</td>\n      <td>3737</td>\n      <td>474</td>\n      <td>3072</td>\n      <td>471</td>\n      <td>354</td>\n      <td>265</td>\n      <td>...</td>\n      <td>0</td>\n      <td>12</td>\n      <td>200</td>\n      <td>180</td>\n      <td>223</td>\n      <td>304</td>\n      <td>34</td>\n      <td>39</td>\n      <td>189</td>\n      <td>303</td>\n    </tr>\n    <tr>\n      <th>17</th>\n      <td>14000US25025170300</td>\n      <td>Census Tract 1703, Suffolk, MA</td>\n      <td>9417</td>\n      <td>643</td>\n      <td>7272</td>\n      <td>706</td>\n      <td>5908</td>\n      <td>718</td>\n      <td>729</td>\n      <td>398</td>\n      <td>...</td>\n      <td>0</td>\n      <td>17</td>\n      <td>219</td>\n      <td>210</td>\n      <td>174</td>\n      <td>176</td>\n      <td>118</td>\n      <td>155</td>\n      <td>56</td>\n      <td>83</td>\n    </tr>\n    <tr>\n      <th>18</th>\n      <td>14000US25025170400</td>\n      <td>Census Tract 1704, Suffolk, MA</td>\n      <td>5041</td>\n      <td>481</td>\n      <td>3620</td>\n      <td>486</td>\n      <td>2482</td>\n      <td>415</td>\n      <td>509</td>\n      <td>377</td>\n      <td>...</td>\n      <td>0</td>\n      <td>17</td>\n      <td>410</td>\n      <td>294</td>\n      <td>0</td>\n      <td>17</td>\n      <td>0</td>\n      <td>17</td>\n      <td>0</td>\n      <td>17</td>\n    </tr>\n    <tr>\n      <th>19</th>\n      <td>14000US25025170501</td>\n      <td>Census Tract 1705.01, Suffolk, MA</td>\n      <td>4117</td>\n      <td>564</td>\n      <td>2561</td>\n      <td>333</td>\n      <td>2024</td>\n      <td>340</td>\n      <td>130</td>\n      <td>114</td>\n      <td>...</td>\n      <td>0</td>\n      <td>12</td>\n      <td>205</td>\n      <td>120</td>\n      <td>134</td>\n      <td>130</td>\n      <td>0</td>\n      <td>12</td>\n      <td>134</td>\n      <td>130</td>\n    </tr>\n    <tr>\n      <th>20</th>\n      <td>14000US25025170502</td>\n      <td>Census Tract 1705.02, Suffolk, MA</td>\n      <td>2430</td>\n      <td>295</td>\n      <td>2302</td>\n      <td>285</td>\n      <td>2105</td>\n      <td>313</td>\n      <td>14</td>\n      <td>22</td>\n      <td>...</td>\n      <td>0</td>\n      <td>12</td>\n      <td>9</td>\n      <td>15</td>\n      <td>0</td>\n      <td>12</td>\n      <td>0</td>\n      <td>12</td>\n      <td>0</td>\n      <td>12</td>\n    </tr>\n    <tr>\n      <th>21</th>\n      <td>14000US25025170601</td>\n      <td>Census Tract 1706.01, Suffolk, MA</td>\n      <td>5530</td>\n      <td>628</td>\n      <td>3201</td>\n      <td>511</td>\n      <td>2684</td>\n      <td>494</td>\n      <td>177</td>\n      <td>139</td>\n      <td>...</td>\n      <td>0</td>\n      <td>17</td>\n      <td>339</td>\n      <td>174</td>\n      <td>231</td>\n      <td>272</td>\n      <td>7</td>\n      <td>12</td>\n      <td>224</td>\n      <td>274</td>\n    </tr>\n    <tr>\n      <th>22</th>\n      <td>14000US25025170701</td>\n      <td>Census Tract 1707.01, Suffolk, MA</td>\n      <td>2099</td>\n      <td>181</td>\n      <td>1470</td>\n      <td>156</td>\n      <td>1008</td>\n      <td>199</td>\n      <td>83</td>\n      <td>64</td>\n      <td>...</td>\n      <td>0</td>\n      <td>12</td>\n      <td>116</td>\n      <td>85</td>\n      <td>148</td>\n      <td>82</td>\n      <td>0</td>\n      <td>12</td>\n      <td>148</td>\n      <td>82</td>\n    </tr>\n    <tr>\n      <th>23</th>\n      <td>14000US25025170702</td>\n      <td>Census Tract 1707.02, Suffolk, MA</td>\n      <td>5798</td>\n      <td>521</td>\n      <td>2858</td>\n      <td>679</td>\n      <td>1874</td>\n      <td>561</td>\n      <td>238</td>\n      <td>188</td>\n      <td>...</td>\n      <td>0</td>\n      <td>17</td>\n      <td>342</td>\n      <td>249</td>\n      <td>435</td>\n      <td>332</td>\n      <td>128</td>\n      <td>171</td>\n      <td>307</td>\n      <td>302</td>\n    </tr>\n    <tr>\n      <th>24</th>\n      <td>14000US25025170800</td>\n      <td>Census Tract 1708, Suffolk, MA</td>\n      <td>6481</td>\n      <td>606</td>\n      <td>3701</td>\n      <td>607</td>\n      <td>3106</td>\n      <td>606</td>\n      <td>141</td>\n      <td>235</td>\n      <td>...</td>\n      <td>0</td>\n      <td>17</td>\n      <td>182</td>\n      <td>223</td>\n      <td>62</td>\n      <td>62</td>\n      <td>22</td>\n      <td>36</td>\n      <td>40</td>\n      <td>50</td>\n    </tr>\n    <tr>\n      <th>25</th>\n      <td>14000US25025180101</td>\n      <td>Census Tract 1801.01, Suffolk, MA</td>\n      <td>4992</td>\n      <td>442</td>\n      <td>4380</td>\n      <td>451</td>\n      <td>4115</td>\n      <td>445</td>\n      <td>122</td>\n      <td>117</td>\n      <td>...</td>\n      <td>0</td>\n      <td>12</td>\n      <td>83</td>\n      <td>96</td>\n      <td>0</td>\n      <td>12</td>\n      <td>0</td>\n      <td>12</td>\n      <td>0</td>\n      <td>12</td>\n    </tr>\n    <tr>\n      <th>26</th>\n      <td>14000US25025981502</td>\n      <td>Census Tract 9815.02, Suffolk, MA</td>\n      <td>0</td>\n      <td>12</td>\n      <td>0</td>\n      <td>12</td>\n      <td>0</td>\n      <td>12</td>\n      <td>0</td>\n      <td>12</td>\n      <td>...</td>\n      <td>0</td>\n      <td>12</td>\n      <td>0</td>\n      <td>12</td>\n      <td>0</td>\n      <td>12</td>\n      <td>0</td>\n      <td>12</td>\n      <td>0</td>\n      <td>12</td>\n    </tr>\n    <tr>\n      <th>27</th>\n      <td>14000US25025981600</td>\n      <td>Census Tract 9816, Suffolk, MA</td>\n      <td>0</td>\n      <td>12</td>\n      <td>0</td>\n      <td>12</td>\n      <td>0</td>\n      <td>12</td>\n      <td>0</td>\n      <td>12</td>\n      <td>...</td>\n      <td>0</td>\n      <td>12</td>\n      <td>0</td>\n      <td>12</td>\n      <td>0</td>\n      <td>12</td>\n      <td>0</td>\n      <td>12</td>\n      <td>0</td>\n      <td>12</td>\n    </tr>\n    <tr>\n      <th>28</th>\n      <td>14000US25025990101</td>\n      <td>Census Tract 9901.01, Suffolk, MA</td>\n      <td>67</td>\n      <td>105</td>\n      <td>0</td>\n      <td>12</td>\n      <td>0</td>\n      <td>12</td>\n      <td>0</td>\n      <td>12</td>\n      <td>...</td>\n      <td>0</td>\n      <td>12</td>\n      <td>0</td>\n      <td>12</td>\n      <td>0</td>\n      <td>12</td>\n      <td>0</td>\n      <td>12</td>\n      <td>0</td>\n      <td>12</td>\n    </tr>\n  </tbody>\n</table>\n<p>29 rows × 44 columns</p>\n</div>"
     },
     "metadata": {},
     "execution_count": 15
    }
   ],
   "source": [
    "racedf = pd.read_csv('race.csv')\n",
    "racedf"
   ]
  },
  {
   "cell_type": "code",
   "execution_count": 47,
   "metadata": {},
   "outputs": [
    {
     "output_type": "execute_result",
     "data": {
      "text/plain": [
       " alone  Some other race alone error  Two or more races:  \\\n",
       "0                    510                          306                 159   \n",
       "1                      0                           12                   0   \n",
       "2                     18                           35                  13   \n",
       "3                     79                          126                   0   \n",
       "4                      0                           12                   0   \n",
       "\n",
       "   Two or more races: error  Two races including Some other race  \\\n",
       "0                       133                                  135   \n",
       "1                        12                                    0   \n",
       "2                        20                                   13   \n",
       "3                        17                                    0   \n",
       "4                        12                                    0   \n",
       "\n",
       "   Two races including Some other race error  \\\n",
       "0                                        120   \n",
       "1                                         12   \n",
       "2                                         20   \n",
       "3                                         17   \n",
       "4                                         12   \n",
       "\n",
       "   Two races excluding Some other race, and three or more races  \\\n",
       "0                                                 24              \n",
       "1                                                  0              \n",
       "2                                                  0              \n",
       "3                                                  0              \n",
       "4                                                  0              \n",
       "\n",
       "   Two races excluding Some other race, and three or more races error  \n",
       "0                                                 45                   \n",
       "1                                                 12                   \n",
       "2                                                 12                   \n",
       "3                                                 17                   \n",
       "4                                                 12                   \n",
       "\n",
       "[5 rows x 44 columns]"
      ],
      "text/html": "<div>\n<style scoped>\n    .dataframe tbody tr th:only-of-type {\n        vertical-align: middle;\n    }\n\n    .dataframe tbody tr th {\n        vertical-align: top;\n    }\n\n    .dataframe thead th {\n        text-align: right;\n    }\n</style>\n<table border=\"1\" class=\"dataframe\">\n  <thead>\n    <tr style=\"text-align: right;\">\n      <th></th>\n      <th>geoid</th>\n      <th>name</th>\n      <th>Total:</th>\n      <th>Total: error</th>\n      <th>Not Hispanic or Latino:</th>\n      <th>Not Hispanic or Latino: error</th>\n      <th>White alone</th>\n      <th>White alone error</th>\n      <th>Black or African American alone</th>\n      <th>Black or African American alone error</th>\n      <th>...</th>\n      <th>Native Hawaiian and Other Pacific Islander alone</th>\n      <th>Native Hawaiian and Other Pacific Islander alone error</th>\n      <th>Some other race alone</th>\n      <th>Some other race alone error</th>\n      <th>Two or more races:</th>\n      <th>Two or more races: error</th>\n      <th>Two races including Some other race</th>\n      <th>Two races including Some other race error</th>\n      <th>Two races excluding Some other race, and three or more races</th>\n      <th>Two races excluding Some other race, and three or more races error</th>\n    </tr>\n  </thead>\n  <tbody>\n    <tr>\n      <th>0</th>\n      <td>14000US25009207200</td>\n      <td>Census Tract 2072, Essex, MA</td>\n      <td>2467</td>\n      <td>251</td>\n      <td>1540</td>\n      <td>274</td>\n      <td>698</td>\n      <td>253</td>\n      <td>280</td>\n      <td>120</td>\n      <td>...</td>\n      <td>0</td>\n      <td>12</td>\n      <td>510</td>\n      <td>306</td>\n      <td>159</td>\n      <td>133</td>\n      <td>135</td>\n      <td>120</td>\n      <td>24</td>\n      <td>45</td>\n    </tr>\n    <tr>\n      <th>1</th>\n      <td>14000US25009208101</td>\n      <td>Census Tract 2081.01, Essex, MA</td>\n      <td>4991</td>\n      <td>409</td>\n      <td>4571</td>\n      <td>403</td>\n      <td>4216</td>\n      <td>413</td>\n      <td>21</td>\n      <td>24</td>\n      <td>...</td>\n      <td>0</td>\n      <td>12</td>\n      <td>0</td>\n      <td>12</td>\n      <td>0</td>\n      <td>12</td>\n      <td>0</td>\n      <td>12</td>\n      <td>0</td>\n      <td>12</td>\n    </tr>\n    <tr>\n      <th>2</th>\n      <td>14000US25009208102</td>\n      <td>Census Tract 2081.02, Essex, MA</td>\n      <td>3258</td>\n      <td>342</td>\n      <td>2872</td>\n      <td>343</td>\n      <td>2471</td>\n      <td>311</td>\n      <td>133</td>\n      <td>154</td>\n      <td>...</td>\n      <td>0</td>\n      <td>12</td>\n      <td>18</td>\n      <td>35</td>\n      <td>13</td>\n      <td>20</td>\n      <td>13</td>\n      <td>20</td>\n      <td>0</td>\n      <td>12</td>\n    </tr>\n    <tr>\n      <th>3</th>\n      <td>14000US25009208200</td>\n      <td>Census Tract 2082, Essex, MA</td>\n      <td>5519</td>\n      <td>507</td>\n      <td>5263</td>\n      <td>469</td>\n      <td>4696</td>\n      <td>513</td>\n      <td>317</td>\n      <td>267</td>\n      <td>...</td>\n      <td>0</td>\n      <td>17</td>\n      <td>79</td>\n      <td>126</td>\n      <td>0</td>\n      <td>17</td>\n      <td>0</td>\n      <td>17</td>\n      <td>0</td>\n      <td>17</td>\n    </tr>\n    <tr>\n      <th>4</th>\n      <td>14000US25009990100</td>\n      <td>Census Tract 9901, Essex, MA</td>\n      <td>0</td>\n      <td>12</td>\n      <td>0</td>\n      <td>12</td>\n      <td>0</td>\n      <td>12</td>\n      <td>0</td>\n      <td>12</td>\n      <td>...</td>\n      <td>0</td>\n      <td>12</td>\n      <td>0</td>\n      <td>12</td>\n      <td>0</td>\n      <td>12</td>\n      <td>0</td>\n      <td>12</td>\n      <td>0</td>\n      <td>12</td>\n    </tr>\n  </tbody>\n</table>\n<p>5 rows × 44 columns</p>\n</div>"
     },
     "metadata": {},
     "execution_count": 47
    }
   ],
   "source": [
    "racedf = pd.read_csv('race.csv')\n",
    "\n",
    "with open('metadata.json') as f:\n",
    "    data = list(json.load(f).items())\n",
    "data = data[1][1]['B03002']['columns']\n",
    "\n",
    "cols = []\n",
    "for i in data:\n",
    "    cols += ([data[i]['name']])\n",
    "cols\n",
    "\n",
    "cols2 = ['geoid', 'name']\n",
    "for i in cols:\n",
    "    cols2 += [i]\n",
    "    cols2 += [i + ' error']\n",
    "cols2\n",
    "racedf.columns = cols2\n",
    "racedf.head()"
   ]
  }
 ]
}