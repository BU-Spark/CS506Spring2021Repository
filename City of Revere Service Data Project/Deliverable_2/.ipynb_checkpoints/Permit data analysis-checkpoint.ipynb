{
 "cells": [
  {
   "cell_type": "code",
   "execution_count": 3,
   "metadata": {},
   "outputs": [],
   "source": [
    "#modules\n",
    "import pandas as pd\n",
    "import numpy as np\n",
    "import matplotlib.pyplot as plt\n",
    "import folium\n",
    "from collections import Counter\n",
    "# from geopy.geocoders import Nominatim\n",
    "# import re,  censusgeocode"
   ]
  },
  {
   "cell_type": "code",
   "execution_count": 4,
   "metadata": {},
   "outputs": [],
   "source": [
    "# import 311 and clean\n",
    "data  = pd.read_csv('All Permits 2018 to Present.xlsx - Sheet0.csv',sep=',')\n",
    "cols = ['File#', 'Permit Type', 'Sub Type', 'Amount Paid', 'Status', 'Last Inspection Type', 'Latitude', 'Longitude', 'Amount Paid' ]\n",
    "permit_data = data[cols]"
   ]
  },
  {
   "cell_type": "code",
   "execution_count": 35,
   "metadata": {},
   "outputs": [
    {
     "name": "stdout",
     "output_type": "stream",
     "text": [
      "3054\n"
     ]
    }
   ],
   "source": [
    "permit2018_data = pd.read_csv('All Permits 2018 to Present.xlsx - Sheet0.csv',sep=',',skiprows=[i for i in range(3055,11551)])\n",
    "cols = ['File#', 'Permit Type', 'Sub Type', 'Amount Paid', 'Status', 'Last Inspection Type', 'Latitude', 'Longitude', 'Amount Paid' ]\n",
    "permit2018_data = permit2018_data[cols]\n",
    "print(len(permit2018_data))"
   ]
  },
  {
   "cell_type": "code",
   "execution_count": 36,
   "metadata": {},
   "outputs": [
    {
     "name": "stdout",
     "output_type": "stream",
     "text": [
      "4178\n"
     ]
    }
   ],
   "source": [
    "permit2019_data = pd.read_csv('All Permits 2018 to Present.xlsx - Sheet0.csv',sep=',',skiprows=[i for i in range(1,3055)]+[i for i in range(7233,11551)])\n",
    "cols = ['File#', 'Permit Type', 'Sub Type', 'Amount Paid', 'Status', 'Last Inspection Type', 'Latitude', 'Longitude', 'Amount Paid' ]\n",
    "permit2019_data = permit2019_data[cols]\n",
    "print(len(permit2019_data))"
   ]
  },
  {
   "cell_type": "code",
   "execution_count": 24,
   "metadata": {},
   "outputs": [
    {
     "name": "stdout",
     "output_type": "stream",
     "text": [
      "3791\n"
     ]
    }
   ],
   "source": [
    "permit2020_data = pd.read_csv('All Permits 2018 to Present.xlsx - Sheet0.csv',sep=',',skiprows=[i for i in range(1,7232)]+ [i for i in range(11023,11551)])\n",
    "cols = ['File#', 'Permit Type', 'Sub Type', 'Amount Paid', 'Status', 'Last Inspection Type', 'Latitude', 'Longitude', 'Amount Paid' ]\n",
    "permit2020_data = permit2020_data[cols]\n",
    "print(len(permit2020_data))"
   ]
  },
  {
   "cell_type": "code",
   "execution_count": 39,
   "metadata": {},
   "outputs": [
    {
     "name": "stdout",
     "output_type": "stream",
     "text": [
      "528\n"
     ]
    }
   ],
   "source": [
    "permit2021_data = pd.read_csv('All Permits 2018 to Present.xlsx - Sheet0.csv',sep=',',skiprows=[i for i in range(1,11023)])\n",
    "cols = ['File#', 'Permit Type', 'Sub Type', 'Amount Paid', 'Status', 'Last Inspection Type', 'Latitude', 'Longitude', 'Amount Paid' ]\n",
    "permit2021_data = permit2021_data[cols]\n",
    "print(len(permit2021_data))"
   ]
  },
  {
   "cell_type": "code",
   "execution_count": 42,
   "metadata": {},
   "outputs": [
    {
     "data": {
      "image/png": "[encoded data removed]",
      "text/plain": [
       "<Figure size 720x360 with 1 Axes>"
      ]
     },
     "metadata": {
      "needs_background": "light"
     },
     "output_type": "display_data"
    }
   ],
   "source": [
    "data = {'2018':3054, '2019':4178, '2020':3791,\n",
    "        '2021':518}\n",
    "courses = list(data.keys())\n",
    "values = list(data.values())\n",
    "  \n",
    "fig = plt.figure(figsize = (10, 5))\n",
    " \n",
    "# creating the bar plot\n",
    "plt.bar(courses, values, color ='maroon',\n",
    "        width = 0.4)\n",
    " \n",
    "plt.xlabel(\"Year\")\n",
    "plt.ylabel(\"No. of permits\")\n",
    "plt.title(\"Permits issued by year\")\n",
    "plt.show()"
   ]
  },
  {
   "cell_type": "code",
   "execution_count": 46,
   "metadata": {},
   "outputs": [
    {
     "name": "stdout",
     "output_type": "stream",
     "text": [
      "['Building Permit', 'Electrical Permit', 'Plumbing Permit', 'Gas Permit', 'Fire Alarm System Permit', 'Certificate of Occupancy', 'Sheet Metal Permit', 'Fire Permit', 'Mechanical Permit', 'Fire System Alarm Permit']\n"
     ]
    },
    {
     "data": {
      "image/png": "[encoded data removed]",
      "text/plain": [
       "<Figure size 432x288 with 1 Axes>"
      ]
     },
     "metadata": {
      "needs_background": "light"
     },
     "output_type": "display_data"
    }
   ],
   "source": [
    "# MOST POPULAR REQS\n",
    "c = ((Counter(permit_data['Permit Type'])).most_common(10))\n",
    "x, y = [], []\n",
    "for i in range(len(c)):\n",
    "    x.append(i+1)\n",
    "    y.append(c[i][1])\n",
    "plt.bar(x,y)\n",
    "plt.title('10 most common Permit types')\n",
    "plt.ylabel('Frequency')\n",
    "print([i[0] for i in c ])\n",
    "\n",
    "#convert to yeardf, plot subplots\n",
    "import re\n",
    "\n",
    "yre =re.compile(r'20\\d\\d')\n",
    "\n",
    "def dfTop(df,col, n):\n",
    "    d = {}\n",
    "    for i in list(set((yrdf['Year']).values)):\n",
    "        d[i] = []\n",
    "    for i in range(len(df[col])):\n",
    "        d[df.iloc[i]['Year']] += [yrdf.iloc[i]['Permit Type']]\n",
    "    for i in list(set((yrdf['Year']).values)):\n",
    "        d[i] = [i[1] for i in Counter(d[i]).most_common(n)]\n",
    "        #d[i] = Counter(d[i]).most_common(n)\n",
    "    return d\n",
    "tdict = { \n",
    "    'Uncleared sidewalk - Private Property': 'Trash',\n",
    "}\n"
   ]
  },
  {
   "cell_type": "code",
   "execution_count": 51,
   "metadata": {},
   "outputs": [
    {
     "name": "stdout",
     "output_type": "stream",
     "text": [
      "['Issued', 'Closed', 'Payment Due Now', 'Approved', 'Approved with Conditions']\n"
     ]
    },
    {
     "data": {
      "image/png": "[encoded data removed]",
      "text/plain": [
       "<Figure size 432x288 with 1 Axes>"
      ]
     },
     "metadata": {
      "needs_background": "light"
     },
     "output_type": "display_data"
    }
   ],
   "source": [
    "# Permit status\n",
    "c = ((Counter(permit_data['Status'])).most_common(5))\n",
    "x, y = [], []\n",
    "for i in range(len(c)):\n",
    "    x.append(i+1)\n",
    "    y.append(c[i][1])\n",
    "plt.bar(x,y)\n",
    "plt.title('Permit Status')\n",
    "plt.ylabel('Frequency')\n",
    "print([i[0] for i in c ])"
   ]
  },
  {
   "cell_type": "code",
   "execution_count": 63,
   "metadata": {},
   "outputs": [],
   "source": [
    "RequestList = ['Building Permit', 'Electrical Permit', 'Plumbing Permit']\n",
    "topreqs = permit2020_data.loc[permit2020_data['Permit Type'].isin(RequestList)]\n",
    "def generateBaseMap(default_location=[42.408428, -71.011993]):\n",
    "    base_map = folium.Map(location=default_location)\n",
    "    return(base_map)\n",
    "permit2020_data = permit2020_data.copy(deep=True)\n",
    "base_map=generateBaseMap()\n",
    "base_map.save('permitbase.html')\n",
    "reqs = topreqs['Permit Type'].values.tolist()\n",
    "locations = topreqs[['Latitude', 'Longitude']] #add points on map\n",
    "colors = {'Building Permit': 'red', 'Electrical Permit':'orange', 'Plumbing Permit':'black'}\n",
    "locationlist = locations.values.tolist()\n",
    "for point in range(0, len(locationlist)):\n",
    "    folium.CircleMarker(locationlist[point], radius=.5, color=colors[reqs[point]]).add_to(base_map)\n",
    "base_map.save('permit_top3.html')"
   ]
  },
  {
   "cell_type": "code",
   "execution_count": 64,
   "metadata": {},
   "outputs": [],
   "source": [
    "base_map=generateBaseMap()\n",
    "for point in range(0, len(locationlist)):\n",
    "    if reqs[point] == 'Building Permit':\n",
    "        folium.CircleMarker(locationlist[point], radius=.5, color=colors[reqs[point]]).add_to(base_map)\n",
    "base_map.save('permit_build.html')"
   ]
  },
  {
   "cell_type": "code",
   "execution_count": 65,
   "metadata": {},
   "outputs": [],
   "source": [
    "base_map=generateBaseMap()\n",
    "for point in range(0, len(locationlist)):\n",
    "    if reqs[point] == 'Electrical Permit':\n",
    "        folium.CircleMarker(locationlist[point], radius=.5, color=colors[reqs[point]]).add_to(base_map)\n",
    "base_map.save('permit_elec.html')"
   ]
  },
  {
   "cell_type": "code",
   "execution_count": 66,
   "metadata": {},
   "outputs": [],
   "source": [
    "base_map=generateBaseMap()\n",
    "for point in range(0, len(locationlist)):\n",
    "    if reqs[point] == 'Plumbing Permit':\n",
    "        folium.CircleMarker(locationlist[point], radius=.5, color=colors[reqs[point]]).add_to(base_map)\n",
    "base_map.save('permit_plumb.html')"
   ]
  },
  {
   "cell_type": "code",
   "execution_count": 79,
   "metadata": {},
   "outputs": [
    {
     "name": "stdout",
     "output_type": "stream",
     "text": [
      "Amount Paid    3475866.56\n",
      "Amount Paid    3475866.56\n",
      "dtype: float64\n"
     ]
    }
   ],
   "source": [
    "permit2018_fees = 0\n",
    "paid = permit2018_data['Amount Paid']\n",
    "print(paid.sum())"
   ]
  },
  {
   "cell_type": "code",
   "execution_count": 80,
   "metadata": {},
   "outputs": [
    {
     "name": "stdout",
     "output_type": "stream",
     "text": [
      "Amount Paid    4595639.19\n",
      "Amount Paid    4595639.19\n",
      "dtype: float64\n"
     ]
    }
   ],
   "source": [
    "permit2019_fees = 0\n",
    "paid = permit2019_data['Amount Paid']\n",
    "print(paid.sum())"
   ]
  },
  {
   "cell_type": "code",
   "execution_count": 81,
   "metadata": {},
   "outputs": [
    {
     "name": "stdout",
     "output_type": "stream",
     "text": [
      "Amount Paid    1924169.65\n",
      "Amount Paid    1924169.65\n",
      "dtype: float64\n"
     ]
    }
   ],
   "source": [
    "permit2020_fees = 0\n",
    "paid = permit2020_data['Amount Paid']\n",
    "print(paid.sum())"
   ]
  },
  {
   "cell_type": "code",
   "execution_count": 82,
   "metadata": {},
   "outputs": [
    {
     "name": "stdout",
     "output_type": "stream",
     "text": [
      "Amount Paid    109420.95\n",
      "Amount Paid    109420.95\n",
      "dtype: float64\n"
     ]
    }
   ],
   "source": [
    "permit2021_fees = 0\n",
    "paid = permit2021_data['Amount Paid']\n",
    "print(paid.sum())"
   ]
  },
  {
   "cell_type": "code",
   "execution_count": null,
   "metadata": {},
   "outputs": [],
   "source": [
    "data = {'2018':3475866.56, '2019':4595639.19, '2020':1924169.65,\n",
    "        '2021':109420.95}\n",
    "courses = list(data.keys())\n",
    "values = list(data.values())\n",
    "  \n",
    "fig = plt.figure(figsize = (10, 5))\n",
    " \n",
    "# creating the bar plot\n",
    "plt.bar(courses, values, color ='maroon',\n",
    "        width = 0.4)\n",
    " \n",
    "plt.xlabel(\"Year\")\n",
    "plt.ylabel(\"Fee value\")\n",
    "plt.title(\"Permits Fees Expense by year\")\n",
    "plt.show()"
   ]
  }
 ],
 "metadata": {
  "kernelspec": {
   "display_name": "Python 3",
   "language": "python",
   "name": "python3"
  },
  "language_info": {
   "codemirror_mode": {
    "name": "ipython",
    "version": 3
   },
   "file_extension": ".py",
   "mimetype": "text/x-python",
   "name": "python",
   "nbconvert_exporter": "python",
   "pygments_lexer": "ipython3",
   "version": "3.7.4"
  }
 },
 "nbformat": 4,
 "nbformat_minor": 4
}
