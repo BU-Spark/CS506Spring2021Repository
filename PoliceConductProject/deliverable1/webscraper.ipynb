{
 "cells": [
  {
   "cell_type": "markdown",
   "metadata": {},
   "source": [
    "Run the following commands in the terminal\n",
    "- ``` pip install selenium ```\n",
    "- ``` pip install webdriver-manager ```"
   ]
  },
  {
   "cell_type": "code",
   "execution_count": 7,
   "metadata": {},
   "outputs": [
    {
     "output_type": "error",
     "ename": "ModuleNotFoundError",
     "evalue": "No module named 'webdriver_manager'",
     "traceback": [
      "\u001b[1;31m---------------------------------------------------------------------------\u001b[0m",
      "\u001b[1;31mModuleNotFoundError\u001b[0m                       Traceback (most recent call last)",
      "\u001b[1;32m<ipython-input-7-4d3cefa7f0aa>\u001b[0m in \u001b[0;36m<module>\u001b[1;34m\u001b[0m\n\u001b[0;32m      1\u001b[0m \u001b[1;32mimport\u001b[0m \u001b[0mcsv\u001b[0m\u001b[1;33m\u001b[0m\u001b[1;33m\u001b[0m\u001b[0m\n\u001b[0;32m      2\u001b[0m \u001b[1;32mfrom\u001b[0m \u001b[0mselenium\u001b[0m \u001b[1;32mimport\u001b[0m \u001b[0mwebdriver\u001b[0m\u001b[1;33m\u001b[0m\u001b[1;33m\u001b[0m\u001b[0m\n\u001b[1;32m----> 3\u001b[1;33m \u001b[1;32mimport\u001b[0m \u001b[0mwebdriver_manager\u001b[0m\u001b[1;33m\u001b[0m\u001b[1;33m\u001b[0m\u001b[0m\n\u001b[0m\u001b[0;32m      4\u001b[0m \u001b[1;32mfrom\u001b[0m \u001b[0mwebdriver_manager\u001b[0m\u001b[1;33m.\u001b[0m\u001b[0mchrome\u001b[0m \u001b[1;32mimport\u001b[0m \u001b[0mChromeDriverManager\u001b[0m\u001b[1;33m\u001b[0m\u001b[1;33m\u001b[0m\u001b[0m\n",
      "\u001b[1;31mModuleNotFoundError\u001b[0m: No module named 'webdriver_manager'"
     ]
    }
   ],
   "source": [
    "import csv\n",
    "from selenium import webdriver\n",
    "import webdriver_manager\n",
    "from webdriver_manager.chrome import ChromeDriverManager"
   ]
  },
  {
   "cell_type": "code",
   "execution_count": null,
   "metadata": {},
   "outputs": [],
   "source": [
    "url = \"https://apps.bostonglobe.com/graphics/2020/law-enforcement/index.html?initialWidth=962&childId=police-embed&parentTitle=Database%3A%20Search%2010%20years%27%20worth%20of%20Boston%20Police%20Department%20disciplinary%20action&parentUrl=https%3A%2F%2Fwww.bostonglobe.com%2F2020%2F11%2F24%2Fmetro%2Fheres-searchable-database-boston-police-department-internal-investigations-disciplinary-actions-more%2F#detail\"\n",
    "\n",
    "driver = webdriver.Chrome(ChromeDriverManager().install())\n",
    "driver.get(url)\n",
    "driver.implicitly_wait(10)\n",
    "\n",
    "link = driver.find_element_by_class_name(\"tab-detail\")\n",
    "link.click()\n",
    "driver.implicitly_wait(3)\n",
    "link.click()\n",
    "\n",
    "data = []\n",
    "stop = False\n",
    "while not stop:\n",
    "    # pick out the features we want by using its class name\n",
    "    name = driver.find_element_by_class_name(\"detail-name\").text\n",
    "    rank = driver.find_element_by_class_name(\"detail-rank\").text\n",
    "    race = driver.find_element_by_class_name(\"detail-race\").text\n",
    "\n",
    "    rows = driver.find_elements_by_xpath(\"//table/tbody/tr\")\n",
    "    for row in rows:\n",
    "        # pick out the features we want by its position in the array\n",
    "        year = row.find_elements_by_tag_name(\"td\")[0].text\n",
    "        caseID = row.find_elements_by_tag_name(\"td\")[1].text\n",
    "        typeMisconduct = row.find_elements_by_tag_name(\"td\")[2].text\n",
    "        allegation = row.find_elements_by_tag_name(\"td\")[4].text\n",
    "        finding = row.find_elements_by_tag_name(\"td\")[5].text\n",
    "        outcome = row.find_elements_by_tag_name(\"td\")[6].text\n",
    "\n",
    "        data.append([name, rank, race, year, caseID, typeMisconduct, allegation, finding, outcome])\n",
    "\n",
    "    # if we are at the last entry, stop looping\n",
    "    if name == \"Peter A Zographos\":\n",
    "        stop = True \n",
    "    # otherwise, go to the next officer \n",
    "    else:\n",
    "        button = driver.find_element_by_id(\"next-officer-button\")\n",
    "        button.click()"
   ]
  },
  {
   "cell_type": "code",
   "execution_count": null,
   "metadata": {},
   "outputs": [],
   "source": [
    "print(data)"
   ]
  },
  {
   "cell_type": "code",
   "execution_count": null,
   "metadata": {},
   "outputs": [],
   "source": [
    "# write out the data to a file called BostonPoliceInternalAffairs.csv\n",
    "filename = \"BostonPoliceInternalAffairs.csv\"\n",
    "fields = ['Name', 'Rank', 'Race', 'Year', 'CaseID', 'TypeOfMisconduct', 'Allegation', 'Finding', 'Outcome']\n",
    "\n",
    "with open(filename, 'w') as csvfile:\n",
    "    writer = csv.writer(csvfile)\n",
    "    writer.writerow(fields)\n",
    "    writer.writerows(data)"
   ]
  },
  {
   "cell_type": "code",
   "execution_count": null,
   "metadata": {},
   "outputs": [],
   "source": []
  }
 ],
 "metadata": {
  "kernelspec": {
   "display_name": "Python 3",
   "language": "python",
   "name": "python3"
  },
  "language_info": {
   "codemirror_mode": {
    "name": "ipython",
    "version": 3
   },
   "file_extension": ".py",
   "mimetype": "text/x-python",
   "name": "python",
   "nbconvert_exporter": "python",
   "pygments_lexer": "ipython3",
   "version": "3.7.4-final"
  }
 },
 "nbformat": 4,
 "nbformat_minor": 2
}