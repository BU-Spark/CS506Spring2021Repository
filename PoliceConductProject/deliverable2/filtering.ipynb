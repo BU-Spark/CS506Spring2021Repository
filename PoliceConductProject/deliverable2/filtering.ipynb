{
 "cells": [
  {
   "cell_type": "markdown",
   "metadata": {},
   "source": [
    "# Filtering\n",
    "\n",
    "**Task:** Filter the merged dataset for \"Boston Police\" under the \"Employer\" column"
   ]
  },
  {
   "cell_type": "code",
   "execution_count": 1,
   "metadata": {},
   "outputs": [],
   "source": [
    "import pandas as pd\n",
    "import numpy as np"
   ]
  },
  {
   "cell_type": "code",
   "execution_count": 2,
   "metadata": {},
   "outputs": [],
   "source": [
    "df = pd.read_csv(\"merged.csv\")"
   ]
  },
  {
   "cell_type": "code",
   "execution_count": 3,
   "metadata": {},
   "outputs": [
    {
     "output_type": "stream",
     "name": "stdout",
     "text": [
      "['Unnamed: 0', 'Unnamed: 0.1', 'Unnamed: 0_x', 'Name', 'Rank', 'Race', 'Year', 'CaseID', 'TypeOfMisconduct', 'Outcome', 'lastNameCh', 'Unnamed: 0_y', 'Address', 'Amount', 'CPF ID', 'City', 'Contributor', 'Date', 'Datetime', 'Employer', 'Occupation', 'Principal Officer', 'Recipient', 'Record Type Description', 'Record Type ID', 'Source Description', 'State', 'Tender Type Description', 'Tender Type ID', 'UUID', 'Zip', 'Fuzzy Similarity']\n"
     ]
    }
   ],
   "source": [
    "print(list(df))"
   ]
  },
  {
   "cell_type": "code",
   "execution_count": 4,
   "metadata": {},
   "outputs": [],
   "source": [
    "df = df.drop(columns=['Unnamed: 0', 'Unnamed: 0.1', 'Unnamed: 0_x', 'Unnamed: 0_y', 'lastNameCh', 'Fuzzy Similarity'])"
   ]
  },
  {
   "cell_type": "code",
   "execution_count": 5,
   "metadata": {},
   "outputs": [
    {
     "output_type": "stream",
     "name": "stdout",
     "text": [
      "                      Name            Rank   Race  Year        CaseID  \\\n0         john fitzpatrick  Police Officer  White  2016  IAD2016-0231   \n1    richard h fitzpatrick        Sergeant  White  2011  IAD2011-0581   \n2    richard h fitzpatrick        Sergeant  White  2011  IAD2011-0581   \n3    richard h fitzpatrick        Sergeant  White  2011  IAD2011-0581   \n4    richard h fitzpatrick        Sergeant  White  2011  IAD2011-0581   \n..                     ...             ...    ...   ...           ...   \n146          john k rogers  Police Officer  White  2019  IAD2019-0506   \n147          john k rogers  Police Officer  White  2019  IAD2019-0506   \n148          john k rogers  Police Officer  White  2019  IAD2019-0506   \n149          john k rogers  Police Officer  White  2019  IAD2019-0506   \n150          john k rogers  Police Officer  White  2019  IAD2019-0506   \n\n           TypeOfMisconduct Outcome             Address  Amount  CPF ID  ...  \\\n0         Citizen complaint     NaN       41 Carlson St   200.0   13863  ...   \n1         Citizen complaint     NaN  8 SHERBROOKE DRIVE   250.0   15071  ...   \n2         Citizen complaint     NaN  8 SHERBROOKE DRIVE   200.0   15071  ...   \n3         Citizen complaint     NaN  8 SHERBROOKE DRIVE   250.0   15071  ...   \n4         Citizen complaint     NaN  8 SHERBROOKE DRIVE   500.0   15071  ...   \n..                      ...     ...                 ...     ...     ...  ...   \n146  Internal investigation     NaN        15 Bonnie Rd   150.0   13173  ...   \n147  Internal investigation     NaN        15 Bonnie Rd   100.0   13173  ...   \n148  Internal investigation     NaN        15 Bonnie Rd   150.0   13173  ...   \n149  Internal investigation     NaN        15 Bonnie Rd   150.0   13173  ...   \n150  Internal investigation     NaN        15 Bonnie Rd   100.0   13173  ...   \n\n    Principal Officer           Recipient Record Type Description  \\\n0                 NaN  DeMaria Jr., Carlo              Individual   \n1                 NaN        Ciommo, Mark              Individual   \n2                 NaN        Ciommo, Mark              Individual   \n3                 NaN        Ciommo, Mark              Individual   \n4                 NaN        Ciommo, Mark              Individual   \n..                ...                 ...                     ...   \n146               NaN    Walsh, Martin J.              Individual   \n147               NaN    Walsh, Martin J.              Individual   \n148               NaN    Walsh, Martin J.              Individual   \n149               NaN    Walsh, Martin J.              Individual   \n150               NaN    Walsh, Martin J.              Individual   \n\n    Record Type ID              Source Description State  \\\n0              201  2017 Pre-election Report (MUN)    MA   \n1              201         10/10/12 Deposit Report    MA   \n2              201           5/2/13 Deposit Report    MA   \n3              201          11/8/13 Deposit Report    MA   \n4              201         12/16/14 Deposit Report    MA   \n..             ...                             ...   ...   \n146            201          10/2/17 Deposit Report    MA   \n147            201          12/6/19 Deposit Report    MA   \n148            201          3/14/17 Deposit Report    MA   \n149            201          10/2/17 Deposit Report    MA   \n150            201          12/6/19 Deposit Report    MA   \n\n     Tender Type Description Tender Type ID  \\\n0                        NaN              0   \n1                      Check              1   \n2                      Check              1   \n3                      Check              1   \n4                      Check              1   \n..                       ...            ...   \n146                    Check              1   \n147                    Check              1   \n148                    Check              1   \n149                    Check              1   \n150                    Check              1   \n\n                                     UUID         Zip  \n0    cc22c79d-dee8-575a-8f08-7224cac98aeb        2149  \n1    a343c2ab-c29f-5782-a85c-a341bb196317        2030  \n2    a89564d5-07a0-5752-9685-df7a3b89a73c        2030  \n3    f3a17c78-772a-50e4-bf62-4f33d72a0b70        2030  \n4    41815222-250b-50f9-b7b9-10532f0adffa        2030  \n..                                    ...         ...  \n146  2344b24c-1e8a-5498-b1d4-cf7a49036f2e  02190-2842  \n147  e5cc1e53-ff05-584c-8b99-6d070c5bd5a3  02190-2842  \n148  6fd55787-1379-526f-a663-41eac2cd6e29  02190-2842  \n149  2344b24c-1e8a-5498-b1d4-cf7a49036f2e  02190-2842  \n150  e5cc1e53-ff05-584c-8b99-6d070c5bd5a3  02190-2842  \n\n[151 rows x 26 columns]\n"
     ]
    }
   ],
   "source": [
    "print(df)"
   ]
  },
  {
   "cell_type": "code",
   "execution_count": 6,
   "metadata": {},
   "outputs": [],
   "source": [
    "df = df.loc[df['Employer'] == 'Boston Police']"
   ]
  },
  {
   "cell_type": "code",
   "execution_count": 7,
   "metadata": {},
   "outputs": [],
   "source": [
    "df.to_csv(\"filtered.csv\")"
   ]
  },
  {
   "cell_type": "code",
   "execution_count": null,
   "metadata": {},
   "outputs": [],
   "source": []
  }
 ],
 "metadata": {
  "kernelspec": {
   "name": "python383jvsc74a57bd076ed1d0b8eae510739d08a60d2f0e42d7952e8200e15655b417cfa21bc070d9a",
   "display_name": "Python 3.8.3 64-bit ('base': conda)"
  },
  "language_info": {
   "codemirror_mode": {
    "name": "ipython",
    "version": 3
   },
   "file_extension": ".py",
   "mimetype": "text/x-python",
   "name": "python",
   "nbconvert_exporter": "python",
   "pygments_lexer": "ipython3",
   "version": "3.8.3-final"
  }
 },
 "nbformat": 4,
 "nbformat_minor": 2
}