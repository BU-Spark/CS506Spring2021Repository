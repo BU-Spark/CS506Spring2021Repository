{
 "metadata": {
  "language_info": {
   "codemirror_mode": {
    "name": "ipython",
    "version": 3
   },
   "file_extension": ".py",
   "mimetype": "text/x-python",
   "name": "python",
   "nbconvert_exporter": "python",
   "pygments_lexer": "ipython3",
   "version": "3.8.3-final"
  },
  "orig_nbformat": 2,
  "kernelspec": {
   "name": "python3",
   "display_name": "Python 3.8.3 64-bit ('base': conda)",
   "metadata": {
    "interpreter": {
     "hash": "76ed1d0b8eae510739d08a60d2f0e42d7952e8200e15655b417cfa21bc070d9a"
    }
   }
  }
 },
 "nbformat": 4,
 "nbformat_minor": 2,
 "cells": [
  {
   "source": [
    "# Filtering\n",
    "\n",
    "**Task:** Filter the merged dataset for \"Boston Police\" under the \"Employer\" column"
   ],
   "cell_type": "markdown",
   "metadata": {}
  },
  {
   "cell_type": "code",
   "execution_count": 1,
   "metadata": {},
   "outputs": [],
   "source": [
    "import pandas as pd\n",
    "import numpy as np"
   ]
  },
  {
   "cell_type": "code",
   "execution_count": 2,
   "metadata": {},
   "outputs": [
    {
     "output_type": "stream",
     "name": "stderr",
     "text": [
      "/Users/rachelpeng/opt/anaconda3/lib/python3.8/site-packages/IPython/core/interactiveshell.py:3071: DtypeWarning: Columns (9,21) have mixed types.Specify dtype option on import or set low_memory=False.\n  has_raised = await self.run_ast_nodes(code_ast.body, cell_name,\n"
     ]
    }
   ],
   "source": [
    "df = pd.read_csv(\"merged.csv\")"
   ]
  },
  {
   "cell_type": "code",
   "execution_count": 3,
   "metadata": {},
   "outputs": [
    {
     "output_type": "stream",
     "name": "stdout",
     "text": [
      "['Unnamed: 0', 'Unnamed: 0.1', 'Unnamed: 0_x', 'Name', 'Rank', 'Race', 'Year', 'CaseID', 'TypeOfMisconduct', 'Outcome', 'lastNameCh', 'Unnamed: 0_y', 'Address', 'Amount', 'CPF ID', 'City', 'Contributor', 'Date', 'Datetime', 'Employer', 'Occupation', 'Principal Officer', 'Recipient', 'Record Type Description', 'Record Type ID', 'Source Description', 'State', 'Tender Type Description', 'Tender Type ID', 'UUID', 'Zip', 'Fuzzy Similarity']\n"
     ]
    }
   ],
   "source": [
    "print(list(df))"
   ]
  },
  {
   "cell_type": "code",
   "execution_count": 4,
   "metadata": {},
   "outputs": [],
   "source": [
    "df = df.drop(columns=['Unnamed: 0', 'Unnamed: 0.1', 'Unnamed: 0_x', 'Unnamed: 0_y', 'lastNameCh', 'Fuzzy Similarity'])"
   ]
  },
  {
   "cell_type": "code",
   "execution_count": 5,
   "metadata": {},
   "outputs": [
    {
     "output_type": "stream",
     "name": "stdout",
     "text": [
      "                      Name            Rank   Race  Year        CaseID  \\\n0         joseph abasciano  Police Officer  White  2011  IAD2011-0182   \n1         joseph abasciano  Police Officer  White  2011  IAD2011-0182   \n2         joseph abasciano  Police Officer  White  2011  IAD2011-0182   \n3         joseph abasciano  Police Officer  White  2011  IAD2011-0182   \n4         joseph abasciano  Police Officer  White  2011  IAD2011-0182   \n...                    ...             ...    ...   ...           ...   \n3834198  peter a zographos  Police Officer  White  2012  IAD2012-0336   \n3834199  peter a zographos  Police Officer  White  2012  IAD2012-0336   \n3834200  peter a zographos  Police Officer  White  2012  IAD2012-0336   \n3834201  peter a zographos  Police Officer  White  2012  IAD2012-0336   \n3834202  peter a zographos  Police Officer  White  2012  IAD2012-0336   \n\n          TypeOfMisconduct Outcome               Address  Amount  CPF ID  ...  \\\n0        Citizen complaint     NaN      15 Hanover Court  100.00   14482  ...   \n1        Citizen complaint     NaN         56 PARSONS ST   50.00   13237  ...   \n2        Citizen complaint     NaN        158 CYPRESS ST  500.00   13239  ...   \n3        Citizen complaint     NaN    15 HAMILTON AVENUE  100.00   15122  ...   \n4        Citizen complaint     NaN      15 Hanover Court  100.00   14482  ...   \n...                    ...     ...                   ...     ...     ...  ...   \n3834198  Citizen complaint     NaN     55 Angelica Drive   94.25   15838  ...   \n3834199  Citizen complaint     NaN  169 N. Quincy Street  250.00   16146  ...   \n3834200  Citizen complaint     NaN     55 Angelica Drive  100.00   15838  ...   \n3834201  Citizen complaint     NaN     55 Angelica Drive   20.00   15838  ...   \n3834202  Citizen complaint     NaN       11 Elizabeth Dr  100.00   12832  ...   \n\n        Principal Officer                 Recipient Record Type Description  \\\n0                     NaN         Sutter, C. Samuel              Individual   \n1                     NaN           Balser, Ruth B.              Individual   \n2                     NaN         Flaherty, Timothy              Individual   \n3                     NaN     Doherty, Christian L.              Individual   \n4                     NaN         Sutter, C. Samuel              Individual   \n...                   ...                       ...                     ...   \n3834198               NaN  Gulluni, Anthony Domenic              Individual   \n3834199               NaN               Liang, Nina              Individual   \n3834200               NaN  Gulluni, Anthony Domenic              Individual   \n3834201               NaN  Gulluni, Anthony Domenic              Individual   \n3834202               NaN       Naughton, Harold P.              Individual   \n\n        Record Type ID                       Source Description State  \\\n0                  201                   2/20/10 Deposit Report    MA   \n1                  201             2010 Pre-primary Report (ND)    MA   \n2                  201  2010 Pre-election Report (Special) (ND)    MA   \n3                  201             2010 Pre-primary Report (ND)    MA   \n4                  201                   5/19/10 Deposit Report    MA   \n...                ...                                      ...   ...   \n3834198            201                    9/9/14 Deposit Report    MA   \n3834199            201                  10/23/15 Deposit Report    MA   \n3834200            201                   8/30/17 Deposit Report    MA   \n3834201            201                   3/27/18 Deposit Report    MA   \n3834202            201                  2018 Pre-Primary Report    MA   \n\n        Tender Type Description Tender Type ID  \\\n0                         Check              1   \n1                 Not Specified              0   \n2                 Not Specified              0   \n3                 Not Specified              0   \n4                         Check              1   \n...                         ...            ...   \n3834198             Credit Card              3   \n3834199                   Check              1   \n3834200                   Check              1   \n3834201                    Cash              6   \n3834202           Not Specified              0   \n\n                                         UUID         Zip  \n0        5eace80d-8740-5505-a230-0a72e2d82f2f       02747  \n1        1e50a41f-6ff1-5f55-8183-7e3d65da5559   024652136  \n2        66aea717-06fa-51f5-9b80-e9f1d39f6ec0       02445  \n3        b65bd67b-89a2-5914-b314-4c3856229a4a  01830-3357  \n4        a87aa7f5-d163-522c-a8a1-75eca93fb2de       02747  \n...                                       ...         ...  \n3834198  67cae092-688c-55d8-9d21-c7b3094b0af6       01129  \n3834199  c9e0aa38-6d7c-5aff-9f22-acf054e7e241       02351  \n3834200  287c4aa2-4408-5ad9-ae97-e1cdcab22a73       01129  \n3834201  e14ad1ae-4132-51e3-9dd7-c555754af1e5       01129  \n3834202  7c549db8-e28d-5337-ac0a-838784113c9f       01501  \n\n[3834203 rows x 26 columns]\n"
     ]
    }
   ],
   "source": [
    "print(df)"
   ]
  },
  {
   "cell_type": "code",
   "execution_count": 6,
   "metadata": {},
   "outputs": [],
   "source": [
    "df = df.loc[df['Employer'] == 'Boston Police']"
   ]
  },
  {
   "cell_type": "code",
   "execution_count": 7,
   "metadata": {},
   "outputs": [],
   "source": [
    "df.to_csv(\"filtered.csv\")"
   ]
  }
 ]
}