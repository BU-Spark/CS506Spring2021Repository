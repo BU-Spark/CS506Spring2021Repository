{
 "cells": [
  {
   "cell_type": "markdown",
   "metadata": {},
   "source": [
    "# Filtering\n",
    "\n",
    "**Task:** Filter the merged dataset for \"Boston Police\" under the \"Employer\" column"
   ]
  },
  {
   "cell_type": "code",
   "execution_count": 1,
   "metadata": {},
   "outputs": [],
   "source": [
    "import pandas as pd\n",
    "import numpy as np"
   ]
  },
  {
   "cell_type": "code",
   "execution_count": 2,
   "metadata": {},
   "outputs": [],
   "source": [
    "df = pd.read_csv(\"merged.csv\")"
   ]
  },
  {
   "cell_type": "code",
   "execution_count": 3,
   "metadata": {},
   "outputs": [
    {
     "output_type": "stream",
     "name": "stdout",
     "text": [
      "['Unnamed: 0', 'Unnamed: 0.1', 'Unnamed: 0_x', 'Name', 'Rank', 'Race', 'Year', 'CaseID', 'TypeOfMisconduct', 'Allegation', 'Finding', 'Outcome', 'lastNameCh', 'Unnamed: 0_y', 'Address', 'Amount', 'CPF ID', 'City', 'Contributor', 'Date', 'Datetime', 'Employer', 'Occupation', 'Principal Officer', 'Recipient', 'Record Type Description', 'Record Type ID', 'Source Description', 'State', 'Tender Type Description', 'Tender Type ID', 'UUID', 'Zip', 'Fuzzy Similarity']\n"
     ]
    }
   ],
   "source": [
    "print(list(df))"
   ]
  },
  {
   "cell_type": "code",
   "execution_count": 4,
   "metadata": {},
   "outputs": [],
   "source": [
    "df = df.drop(columns=['Unnamed: 0', 'Unnamed: 0.1', 'Unnamed: 0_x', 'Unnamed: 0_y', 'lastNameCh', 'Fuzzy Similarity'])"
   ]
  },
  {
   "cell_type": "code",
   "execution_count": 5,
   "metadata": {},
   "outputs": [
    {
     "output_type": "stream",
     "name": "stdout",
     "text": [
      "                  Name            Rank   Race  Year        CaseID  \\\n0     joseph abasciano  Police Officer  White  2011  IAD2011-0182   \n1     joseph abasciano  Police Officer  White  2011  IAD2011-0182   \n2     joseph abasciano  Police Officer  White  2011  IAD2011-0182   \n3     joseph abasciano  Police Officer  White  2011  IAD2011-0182   \n4     joseph abasciano  Police Officer  White  2011  IAD2011-0182   \n...                ...             ...    ...   ...           ...   \n9591   vladimir xavier  Police Officer  Black  2012  IAD2012-0009   \n9592   vladimir xavier  Police Officer  Black  2012  IAD2012-0009   \n9593   vladimir xavier  Police Officer  Black  2014  IAD2014-0255   \n9594    robert m zingg       Detective  White  2011  IAD2011-0553   \n9595    robert m zingg       Detective  White  2012  IAD2012-0039   \n\n            TypeOfMisconduct                   Allegation        Finding  \\\n0          Citizen complaint  Neg.Duty/Unreasonable Judge     Exonerated   \n1          Citizen complaint  Neg.Duty/Unreasonable Judge     Exonerated   \n2          Citizen complaint  Neg.Duty/Unreasonable Judge     Exonerated   \n3          Citizen complaint  Neg.Duty/Unreasonable Judge     Exonerated   \n4          Citizen complaint  Neg.Duty/Unreasonable Judge     Exonerated   \n...                      ...                          ...            ...   \n9591       Citizen complaint         Respectful Treatment  Not Sustained   \n9592       Citizen complaint                  FIO Reports      Sustained   \n9593       Citizen complaint         Respectful Treatment      Unfounded   \n9594  Internal investigation           Conduct Unbecoming      Sustained   \n9595       Citizen complaint           Conduct Unbecoming  Not Sustained   \n\n             Outcome              Address  ...  Principal Officer  \\\n0                NaN   337 Vermont Street  ...                NaN   \n1                NaN       337 Vermont St  ...                NaN   \n2                NaN       337 VERMONT ST  ...                NaN   \n3                NaN   337 VERMONT STREET  ...                NaN   \n4                NaN  30-3700 Vermont St   ...                NaN   \n...              ...                  ...  ...                ...   \n9591             NaN  39 Vassar Street #1  ...                NaN   \n9592  Oral Reprimand  39 Vassar Street #1  ...                NaN   \n9593             NaN  39 Vassar Street #1  ...                NaN   \n9594     Counselling    1 Schroeder Plaza  ...                NaN   \n9595             NaN    1 Schroeder Plaza  ...                NaN   \n\n                       Recipient Record Type Description Record Type ID  \\\n0                 Williams, Brad              Individual            201   \n1           Boston Ward 20 REPWC              Individual            201   \n2     Republican State Committee              Individual            201   \n3                  Basile, Carlo              Individual            201   \n4                Fisher, Mark R.              Individual            201   \n...                          ...                     ...            ...   \n9591             Barros, John F.              Individual            201   \n9592             Barros, John F.              Individual            201   \n9593             Barros, John F.              Individual            201   \n9594            Henning, Gregory              Individual            201   \n9595            Henning, Gregory              Individual            201   \n\n                Source Description State Tender Type Description  \\\n0     2010 Pre-primary Report (ND)    MA           Not Specified   \n1       2013 Year-end Report (WTC)    MA           Not Specified   \n2           3/31/14 Deposit Report    MA             Credit Card   \n3     2014 Pre-primary Report (ND)    MA           Not Specified   \n4            8/4/14 Deposit Report    MA             Credit Card   \n...                            ...   ...                     ...   \n9591        8/28/13 Deposit Report    MA            Cash or M.O.   \n9592        8/28/13 Deposit Report    MA            Cash or M.O.   \n9593        8/28/13 Deposit Report    MA            Cash or M.O.   \n9594        3/27/18 Deposit Report    MA             Credit Card   \n9595        3/27/18 Deposit Report    MA             Credit Card   \n\n     Tender Type ID                                  UUID     Zip  \n0                 0  b7aa9425-98ba-52fb-8b01-3a922fcf6809   02132  \n1                 0  c15a9aad-fe07-5fd9-a8ec-f389840cd542   02132  \n2                 3  982ddee1-d5e2-5391-be81-cb2db1fc7c52   02132  \n3                 0  45099b8a-3279-5de0-adbe-87d1c36a1847   02132  \n4                 3  c72dc850-d680-5750-a0fc-6a8f3ec2860d  02132   \n...             ...                                   ...     ...  \n9591              2  1913fc1c-483d-5343-83f0-98b653c0a60a    2124  \n9592              2  1913fc1c-483d-5343-83f0-98b653c0a60a    2124  \n9593              2  1913fc1c-483d-5343-83f0-98b653c0a60a    2124  \n9594              3  8bdae307-45c4-5919-a111-c992e9985267    2120  \n9595              3  8bdae307-45c4-5919-a111-c992e9985267    2120  \n\n[9596 rows x 28 columns]\n"
     ]
    }
   ],
   "source": [
    "print(df)"
   ]
  },
  {
   "cell_type": "code",
   "execution_count": 6,
   "metadata": {},
   "outputs": [
    {
     "output_type": "execute_result",
     "data": {
      "text/plain": [
       "array(['City of Boston', 'CITY OF BOSTON', 'Boston Police Department',\n",
       "       'City of Boston ', 'City Of Boston', 'BPD', 'Town of Weymouth',\n",
       "       'Regis College', 'city of boston', 'Boston Police',\n",
       "       'Boston Police Department ', 'Boston', 'Bpd',\n",
       "       'City of Boston Police Department', 'Boston PD', 'Methuen Police',\n",
       "       'Boston Police Dept', nan, 'Town of Agawam', 'City of Quincy',\n",
       "       'Boston Police Dept.', 'City of Boston - Returned Item',\n",
       "       'City of boston', 'COB', 'Town of Newburyport',\n",
       "       'City of Newburyport', 'BOSTON POLICE DEPARTMENT',\n",
       "       'Boston Poice Department', 'COM', 'City of Springfield',\n",
       "       'Boston Police dept.', 'PLYMOUTH COUNTY SHERIFFS DEPARTMENT',\n",
       "       \"PLYMOUTH COUNTY SHERIFF'S DEPARTMENT\", 'Plymouth County',\n",
       "       \"Suffolk County Sheriff's Department\", 'Boston police department',\n",
       "       'BOSTON POLICE DEPT.', 'City of Boston Police Dept',\n",
       "       'BOSTON POLICE', 'Boston police dept', 'Police Officer ',\n",
       "       'CITY OF', '\\tCITY OF BOSTON ', 'Boston police',\n",
       "       'City of Boston\\t', 'City of Boston, MA', 'Boston pd',\n",
       "       'Brockton Police', 'Mass State Police',\n",
       "       'Commonwealth of Massachusetts', 'Police Officer', 'Mamleo',\n",
       "       'City of Brockton', 'city', 'BPS', 'LOWELL POLICE DEPARTMENT',\n",
       "       'City of Lowell', 'MBTA', 'City of Everett',\n",
       "       'Massachusetts State Police', 'SCSD', 'Commonwealth Of Ma',\n",
       "       'City Boston', 'City', 'Boston Public Schools', 'Retired',\n",
       "       'Medford Police Department', \"Hampden County Sheriff's Dept\",\n",
       "       'H.C.D.S.', 'Lowell Police Dept.', 'Lowell Police Department',\n",
       "       'Police', 'CITY OF CHELSEA/SELF/US NAVY',\n",
       "       'CITY OF CHELSEAUS NAVY/SELF', 'City of Boston - returned item',\n",
       "       'Harvard Police Dept', 'Boston Pd', 'Town of Stoughton',\n",
       "       'City of New Bedford',\n",
       "       'Boston Police Superior Officers Federation Inc',\n",
       "       'Boston Police dept', 'Town of North Andover Police Dept.',\n",
       "       'NORTH ANDOVER', 'North Andover', 'NORTH ANDOVE',\n",
       "       'North Andover Police', 'City of Holyoke', 'BOSTON',\n",
       "       'boston police', 'city of Boston', 'Bomb Technician',\n",
       "       'BOMB TECHNICIAN', 'Law Enforcement',\n",
       "       \"Plymouth County Sheriff's Office\", 'Comm of Ma', 'PCS',\n",
       "       'COMMONWEALTH OF MASS', 'MA State Police', 'woburn police dept',\n",
       "       'City of Woburn', 'City of Gloucester', 'City ofboston',\n",
       "       'MASSACHUSETTS STATE POLICE', 'NORWOOD POLICE OFFICER',\n",
       "       'City of Lawrence', 'City of Bostone', 'Quincy Police Dept',\n",
       "       'City of Boston, Massachusetts', 'Police officer', 'BPPA',\n",
       "       'City of Boston-2/18/2014', 'City of Bosotn',\n",
       "       'Boston Housing Authority', 'City of Boston, Police Department A1',\n",
       "       'Town of Lenox', 'City of Boston Police', 'State of MA',\n",
       "       'Office of The Sheriff', 'HAMPDEN COUNTY SHERR',\n",
       "       'Commonwealth of MA', 'Bcjhoc', 'BC', 'Ciry of Boston',\n",
       "       'American International College', 'CITY OF REVERE',\n",
       "       'Revere Police Department', 'City of Revere', 'Commonwealth of Ma',\n",
       "       'Boston Police Superior Officers Union', 'BOSTON PD',\n",
       "       'Boston police Department', 'OFFICE OF THE SHERIFF', '1986'],\n",
       "      dtype=object)"
      ]
     },
     "metadata": {},
     "execution_count": 6
    }
   ],
   "source": [
    "df['Employer'].unique()"
   ]
  },
  {
   "cell_type": "code",
   "execution_count": 7,
   "metadata": {},
   "outputs": [],
   "source": [
    "filtered_df = df[df['Employer'].astype(str).str.contains(\"Boston Police|BPD|BOSTON PD|Boston police|Bpd|Boston PD|BOSTON POLICE|Boston Poice|Boston pd|Boston Pd|boston police\")]"
   ]
  },
  {
   "cell_type": "code",
   "execution_count": 8,
   "metadata": {},
   "outputs": [
    {
     "output_type": "execute_result",
     "data": {
      "text/plain": [
       "(2453, 28)"
      ]
     },
     "metadata": {},
     "execution_count": 8
    }
   ],
   "source": [
    "filtered_df.shape"
   ]
  },
  {
   "cell_type": "code",
   "execution_count": 9,
   "metadata": {},
   "outputs": [],
   "source": [
    "filtered_df.to_csv(\"filtered.csv\")"
   ]
  }
 ],
 "metadata": {
  "kernelspec": {
   "name": "python383jvsc74a57bd076ed1d0b8eae510739d08a60d2f0e42d7952e8200e15655b417cfa21bc070d9a",
   "display_name": "Python 3.8.3 64-bit ('base': conda)"
  },
  "language_info": {
   "codemirror_mode": {
    "name": "ipython",
    "version": 3
   },
   "file_extension": ".py",
   "mimetype": "text/x-python",
   "name": "python",
   "nbconvert_exporter": "python",
   "pygments_lexer": "ipython3",
   "version": "3.8.3-final"
  }
 },
 "nbformat": 4,
 "nbformat_minor": 2
}