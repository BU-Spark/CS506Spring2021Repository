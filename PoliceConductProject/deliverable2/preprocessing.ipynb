{
 "cells": [
  {
   "cell_type": "markdown",
   "id": "amended-limit",
   "metadata": {},
   "source": [
    "# Preprocess Names for Merging"
   ]
  },
  {
   "cell_type": "code",
   "execution_count": 1,
   "id": "actual-intensity",
   "metadata": {},
   "outputs": [],
   "source": [
    "import pandas as pd"
   ]
  },
  {
   "cell_type": "markdown",
   "id": "verified-parks",
   "metadata": {},
   "source": [
    "## Police Contributions"
   ]
  },
  {
   "cell_type": "code",
   "execution_count": 2,
   "id": "fitting-candy",
   "metadata": {},
   "outputs": [
    {
     "output_type": "execute_result",
     "data": {
      "text/plain": [
       "            Address  Amount  CPF ID            City           Contributor  \\\n",
       "0        22 WEST ST   100.0   13237   NEWTON CORNER  CICCONE, JR, ALLAN L   \n",
       "1       71 GROVE CR   100.0   13284       BRAINTREE      LINSKEY, MICHAEL   \n",
       "2     Ricca Farm Rd   200.0   15274       Billerica      Haffner, William   \n",
       "3     8 Skipper Way   200.0   10419      Gloucester       Maglio, Matthew   \n",
       "4  156 Chuckles Way   100.0   14944  Marstons Mills        Colbert, Donna   \n",
       "\n",
       "        Date    Datetime           Employer                  Occupation  \\\n",
       "0   1/7/2010  2010-01-07   TOWN OF SHERBORN              POLICE OFFICER   \n",
       "1  1/10/2010  2010-01-10                NaN  BOSTON CITY POLICE OFFICER   \n",
       "2  1/21/2010  2010-01-21    City of Medford              Police Officer   \n",
       "3  1/21/2010  2010-01-21  Town of Lynnfield              Police Officer   \n",
       "4  1/24/2010  2010-01-24                NaN      Retired Police Officer   \n",
       "\n",
       "  Principal Officer            Recipient Record Type Description  \\\n",
       "0               NaN      Balser, Ruth B.              Individual   \n",
       "1               NaN      Ayers, Bruce J.              Individual   \n",
       "2               NaN  McGlynn, Michael J.              Individual   \n",
       "3               NaN    Tisei, Richard R.              Individual   \n",
       "4               NaN        Shea, John F.              Individual   \n",
       "\n",
       "   Record Type ID            Source Description State Tender Type Description  \\\n",
       "0             201  2010 Pre-primary Report (ND)    MA           Not Specified   \n",
       "1             201  2010 Pre-primary Report (ND)    MA           Not Specified   \n",
       "2             201    2010 Year-end report (MUN)    MA           Not Specified   \n",
       "3             201        1/21/10 Deposit Report    MA                   Check   \n",
       "4             201        1/24/10 Deposit Report    MA                   Check   \n",
       "\n",
       "   Tender Type ID                                  UUID        Zip  \n",
       "0               0  5b972ca5-25e7-5024-89f1-154eae42d793  024581326  \n",
       "1               0  d66afb95-ed6a-5842-8cb6-5d795165bead      02184  \n",
       "2               0  50d17239-e35b-5cad-a356-c4317d8ffa79        NaN  \n",
       "3               1  a1b3855a-a2d6-53c4-abb9-c1629afcd422      01930  \n",
       "4               1  18cf8b29-1725-5f0b-8010-7b3457228e1d      02648  "
      ],
      "text/html": "<div>\n<style scoped>\n    .dataframe tbody tr th:only-of-type {\n        vertical-align: middle;\n    }\n\n    .dataframe tbody tr th {\n        vertical-align: top;\n    }\n\n    .dataframe thead th {\n        text-align: right;\n    }\n</style>\n<table border=\"1\" class=\"dataframe\">\n  <thead>\n    <tr style=\"text-align: right;\">\n      <th></th>\n      <th>Address</th>\n      <th>Amount</th>\n      <th>CPF ID</th>\n      <th>City</th>\n      <th>Contributor</th>\n      <th>Date</th>\n      <th>Datetime</th>\n      <th>Employer</th>\n      <th>Occupation</th>\n      <th>Principal Officer</th>\n      <th>Recipient</th>\n      <th>Record Type Description</th>\n      <th>Record Type ID</th>\n      <th>Source Description</th>\n      <th>State</th>\n      <th>Tender Type Description</th>\n      <th>Tender Type ID</th>\n      <th>UUID</th>\n      <th>Zip</th>\n    </tr>\n  </thead>\n  <tbody>\n    <tr>\n      <th>0</th>\n      <td>22 WEST ST</td>\n      <td>100.0</td>\n      <td>13237</td>\n      <td>NEWTON CORNER</td>\n      <td>CICCONE, JR, ALLAN L</td>\n      <td>1/7/2010</td>\n      <td>2010-01-07</td>\n      <td>TOWN OF SHERBORN</td>\n      <td>POLICE OFFICER</td>\n      <td>NaN</td>\n      <td>Balser, Ruth B.</td>\n      <td>Individual</td>\n      <td>201</td>\n      <td>2010 Pre-primary Report (ND)</td>\n      <td>MA</td>\n      <td>Not Specified</td>\n      <td>0</td>\n      <td>5b972ca5-25e7-5024-89f1-154eae42d793</td>\n      <td>024581326</td>\n    </tr>\n    <tr>\n      <th>1</th>\n      <td>71 GROVE CR</td>\n      <td>100.0</td>\n      <td>13284</td>\n      <td>BRAINTREE</td>\n      <td>LINSKEY, MICHAEL</td>\n      <td>1/10/2010</td>\n      <td>2010-01-10</td>\n      <td>NaN</td>\n      <td>BOSTON CITY POLICE OFFICER</td>\n      <td>NaN</td>\n      <td>Ayers, Bruce J.</td>\n      <td>Individual</td>\n      <td>201</td>\n      <td>2010 Pre-primary Report (ND)</td>\n      <td>MA</td>\n      <td>Not Specified</td>\n      <td>0</td>\n      <td>d66afb95-ed6a-5842-8cb6-5d795165bead</td>\n      <td>02184</td>\n    </tr>\n    <tr>\n      <th>2</th>\n      <td>Ricca Farm Rd</td>\n      <td>200.0</td>\n      <td>15274</td>\n      <td>Billerica</td>\n      <td>Haffner, William</td>\n      <td>1/21/2010</td>\n      <td>2010-01-21</td>\n      <td>City of Medford</td>\n      <td>Police Officer</td>\n      <td>NaN</td>\n      <td>McGlynn, Michael J.</td>\n      <td>Individual</td>\n      <td>201</td>\n      <td>2010 Year-end report (MUN)</td>\n      <td>MA</td>\n      <td>Not Specified</td>\n      <td>0</td>\n      <td>50d17239-e35b-5cad-a356-c4317d8ffa79</td>\n      <td>NaN</td>\n    </tr>\n    <tr>\n      <th>3</th>\n      <td>8 Skipper Way</td>\n      <td>200.0</td>\n      <td>10419</td>\n      <td>Gloucester</td>\n      <td>Maglio, Matthew</td>\n      <td>1/21/2010</td>\n      <td>2010-01-21</td>\n      <td>Town of Lynnfield</td>\n      <td>Police Officer</td>\n      <td>NaN</td>\n      <td>Tisei, Richard R.</td>\n      <td>Individual</td>\n      <td>201</td>\n      <td>1/21/10 Deposit Report</td>\n      <td>MA</td>\n      <td>Check</td>\n      <td>1</td>\n      <td>a1b3855a-a2d6-53c4-abb9-c1629afcd422</td>\n      <td>01930</td>\n    </tr>\n    <tr>\n      <th>4</th>\n      <td>156 Chuckles Way</td>\n      <td>100.0</td>\n      <td>14944</td>\n      <td>Marstons Mills</td>\n      <td>Colbert, Donna</td>\n      <td>1/24/2010</td>\n      <td>2010-01-24</td>\n      <td>NaN</td>\n      <td>Retired Police Officer</td>\n      <td>NaN</td>\n      <td>Shea, John F.</td>\n      <td>Individual</td>\n      <td>201</td>\n      <td>1/24/10 Deposit Report</td>\n      <td>MA</td>\n      <td>Check</td>\n      <td>1</td>\n      <td>18cf8b29-1725-5f0b-8010-7b3457228e1d</td>\n      <td>02648</td>\n    </tr>\n  </tbody>\n</table>\n</div>"
     },
     "metadata": {},
     "execution_count": 2
    }
   ],
   "source": [
    "policeDF = pd.read_csv(\"AllPoliceContributions.csv\")\n",
    "policeDF = policeDF[policeDF['Contributor'].notna()]\n",
    "policeDF.head()"
   ]
  },
  {
   "cell_type": "code",
   "execution_count": 3,
   "id": "intelligent-wells",
   "metadata": {},
   "outputs": [
    {
     "output_type": "execute_result",
     "data": {
      "text/plain": [
       "'michael linskey'"
      ]
     },
     "metadata": {},
     "execution_count": 3
    }
   ],
   "source": [
    "# function to ensure that the name is lowercased and \n",
    "# in the following format : firstName middleName lastName\n",
    "def fixname(name):\n",
    "    name = name.lower()\n",
    "    name = name.split(\",\")\n",
    "    for i in range(len(name)):\n",
    "        name[i] = name[i].strip()\n",
    "    if len(name) == 2:\n",
    "        return name[1] + ' ' + name[0]\n",
    "    if len(name) == 3:\n",
    "        return name[2] + ' ' + name[0] + ' ' + name[1]\n",
    "    else:\n",
    "        return name\n",
    "    \n",
    "fixname(\"LINSKEY, MICHAEL\")"
   ]
  },
  {
   "cell_type": "code",
   "execution_count": 4,
   "id": "considerable-discipline",
   "metadata": {
    "scrolled": true
   },
   "outputs": [],
   "source": [
    "# apply the previous function to all names in AllPoliceContributions.csv\n",
    "policeDF['Contributor'] = policeDF['Contributor'].apply(fixname)"
   ]
  },
  {
   "cell_type": "code",
   "execution_count": 5,
   "id": "negative-pocket",
   "metadata": {},
   "outputs": [],
   "source": [
    "policeDF.to_csv(\"processedPoliceContributions.csv\")"
   ]
  },
  {
   "cell_type": "markdown",
   "id": "progressive-fourth",
   "metadata": {},
   "source": [
    "## Boston Police Internal Affairs"
   ]
  },
  {
   "cell_type": "code",
   "execution_count": 6,
   "id": "wireless-blame",
   "metadata": {},
   "outputs": [
    {
     "output_type": "execute_result",
     "data": {
      "text/plain": [
       "                  Name            Rank   Race  Year        CaseID  \\\n",
       "0     Joseph Abasciano  Police Officer  White  2011  IAD2011-0182   \n",
       "1     Joseph Abasciano  Police Officer  White  2011  IAD2011-0182   \n",
       "2     Joseph Abasciano  Police Officer  White  2013  IAD2013-0019   \n",
       "3     Joseph Abasciano  Police Officer  White  2019  IAD2019-0085   \n",
       "4  Ramadani Abdul-Aziz  Police Officer  Black  2011  IAD2011-0258   \n",
       "\n",
       "    TypeOfMisconduct                   Allegation        Finding  \\\n",
       "0  Citizen complaint  Neg.Duty/Unreasonable Judge     Exonerated   \n",
       "1  Citizen complaint                        Force  Not Sustained   \n",
       "2  Citizen complaint  Neg.Duty/Unreasonable Judge  Not Sustained   \n",
       "3  Citizen complaint             Abuse of Process  Not Sustained   \n",
       "4  Citizen complaint  Neg.Duty/Unreasonable Judge      Sustained   \n",
       "\n",
       "          Outcome  \n",
       "0             NaN  \n",
       "1             NaN  \n",
       "2             NaN  \n",
       "3             NaN  \n",
       "4  Oral Reprimand  "
      ],
      "text/html": "<div>\n<style scoped>\n    .dataframe tbody tr th:only-of-type {\n        vertical-align: middle;\n    }\n\n    .dataframe tbody tr th {\n        vertical-align: top;\n    }\n\n    .dataframe thead th {\n        text-align: right;\n    }\n</style>\n<table border=\"1\" class=\"dataframe\">\n  <thead>\n    <tr style=\"text-align: right;\">\n      <th></th>\n      <th>Name</th>\n      <th>Rank</th>\n      <th>Race</th>\n      <th>Year</th>\n      <th>CaseID</th>\n      <th>TypeOfMisconduct</th>\n      <th>Allegation</th>\n      <th>Finding</th>\n      <th>Outcome</th>\n    </tr>\n  </thead>\n  <tbody>\n    <tr>\n      <th>0</th>\n      <td>Joseph Abasciano</td>\n      <td>Police Officer</td>\n      <td>White</td>\n      <td>2011</td>\n      <td>IAD2011-0182</td>\n      <td>Citizen complaint</td>\n      <td>Neg.Duty/Unreasonable Judge</td>\n      <td>Exonerated</td>\n      <td>NaN</td>\n    </tr>\n    <tr>\n      <th>1</th>\n      <td>Joseph Abasciano</td>\n      <td>Police Officer</td>\n      <td>White</td>\n      <td>2011</td>\n      <td>IAD2011-0182</td>\n      <td>Citizen complaint</td>\n      <td>Force</td>\n      <td>Not Sustained</td>\n      <td>NaN</td>\n    </tr>\n    <tr>\n      <th>2</th>\n      <td>Joseph Abasciano</td>\n      <td>Police Officer</td>\n      <td>White</td>\n      <td>2013</td>\n      <td>IAD2013-0019</td>\n      <td>Citizen complaint</td>\n      <td>Neg.Duty/Unreasonable Judge</td>\n      <td>Not Sustained</td>\n      <td>NaN</td>\n    </tr>\n    <tr>\n      <th>3</th>\n      <td>Joseph Abasciano</td>\n      <td>Police Officer</td>\n      <td>White</td>\n      <td>2019</td>\n      <td>IAD2019-0085</td>\n      <td>Citizen complaint</td>\n      <td>Abuse of Process</td>\n      <td>Not Sustained</td>\n      <td>NaN</td>\n    </tr>\n    <tr>\n      <th>4</th>\n      <td>Ramadani Abdul-Aziz</td>\n      <td>Police Officer</td>\n      <td>Black</td>\n      <td>2011</td>\n      <td>IAD2011-0258</td>\n      <td>Citizen complaint</td>\n      <td>Neg.Duty/Unreasonable Judge</td>\n      <td>Sustained</td>\n      <td>Oral Reprimand</td>\n    </tr>\n  </tbody>\n</table>\n</div>"
     },
     "metadata": {},
     "execution_count": 6
    }
   ],
   "source": [
    "bostonDF = pd.read_csv(\"BostonPoliceInternalAffairs.csv\")\n",
    "bostonDF = bostonDF[bostonDF['Name'].notna()]\n",
    "bostonDF.head()"
   ]
  },
  {
   "cell_type": "code",
   "execution_count": 7,
   "id": "second-cooler",
   "metadata": {},
   "outputs": [],
   "source": [
    "def makelower(name):\n",
    "    return name.lower()"
   ]
  },
  {
   "cell_type": "code",
   "execution_count": 8,
   "id": "technological-ability",
   "metadata": {},
   "outputs": [],
   "source": [
    "# make all names lowercase\n",
    "bostonDF['Name'] = bostonDF['Name'].apply(makelower)"
   ]
  },
  {
   "cell_type": "code",
   "execution_count": 9,
   "id": "sufficient-station",
   "metadata": {},
   "outputs": [],
   "source": [
    "bostonDF.to_csv('processedBostonPoliceInternalAffairs.csv')"
   ]
  }
 ],
 "metadata": {
  "kernelspec": {
   "name": "python383jvsc74a57bd076ed1d0b8eae510739d08a60d2f0e42d7952e8200e15655b417cfa21bc070d9a",
   "display_name": "Python 3.8.3 64-bit ('base': conda)"
  },
  "language_info": {
   "codemirror_mode": {
    "name": "ipython",
    "version": 3
   },
   "file_extension": ".py",
   "mimetype": "text/x-python",
   "name": "python",
   "nbconvert_exporter": "python",
   "pygments_lexer": "ipython3",
   "version": "3.8.3-final"
  }
 },
 "nbformat": 4,
 "nbformat_minor": 5
}