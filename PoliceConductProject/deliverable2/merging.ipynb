{
 "cells": [
  {
   "cell_type": "markdown",
   "metadata": {},
   "source": [
    "### Task\n",
    "Step two - Students to merge the disciplinary action database with the BPD financial contributions data. Verify common names using the Race/Ethnicity BPD personnel dataset.\n",
    "First merge the disciplinary action database with the entire \"All_Police_Contributions.csv\" dataset, then filter for \"Boston Police\" under the \"Employer\" column."
   ]
  },
  {
   "cell_type": "markdown",
   "metadata": {},
   "source": [
    "### Merge with Fuzzy Matching using Fuzzy merge template"
   ]
  },
  {
   "cell_type": "code",
   "execution_count": 1,
   "metadata": {},
   "outputs": [
    {
     "name": "stderr",
     "output_type": "stream",
     "text": [
      "/Users/rachelpeng/opt/anaconda3/lib/python3.8/site-packages/fuzzywuzzy/fuzz.py:11: UserWarning: Using slow pure-python SequenceMatcher. Install python-Levenshtein to remove this warning\n",
      "  warnings.warn('Using slow pure-python SequenceMatcher. Install python-Levenshtein to remove this warning')\n"
     ]
    }
   ],
   "source": [
    "import pandas as pd\n",
    "import numpy as np\n",
    "import dask.dataframe as dd\n",
    "from fuzzywuzzy import fuzz "
   ]
  },
  {
   "cell_type": "code",
   "execution_count": 2,
   "metadata": {},
   "outputs": [
    {
     "name": "stdout",
     "output_type": "stream",
     "text": [
      "Requirement already satisfied: dask[complete] in /Users/rachelpeng/opt/anaconda3/lib/python3.8/site-packages (2.20.0)\n",
      "Requirement already satisfied: pyyaml in /Users/rachelpeng/opt/anaconda3/lib/python3.8/site-packages (from dask[complete]) (5.3.1)\n",
      "Requirement already satisfied: partd>=0.3.10; extra == \"complete\" in /Users/rachelpeng/opt/anaconda3/lib/python3.8/site-packages (from dask[complete]) (1.1.0)\n",
      "Requirement already satisfied: pandas>=0.23.0; extra == \"complete\" in /Users/rachelpeng/opt/anaconda3/lib/python3.8/site-packages (from dask[complete]) (1.0.5)\n",
      "Requirement already satisfied: toolz>=0.8.2; extra == \"complete\" in /Users/rachelpeng/opt/anaconda3/lib/python3.8/site-packages (from dask[complete]) (0.10.0)\n",
      "Requirement already satisfied: cloudpickle>=0.2.2; extra == \"complete\" in /Users/rachelpeng/opt/anaconda3/lib/python3.8/site-packages (from dask[complete]) (1.5.0)\n",
      "Requirement already satisfied: fsspec>=0.6.0; extra == \"complete\" in /Users/rachelpeng/opt/anaconda3/lib/python3.8/site-packages (from dask[complete]) (0.7.4)\n",
      "Requirement already satisfied: bokeh>=1.0.0; extra == \"complete\" in /Users/rachelpeng/opt/anaconda3/lib/python3.8/site-packages (from dask[complete]) (2.1.1)\n",
      "Requirement already satisfied: distributed>=2.0; extra == \"complete\" in /Users/rachelpeng/opt/anaconda3/lib/python3.8/site-packages (from dask[complete]) (2.20.0)\n",
      "Requirement already satisfied: numpy>=1.13.0; extra == \"complete\" in /Users/rachelpeng/.local/lib/python3.8/site-packages (from dask[complete]) (1.19.5)\n",
      "Requirement already satisfied: locket in /Users/rachelpeng/opt/anaconda3/lib/python3.8/site-packages (from partd>=0.3.10; extra == \"complete\"->dask[complete]) (0.2.0)\n",
      "Requirement already satisfied: pytz>=2017.2 in /Users/rachelpeng/opt/anaconda3/lib/python3.8/site-packages (from pandas>=0.23.0; extra == \"complete\"->dask[complete]) (2020.1)\n",
      "Requirement already satisfied: python-dateutil>=2.6.1 in /Users/rachelpeng/opt/anaconda3/lib/python3.8/site-packages (from pandas>=0.23.0; extra == \"complete\"->dask[complete]) (2.8.1)\n",
      "Requirement already satisfied: typing-extensions>=3.7.4 in /Users/rachelpeng/opt/anaconda3/lib/python3.8/site-packages (from bokeh>=1.0.0; extra == \"complete\"->dask[complete]) (3.7.4.2)\n",
      "Requirement already satisfied: packaging>=16.8 in /Users/rachelpeng/opt/anaconda3/lib/python3.8/site-packages (from bokeh>=1.0.0; extra == \"complete\"->dask[complete]) (20.1)\n",
      "Requirement already satisfied: pillow>=4.0 in /Users/rachelpeng/opt/anaconda3/lib/python3.8/site-packages (from bokeh>=1.0.0; extra == \"complete\"->dask[complete]) (7.2.0)\n",
      "Requirement already satisfied: tornado>=5.1 in /Users/rachelpeng/opt/anaconda3/lib/python3.8/site-packages (from bokeh>=1.0.0; extra == \"complete\"->dask[complete]) (6.0.4)\n",
      "Requirement already satisfied: Jinja2>=2.7 in /Users/rachelpeng/opt/anaconda3/lib/python3.8/site-packages (from bokeh>=1.0.0; extra == \"complete\"->dask[complete]) (2.11.2)\n",
      "Requirement already satisfied: psutil>=5.0 in /Users/rachelpeng/opt/anaconda3/lib/python3.8/site-packages (from distributed>=2.0; extra == \"complete\"->dask[complete]) (5.7.0)\n",
      "Requirement already satisfied: zict>=0.1.3 in /Users/rachelpeng/opt/anaconda3/lib/python3.8/site-packages (from distributed>=2.0; extra == \"complete\"->dask[complete]) (2.0.0)\n",
      "Requirement already satisfied: tblib>=1.6.0 in /Users/rachelpeng/opt/anaconda3/lib/python3.8/site-packages (from distributed>=2.0; extra == \"complete\"->dask[complete]) (1.6.0)\n",
      "Requirement already satisfied: setuptools in /Users/rachelpeng/opt/anaconda3/lib/python3.8/site-packages (from distributed>=2.0; extra == \"complete\"->dask[complete]) (49.2.0.post20200714)\n",
      "Requirement already satisfied: click>=6.6 in /Users/rachelpeng/opt/anaconda3/lib/python3.8/site-packages (from distributed>=2.0; extra == \"complete\"->dask[complete]) (7.1.2)\n",
      "Requirement already satisfied: msgpack>=0.6.0 in /Users/rachelpeng/opt/anaconda3/lib/python3.8/site-packages (from distributed>=2.0; extra == \"complete\"->dask[complete]) (1.0.0)\n",
      "Requirement already satisfied: sortedcontainers!=2.0.0,!=2.0.1 in /Users/rachelpeng/opt/anaconda3/lib/python3.8/site-packages (from distributed>=2.0; extra == \"complete\"->dask[complete]) (2.2.2)\n",
      "Requirement already satisfied: six>=1.5 in /Users/rachelpeng/opt/anaconda3/lib/python3.8/site-packages (from python-dateutil>=2.6.1->pandas>=0.23.0; extra == \"complete\"->dask[complete]) (1.14.0)\n",
      "Requirement already satisfied: pyparsing>=2.0.2 in /Users/rachelpeng/opt/anaconda3/lib/python3.8/site-packages (from packaging>=16.8->bokeh>=1.0.0; extra == \"complete\"->dask[complete]) (2.4.6)\n",
      "Requirement already satisfied: MarkupSafe>=0.23 in /Users/rachelpeng/opt/anaconda3/lib/python3.8/site-packages (from Jinja2>=2.7->bokeh>=1.0.0; extra == \"complete\"->dask[complete]) (1.1.1)\n",
      "Requirement already satisfied: heapdict in /Users/rachelpeng/opt/anaconda3/lib/python3.8/site-packages (from zict>=0.1.3->distributed>=2.0; extra == \"complete\"->dask[complete]) (1.0.1)\n"
     ]
    }
   ],
   "source": [
    "# Install Dask as a library using the following code:\n",
    "# Dask is an additional library for Pandas that parrellizes the memory when handling dataframes, this greatly speeds up the merging and other data processing.\n",
    "\n",
    "import sys\n",
    "!{sys.executable} -m pip install \"dask[complete]\""
   ]
  },
  {
   "cell_type": "code",
   "execution_count": 3,
   "metadata": {},
   "outputs": [],
   "source": [
    "# String similarity between the two fields\n",
    "\n",
    "def fuzzySimilarity(row):\n",
    "    name1 = row['Name']\n",
    "    name2 = row['Contributor']\n",
    "    fuzzyRatio = fuzz.ratio(name1, name2)\n",
    "    return fuzzyRatio"
   ]
  },
  {
   "cell_type": "code",
   "execution_count": 4,
   "metadata": {},
   "outputs": [],
   "source": [
    "# Create a new column called lastName character that has the first letter of the last name as its separate column\n",
    "\n",
    "def getLastCh(s):\n",
    "    s_list = s.split()\n",
    "    suffixes = ['jr','jr.','sr','sr.','i','ii','iii', '3rd']\n",
    "\n",
    "    # remove suffixes in s_list\n",
    "    for i in reversed(range(len(s_list))):\n",
    "        if s_list[i] in suffixes:\n",
    "            s_list.pop(i)\n",
    "\n",
    "    lastName = s_list[-1]\n",
    "    firstCh = lastName[0]\n",
    "    return firstCh"
   ]
  },
  {
   "cell_type": "code",
   "execution_count": 5,
   "metadata": {},
   "outputs": [],
   "source": [
    "bostonDF = pd.read_csv(\"processedBostonPoliceInternalAffairs.csv\")\n",
    "policeDF = pd.read_csv(\"processedPoliceContributions.csv\")"
   ]
  },
  {
   "cell_type": "code",
   "execution_count": 6,
   "metadata": {},
   "outputs": [],
   "source": [
    "bostonDF['lastNameCh'] = [getLastCh(s) for s in bostonDF['Name']]\n",
    "policeDF['lastNameCh'] = [getLastCh(s) for s in policeDF['Contributor']]"
   ]
  },
  {
   "cell_type": "code",
   "execution_count": 7,
   "metadata": {},
   "outputs": [
    {
     "name": "stdout",
     "output_type": "stream",
     "text": [
      "                  Name lastNameCh\n",
      "0     joseph abasciano          a\n",
      "1     joseph abasciano          a\n",
      "2     joseph abasciano          a\n",
      "3     joseph abasciano          a\n",
      "4  ramadani abdul-aziz          a\n"
     ]
    }
   ],
   "source": [
    "print(bostonDF[['Name','lastNameCh']].head())"
   ]
  },
  {
   "cell_type": "code",
   "execution_count": 8,
   "metadata": {},
   "outputs": [
    {
     "name": "stdout",
     "output_type": "stream",
     "text": [
      "          Contributor lastNameCh\n",
      "0  allan l ciccone jr          c\n",
      "1     michael linskey          l\n",
      "2     william haffner          h\n",
      "3      matthew maglio          m\n",
      "4       donna colbert          c\n"
     ]
    }
   ],
   "source": [
    "print(policeDF[['Contributor', 'lastNameCh']].head())"
   ]
  },
  {
   "cell_type": "markdown",
   "metadata": {},
   "source": [
    "Things to take note of:\n",
    "\n",
    "1. Some names are entered in the incorrect format. For example, \"Gannetti, iii, Salvatore\" was instead entered as \"Gannetti, Salvatore iii\" creating a case in preprocessing to result in salvatore iii gannetti.\n",
    "2. Some suffixes have . after and others don't (i.e. jr and jr.)\n",
    "\n",
    "We removed suffixes before identifying the last name character."
   ]
  },
  {
   "cell_type": "code",
   "execution_count": 9,
   "metadata": {},
   "outputs": [],
   "source": [
    "# This program will merge the two dataframes using their lastName characters then apply a string similarity score for each row then we'll filter the string similarity value to create the final dataframe with name matches.\n",
    "\n",
    "unique_names = list(bostonDF['lastNameCh'].unique())\n",
    "\n",
    "for name in unique_names:\n",
    "    df1_sub_zip = bostonDF[bostonDF['lastNameCh'] == name]\n",
    "    df2_sub_zip = policeDF[policeDF['lastNameCh'] == name]\n",
    "\n",
    "    df_merge = dd.merge(df1_sub_zip, df2_sub_zip, how='left', left_on='lastNameCh', right_on='lastNameCh')\n",
    "    \n",
    "    df_merge['Fuzzy Similarity'] = df_merge.apply(lambda row: fuzzySimilarity(row), axis=1)\n",
    "    \n",
    "    # You can adjust this number for a more selective fuzzy similarity merge\n",
    "    Fuzzy_Filter = df_merge[df_merge['Fuzzy Similarity'] > 85]\n",
    "    \n",
    "    title = \"./fuzzyDatasets/merge_df_name_\" + name + \".csv\"\n",
    "    Fuzzy_Filter.to_csv(title, encoding = \"utf-8\")"
   ]
  },
  {
   "cell_type": "code",
   "execution_count": 10,
   "metadata": {},
   "outputs": [
    {
     "name": "stdout",
     "output_type": "stream",
     "text": [
      "['./fuzzyDatasets/merge_df_name_a.csv', './fuzzyDatasets/merge_df_name_b.csv', './fuzzyDatasets/merge_df_name_c.csv', './fuzzyDatasets/merge_df_name_d.csv', './fuzzyDatasets/merge_df_name_s.csv', './fuzzyDatasets/merge_df_name_e.csv', './fuzzyDatasets/merge_df_name_f.csv', './fuzzyDatasets/merge_df_name_g.csv', './fuzzyDatasets/merge_df_name_h.csv', './fuzzyDatasets/merge_df_name_i.csv', './fuzzyDatasets/merge_df_name_j.csv', './fuzzyDatasets/merge_df_name_l.csv', './fuzzyDatasets/merge_df_name_k.csv', './fuzzyDatasets/merge_df_name_m.csv', './fuzzyDatasets/merge_df_name_n.csv', './fuzzyDatasets/merge_df_name_o.csv', './fuzzyDatasets/merge_df_name_p.csv', './fuzzyDatasets/merge_df_name_q.csv', './fuzzyDatasets/merge_df_name_r.csv', './fuzzyDatasets/merge_df_name_t.csv', './fuzzyDatasets/merge_df_name_v.csv', './fuzzyDatasets/merge_df_name_w.csv', './fuzzyDatasets/merge_df_name_x.csv', './fuzzyDatasets/merge_df_name_y.csv', './fuzzyDatasets/merge_df_name_z.csv']\n"
     ]
    }
   ],
   "source": [
    "# This will create the list\n",
    "\n",
    "list_of_csv_titles = []\n",
    "\n",
    "for name in unique_names:\n",
    "    title = \"./fuzzyDatasets/merge_df_name_\" + name + \".csv\"\n",
    "    list_of_csv_titles.append(title)\n",
    "    \n",
    "print(list_of_csv_titles)"
   ]
  },
  {
   "cell_type": "code",
   "execution_count": 11,
   "metadata": {},
   "outputs": [
    {
     "name": "stdout",
     "output_type": "stream",
     "text": [
      "   Unnamed: 0 Unnamed: 0_x              Name            Rank   Race  Year  \\\n",
      "0           8            0  joseph abasciano  Police Officer  White  2011   \n",
      "1          28            0  joseph abasciano  Police Officer  White  2011   \n",
      "2          40            0  joseph abasciano  Police Officer  White  2011   \n",
      "3          42            0  joseph abasciano  Police Officer  White  2011   \n",
      "4          47            0  joseph abasciano  Police Officer  White  2011   \n",
      "..        ...          ...               ...             ...    ...   ...   \n",
      "0           0         5638   vladimir xavier  Police Officer  Black  2012   \n",
      "1           4         5639   vladimir xavier  Police Officer  Black  2012   \n",
      "2           8         5640   vladimir xavier  Police Officer  Black  2014   \n",
      "0         530         5657    robert m zingg       Detective  White  2011   \n",
      "1         599         5658    robert m zingg       Detective  White  2012   \n",
      "\n",
      "          CaseID        TypeOfMisconduct                   Allegation  \\\n",
      "0   IAD2011-0182       Citizen complaint  Neg.Duty/Unreasonable Judge   \n",
      "1   IAD2011-0182       Citizen complaint  Neg.Duty/Unreasonable Judge   \n",
      "2   IAD2011-0182       Citizen complaint  Neg.Duty/Unreasonable Judge   \n",
      "3   IAD2011-0182       Citizen complaint  Neg.Duty/Unreasonable Judge   \n",
      "4   IAD2011-0182       Citizen complaint  Neg.Duty/Unreasonable Judge   \n",
      "..           ...                     ...                          ...   \n",
      "0   IAD2012-0009       Citizen complaint         Respectful Treatment   \n",
      "1   IAD2012-0009       Citizen complaint                  FIO Reports   \n",
      "2   IAD2014-0255       Citizen complaint         Respectful Treatment   \n",
      "0   IAD2011-0553  Internal investigation           Conduct Unbecoming   \n",
      "1   IAD2012-0039       Citizen complaint           Conduct Unbecoming   \n",
      "\n",
      "          Finding  ...                   Recipient Record Type Description  \\\n",
      "0      Exonerated  ...              Williams, Brad              Individual   \n",
      "1      Exonerated  ...        Boston Ward 20 REPWC              Individual   \n",
      "2      Exonerated  ...  Republican State Committee              Individual   \n",
      "3      Exonerated  ...               Basile, Carlo              Individual   \n",
      "4      Exonerated  ...             Fisher, Mark R.              Individual   \n",
      "..            ...  ...                         ...                     ...   \n",
      "0   Not Sustained  ...             Barros, John F.              Individual   \n",
      "1       Sustained  ...             Barros, John F.              Individual   \n",
      "2       Unfounded  ...             Barros, John F.              Individual   \n",
      "0       Sustained  ...            Henning, Gregory              Individual   \n",
      "1   Not Sustained  ...            Henning, Gregory              Individual   \n",
      "\n",
      "   Record Type ID            Source Description  State  \\\n",
      "0             201  2010 Pre-primary Report (ND)     MA   \n",
      "1             201    2013 Year-end Report (WTC)     MA   \n",
      "2             201        3/31/14 Deposit Report     MA   \n",
      "3             201  2014 Pre-primary Report (ND)     MA   \n",
      "4             201         8/4/14 Deposit Report     MA   \n",
      "..            ...                           ...    ...   \n",
      "0             201        8/28/13 Deposit Report     MA   \n",
      "1             201        8/28/13 Deposit Report     MA   \n",
      "2             201        8/28/13 Deposit Report     MA   \n",
      "0             201        3/27/18 Deposit Report     MA   \n",
      "1             201        3/27/18 Deposit Report     MA   \n",
      "\n",
      "   Tender Type Description Tender Type ID  \\\n",
      "0            Not Specified              0   \n",
      "1            Not Specified              0   \n",
      "2              Credit Card              3   \n",
      "3            Not Specified              0   \n",
      "4              Credit Card              3   \n",
      "..                     ...            ...   \n",
      "0             Cash or M.O.              2   \n",
      "1             Cash or M.O.              2   \n",
      "2             Cash or M.O.              2   \n",
      "0              Credit Card              3   \n",
      "1              Credit Card              3   \n",
      "\n",
      "                                    UUID     Zip Fuzzy Similarity  \n",
      "0   b7aa9425-98ba-52fb-8b01-3a922fcf6809   02132              100  \n",
      "1   c15a9aad-fe07-5fd9-a8ec-f389840cd542   02132               94  \n",
      "2   982ddee1-d5e2-5391-be81-cb2db1fc7c52   02132              100  \n",
      "3   45099b8a-3279-5de0-adbe-87d1c36a1847   02132              100  \n",
      "4   c72dc850-d680-5750-a0fc-6a8f3ec2860d  02132               100  \n",
      "..                                   ...     ...              ...  \n",
      "0   1913fc1c-483d-5343-83f0-98b653c0a60a    2124               93  \n",
      "1   1913fc1c-483d-5343-83f0-98b653c0a60a    2124               93  \n",
      "2   1913fc1c-483d-5343-83f0-98b653c0a60a    2124               93  \n",
      "0   8bdae307-45c4-5919-a111-c992e9985267    2120               92  \n",
      "1   8bdae307-45c4-5919-a111-c992e9985267    2120               92  \n",
      "\n",
      "[9596 rows x 33 columns]\n"
     ]
    }
   ],
   "source": [
    "# Merging all the batches\n",
    "\n",
    "df_merge_final = pd.DataFrame()\n",
    "\n",
    "for files in list_of_csv_titles:\n",
    "    data = pd.read_csv(files)\n",
    "    df_merge_final = df_merge_final.append(data)\n",
    "\n",
    "print(df_merge_final)"
   ]
  },
  {
   "cell_type": "code",
   "execution_count": 12,
   "metadata": {},
   "outputs": [],
   "source": [
    "df_merge_final.to_csv(\"merged.csv\")"
   ]
  }
 ],
 "metadata": {
  "kernelspec": {
   "display_name": "Python 3",
   "language": "python",
   "name": "python3"
  },
  "language_info": {
   "codemirror_mode": {
    "name": "ipython",
    "version": 3
   },
   "file_extension": ".py",
   "mimetype": "text/x-python",
   "name": "python",
   "nbconvert_exporter": "python",
   "pygments_lexer": "ipython3",
   "version": "3.7.4"
  }
 },
 "nbformat": 4,
 "nbformat_minor": 2
}
