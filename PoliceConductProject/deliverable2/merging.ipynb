{
 "cells": [
  {
   "cell_type": "markdown",
   "metadata": {},
   "source": [
    "### Task\n",
    "Step two - Students to merge the disciplinary action database with the BPD financial contributions data. Verify common names using the Race/Ethnicity BPD personnel dataset.\n",
    "First merge the disciplinary action database with the entire \"All_Police_Contributions.csv\" dataset, then filter for \"Boston Police\" under the \"Employer\" column."
   ]
  },
  {
   "cell_type": "markdown",
   "metadata": {},
   "source": [
    "### Merge with Fuzzy Matching using Fuzzy merge template"
   ]
  },
  {
   "cell_type": "code",
   "execution_count": 1,
   "metadata": {},
   "outputs": [
    {
     "output_type": "stream",
     "name": "stderr",
     "text": [
      "/Users/rachelpeng/opt/anaconda3/lib/python3.8/site-packages/fuzzywuzzy/fuzz.py:11: UserWarning: Using slow pure-python SequenceMatcher. Install python-Levenshtein to remove this warning\n  warnings.warn('Using slow pure-python SequenceMatcher. Install python-Levenshtein to remove this warning')\n"
     ]
    }
   ],
   "source": [
    "import pandas as pd\n",
    "import numpy as np\n",
    "import dask.dataframe as dd\n",
    "from fuzzywuzzy import fuzz \n",
    "\n",
    "boston = pd.read_csv(\"processedBostonPoliceInternalAffairs.csv\")\n",
    "police = pd.read_csv(\"processedPoliceContributions.csv\")\n"
   ]
  },
  {
   "cell_type": "code",
   "execution_count": 2,
   "metadata": {},
   "outputs": [
    {
     "output_type": "stream",
     "name": "stdout",
     "text": [
      "Requirement already satisfied: dask[complete] in /Users/rachelpeng/opt/anaconda3/lib/python3.8/site-packages (2.20.0)\n",
      "Requirement already satisfied: pyyaml in /Users/rachelpeng/opt/anaconda3/lib/python3.8/site-packages (from dask[complete]) (5.3.1)\n",
      "Requirement already satisfied: partd>=0.3.10; extra == \"complete\" in /Users/rachelpeng/opt/anaconda3/lib/python3.8/site-packages (from dask[complete]) (1.1.0)\n",
      "Requirement already satisfied: fsspec>=0.6.0; extra == \"complete\" in /Users/rachelpeng/opt/anaconda3/lib/python3.8/site-packages (from dask[complete]) (0.7.4)\n",
      "Requirement already satisfied: bokeh>=1.0.0; extra == \"complete\" in /Users/rachelpeng/opt/anaconda3/lib/python3.8/site-packages (from dask[complete]) (2.1.1)\n",
      "Requirement already satisfied: toolz>=0.8.2; extra == \"complete\" in /Users/rachelpeng/opt/anaconda3/lib/python3.8/site-packages (from dask[complete]) (0.10.0)\n",
      "Requirement already satisfied: cloudpickle>=0.2.2; extra == \"complete\" in /Users/rachelpeng/opt/anaconda3/lib/python3.8/site-packages (from dask[complete]) (1.5.0)\n",
      "Requirement already satisfied: distributed>=2.0; extra == \"complete\" in /Users/rachelpeng/opt/anaconda3/lib/python3.8/site-packages (from dask[complete]) (2.20.0)\n",
      "Requirement already satisfied: pandas>=0.23.0; extra == \"complete\" in /Users/rachelpeng/opt/anaconda3/lib/python3.8/site-packages (from dask[complete]) (1.0.5)\n",
      "Requirement already satisfied: numpy>=1.13.0; extra == \"complete\" in /Users/rachelpeng/.local/lib/python3.8/site-packages (from dask[complete]) (1.19.5)\n",
      "Requirement already satisfied: locket in /Users/rachelpeng/opt/anaconda3/lib/python3.8/site-packages (from partd>=0.3.10; extra == \"complete\"->dask[complete]) (0.2.0)\n",
      "Requirement already satisfied: tornado>=5.1 in /Users/rachelpeng/opt/anaconda3/lib/python3.8/site-packages (from bokeh>=1.0.0; extra == \"complete\"->dask[complete]) (6.0.4)\n",
      "Requirement already satisfied: Jinja2>=2.7 in /Users/rachelpeng/opt/anaconda3/lib/python3.8/site-packages (from bokeh>=1.0.0; extra == \"complete\"->dask[complete]) (2.11.2)\n",
      "Requirement already satisfied: pillow>=4.0 in /Users/rachelpeng/opt/anaconda3/lib/python3.8/site-packages (from bokeh>=1.0.0; extra == \"complete\"->dask[complete]) (7.2.0)\n",
      "Requirement already satisfied: python-dateutil>=2.1 in /Users/rachelpeng/opt/anaconda3/lib/python3.8/site-packages (from bokeh>=1.0.0; extra == \"complete\"->dask[complete]) (2.8.1)\n",
      "Requirement already satisfied: packaging>=16.8 in /Users/rachelpeng/opt/anaconda3/lib/python3.8/site-packages (from bokeh>=1.0.0; extra == \"complete\"->dask[complete]) (20.1)\n",
      "Requirement already satisfied: typing-extensions>=3.7.4 in /Users/rachelpeng/opt/anaconda3/lib/python3.8/site-packages (from bokeh>=1.0.0; extra == \"complete\"->dask[complete]) (3.7.4.2)\n",
      "Requirement already satisfied: zict>=0.1.3 in /Users/rachelpeng/opt/anaconda3/lib/python3.8/site-packages (from distributed>=2.0; extra == \"complete\"->dask[complete]) (2.0.0)\n",
      "Requirement already satisfied: msgpack>=0.6.0 in /Users/rachelpeng/opt/anaconda3/lib/python3.8/site-packages (from distributed>=2.0; extra == \"complete\"->dask[complete]) (1.0.0)\n",
      "Requirement already satisfied: setuptools in /Users/rachelpeng/opt/anaconda3/lib/python3.8/site-packages (from distributed>=2.0; extra == \"complete\"->dask[complete]) (49.2.0.post20200714)\n",
      "Requirement already satisfied: click>=6.6 in /Users/rachelpeng/opt/anaconda3/lib/python3.8/site-packages (from distributed>=2.0; extra == \"complete\"->dask[complete]) (7.1.2)\n",
      "Requirement already satisfied: sortedcontainers!=2.0.0,!=2.0.1 in /Users/rachelpeng/opt/anaconda3/lib/python3.8/site-packages (from distributed>=2.0; extra == \"complete\"->dask[complete]) (2.2.2)\n",
      "Requirement already satisfied: tblib>=1.6.0 in /Users/rachelpeng/opt/anaconda3/lib/python3.8/site-packages (from distributed>=2.0; extra == \"complete\"->dask[complete]) (1.6.0)\n",
      "Requirement already satisfied: psutil>=5.0 in /Users/rachelpeng/opt/anaconda3/lib/python3.8/site-packages (from distributed>=2.0; extra == \"complete\"->dask[complete]) (5.7.0)\n",
      "Requirement already satisfied: pytz>=2017.2 in /Users/rachelpeng/opt/anaconda3/lib/python3.8/site-packages (from pandas>=0.23.0; extra == \"complete\"->dask[complete]) (2020.1)\n",
      "Requirement already satisfied: MarkupSafe>=0.23 in /Users/rachelpeng/opt/anaconda3/lib/python3.8/site-packages (from Jinja2>=2.7->bokeh>=1.0.0; extra == \"complete\"->dask[complete]) (1.1.1)\n",
      "Requirement already satisfied: six>=1.5 in /Users/rachelpeng/opt/anaconda3/lib/python3.8/site-packages (from python-dateutil>=2.1->bokeh>=1.0.0; extra == \"complete\"->dask[complete]) (1.14.0)\n",
      "Requirement already satisfied: pyparsing>=2.0.2 in /Users/rachelpeng/opt/anaconda3/lib/python3.8/site-packages (from packaging>=16.8->bokeh>=1.0.0; extra == \"complete\"->dask[complete]) (2.4.6)\n",
      "Requirement already satisfied: heapdict in /Users/rachelpeng/opt/anaconda3/lib/python3.8/site-packages (from zict>=0.1.3->distributed>=2.0; extra == \"complete\"->dask[complete]) (1.0.1)\n"
     ]
    }
   ],
   "source": [
    "# Install Dask as a library using the following code:\n",
    "import sys\n",
    "!{sys.executable} -m pip install \"dask[complete]\"\n",
    "\n",
    "# Dask is an additional library for Pandas that parrellizes the memory when handling dataframes, this greatly \n",
    "# speeds up the merging and other data processing."
   ]
  },
  {
   "cell_type": "code",
   "execution_count": 3,
   "metadata": {},
   "outputs": [],
   "source": [
    "# String similarity between the two fields\n",
    "def FuzzySimilarity(row):\n",
    "    address_1 = row['Name']\n",
    "    address_2 = row['Contributor']\n",
    "    fuzzy_ratio = fuzz.ratio(address_1,address_2)\n",
    "    return fuzzy_ratio"
   ]
  },
  {
   "cell_type": "code",
   "execution_count": 4,
   "metadata": {},
   "outputs": [],
   "source": [
    "# Create a new column called lastName character that has the first letter of the last name as its separate column\n",
    "\n",
    "def getLastCh(s):\n",
    "    \"s is a string of the Name/Contributor Columns of the datasets\"\n",
    "    s_list = s.split()\n",
    "    suffixes = ['jr','jr.','sr','sr.','i','ii','iii']\n",
    "\n",
    "    # remove suffixes in s_list\n",
    "    for i in reversed(range(len(s_list))):\n",
    "        if s_list[i] in suffixes:\n",
    "            s_list.pop(i)\n",
    "\n",
    "    lastName = s_list[-1]\n",
    "    firstCh = lastName[0]\n",
    "    return firstCh\n",
    "\n",
    "boston['lastNameCh'] = [getLastCh(s) for s in boston['Name']]\n",
    "police['lastNameCh'] = [getLastCh(s) for s in police['Contributor']]"
   ]
  },
  {
   "cell_type": "code",
   "execution_count": 5,
   "metadata": {},
   "outputs": [
    {
     "output_type": "stream",
     "name": "stdout",
     "text": [
      "                  Name lastNameCh\n0     joseph abasciano          a\n1     joseph abasciano          a\n2     joseph abasciano          a\n3     joseph abasciano          a\n4  ramadani abdul-aziz          a\n"
     ]
    }
   ],
   "source": [
    "print(boston[['Name','lastNameCh']].head())"
   ]
  },
  {
   "cell_type": "code",
   "execution_count": 6,
   "metadata": {},
   "outputs": [
    {
     "output_type": "stream",
     "name": "stdout",
     "text": [
      "          Contributor lastNameCh\n0  allan l ciccone jr          c\n1     linskey michael          m\n2     haffner william          w\n3      maglio matthew          m\n4       colbert donna          d\n"
     ]
    }
   ],
   "source": [
    "print(police[['Contributor', 'lastNameCh']].head())"
   ]
  },
  {
   "cell_type": "markdown",
   "metadata": {},
   "source": [
    "Things to take note of:\n",
    "\n",
    "1. Some names are entered in the incorrect format. For example, \"Gannetti, iii, Salvatore\" was instead entered as \"Gannetti, Salvatore iii\" creating a case in preprocessing to result in salvatore iii gannetti.\n",
    "2. Some suffixes have . after and others don't (i.e. jr and jr.)\n",
    "\n",
    "We removed suffixes before identifying the last name character."
   ]
  },
  {
   "cell_type": "code",
   "execution_count": 7,
   "metadata": {},
   "outputs": [],
   "source": [
    "# This program will merge thr two dataframes using their lastName characters then apply a string similarity score\n",
    "# for each row then we'll filter the string similarity value to create the final dataframe with name matches.\n",
    "\n",
    "unique_names = list(boston['lastNameCh'].unique())\n",
    "\n",
    "for name in unique_names:\n",
    "    df1_sub_zip = boston[boston['lastNameCh'] == name]\n",
    "    df2_sub_zip = police[police['lastNameCh'] == name]\n",
    "\n",
    "    df_merge = dd.merge(df1_sub_zip, df2_sub_zip, how='left', left_on='lastNameCh', right_on='lastNameCh')\n",
    "    \n",
    "    df_merge['Fuzzy Similarity'] = df_merge.apply(lambda row: FuzzySimilarity(row), axis=1)\n",
    "    \n",
    "    # You can adjust this number for a more selective fuzzy similarity merge\n",
    "    Fuzzy_Filter = df_merge[df_merge['Fuzzy Similarity'] > 85]\n",
    "    \n",
    "    title = \"Merge_df_name_\" + name + \".csv\"\n",
    "        #with ExcelWriter(title) as writer:\n",
    "    Fuzzy_Filter.to_csv(title, encoding = \"utf-8\")\n",
    "    \n",
    "\n",
    "# We write each lastName character to a CSV, this will then all be m "
   ]
  },
  {
   "cell_type": "code",
   "execution_count": 8,
   "metadata": {},
   "outputs": [
    {
     "output_type": "stream",
     "name": "stdout",
     "text": [
      "['Merge_df_name_a.csv', 'Merge_df_name_b.csv', 'Merge_df_name_c.csv', 'Merge_df_name_d.csv', 'Merge_df_name_s.csv', 'Merge_df_name_e.csv', 'Merge_df_name_f.csv', 'Merge_df_name_g.csv', 'Merge_df_name_h.csv', 'Merge_df_name_i.csv', 'Merge_df_name_j.csv', 'Merge_df_name_l.csv', 'Merge_df_name_k.csv', 'Merge_df_name_m.csv', 'Merge_df_name_n.csv', 'Merge_df_name_o.csv', 'Merge_df_name_p.csv', 'Merge_df_name_q.csv', 'Merge_df_name_r.csv', 'Merge_df_name_t.csv', 'Merge_df_name_v.csv', 'Merge_df_name_w.csv', 'Merge_df_name_x.csv', 'Merge_df_name_y.csv', 'Merge_df_name_z.csv']\n"
     ]
    }
   ],
   "source": [
    "# This will create the list\n",
    "List_of_csv_titles = []\n",
    "for name in unique_names:\n",
    "    title = \"Merge_df_name_\" + name + \".csv\"\n",
    "    List_of_csv_titles.append(title)\n",
    "print(List_of_csv_titles)"
   ]
  },
  {
   "cell_type": "code",
   "execution_count": 9,
   "metadata": {},
   "outputs": [
    {
     "output_type": "execute_result",
     "data": {
      "text/plain": [
       "   Unnamed: 0 Unnamed: 0_x                   Name            Rank   Race  \\\n",
       "0       30596         1746       john fitzpatrick  Police Officer  White   \n",
       "1       30765         1747  richard h fitzpatrick        Sergeant  White   \n",
       "2       30773         1747  richard h fitzpatrick        Sergeant  White   \n",
       "3       30801         1747  richard h fitzpatrick        Sergeant  White   \n",
       "4       30837         1747  richard h fitzpatrick        Sergeant  White   \n",
       "..        ...          ...                    ...             ...    ...   \n",
       "28     251505         4818          john k rogers  Police Officer  White   \n",
       "29     251643         4818          john k rogers  Police Officer  White   \n",
       "30     252315         4819          john k rogers  Police Officer  White   \n",
       "31     252359         4819          john k rogers  Police Officer  White   \n",
       "32     252497         4819          john k rogers  Police Officer  White   \n",
       "\n",
       "    Year        CaseID        TypeOfMisconduct Outcome lastNameCh  ...  \\\n",
       "0   2016  IAD2016-0231       Citizen complaint     NaN          f  ...   \n",
       "1   2011  IAD2011-0581       Citizen complaint     NaN          f  ...   \n",
       "2   2011  IAD2011-0581       Citizen complaint     NaN          f  ...   \n",
       "3   2011  IAD2011-0581       Citizen complaint     NaN          f  ...   \n",
       "4   2011  IAD2011-0581       Citizen complaint     NaN          f  ...   \n",
       "..   ...           ...                     ...     ...        ...  ...   \n",
       "28  2019  IAD2019-0506  Internal investigation     NaN          r  ...   \n",
       "29  2019  IAD2019-0506  Internal investigation     NaN          r  ...   \n",
       "30  2019  IAD2019-0506  Internal investigation     NaN          r  ...   \n",
       "31  2019  IAD2019-0506  Internal investigation     NaN          r  ...   \n",
       "32  2019  IAD2019-0506  Internal investigation     NaN          r  ...   \n",
       "\n",
       "             Recipient Record Type Description  Record Type ID  \\\n",
       "0   DeMaria Jr., Carlo              Individual             201   \n",
       "1         Ciommo, Mark              Individual             201   \n",
       "2         Ciommo, Mark              Individual             201   \n",
       "3         Ciommo, Mark              Individual             201   \n",
       "4         Ciommo, Mark              Individual             201   \n",
       "..                 ...                     ...             ...   \n",
       "28    Walsh, Martin J.              Individual             201   \n",
       "29    Walsh, Martin J.              Individual             201   \n",
       "30    Walsh, Martin J.              Individual             201   \n",
       "31    Walsh, Martin J.              Individual             201   \n",
       "32    Walsh, Martin J.              Individual             201   \n",
       "\n",
       "                Source Description State Tender Type Description  \\\n",
       "0   2017 Pre-election Report (MUN)    MA                     NaN   \n",
       "1          10/10/12 Deposit Report    MA                   Check   \n",
       "2            5/2/13 Deposit Report    MA                   Check   \n",
       "3           11/8/13 Deposit Report    MA                   Check   \n",
       "4          12/16/14 Deposit Report    MA                   Check   \n",
       "..                             ...   ...                     ...   \n",
       "28          10/2/17 Deposit Report    MA                   Check   \n",
       "29          12/6/19 Deposit Report    MA                   Check   \n",
       "30          3/14/17 Deposit Report    MA                   Check   \n",
       "31          10/2/17 Deposit Report    MA                   Check   \n",
       "32          12/6/19 Deposit Report    MA                   Check   \n",
       "\n",
       "   Tender Type ID                                  UUID         Zip  \\\n",
       "0               0  cc22c79d-dee8-575a-8f08-7224cac98aeb        2149   \n",
       "1               1  a343c2ab-c29f-5782-a85c-a341bb196317        2030   \n",
       "2               1  a89564d5-07a0-5752-9685-df7a3b89a73c        2030   \n",
       "3               1  f3a17c78-772a-50e4-bf62-4f33d72a0b70        2030   \n",
       "4               1  41815222-250b-50f9-b7b9-10532f0adffa        2030   \n",
       "..            ...                                   ...         ...   \n",
       "28              1  2344b24c-1e8a-5498-b1d4-cf7a49036f2e  02190-2842   \n",
       "29              1  e5cc1e53-ff05-584c-8b99-6d070c5bd5a3  02190-2842   \n",
       "30              1  6fd55787-1379-526f-a663-41eac2cd6e29  02190-2842   \n",
       "31              1  2344b24c-1e8a-5498-b1d4-cf7a49036f2e  02190-2842   \n",
       "32              1  e5cc1e53-ff05-584c-8b99-6d070c5bd5a3  02190-2842   \n",
       "\n",
       "   Fuzzy Similarity  \n",
       "0                89  \n",
       "1                86  \n",
       "2                86  \n",
       "3                86  \n",
       "4                86  \n",
       "..              ...  \n",
       "28               87  \n",
       "29               87  \n",
       "30               87  \n",
       "31               87  \n",
       "32               87  \n",
       "\n",
       "[151 rows x 31 columns]"
      ],
      "text/html": "<div>\n<style scoped>\n    .dataframe tbody tr th:only-of-type {\n        vertical-align: middle;\n    }\n\n    .dataframe tbody tr th {\n        vertical-align: top;\n    }\n\n    .dataframe thead th {\n        text-align: right;\n    }\n</style>\n<table border=\"1\" class=\"dataframe\">\n  <thead>\n    <tr style=\"text-align: right;\">\n      <th></th>\n      <th>Unnamed: 0</th>\n      <th>Unnamed: 0_x</th>\n      <th>Name</th>\n      <th>Rank</th>\n      <th>Race</th>\n      <th>Year</th>\n      <th>CaseID</th>\n      <th>TypeOfMisconduct</th>\n      <th>Outcome</th>\n      <th>lastNameCh</th>\n      <th>...</th>\n      <th>Recipient</th>\n      <th>Record Type Description</th>\n      <th>Record Type ID</th>\n      <th>Source Description</th>\n      <th>State</th>\n      <th>Tender Type Description</th>\n      <th>Tender Type ID</th>\n      <th>UUID</th>\n      <th>Zip</th>\n      <th>Fuzzy Similarity</th>\n    </tr>\n  </thead>\n  <tbody>\n    <tr>\n      <th>0</th>\n      <td>30596</td>\n      <td>1746</td>\n      <td>john fitzpatrick</td>\n      <td>Police Officer</td>\n      <td>White</td>\n      <td>2016</td>\n      <td>IAD2016-0231</td>\n      <td>Citizen complaint</td>\n      <td>NaN</td>\n      <td>f</td>\n      <td>...</td>\n      <td>DeMaria Jr., Carlo</td>\n      <td>Individual</td>\n      <td>201</td>\n      <td>2017 Pre-election Report (MUN)</td>\n      <td>MA</td>\n      <td>NaN</td>\n      <td>0</td>\n      <td>cc22c79d-dee8-575a-8f08-7224cac98aeb</td>\n      <td>2149</td>\n      <td>89</td>\n    </tr>\n    <tr>\n      <th>1</th>\n      <td>30765</td>\n      <td>1747</td>\n      <td>richard h fitzpatrick</td>\n      <td>Sergeant</td>\n      <td>White</td>\n      <td>2011</td>\n      <td>IAD2011-0581</td>\n      <td>Citizen complaint</td>\n      <td>NaN</td>\n      <td>f</td>\n      <td>...</td>\n      <td>Ciommo, Mark</td>\n      <td>Individual</td>\n      <td>201</td>\n      <td>10/10/12 Deposit Report</td>\n      <td>MA</td>\n      <td>Check</td>\n      <td>1</td>\n      <td>a343c2ab-c29f-5782-a85c-a341bb196317</td>\n      <td>2030</td>\n      <td>86</td>\n    </tr>\n    <tr>\n      <th>2</th>\n      <td>30773</td>\n      <td>1747</td>\n      <td>richard h fitzpatrick</td>\n      <td>Sergeant</td>\n      <td>White</td>\n      <td>2011</td>\n      <td>IAD2011-0581</td>\n      <td>Citizen complaint</td>\n      <td>NaN</td>\n      <td>f</td>\n      <td>...</td>\n      <td>Ciommo, Mark</td>\n      <td>Individual</td>\n      <td>201</td>\n      <td>5/2/13 Deposit Report</td>\n      <td>MA</td>\n      <td>Check</td>\n      <td>1</td>\n      <td>a89564d5-07a0-5752-9685-df7a3b89a73c</td>\n      <td>2030</td>\n      <td>86</td>\n    </tr>\n    <tr>\n      <th>3</th>\n      <td>30801</td>\n      <td>1747</td>\n      <td>richard h fitzpatrick</td>\n      <td>Sergeant</td>\n      <td>White</td>\n      <td>2011</td>\n      <td>IAD2011-0581</td>\n      <td>Citizen complaint</td>\n      <td>NaN</td>\n      <td>f</td>\n      <td>...</td>\n      <td>Ciommo, Mark</td>\n      <td>Individual</td>\n      <td>201</td>\n      <td>11/8/13 Deposit Report</td>\n      <td>MA</td>\n      <td>Check</td>\n      <td>1</td>\n      <td>f3a17c78-772a-50e4-bf62-4f33d72a0b70</td>\n      <td>2030</td>\n      <td>86</td>\n    </tr>\n    <tr>\n      <th>4</th>\n      <td>30837</td>\n      <td>1747</td>\n      <td>richard h fitzpatrick</td>\n      <td>Sergeant</td>\n      <td>White</td>\n      <td>2011</td>\n      <td>IAD2011-0581</td>\n      <td>Citizen complaint</td>\n      <td>NaN</td>\n      <td>f</td>\n      <td>...</td>\n      <td>Ciommo, Mark</td>\n      <td>Individual</td>\n      <td>201</td>\n      <td>12/16/14 Deposit Report</td>\n      <td>MA</td>\n      <td>Check</td>\n      <td>1</td>\n      <td>41815222-250b-50f9-b7b9-10532f0adffa</td>\n      <td>2030</td>\n      <td>86</td>\n    </tr>\n    <tr>\n      <th>...</th>\n      <td>...</td>\n      <td>...</td>\n      <td>...</td>\n      <td>...</td>\n      <td>...</td>\n      <td>...</td>\n      <td>...</td>\n      <td>...</td>\n      <td>...</td>\n      <td>...</td>\n      <td>...</td>\n      <td>...</td>\n      <td>...</td>\n      <td>...</td>\n      <td>...</td>\n      <td>...</td>\n      <td>...</td>\n      <td>...</td>\n      <td>...</td>\n      <td>...</td>\n      <td>...</td>\n    </tr>\n    <tr>\n      <th>28</th>\n      <td>251505</td>\n      <td>4818</td>\n      <td>john k rogers</td>\n      <td>Police Officer</td>\n      <td>White</td>\n      <td>2019</td>\n      <td>IAD2019-0506</td>\n      <td>Internal investigation</td>\n      <td>NaN</td>\n      <td>r</td>\n      <td>...</td>\n      <td>Walsh, Martin J.</td>\n      <td>Individual</td>\n      <td>201</td>\n      <td>10/2/17 Deposit Report</td>\n      <td>MA</td>\n      <td>Check</td>\n      <td>1</td>\n      <td>2344b24c-1e8a-5498-b1d4-cf7a49036f2e</td>\n      <td>02190-2842</td>\n      <td>87</td>\n    </tr>\n    <tr>\n      <th>29</th>\n      <td>251643</td>\n      <td>4818</td>\n      <td>john k rogers</td>\n      <td>Police Officer</td>\n      <td>White</td>\n      <td>2019</td>\n      <td>IAD2019-0506</td>\n      <td>Internal investigation</td>\n      <td>NaN</td>\n      <td>r</td>\n      <td>...</td>\n      <td>Walsh, Martin J.</td>\n      <td>Individual</td>\n      <td>201</td>\n      <td>12/6/19 Deposit Report</td>\n      <td>MA</td>\n      <td>Check</td>\n      <td>1</td>\n      <td>e5cc1e53-ff05-584c-8b99-6d070c5bd5a3</td>\n      <td>02190-2842</td>\n      <td>87</td>\n    </tr>\n    <tr>\n      <th>30</th>\n      <td>252315</td>\n      <td>4819</td>\n      <td>john k rogers</td>\n      <td>Police Officer</td>\n      <td>White</td>\n      <td>2019</td>\n      <td>IAD2019-0506</td>\n      <td>Internal investigation</td>\n      <td>NaN</td>\n      <td>r</td>\n      <td>...</td>\n      <td>Walsh, Martin J.</td>\n      <td>Individual</td>\n      <td>201</td>\n      <td>3/14/17 Deposit Report</td>\n      <td>MA</td>\n      <td>Check</td>\n      <td>1</td>\n      <td>6fd55787-1379-526f-a663-41eac2cd6e29</td>\n      <td>02190-2842</td>\n      <td>87</td>\n    </tr>\n    <tr>\n      <th>31</th>\n      <td>252359</td>\n      <td>4819</td>\n      <td>john k rogers</td>\n      <td>Police Officer</td>\n      <td>White</td>\n      <td>2019</td>\n      <td>IAD2019-0506</td>\n      <td>Internal investigation</td>\n      <td>NaN</td>\n      <td>r</td>\n      <td>...</td>\n      <td>Walsh, Martin J.</td>\n      <td>Individual</td>\n      <td>201</td>\n      <td>10/2/17 Deposit Report</td>\n      <td>MA</td>\n      <td>Check</td>\n      <td>1</td>\n      <td>2344b24c-1e8a-5498-b1d4-cf7a49036f2e</td>\n      <td>02190-2842</td>\n      <td>87</td>\n    </tr>\n    <tr>\n      <th>32</th>\n      <td>252497</td>\n      <td>4819</td>\n      <td>john k rogers</td>\n      <td>Police Officer</td>\n      <td>White</td>\n      <td>2019</td>\n      <td>IAD2019-0506</td>\n      <td>Internal investigation</td>\n      <td>NaN</td>\n      <td>r</td>\n      <td>...</td>\n      <td>Walsh, Martin J.</td>\n      <td>Individual</td>\n      <td>201</td>\n      <td>12/6/19 Deposit Report</td>\n      <td>MA</td>\n      <td>Check</td>\n      <td>1</td>\n      <td>e5cc1e53-ff05-584c-8b99-6d070c5bd5a3</td>\n      <td>02190-2842</td>\n      <td>87</td>\n    </tr>\n  </tbody>\n</table>\n<p>151 rows × 31 columns</p>\n</div>"
     },
     "metadata": {},
     "execution_count": 9
    }
   ],
   "source": [
    "# Merging all the batches\n",
    "\n",
    "df_merge_final = pd.DataFrame()\n",
    "for files in List_of_csv_titles:\n",
    "    data = pd.read_csv(files)\n",
    "    df_merge_final = df_merge_final.append(data)\n",
    "df_merge_final"
   ]
  },
  {
   "cell_type": "code",
   "execution_count": 10,
   "metadata": {},
   "outputs": [],
   "source": [
    "df_merge_final.to_csv(\"df_merge_final.csv\")"
   ]
  }
 ],
 "metadata": {
  "kernelspec": {
   "name": "python383jvsc74a57bd076ed1d0b8eae510739d08a60d2f0e42d7952e8200e15655b417cfa21bc070d9a",
   "display_name": "Python 3.8.3 64-bit ('base': conda)"
  },
  "language_info": {
   "codemirror_mode": {
    "name": "ipython",
    "version": 3
   },
   "file_extension": ".py",
   "mimetype": "text/x-python",
   "name": "python",
   "nbconvert_exporter": "python",
   "pygments_lexer": "ipython3",
   "version": "3.8.3-final"
  }
 },
 "nbformat": 4,
 "nbformat_minor": 2
}