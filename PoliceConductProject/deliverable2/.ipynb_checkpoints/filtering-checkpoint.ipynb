{
 "cells": [
  {
   "cell_type": "markdown",
   "metadata": {},
   "source": [
    "# Filtering\n",
    "\n",
    "**Task:** Filter the merged dataset for \"Boston Police\" under the \"Employer\" column"
   ]
  },
  {
   "cell_type": "code",
   "execution_count": 1,
   "metadata": {},
   "outputs": [],
   "source": [
    "import pandas as pd\n",
    "import numpy as np"
   ]
  },
  {
   "cell_type": "code",
   "execution_count": 2,
   "metadata": {},
   "outputs": [
    {
     "name": "stderr",
     "output_type": "stream",
     "text": [
      "/Users/rachelpeng/opt/anaconda3/lib/python3.8/site-packages/IPython/core/interactiveshell.py:3071: DtypeWarning: Columns (9,21) have mixed types.Specify dtype option on import or set low_memory=False.\n",
      "  has_raised = await self.run_ast_nodes(code_ast.body, cell_name,\n"
     ]
    }
   ],
   "source": [
    "df = pd.read_csv(\"merged.csv\")"
   ]
  },
  {
   "cell_type": "code",
   "execution_count": 3,
   "metadata": {},
   "outputs": [
    {
     "name": "stdout",
     "output_type": "stream",
     "text": [
      "['Unnamed: 0', 'Unnamed: 0.1', 'Unnamed: 0_x', 'Name', 'Rank', 'Race', 'Year', 'CaseID', 'TypeOfMisconduct', 'Outcome', 'lastNameCh', 'Unnamed: 0_y', 'Address', 'Amount', 'CPF ID', 'City', 'Contributor', 'Date', 'Datetime', 'Employer', 'Occupation', 'Principal Officer', 'Recipient', 'Record Type Description', 'Record Type ID', 'Source Description', 'State', 'Tender Type Description', 'Tender Type ID', 'UUID', 'Zip', 'Fuzzy Similarity']\n"
     ]
    }
   ],
   "source": [
    "print(list(df))"
   ]
  },
  {
   "cell_type": "code",
   "execution_count": 4,
   "metadata": {},
   "outputs": [],
   "source": [
    "df = df.drop(columns=['Unnamed: 0', 'Unnamed: 0.1', 'Unnamed: 0_x', 'Unnamed: 0_y', 'lastNameCh', 'Fuzzy Similarity'])"
   ]
  },
  {
   "cell_type": "code",
   "execution_count": 5,
   "metadata": {},
   "outputs": [
    {
     "name": "stdout",
     "output_type": "stream",
     "text": [
      "                      Name            Rank   Race  Year        CaseID  \\\n",
      "0         joseph abasciano  Police Officer  White  2011  IAD2011-0182   \n",
      "1         joseph abasciano  Police Officer  White  2011  IAD2011-0182   \n",
      "2         joseph abasciano  Police Officer  White  2011  IAD2011-0182   \n",
      "3         joseph abasciano  Police Officer  White  2011  IAD2011-0182   \n",
      "4         joseph abasciano  Police Officer  White  2011  IAD2011-0182   \n",
      "...                    ...             ...    ...   ...           ...   \n",
      "3834198  peter a zographos  Police Officer  White  2012  IAD2012-0336   \n",
      "3834199  peter a zographos  Police Officer  White  2012  IAD2012-0336   \n",
      "3834200  peter a zographos  Police Officer  White  2012  IAD2012-0336   \n",
      "3834201  peter a zographos  Police Officer  White  2012  IAD2012-0336   \n",
      "3834202  peter a zographos  Police Officer  White  2012  IAD2012-0336   \n",
      "\n",
      "          TypeOfMisconduct Outcome               Address  Amount  CPF ID  ...  \\\n",
      "0        Citizen complaint     NaN      15 Hanover Court  100.00   14482  ...   \n",
      "1        Citizen complaint     NaN         56 PARSONS ST   50.00   13237  ...   \n",
      "2        Citizen complaint     NaN        158 CYPRESS ST  500.00   13239  ...   \n",
      "3        Citizen complaint     NaN    15 HAMILTON AVENUE  100.00   15122  ...   \n",
      "4        Citizen complaint     NaN      15 Hanover Court  100.00   14482  ...   \n",
      "...                    ...     ...                   ...     ...     ...  ...   \n",
      "3834198  Citizen complaint     NaN     55 Angelica Drive   94.25   15838  ...   \n",
      "3834199  Citizen complaint     NaN  169 N. Quincy Street  250.00   16146  ...   \n",
      "3834200  Citizen complaint     NaN     55 Angelica Drive  100.00   15838  ...   \n",
      "3834201  Citizen complaint     NaN     55 Angelica Drive   20.00   15838  ...   \n",
      "3834202  Citizen complaint     NaN       11 Elizabeth Dr  100.00   12832  ...   \n",
      "\n",
      "        Principal Officer                 Recipient Record Type Description  \\\n",
      "0                     NaN         Sutter, C. Samuel              Individual   \n",
      "1                     NaN           Balser, Ruth B.              Individual   \n",
      "2                     NaN         Flaherty, Timothy              Individual   \n",
      "3                     NaN     Doherty, Christian L.              Individual   \n",
      "4                     NaN         Sutter, C. Samuel              Individual   \n",
      "...                   ...                       ...                     ...   \n",
      "3834198               NaN  Gulluni, Anthony Domenic              Individual   \n",
      "3834199               NaN               Liang, Nina              Individual   \n",
      "3834200               NaN  Gulluni, Anthony Domenic              Individual   \n",
      "3834201               NaN  Gulluni, Anthony Domenic              Individual   \n",
      "3834202               NaN       Naughton, Harold P.              Individual   \n",
      "\n",
      "        Record Type ID                       Source Description State  \\\n",
      "0                  201                   2/20/10 Deposit Report    MA   \n",
      "1                  201             2010 Pre-primary Report (ND)    MA   \n",
      "2                  201  2010 Pre-election Report (Special) (ND)    MA   \n",
      "3                  201             2010 Pre-primary Report (ND)    MA   \n",
      "4                  201                   5/19/10 Deposit Report    MA   \n",
      "...                ...                                      ...   ...   \n",
      "3834198            201                    9/9/14 Deposit Report    MA   \n",
      "3834199            201                  10/23/15 Deposit Report    MA   \n",
      "3834200            201                   8/30/17 Deposit Report    MA   \n",
      "3834201            201                   3/27/18 Deposit Report    MA   \n",
      "3834202            201                  2018 Pre-Primary Report    MA   \n",
      "\n",
      "        Tender Type Description Tender Type ID  \\\n",
      "0                         Check              1   \n",
      "1                 Not Specified              0   \n",
      "2                 Not Specified              0   \n",
      "3                 Not Specified              0   \n",
      "4                         Check              1   \n",
      "...                         ...            ...   \n",
      "3834198             Credit Card              3   \n",
      "3834199                   Check              1   \n",
      "3834200                   Check              1   \n",
      "3834201                    Cash              6   \n",
      "3834202           Not Specified              0   \n",
      "\n",
      "                                         UUID         Zip  \n",
      "0        5eace80d-8740-5505-a230-0a72e2d82f2f       02747  \n",
      "1        1e50a41f-6ff1-5f55-8183-7e3d65da5559   024652136  \n",
      "2        66aea717-06fa-51f5-9b80-e9f1d39f6ec0       02445  \n",
      "3        b65bd67b-89a2-5914-b314-4c3856229a4a  01830-3357  \n",
      "4        a87aa7f5-d163-522c-a8a1-75eca93fb2de       02747  \n",
      "...                                       ...         ...  \n",
      "3834198  67cae092-688c-55d8-9d21-c7b3094b0af6       01129  \n",
      "3834199  c9e0aa38-6d7c-5aff-9f22-acf054e7e241       02351  \n",
      "3834200  287c4aa2-4408-5ad9-ae97-e1cdcab22a73       01129  \n",
      "3834201  e14ad1ae-4132-51e3-9dd7-c555754af1e5       01129  \n",
      "3834202  7c549db8-e28d-5337-ac0a-838784113c9f       01501  \n",
      "\n",
      "[3834203 rows x 26 columns]\n"
     ]
    }
   ],
   "source": [
    "print(df)"
   ]
  },
  {
   "cell_type": "code",
   "execution_count": 6,
   "metadata": {},
   "outputs": [],
   "source": [
    "df = df.loc[df['Employer'] == 'Boston Police']"
   ]
  },
  {
   "cell_type": "code",
   "execution_count": 7,
   "metadata": {},
   "outputs": [],
   "source": [
    "df.to_csv(\"filtered.csv\")"
   ]
  }
 ],
 "metadata": {
  "kernelspec": {
   "display_name": "Python 3",
   "language": "python",
   "name": "python3"
  },
  "language_info": {
   "codemirror_mode": {
    "name": "ipython",
    "version": 3
   },
   "file_extension": ".py",
   "mimetype": "text/x-python",
   "name": "python",
   "nbconvert_exporter": "python",
   "pygments_lexer": "ipython3",
   "version": "3.7.4"
  }
 },
 "nbformat": 4,
 "nbformat_minor": 2
}
