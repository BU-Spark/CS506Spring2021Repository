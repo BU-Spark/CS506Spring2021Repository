{
 "cells": [
  {
   "cell_type": "markdown",
   "metadata": {},
   "source": [
    "### Task\n",
    "Overlay the LEAD police blacklist officers onto the merged dataset from previous step using officer name. This will add another 54 BPD officers to our dataset."
   ]
  },
  {
   "cell_type": "code",
   "execution_count": 1,
   "metadata": {},
   "outputs": [],
   "source": [
    "import pandas as pd\n",
    "import numpy as np\n",
    "\n",
    "LEAD = pd.read_csv(\"Suffolk County DA LEAD.csv\")"
   ]
  },
  {
   "cell_type": "code",
   "execution_count": 2,
   "metadata": {},
   "outputs": [
    {
     "output_type": "execute_result",
     "data": {
      "text/plain": [
       "                   NAME DATE ADDED  AGENCY                       STATUS  \\\n",
       "0           ADAMS, John  9/25/2020     MSP                  Disciplined   \n",
       "1         AMARO, Carlos  5/23/2014  Revere  Resigned (on previous LEAD)   \n",
       "2    ANDERSON, Susan J.  9/25/2020     MSP                       Public   \n",
       "3        ANDRADE, David  9/25/2020     MSP                     Indicted   \n",
       "4           ARONE, JOHN  9/25/2020     MSP                       Public   \n",
       "..                  ...        ...     ...                          ...   \n",
       "131     WALSH, Emmet T.  9/25/2020     BPD                       Public   \n",
       "132   WARREN, Robert G.  9/25/2020     BPD                    Sustained   \n",
       "133    WILSON, David W.  9/25/2020     MSP                   Conviction   \n",
       "134    WOODLEY, William  9/25/2020     BPD                         CWOF   \n",
       "135      WOSNY, John S.  9/25/2020     MSP                       Public   \n",
       "\n",
       "                      INFORMATION REGARDING LEAD ENTRY  \n",
       "0    Time & attendance/overtime investigation. Bost...  \n",
       "1    Larceny: Theft during execution of search warr...  \n",
       "2    Norfolk County District Attorney Brady/Giglio ...  \n",
       "3    Larceny, public employee standards of conduct ...  \n",
       "4    Middlesex County District Attorney Brady/Gigli...  \n",
       "..                                                 ...  \n",
       "131  BPD internal investigation (conformance to law...  \n",
       "132  BPD internal investigation (conformance to law...  \n",
       "133  Embezzlement. USAO and AGO investigation/prose...  \n",
       "134  Larceny: Time & attendance/overtime. SCDAO inv...  \n",
       "135  Norfolk County District Attorney Brady/Giglio ...  \n",
       "\n",
       "[136 rows x 5 columns]"
      ],
      "text/html": "<div>\n<style scoped>\n    .dataframe tbody tr th:only-of-type {\n        vertical-align: middle;\n    }\n\n    .dataframe tbody tr th {\n        vertical-align: top;\n    }\n\n    .dataframe thead th {\n        text-align: right;\n    }\n</style>\n<table border=\"1\" class=\"dataframe\">\n  <thead>\n    <tr style=\"text-align: right;\">\n      <th></th>\n      <th>NAME</th>\n      <th>DATE ADDED</th>\n      <th>AGENCY</th>\n      <th>STATUS</th>\n      <th>INFORMATION REGARDING LEAD ENTRY</th>\n    </tr>\n  </thead>\n  <tbody>\n    <tr>\n      <th>0</th>\n      <td>ADAMS, John</td>\n      <td>9/25/2020</td>\n      <td>MSP</td>\n      <td>Disciplined</td>\n      <td>Time &amp; attendance/overtime investigation. Bost...</td>\n    </tr>\n    <tr>\n      <th>1</th>\n      <td>AMARO, Carlos</td>\n      <td>5/23/2014</td>\n      <td>Revere</td>\n      <td>Resigned (on previous LEAD)</td>\n      <td>Larceny: Theft during execution of search warr...</td>\n    </tr>\n    <tr>\n      <th>2</th>\n      <td>ANDERSON, Susan J.</td>\n      <td>9/25/2020</td>\n      <td>MSP</td>\n      <td>Public</td>\n      <td>Norfolk County District Attorney Brady/Giglio ...</td>\n    </tr>\n    <tr>\n      <th>3</th>\n      <td>ANDRADE, David</td>\n      <td>9/25/2020</td>\n      <td>MSP</td>\n      <td>Indicted</td>\n      <td>Larceny, public employee standards of conduct ...</td>\n    </tr>\n    <tr>\n      <th>4</th>\n      <td>ARONE, JOHN</td>\n      <td>9/25/2020</td>\n      <td>MSP</td>\n      <td>Public</td>\n      <td>Middlesex County District Attorney Brady/Gigli...</td>\n    </tr>\n    <tr>\n      <th>...</th>\n      <td>...</td>\n      <td>...</td>\n      <td>...</td>\n      <td>...</td>\n      <td>...</td>\n    </tr>\n    <tr>\n      <th>131</th>\n      <td>WALSH, Emmet T.</td>\n      <td>9/25/2020</td>\n      <td>BPD</td>\n      <td>Public</td>\n      <td>BPD internal investigation (conformance to law...</td>\n    </tr>\n    <tr>\n      <th>132</th>\n      <td>WARREN, Robert G.</td>\n      <td>9/25/2020</td>\n      <td>BPD</td>\n      <td>Sustained</td>\n      <td>BPD internal investigation (conformance to law...</td>\n    </tr>\n    <tr>\n      <th>133</th>\n      <td>WILSON, David W.</td>\n      <td>9/25/2020</td>\n      <td>MSP</td>\n      <td>Conviction</td>\n      <td>Embezzlement. USAO and AGO investigation/prose...</td>\n    </tr>\n    <tr>\n      <th>134</th>\n      <td>WOODLEY, William</td>\n      <td>9/25/2020</td>\n      <td>BPD</td>\n      <td>CWOF</td>\n      <td>Larceny: Time &amp; attendance/overtime. SCDAO inv...</td>\n    </tr>\n    <tr>\n      <th>135</th>\n      <td>WOSNY, John S.</td>\n      <td>9/25/2020</td>\n      <td>MSP</td>\n      <td>Public</td>\n      <td>Norfolk County District Attorney Brady/Giglio ...</td>\n    </tr>\n  </tbody>\n</table>\n<p>136 rows × 5 columns</p>\n</div>"
     },
     "metadata": {},
     "execution_count": 2
    }
   ],
   "source": [
    "LEAD"
   ]
  },
  {
   "cell_type": "code",
   "execution_count": 3,
   "metadata": {},
   "outputs": [
    {
     "output_type": "execute_result",
     "data": {
      "text/plain": [
       "'paul e. higgins jr.'"
      ]
     },
     "metadata": {},
     "execution_count": 3
    }
   ],
   "source": [
    "def fixname(name):\n",
    "    name = name.lower()\n",
    "    name = name.split(\",\")\n",
    "    for i in range(len(name)):\n",
    "        name[i] = name[i].strip()\n",
    "    if len(name) == 2:\n",
    "        return name[1] + ' ' + name[0]\n",
    "    if len(name) == 3:\n",
    "        return name[1] + ' ' + name[2] + ' ' + name[0]\n",
    "    else:\n",
    "        return name\n",
    "    \n",
    "fixname(LEAD['NAME'][57])"
   ]
  },
  {
   "cell_type": "code",
   "execution_count": 4,
   "metadata": {},
   "outputs": [
    {
     "output_type": "execute_result",
     "data": {
      "text/plain": [
       "                  NAME DATE ADDED  AGENCY                       STATUS  \\\n",
       "0           john adams  9/25/2020     MSP                  Disciplined   \n",
       "1         carlos amaro  5/23/2014  Revere  Resigned (on previous LEAD)   \n",
       "2    susan j. anderson  9/25/2020     MSP                       Public   \n",
       "3        david andrade  9/25/2020     MSP                     Indicted   \n",
       "4           john arone  9/25/2020     MSP                       Public   \n",
       "..                 ...        ...     ...                          ...   \n",
       "131     emmet t. walsh  9/25/2020     BPD                       Public   \n",
       "132   robert g. warren  9/25/2020     BPD                    Sustained   \n",
       "133    david w. wilson  9/25/2020     MSP                   Conviction   \n",
       "134    william woodley  9/25/2020     BPD                         CWOF   \n",
       "135      john s. wosny  9/25/2020     MSP                       Public   \n",
       "\n",
       "                      INFORMATION REGARDING LEAD ENTRY  \n",
       "0    Time & attendance/overtime investigation. Bost...  \n",
       "1    Larceny: Theft during execution of search warr...  \n",
       "2    Norfolk County District Attorney Brady/Giglio ...  \n",
       "3    Larceny, public employee standards of conduct ...  \n",
       "4    Middlesex County District Attorney Brady/Gigli...  \n",
       "..                                                 ...  \n",
       "131  BPD internal investigation (conformance to law...  \n",
       "132  BPD internal investigation (conformance to law...  \n",
       "133  Embezzlement. USAO and AGO investigation/prose...  \n",
       "134  Larceny: Time & attendance/overtime. SCDAO inv...  \n",
       "135  Norfolk County District Attorney Brady/Giglio ...  \n",
       "\n",
       "[136 rows x 5 columns]"
      ],
      "text/html": "<div>\n<style scoped>\n    .dataframe tbody tr th:only-of-type {\n        vertical-align: middle;\n    }\n\n    .dataframe tbody tr th {\n        vertical-align: top;\n    }\n\n    .dataframe thead th {\n        text-align: right;\n    }\n</style>\n<table border=\"1\" class=\"dataframe\">\n  <thead>\n    <tr style=\"text-align: right;\">\n      <th></th>\n      <th>NAME</th>\n      <th>DATE ADDED</th>\n      <th>AGENCY</th>\n      <th>STATUS</th>\n      <th>INFORMATION REGARDING LEAD ENTRY</th>\n    </tr>\n  </thead>\n  <tbody>\n    <tr>\n      <th>0</th>\n      <td>john adams</td>\n      <td>9/25/2020</td>\n      <td>MSP</td>\n      <td>Disciplined</td>\n      <td>Time &amp; attendance/overtime investigation. Bost...</td>\n    </tr>\n    <tr>\n      <th>1</th>\n      <td>carlos amaro</td>\n      <td>5/23/2014</td>\n      <td>Revere</td>\n      <td>Resigned (on previous LEAD)</td>\n      <td>Larceny: Theft during execution of search warr...</td>\n    </tr>\n    <tr>\n      <th>2</th>\n      <td>susan j. anderson</td>\n      <td>9/25/2020</td>\n      <td>MSP</td>\n      <td>Public</td>\n      <td>Norfolk County District Attorney Brady/Giglio ...</td>\n    </tr>\n    <tr>\n      <th>3</th>\n      <td>david andrade</td>\n      <td>9/25/2020</td>\n      <td>MSP</td>\n      <td>Indicted</td>\n      <td>Larceny, public employee standards of conduct ...</td>\n    </tr>\n    <tr>\n      <th>4</th>\n      <td>john arone</td>\n      <td>9/25/2020</td>\n      <td>MSP</td>\n      <td>Public</td>\n      <td>Middlesex County District Attorney Brady/Gigli...</td>\n    </tr>\n    <tr>\n      <th>...</th>\n      <td>...</td>\n      <td>...</td>\n      <td>...</td>\n      <td>...</td>\n      <td>...</td>\n    </tr>\n    <tr>\n      <th>131</th>\n      <td>emmet t. walsh</td>\n      <td>9/25/2020</td>\n      <td>BPD</td>\n      <td>Public</td>\n      <td>BPD internal investigation (conformance to law...</td>\n    </tr>\n    <tr>\n      <th>132</th>\n      <td>robert g. warren</td>\n      <td>9/25/2020</td>\n      <td>BPD</td>\n      <td>Sustained</td>\n      <td>BPD internal investigation (conformance to law...</td>\n    </tr>\n    <tr>\n      <th>133</th>\n      <td>david w. wilson</td>\n      <td>9/25/2020</td>\n      <td>MSP</td>\n      <td>Conviction</td>\n      <td>Embezzlement. USAO and AGO investigation/prose...</td>\n    </tr>\n    <tr>\n      <th>134</th>\n      <td>william woodley</td>\n      <td>9/25/2020</td>\n      <td>BPD</td>\n      <td>CWOF</td>\n      <td>Larceny: Time &amp; attendance/overtime. SCDAO inv...</td>\n    </tr>\n    <tr>\n      <th>135</th>\n      <td>john s. wosny</td>\n      <td>9/25/2020</td>\n      <td>MSP</td>\n      <td>Public</td>\n      <td>Norfolk County District Attorney Brady/Giglio ...</td>\n    </tr>\n  </tbody>\n</table>\n<p>136 rows × 5 columns</p>\n</div>"
     },
     "metadata": {},
     "execution_count": 4
    }
   ],
   "source": [
    "names = LEAD['NAME'].apply(fixname)\n",
    "LEAD['NAME'] = names\n",
    "LEAD"
   ]
  },
  {
   "cell_type": "code",
   "execution_count": 5,
   "metadata": {},
   "outputs": [
    {
     "output_type": "execute_result",
     "data": {
      "text/plain": [
       "                         NAME  DATE ADDED AGENCY  \\\n",
       "7            dorston bartlett   9/25/2020    BPD   \n",
       "12            leonard f brown   9/25/2020    BPD   \n",
       "13          grant e callender   9/25/2020    BPD   \n",
       "15               james carnes   9/25/2020    BPD   \n",
       "19                james clark   6/14/2017    BPD   \n",
       "21            domenic columbo   9/25/2020    BPD   \n",
       "22              kendra conway   9/25/2020    BPD   \n",
       "24         christopher curtis   9/25/2020    BPD   \n",
       "25             john danilecki   9/25/2020    BPD   \n",
       "27         mila depina-cooley   6/19/2017    BPD   \n",
       "28                 edgar diaz   9/25/2020    BPD   \n",
       "29              henry doherty   9/25/2020    BPD   \n",
       "30            michael doherty   9/25/2020    BPD   \n",
       "31             david finnerty   9/25/2020    BPD   \n",
       "32          paul a fitzgerald   9/25/2020    BPD   \n",
       "36             sandro fonseca   9/25/2020    BPD   \n",
       "38             korey franklin   9/25/2020    BPD   \n",
       "49    anthony handleman-smith   9/25/2020    BPD   \n",
       "54        alexis herrera-brea   9/25/2020    BPD   \n",
       "55              jarrett hesse   9/25/2020    BPD   \n",
       "60           trent w. holland   9/25/2020    BPD   \n",
       "62              haseeb hosein   9/25/2020    BPD   \n",
       "73                jovan lacet   9/25/2020    BPD   \n",
       "75                diana lopez   9/25/2020    BPD   \n",
       "76           michael lopriore   9/25/2020    BPD   \n",
       "77               joseph lynch   9/25/2020    BPD   \n",
       "80       frederick g. marzano   9/25/2020    BPD   \n",
       "82        patrick j. mccarthy   9/25/2020    BPD   \n",
       "84        patricia mcgoldrick   9/25/2020    BPD   \n",
       "87   angela mitchell-williams   9/25/2020    BPD   \n",
       "88           richard moriarty   9/18/2018    BPD   \n",
       "91             michael murphy   9/25/2020    BPD   \n",
       "92                 joseph nee   9/25/2020    BPD   \n",
       "93              ronald nelson   9/25/2020    BPD   \n",
       "94             gerard o'brien   9/25/2020    BPD   \n",
       "96                eddie odney   6/19/2017    BPD   \n",
       "97           dale t o'donnell   9/25/2020    BPD   \n",
       "100               kenny orcel   9/25/2020    BPD   \n",
       "103        junior a. phillips   9/25/2020    BPD   \n",
       "110      william j. robertson   9/25/2020    BPD   \n",
       "112              patrick rose    9/25/202    BPD   \n",
       "113       daniel j. rosenthal   9/25/2020    BPD   \n",
       "115         vaden scantlebury   9/25/2020    BPD   \n",
       "117          brian smigielski   10/5/2015    BPD   \n",
       "118                mel steele  10/17/2014    BPD   \n",
       "119           monicka stinson   9/25/2020    BPD   \n",
       "120           ryan p sullivan   9/25/2020    BPD   \n",
       "127          timothy torigian   9/25/2020    BPD   \n",
       "128            robert m tully   9/25/2020    BPD   \n",
       "129          robert twitchell   9/25/2020    BPD   \n",
       "130                royce veal   9/25/2020    BPD   \n",
       "131            emmet t. walsh   9/25/2020    BPD   \n",
       "132          robert g. warren   9/25/2020    BPD   \n",
       "134           william woodley   9/25/2020    BPD   \n",
       "\n",
       "                             STATUS  \\\n",
       "7                          Indicted   \n",
       "12                        Sustained   \n",
       "13                        Sustained   \n",
       "15                         Indicted   \n",
       "19                   No Prosecution   \n",
       "21                         Indicted   \n",
       "22                         Indicted   \n",
       "24                         Indicted   \n",
       "25                           Public   \n",
       "27                         Indicted   \n",
       "28                        Sustained   \n",
       "29                         Indicted   \n",
       "30                       Conviction   \n",
       "31                         Indicted   \n",
       "32                        Sustained   \n",
       "36                             CWOF   \n",
       "38                         Indicted   \n",
       "49                        Sustained   \n",
       "54   Criminal Complaint - Arraigned   \n",
       "55                        Sustained   \n",
       "60                            Filed   \n",
       "62                        Sustained   \n",
       "73                       Terminated   \n",
       "75                         Indicted   \n",
       "76                             CWOF   \n",
       "77               Open Investigation   \n",
       "80                           Public   \n",
       "82                        Sustained   \n",
       "84                        Sustained   \n",
       "87                             CWOF   \n",
       "88                      Discredited   \n",
       "91                         Indicted   \n",
       "92                             CWOF   \n",
       "93                         Indicted   \n",
       "94                         Indicted   \n",
       "96                       Conviction   \n",
       "97                            Filed   \n",
       "100            Indicted (Nol Pros.)   \n",
       "103                       Sustained   \n",
       "110                       Sustained   \n",
       "112  Criminal Complaint - Arraigned   \n",
       "113                           Filed   \n",
       "115              Open Investigation   \n",
       "117                      Conviction   \n",
       "118                      Conviction   \n",
       "119                        Indicted   \n",
       "120                       Sustained   \n",
       "127                        Indicted   \n",
       "128                       Sustained   \n",
       "129                        Indicted   \n",
       "130                       Sustained   \n",
       "131                          Public   \n",
       "132                       Sustained   \n",
       "134                            CWOF   \n",
       "\n",
       "                      INFORMATION REGARDING LEAD ENTRY  \n",
       "7    ABDW, False Police Report. Retired. SCDAO inve...  \n",
       "12   BPD internal investigation (conformance to law...  \n",
       "13   BPD internal investigation (conformance to law...  \n",
       "15   Conspiracy/embezzlement: Time & attendance. US...  \n",
       "19   Alleged Forgery/Uttering. Reported to BPD IAD ...  \n",
       "21   OUI-Serious Bodily Injury. SCDAO investigation...  \n",
       "22   Conspiracy/embezzlement: Time & attendance. US...  \n",
       "24   Witness intimidation, False Report, CORI Viola...  \n",
       "25   Open BPD Internal Affairs investigations. Bost...  \n",
       "27   Receiving stolen merchandise. SCDAO investigat...  \n",
       "28   BPD internal investigation (3 counts of confor...  \n",
       "29   Conspiracy/embezzlement: Time & attendance. US...  \n",
       "30   AB (2 counts), AB to Intimidate, Use without A...  \n",
       "31   Accessory After ABDW, Filing False Police Repo...  \n",
       "32   BPD internal investigation (conformance to law...  \n",
       "36   Assault with a dangerous weapon, carrying a fi...  \n",
       "38   Misleading Investigators. SCDAO investigation/...  \n",
       "49   BPD internal investigation (conformance to law...  \n",
       "54   ABDW Family Member. SCDAO investigation/prosec...  \n",
       "55   Resigned during the pendancy of a 2017 BPD int...  \n",
       "60   BPD internal investigation (allegation conform...  \n",
       "62   Internal Affairs investigation alleged corrupt...  \n",
       "73   Alleged perjury. BPD Spokesperson confirmed te...  \n",
       "75   Conspiracy/embezzlement: Time & attendance. US...  \n",
       "76   Larceny. SCDAO investigation/prosecution. CWOF...  \n",
       "77   Alleged racial slurs (09/13/2019 noise complai...  \n",
       "80   BPD internal investigation (conformance to law...  \n",
       "82   BPD internal investigation (conformance to law...  \n",
       "84   BPD internal investigation (conformance to law...  \n",
       "87   Improper firearm storage. SCDAO investigation/...  \n",
       "88   Motion To Suppress (Judge Mary Ames Suffolk Su...  \n",
       "91   Conspiracy/embezzlement: Time & attendance. US...  \n",
       "92   Larceny, money laundering. Joint investigation...  \n",
       "93   Conspiracy/embezzlement: Time & attendance. US...  \n",
       "94   Conspiracy/embezzlement: Time & attendance. US...  \n",
       "96   Access device fraud. USAO investigation/prosec...  \n",
       "97   BPD internal investigation (allegation conform...  \n",
       "100  Accessory After ABDW, Filing False Police Repo...  \n",
       "103  BPD internal investigation (conformance to law...  \n",
       "110  BPD internal investigation (conformance to law...  \n",
       "112  Aggravated Rape of Child, Rape of Child. SCDAO...  \n",
       "113  BPD internal investigation (allegation conform...  \n",
       "115  Alleged ABDW, Witness Intimidation, Perjury. S...  \n",
       "117  USAO investigation/prosecution. Guilty plea. S...  \n",
       "118  USAO investigation/prosecution. Guilty plea. S...  \n",
       "119  Witness intimidation. SCDAO investigation/pros...  \n",
       "120  BPD internal investigation (conformance to law...  \n",
       "127  Conspiracy/embezzlement: Time & attendance. US...  \n",
       "128  BPD internal investigation (conformance to law...  \n",
       "129  Conspiracy/embezzlement: Time & attendance. US...  \n",
       "130  BPD internal investigation (conformance to law...  \n",
       "131  BPD internal investigation (conformance to law...  \n",
       "132  BPD internal investigation (conformance to law...  \n",
       "134  Larceny: Time & attendance/overtime. SCDAO inv...  "
      ],
      "text/html": "<div>\n<style scoped>\n    .dataframe tbody tr th:only-of-type {\n        vertical-align: middle;\n    }\n\n    .dataframe tbody tr th {\n        vertical-align: top;\n    }\n\n    .dataframe thead th {\n        text-align: right;\n    }\n</style>\n<table border=\"1\" class=\"dataframe\">\n  <thead>\n    <tr style=\"text-align: right;\">\n      <th></th>\n      <th>NAME</th>\n      <th>DATE ADDED</th>\n      <th>AGENCY</th>\n      <th>STATUS</th>\n      <th>INFORMATION REGARDING LEAD ENTRY</th>\n    </tr>\n  </thead>\n  <tbody>\n    <tr>\n      <th>7</th>\n      <td>dorston bartlett</td>\n      <td>9/25/2020</td>\n      <td>BPD</td>\n      <td>Indicted</td>\n      <td>ABDW, False Police Report. Retired. SCDAO inve...</td>\n    </tr>\n    <tr>\n      <th>12</th>\n      <td>leonard f brown</td>\n      <td>9/25/2020</td>\n      <td>BPD</td>\n      <td>Sustained</td>\n      <td>BPD internal investigation (conformance to law...</td>\n    </tr>\n    <tr>\n      <th>13</th>\n      <td>grant e callender</td>\n      <td>9/25/2020</td>\n      <td>BPD</td>\n      <td>Sustained</td>\n      <td>BPD internal investigation (conformance to law...</td>\n    </tr>\n    <tr>\n      <th>15</th>\n      <td>james carnes</td>\n      <td>9/25/2020</td>\n      <td>BPD</td>\n      <td>Indicted</td>\n      <td>Conspiracy/embezzlement: Time &amp; attendance. US...</td>\n    </tr>\n    <tr>\n      <th>19</th>\n      <td>james clark</td>\n      <td>6/14/2017</td>\n      <td>BPD</td>\n      <td>No Prosecution</td>\n      <td>Alleged Forgery/Uttering. Reported to BPD IAD ...</td>\n    </tr>\n    <tr>\n      <th>21</th>\n      <td>domenic columbo</td>\n      <td>9/25/2020</td>\n      <td>BPD</td>\n      <td>Indicted</td>\n      <td>OUI-Serious Bodily Injury. SCDAO investigation...</td>\n    </tr>\n    <tr>\n      <th>22</th>\n      <td>kendra conway</td>\n      <td>9/25/2020</td>\n      <td>BPD</td>\n      <td>Indicted</td>\n      <td>Conspiracy/embezzlement: Time &amp; attendance. US...</td>\n    </tr>\n    <tr>\n      <th>24</th>\n      <td>christopher curtis</td>\n      <td>9/25/2020</td>\n      <td>BPD</td>\n      <td>Indicted</td>\n      <td>Witness intimidation, False Report, CORI Viola...</td>\n    </tr>\n    <tr>\n      <th>25</th>\n      <td>john danilecki</td>\n      <td>9/25/2020</td>\n      <td>BPD</td>\n      <td>Public</td>\n      <td>Open BPD Internal Affairs investigations. Bost...</td>\n    </tr>\n    <tr>\n      <th>27</th>\n      <td>mila depina-cooley</td>\n      <td>6/19/2017</td>\n      <td>BPD</td>\n      <td>Indicted</td>\n      <td>Receiving stolen merchandise. SCDAO investigat...</td>\n    </tr>\n    <tr>\n      <th>28</th>\n      <td>edgar diaz</td>\n      <td>9/25/2020</td>\n      <td>BPD</td>\n      <td>Sustained</td>\n      <td>BPD internal investigation (3 counts of confor...</td>\n    </tr>\n    <tr>\n      <th>29</th>\n      <td>henry doherty</td>\n      <td>9/25/2020</td>\n      <td>BPD</td>\n      <td>Indicted</td>\n      <td>Conspiracy/embezzlement: Time &amp; attendance. US...</td>\n    </tr>\n    <tr>\n      <th>30</th>\n      <td>michael doherty</td>\n      <td>9/25/2020</td>\n      <td>BPD</td>\n      <td>Conviction</td>\n      <td>AB (2 counts), AB to Intimidate, Use without A...</td>\n    </tr>\n    <tr>\n      <th>31</th>\n      <td>david finnerty</td>\n      <td>9/25/2020</td>\n      <td>BPD</td>\n      <td>Indicted</td>\n      <td>Accessory After ABDW, Filing False Police Repo...</td>\n    </tr>\n    <tr>\n      <th>32</th>\n      <td>paul a fitzgerald</td>\n      <td>9/25/2020</td>\n      <td>BPD</td>\n      <td>Sustained</td>\n      <td>BPD internal investigation (conformance to law...</td>\n    </tr>\n    <tr>\n      <th>36</th>\n      <td>sandro fonseca</td>\n      <td>9/25/2020</td>\n      <td>BPD</td>\n      <td>CWOF</td>\n      <td>Assault with a dangerous weapon, carrying a fi...</td>\n    </tr>\n    <tr>\n      <th>38</th>\n      <td>korey franklin</td>\n      <td>9/25/2020</td>\n      <td>BPD</td>\n      <td>Indicted</td>\n      <td>Misleading Investigators. SCDAO investigation/...</td>\n    </tr>\n    <tr>\n      <th>49</th>\n      <td>anthony handleman-smith</td>\n      <td>9/25/2020</td>\n      <td>BPD</td>\n      <td>Sustained</td>\n      <td>BPD internal investigation (conformance to law...</td>\n    </tr>\n    <tr>\n      <th>54</th>\n      <td>alexis herrera-brea</td>\n      <td>9/25/2020</td>\n      <td>BPD</td>\n      <td>Criminal Complaint - Arraigned</td>\n      <td>ABDW Family Member. SCDAO investigation/prosec...</td>\n    </tr>\n    <tr>\n      <th>55</th>\n      <td>jarrett hesse</td>\n      <td>9/25/2020</td>\n      <td>BPD</td>\n      <td>Sustained</td>\n      <td>Resigned during the pendancy of a 2017 BPD int...</td>\n    </tr>\n    <tr>\n      <th>60</th>\n      <td>trent w. holland</td>\n      <td>9/25/2020</td>\n      <td>BPD</td>\n      <td>Filed</td>\n      <td>BPD internal investigation (allegation conform...</td>\n    </tr>\n    <tr>\n      <th>62</th>\n      <td>haseeb hosein</td>\n      <td>9/25/2020</td>\n      <td>BPD</td>\n      <td>Sustained</td>\n      <td>Internal Affairs investigation alleged corrupt...</td>\n    </tr>\n    <tr>\n      <th>73</th>\n      <td>jovan lacet</td>\n      <td>9/25/2020</td>\n      <td>BPD</td>\n      <td>Terminated</td>\n      <td>Alleged perjury. BPD Spokesperson confirmed te...</td>\n    </tr>\n    <tr>\n      <th>75</th>\n      <td>diana lopez</td>\n      <td>9/25/2020</td>\n      <td>BPD</td>\n      <td>Indicted</td>\n      <td>Conspiracy/embezzlement: Time &amp; attendance. US...</td>\n    </tr>\n    <tr>\n      <th>76</th>\n      <td>michael lopriore</td>\n      <td>9/25/2020</td>\n      <td>BPD</td>\n      <td>CWOF</td>\n      <td>Larceny. SCDAO investigation/prosecution. CWOF...</td>\n    </tr>\n    <tr>\n      <th>77</th>\n      <td>joseph lynch</td>\n      <td>9/25/2020</td>\n      <td>BPD</td>\n      <td>Open Investigation</td>\n      <td>Alleged racial slurs (09/13/2019 noise complai...</td>\n    </tr>\n    <tr>\n      <th>80</th>\n      <td>frederick g. marzano</td>\n      <td>9/25/2020</td>\n      <td>BPD</td>\n      <td>Public</td>\n      <td>BPD internal investigation (conformance to law...</td>\n    </tr>\n    <tr>\n      <th>82</th>\n      <td>patrick j. mccarthy</td>\n      <td>9/25/2020</td>\n      <td>BPD</td>\n      <td>Sustained</td>\n      <td>BPD internal investigation (conformance to law...</td>\n    </tr>\n    <tr>\n      <th>84</th>\n      <td>patricia mcgoldrick</td>\n      <td>9/25/2020</td>\n      <td>BPD</td>\n      <td>Sustained</td>\n      <td>BPD internal investigation (conformance to law...</td>\n    </tr>\n    <tr>\n      <th>87</th>\n      <td>angela mitchell-williams</td>\n      <td>9/25/2020</td>\n      <td>BPD</td>\n      <td>CWOF</td>\n      <td>Improper firearm storage. SCDAO investigation/...</td>\n    </tr>\n    <tr>\n      <th>88</th>\n      <td>richard moriarty</td>\n      <td>9/18/2018</td>\n      <td>BPD</td>\n      <td>Discredited</td>\n      <td>Motion To Suppress (Judge Mary Ames Suffolk Su...</td>\n    </tr>\n    <tr>\n      <th>91</th>\n      <td>michael murphy</td>\n      <td>9/25/2020</td>\n      <td>BPD</td>\n      <td>Indicted</td>\n      <td>Conspiracy/embezzlement: Time &amp; attendance. US...</td>\n    </tr>\n    <tr>\n      <th>92</th>\n      <td>joseph nee</td>\n      <td>9/25/2020</td>\n      <td>BPD</td>\n      <td>CWOF</td>\n      <td>Larceny, money laundering. Joint investigation...</td>\n    </tr>\n    <tr>\n      <th>93</th>\n      <td>ronald nelson</td>\n      <td>9/25/2020</td>\n      <td>BPD</td>\n      <td>Indicted</td>\n      <td>Conspiracy/embezzlement: Time &amp; attendance. US...</td>\n    </tr>\n    <tr>\n      <th>94</th>\n      <td>gerard o'brien</td>\n      <td>9/25/2020</td>\n      <td>BPD</td>\n      <td>Indicted</td>\n      <td>Conspiracy/embezzlement: Time &amp; attendance. US...</td>\n    </tr>\n    <tr>\n      <th>96</th>\n      <td>eddie odney</td>\n      <td>6/19/2017</td>\n      <td>BPD</td>\n      <td>Conviction</td>\n      <td>Access device fraud. USAO investigation/prosec...</td>\n    </tr>\n    <tr>\n      <th>97</th>\n      <td>dale t o'donnell</td>\n      <td>9/25/2020</td>\n      <td>BPD</td>\n      <td>Filed</td>\n      <td>BPD internal investigation (allegation conform...</td>\n    </tr>\n    <tr>\n      <th>100</th>\n      <td>kenny orcel</td>\n      <td>9/25/2020</td>\n      <td>BPD</td>\n      <td>Indicted (Nol Pros.)</td>\n      <td>Accessory After ABDW, Filing False Police Repo...</td>\n    </tr>\n    <tr>\n      <th>103</th>\n      <td>junior a. phillips</td>\n      <td>9/25/2020</td>\n      <td>BPD</td>\n      <td>Sustained</td>\n      <td>BPD internal investigation (conformance to law...</td>\n    </tr>\n    <tr>\n      <th>110</th>\n      <td>william j. robertson</td>\n      <td>9/25/2020</td>\n      <td>BPD</td>\n      <td>Sustained</td>\n      <td>BPD internal investigation (conformance to law...</td>\n    </tr>\n    <tr>\n      <th>112</th>\n      <td>patrick rose</td>\n      <td>9/25/202</td>\n      <td>BPD</td>\n      <td>Criminal Complaint - Arraigned</td>\n      <td>Aggravated Rape of Child, Rape of Child. SCDAO...</td>\n    </tr>\n    <tr>\n      <th>113</th>\n      <td>daniel j. rosenthal</td>\n      <td>9/25/2020</td>\n      <td>BPD</td>\n      <td>Filed</td>\n      <td>BPD internal investigation (allegation conform...</td>\n    </tr>\n    <tr>\n      <th>115</th>\n      <td>vaden scantlebury</td>\n      <td>9/25/2020</td>\n      <td>BPD</td>\n      <td>Open Investigation</td>\n      <td>Alleged ABDW, Witness Intimidation, Perjury. S...</td>\n    </tr>\n    <tr>\n      <th>117</th>\n      <td>brian smigielski</td>\n      <td>10/5/2015</td>\n      <td>BPD</td>\n      <td>Conviction</td>\n      <td>USAO investigation/prosecution. Guilty plea. S...</td>\n    </tr>\n    <tr>\n      <th>118</th>\n      <td>mel steele</td>\n      <td>10/17/2014</td>\n      <td>BPD</td>\n      <td>Conviction</td>\n      <td>USAO investigation/prosecution. Guilty plea. S...</td>\n    </tr>\n    <tr>\n      <th>119</th>\n      <td>monicka stinson</td>\n      <td>9/25/2020</td>\n      <td>BPD</td>\n      <td>Indicted</td>\n      <td>Witness intimidation. SCDAO investigation/pros...</td>\n    </tr>\n    <tr>\n      <th>120</th>\n      <td>ryan p sullivan</td>\n      <td>9/25/2020</td>\n      <td>BPD</td>\n      <td>Sustained</td>\n      <td>BPD internal investigation (conformance to law...</td>\n    </tr>\n    <tr>\n      <th>127</th>\n      <td>timothy torigian</td>\n      <td>9/25/2020</td>\n      <td>BPD</td>\n      <td>Indicted</td>\n      <td>Conspiracy/embezzlement: Time &amp; attendance. US...</td>\n    </tr>\n    <tr>\n      <th>128</th>\n      <td>robert m tully</td>\n      <td>9/25/2020</td>\n      <td>BPD</td>\n      <td>Sustained</td>\n      <td>BPD internal investigation (conformance to law...</td>\n    </tr>\n    <tr>\n      <th>129</th>\n      <td>robert twitchell</td>\n      <td>9/25/2020</td>\n      <td>BPD</td>\n      <td>Indicted</td>\n      <td>Conspiracy/embezzlement: Time &amp; attendance. US...</td>\n    </tr>\n    <tr>\n      <th>130</th>\n      <td>royce veal</td>\n      <td>9/25/2020</td>\n      <td>BPD</td>\n      <td>Sustained</td>\n      <td>BPD internal investigation (conformance to law...</td>\n    </tr>\n    <tr>\n      <th>131</th>\n      <td>emmet t. walsh</td>\n      <td>9/25/2020</td>\n      <td>BPD</td>\n      <td>Public</td>\n      <td>BPD internal investigation (conformance to law...</td>\n    </tr>\n    <tr>\n      <th>132</th>\n      <td>robert g. warren</td>\n      <td>9/25/2020</td>\n      <td>BPD</td>\n      <td>Sustained</td>\n      <td>BPD internal investigation (conformance to law...</td>\n    </tr>\n    <tr>\n      <th>134</th>\n      <td>william woodley</td>\n      <td>9/25/2020</td>\n      <td>BPD</td>\n      <td>CWOF</td>\n      <td>Larceny: Time &amp; attendance/overtime. SCDAO inv...</td>\n    </tr>\n  </tbody>\n</table>\n</div>"
     },
     "metadata": {},
     "execution_count": 5
    }
   ],
   "source": [
    "LEAD = LEAD.loc[LEAD['AGENCY'] == 'BPD']\n",
    "LEAD"
   ]
  },
  {
   "cell_type": "code",
   "execution_count": 6,
   "metadata": {},
   "outputs": [
    {
     "output_type": "execute_result",
     "data": {
      "text/plain": [
       "(54, 5)"
      ]
     },
     "metadata": {},
     "execution_count": 6
    }
   ],
   "source": [
    "LEAD.shape"
   ]
  },
  {
   "cell_type": "code",
   "execution_count": 7,
   "metadata": {},
   "outputs": [],
   "source": [
    "LEAD.to_csv(\"ProcessedLEAD.csv\")"
   ]
  },
  {
   "cell_type": "code",
   "execution_count": null,
   "metadata": {},
   "outputs": [],
   "source": []
  }
 ],
 "metadata": {
  "kernelspec": {
   "name": "python383jvsc74a57bd076ed1d0b8eae510739d08a60d2f0e42d7952e8200e15655b417cfa21bc070d9a",
   "display_name": "Python 3.8.3 64-bit ('base': conda)"
  },
  "language_info": {
   "codemirror_mode": {
    "name": "ipython",
    "version": 3
   },
   "file_extension": ".py",
   "mimetype": "text/x-python",
   "name": "python",
   "nbconvert_exporter": "python",
   "pygments_lexer": "ipython3",
   "version": "3.8.3-final"
  }
 },
 "nbformat": 4,
 "nbformat_minor": 2
}