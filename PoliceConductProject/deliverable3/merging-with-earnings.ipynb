{
 "cells": [
  {
   "cell_type": "code",
   "execution_count": 1,
   "metadata": {},
   "outputs": [
    {
     "output_type": "stream",
     "name": "stderr",
     "text": [
      "/Users/rachelpeng/opt/anaconda3/lib/python3.8/site-packages/fuzzywuzzy/fuzz.py:11: UserWarning: Using slow pure-python SequenceMatcher. Install python-Levenshtein to remove this warning\n  warnings.warn('Using slow pure-python SequenceMatcher. Install python-Levenshtein to remove this warning')\n"
     ]
    }
   ],
   "source": [
    "import numpy as np\n",
    "import pandas as pd\n",
    "import dask.dataframe as dd\n",
    "from fuzzywuzzy import fuzz "
   ]
  },
  {
   "cell_type": "code",
   "execution_count": 2,
   "metadata": {},
   "outputs": [
    {
     "output_type": "stream",
     "name": "stdout",
     "text": [
      "      Unnamed: 0  Unnamed: 0_x              Name            Rank   Race  \\\n0              0          11.0  joseph abasciano  Police Officer  White   \n1              1          13.0  joseph abasciano  Police Officer  White   \n2              2          26.0  joseph abasciano  Police Officer  White   \n3              3          28.0  joseph abasciano  Police Officer  White   \n4              4          41.0  joseph abasciano  Police Officer  White   \n...          ...           ...               ...             ...    ...   \n8903        8903           NaN  robert twitchell             NaN    NaN   \n8904        8904           NaN        royce veal             NaN    NaN   \n8905        8905           NaN    emmet t. walsh             NaN    NaN   \n8906        8906           NaN  robert g. warren             NaN    NaN   \n8907        8907           NaN   william woodley             NaN    NaN   \n\n        Year        CaseID   TypeOfMisconduct                   Allegation  \\\n0     2011.0  IAD2011-0182  Citizen complaint  Neg.Duty/Unreasonable Judge   \n1     2011.0  IAD2011-0182  Citizen complaint  Neg.Duty/Unreasonable Judge   \n2     2011.0  IAD2011-0182  Citizen complaint                        Force   \n3     2011.0  IAD2011-0182  Citizen complaint                        Force   \n4     2013.0  IAD2013-0019  Citizen complaint  Neg.Duty/Unreasonable Judge   \n...      ...           ...                ...                          ...   \n8903     NaN           NaN                NaN                          NaN   \n8904     NaN           NaN                NaN                          NaN   \n8905     NaN           NaN                NaN                          NaN   \n8906     NaN           NaN                NaN                          NaN   \n8907     NaN           NaN                NaN                          NaN   \n\n            Finding  ... State Tender Type Description  Tender Type ID  \\\n0        Exonerated  ...    MA                     NaN             0.0   \n1        Exonerated  ...    MA                     NaN             0.0   \n2     Not Sustained  ...    MA                     NaN             0.0   \n3     Not Sustained  ...    MA                     NaN             0.0   \n4     Not Sustained  ...    MA                     NaN             0.0   \n...             ...  ...   ...                     ...             ...   \n8903            NaN  ...   NaN                     NaN             NaN   \n8904            NaN  ...   NaN                     NaN             NaN   \n8905            NaN  ...   NaN                     NaN             NaN   \n8906            NaN  ...   NaN                     NaN             NaN   \n8907            NaN  ...   NaN                     NaN             NaN   \n\n                                      UUID    Zip Unnamed: 0_y DATE ADDED  \\\n0     9fb75fe5-6415-5cc9-a9b5-517e5721b605  02132          NaN        NaN   \n1     3f6e4b3f-1de1-5e76-90bd-af7fcc83e611  02132          NaN        NaN   \n2     9fb75fe5-6415-5cc9-a9b5-517e5721b605  02132          NaN        NaN   \n3     3f6e4b3f-1de1-5e76-90bd-af7fcc83e611  02132          NaN        NaN   \n4     9fb75fe5-6415-5cc9-a9b5-517e5721b605  02132          NaN        NaN   \n...                                    ...    ...          ...        ...   \n8903                                   NaN    NaN        129.0  9/25/2020   \n8904                                   NaN    NaN        130.0  9/25/2020   \n8905                                   NaN    NaN        131.0  9/25/2020   \n8906                                   NaN    NaN        132.0  9/25/2020   \n8907                                   NaN    NaN        134.0  9/25/2020   \n\n     AGENCY     STATUS                   INFORMATION REGARDING LEAD ENTRY  \n0       NaN        NaN                                                NaN  \n1       NaN        NaN                                                NaN  \n2       NaN        NaN                                                NaN  \n3       NaN        NaN                                                NaN  \n4       NaN        NaN                                                NaN  \n...     ...        ...                                                ...  \n8903    BPD   Indicted  Conspiracy/embezzlement: Time & attendance. US...  \n8904    BPD  Sustained  BPD internal investigation (conformance to law...  \n8905    BPD     Public  BPD internal investigation (conformance to law...  \n8906    BPD  Sustained  BPD internal investigation (conformance to law...  \n8907    BPD       CWOF  Larceny: Time & attendance/overtime. SCDAO inv...  \n\n[8908 rows x 35 columns]\n"
     ]
    }
   ],
   "source": [
    "df = pd.read_csv('mergedEARNINGS.csv')\n",
    "\n",
    "print(df)"
   ]
  },
  {
   "cell_type": "code",
   "execution_count": 3,
   "metadata": {},
   "outputs": [
    {
     "output_type": "stream",
     "name": "stdout",
     "text": [
      "(8908, 32)\n"
     ]
    }
   ],
   "source": [
    "df = df.drop(columns=['Unnamed: 0', 'Unnamed: 0_x', 'Unnamed: 0_y'])\n",
    "\n",
    "print(df.shape)"
   ]
  },
  {
   "cell_type": "code",
   "execution_count": 4,
   "metadata": {},
   "outputs": [
    {
     "output_type": "stream",
     "name": "stdout",
     "text": [
      "                                   NAME           DEPARTMENT_NAME  \\\n0                        Abadi,Kidani A      Assessing Department   \n1      Abajue Umeh,Kenechukwu Stephanie   BPS Boston Arts Academy   \n2                      Abasciano,Joseph  Boston Police Department   \n3                        Abatzis,Kelley   BPS Health and Wellness   \n4                Abban,Christopher John    Boston Fire Department   \n...                                 ...                       ...   \n21853            Zuckert,Samuel Ellliot      BPS Welcome Services   \n21854              Zukowski III,Charles  Boston Police Department   \n21855                    Zuniga,Kevin Y    BPS Counseling Service   \n21856            Zwarich,Maralene Zoann                 Eliot K-8   \n21857                   Zwerdling,Laura     BPS Special Education   \n\n                              TITLE        REGULAR RETRO        OTHER  \\\n0      Property Utilization Officer    $78,836.75    NaN     $175.00    \n1                           Teacher    $50,895.36    NaN          NaN   \n2                    Police Officer    $96,890.67    NaN     $850.00    \n3              Employment Agreement     $4,020.00    NaN          NaN   \n4                      Fire Fighter   $127,532.31    NaN   $2,665.34    \n...                             ...            ...   ...          ...   \n21853                Sen Analyst(C)    $84,581.16    NaN          NaN   \n21854                Police Officer    $74,932.22    NaN     $800.00    \n21855        School Psychologist(1)    $81,409.36    NaN   $8,850.00    \n21856                       Teacher    $89,872.92    NaN   $1,500.00    \n21857        Occupational Therapist    $54,509.40    NaN      $64.00    \n\n           OVERTIME INJURED       DETAIL QUINN / EDUCATION INCENTIVE  \\\n0               NaN     NaN          NaN                         NaN   \n1               NaN     NaN          NaN                         NaN   \n2       $16,595.52      NaN          NaN                 $24,222.83    \n3               NaN     NaN          NaN                         NaN   \n4       $21,638.82      NaN   $6,380.00                          NaN   \n...             ...     ...          ...                         ...   \n21853           NaN     NaN          NaN                         NaN   \n21854   $10,851.70      NaN   $7,406.00                          NaN   \n21855           NaN     NaN          NaN                         NaN   \n21856           NaN     NaN          NaN                         NaN   \n21857           NaN     NaN          NaN                         NaN   \n\n      TOTAL EARNINGS POSTAL  \n0        $79,011.75   02118  \n1        $50,895.36   02150  \n2       $138,559.02   02132  \n3         $4,020.00   02171  \n4       $158,216.47   02132  \n...              ...    ...  \n21853    $84,581.16   02119  \n21854    $93,989.92   02124  \n21855    $90,259.36   02151  \n21856    $91,372.92   02132  \n21857    $54,573.40   02140  \n\n[21858 rows x 12 columns]\n"
     ]
    }
   ],
   "source": [
    "employeeDF = pd.read_csv('EmployeeEarnings.csv')\n",
    "\n",
    "print(employeeDF)"
   ]
  },
  {
   "cell_type": "code",
   "execution_count": 5,
   "metadata": {},
   "outputs": [
    {
     "output_type": "stream",
     "name": "stdout",
     "text": [
      "                          NAME           DEPARTMENT_NAME  \\\n2             Abasciano,Joseph  Boston Police Department   \n19         Abdul-Aziz,Ramadani  Boston Police Department   \n22                   ABEL,KENY  Boston Police Department   \n32     Abrahamson,Patrick Olaf  Boston Police Department   \n38       Abreu,Carlos De jesus  Boston Police Department   \n...                        ...                       ...   \n21837           Zingg,Robert M  Boston Police Department   \n21843       Zographos,Peter A.  Boston Police Department   \n21847                   Zou,Zi  Boston Police Department   \n21849        Zubrin,William W.  Boston Police Department   \n21854     Zukowski III,Charles  Boston Police Department   \n\n                             TITLE        REGULAR RETRO        OTHER  \\\n2                   Police Officer    $96,890.67    NaN     $850.00    \n19                  Police Officer            NaN   NaN   $9,924.38    \n22                  Cadet (Police)    $15,599.70    NaN          NaN   \n32                  Police Officer    $79,021.12    NaN     $800.00    \n38          Jr  Building Custodian    $38,733.42    NaN     $250.00    \n...                            ...            ...   ...          ...   \n21837             Police Detective   $117,457.28    NaN   $5,026.27    \n21843  Police Offc Mobile Offc 2$6    $94,479.92    NaN     $800.00    \n21847               Police Officer    $66,150.78    NaN     $800.00    \n21849             Police Detective   $101,989.72    NaN   $4,426.30    \n21854               Police Officer    $74,932.22    NaN     $800.00    \n\n           OVERTIME       INJURED        DETAIL QUINN / EDUCATION INCENTIVE  \\\n2       $16,595.52            NaN           NaN                 $24,222.83    \n19              NaN           NaN           NaN                         NaN   \n22              NaN           NaN           NaN                         NaN   \n32      $12,940.29    $16,568.94            NaN                         NaN   \n38      $15,676.01            NaN           NaN                         NaN   \n...             ...           ...           ...                         ...   \n21837   $97,867.55            NaN           NaN                         NaN   \n21843   $15,696.55            NaN      $184.00                  $18,896.11    \n21847   $29,784.57    $26,873.75    $48,944.00                          NaN   \n21849   $94,907.50            NaN           NaN                 $20,397.97    \n21854   $10,851.70            NaN    $7,406.00                          NaN   \n\n      TOTAL EARNINGS POSTAL  \n2       $138,559.02   02132  \n19        $9,924.38   02119  \n22       $15,599.70   02119  \n32      $109,330.35   02135  \n38       $54,659.43   02124  \n...              ...    ...  \n21837   $220,351.10   02090  \n21843   $130,056.58   02081  \n21847   $172,553.10   02124  \n21849   $221,721.49   02122  \n21854    $93,989.92   02124  \n\n[3142 rows x 12 columns]\n"
     ]
    }
   ],
   "source": [
    "polOnlyDF = employeeDF[employeeDF['DEPARTMENT_NAME'].str.contains('police', case=False, na=False)]\n",
    "\n",
    "print(polOnlyDF)"
   ]
  },
  {
   "cell_type": "code",
   "execution_count": 6,
   "metadata": {},
   "outputs": [
    {
     "output_type": "execute_result",
     "data": {
      "text/plain": [
       "'dora luz acevedo'"
      ]
     },
     "metadata": {},
     "execution_count": 6
    }
   ],
   "source": [
    "def fixname(name):\n",
    "    name = name.lower()\n",
    "    name = name.split(\",\")\n",
    "    for i in range(len(name)):\n",
    "        name[i] = name[i].strip()\n",
    "    if len(name) == 2:\n",
    "        return name[1] + ' ' + name[0]\n",
    "    if len(name) == 3:\n",
    "        return name[1] + ' ' + name[2] + ' ' + name[0]\n",
    "    else:\n",
    "        return name\n",
    "    \n",
    "fixname(polOnlyDF['NAME'][57])"
   ]
  },
  {
   "cell_type": "code",
   "execution_count": 7,
   "metadata": {},
   "outputs": [
    {
     "output_type": "stream",
     "name": "stdout",
     "text": [
      "                          NAME           DEPARTMENT_NAME  \\\n",
      "2             joseph abasciano  Boston Police Department   \n",
      "19         ramadani abdul-aziz  Boston Police Department   \n",
      "22                   keny abel  Boston Police Department   \n",
      "32     patrick olaf abrahamson  Boston Police Department   \n",
      "38       carlos de jesus abreu  Boston Police Department   \n",
      "...                        ...                       ...   \n",
      "21837           robert m zingg  Boston Police Department   \n",
      "21843       peter a. zographos  Boston Police Department   \n",
      "21847                   zi zou  Boston Police Department   \n",
      "21849        william w. zubrin  Boston Police Department   \n",
      "21854     charles zukowski iii  Boston Police Department   \n",
      "\n",
      "                             TITLE        REGULAR RETRO        OTHER  \\\n",
      "2                   Police Officer    $96,890.67    NaN     $850.00    \n",
      "19                  Police Officer            NaN   NaN   $9,924.38    \n",
      "22                  Cadet (Police)    $15,599.70    NaN          NaN   \n",
      "32                  Police Officer    $79,021.12    NaN     $800.00    \n",
      "38          Jr  Building Custodian    $38,733.42    NaN     $250.00    \n",
      "...                            ...            ...   ...          ...   \n",
      "21837             Police Detective   $117,457.28    NaN   $5,026.27    \n",
      "21843  Police Offc Mobile Offc 2$6    $94,479.92    NaN     $800.00    \n",
      "21847               Police Officer    $66,150.78    NaN     $800.00    \n",
      "21849             Police Detective   $101,989.72    NaN   $4,426.30    \n",
      "21854               Police Officer    $74,932.22    NaN     $800.00    \n",
      "\n",
      "           OVERTIME       INJURED        DETAIL QUINN / EDUCATION INCENTIVE  \\\n",
      "2       $16,595.52            NaN           NaN                 $24,222.83    \n",
      "19              NaN           NaN           NaN                         NaN   \n",
      "22              NaN           NaN           NaN                         NaN   \n",
      "32      $12,940.29    $16,568.94            NaN                         NaN   \n",
      "38      $15,676.01            NaN           NaN                         NaN   \n",
      "...             ...           ...           ...                         ...   \n",
      "21837   $97,867.55            NaN           NaN                         NaN   \n",
      "21843   $15,696.55            NaN      $184.00                  $18,896.11    \n",
      "21847   $29,784.57    $26,873.75    $48,944.00                          NaN   \n",
      "21849   $94,907.50            NaN           NaN                 $20,397.97    \n",
      "21854   $10,851.70            NaN    $7,406.00                          NaN   \n",
      "\n",
      "      TOTAL EARNINGS POSTAL  \n",
      "2       $138,559.02   02132  \n",
      "19        $9,924.38   02119  \n",
      "22       $15,599.70   02119  \n",
      "32      $109,330.35   02135  \n",
      "38       $54,659.43   02124  \n",
      "...              ...    ...  \n",
      "21837   $220,351.10   02090  \n",
      "21843   $130,056.58   02081  \n",
      "21847   $172,553.10   02124  \n",
      "21849   $221,721.49   02122  \n",
      "21854    $93,989.92   02124  \n",
      "\n",
      "[3142 rows x 12 columns]\n",
      "<ipython-input-7-364c214d70af>:2: SettingWithCopyWarning: \n",
      "A value is trying to be set on a copy of a slice from a DataFrame.\n",
      "Try using .loc[row_indexer,col_indexer] = value instead\n",
      "\n",
      "See the caveats in the documentation: https://pandas.pydata.org/pandas-docs/stable/user_guide/indexing.html#returning-a-view-versus-a-copy\n",
      "  polOnlyDF['NAME'] = names\n"
     ]
    }
   ],
   "source": [
    "names = polOnlyDF['NAME'].apply(fixname)\n",
    "polOnlyDF['NAME'] = names\n",
    "\n",
    "print(polOnlyDF)"
   ]
  },
  {
   "cell_type": "code",
   "execution_count": 8,
   "metadata": {},
   "outputs": [],
   "source": [
    "# String similarity between the two fields\n",
    "\n",
    "def fuzzySimilarity(row):\n",
    "    name1 = row['Name']\n",
    "    name2 = row['NAME']\n",
    "    fuzzy_ratio = fuzz.token_set_ratio(name1, name2)\n",
    "    return fuzzy_ratio"
   ]
  },
  {
   "cell_type": "code",
   "execution_count": 9,
   "metadata": {},
   "outputs": [
    {
     "output_type": "stream",
     "name": "stderr",
     "text": [
      "<ipython-input-9-de9efad123f0>:17: SettingWithCopyWarning: \nA value is trying to be set on a copy of a slice from a DataFrame.\nTry using .loc[row_indexer,col_indexer] = value instead\n\nSee the caveats in the documentation: https://pandas.pydata.org/pandas-docs/stable/user_guide/indexing.html#returning-a-view-versus-a-copy\n  polOnlyDF['lastNameCh'] = [getLastCh(s) for s in polOnlyDF['NAME']]\n"
     ]
    }
   ],
   "source": [
    "# Create a new column called lastName character that has the first letter of the last name as its separate column\n",
    "\n",
    "def getLastCh(s):\n",
    "    \"s is a string of the Name/Contributor Columns of the datasets\"\n",
    "    s_list = s.split()\n",
    "    suffixes = ['jr','jr.','sr','sr.','i','ii','iii']\n",
    "\n",
    "    # remove suffixes in s_list\n",
    "    for i in reversed(range(len(s_list))):\n",
    "        if s_list[i] in suffixes:\n",
    "            s_list.pop(i)\n",
    "\n",
    "    lastName = s_list[-1]\n",
    "    firstCh = lastName[0]\n",
    "    return firstCh\n",
    "\n",
    "polOnlyDF['lastNameCh'] = [getLastCh(s) for s in polOnlyDF['NAME']]\n",
    "df['lastNameCh'] = [getLastCh(s) for s in df['Name']]"
   ]
  },
  {
   "cell_type": "code",
   "execution_count": 10,
   "metadata": {},
   "outputs": [],
   "source": [
    "# This program will merge the two dataframes using their lastName characters then apply a string similarity score for each row then we'll filter the string similarity value to create the final dataframe with name matches.\n",
    "\n",
    "unique_names = list(df['lastNameCh'].unique())\n",
    "\n",
    "for name in unique_names:\n",
    "    df2_sub_zip = polOnlyDF[polOnlyDF['lastNameCh'] == name]\n",
    "    df1_sub_zip = df[df['lastNameCh'] == name]\n",
    "\n",
    "    df_merge = dd.merge(df1_sub_zip, df2_sub_zip, how='left', left_on='lastNameCh', right_on='lastNameCh')\n",
    "    \n",
    "    df_merge['Fuzzy Similarity'] = df_merge.apply(lambda row: fuzzySimilarity(row), axis=1)\n",
    "    \n",
    "    # You can adjust this number for a more selective fuzzy similarity merge\n",
    "    Fuzzy_Filter = df_merge[df_merge['Fuzzy Similarity'] > 85]\n",
    "    \n",
    "    title = \"./fuzzyDatasets/merge_df_name_\" + name + \".csv\"\n",
    "    Fuzzy_Filter.to_csv(title, encoding = \"utf-8\")"
   ]
  },
  {
   "cell_type": "code",
   "execution_count": 11,
   "metadata": {},
   "outputs": [],
   "source": [
    "# This will create the list\n",
    "\n",
    "list_of_csv_titles = []\n",
    "\n",
    "for name in unique_names:\n",
    "    title = \"./fuzzyDatasets/merge_df_name_\" + name + \".csv\"\n",
    "    list_of_csv_titles.append(title)"
   ]
  },
  {
   "cell_type": "code",
   "execution_count": 12,
   "metadata": {},
   "outputs": [],
   "source": [
    "# Merging all the batches\n",
    "\n",
    "df_merge_final = pd.DataFrame()\n",
    "\n",
    "for files in list_of_csv_titles:\n",
    "    data = pd.read_csv(files)\n",
    "    df_merge_final = df_merge_final.append(data)"
   ]
  },
  {
   "cell_type": "code",
   "execution_count": 13,
   "metadata": {},
   "outputs": [
    {
     "output_type": "stream",
     "name": "stdout",
     "text": [
      "    Unnamed: 0               Name            Rank   Race    Year  \\\n0            0   joseph abasciano  Police Officer  White  2011.0   \n1           92   joseph abasciano  Police Officer  White  2011.0   \n2          184   joseph abasciano  Police Officer  White  2011.0   \n3          276   joseph abasciano  Police Officer  White  2011.0   \n4          368   joseph abasciano  Police Officer  White  2013.0   \n..         ...                ...             ...    ...     ...   \n1            3    vladimir xavier  Police Officer  Black  2012.0   \n2            5    vladimir xavier  Police Officer  Black  2014.0   \n0            0  anthony d ierardi        Sergeant  White  2017.0   \n0            5     robert m zingg       Detective  White  2011.0   \n1           15     robert m zingg       Detective  White  2012.0   \n\n          CaseID        TypeOfMisconduct                   Allegation  \\\n0   IAD2011-0182       Citizen complaint  Neg.Duty/Unreasonable Judge   \n1   IAD2011-0182       Citizen complaint  Neg.Duty/Unreasonable Judge   \n2   IAD2011-0182       Citizen complaint                        Force   \n3   IAD2011-0182       Citizen complaint                        Force   \n4   IAD2013-0019       Citizen complaint  Neg.Duty/Unreasonable Judge   \n..           ...                     ...                          ...   \n1   IAD2012-0009       Citizen complaint                  FIO Reports   \n2   IAD2014-0255       Citizen complaint         Respectful Treatment   \n0   IAD2017-0154  Internal investigation                      Details   \n0   IAD2011-0553  Internal investigation           Conduct Unbecoming   \n1   IAD2012-0039       Citizen complaint           Conduct Unbecoming   \n\n          Finding         Outcome  ...        REGULAR  RETRO         OTHER  \\\n0      Exonerated             NaN  ...    $96,890.67     NaN      $850.00    \n1      Exonerated             NaN  ...    $96,890.67     NaN      $850.00    \n2   Not Sustained             NaN  ...    $96,890.67     NaN      $850.00    \n3   Not Sustained             NaN  ...    $96,890.67     NaN      $850.00    \n4   Not Sustained             NaN  ...    $96,890.67     NaN      $850.00    \n..            ...             ...  ...            ...    ...           ...   \n1       Sustained  Oral Reprimand  ...    $93,424.55     NaN      $800.00    \n2       Unfounded             NaN  ...    $93,424.55     NaN      $800.00    \n0       Sustained             NaN  ...            NaN    NaN   $12,069.32    \n0       Sustained     Counselling  ...   $117,457.28     NaN    $5,026.27    \n1   Not Sustained             NaN  ...   $117,457.28     NaN    $5,026.27    \n\n        OVERTIME        INJURED DETAIL QUINN / EDUCATION INCENTIVE  \\\n0    $16,595.52             NaN    NaN                 $24,222.83    \n1    $16,595.52             NaN    NaN                 $24,222.83    \n2    $16,595.52             NaN    NaN                 $24,222.83    \n3    $16,595.52             NaN    NaN                 $24,222.83    \n4    $16,595.52             NaN    NaN                 $24,222.83    \n..           ...            ...    ...                         ...   \n1    $19,103.00      $3,633.94     NaN                         NaN   \n2    $19,103.00      $3,633.94     NaN                         NaN   \n0            NaN   $118,924.58     NaN                 $23,784.81    \n0    $97,867.55             NaN    NaN                         NaN   \n1    $97,867.55             NaN    NaN                         NaN   \n\n   TOTAL EARNINGS  POSTAL  Fuzzy Similarity  \n0    $138,559.02   2132.0               100  \n1    $138,559.02   2132.0               100  \n2    $138,559.02   2132.0               100  \n3    $138,559.02   2132.0               100  \n4    $138,559.02   2132.0               100  \n..            ...     ...               ...  \n1    $116,961.49   2121.0               100  \n2    $116,961.49   2121.0               100  \n0    $154,778.71   2030.0               100  \n0    $220,351.10   2090.0               100  \n1    $220,351.10   2090.0               100  \n\n[8821 rows x 47 columns]\n"
     ]
    }
   ],
   "source": [
    "print(df_merge_final)"
   ]
  },
  {
   "cell_type": "code",
   "execution_count": 14,
   "metadata": {},
   "outputs": [
    {
     "output_type": "stream",
     "name": "stdout",
     "text": [
      "['Unnamed: 0', 'Name', 'Rank', 'Race', 'Year', 'CaseID', 'TypeOfMisconduct', 'Allegation', 'Finding', 'Outcome', 'Address', 'Amount', 'CPF ID', 'City', 'Contributor', 'Date', 'Datetime', 'Employer', 'Occupation', 'Principal Officer', 'Recipient', 'Record Type Description', 'Record Type ID', 'Source Description', 'State', 'Tender Type Description', 'Tender Type ID', 'UUID', 'Zip', 'DATE ADDED', 'AGENCY', 'STATUS', 'INFORMATION REGARDING LEAD ENTRY', 'lastNameCh', 'NAME', 'DEPARTMENT_NAME', 'TITLE', 'REGULAR', 'RETRO', 'OTHER', 'OVERTIME', 'INJURED', 'DETAIL', 'QUINN / EDUCATION INCENTIVE', 'TOTAL EARNINGS', 'POSTAL', 'Fuzzy Similarity']\n"
     ]
    }
   ],
   "source": [
    "print(list(df_merge_final))"
   ]
  },
  {
   "cell_type": "code",
   "execution_count": 15,
   "metadata": {},
   "outputs": [
    {
     "output_type": "stream",
     "name": "stdout",
     "text": [
      "['Name', 'Rank', 'Race', 'Year', 'CaseID', 'TypeOfMisconduct', 'Allegation', 'Finding', 'Outcome', 'Address', 'Amount', 'CPF ID', 'City', 'Contributor', 'Date', 'Datetime', 'Employer', 'Occupation', 'Principal Officer', 'Recipient', 'Record Type Description', 'Record Type ID', 'Source Description', 'State', 'Tender Type Description', 'Tender Type ID', 'UUID', 'Zip', 'DATE ADDED', 'AGENCY', 'STATUS', 'INFORMATION REGARDING LEAD ENTRY', 'NAME', 'DEPARTMENT_NAME', 'TITLE', 'REGULAR', 'RETRO', 'OTHER', 'OVERTIME', 'INJURED', 'DETAIL', 'QUINN / EDUCATION INCENTIVE', 'TOTAL EARNINGS', 'POSTAL']\n"
     ]
    }
   ],
   "source": [
    "df_merge_final = df_merge_final.drop(columns=['Unnamed: 0', 'lastNameCh', 'Fuzzy Similarity'])\n",
    "\n",
    "print(list(df_merge_final))"
   ]
  },
  {
   "cell_type": "code",
   "execution_count": 16,
   "metadata": {},
   "outputs": [
    {
     "output_type": "execute_result",
     "data": {
      "text/plain": [
       "(8821, 44)"
      ]
     },
     "metadata": {},
     "execution_count": 16
    }
   ],
   "source": [
    "df_merge_final.shape"
   ]
  },
  {
   "cell_type": "code",
   "execution_count": 19,
   "metadata": {},
   "outputs": [],
   "source": [
    "df_merge_final.to_csv(\"mergedEARNINGS.csv\")"
   ]
  },
  {
   "cell_type": "code",
   "execution_count": null,
   "metadata": {},
   "outputs": [],
   "source": []
  }
 ],
 "metadata": {
  "kernelspec": {
   "name": "python383jvsc74a57bd076ed1d0b8eae510739d08a60d2f0e42d7952e8200e15655b417cfa21bc070d9a",
   "display_name": "Python 3.8.3 64-bit ('base': conda)"
  },
  "language_info": {
   "codemirror_mode": {
    "name": "ipython",
    "version": 3
   },
   "file_extension": ".py",
   "mimetype": "text/x-python",
   "name": "python",
   "nbconvert_exporter": "python",
   "pygments_lexer": "ipython3",
   "version": "3.8.3-final"
  }
 },
 "nbformat": 4,
 "nbformat_minor": 2
}