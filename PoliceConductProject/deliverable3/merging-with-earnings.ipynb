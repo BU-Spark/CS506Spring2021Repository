{
 "cells": [
  {
   "cell_type": "code",
   "execution_count": 1,
   "metadata": {},
   "outputs": [
    {
     "name": "stderr",
     "output_type": "stream",
     "text": [
      "/Users/rachelpeng/opt/anaconda3/lib/python3.8/site-packages/fuzzywuzzy/fuzz.py:11: UserWarning: Using slow pure-python SequenceMatcher. Install python-Levenshtein to remove this warning\n",
      "  warnings.warn('Using slow pure-python SequenceMatcher. Install python-Levenshtein to remove this warning')\n"
     ]
    }
   ],
   "source": [
    "import numpy as np\n",
    "import pandas as pd\n",
    "import dask.dataframe as dd\n",
    "from fuzzywuzzy import fuzz "
   ]
  },
  {
   "cell_type": "markdown",
   "metadata": {},
   "source": [
    "## Import the merged dataset"
   ]
  },
  {
   "cell_type": "code",
   "execution_count": 2,
   "metadata": {},
   "outputs": [
    {
     "name": "stdout",
     "output_type": "stream",
     "text": [
      "      Unnamed: 0  Unnamed: 0_x              Name            Rank   Race  \\\n",
      "0              0          11.0  joseph abasciano  Police Officer  White   \n",
      "1              1          13.0  joseph abasciano  Police Officer  White   \n",
      "2              2          26.0  joseph abasciano  Police Officer  White   \n",
      "3              3          28.0  joseph abasciano  Police Officer  White   \n",
      "4              4          41.0  joseph abasciano  Police Officer  White   \n",
      "...          ...           ...               ...             ...    ...   \n",
      "8903        8903           NaN  robert twitchell             NaN    NaN   \n",
      "8904        8904           NaN        royce veal             NaN    NaN   \n",
      "8905        8905           NaN    emmet t. walsh             NaN    NaN   \n",
      "8906        8906           NaN  robert g. warren             NaN    NaN   \n",
      "8907        8907           NaN   william woodley             NaN    NaN   \n",
      "\n",
      "        Year        CaseID   TypeOfMisconduct                   Allegation  \\\n",
      "0     2011.0  IAD2011-0182  Citizen complaint  Neg.Duty/Unreasonable Judge   \n",
      "1     2011.0  IAD2011-0182  Citizen complaint  Neg.Duty/Unreasonable Judge   \n",
      "2     2011.0  IAD2011-0182  Citizen complaint                        Force   \n",
      "3     2011.0  IAD2011-0182  Citizen complaint                        Force   \n",
      "4     2013.0  IAD2013-0019  Citizen complaint  Neg.Duty/Unreasonable Judge   \n",
      "...      ...           ...                ...                          ...   \n",
      "8903     NaN           NaN                NaN                          NaN   \n",
      "8904     NaN           NaN                NaN                          NaN   \n",
      "8905     NaN           NaN                NaN                          NaN   \n",
      "8906     NaN           NaN                NaN                          NaN   \n",
      "8907     NaN           NaN                NaN                          NaN   \n",
      "\n",
      "            Finding  ... State Tender Type Description  Tender Type ID  \\\n",
      "0        Exonerated  ...    MA                     NaN             0.0   \n",
      "1        Exonerated  ...    MA                     NaN             0.0   \n",
      "2     Not Sustained  ...    MA                     NaN             0.0   \n",
      "3     Not Sustained  ...    MA                     NaN             0.0   \n",
      "4     Not Sustained  ...    MA                     NaN             0.0   \n",
      "...             ...  ...   ...                     ...             ...   \n",
      "8903            NaN  ...   NaN                     NaN             NaN   \n",
      "8904            NaN  ...   NaN                     NaN             NaN   \n",
      "8905            NaN  ...   NaN                     NaN             NaN   \n",
      "8906            NaN  ...   NaN                     NaN             NaN   \n",
      "8907            NaN  ...   NaN                     NaN             NaN   \n",
      "\n",
      "                                      UUID    Zip Unnamed: 0_y DATE ADDED  \\\n",
      "0     9fb75fe5-6415-5cc9-a9b5-517e5721b605  02132          NaN        NaN   \n",
      "1     3f6e4b3f-1de1-5e76-90bd-af7fcc83e611  02132          NaN        NaN   \n",
      "2     9fb75fe5-6415-5cc9-a9b5-517e5721b605  02132          NaN        NaN   \n",
      "3     3f6e4b3f-1de1-5e76-90bd-af7fcc83e611  02132          NaN        NaN   \n",
      "4     9fb75fe5-6415-5cc9-a9b5-517e5721b605  02132          NaN        NaN   \n",
      "...                                    ...    ...          ...        ...   \n",
      "8903                                   NaN    NaN        129.0  9/25/2020   \n",
      "8904                                   NaN    NaN        130.0  9/25/2020   \n",
      "8905                                   NaN    NaN        131.0  9/25/2020   \n",
      "8906                                   NaN    NaN        132.0  9/25/2020   \n",
      "8907                                   NaN    NaN        134.0  9/25/2020   \n",
      "\n",
      "     AGENCY     STATUS                   INFORMATION REGARDING LEAD ENTRY  \n",
      "0       NaN        NaN                                                NaN  \n",
      "1       NaN        NaN                                                NaN  \n",
      "2       NaN        NaN                                                NaN  \n",
      "3       NaN        NaN                                                NaN  \n",
      "4       NaN        NaN                                                NaN  \n",
      "...     ...        ...                                                ...  \n",
      "8903    BPD   Indicted  Conspiracy/embezzlement: Time & attendance. US...  \n",
      "8904    BPD  Sustained  BPD internal investigation (conformance to law...  \n",
      "8905    BPD     Public  BPD internal investigation (conformance to law...  \n",
      "8906    BPD  Sustained  BPD internal investigation (conformance to law...  \n",
      "8907    BPD       CWOF  Larceny: Time & attendance/overtime. SCDAO inv...  \n",
      "\n",
      "[8908 rows x 35 columns]\n"
     ]
    }
   ],
   "source": [
    "df = pd.read_csv('mergedEARNINGS.csv')\n",
    "\n",
    "print(df)"
   ]
  },
  {
   "cell_type": "code",
   "execution_count": 3,
   "metadata": {},
   "outputs": [
    {
     "name": "stdout",
     "output_type": "stream",
     "text": [
      "(8908, 32)\n"
     ]
    }
   ],
   "source": [
    "df = df.drop(columns=['Unnamed: 0', 'Unnamed: 0_x', 'Unnamed: 0_y'])\n",
    "\n",
    "print(df.shape)"
   ]
  },
  {
   "cell_type": "markdown",
   "metadata": {},
   "source": [
    "## Import employee earnings dataset (general)"
   ]
  },
  {
   "cell_type": "code",
   "execution_count": 4,
   "metadata": {},
   "outputs": [
    {
     "name": "stdout",
     "output_type": "stream",
     "text": [
      "                                   NAME           DEPARTMENT_NAME  \\\n",
      "0                        Abadi,Kidani A      Assessing Department   \n",
      "1      Abajue Umeh,Kenechukwu Stephanie   BPS Boston Arts Academy   \n",
      "2                      Abasciano,Joseph  Boston Police Department   \n",
      "3                        Abatzis,Kelley   BPS Health and Wellness   \n",
      "4                Abban,Christopher John    Boston Fire Department   \n",
      "...                                 ...                       ...   \n",
      "21853            Zuckert,Samuel Ellliot      BPS Welcome Services   \n",
      "21854              Zukowski III,Charles  Boston Police Department   \n",
      "21855                    Zuniga,Kevin Y    BPS Counseling Service   \n",
      "21856            Zwarich,Maralene Zoann                 Eliot K-8   \n",
      "21857                   Zwerdling,Laura     BPS Special Education   \n",
      "\n",
      "                              TITLE        REGULAR RETRO        OTHER  \\\n",
      "0      Property Utilization Officer    $78,836.75    NaN     $175.00    \n",
      "1                           Teacher    $50,895.36    NaN          NaN   \n",
      "2                    Police Officer    $96,890.67    NaN     $850.00    \n",
      "3              Employment Agreement     $4,020.00    NaN          NaN   \n",
      "4                      Fire Fighter   $127,532.31    NaN   $2,665.34    \n",
      "...                             ...            ...   ...          ...   \n",
      "21853                Sen Analyst(C)    $84,581.16    NaN          NaN   \n",
      "21854                Police Officer    $74,932.22    NaN     $800.00    \n",
      "21855        School Psychologist(1)    $81,409.36    NaN   $8,850.00    \n",
      "21856                       Teacher    $89,872.92    NaN   $1,500.00    \n",
      "21857        Occupational Therapist    $54,509.40    NaN      $64.00    \n",
      "\n",
      "           OVERTIME INJURED       DETAIL QUINN / EDUCATION INCENTIVE  \\\n",
      "0               NaN     NaN          NaN                         NaN   \n",
      "1               NaN     NaN          NaN                         NaN   \n",
      "2       $16,595.52      NaN          NaN                 $24,222.83    \n",
      "3               NaN     NaN          NaN                         NaN   \n",
      "4       $21,638.82      NaN   $6,380.00                          NaN   \n",
      "...             ...     ...          ...                         ...   \n",
      "21853           NaN     NaN          NaN                         NaN   \n",
      "21854   $10,851.70      NaN   $7,406.00                          NaN   \n",
      "21855           NaN     NaN          NaN                         NaN   \n",
      "21856           NaN     NaN          NaN                         NaN   \n",
      "21857           NaN     NaN          NaN                         NaN   \n",
      "\n",
      "      TOTAL EARNINGS POSTAL  \n",
      "0        $79,011.75   02118  \n",
      "1        $50,895.36   02150  \n",
      "2       $138,559.02   02132  \n",
      "3         $4,020.00   02171  \n",
      "4       $158,216.47   02132  \n",
      "...              ...    ...  \n",
      "21853    $84,581.16   02119  \n",
      "21854    $93,989.92   02124  \n",
      "21855    $90,259.36   02151  \n",
      "21856    $91,372.92   02132  \n",
      "21857    $54,573.40   02140  \n",
      "\n",
      "[21858 rows x 12 columns]\n"
     ]
    }
   ],
   "source": [
    "employeeDF = pd.read_csv('EmployeeEarnings.csv')\n",
    "\n",
    "print(employeeDF)"
   ]
  },
  {
   "cell_type": "markdown",
   "metadata": {},
   "source": [
    "## Make subset of the earnings dataset with only Boston Police Department employees"
   ]
  },
  {
   "cell_type": "code",
   "execution_count": 5,
   "metadata": {},
   "outputs": [
    {
     "name": "stdout",
     "output_type": "stream",
     "text": [
      "                          NAME           DEPARTMENT_NAME  \\\n",
      "2             Abasciano,Joseph  Boston Police Department   \n",
      "19         Abdul-Aziz,Ramadani  Boston Police Department   \n",
      "22                   ABEL,KENY  Boston Police Department   \n",
      "32     Abrahamson,Patrick Olaf  Boston Police Department   \n",
      "38       Abreu,Carlos De jesus  Boston Police Department   \n",
      "...                        ...                       ...   \n",
      "21837           Zingg,Robert M  Boston Police Department   \n",
      "21843       Zographos,Peter A.  Boston Police Department   \n",
      "21847                   Zou,Zi  Boston Police Department   \n",
      "21849        Zubrin,William W.  Boston Police Department   \n",
      "21854     Zukowski III,Charles  Boston Police Department   \n",
      "\n",
      "                             TITLE        REGULAR RETRO        OTHER  \\\n",
      "2                   Police Officer    $96,890.67    NaN     $850.00    \n",
      "19                  Police Officer            NaN   NaN   $9,924.38    \n",
      "22                  Cadet (Police)    $15,599.70    NaN          NaN   \n",
      "32                  Police Officer    $79,021.12    NaN     $800.00    \n",
      "38          Jr  Building Custodian    $38,733.42    NaN     $250.00    \n",
      "...                            ...            ...   ...          ...   \n",
      "21837             Police Detective   $117,457.28    NaN   $5,026.27    \n",
      "21843  Police Offc Mobile Offc 2$6    $94,479.92    NaN     $800.00    \n",
      "21847               Police Officer    $66,150.78    NaN     $800.00    \n",
      "21849             Police Detective   $101,989.72    NaN   $4,426.30    \n",
      "21854               Police Officer    $74,932.22    NaN     $800.00    \n",
      "\n",
      "           OVERTIME       INJURED        DETAIL QUINN / EDUCATION INCENTIVE  \\\n",
      "2       $16,595.52            NaN           NaN                 $24,222.83    \n",
      "19              NaN           NaN           NaN                         NaN   \n",
      "22              NaN           NaN           NaN                         NaN   \n",
      "32      $12,940.29    $16,568.94            NaN                         NaN   \n",
      "38      $15,676.01            NaN           NaN                         NaN   \n",
      "...             ...           ...           ...                         ...   \n",
      "21837   $97,867.55            NaN           NaN                         NaN   \n",
      "21843   $15,696.55            NaN      $184.00                  $18,896.11    \n",
      "21847   $29,784.57    $26,873.75    $48,944.00                          NaN   \n",
      "21849   $94,907.50            NaN           NaN                 $20,397.97    \n",
      "21854   $10,851.70            NaN    $7,406.00                          NaN   \n",
      "\n",
      "      TOTAL EARNINGS POSTAL  \n",
      "2       $138,559.02   02132  \n",
      "19        $9,924.38   02119  \n",
      "22       $15,599.70   02119  \n",
      "32      $109,330.35   02135  \n",
      "38       $54,659.43   02124  \n",
      "...              ...    ...  \n",
      "21837   $220,351.10   02090  \n",
      "21843   $130,056.58   02081  \n",
      "21847   $172,553.10   02124  \n",
      "21849   $221,721.49   02122  \n",
      "21854    $93,989.92   02124  \n",
      "\n",
      "[3142 rows x 12 columns]\n"
     ]
    }
   ],
   "source": [
    "polOnlyDF = employeeDF[employeeDF['DEPARTMENT_NAME'].str.contains('police', case=False, na=False)]\n",
    "\n",
    "print(polOnlyDF)"
   ]
  },
  {
   "cell_type": "markdown",
   "metadata": {},
   "source": [
    "## clean names in new dataset to match format of our other datasets"
   ]
  },
  {
   "cell_type": "code",
   "execution_count": 6,
   "metadata": {},
   "outputs": [
    {
     "data": {
      "text/plain": [
       "'dora luz acevedo'"
      ]
     },
     "execution_count": 6,
     "metadata": {},
     "output_type": "execute_result"
    }
   ],
   "source": [
    "def fixname(name):\n",
    "    name = name.lower()\n",
    "    name = name.split(\",\")\n",
    "    for i in range(len(name)):\n",
    "        name[i] = name[i].strip()\n",
    "    if len(name) == 2:\n",
    "        return name[1] + ' ' + name[0]\n",
    "    if len(name) == 3:\n",
    "        return name[1] + ' ' + name[2] + ' ' + name[0]\n",
    "    else:\n",
    "        return name\n",
    "    \n",
    "fixname(polOnlyDF['NAME'][57])"
   ]
  },
  {
   "cell_type": "code",
   "execution_count": 7,
   "metadata": {},
   "outputs": [
    {
     "name": "stdout",
     "output_type": "stream",
     "text": [
      "                          NAME           DEPARTMENT_NAME  \\\n",
      "2             joseph abasciano  Boston Police Department   \n",
      "19         ramadani abdul-aziz  Boston Police Department   \n",
      "22                   keny abel  Boston Police Department   \n",
      "32     patrick olaf abrahamson  Boston Police Department   \n",
      "38       carlos de jesus abreu  Boston Police Department   \n",
      "...                        ...                       ...   \n",
      "21837           robert m zingg  Boston Police Department   \n",
      "21843       peter a. zographos  Boston Police Department   \n",
      "21847                   zi zou  Boston Police Department   \n",
      "21849        william w. zubrin  Boston Police Department   \n",
      "21854     charles zukowski iii  Boston Police Department   \n",
      "\n",
      "                             TITLE        REGULAR RETRO        OTHER  \\\n",
      "2                   Police Officer    $96,890.67    NaN     $850.00    \n",
      "19                  Police Officer            NaN   NaN   $9,924.38    \n",
      "22                  Cadet (Police)    $15,599.70    NaN          NaN   \n",
      "32                  Police Officer    $79,021.12    NaN     $800.00    \n",
      "38          Jr  Building Custodian    $38,733.42    NaN     $250.00    \n",
      "...                            ...            ...   ...          ...   \n",
      "21837             Police Detective   $117,457.28    NaN   $5,026.27    \n",
      "21843  Police Offc Mobile Offc 2$6    $94,479.92    NaN     $800.00    \n",
      "21847               Police Officer    $66,150.78    NaN     $800.00    \n",
      "21849             Police Detective   $101,989.72    NaN   $4,426.30    \n",
      "21854               Police Officer    $74,932.22    NaN     $800.00    \n",
      "\n",
      "           OVERTIME       INJURED        DETAIL QUINN / EDUCATION INCENTIVE  \\\n",
      "2       $16,595.52            NaN           NaN                 $24,222.83    \n",
      "19              NaN           NaN           NaN                         NaN   \n",
      "22              NaN           NaN           NaN                         NaN   \n",
      "32      $12,940.29    $16,568.94            NaN                         NaN   \n",
      "38      $15,676.01            NaN           NaN                         NaN   \n",
      "...             ...           ...           ...                         ...   \n",
      "21837   $97,867.55            NaN           NaN                         NaN   \n",
      "21843   $15,696.55            NaN      $184.00                  $18,896.11    \n",
      "21847   $29,784.57    $26,873.75    $48,944.00                          NaN   \n",
      "21849   $94,907.50            NaN           NaN                 $20,397.97    \n",
      "21854   $10,851.70            NaN    $7,406.00                          NaN   \n",
      "\n",
      "      TOTAL EARNINGS POSTAL  \n",
      "2       $138,559.02   02132  \n",
      "19        $9,924.38   02119  \n",
      "22       $15,599.70   02119  \n",
      "32      $109,330.35   02135  \n",
      "38       $54,659.43   02124  \n",
      "...              ...    ...  \n",
      "21837   $220,351.10   02090  \n",
      "21843   $130,056.58   02081  \n",
      "21847   $172,553.10   02124  \n",
      "21849   $221,721.49   02122  \n",
      "21854    $93,989.92   02124  \n",
      "\n",
      "[3142 rows x 12 columns]\n",
      "<ipython-input-7-364c214d70af>:2: SettingWithCopyWarning: \n",
      "A value is trying to be set on a copy of a slice from a DataFrame.\n",
      "Try using .loc[row_indexer,col_indexer] = value instead\n",
      "\n",
      "See the caveats in the documentation: https://pandas.pydata.org/pandas-docs/stable/user_guide/indexing.html#returning-a-view-versus-a-copy\n",
      "  polOnlyDF['NAME'] = names\n"
     ]
    }
   ],
   "source": [
    "names = polOnlyDF['NAME'].apply(fixname)\n",
    "polOnlyDF['NAME'] = names\n",
    "\n",
    "print(polOnlyDF)"
   ]
  },
  {
   "cell_type": "markdown",
   "metadata": {},
   "source": [
    "## Do Fuzzy Matching!!!"
   ]
  },
  {
   "cell_type": "code",
   "execution_count": 8,
   "metadata": {},
   "outputs": [],
   "source": [
    "# String similarity between the two fields\n",
    "\n",
    "def fuzzySimilarity(row):\n",
    "    name1 = row['Name']\n",
    "    name2 = row['NAME']\n",
    "    fuzzy_ratio = fuzz.token_set_ratio(name1, name2)\n",
    "    return fuzzy_ratio"
   ]
  },
  {
   "cell_type": "code",
   "execution_count": 9,
   "metadata": {},
   "outputs": [
    {
     "name": "stderr",
     "output_type": "stream",
     "text": [
      "<ipython-input-9-de9efad123f0>:17: SettingWithCopyWarning: \n",
      "A value is trying to be set on a copy of a slice from a DataFrame.\n",
      "Try using .loc[row_indexer,col_indexer] = value instead\n",
      "\n",
      "See the caveats in the documentation: https://pandas.pydata.org/pandas-docs/stable/user_guide/indexing.html#returning-a-view-versus-a-copy\n",
      "  polOnlyDF['lastNameCh'] = [getLastCh(s) for s in polOnlyDF['NAME']]\n"
     ]
    }
   ],
   "source": [
    "# Create a new column called lastName character that has the first letter of the last name as its separate column\n",
    "\n",
    "def getLastCh(s):\n",
    "    \"s is a string of the Name/Contributor Columns of the datasets\"\n",
    "    s_list = s.split()\n",
    "    suffixes = ['jr','jr.','sr','sr.','i','ii','iii']\n",
    "\n",
    "    # remove suffixes in s_list\n",
    "    for i in reversed(range(len(s_list))):\n",
    "        if s_list[i] in suffixes:\n",
    "            s_list.pop(i)\n",
    "\n",
    "    lastName = s_list[-1]\n",
    "    firstCh = lastName[0]\n",
    "    return firstCh\n",
    "\n",
    "polOnlyDF['lastNameCh'] = [getLastCh(s) for s in polOnlyDF['NAME']]\n",
    "df['lastNameCh'] = [getLastCh(s) for s in df['Name']]"
   ]
  },
  {
   "cell_type": "code",
   "execution_count": 10,
   "metadata": {},
   "outputs": [],
   "source": [
    "# This program will merge the two dataframes using their lastName characters then apply a string similarity score for each row then we'll filter the string similarity value to create the final dataframe with name matches.\n",
    "\n",
    "unique_names = list(df['lastNameCh'].unique())\n",
    "\n",
    "for name in unique_names:\n",
    "    df2_sub_zip = polOnlyDF[polOnlyDF['lastNameCh'] == name]\n",
    "    df1_sub_zip = df[df['lastNameCh'] == name]\n",
    "\n",
    "    df_merge = dd.merge(df1_sub_zip, df2_sub_zip, how='left', left_on='lastNameCh', right_on='lastNameCh')\n",
    "    \n",
    "    df_merge['Fuzzy Similarity'] = df_merge.apply(lambda row: fuzzySimilarity(row), axis=1)\n",
    "    \n",
    "    # You can adjust this number for a more selective fuzzy similarity merge\n",
    "    Fuzzy_Filter = df_merge[df_merge['Fuzzy Similarity'] > 85]\n",
    "    \n",
    "    title = \"./fuzzyDatasets/merge_df_name_\" + name + \".csv\"\n",
    "    Fuzzy_Filter.to_csv(title, encoding = \"utf-8\")"
   ]
  },
  {
   "cell_type": "code",
   "execution_count": 11,
   "metadata": {},
   "outputs": [],
   "source": [
    "# This will create the list\n",
    "\n",
    "list_of_csv_titles = []\n",
    "\n",
    "for name in unique_names:\n",
    "    title = \"./fuzzyDatasets/merge_df_name_\" + name + \".csv\"\n",
    "    list_of_csv_titles.append(title)"
   ]
  },
  {
   "cell_type": "code",
   "execution_count": 12,
   "metadata": {},
   "outputs": [],
   "source": [
    "# Merging all the batches\n",
    "\n",
    "df_merge_final = pd.DataFrame()\n",
    "\n",
    "for files in list_of_csv_titles:\n",
    "    data = pd.read_csv(files)\n",
    "    df_merge_final = df_merge_final.append(data)"
   ]
  },
  {
   "cell_type": "code",
   "execution_count": 13,
   "metadata": {},
   "outputs": [
    {
     "name": "stdout",
     "output_type": "stream",
     "text": [
      "    Unnamed: 0               Name            Rank   Race    Year  \\\n",
      "0            0   joseph abasciano  Police Officer  White  2011.0   \n",
      "1           92   joseph abasciano  Police Officer  White  2011.0   \n",
      "2          184   joseph abasciano  Police Officer  White  2011.0   \n",
      "3          276   joseph abasciano  Police Officer  White  2011.0   \n",
      "4          368   joseph abasciano  Police Officer  White  2013.0   \n",
      "..         ...                ...             ...    ...     ...   \n",
      "1            3    vladimir xavier  Police Officer  Black  2012.0   \n",
      "2            5    vladimir xavier  Police Officer  Black  2014.0   \n",
      "0            0  anthony d ierardi        Sergeant  White  2017.0   \n",
      "0            5     robert m zingg       Detective  White  2011.0   \n",
      "1           15     robert m zingg       Detective  White  2012.0   \n",
      "\n",
      "          CaseID        TypeOfMisconduct                   Allegation  \\\n",
      "0   IAD2011-0182       Citizen complaint  Neg.Duty/Unreasonable Judge   \n",
      "1   IAD2011-0182       Citizen complaint  Neg.Duty/Unreasonable Judge   \n",
      "2   IAD2011-0182       Citizen complaint                        Force   \n",
      "3   IAD2011-0182       Citizen complaint                        Force   \n",
      "4   IAD2013-0019       Citizen complaint  Neg.Duty/Unreasonable Judge   \n",
      "..           ...                     ...                          ...   \n",
      "1   IAD2012-0009       Citizen complaint                  FIO Reports   \n",
      "2   IAD2014-0255       Citizen complaint         Respectful Treatment   \n",
      "0   IAD2017-0154  Internal investigation                      Details   \n",
      "0   IAD2011-0553  Internal investigation           Conduct Unbecoming   \n",
      "1   IAD2012-0039       Citizen complaint           Conduct Unbecoming   \n",
      "\n",
      "          Finding         Outcome  ...        REGULAR  RETRO         OTHER  \\\n",
      "0      Exonerated             NaN  ...    $96,890.67     NaN      $850.00    \n",
      "1      Exonerated             NaN  ...    $96,890.67     NaN      $850.00    \n",
      "2   Not Sustained             NaN  ...    $96,890.67     NaN      $850.00    \n",
      "3   Not Sustained             NaN  ...    $96,890.67     NaN      $850.00    \n",
      "4   Not Sustained             NaN  ...    $96,890.67     NaN      $850.00    \n",
      "..            ...             ...  ...            ...    ...           ...   \n",
      "1       Sustained  Oral Reprimand  ...    $93,424.55     NaN      $800.00    \n",
      "2       Unfounded             NaN  ...    $93,424.55     NaN      $800.00    \n",
      "0       Sustained             NaN  ...            NaN    NaN   $12,069.32    \n",
      "0       Sustained     Counselling  ...   $117,457.28     NaN    $5,026.27    \n",
      "1   Not Sustained             NaN  ...   $117,457.28     NaN    $5,026.27    \n",
      "\n",
      "        OVERTIME        INJURED DETAIL QUINN / EDUCATION INCENTIVE  \\\n",
      "0    $16,595.52             NaN    NaN                 $24,222.83    \n",
      "1    $16,595.52             NaN    NaN                 $24,222.83    \n",
      "2    $16,595.52             NaN    NaN                 $24,222.83    \n",
      "3    $16,595.52             NaN    NaN                 $24,222.83    \n",
      "4    $16,595.52             NaN    NaN                 $24,222.83    \n",
      "..           ...            ...    ...                         ...   \n",
      "1    $19,103.00      $3,633.94     NaN                         NaN   \n",
      "2    $19,103.00      $3,633.94     NaN                         NaN   \n",
      "0            NaN   $118,924.58     NaN                 $23,784.81    \n",
      "0    $97,867.55             NaN    NaN                         NaN   \n",
      "1    $97,867.55             NaN    NaN                         NaN   \n",
      "\n",
      "   TOTAL EARNINGS  POSTAL  Fuzzy Similarity  \n",
      "0    $138,559.02   2132.0               100  \n",
      "1    $138,559.02   2132.0               100  \n",
      "2    $138,559.02   2132.0               100  \n",
      "3    $138,559.02   2132.0               100  \n",
      "4    $138,559.02   2132.0               100  \n",
      "..            ...     ...               ...  \n",
      "1    $116,961.49   2121.0               100  \n",
      "2    $116,961.49   2121.0               100  \n",
      "0    $154,778.71   2030.0               100  \n",
      "0    $220,351.10   2090.0               100  \n",
      "1    $220,351.10   2090.0               100  \n",
      "\n",
      "[8821 rows x 47 columns]\n"
     ]
    }
   ],
   "source": [
    "print(df_merge_final)"
   ]
  },
  {
   "cell_type": "code",
   "execution_count": 14,
   "metadata": {},
   "outputs": [
    {
     "name": "stdout",
     "output_type": "stream",
     "text": [
      "['Unnamed: 0', 'Name', 'Rank', 'Race', 'Year', 'CaseID', 'TypeOfMisconduct', 'Allegation', 'Finding', 'Outcome', 'Address', 'Amount', 'CPF ID', 'City', 'Contributor', 'Date', 'Datetime', 'Employer', 'Occupation', 'Principal Officer', 'Recipient', 'Record Type Description', 'Record Type ID', 'Source Description', 'State', 'Tender Type Description', 'Tender Type ID', 'UUID', 'Zip', 'DATE ADDED', 'AGENCY', 'STATUS', 'INFORMATION REGARDING LEAD ENTRY', 'lastNameCh', 'NAME', 'DEPARTMENT_NAME', 'TITLE', 'REGULAR', 'RETRO', 'OTHER', 'OVERTIME', 'INJURED', 'DETAIL', 'QUINN / EDUCATION INCENTIVE', 'TOTAL EARNINGS', 'POSTAL', 'Fuzzy Similarity']\n"
     ]
    }
   ],
   "source": [
    "print(list(df_merge_final))"
   ]
  },
  {
   "cell_type": "code",
   "execution_count": 15,
   "metadata": {},
   "outputs": [
    {
     "name": "stdout",
     "output_type": "stream",
     "text": [
      "['Name', 'Rank', 'Race', 'Year', 'CaseID', 'TypeOfMisconduct', 'Allegation', 'Finding', 'Outcome', 'Address', 'Amount', 'CPF ID', 'City', 'Contributor', 'Date', 'Datetime', 'Employer', 'Occupation', 'Principal Officer', 'Recipient', 'Record Type Description', 'Record Type ID', 'Source Description', 'State', 'Tender Type Description', 'Tender Type ID', 'UUID', 'Zip', 'DATE ADDED', 'AGENCY', 'STATUS', 'INFORMATION REGARDING LEAD ENTRY', 'NAME', 'DEPARTMENT_NAME', 'TITLE', 'REGULAR', 'RETRO', 'OTHER', 'OVERTIME', 'INJURED', 'DETAIL', 'QUINN / EDUCATION INCENTIVE', 'TOTAL EARNINGS', 'POSTAL']\n"
     ]
    }
   ],
   "source": [
    "df_merge_final = df_merge_final.drop(columns=['Unnamed: 0', 'lastNameCh', 'Fuzzy Similarity'])\n",
    "\n",
    "print(list(df_merge_final))"
   ]
  },
  {
   "cell_type": "code",
   "execution_count": 16,
   "metadata": {},
   "outputs": [
    {
     "data": {
      "text/plain": [
       "(8821, 44)"
      ]
     },
     "execution_count": 16,
     "metadata": {},
     "output_type": "execute_result"
    }
   ],
   "source": [
    "df_merge_final.shape"
   ]
  },
  {
   "cell_type": "markdown",
   "metadata": {},
   "source": [
    "## Save & export new dataset :) "
   ]
  },
  {
   "cell_type": "code",
   "execution_count": 19,
   "metadata": {},
   "outputs": [],
   "source": [
    "df_merge_final.to_csv(\"mergedEARNINGS.csv\")"
   ]
  },
  {
   "cell_type": "code",
   "execution_count": null,
   "metadata": {},
   "outputs": [],
   "source": []
  }
 ],
 "metadata": {
  "kernelspec": {
   "display_name": "Python 3",
   "language": "python",
   "name": "python3"
  },
  "language_info": {
   "codemirror_mode": {
    "name": "ipython",
    "version": 3
   },
   "file_extension": ".py",
   "mimetype": "text/x-python",
   "name": "python",
   "nbconvert_exporter": "python",
   "pygments_lexer": "ipython3",
   "version": "3.7.4"
  }
 },
 "nbformat": 4,
 "nbformat_minor": 2
}
