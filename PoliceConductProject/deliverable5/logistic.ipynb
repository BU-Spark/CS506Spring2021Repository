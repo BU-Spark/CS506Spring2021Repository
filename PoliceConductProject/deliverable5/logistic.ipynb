{
 "metadata": {
  "language_info": {
   "codemirror_mode": {
    "name": "ipython",
    "version": 3
   },
   "file_extension": ".py",
   "mimetype": "text/x-python",
   "name": "python",
   "nbconvert_exporter": "python",
   "pygments_lexer": "ipython3",
   "version": "3.9.1-final"
  },
  "orig_nbformat": 2,
  "kernelspec": {
   "name": "python391jvsc74a57bd07812ea015bdcee6f23a998adcdd2ef97c151c0c241b7b7070987d9313e41299d",
   "display_name": "Python 3.9.1 64-bit"
  },
  "metadata": {
   "interpreter": {
    "hash": "7812ea015bdcee6f23a998adcdd2ef97c151c0c241b7b7070987d9313e41299d"
   }
  }
 },
 "nbformat": 4,
 "nbformat_minor": 2,
 "cells": [
  {
   "source": [
    "# Logistic Regression"
   ],
   "cell_type": "markdown",
   "metadata": {}
  },
  {
   "cell_type": "code",
   "execution_count": 1,
   "metadata": {},
   "outputs": [],
   "source": [
    "import pandas as pd"
   ]
  },
  {
   "cell_type": "code",
   "execution_count": 3,
   "metadata": {},
   "outputs": [
    {
     "output_type": "execute_result",
     "data": {
      "text/plain": [
       "                     Name            Rank   Race Gender  Year        CaseID  \\\n",
       "0        Joseph Abasciano  Police Officer  White   Male  2011  IAD2011-0182   \n",
       "1        Joseph Abasciano  Police Officer  White   Male  2011  IAD2011-0182   \n",
       "2        Joseph Abasciano  Police Officer  White   Male  2013  IAD2013-0019   \n",
       "3        Joseph Abasciano  Police Officer  White   Male  2019  IAD2019-0085   \n",
       "4     Ramadani Abdul-Aziz  Police Officer  Black   Male  2011  IAD2011-0258   \n",
       "...                   ...             ...    ...    ...   ...           ...   \n",
       "5655        Kevin Zarnoch  Police Officer  White   Male  2016  IAD2016-0203   \n",
       "5656        Kevin Zarnoch  Police Officer  White   Male  2019  IAD2019-0157   \n",
       "5657       Robert M Zingg       Detective  White   Male  2011  IAD2011-0553   \n",
       "5658       Robert M Zingg       Detective  White   Male  2012  IAD2012-0039   \n",
       "5659    Peter A Zographos  Police Officer  White   Male  2012  IAD2012-0336   \n",
       "\n",
       "            TypeOfMisconduct                   Allegation        Finding  \\\n",
       "0          Citizen complaint  Neg.Duty/Unreasonable Judge     Exonerated   \n",
       "1          Citizen complaint                        Force  Not Sustained   \n",
       "2          Citizen complaint  Neg.Duty/Unreasonable Judge  Not Sustained   \n",
       "3          Citizen complaint             Abuse of Process  Not Sustained   \n",
       "4          Citizen complaint  Neg.Duty/Unreasonable Judge      Sustained   \n",
       "...                      ...                          ...            ...   \n",
       "5655  Internal investigation           Reporting for Duty      Sustained   \n",
       "5656  Internal investigation           Reporting for Duty      Sustained   \n",
       "5657  Internal investigation           Conduct Unbecoming      Sustained   \n",
       "5658       Citizen complaint           Conduct Unbecoming  Not Sustained   \n",
       "5659       Citizen complaint  Neg.Duty/Unreasonable Judge     Exonerated   \n",
       "\n",
       "             Outcome  \n",
       "0                NaN  \n",
       "1                NaN  \n",
       "2                NaN  \n",
       "3                NaN  \n",
       "4     Oral Reprimand  \n",
       "...              ...  \n",
       "5655  Oral Reprimand  \n",
       "5656      Suspension  \n",
       "5657     Counselling  \n",
       "5658             NaN  \n",
       "5659             NaN  \n",
       "\n",
       "[5660 rows x 10 columns]"
      ],
      "text/html": "<div>\n<style scoped>\n    .dataframe tbody tr th:only-of-type {\n        vertical-align: middle;\n    }\n\n    .dataframe tbody tr th {\n        vertical-align: top;\n    }\n\n    .dataframe thead th {\n        text-align: right;\n    }\n</style>\n<table border=\"1\" class=\"dataframe\">\n  <thead>\n    <tr style=\"text-align: right;\">\n      <th></th>\n      <th>Name</th>\n      <th>Rank</th>\n      <th>Race</th>\n      <th>Gender</th>\n      <th>Year</th>\n      <th>CaseID</th>\n      <th>TypeOfMisconduct</th>\n      <th>Allegation</th>\n      <th>Finding</th>\n      <th>Outcome</th>\n    </tr>\n  </thead>\n  <tbody>\n    <tr>\n      <th>0</th>\n      <td>Joseph Abasciano</td>\n      <td>Police Officer</td>\n      <td>White</td>\n      <td>Male</td>\n      <td>2011</td>\n      <td>IAD2011-0182</td>\n      <td>Citizen complaint</td>\n      <td>Neg.Duty/Unreasonable Judge</td>\n      <td>Exonerated</td>\n      <td>NaN</td>\n    </tr>\n    <tr>\n      <th>1</th>\n      <td>Joseph Abasciano</td>\n      <td>Police Officer</td>\n      <td>White</td>\n      <td>Male</td>\n      <td>2011</td>\n      <td>IAD2011-0182</td>\n      <td>Citizen complaint</td>\n      <td>Force</td>\n      <td>Not Sustained</td>\n      <td>NaN</td>\n    </tr>\n    <tr>\n      <th>2</th>\n      <td>Joseph Abasciano</td>\n      <td>Police Officer</td>\n      <td>White</td>\n      <td>Male</td>\n      <td>2013</td>\n      <td>IAD2013-0019</td>\n      <td>Citizen complaint</td>\n      <td>Neg.Duty/Unreasonable Judge</td>\n      <td>Not Sustained</td>\n      <td>NaN</td>\n    </tr>\n    <tr>\n      <th>3</th>\n      <td>Joseph Abasciano</td>\n      <td>Police Officer</td>\n      <td>White</td>\n      <td>Male</td>\n      <td>2019</td>\n      <td>IAD2019-0085</td>\n      <td>Citizen complaint</td>\n      <td>Abuse of Process</td>\n      <td>Not Sustained</td>\n      <td>NaN</td>\n    </tr>\n    <tr>\n      <th>4</th>\n      <td>Ramadani Abdul-Aziz</td>\n      <td>Police Officer</td>\n      <td>Black</td>\n      <td>Male</td>\n      <td>2011</td>\n      <td>IAD2011-0258</td>\n      <td>Citizen complaint</td>\n      <td>Neg.Duty/Unreasonable Judge</td>\n      <td>Sustained</td>\n      <td>Oral Reprimand</td>\n    </tr>\n    <tr>\n      <th>...</th>\n      <td>...</td>\n      <td>...</td>\n      <td>...</td>\n      <td>...</td>\n      <td>...</td>\n      <td>...</td>\n      <td>...</td>\n      <td>...</td>\n      <td>...</td>\n      <td>...</td>\n    </tr>\n    <tr>\n      <th>5655</th>\n      <td>Kevin Zarnoch</td>\n      <td>Police Officer</td>\n      <td>White</td>\n      <td>Male</td>\n      <td>2016</td>\n      <td>IAD2016-0203</td>\n      <td>Internal investigation</td>\n      <td>Reporting for Duty</td>\n      <td>Sustained</td>\n      <td>Oral Reprimand</td>\n    </tr>\n    <tr>\n      <th>5656</th>\n      <td>Kevin Zarnoch</td>\n      <td>Police Officer</td>\n      <td>White</td>\n      <td>Male</td>\n      <td>2019</td>\n      <td>IAD2019-0157</td>\n      <td>Internal investigation</td>\n      <td>Reporting for Duty</td>\n      <td>Sustained</td>\n      <td>Suspension</td>\n    </tr>\n    <tr>\n      <th>5657</th>\n      <td>Robert M Zingg</td>\n      <td>Detective</td>\n      <td>White</td>\n      <td>Male</td>\n      <td>2011</td>\n      <td>IAD2011-0553</td>\n      <td>Internal investigation</td>\n      <td>Conduct Unbecoming</td>\n      <td>Sustained</td>\n      <td>Counselling</td>\n    </tr>\n    <tr>\n      <th>5658</th>\n      <td>Robert M Zingg</td>\n      <td>Detective</td>\n      <td>White</td>\n      <td>Male</td>\n      <td>2012</td>\n      <td>IAD2012-0039</td>\n      <td>Citizen complaint</td>\n      <td>Conduct Unbecoming</td>\n      <td>Not Sustained</td>\n      <td>NaN</td>\n    </tr>\n    <tr>\n      <th>5659</th>\n      <td>Peter A Zographos</td>\n      <td>Police Officer</td>\n      <td>White</td>\n      <td>Male</td>\n      <td>2012</td>\n      <td>IAD2012-0336</td>\n      <td>Citizen complaint</td>\n      <td>Neg.Duty/Unreasonable Judge</td>\n      <td>Exonerated</td>\n      <td>NaN</td>\n    </tr>\n  </tbody>\n</table>\n<p>5660 rows × 10 columns</p>\n</div>"
     },
     "metadata": {},
     "execution_count": 3
    }
   ],
   "source": [
    "# data from webscraper of Boston police disciplinary action\n",
    "\n",
    "df1 = pd.read_csv(\"BostonPoliceInternalAffairs.csv\")\n",
    "df1"
   ]
  },
  {
   "cell_type": "code",
   "execution_count": 9,
   "metadata": {},
   "outputs": [
    {
     "output_type": "execute_result",
     "data": {
      "text/plain": [
       "      Unnamed: 0               Name            Rank   Race Gender    Year  \\\n",
       "0              0   joseph abasciano  Police Officer  White   Male  2011.0   \n",
       "1              1   joseph abasciano  Police Officer  White   Male  2011.0   \n",
       "2              2   joseph abasciano  Police Officer  White   Male  2011.0   \n",
       "3              3   joseph abasciano  Police Officer  White   Male  2011.0   \n",
       "4              4   joseph abasciano  Police Officer  White   Male  2013.0   \n",
       "...          ...                ...             ...    ...    ...     ...   \n",
       "8816           1    vladimir xavier  Police Officer  Black   Male  2012.0   \n",
       "8817           2    vladimir xavier  Police Officer  Black   Male  2014.0   \n",
       "8818           0  anthony d ierardi        Sergeant  White   Male  2017.0   \n",
       "8819           0     robert m zingg       Detective  White   Male  2011.0   \n",
       "8820           1     robert m zingg       Detective  White   Male  2012.0   \n",
       "\n",
       "            CaseID        TypeOfMisconduct                   Allegation  \\\n",
       "0     IAD2011-0182       Citizen complaint  Neg.Duty/Unreasonable Judge   \n",
       "1     IAD2011-0182       Citizen complaint  Neg.Duty/Unreasonable Judge   \n",
       "2     IAD2011-0182       Citizen complaint                        Force   \n",
       "3     IAD2011-0182       Citizen complaint                        Force   \n",
       "4     IAD2013-0019       Citizen complaint  Neg.Duty/Unreasonable Judge   \n",
       "...            ...                     ...                          ...   \n",
       "8816  IAD2012-0009       Citizen complaint                  FIO Reports   \n",
       "8817  IAD2014-0255       Citizen complaint         Respectful Treatment   \n",
       "8818  IAD2017-0154  Internal investigation                      Details   \n",
       "8819  IAD2011-0553  Internal investigation           Conduct Unbecoming   \n",
       "8820  IAD2012-0039       Citizen complaint           Conduct Unbecoming   \n",
       "\n",
       "            Finding  ...                           TITLE        REGULAR  \\\n",
       "0        Exonerated  ...                  Police Officer    $96,890.67    \n",
       "1        Exonerated  ...                  Police Officer    $96,890.67    \n",
       "2     Not Sustained  ...                  Police Officer    $96,890.67    \n",
       "3     Not Sustained  ...                  Police Officer    $96,890.67    \n",
       "4     Not Sustained  ...                  Police Officer    $96,890.67    \n",
       "...             ...  ...                             ...            ...   \n",
       "8816      Sustained  ...                  Police Officer    $93,424.55    \n",
       "8817      Unfounded  ...                  Police Officer    $93,424.55    \n",
       "8818      Sustained  ...  Police Sergeant/FgrPrt Ev Tech            NaN   \n",
       "8819      Sustained  ...                Police Detective   $117,457.28    \n",
       "8820  Not Sustained  ...                Police Detective   $117,457.28    \n",
       "\n",
       "      RETRO         OTHER      OVERTIME        INJURED DETAIL  \\\n",
       "0       NaN      $850.00    $16,595.52             NaN    NaN   \n",
       "1       NaN      $850.00    $16,595.52             NaN    NaN   \n",
       "2       NaN      $850.00    $16,595.52             NaN    NaN   \n",
       "3       NaN      $850.00    $16,595.52             NaN    NaN   \n",
       "4       NaN      $850.00    $16,595.52             NaN    NaN   \n",
       "...     ...           ...           ...            ...    ...   \n",
       "8816    NaN      $800.00    $19,103.00      $3,633.94     NaN   \n",
       "8817    NaN      $800.00    $19,103.00      $3,633.94     NaN   \n",
       "8818    NaN   $12,069.32            NaN   $118,924.58     NaN   \n",
       "8819    NaN    $5,026.27    $97,867.55             NaN    NaN   \n",
       "8820    NaN    $5,026.27    $97,867.55             NaN    NaN   \n",
       "\n",
       "     QUINN / EDUCATION INCENTIVE TOTAL EARNINGS  POSTAL  \n",
       "0                    $24,222.83    $138,559.02   2132.0  \n",
       "1                    $24,222.83    $138,559.02   2132.0  \n",
       "2                    $24,222.83    $138,559.02   2132.0  \n",
       "3                    $24,222.83    $138,559.02   2132.0  \n",
       "4                    $24,222.83    $138,559.02   2132.0  \n",
       "...                          ...            ...     ...  \n",
       "8816                         NaN   $116,961.49   2121.0  \n",
       "8817                         NaN   $116,961.49   2121.0  \n",
       "8818                 $23,784.81    $154,778.71   2030.0  \n",
       "8819                         NaN   $220,351.10   2090.0  \n",
       "8820                         NaN   $220,351.10   2090.0  \n",
       "\n",
       "[8821 rows x 46 columns]"
      ],
      "text/html": "<div>\n<style scoped>\n    .dataframe tbody tr th:only-of-type {\n        vertical-align: middle;\n    }\n\n    .dataframe tbody tr th {\n        vertical-align: top;\n    }\n\n    .dataframe thead th {\n        text-align: right;\n    }\n</style>\n<table border=\"1\" class=\"dataframe\">\n  <thead>\n    <tr style=\"text-align: right;\">\n      <th></th>\n      <th>Unnamed: 0</th>\n      <th>Name</th>\n      <th>Rank</th>\n      <th>Race</th>\n      <th>Gender</th>\n      <th>Year</th>\n      <th>CaseID</th>\n      <th>TypeOfMisconduct</th>\n      <th>Allegation</th>\n      <th>Finding</th>\n      <th>...</th>\n      <th>TITLE</th>\n      <th>REGULAR</th>\n      <th>RETRO</th>\n      <th>OTHER</th>\n      <th>OVERTIME</th>\n      <th>INJURED</th>\n      <th>DETAIL</th>\n      <th>QUINN / EDUCATION INCENTIVE</th>\n      <th>TOTAL EARNINGS</th>\n      <th>POSTAL</th>\n    </tr>\n  </thead>\n  <tbody>\n    <tr>\n      <th>0</th>\n      <td>0</td>\n      <td>joseph abasciano</td>\n      <td>Police Officer</td>\n      <td>White</td>\n      <td>Male</td>\n      <td>2011.0</td>\n      <td>IAD2011-0182</td>\n      <td>Citizen complaint</td>\n      <td>Neg.Duty/Unreasonable Judge</td>\n      <td>Exonerated</td>\n      <td>...</td>\n      <td>Police Officer</td>\n      <td>$96,890.67</td>\n      <td>NaN</td>\n      <td>$850.00</td>\n      <td>$16,595.52</td>\n      <td>NaN</td>\n      <td>NaN</td>\n      <td>$24,222.83</td>\n      <td>$138,559.02</td>\n      <td>2132.0</td>\n    </tr>\n    <tr>\n      <th>1</th>\n      <td>1</td>\n      <td>joseph abasciano</td>\n      <td>Police Officer</td>\n      <td>White</td>\n      <td>Male</td>\n      <td>2011.0</td>\n      <td>IAD2011-0182</td>\n      <td>Citizen complaint</td>\n      <td>Neg.Duty/Unreasonable Judge</td>\n      <td>Exonerated</td>\n      <td>...</td>\n      <td>Police Officer</td>\n      <td>$96,890.67</td>\n      <td>NaN</td>\n      <td>$850.00</td>\n      <td>$16,595.52</td>\n      <td>NaN</td>\n      <td>NaN</td>\n      <td>$24,222.83</td>\n      <td>$138,559.02</td>\n      <td>2132.0</td>\n    </tr>\n    <tr>\n      <th>2</th>\n      <td>2</td>\n      <td>joseph abasciano</td>\n      <td>Police Officer</td>\n      <td>White</td>\n      <td>Male</td>\n      <td>2011.0</td>\n      <td>IAD2011-0182</td>\n      <td>Citizen complaint</td>\n      <td>Force</td>\n      <td>Not Sustained</td>\n      <td>...</td>\n      <td>Police Officer</td>\n      <td>$96,890.67</td>\n      <td>NaN</td>\n      <td>$850.00</td>\n      <td>$16,595.52</td>\n      <td>NaN</td>\n      <td>NaN</td>\n      <td>$24,222.83</td>\n      <td>$138,559.02</td>\n      <td>2132.0</td>\n    </tr>\n    <tr>\n      <th>3</th>\n      <td>3</td>\n      <td>joseph abasciano</td>\n      <td>Police Officer</td>\n      <td>White</td>\n      <td>Male</td>\n      <td>2011.0</td>\n      <td>IAD2011-0182</td>\n      <td>Citizen complaint</td>\n      <td>Force</td>\n      <td>Not Sustained</td>\n      <td>...</td>\n      <td>Police Officer</td>\n      <td>$96,890.67</td>\n      <td>NaN</td>\n      <td>$850.00</td>\n      <td>$16,595.52</td>\n      <td>NaN</td>\n      <td>NaN</td>\n      <td>$24,222.83</td>\n      <td>$138,559.02</td>\n      <td>2132.0</td>\n    </tr>\n    <tr>\n      <th>4</th>\n      <td>4</td>\n      <td>joseph abasciano</td>\n      <td>Police Officer</td>\n      <td>White</td>\n      <td>Male</td>\n      <td>2013.0</td>\n      <td>IAD2013-0019</td>\n      <td>Citizen complaint</td>\n      <td>Neg.Duty/Unreasonable Judge</td>\n      <td>Not Sustained</td>\n      <td>...</td>\n      <td>Police Officer</td>\n      <td>$96,890.67</td>\n      <td>NaN</td>\n      <td>$850.00</td>\n      <td>$16,595.52</td>\n      <td>NaN</td>\n      <td>NaN</td>\n      <td>$24,222.83</td>\n      <td>$138,559.02</td>\n      <td>2132.0</td>\n    </tr>\n    <tr>\n      <th>...</th>\n      <td>...</td>\n      <td>...</td>\n      <td>...</td>\n      <td>...</td>\n      <td>...</td>\n      <td>...</td>\n      <td>...</td>\n      <td>...</td>\n      <td>...</td>\n      <td>...</td>\n      <td>...</td>\n      <td>...</td>\n      <td>...</td>\n      <td>...</td>\n      <td>...</td>\n      <td>...</td>\n      <td>...</td>\n      <td>...</td>\n      <td>...</td>\n      <td>...</td>\n      <td>...</td>\n    </tr>\n    <tr>\n      <th>8816</th>\n      <td>1</td>\n      <td>vladimir xavier</td>\n      <td>Police Officer</td>\n      <td>Black</td>\n      <td>Male</td>\n      <td>2012.0</td>\n      <td>IAD2012-0009</td>\n      <td>Citizen complaint</td>\n      <td>FIO Reports</td>\n      <td>Sustained</td>\n      <td>...</td>\n      <td>Police Officer</td>\n      <td>$93,424.55</td>\n      <td>NaN</td>\n      <td>$800.00</td>\n      <td>$19,103.00</td>\n      <td>$3,633.94</td>\n      <td>NaN</td>\n      <td>NaN</td>\n      <td>$116,961.49</td>\n      <td>2121.0</td>\n    </tr>\n    <tr>\n      <th>8817</th>\n      <td>2</td>\n      <td>vladimir xavier</td>\n      <td>Police Officer</td>\n      <td>Black</td>\n      <td>Male</td>\n      <td>2014.0</td>\n      <td>IAD2014-0255</td>\n      <td>Citizen complaint</td>\n      <td>Respectful Treatment</td>\n      <td>Unfounded</td>\n      <td>...</td>\n      <td>Police Officer</td>\n      <td>$93,424.55</td>\n      <td>NaN</td>\n      <td>$800.00</td>\n      <td>$19,103.00</td>\n      <td>$3,633.94</td>\n      <td>NaN</td>\n      <td>NaN</td>\n      <td>$116,961.49</td>\n      <td>2121.0</td>\n    </tr>\n    <tr>\n      <th>8818</th>\n      <td>0</td>\n      <td>anthony d ierardi</td>\n      <td>Sergeant</td>\n      <td>White</td>\n      <td>Male</td>\n      <td>2017.0</td>\n      <td>IAD2017-0154</td>\n      <td>Internal investigation</td>\n      <td>Details</td>\n      <td>Sustained</td>\n      <td>...</td>\n      <td>Police Sergeant/FgrPrt Ev Tech</td>\n      <td>NaN</td>\n      <td>NaN</td>\n      <td>$12,069.32</td>\n      <td>NaN</td>\n      <td>$118,924.58</td>\n      <td>NaN</td>\n      <td>$23,784.81</td>\n      <td>$154,778.71</td>\n      <td>2030.0</td>\n    </tr>\n    <tr>\n      <th>8819</th>\n      <td>0</td>\n      <td>robert m zingg</td>\n      <td>Detective</td>\n      <td>White</td>\n      <td>Male</td>\n      <td>2011.0</td>\n      <td>IAD2011-0553</td>\n      <td>Internal investigation</td>\n      <td>Conduct Unbecoming</td>\n      <td>Sustained</td>\n      <td>...</td>\n      <td>Police Detective</td>\n      <td>$117,457.28</td>\n      <td>NaN</td>\n      <td>$5,026.27</td>\n      <td>$97,867.55</td>\n      <td>NaN</td>\n      <td>NaN</td>\n      <td>NaN</td>\n      <td>$220,351.10</td>\n      <td>2090.0</td>\n    </tr>\n    <tr>\n      <th>8820</th>\n      <td>1</td>\n      <td>robert m zingg</td>\n      <td>Detective</td>\n      <td>White</td>\n      <td>Male</td>\n      <td>2012.0</td>\n      <td>IAD2012-0039</td>\n      <td>Citizen complaint</td>\n      <td>Conduct Unbecoming</td>\n      <td>Not Sustained</td>\n      <td>...</td>\n      <td>Police Detective</td>\n      <td>$117,457.28</td>\n      <td>NaN</td>\n      <td>$5,026.27</td>\n      <td>$97,867.55</td>\n      <td>NaN</td>\n      <td>NaN</td>\n      <td>NaN</td>\n      <td>$220,351.10</td>\n      <td>2090.0</td>\n    </tr>\n  </tbody>\n</table>\n<p>8821 rows × 46 columns</p>\n</div>"
     },
     "metadata": {},
     "execution_count": 9
    }
   ],
   "source": [
    "# data of Boston police officers that contributed\n",
    "\n",
    "df2 = pd.read_csv(\"BPIA-APC-LEAD-EARNINGS.csv\")\n",
    "df2"
   ]
  },
  {
   "cell_type": "code",
   "execution_count": 15,
   "metadata": {},
   "outputs": [
    {
     "output_type": "stream",
     "name": "stdout",
     "text": [
      "Number of unique names that contributed:  412\n['joseph abasciano', 'cesar abreu', 'luis m anjos', 'christopher adams', 'christopher p adams', 'john a adduci', 'jason m albanese', 'anthony m alexis', 'lamont anderson', 'alfredo andres', 'diamantino e araujo', 'mark l assad', 'gerard w bailey', 'dana s barrett', 'harry bazile', 'manuel blas', 'michael john boulger', 'john p boyle', 'john t boyle', 'john d broderick', 'gwendolyn brown', 'michael a brown', 'michael burke', 'john g burrows', 'christopher bailey', 'brian l ball', 'matthew f becker', 'cynthia m beckford-brewington', 'fabian j belgrave', 'anthony n bellissimo', 'paul j bercume', 'thomas p bernier', 'dean bickerton', 'michael r bizzozero', 'brian c black', 'omar borges', 'eric d bradshaw', 'carlson breneus', 'john m brown', 'patrick browning', 'joseph buiel', 'eliana builes', 'robert butler', 'shawn c butler', 'donald o caisey', 'timothy callahan', 'jeffrey c cecil', 'charles j cellucci', 'robert m charbonnier', 'robert p colburn', 'james conley', 'james b conley', 'matthew j conley', 'matthew mcneil conley', 'michael conley', 'michael j conneely', 'jeffrey c connolly', 'kara connolly', 'john a conway', 'joseph l coppinger', 'winifred cotter', 'roberta c craven', 'antonio cruz', 'james t cullity', 'christopher j cunniff', 'christopher j curtin', 'jeffrey cahill', 'lawrence a calderone', 'emanuel canuto', 'matthew k carey', 'christopher r carr', 'christopher f carroll', 'john caulfield', 'ralph w caulfield', 'brendan e cavanaugh', 'franklyn centeio sr.', 'steven m charbonnier', 'paul r chevrette', 'joseph p cintolo', 'jason m clutterbuck', 'dennis c cogavin', 'christopher m colby', 'felipe i colon', 'timothy connolly', 'william a connor', 'kevin p cook', 'jessica coppney', 'james a coyne', 'david d crabbe', 'jacqueline d creaven', 'stephen g crimmins', 'andrew crosby', 'timothy cullen', 'kenneth m curley', 'patrick m curtin', 'james carnes', 'james clark', 'kendra conway', 'christopher curtis', 'dominic p dimarzo', 'joshua j delarosa', 'laura a delaney', 'john j dineen', 'steven a dodd', 'michael r donovan', 'william e doogan', 'john p doris', 'richard j driscoll', 'cavan dunn', 'humberto daveiga', 'sean daniely', 'winston deleon', 'brian r delahanty', 'paul e delaney', 'edward p dervan', 'richard diaz', 'brian j doherty', 'sean m doherty', 'thomas j domenico', 'beth e donovan', 'kathleen p doris', 'paul j downey', 'michael r doyle', 'michael t duffley', 'brian r dunford', 'william j dwan', 'john danilecki', 'henry doherty', 'jacqueline a sellon', 'thomas l sexton', 'john m shaughnessy', 'matthew g shea', 'tyrone e smith', 'brian stallings', 'james m stoddard', 'michael j stratton', 'john studley', 'lisa j sullivan', 'steven sweeney', 'michael r szegda', 'paul a sadatis jr', 'william j samaras', 'alberto santiago', 'william f sargent', 'juan j seoane', 'nadia g siconolfi', 'samil t silta', 'taylor s small', 'steven smigliani', 'ismael sosa', 'matthew spillane', 'vincent h stephens', 'kurt j stokinger', 'joseph e sullivan', 'walter suprey', 'isabel c sweet', 'vaden scantlebury', 'john w earley', 'larry e ellison', 'robert t england', 'allison eng', 'emily m english', 'jason m ezekiel', 'andrew j fay', 'john g fitzgerald', 'john j fitzgerald', 'patrick s flaherty', 'sean flaherty', 'robert flynn', 'robert c flynn', 'anthony h francis', 'dario e fancelli', 'frank a femino', 'eugenio p fernandes', 'angel figueroa', 'ediberto figueroa', 'richard h fitzpatrick', 'william j flores', 'peter n fontanez', 'lenin h frederick', 'gladys frias', 'korey franklin', 'donna m gavin', 'ethan grey', 'daniel g griffin', 'james a griffin', 'robert a griffin', 'kenneth h grubbs', 'edward j gaffey', 'william gallagher', 'joseph a gallarelli', 'maria p galvao', 'latoya l gamble', 'sean o gannon', 'edward j garvey', 'jarrod a gero', 'james v giardina', 'james v giardina jr.', 'joseph g gillespie', 'jesse e goff', 'jose gomes', 'jeremiah goodwin', 'stephen w green', 'bernard edward greene', 'thomas m griffin', 'oscar a guerrero', 'arthur j hall-brewster', 'james harte', 'christopher a hartgrove', 'andrew heggie', 'joseph holmes', 'timothy m horan', 'haseeb hosein', 'david l hale', 'william f haley', 'timothy j hancock', 'jon-michael s harber', 'michael c harrington', 'jahad hasan', 'james g hasson', 'bruce w higgins', 'luke b holbrook', 'brian holmes', 'brian p holmes', 'thomas b hopkins', 'william r hubbard', 'daniel m humphreys', 'robert p hurley', 'john f hynes', 'alexis herrera-brea', 'paul m joseph', 'lylana jones-henderson', 'william b jones', 'thomas a joyce', 'bret labelle', 'roberto b lacolla', 'james h lacroix', 'nicole w lapointe', 'brian j larkin', 'thomas leahy', 'joseph r leeman', 'brian j linehan', 'arthur v lonergan', 'samora f lopes', 'luis lopez', 'nicholas litterio', 'dennis layden', 'roger d layden jr.', 'patrick k layden', 'beth leary', 'gregory p long', 'joseph lynch', 'brendan lyons', 'diana lopez', 'charbel b kamel', 'brendan w kelly', 'john f kenneally', 'joseph s king', 'therese m kozmiski', 'donald f keenan', 'patrick kane', 'keith p kaplan', 'charles j kelley', 'william j kelley', 'charles g kelly', 'patrick kelly', 'stephen g kelly', 'william g knecht', 'scott m mackie', 'eliseo marrero', 'shawn j mccarthy', 'joseph h mcdonough', 'patrick j mcgillicuddy', 'douglas j mcgrath', 'brian b mcmanus', 'michael t mcmanus', 'john d mcdonough', 'joseph d mcdonough', 'kevin mcelmoyle', 'kevin p mcgoldrick', 'michael j mcmanus', 'stephen c mcmanus', 'melissa i medina', 'richard l medina', 'joseph m miskel', 'andrew c miskell', 'keith monahan', 'agnaldo p monteiro', 'nicholas g moore', 'richard g moriarty', 'matthew j morris', 'matthew p morrissey', 'curtis mosley', 'patrick t murphy', 'timothy murray', 'timothy d murray', 'john j maclaughlan', 'brian c mahoney', 'david malcolm', 'alexis maldonado', 'mark a maregni', 'carlos a martinez', 'david martinez', 'ryan w mason', 'daniel j mccarthy', 'john mcdonald', 'james michael mcdonnell', 'michael p mcdougall', 'stephen mcneil', 'john a mccarthy', 'peter l mccarthy', 'clifton mchale', 'daniel p mcmorrow', 'joseph mcsorley', 'sixto merced', 'garrett g mitchell', 'jose molina iii', 'charles r moore', 'edward a moquete', 'christopher morgan', 'steven j morgan', 'dennis i morson', 'john moynihan', 'david c murphy', 'richard moriarty', 'michael murphy', 'thomas j noto', 'christopher m nee', 'john m noberini', 'jason a nunez', \"michael c o'hara\", \"james o'loughlin\", \"james m o'loughlin\", \"stephen m o'neil\", \"thomas j o'leary\", \"mary a o'neill\", \"jonathan o'brien\", \"daniel s o'donnell\", \"katelyn m o'toole\", \"jeremiah j o'brien\", \"peter d o'brien\", \"stephen t o'brien\", \"david l o'connor\", 'ydritzabel oller', \"gerard o'brien\", 'william leo parlon', 'kevin r plunkett', 'anthony j poulos', 'scott pulchansingh', 'paul a painten', 'michael p paradis', 'paul j passanisi', 'roberto c paulino', 'michael d peters', 'adrian pinto', 'miguelangelo r pires', 'thomas j porter', 'donald b powell', 'michael powers', 'john f puglia', 'daniel j quintiliani', 'paul t quinn', 'antoine j ramos', 'nilton ramos', 'stephen j ridge', 'gino d rodrigues', 'matthew m ross', 'john j ryle', 'kenneth r reid', 'john m ridge', 'john p ridge', 'bryan rivers', 'joao c rodrigues', 'rafael c rodriguez', 'stephen d roe', 'john k rogers', 'phillip j ronca', 'kevin d rooney', 'michael m ross', 'matthew j ryan', 'stefan theodore', 'michael g talbot', 'lucas e taxter', 'michael taylor', 'caetano a teixeira', 'john tevnan', 'desmond tyler', 'james r tarantino', 'jose m teixeira', 'james m thompson', 'jay p tully', 'timothy torigian', 'robert twitchell', 'martin o velez', 'brendan p walsh', 'robert w walsh', 'frank g williams', 'charles e wilson', 'justin p wood', 'adrian s worrell', 'mathew wosny', 'greg t walsh', 'james l walsh', 'seamus p walsh', 'william j walsh', 'brian s waters', 'lawrence d welch', 'dante b williams', 'fred r williams', 'vladimir xavier', 'anthony d ierardi', 'robert m zingg']\n"
     ]
    }
   ],
   "source": [
    "names = list(df2.Name.unique())\n",
    "print(\"Number of unique names that contributed: \", len(names))\n",
    "print(names)"
   ]
  },
  {
   "cell_type": "code",
   "execution_count": 26,
   "metadata": {
    "tags": [
     "outputPrepend"
    ]
   },
   "outputs": [
    {
     "output_type": "stream",
     "name": "stdout",
     "text": [
      " F Fanning', 'Selena Farley', 'Brian T Farrell', 'James Farrell', 'John Farrell', 'Joseph Fawkes', 'Andrew J Fay', 'John James Feeney', 'William J Feeney', 'Berlino Felix', 'Michael E Felton', 'Frank A Femino', 'Tracey A Fenton', 'Eugenio P Fernandes', 'Fred Ferrara', 'Angel Figueroa', 'Ediberto Figueroa', 'Robert F Figueroa', 'Thomas J Finn', 'Thomas Michael Finn', 'Jeffrey S Firnstein', 'Debra M Fisher', 'Joseph Fisher', 'Nicholas Fisher', 'Daniel A Fitzgerald', 'Edward F Fitzgerald', 'John G Fitzgerald', 'John J Fitzgerald', 'Paul A Fitzgerald', 'Brian Fitzgibbon', 'Denis J Fitzpatrick', 'John Fitzpatrick', 'Richard H Fitzpatrick', 'Timothy G Fitzpatrick', 'Charles F Flagg', 'Patrick S Flaherty', 'Sean Flaherty', 'William J Flaherty', 'Edward J Fleming', 'Mark J Fleming', 'Richard J Fleming', 'William J Flores', 'Robert Flynn', 'Robert C Flynn', 'Eric Foley', 'James M Foley', 'Mark Foley', 'Patrick K Foley', 'Patrick MJ Foley', 'Sandro Fonseca', 'Peter N Fontanez', 'Gretta Forbes', 'Kevin Ford', 'Michael A Forde', 'Adam J Fornash', 'Kimberly Fortes', 'John N Foundas', 'Anthony H Francis', 'Eric A Francis', 'Korey L Franklin', 'Lenin H Frederick', 'Roy A Frederick', 'Richard D Freedman', 'James J Freeman', 'Gladys Frias', 'Arthur G Fritch', 'Kim L Gaddy', 'Edward J Gaffey', 'Kenneth J Gaines', 'Jamila Gales', 'Thomas Gallagher', 'William Gallagher', 'Joseph A Gallarelli', 'Maria P Galvao', 'James L Galvin', 'LaToya L Gamble', 'Andrew J Gambon', 'Richard J Gannon', 'Sean O Gannon', 'Peter J Garabedian', 'Francis N Garcia', 'Joseph E Garcia', 'Wilfredo Garcia', 'Andrew G Garvey', 'Edward J Garvey', 'Edward L Gately', 'James A Gauvin', 'Roy Gava', 'David S Gavin', 'Donna M Gavin', 'William H Gavin', 'Michael J Geary', 'Michael T Geary', 'Kenneth K Gee', 'Jackson Geneus', 'Eamon D Geoghegan', 'Jarrod A Gero', 'Peter Giannopoulos', 'James V Giardina', 'James V Giardina Jr.', 'Damon D Gibbs', 'James M Gigliello', 'Steven L Gil', 'Brian T Gill', 'Diane Gill', 'Michael F Gill', 'Sabrina Gill', 'Edward T Gillespie', 'Joseph G Gillespie', 'Jason S Gilmore Sr.', 'Jimmy Giraldo', 'Katherine E Glaropoulos', 'David Godin', 'Jesse E Goff', 'Michael Golden', 'Timothy J Golden', 'Jose Gomes', 'Ildo D Goncalves', 'Eliezer Gonzalez', 'Ivan P Gonzalez', 'Jeremiah Goodwin', 'Joseph P Gorman III', 'Paul Gormley', 'John J Gould', 'Edward Grace', 'Loletha Graham-Smith', 'Donroy G Grant', 'Nicole L Grant', 'Alicia Grealish', 'Anthony Green', 'Arthur W Green', 'John W Green', 'Stephen W Green', 'W Scot Green', 'Bernard Edward Greene', 'Richard L Greer', 'Murphy L Gregory Jr', 'John P Greland', 'Ethan Grey', 'Elton M Grice', 'Daniel G Griffin', 'James A Griffin', 'Robert A Griffin', 'Thomas M Griffin', 'Kevin E Griffiths', 'Kenneth H Grubbs', 'Elliot Raymond Guenard', 'Oscar A Guerrero', 'Merica Guillaume', 'James H Gunn', 'Edwin Guzman', 'Kerim Hadzi', 'David L Hale', 'William F Haley', 'Arthur J Hall-Brewster', 'Jerome A Hall-Brewster', 'Randall J Halstead', 'Amy Hamilton', 'Edward F Hamilton', 'Timothy J Hancock', 'Anthony Handelman-Smith', 'Mark R Handrahan', 'Gregory E Hanley', 'Joseph Hanley', 'Jeffrey F Hannigan', 'David J III Hansford', 'Michael C Hanson', 'Jon-Michael S Harber', 'Otis C Harewood', 'Michael P Harper', 'Michael C Harrington', 'Richard F Harrington', 'Robert P Harrington', 'James D Harris', 'Shawn N Harris', 'Irene Hart', 'James Harte', 'Christopher A Hartgrove', 'Todd M Hartgrove', 'Jahad Hasan', 'Matthew E Haslett', 'James G Hasson', 'William R Hasson', 'Caitlin B Haugh', 'James D Hawkins', 'Jenna M Hawkins', 'Liam P Hawkins', 'Mark P Hayes', 'Thomas B Hayes', 'Paul E Hayward', 'Kenneth L Hearns', 'Roque D Heath', 'Jerome V Hebard', 'Roy Hechavarria', 'Christopher G Hegerich', 'Andrew Heggie', 'Mark C Hennessy', 'Ismael R Henriquez', 'Richard E Henshaw', 'Angelo R Hernandez', 'Jorge L Hernandez', 'Juana V Hernandez', 'Alexis Herrera-Brea', 'Tod Herron', 'Jonathan Hester', 'Wayne Emory Hester', 'Bernard E III Hicks', 'Timothy R Hicks', 'Bruce W Higgins', 'Dudley N Hill', 'John C Ho', 'Todd T Ho', 'Larry C Hobson', 'Jeremiah C Hogan', 'Matthew Hogardt', 'Luke B Holbrook', 'Michael D Holden', 'Alvin S Holder', 'James Holder', 'Trent W Holland', 'David A Holleran', 'Mayfield H Holliday', 'Bruce A Holloway', 'Brian Holmes', 'Brian P Holmes', 'Carole D Holmes', 'Joseph Holmes', 'Kyle J Holmes', 'Christopher M Holt', 'Alton Hood', 'Thomas B Hopkins', 'John Fredrick Horan', 'Timothy M Horan', 'Stephen J Horgan', 'Steven L Horne', 'Joseph R Horton', 'Haseeb Hosein', 'Seth A Housman', 'Steven W Howard', 'William R Hubbard', 'John C Hughes', 'Daniel M Humphreys', 'Andrew Hunter', 'Robert P Hurley', 'John F Hynes', 'Joseph Hynes', 'David G Hyslip', 'Anthony D Ierardi', 'William Iraola', 'Dwain R Jackson', 'Isaac D Jackson IV', 'Earl G Jacob', 'Alfred A James', 'Brenda James', 'Erick Kelvin James', 'Pele James', 'Harry Jean', 'Jean G Jean Louis', 'Richard P Jeanetti', 'Derek Scott Jefferson', 'Nina Jefferson', 'Tarus Jay Jefferson', 'Lynwood Jenkins', 'Andrew L Johnson', 'Brian W Johnson', 'Charles M Johnson', 'John M Johnson', 'Keith Johnson', 'Laurence C Johnson', 'Lylana Jones-Henderson', 'Andrell J Jones', 'Craig D Jones', 'Curtis A Jones', 'Kevin F Jones', 'William B Jones', 'Richard Jordan', 'Leslie Joseph-Greene', 'Gregory Joseph', 'Kenny Joseph', 'Paul M Joseph', 'Robertkly Joseph', 'Windell C Josey', 'Paul J Joyce', 'Thomas A Joyce', 'Dave E Juba', 'Donald F KEENAN', 'John Kacvinsky', 'Charbel B Kamel', 'Michael A Kane', 'Patrick Kane', 'Keith P Kaplan', 'Adarbaad F Karani', 'Benjamin M Katz', 'Daniel C Keane', 'Christopher Mark Keaney', 'Tomas Coilin Kearney', 'Don E Keaton', 'Richard Keefe', 'Daniel M Keeler', 'Thomas J Keeley', 'Allan G Kelley', 'Charles J Kelley', 'Derek Kelley', 'Richard J Kelley', 'Thomas Kelley', 'William J Kelley', 'Ramon M Kelly-Chalas', 'Brendan W Kelly', 'Charles G Kelly', 'Kenneth Kelly', 'Patrick Kelly', 'Stephen G Kelly', 'John F Kenneally', 'Joseph W Kenneally', 'Carolyn L Kennedy', 'Christopher M Kennedy', 'Frederick P Kennedy', 'Gerard Stephen Kennedy', 'Christopher J Kennefick', 'John Edward Kervin', 'Matthew A Kervin', 'Joey C Key', 'David D Kiley', 'Horace N Kincade', 'Joseph S King', 'Maria C King', 'Peter King', 'Gloria D Kinkead', 'John A Klokman', 'Kamil Kluziak', 'William G Knecht', 'Daniel B Kornetsky', 'Therese M Kozmiski', 'Martin B Kraft', 'Eric G Krause', 'Matthew J Kulesza', 'Edward K Kwok', 'Nicholas LITTERIO', 'Bret LaBelle', 'Roberto B LaColla', 'James H LaCroix', 'Nicole W LaPointe', 'Roselyn Lacroix', 'Thuan D Lai', 'Michael H Lam', 'Dana C Lamb', 'Steven R Lambert', 'Anthony F Lamonica', 'Stephen R Landrum', 'Daniel T Lane', 'Frederick D Lane', 'David R Lanteigne', 'Brian J Larkin', 'Brian K Latson', 'Stephen P Law', 'Timothy Lawless', 'Ayesha M Lawton', 'Myles Lawton', 'Dennis Layden', 'Roger D Layden Jr.', 'Patrick K Layden', 'Brian Matthew Leahy', 'Thomas Leahy', 'Beth Leary', 'James P Leary', 'Ellys E Lee', 'Frank Lee', 'Yong W Lee', 'Joseph R Leeman', 'Thomas E Lembo', 'Ryan Lenane', 'Timothy Lenane', 'Rebecca J Leo', 'Brigido Orlando Leon', 'Gerrard Lett', 'Vladimir A Levichev', 'Derrick S Levy', 'Dowayne O Lewis', 'Janet P Lewis', 'Richard G Lewis', 'Roderick L Lewis', 'Leonard J Lilly', 'Jean-Paul Limontas', 'Brian J Linehan', 'Dennis R Linehan', 'Daniel P Linskey', 'Jeffrey Lippolis', 'Steven Lizardo', 'Mark Joseph Loewen', 'Melissa A Lombardo', 'Joseph Lomuscio', 'Arthur V Lonergan', 'Christopher M Long', 'Daniel A Long', 'Gregory P Long', 'Terence S Long', 'Samora F Lopes', 'Edwin Manuel Lopez', 'Luis Lopez', 'Mario R Lozano', 'Robert Thomas Lucas', 'Scott D Lucas', 'Rico Lucien', 'Robert M Lundbohm', 'Brian P Lundy', 'Robert Lyden', 'Brian J Lydon', 'Colm P Lydon', 'James N Lydon Jr.', 'James R Lynch', 'Jeffrey W Lynch', 'Joseph Lynch', 'Brendan Lyons', 'Willie B Lyons', 'David Paul MacDonald', 'Shawn MacIver', 'Charles V MacKinnon', 'John J MacLaughlan', 'Eric L MacPherson', 'Ryan T MacRoberts', 'Jeffrey S Maccallum', 'Daniel E Macdonald', 'Daniel F Macdonald', 'Joseph G Macdonald', 'David A Macioce', 'Scott J Macisaac', 'Scott M Mackie', 'Brian J Maclean', 'Kenneth A Macmaster', 'Edward J Macpherson', 'Mark E Madden Jr.', 'Louis Madeira', 'Kevin Michael Magoon', 'Brian C Mahoney', 'Ian P Mahoney', 'Jeremy M Mahoney', 'Michael Mahoney', 'David Malcolm', 'Alexis Maldonado', 'Michael P Maloney', 'John G Maloof', 'Adam A Mammone', 'Frank A Mancini', 'Scott R Mangino', 'John J Manning', 'Leo Michael Manning', 'Michael Manning', 'Ryan H Manning', 'Shawn P Marando', 'David Marchant', 'Mark A Maregni', 'Jose Ramon Marichal', 'Eliseo Marrero', 'Stephanie J Marrow', 'Paul E Martin', 'Randall D Martin', 'Sean Martin', 'Carlos A Martinez', 'David Martinez', 'Frederick G Marzano', 'Ryan W Mason', 'Andrew P Mastrorillo', 'Dany Matos', 'Courtney C Matthews', 'Gregory G Matthews', 'Joseph P Matthews', 'Adam Mazzola', 'Marc McBrien', 'Shaun M McBrien', 'Matthew S McCabe', 'Christopher J McCarthy', 'Daniel J McCarthy', 'Matthew W McCarthy', 'Patrick J McCarthy', 'Shawn J McCarthy', 'Timothy McCarthy', 'Kevin J McClay', 'Bryan McCue', 'Michael P McDonagh', 'John McDonald', 'James Michael McDonnell', 'Albert A McDonough', 'Joseph h McDonough', 'Patrick J McDonough', 'Michael P McDougall', 'Paul Christopher McGarty Jr.', 'Patrick J McGillicuddy', 'Patricia McGoldrick', 'Omar McGovern', 'Brian D McGrail', 'Bryan T McGrath', 'Douglas J McGrath', 'Rachel O McGuire', 'Allison Patricia McHale', 'Michael P McHugh', 'John R McInerney', 'Brendan O McIntyre', 'Jason McKenna', 'Mark Joseph McKeown', 'Shannon McLaughlin-Fabiano', 'Edward F McMahon', 'Brian B McManus', 'Michael T McManus', 'Stephen McNeil', 'Gregory A McPherson', 'David Mcbride', 'John F Mcbrien', 'John R Mccabe', 'Joel Christopher Mccarthy', 'John A Mccarthy', 'Michael P Mccarthy', 'Peter L Mccarthy', 'Sean Michael Mccarthy', 'Richard F Mccormack', 'Gregory Mccormick', 'Kelley J Mccormick', 'Bernard D Mccrevan', 'John D Mcdonough', 'Joseph D Mcdonough', 'Thomas V Mcdonough', 'Kevin Mcelmoyle', 'Kevin J Mcgill', 'Kevin P Mcgoldrick', 'Steven Mcgovern', 'Clifton Mchale', 'Garvin F Mchale', 'Shawn P Mckenzie', 'Steven P Mclaughlin', 'Michael J Mcmanus', 'Stephen C Mcmanus', 'Daniel P Mcmorrow', 'Daniel Mcnamara', 'Richard P Mcneill', 'John E Mcnulty', 'Eric Mcpherson', 'Joseph Mcsorley', 'Thomas E Meade', 'Andrew Medina', 'Dennis M Medina', 'Gustavo Gil Medina', 'Joseph F Medina', 'Melissa I Medina', 'Richard L Medina', 'Sergio D Medrano', 'Raymundo E Melo', 'David E Melvin', 'Eric Mencey', 'Frederick M Mendes', 'Sixto Merced', 'James F Meredith', 'Lee S Merlino', 'Robert M Merner', 'Kirk D Merricks', 'Peter J Messina', 'Brian J Michaud', 'Rochefort Milien', 'David J Miller', 'Marie A Miller', 'Timothy J Mills', 'Christa A Milton', 'Manuel G Miranda', 'Joseph M Miskel', 'Andrew C Miskell', 'Garrett G Mitchell', 'Walter T Mitchell', 'Jose Molina III', 'Jose Molina', 'Joseph G Monahan', 'Keith Monahan', 'Agnaldo P Monteiro', 'Domingo R Montiero', 'Charles R Moore', 'James A Moore', 'Nicholas G Moore', 'Edward A Moquete', 'William P Moran', 'Stephen Morash', 'Christopher A Moreno', 'Christopher Morgan', 'Sheldon T Morgan', 'Steven J Morgan', 'Richard G Moriarty', 'Clarence T Morris', 'Matthew J Morris', 'Peter B Morris', 'Matthew P Morrissey', 'Carol Morse', 'Dennis I Morson', 'Raymond R Mosher', 'Curtis Mosley', 'John Moynihan', 'Robert M Mulhern', 'John P Mullan', 'Robert F Muller', 'Sean P Mulligan', 'Patrick Cullen Munroe', 'David C Murphy', 'Patrick T Murphy', 'Paul W Murphy', 'Joseph A Murray', 'Owen C Murray', 'Timothy Murray', 'Timothy D Murray', 'Karen J Murrell-Brown', 'Michael Anthony Mustacchio', 'Christopher Mylett', 'Jimmy Le NGUYEN', 'JACK P NI', 'Joseph M Narduzzo', 'Christopher M Nee', 'Elmazine C Nelson', 'Carl J Nemes', 'Robert Newton', 'Diep H Nguyen', 'Khai Q Nguyen', 'Rohan Nicholas', 'John M Noberini', 'Edward Joseph Nolan', 'Michael J Norman', 'Edward T Norton', 'Peter O Norton', 'Lance R Norwood', 'Thomas J Noto', 'Miguel A Novo', 'Antonio Nunez', 'Evan Nunez', 'Jason A Nunez', \"Frank James O'Brien\", \"James H O'Brien\", \"Jonathan O'Brien\", \"Kenneth R O'Brien\", \"Stephen P O'Connell\", \"Jill O'Connor\", \"Paul B O'Connor\", \"Sean T O'Connor\", \"Brendan M O'Donnell\", \"Dale T O'Donnell\", \"Daniel S O'Donnell\", \"Michael C O'Hara\", \"William J Jr O'Hara\", \"John J O'Keefe\", \"James O'Loughlin\", \"James M O'Loughlin\", \"Stephen M O'Neil\", \"Terence O'Neil\", \"Michael O'Rourke\", \"Katelyn M O'Toole\", \"Terrance V O'Toole\", \"Jeremiah J O'brien\", \"Peter D O'brien\", \"Stephen T O'brien\", \"David L O'connor\", 'Eddie Odney', \"Thomas P O'donnell\", \"Thomas J O'leary\", 'Ydritzabel Oller', 'Michael J Olszak', \"Shawn M O'neil\", \"Mary A O'neill\", 'Nicholas Onishuk', 'Daphney Orion', 'Yves L Orne', 'Michael Orourke', 'Franklin E Ortiz', 'Lenin Ortiz', \"David M O'sullivan\", 'Elbert Miguel PEREIRA', 'Michael Paillant', 'Paul A Painten', 'Lucia Palomares', 'Michael P Pankievich', 'Peter S Papasso', 'Michael P Paradis', 'Steven G Parham', 'Henderson O Parker', 'William Leo Parlon', 'Barbara E Parolin', 'Mark J Parolin', 'Stephen P Pasciuto', 'Paul J Passanisi', 'Cornell G Paterson', 'Sean Paul', 'Roberto C Paulino', 'GRenee Payne-Callender', 'Paula F Pearson', 'John E Pels', 'Eddy B Pena', 'Jennifer J Penton', 'Javier E Perez', 'Marisela Perez', 'Brian J Perry', 'Paul T Perry', 'Michael D Peters', 'Todd M Peterson', 'Elizabeth Susan Philbin', 'Junior A Phillips', 'Myron W Phillips', 'Michael J Phinney', 'Mathew R Pieroway', 'Joslin A Pierre-Thomas', 'David G Pinciaro', 'Reginald J Pinckney', 'Deirdre M Pinkham', 'Adrian Pinto', 'Shandralee Pinto', 'Miguelangelo R Pires', 'Ronald E Pirrello', 'Veritta M Pitts', 'Anthony B Platt', 'Kevin R Plunkett', 'Daniel Polcaro', 'Frank A Pomodoro', 'Richard A Porter', 'Thomas J Porter', 'Mark Andrew Potter', 'Anthony J Poulos', 'Donald B Powell', 'James E Powell', 'Kevin T Power', 'Andrew C Powers', 'Michael Powers', 'Robert Allen Preble', 'Clayton Pressley', 'Michael M Primm', 'Kamau Pritchard', 'Robin D Pruitt', 'John F Puglia', 'Scott Pulchansingh', 'Anthony C Puopolo', 'Stephen E Puopolo', 'Brian Puzzo', 'Jonathan H Quigg', 'Wilson Quiles', 'Dean B Quinby', 'Jeffrey Quinchia', 'John P Quinn', 'Paul T Quinn', 'Daniel J Quintiliani', 'Ricky M Rabb', 'Raymond Ramirez', 'Antoine J Ramos', 'Michael Ramos', 'Nilton Ramos', 'James L Rattigan', 'Gerald W Rautenberg', 'Francesco Recupero', 'Walter R Reed', 'Jason C Reid', 'Kenneth R Reid', 'Louis T Relerford', 'Rosendo Rentas', 'Joel Resil', 'Alexander Reyes', 'Margaret A Ricard', 'Helen Ricci', 'Frederick D Rice', 'Seth D Richard', 'Jason A Richardson', 'Michael D Rideout', 'John M Ridge', 'John P Ridge', 'Michael Ridge', 'Robert J Ridge', 'Stephen J Ridge', 'Brian E Riley', 'Quion Tee Riley Jr.', 'Quion T Riley', 'Stephen Rioux', 'Luis A Rivera', 'Shayna M Rivera', 'Ted R Rivera', 'Bryan Rivers', 'Edward L Roach', 'Nathan P Robbins', 'David Roberto', 'Shawn Roberts', 'Paul W Robertson', 'William J Robertson', 'Robert R Robichaud', 'Roland S Robinson', 'Scott R Roby', 'Michael L Rockwell', 'Gino D Rodrigues', 'Joao C Rodrigues', 'Carmen N Rodriguez', 'Francisco Rodriguez', 'Joel Rodriguez', 'Rafael C Rodriguez', 'Stephen D Roe', 'John K Rogers', 'Patrick E Rogers', 'Jason D Romano', 'Stephen P Romano', 'Phillip J Ronca', 'Kevin D Rooney', 'Mary M Rooney', 'Wandy A Rosario', 'Thomas F Rose', 'Daniel J Rosenthal', 'Allison D Ross', 'Christopher J Ross', 'Matthew M Ross', 'Michael M Ross', 'John A Rouvalis', 'James J Rowley Jr.', 'Perry R Roy', 'Melvin Ruiz', 'Paul J Russell', 'Daniel F Ryan', 'Jill Ryan', 'Martin M Ryan', 'Matthew J Ryan', 'Stephen Ryan', 'John J Ryle', 'Paul A Sadatis Jr', 'Frantz Saintfort', 'William J Samaras', 'Pilar Sanchez', 'Roland D Sandefur', 'Undrey Sanders', 'Serge A Sanon', 'Alberto Santiago', 'David L Santosuosso', 'William F Sargent', 'Ladawn Savage', 'Peter J Savalis', 'Sean P Scannell', 'Vaden F Scantlebury', 'Ryan Schain', 'Vincent Schettino', 'Eric T Schmidt', 'Denise Schoener', 'Erin T Schroeder-Withington', 'Paul G Schroeder', 'James D Scopa', 'Jacqueline A Sellon', 'Kathleen Senise', 'Juan J Seoane', 'Thomas L Sexton', 'John M Shaughnessy', 'Molwyn A Shaw', 'Matthew G Shea', 'James R Sheehan', 'Paul William Sheehan', 'Robert R Sheets', 'Francis M Sheridan', 'Nadia G Siconolfi', 'Samil T Silta', 'Dennis O Simmonds', 'Clifton W Singletary', 'Tahisha L Skeen', 'Richard Slamin', 'William Slyne', 'Taylor S Small', 'Jerome D Smart', 'Christopher Smerz', 'Brian M Smigielski', 'Steven Smigliani', 'Bruce E Smith', 'Daniel E Smith', 'Kevin T Smith', 'Sean P Smith', 'Tony Smith', 'Tyrone E Smith', 'Jay D Soares', 'Mina Sobhy', 'Ismael Sosa', 'Kenneth A Sousa', 'Daniel J Sparrow', 'Michael J Spence', 'Edward V Spencer', 'Matthew Spillane', 'Richard Sean Spillane', 'Francis J St Peter', 'Muryelle Staco', 'Henry Joseph Staines', 'Brian Stallings', 'Vincent P Stancato', 'Linda E Stanford', 'Timothy P Stanton', 'Joseph Starkey', 'Christopher R Steele', 'Scott M Stenstrom', 'Davey Kenneth Stephens', 'Vincent H Stephens', 'Christopher R Stevens', 'Frederick J Stevens', 'Michael Patrick Stewart', 'Rhethia Y Stewart', 'Monicka D Stinson', 'James M Stoddard', 'Kurt J Stokinger', 'Donald P Stone', 'Michael J Stratton', 'Leroy A Streat', 'Linda M Strother-Lyons', 'Karl T Strother', 'John Studley', 'James Michael Sullivan-Venezia', 'John Sullivan', 'Joseph E Sullivan', 'Lisa J Sullivan', 'Ryan P Sullivan', 'Thomas E Sullivan', 'William James Sullivan', 'Gerard D Suprey', 'Walter Suprey', 'George Survillo', 'Raul A Sutherland', 'Steven Sweeney', 'Isabel C Sweet', 'Michael R Szegda', 'Tony Y Szeto', 'Stefan THEODORE', 'Harold TIBETS', 'Michael G Talbot', 'James R Tarantino', 'Joseph Garrette Tate', 'Kim Tavares', 'Lucas E Taxter', 'Michael Taylor', 'Thomas J Teahan', 'Caetano A Teixeira', 'John A Teixeira', 'John D Teixeira', 'Jose M Teixeira', 'Eliot Telisnor', 'Albert M Terestre', 'John Tevnan', 'Norman D Texeria', 'Daniel Casanova Thompson', 'James M Thompson', 'Ellis E Thornton', 'Matthew M Tierney', 'Robert Tinker', 'Karen M Tognarelli', 'Darnell V Toomer', 'Daniel T Toomey', 'Kevin J Toomey', 'Zandarina C Townsend', 'Brian E Tracey', 'Daniel J Tracey', 'William E Tracy', 'William F Traft', 'Darryl Vu Tran', 'James Tran', 'Timothy G Trull', 'Karl C Truong', 'Jay P Tully', 'Robert M Tully', 'Jason Turcotte', 'Keith A Turner', 'Desmond Tyler', 'Hubert G Valmond', 'Louis A Vasquez', 'Christopher L Vazquez', 'Royce R Veal', 'Estenel Veillard', 'Javier A Velasquez', 'Luis Velasquez', 'Martin O Velez', 'Charles A Vest', 'Gregory L Vickers', 'Mark W Vickers', 'Darrell Vinson', 'Andre Dimitrius WATSON', 'Jessica H Wagner', 'Gregory D Waldrip', 'Richard A Walker', 'William Y Walker', 'Brendan P Walsh', 'Christopher T Walsh', 'Emmet T Walsh', 'Greg T Walsh', 'James L Walsh', 'Mark Walsh', 'Matthew L Walsh', 'Robert W Walsh', 'Seamus P Walsh', 'William J Walsh', 'Robert G Warren', 'Brian S Waters', 'Gregory N Webb', 'Keith A Webb', 'Lakenya L Webster', 'Lawrence D Welch', 'Shawn L West', 'Kenneth Westhaver', 'Dennis A White', 'George White', 'Sean M Wilbanks', 'Andrew G Wilcox', 'Angela M Williams-Mitchell', 'Brandon L Williams', 'Dante B Williams', 'David C Williams', 'Frank G Williams', 'Fred R Williams', 'Carlton A Williamson', 'Anthony D Willis', 'William M Willis', 'Charles E Wilson', 'Michael C Wilson', 'Ryan Wilson', 'Timothy F Wilson', 'Richard Withington', 'Phillip K Wong', 'Justin P Wood', 'Keith R Wood', 'Patrick W Wood', 'Lorenzo I Woodley', 'William J Woodley', 'Kevin Woodside', 'Adrian S Worrell', 'Jeffrey Maurice Worthy', 'Mathew Wosny', 'Craig A Wozniak', 'John P Wright', 'Lysander E Wright', 'Paul D Wright', 'Ryan Wynne', 'Vladimir Xavier', 'Kevin J Yalmokas', 'Brian F Yandle', 'Scott Yanovitch', 'David Yee', 'Robert C Young', 'Atiya Younger', 'Tommy T Yung', 'Joseph M Zanoli', 'Kevin Zarnoch', 'Robert M Zingg', 'Peter A Zographos']\n"
     ]
    }
   ],
   "source": [
    "names_total = list(df1.Name.unique())\n",
    "print(\"Number of total names on Boston police disciplinary dataset: \", len(names_total))\n",
    "print(names_total)"
   ]
  },
  {
   "cell_type": "code",
   "execution_count": 31,
   "metadata": {
    "tags": []
   },
   "outputs": [],
   "source": [
    "# make names_total lower_case for matching\n",
    "names_total = [name.lower() for name in names_total]"
   ]
  },
  {
   "cell_type": "code",
   "execution_count": 38,
   "metadata": {},
   "outputs": [
    {
     "output_type": "stream",
     "name": "stdout",
     "text": [
      "number of names from BPD dataset who contributed:  398\npercentage of BPD who contributed:  27.167235494880547\n"
     ]
    }
   ],
   "source": [
    "count = 0 \n",
    "names_contributed = []\n",
    "for name in names:\n",
    "    if name in names_total:\n",
    "        count+=1\n",
    "        names_contributed.append(name)\n",
    "\n",
    "print(\"number of names from BPD dataset who contributed: \", count)\n",
    "print(\"percentage of BPD who contributed: \", count/len(names_total) * 100)"
   ]
  },
  {
   "cell_type": "code",
   "execution_count": 57,
   "metadata": {
    "tags": []
   },
   "outputs": [
    {
     "output_type": "stream",
     "name": "stderr",
     "text": [
      "<ipython-input-57-a0dea439886e>:8: SettingWithCopyWarning: \nA value is trying to be set on a copy of a slice from a DataFrame\n\nSee the caveats in the documentation: https://pandas.pydata.org/pandas-docs/stable/user_guide/indexing.html#returning-a-view-versus-a-copy\n  df1[\"Contributed\"][row] = 1\n<ipython-input-57-a0dea439886e>:10: SettingWithCopyWarning: \nA value is trying to be set on a copy of a slice from a DataFrame\n\nSee the caveats in the documentation: https://pandas.pydata.org/pandas-docs/stable/user_guide/indexing.html#returning-a-view-versus-a-copy\n  df1[\"Contributed\"][row] = 0\n"
     ]
    }
   ],
   "source": [
    "# create new column called contributed, preseting it = 0\n",
    "df1[\"Contributed\"] = 0\n",
    "\n",
    "# 1 if contributed, 0 if not\n",
    "for row in range(len(df1)):\n",
    "    name = df1[\"Name\"][row].lower()\n",
    "    if name in names_contributed:\n",
    "        df1[\"Contributed\"][row] = 1\n",
    "    else:\n",
    "        df1[\"Contributed\"][row] = 0"
   ]
  },
  {
   "cell_type": "code",
   "execution_count": 58,
   "metadata": {},
   "outputs": [
    {
     "output_type": "execute_result",
     "data": {
      "text/plain": [
       "                     Name            Rank   Race Gender  Year        CaseID  \\\n",
       "0        Joseph Abasciano  Police Officer  White   Male  2011  IAD2011-0182   \n",
       "1        Joseph Abasciano  Police Officer  White   Male  2011  IAD2011-0182   \n",
       "2        Joseph Abasciano  Police Officer  White   Male  2013  IAD2013-0019   \n",
       "3        Joseph Abasciano  Police Officer  White   Male  2019  IAD2019-0085   \n",
       "4     Ramadani Abdul-Aziz  Police Officer  Black   Male  2011  IAD2011-0258   \n",
       "...                   ...             ...    ...    ...   ...           ...   \n",
       "5655        Kevin Zarnoch  Police Officer  White   Male  2016  IAD2016-0203   \n",
       "5656        Kevin Zarnoch  Police Officer  White   Male  2019  IAD2019-0157   \n",
       "5657       Robert M Zingg       Detective  White   Male  2011  IAD2011-0553   \n",
       "5658       Robert M Zingg       Detective  White   Male  2012  IAD2012-0039   \n",
       "5659    Peter A Zographos  Police Officer  White   Male  2012  IAD2012-0336   \n",
       "\n",
       "            TypeOfMisconduct                   Allegation        Finding  \\\n",
       "0          Citizen complaint  Neg.Duty/Unreasonable Judge     Exonerated   \n",
       "1          Citizen complaint                        Force  Not Sustained   \n",
       "2          Citizen complaint  Neg.Duty/Unreasonable Judge  Not Sustained   \n",
       "3          Citizen complaint             Abuse of Process  Not Sustained   \n",
       "4          Citizen complaint  Neg.Duty/Unreasonable Judge      Sustained   \n",
       "...                      ...                          ...            ...   \n",
       "5655  Internal investigation           Reporting for Duty      Sustained   \n",
       "5656  Internal investigation           Reporting for Duty      Sustained   \n",
       "5657  Internal investigation           Conduct Unbecoming      Sustained   \n",
       "5658       Citizen complaint           Conduct Unbecoming  Not Sustained   \n",
       "5659       Citizen complaint  Neg.Duty/Unreasonable Judge     Exonerated   \n",
       "\n",
       "             Outcome  Contributed  \n",
       "0                NaN            1  \n",
       "1                NaN            1  \n",
       "2                NaN            1  \n",
       "3                NaN            1  \n",
       "4     Oral Reprimand            0  \n",
       "...              ...          ...  \n",
       "5655  Oral Reprimand            0  \n",
       "5656      Suspension            0  \n",
       "5657     Counselling            1  \n",
       "5658             NaN            1  \n",
       "5659             NaN            0  \n",
       "\n",
       "[5660 rows x 11 columns]"
      ],
      "text/html": "<div>\n<style scoped>\n    .dataframe tbody tr th:only-of-type {\n        vertical-align: middle;\n    }\n\n    .dataframe tbody tr th {\n        vertical-align: top;\n    }\n\n    .dataframe thead th {\n        text-align: right;\n    }\n</style>\n<table border=\"1\" class=\"dataframe\">\n  <thead>\n    <tr style=\"text-align: right;\">\n      <th></th>\n      <th>Name</th>\n      <th>Rank</th>\n      <th>Race</th>\n      <th>Gender</th>\n      <th>Year</th>\n      <th>CaseID</th>\n      <th>TypeOfMisconduct</th>\n      <th>Allegation</th>\n      <th>Finding</th>\n      <th>Outcome</th>\n      <th>Contributed</th>\n    </tr>\n  </thead>\n  <tbody>\n    <tr>\n      <th>0</th>\n      <td>Joseph Abasciano</td>\n      <td>Police Officer</td>\n      <td>White</td>\n      <td>Male</td>\n      <td>2011</td>\n      <td>IAD2011-0182</td>\n      <td>Citizen complaint</td>\n      <td>Neg.Duty/Unreasonable Judge</td>\n      <td>Exonerated</td>\n      <td>NaN</td>\n      <td>1</td>\n    </tr>\n    <tr>\n      <th>1</th>\n      <td>Joseph Abasciano</td>\n      <td>Police Officer</td>\n      <td>White</td>\n      <td>Male</td>\n      <td>2011</td>\n      <td>IAD2011-0182</td>\n      <td>Citizen complaint</td>\n      <td>Force</td>\n      <td>Not Sustained</td>\n      <td>NaN</td>\n      <td>1</td>\n    </tr>\n    <tr>\n      <th>2</th>\n      <td>Joseph Abasciano</td>\n      <td>Police Officer</td>\n      <td>White</td>\n      <td>Male</td>\n      <td>2013</td>\n      <td>IAD2013-0019</td>\n      <td>Citizen complaint</td>\n      <td>Neg.Duty/Unreasonable Judge</td>\n      <td>Not Sustained</td>\n      <td>NaN</td>\n      <td>1</td>\n    </tr>\n    <tr>\n      <th>3</th>\n      <td>Joseph Abasciano</td>\n      <td>Police Officer</td>\n      <td>White</td>\n      <td>Male</td>\n      <td>2019</td>\n      <td>IAD2019-0085</td>\n      <td>Citizen complaint</td>\n      <td>Abuse of Process</td>\n      <td>Not Sustained</td>\n      <td>NaN</td>\n      <td>1</td>\n    </tr>\n    <tr>\n      <th>4</th>\n      <td>Ramadani Abdul-Aziz</td>\n      <td>Police Officer</td>\n      <td>Black</td>\n      <td>Male</td>\n      <td>2011</td>\n      <td>IAD2011-0258</td>\n      <td>Citizen complaint</td>\n      <td>Neg.Duty/Unreasonable Judge</td>\n      <td>Sustained</td>\n      <td>Oral Reprimand</td>\n      <td>0</td>\n    </tr>\n    <tr>\n      <th>...</th>\n      <td>...</td>\n      <td>...</td>\n      <td>...</td>\n      <td>...</td>\n      <td>...</td>\n      <td>...</td>\n      <td>...</td>\n      <td>...</td>\n      <td>...</td>\n      <td>...</td>\n      <td>...</td>\n    </tr>\n    <tr>\n      <th>5655</th>\n      <td>Kevin Zarnoch</td>\n      <td>Police Officer</td>\n      <td>White</td>\n      <td>Male</td>\n      <td>2016</td>\n      <td>IAD2016-0203</td>\n      <td>Internal investigation</td>\n      <td>Reporting for Duty</td>\n      <td>Sustained</td>\n      <td>Oral Reprimand</td>\n      <td>0</td>\n    </tr>\n    <tr>\n      <th>5656</th>\n      <td>Kevin Zarnoch</td>\n      <td>Police Officer</td>\n      <td>White</td>\n      <td>Male</td>\n      <td>2019</td>\n      <td>IAD2019-0157</td>\n      <td>Internal investigation</td>\n      <td>Reporting for Duty</td>\n      <td>Sustained</td>\n      <td>Suspension</td>\n      <td>0</td>\n    </tr>\n    <tr>\n      <th>5657</th>\n      <td>Robert M Zingg</td>\n      <td>Detective</td>\n      <td>White</td>\n      <td>Male</td>\n      <td>2011</td>\n      <td>IAD2011-0553</td>\n      <td>Internal investigation</td>\n      <td>Conduct Unbecoming</td>\n      <td>Sustained</td>\n      <td>Counselling</td>\n      <td>1</td>\n    </tr>\n    <tr>\n      <th>5658</th>\n      <td>Robert M Zingg</td>\n      <td>Detective</td>\n      <td>White</td>\n      <td>Male</td>\n      <td>2012</td>\n      <td>IAD2012-0039</td>\n      <td>Citizen complaint</td>\n      <td>Conduct Unbecoming</td>\n      <td>Not Sustained</td>\n      <td>NaN</td>\n      <td>1</td>\n    </tr>\n    <tr>\n      <th>5659</th>\n      <td>Peter A Zographos</td>\n      <td>Police Officer</td>\n      <td>White</td>\n      <td>Male</td>\n      <td>2012</td>\n      <td>IAD2012-0336</td>\n      <td>Citizen complaint</td>\n      <td>Neg.Duty/Unreasonable Judge</td>\n      <td>Exonerated</td>\n      <td>NaN</td>\n      <td>0</td>\n    </tr>\n  </tbody>\n</table>\n<p>5660 rows × 11 columns</p>\n</div>"
     },
     "metadata": {},
     "execution_count": 58
    }
   ],
   "source": [
    "df1"
   ]
  },
  {
   "cell_type": "code",
   "execution_count": 71,
   "metadata": {},
   "outputs": [
    {
     "output_type": "execute_result",
     "data": {
      "text/plain": [
       "array(['Police Officer', 'Detective', 'Sergeant Detective', 'Sergeant',\n",
       "       'Captain', 'Lieutenant', 'Lieutenantenant',\n",
       "       'Lieutenantenant Detective', 'Deputy', 'Deputy Superintendent',\n",
       "       'Superintendent'], dtype=object)"
      ]
     },
     "metadata": {},
     "execution_count": 71
    }
   ],
   "source": [
    "df1.Rank.unique()"
   ]
  },
  {
   "cell_type": "code",
   "execution_count": 70,
   "metadata": {},
   "outputs": [
    {
     "output_type": "execute_result",
     "data": {
      "text/plain": [
       "array(['White', 'Black', 'Hispanic', 'Asian'], dtype=object)"
      ]
     },
     "metadata": {},
     "execution_count": 70
    }
   ],
   "source": [
    "df1.Race.unique()"
   ]
  },
  {
   "cell_type": "code",
   "execution_count": 72,
   "metadata": {},
   "outputs": [
    {
     "output_type": "execute_result",
     "data": {
      "text/plain": [
       "array(['Male', 'Female'], dtype=object)"
      ]
     },
     "metadata": {},
     "execution_count": 72
    }
   ],
   "source": [
    "df1.Gender.unique()"
   ]
  },
  {
   "cell_type": "code",
   "execution_count": 73,
   "metadata": {},
   "outputs": [
    {
     "output_type": "execute_result",
     "data": {
      "text/plain": [
       "array(['Citizen complaint', 'Internal investigation'], dtype=object)"
      ]
     },
     "metadata": {},
     "execution_count": 73
    }
   ],
   "source": [
    "df1.TypeOfMisconduct.unique()"
   ]
  },
  {
   "cell_type": "code",
   "execution_count": 74,
   "metadata": {},
   "outputs": [
    {
     "output_type": "execute_result",
     "data": {
      "text/plain": [
       "array(['Neg.Duty/Unreasonable Judge', 'Force', 'Abuse of Process',\n",
       "       'Reporting for Duty', 'Self Identification',\n",
       "       'BIAS-Free Policing Policy', 'Sleeping On Duty',\n",
       "       'Conduct Unbecoming', 'CORI Access', 'Respectful Treatment',\n",
       "       'Situations Involving Family & Frien', 'Conformance to Laws',\n",
       "       'Evidence', 'Court', 'Untruthfulness', 'Patrol Officer Duties',\n",
       "       'Prisoners', 'Details',\n",
       "       'Strip Search and or Visual Body Cavity Search',\n",
       "       'Association with Criminals', 'Canon of Ethics', 'Alcohol',\n",
       "       'Police Service', 'Directives/Orders', 'Pursuit Driving',\n",
       "       'Manner of Recording Complaints',\n",
       "       'Examination for Visible Injuries', 'Substance Abuse Policy',\n",
       "       'Abuse of Discretion', 'Vehicle Surveillance Procedures',\n",
       "       'Pointing Firearms', 'Personal Business', 'Arrest Procedure',\n",
       "       'Information Dept. Members May Not Release', 'Emergency Driving',\n",
       "       'Handling of Accident Victims & Emergency Cases',\n",
       "       'Protection of Abused Persons', 'Discharge of Firearm',\n",
       "       'Hostile Work Environment', 'Harassment Policy',\n",
       "       'Patrol Officer Assigned to Dept Motor Vehicle',\n",
       "       'sexual harassment', 'Criticising Department',\n",
       "       'Securing and Maintenance of Firearm', 'Quid Pro Quo',\n",
       "       'FIO Reports', 'Residency', 'Soliciting on Duty',\n",
       "       'Duty Supervisor', 'Department Motor Vehicle Accident-Reporting',\n",
       "       'Tabacco on Duty',\n",
       "       'Special Order 16-023 Section 2.5 BWC Notice of Recording',\n",
       "       'Sick & Injured Persons', 'Permissible Weapons & Ammunition',\n",
       "       'Reporting Firearms Dishcarge', 'Uniforms And Equipment',\n",
       "       'evidence', 'Accountability', 'Body Worn Camera Policy',\n",
       "       'Training and Qualifications', 'Exchange of Badge Prohibited',\n",
       "       'Domestic Violence', 'Failure to be Knowledgeable & Informed',\n",
       "       'Mutual Protection', 'Sick Leave',\n",
       "       'Special Order 15-028 Municipal Election',\n",
       "       'Request for Interviews',\n",
       "       'Change of Address Notification Violation', 'District Logging',\n",
       "       'Situations Involving Family & Friend', 'Area Commanders',\n",
       "       'Special Order 92-15 Towed Motor Vehicles', 'Improper Statements',\n",
       "       'Leaves of Absence',\n",
       "       'Rape Shield Consideration in Official Police Reports',\n",
       "       'Improper Supervision', 'Violations of Rules & Procedures',\n",
       "       'Special Order 97-35 Motor Vehicle Accidents Involving Dept. Vehicles and/or Sworn Personnel',\n",
       "       'Situations Involving Off-Duty Boston Police Officers', 'alcohol',\n",
       "       'Police Officer Assigned to Dept. M/V', 'Traffic Enforcement',\n",
       "       'Radio Procedures',\n",
       "       'Special Order 99-48 Dept E-Mail and Computer Use',\n",
       "       'Drug Forfeiture Procedures', 'Reporting Law Violations',\n",
       "       'uniforms and equipment', 'Leather/Nylon Equipment (3 counts)',\n",
       "       'Reporting taking', 'Prisoner', 'Two-Way Radio & MDT Procedure',\n",
       "       'Securing Motor Vehicle', 'Ballistic Procedures',\n",
       "       'Booking Procedures', 'Police Officer Notifying Operations'],\n",
       "      dtype=object)"
      ]
     },
     "metadata": {},
     "execution_count": 74
    }
   ],
   "source": [
    "df1.Allegation.unique()"
   ]
  },
  {
   "cell_type": "code",
   "execution_count": 75,
   "metadata": {},
   "outputs": [
    {
     "output_type": "execute_result",
     "data": {
      "text/plain": [
       "array(['Exonerated', 'Not Sustained', 'Sustained', 'Unfounded',\n",
       "       'Withdrawn', 'Filed'], dtype=object)"
      ]
     },
     "metadata": {},
     "execution_count": 75
    }
   ],
   "source": [
    "df1.Finding.unique()"
   ]
  },
  {
   "cell_type": "code",
   "execution_count": 79,
   "metadata": {},
   "outputs": [
    {
     "output_type": "execute_result",
     "data": {
      "text/plain": [
       "array([nan, 'Oral Reprimand', 'Suspension', 'Retired/Resigned',\n",
       "       'written reprimand', 'termination',\n",
       "       'Terminated - reinstated through arbitration',\n",
       "       'Suspension in abeyance', 'Counselling', 'Demotion',\n",
       "       'Suspension Rescinded', 'suspension',\n",
       "       'Terminated - reinstated through Civil Service Commission',\n",
       "       'Terminated - reinstated after Civil Service Commission appeal'],\n",
       "      dtype=object)"
      ]
     },
     "metadata": {},
     "execution_count": 79
    }
   ],
   "source": [
    "df1.Outcome.unique()"
   ]
  },
  {
   "cell_type": "code",
   "execution_count": 91,
   "metadata": {},
   "outputs": [],
   "source": [
    "df1 = df1.replace({\n",
    "    # TypeOfMisconduct\n",
    "    'Citizen complaint': 0,\n",
    "    'Internal investigation': 1,\n",
    "    \n",
    "    # Rank - higher is more power\n",
    "    'Police Officer': 0,\n",
    "    'Detective': 1,\n",
    "    'Sergeant': 2,\n",
    "    'Sergeant Detective':2,\n",
    "    'Lieutenant': 3,\n",
    "    'Lieutenantenant': 3,\n",
    "    'Lieutenantenant Detective':3,\n",
    "    'Captain': 4,\n",
    "    'Deputy' : 4,\n",
    "    'Deputy Superintendent': 5,\n",
    "    'Superintendent': 5,\n",
    "    \n",
    "    # Race - 0 is White, 1 is everything else\n",
    "    'White': 0,\n",
    "    'Black': 1,\n",
    "    'Hispanic': 1,\n",
    "    'Asian': 1,\n",
    "     \n",
    "    # Finding - 0 for found innocent or not done yet, 1 for guilty\n",
    "    'Withdrawn': 0,\n",
    "    'Exonerated': 0,\n",
    "    'Unfounded':0,\n",
    "    'Filed': 0,\n",
    "    'Not Sustained': 0,\n",
    "    'Sustained': 1,\n",
    "    \n",
    "    # Gender\n",
    "    'Male': 1,\n",
    "    'Female': 0\n",
    "    })"
   ]
  },
  {
   "cell_type": "code",
   "execution_count": 92,
   "metadata": {},
   "outputs": [
    {
     "output_type": "execute_result",
     "data": {
      "text/plain": [
       "                     Name  Rank  Race  Gender  Year        CaseID  \\\n",
       "0        Joseph Abasciano     0     0       1  2011  IAD2011-0182   \n",
       "1        Joseph Abasciano     0     0       1  2011  IAD2011-0182   \n",
       "2        Joseph Abasciano     0     0       1  2013  IAD2013-0019   \n",
       "3        Joseph Abasciano     0     0       1  2019  IAD2019-0085   \n",
       "4     Ramadani Abdul-Aziz     0     1       1  2011  IAD2011-0258   \n",
       "...                   ...   ...   ...     ...   ...           ...   \n",
       "5655        Kevin Zarnoch     0     0       1  2016  IAD2016-0203   \n",
       "5656        Kevin Zarnoch     0     0       1  2019  IAD2019-0157   \n",
       "5657       Robert M Zingg     1     0       1  2011  IAD2011-0553   \n",
       "5658       Robert M Zingg     1     0       1  2012  IAD2012-0039   \n",
       "5659    Peter A Zographos     0     0       1  2012  IAD2012-0336   \n",
       "\n",
       "      TypeOfMisconduct Allegation  Finding         Outcome  Contributed  \n",
       "0                    0          4        0             NaN            1  \n",
       "1                    0          7        0             NaN            1  \n",
       "2                    0          4        0             NaN            1  \n",
       "3                    0          7        0             NaN            1  \n",
       "4                    0          4        1  Oral Reprimand            0  \n",
       "...                ...        ...      ...             ...          ...  \n",
       "5655                 1          1        1  Oral Reprimand            0  \n",
       "5656                 1          1        1      Suspension            0  \n",
       "5657                 1          3        1     Counselling            1  \n",
       "5658                 0          3        0             NaN            1  \n",
       "5659                 0          4        0             NaN            0  \n",
       "\n",
       "[5660 rows x 11 columns]"
      ],
      "text/html": "<div>\n<style scoped>\n    .dataframe tbody tr th:only-of-type {\n        vertical-align: middle;\n    }\n\n    .dataframe tbody tr th {\n        vertical-align: top;\n    }\n\n    .dataframe thead th {\n        text-align: right;\n    }\n</style>\n<table border=\"1\" class=\"dataframe\">\n  <thead>\n    <tr style=\"text-align: right;\">\n      <th></th>\n      <th>Name</th>\n      <th>Rank</th>\n      <th>Race</th>\n      <th>Gender</th>\n      <th>Year</th>\n      <th>CaseID</th>\n      <th>TypeOfMisconduct</th>\n      <th>Allegation</th>\n      <th>Finding</th>\n      <th>Outcome</th>\n      <th>Contributed</th>\n    </tr>\n  </thead>\n  <tbody>\n    <tr>\n      <th>0</th>\n      <td>Joseph Abasciano</td>\n      <td>0</td>\n      <td>0</td>\n      <td>1</td>\n      <td>2011</td>\n      <td>IAD2011-0182</td>\n      <td>0</td>\n      <td>4</td>\n      <td>0</td>\n      <td>NaN</td>\n      <td>1</td>\n    </tr>\n    <tr>\n      <th>1</th>\n      <td>Joseph Abasciano</td>\n      <td>0</td>\n      <td>0</td>\n      <td>1</td>\n      <td>2011</td>\n      <td>IAD2011-0182</td>\n      <td>0</td>\n      <td>7</td>\n      <td>0</td>\n      <td>NaN</td>\n      <td>1</td>\n    </tr>\n    <tr>\n      <th>2</th>\n      <td>Joseph Abasciano</td>\n      <td>0</td>\n      <td>0</td>\n      <td>1</td>\n      <td>2013</td>\n      <td>IAD2013-0019</td>\n      <td>0</td>\n      <td>4</td>\n      <td>0</td>\n      <td>NaN</td>\n      <td>1</td>\n    </tr>\n    <tr>\n      <th>3</th>\n      <td>Joseph Abasciano</td>\n      <td>0</td>\n      <td>0</td>\n      <td>1</td>\n      <td>2019</td>\n      <td>IAD2019-0085</td>\n      <td>0</td>\n      <td>7</td>\n      <td>0</td>\n      <td>NaN</td>\n      <td>1</td>\n    </tr>\n    <tr>\n      <th>4</th>\n      <td>Ramadani Abdul-Aziz</td>\n      <td>0</td>\n      <td>1</td>\n      <td>1</td>\n      <td>2011</td>\n      <td>IAD2011-0258</td>\n      <td>0</td>\n      <td>4</td>\n      <td>1</td>\n      <td>Oral Reprimand</td>\n      <td>0</td>\n    </tr>\n    <tr>\n      <th>...</th>\n      <td>...</td>\n      <td>...</td>\n      <td>...</td>\n      <td>...</td>\n      <td>...</td>\n      <td>...</td>\n      <td>...</td>\n      <td>...</td>\n      <td>...</td>\n      <td>...</td>\n      <td>...</td>\n    </tr>\n    <tr>\n      <th>5655</th>\n      <td>Kevin Zarnoch</td>\n      <td>0</td>\n      <td>0</td>\n      <td>1</td>\n      <td>2016</td>\n      <td>IAD2016-0203</td>\n      <td>1</td>\n      <td>1</td>\n      <td>1</td>\n      <td>Oral Reprimand</td>\n      <td>0</td>\n    </tr>\n    <tr>\n      <th>5656</th>\n      <td>Kevin Zarnoch</td>\n      <td>0</td>\n      <td>0</td>\n      <td>1</td>\n      <td>2019</td>\n      <td>IAD2019-0157</td>\n      <td>1</td>\n      <td>1</td>\n      <td>1</td>\n      <td>Suspension</td>\n      <td>0</td>\n    </tr>\n    <tr>\n      <th>5657</th>\n      <td>Robert M Zingg</td>\n      <td>1</td>\n      <td>0</td>\n      <td>1</td>\n      <td>2011</td>\n      <td>IAD2011-0553</td>\n      <td>1</td>\n      <td>3</td>\n      <td>1</td>\n      <td>Counselling</td>\n      <td>1</td>\n    </tr>\n    <tr>\n      <th>5658</th>\n      <td>Robert M Zingg</td>\n      <td>1</td>\n      <td>0</td>\n      <td>1</td>\n      <td>2012</td>\n      <td>IAD2012-0039</td>\n      <td>0</td>\n      <td>3</td>\n      <td>0</td>\n      <td>NaN</td>\n      <td>1</td>\n    </tr>\n    <tr>\n      <th>5659</th>\n      <td>Peter A Zographos</td>\n      <td>0</td>\n      <td>0</td>\n      <td>1</td>\n      <td>2012</td>\n      <td>IAD2012-0336</td>\n      <td>0</td>\n      <td>4</td>\n      <td>0</td>\n      <td>NaN</td>\n      <td>0</td>\n    </tr>\n  </tbody>\n</table>\n<p>5660 rows × 11 columns</p>\n</div>"
     },
     "metadata": {},
     "execution_count": 92
    }
   ],
   "source": [
    "df1"
   ]
  },
  {
   "cell_type": "code",
   "execution_count": 102,
   "metadata": {},
   "outputs": [
    {
     "output_type": "stream",
     "name": "stdout",
     "text": [
      "Optimization terminated successfully.\n         Current function value: 0.558779\n         Iterations 6\n                           Logit Regression Results                           \n==============================================================================\nDep. Variable:            Contributed   No. Observations:                 5660\nModel:                          Logit   Df Residuals:                     5654\nMethod:                           MLE   Df Model:                            5\nDate:                Mon, 19 Apr 2021   Pseudo R-squ.:                 0.05636\nTime:                        13:52:45   Log-Likelihood:                -3162.7\nconverged:                       True   LL-Null:                       -3351.6\nCovariance Type:            nonrobust   LLR p-value:                 1.835e-79\n====================================================================================\n                       coef    std err          z      P>|z|      [0.025      0.975]\n------------------------------------------------------------------------------------\nRank                 0.3019      0.029     10.408      0.000       0.245       0.359\nRace                -0.6898      0.068    -10.095      0.000      -0.824      -0.556\nGender              -0.0997      0.105     -0.948      0.343      -0.306       0.106\nYear                -0.0003    5.5e-05     -5.779      0.000      -0.000      -0.000\nTypeOfMisconduct     0.0477      0.088      0.539      0.590      -0.126       0.221\nFinding             -0.6619      0.088     -7.480      0.000      -0.835      -0.488\n====================================================================================\n"
     ]
    }
   ],
   "source": [
    "import statsmodels.api as sm\n",
    "\n",
    "data = df1.drop([\"Name\", \"CaseID\", \"Contributed\", \"Outcome\", \"Allegation\"], axis = 1)\n",
    "labels = df1[\"Contributed\"]\n",
    "\n",
    "logit_model = sm.Logit(labels, data).fit()\n",
    "print(logit_model.summary())"
   ]
  },
  {
   "source": [
    "From the logistic regression, we can see that Rank, Race, Gender, Year, and Finding all have significant p values. We will rerun a regression with only this significant."
   ],
   "cell_type": "markdown",
   "metadata": {}
  },
  {
   "cell_type": "code",
   "execution_count": 104,
   "metadata": {},
   "outputs": [
    {
     "output_type": "stream",
     "name": "stdout",
     "text": [
      "Optimization terminated successfully.\n         Current function value: 0.558896\n         Iterations 6\n                           Logit Regression Results                           \n==============================================================================\nDep. Variable:            Contributed   No. Observations:                 5660\nModel:                          Logit   Df Residuals:                     5656\nMethod:                           MLE   Df Model:                            3\nDate:                Mon, 19 Apr 2021   Pseudo R-squ.:                 0.05616\nTime:                        13:52:56   Log-Likelihood:                -3163.4\nconverged:                       True   LL-Null:                       -3351.6\nCovariance Type:            nonrobust   LLR p-value:                 2.806e-81\n==============================================================================\n                 coef    std err          z      P>|z|      [0.025      0.975]\n------------------------------------------------------------------------------\nRank           0.3075      0.028     10.851      0.000       0.252       0.363\nRace          -0.6816      0.068    -10.041      0.000      -0.815      -0.549\nYear          -0.0004   2.29e-05    -15.861      0.000      -0.000      -0.000\nFinding       -0.6297      0.071     -8.899      0.000      -0.768      -0.491\n==============================================================================\n"
     ]
    }
   ],
   "source": [
    "data2 = df1.drop([\"Name\", \"CaseID\", \"Contributed\", \"Outcome\", \"Allegation\", \"Gender\", \"TypeOfMisconduct\"], axis = 1)\n",
    "labels2 = df1[\"Contributed\"]\n",
    "\n",
    "logit_model2 = sm.Logit(labels2, data2).fit()\n",
    "print(logit_model2.summary())"
   ]
  },
  {
   "source": [
    "### Results\n",
    "The logistic regression equation that could predict whether the person contributed or not is: probability contributed = 0.3075Rank -0.6816Race - 0.0004Year - 0.6297Finding.\n",
    "\n",
    "1. Higher the rank, the more likely the person is to contribute. \n",
    "2. Race is encoded 0 for white and 1 for minority. From the coefficient predictor, we can see that it is negative indicating that if the person is white, they are more likely to contribute.\n",
    "3. Year's coefficient is very close to 0 indicating that it most likely does not influence whether or not a person contributes."
   ],
   "cell_type": "markdown",
   "metadata": {}
  },
  {
   "source": [
    "### Next Steps\n",
    "This is preliminary modeling with logistic regression. There are many more things we can do to build a more successful model. Many variables are currently left out including Allegation for simplicity. Finding was also encoded with 0 or 1 but could be useful to encode with other dummy variables. "
   ],
   "cell_type": "markdown",
   "metadata": {}
  }
 ]
}