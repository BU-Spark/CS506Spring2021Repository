{
 "metadata": {
  "language_info": {
   "codemirror_mode": {
    "name": "ipython",
    "version": 3
   },
   "file_extension": ".py",
   "mimetype": "text/x-python",
   "name": "python",
   "nbconvert_exporter": "python",
   "pygments_lexer": "ipython3",
   "version": "3.9.1-final"
  },
  "orig_nbformat": 2,
  "kernelspec": {
   "name": "python391jvsc74a57bd07812ea015bdcee6f23a998adcdd2ef97c151c0c241b7b7070987d9313e41299d",
   "display_name": "Python 3.9.1 64-bit"
  },
  "metadata": {
   "interpreter": {
    "hash": "7812ea015bdcee6f23a998adcdd2ef97c151c0c241b7b7070987d9313e41299d"
   }
  }
 },
 "nbformat": 4,
 "nbformat_minor": 2,
 "cells": [
  {
   "source": [
    "# Logistic Regression"
   ],
   "cell_type": "markdown",
   "metadata": {}
  },
  {
   "cell_type": "code",
   "execution_count": 98,
   "metadata": {},
   "outputs": [],
   "source": [
    "import pandas as pd"
   ]
  },
  {
   "cell_type": "code",
   "execution_count": 99,
   "metadata": {},
   "outputs": [
    {
     "output_type": "execute_result",
     "data": {
      "text/plain": [
       "                     Name            Rank   Race Gender  Year        CaseID  \\\n",
       "0        Joseph Abasciano  Police Officer  White   Male  2011  IAD2011-0182   \n",
       "1        Joseph Abasciano  Police Officer  White   Male  2011  IAD2011-0182   \n",
       "2        Joseph Abasciano  Police Officer  White   Male  2013  IAD2013-0019   \n",
       "3        Joseph Abasciano  Police Officer  White   Male  2019  IAD2019-0085   \n",
       "4     Ramadani Abdul-Aziz  Police Officer  Black   Male  2011  IAD2011-0258   \n",
       "...                   ...             ...    ...    ...   ...           ...   \n",
       "5655        Kevin Zarnoch  Police Officer  White   Male  2016  IAD2016-0203   \n",
       "5656        Kevin Zarnoch  Police Officer  White   Male  2019  IAD2019-0157   \n",
       "5657       Robert M Zingg       Detective  White   Male  2011  IAD2011-0553   \n",
       "5658       Robert M Zingg       Detective  White   Male  2012  IAD2012-0039   \n",
       "5659    Peter A Zographos  Police Officer  White   Male  2012  IAD2012-0336   \n",
       "\n",
       "            TypeOfMisconduct                   Allegation        Finding  \\\n",
       "0          Citizen complaint  Neg.Duty/Unreasonable Judge     Exonerated   \n",
       "1          Citizen complaint                        Force  Not Sustained   \n",
       "2          Citizen complaint  Neg.Duty/Unreasonable Judge  Not Sustained   \n",
       "3          Citizen complaint             Abuse of Process  Not Sustained   \n",
       "4          Citizen complaint  Neg.Duty/Unreasonable Judge      Sustained   \n",
       "...                      ...                          ...            ...   \n",
       "5655  Internal investigation           Reporting for Duty      Sustained   \n",
       "5656  Internal investigation           Reporting for Duty      Sustained   \n",
       "5657  Internal investigation           Conduct Unbecoming      Sustained   \n",
       "5658       Citizen complaint           Conduct Unbecoming  Not Sustained   \n",
       "5659       Citizen complaint  Neg.Duty/Unreasonable Judge     Exonerated   \n",
       "\n",
       "             Outcome  \n",
       "0                NaN  \n",
       "1                NaN  \n",
       "2                NaN  \n",
       "3                NaN  \n",
       "4     Oral Reprimand  \n",
       "...              ...  \n",
       "5655  Oral Reprimand  \n",
       "5656      Suspension  \n",
       "5657     Counselling  \n",
       "5658             NaN  \n",
       "5659             NaN  \n",
       "\n",
       "[5660 rows x 10 columns]"
      ],
      "text/html": "<div>\n<style scoped>\n    .dataframe tbody tr th:only-of-type {\n        vertical-align: middle;\n    }\n\n    .dataframe tbody tr th {\n        vertical-align: top;\n    }\n\n    .dataframe thead th {\n        text-align: right;\n    }\n</style>\n<table border=\"1\" class=\"dataframe\">\n  <thead>\n    <tr style=\"text-align: right;\">\n      <th></th>\n      <th>Name</th>\n      <th>Rank</th>\n      <th>Race</th>\n      <th>Gender</th>\n      <th>Year</th>\n      <th>CaseID</th>\n      <th>TypeOfMisconduct</th>\n      <th>Allegation</th>\n      <th>Finding</th>\n      <th>Outcome</th>\n    </tr>\n  </thead>\n  <tbody>\n    <tr>\n      <th>0</th>\n      <td>Joseph Abasciano</td>\n      <td>Police Officer</td>\n      <td>White</td>\n      <td>Male</td>\n      <td>2011</td>\n      <td>IAD2011-0182</td>\n      <td>Citizen complaint</td>\n      <td>Neg.Duty/Unreasonable Judge</td>\n      <td>Exonerated</td>\n      <td>NaN</td>\n    </tr>\n    <tr>\n      <th>1</th>\n      <td>Joseph Abasciano</td>\n      <td>Police Officer</td>\n      <td>White</td>\n      <td>Male</td>\n      <td>2011</td>\n      <td>IAD2011-0182</td>\n      <td>Citizen complaint</td>\n      <td>Force</td>\n      <td>Not Sustained</td>\n      <td>NaN</td>\n    </tr>\n    <tr>\n      <th>2</th>\n      <td>Joseph Abasciano</td>\n      <td>Police Officer</td>\n      <td>White</td>\n      <td>Male</td>\n      <td>2013</td>\n      <td>IAD2013-0019</td>\n      <td>Citizen complaint</td>\n      <td>Neg.Duty/Unreasonable Judge</td>\n      <td>Not Sustained</td>\n      <td>NaN</td>\n    </tr>\n    <tr>\n      <th>3</th>\n      <td>Joseph Abasciano</td>\n      <td>Police Officer</td>\n      <td>White</td>\n      <td>Male</td>\n      <td>2019</td>\n      <td>IAD2019-0085</td>\n      <td>Citizen complaint</td>\n      <td>Abuse of Process</td>\n      <td>Not Sustained</td>\n      <td>NaN</td>\n    </tr>\n    <tr>\n      <th>4</th>\n      <td>Ramadani Abdul-Aziz</td>\n      <td>Police Officer</td>\n      <td>Black</td>\n      <td>Male</td>\n      <td>2011</td>\n      <td>IAD2011-0258</td>\n      <td>Citizen complaint</td>\n      <td>Neg.Duty/Unreasonable Judge</td>\n      <td>Sustained</td>\n      <td>Oral Reprimand</td>\n    </tr>\n    <tr>\n      <th>...</th>\n      <td>...</td>\n      <td>...</td>\n      <td>...</td>\n      <td>...</td>\n      <td>...</td>\n      <td>...</td>\n      <td>...</td>\n      <td>...</td>\n      <td>...</td>\n      <td>...</td>\n    </tr>\n    <tr>\n      <th>5655</th>\n      <td>Kevin Zarnoch</td>\n      <td>Police Officer</td>\n      <td>White</td>\n      <td>Male</td>\n      <td>2016</td>\n      <td>IAD2016-0203</td>\n      <td>Internal investigation</td>\n      <td>Reporting for Duty</td>\n      <td>Sustained</td>\n      <td>Oral Reprimand</td>\n    </tr>\n    <tr>\n      <th>5656</th>\n      <td>Kevin Zarnoch</td>\n      <td>Police Officer</td>\n      <td>White</td>\n      <td>Male</td>\n      <td>2019</td>\n      <td>IAD2019-0157</td>\n      <td>Internal investigation</td>\n      <td>Reporting for Duty</td>\n      <td>Sustained</td>\n      <td>Suspension</td>\n    </tr>\n    <tr>\n      <th>5657</th>\n      <td>Robert M Zingg</td>\n      <td>Detective</td>\n      <td>White</td>\n      <td>Male</td>\n      <td>2011</td>\n      <td>IAD2011-0553</td>\n      <td>Internal investigation</td>\n      <td>Conduct Unbecoming</td>\n      <td>Sustained</td>\n      <td>Counselling</td>\n    </tr>\n    <tr>\n      <th>5658</th>\n      <td>Robert M Zingg</td>\n      <td>Detective</td>\n      <td>White</td>\n      <td>Male</td>\n      <td>2012</td>\n      <td>IAD2012-0039</td>\n      <td>Citizen complaint</td>\n      <td>Conduct Unbecoming</td>\n      <td>Not Sustained</td>\n      <td>NaN</td>\n    </tr>\n    <tr>\n      <th>5659</th>\n      <td>Peter A Zographos</td>\n      <td>Police Officer</td>\n      <td>White</td>\n      <td>Male</td>\n      <td>2012</td>\n      <td>IAD2012-0336</td>\n      <td>Citizen complaint</td>\n      <td>Neg.Duty/Unreasonable Judge</td>\n      <td>Exonerated</td>\n      <td>NaN</td>\n    </tr>\n  </tbody>\n</table>\n<p>5660 rows × 10 columns</p>\n</div>"
     },
     "metadata": {},
     "execution_count": 99
    }
   ],
   "source": [
    "# data from webscraper of Boston police disciplinary action\n",
    "\n",
    "df1 = pd.read_csv(\"BostonPoliceInternalAffairs.csv\")\n",
    "df1"
   ]
  },
  {
   "cell_type": "code",
   "execution_count": 100,
   "metadata": {},
   "outputs": [
    {
     "output_type": "execute_result",
     "data": {
      "text/plain": [
       "      Unnamed: 0               Name            Rank   Race Gender    Year  \\\n",
       "0              0   joseph abasciano  Police Officer  White   Male  2011.0   \n",
       "1              1   joseph abasciano  Police Officer  White   Male  2011.0   \n",
       "2              2   joseph abasciano  Police Officer  White   Male  2011.0   \n",
       "3              3   joseph abasciano  Police Officer  White   Male  2011.0   \n",
       "4              4   joseph abasciano  Police Officer  White   Male  2013.0   \n",
       "...          ...                ...             ...    ...    ...     ...   \n",
       "8816           1    vladimir xavier  Police Officer  Black   Male  2012.0   \n",
       "8817           2    vladimir xavier  Police Officer  Black   Male  2014.0   \n",
       "8818           0  anthony d ierardi        Sergeant  White   Male  2017.0   \n",
       "8819           0     robert m zingg       Detective  White   Male  2011.0   \n",
       "8820           1     robert m zingg       Detective  White   Male  2012.0   \n",
       "\n",
       "            CaseID        TypeOfMisconduct                   Allegation  \\\n",
       "0     IAD2011-0182       Citizen complaint  Neg.Duty/Unreasonable Judge   \n",
       "1     IAD2011-0182       Citizen complaint  Neg.Duty/Unreasonable Judge   \n",
       "2     IAD2011-0182       Citizen complaint                        Force   \n",
       "3     IAD2011-0182       Citizen complaint                        Force   \n",
       "4     IAD2013-0019       Citizen complaint  Neg.Duty/Unreasonable Judge   \n",
       "...            ...                     ...                          ...   \n",
       "8816  IAD2012-0009       Citizen complaint                  FIO Reports   \n",
       "8817  IAD2014-0255       Citizen complaint         Respectful Treatment   \n",
       "8818  IAD2017-0154  Internal investigation                      Details   \n",
       "8819  IAD2011-0553  Internal investigation           Conduct Unbecoming   \n",
       "8820  IAD2012-0039       Citizen complaint           Conduct Unbecoming   \n",
       "\n",
       "            Finding  ...                           TITLE        REGULAR  \\\n",
       "0        Exonerated  ...                  Police Officer    $96,890.67    \n",
       "1        Exonerated  ...                  Police Officer    $96,890.67    \n",
       "2     Not Sustained  ...                  Police Officer    $96,890.67    \n",
       "3     Not Sustained  ...                  Police Officer    $96,890.67    \n",
       "4     Not Sustained  ...                  Police Officer    $96,890.67    \n",
       "...             ...  ...                             ...            ...   \n",
       "8816      Sustained  ...                  Police Officer    $93,424.55    \n",
       "8817      Unfounded  ...                  Police Officer    $93,424.55    \n",
       "8818      Sustained  ...  Police Sergeant/FgrPrt Ev Tech            NaN   \n",
       "8819      Sustained  ...                Police Detective   $117,457.28    \n",
       "8820  Not Sustained  ...                Police Detective   $117,457.28    \n",
       "\n",
       "      RETRO         OTHER      OVERTIME        INJURED DETAIL  \\\n",
       "0       NaN      $850.00    $16,595.52             NaN    NaN   \n",
       "1       NaN      $850.00    $16,595.52             NaN    NaN   \n",
       "2       NaN      $850.00    $16,595.52             NaN    NaN   \n",
       "3       NaN      $850.00    $16,595.52             NaN    NaN   \n",
       "4       NaN      $850.00    $16,595.52             NaN    NaN   \n",
       "...     ...           ...           ...            ...    ...   \n",
       "8816    NaN      $800.00    $19,103.00      $3,633.94     NaN   \n",
       "8817    NaN      $800.00    $19,103.00      $3,633.94     NaN   \n",
       "8818    NaN   $12,069.32            NaN   $118,924.58     NaN   \n",
       "8819    NaN    $5,026.27    $97,867.55             NaN    NaN   \n",
       "8820    NaN    $5,026.27    $97,867.55             NaN    NaN   \n",
       "\n",
       "     QUINN / EDUCATION INCENTIVE TOTAL EARNINGS  POSTAL  \n",
       "0                    $24,222.83    $138,559.02   2132.0  \n",
       "1                    $24,222.83    $138,559.02   2132.0  \n",
       "2                    $24,222.83    $138,559.02   2132.0  \n",
       "3                    $24,222.83    $138,559.02   2132.0  \n",
       "4                    $24,222.83    $138,559.02   2132.0  \n",
       "...                          ...            ...     ...  \n",
       "8816                         NaN   $116,961.49   2121.0  \n",
       "8817                         NaN   $116,961.49   2121.0  \n",
       "8818                 $23,784.81    $154,778.71   2030.0  \n",
       "8819                         NaN   $220,351.10   2090.0  \n",
       "8820                         NaN   $220,351.10   2090.0  \n",
       "\n",
       "[8821 rows x 46 columns]"
      ],
      "text/html": "<div>\n<style scoped>\n    .dataframe tbody tr th:only-of-type {\n        vertical-align: middle;\n    }\n\n    .dataframe tbody tr th {\n        vertical-align: top;\n    }\n\n    .dataframe thead th {\n        text-align: right;\n    }\n</style>\n<table border=\"1\" class=\"dataframe\">\n  <thead>\n    <tr style=\"text-align: right;\">\n      <th></th>\n      <th>Unnamed: 0</th>\n      <th>Name</th>\n      <th>Rank</th>\n      <th>Race</th>\n      <th>Gender</th>\n      <th>Year</th>\n      <th>CaseID</th>\n      <th>TypeOfMisconduct</th>\n      <th>Allegation</th>\n      <th>Finding</th>\n      <th>...</th>\n      <th>TITLE</th>\n      <th>REGULAR</th>\n      <th>RETRO</th>\n      <th>OTHER</th>\n      <th>OVERTIME</th>\n      <th>INJURED</th>\n      <th>DETAIL</th>\n      <th>QUINN / EDUCATION INCENTIVE</th>\n      <th>TOTAL EARNINGS</th>\n      <th>POSTAL</th>\n    </tr>\n  </thead>\n  <tbody>\n    <tr>\n      <th>0</th>\n      <td>0</td>\n      <td>joseph abasciano</td>\n      <td>Police Officer</td>\n      <td>White</td>\n      <td>Male</td>\n      <td>2011.0</td>\n      <td>IAD2011-0182</td>\n      <td>Citizen complaint</td>\n      <td>Neg.Duty/Unreasonable Judge</td>\n      <td>Exonerated</td>\n      <td>...</td>\n      <td>Police Officer</td>\n      <td>$96,890.67</td>\n      <td>NaN</td>\n      <td>$850.00</td>\n      <td>$16,595.52</td>\n      <td>NaN</td>\n      <td>NaN</td>\n      <td>$24,222.83</td>\n      <td>$138,559.02</td>\n      <td>2132.0</td>\n    </tr>\n    <tr>\n      <th>1</th>\n      <td>1</td>\n      <td>joseph abasciano</td>\n      <td>Police Officer</td>\n      <td>White</td>\n      <td>Male</td>\n      <td>2011.0</td>\n      <td>IAD2011-0182</td>\n      <td>Citizen complaint</td>\n      <td>Neg.Duty/Unreasonable Judge</td>\n      <td>Exonerated</td>\n      <td>...</td>\n      <td>Police Officer</td>\n      <td>$96,890.67</td>\n      <td>NaN</td>\n      <td>$850.00</td>\n      <td>$16,595.52</td>\n      <td>NaN</td>\n      <td>NaN</td>\n      <td>$24,222.83</td>\n      <td>$138,559.02</td>\n      <td>2132.0</td>\n    </tr>\n    <tr>\n      <th>2</th>\n      <td>2</td>\n      <td>joseph abasciano</td>\n      <td>Police Officer</td>\n      <td>White</td>\n      <td>Male</td>\n      <td>2011.0</td>\n      <td>IAD2011-0182</td>\n      <td>Citizen complaint</td>\n      <td>Force</td>\n      <td>Not Sustained</td>\n      <td>...</td>\n      <td>Police Officer</td>\n      <td>$96,890.67</td>\n      <td>NaN</td>\n      <td>$850.00</td>\n      <td>$16,595.52</td>\n      <td>NaN</td>\n      <td>NaN</td>\n      <td>$24,222.83</td>\n      <td>$138,559.02</td>\n      <td>2132.0</td>\n    </tr>\n    <tr>\n      <th>3</th>\n      <td>3</td>\n      <td>joseph abasciano</td>\n      <td>Police Officer</td>\n      <td>White</td>\n      <td>Male</td>\n      <td>2011.0</td>\n      <td>IAD2011-0182</td>\n      <td>Citizen complaint</td>\n      <td>Force</td>\n      <td>Not Sustained</td>\n      <td>...</td>\n      <td>Police Officer</td>\n      <td>$96,890.67</td>\n      <td>NaN</td>\n      <td>$850.00</td>\n      <td>$16,595.52</td>\n      <td>NaN</td>\n      <td>NaN</td>\n      <td>$24,222.83</td>\n      <td>$138,559.02</td>\n      <td>2132.0</td>\n    </tr>\n    <tr>\n      <th>4</th>\n      <td>4</td>\n      <td>joseph abasciano</td>\n      <td>Police Officer</td>\n      <td>White</td>\n      <td>Male</td>\n      <td>2013.0</td>\n      <td>IAD2013-0019</td>\n      <td>Citizen complaint</td>\n      <td>Neg.Duty/Unreasonable Judge</td>\n      <td>Not Sustained</td>\n      <td>...</td>\n      <td>Police Officer</td>\n      <td>$96,890.67</td>\n      <td>NaN</td>\n      <td>$850.00</td>\n      <td>$16,595.52</td>\n      <td>NaN</td>\n      <td>NaN</td>\n      <td>$24,222.83</td>\n      <td>$138,559.02</td>\n      <td>2132.0</td>\n    </tr>\n    <tr>\n      <th>...</th>\n      <td>...</td>\n      <td>...</td>\n      <td>...</td>\n      <td>...</td>\n      <td>...</td>\n      <td>...</td>\n      <td>...</td>\n      <td>...</td>\n      <td>...</td>\n      <td>...</td>\n      <td>...</td>\n      <td>...</td>\n      <td>...</td>\n      <td>...</td>\n      <td>...</td>\n      <td>...</td>\n      <td>...</td>\n      <td>...</td>\n      <td>...</td>\n      <td>...</td>\n      <td>...</td>\n    </tr>\n    <tr>\n      <th>8816</th>\n      <td>1</td>\n      <td>vladimir xavier</td>\n      <td>Police Officer</td>\n      <td>Black</td>\n      <td>Male</td>\n      <td>2012.0</td>\n      <td>IAD2012-0009</td>\n      <td>Citizen complaint</td>\n      <td>FIO Reports</td>\n      <td>Sustained</td>\n      <td>...</td>\n      <td>Police Officer</td>\n      <td>$93,424.55</td>\n      <td>NaN</td>\n      <td>$800.00</td>\n      <td>$19,103.00</td>\n      <td>$3,633.94</td>\n      <td>NaN</td>\n      <td>NaN</td>\n      <td>$116,961.49</td>\n      <td>2121.0</td>\n    </tr>\n    <tr>\n      <th>8817</th>\n      <td>2</td>\n      <td>vladimir xavier</td>\n      <td>Police Officer</td>\n      <td>Black</td>\n      <td>Male</td>\n      <td>2014.0</td>\n      <td>IAD2014-0255</td>\n      <td>Citizen complaint</td>\n      <td>Respectful Treatment</td>\n      <td>Unfounded</td>\n      <td>...</td>\n      <td>Police Officer</td>\n      <td>$93,424.55</td>\n      <td>NaN</td>\n      <td>$800.00</td>\n      <td>$19,103.00</td>\n      <td>$3,633.94</td>\n      <td>NaN</td>\n      <td>NaN</td>\n      <td>$116,961.49</td>\n      <td>2121.0</td>\n    </tr>\n    <tr>\n      <th>8818</th>\n      <td>0</td>\n      <td>anthony d ierardi</td>\n      <td>Sergeant</td>\n      <td>White</td>\n      <td>Male</td>\n      <td>2017.0</td>\n      <td>IAD2017-0154</td>\n      <td>Internal investigation</td>\n      <td>Details</td>\n      <td>Sustained</td>\n      <td>...</td>\n      <td>Police Sergeant/FgrPrt Ev Tech</td>\n      <td>NaN</td>\n      <td>NaN</td>\n      <td>$12,069.32</td>\n      <td>NaN</td>\n      <td>$118,924.58</td>\n      <td>NaN</td>\n      <td>$23,784.81</td>\n      <td>$154,778.71</td>\n      <td>2030.0</td>\n    </tr>\n    <tr>\n      <th>8819</th>\n      <td>0</td>\n      <td>robert m zingg</td>\n      <td>Detective</td>\n      <td>White</td>\n      <td>Male</td>\n      <td>2011.0</td>\n      <td>IAD2011-0553</td>\n      <td>Internal investigation</td>\n      <td>Conduct Unbecoming</td>\n      <td>Sustained</td>\n      <td>...</td>\n      <td>Police Detective</td>\n      <td>$117,457.28</td>\n      <td>NaN</td>\n      <td>$5,026.27</td>\n      <td>$97,867.55</td>\n      <td>NaN</td>\n      <td>NaN</td>\n      <td>NaN</td>\n      <td>$220,351.10</td>\n      <td>2090.0</td>\n    </tr>\n    <tr>\n      <th>8820</th>\n      <td>1</td>\n      <td>robert m zingg</td>\n      <td>Detective</td>\n      <td>White</td>\n      <td>Male</td>\n      <td>2012.0</td>\n      <td>IAD2012-0039</td>\n      <td>Citizen complaint</td>\n      <td>Conduct Unbecoming</td>\n      <td>Not Sustained</td>\n      <td>...</td>\n      <td>Police Detective</td>\n      <td>$117,457.28</td>\n      <td>NaN</td>\n      <td>$5,026.27</td>\n      <td>$97,867.55</td>\n      <td>NaN</td>\n      <td>NaN</td>\n      <td>NaN</td>\n      <td>$220,351.10</td>\n      <td>2090.0</td>\n    </tr>\n  </tbody>\n</table>\n<p>8821 rows × 46 columns</p>\n</div>"
     },
     "metadata": {},
     "execution_count": 100
    }
   ],
   "source": [
    "# data of Boston police officers that contributed\n",
    "\n",
    "df2 = pd.read_csv(\"BPIA-APC-LEAD-EARNINGS.csv\")\n",
    "df2"
   ]
  },
  {
   "cell_type": "code",
   "execution_count": 101,
   "metadata": {},
   "outputs": [
    {
     "output_type": "stream",
     "name": "stdout",
     "text": [
      "Number of unique names that contributed:  412\n"
     ]
    }
   ],
   "source": [
    "names = list(df2.Name.unique())\n",
    "print(\"Number of unique names that contributed: \", len(names))"
   ]
  },
  {
   "cell_type": "code",
   "execution_count": 102,
   "metadata": {
    "tags": []
   },
   "outputs": [
    {
     "output_type": "stream",
     "name": "stdout",
     "text": [
      "Number of total names on Boston police disciplinary dataset:  1465\n"
     ]
    }
   ],
   "source": [
    "names_total = list(df1.Name.unique())\n",
    "print(\"Number of total names on Boston police disciplinary dataset: \", len(names_total))"
   ]
  },
  {
   "cell_type": "code",
   "execution_count": 103,
   "metadata": {
    "tags": []
   },
   "outputs": [],
   "source": [
    "# make names_total lower_case for matching\n",
    "names_total = [name.lower() for name in names_total]"
   ]
  },
  {
   "cell_type": "code",
   "execution_count": 104,
   "metadata": {},
   "outputs": [
    {
     "output_type": "stream",
     "name": "stdout",
     "text": [
      "number of names from BPD dataset who contributed:  398\npercentage of BPD who contributed:  27.167235494880547\n"
     ]
    }
   ],
   "source": [
    "count = 0 \n",
    "names_contributed = []\n",
    "for name in names:\n",
    "    if name in names_total:\n",
    "        count+=1\n",
    "        names_contributed.append(name)\n",
    "\n",
    "print(\"number of names from BPD dataset who contributed: \", count)\n",
    "print(\"percentage of BPD who contributed: \", count/len(names_total) * 100)"
   ]
  },
  {
   "cell_type": "code",
   "execution_count": 105,
   "metadata": {
    "tags": []
   },
   "outputs": [
    {
     "output_type": "stream",
     "name": "stderr",
     "text": [
      "<ipython-input-105-a0dea439886e>:8: SettingWithCopyWarning: \nA value is trying to be set on a copy of a slice from a DataFrame\n\nSee the caveats in the documentation: https://pandas.pydata.org/pandas-docs/stable/user_guide/indexing.html#returning-a-view-versus-a-copy\n  df1[\"Contributed\"][row] = 1\n<ipython-input-105-a0dea439886e>:10: SettingWithCopyWarning: \nA value is trying to be set on a copy of a slice from a DataFrame\n\nSee the caveats in the documentation: https://pandas.pydata.org/pandas-docs/stable/user_guide/indexing.html#returning-a-view-versus-a-copy\n  df1[\"Contributed\"][row] = 0\n"
     ]
    }
   ],
   "source": [
    "# create new column called contributed, preseting it = 0\n",
    "df1[\"Contributed\"] = 0\n",
    "\n",
    "# 1 if contributed, 0 if not\n",
    "for row in range(len(df1)):\n",
    "    name = df1[\"Name\"][row].lower()\n",
    "    if name in names_contributed:\n",
    "        df1[\"Contributed\"][row] = 1\n",
    "    else:\n",
    "        df1[\"Contributed\"][row] = 0"
   ]
  },
  {
   "cell_type": "code",
   "execution_count": 106,
   "metadata": {},
   "outputs": [
    {
     "output_type": "execute_result",
     "data": {
      "text/plain": [
       "                     Name            Rank   Race Gender  Year        CaseID  \\\n",
       "0        Joseph Abasciano  Police Officer  White   Male  2011  IAD2011-0182   \n",
       "1        Joseph Abasciano  Police Officer  White   Male  2011  IAD2011-0182   \n",
       "2        Joseph Abasciano  Police Officer  White   Male  2013  IAD2013-0019   \n",
       "3        Joseph Abasciano  Police Officer  White   Male  2019  IAD2019-0085   \n",
       "4     Ramadani Abdul-Aziz  Police Officer  Black   Male  2011  IAD2011-0258   \n",
       "...                   ...             ...    ...    ...   ...           ...   \n",
       "5654      Joseph M Zanoli  Police Officer  White   Male  2016  IAD2016-0024   \n",
       "5655        Kevin Zarnoch  Police Officer  White   Male  2016  IAD2016-0203   \n",
       "5657       Robert M Zingg       Detective  White   Male  2011  IAD2011-0553   \n",
       "5658       Robert M Zingg       Detective  White   Male  2012  IAD2012-0039   \n",
       "5659    Peter A Zographos  Police Officer  White   Male  2012  IAD2012-0336   \n",
       "\n",
       "            TypeOfMisconduct                   Allegation        Finding  \\\n",
       "0          Citizen complaint  Neg.Duty/Unreasonable Judge     Exonerated   \n",
       "1          Citizen complaint                        Force  Not Sustained   \n",
       "2          Citizen complaint  Neg.Duty/Unreasonable Judge  Not Sustained   \n",
       "3          Citizen complaint             Abuse of Process  Not Sustained   \n",
       "4          Citizen complaint  Neg.Duty/Unreasonable Judge      Sustained   \n",
       "...                      ...                          ...            ...   \n",
       "5654       Citizen complaint                        Force  Not Sustained   \n",
       "5655  Internal investigation           Reporting for Duty      Sustained   \n",
       "5657  Internal investigation           Conduct Unbecoming      Sustained   \n",
       "5658       Citizen complaint           Conduct Unbecoming  Not Sustained   \n",
       "5659       Citizen complaint  Neg.Duty/Unreasonable Judge     Exonerated   \n",
       "\n",
       "             Outcome  Contributed  \n",
       "0                NaN            1  \n",
       "1                NaN            1  \n",
       "2                NaN            1  \n",
       "3                NaN            1  \n",
       "4     Oral Reprimand            0  \n",
       "...              ...          ...  \n",
       "5654             NaN            0  \n",
       "5655  Oral Reprimand            0  \n",
       "5657     Counselling            1  \n",
       "5658             NaN            1  \n",
       "5659             NaN            0  \n",
       "\n",
       "[4367 rows x 11 columns]"
      ],
      "text/html": "<div>\n<style scoped>\n    .dataframe tbody tr th:only-of-type {\n        vertical-align: middle;\n    }\n\n    .dataframe tbody tr th {\n        vertical-align: top;\n    }\n\n    .dataframe thead th {\n        text-align: right;\n    }\n</style>\n<table border=\"1\" class=\"dataframe\">\n  <thead>\n    <tr style=\"text-align: right;\">\n      <th></th>\n      <th>Name</th>\n      <th>Rank</th>\n      <th>Race</th>\n      <th>Gender</th>\n      <th>Year</th>\n      <th>CaseID</th>\n      <th>TypeOfMisconduct</th>\n      <th>Allegation</th>\n      <th>Finding</th>\n      <th>Outcome</th>\n      <th>Contributed</th>\n    </tr>\n  </thead>\n  <tbody>\n    <tr>\n      <th>0</th>\n      <td>Joseph Abasciano</td>\n      <td>Police Officer</td>\n      <td>White</td>\n      <td>Male</td>\n      <td>2011</td>\n      <td>IAD2011-0182</td>\n      <td>Citizen complaint</td>\n      <td>Neg.Duty/Unreasonable Judge</td>\n      <td>Exonerated</td>\n      <td>NaN</td>\n      <td>1</td>\n    </tr>\n    <tr>\n      <th>1</th>\n      <td>Joseph Abasciano</td>\n      <td>Police Officer</td>\n      <td>White</td>\n      <td>Male</td>\n      <td>2011</td>\n      <td>IAD2011-0182</td>\n      <td>Citizen complaint</td>\n      <td>Force</td>\n      <td>Not Sustained</td>\n      <td>NaN</td>\n      <td>1</td>\n    </tr>\n    <tr>\n      <th>2</th>\n      <td>Joseph Abasciano</td>\n      <td>Police Officer</td>\n      <td>White</td>\n      <td>Male</td>\n      <td>2013</td>\n      <td>IAD2013-0019</td>\n      <td>Citizen complaint</td>\n      <td>Neg.Duty/Unreasonable Judge</td>\n      <td>Not Sustained</td>\n      <td>NaN</td>\n      <td>1</td>\n    </tr>\n    <tr>\n      <th>3</th>\n      <td>Joseph Abasciano</td>\n      <td>Police Officer</td>\n      <td>White</td>\n      <td>Male</td>\n      <td>2019</td>\n      <td>IAD2019-0085</td>\n      <td>Citizen complaint</td>\n      <td>Abuse of Process</td>\n      <td>Not Sustained</td>\n      <td>NaN</td>\n      <td>1</td>\n    </tr>\n    <tr>\n      <th>4</th>\n      <td>Ramadani Abdul-Aziz</td>\n      <td>Police Officer</td>\n      <td>Black</td>\n      <td>Male</td>\n      <td>2011</td>\n      <td>IAD2011-0258</td>\n      <td>Citizen complaint</td>\n      <td>Neg.Duty/Unreasonable Judge</td>\n      <td>Sustained</td>\n      <td>Oral Reprimand</td>\n      <td>0</td>\n    </tr>\n    <tr>\n      <th>...</th>\n      <td>...</td>\n      <td>...</td>\n      <td>...</td>\n      <td>...</td>\n      <td>...</td>\n      <td>...</td>\n      <td>...</td>\n      <td>...</td>\n      <td>...</td>\n      <td>...</td>\n      <td>...</td>\n    </tr>\n    <tr>\n      <th>5654</th>\n      <td>Joseph M Zanoli</td>\n      <td>Police Officer</td>\n      <td>White</td>\n      <td>Male</td>\n      <td>2016</td>\n      <td>IAD2016-0024</td>\n      <td>Citizen complaint</td>\n      <td>Force</td>\n      <td>Not Sustained</td>\n      <td>NaN</td>\n      <td>0</td>\n    </tr>\n    <tr>\n      <th>5655</th>\n      <td>Kevin Zarnoch</td>\n      <td>Police Officer</td>\n      <td>White</td>\n      <td>Male</td>\n      <td>2016</td>\n      <td>IAD2016-0203</td>\n      <td>Internal investigation</td>\n      <td>Reporting for Duty</td>\n      <td>Sustained</td>\n      <td>Oral Reprimand</td>\n      <td>0</td>\n    </tr>\n    <tr>\n      <th>5657</th>\n      <td>Robert M Zingg</td>\n      <td>Detective</td>\n      <td>White</td>\n      <td>Male</td>\n      <td>2011</td>\n      <td>IAD2011-0553</td>\n      <td>Internal investigation</td>\n      <td>Conduct Unbecoming</td>\n      <td>Sustained</td>\n      <td>Counselling</td>\n      <td>1</td>\n    </tr>\n    <tr>\n      <th>5658</th>\n      <td>Robert M Zingg</td>\n      <td>Detective</td>\n      <td>White</td>\n      <td>Male</td>\n      <td>2012</td>\n      <td>IAD2012-0039</td>\n      <td>Citizen complaint</td>\n      <td>Conduct Unbecoming</td>\n      <td>Not Sustained</td>\n      <td>NaN</td>\n      <td>1</td>\n    </tr>\n    <tr>\n      <th>5659</th>\n      <td>Peter A Zographos</td>\n      <td>Police Officer</td>\n      <td>White</td>\n      <td>Male</td>\n      <td>2012</td>\n      <td>IAD2012-0336</td>\n      <td>Citizen complaint</td>\n      <td>Neg.Duty/Unreasonable Judge</td>\n      <td>Exonerated</td>\n      <td>NaN</td>\n      <td>0</td>\n    </tr>\n  </tbody>\n</table>\n<p>4367 rows × 11 columns</p>\n</div>"
     },
     "metadata": {},
     "execution_count": 106
    }
   ],
   "source": [
    "# drop duplicates\n",
    "\n",
    "df1.drop_duplicates(subset=['Name', 'TypeOfMisconduct', 'Race', 'Rank', 'Allegation', 'Finding'], keep='first', inplace=True)\n",
    "df1"
   ]
  },
  {
   "cell_type": "code",
   "execution_count": 107,
   "metadata": {},
   "outputs": [
    {
     "output_type": "execute_result",
     "data": {
      "text/plain": [
       "array(['Police Officer', 'Detective', 'Sergeant Detective', 'Sergeant',\n",
       "       'Captain', 'Lieutenant', 'Lieutenantenant',\n",
       "       'Lieutenantenant Detective', 'Deputy', 'Deputy Superintendent',\n",
       "       'Superintendent'], dtype=object)"
      ]
     },
     "metadata": {},
     "execution_count": 107
    }
   ],
   "source": [
    "df1.Rank.unique()"
   ]
  },
  {
   "cell_type": "code",
   "execution_count": 57,
   "metadata": {},
   "outputs": [
    {
     "output_type": "execute_result",
     "data": {
      "text/plain": [
       "array(['White', 'Black', 'Hispanic', 'Asian'], dtype=object)"
      ]
     },
     "metadata": {},
     "execution_count": 57
    }
   ],
   "source": [
    "df1.Race.unique()"
   ]
  },
  {
   "cell_type": "code",
   "execution_count": 108,
   "metadata": {},
   "outputs": [
    {
     "output_type": "execute_result",
     "data": {
      "text/plain": [
       "array(['Male', 'Female'], dtype=object)"
      ]
     },
     "metadata": {},
     "execution_count": 108
    }
   ],
   "source": [
    "df1.Gender.unique()"
   ]
  },
  {
   "cell_type": "code",
   "execution_count": 109,
   "metadata": {},
   "outputs": [
    {
     "output_type": "execute_result",
     "data": {
      "text/plain": [
       "array(['Citizen complaint', 'Internal investigation'], dtype=object)"
      ]
     },
     "metadata": {},
     "execution_count": 109
    }
   ],
   "source": [
    "df1.TypeOfMisconduct.unique()"
   ]
  },
  {
   "cell_type": "code",
   "execution_count": 60,
   "metadata": {},
   "outputs": [
    {
     "output_type": "execute_result",
     "data": {
      "text/plain": [
       "array(['Neg.Duty/Unreasonable Judge', 'Force', 'Abuse of Process',\n",
       "       'Reporting for Duty', 'Self Identification',\n",
       "       'BIAS-Free Policing Policy', 'Sleeping On Duty',\n",
       "       'Conduct Unbecoming', 'CORI Access', 'Respectful Treatment',\n",
       "       'Situations Involving Family & Frien', 'Conformance to Laws',\n",
       "       'Evidence', 'Court', 'Untruthfulness', 'Patrol Officer Duties',\n",
       "       'Prisoners', 'Details',\n",
       "       'Strip Search and or Visual Body Cavity Search',\n",
       "       'Association with Criminals', 'Canon of Ethics', 'Alcohol',\n",
       "       'Police Service', 'Directives/Orders', 'Pursuit Driving',\n",
       "       'Manner of Recording Complaints',\n",
       "       'Examination for Visible Injuries', 'Substance Abuse Policy',\n",
       "       'Abuse of Discretion', 'Vehicle Surveillance Procedures',\n",
       "       'Pointing Firearms', 'Personal Business', 'Arrest Procedure',\n",
       "       'Information Dept. Members May Not Release', 'Emergency Driving',\n",
       "       'Handling of Accident Victims & Emergency Cases',\n",
       "       'Protection of Abused Persons', 'Discharge of Firearm',\n",
       "       'Hostile Work Environment', 'Harassment Policy',\n",
       "       'Patrol Officer Assigned to Dept Motor Vehicle',\n",
       "       'sexual harassment', 'Criticising Department',\n",
       "       'Securing and Maintenance of Firearm', 'Quid Pro Quo',\n",
       "       'FIO Reports', 'Residency', 'Soliciting on Duty',\n",
       "       'Duty Supervisor', 'Department Motor Vehicle Accident-Reporting',\n",
       "       'Tabacco on Duty',\n",
       "       'Special Order 16-023 Section 2.5 BWC Notice of Recording',\n",
       "       'Sick & Injured Persons', 'Permissible Weapons & Ammunition',\n",
       "       'Reporting Firearms Dishcarge', 'Uniforms And Equipment',\n",
       "       'evidence', 'Accountability', 'Body Worn Camera Policy',\n",
       "       'Training and Qualifications', 'Exchange of Badge Prohibited',\n",
       "       'Domestic Violence', 'Failure to be Knowledgeable & Informed',\n",
       "       'Mutual Protection', 'Sick Leave',\n",
       "       'Special Order 15-028 Municipal Election',\n",
       "       'Request for Interviews',\n",
       "       'Change of Address Notification Violation', 'District Logging',\n",
       "       'Situations Involving Family & Friend', 'Area Commanders',\n",
       "       'Special Order 92-15 Towed Motor Vehicles', 'Improper Statements',\n",
       "       'Leaves of Absence',\n",
       "       'Rape Shield Consideration in Official Police Reports',\n",
       "       'Improper Supervision', 'Violations of Rules & Procedures',\n",
       "       'Special Order 97-35 Motor Vehicle Accidents Involving Dept. Vehicles and/or Sworn Personnel',\n",
       "       'Situations Involving Off-Duty Boston Police Officers', 'alcohol',\n",
       "       'Police Officer Assigned to Dept. M/V', 'Traffic Enforcement',\n",
       "       'Radio Procedures',\n",
       "       'Special Order 99-48 Dept E-Mail and Computer Use',\n",
       "       'Drug Forfeiture Procedures', 'Reporting Law Violations',\n",
       "       'uniforms and equipment', 'Leather/Nylon Equipment (3 counts)',\n",
       "       'Reporting taking', 'Prisoner', 'Two-Way Radio & MDT Procedure',\n",
       "       'Securing Motor Vehicle', 'Ballistic Procedures',\n",
       "       'Booking Procedures', 'Police Officer Notifying Operations'],\n",
       "      dtype=object)"
      ]
     },
     "metadata": {},
     "execution_count": 60
    }
   ],
   "source": [
    "df1.Allegation.unique()"
   ]
  },
  {
   "cell_type": "code",
   "execution_count": 110,
   "metadata": {},
   "outputs": [
    {
     "output_type": "execute_result",
     "data": {
      "text/plain": [
       "array(['Exonerated', 'Not Sustained', 'Sustained', 'Unfounded',\n",
       "       'Withdrawn', 'Filed'], dtype=object)"
      ]
     },
     "metadata": {},
     "execution_count": 110
    }
   ],
   "source": [
    "df1.Finding.unique()"
   ]
  },
  {
   "cell_type": "code",
   "execution_count": 111,
   "metadata": {},
   "outputs": [
    {
     "output_type": "execute_result",
     "data": {
      "text/plain": [
       "array([nan, 'Oral Reprimand', 'Suspension', 'Retired/Resigned',\n",
       "       'written reprimand', 'termination',\n",
       "       'Terminated - reinstated through arbitration',\n",
       "       'Suspension in abeyance', 'Counselling', 'Demotion',\n",
       "       'Suspension Rescinded', 'suspension',\n",
       "       'Terminated - reinstated through Civil Service Commission'],\n",
       "      dtype=object)"
      ]
     },
     "metadata": {},
     "execution_count": 111
    }
   ],
   "source": [
    "df1.Outcome.unique()"
   ]
  },
  {
   "cell_type": "code",
   "execution_count": 112,
   "metadata": {},
   "outputs": [],
   "source": [
    "# make a copy of df1\n",
    "data = df1\n",
    "\n",
    "data = data.replace({\n",
    "    # TypeOfMisconduct\n",
    "    'Citizen complaint': 0,\n",
    "    'Internal investigation': 1,\n",
    "    \n",
    "    # Rank - higher is more power\n",
    "    'Police Officer': 0,\n",
    "    'Detective': 1,\n",
    "    'Sergeant': 2,\n",
    "    'Sergeant Detective':2,\n",
    "    'Lieutenant': 3,\n",
    "    'Lieutenantenant': 3,\n",
    "    'Lieutenantenant Detective':3,\n",
    "    'Captain': 4,\n",
    "    'Deputy' : 4,\n",
    "    'Deputy Superintendent': 5,\n",
    "    'Superintendent': 5,\n",
    "    \n",
    "    # Race - 0 is White, 1 is everything else\n",
    "    'White': 0,\n",
    "    'Black': 1,\n",
    "    'Hispanic': 1,\n",
    "    'Asian': 1,\n",
    "     \n",
    "    # Finding - 0 for found innocent or not done yet, 1 for guilty\n",
    "    'Withdrawn': 0,\n",
    "    'Exonerated': 0,\n",
    "    'Unfounded':0,\n",
    "    'Filed': 0,\n",
    "    'Not Sustained': 0,\n",
    "    'Sustained': 1,\n",
    "    \n",
    "    # Gender\n",
    "    'Male': 1,\n",
    "    'Female': 0\n",
    "    })"
   ]
  },
  {
   "cell_type": "code",
   "execution_count": 113,
   "metadata": {},
   "outputs": [
    {
     "output_type": "execute_result",
     "data": {
      "text/plain": [
       "                     Name  Rank  Race  Gender  Year        CaseID  \\\n",
       "0        Joseph Abasciano     0     0       1  2011  IAD2011-0182   \n",
       "1        Joseph Abasciano     0     0       1  2011  IAD2011-0182   \n",
       "2        Joseph Abasciano     0     0       1  2013  IAD2013-0019   \n",
       "3        Joseph Abasciano     0     0       1  2019  IAD2019-0085   \n",
       "4     Ramadani Abdul-Aziz     0     1       1  2011  IAD2011-0258   \n",
       "...                   ...   ...   ...     ...   ...           ...   \n",
       "5654      Joseph M Zanoli     0     0       1  2016  IAD2016-0024   \n",
       "5655        Kevin Zarnoch     0     0       1  2016  IAD2016-0203   \n",
       "5657       Robert M Zingg     1     0       1  2011  IAD2011-0553   \n",
       "5658       Robert M Zingg     1     0       1  2012  IAD2012-0039   \n",
       "5659    Peter A Zographos     0     0       1  2012  IAD2012-0336   \n",
       "\n",
       "      TypeOfMisconduct                   Allegation  Finding         Outcome  \\\n",
       "0                    0  Neg.Duty/Unreasonable Judge        0             NaN   \n",
       "1                    0                        Force        0             NaN   \n",
       "2                    0  Neg.Duty/Unreasonable Judge        0             NaN   \n",
       "3                    0             Abuse of Process        0             NaN   \n",
       "4                    0  Neg.Duty/Unreasonable Judge        1  Oral Reprimand   \n",
       "...                ...                          ...      ...             ...   \n",
       "5654                 0                        Force        0             NaN   \n",
       "5655                 1           Reporting for Duty        1  Oral Reprimand   \n",
       "5657                 1           Conduct Unbecoming        1     Counselling   \n",
       "5658                 0           Conduct Unbecoming        0             NaN   \n",
       "5659                 0  Neg.Duty/Unreasonable Judge        0             NaN   \n",
       "\n",
       "      Contributed  \n",
       "0               1  \n",
       "1               1  \n",
       "2               1  \n",
       "3               1  \n",
       "4               0  \n",
       "...           ...  \n",
       "5654            0  \n",
       "5655            0  \n",
       "5657            1  \n",
       "5658            1  \n",
       "5659            0  \n",
       "\n",
       "[4367 rows x 11 columns]"
      ],
      "text/html": "<div>\n<style scoped>\n    .dataframe tbody tr th:only-of-type {\n        vertical-align: middle;\n    }\n\n    .dataframe tbody tr th {\n        vertical-align: top;\n    }\n\n    .dataframe thead th {\n        text-align: right;\n    }\n</style>\n<table border=\"1\" class=\"dataframe\">\n  <thead>\n    <tr style=\"text-align: right;\">\n      <th></th>\n      <th>Name</th>\n      <th>Rank</th>\n      <th>Race</th>\n      <th>Gender</th>\n      <th>Year</th>\n      <th>CaseID</th>\n      <th>TypeOfMisconduct</th>\n      <th>Allegation</th>\n      <th>Finding</th>\n      <th>Outcome</th>\n      <th>Contributed</th>\n    </tr>\n  </thead>\n  <tbody>\n    <tr>\n      <th>0</th>\n      <td>Joseph Abasciano</td>\n      <td>0</td>\n      <td>0</td>\n      <td>1</td>\n      <td>2011</td>\n      <td>IAD2011-0182</td>\n      <td>0</td>\n      <td>Neg.Duty/Unreasonable Judge</td>\n      <td>0</td>\n      <td>NaN</td>\n      <td>1</td>\n    </tr>\n    <tr>\n      <th>1</th>\n      <td>Joseph Abasciano</td>\n      <td>0</td>\n      <td>0</td>\n      <td>1</td>\n      <td>2011</td>\n      <td>IAD2011-0182</td>\n      <td>0</td>\n      <td>Force</td>\n      <td>0</td>\n      <td>NaN</td>\n      <td>1</td>\n    </tr>\n    <tr>\n      <th>2</th>\n      <td>Joseph Abasciano</td>\n      <td>0</td>\n      <td>0</td>\n      <td>1</td>\n      <td>2013</td>\n      <td>IAD2013-0019</td>\n      <td>0</td>\n      <td>Neg.Duty/Unreasonable Judge</td>\n      <td>0</td>\n      <td>NaN</td>\n      <td>1</td>\n    </tr>\n    <tr>\n      <th>3</th>\n      <td>Joseph Abasciano</td>\n      <td>0</td>\n      <td>0</td>\n      <td>1</td>\n      <td>2019</td>\n      <td>IAD2019-0085</td>\n      <td>0</td>\n      <td>Abuse of Process</td>\n      <td>0</td>\n      <td>NaN</td>\n      <td>1</td>\n    </tr>\n    <tr>\n      <th>4</th>\n      <td>Ramadani Abdul-Aziz</td>\n      <td>0</td>\n      <td>1</td>\n      <td>1</td>\n      <td>2011</td>\n      <td>IAD2011-0258</td>\n      <td>0</td>\n      <td>Neg.Duty/Unreasonable Judge</td>\n      <td>1</td>\n      <td>Oral Reprimand</td>\n      <td>0</td>\n    </tr>\n    <tr>\n      <th>...</th>\n      <td>...</td>\n      <td>...</td>\n      <td>...</td>\n      <td>...</td>\n      <td>...</td>\n      <td>...</td>\n      <td>...</td>\n      <td>...</td>\n      <td>...</td>\n      <td>...</td>\n      <td>...</td>\n    </tr>\n    <tr>\n      <th>5654</th>\n      <td>Joseph M Zanoli</td>\n      <td>0</td>\n      <td>0</td>\n      <td>1</td>\n      <td>2016</td>\n      <td>IAD2016-0024</td>\n      <td>0</td>\n      <td>Force</td>\n      <td>0</td>\n      <td>NaN</td>\n      <td>0</td>\n    </tr>\n    <tr>\n      <th>5655</th>\n      <td>Kevin Zarnoch</td>\n      <td>0</td>\n      <td>0</td>\n      <td>1</td>\n      <td>2016</td>\n      <td>IAD2016-0203</td>\n      <td>1</td>\n      <td>Reporting for Duty</td>\n      <td>1</td>\n      <td>Oral Reprimand</td>\n      <td>0</td>\n    </tr>\n    <tr>\n      <th>5657</th>\n      <td>Robert M Zingg</td>\n      <td>1</td>\n      <td>0</td>\n      <td>1</td>\n      <td>2011</td>\n      <td>IAD2011-0553</td>\n      <td>1</td>\n      <td>Conduct Unbecoming</td>\n      <td>1</td>\n      <td>Counselling</td>\n      <td>1</td>\n    </tr>\n    <tr>\n      <th>5658</th>\n      <td>Robert M Zingg</td>\n      <td>1</td>\n      <td>0</td>\n      <td>1</td>\n      <td>2012</td>\n      <td>IAD2012-0039</td>\n      <td>0</td>\n      <td>Conduct Unbecoming</td>\n      <td>0</td>\n      <td>NaN</td>\n      <td>1</td>\n    </tr>\n    <tr>\n      <th>5659</th>\n      <td>Peter A Zographos</td>\n      <td>0</td>\n      <td>0</td>\n      <td>1</td>\n      <td>2012</td>\n      <td>IAD2012-0336</td>\n      <td>0</td>\n      <td>Neg.Duty/Unreasonable Judge</td>\n      <td>0</td>\n      <td>NaN</td>\n      <td>0</td>\n    </tr>\n  </tbody>\n</table>\n<p>4367 rows × 11 columns</p>\n</div>"
     },
     "metadata": {},
     "execution_count": 113
    }
   ],
   "source": [
    "data"
   ]
  },
  {
   "cell_type": "code",
   "execution_count": 114,
   "metadata": {},
   "outputs": [
    {
     "output_type": "stream",
     "name": "stdout",
     "text": [
      "Optimization terminated successfully.\n         Current function value: 0.562487\n         Iterations 5\n                           Logit Regression Results                           \n==============================================================================\nDep. Variable:            Contributed   No. Observations:                 4367\nModel:                          Logit   Df Residuals:                     4361\nMethod:                           MLE   Df Model:                            5\nDate:                Mon, 26 Apr 2021   Pseudo R-squ.:                 0.04441\nTime:                        17:01:10   Log-Likelihood:                -2456.4\nconverged:                       True   LL-Null:                       -2570.5\nCovariance Type:            nonrobust   LLR p-value:                 2.451e-47\n====================================================================================\n                       coef    std err          z      P>|z|      [0.025      0.975]\n------------------------------------------------------------------------------------\nRank                 0.2747      0.034      8.125      0.000       0.208       0.341\nRace                -0.6444      0.077     -8.337      0.000      -0.796      -0.493\nGender               0.1223      0.128      0.956      0.339      -0.128       0.373\nYear                -0.0004   6.56e-05     -6.614      0.000      -0.001      -0.000\nTypeOfMisconduct    -0.0540      0.102     -0.531      0.595      -0.253       0.145\nFinding             -0.5203      0.100     -5.214      0.000      -0.716      -0.325\n====================================================================================\n"
     ]
    }
   ],
   "source": [
    "import statsmodels.api as sm\n",
    "\n",
    "labels1 = data[\"Contributed\"]\n",
    "data1 = data.drop([\"Name\", \"CaseID\", \"Contributed\", \"Outcome\", \"Allegation\"], axis = 1)\n",
    "\n",
    "logit_model = sm.Logit(labels1, data1).fit()\n",
    "print(logit_model.summary())"
   ]
  },
  {
   "source": [
    "From the logistic regression, we can see that Rank, Race, Gender, Year, and Finding all have significant p values. We will rerun a regression with only this significant."
   ],
   "cell_type": "markdown",
   "metadata": {}
  },
  {
   "cell_type": "code",
   "execution_count": 115,
   "metadata": {},
   "outputs": [
    {
     "output_type": "stream",
     "name": "stdout",
     "text": [
      "Optimization terminated successfully.\n         Current function value: 0.562634\n         Iterations 5\n                           Logit Regression Results                           \n==============================================================================\nDep. Variable:            Contributed   No. Observations:                 4367\nModel:                          Logit   Df Residuals:                     4363\nMethod:                           MLE   Df Model:                            3\nDate:                Mon, 26 Apr 2021   Pseudo R-squ.:                 0.04416\nTime:                        17:01:13   Log-Likelihood:                -2457.0\nconverged:                       True   LL-Null:                       -2570.5\nCovariance Type:            nonrobust   LLR p-value:                 6.045e-49\n==============================================================================\n                 coef    std err          z      P>|z|      [0.025      0.975]\n------------------------------------------------------------------------------\nRank           0.2705      0.033      8.106      0.000       0.205       0.336\nRace          -0.6546      0.077     -8.526      0.000      -0.805      -0.504\nYear          -0.0004   2.54e-05    -14.873      0.000      -0.000      -0.000\nFinding       -0.5534      0.083     -6.657      0.000      -0.716      -0.390\n==============================================================================\n"
     ]
    }
   ],
   "source": [
    "data2 = data1.drop([\"Gender\", \"TypeOfMisconduct\"], axis = 1)\n",
    "labels2 = data[\"Contributed\"]\n",
    "\n",
    "logit_model2 = sm.Logit(labels2, data2).fit()\n",
    "print(logit_model2.summary())"
   ]
  },
  {
   "source": [
    "### Results\n",
    "The logistic regression equation that could predict whether the person contributed or not is: probability contributed = 0.3075Rank -0.6816Race - 0.0004Year - 0.6297Finding.\n",
    "\n",
    "1. Higher the rank, the more likely the person is to contribute. \n",
    "2. Race is encoded 0 for white and 1 for minority. From the coefficient predictor, we can see that it is negative indicating that if the person is white, they are more likely to contribute.\n",
    "3. Year's coefficient is very close to 0 indicating that it most likely does not influence whether or not a person contributes."
   ],
   "cell_type": "markdown",
   "metadata": {}
  },
  {
   "source": [
    "### Next Steps\n",
    "This is preliminary modeling with logistic regression. There are many more things we can do to build a more successful model. Many variables are currently left out including Allegation for simplicity. Finding was also encoded with 0 or 1 but could be useful to encode with other dummy variables. "
   ],
   "cell_type": "markdown",
   "metadata": {}
  },
  {
   "source": [
    "# One-Hot Encoding"
   ],
   "cell_type": "markdown",
   "metadata": {}
  },
  {
   "source": [
    "### For Race, Finding, and Outcome"
   ],
   "cell_type": "markdown",
   "metadata": {}
  },
  {
   "cell_type": "code",
   "execution_count": 198,
   "metadata": {},
   "outputs": [
    {
     "output_type": "stream",
     "name": "stdout",
     "text": [
      "Warning: Maximum number of iterations has been exceeded.\n",
      "         Current function value: 0.560452\n",
      "         Iterations: 35\n",
      "                           Logit Regression Results                           \n",
      "==============================================================================\n",
      "Dep. Variable:            Contributed   No. Observations:                 4367\n",
      "Model:                          Logit   Df Residuals:                     4357\n",
      "Method:                           MLE   Df Model:                            9\n",
      "Date:                Mon, 26 Apr 2021   Pseudo R-squ.:                 0.04787\n",
      "Time:                        17:45:58   Log-Likelihood:                -2447.5\n",
      "converged:                      False   LL-Null:                       -2570.5\n",
      "Covariance Type:            nonrobust   LLR p-value:                 6.640e-48\n",
      "=================================================================================\n",
      "                    coef    std err          z      P>|z|      [0.025      0.975]\n",
      "---------------------------------------------------------------------------------\n",
      "Asian            -9.6721        nan        nan        nan         nan         nan\n",
      "Black            -0.4393        nan        nan        nan         nan         nan\n",
      "Hispanic          0.4683        nan        nan        nan         nan         nan\n",
      "White             0.5117        nan        nan        nan         nan         nan\n",
      "Exonerated       -1.1088        nan        nan        nan         nan         nan\n",
      "Filed            -2.7696        nan        nan        nan         nan         nan\n",
      "Not Sustained    -1.1309        nan        nan        nan         nan         nan\n",
      "Sustained        -1.6354        nan        nan        nan         nan         nan\n",
      "Unfounded        -0.9837        nan        nan        nan         nan         nan\n",
      "Withdrawn        -1.5030        nan        nan        nan         nan         nan\n",
      "=================================================================================\n",
      "/Library/Frameworks/Python.framework/Versions/3.9/lib/python3.9/site-packages/statsmodels/base/model.py:566: ConvergenceWarning: Maximum Likelihood optimization failed to converge. Check mle_retvals\n",
      "  warnings.warn(\"Maximum Likelihood optimization failed to \"\n"
     ]
    }
   ],
   "source": [
    "# for race & finding bc outcome has nan values\n",
    "Xvals_onehot_Race = pd.get_dummies(df1.Race)\n",
    "Xvals_onehot_Finding = pd.get_dummies(df1.Finding)\n",
    "\n",
    "X_vals_cat = pd.concat([Xvals_onehot_Race, Xvals_onehot_Finding], axis = 1).reindex(Xvals_onehot_Race.index)\n",
    "\n",
    "smModel_onehot_Race = sm.Logit(labels2, X_vals_cat).fit()\n",
    "print_model = smModel_onehot_Race.summary()\n",
    "print(print_model)"
   ]
  },
  {
   "cell_type": "code",
   "execution_count": 199,
   "metadata": {},
   "outputs": [
    {
     "output_type": "execute_result",
     "data": {
      "text/plain": [
       "      Asian  Black  Hispanic  White  Exonerated  Filed  Not Sustained  \\\n",
       "0         0      0         0      1           1      0              0   \n",
       "1         0      0         0      1           0      0              1   \n",
       "2         0      0         0      1           0      0              1   \n",
       "3         0      0         0      1           0      0              1   \n",
       "4         0      1         0      0           0      0              0   \n",
       "...     ...    ...       ...    ...         ...    ...            ...   \n",
       "5654      0      0         0      1           0      0              1   \n",
       "5655      0      0         0      1           0      0              0   \n",
       "5657      0      0         0      1           0      0              0   \n",
       "5658      0      0         0      1           0      0              1   \n",
       "5659      0      0         0      1           1      0              0   \n",
       "\n",
       "      Sustained  Unfounded  Withdrawn  \n",
       "0             0          0          0  \n",
       "1             0          0          0  \n",
       "2             0          0          0  \n",
       "3             0          0          0  \n",
       "4             1          0          0  \n",
       "...         ...        ...        ...  \n",
       "5654          0          0          0  \n",
       "5655          1          0          0  \n",
       "5657          1          0          0  \n",
       "5658          0          0          0  \n",
       "5659          0          0          0  \n",
       "\n",
       "[4367 rows x 10 columns]"
      ],
      "text/html": "<div>\n<style scoped>\n    .dataframe tbody tr th:only-of-type {\n        vertical-align: middle;\n    }\n\n    .dataframe tbody tr th {\n        vertical-align: top;\n    }\n\n    .dataframe thead th {\n        text-align: right;\n    }\n</style>\n<table border=\"1\" class=\"dataframe\">\n  <thead>\n    <tr style=\"text-align: right;\">\n      <th></th>\n      <th>Asian</th>\n      <th>Black</th>\n      <th>Hispanic</th>\n      <th>White</th>\n      <th>Exonerated</th>\n      <th>Filed</th>\n      <th>Not Sustained</th>\n      <th>Sustained</th>\n      <th>Unfounded</th>\n      <th>Withdrawn</th>\n    </tr>\n  </thead>\n  <tbody>\n    <tr>\n      <th>0</th>\n      <td>0</td>\n      <td>0</td>\n      <td>0</td>\n      <td>1</td>\n      <td>1</td>\n      <td>0</td>\n      <td>0</td>\n      <td>0</td>\n      <td>0</td>\n      <td>0</td>\n    </tr>\n    <tr>\n      <th>1</th>\n      <td>0</td>\n      <td>0</td>\n      <td>0</td>\n      <td>1</td>\n      <td>0</td>\n      <td>0</td>\n      <td>1</td>\n      <td>0</td>\n      <td>0</td>\n      <td>0</td>\n    </tr>\n    <tr>\n      <th>2</th>\n      <td>0</td>\n      <td>0</td>\n      <td>0</td>\n      <td>1</td>\n      <td>0</td>\n      <td>0</td>\n      <td>1</td>\n      <td>0</td>\n      <td>0</td>\n      <td>0</td>\n    </tr>\n    <tr>\n      <th>3</th>\n      <td>0</td>\n      <td>0</td>\n      <td>0</td>\n      <td>1</td>\n      <td>0</td>\n      <td>0</td>\n      <td>1</td>\n      <td>0</td>\n      <td>0</td>\n      <td>0</td>\n    </tr>\n    <tr>\n      <th>4</th>\n      <td>0</td>\n      <td>1</td>\n      <td>0</td>\n      <td>0</td>\n      <td>0</td>\n      <td>0</td>\n      <td>0</td>\n      <td>1</td>\n      <td>0</td>\n      <td>0</td>\n    </tr>\n    <tr>\n      <th>...</th>\n      <td>...</td>\n      <td>...</td>\n      <td>...</td>\n      <td>...</td>\n      <td>...</td>\n      <td>...</td>\n      <td>...</td>\n      <td>...</td>\n      <td>...</td>\n      <td>...</td>\n    </tr>\n    <tr>\n      <th>5654</th>\n      <td>0</td>\n      <td>0</td>\n      <td>0</td>\n      <td>1</td>\n      <td>0</td>\n      <td>0</td>\n      <td>1</td>\n      <td>0</td>\n      <td>0</td>\n      <td>0</td>\n    </tr>\n    <tr>\n      <th>5655</th>\n      <td>0</td>\n      <td>0</td>\n      <td>0</td>\n      <td>1</td>\n      <td>0</td>\n      <td>0</td>\n      <td>0</td>\n      <td>1</td>\n      <td>0</td>\n      <td>0</td>\n    </tr>\n    <tr>\n      <th>5657</th>\n      <td>0</td>\n      <td>0</td>\n      <td>0</td>\n      <td>1</td>\n      <td>0</td>\n      <td>0</td>\n      <td>0</td>\n      <td>1</td>\n      <td>0</td>\n      <td>0</td>\n    </tr>\n    <tr>\n      <th>5658</th>\n      <td>0</td>\n      <td>0</td>\n      <td>0</td>\n      <td>1</td>\n      <td>0</td>\n      <td>0</td>\n      <td>1</td>\n      <td>0</td>\n      <td>0</td>\n      <td>0</td>\n    </tr>\n    <tr>\n      <th>5659</th>\n      <td>0</td>\n      <td>0</td>\n      <td>0</td>\n      <td>1</td>\n      <td>1</td>\n      <td>0</td>\n      <td>0</td>\n      <td>0</td>\n      <td>0</td>\n      <td>0</td>\n    </tr>\n  </tbody>\n</table>\n<p>4367 rows × 10 columns</p>\n</div>"
     },
     "metadata": {},
     "execution_count": 199
    }
   ],
   "source": [
    "X_vals_cat"
   ]
  }
 ]
}