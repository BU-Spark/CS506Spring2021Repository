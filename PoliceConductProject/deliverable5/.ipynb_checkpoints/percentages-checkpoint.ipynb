{
 "cells": [
  {
   "cell_type": "code",
   "execution_count": 2,
   "metadata": {},
   "outputs": [],
   "source": [
    "import pandas as pd\n",
    "all_contributions=pd.read_csv('processedPoliceContributions.csv')\n",
    "all_misconducts=pd.read_csv('processedBostonPoliceInternalAffairs.csv')\n",
    "final_df=pd.read_csv('filtered_final_dataset.csv')"
   ]
  },
  {
   "cell_type": "code",
   "execution_count": 3,
   "metadata": {},
   "outputs": [],
   "source": [
    "all_contributions=all_contributions.drop(['Unnamed: 0'],axis=1)\n",
    "all_contributions['Employer'] =all_contributions['Employer'].str.lower()\n",
    "all_contributions['Occupation'] =all_contributions['Occupation'].str.lower()\n",
    "bos_cont=all_contributions[all_contributions['Employer'].str.contains(\"boston\", na = False) | all_contributions['Occupation'].str.contains('boston', na = False)]"
   ]
  },
  {
   "cell_type": "code",
   "execution_count": 4,
   "metadata": {},
   "outputs": [
    {
     "data": {
      "text/html": [
       "<div>\n",
       "<style scoped>\n",
       "    .dataframe tbody tr th:only-of-type {\n",
       "        vertical-align: middle;\n",
       "    }\n",
       "\n",
       "    .dataframe tbody tr th {\n",
       "        vertical-align: top;\n",
       "    }\n",
       "\n",
       "    .dataframe thead th {\n",
       "        text-align: right;\n",
       "    }\n",
       "</style>\n",
       "<table border=\"1\" class=\"dataframe\">\n",
       "  <thead>\n",
       "    <tr style=\"text-align: right;\">\n",
       "      <th></th>\n",
       "      <th>Address</th>\n",
       "      <th>Amount</th>\n",
       "      <th>CPF ID</th>\n",
       "      <th>City</th>\n",
       "      <th>Contributor</th>\n",
       "      <th>Date</th>\n",
       "      <th>Datetime</th>\n",
       "      <th>Employer</th>\n",
       "      <th>Occupation</th>\n",
       "      <th>Principal Officer</th>\n",
       "      <th>Recipient</th>\n",
       "      <th>Record Type Description</th>\n",
       "      <th>Record Type ID</th>\n",
       "      <th>Source Description</th>\n",
       "      <th>State</th>\n",
       "      <th>Tender Type Description</th>\n",
       "      <th>Tender Type ID</th>\n",
       "      <th>UUID</th>\n",
       "      <th>Zip</th>\n",
       "    </tr>\n",
       "  </thead>\n",
       "  <tbody>\n",
       "    <tr>\n",
       "      <td>1</td>\n",
       "      <td>71 GROVE CR</td>\n",
       "      <td>100.0</td>\n",
       "      <td>13284</td>\n",
       "      <td>BRAINTREE</td>\n",
       "      <td>michael linskey</td>\n",
       "      <td>1/10/2010</td>\n",
       "      <td>2010-01-10</td>\n",
       "      <td>NaN</td>\n",
       "      <td>boston city police officer</td>\n",
       "      <td>NaN</td>\n",
       "      <td>Ayers, Bruce J.</td>\n",
       "      <td>Individual</td>\n",
       "      <td>201</td>\n",
       "      <td>2010 Pre-primary Report (ND)</td>\n",
       "      <td>MA</td>\n",
       "      <td>Not Specified</td>\n",
       "      <td>0</td>\n",
       "      <td>d66afb95-ed6a-5842-8cb6-5d795165bead</td>\n",
       "      <td>02184</td>\n",
       "    </tr>\n",
       "    <tr>\n",
       "      <td>9</td>\n",
       "      <td>433 W Roxbury Parkway</td>\n",
       "      <td>100.0</td>\n",
       "      <td>13014</td>\n",
       "      <td>Dedham</td>\n",
       "      <td>brendan kelley</td>\n",
       "      <td>1/29/2010</td>\n",
       "      <td>2010-01-29</td>\n",
       "      <td>city of boston</td>\n",
       "      <td>police officer</td>\n",
       "      <td>NaN</td>\n",
       "      <td>Cahill, Timothy</td>\n",
       "      <td>Individual</td>\n",
       "      <td>201</td>\n",
       "      <td>1/29/10 Deposit Report</td>\n",
       "      <td>MA</td>\n",
       "      <td>Credit Card</td>\n",
       "      <td>3</td>\n",
       "      <td>d3fd70f7-b957-56b4-b97e-39a739bab7d4</td>\n",
       "      <td>02132-1235</td>\n",
       "    </tr>\n",
       "    <tr>\n",
       "      <td>12</td>\n",
       "      <td>9 Oakland Avenue</td>\n",
       "      <td>100.0</td>\n",
       "      <td>13014</td>\n",
       "      <td>Quincy</td>\n",
       "      <td>gerard bailey</td>\n",
       "      <td>1/31/2010</td>\n",
       "      <td>2010-01-31</td>\n",
       "      <td>city of boston</td>\n",
       "      <td>police officer</td>\n",
       "      <td>NaN</td>\n",
       "      <td>Cahill, Timothy</td>\n",
       "      <td>Individual</td>\n",
       "      <td>201</td>\n",
       "      <td>1/31/10 Deposit Report</td>\n",
       "      <td>MA</td>\n",
       "      <td>Check</td>\n",
       "      <td>1</td>\n",
       "      <td>dfc80914-df04-56fe-be41-dacbe8ade738</td>\n",
       "      <td>02171</td>\n",
       "    </tr>\n",
       "    <tr>\n",
       "      <td>24</td>\n",
       "      <td>8 Berwick Street</td>\n",
       "      <td>250.0</td>\n",
       "      <td>13878</td>\n",
       "      <td>West Roxbury</td>\n",
       "      <td>james b conley</td>\n",
       "      <td>2/8/2010</td>\n",
       "      <td>2010-02-08</td>\n",
       "      <td>city of boston</td>\n",
       "      <td>police officer</td>\n",
       "      <td>NaN</td>\n",
       "      <td>Conley, Daniel F.</td>\n",
       "      <td>Individual</td>\n",
       "      <td>201</td>\n",
       "      <td>2/8/10 Deposit Report</td>\n",
       "      <td>MA</td>\n",
       "      <td>Check</td>\n",
       "      <td>1</td>\n",
       "      <td>3f3d5bd2-c66b-5844-82fa-d1c3b8675318</td>\n",
       "      <td>02132</td>\n",
       "    </tr>\n",
       "    <tr>\n",
       "      <td>28</td>\n",
       "      <td>38 Riverside Ave.</td>\n",
       "      <td>100.0</td>\n",
       "      <td>13729</td>\n",
       "      <td>Quincy</td>\n",
       "      <td>joseph f. kintigos</td>\n",
       "      <td>2/10/2010</td>\n",
       "      <td>2010-02-10</td>\n",
       "      <td>city of boston</td>\n",
       "      <td>police officer</td>\n",
       "      <td>NaN</td>\n",
       "      <td>Wallace, Brian P.</td>\n",
       "      <td>Individual</td>\n",
       "      <td>201</td>\n",
       "      <td>2010 Pre-primary Report (ND)</td>\n",
       "      <td>MA</td>\n",
       "      <td>Not Specified</td>\n",
       "      <td>0</td>\n",
       "      <td>db5a251d-2ad1-5e24-99b4-783cfce242dc</td>\n",
       "      <td>02169</td>\n",
       "    </tr>\n",
       "    <tr>\n",
       "      <td>...</td>\n",
       "      <td>...</td>\n",
       "      <td>...</td>\n",
       "      <td>...</td>\n",
       "      <td>...</td>\n",
       "      <td>...</td>\n",
       "      <td>...</td>\n",
       "      <td>...</td>\n",
       "      <td>...</td>\n",
       "      <td>...</td>\n",
       "      <td>...</td>\n",
       "      <td>...</td>\n",
       "      <td>...</td>\n",
       "      <td>...</td>\n",
       "      <td>...</td>\n",
       "      <td>...</td>\n",
       "      <td>...</td>\n",
       "      <td>...</td>\n",
       "      <td>...</td>\n",
       "      <td>...</td>\n",
       "    </tr>\n",
       "    <tr>\n",
       "      <td>10352</td>\n",
       "      <td>7 Glenburnie Rd</td>\n",
       "      <td>100.0</td>\n",
       "      <td>13173</td>\n",
       "      <td>West Roxbury</td>\n",
       "      <td>michael conneely</td>\n",
       "      <td>12/23/2019</td>\n",
       "      <td>2019-12-23</td>\n",
       "      <td>boston police</td>\n",
       "      <td>city of boston</td>\n",
       "      <td>NaN</td>\n",
       "      <td>Walsh, Martin J.</td>\n",
       "      <td>Individual</td>\n",
       "      <td>201</td>\n",
       "      <td>12/23/19 Deposit Report</td>\n",
       "      <td>MA</td>\n",
       "      <td>Credit Card</td>\n",
       "      <td>3</td>\n",
       "      <td>6627e512-e76e-5d48-803d-10a5bf12f9b2</td>\n",
       "      <td>02132-7812</td>\n",
       "    </tr>\n",
       "    <tr>\n",
       "      <td>10357</td>\n",
       "      <td>651 Walpole St</td>\n",
       "      <td>250.0</td>\n",
       "      <td>13173</td>\n",
       "      <td>Norwood</td>\n",
       "      <td>michael talbot</td>\n",
       "      <td>2/3/2020</td>\n",
       "      <td>2020-02-03</td>\n",
       "      <td>boston police superior officers union</td>\n",
       "      <td>vice president</td>\n",
       "      <td>NaN</td>\n",
       "      <td>Walsh, Martin J.</td>\n",
       "      <td>Individual</td>\n",
       "      <td>201</td>\n",
       "      <td>2/3/20 Deposit Report</td>\n",
       "      <td>MA</td>\n",
       "      <td>Check</td>\n",
       "      <td>1</td>\n",
       "      <td>dd7aa546-e7c0-5ee2-aee2-630d18a9fcdf</td>\n",
       "      <td>02062-2419</td>\n",
       "    </tr>\n",
       "    <tr>\n",
       "      <td>10360</td>\n",
       "      <td>8 Eastbourne St</td>\n",
       "      <td>100.0</td>\n",
       "      <td>14092</td>\n",
       "      <td>Roslindale</td>\n",
       "      <td>william parlon</td>\n",
       "      <td>2/28/2020</td>\n",
       "      <td>2020-02-28</td>\n",
       "      <td>boston police department</td>\n",
       "      <td>captain</td>\n",
       "      <td>NaN</td>\n",
       "      <td>O'Malley, Matthew J.</td>\n",
       "      <td>Individual</td>\n",
       "      <td>201</td>\n",
       "      <td>2/28/20 Deposit Report</td>\n",
       "      <td>MA</td>\n",
       "      <td>Credit Card</td>\n",
       "      <td>3</td>\n",
       "      <td>354180c7-c450-5404-b530-0fbd55ce3e60</td>\n",
       "      <td>02131</td>\n",
       "    </tr>\n",
       "    <tr>\n",
       "      <td>10363</td>\n",
       "      <td>20 Old Ironsides Way</td>\n",
       "      <td>25.0</td>\n",
       "      <td>16314</td>\n",
       "      <td>Charlestown</td>\n",
       "      <td>marian callahan</td>\n",
       "      <td>3/12/2020</td>\n",
       "      <td>2020-03-12</td>\n",
       "      <td>boston police department</td>\n",
       "      <td>research anaylst</td>\n",
       "      <td>NaN</td>\n",
       "      <td>Edwards, Lydia</td>\n",
       "      <td>Individual</td>\n",
       "      <td>201</td>\n",
       "      <td>3/12/20 Deposit Report</td>\n",
       "      <td>MA</td>\n",
       "      <td>Check</td>\n",
       "      <td>1</td>\n",
       "      <td>a161e685-89a9-5059-8d65-c71a21d2e451</td>\n",
       "      <td>02129-2206</td>\n",
       "    </tr>\n",
       "    <tr>\n",
       "      <td>10366</td>\n",
       "      <td>30 Aldie Street</td>\n",
       "      <td>125.0</td>\n",
       "      <td>13645</td>\n",
       "      <td>Allston</td>\n",
       "      <td>catherine snedeker</td>\n",
       "      <td>5/29/2020</td>\n",
       "      <td>2020-05-29</td>\n",
       "      <td>boston police department</td>\n",
       "      <td>principle analyst</td>\n",
       "      <td>NaN</td>\n",
       "      <td>Stanley, Thomas M.</td>\n",
       "      <td>Individual</td>\n",
       "      <td>201</td>\n",
       "      <td>5/29/20 Deposit Report</td>\n",
       "      <td>MA</td>\n",
       "      <td>Credit Card</td>\n",
       "      <td>3</td>\n",
       "      <td>5cf53312-f0c8-524a-93ee-4ac288bb88b7</td>\n",
       "      <td>02134</td>\n",
       "    </tr>\n",
       "  </tbody>\n",
       "</table>\n",
       "<p>3276 rows × 19 columns</p>\n",
       "</div>"
      ],
      "text/plain": [
       "                     Address  Amount  CPF ID          City  \\\n",
       "1                71 GROVE CR   100.0   13284     BRAINTREE   \n",
       "9      433 W Roxbury Parkway   100.0   13014        Dedham   \n",
       "12          9 Oakland Avenue   100.0   13014        Quincy   \n",
       "24          8 Berwick Street   250.0   13878  West Roxbury   \n",
       "28         38 Riverside Ave.   100.0   13729        Quincy   \n",
       "...                      ...     ...     ...           ...   \n",
       "10352        7 Glenburnie Rd   100.0   13173  West Roxbury   \n",
       "10357         651 Walpole St   250.0   13173       Norwood   \n",
       "10360        8 Eastbourne St   100.0   14092    Roslindale   \n",
       "10363   20 Old Ironsides Way    25.0   16314   Charlestown   \n",
       "10366        30 Aldie Street   125.0   13645       Allston   \n",
       "\n",
       "              Contributor        Date    Datetime  \\\n",
       "1         michael linskey   1/10/2010  2010-01-10   \n",
       "9          brendan kelley   1/29/2010  2010-01-29   \n",
       "12          gerard bailey   1/31/2010  2010-01-31   \n",
       "24         james b conley    2/8/2010  2010-02-08   \n",
       "28     joseph f. kintigos   2/10/2010  2010-02-10   \n",
       "...                   ...         ...         ...   \n",
       "10352    michael conneely  12/23/2019  2019-12-23   \n",
       "10357      michael talbot    2/3/2020  2020-02-03   \n",
       "10360      william parlon   2/28/2020  2020-02-28   \n",
       "10363     marian callahan   3/12/2020  2020-03-12   \n",
       "10366  catherine snedeker   5/29/2020  2020-05-29   \n",
       "\n",
       "                                    Employer                  Occupation  \\\n",
       "1                                        NaN  boston city police officer   \n",
       "9                             city of boston              police officer   \n",
       "12                            city of boston              police officer   \n",
       "24                            city of boston              police officer   \n",
       "28                            city of boston              police officer   \n",
       "...                                      ...                         ...   \n",
       "10352                          boston police              city of boston   \n",
       "10357  boston police superior officers union              vice president   \n",
       "10360               boston police department                     captain   \n",
       "10363               boston police department            research anaylst   \n",
       "10366               boston police department           principle analyst   \n",
       "\n",
       "      Principal Officer             Recipient Record Type Description  \\\n",
       "1                   NaN       Ayers, Bruce J.              Individual   \n",
       "9                   NaN       Cahill, Timothy              Individual   \n",
       "12                  NaN       Cahill, Timothy              Individual   \n",
       "24                  NaN     Conley, Daniel F.              Individual   \n",
       "28                  NaN     Wallace, Brian P.              Individual   \n",
       "...                 ...                   ...                     ...   \n",
       "10352               NaN      Walsh, Martin J.              Individual   \n",
       "10357               NaN      Walsh, Martin J.              Individual   \n",
       "10360               NaN  O'Malley, Matthew J.              Individual   \n",
       "10363               NaN        Edwards, Lydia              Individual   \n",
       "10366               NaN    Stanley, Thomas M.              Individual   \n",
       "\n",
       "       Record Type ID            Source Description State  \\\n",
       "1                 201  2010 Pre-primary Report (ND)    MA   \n",
       "9                 201        1/29/10 Deposit Report    MA   \n",
       "12                201        1/31/10 Deposit Report    MA   \n",
       "24                201         2/8/10 Deposit Report    MA   \n",
       "28                201  2010 Pre-primary Report (ND)    MA   \n",
       "...               ...                           ...   ...   \n",
       "10352             201       12/23/19 Deposit Report    MA   \n",
       "10357             201         2/3/20 Deposit Report    MA   \n",
       "10360             201        2/28/20 Deposit Report    MA   \n",
       "10363             201        3/12/20 Deposit Report    MA   \n",
       "10366             201        5/29/20 Deposit Report    MA   \n",
       "\n",
       "      Tender Type Description  Tender Type ID  \\\n",
       "1               Not Specified               0   \n",
       "9                 Credit Card               3   \n",
       "12                      Check               1   \n",
       "24                      Check               1   \n",
       "28              Not Specified               0   \n",
       "...                       ...             ...   \n",
       "10352             Credit Card               3   \n",
       "10357                   Check               1   \n",
       "10360             Credit Card               3   \n",
       "10363                   Check               1   \n",
       "10366             Credit Card               3   \n",
       "\n",
       "                                       UUID         Zip  \n",
       "1      d66afb95-ed6a-5842-8cb6-5d795165bead       02184  \n",
       "9      d3fd70f7-b957-56b4-b97e-39a739bab7d4  02132-1235  \n",
       "12     dfc80914-df04-56fe-be41-dacbe8ade738       02171  \n",
       "24     3f3d5bd2-c66b-5844-82fa-d1c3b8675318       02132  \n",
       "28     db5a251d-2ad1-5e24-99b4-783cfce242dc       02169  \n",
       "...                                     ...         ...  \n",
       "10352  6627e512-e76e-5d48-803d-10a5bf12f9b2  02132-7812  \n",
       "10357  dd7aa546-e7c0-5ee2-aee2-630d18a9fcdf  02062-2419  \n",
       "10360  354180c7-c450-5404-b530-0fbd55ce3e60       02131  \n",
       "10363  a161e685-89a9-5059-8d65-c71a21d2e451  02129-2206  \n",
       "10366  5cf53312-f0c8-524a-93ee-4ac288bb88b7       02134  \n",
       "\n",
       "[3276 rows x 19 columns]"
      ]
     },
     "execution_count": 4,
     "metadata": {},
     "output_type": "execute_result"
    }
   ],
   "source": [
    "bos_cont"
   ]
  },
  {
   "cell_type": "code",
   "execution_count": 5,
   "metadata": {},
   "outputs": [],
   "source": [
    "all_disciplined_n=all_misconducts['Name'].nunique()"
   ]
  },
  {
   "cell_type": "code",
   "execution_count": 6,
   "metadata": {},
   "outputs": [],
   "source": [
    "all_contributors_n=bos_cont['Contributor'].nunique()"
   ]
  },
  {
   "cell_type": "code",
   "execution_count": 7,
   "metadata": {},
   "outputs": [],
   "source": [
    "unique_both=final_df['Name'].nunique()"
   ]
  },
  {
   "cell_type": "code",
   "execution_count": 8,
   "metadata": {},
   "outputs": [
    {
     "name": "stdout",
     "output_type": "stream",
     "text": [
      "Percentage of officers that contributed money out of the disciplined officers(minimum of one payment) =  0.27098976109215017\n"
     ]
    }
   ],
   "source": [
    "print('Percentage of officers that contributed money out of the disciplined officers(minimum of one payment) = ',(unique_both/all_disciplined_n))"
   ]
  },
  {
   "cell_type": "code",
   "execution_count": 9,
   "metadata": {},
   "outputs": [
    {
     "name": "stdout",
     "output_type": "stream",
     "text": [
      "Percentage of officers that contributed money in disciplined officers set out of all boston area police donations = 0.32946058091286307\n"
     ]
    }
   ],
   "source": [
    "print('Percentage of officers that contributed money in disciplined officers set out of all boston area police donations =',(unique_both/all_contributors_n))"
   ]
  },
  {
   "cell_type": "markdown",
   "metadata": {},
   "source": [
    "Takeaway: We now know that about 27% of all disciplined officers contributed at least onceto political campaigns, and that about 33% of all Boston Police officers who madedonations were also accused of misconduct."
   ]
  },
  {
   "cell_type": "markdown",
   "metadata": {},
   "source": [
    "## Let's explore the demographics and positions of ALL officers under investigation"
   ]
  },
  {
   "cell_type": "code",
   "execution_count": 10,
   "metadata": {},
   "outputs": [
    {
     "data": {
      "text/plain": [
       "<Figure size 640x480 with 1 Axes>"
      ]
     },
     "metadata": {},
     "output_type": "display_data"
    }
   ],
   "source": [
    "import matplotlib.pyplot as plt\n",
    "all_misconducts.drop_duplicates(subset= [\"Name\"])['Race'].value_counts().plot(kind = \"pie\",autopct='%1.1f%%')\n",
    "plt.title(\"All Officers Under Investigation\")\n",
    "plt.show()\n"
   ]
  },
  {
   "cell_type": "code",
   "execution_count": 11,
   "metadata": {},
   "outputs": [
    {
     "data": {
      "text/plain": [
       "Police Officer               4017\n",
       "Detective                     581\n",
       "Sergeant                      501\n",
       "Sergeant Detective            243\n",
       "Lieutenant                    114\n",
       "Captain                        82\n",
       "Lieutenantenant Detective      73\n",
       "Deputy Superintendent          30\n",
       "Superintendent                 12\n",
       "Lieutenantenant                 4\n",
       "Deputy                          3\n",
       "Name: Rank, dtype: int64"
      ]
     },
     "execution_count": 11,
     "metadata": {},
     "output_type": "execute_result"
    }
   ],
   "source": [
    "all_misconducts['Rank'].value_counts()"
   ]
  },
  {
   "cell_type": "code",
   "execution_count": 12,
   "metadata": {},
   "outputs": [
    {
     "data": {
      "text/plain": [
       "<function matplotlib.pyplot.show(close=None, block=None)>"
      ]
     },
     "execution_count": 12,
     "metadata": {},
     "output_type": "execute_result"
    },
    {
     "data": {
      "image/png": "[encoded data removed]",
      "text/plain": [
       "<Figure size 432x288 with 1 Axes>"
      ]
     },
     "metadata": {
      "needs_background": "light"
     },
     "output_type": "display_data"
    }
   ],
   "source": [
    "all_misconducts.drop_duplicates(subset= [\"Name\"])['Rank'].value_counts().plot(kind = \"bar\")\n",
    "plt.title(\"Rank of ALL Officers Under Investigation\")\n",
    "plt.show"
   ]
  },
  {
   "cell_type": "code",
   "execution_count": 14,
   "metadata": {},
   "outputs": [],
   "source": [
    "vals=all_misconducts.drop_duplicates(subset= [\"Name\"])['Rank'].value_counts()\n",
    "labels=vals.index.tolist()\n",
    "x=vals.tolist()"
   ]
  },
  {
   "cell_type": "code",
   "execution_count": null,
   "metadata": {},
   "outputs": [],
   "source": []
  }
 ],
 "metadata": {
  "kernelspec": {
   "display_name": "Python 3",
   "language": "python",
   "name": "python3"
  },
  "language_info": {
   "codemirror_mode": {
    "name": "ipython",
    "version": 3
   },
   "file_extension": ".py",
   "mimetype": "text/x-python",
   "name": "python",
   "nbconvert_exporter": "python",
   "pygments_lexer": "ipython3",
   "version": "3.7.4"
  }
 },
 "nbformat": 4,
 "nbformat_minor": 2
}
