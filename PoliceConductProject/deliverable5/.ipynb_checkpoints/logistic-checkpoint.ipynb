{
 "cells": [
  {
   "cell_type": "markdown",
   "metadata": {},
   "source": [
    "# Logistic Regression"
   ]
  },
  {
   "cell_type": "code",
   "execution_count": 10,
   "metadata": {},
   "outputs": [],
   "source": [
    "import pandas as pd"
   ]
  },
  {
   "cell_type": "code",
   "execution_count": 11,
   "metadata": {},
   "outputs": [
    {
     "ename": "FileNotFoundError",
     "evalue": "[Errno 2] No such file or directory: 'BostonPoliceInternalAffairs.csv'",
     "output_type": "error",
     "traceback": [
      "\u001b[0;31m---------------------------------------------------------------------------\u001b[0m",
      "\u001b[0;31mFileNotFoundError\u001b[0m                         Traceback (most recent call last)",
      "\u001b[0;32m<ipython-input-11-298615efd165>\u001b[0m in \u001b[0;36m<module>\u001b[0;34m\u001b[0m\n\u001b[1;32m      1\u001b[0m \u001b[0;31m# data from webscraper of Boston police disciplinary action\u001b[0m\u001b[0;34m\u001b[0m\u001b[0;34m\u001b[0m\u001b[0;34m\u001b[0m\u001b[0m\n\u001b[1;32m      2\u001b[0m \u001b[0;34m\u001b[0m\u001b[0m\n\u001b[0;32m----> 3\u001b[0;31m \u001b[0mdf1\u001b[0m \u001b[0;34m=\u001b[0m \u001b[0mpd\u001b[0m\u001b[0;34m.\u001b[0m\u001b[0mread_csv\u001b[0m\u001b[0;34m(\u001b[0m\u001b[0;34m\"BostonPoliceInternalAffairs.csv\"\u001b[0m\u001b[0;34m)\u001b[0m\u001b[0;34m\u001b[0m\u001b[0;34m\u001b[0m\u001b[0m\n\u001b[0m\u001b[1;32m      4\u001b[0m \u001b[0mdf1\u001b[0m\u001b[0;34m\u001b[0m\u001b[0;34m\u001b[0m\u001b[0m\n",
      "\u001b[0;32m/opt/anaconda3/lib/python3.7/site-packages/pandas/io/parsers.py\u001b[0m in \u001b[0;36mread_csv\u001b[0;34m(filepath_or_buffer, sep, delimiter, header, names, index_col, usecols, squeeze, prefix, mangle_dupe_cols, dtype, engine, converters, true_values, false_values, skipinitialspace, skiprows, skipfooter, nrows, na_values, keep_default_na, na_filter, verbose, skip_blank_lines, parse_dates, infer_datetime_format, keep_date_col, date_parser, dayfirst, cache_dates, iterator, chunksize, compression, thousands, decimal, lineterminator, quotechar, quoting, doublequote, escapechar, comment, encoding, dialect, error_bad_lines, warn_bad_lines, delim_whitespace, low_memory, memory_map, float_precision)\u001b[0m\n\u001b[1;32m    684\u001b[0m     )\n\u001b[1;32m    685\u001b[0m \u001b[0;34m\u001b[0m\u001b[0m\n\u001b[0;32m--> 686\u001b[0;31m     \u001b[0;32mreturn\u001b[0m \u001b[0m_read\u001b[0m\u001b[0;34m(\u001b[0m\u001b[0mfilepath_or_buffer\u001b[0m\u001b[0;34m,\u001b[0m \u001b[0mkwds\u001b[0m\u001b[0;34m)\u001b[0m\u001b[0;34m\u001b[0m\u001b[0;34m\u001b[0m\u001b[0m\n\u001b[0m\u001b[1;32m    687\u001b[0m \u001b[0;34m\u001b[0m\u001b[0m\n\u001b[1;32m    688\u001b[0m \u001b[0;34m\u001b[0m\u001b[0m\n",
      "\u001b[0;32m/opt/anaconda3/lib/python3.7/site-packages/pandas/io/parsers.py\u001b[0m in \u001b[0;36m_read\u001b[0;34m(filepath_or_buffer, kwds)\u001b[0m\n\u001b[1;32m    450\u001b[0m \u001b[0;34m\u001b[0m\u001b[0m\n\u001b[1;32m    451\u001b[0m     \u001b[0;31m# Create the parser.\u001b[0m\u001b[0;34m\u001b[0m\u001b[0;34m\u001b[0m\u001b[0;34m\u001b[0m\u001b[0m\n\u001b[0;32m--> 452\u001b[0;31m     \u001b[0mparser\u001b[0m \u001b[0;34m=\u001b[0m \u001b[0mTextFileReader\u001b[0m\u001b[0;34m(\u001b[0m\u001b[0mfp_or_buf\u001b[0m\u001b[0;34m,\u001b[0m \u001b[0;34m**\u001b[0m\u001b[0mkwds\u001b[0m\u001b[0;34m)\u001b[0m\u001b[0;34m\u001b[0m\u001b[0;34m\u001b[0m\u001b[0m\n\u001b[0m\u001b[1;32m    453\u001b[0m \u001b[0;34m\u001b[0m\u001b[0m\n\u001b[1;32m    454\u001b[0m     \u001b[0;32mif\u001b[0m \u001b[0mchunksize\u001b[0m \u001b[0;32mor\u001b[0m \u001b[0miterator\u001b[0m\u001b[0;34m:\u001b[0m\u001b[0;34m\u001b[0m\u001b[0;34m\u001b[0m\u001b[0m\n",
      "\u001b[0;32m/opt/anaconda3/lib/python3.7/site-packages/pandas/io/parsers.py\u001b[0m in \u001b[0;36m__init__\u001b[0;34m(self, f, engine, **kwds)\u001b[0m\n\u001b[1;32m    934\u001b[0m             \u001b[0mself\u001b[0m\u001b[0;34m.\u001b[0m\u001b[0moptions\u001b[0m\u001b[0;34m[\u001b[0m\u001b[0;34m\"has_index_names\"\u001b[0m\u001b[0;34m]\u001b[0m \u001b[0;34m=\u001b[0m \u001b[0mkwds\u001b[0m\u001b[0;34m[\u001b[0m\u001b[0;34m\"has_index_names\"\u001b[0m\u001b[0;34m]\u001b[0m\u001b[0;34m\u001b[0m\u001b[0;34m\u001b[0m\u001b[0m\n\u001b[1;32m    935\u001b[0m \u001b[0;34m\u001b[0m\u001b[0m\n\u001b[0;32m--> 936\u001b[0;31m         \u001b[0mself\u001b[0m\u001b[0;34m.\u001b[0m\u001b[0m_make_engine\u001b[0m\u001b[0;34m(\u001b[0m\u001b[0mself\u001b[0m\u001b[0;34m.\u001b[0m\u001b[0mengine\u001b[0m\u001b[0;34m)\u001b[0m\u001b[0;34m\u001b[0m\u001b[0;34m\u001b[0m\u001b[0m\n\u001b[0m\u001b[1;32m    937\u001b[0m \u001b[0;34m\u001b[0m\u001b[0m\n\u001b[1;32m    938\u001b[0m     \u001b[0;32mdef\u001b[0m \u001b[0mclose\u001b[0m\u001b[0;34m(\u001b[0m\u001b[0mself\u001b[0m\u001b[0;34m)\u001b[0m\u001b[0;34m:\u001b[0m\u001b[0;34m\u001b[0m\u001b[0;34m\u001b[0m\u001b[0m\n",
      "\u001b[0;32m/opt/anaconda3/lib/python3.7/site-packages/pandas/io/parsers.py\u001b[0m in \u001b[0;36m_make_engine\u001b[0;34m(self, engine)\u001b[0m\n\u001b[1;32m   1166\u001b[0m     \u001b[0;32mdef\u001b[0m \u001b[0m_make_engine\u001b[0m\u001b[0;34m(\u001b[0m\u001b[0mself\u001b[0m\u001b[0;34m,\u001b[0m \u001b[0mengine\u001b[0m\u001b[0;34m=\u001b[0m\u001b[0;34m\"c\"\u001b[0m\u001b[0;34m)\u001b[0m\u001b[0;34m:\u001b[0m\u001b[0;34m\u001b[0m\u001b[0;34m\u001b[0m\u001b[0m\n\u001b[1;32m   1167\u001b[0m         \u001b[0;32mif\u001b[0m \u001b[0mengine\u001b[0m \u001b[0;34m==\u001b[0m \u001b[0;34m\"c\"\u001b[0m\u001b[0;34m:\u001b[0m\u001b[0;34m\u001b[0m\u001b[0;34m\u001b[0m\u001b[0m\n\u001b[0;32m-> 1168\u001b[0;31m             \u001b[0mself\u001b[0m\u001b[0;34m.\u001b[0m\u001b[0m_engine\u001b[0m \u001b[0;34m=\u001b[0m \u001b[0mCParserWrapper\u001b[0m\u001b[0;34m(\u001b[0m\u001b[0mself\u001b[0m\u001b[0;34m.\u001b[0m\u001b[0mf\u001b[0m\u001b[0;34m,\u001b[0m \u001b[0;34m**\u001b[0m\u001b[0mself\u001b[0m\u001b[0;34m.\u001b[0m\u001b[0moptions\u001b[0m\u001b[0;34m)\u001b[0m\u001b[0;34m\u001b[0m\u001b[0;34m\u001b[0m\u001b[0m\n\u001b[0m\u001b[1;32m   1169\u001b[0m         \u001b[0;32melse\u001b[0m\u001b[0;34m:\u001b[0m\u001b[0;34m\u001b[0m\u001b[0;34m\u001b[0m\u001b[0m\n\u001b[1;32m   1170\u001b[0m             \u001b[0;32mif\u001b[0m \u001b[0mengine\u001b[0m \u001b[0;34m==\u001b[0m \u001b[0;34m\"python\"\u001b[0m\u001b[0;34m:\u001b[0m\u001b[0;34m\u001b[0m\u001b[0;34m\u001b[0m\u001b[0m\n",
      "\u001b[0;32m/opt/anaconda3/lib/python3.7/site-packages/pandas/io/parsers.py\u001b[0m in \u001b[0;36m__init__\u001b[0;34m(self, src, **kwds)\u001b[0m\n\u001b[1;32m   1996\u001b[0m         \u001b[0mkwds\u001b[0m\u001b[0;34m[\u001b[0m\u001b[0;34m\"usecols\"\u001b[0m\u001b[0;34m]\u001b[0m \u001b[0;34m=\u001b[0m \u001b[0mself\u001b[0m\u001b[0;34m.\u001b[0m\u001b[0musecols\u001b[0m\u001b[0;34m\u001b[0m\u001b[0;34m\u001b[0m\u001b[0m\n\u001b[1;32m   1997\u001b[0m \u001b[0;34m\u001b[0m\u001b[0m\n\u001b[0;32m-> 1998\u001b[0;31m         \u001b[0mself\u001b[0m\u001b[0;34m.\u001b[0m\u001b[0m_reader\u001b[0m \u001b[0;34m=\u001b[0m \u001b[0mparsers\u001b[0m\u001b[0;34m.\u001b[0m\u001b[0mTextReader\u001b[0m\u001b[0;34m(\u001b[0m\u001b[0msrc\u001b[0m\u001b[0;34m,\u001b[0m \u001b[0;34m**\u001b[0m\u001b[0mkwds\u001b[0m\u001b[0;34m)\u001b[0m\u001b[0;34m\u001b[0m\u001b[0;34m\u001b[0m\u001b[0m\n\u001b[0m\u001b[1;32m   1999\u001b[0m         \u001b[0mself\u001b[0m\u001b[0;34m.\u001b[0m\u001b[0munnamed_cols\u001b[0m \u001b[0;34m=\u001b[0m \u001b[0mself\u001b[0m\u001b[0;34m.\u001b[0m\u001b[0m_reader\u001b[0m\u001b[0;34m.\u001b[0m\u001b[0munnamed_cols\u001b[0m\u001b[0;34m\u001b[0m\u001b[0;34m\u001b[0m\u001b[0m\n\u001b[1;32m   2000\u001b[0m \u001b[0;34m\u001b[0m\u001b[0m\n",
      "\u001b[0;32mpandas/_libs/parsers.pyx\u001b[0m in \u001b[0;36mpandas._libs.parsers.TextReader.__cinit__\u001b[0;34m()\u001b[0m\n",
      "\u001b[0;32mpandas/_libs/parsers.pyx\u001b[0m in \u001b[0;36mpandas._libs.parsers.TextReader._setup_parser_source\u001b[0;34m()\u001b[0m\n",
      "\u001b[0;31mFileNotFoundError\u001b[0m: [Errno 2] No such file or directory: 'BostonPoliceInternalAffairs.csv'"
     ]
    }
   ],
   "source": [
    "# data from webscraper of Boston police disciplinary action\n",
    "\n",
    "df1 = pd.read_csv(\"BostonPoliceInternalAffairs.csv\")\n",
    "df1"
   ]
  },
  {
   "cell_type": "code",
   "execution_count": null,
   "metadata": {},
   "outputs": [],
   "source": [
    "# data of Boston police officers that contributed\n",
    "\n",
    "df2 = pd.read_csv(\"BPIA-APC-LEAD-EARNINGS.csv\")\n",
    "df2"
   ]
  },
  {
   "cell_type": "code",
   "execution_count": null,
   "metadata": {},
   "outputs": [],
   "source": [
    "names = list(df2.Name.unique())\n",
    "print(\"Number of unique names that contributed: \", len(names))\n",
    "print(names)"
   ]
  },
  {
   "cell_type": "code",
   "execution_count": null,
   "metadata": {
    "tags": [
     "outputPrepend"
    ]
   },
   "outputs": [],
   "source": [
    "names_total = list(df1.Name.unique())\n",
    "print(\"Number of total names on Boston police disciplinary dataset: \", len(names_total))\n",
    "print(names_total)"
   ]
  },
  {
   "cell_type": "code",
   "execution_count": null,
   "metadata": {
    "tags": []
   },
   "outputs": [],
   "source": [
    "# make names_total lower_case for matching\n",
    "names_total = [name.lower() for name in names_total]"
   ]
  },
  {
   "cell_type": "code",
   "execution_count": null,
   "metadata": {},
   "outputs": [],
   "source": [
    "count = 0 \n",
    "names_contributed = []\n",
    "for name in names:\n",
    "    if name in names_total:\n",
    "        count+=1\n",
    "        names_contributed.append(name)\n",
    "\n",
    "print(\"number of names from BPD dataset who contributed: \", count)\n",
    "print(\"percentage of BPD who contributed: \", count/len(names_total) * 100)"
   ]
  },
  {
   "cell_type": "code",
   "execution_count": null,
   "metadata": {
    "tags": []
   },
   "outputs": [],
   "source": [
    "# create new column called contributed, preseting it = 0\n",
    "df1[\"Contributed\"] = 0\n",
    "\n",
    "# 1 if contributed, 0 if not\n",
    "for row in range(len(df1)):\n",
    "    name = df1[\"Name\"][row].lower()\n",
    "    if name in names_contributed:\n",
    "        df1[\"Contributed\"][row] = 1\n",
    "    else:\n",
    "        df1[\"Contributed\"][row] = 0"
   ]
  },
  {
   "cell_type": "code",
   "execution_count": null,
   "metadata": {},
   "outputs": [],
   "source": [
    "df1"
   ]
  },
  {
   "cell_type": "code",
   "execution_count": null,
   "metadata": {},
   "outputs": [],
   "source": [
    "df1.Rank.unique()"
   ]
  },
  {
   "cell_type": "code",
   "execution_count": null,
   "metadata": {},
   "outputs": [],
   "source": [
    "df1.Race.unique()"
   ]
  },
  {
   "cell_type": "code",
   "execution_count": 4,
   "metadata": {},
   "outputs": [
    {
     "ename": "NameError",
     "evalue": "name 'df1' is not defined",
     "output_type": "error",
     "traceback": [
      "\u001b[0;31m---------------------------------------------------------------------------\u001b[0m",
      "\u001b[0;31mNameError\u001b[0m                                 Traceback (most recent call last)",
      "\u001b[0;32m<ipython-input-4-a5e25ef12383>\u001b[0m in \u001b[0;36m<module>\u001b[0;34m\u001b[0m\n\u001b[0;32m----> 1\u001b[0;31m \u001b[0mdf1\u001b[0m\u001b[0;34m.\u001b[0m\u001b[0mGender\u001b[0m\u001b[0;34m.\u001b[0m\u001b[0munique\u001b[0m\u001b[0;34m(\u001b[0m\u001b[0;34m)\u001b[0m\u001b[0;34m\u001b[0m\u001b[0;34m\u001b[0m\u001b[0m\n\u001b[0m",
      "\u001b[0;31mNameError\u001b[0m: name 'df1' is not defined"
     ]
    }
   ],
   "source": [
    "df1.Gender.unique()"
   ]
  },
  {
   "cell_type": "code",
   "execution_count": null,
   "metadata": {},
   "outputs": [],
   "source": [
    "df1.TypeOfMisconduct.unique()"
   ]
  },
  {
   "cell_type": "code",
   "execution_count": 5,
   "metadata": {},
   "outputs": [
    {
     "ename": "NameError",
     "evalue": "name 'df1' is not defined",
     "output_type": "error",
     "traceback": [
      "\u001b[0;31m---------------------------------------------------------------------------\u001b[0m",
      "\u001b[0;31mNameError\u001b[0m                                 Traceback (most recent call last)",
      "\u001b[0;32m<ipython-input-5-425aa4dd040d>\u001b[0m in \u001b[0;36m<module>\u001b[0;34m\u001b[0m\n\u001b[0;32m----> 1\u001b[0;31m \u001b[0mdf1\u001b[0m\u001b[0;34m.\u001b[0m\u001b[0mAllegation\u001b[0m\u001b[0;34m.\u001b[0m\u001b[0munique\u001b[0m\u001b[0;34m(\u001b[0m\u001b[0;34m)\u001b[0m\u001b[0;34m\u001b[0m\u001b[0;34m\u001b[0m\u001b[0m\n\u001b[0m",
      "\u001b[0;31mNameError\u001b[0m: name 'df1' is not defined"
     ]
    }
   ],
   "source": [
    "df1.Allegation.unique()"
   ]
  },
  {
   "cell_type": "code",
   "execution_count": 6,
   "metadata": {},
   "outputs": [
    {
     "ename": "NameError",
     "evalue": "name 'df1' is not defined",
     "output_type": "error",
     "traceback": [
      "\u001b[0;31m---------------------------------------------------------------------------\u001b[0m",
      "\u001b[0;31mNameError\u001b[0m                                 Traceback (most recent call last)",
      "\u001b[0;32m<ipython-input-6-60cba8d6143a>\u001b[0m in \u001b[0;36m<module>\u001b[0;34m\u001b[0m\n\u001b[0;32m----> 1\u001b[0;31m \u001b[0mdf1\u001b[0m\u001b[0;34m.\u001b[0m\u001b[0mFinding\u001b[0m\u001b[0;34m.\u001b[0m\u001b[0munique\u001b[0m\u001b[0;34m(\u001b[0m\u001b[0;34m)\u001b[0m\u001b[0;34m\u001b[0m\u001b[0;34m\u001b[0m\u001b[0m\n\u001b[0m",
      "\u001b[0;31mNameError\u001b[0m: name 'df1' is not defined"
     ]
    }
   ],
   "source": [
    "df1.Finding.unique()"
   ]
  },
  {
   "cell_type": "code",
   "execution_count": 7,
   "metadata": {},
   "outputs": [
    {
     "ename": "NameError",
     "evalue": "name 'df1' is not defined",
     "output_type": "error",
     "traceback": [
      "\u001b[0;31m---------------------------------------------------------------------------\u001b[0m",
      "\u001b[0;31mNameError\u001b[0m                                 Traceback (most recent call last)",
      "\u001b[0;32m<ipython-input-7-deaa56891a9a>\u001b[0m in \u001b[0;36m<module>\u001b[0;34m\u001b[0m\n\u001b[0;32m----> 1\u001b[0;31m \u001b[0mdf1\u001b[0m\u001b[0;34m.\u001b[0m\u001b[0mOutcome\u001b[0m\u001b[0;34m.\u001b[0m\u001b[0munique\u001b[0m\u001b[0;34m(\u001b[0m\u001b[0;34m)\u001b[0m\u001b[0;34m\u001b[0m\u001b[0;34m\u001b[0m\u001b[0m\n\u001b[0m",
      "\u001b[0;31mNameError\u001b[0m: name 'df1' is not defined"
     ]
    }
   ],
   "source": [
    "df1.Outcome.unique()"
   ]
  },
  {
   "cell_type": "code",
   "execution_count": 8,
   "metadata": {},
   "outputs": [
    {
     "ename": "NameError",
     "evalue": "name 'df1' is not defined",
     "output_type": "error",
     "traceback": [
      "\u001b[0;31m---------------------------------------------------------------------------\u001b[0m",
      "\u001b[0;31mNameError\u001b[0m                                 Traceback (most recent call last)",
      "\u001b[0;32m<ipython-input-8-cb6aa8597b53>\u001b[0m in \u001b[0;36m<module>\u001b[0;34m\u001b[0m\n\u001b[0;32m----> 1\u001b[0;31m df1 = df1.replace({\n\u001b[0m\u001b[1;32m      2\u001b[0m     \u001b[0;31m# TypeOfMisconduct\u001b[0m\u001b[0;34m\u001b[0m\u001b[0;34m\u001b[0m\u001b[0;34m\u001b[0m\u001b[0m\n\u001b[1;32m      3\u001b[0m     \u001b[0;34m'Citizen complaint'\u001b[0m\u001b[0;34m:\u001b[0m \u001b[0;36m0\u001b[0m\u001b[0;34m,\u001b[0m\u001b[0;34m\u001b[0m\u001b[0;34m\u001b[0m\u001b[0m\n\u001b[1;32m      4\u001b[0m     \u001b[0;34m'Internal investigation'\u001b[0m\u001b[0;34m:\u001b[0m \u001b[0;36m1\u001b[0m\u001b[0;34m,\u001b[0m\u001b[0;34m\u001b[0m\u001b[0;34m\u001b[0m\u001b[0m\n\u001b[1;32m      5\u001b[0m \u001b[0;34m\u001b[0m\u001b[0m\n",
      "\u001b[0;31mNameError\u001b[0m: name 'df1' is not defined"
     ]
    }
   ],
   "source": [
    "df1 = df1.replace({\n",
    "    # TypeOfMisconduct\n",
    "    'Citizen complaint': 0,\n",
    "    'Internal investigation': 1,\n",
    "    \n",
    "    # Rank - higher is more power\n",
    "    'Police Officer': 0,\n",
    "    'Detective': 1,\n",
    "    'Sergeant': 2,\n",
    "    'Sergeant Detective':2,\n",
    "    'Lieutenant': 3,\n",
    "    'Lieutenantenant': 3,\n",
    "    'Lieutenantenant Detective':3,\n",
    "    'Captain': 4,\n",
    "    'Deputy' : 4,\n",
    "    'Deputy Superintendent': 5,\n",
    "    'Superintendent': 5,\n",
    "    \n",
    "    # Race - 0 is White, 1 is everything else\n",
    "    'White': 0,\n",
    "    'Black': 1,\n",
    "    'Hispanic': 1,\n",
    "    'Asian': 1,\n",
    "     \n",
    "    # Finding - 0 for found innocent or not done yet, 1 for guilty\n",
    "    'Withdrawn': 0,\n",
    "    'Exonerated': 0,\n",
    "    'Unfounded':0,\n",
    "    'Filed': 0,\n",
    "    'Not Sustained': 0,\n",
    "    'Sustained': 1,\n",
    "    \n",
    "    # Gender\n",
    "    'Male': 1,\n",
    "    'Female': 0\n",
    "    })"
   ]
  },
  {
   "cell_type": "code",
   "execution_count": 9,
   "metadata": {},
   "outputs": [
    {
     "ename": "NameError",
     "evalue": "name 'df1' is not defined",
     "output_type": "error",
     "traceback": [
      "\u001b[0;31m---------------------------------------------------------------------------\u001b[0m",
      "\u001b[0;31mNameError\u001b[0m                                 Traceback (most recent call last)",
      "\u001b[0;32m<ipython-input-9-6a861a8b3f1a>\u001b[0m in \u001b[0;36m<module>\u001b[0;34m\u001b[0m\n\u001b[0;32m----> 1\u001b[0;31m \u001b[0mdf1\u001b[0m\u001b[0;34m\u001b[0m\u001b[0;34m\u001b[0m\u001b[0m\n\u001b[0m",
      "\u001b[0;31mNameError\u001b[0m: name 'df1' is not defined"
     ]
    }
   ],
   "source": [
    "df1"
   ]
  },
  {
   "cell_type": "code",
   "execution_count": 102,
   "metadata": {},
   "outputs": [
    {
     "name": "stdout",
     "output_type": "stream",
     "text": [
      "Optimization terminated successfully.\n",
      "         Current function value: 0.558779\n",
      "         Iterations 6\n",
      "                           Logit Regression Results                           \n",
      "==============================================================================\n",
      "Dep. Variable:            Contributed   No. Observations:                 5660\n",
      "Model:                          Logit   Df Residuals:                     5654\n",
      "Method:                           MLE   Df Model:                            5\n",
      "Date:                Mon, 19 Apr 2021   Pseudo R-squ.:                 0.05636\n",
      "Time:                        13:52:45   Log-Likelihood:                -3162.7\n",
      "converged:                       True   LL-Null:                       -3351.6\n",
      "Covariance Type:            nonrobust   LLR p-value:                 1.835e-79\n",
      "====================================================================================\n",
      "                       coef    std err          z      P>|z|      [0.025      0.975]\n",
      "------------------------------------------------------------------------------------\n",
      "Rank                 0.3019      0.029     10.408      0.000       0.245       0.359\n",
      "Race                -0.6898      0.068    -10.095      0.000      -0.824      -0.556\n",
      "Gender              -0.0997      0.105     -0.948      0.343      -0.306       0.106\n",
      "Year                -0.0003    5.5e-05     -5.779      0.000      -0.000      -0.000\n",
      "TypeOfMisconduct     0.0477      0.088      0.539      0.590      -0.126       0.221\n",
      "Finding             -0.6619      0.088     -7.480      0.000      -0.835      -0.488\n",
      "====================================================================================\n"
     ]
    }
   ],
   "source": [
    "import statsmodels.api as sm\n",
    "\n",
    "data = df1.drop([\"Name\", \"CaseID\", \"Contributed\", \"Outcome\", \"Allegation\"], axis = 1)\n",
    "labels = df1[\"Contributed\"]\n",
    "\n",
    "logit_model = sm.Logit(labels, data).fit()\n",
    "print(logit_model.summary())"
   ]
  },
  {
   "cell_type": "markdown",
   "metadata": {},
   "source": [
    "From the logistic regression, we can see that Rank, Race, Gender, Year, and Finding all have significant p values. We will rerun a regression with only this significant."
   ]
  },
  {
   "cell_type": "code",
   "execution_count": 104,
   "metadata": {},
   "outputs": [
    {
     "name": "stdout",
     "output_type": "stream",
     "text": [
      "Optimization terminated successfully.\n",
      "         Current function value: 0.558896\n",
      "         Iterations 6\n",
      "                           Logit Regression Results                           \n",
      "==============================================================================\n",
      "Dep. Variable:            Contributed   No. Observations:                 5660\n",
      "Model:                          Logit   Df Residuals:                     5656\n",
      "Method:                           MLE   Df Model:                            3\n",
      "Date:                Mon, 19 Apr 2021   Pseudo R-squ.:                 0.05616\n",
      "Time:                        13:52:56   Log-Likelihood:                -3163.4\n",
      "converged:                       True   LL-Null:                       -3351.6\n",
      "Covariance Type:            nonrobust   LLR p-value:                 2.806e-81\n",
      "==============================================================================\n",
      "                 coef    std err          z      P>|z|      [0.025      0.975]\n",
      "------------------------------------------------------------------------------\n",
      "Rank           0.3075      0.028     10.851      0.000       0.252       0.363\n",
      "Race          -0.6816      0.068    -10.041      0.000      -0.815      -0.549\n",
      "Year          -0.0004   2.29e-05    -15.861      0.000      -0.000      -0.000\n",
      "Finding       -0.6297      0.071     -8.899      0.000      -0.768      -0.491\n",
      "==============================================================================\n"
     ]
    }
   ],
   "source": [
    "data2 = df1.drop([\"Name\", \"CaseID\", \"Contributed\", \"Outcome\", \"Allegation\", \"Gender\", \"TypeOfMisconduct\"], axis = 1)\n",
    "labels2 = df1[\"Contributed\"]\n",
    "\n",
    "logit_model2 = sm.Logit(labels2, data2).fit()\n",
    "print(logit_model2.summary())"
   ]
  },
  {
   "cell_type": "markdown",
   "metadata": {},
   "source": [
    "### Results\n",
    "The logistic regression equation that could predict whether the person contributed or not is: probability contributed = 0.3075Rank -0.6816Race - 0.0004Year - 0.6297Finding.\n",
    "\n",
    "1. Higher the rank, the more likely the person is to contribute. \n",
    "2. Race is encoded 0 for white and 1 for minority. From the coefficient predictor, we can see that it is negative indicating that if the person is white, they are more likely to contribute.\n",
    "3. Year's coefficient is very close to 0 indicating that it most likely does not influence whether or not a person contributes."
   ]
  },
  {
   "cell_type": "markdown",
   "metadata": {},
   "source": [
    "### Next Steps\n",
    "This is preliminary modeling with logistic regression. There are many more things we can do to build a more successful model. Many variables are currently left out including Allegation for simplicity. Finding was also encoded with 0 or 1 but could be useful to encode with other dummy variables. "
   ]
  },
  {
   "cell_type": "markdown",
   "id": "written-monroe",
   "metadata": {},
   "source": [
    "# One-Hot Vector Regression"
   ]
  },
  {
   "cell_type": "markdown",
   "id": "missing-palace",
   "metadata": {},
   "source": [
    "### First, by Allegation"
   ]
  },
  {
   "cell_type": "code",
   "execution_count": 1,
   "id": "sized-sleep",
   "metadata": {},
   "outputs": [
    {
     "ename": "NameError",
     "evalue": "name 'pd' is not defined",
     "output_type": "error",
     "traceback": [
      "\u001b[0;31m---------------------------------------------------------------------------\u001b[0m",
      "\u001b[0;31mNameError\u001b[0m                                 Traceback (most recent call last)",
      "\u001b[0;32m<ipython-input-1-4f21e64b0a45>\u001b[0m in \u001b[0;36m<module>\u001b[0;34m\u001b[0m\n\u001b[0;32m----> 1\u001b[0;31m \u001b[0mXvals_onehot_Allegation\u001b[0m \u001b[0;34m=\u001b[0m \u001b[0mpd\u001b[0m\u001b[0;34m.\u001b[0m\u001b[0mget_dummies\u001b[0m\u001b[0;34m(\u001b[0m\u001b[0mdf\u001b[0m\u001b[0;34m.\u001b[0m\u001b[0mAllegation\u001b[0m\u001b[0;34m)\u001b[0m\u001b[0;34m\u001b[0m\u001b[0;34m\u001b[0m\u001b[0m\n\u001b[0m\u001b[1;32m      2\u001b[0m \u001b[0;34m\u001b[0m\u001b[0m\n\u001b[1;32m      3\u001b[0m \u001b[0mX_onehot_Allegation\u001b[0m \u001b[0;34m=\u001b[0m \u001b[0msm\u001b[0m\u001b[0;34m.\u001b[0m\u001b[0madd_constant\u001b[0m\u001b[0;34m(\u001b[0m\u001b[0mXvals_onehot_Allegation\u001b[0m\u001b[0;34m)\u001b[0m\u001b[0;34m\u001b[0m\u001b[0;34m\u001b[0m\u001b[0m\n\u001b[1;32m      4\u001b[0m \u001b[0;34m\u001b[0m\u001b[0m\n\u001b[1;32m      5\u001b[0m \u001b[0msmModel_onehot_Allegation\u001b[0m \u001b[0;34m=\u001b[0m \u001b[0msm\u001b[0m\u001b[0;34m.\u001b[0m\u001b[0mLogit\u001b[0m\u001b[0;34m(\u001b[0m\u001b[0mYvals\u001b[0m\u001b[0;34m,\u001b[0m \u001b[0mX_onehot_Allegation\u001b[0m\u001b[0;34m)\u001b[0m\u001b[0;34m.\u001b[0m\u001b[0mfit\u001b[0m\u001b[0;34m(\u001b[0m\u001b[0;34m)\u001b[0m\u001b[0;34m\u001b[0m\u001b[0;34m\u001b[0m\u001b[0m\n",
      "\u001b[0;31mNameError\u001b[0m: name 'pd' is not defined"
     ]
    }
   ],
   "source": [
    "Xvals_onehot_Allegation = pd.get_dummies(df.Allegation)\n",
    "\n",
    "X_onehot_Allegation = sm.add_constant(Xvals_onehot_Allegation)\n",
    "\n",
    "smModel_onehot_Allegation = sm.Logit(Yvals, X_onehot_Allegation).fit()\n",
    " \n",
    "print_model = smModel_onehot_Allegation.summary()\n",
    "print(print_model)"
   ]
  },
  {
   "cell_type": "markdown",
   "id": "hungarian-performance",
   "metadata": {},
   "source": [
    "### Next, by Race"
   ]
  },
  {
   "cell_type": "code",
   "execution_count": 107,
   "id": "compressed-africa",
   "metadata": {},
   "outputs": [
    {
     "name": "stdout",
     "output_type": "stream",
     "text": [
      "                            OLS Regression Results                            \n",
      "==============================================================================\n",
      "Dep. Variable:                 Amount   R-squared:                       0.001\n",
      "Model:                            OLS   Adj. R-squared:                  0.000\n",
      "Method:                 Least Squares   F-statistic:                     1.530\n",
      "Date:                Wed, 14 Apr 2021   Prob (F-statistic):              0.205\n",
      "Time:                        17:25:59   Log-Likelihood:                -26763.\n",
      "No. Observations:                3971   AIC:                         5.353e+04\n",
      "Df Residuals:                    3967   BIC:                         5.356e+04\n",
      "Df Model:                           3                                         \n",
      "Covariance Type:            nonrobust                                         \n",
      "==============================================================================\n",
      "                 coef    std err          t      P>|t|      [0.025      0.975]\n",
      "------------------------------------------------------------------------------\n",
      "const       5.561e+13   3.13e+14      0.177      0.859   -5.59e+14     6.7e+14\n",
      "Black      -5.561e+13   3.13e+14     -0.177      0.859    -6.7e+14    5.59e+14\n",
      "Hispanic   -5.561e+13   3.13e+14     -0.177      0.859    -6.7e+14    5.59e+14\n",
      "White      -5.561e+13   3.13e+14     -0.177      0.859    -6.7e+14    5.59e+14\n",
      "==============================================================================\n",
      "Omnibus:                     1251.050   Durbin-Watson:                   1.370\n",
      "Prob(Omnibus):                  0.000   Jarque-Bera (JB):             3555.193\n",
      "Skew:                           1.663   Prob(JB):                         0.00\n",
      "Kurtosis:                       6.229   Cond. No.                     2.53e+14\n",
      "==============================================================================\n",
      "\n",
      "Notes:\n",
      "[1] Standard Errors assume that the covariance matrix of the errors is correctly specified.\n",
      "[2] The smallest eigenvalue is 1.07e-25. This might indicate that there are\n",
      "strong multicollinearity problems or that the design matrix is singular.\n"
     ]
    }
   ],
   "source": [
    "Xvals_onehot_Race = pd.get_dummies(df.Race)\n",
    "\n",
    "X_onehot_Race = sm.add_constant(Xvals_onehot_Race)\n",
    "\n",
    "smModel_onehot_Race = sm.OLS(Yvals, X_onehot_Race).fit()\n",
    "\n",
    "print_model = smModel_onehot_Race.summary()\n",
    "print(print_model)"
   ]
  },
  {
   "cell_type": "markdown",
   "id": "loaded-panel",
   "metadata": {},
   "source": [
    "### Now, by finding"
   ]
  },
  {
   "cell_type": "code",
   "execution_count": 108,
   "id": "cubic-surrey",
   "metadata": {},
   "outputs": [
    {
     "name": "stdout",
     "output_type": "stream",
     "text": [
      "                            OLS Regression Results                            \n",
      "==============================================================================\n",
      "Dep. Variable:                 Amount   R-squared:                       0.003\n",
      "Model:                            OLS   Adj. R-squared:                  0.002\n",
      "Method:                 Least Squares   F-statistic:                     2.632\n",
      "Date:                Wed, 14 Apr 2021   Prob (F-statistic):             0.0221\n",
      "Time:                        17:27:27   Log-Likelihood:                -26759.\n",
      "No. Observations:                3971   AIC:                         5.353e+04\n",
      "Df Residuals:                    3965   BIC:                         5.357e+04\n",
      "Df Model:                           5                                         \n",
      "Covariance Type:            nonrobust                                         \n",
      "=================================================================================\n",
      "                    coef    std err          t      P>|t|      [0.025      0.975]\n",
      "---------------------------------------------------------------------------------\n",
      "const          -5.04e+14   6.99e+14     -0.721      0.471   -1.87e+15    8.67e+14\n",
      "Exonerated      5.04e+14   6.99e+14      0.721      0.471   -8.67e+14    1.87e+15\n",
      "Filed           5.04e+14   6.99e+14      0.721      0.471   -8.67e+14    1.87e+15\n",
      "Not Sustained   5.04e+14   6.99e+14      0.721      0.471   -8.67e+14    1.87e+15\n",
      "Sustained       5.04e+14   6.99e+14      0.721      0.471   -8.67e+14    1.87e+15\n",
      "Unfounded       5.04e+14   6.99e+14      0.721      0.471   -8.67e+14    1.87e+15\n",
      "Withdrawn       5.04e+14   6.99e+14      0.721      0.471   -8.67e+14    1.87e+15\n",
      "==============================================================================\n",
      "Omnibus:                     1269.807   Durbin-Watson:                   1.376\n",
      "Prob(Omnibus):                  0.000   Jarque-Bera (JB):             3676.487\n",
      "Skew:                           1.680   Prob(JB):                         0.00\n",
      "Kurtosis:                       6.306   Cond. No.                     6.44e+14\n",
      "==============================================================================\n",
      "\n",
      "Notes:\n",
      "[1] Standard Errors assume that the covariance matrix of the errors is correctly specified.\n",
      "[2] The smallest eigenvalue is 1.22e-26. This might indicate that there are\n",
      "strong multicollinearity problems or that the design matrix is singular.\n"
     ]
    }
   ],
   "source": [
    "Xvals_onehot_Finding = pd.get_dummies(df.Finding)\n",
    "\n",
    "X_onehot_Finding = sm.add_constant(Xvals_onehot_Finding)\n",
    "\n",
    "smModel_onehot_Finding = sm.OLS(Yvals, X_onehot_Finding).fit()\n",
    "\n",
    "print_model = smModel_onehot_Finding.summary()\n",
    "print(print_model)"
   ]
  },
  {
   "cell_type": "code",
   "execution_count": null,
   "id": "silent-provider",
   "metadata": {},
   "outputs": [],
   "source": [
    "['Name', 'TypeOfMisconduct', 'Race', 'Rank', 'Allegation', 'Finding', 'Amount', 'Recipient']"
   ]
  },
  {
   "cell_type": "markdown",
   "id": "civilian-constitution",
   "metadata": {},
   "source": [
    "### Now, TypeOfMisconduct"
   ]
  },
  {
   "cell_type": "code",
   "execution_count": 112,
   "id": "korean-roots",
   "metadata": {},
   "outputs": [
    {
     "name": "stdout",
     "output_type": "stream",
     "text": [
      "                            OLS Regression Results                            \n",
      "==============================================================================\n",
      "Dep. Variable:                 Amount   R-squared:                       0.010\n",
      "Model:                            OLS   Adj. R-squared:                  0.009\n",
      "Method:                 Least Squares   F-statistic:                     19.18\n",
      "Date:                Wed, 14 Apr 2021   Prob (F-statistic):           5.15e-09\n",
      "Time:                        17:35:43   Log-Likelihood:                -26747.\n",
      "No. Observations:                3971   AIC:                         5.350e+04\n",
      "Df Residuals:                    3968   BIC:                         5.352e+04\n",
      "Df Model:                           2                                         \n",
      "Covariance Type:            nonrobust                                         \n",
      "==========================================================================================\n",
      "                             coef    std err          t      P>|t|      [0.025      0.975]\n",
      "------------------------------------------------------------------------------------------\n",
      "const                   2.478e+14   2.18e+14      1.138      0.255   -1.79e+14    6.75e+14\n",
      "Citizen complaint      -2.478e+14   2.18e+14     -1.138      0.255   -6.75e+14    1.79e+14\n",
      "Internal investigation -2.478e+14   2.18e+14     -1.138      0.255   -6.75e+14    1.79e+14\n",
      "==============================================================================\n",
      "Omnibus:                     1241.381   Durbin-Watson:                   1.385\n",
      "Prob(Omnibus):                  0.000   Jarque-Bera (JB):             3503.844\n",
      "Skew:                           1.652   Prob(JB):                         0.00\n",
      "Kurtosis:                       6.203   Cond. No.                     1.51e+14\n",
      "==============================================================================\n",
      "\n",
      "Notes:\n",
      "[1] Standard Errors assume that the covariance matrix of the errors is correctly specified.\n",
      "[2] The smallest eigenvalue is 2.92e-25. This might indicate that there are\n",
      "strong multicollinearity problems or that the design matrix is singular.\n"
     ]
    }
   ],
   "source": [
    "Xvals_onehot_TypeOfMisconduct = pd.get_dummies(df.TypeOfMisconduct)\n",
    "\n",
    "X_onehot_TypeOfMisconduct = sm.add_constant(Xvals_onehot_TypeOfMisconduct)\n",
    "\n",
    "smModel_onehot_TypeOfMisconduct = sm.OLS(Yvals, X_onehot_TypeOfMisconduct).fit()\n",
    "\n",
    "print_model = smModel_onehot_TypeOfMisconduct.summary()\n",
    "print(print_model)"
   ]
  },
  {
   "cell_type": "markdown",
   "id": "saved-crossing",
   "metadata": {},
   "source": [
    "### Now, by Rank"
   ]
  },
  {
   "cell_type": "code",
   "execution_count": 113,
   "id": "finite-translator",
   "metadata": {
    "scrolled": true
   },
   "outputs": [
    {
     "name": "stdout",
     "output_type": "stream",
     "text": [
      "                            OLS Regression Results                            \n",
      "==============================================================================\n",
      "Dep. Variable:                 Amount   R-squared:                       0.042\n",
      "Model:                            OLS   Adj. R-squared:                  0.041\n",
      "Method:                 Least Squares   F-statistic:                     25.04\n",
      "Date:                Wed, 14 Apr 2021   Prob (F-statistic):           1.14e-33\n",
      "Time:                        17:37:08   Log-Likelihood:                -26680.\n",
      "No. Observations:                3971   AIC:                         5.338e+04\n",
      "Df Residuals:                    3963   BIC:                         5.343e+04\n",
      "Df Model:                           7                                         \n",
      "Covariance Type:            nonrobust                                         \n",
      "=============================================================================================\n",
      "                                coef    std err          t      P>|t|      [0.025      0.975]\n",
      "---------------------------------------------------------------------------------------------\n",
      "const                      6.026e+14   7.67e+14      0.786      0.432   -9.01e+14    2.11e+15\n",
      "Captain                   -6.026e+14   7.67e+14     -0.786      0.432   -2.11e+15    9.01e+14\n",
      "Deputy Superintendent     -6.026e+14   7.67e+14     -0.786      0.432   -2.11e+15    9.01e+14\n",
      "Detective                 -6.026e+14   7.67e+14     -0.786      0.432   -2.11e+15    9.01e+14\n",
      "Lieutenant                -6.026e+14   7.67e+14     -0.786      0.432   -2.11e+15    9.01e+14\n",
      "Lieutenantenant Detective -6.026e+14   7.67e+14     -0.786      0.432   -2.11e+15    9.01e+14\n",
      "Police Officer            -6.026e+14   7.67e+14     -0.786      0.432   -2.11e+15    9.01e+14\n",
      "Sergeant                  -6.026e+14   7.67e+14     -0.786      0.432   -2.11e+15    9.01e+14\n",
      "Sergeant Detective        -6.026e+14   7.67e+14     -0.786      0.432   -2.11e+15    9.01e+14\n",
      "==============================================================================\n",
      "Omnibus:                     1286.827   Durbin-Watson:                   1.431\n",
      "Prob(Omnibus):                  0.000   Jarque-Bera (JB):             3889.379\n",
      "Skew:                           1.681   Prob(JB):                         0.00\n",
      "Kurtosis:                       6.493   Cond. No.                     8.46e+14\n",
      "==============================================================================\n",
      "\n",
      "Notes:\n",
      "[1] Standard Errors assume that the covariance matrix of the errors is correctly specified.\n",
      "[2] The smallest eigenvalue is 7.59e-27. This might indicate that there are\n",
      "strong multicollinearity problems or that the design matrix is singular.\n"
     ]
    }
   ],
   "source": [
    "Xvals_onehot_Rank = pd.get_dummies(df.Rank)\n",
    "\n",
    "X_onehot_Rank = sm.add_constant(Xvals_onehot_Rank)\n",
    "\n",
    "smModel_onehot_Rank = sm.OLS(Yvals, X_onehot_Rank).fit()\n",
    "\n",
    "print_model = smModel_onehot_Rank.summary()\n",
    "print(print_model)"
   ]
  }
 ],
 "metadata": {
  "kernelspec": {
   "display_name": "Python 3",
   "language": "python",
   "name": "python3"
  },
  "language_info": {
   "codemirror_mode": {
    "name": "ipython",
    "version": 3
   },
   "file_extension": ".py",
   "mimetype": "text/x-python",
   "name": "python",
   "nbconvert_exporter": "python",
   "pygments_lexer": "ipython3",
   "version": "3.7.4"
  },
  "metadata": {
   "interpreter": {
    "hash": "7812ea015bdcee6f23a998adcdd2ef97c151c0c241b7b7070987d9313e41299d"
   }
  }
 },
 "nbformat": 4,
 "nbformat_minor": 2
}
