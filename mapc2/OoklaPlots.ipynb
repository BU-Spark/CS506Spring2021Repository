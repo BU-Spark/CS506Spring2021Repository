{
 "cells": [
  {
   "cell_type": "code",
   "execution_count": 1,
   "metadata": {
    "id": "_iCwoGQva1ie"
   },
   "outputs": [
    {
     "name": "stdout",
     "output_type": "stream",
     "text": [
      "Defaulting to user installation because normal site-packages is not writeable\n",
      "Collecting geopandas\n",
      "  Downloading geopandas-0.9.0-py2.py3-none-any.whl (994 kB)\n",
      "\u001b[K     |████████████████████████████████| 994 kB 2.1 MB/s eta 0:00:01\n",
      "\u001b[?25hRequirement already satisfied: pandas>=0.24.0 in /Users/nathanlauer/Library/Python/3.7/lib/python/site-packages (from geopandas) (1.2.3)\n",
      "Collecting fiona>=1.8\n",
      "  Downloading Fiona-1.8.18-cp37-cp37m-macosx_10_9_x86_64.whl (14.8 MB)\n",
      "\u001b[K     |████████████████████████████████| 14.8 MB 2.4 MB/s eta 0:00:01\n",
      "\u001b[?25hCollecting shapely>=1.6\n",
      "  Downloading Shapely-1.7.1-cp37-cp37m-macosx_10_9_x86_64.whl (1.0 MB)\n",
      "\u001b[K     |████████████████████████████████| 1.0 MB 2.5 MB/s eta 0:00:01\n",
      "\u001b[?25hCollecting pyproj>=2.2.0\n",
      "  Downloading pyproj-3.0.1-cp37-cp37m-macosx_10_9_x86_64.whl (7.4 MB)\n",
      "\u001b[K     |████████████████████████████████| 7.4 MB 1.7 MB/s eta 0:00:01\n",
      "\u001b[?25hRequirement already satisfied: six>=1.7 in /Users/nathanlauer/Library/Python/3.7/lib/python/site-packages (from fiona>=1.8->geopandas) (1.15.0)\n",
      "Requirement already satisfied: certifi in /Users/nathanlauer/Library/Python/3.7/lib/python/site-packages (from fiona>=1.8->geopandas) (2020.6.20)\n",
      "Collecting munch\n",
      "  Downloading munch-2.5.0-py2.py3-none-any.whl (10 kB)\n",
      "Collecting click-plugins>=1.0\n",
      "  Downloading click_plugins-1.1.1-py2.py3-none-any.whl (7.5 kB)\n",
      "Requirement already satisfied: click<8,>=4.0 in /Users/nathanlauer/Library/Python/3.7/lib/python/site-packages (from fiona>=1.8->geopandas) (7.1.2)\n",
      "Requirement already satisfied: attrs>=17 in /Users/nathanlauer/Library/Python/3.7/lib/python/site-packages (from fiona>=1.8->geopandas) (20.2.0)\n",
      "Collecting cligj>=0.5\n",
      "  Downloading cligj-0.7.1-py3-none-any.whl (7.1 kB)\n",
      "Requirement already satisfied: numpy>=1.16.5 in /Users/nathanlauer/Library/Python/3.7/lib/python/site-packages (from pandas>=0.24.0->geopandas) (1.19.2)\n",
      "Requirement already satisfied: python-dateutil>=2.7.3 in /Users/nathanlauer/Library/Python/3.7/lib/python/site-packages (from pandas>=0.24.0->geopandas) (2.8.1)\n",
      "Requirement already satisfied: pytz>=2017.3 in /Users/nathanlauer/Library/Python/3.7/lib/python/site-packages (from pandas>=0.24.0->geopandas) (2020.1)\n",
      "Installing collected packages: munch, cligj, click-plugins, shapely, pyproj, fiona, geopandas\n",
      "Successfully installed click-plugins-1.1.1 cligj-0.7.1 fiona-1.8.18 geopandas-0.9.0 munch-2.5.0 pyproj-3.0.1 shapely-1.7.1\n",
      "Defaulting to user installation because normal site-packages is not writeable\n",
      "Collecting geoplot\n",
      "  Downloading geoplot-0.4.1-py3-none-any.whl (28 kB)\n",
      "Collecting mapclassify>=2.1\n",
      "  Downloading mapclassify-2.4.2-py3-none-any.whl (38 kB)\n",
      "Requirement already satisfied: pandas in /Users/nathanlauer/Library/Python/3.7/lib/python/site-packages (from geoplot) (1.2.3)\n",
      "Collecting descartes\n",
      "  Downloading descartes-1.1.0-py3-none-any.whl (5.8 kB)\n",
      "Collecting contextily>=1.0.0\n",
      "  Downloading contextily-1.1.0-py3-none-any.whl (24 kB)\n",
      "Requirement already satisfied: seaborn in /Users/nathanlauer/Library/Python/3.7/lib/python/site-packages (from geoplot) (0.11.1)\n",
      "Requirement already satisfied: geopandas in /Users/nathanlauer/Library/Python/3.7/lib/python/site-packages (from geoplot) (0.9.0)\n",
      "Requirement already satisfied: matplotlib in /Users/nathanlauer/Library/Python/3.7/lib/python/site-packages (from geoplot) (3.3.4)\n",
      "Collecting cartopy\n",
      "  Downloading Cartopy-0.18.0.tar.gz (14.4 MB)\n",
      "\u001b[K     |████████████████████████████████| 14.4 MB 2.2 MB/s eta 0:00:01\n",
      "\u001b[31m    ERROR: Command errored out with exit status 1:\n",
      "     command: /Library/Developer/CommandLineTools/usr/bin/python3 -c 'import sys, setuptools, tokenize; sys.argv[0] = '\"'\"'/private/var/folders/fn/v91kyh7d2cn58sxh1cdbwhrw0000gn/T/pip-install-teegwo_4/cartopy_276eed12a19040e98bc3034e28a64cd8/setup.py'\"'\"'; __file__='\"'\"'/private/var/folders/fn/v91kyh7d2cn58sxh1cdbwhrw0000gn/T/pip-install-teegwo_4/cartopy_276eed12a19040e98bc3034e28a64cd8/setup.py'\"'\"';f=getattr(tokenize, '\"'\"'open'\"'\"', open)(__file__);code=f.read().replace('\"'\"'\\r\\n'\"'\"', '\"'\"'\\n'\"'\"');f.close();exec(compile(code, __file__, '\"'\"'exec'\"'\"'))' egg_info --egg-base /private/var/folders/fn/v91kyh7d2cn58sxh1cdbwhrw0000gn/T/pip-pip-egg-info-4ix_pdq3\n",
      "         cwd: /private/var/folders/fn/v91kyh7d2cn58sxh1cdbwhrw0000gn/T/pip-install-teegwo_4/cartopy_276eed12a19040e98bc3034e28a64cd8/\n",
      "    Complete output (3 lines):\n",
      "    /private/var/folders/fn/v91kyh7d2cn58sxh1cdbwhrw0000gn/T/pip-install-teegwo_4/cartopy_276eed12a19040e98bc3034e28a64cd8/setup.py:107: UserWarning: Unable to determine GEOS version. Ensure you have 3.3.3 or later installed, or installation may fail.\n",
      "      '.'.join(str(v) for v in GEOS_MIN_VERSION), ))\n",
      "    Proj 4.9.0 must be installed.\n",
      "    ----------------------------------------\u001b[0m\n",
      "\u001b[33mWARNING: Discarding https://files.pythonhosted.org/packages/46/c1/04e50c9986842f00f7db0e7a65caa896840050d7328f74e5b7437aa01179/Cartopy-0.18.0.tar.gz#sha256=7ffa317e8f8011e0d965a3ef1179e57a049f77019867ed677d49dcc5c0744434 (from https://pypi.org/simple/cartopy/) (requires-python:>=2.7, !=3.0.*, !=3.1.*, !=3.2.*, !=3.3.*, !=3.4.*). Command errored out with exit status 1: python setup.py egg_info Check the logs for full command output.\u001b[0m\n",
      "\u001b[?25h  Downloading Cartopy-0.17.0.tar.gz (8.9 MB)\n",
      "\u001b[K     |████████████████████████████████| 8.9 MB 2.0 MB/s eta 0:00:01\n",
      "\u001b[?25h  Installing build dependencies ... \u001b[?25lerror\n",
      "\u001b[31m  ERROR: Command errored out with exit status 1:\n",
      "   command: /Library/Developer/CommandLineTools/usr/bin/python3 /Users/nathanlauer/Library/Python/3.7/lib/python/site-packages/pip install --ignore-installed --no-user --prefix /private/var/folders/fn/v91kyh7d2cn58sxh1cdbwhrw0000gn/T/pip-build-env-_ugym9mv/overlay --no-warn-script-location --no-binary :none: --only-binary :none: -i https://pypi.org/simple -- setuptools wheel 'numpy>=1.10' 'Cython>=0.15.1'\n",
      "       cwd: None\n",
      "  Complete output (12 lines):\n",
      "  Collecting setuptools\n",
      "    Downloading setuptools-54.2.0-py3-none-any.whl (785 kB)\n",
      "  Collecting wheel\n",
      "    Using cached wheel-0.36.2-py2.py3-none-any.whl (35 kB)\n",
      "  Collecting numpy>=1.10\n",
      "    Downloading numpy-1.20.2-cp37-cp37m-macosx_10_9_x86_64.whl (16.0 MB)\n",
      "  Collecting Cython>=0.15.1\n",
      "    Downloading Cython-0.29.22-cp37-cp37m-macosx_10_9_x86_64.whl (1.9 MB)\n",
      "  Installing collected packages: wheel, setuptools, numpy, Cython\n",
      "  ERROR: Could not install packages due to an OSError: [Errno 13] Permission denied: '/Library/Python/3.7'\n",
      "  Consider using the `--user` option or check the permissions.\n",
      "  \n",
      "  ----------------------------------------\u001b[0m\n",
      "\u001b[33mWARNING: Discarding https://files.pythonhosted.org/packages/e5/92/fe8838fa8158931906dfc4f16c5c1436b3dd2daf83592645b179581403ad/Cartopy-0.17.0.tar.gz#sha256=424bd9e9ddef6e48cbdee694ce589ec431be8591f15b6cb93cb2b333a29b2c61 (from https://pypi.org/simple/cartopy/). Command errored out with exit status 1: /Library/Developer/CommandLineTools/usr/bin/python3 /Users/nathanlauer/Library/Python/3.7/lib/python/site-packages/pip install --ignore-installed --no-user --prefix /private/var/folders/fn/v91kyh7d2cn58sxh1cdbwhrw0000gn/T/pip-build-env-_ugym9mv/overlay --no-warn-script-location --no-binary :none: --only-binary :none: -i https://pypi.org/simple -- setuptools wheel 'numpy>=1.10' 'Cython>=0.15.1' Check the logs for full command output.\u001b[0m\n",
      "\u001b[?25h  Downloading Cartopy-0.16.0.tar.gz (8.8 MB)\n",
      "\u001b[K     |████████████████████████████████| 8.8 MB 2.4 MB/s eta 0:00:01\n",
      "\u001b[31m    ERROR: Command errored out with exit status 1:\n",
      "     command: /Library/Developer/CommandLineTools/usr/bin/python3 -c 'import sys, setuptools, tokenize; sys.argv[0] = '\"'\"'/private/var/folders/fn/v91kyh7d2cn58sxh1cdbwhrw0000gn/T/pip-install-teegwo_4/cartopy_a6bd0e8308d54a53aed86e8da1962a19/setup.py'\"'\"'; __file__='\"'\"'/private/var/folders/fn/v91kyh7d2cn58sxh1cdbwhrw0000gn/T/pip-install-teegwo_4/cartopy_a6bd0e8308d54a53aed86e8da1962a19/setup.py'\"'\"';f=getattr(tokenize, '\"'\"'open'\"'\"', open)(__file__);code=f.read().replace('\"'\"'\\r\\n'\"'\"', '\"'\"'\\n'\"'\"');f.close();exec(compile(code, __file__, '\"'\"'exec'\"'\"'))' egg_info --egg-base /private/var/folders/fn/v91kyh7d2cn58sxh1cdbwhrw0000gn/T/pip-pip-egg-info-y40acyt9\n",
      "         cwd: /private/var/folders/fn/v91kyh7d2cn58sxh1cdbwhrw0000gn/T/pip-install-teegwo_4/cartopy_a6bd0e8308d54a53aed86e8da1962a19/\n",
      "    Complete output (12 lines):\n",
      "    Traceback (most recent call last):\n",
      "      File \"/private/var/folders/fn/v91kyh7d2cn58sxh1cdbwhrw0000gn/T/pip-install-teegwo_4/cartopy_a6bd0e8308d54a53aed86e8da1962a19/setup.py\", line 47, in <module>\n",
      "        from Cython.Distutils import build_ext\n",
      "    ModuleNotFoundError: No module named 'Cython'\n",
      "    \n",
      "    During handling of the above exception, another exception occurred:\n",
      "    \n",
      "    Traceback (most recent call last):\n",
      "      File \"<string>\", line 1, in <module>\n",
      "      File \"/private/var/folders/fn/v91kyh7d2cn58sxh1cdbwhrw0000gn/T/pip-install-teegwo_4/cartopy_a6bd0e8308d54a53aed86e8da1962a19/setup.py\", line 49, in <module>\n",
      "        raise ImportError('Cython 0.15.1+ is required to install cartopy.')\n",
      "    ImportError: Cython 0.15.1+ is required to install cartopy.\n",
      "    ----------------------------------------\u001b[0m\n",
      "\u001b[33mWARNING: Discarding https://files.pythonhosted.org/packages/f5/7a/4a16db7c81f11b3c5889c5b913d9a5724c704a6947c5a87ec59c4a8985ac/Cartopy-0.16.0.tar.gz#sha256=f23dffa101f43dd91e866a49ebb5f5048be2a24ab8a921a5c07edabde746d9a4 (from https://pypi.org/simple/cartopy/). Command errored out with exit status 1: python setup.py egg_info Check the logs for full command output.\u001b[0m\n"
     ]
    },
    {
     "name": "stdout",
     "output_type": "stream",
     "text": [
      "\u001b[?25h  Downloading Cartopy-0.15.1.tar.gz (8.2 MB)\n",
      "\u001b[K     |████████████████████████████████| 8.2 MB 2.5 MB/s eta 0:00:01\n",
      "\u001b[31m    ERROR: Command errored out with exit status 1:\n",
      "     command: /Library/Developer/CommandLineTools/usr/bin/python3 -c 'import sys, setuptools, tokenize; sys.argv[0] = '\"'\"'/private/var/folders/fn/v91kyh7d2cn58sxh1cdbwhrw0000gn/T/pip-install-teegwo_4/cartopy_dd3026f1ea564c7594b12383a240ca0e/setup.py'\"'\"'; __file__='\"'\"'/private/var/folders/fn/v91kyh7d2cn58sxh1cdbwhrw0000gn/T/pip-install-teegwo_4/cartopy_dd3026f1ea564c7594b12383a240ca0e/setup.py'\"'\"';f=getattr(tokenize, '\"'\"'open'\"'\"', open)(__file__);code=f.read().replace('\"'\"'\\r\\n'\"'\"', '\"'\"'\\n'\"'\"');f.close();exec(compile(code, __file__, '\"'\"'exec'\"'\"'))' egg_info --egg-base /private/var/folders/fn/v91kyh7d2cn58sxh1cdbwhrw0000gn/T/pip-pip-egg-info-5cxiivcl\n",
      "         cwd: /private/var/folders/fn/v91kyh7d2cn58sxh1cdbwhrw0000gn/T/pip-install-teegwo_4/cartopy_dd3026f1ea564c7594b12383a240ca0e/\n",
      "    Complete output (12 lines):\n",
      "    Traceback (most recent call last):\n",
      "      File \"/private/var/folders/fn/v91kyh7d2cn58sxh1cdbwhrw0000gn/T/pip-install-teegwo_4/cartopy_dd3026f1ea564c7594b12383a240ca0e/setup.py\", line 45, in <module>\n",
      "        from Cython.Distutils import build_ext\n",
      "    ModuleNotFoundError: No module named 'Cython'\n",
      "    \n",
      "    During handling of the above exception, another exception occurred:\n",
      "    \n",
      "    Traceback (most recent call last):\n",
      "      File \"<string>\", line 1, in <module>\n",
      "      File \"/private/var/folders/fn/v91kyh7d2cn58sxh1cdbwhrw0000gn/T/pip-install-teegwo_4/cartopy_dd3026f1ea564c7594b12383a240ca0e/setup.py\", line 47, in <module>\n",
      "        raise ImportError('Cython 0.15.1+ is required to install cartopy.')\n",
      "    ImportError: Cython 0.15.1+ is required to install cartopy.\n",
      "    ----------------------------------------\u001b[0m\n",
      "\u001b[33mWARNING: Discarding https://files.pythonhosted.org/packages/ee/6c/992e03af5a93c1b81d644a3fa0b0c43c4f8ccc9bc69837de46490f8dc3da/Cartopy-0.15.1.tar.gz#sha256=bb8a084055c38bc895b2fe094262753813e6fc7221ef2c1fc87ec1ff302f3c09 (from https://pypi.org/simple/cartopy/). Command errored out with exit status 1: python setup.py egg_info Check the logs for full command output.\u001b[0m\n",
      "\u001b[?25h  Downloading Cartopy-0.14.2.tar.gz (8.4 MB)\n",
      "\u001b[K     |███████████████████████████▏    | 7.1 MB 792 kB/s eta 0:00:02^C\n",
      "\u001b[31mERROR: Exception:\n",
      "Traceback (most recent call last):\n",
      "  File \"/Users/nathanlauer/Library/Python/3.7/lib/python/site-packages/pip/_vendor/resolvelib/resolvers.py\", line 171, in _merge_into_criterion\n",
      "    crit = self.state.criteria[name]\n",
      "KeyError: 'cartopy'\n",
      "\n",
      "During handling of the above exception, another exception occurred:\n",
      "\n",
      "Traceback (most recent call last):\n",
      "  File \"/Users/nathanlauer/Library/Python/3.7/lib/python/site-packages/pip/_internal/cli/base_command.py\", line 189, in _main\n",
      "    status = self.run(options, args)\n",
      "  File \"/Users/nathanlauer/Library/Python/3.7/lib/python/site-packages/pip/_internal/cli/req_command.py\", line 178, in wrapper\n",
      "    return func(self, options, args)\n",
      "  File \"/Users/nathanlauer/Library/Python/3.7/lib/python/site-packages/pip/_internal/commands/install.py\", line 317, in run\n",
      "    reqs, check_supported_wheels=not options.target_dir\n",
      "  File \"/Users/nathanlauer/Library/Python/3.7/lib/python/site-packages/pip/_internal/resolution/resolvelib/resolver.py\", line 122, in resolve\n",
      "    requirements, max_rounds=try_to_avoid_resolution_too_deep,\n",
      "  File \"/Users/nathanlauer/Library/Python/3.7/lib/python/site-packages/pip/_vendor/resolvelib/resolvers.py\", line 453, in resolve\n",
      "    state = resolution.resolve(requirements, max_rounds=max_rounds)\n",
      "  File \"/Users/nathanlauer/Library/Python/3.7/lib/python/site-packages/pip/_vendor/resolvelib/resolvers.py\", line 347, in resolve\n",
      "    failure_causes = self._attempt_to_pin_criterion(name, criterion)\n",
      "  File \"/Users/nathanlauer/Library/Python/3.7/lib/python/site-packages/pip/_vendor/resolvelib/resolvers.py\", line 207, in _attempt_to_pin_criterion\n",
      "    criteria = self._get_criteria_to_update(candidate)\n",
      "  File \"/Users/nathanlauer/Library/Python/3.7/lib/python/site-packages/pip/_vendor/resolvelib/resolvers.py\", line 199, in _get_criteria_to_update\n",
      "    name, crit = self._merge_into_criterion(r, parent=candidate)\n",
      "  File \"/Users/nathanlauer/Library/Python/3.7/lib/python/site-packages/pip/_vendor/resolvelib/resolvers.py\", line 173, in _merge_into_criterion\n",
      "    crit = Criterion.from_requirement(self._p, requirement, parent)\n",
      "  File \"/Users/nathanlauer/Library/Python/3.7/lib/python/site-packages/pip/_vendor/resolvelib/resolvers.py\", line 82, in from_requirement\n",
      "    if not cands:\n",
      "  File \"/Users/nathanlauer/Library/Python/3.7/lib/python/site-packages/pip/_vendor/resolvelib/structs.py\", line 124, in __bool__\n",
      "    return bool(self._sequence)\n",
      "  File \"/Users/nathanlauer/Library/Python/3.7/lib/python/site-packages/pip/_internal/resolution/resolvelib/found_candidates.py\", line 143, in __bool__\n",
      "    return any(self)\n",
      "  File \"/Users/nathanlauer/Library/Python/3.7/lib/python/site-packages/pip/_internal/resolution/resolvelib/found_candidates.py\", line 38, in _iter_built\n",
      "    candidate = func()\n",
      "  File \"/Users/nathanlauer/Library/Python/3.7/lib/python/site-packages/pip/_internal/resolution/resolvelib/factory.py\", line 169, in _make_candidate_from_link\n",
      "    name=name, version=version,\n",
      "  File \"/Users/nathanlauer/Library/Python/3.7/lib/python/site-packages/pip/_internal/resolution/resolvelib/candidates.py\", line 306, in __init__\n",
      "    version=version,\n",
      "  File \"/Users/nathanlauer/Library/Python/3.7/lib/python/site-packages/pip/_internal/resolution/resolvelib/candidates.py\", line 144, in __init__\n",
      "    self.dist = self._prepare()\n",
      "  File \"/Users/nathanlauer/Library/Python/3.7/lib/python/site-packages/pip/_internal/resolution/resolvelib/candidates.py\", line 226, in _prepare\n",
      "    dist = self._prepare_distribution()\n",
      "  File \"/Users/nathanlauer/Library/Python/3.7/lib/python/site-packages/pip/_internal/resolution/resolvelib/candidates.py\", line 312, in _prepare_distribution\n",
      "    self._ireq, parallel_builds=True,\n",
      "  File \"/Users/nathanlauer/Library/Python/3.7/lib/python/site-packages/pip/_internal/operations/prepare.py\", line 457, in prepare_linked_requirement\n",
      "    return self._prepare_linked_requirement(req, parallel_builds)\n",
      "  File \"/Users/nathanlauer/Library/Python/3.7/lib/python/site-packages/pip/_internal/operations/prepare.py\", line 482, in _prepare_linked_requirement\n",
      "    self.download_dir, hashes,\n",
      "  File \"/Users/nathanlauer/Library/Python/3.7/lib/python/site-packages/pip/_internal/operations/prepare.py\", line 234, in unpack_url\n",
      "    hashes=hashes,\n",
      "  File \"/Users/nathanlauer/Library/Python/3.7/lib/python/site-packages/pip/_internal/operations/prepare.py\", line 108, in get_http_url\n",
      "    from_path, content_type = download(link, temp_dir.path)\n",
      "  File \"/Users/nathanlauer/Library/Python/3.7/lib/python/site-packages/pip/_internal/network/download.py\", line 163, in __call__\n",
      "    for chunk in chunks:\n",
      "  File \"/Users/nathanlauer/Library/Python/3.7/lib/python/site-packages/pip/_internal/cli/progress_bars.py\", line 163, in iter\n",
      "    self.next(len(x))  # noqa: B305\n",
      "  File \"/Users/nathanlauer/Library/Python/3.7/lib/python/site-packages/pip/_vendor/progress/__init__.py\", line 120, in next\n",
      "    self.update()\n",
      "  File \"/Users/nathanlauer/Library/Python/3.7/lib/python/site-packages/pip/_vendor/progress/bar.py\", line 83, in update\n",
      "    self.writeln(line)\n",
      "  File \"/Users/nathanlauer/Library/Python/3.7/lib/python/site-packages/pip/_vendor/progress/__init__.py\", line 103, in writeln\n",
      "    self.file.flush()\n",
      "  File \"/Users/nathanlauer/Library/Python/3.7/lib/python/site-packages/pip/_internal/cli/progress_bars.py\", line 109, in handle_sigint\n",
      "    self.finish()\n",
      "  File \"/Users/nathanlauer/Library/Python/3.7/lib/python/site-packages/pip/_internal/cli/progress_bars.py\", line 99, in finish\n",
      "    super().finish()  # type: ignore\n",
      "  File \"/Users/nathanlauer/Library/Python/3.7/lib/python/site-packages/pip/_vendor/progress/__init__.py\", line 107, in finish\n",
      "    print(file=self.file)\n",
      "RuntimeError: reentrant call inside <_io.BufferedWriter name='<stdout>'>\u001b[0m\n",
      " |███████████████████████████▋    | 7.2 MB 792 kB/s eta 0:00:02"
     ]
    }
   ],
   "source": [
    "!pip install geopandas\n",
    "!pip install geoplot"
   ]
  },
  {
   "cell_type": "code",
   "execution_count": 2,
   "metadata": {
    "executionInfo": {
     "elapsed": 1375,
     "status": "ok",
     "timestamp": 1617331127497,
     "user": {
      "displayName": "MA PC",
      "photoUrl": "",
      "userId": "18346659756104216191"
     },
     "user_tz": 240
    },
    "id": "residential-patient"
   },
   "outputs": [
    {
     "ename": "ModuleNotFoundError",
     "evalue": "No module named 'geopandas'",
     "output_type": "error",
     "traceback": [
      "\u001b[0;31m---------------------------------------------------------------------------\u001b[0m",
      "\u001b[0;31mModuleNotFoundError\u001b[0m                       Traceback (most recent call last)",
      "\u001b[0;32m<ipython-input-2-e3222c1b20c5>\u001b[0m in \u001b[0;36m<module>\u001b[0;34m\u001b[0m\n\u001b[0;32m----> 1\u001b[0;31m \u001b[0;32mimport\u001b[0m \u001b[0mgeopandas\u001b[0m \u001b[0;32mas\u001b[0m \u001b[0mgp\u001b[0m\u001b[0;34m\u001b[0m\u001b[0;34m\u001b[0m\u001b[0m\n\u001b[0m\u001b[1;32m      2\u001b[0m \u001b[0;32mimport\u001b[0m \u001b[0mmatplotlib\u001b[0m\u001b[0;34m.\u001b[0m\u001b[0mpyplot\u001b[0m \u001b[0;32mas\u001b[0m \u001b[0mplt\u001b[0m\u001b[0;34m\u001b[0m\u001b[0;34m\u001b[0m\u001b[0m\n\u001b[1;32m      3\u001b[0m \u001b[0;32mimport\u001b[0m \u001b[0mpandas\u001b[0m \u001b[0;32mas\u001b[0m \u001b[0mpd\u001b[0m\u001b[0;34m\u001b[0m\u001b[0;34m\u001b[0m\u001b[0m\n\u001b[1;32m      4\u001b[0m \u001b[0;32mimport\u001b[0m \u001b[0mnumpy\u001b[0m \u001b[0;32mas\u001b[0m \u001b[0mnp\u001b[0m\u001b[0;34m\u001b[0m\u001b[0;34m\u001b[0m\u001b[0m\n\u001b[1;32m      5\u001b[0m \u001b[0;32mimport\u001b[0m \u001b[0mdescartes\u001b[0m\u001b[0;34m\u001b[0m\u001b[0;34m\u001b[0m\u001b[0m\n",
      "\u001b[0;31mModuleNotFoundError\u001b[0m: No module named 'geopandas'"
     ]
    }
   ],
   "source": [
    "import geopandas as gp\n",
    "import matplotlib.pyplot as plt\n",
    "import pandas as pd\n",
    "import numpy as np\n",
    "import descartes\n",
    "import geoplot as gplt\n",
    "import geoplot.crs as gcrs"
   ]
  },
  {
   "cell_type": "code",
   "execution_count": 3,
   "metadata": {
    "colab": {
     "base_uri": "https://localhost:8080/"
    },
    "executionInfo": {
     "elapsed": 287,
     "status": "ok",
     "timestamp": 1617331128137,
     "user": {
      "displayName": "MA PC",
      "photoUrl": "",
      "userId": "18346659756104216191"
     },
     "user_tz": 240
    },
    "id": "unQynubWbY7w",
    "outputId": "de92e3fe-5de4-44ff-f072-0db43af91bfd"
   },
   "outputs": [
    {
     "name": "stdout",
     "output_type": "stream",
     "text": [
      "Drive already mounted at /content/drive; to attempt to forcibly remount, call drive.mount(\"/content/drive\", force_remount=True).\n"
     ]
    }
   ],
   "source": [
    "from google.colab import drive\n",
    "drive.mount('/content/drive')"
   ]
  },
  {
   "cell_type": "code",
   "execution_count": 4,
   "metadata": {
    "executionInfo": {
     "elapsed": 12289,
     "status": "ok",
     "timestamp": 1617331141896,
     "user": {
      "displayName": "MA PC",
      "photoUrl": "",
      "userId": "18346659756104216191"
     },
     "user_tz": 240
    },
    "id": "divine-plasma"
   },
   "outputs": [],
   "source": [
    "# read shape files\n",
    "q1 = gp.read_file('/content/drive/MyDrive/Ookla data by cities/Ookla shape data/2020q1')\n",
    "q2 = gp.read_file('/content/drive/MyDrive/Ookla data by cities/Ookla shape data/2020q2')\n",
    "q3 = gp.read_file('/content/drive/MyDrive/Ookla data by cities/Ookla shape data/2020q3')\n",
    "q4 = gp.read_file('/content/drive/MyDrive/Ookla data by cities/Ookla shape data/2020q4')\n",
    "ma = gp.read_file('/content/drive/MyDrive/Ookla data by cities/export-gisdata.mapc.ma_municipalities').to_crs(epsg=4326)"
   ]
  },
  {
   "cell_type": "code",
   "execution_count": 5,
   "metadata": {
    "executionInfo": {
     "elapsed": 487,
     "status": "ok",
     "timestamp": 1617331142389,
     "user": {
      "displayName": "MA PC",
      "photoUrl": "",
      "userId": "18346659756104216191"
     },
     "user_tz": 240
    },
    "id": "occupied-partnership"
   },
   "outputs": [],
   "source": [
    "data_2020 = pd.concat([q1,q2,q3,q4])"
   ]
  },
  {
   "cell_type": "code",
   "execution_count": null,
   "metadata": {
    "id": "inside-vector",
    "outputId": "1ddfe626-245b-47b0-ff5c-95706644a709"
   },
   "outputs": [
    {
     "data": {
      "text/plain": [
       "<AxesSubplot:>"
      ]
     },
     "execution_count": 6,
     "metadata": {
      "tags": []
     },
     "output_type": "execute_result"
    },
    {
     "data": {
      "image/png": "[encoded data removed]",
      "text/plain": [
       "<Figure size 432x288 with 1 Axes>"
      ]
     },
     "metadata": {
      "needs_background": "light",
      "tags": []
     },
     "output_type": "display_data"
    }
   ],
   "source": [
    "data_2020.plot()"
   ]
  },
  {
   "cell_type": "code",
   "execution_count": 6,
   "metadata": {
    "colab": {
     "base_uri": "https://localhost:8080/"
    },
    "executionInfo": {
     "elapsed": 2117,
     "status": "ok",
     "timestamp": 1617331149968,
     "user": {
      "displayName": "MA PC",
      "photoUrl": "",
      "userId": "18346659756104216191"
     },
     "user_tz": 240
    },
    "id": "extra-voluntary",
    "outputId": "0bd2f2d6-344d-426a-a996-87c23bc55aca"
   },
   "outputs": [
    {
     "name": "stderr",
     "output_type": "stream",
     "text": [
      "/usr/local/lib/python3.7/dist-packages/ipykernel_launcher.py:2: UserWarning: Geometry is in a geographic CRS. Results from 'centroid' are likely incorrect. Use 'GeoSeries.to_crs()' to re-project geometries to a projected CRS before this operation.\n",
      "\n",
      "  \n"
     ]
    }
   ],
   "source": [
    "# use the location of the centroid of each polygon\n",
    "data_2020['geometry'] = data_2020['geometry'].centroid"
   ]
  },
  {
   "cell_type": "code",
   "execution_count": null,
   "metadata": {
    "id": "hourly-recipe"
   },
   "outputs": [],
   "source": [
    "ax = gplt.webmap(data_2020, projection=gcrs.WebMercator())\n",
    "gplt.pointplot(data_2020, ax=ax, hue='avg_d_kbps', legend=True)"
   ]
  },
  {
   "cell_type": "code",
   "execution_count": null,
   "metadata": {
    "id": "competitive-taste"
   },
   "outputs": [],
   "source": [
    "ax = gplt.webmap(data_2020, projection=gcrs.WebMercator())\n",
    "gplt.kdeplot(data_2020[['avg_d_kbps', 'geometry']], n_levels=50, cmap='Reds', thresh=0.05 ,shade=True, ax=ax)"
   ]
  },
  {
   "cell_type": "code",
   "execution_count": null,
   "metadata": {
    "id": "thermal-budapest",
    "outputId": "3c55007c-3889-4c4a-c0ca-8f8b586380ed"
   },
   "outputs": [
    {
     "data": {
      "text/plain": [
       "<AxesSubplot:>"
      ]
     },
     "execution_count": 32,
     "metadata": {
      "tags": []
     },
     "output_type": "execute_result"
    },
    {
     "data": {
      "image/png": "[encoded data removed]",
      "text/plain": [
       "<Figure size 576x432 with 1 Axes>"
      ]
     },
     "metadata": {
      "needs_background": "light",
      "tags": []
     },
     "output_type": "display_data"
    }
   ],
   "source": [
    "gplt.choropleth(q1, hue='avg_d_kbps')"
   ]
  },
  {
   "cell_type": "code",
   "execution_count": null,
   "metadata": {
    "id": "electric-ideal"
   },
   "outputs": [],
   "source": []
  },
  {
   "cell_type": "code",
   "execution_count": null,
   "metadata": {
    "id": "naughty-diabetes"
   },
   "outputs": [],
   "source": []
  },
  {
   "cell_type": "code",
   "execution_count": null,
   "metadata": {
    "id": "encouraging-incident"
   },
   "outputs": [],
   "source": []
  },
  {
   "cell_type": "code",
   "execution_count": null,
   "metadata": {
    "id": "anonymous-approach"
   },
   "outputs": [],
   "source": []
  }
 ],
 "metadata": {
  "colab": {
   "collapsed_sections": [],
   "name": "OoklaPlots.ipynb",
   "provenance": []
  },
  "kernelspec": {
   "display_name": "Python 3",
   "language": "python",
   "name": "python3"
  },
  "language_info": {
   "codemirror_mode": {
    "name": "ipython",
    "version": 3
   },
   "file_extension": ".py",
   "mimetype": "text/x-python",
   "name": "python",
   "nbconvert_exporter": "python",
   "pygments_lexer": "ipython3",
   "version": "3.7.10"
  }
 },
 "nbformat": 4,
 "nbformat_minor": 5
}
