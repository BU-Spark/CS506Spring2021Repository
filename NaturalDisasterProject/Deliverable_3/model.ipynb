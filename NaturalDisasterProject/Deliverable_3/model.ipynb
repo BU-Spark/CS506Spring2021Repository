{
 "metadata": {
  "language_info": {
   "codemirror_mode": {
    "name": "ipython",
    "version": 3
   },
   "file_extension": ".py",
   "mimetype": "text/x-python",
   "name": "python",
   "nbconvert_exporter": "python",
   "pygments_lexer": "ipython3",
   "version": "3.8.8"
  },
  "orig_nbformat": 2,
  "kernelspec": {
   "name": "python3",
   "display_name": "Python 3",
   "language": "python"
  },
  "metadata": {
   "interpreter": {
    "hash": "f34782dca7896296409761b863e490f652f0d0cf99d3e83ed26734792b4da235"
   }
  }
 },
 "nbformat": 4,
 "nbformat_minor": 2,
 "cells": [
  {
   "source": [
    "## Imports"
   ],
   "cell_type": "markdown",
   "metadata": {}
  },
  {
   "cell_type": "code",
   "execution_count": 2,
   "metadata": {},
   "outputs": [],
   "source": [
    "\n",
    "import pandas as pd\n",
    "import numpy as np\n",
    "\n",
    "import matplotlib.pyplot as plt\n",
    "import matplotlib.cm as cm\n",
    "import matplotlib\n",
    "\n",
    "from scipy import stats\n",
    "from sklearn.linear_model import LogisticRegression\n",
    "from sklearn.model_selection import train_test_split"
   ]
  },
  {
   "source": [
    "## Global Values"
   ],
   "cell_type": "markdown",
   "metadata": {}
  },
  {
   "cell_type": "code",
   "execution_count": 3,
   "metadata": {},
   "outputs": [],
   "source": [
    "NUMBER_TORNADOS = 111 #Number of Tornado Events\n",
    "NUMBER_RANDOM = 110 #Number of Random Events\n",
    "NUMBER_DAYS = 14 #Number of days of data per Tornado/Event (Max: 57)\n",
    "FILE_NAME = \"all_weather.csv\" #CSV file that contains the data"
   ]
  },
  {
   "source": [
    "## Loading Data"
   ],
   "cell_type": "markdown",
   "metadata": {}
  },
  {
   "cell_type": "code",
   "execution_count": 4,
   "metadata": {},
   "outputs": [],
   "source": [
    "\n",
    "#Field 0: 'datatime'\n",
    "#Field 1: 'temperature'\n",
    "#Field 2: 'windspeed'\n",
    "#Field 3: 'surface solar radiation' -Alvaro\n",
    "#Field 4: 'relative humidity' -Abdullah\n",
    "#Field 5: 'surface pressure' -Frazier\n",
    "#Field 6: 'total precipitation' -Simon\n",
    "#Field 7: 'city'\n",
    "#Field 8: 'event_id'\n",
    "#Field 9: 'latitude'\n",
    "#Field 10: 'longitude'\n",
    "#Field 11: 'outcome'\n",
    "\n",
    "data = pd.read_csv (FILE_NAME)\n",
    "df = data.drop(columns=['Unnamed: 0'])\n",
    "event_ids = set(df['event_id'].to_numpy())"
   ]
  },
  {
   "cell_type": "code",
   "execution_count": 19,
   "metadata": {},
   "outputs": [
    {
     "output_type": "execute_result",
     "data": {
      "text/plain": [
       "         datetime  temperature  wind_speed  surface_solar_radiation  \\\n",
       "0      2017-04-30        12.18        5.76                      181   \n",
       "1      2017-05-01        11.01        3.41                      191   \n",
       "2      2017-05-02        10.88        3.09                      184   \n",
       "3      2017-05-03         9.70        5.75                      189   \n",
       "4      2017-05-04        10.98        5.86                      248   \n",
       "...           ...          ...         ...                      ...   \n",
       "12592  2020-07-04        26.76        3.30                      331   \n",
       "12593  2020-07-05        24.55        1.61                      233   \n",
       "12594  2020-07-06        24.38        1.65                      287   \n",
       "12595  2020-07-07        25.59        3.91                      267   \n",
       "12596  2020-07-08        31.23        1.21                      290   \n",
       "\n",
       "       relative_humidity  surface_pressure  total_precipitation        city  \\\n",
       "0                   0.60           98916.0                 0.03  Birmingham   \n",
       "1                   0.79           99275.0                 0.21  Birmingham   \n",
       "2                   0.76          100772.0                 0.03  Birmingham   \n",
       "3                   0.72          101186.0                 0.00  Birmingham   \n",
       "4                   0.66          101182.0                 0.00  Birmingham   \n",
       "...                  ...               ...                  ...         ...   \n",
       "12592               0.61           97023.0                 0.00         NaN   \n",
       "12593               0.69           97004.0                 0.11         NaN   \n",
       "12594               0.68           96966.0                 0.01         NaN   \n",
       "12595               0.68           96431.0                 0.50         NaN   \n",
       "12596               0.56           96143.0                 0.01         NaN   \n",
       "\n",
       "       event_id  latitude  longitude  outcome  \n",
       "0             0       NaN        NaN      0.0  \n",
       "1             0       NaN        NaN      0.0  \n",
       "2             0       NaN        NaN      0.0  \n",
       "3             0       NaN        NaN      0.0  \n",
       "4             0       NaN        NaN      0.0  \n",
       "...         ...       ...        ...      ...  \n",
       "12592    898307     46.11      -95.9      1.0  \n",
       "12593    898307     46.11      -95.9      1.0  \n",
       "12594    898307     46.11      -95.9      1.0  \n",
       "12595    898307     46.11      -95.9      1.0  \n",
       "12596    898307     46.11      -95.9      1.0  \n",
       "\n",
       "[12597 rows x 12 columns]"
      ],
      "text/html": "<div>\n<style scoped>\n    .dataframe tbody tr th:only-of-type {\n        vertical-align: middle;\n    }\n\n    .dataframe tbody tr th {\n        vertical-align: top;\n    }\n\n    .dataframe thead th {\n        text-align: right;\n    }\n</style>\n<table border=\"1\" class=\"dataframe\">\n  <thead>\n    <tr style=\"text-align: right;\">\n      <th></th>\n      <th>datetime</th>\n      <th>temperature</th>\n      <th>wind_speed</th>\n      <th>surface_solar_radiation</th>\n      <th>relative_humidity</th>\n      <th>surface_pressure</th>\n      <th>total_precipitation</th>\n      <th>city</th>\n      <th>event_id</th>\n      <th>latitude</th>\n      <th>longitude</th>\n      <th>outcome</th>\n    </tr>\n  </thead>\n  <tbody>\n    <tr>\n      <th>0</th>\n      <td>2017-04-30</td>\n      <td>12.18</td>\n      <td>5.76</td>\n      <td>181</td>\n      <td>0.60</td>\n      <td>98916.0</td>\n      <td>0.03</td>\n      <td>Birmingham</td>\n      <td>0</td>\n      <td>NaN</td>\n      <td>NaN</td>\n      <td>0.0</td>\n    </tr>\n    <tr>\n      <th>1</th>\n      <td>2017-05-01</td>\n      <td>11.01</td>\n      <td>3.41</td>\n      <td>191</td>\n      <td>0.79</td>\n      <td>99275.0</td>\n      <td>0.21</td>\n      <td>Birmingham</td>\n      <td>0</td>\n      <td>NaN</td>\n      <td>NaN</td>\n      <td>0.0</td>\n    </tr>\n    <tr>\n      <th>2</th>\n      <td>2017-05-02</td>\n      <td>10.88</td>\n      <td>3.09</td>\n      <td>184</td>\n      <td>0.76</td>\n      <td>100772.0</td>\n      <td>0.03</td>\n      <td>Birmingham</td>\n      <td>0</td>\n      <td>NaN</td>\n      <td>NaN</td>\n      <td>0.0</td>\n    </tr>\n    <tr>\n      <th>3</th>\n      <td>2017-05-03</td>\n      <td>9.70</td>\n      <td>5.75</td>\n      <td>189</td>\n      <td>0.72</td>\n      <td>101186.0</td>\n      <td>0.00</td>\n      <td>Birmingham</td>\n      <td>0</td>\n      <td>NaN</td>\n      <td>NaN</td>\n      <td>0.0</td>\n    </tr>\n    <tr>\n      <th>4</th>\n      <td>2017-05-04</td>\n      <td>10.98</td>\n      <td>5.86</td>\n      <td>248</td>\n      <td>0.66</td>\n      <td>101182.0</td>\n      <td>0.00</td>\n      <td>Birmingham</td>\n      <td>0</td>\n      <td>NaN</td>\n      <td>NaN</td>\n      <td>0.0</td>\n    </tr>\n    <tr>\n      <th>...</th>\n      <td>...</td>\n      <td>...</td>\n      <td>...</td>\n      <td>...</td>\n      <td>...</td>\n      <td>...</td>\n      <td>...</td>\n      <td>...</td>\n      <td>...</td>\n      <td>...</td>\n      <td>...</td>\n      <td>...</td>\n    </tr>\n    <tr>\n      <th>12592</th>\n      <td>2020-07-04</td>\n      <td>26.76</td>\n      <td>3.30</td>\n      <td>331</td>\n      <td>0.61</td>\n      <td>97023.0</td>\n      <td>0.00</td>\n      <td>NaN</td>\n      <td>898307</td>\n      <td>46.11</td>\n      <td>-95.9</td>\n      <td>1.0</td>\n    </tr>\n    <tr>\n      <th>12593</th>\n      <td>2020-07-05</td>\n      <td>24.55</td>\n      <td>1.61</td>\n      <td>233</td>\n      <td>0.69</td>\n      <td>97004.0</td>\n      <td>0.11</td>\n      <td>NaN</td>\n      <td>898307</td>\n      <td>46.11</td>\n      <td>-95.9</td>\n      <td>1.0</td>\n    </tr>\n    <tr>\n      <th>12594</th>\n      <td>2020-07-06</td>\n      <td>24.38</td>\n      <td>1.65</td>\n      <td>287</td>\n      <td>0.68</td>\n      <td>96966.0</td>\n      <td>0.01</td>\n      <td>NaN</td>\n      <td>898307</td>\n      <td>46.11</td>\n      <td>-95.9</td>\n      <td>1.0</td>\n    </tr>\n    <tr>\n      <th>12595</th>\n      <td>2020-07-07</td>\n      <td>25.59</td>\n      <td>3.91</td>\n      <td>267</td>\n      <td>0.68</td>\n      <td>96431.0</td>\n      <td>0.50</td>\n      <td>NaN</td>\n      <td>898307</td>\n      <td>46.11</td>\n      <td>-95.9</td>\n      <td>1.0</td>\n    </tr>\n    <tr>\n      <th>12596</th>\n      <td>2020-07-08</td>\n      <td>31.23</td>\n      <td>1.21</td>\n      <td>290</td>\n      <td>0.56</td>\n      <td>96143.0</td>\n      <td>0.01</td>\n      <td>NaN</td>\n      <td>898307</td>\n      <td>46.11</td>\n      <td>-95.9</td>\n      <td>1.0</td>\n    </tr>\n  </tbody>\n</table>\n<p>12597 rows × 12 columns</p>\n</div>"
     },
     "metadata": {},
     "execution_count": 19
    }
   ],
   "source": [
    "df"
   ]
  },
  {
   "cell_type": "code",
   "execution_count": null,
   "metadata": {},
   "outputs": [],
   "source": [
    "# Determine slope of each weather attribute over time for each Tornado/Event\n",
    "temp_change = []\n",
    "wind_change = []\n",
    "rain_change = []\n",
    "radiation_change = []\n",
    "pressure_change = []\n",
    "humidity_change = []\n",
    "x = list(range(NUMBER_DAYS))\n",
    "\n",
    "for i in event_ids:\n",
    "    event = df.loc[df['event_id'] == i]\n",
    "    if (i == 0 ):\n",
    "        print(event)"
   ]
  },
  {
   "source": [
    "## Create Timeserie Fetaures"
   ],
   "cell_type": "markdown",
   "metadata": {}
  },
  {
   "cell_type": "code",
   "execution_count": 5,
   "metadata": {},
   "outputs": [],
   "source": [
    "# Determine slope of each weather attribute over time for each Tornado/Event\n",
    "temp_change = []\n",
    "wind_change = []\n",
    "rain_change = []\n",
    "radiation_change = []\n",
    "pressure_change = []\n",
    "humidity_change = []\n",
    "x = list(range(NUMBER_DAYS))\n",
    "\n",
    "for i in event_ids:\n",
    "    event = df.loc[df['event_id'] == i]\n",
    "    temp = event['temperature']\n",
    "    wind = event['wind_speed']\n",
    "    radiation = event['surface_solar_radiation']\n",
    "    humidity = event['relative_humidity']\n",
    "    pressure = event['surface_pressure']\n",
    "    rain = event['total_precipitation']\n",
    "\n",
    "    t_slope, intercept, r_value, p_value, std_err = stats.linregress(x, temp.tail(NUMBER_DAYS))\n",
    "    w_slope, intercept, r_value, p_value, std_err = stats.linregress(x, wind.tail(NUMBER_DAYS))\n",
    "    r_slope, intercept, r_value, p_value, std_err = stats.linregress(x, rain.tail(NUMBER_DAYS))\n",
    "    rd_slope, intercept, r_value, p_value, std_err = stats.linregress(x, radiation.tail(NUMBER_DAYS))\n",
    "    p_slope, intercept, r_value, p_value, std_err = stats.linregress(x, pressure.tail(NUMBER_DAYS))\n",
    "    h_slope, intercept, r_value, p_value, std_err = stats.linregress(x, humidity.tail(NUMBER_DAYS))\n",
    "\n",
    "    temp_change.append(t_slope)\n",
    "    wind_change.append(w_slope)\n",
    "    rain_change.append(r_slope)\n",
    "    radiation_change.append(rd_slope)\n",
    "    pressure_change.append(p_slope)\n",
    "    humidity_change.append(h_slope)\n"
   ]
  },
  {
   "source": [
    "## Dataframe with mean values of each Tornado/Event"
   ],
   "cell_type": "markdown",
   "metadata": {}
  },
  {
   "cell_type": "code",
   "execution_count": 6,
   "metadata": {},
   "outputs": [],
   "source": [
    "averages = df.groupby('event_id').tail(NUMBER_DAYS+7)\n",
    "averages = averages.groupby('event_id').mean()"
   ]
  },
  {
   "source": [
    "## Add Slope Features"
   ],
   "cell_type": "markdown",
   "metadata": {}
  },
  {
   "cell_type": "code",
   "execution_count": 7,
   "metadata": {},
   "outputs": [],
   "source": [
    "averages['t_slope'] = temp_change\n",
    "averages['w_slope'] = wind_change\n",
    "averages['r_slope'] = rain_change\n",
    "averages['rd_slope'] = radiation_change\n",
    "averages['p_slope'] = pressure_change\n",
    "averages['h_slope'] = humidity_change"
   ]
  },
  {
   "source": [
    "## Model Prep"
   ],
   "cell_type": "markdown",
   "metadata": {}
  },
  {
   "cell_type": "code",
   "execution_count": 8,
   "metadata": {},
   "outputs": [],
   "source": [
    "X = averages[['temperature','wind_speed','surface_solar_radiation','relative_humidity', 'total_precipitation', 't_slope', 'w_slope', 'r_slope', 'rd_slope', 'p_slope', 'h_slope']]\n",
    "y = averages['outcome']\n",
    "x_train, x_test, y_train, y_test = train_test_split(X, y, test_size=0.2, random_state=0)"
   ]
  },
  {
   "source": [
    "## Train Model with Logistic Regression"
   ],
   "cell_type": "markdown",
   "metadata": {}
  },
  {
   "cell_type": "code",
   "execution_count": 9,
   "metadata": {},
   "outputs": [
    {
     "output_type": "stream",
     "name": "stdout",
     "text": [
      "Model Accuracy:  0.8888888888888888\n"
     ]
    }
   ],
   "source": [
    "logisticRegr = LogisticRegression(max_iter=10000)\n",
    "logisticRegr.fit(x_train, y_train)\n",
    "predictions = logisticRegr.predict(x_test)\n",
    "score = logisticRegr.score(x_test, y_test)\n",
    "print(\"Model Accuracy: \",score)"
   ]
  },
  {
   "cell_type": "code",
   "execution_count": 10,
   "metadata": {},
   "outputs": [
    {
     "output_type": "stream",
     "name": "stdout",
     "text": [
      "regression coefficients: \n [[ 0.07529001  0.62336569  0.00274314 -0.00452992  2.54417718  1.16982022\n   1.54257202  1.29218123 -0.06951692 -0.00859638  0.13963608]]\n"
     ]
    }
   ],
   "source": [
    "print(\"regression coefficients: \\n\", logisticRegr.coef_)\n"
   ]
  },
  {
   "source": [
    "## Determine Individual Feature Strength"
   ],
   "cell_type": "markdown",
   "metadata": {}
  },
  {
   "cell_type": "code",
   "execution_count": 11,
   "metadata": {},
   "outputs": [
    {
     "output_type": "stream",
     "name": "stdout",
     "text": [
      "[0.71, 0.49, 0.69, 0.62, 0.84, 0.87, 0.78, 0.87, 0.69, 0.82, 0.49]\n"
     ]
    }
   ],
   "source": [
    "# Returns array with model accuracy based on individial feature\n",
    "scores = []\n",
    "for i in range(11):\n",
    "\n",
    "    logisticRegr = LogisticRegression()\n",
    "    logisticRegr.fit(x_train.to_numpy()[:,i].reshape(-1,1), y_train)\n",
    "    score = logisticRegr.score(x_test.to_numpy()[:,i].reshape(-1,1), y_test)\n",
    "    scores.append(round(score,2))\n",
    "print(scores)"
   ]
  },
  {
   "cell_type": "code",
   "execution_count": null,
   "metadata": {},
   "outputs": [],
   "source": []
  }
 ]
}