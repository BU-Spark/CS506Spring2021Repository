{
 "metadata": {
  "language_info": {
   "codemirror_mode": {
    "name": "ipython",
    "version": 3
   },
   "file_extension": ".py",
   "mimetype": "text/x-python",
   "name": "python",
   "nbconvert_exporter": "python",
   "pygments_lexer": "ipython3",
   "version": "3.7.9-final"
  },
  "orig_nbformat": 2,
  "kernelspec": {
   "name": "python379jvsc74a57bd0f34782dca7896296409761b863e490f652f0d0cf99d3e83ed26734792b4da235",
   "display_name": "Python 3.7.9 64-bit ('bu_cs': conda)"
  },
  "metadata": {
   "interpreter": {
    "hash": "f34782dca7896296409761b863e490f652f0d0cf99d3e83ed26734792b4da235"
   }
  }
 },
 "nbformat": 4,
 "nbformat_minor": 2,
 "cells": [
  {
   "source": [
    "## Imports"
   ],
   "cell_type": "markdown",
   "metadata": {}
  },
  {
   "cell_type": "code",
   "execution_count": 7,
   "metadata": {},
   "outputs": [],
   "source": [
    "\n",
    "import pandas as pd\n",
    "import numpy as np\n",
    "\n",
    "import matplotlib.pyplot as plt\n",
    "import matplotlib.cm as cm\n",
    "import matplotlib\n",
    "\n",
    "from scipy import stats\n",
    "from sklearn.linear_model import LogisticRegression\n",
    "from sklearn.naive_bayes import GaussianNB\n",
    "from sklearn.model_selection import train_test_split"
   ]
  },
  {
   "source": [
    "## Global Values"
   ],
   "cell_type": "markdown",
   "metadata": {}
  },
  {
   "cell_type": "code",
   "execution_count": 8,
   "metadata": {},
   "outputs": [],
   "source": [
    "NUMBER_TORNADOS = 111 #Number of Tornado Events\n",
    "NUMBER_RANDOM = 110 #Number of Random Events\n",
    "NUMBER_DAYS = 14 #Number of days of data per Tornado/Event (Max: 57)\n",
    "FILE_NAME = \"/Users/abdullaahrobins/Documents/GitHub/CS506Spring2021Repository/NaturalDisasterProject/Deliverable_3/all_weather.csv\" #CSV file that contains the data"
   ]
  },
  {
   "source": [
    "## Loading Data"
   ],
   "cell_type": "markdown",
   "metadata": {}
  },
  {
   "cell_type": "code",
   "execution_count": 9,
   "metadata": {},
   "outputs": [],
   "source": [
    "\n",
    "#Field 0: 'datatime'\n",
    "#Field 1: 'temperature'\n",
    "#Field 2: 'windspeed'\n",
    "#Field 3: 'surface solar radiation' -Alvaro\n",
    "#Field 4: 'relative humidity' -Abdullah\n",
    "#Field 5: 'surface pressure' -Frazier\n",
    "#Field 6: 'total precipitation' -Simon\n",
    "#Field 7: 'city'\n",
    "#Field 8: 'event_id'\n",
    "#Field 9: 'latitude'\n",
    "#Field 10: 'longitude'\n",
    "#Field 11: 'outcome'\n",
    "\n",
    "data = pd.read_csv (FILE_NAME)\n",
    "df = data.drop(columns=['Unnamed: 0'])\n",
    "event_ids = set(df['event_id'].to_numpy())"
   ]
  },
  {
   "source": [
    "## Create Timeserie Fetaures"
   ],
   "cell_type": "markdown",
   "metadata": {}
  },
  {
   "cell_type": "code",
   "execution_count": 10,
   "metadata": {},
   "outputs": [],
   "source": [
    "# Determine slope of each weather attribute over time for each Tornado/Event\n",
    "temp_change = []\n",
    "wind_change = []\n",
    "rain_change = []\n",
    "radiation_change = []\n",
    "pressure_change = []\n",
    "humidity_change = []\n",
    "x = list(range(NUMBER_DAYS))\n",
    "\n",
    "for i in event_ids:\n",
    "    event = df.loc[df['event_id'] == i]\n",
    "    temp = event['temperature']\n",
    "    wind = event['wind_speed']\n",
    "    radiation = event['surface_solar_radiation']\n",
    "    humidity = event['relative_humidity']\n",
    "    pressure = event['surface_pressure']\n",
    "    rain = event['total_precipitation']\n",
    "\n",
    "    t_slope, intercept, r_value, p_value, std_err = stats.linregress(x, temp.tail(NUMBER_DAYS))\n",
    "    w_slope, intercept, r_value, p_value, std_err = stats.linregress(x, wind.tail(NUMBER_DAYS))\n",
    "    r_slope, intercept, r_value, p_value, std_err = stats.linregress(x, rain.tail(NUMBER_DAYS))\n",
    "    rd_slope, intercept, r_value, p_value, std_err = stats.linregress(x, radiation.tail(NUMBER_DAYS))\n",
    "    p_slope, intercept, r_value, p_value, std_err = stats.linregress(x, pressure.tail(NUMBER_DAYS))\n",
    "    h_slope, intercept, r_value, p_value, std_err = stats.linregress(x, humidity.tail(NUMBER_DAYS))\n",
    "\n",
    "    temp_change.append(t_slope)\n",
    "    wind_change.append(w_slope)\n",
    "    rain_change.append(r_slope)\n",
    "    radiation_change.append(rd_slope)\n",
    "    pressure_change.append(p_slope)\n",
    "    humidity_change.append(h_slope)\n"
   ]
  },
  {
   "source": [
    "## Dataframe with mean values of each Tornado/Event"
   ],
   "cell_type": "markdown",
   "metadata": {}
  },
  {
   "cell_type": "code",
   "execution_count": 11,
   "metadata": {},
   "outputs": [],
   "source": [
    "averages = df.groupby('event_id').tail(NUMBER_DAYS+7)\n",
    "averages = averages.groupby('event_id').mean()"
   ]
  },
  {
   "cell_type": "code",
   "execution_count": 24,
   "metadata": {},
   "outputs": [
    {
     "output_type": "execute_result",
     "data": {
      "text/plain": [
       "          temperature  wind_speed  surface_solar_radiation  relative_humidity  \\\n",
       "event_id                                                                        \n",
       "0           17.162857    4.305238               196.000000           0.741429   \n",
       "1           -1.370476    3.534762               111.952381           0.677143   \n",
       "2           27.081905    3.657619               294.333333           0.599524   \n",
       "3            5.958095    2.959524                70.857143           0.744762   \n",
       "4           10.205714    3.782857               199.809524           0.564286   \n",
       "...               ...         ...                      ...                ...   \n",
       "899721      19.664762    2.309524               217.571429           0.674762   \n",
       "902831      21.298571    2.420000               206.238095           0.664762   \n",
       "902837      21.240952    2.400952               205.333333           0.660476   \n",
       "902843      21.176667    2.375238               204.428571           0.653333   \n",
       "902844      21.128571    2.380000               204.428571           0.643810   \n",
       "\n",
       "          surface_pressure  total_precipitation  latitude  longitude  outcome  \\\n",
       "event_id                                                                        \n",
       "0            100111.523810             0.087619       NaN        NaN      0.0   \n",
       "1             98104.285714             0.052381       NaN        NaN      0.0   \n",
       "2             97206.952381             0.042381       NaN        NaN      0.0   \n",
       "3             99537.619048             0.172857       NaN        NaN      0.0   \n",
       "4             98089.809524             0.319524       NaN        NaN      0.0   \n",
       "...                    ...                  ...       ...        ...      ...   \n",
       "899721       100453.428571             0.260000   31.0750   -89.9209      1.0   \n",
       "902831       100154.190476             0.401429   31.4641   -89.7579      1.0   \n",
       "902837       100155.380952             0.364762   31.5475   -89.6194      1.0   \n",
       "902843       100196.761905             0.299524   31.6661   -89.4004      1.0   \n",
       "902844       100185.904762             0.202857   31.8100   -89.1863      1.0   \n",
       "\n",
       "           t_slope   w_slope   r_slope   rd_slope     p_slope   h_slope  \n",
       "event_id                                                                 \n",
       "0         0.130132  0.057209  0.001319  -5.514286  -52.676923  0.004681  \n",
       "1         1.525736  0.005846  0.022593  -5.868132  -98.468132  0.015231  \n",
       "2         0.356681  0.065714 -0.000505   3.881319    9.841758 -0.015319  \n",
       "3        -0.250615 -0.015099  0.012374  -4.498901   94.314286  0.012154  \n",
       "4         0.293363  0.027143  0.169978  -7.276923 -133.791209  0.023736  \n",
       "...            ...       ...       ...        ...         ...       ...  \n",
       "899721   -0.096154  0.005297  0.021604 -12.679121 -112.210989  0.008549  \n",
       "902831    0.604945  0.158132  0.073780  -3.756044  -41.553846  0.013714  \n",
       "902837    0.484879  0.070835  0.040967  -2.516484  -93.907692  0.013055  \n",
       "902843    0.176879  0.326813  0.354989   2.512088  -54.837363 -0.006440  \n",
       "902844    0.150615  0.336703  0.424484   0.626374  -55.301099 -0.004923  \n",
       "\n",
       "[221 rows x 15 columns]"
      ],
      "text/html": "<div>\n<style scoped>\n    .dataframe tbody tr th:only-of-type {\n        vertical-align: middle;\n    }\n\n    .dataframe tbody tr th {\n        vertical-align: top;\n    }\n\n    .dataframe thead th {\n        text-align: right;\n    }\n</style>\n<table border=\"1\" class=\"dataframe\">\n  <thead>\n    <tr style=\"text-align: right;\">\n      <th></th>\n      <th>temperature</th>\n      <th>wind_speed</th>\n      <th>surface_solar_radiation</th>\n      <th>relative_humidity</th>\n      <th>surface_pressure</th>\n      <th>total_precipitation</th>\n      <th>latitude</th>\n      <th>longitude</th>\n      <th>outcome</th>\n      <th>t_slope</th>\n      <th>w_slope</th>\n      <th>r_slope</th>\n      <th>rd_slope</th>\n      <th>p_slope</th>\n      <th>h_slope</th>\n    </tr>\n    <tr>\n      <th>event_id</th>\n      <th></th>\n      <th></th>\n      <th></th>\n      <th></th>\n      <th></th>\n      <th></th>\n      <th></th>\n      <th></th>\n      <th></th>\n      <th></th>\n      <th></th>\n      <th></th>\n      <th></th>\n      <th></th>\n      <th></th>\n    </tr>\n  </thead>\n  <tbody>\n    <tr>\n      <th>0</th>\n      <td>17.162857</td>\n      <td>4.305238</td>\n      <td>196.000000</td>\n      <td>0.741429</td>\n      <td>100111.523810</td>\n      <td>0.087619</td>\n      <td>NaN</td>\n      <td>NaN</td>\n      <td>0.0</td>\n      <td>0.130132</td>\n      <td>0.057209</td>\n      <td>0.001319</td>\n      <td>-5.514286</td>\n      <td>-52.676923</td>\n      <td>0.004681</td>\n    </tr>\n    <tr>\n      <th>1</th>\n      <td>-1.370476</td>\n      <td>3.534762</td>\n      <td>111.952381</td>\n      <td>0.677143</td>\n      <td>98104.285714</td>\n      <td>0.052381</td>\n      <td>NaN</td>\n      <td>NaN</td>\n      <td>0.0</td>\n      <td>1.525736</td>\n      <td>0.005846</td>\n      <td>0.022593</td>\n      <td>-5.868132</td>\n      <td>-98.468132</td>\n      <td>0.015231</td>\n    </tr>\n    <tr>\n      <th>2</th>\n      <td>27.081905</td>\n      <td>3.657619</td>\n      <td>294.333333</td>\n      <td>0.599524</td>\n      <td>97206.952381</td>\n      <td>0.042381</td>\n      <td>NaN</td>\n      <td>NaN</td>\n      <td>0.0</td>\n      <td>0.356681</td>\n      <td>0.065714</td>\n      <td>-0.000505</td>\n      <td>3.881319</td>\n      <td>9.841758</td>\n      <td>-0.015319</td>\n    </tr>\n    <tr>\n      <th>3</th>\n      <td>5.958095</td>\n      <td>2.959524</td>\n      <td>70.857143</td>\n      <td>0.744762</td>\n      <td>99537.619048</td>\n      <td>0.172857</td>\n      <td>NaN</td>\n      <td>NaN</td>\n      <td>0.0</td>\n      <td>-0.250615</td>\n      <td>-0.015099</td>\n      <td>0.012374</td>\n      <td>-4.498901</td>\n      <td>94.314286</td>\n      <td>0.012154</td>\n    </tr>\n    <tr>\n      <th>4</th>\n      <td>10.205714</td>\n      <td>3.782857</td>\n      <td>199.809524</td>\n      <td>0.564286</td>\n      <td>98089.809524</td>\n      <td>0.319524</td>\n      <td>NaN</td>\n      <td>NaN</td>\n      <td>0.0</td>\n      <td>0.293363</td>\n      <td>0.027143</td>\n      <td>0.169978</td>\n      <td>-7.276923</td>\n      <td>-133.791209</td>\n      <td>0.023736</td>\n    </tr>\n    <tr>\n      <th>...</th>\n      <td>...</td>\n      <td>...</td>\n      <td>...</td>\n      <td>...</td>\n      <td>...</td>\n      <td>...</td>\n      <td>...</td>\n      <td>...</td>\n      <td>...</td>\n      <td>...</td>\n      <td>...</td>\n      <td>...</td>\n      <td>...</td>\n      <td>...</td>\n      <td>...</td>\n    </tr>\n    <tr>\n      <th>899721</th>\n      <td>19.664762</td>\n      <td>2.309524</td>\n      <td>217.571429</td>\n      <td>0.674762</td>\n      <td>100453.428571</td>\n      <td>0.260000</td>\n      <td>31.0750</td>\n      <td>-89.9209</td>\n      <td>1.0</td>\n      <td>-0.096154</td>\n      <td>0.005297</td>\n      <td>0.021604</td>\n      <td>-12.679121</td>\n      <td>-112.210989</td>\n      <td>0.008549</td>\n    </tr>\n    <tr>\n      <th>902831</th>\n      <td>21.298571</td>\n      <td>2.420000</td>\n      <td>206.238095</td>\n      <td>0.664762</td>\n      <td>100154.190476</td>\n      <td>0.401429</td>\n      <td>31.4641</td>\n      <td>-89.7579</td>\n      <td>1.0</td>\n      <td>0.604945</td>\n      <td>0.158132</td>\n      <td>0.073780</td>\n      <td>-3.756044</td>\n      <td>-41.553846</td>\n      <td>0.013714</td>\n    </tr>\n    <tr>\n      <th>902837</th>\n      <td>21.240952</td>\n      <td>2.400952</td>\n      <td>205.333333</td>\n      <td>0.660476</td>\n      <td>100155.380952</td>\n      <td>0.364762</td>\n      <td>31.5475</td>\n      <td>-89.6194</td>\n      <td>1.0</td>\n      <td>0.484879</td>\n      <td>0.070835</td>\n      <td>0.040967</td>\n      <td>-2.516484</td>\n      <td>-93.907692</td>\n      <td>0.013055</td>\n    </tr>\n    <tr>\n      <th>902843</th>\n      <td>21.176667</td>\n      <td>2.375238</td>\n      <td>204.428571</td>\n      <td>0.653333</td>\n      <td>100196.761905</td>\n      <td>0.299524</td>\n      <td>31.6661</td>\n      <td>-89.4004</td>\n      <td>1.0</td>\n      <td>0.176879</td>\n      <td>0.326813</td>\n      <td>0.354989</td>\n      <td>2.512088</td>\n      <td>-54.837363</td>\n      <td>-0.006440</td>\n    </tr>\n    <tr>\n      <th>902844</th>\n      <td>21.128571</td>\n      <td>2.380000</td>\n      <td>204.428571</td>\n      <td>0.643810</td>\n      <td>100185.904762</td>\n      <td>0.202857</td>\n      <td>31.8100</td>\n      <td>-89.1863</td>\n      <td>1.0</td>\n      <td>0.150615</td>\n      <td>0.336703</td>\n      <td>0.424484</td>\n      <td>0.626374</td>\n      <td>-55.301099</td>\n      <td>-0.004923</td>\n    </tr>\n  </tbody>\n</table>\n<p>221 rows × 15 columns</p>\n</div>"
     },
     "metadata": {},
     "execution_count": 24
    }
   ],
   "source": [
    "averages"
   ]
  },
  {
   "source": [
    "## Add Slope Features"
   ],
   "cell_type": "markdown",
   "metadata": {}
  },
  {
   "cell_type": "code",
   "execution_count": 12,
   "metadata": {},
   "outputs": [],
   "source": [
    "averages['t_slope'] = temp_change\n",
    "averages['w_slope'] = wind_change\n",
    "averages['r_slope'] = rain_change\n",
    "averages['rd_slope'] = radiation_change\n",
    "averages['p_slope'] = pressure_change\n",
    "averages['h_slope'] = humidity_change"
   ]
  },
  {
   "source": [
    "## Model Prep"
   ],
   "cell_type": "markdown",
   "metadata": {}
  },
  {
   "cell_type": "code",
   "execution_count": 13,
   "metadata": {},
   "outputs": [],
   "source": [
    "X = averages[['temperature','wind_speed','surface_solar_radiation','relative_humidity', 'total_precipitation', 't_slope', 'w_slope', 'r_slope', 'rd_slope', 'p_slope', 'h_slope']]\n",
    "y = averages['outcome']\n",
    "x_train, x_test, y_train, y_test = train_test_split(X, y, test_size=0.2, random_state=0)"
   ]
  },
  {
   "source": [
    "## Train Model with Logistic Regression"
   ],
   "cell_type": "markdown",
   "metadata": {}
  },
  {
   "cell_type": "code",
   "execution_count": 30,
   "metadata": {},
   "outputs": [
    {
     "output_type": "stream",
     "name": "stdout",
     "text": [
      "Model Accuracy:  0.8888888888888888\n"
     ]
    }
   ],
   "source": [
    "logisticRegr = LogisticRegression(max_iter=10000)\n",
    "logisticRegr.fit(x_train, y_train)\n",
    "predictions = logisticRegr.predict(x_test)\n",
    "score = logisticRegr.score(x_test, y_test)\n",
    "print(\"Model Accuracy: \",score)"
   ]
  },
  {
   "cell_type": "code",
   "execution_count": 15,
   "metadata": {},
   "outputs": [
    {
     "output_type": "stream",
     "name": "stdout",
     "text": [
      "regression coefficients: \n [[ 0.07573569  0.61778142  0.00266155 -0.00757722  2.53907333  1.18770639\n   1.53761794  1.28692345 -0.06994059 -0.0085332   0.1390187 ]]\n"
     ]
    }
   ],
   "source": [
    "print(\"regression coefficients: \\n\", logisticRegr.coef_)\n"
   ]
  },
  {
   "source": [
    "## Determine Individual Feature Strength"
   ],
   "cell_type": "markdown",
   "metadata": {}
  },
  {
   "cell_type": "code",
   "execution_count": 16,
   "metadata": {},
   "outputs": [
    {
     "output_type": "stream",
     "name": "stdout",
     "text": [
      "[0.71, 0.49, 0.69, 0.62, 0.84, 0.87, 0.78, 0.87, 0.69, 0.82, 0.49]\n"
     ]
    }
   ],
   "source": [
    "# Returns array with model accuracy based on individial feature\n",
    "scores = []\n",
    "for i in range(11):\n",
    "\n",
    "    logisticRegr = LogisticRegression()\n",
    "    logisticRegr.fit(x_train.to_numpy()[:,i].reshape(-1,1), y_train)\n",
    "    score = logisticRegr.score(x_test.to_numpy()[:,i].reshape(-1,1), y_test)\n",
    "    scores.append(round(score,2))\n",
    "print(scores)"
   ]
  },
  {
   "source": [
    "## Train Model with Naive Bayes"
   ],
   "cell_type": "markdown",
   "metadata": {}
  },
  {
   "cell_type": "code",
   "execution_count": 17,
   "metadata": {},
   "outputs": [
    {
     "output_type": "stream",
     "name": "stdout",
     "text": [
      "Model Accuracy:  0.9333333333333333\n"
     ]
    }
   ],
   "source": [
    "gnb = GaussianNB()\n",
    "gnb.fit(x_train, y_train)\n",
    "predictions = gnb.predict(x_test)\n",
    "score = gnb.score(x_test, y_test)\n",
    "print(\"Model Accuracy: \",score)"
   ]
  },
  {
   "source": [
    "## Testing"
   ],
   "cell_type": "markdown",
   "metadata": {}
  },
  {
   "cell_type": "code",
   "execution_count": 19,
   "metadata": {},
   "outputs": [],
   "source": [
    "test_data = pd.read_csv ('historical_data_2.csv')\n",
    "test_data.columns = ['datetime', 'temperature', 'wind_speed', 'surface_solar_radiation', 'relative_humidity', 'surface_pressure', 'total_precipitation', 'latitude', 'longitude', 'event_id']\n",
    "event_ids = set(test_data['event_id'].to_numpy())"
   ]
  },
  {
   "cell_type": "code",
   "execution_count": 20,
   "metadata": {},
   "outputs": [],
   "source": [
    "test_averages = test_data.groupby('event_id').tail(NUMBER_DAYS+7)\n",
    "test_averages = test_averages.groupby('event_id').mean()"
   ]
  },
  {
   "cell_type": "code",
   "execution_count": 25,
   "metadata": {},
   "outputs": [],
   "source": [
    "\n",
    "\n",
    "# Determine slope of each weather attribute over time for each Tornado/Event\n",
    "temp_change = []\n",
    "wind_change = []\n",
    "rain_change = []\n",
    "radiation_change = []\n",
    "pressure_change = []\n",
    "humidity_change = []\n",
    "x = list(range(NUMBER_DAYS))\n",
    "\n",
    "for i in event_ids:\n",
    "    event = test_data.loc[test_data['event_id'] == i]\n",
    "    temp = event['temperature']\n",
    "    wind = event['wind_speed']\n",
    "    radiation = event['surface_solar_radiation']\n",
    "    humidity = event['relative_humidity']\n",
    "    pressure = event['surface_pressure']\n",
    "    rain = event['total_precipitation']\n",
    "\n",
    "    t_slope, intercept, r_value, p_value, std_err = stats.linregress(x, temp.tail(NUMBER_DAYS))\n",
    "    w_slope, intercept, r_value, p_value, std_err = stats.linregress(x, wind.tail(NUMBER_DAYS))\n",
    "    r_slope, intercept, r_value, p_value, std_err = stats.linregress(x, rain.tail(NUMBER_DAYS))\n",
    "    rd_slope, intercept, r_value, p_value, std_err = stats.linregress(x, radiation.tail(NUMBER_DAYS))\n",
    "    p_slope, intercept, r_value, p_value, std_err = stats.linregress(x, pressure.tail(NUMBER_DAYS))\n",
    "    h_slope, intercept, r_value, p_value, std_err = stats.linregress(x, humidity.tail(NUMBER_DAYS))\n",
    "\n",
    "    temp_change.append(t_slope)\n",
    "    wind_change.append(w_slope)\n",
    "    rain_change.append(r_slope)\n",
    "    radiation_change.append(rd_slope)\n",
    "    pressure_change.append(p_slope)\n",
    "    humidity_change.append(h_slope)\n"
   ]
  },
  {
   "cell_type": "code",
   "execution_count": 26,
   "metadata": {},
   "outputs": [],
   "source": [
    "test_averages['t_slope'] = temp_change\n",
    "test_averages['w_slope'] = wind_change\n",
    "test_averages['r_slope'] = rain_change\n",
    "test_averages['rd_slope'] = radiation_change\n",
    "test_averages['p_slope'] = pressure_change\n",
    "test_averages['h_slope'] = humidity_change"
   ]
  },
  {
   "cell_type": "code",
   "execution_count": 27,
   "metadata": {},
   "outputs": [
    {
     "output_type": "execute_result",
     "data": {
      "text/plain": [
       "          temperature  wind_speed  surface_solar_radiation  relative_humidity  \\\n",
       "event_id                                                                        \n",
       "203448       5.507143    2.455238               112.952381           0.691905   \n",
       "203449       5.455238    2.483810               112.523810           0.693333   \n",
       "218501      11.898095    2.414286               173.952381           0.649524   \n",
       "219252      17.779048    2.793333               227.666667           0.572381   \n",
       "219961      18.789524    3.106667               232.238095           0.561429   \n",
       "...               ...         ...                      ...                ...   \n",
       "675354      15.397143    2.918571               129.476190           0.681429   \n",
       "676496      14.755714    2.882381               103.428571           0.784762   \n",
       "677489      10.656190    3.286667               136.047619           0.624762   \n",
       "677492      10.712857    3.430476               132.761905           0.619048   \n",
       "678122       7.225714    3.410476               135.047619           0.651905   \n",
       "\n",
       "          surface_pressure  total_precipitation  latitude  longitude  \\\n",
       "event_id                                                               \n",
       "203448       101282.675714             0.300000   32.4869   -94.1689   \n",
       "203449       101349.630000             0.290000   32.5182   -94.0432   \n",
       "218501        98169.105238             0.327143   36.0049   -80.0396   \n",
       "219252        98247.882381             0.128095   35.4603   -92.7155   \n",
       "219961       100469.000476             0.399048   35.4460   -91.2711   \n",
       "...                    ...                  ...       ...        ...   \n",
       "675354       101186.580000             0.172381   30.6210   -90.9030   \n",
       "676496       100997.754286             0.153333   31.2738   -89.3478   \n",
       "677489        99681.615714             0.028095   37.8371   -89.6619   \n",
       "677492        99857.850476             0.033333   37.9392   -89.1503   \n",
       "678122        98798.602381             0.044286   40.9128   -89.3609   \n",
       "\n",
       "           t_slope   w_slope   r_slope  rd_slope     p_slope   h_slope  \n",
       "event_id                                                                \n",
       "203448    0.575297  0.013473  0.013978 -7.630769  -47.839275  0.029956  \n",
       "203449    0.915736  0.198967  0.274088 -8.769231 -137.808549  0.014725  \n",
       "218501    0.935560 -0.361187  0.084484  1.534066  -60.043736 -0.000066  \n",
       "219252    0.958681 -0.339033  0.110791  1.021978  -56.355868 -0.002901  \n",
       "219961    0.999165 -0.330615  0.169802  1.028571  -52.653780 -0.005648  \n",
       "...            ...       ...       ...       ...         ...       ...  \n",
       "675354    0.852088  0.330747 -0.008484 -3.481319 -116.386813  0.024220  \n",
       "676496    0.566879  0.149868  0.162418 -3.347253  -34.329736  0.014615  \n",
       "677489    0.017077 -0.013429 -0.000637 -6.582418   81.201912  0.008396  \n",
       "677492    0.616769 -0.015077  0.260549  1.446154   11.564615  0.003253  \n",
       "678122    0.747209  0.136967  0.033604 -3.228571  -58.760879  0.000989  \n",
       "\n",
       "[296 rows x 14 columns]"
      ],
      "text/html": "<div>\n<style scoped>\n    .dataframe tbody tr th:only-of-type {\n        vertical-align: middle;\n    }\n\n    .dataframe tbody tr th {\n        vertical-align: top;\n    }\n\n    .dataframe thead th {\n        text-align: right;\n    }\n</style>\n<table border=\"1\" class=\"dataframe\">\n  <thead>\n    <tr style=\"text-align: right;\">\n      <th></th>\n      <th>temperature</th>\n      <th>wind_speed</th>\n      <th>surface_solar_radiation</th>\n      <th>relative_humidity</th>\n      <th>surface_pressure</th>\n      <th>total_precipitation</th>\n      <th>latitude</th>\n      <th>longitude</th>\n      <th>t_slope</th>\n      <th>w_slope</th>\n      <th>r_slope</th>\n      <th>rd_slope</th>\n      <th>p_slope</th>\n      <th>h_slope</th>\n    </tr>\n    <tr>\n      <th>event_id</th>\n      <th></th>\n      <th></th>\n      <th></th>\n      <th></th>\n      <th></th>\n      <th></th>\n      <th></th>\n      <th></th>\n      <th></th>\n      <th></th>\n      <th></th>\n      <th></th>\n      <th></th>\n      <th></th>\n    </tr>\n  </thead>\n  <tbody>\n    <tr>\n      <th>203448</th>\n      <td>5.507143</td>\n      <td>2.455238</td>\n      <td>112.952381</td>\n      <td>0.691905</td>\n      <td>101282.675714</td>\n      <td>0.300000</td>\n      <td>32.4869</td>\n      <td>-94.1689</td>\n      <td>0.575297</td>\n      <td>0.013473</td>\n      <td>0.013978</td>\n      <td>-7.630769</td>\n      <td>-47.839275</td>\n      <td>0.029956</td>\n    </tr>\n    <tr>\n      <th>203449</th>\n      <td>5.455238</td>\n      <td>2.483810</td>\n      <td>112.523810</td>\n      <td>0.693333</td>\n      <td>101349.630000</td>\n      <td>0.290000</td>\n      <td>32.5182</td>\n      <td>-94.0432</td>\n      <td>0.915736</td>\n      <td>0.198967</td>\n      <td>0.274088</td>\n      <td>-8.769231</td>\n      <td>-137.808549</td>\n      <td>0.014725</td>\n    </tr>\n    <tr>\n      <th>218501</th>\n      <td>11.898095</td>\n      <td>2.414286</td>\n      <td>173.952381</td>\n      <td>0.649524</td>\n      <td>98169.105238</td>\n      <td>0.327143</td>\n      <td>36.0049</td>\n      <td>-80.0396</td>\n      <td>0.935560</td>\n      <td>-0.361187</td>\n      <td>0.084484</td>\n      <td>1.534066</td>\n      <td>-60.043736</td>\n      <td>-0.000066</td>\n    </tr>\n    <tr>\n      <th>219252</th>\n      <td>17.779048</td>\n      <td>2.793333</td>\n      <td>227.666667</td>\n      <td>0.572381</td>\n      <td>98247.882381</td>\n      <td>0.128095</td>\n      <td>35.4603</td>\n      <td>-92.7155</td>\n      <td>0.958681</td>\n      <td>-0.339033</td>\n      <td>0.110791</td>\n      <td>1.021978</td>\n      <td>-56.355868</td>\n      <td>-0.002901</td>\n    </tr>\n    <tr>\n      <th>219961</th>\n      <td>18.789524</td>\n      <td>3.106667</td>\n      <td>232.238095</td>\n      <td>0.561429</td>\n      <td>100469.000476</td>\n      <td>0.399048</td>\n      <td>35.4460</td>\n      <td>-91.2711</td>\n      <td>0.999165</td>\n      <td>-0.330615</td>\n      <td>0.169802</td>\n      <td>1.028571</td>\n      <td>-52.653780</td>\n      <td>-0.005648</td>\n    </tr>\n    <tr>\n      <th>...</th>\n      <td>...</td>\n      <td>...</td>\n      <td>...</td>\n      <td>...</td>\n      <td>...</td>\n      <td>...</td>\n      <td>...</td>\n      <td>...</td>\n      <td>...</td>\n      <td>...</td>\n      <td>...</td>\n      <td>...</td>\n      <td>...</td>\n      <td>...</td>\n    </tr>\n    <tr>\n      <th>675354</th>\n      <td>15.397143</td>\n      <td>2.918571</td>\n      <td>129.476190</td>\n      <td>0.681429</td>\n      <td>101186.580000</td>\n      <td>0.172381</td>\n      <td>30.6210</td>\n      <td>-90.9030</td>\n      <td>0.852088</td>\n      <td>0.330747</td>\n      <td>-0.008484</td>\n      <td>-3.481319</td>\n      <td>-116.386813</td>\n      <td>0.024220</td>\n    </tr>\n    <tr>\n      <th>676496</th>\n      <td>14.755714</td>\n      <td>2.882381</td>\n      <td>103.428571</td>\n      <td>0.784762</td>\n      <td>100997.754286</td>\n      <td>0.153333</td>\n      <td>31.2738</td>\n      <td>-89.3478</td>\n      <td>0.566879</td>\n      <td>0.149868</td>\n      <td>0.162418</td>\n      <td>-3.347253</td>\n      <td>-34.329736</td>\n      <td>0.014615</td>\n    </tr>\n    <tr>\n      <th>677489</th>\n      <td>10.656190</td>\n      <td>3.286667</td>\n      <td>136.047619</td>\n      <td>0.624762</td>\n      <td>99681.615714</td>\n      <td>0.028095</td>\n      <td>37.8371</td>\n      <td>-89.6619</td>\n      <td>0.017077</td>\n      <td>-0.013429</td>\n      <td>-0.000637</td>\n      <td>-6.582418</td>\n      <td>81.201912</td>\n      <td>0.008396</td>\n    </tr>\n    <tr>\n      <th>677492</th>\n      <td>10.712857</td>\n      <td>3.430476</td>\n      <td>132.761905</td>\n      <td>0.619048</td>\n      <td>99857.850476</td>\n      <td>0.033333</td>\n      <td>37.9392</td>\n      <td>-89.1503</td>\n      <td>0.616769</td>\n      <td>-0.015077</td>\n      <td>0.260549</td>\n      <td>1.446154</td>\n      <td>11.564615</td>\n      <td>0.003253</td>\n    </tr>\n    <tr>\n      <th>678122</th>\n      <td>7.225714</td>\n      <td>3.410476</td>\n      <td>135.047619</td>\n      <td>0.651905</td>\n      <td>98798.602381</td>\n      <td>0.044286</td>\n      <td>40.9128</td>\n      <td>-89.3609</td>\n      <td>0.747209</td>\n      <td>0.136967</td>\n      <td>0.033604</td>\n      <td>-3.228571</td>\n      <td>-58.760879</td>\n      <td>0.000989</td>\n    </tr>\n  </tbody>\n</table>\n<p>296 rows × 14 columns</p>\n</div>"
     },
     "metadata": {},
     "execution_count": 27
    }
   ],
   "source": [
    "test_averages"
   ]
  },
  {
   "cell_type": "code",
   "execution_count": 29,
   "metadata": {},
   "outputs": [],
   "source": [
    "X_test = test_averages[['temperature','wind_speed','surface_solar_radiation','relative_humidity', 'total_precipitation', 't_slope', 'w_slope', 'r_slope', 'rd_slope', 'p_slope', 'h_slope']]\n"
   ]
  },
  {
   "cell_type": "code",
   "execution_count": 31,
   "metadata": {},
   "outputs": [],
   "source": [
    "predictions0 = gnb.predict(X_test)\n",
    "predictions1 = logisticRegr.predict(X_test)\n"
   ]
  },
  {
   "cell_type": "code",
   "execution_count": 35,
   "metadata": {},
   "outputs": [
    {
     "output_type": "execute_result",
     "data": {
      "text/plain": [
       "0.7162162162162162"
      ]
     },
     "metadata": {},
     "execution_count": 35
    }
   ],
   "source": [
    "sum(predictions1)/ len(predictions1)"
   ]
  },
  {
   "cell_type": "code",
   "execution_count": null,
   "metadata": {},
   "outputs": [],
   "source": []
  }
 ]
}