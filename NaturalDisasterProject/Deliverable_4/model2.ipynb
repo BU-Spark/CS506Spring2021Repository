{
 "cells": [
  {
   "cell_type": "markdown",
   "metadata": {},
   "source": [
    "## Imports"
   ]
  },
  {
   "cell_type": "code",
   "execution_count": 202,
   "metadata": {},
   "outputs": [],
   "source": [
    "\n",
    "import pandas as pd\n",
    "import numpy as np\n",
    "\n",
    "import matplotlib.pyplot as plt\n",
    "import matplotlib.cm as cm\n",
    "import matplotlib\n",
    "\n",
    "from scipy import stats\n",
    "from sklearn.linear_model import LogisticRegression\n",
    "from sklearn.naive_bayes import GaussianNB\n",
    "from sklearn.model_selection import train_test_split\n",
    "from sklearn.preprocessing import StandardScaler"
   ]
  },
  {
   "cell_type": "markdown",
   "metadata": {},
   "source": [
    "## Global Values"
   ]
  },
  {
   "cell_type": "code",
   "execution_count": 203,
   "metadata": {},
   "outputs": [],
   "source": [
    "NUMBER_TORNADOS = 111 #Number of Tornado Events\n",
    "NUMBER_RANDOM = 110 #Number of Random Events\n",
    "NUMBER_DAYS = 14 #Number of days of data per Tornado/Event (Max: 57)\n",
    "FILE_NAME = \"all_data.csv\" #CSV file that contains the data"
   ]
  },
  {
   "cell_type": "markdown",
   "metadata": {},
   "source": [
    "## Loading Data"
   ]
  },
  {
   "cell_type": "code",
   "execution_count": 125,
   "metadata": {},
   "outputs": [],
   "source": [
    "\n",
    "#Field 0: 'datatime'\n",
    "#Field 1: 'temperature'\n",
    "#Field 2: 'windspeed'\n",
    "#Field 3: 'surface solar radiation' -Alvaro\n",
    "#Field 4: 'relative humidity' -Abdullah\n",
    "#Field 5: 'surface pressure' -Frazier\n",
    "#Field 6: 'total precipitation' -Simon\n",
    "#Field 7: 'city'\n",
    "#Field 8: 'event_id'\n",
    "#Field 9: 'latitude'\n",
    "#Field 10: 'longitude'\n",
    "#Field 11: 'outcome'\n",
    "\n",
    "data = pd.read_csv (FILE_NAME)\n",
    "df = data.drop(columns=['Unnamed: 0'])\n",
    "event_ids = set(df['event_id'].to_numpy())"
   ]
  },
  {
   "cell_type": "markdown",
   "metadata": {},
   "source": [
    "## Create Timeserie Fetaures"
   ]
  },
  {
   "source": [
    "### Two Week Out Prediction"
   ],
   "cell_type": "markdown",
   "metadata": {}
  },
  {
   "cell_type": "code",
   "execution_count": 332,
   "metadata": {},
   "outputs": [],
   "source": [
    "# Determine slope of each weather attribute over time for each Tornado/Event\n",
    "temp_change = []\n",
    "wind_change = []\n",
    "rain_change = []\n",
    "radiation_change = []\n",
    "pressure_change = []\n",
    "humidity_change = []\n",
    "x = list(range(NUMBER_DAYS))\n",
    "\n",
    "for i in event_ids:\n",
    "    event = df.loc[df['event_id'] == i]\n",
    "    temp = event['temperature']\n",
    "    wind = event['wind_speed']\n",
    "    radiation = event['surface_solar_radiation']\n",
    "    humidity = event['relative_humidity']\n",
    "    pressure = event['surface_pressure']\n",
    "    rain = event['total_precipitation']\n",
    "\n",
    "    t_slope, intercept, r_value, p_value, std_err = stats.linregress(x, temp[-28:-14])\n",
    "    w_slope, intercept, r_value, p_value, std_err = stats.linregress(x, wind[-28:-14])\n",
    "    r_slope, intercept, r_value, p_value, std_err = stats.linregress(x, rain[-28:-14])\n",
    "    rd_slope, intercept, r_value, p_value, std_err = stats.linregress(x, radiation[-28:-14])\n",
    "    p_slope, intercept, r_value, p_value, std_err = stats.linregress(x, pressure[-28:-14])\n",
    "    h_slope, intercept, r_value, p_value, std_err = stats.linregress(x, humidity[-28:-14])\n",
    "\n",
    "    temp_change.append(t_slope)\n",
    "    wind_change.append(w_slope)\n",
    "    rain_change.append(r_slope)\n",
    "    radiation_change.append(rd_slope)\n",
    "    pressure_change.append(p_slope)\n",
    "    humidity_change.append(h_slope)\n"
   ]
  },
  {
   "cell_type": "markdown",
   "metadata": {},
   "source": [
    "## Dataframe with mean values of each Tornado/Event"
   ]
  },
  {
   "cell_type": "code",
   "execution_count": 333,
   "metadata": {},
   "outputs": [],
   "source": [
    "t1 = df.groupby('event_id').tail(28)\n",
    "t2 = t1.groupby('event_id').head(14)\n",
    "# cond = t1.index.isin(t2.index)\n",
    "# t1.drop(t1[cond].index, inplace = True)\n",
    "averages_two = t2.groupby('event_id').mean()\n"
   ]
  },
  {
   "cell_type": "markdown",
   "metadata": {},
   "source": [
    "## Add Slope Features"
   ]
  },
  {
   "cell_type": "code",
   "execution_count": 334,
   "metadata": {},
   "outputs": [],
   "source": [
    "averages_two['t_slope'] = temp_change\n",
    "averages_two['w_slope'] = wind_change\n",
    "averages_two['r_slope'] = rain_change\n",
    "averages_two['rd_slope'] = radiation_change\n",
    "averages_two['p_slope'] = pressure_change\n",
    "averages_two['h_slope'] = humidity_change"
   ]
  },
  {
   "cell_type": "code",
   "execution_count": 207,
   "metadata": {},
   "outputs": [
    {
     "output_type": "execute_result",
     "data": {
      "text/plain": [
       "         temperature  wind_speed  surface_solar_radiation  relative_humidity  \\\n",
       "outcome                                                                        \n",
       "0.0              198         198                      198                198   \n",
       "1.0              407         407                      407                407   \n",
       "\n",
       "         surface_pressure  total_precipitation  latitude  longitude  t_slope  \\\n",
       "outcome                                                                        \n",
       "0.0                   198                  198         0          0      198   \n",
       "1.0                   407                  407       407        407      407   \n",
       "\n",
       "         w_slope  r_slope  rd_slope  p_slope  h_slope  \n",
       "outcome                                                \n",
       "0.0          198      198       198      198      198  \n",
       "1.0          407      407       407      407      407  "
      ],
      "text/html": "<div>\n<style scoped>\n    .dataframe tbody tr th:only-of-type {\n        vertical-align: middle;\n    }\n\n    .dataframe tbody tr th {\n        vertical-align: top;\n    }\n\n    .dataframe thead th {\n        text-align: right;\n    }\n</style>\n<table border=\"1\" class=\"dataframe\">\n  <thead>\n    <tr style=\"text-align: right;\">\n      <th></th>\n      <th>temperature</th>\n      <th>wind_speed</th>\n      <th>surface_solar_radiation</th>\n      <th>relative_humidity</th>\n      <th>surface_pressure</th>\n      <th>total_precipitation</th>\n      <th>latitude</th>\n      <th>longitude</th>\n      <th>t_slope</th>\n      <th>w_slope</th>\n      <th>r_slope</th>\n      <th>rd_slope</th>\n      <th>p_slope</th>\n      <th>h_slope</th>\n    </tr>\n    <tr>\n      <th>outcome</th>\n      <th></th>\n      <th></th>\n      <th></th>\n      <th></th>\n      <th></th>\n      <th></th>\n      <th></th>\n      <th></th>\n      <th></th>\n      <th></th>\n      <th></th>\n      <th></th>\n      <th></th>\n      <th></th>\n    </tr>\n  </thead>\n  <tbody>\n    <tr>\n      <th>0.0</th>\n      <td>198</td>\n      <td>198</td>\n      <td>198</td>\n      <td>198</td>\n      <td>198</td>\n      <td>198</td>\n      <td>0</td>\n      <td>0</td>\n      <td>198</td>\n      <td>198</td>\n      <td>198</td>\n      <td>198</td>\n      <td>198</td>\n      <td>198</td>\n    </tr>\n    <tr>\n      <th>1.0</th>\n      <td>407</td>\n      <td>407</td>\n      <td>407</td>\n      <td>407</td>\n      <td>407</td>\n      <td>407</td>\n      <td>407</td>\n      <td>407</td>\n      <td>407</td>\n      <td>407</td>\n      <td>407</td>\n      <td>407</td>\n      <td>407</td>\n      <td>407</td>\n    </tr>\n  </tbody>\n</table>\n</div>"
     },
     "metadata": {},
     "execution_count": 207
    }
   ],
   "source": [
    "averages_two.groupby(\"outcome\").count()"
   ]
  },
  {
   "cell_type": "markdown",
   "metadata": {},
   "source": [
    "## Model Prep"
   ]
  },
  {
   "cell_type": "code",
   "execution_count": 335,
   "metadata": {},
   "outputs": [],
   "source": [
    "X_two = averages_two[['temperature','wind_speed','surface_solar_radiation', 'total_precipitation', 't_slope', 'w_slope', 'r_slope', 'rd_slope', 'h_slope']]\n",
    "y_two = averages_two['outcome']\n",
    "x_train2, x_test2, y_train2, y_test2 = train_test_split(X_two, y_two, test_size=0.2, random_state=0)"
   ]
  },
  {
   "cell_type": "markdown",
   "metadata": {},
   "source": [
    "## Train Model with Logistic Regression"
   ]
  },
  {
   "cell_type": "code",
   "execution_count": 336,
   "metadata": {},
   "outputs": [
    {
     "output_type": "stream",
     "name": "stdout",
     "text": [
      "Model Accuracy Two Week Prediction:  0.8351648351648352\n"
     ]
    }
   ],
   "source": [
    "# logisticRegr2 = LogisticRegression(max_iter=10000)\n",
    "# logisticRegr2.fit(x_train2, y_train2)\n",
    "# predictions2 = logisticRegr2.predict(x_test2)\n",
    "# score2 = logisticRegr2.score(x_test2, y_test2)\n",
    "# print(\"Model Accuracy Two Week Prediction: \",score2)\n",
    "scaler_two = StandardScaler()\n",
    "\n",
    "normalized_x_train_two = pd.DataFrame(scaler_two.fit_transform(x_train2), columns = x_train2.columns)\n",
    "logisticRegr2 = LogisticRegression(C=0.01, solver='liblinear').fit(normalized_x_train_two, y_train2)\n",
    "\n",
    "normalized_x_test_two = pd.DataFrame(scaler_two.transform(x_test2), columns = x_test2.columns)\n",
    "y_test_pred_two = logisticRegr2.predict(normalized_x_test_two)\n",
    "score2 = logisticRegr2.score(normalized_x_test_two, y_test2)\n",
    "print(\"Model Accuracy Two Week Prediction: \",score2)"
   ]
  },
  {
   "cell_type": "code",
   "execution_count": 337,
   "metadata": {},
   "outputs": [
    {
     "output_type": "stream",
     "name": "stdout",
     "text": [
      "regression coefficients: \n [[-0.00904393 -0.11194944  0.26875211  0.19724227  0.16133168  0.01127687\n  -0.03892095  0.16805473  0.12349351]]\n"
     ]
    }
   ],
   "source": [
    "print(\"regression coefficients: \\n\", logisticRegr2.coef_)\n"
   ]
  },
  {
   "cell_type": "markdown",
   "metadata": {},
   "source": [
    "## Determine Individual Feature Strength"
   ]
  },
  {
   "cell_type": "code",
   "execution_count": 134,
   "metadata": {},
   "outputs": [
    {
     "output_type": "stream",
     "name": "stdout",
     "text": [
      "[0.71, 0.7, 0.8, 0.71, 0.71, 0.7, 0.71, 0.71, 0.69, 0.71, 0.71]\n"
     ]
    }
   ],
   "source": [
    "# Returns array with model accuracy based on individial feature\n",
    "# scores = []\n",
    "# for i in range(11):\n",
    "\n",
    "#     logisticRegr = LogisticRegression()\n",
    "#     logisticRegr.fit(x_train2.to_numpy()[:,i].reshape(-1,1), y_train2)\n",
    "#     score = logisticRegr.score(x_test2.to_numpy()[:,i].reshape(-1,1), y_test2)\n",
    "#     scores.append(round(score,2))\n",
    "# print(scores)"
   ]
  },
  {
   "cell_type": "markdown",
   "metadata": {},
   "source": [
    "## Train Model with Naive Bayes"
   ]
  },
  {
   "cell_type": "code",
   "execution_count": 338,
   "metadata": {},
   "outputs": [
    {
     "output_type": "stream",
     "name": "stdout",
     "text": [
      "Model Accuracy Two Week Prediction:  0.8131868131868132\n"
     ]
    }
   ],
   "source": [
    "gnb = GaussianNB()\n",
    "gnb.fit(normalized_x_train_two, y_train2)\n",
    "predictions = gnb.predict(normalized_x_test_two)\n",
    "score = gnb.score(normalized_x_test_two, y_test2)\n",
    "print(\"Model Accuracy Two Week Prediction: \",score)"
   ]
  },
  {
   "cell_type": "code",
   "execution_count": 339,
   "metadata": {},
   "outputs": [],
   "source": [
    "X_2 = pd.DataFrame(scaler_two.transform(X_two), columns = X_two.columns)\n",
    "two_pred_all = logisticRegr2.predict(X_2)"
   ]
  },
  {
   "cell_type": "markdown",
   "metadata": {},
   "source": [
    "### Model For Prediction One Week Out"
   ]
  },
  {
   "cell_type": "code",
   "execution_count": 340,
   "metadata": {},
   "outputs": [],
   "source": [
    "# Determine slope of each weather attribute over time for each Tornado/Event\n",
    "temp_change = []\n",
    "wind_change = []\n",
    "rain_change = []\n",
    "radiation_change = []\n",
    "pressure_change = []\n",
    "humidity_change = []\n",
    "x = list(range(NUMBER_DAYS+7))\n",
    "\n",
    "for i in event_ids:\n",
    "    event = df.loc[df['event_id'] == i]\n",
    "    temp = event['temperature']\n",
    "    wind = event['wind_speed']\n",
    "    radiation = event['surface_solar_radiation']\n",
    "    humidity = event['relative_humidity']\n",
    "    pressure = event['surface_pressure']\n",
    "    rain = event['total_precipitation']\n",
    "    t_slope, intercept, r_value, p_value, std_err = stats.linregress(x, temp[-28:-7])\n",
    "    w_slope, intercept, r_value, p_value, std_err = stats.linregress(x, wind[-28:-7])\n",
    "    r_slope, intercept, r_value, p_value, std_err = stats.linregress(x, rain[-28:-7])\n",
    "    rd_slope, intercept, r_value, p_value, std_err = stats.linregress(x, radiation[-28:-7])\n",
    "    p_slope, intercept, r_value, p_value, std_err = stats.linregress(x, pressure[-28:-7])\n",
    "    h_slope, intercept, r_value, p_value, std_err = stats.linregress(x, humidity[-28:-7])\n",
    "\n",
    "    temp_change.append(t_slope)\n",
    "    wind_change.append(w_slope)\n",
    "    rain_change.append(r_slope)\n",
    "    radiation_change.append(rd_slope)\n",
    "    pressure_change.append(p_slope)\n",
    "    humidity_change.append(h_slope)"
   ]
  },
  {
   "cell_type": "code",
   "execution_count": 341,
   "metadata": {},
   "outputs": [],
   "source": [
    "t1 = df.groupby('event_id').tail(28)\n",
    "t2 = t1.groupby('event_id').head(21)\n",
    "# cond = t1.index.isin(t2.index)\n",
    "# t1.drop(t1[cond].index, inplace = True)\n",
    "averages_one = t2.groupby('event_id').mean()"
   ]
  },
  {
   "cell_type": "code",
   "execution_count": 342,
   "metadata": {},
   "outputs": [],
   "source": [
    "averages_one['t_slope'] = temp_change\n",
    "averages_one['w_slope'] = wind_change\n",
    "averages_one['r_slope'] = rain_change\n",
    "averages_one['rd_slope'] = radiation_change\n",
    "averages_one['p_slope'] = pressure_change\n",
    "averages_one['h_slope'] = humidity_change\n",
    "averages_one['two_week_pred'] = two_pred_all"
   ]
  },
  {
   "cell_type": "code",
   "execution_count": 343,
   "metadata": {},
   "outputs": [],
   "source": [
    "X_one = averages_one[['temperature','wind_speed','surface_solar_radiation', 'total_precipitation', 't_slope', 'w_slope', 'r_slope', 'rd_slope', 'h_slope', 'two_week_pred']]\n",
    "y_one = averages_one['outcome']\n",
    "x_train1, x_test1, y_train1, y_test1 = train_test_split(X_one, y_one, test_size=0.2, random_state=0)"
   ]
  },
  {
   "cell_type": "code",
   "execution_count": 344,
   "metadata": {},
   "outputs": [
    {
     "output_type": "stream",
     "name": "stdout",
     "text": [
      "Model Accuracy Two Week Prediction:  0.8351648351648352\n"
     ]
    }
   ],
   "source": [
    "# logisticRegr1 = LogisticRegression(max_iter=10000)\n",
    "# logisticRegr1.fit(x_train1, y_train1)\n",
    "# predictions1 = logisticRegr1.predict(x_test1)\n",
    "# score1 = logisticRegr1.score(x_test1, y_test1)\n",
    "# print(\"Model Accuracy Two Week Prediction: \",score1)\n",
    "\n",
    "scaler_one = StandardScaler()\n",
    "\n",
    "normalized_x_train_one = pd.DataFrame(scaler_one.fit_transform(x_train1), columns = x_train1.columns)\n",
    "logisticRegr1 = LogisticRegression(C=0.01, solver='liblinear').fit(normalized_x_train_one, y_train1)\n",
    "\n",
    "normalized_x_test_one = pd.DataFrame(scaler_one.transform(x_test1), columns = x_test1.columns)\n",
    "y_test_pred_one = logisticRegr1.predict(normalized_x_test_one)\n",
    "score1 = logisticRegr1.score(normalized_x_test_one, y_test1)\n",
    "print(\"Model Accuracy One Week Prediction: \",score1)"
   ]
  },
  {
   "cell_type": "code",
   "execution_count": 345,
   "metadata": {},
   "outputs": [
    {
     "output_type": "stream",
     "name": "stdout",
     "text": [
      "Model Accuracy Two Week Prediction:  0.8571428571428571\n"
     ]
    }
   ],
   "source": [
    "gnb = GaussianNB()\n",
    "gnb.fit(normalized_x_train_one, y_train1)\n",
    "predictions = gnb.predict(normalized_x_test_one)\n",
    "score = gnb.score(normalized_x_test_one, y_test1)\n",
    "print(\"Model Accuracy One Week Prediction: \",score)"
   ]
  },
  {
   "cell_type": "code",
   "execution_count": 346,
   "metadata": {},
   "outputs": [],
   "source": [
    "X_1 = pd.DataFrame(scaler_one.transform(X_one), columns = X_one.columns)\n",
    "one_pred_all = logisticRegr1.predict(X_1)\n",
    "one_pred_all2 = gnb.predict(X_1)\n"
   ]
  },
  {
   "source": [
    "### Model For Prediction Three Days Out"
   ],
   "cell_type": "markdown",
   "metadata": {}
  },
  {
   "cell_type": "code",
   "execution_count": 347,
   "metadata": {},
   "outputs": [],
   "source": [
    "# Determine slope of each weather attribute over time for each Tornado/Event\n",
    "temp_change = []\n",
    "wind_change = []\n",
    "rain_change = []\n",
    "radiation_change = []\n",
    "pressure_change = []\n",
    "humidity_change = []\n",
    "x = list(range(11))\n",
    "\n",
    "for i in event_ids:\n",
    "    event = df.loc[df['event_id'] == i]\n",
    "    temp = event['temperature']\n",
    "    wind = event['wind_speed']\n",
    "    radiation = event['surface_solar_radiation']\n",
    "    humidity = event['relative_humidity']\n",
    "    pressure = event['surface_pressure']\n",
    "    rain = event['total_precipitation']\n",
    "    t_slope, intercept, r_value, p_value, std_err = stats.linregress(x, temp[-14:-3])\n",
    "    w_slope, intercept, r_value, p_value, std_err = stats.linregress(x, wind[-14:-3])\n",
    "    r_slope, intercept, r_value, p_value, std_err = stats.linregress(x, rain[-14:-3])\n",
    "    rd_slope, intercept, r_value, p_value, std_err = stats.linregress(x, radiation[-14:-3])\n",
    "    p_slope, intercept, r_value, p_value, std_err = stats.linregress(x, pressure[-14:-3])\n",
    "    h_slope, intercept, r_value, p_value, std_err = stats.linregress(x, humidity[-14:-3])\n",
    "\n",
    "    temp_change.append(t_slope)\n",
    "    wind_change.append(w_slope)\n",
    "    rain_change.append(r_slope)\n",
    "    radiation_change.append(rd_slope)\n",
    "    pressure_change.append(p_slope)\n",
    "    humidity_change.append(h_slope)"
   ]
  },
  {
   "cell_type": "code",
   "execution_count": 250,
   "metadata": {},
   "outputs": [],
   "source": [
    "t1 = df.groupby('event_id').tail(14)\n",
    "t2 = t1.groupby('event_id').head(11)\n",
    "# cond = t1.index.isin(t2.index)\n",
    "# t1.drop(t1[cond].index, inplace = True)\n",
    "averages_3 = t2.groupby('event_id').mean()"
   ]
  },
  {
   "cell_type": "code",
   "execution_count": 348,
   "metadata": {},
   "outputs": [],
   "source": [
    "averages_3['t_slope'] = temp_change\n",
    "averages_3['w_slope'] = wind_change\n",
    "averages_3['r_slope'] = rain_change\n",
    "averages_3['rd_slope'] = radiation_change\n",
    "averages_3['p_slope'] = pressure_change\n",
    "averages_3['h_slope'] = humidity_change\n",
    "averages_3['two_week_pred'] = two_pred_all\n",
    "averages_3['one_week_pred'] = one_pred_all2\n"
   ]
  },
  {
   "cell_type": "code",
   "execution_count": 349,
   "metadata": {},
   "outputs": [],
   "source": [
    "X_3 = averages_3[['temperature','wind_speed','surface_solar_radiation', 'total_precipitation', 't_slope', 'w_slope', 'r_slope', 'rd_slope', 'h_slope', 'two_week_pred', 'one_week_pred']]\n",
    "y_3 = averages_3['outcome']\n",
    "x_train3, x_test3, y_train3, y_test3 = train_test_split(X_3, y_3, test_size=0.2, random_state=0)"
   ]
  },
  {
   "cell_type": "code",
   "execution_count": 350,
   "metadata": {},
   "outputs": [
    {
     "output_type": "stream",
     "name": "stdout",
     "text": [
      "Model Accuracy Two Week Prediction:  0.8461538461538461\n"
     ]
    }
   ],
   "source": [
    "# logisticRegr3 = LogisticRegression(max_iter=10000)\n",
    "# logisticRegr3.fit(x_train3, y_train3)\n",
    "# predictions3 = logisticRegr3.predict(x_test3)\n",
    "# score3 = logisticRegr3.score(x_test3, y_test3)\n",
    "# print(\"Model Accuracy Three Days Prediction: \",score3)\n",
    "\n",
    "scaler_3 = StandardScaler()\n",
    "\n",
    "normalized_x_train_3 = pd.DataFrame(scaler_3.fit_transform(x_train3), columns = x_train3.columns)\n",
    "logisticRegr3 = LogisticRegression(C=0.01, solver='liblinear').fit(normalized_x_train_3, y_train3)\n",
    "\n",
    "normalized_x_test_3 = pd.DataFrame(scaler_3.transform(x_test3), columns = x_test3.columns)\n",
    "y_test_pred_3 = logisticRegr3.predict(normalized_x_test_3)\n",
    "score3 = logisticRegr3.score(normalized_x_test_3, y_test3)\n",
    "print(\"Model Accuracy 3 days out Prediction: \",score3)"
   ]
  },
  {
   "cell_type": "code",
   "execution_count": 351,
   "metadata": {},
   "outputs": [
    {
     "output_type": "stream",
     "name": "stdout",
     "text": [
      "Model Accuracy Two Week Prediction:  0.8571428571428571\n"
     ]
    }
   ],
   "source": [
    "gnb = GaussianNB()\n",
    "gnb.fit(normalized_x_train_3, y_train3)\n",
    "predictions = gnb.predict(normalized_x_test_3)\n",
    "score = gnb.score(normalized_x_test_3, y_test3)\n",
    "print(\"Model Accuracy 3 days out Prediction: \",score)"
   ]
  },
  {
   "cell_type": "code",
   "execution_count": 352,
   "metadata": {},
   "outputs": [],
   "source": [
    "X_3 = pd.DataFrame(scaler_3.transform(X_3), columns = X_3.columns)\n",
    "day3_pred_all = logisticRegr3.predict(X_3)\n",
    "day3_pred_all2 = gnb.predict(X_3)"
   ]
  },
  {
   "source": [
    "### Model For Prediction One Day Out\n"
   ],
   "cell_type": "markdown",
   "metadata": {}
  },
  {
   "cell_type": "code",
   "execution_count": 353,
   "metadata": {},
   "outputs": [],
   "source": [
    "# Determine slope of each weather attribute over time for each Tornado/Event\n",
    "temp_change = []\n",
    "wind_change = []\n",
    "rain_change = []\n",
    "radiation_change = []\n",
    "pressure_change = []\n",
    "humidity_change = []\n",
    "x = list(range(14))\n",
    "\n",
    "for i in event_ids:\n",
    "    event = df.loc[df['event_id'] == i]\n",
    "    temp = event['temperature']\n",
    "    wind = event['wind_speed']\n",
    "    radiation = event['surface_solar_radiation']\n",
    "    humidity = event['relative_humidity']\n",
    "    pressure = event['surface_pressure']\n",
    "    rain = event['total_precipitation']\n",
    "    t_slope, intercept, r_value, p_value, std_err = stats.linregress(x, temp.tail(14))\n",
    "    w_slope, intercept, r_value, p_value, std_err = stats.linregress(x, wind.tail(14))\n",
    "    r_slope, intercept, r_value, p_value, std_err = stats.linregress(x, rain.tail(14))\n",
    "    rd_slope, intercept, r_value, p_value, std_err = stats.linregress(x, radiation.tail(14))\n",
    "    p_slope, intercept, r_value, p_value, std_err = stats.linregress(x, pressure.tail(14))\n",
    "    h_slope, intercept, r_value, p_value, std_err = stats.linregress(x, humidity.tail(14))\n",
    "\n",
    "    temp_change.append(t_slope)\n",
    "    wind_change.append(w_slope)\n",
    "    rain_change.append(r_slope)\n",
    "    radiation_change.append(rd_slope)\n",
    "    pressure_change.append(p_slope)\n",
    "    humidity_change.append(h_slope)"
   ]
  },
  {
   "cell_type": "code",
   "execution_count": 354,
   "metadata": {},
   "outputs": [],
   "source": [
    "t2 = df.groupby('event_id').tail(14)\n",
    "# cond = t1.index.isin(t2.index)\n",
    "# t1.drop(t1[cond].index, inplace = True)\n",
    "averages_1 = t2.groupby('event_id').mean()"
   ]
  },
  {
   "cell_type": "code",
   "execution_count": 355,
   "metadata": {},
   "outputs": [],
   "source": [
    "averages_1['t_slope'] = temp_change\n",
    "averages_1['w_slope'] = wind_change\n",
    "averages_1['r_slope'] = rain_change\n",
    "averages_1['rd_slope'] = radiation_change\n",
    "averages_1['p_slope'] = pressure_change\n",
    "averages_1['h_slope'] = humidity_change\n",
    "averages_1['two_week_pred'] = two_pred_all\n",
    "averages_1['one_week_pred'] = one_pred_all\n",
    "averages_1['3_day_pred'] = day3_pred_all2"
   ]
  },
  {
   "cell_type": "code",
   "execution_count": 356,
   "metadata": {},
   "outputs": [],
   "source": [
    "X = averages_1[['temperature','wind_speed','surface_solar_radiation', 'total_precipitation', 't_slope', 'w_slope', 'r_slope', 'rd_slope', 'h_slope', 'two_week_pred', 'one_week_pred', '3_day_pred']]\n",
    "y = averages_1['outcome']\n",
    "x_train, x_test, y_train, y_test = train_test_split(X, y, test_size=0.2, random_state=0)"
   ]
  },
  {
   "cell_type": "code",
   "execution_count": 357,
   "metadata": {},
   "outputs": [],
   "source": [
    "scaler = StandardScaler()\n",
    "\n",
    "normalized_x_train = pd.DataFrame(scaler.fit_transform(x_train), columns = x_train.columns)\n",
    "LR = LogisticRegression(C=0.01, solver='liblinear').fit(normalized_x_train, y_train)\n",
    "\n",
    "normalized_x_test = pd.DataFrame(scaler.transform(x_test), columns = x_test.columns)\n",
    "y_test_pred = LR.predict(normalized_x_test)"
   ]
  },
  {
   "cell_type": "code",
   "execution_count": 358,
   "metadata": {},
   "outputs": [
    {
     "output_type": "stream",
     "name": "stdout",
     "text": [
      "Model Accuracy One Day Prediction:  0.8901098901098901\n"
     ]
    }
   ],
   "source": [
    "predictions = LR.predict(normalized_x_test)\n",
    "score = LR.score(normalized_x_test, y_test)\n",
    "print(\"Model Accuracy One Day Prediction: \",score)"
   ]
  },
  {
   "cell_type": "code",
   "execution_count": 359,
   "metadata": {},
   "outputs": [
    {
     "output_type": "stream",
     "name": "stdout",
     "text": [
      "Model Accuracy Two Week Prediction:  0.8681318681318682\n"
     ]
    }
   ],
   "source": [
    "gnb = GaussianNB()\n",
    "gnb.fit(normalized_x_train, y_train)\n",
    "predictions = gnb.predict(normalized_x_test)\n",
    "score = gnb.score(normalized_x_test, y_test)\n",
    "print(\"Model Accuracy Two Week Prediction: \",score)"
   ]
  },
  {
   "source": [
    "## Feature Visualizations"
   ],
   "cell_type": "markdown",
   "metadata": {}
  },
  {
   "cell_type": "code",
   "execution_count": 331,
   "metadata": {},
   "outputs": [
    {
     "output_type": "stream",
     "name": "stdout",
     "text": [
      "Feature: 0, Score: 0.04569\nFeature: 1, Score: 0.10449\nFeature: 2, Score: 0.02504\nFeature: 3, Score: 0.32965\nFeature: 4, Score: 0.31845\nFeature: 5, Score: 0.25763\nFeature: 6, Score: 0.22332\nFeature: 7, Score: -0.01370\nFeature: 8, Score: 0.21869\nFeature: 9, Score: 0.16321\nFeature: 10, Score: 0.17272\nFeature: 11, Score: 0.19907\n"
     ]
    },
    {
     "output_type": "display_data",
     "data": {
      "text/plain": "<Figure size 432x288 with 1 Axes>",
      "image/svg+xml": "<?xml version=\"1.0\" encoding=\"utf-8\" standalone=\"no\"?>\n<!DOCTYPE svg PUBLIC \"-//W3C//DTD SVG 1.1//EN\"\n  \"http://www.w3.org/Graphics/SVG/1.1/DTD/svg11.dtd\">\n<!-- Created with matplotlib (https://matplotlib.org/) -->\n<svg height=\"248.518125pt\" version=\"1.1\" viewBox=\"0 0 378.465625 248.518125\" width=\"378.465625pt\" xmlns=\"http://www.w3.org/2000/svg\" xmlns:xlink=\"http://www.w3.org/1999/xlink\">\n <metadata>\n  <rdf:RDF xmlns:cc=\"http://creativecommons.org/ns#\" xmlns:dc=\"http://purl.org/dc/elements/1.1/\" xmlns:rdf=\"http://www.w3.org/1999/02/22-rdf-syntax-ns#\">\n   <cc:Work>\n    <dc:type rdf:resource=\"http://purl.org/dc/dcmitype/StillImage\"/>\n    <dc:date>2021-04-28T02:00:20.983247</dc:date>\n    <dc:format>image/svg+xml</dc:format>\n    <dc:creator>\n     <cc:Agent>\n      <dc:title>Matplotlib v3.3.4, https://matplotlib.org/</dc:title>\n     </cc:Agent>\n    </dc:creator>\n   </cc:Work>\n  </rdf:RDF>\n </metadata>\n <defs>\n  <style type=\"text/css\">*{stroke-linecap:butt;stroke-linejoin:round;}</style>\n </defs>\n <g id=\"figure_1\">\n  <g id=\"patch_1\">\n   <path d=\"M 0 248.518125 \nL 378.465625 248.518125 \nL 378.465625 0 \nL 0 0 \nz\n\" style=\"fill:none;\"/>\n  </g>\n  <g id=\"axes_1\">\n   <g id=\"patch_2\">\n    <path d=\"M 36.465625 224.64 \nL 371.265625 224.64 \nL 371.265625 7.2 \nL 36.465625 7.2 \nz\n\" style=\"fill:#ffffff;\"/>\n   </g>\n   <g id=\"patch_3\">\n    <path clip-path=\"url(#pe1480189d0)\" d=\"M 51.683807 206.870529 \nL 72.31863 206.870529 \nL 72.31863 180.564046 \nL 51.683807 180.564046 \nz\n\" style=\"fill:#1f77b4;\"/>\n   </g>\n   <g id=\"patch_4\">\n    <path clip-path=\"url(#pe1480189d0)\" d=\"M 77.477335 206.870529 \nL 98.112158 206.870529 \nL 98.112158 146.716619 \nL 77.477335 146.716619 \nz\n\" style=\"fill:#1f77b4;\"/>\n   </g>\n   <g id=\"patch_5\">\n    <path clip-path=\"url(#pe1480189d0)\" d=\"M 103.270864 206.870529 \nL 123.905687 206.870529 \nL 123.905687 192.456395 \nL 103.270864 192.456395 \nz\n\" style=\"fill:#1f77b4;\"/>\n   </g>\n   <g id=\"patch_6\">\n    <path clip-path=\"url(#pe1480189d0)\" d=\"M 129.064392 206.870529 \nL 149.699215 206.870529 \nL 149.699215 17.083636 \nL 129.064392 17.083636 \nz\n\" style=\"fill:#1f77b4;\"/>\n   </g>\n   <g id=\"patch_7\">\n    <path clip-path=\"url(#pe1480189d0)\" d=\"M 154.857921 206.870529 \nL 175.492744 206.870529 \nL 175.492744 23.532767 \nL 154.857921 23.532767 \nz\n\" style=\"fill:#1f77b4;\"/>\n   </g>\n   <g id=\"patch_8\">\n    <path clip-path=\"url(#pe1480189d0)\" d=\"M 180.651449 206.870529 \nL 201.286272 206.870529 \nL 201.286272 58.550885 \nL 180.651449 58.550885 \nz\n\" style=\"fill:#1f77b4;\"/>\n   </g>\n   <g id=\"patch_9\">\n    <path clip-path=\"url(#pe1480189d0)\" d=\"M 206.444978 206.870529 \nL 227.079801 206.870529 \nL 227.079801 78.299792 \nL 206.444978 78.299792 \nz\n\" style=\"fill:#1f77b4;\"/>\n   </g>\n   <g id=\"patch_10\">\n    <path clip-path=\"url(#pe1480189d0)\" d=\"M 232.238506 206.870529 \nL 252.873329 206.870529 \nL 252.873329 214.756364 \nL 232.238506 214.756364 \nz\n\" style=\"fill:#1f77b4;\"/>\n   </g>\n   <g id=\"patch_11\">\n    <path clip-path=\"url(#pe1480189d0)\" d=\"M 258.032035 206.870529 \nL 278.666858 206.870529 \nL 278.666858 80.967535 \nL 258.032035 80.967535 \nz\n\" style=\"fill:#1f77b4;\"/>\n   </g>\n   <g id=\"patch_12\">\n    <path clip-path=\"url(#pe1480189d0)\" d=\"M 283.825563 206.870529 \nL 304.460386 206.870529 \nL 304.460386 112.907103 \nL 283.825563 112.907103 \nz\n\" style=\"fill:#1f77b4;\"/>\n   </g>\n   <g id=\"patch_13\">\n    <path clip-path=\"url(#pe1480189d0)\" d=\"M 309.619092 206.870529 \nL 330.253915 206.870529 \nL 330.253915 107.435541 \nL 309.619092 107.435541 \nz\n\" style=\"fill:#1f77b4;\"/>\n   </g>\n   <g id=\"patch_14\">\n    <path clip-path=\"url(#pe1480189d0)\" d=\"M 335.41262 206.870529 \nL 356.047443 206.870529 \nL 356.047443 92.26083 \nL 335.41262 92.26083 \nz\n\" style=\"fill:#1f77b4;\"/>\n   </g>\n   <g id=\"matplotlib.axis_1\">\n    <g id=\"xtick_1\">\n     <g id=\"line2d_1\">\n      <defs>\n       <path d=\"M 0 0 \nL 0 3.5 \n\" id=\"m696dd19170\" style=\"stroke:#000000;stroke-width:0.8;\"/>\n      </defs>\n      <g>\n       <use style=\"stroke:#000000;stroke-width:0.8;\" x=\"62.001218\" xlink:href=\"#m696dd19170\" y=\"224.64\"/>\n      </g>\n     </g>\n     <g id=\"text_1\">\n      <!-- 0 -->\n      <g transform=\"translate(58.819968 239.238438)scale(0.1 -0.1)\">\n       <defs>\n        <path d=\"M 31.78125 66.40625 \nQ 24.171875 66.40625 20.328125 58.90625 \nQ 16.5 51.421875 16.5 36.375 \nQ 16.5 21.390625 20.328125 13.890625 \nQ 24.171875 6.390625 31.78125 6.390625 \nQ 39.453125 6.390625 43.28125 13.890625 \nQ 47.125 21.390625 47.125 36.375 \nQ 47.125 51.421875 43.28125 58.90625 \nQ 39.453125 66.40625 31.78125 66.40625 \nz\nM 31.78125 74.21875 \nQ 44.046875 74.21875 50.515625 64.515625 \nQ 56.984375 54.828125 56.984375 36.375 \nQ 56.984375 17.96875 50.515625 8.265625 \nQ 44.046875 -1.421875 31.78125 -1.421875 \nQ 19.53125 -1.421875 13.0625 8.265625 \nQ 6.59375 17.96875 6.59375 36.375 \nQ 6.59375 54.828125 13.0625 64.515625 \nQ 19.53125 74.21875 31.78125 74.21875 \nz\n\" id=\"DejaVuSans-48\"/>\n       </defs>\n       <use xlink:href=\"#DejaVuSans-48\"/>\n      </g>\n     </g>\n    </g>\n    <g id=\"xtick_2\">\n     <g id=\"line2d_2\">\n      <g>\n       <use style=\"stroke:#000000;stroke-width:0.8;\" x=\"113.588275\" xlink:href=\"#m696dd19170\" y=\"224.64\"/>\n      </g>\n     </g>\n     <g id=\"text_2\">\n      <!-- 2 -->\n      <g transform=\"translate(110.407025 239.238438)scale(0.1 -0.1)\">\n       <defs>\n        <path d=\"M 19.1875 8.296875 \nL 53.609375 8.296875 \nL 53.609375 0 \nL 7.328125 0 \nL 7.328125 8.296875 \nQ 12.9375 14.109375 22.625 23.890625 \nQ 32.328125 33.6875 34.8125 36.53125 \nQ 39.546875 41.84375 41.421875 45.53125 \nQ 43.3125 49.21875 43.3125 52.78125 \nQ 43.3125 58.59375 39.234375 62.25 \nQ 35.15625 65.921875 28.609375 65.921875 \nQ 23.96875 65.921875 18.8125 64.3125 \nQ 13.671875 62.703125 7.8125 59.421875 \nL 7.8125 69.390625 \nQ 13.765625 71.78125 18.9375 73 \nQ 24.125 74.21875 28.421875 74.21875 \nQ 39.75 74.21875 46.484375 68.546875 \nQ 53.21875 62.890625 53.21875 53.421875 \nQ 53.21875 48.921875 51.53125 44.890625 \nQ 49.859375 40.875 45.40625 35.40625 \nQ 44.1875 33.984375 37.640625 27.21875 \nQ 31.109375 20.453125 19.1875 8.296875 \nz\n\" id=\"DejaVuSans-50\"/>\n       </defs>\n       <use xlink:href=\"#DejaVuSans-50\"/>\n      </g>\n     </g>\n    </g>\n    <g id=\"xtick_3\">\n     <g id=\"line2d_3\">\n      <g>\n       <use style=\"stroke:#000000;stroke-width:0.8;\" x=\"165.175332\" xlink:href=\"#m696dd19170\" y=\"224.64\"/>\n      </g>\n     </g>\n     <g id=\"text_3\">\n      <!-- 4 -->\n      <g transform=\"translate(161.994082 239.238438)scale(0.1 -0.1)\">\n       <defs>\n        <path d=\"M 37.796875 64.3125 \nL 12.890625 25.390625 \nL 37.796875 25.390625 \nz\nM 35.203125 72.90625 \nL 47.609375 72.90625 \nL 47.609375 25.390625 \nL 58.015625 25.390625 \nL 58.015625 17.1875 \nL 47.609375 17.1875 \nL 47.609375 0 \nL 37.796875 0 \nL 37.796875 17.1875 \nL 4.890625 17.1875 \nL 4.890625 26.703125 \nz\n\" id=\"DejaVuSans-52\"/>\n       </defs>\n       <use xlink:href=\"#DejaVuSans-52\"/>\n      </g>\n     </g>\n    </g>\n    <g id=\"xtick_4\">\n     <g id=\"line2d_4\">\n      <g>\n       <use style=\"stroke:#000000;stroke-width:0.8;\" x=\"216.762389\" xlink:href=\"#m696dd19170\" y=\"224.64\"/>\n      </g>\n     </g>\n     <g id=\"text_4\">\n      <!-- 6 -->\n      <g transform=\"translate(213.581139 239.238438)scale(0.1 -0.1)\">\n       <defs>\n        <path d=\"M 33.015625 40.375 \nQ 26.375 40.375 22.484375 35.828125 \nQ 18.609375 31.296875 18.609375 23.390625 \nQ 18.609375 15.53125 22.484375 10.953125 \nQ 26.375 6.390625 33.015625 6.390625 \nQ 39.65625 6.390625 43.53125 10.953125 \nQ 47.40625 15.53125 47.40625 23.390625 \nQ 47.40625 31.296875 43.53125 35.828125 \nQ 39.65625 40.375 33.015625 40.375 \nz\nM 52.59375 71.296875 \nL 52.59375 62.3125 \nQ 48.875 64.0625 45.09375 64.984375 \nQ 41.3125 65.921875 37.59375 65.921875 \nQ 27.828125 65.921875 22.671875 59.328125 \nQ 17.53125 52.734375 16.796875 39.40625 \nQ 19.671875 43.65625 24.015625 45.921875 \nQ 28.375 48.1875 33.59375 48.1875 \nQ 44.578125 48.1875 50.953125 41.515625 \nQ 57.328125 34.859375 57.328125 23.390625 \nQ 57.328125 12.15625 50.6875 5.359375 \nQ 44.046875 -1.421875 33.015625 -1.421875 \nQ 20.359375 -1.421875 13.671875 8.265625 \nQ 6.984375 17.96875 6.984375 36.375 \nQ 6.984375 53.65625 15.1875 63.9375 \nQ 23.390625 74.21875 37.203125 74.21875 \nQ 40.921875 74.21875 44.703125 73.484375 \nQ 48.484375 72.75 52.59375 71.296875 \nz\n\" id=\"DejaVuSans-54\"/>\n       </defs>\n       <use xlink:href=\"#DejaVuSans-54\"/>\n      </g>\n     </g>\n    </g>\n    <g id=\"xtick_5\">\n     <g id=\"line2d_5\">\n      <g>\n       <use style=\"stroke:#000000;stroke-width:0.8;\" x=\"268.349446\" xlink:href=\"#m696dd19170\" y=\"224.64\"/>\n      </g>\n     </g>\n     <g id=\"text_5\">\n      <!-- 8 -->\n      <g transform=\"translate(265.168196 239.238438)scale(0.1 -0.1)\">\n       <defs>\n        <path d=\"M 31.78125 34.625 \nQ 24.75 34.625 20.71875 30.859375 \nQ 16.703125 27.09375 16.703125 20.515625 \nQ 16.703125 13.921875 20.71875 10.15625 \nQ 24.75 6.390625 31.78125 6.390625 \nQ 38.8125 6.390625 42.859375 10.171875 \nQ 46.921875 13.96875 46.921875 20.515625 \nQ 46.921875 27.09375 42.890625 30.859375 \nQ 38.875 34.625 31.78125 34.625 \nz\nM 21.921875 38.8125 \nQ 15.578125 40.375 12.03125 44.71875 \nQ 8.5 49.078125 8.5 55.328125 \nQ 8.5 64.0625 14.71875 69.140625 \nQ 20.953125 74.21875 31.78125 74.21875 \nQ 42.671875 74.21875 48.875 69.140625 \nQ 55.078125 64.0625 55.078125 55.328125 \nQ 55.078125 49.078125 51.53125 44.71875 \nQ 48 40.375 41.703125 38.8125 \nQ 48.828125 37.15625 52.796875 32.3125 \nQ 56.78125 27.484375 56.78125 20.515625 \nQ 56.78125 9.90625 50.3125 4.234375 \nQ 43.84375 -1.421875 31.78125 -1.421875 \nQ 19.734375 -1.421875 13.25 4.234375 \nQ 6.78125 9.90625 6.78125 20.515625 \nQ 6.78125 27.484375 10.78125 32.3125 \nQ 14.796875 37.15625 21.921875 38.8125 \nz\nM 18.3125 54.390625 \nQ 18.3125 48.734375 21.84375 45.5625 \nQ 25.390625 42.390625 31.78125 42.390625 \nQ 38.140625 42.390625 41.71875 45.5625 \nQ 45.3125 48.734375 45.3125 54.390625 \nQ 45.3125 60.0625 41.71875 63.234375 \nQ 38.140625 66.40625 31.78125 66.40625 \nQ 25.390625 66.40625 21.84375 63.234375 \nQ 18.3125 60.0625 18.3125 54.390625 \nz\n\" id=\"DejaVuSans-56\"/>\n       </defs>\n       <use xlink:href=\"#DejaVuSans-56\"/>\n      </g>\n     </g>\n    </g>\n    <g id=\"xtick_6\">\n     <g id=\"line2d_6\">\n      <g>\n       <use style=\"stroke:#000000;stroke-width:0.8;\" x=\"319.936503\" xlink:href=\"#m696dd19170\" y=\"224.64\"/>\n      </g>\n     </g>\n     <g id=\"text_6\">\n      <!-- 10 -->\n      <g transform=\"translate(313.574003 239.238438)scale(0.1 -0.1)\">\n       <defs>\n        <path d=\"M 12.40625 8.296875 \nL 28.515625 8.296875 \nL 28.515625 63.921875 \nL 10.984375 60.40625 \nL 10.984375 69.390625 \nL 28.421875 72.90625 \nL 38.28125 72.90625 \nL 38.28125 8.296875 \nL 54.390625 8.296875 \nL 54.390625 0 \nL 12.40625 0 \nz\n\" id=\"DejaVuSans-49\"/>\n       </defs>\n       <use xlink:href=\"#DejaVuSans-49\"/>\n       <use x=\"63.623047\" xlink:href=\"#DejaVuSans-48\"/>\n      </g>\n     </g>\n    </g>\n   </g>\n   <g id=\"matplotlib.axis_2\">\n    <g id=\"ytick_1\">\n     <g id=\"line2d_7\">\n      <defs>\n       <path d=\"M 0 0 \nL -3.5 0 \n\" id=\"mf182313b9a\" style=\"stroke:#000000;stroke-width:0.8;\"/>\n      </defs>\n      <g>\n       <use style=\"stroke:#000000;stroke-width:0.8;\" x=\"36.465625\" xlink:href=\"#mf182313b9a\" y=\"206.870529\"/>\n      </g>\n     </g>\n     <g id=\"text_7\">\n      <!-- 0.00 -->\n      <g transform=\"translate(7.2 210.669747)scale(0.1 -0.1)\">\n       <defs>\n        <path d=\"M 10.6875 12.40625 \nL 21 12.40625 \nL 21 0 \nL 10.6875 0 \nz\n\" id=\"DejaVuSans-46\"/>\n       </defs>\n       <use xlink:href=\"#DejaVuSans-48\"/>\n       <use x=\"63.623047\" xlink:href=\"#DejaVuSans-46\"/>\n       <use x=\"95.410156\" xlink:href=\"#DejaVuSans-48\"/>\n       <use x=\"159.033203\" xlink:href=\"#DejaVuSans-48\"/>\n      </g>\n     </g>\n    </g>\n    <g id=\"ytick_2\">\n     <g id=\"line2d_8\">\n      <g>\n       <use style=\"stroke:#000000;stroke-width:0.8;\" x=\"36.465625\" xlink:href=\"#mf182313b9a\" y=\"178.084832\"/>\n      </g>\n     </g>\n     <g id=\"text_8\">\n      <!-- 0.05 -->\n      <g transform=\"translate(7.2 181.884051)scale(0.1 -0.1)\">\n       <defs>\n        <path d=\"M 10.796875 72.90625 \nL 49.515625 72.90625 \nL 49.515625 64.59375 \nL 19.828125 64.59375 \nL 19.828125 46.734375 \nQ 21.96875 47.46875 24.109375 47.828125 \nQ 26.265625 48.1875 28.421875 48.1875 \nQ 40.625 48.1875 47.75 41.5 \nQ 54.890625 34.8125 54.890625 23.390625 \nQ 54.890625 11.625 47.5625 5.09375 \nQ 40.234375 -1.421875 26.90625 -1.421875 \nQ 22.3125 -1.421875 17.546875 -0.640625 \nQ 12.796875 0.140625 7.71875 1.703125 \nL 7.71875 11.625 \nQ 12.109375 9.234375 16.796875 8.0625 \nQ 21.484375 6.890625 26.703125 6.890625 \nQ 35.15625 6.890625 40.078125 11.328125 \nQ 45.015625 15.765625 45.015625 23.390625 \nQ 45.015625 31 40.078125 35.4375 \nQ 35.15625 39.890625 26.703125 39.890625 \nQ 22.75 39.890625 18.8125 39.015625 \nQ 14.890625 38.140625 10.796875 36.28125 \nz\n\" id=\"DejaVuSans-53\"/>\n       </defs>\n       <use xlink:href=\"#DejaVuSans-48\"/>\n       <use x=\"63.623047\" xlink:href=\"#DejaVuSans-46\"/>\n       <use x=\"95.410156\" xlink:href=\"#DejaVuSans-48\"/>\n       <use x=\"159.033203\" xlink:href=\"#DejaVuSans-53\"/>\n      </g>\n     </g>\n    </g>\n    <g id=\"ytick_3\">\n     <g id=\"line2d_9\">\n      <g>\n       <use style=\"stroke:#000000;stroke-width:0.8;\" x=\"36.465625\" xlink:href=\"#mf182313b9a\" y=\"149.299136\"/>\n      </g>\n     </g>\n     <g id=\"text_9\">\n      <!-- 0.10 -->\n      <g transform=\"translate(7.2 153.098355)scale(0.1 -0.1)\">\n       <use xlink:href=\"#DejaVuSans-48\"/>\n       <use x=\"63.623047\" xlink:href=\"#DejaVuSans-46\"/>\n       <use x=\"95.410156\" xlink:href=\"#DejaVuSans-49\"/>\n       <use x=\"159.033203\" xlink:href=\"#DejaVuSans-48\"/>\n      </g>\n     </g>\n    </g>\n    <g id=\"ytick_4\">\n     <g id=\"line2d_10\">\n      <g>\n       <use style=\"stroke:#000000;stroke-width:0.8;\" x=\"36.465625\" xlink:href=\"#mf182313b9a\" y=\"120.513439\"/>\n      </g>\n     </g>\n     <g id=\"text_10\">\n      <!-- 0.15 -->\n      <g transform=\"translate(7.2 124.312658)scale(0.1 -0.1)\">\n       <use xlink:href=\"#DejaVuSans-48\"/>\n       <use x=\"63.623047\" xlink:href=\"#DejaVuSans-46\"/>\n       <use x=\"95.410156\" xlink:href=\"#DejaVuSans-49\"/>\n       <use x=\"159.033203\" xlink:href=\"#DejaVuSans-53\"/>\n      </g>\n     </g>\n    </g>\n    <g id=\"ytick_5\">\n     <g id=\"line2d_11\">\n      <g>\n       <use style=\"stroke:#000000;stroke-width:0.8;\" x=\"36.465625\" xlink:href=\"#mf182313b9a\" y=\"91.727743\"/>\n      </g>\n     </g>\n     <g id=\"text_11\">\n      <!-- 0.20 -->\n      <g transform=\"translate(7.2 95.526962)scale(0.1 -0.1)\">\n       <use xlink:href=\"#DejaVuSans-48\"/>\n       <use x=\"63.623047\" xlink:href=\"#DejaVuSans-46\"/>\n       <use x=\"95.410156\" xlink:href=\"#DejaVuSans-50\"/>\n       <use x=\"159.033203\" xlink:href=\"#DejaVuSans-48\"/>\n      </g>\n     </g>\n    </g>\n    <g id=\"ytick_6\">\n     <g id=\"line2d_12\">\n      <g>\n       <use style=\"stroke:#000000;stroke-width:0.8;\" x=\"36.465625\" xlink:href=\"#mf182313b9a\" y=\"62.942047\"/>\n      </g>\n     </g>\n     <g id=\"text_12\">\n      <!-- 0.25 -->\n      <g transform=\"translate(7.2 66.741265)scale(0.1 -0.1)\">\n       <use xlink:href=\"#DejaVuSans-48\"/>\n       <use x=\"63.623047\" xlink:href=\"#DejaVuSans-46\"/>\n       <use x=\"95.410156\" xlink:href=\"#DejaVuSans-50\"/>\n       <use x=\"159.033203\" xlink:href=\"#DejaVuSans-53\"/>\n      </g>\n     </g>\n    </g>\n    <g id=\"ytick_7\">\n     <g id=\"line2d_13\">\n      <g>\n       <use style=\"stroke:#000000;stroke-width:0.8;\" x=\"36.465625\" xlink:href=\"#mf182313b9a\" y=\"34.15635\"/>\n      </g>\n     </g>\n     <g id=\"text_13\">\n      <!-- 0.30 -->\n      <g transform=\"translate(7.2 37.955569)scale(0.1 -0.1)\">\n       <defs>\n        <path d=\"M 40.578125 39.3125 \nQ 47.65625 37.796875 51.625 33 \nQ 55.609375 28.21875 55.609375 21.1875 \nQ 55.609375 10.40625 48.1875 4.484375 \nQ 40.765625 -1.421875 27.09375 -1.421875 \nQ 22.515625 -1.421875 17.65625 -0.515625 \nQ 12.796875 0.390625 7.625 2.203125 \nL 7.625 11.71875 \nQ 11.71875 9.328125 16.59375 8.109375 \nQ 21.484375 6.890625 26.8125 6.890625 \nQ 36.078125 6.890625 40.9375 10.546875 \nQ 45.796875 14.203125 45.796875 21.1875 \nQ 45.796875 27.640625 41.28125 31.265625 \nQ 36.765625 34.90625 28.71875 34.90625 \nL 20.21875 34.90625 \nL 20.21875 43.015625 \nL 29.109375 43.015625 \nQ 36.375 43.015625 40.234375 45.921875 \nQ 44.09375 48.828125 44.09375 54.296875 \nQ 44.09375 59.90625 40.109375 62.90625 \nQ 36.140625 65.921875 28.71875 65.921875 \nQ 24.65625 65.921875 20.015625 65.03125 \nQ 15.375 64.15625 9.8125 62.3125 \nL 9.8125 71.09375 \nQ 15.4375 72.65625 20.34375 73.4375 \nQ 25.25 74.21875 29.59375 74.21875 \nQ 40.828125 74.21875 47.359375 69.109375 \nQ 53.90625 64.015625 53.90625 55.328125 \nQ 53.90625 49.265625 50.4375 45.09375 \nQ 46.96875 40.921875 40.578125 39.3125 \nz\n\" id=\"DejaVuSans-51\"/>\n       </defs>\n       <use xlink:href=\"#DejaVuSans-48\"/>\n       <use x=\"63.623047\" xlink:href=\"#DejaVuSans-46\"/>\n       <use x=\"95.410156\" xlink:href=\"#DejaVuSans-51\"/>\n       <use x=\"159.033203\" xlink:href=\"#DejaVuSans-48\"/>\n      </g>\n     </g>\n    </g>\n   </g>\n   <g id=\"patch_15\">\n    <path d=\"M 36.465625 224.64 \nL 36.465625 7.2 \n\" style=\"fill:none;stroke:#000000;stroke-linecap:square;stroke-linejoin:miter;stroke-width:0.8;\"/>\n   </g>\n   <g id=\"patch_16\">\n    <path d=\"M 371.265625 224.64 \nL 371.265625 7.2 \n\" style=\"fill:none;stroke:#000000;stroke-linecap:square;stroke-linejoin:miter;stroke-width:0.8;\"/>\n   </g>\n   <g id=\"patch_17\">\n    <path d=\"M 36.465625 224.64 \nL 371.265625 224.64 \n\" style=\"fill:none;stroke:#000000;stroke-linecap:square;stroke-linejoin:miter;stroke-width:0.8;\"/>\n   </g>\n   <g id=\"patch_18\">\n    <path d=\"M 36.465625 7.2 \nL 371.265625 7.2 \n\" style=\"fill:none;stroke:#000000;stroke-linecap:square;stroke-linejoin:miter;stroke-width:0.8;\"/>\n   </g>\n  </g>\n </g>\n <defs>\n  <clipPath id=\"pe1480189d0\">\n   <rect height=\"217.44\" width=\"334.8\" x=\"36.465625\" y=\"7.2\"/>\n  </clipPath>\n </defs>\n</svg>\n",
      "image/png": "[encoded data removed]"
     },
     "metadata": {
      "needs_background": "light"
     }
    }
   ],
   "source": [
    "\n",
    "# linear regression feature importance\n",
    "from sklearn.datasets import make_regression\n",
    "from sklearn.linear_model import LinearRegression\n",
    "from matplotlib import pyplot\n",
    "\n",
    "# get importance\n",
    "importance = LR.coef_\n",
    "# summarize feature importance\n",
    "for i,v in enumerate(importance[0]):\n",
    "\tprint('Feature: %0d, Score: %.5f' % (i,v))\n",
    "# plot feature importance\n",
    "pyplot.bar([x for x in range(len(importance[0]))], importance[0])\n",
    "pyplot.show()"
   ]
  },
  {
   "source": [
    "### Removed relative_humidity and p_slope(pressure slope) after getting negative score."
   ],
   "cell_type": "markdown",
   "metadata": {}
  },
  {
   "cell_type": "code",
   "execution_count": null,
   "metadata": {},
   "outputs": [],
   "source": [
    "import wandb\n",
    "wandb.init(project=\"visualize-sklearn\")"
   ]
  },
  {
   "cell_type": "code",
   "execution_count": 311,
   "metadata": {},
   "outputs": [],
   "source": [
    "from sklearn.linear_model import LinearRegression\n",
    "from sklearn.linear_model import Ridge\n",
    "reg = Ridge()\n",
    "reg.fit(X, y)\n",
    "y_pred = reg.predict(x_test)"
   ]
  },
  {
   "cell_type": "code",
   "execution_count": 316,
   "metadata": {},
   "outputs": [
    {
     "output_type": "stream",
     "name": "stderr",
     "text": [
      "\u001b[34m\u001b[1mwandb\u001b[0m: \n",
      "\u001b[34m\u001b[1mwandb\u001b[0m: Plotting Ridge.\n",
      "\u001b[34m\u001b[1mwandb\u001b[0m: Logged summary metrics.\n",
      "\u001b[34m\u001b[1mwandb\u001b[0m: Logged learning curve.\n",
      "\u001b[34m\u001b[1mwandb\u001b[0m: Logged outlier candidates.\n",
      "\u001b[34m\u001b[1mwandb\u001b[0m: \u001b[33mWARNING\u001b[0m wandb uses only the first 10000 datapoints to create the plots.\n",
      "\u001b[34m\u001b[1mwandb\u001b[0m: \u001b[33mWARNING\u001b[0m wandb uses only the first 10000 datapoints to create the plots.\n",
      "\u001b[34m\u001b[1mwandb\u001b[0m: Logged residuals.\n"
     ]
    }
   ],
   "source": [
    "wandb.sklearn.plot_regressor(reg, x_train, x_test, y_train, y_test, 'Ridge')\n"
   ]
  },
  {
   "cell_type": "code",
   "execution_count": 317,
   "metadata": {},
   "outputs": [],
   "source": [
    "from sklearn.ensemble import RandomForestClassifier\n",
    "clf = RandomForestClassifier()\n",
    "clf.fit(X, y)\n",
    "y_pred = clf.predict(x_test)"
   ]
  },
  {
   "cell_type": "code",
   "execution_count": 320,
   "metadata": {},
   "outputs": [],
   "source": [
    "wandb.sklearn.plot_learning_curve(clf, X, y)"
   ]
  },
  {
   "cell_type": "code",
   "execution_count": 326,
   "metadata": {},
   "outputs": [
    {
     "output_type": "execute_result",
     "data": {
      "text/plain": [
       "<wandb.viz.Visualize at 0x13164bc10>"
      ]
     },
     "metadata": {},
     "execution_count": 326
    }
   ],
   "source": [
    "wandb.sklearn.plot_feature_importances(LR, X.columns.array)"
   ]
  },
  {
   "cell_type": "code",
   "execution_count": null,
   "metadata": {},
   "outputs": [],
   "source": []
  }
 ],
 "metadata": {
  "kernelspec": {
   "name": "python379jvsc74a57bd0f34782dca7896296409761b863e490f652f0d0cf99d3e83ed26734792b4da235",
   "display_name": "Python 3.7.9 64-bit ('bu_cs': conda)"
  },
  "language_info": {
   "codemirror_mode": {
    "name": "ipython",
    "version": 3
   },
   "file_extension": ".py",
   "mimetype": "text/x-python",
   "name": "python",
   "nbconvert_exporter": "python",
   "pygments_lexer": "ipython3",
   "version": "3.7.9"
  },
  "metadata": {
   "interpreter": {
    "hash": "f34782dca7896296409761b863e490f652f0d0cf99d3e83ed26734792b4da235"
   }
  }
 },
 "nbformat": 4,
 "nbformat_minor": 4
}