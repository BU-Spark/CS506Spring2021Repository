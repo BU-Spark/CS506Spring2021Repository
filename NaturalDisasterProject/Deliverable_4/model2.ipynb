{
 "metadata": {
  "language_info": {
   "codemirror_mode": {
    "name": "ipython",
    "version": 3
   },
   "file_extension": ".py",
   "mimetype": "text/x-python",
   "name": "python",
   "nbconvert_exporter": "python",
   "pygments_lexer": "ipython3",
   "version": "3.7.9-final"
  },
  "orig_nbformat": 2,
  "kernelspec": {
   "name": "python379jvsc74a57bd0f34782dca7896296409761b863e490f652f0d0cf99d3e83ed26734792b4da235",
   "display_name": "Python 3.7.9 64-bit ('bu_cs': conda)"
  },
  "metadata": {
   "interpreter": {
    "hash": "f34782dca7896296409761b863e490f652f0d0cf99d3e83ed26734792b4da235"
   }
  }
 },
 "nbformat": 4,
 "nbformat_minor": 2,
 "cells": [
  {
   "source": [
    "## Imports"
   ],
   "cell_type": "markdown",
   "metadata": {}
  },
  {
   "cell_type": "code",
   "execution_count": 1,
   "metadata": {},
   "outputs": [],
   "source": [
    "\n",
    "import pandas as pd\n",
    "import numpy as np\n",
    "\n",
    "import matplotlib.pyplot as plt\n",
    "import matplotlib.cm as cm\n",
    "import matplotlib\n",
    "\n",
    "from scipy import stats\n",
    "from sklearn.linear_model import LogisticRegression\n",
    "from sklearn.naive_bayes import GaussianNB\n",
    "from sklearn.model_selection import train_test_split"
   ]
  },
  {
   "source": [
    "## Global Values"
   ],
   "cell_type": "markdown",
   "metadata": {}
  },
  {
   "cell_type": "code",
   "execution_count": 78,
   "metadata": {},
   "outputs": [],
   "source": [
    "NUMBER_TORNADOS = 111 #Number of Tornado Events\n",
    "NUMBER_RANDOM = 110 #Number of Random Events\n",
    "NUMBER_DAYS = 14 #Number of days of data per Tornado/Event (Max: 57)\n",
    "FILE_NAME = \"all_data.csv\" #CSV file that contains the data"
   ]
  },
  {
   "source": [
    "## Loading Data"
   ],
   "cell_type": "markdown",
   "metadata": {}
  },
  {
   "cell_type": "code",
   "execution_count": 79,
   "metadata": {},
   "outputs": [],
   "source": [
    "\n",
    "#Field 0: 'datatime'\n",
    "#Field 1: 'temperature'\n",
    "#Field 2: 'windspeed'\n",
    "#Field 3: 'surface solar radiation' -Alvaro\n",
    "#Field 4: 'relative humidity' -Abdullah\n",
    "#Field 5: 'surface pressure' -Frazier\n",
    "#Field 6: 'total precipitation' -Simon\n",
    "#Field 7: 'city'\n",
    "#Field 8: 'event_id'\n",
    "#Field 9: 'latitude'\n",
    "#Field 10: 'longitude'\n",
    "#Field 11: 'outcome'\n",
    "\n",
    "data = pd.read_csv (FILE_NAME)\n",
    "df = data.drop(columns=['Unnamed: 0'])\n",
    "event_ids = set(df['event_id'].to_numpy())"
   ]
  },
  {
   "source": [
    "## Create Timeserie Fetaures"
   ],
   "cell_type": "markdown",
   "metadata": {}
  },
  {
   "cell_type": "code",
   "execution_count": 80,
   "metadata": {},
   "outputs": [],
   "source": [
    "# Determine slope of each weather attribute over time for each Tornado/Event\n",
    "temp_change = []\n",
    "wind_change = []\n",
    "rain_change = []\n",
    "radiation_change = []\n",
    "pressure_change = []\n",
    "humidity_change = []\n",
    "x = list(range(NUMBER_DAYS))\n",
    "\n",
    "for i in event_ids:\n",
    "    event = df.loc[df['event_id'] == i]\n",
    "    temp = event['temperature']\n",
    "    wind = event['wind_speed']\n",
    "    radiation = event['surface_solar_radiation']\n",
    "    humidity = event['relative_humidity']\n",
    "    pressure = event['surface_pressure']\n",
    "    rain = event['total_precipitation']\n",
    "\n",
    "    t_slope, intercept, r_value, p_value, std_err = stats.linregress(x, temp[-21:-7])\n",
    "    w_slope, intercept, r_value, p_value, std_err = stats.linregress(x, wind[-21:-7])\n",
    "    r_slope, intercept, r_value, p_value, std_err = stats.linregress(x, rain[-21:-7])\n",
    "    rd_slope, intercept, r_value, p_value, std_err = stats.linregress(x, radiation[-21:-7])\n",
    "    p_slope, intercept, r_value, p_value, std_err = stats.linregress(x, pressure[-21:-7])\n",
    "    h_slope, intercept, r_value, p_value, std_err = stats.linregress(x, humidity[-21:-7])\n",
    "\n",
    "    temp_change.append(t_slope)\n",
    "    wind_change.append(w_slope)\n",
    "    rain_change.append(r_slope)\n",
    "    radiation_change.append(rd_slope)\n",
    "    pressure_change.append(p_slope)\n",
    "    humidity_change.append(h_slope)\n"
   ]
  },
  {
   "source": [
    "## Dataframe with mean values of each Tornado/Event"
   ],
   "cell_type": "markdown",
   "metadata": {}
  },
  {
   "cell_type": "code",
   "execution_count": 81,
   "metadata": {},
   "outputs": [
    {
     "output_type": "stream",
     "name": "stderr",
     "text": [
      "/Users/abdullaahrobins/opt/anaconda3/envs/bu_cs/lib/python3.7/site-packages/pandas/core/frame.py:4312: SettingWithCopyWarning: \nA value is trying to be set on a copy of a slice from a DataFrame\n\nSee the caveats in the documentation: https://pandas.pydata.org/pandas-docs/stable/user_guide/indexing.html#returning-a-view-versus-a-copy\n  errors=errors,\n"
     ]
    }
   ],
   "source": [
    "t1 = df.groupby('event_id').tail(NUMBER_DAYS+7)\n",
    "t2 = df.groupby('event_id').tail(7)\n",
    "cond = t1.index.isin(t2.index)\n",
    "t1.drop(t1[cond].index, inplace = True)\n",
    "averages = t1.groupby('event_id').mean()\n"
   ]
  },
  {
   "source": [
    "## Add Slope Features"
   ],
   "cell_type": "markdown",
   "metadata": {}
  },
  {
   "cell_type": "code",
   "execution_count": 82,
   "metadata": {},
   "outputs": [],
   "source": [
    "averages['t_slope'] = temp_change\n",
    "averages['w_slope'] = wind_change\n",
    "averages['r_slope'] = rain_change\n",
    "averages['rd_slope'] = radiation_change\n",
    "averages['p_slope'] = pressure_change\n",
    "averages['h_slope'] = humidity_change"
   ]
  },
  {
   "cell_type": "code",
   "execution_count": 83,
   "metadata": {},
   "outputs": [
    {
     "output_type": "execute_result",
     "data": {
      "text/plain": [
       "          temperature  wind_speed  surface_solar_radiation  relative_humidity  \\\n",
       "event_id                                                                        \n",
       "0           16.062143    4.642857               197.428571           0.742143   \n",
       "1           -4.708571    3.628571               117.857143           0.652143   \n",
       "2           25.928571    3.630714               278.285714           0.657857   \n",
       "3            7.548571    3.083571                83.642857           0.731429   \n",
       "4           10.167857    3.908571               205.285714           0.547857   \n",
       "...               ...         ...                      ...                ...   \n",
       "899721      20.472143    2.072143               223.928571           0.669286   \n",
       "902831      21.210000    2.022143               223.785714           0.637857   \n",
       "902837      21.170714    2.005714               222.785714           0.632857   \n",
       "902843      21.121429    1.986429               221.357143           0.626429   \n",
       "902844      21.073571    2.011429               220.642857           0.620000   \n",
       "\n",
       "          surface_pressure  total_precipitation  latitude  longitude  outcome  \\\n",
       "event_id                                                                        \n",
       "0            100071.240000             0.120714       NaN        NaN      0.0   \n",
       "1             98396.950714             0.012857       NaN        NaN      0.0   \n",
       "2             97179.799286             0.057857       NaN        NaN      0.0   \n",
       "3             99236.604286             0.153571       NaN        NaN      0.0   \n",
       "4             98173.071429             0.022143       NaN        NaN      0.0   \n",
       "...                    ...                  ...       ...        ...      ...   \n",
       "899721       100406.642857             0.164286   31.0750   -89.9209      1.0   \n",
       "902831       100283.142857             0.025000   31.4641   -89.7579      1.0   \n",
       "902837       100284.428571             0.025000   31.5475   -89.6194      1.0   \n",
       "902843       100326.285714             0.027857   31.6661   -89.4004      1.0   \n",
       "902844       100316.142857             0.030714   31.8100   -89.1863      1.0   \n",
       "\n",
       "           t_slope   w_slope   r_slope   rd_slope     p_slope   h_slope  \n",
       "event_id                                                                 \n",
       "0         0.637868 -0.387692 -0.036857  12.821978  187.289495 -0.015275  \n",
       "1         0.794593 -0.027648  0.000044   1.164835  -60.263626  0.008857  \n",
       "2         0.223868  0.137780 -0.018000   5.780220   53.467143 -0.015407  \n",
       "3         0.444440  0.158308  0.025341  -2.951648 -116.959165  0.000440  \n",
       "4        -0.071758 -0.035077 -0.000901   2.769231   91.087341 -0.023231  \n",
       "...            ...       ...       ...        ...         ...       ...  \n",
       "899721    0.908615 -0.234440 -0.026769  15.931868   -5.463736 -0.010725  \n",
       "902831   -0.812989 -0.056462  0.028418 -16.883516   89.025495  0.017780  \n",
       "902837   -0.459582  0.003626 -0.026198   3.052747   69.540132 -0.015451  \n",
       "902843   -0.580835 -0.113143  0.000110  -7.826374   -8.503297  0.013033  \n",
       "902844   -0.553626 -0.119231 -0.001253  -7.709890   -8.305495  0.010615  \n",
       "\n",
       "[605 rows x 15 columns]"
      ],
      "text/html": "<div>\n<style scoped>\n    .dataframe tbody tr th:only-of-type {\n        vertical-align: middle;\n    }\n\n    .dataframe tbody tr th {\n        vertical-align: top;\n    }\n\n    .dataframe thead th {\n        text-align: right;\n    }\n</style>\n<table border=\"1\" class=\"dataframe\">\n  <thead>\n    <tr style=\"text-align: right;\">\n      <th></th>\n      <th>temperature</th>\n      <th>wind_speed</th>\n      <th>surface_solar_radiation</th>\n      <th>relative_humidity</th>\n      <th>surface_pressure</th>\n      <th>total_precipitation</th>\n      <th>latitude</th>\n      <th>longitude</th>\n      <th>outcome</th>\n      <th>t_slope</th>\n      <th>w_slope</th>\n      <th>r_slope</th>\n      <th>rd_slope</th>\n      <th>p_slope</th>\n      <th>h_slope</th>\n    </tr>\n    <tr>\n      <th>event_id</th>\n      <th></th>\n      <th></th>\n      <th></th>\n      <th></th>\n      <th></th>\n      <th></th>\n      <th></th>\n      <th></th>\n      <th></th>\n      <th></th>\n      <th></th>\n      <th></th>\n      <th></th>\n      <th></th>\n      <th></th>\n    </tr>\n  </thead>\n  <tbody>\n    <tr>\n      <th>0</th>\n      <td>16.062143</td>\n      <td>4.642857</td>\n      <td>197.428571</td>\n      <td>0.742143</td>\n      <td>100071.240000</td>\n      <td>0.120714</td>\n      <td>NaN</td>\n      <td>NaN</td>\n      <td>0.0</td>\n      <td>0.637868</td>\n      <td>-0.387692</td>\n      <td>-0.036857</td>\n      <td>12.821978</td>\n      <td>187.289495</td>\n      <td>-0.015275</td>\n    </tr>\n    <tr>\n      <th>1</th>\n      <td>-4.708571</td>\n      <td>3.628571</td>\n      <td>117.857143</td>\n      <td>0.652143</td>\n      <td>98396.950714</td>\n      <td>0.012857</td>\n      <td>NaN</td>\n      <td>NaN</td>\n      <td>0.0</td>\n      <td>0.794593</td>\n      <td>-0.027648</td>\n      <td>0.000044</td>\n      <td>1.164835</td>\n      <td>-60.263626</td>\n      <td>0.008857</td>\n    </tr>\n    <tr>\n      <th>2</th>\n      <td>25.928571</td>\n      <td>3.630714</td>\n      <td>278.285714</td>\n      <td>0.657857</td>\n      <td>97179.799286</td>\n      <td>0.057857</td>\n      <td>NaN</td>\n      <td>NaN</td>\n      <td>0.0</td>\n      <td>0.223868</td>\n      <td>0.137780</td>\n      <td>-0.018000</td>\n      <td>5.780220</td>\n      <td>53.467143</td>\n      <td>-0.015407</td>\n    </tr>\n    <tr>\n      <th>3</th>\n      <td>7.548571</td>\n      <td>3.083571</td>\n      <td>83.642857</td>\n      <td>0.731429</td>\n      <td>99236.604286</td>\n      <td>0.153571</td>\n      <td>NaN</td>\n      <td>NaN</td>\n      <td>0.0</td>\n      <td>0.444440</td>\n      <td>0.158308</td>\n      <td>0.025341</td>\n      <td>-2.951648</td>\n      <td>-116.959165</td>\n      <td>0.000440</td>\n    </tr>\n    <tr>\n      <th>4</th>\n      <td>10.167857</td>\n      <td>3.908571</td>\n      <td>205.285714</td>\n      <td>0.547857</td>\n      <td>98173.071429</td>\n      <td>0.022143</td>\n      <td>NaN</td>\n      <td>NaN</td>\n      <td>0.0</td>\n      <td>-0.071758</td>\n      <td>-0.035077</td>\n      <td>-0.000901</td>\n      <td>2.769231</td>\n      <td>91.087341</td>\n      <td>-0.023231</td>\n    </tr>\n    <tr>\n      <th>...</th>\n      <td>...</td>\n      <td>...</td>\n      <td>...</td>\n      <td>...</td>\n      <td>...</td>\n      <td>...</td>\n      <td>...</td>\n      <td>...</td>\n      <td>...</td>\n      <td>...</td>\n      <td>...</td>\n      <td>...</td>\n      <td>...</td>\n      <td>...</td>\n      <td>...</td>\n    </tr>\n    <tr>\n      <th>899721</th>\n      <td>20.472143</td>\n      <td>2.072143</td>\n      <td>223.928571</td>\n      <td>0.669286</td>\n      <td>100406.642857</td>\n      <td>0.164286</td>\n      <td>31.0750</td>\n      <td>-89.9209</td>\n      <td>1.0</td>\n      <td>0.908615</td>\n      <td>-0.234440</td>\n      <td>-0.026769</td>\n      <td>15.931868</td>\n      <td>-5.463736</td>\n      <td>-0.010725</td>\n    </tr>\n    <tr>\n      <th>902831</th>\n      <td>21.210000</td>\n      <td>2.022143</td>\n      <td>223.785714</td>\n      <td>0.637857</td>\n      <td>100283.142857</td>\n      <td>0.025000</td>\n      <td>31.4641</td>\n      <td>-89.7579</td>\n      <td>1.0</td>\n      <td>-0.812989</td>\n      <td>-0.056462</td>\n      <td>0.028418</td>\n      <td>-16.883516</td>\n      <td>89.025495</td>\n      <td>0.017780</td>\n    </tr>\n    <tr>\n      <th>902837</th>\n      <td>21.170714</td>\n      <td>2.005714</td>\n      <td>222.785714</td>\n      <td>0.632857</td>\n      <td>100284.428571</td>\n      <td>0.025000</td>\n      <td>31.5475</td>\n      <td>-89.6194</td>\n      <td>1.0</td>\n      <td>-0.459582</td>\n      <td>0.003626</td>\n      <td>-0.026198</td>\n      <td>3.052747</td>\n      <td>69.540132</td>\n      <td>-0.015451</td>\n    </tr>\n    <tr>\n      <th>902843</th>\n      <td>21.121429</td>\n      <td>1.986429</td>\n      <td>221.357143</td>\n      <td>0.626429</td>\n      <td>100326.285714</td>\n      <td>0.027857</td>\n      <td>31.6661</td>\n      <td>-89.4004</td>\n      <td>1.0</td>\n      <td>-0.580835</td>\n      <td>-0.113143</td>\n      <td>0.000110</td>\n      <td>-7.826374</td>\n      <td>-8.503297</td>\n      <td>0.013033</td>\n    </tr>\n    <tr>\n      <th>902844</th>\n      <td>21.073571</td>\n      <td>2.011429</td>\n      <td>220.642857</td>\n      <td>0.620000</td>\n      <td>100316.142857</td>\n      <td>0.030714</td>\n      <td>31.8100</td>\n      <td>-89.1863</td>\n      <td>1.0</td>\n      <td>-0.553626</td>\n      <td>-0.119231</td>\n      <td>-0.001253</td>\n      <td>-7.709890</td>\n      <td>-8.305495</td>\n      <td>0.010615</td>\n    </tr>\n  </tbody>\n</table>\n<p>605 rows × 15 columns</p>\n</div>"
     },
     "metadata": {},
     "execution_count": 83
    }
   ],
   "source": [
    "averages"
   ]
  },
  {
   "source": [
    "## Model Prep"
   ],
   "cell_type": "markdown",
   "metadata": {}
  },
  {
   "cell_type": "code",
   "execution_count": 84,
   "metadata": {},
   "outputs": [],
   "source": [
    "X = averages[['temperature','wind_speed','surface_solar_radiation','relative_humidity', 'total_precipitation', 't_slope', 'w_slope', 'r_slope', 'rd_slope', 'p_slope', 'h_slope']]\n",
    "y = averages['outcome']\n",
    "x_train, x_test, y_train, y_test = train_test_split(X, y, test_size=0.2, random_state=0)"
   ]
  },
  {
   "source": [
    "## Train Model with Logistic Regression"
   ],
   "cell_type": "markdown",
   "metadata": {}
  },
  {
   "cell_type": "code",
   "execution_count": 85,
   "metadata": {},
   "outputs": [
    {
     "output_type": "stream",
     "name": "stdout",
     "text": [
      "Model Accuracy:  0.7272727272727273\n"
     ]
    }
   ],
   "source": [
    "logisticRegr = LogisticRegression(max_iter=10000)\n",
    "logisticRegr.fit(x_train, y_train)\n",
    "predictions = logisticRegr.predict(x_test)\n",
    "score = logisticRegr.score(x_test, y_test)\n",
    "print(\"Model Accuracy: \",score)"
   ]
  },
  {
   "cell_type": "code",
   "execution_count": 86,
   "metadata": {},
   "outputs": [
    {
     "output_type": "stream",
     "name": "stdout",
     "text": [
      "regression coefficients: \n [[-0.03507505 -0.35890873  0.01047717 -1.66308192  1.70169945 -0.28426589\n  -0.93042453  0.08051527 -0.01533377  0.00231602  0.08526796]]\n"
     ]
    }
   ],
   "source": [
    "print(\"regression coefficients: \\n\", logisticRegr.coef_)\n"
   ]
  },
  {
   "source": [
    "## Determine Individual Feature Strength"
   ],
   "cell_type": "markdown",
   "metadata": {}
  },
  {
   "cell_type": "code",
   "execution_count": 87,
   "metadata": {},
   "outputs": [
    {
     "output_type": "stream",
     "name": "stdout",
     "text": [
      "[0.74, 0.69, 0.76, 0.69, 0.69, 0.69, 0.69, 0.69, 0.69, 0.69, 0.69]\n"
     ]
    }
   ],
   "source": [
    "# Returns array with model accuracy based on individial feature\n",
    "scores = []\n",
    "for i in range(11):\n",
    "\n",
    "    logisticRegr = LogisticRegression()\n",
    "    logisticRegr.fit(x_train.to_numpy()[:,i].reshape(-1,1), y_train)\n",
    "    score = logisticRegr.score(x_test.to_numpy()[:,i].reshape(-1,1), y_test)\n",
    "    scores.append(round(score,2))\n",
    "print(scores)"
   ]
  },
  {
   "source": [
    "## Train Model with Naive Bayes"
   ],
   "cell_type": "markdown",
   "metadata": {}
  },
  {
   "cell_type": "code",
   "execution_count": 88,
   "metadata": {},
   "outputs": [
    {
     "output_type": "stream",
     "name": "stdout",
     "text": [
      "Model Accuracy:  0.7520661157024794\n"
     ]
    }
   ],
   "source": [
    "gnb = GaussianNB()\n",
    "gnb.fit(x_train, y_train)\n",
    "predictions = gnb.predict(x_test)\n",
    "score = gnb.score(x_test, y_test)\n",
    "print(\"Model Accuracy: \",score)"
   ]
  },
  {
   "source": [
    "## Testing"
   ],
   "cell_type": "markdown",
   "metadata": {}
  }
 ]
}