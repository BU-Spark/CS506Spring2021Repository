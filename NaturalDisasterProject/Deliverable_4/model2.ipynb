{
 "cells": [
  {
   "cell_type": "markdown",
   "metadata": {},
   "source": [
    "## Imports"
   ]
  },
  {
   "cell_type": "code",
   "execution_count": 11,
   "metadata": {},
   "outputs": [],
   "source": [
    "\n",
    "import pandas as pd\n",
    "import numpy as np\n",
    "\n",
    "import matplotlib.pyplot as plt\n",
    "import matplotlib.cm as cm\n",
    "import matplotlib\n",
    "\n",
    "from scipy import stats\n",
    "from sklearn.linear_model import LogisticRegression\n",
    "from sklearn.naive_bayes import GaussianNB\n",
    "from sklearn.model_selection import train_test_split"
   ]
  },
  {
   "cell_type": "markdown",
   "metadata": {},
   "source": [
    "## Global Values"
   ]
  },
  {
   "cell_type": "code",
   "execution_count": 12,
   "metadata": {},
   "outputs": [],
   "source": [
    "NUMBER_TORNADOS = 111 #Number of Tornado Events\n",
    "NUMBER_RANDOM = 110 #Number of Random Events\n",
    "NUMBER_DAYS = 14 #Number of days of data per Tornado/Event (Max: 57)\n",
    "FILE_NAME = \"all_data.csv\" #CSV file that contains the data"
   ]
  },
  {
   "cell_type": "markdown",
   "metadata": {},
   "source": [
    "## Loading Data"
   ]
  },
  {
   "cell_type": "code",
   "execution_count": 13,
   "metadata": {},
   "outputs": [],
   "source": [
    "\n",
    "#Field 0: 'datatime'\n",
    "#Field 1: 'temperature'\n",
    "#Field 2: 'windspeed'\n",
    "#Field 3: 'surface solar radiation' -Alvaro\n",
    "#Field 4: 'relative humidity' -Abdullah\n",
    "#Field 5: 'surface pressure' -Frazier\n",
    "#Field 6: 'total precipitation' -Simon\n",
    "#Field 7: 'city'\n",
    "#Field 8: 'event_id'\n",
    "#Field 9: 'latitude'\n",
    "#Field 10: 'longitude'\n",
    "#Field 11: 'outcome'\n",
    "\n",
    "data = pd.read_csv (FILE_NAME)\n",
    "df = data.drop(columns=['Unnamed: 0'])\n",
    "event_ids = set(df['event_id'].to_numpy())"
   ]
  },
  {
   "cell_type": "markdown",
   "metadata": {},
   "source": [
    "## Create Timeserie Fetaures"
   ]
  },
  {
   "cell_type": "code",
   "execution_count": 14,
   "metadata": {},
   "outputs": [],
   "source": [
    "# Determine slope of each weather attribute over time for each Tornado/Event\n",
    "temp_change = []\n",
    "wind_change = []\n",
    "rain_change = []\n",
    "radiation_change = []\n",
    "pressure_change = []\n",
    "humidity_change = []\n",
    "x = list(range(NUMBER_DAYS))\n",
    "\n",
    "for i in event_ids:\n",
    "    event = df.loc[df['event_id'] == i]\n",
    "    temp = event['temperature']\n",
    "    wind = event['wind_speed']\n",
    "    radiation = event['surface_solar_radiation']\n",
    "    humidity = event['relative_humidity']\n",
    "    pressure = event['surface_pressure']\n",
    "    rain = event['total_precipitation']\n",
    "\n",
    "    t_slope, intercept, r_value, p_value, std_err = stats.linregress(x, temp[-21:-7])\n",
    "    w_slope, intercept, r_value, p_value, std_err = stats.linregress(x, wind[-21:-7])\n",
    "    r_slope, intercept, r_value, p_value, std_err = stats.linregress(x, rain[-21:-7])\n",
    "    rd_slope, intercept, r_value, p_value, std_err = stats.linregress(x, radiation[-21:-7])\n",
    "    p_slope, intercept, r_value, p_value, std_err = stats.linregress(x, pressure[-21:-7])\n",
    "    h_slope, intercept, r_value, p_value, std_err = stats.linregress(x, humidity[-21:-7])\n",
    "\n",
    "    temp_change.append(t_slope)\n",
    "    wind_change.append(w_slope)\n",
    "    rain_change.append(r_slope)\n",
    "    radiation_change.append(rd_slope)\n",
    "    pressure_change.append(p_slope)\n",
    "    humidity_change.append(h_slope)\n"
   ]
  },
  {
   "cell_type": "markdown",
   "metadata": {},
   "source": [
    "## Dataframe with mean values of each Tornado/Event"
   ]
  },
  {
   "cell_type": "code",
   "execution_count": 16,
   "metadata": {},
   "outputs": [],
   "source": [
    "t1 = df.groupby('event_id').tail(NUMBER_DAYS+7)\n",
    "t2 = df.groupby('event_id').tail(7)\n",
    "cond = t1.index.isin(t2.index)\n",
    "t1.drop(t1[cond].index, inplace = True)\n",
    "averages = t1.groupby('event_id').mean()\n"
   ]
  },
  {
   "cell_type": "markdown",
   "metadata": {},
   "source": [
    "## Add Slope Features"
   ]
  },
  {
   "cell_type": "code",
   "execution_count": 17,
   "metadata": {},
   "outputs": [],
   "source": [
    "averages['t_slope'] = temp_change\n",
    "averages['w_slope'] = wind_change\n",
    "averages['r_slope'] = rain_change\n",
    "averages['rd_slope'] = radiation_change\n",
    "averages['p_slope'] = pressure_change\n",
    "averages['h_slope'] = humidity_change"
   ]
  },
  {
   "cell_type": "code",
   "execution_count": 18,
   "metadata": {},
   "outputs": [
    {
     "data": {
      "text/plain": [
       "pandas.core.frame.DataFrame"
      ]
     },
     "execution_count": 18,
     "metadata": {},
     "output_type": "execute_result"
    }
   ],
   "source": [
    "type(averages)"
   ]
  },
  {
   "cell_type": "markdown",
   "metadata": {},
   "source": [
    "## Model Prep"
   ]
  },
  {
   "cell_type": "code",
   "execution_count": 20,
   "metadata": {},
   "outputs": [],
   "source": [
    "X = averages[['temperature','wind_speed','surface_solar_radiation','relative_humidity', 'total_precipitation', 't_slope', 'w_slope', 'r_slope', 'rd_slope', 'p_slope', 'h_slope']]\n",
    "y = averages['outcome']\n",
    "x_train, x_test, y_train, y_test = train_test_split(X, y, test_size=0.05, random_state=0)"
   ]
  },
  {
   "cell_type": "markdown",
   "metadata": {},
   "source": [
    "## Train Model with Logistic Regression"
   ]
  },
  {
   "cell_type": "code",
   "execution_count": 21,
   "metadata": {},
   "outputs": [
    {
     "name": "stdout",
     "output_type": "stream",
     "text": [
      "Model Accuracy:  0.8387096774193549\n"
     ]
    }
   ],
   "source": [
    "logisticRegr = LogisticRegression(max_iter=10000)\n",
    "logisticRegr.fit(x_train, y_train)\n",
    "predictions = logisticRegr.predict(x_test)\n",
    "score = logisticRegr.score(x_test, y_test)\n",
    "print(\"Model Accuracy: \",score)"
   ]
  },
  {
   "cell_type": "code",
   "execution_count": 20,
   "metadata": {},
   "outputs": [
    {
     "name": "stdout",
     "output_type": "stream",
     "text": [
      "regression coefficients: \n",
      " [[-0.03495819 -0.35864962  0.01046594 -1.65658159  1.69566366 -0.28218309\n",
      "  -0.93126735  0.08048918 -0.01537305  0.00232122  0.08539507]]\n"
     ]
    }
   ],
   "source": [
    "print(\"regression coefficients: \\n\", logisticRegr.coef_)\n"
   ]
  },
  {
   "cell_type": "markdown",
   "metadata": {},
   "source": [
    "## Determine Individual Feature Strength"
   ]
  },
  {
   "cell_type": "code",
   "execution_count": 25,
   "metadata": {},
   "outputs": [
    {
     "name": "stdout",
     "output_type": "stream",
     "text": [
      "[0.87, 0.77, 0.9, 0.77, 0.77, 0.77, 0.77, 0.77, 0.77, 0.77, 0.77]\n"
     ]
    }
   ],
   "source": [
    "# Returns array with model accuracy based on individial feature\n",
    "scores = []\n",
    "for i in range(11):\n",
    "\n",
    "    logisticRegr = LogisticRegression()\n",
    "    logisticRegr.fit(x_train.to_numpy()[:,i].reshape(-1,1), y_train)\n",
    "    score = logisticRegr.score(x_test.to_numpy()[:,i].reshape(-1,1), y_test)\n",
    "    scores.append(round(score,2))\n",
    "print(scores)"
   ]
  },
  {
   "cell_type": "markdown",
   "metadata": {},
   "source": [
    "## Train Model with Naive Bayes"
   ]
  },
  {
   "cell_type": "code",
   "execution_count": 26,
   "metadata": {},
   "outputs": [
    {
     "name": "stdout",
     "output_type": "stream",
     "text": [
      "Model Accuracy:  0.8064516129032258\n"
     ]
    }
   ],
   "source": [
    "gnb = GaussianNB()\n",
    "gnb.fit(x_train, y_train)\n",
    "predictions = gnb.predict(x_test)\n",
    "score = gnb.score(x_test, y_test)\n",
    "print(\"Model Accuracy: \",score)"
   ]
  },
  {
   "cell_type": "markdown",
   "metadata": {},
   "source": [
    "## Testing"
   ]
  }
 ],
 "metadata": {
  "kernelspec": {
   "display_name": "Python 3",
   "language": "python",
   "name": "python3"
  },
  "language_info": {
   "codemirror_mode": {
    "name": "ipython",
    "version": 3
   },
   "file_extension": ".py",
   "mimetype": "text/x-python",
   "name": "python",
   "nbconvert_exporter": "python",
   "pygments_lexer": "ipython3",
   "version": "3.8.8"
  },
  "metadata": {
   "interpreter": {
    "hash": "f34782dca7896296409761b863e490f652f0d0cf99d3e83ed26734792b4da235"
   }
  }
 },
 "nbformat": 4,
 "nbformat_minor": 4
}
