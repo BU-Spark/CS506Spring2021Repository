{
 "cells": [
  {
   "cell_type": "code",
   "execution_count": null,
   "id": "solid-order",
   "metadata": {},
   "outputs": [],
   "source": [
    "import folium\n",
    "from folium.plugins import HeatMap\n",
    "import numpy as np\n",
    "import pandas as pd\n",
    "import os\n",
    "current_directory = os.getcwd()"
   ]
  },
  {
   "cell_type": "code",
   "execution_count": null,
   "id": "another-fetish",
   "metadata": {},
   "outputs": [],
   "source": [
    "location=[32.7003, -90.6783]\n",
    "weather_data = pd.read_csv('/Users/abdullaahrobins/Documents/GitHub/CS506Spring2021Repository/NaturalDisasterProject/Datasets/Tornado_Data_2010-2020.csv')\n",
    "# folium.Map(location=location, zoom_start=3)\n",
    "# heat_df = weather_data[['BEGIN_LAT', 'BEGIN_LON']]\n",
    "# heat_df = heat_df.dropna(axis=0, subset=['BEGIN_LAT','BEGIN_LON'])\n",
    "# HeatMap(data=weather_data.groupby(['BEGIN_LAT', 'BEGIN_LON']).mean().reset_index().values.tolist(), radius=8, max_zoom=4).add_to(base_map)\n",
    "# base_map.save('tornado_heat_map.html')"
   ]
  },
  {
   "cell_type": "code",
   "execution_count": null,
   "id": "geological-directory",
   "metadata": {},
   "outputs": [],
   "source": [
    "# info = weather_data.info()\n",
    "# state_occ = weather_data['STATE_ABBR'].value_counts()\n",
    "# df = weather_data['STATE_ABBR'].value_counts().rename_axis('states').reset_index(name='counts')"
   ]
  },
  {
   "cell_type": "code",
   "execution_count": null,
   "id": "developmental-lambda",
   "metadata": {},
   "outputs": [],
   "source": [
    "# url = (\n",
    "#     \"https://raw.githubusercontent.com/python-visualization/folium/master/examples/data\"\n",
    "# )\n",
    "# state_geo = f\"{url}/us-states.json\"\n",
    "\n",
    "# m = folium.Map(location=location, zoom_start=3)\n",
    "\n",
    "# folium.Choropleth(\n",
    "#     geo_data=state_geo,\n",
    "#     name=\"choropleth\",\n",
    "#     data=df,\n",
    "#     columns=[\"states\", \"counts\"],\n",
    "#     key_on=\"feature.id\",\n",
    "#     fill_color=\"YlGn\",\n",
    "#     fill_opacity=0.7,\n",
    "#     line_opacity=0.2,\n",
    "#     legend_name=\"Tornado Occurrances\",\n",
    "# ).add_to(m)\n",
    "\n",
    "# folium.LayerControl().add_to(m)"
   ]
  },
  {
   "cell_type": "code",
   "execution_count": null,
   "id": "crude-softball",
   "metadata": {},
   "outputs": [],
   "source": [
    "# heat_data = [[row['BEGIN_LAT'],row['BEGIN_LON']] for index, row in heat_df.iterrows()]\n",
    "# HeatMap(heat_data).add_to(base_map)"
   ]
  },
  {
   "cell_type": "code",
   "execution_count": null,
   "id": "animal-overall",
   "metadata": {},
   "outputs": [],
   "source": [
    "# base_map.save('heatmap_weather.html')\n",
    "# base_map.save('choropleth_weather.html')"
   ]
  },
  {
   "cell_type": "code",
   "execution_count": null,
   "id": "unique-panel",
   "metadata": {},
   "outputs": [],
   "source": [
    "weather_data['BEGIN_DATE'] = pd.to_datetime(weather_data['BEGIN_DATE'])"
   ]
  },
  {
   "cell_type": "code",
   "execution_count": null,
   "id": "purple-permit",
   "metadata": {},
   "outputs": [],
   "source": [
    "import requests\n",
    "from datetime import timedelta\n",
    "import json\n",
    "'''\n",
    "Formatting:\n",
    "'start': '2010-01-01',\n",
    "'end': '2018-12-31',\n",
    "'''\n",
    "c = 0\n",
    "frames = []\n",
    "for index, row in weather_data.iterrows():\n",
    "    c+=1\n",
    "    if c>50:\n",
    "        break\n",
    "    end_date = row.BEGIN_DATE\n",
    "    begin_date = end_date - timedelta(weeks=8)\n",
    "    lat = row.BEGIN_LAT\n",
    "    lon = row.BEGIN_LON\n",
    "    r = requests.get('https://api.oikolab.com/weather',\n",
    "                     params={'param': ['temperature', 'wind_speed', 'surface_solar_radiation', 'relative_humidity', 'surface_pressure', 'total_precipitation'],\n",
    "                             'start': begin_date,\n",
    "                             'end': end_date,\n",
    "                             'freq': 'D',\n",
    "                             'lat': lat,\n",
    "                             'lon': lon,\n",
    "                             'api-key': 'b03998e660494c2e8165d41369c13248'}\n",
    "                     )\n",
    "    w_data = json.loads(r.json()['data'])\n",
    "    history_df = pd.DataFrame(index=pd.to_datetime(w_data['index'], \n",
    "                                       unit='s'),\n",
    "                  data=w_data['data'],\n",
    "                  columns=w_data['columns'])\n",
    "    history_df['latitude'] = lat\n",
    "    history_df['longitude'] = lon\n",
    "    frames.append(history_df)\n",
    "result = pd.concat(frames)\n",
    "result.index.name = 'datetime'\n",
    "result.to_csv(\"historical_data.csv\", encoding='utf-8', index=False)"
   ]
  },
  {
   "cell_type": "code",
   "execution_count": null,
   "id": "liquid-contrast",
   "metadata": {},
   "outputs": [],
   "source": [
    "import requests\n",
    "from datetime import timedelta\n",
    "import json\n",
    "from itertools import islice\n",
    "\n",
    "'''\n",
    "Formatting:\n",
    "'start': '2010-01-01',\n",
    "'end': '2018-12-31',\n",
    "'''\n",
    "c = 0\n",
    "frames = []\n",
    "for index, row in islice(weather_data.iterrows(),51,None):\n",
    "    end_date = row.BEGIN_DATE\n",
    "    begin_date = end_date - timedelta(weeks=8)\n",
    "    lat = row.BEGIN_LAT\n",
    "    lon = row.BEGIN_LON\n",
    "    r = requests.get('https://api.oikolab.com/weather',\n",
    "                     params={'param': ['temperature', 'wind_speed', 'surface_solar_radiation', 'relative_humidity', 'surface_pressure', 'total_precipitation'],\n",
    "                             'start': begin_date,\n",
    "                             'end': end_date,\n",
    "                             'freq': 'D',\n",
    "                             'lat': lat,\n",
    "                             'lon': lon,\n",
    "                             'api-key': 'b03998e660494c2e8165d41369c13248'}\n",
    "                     )\n",
    "    w_data = json.loads(r.json()['data'])\n",
    "    history_df = pd.DataFrame(index=pd.to_datetime(w_data['index'], \n",
    "                                       unit='s'),\n",
    "                  data=w_data['data'],\n",
    "                  columns=w_data['columns'])\n",
    "    history_df['latitude'] = lat\n",
    "    history_df['longitude'] = lon\n",
    "    frames.append(history_df)\n",
    "result2 = pd.concat(frames)\n",
    "result2.index.name = 'datetime'\n",
    "result2.to_csv(\"historical_data2.csv\", encoding='utf-8')"
   ]
  },
  {
   "cell_type": "code",
   "execution_count": null,
   "id": "composed-fifteen",
   "metadata": {},
   "outputs": [],
   "source": [
    "result_fin = pd.concat([result,result2])\n",
    "result_fin.to_csv(\"historical_data_fin.csv\", encoding='utf-8')\n"
   ]
  }
 ],
 "metadata": {
  "kernelspec": {
   "display_name": "Python 3",
   "language": "python",
   "name": "python3"
  },
  "language_info": {
   "codemirror_mode": {
    "name": "ipython",
    "version": 3
   },
   "file_extension": ".py",
   "mimetype": "text/x-python",
   "name": "python",
   "nbconvert_exporter": "python",
   "pygments_lexer": "ipython3",
   "version": "3.7.9"
  }
 },
 "nbformat": 4,
 "nbformat_minor": 5
}
