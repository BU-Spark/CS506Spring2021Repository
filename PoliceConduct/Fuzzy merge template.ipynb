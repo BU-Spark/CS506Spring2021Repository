{
 "cells": [
  {
   "cell_type": "code",
   "execution_count": 3,
   "metadata": {},
   "outputs": [
    {
     "name": "stderr",
     "output_type": "stream",
     "text": [
      "/opt/anaconda3/lib/python3.7/site-packages/dask/dataframe/utils.py:14: FutureWarning: pandas.util.testing is deprecated. Use the functions in the public API at pandas.testing instead.\n",
      "  import pandas.util.testing as tm\n"
     ]
    }
   ],
   "source": [
    "import pandas as pd\n",
    "import numpy as np\n",
    "import dask.dataframe as dd\n",
    "from fuzzywuzzy import fuzz \n"
   ]
  },
  {
   "cell_type": "code",
   "execution_count": null,
   "metadata": {},
   "outputs": [],
   "source": [
    "# Install Dask as a library using the following code:\n",
    "import sys\n",
    "!{sys.executable} -m pip install \"dask[complete]\"\n",
    "\n",
    "# Dask is an additional library for Pandas that parrellizes the memory when handling dataframes, this greatly \n",
    "# speeds up the merging and other data processing."
   ]
  },
  {
   "cell_type": "code",
   "execution_count": null,
   "metadata": {},
   "outputs": [],
   "source": [
    "# String similarity between the two fields\n",
    "def FuzzySimilarity(row):\n",
    "    address_1 = row['address_1_col']\n",
    "    address_2 = row['address_2_col']\n",
    "    fuzzy_ratio = fuzz.ratio(address_1,address_2)\n",
    "    return fuzzy_ratio"
   ]
  },
  {
   "cell_type": "code",
   "execution_count": null,
   "metadata": {},
   "outputs": [],
   "source": [
    "# Create a new column called lastName character that has the first letter of the last name as its seperate column"
   ]
  },
  {
   "cell_type": "code",
   "execution_count": null,
   "metadata": {},
   "outputs": [],
   "source": [
    "# This program will merge thr two dataframes using their lastName characters then apply a string similarity score\n",
    "# for each row then we'll filter the string similarity value to create the final dataframe with name matches.\n",
    "\n",
    "unique_names = list(df['lastName character'].unique())\n",
    "\n",
    "for name in unique_names:\n",
    "    df1_sub_zip = df1[df1['lastName character'] == name]\n",
    "    df2_sub_zip = df2[df2['lastName character'] == name]\n",
    "\n",
    "    df_merge = dd.merge(df1_sub_zip, df2_sub_zip, how='left', left_on='df1_zip_col', right_on='df2_zip_col')\n",
    "    \n",
    "    df_merge['Fuzzy Similarity'] = df_merge.apply(lambda row: FuzzySimilarity(row), axis=1)\n",
    "    \n",
    "    # You can adjust this number for a more selective fuzzy similarity merge\n",
    "    Fuzzy_Filter = df_merge[df_merge['Fuzzy Similarity'] > 85]\n",
    "    \n",
    "    title = \"Merge_df_name_\" + name + \".csv\"\n",
    "        #with ExcelWriter(title) as writer:\n",
    "    df_merge.to_csv(title, encoding = \"utf-8\")\n",
    "    \n",
    "\n",
    "# We write each lastName character to a CSV, this will then all be m    "
   ]
  },
  {
   "cell_type": "code",
   "execution_count": null,
   "metadata": {},
   "outputs": [],
   "source": [
    "# This will create the list\n",
    "List_of_csv_titles = []\n",
    "for name in unique_names:\n",
    "    title = \"Merge_df_name_\" + name + \".csv\"\n",
    "    List_of_csv_titles.append(title)\n",
    "print(List_of_csv_titles)\n"
   ]
  },
  {
   "cell_type": "code",
   "execution_count": null,
   "metadata": {},
   "outputs": [],
   "source": [
    "# Merging all the batches\n",
    "\n",
    "df_merge_final = pd.DataFrame()\n",
    "for files in List_of_csv_titles:\n",
    "    data = pd.read_excel(files)\n",
    "    df_merge_final = df_merge_final.append(data)\n",
    "df_merge_final"
   ]
  }
 ],
 "metadata": {
  "kernelspec": {
   "display_name": "Python 3",
   "language": "python",
   "name": "python3"
  },
  "language_info": {
   "codemirror_mode": {
    "name": "ipython",
    "version": 3
   },
   "file_extension": ".py",
   "mimetype": "text/x-python",
   "name": "python",
   "nbconvert_exporter": "python",
   "pygments_lexer": "ipython3",
   "version": "3.7.4"
  }
 },
 "nbformat": 4,
 "nbformat_minor": 2
}
