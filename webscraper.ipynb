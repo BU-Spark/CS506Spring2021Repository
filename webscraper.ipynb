{
 "metadata": {
  "language_info": {
   "codemirror_mode": {
    "name": "ipython",
    "version": 3
   },
   "file_extension": ".py",
   "mimetype": "text/x-python",
   "name": "python",
   "nbconvert_exporter": "python",
   "pygments_lexer": "ipython3",
   "version": "3.8.3-final"
  },
  "orig_nbformat": 2,
  "kernelspec": {
   "name": "python3",
   "display_name": "Python 3.8.3 64-bit ('anaconda3': virtualenv)",
   "metadata": {
    "interpreter": {
     "hash": "76ed1d0b8eae510739d08a60d2f0e42d7952e8200e15655b417cfa21bc070d9a"
    }
   }
  }
 },
 "nbformat": 4,
 "nbformat_minor": 2,
 "cells": [
  {
   "source": [
    "Run the following commands in the terminal\n",
    "- ``` pip install selenium ```\n",
    "- ``` pip install webdriver-manager ```"
   ],
   "cell_type": "markdown",
   "metadata": {}
  },
  {
   "cell_type": "code",
   "execution_count": 5,
   "metadata": {},
   "outputs": [],
   "source": [
    "import csv\n",
    "from selenium import webdriver\n",
    "from webdriver_manager.chrome import ChromeDriverManager"
   ]
  },
  {
   "cell_type": "code",
   "execution_count": 9,
   "metadata": {},
   "outputs": [
    {
     "output_type": "stream",
     "name": "stderr",
     "text": [
      "[WDM] - ====== WebDriver manager ======\n",
      "[WDM] - Current google-chrome version is 88.0.4324\n",
      "[WDM] - Get LATEST driver version for 88.0.4324\n",
      "\n",
      "\n",
      "[WDM] - Driver [/Users/rachelpeng/.wdm/drivers/chromedriver/mac64/88.0.4324.96/chromedriver] found in cache\n"
     ]
    }
   ],
   "source": [
    "url = \"https://apps.bostonglobe.com/graphics/2020/law-enforcement/index.html?initialWidth=962&childId=police-embed&parentTitle=Database%3A%20Search%2010%20years%27%20worth%20of%20Boston%20Police%20Department%20disciplinary%20action&parentUrl=https%3A%2F%2Fwww.bostonglobe.com%2F2020%2F11%2F24%2Fmetro%2Fheres-searchable-database-boston-police-department-internal-investigations-disciplinary-actions-more%2F#detail\"\n",
    "\n",
    "driver = webdriver.Chrome(ChromeDriverManager().install())\n",
    "driver.get(url)\n",
    "\n",
    "link = driver.find_element_by_class_name(\"tab-detail\")\n",
    "link.click()\n",
    "\n",
    "data = []\n",
    "stop = False\n",
    "while not stop:\n",
    "    name = driver.find_element_by_class_name(\"detail-name\").text\n",
    "    rank = driver.find_element_by_class_name(\"detail-rank\").text\n",
    "    race = driver.find_element_by_class_name(\"detail-race\").text\n",
    "\n",
    "    rows = driver.find_elements_by_xpath(\"//table/tbody/tr\")\n",
    "    for row in rows:\n",
    "        year = row.find_elements_by_tag_name(\"td\")[0].text\n",
    "        caseID = row.find_elements_by_tag_name(\"td\")[1].text\n",
    "        typeMisconduct = row.find_elements_by_tag_name(\"td\")[2].text\n",
    "        allegation = row.find_element_by_tag_name(\"td\")[4].text\n",
    "        finding = row.find_element_by_tag_name(\"td\")[5].text\n",
    "        outcome = row.find_elements_by_tag_name(\"td\")[6].text\n",
    "\n",
    "        data.append([name, rank, race, year, caseID, typeMisconduct, allegation, finding, outcome])\n",
    "\n",
    "    if name == \"Peter A Zographos\":\n",
    "        stop = True \n",
    "    else:\n",
    "        button = driver.find_element_by_id(\"next-officer-button\")\n",
    "        button.click()"
   ]
  },
  {
   "cell_type": "code",
   "execution_count": 7,
   "metadata": {},
   "outputs": [
    {
     "output_type": "stream",
     "name": "stdout",
     "text": [
      "[]\n"
     ]
    }
   ],
   "source": [
    "print(data)"
   ]
  },
  {
   "cell_type": "code",
   "execution_count": 8,
   "metadata": {},
   "outputs": [],
   "source": [
    "filename = \"BostonPoliceInternalAffairs.csv\"\n",
    "fields = ['Name', 'Rank', 'Race', 'Year', 'CaseID', 'TypeOfMisconduct', 'Allegation', 'Finding', 'Outcome']\n",
    "\n",
    "with open(filename, 'w') as csvfile:\n",
    "    writer = csv.writer(csvfile)\n",
    "    writer.writerow(fields)\n",
    "    writer.writerows(data)"
   ]
  },
  {
   "cell_type": "code",
   "execution_count": null,
   "metadata": {},
   "outputs": [],
   "source": []
  }
 ]
}