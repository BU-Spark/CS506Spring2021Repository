{
 "cells": [
  {
   "cell_type": "markdown",
   "metadata": {},
   "source": [
    "# Flake Detection for TestGrid \n",
    "\n",
    "\n",
    "In the continuous integration (CI) project workflow, developers frequently integrate code into a shared repository. Each integration can then be verified by an automated build and tests. Whenever a failure occurs in a test, developers need to manually analyze failures. Failures in the build can be legitimate or due to some other issues like an infrastructure flake, install flake, flaky test, or some other type of failure. SME's can analyze the TestGrid data manually and determine if failures appear to be legitimate or not. However, it takes a lot of human effort and reduces the productivity of a team. In this notebook we will try to reliably detect one of these failure types: Flaky test. \n",
    "\n",
    "## What is a flaky test?\n",
    "\n",
    "A flaky test is one that passes or fails in a nondeterministic way. [See this paper for more details](http://mir.cs.illinois.edu/~eloussi2/publications/fse14.pdf). \n",
    "\n",
    "In data science terms, if a test passes and fails in an apparently random sequence then it is likely to be a flake. Tests can also be considered flaky if they pass and fail in a non-random but inconsistent pattern. Therefore, our goal here is to develop a technique for finding apparently random or inconsistent pass/fail sequences, which we can then apply to the TestGrid dataset.       \n"
   ]
  },
  {
   "cell_type": "code",
   "execution_count": 1,
   "metadata": {
    "ExecuteTime": {
     "end_time": "2020-11-24T03:30:13.501268Z",
     "start_time": "2020-11-24T03:30:02.813343Z"
    }
   },
   "outputs": [
    {
     "name": "stderr",
     "output_type": "stream",
     "text": [
      "/home/mcliffor/anaconda3/lib/python3.7/site-packages/statsmodels/tools/_testing.py:19: FutureWarning: pandas.util.testing is deprecated. Use the functions in the public API at pandas.testing instead.\n",
      "  import pandas.util.testing as tm\n"
     ]
    }
   ],
   "source": [
    "import requests\n",
    "import pandas as pd\n",
    "import numpy as np\n",
    "\n",
    "import matplotlib.pyplot as plt\n",
    "from matplotlib import colors\n",
    "import seaborn as sns\n",
    "import warnings\n",
    "\n",
    "import gzip\n",
    "import json\n",
    "\n",
    "%matplotlib inline\n",
    "sns.set()\n",
    "warnings.filterwarnings(\"ignore\")"
   ]
  },
  {
   "cell_type": "markdown",
   "metadata": {},
   "source": [
    "## Data Access\n",
    "\n",
    "_In depth details for data access and preprocessing can be found in the [testgrid_EDA notebook](../../data-sources/TestGrid/testgrid_EDA.ipynb)._ \n",
    "\n",
    "Here we provide two data access methods: download the latest or use example data. If you would like to download the most recent data for a specific grid, then please set `download_data` to `True` on line #2 below and update `dashboard_name` and `job_name` appropriately. Be warned, the output and results will likely change if the most recent data is used instead of the fixed example data.   \n",
    "\n",
    "Otherwise, we will use the repo's example dataset `data/raw/testgrid_810.json.gz`\n",
    "\n",
    "Regardless of the method used, we will be looking at \"redhat-openshift-ocp-release-4.6-informing/periodic-ci-openshift-release-master-ocp-4.6-e2e-aws-proxy\" as our example throughout. \n"
   ]
  },
  {
   "cell_type": "code",
   "execution_count": 2,
   "metadata": {
    "ExecuteTime": {
     "end_time": "2020-11-24T04:22:25.327771Z",
     "start_time": "2020-11-24T04:22:21.490755Z"
    }
   },
   "outputs": [
    {
     "data": {
      "text/html": [
       "<div>\n",
       "<style scoped>\n",
       "    .dataframe tbody tr th:only-of-type {\n",
       "        vertical-align: middle;\n",
       "    }\n",
       "\n",
       "    .dataframe tbody tr th {\n",
       "        vertical-align: top;\n",
       "    }\n",
       "\n",
       "    .dataframe thead th {\n",
       "        text-align: right;\n",
       "    }\n",
       "</style>\n",
       "<table border=\"1\" class=\"dataframe\">\n",
       "  <thead>\n",
       "    <tr style=\"text-align: right;\">\n",
       "      <th></th>\n",
       "      <th>name</th>\n",
       "      <th>statuses</th>\n",
       "    </tr>\n",
       "  </thead>\n",
       "  <tbody>\n",
       "    <tr>\n",
       "      <th>0</th>\n",
       "      <td>Overall</td>\n",
       "      <td>[{'count': 21, 'value': 12}, {'count': 1, 'val...</td>\n",
       "    </tr>\n",
       "    <tr>\n",
       "      <th>1</th>\n",
       "      <td>operator.Run multi-stage test e2e-aws-proxy - ...</td>\n",
       "      <td>[{'count': 9, 'value': 12}, {'count': 1, 'valu...</td>\n",
       "    </tr>\n",
       "    <tr>\n",
       "      <th>2</th>\n",
       "      <td>operator.Run multi-stage test e2e-aws-proxy - ...</td>\n",
       "      <td>[{'count': 9, 'value': 12}, {'count': 1, 'valu...</td>\n",
       "    </tr>\n",
       "    <tr>\n",
       "      <th>3</th>\n",
       "      <td>operator.Run multi-stage test e2e-aws-proxy - ...</td>\n",
       "      <td>[{'count': 9, 'value': 12}, {'count': 1, 'valu...</td>\n",
       "    </tr>\n",
       "    <tr>\n",
       "      <th>4</th>\n",
       "      <td>operator.Run multi-stage test e2e-aws-proxy - ...</td>\n",
       "      <td>[{'count': 9, 'value': 12}, {'count': 1, 'valu...</td>\n",
       "    </tr>\n",
       "    <tr>\n",
       "      <th>5</th>\n",
       "      <td>operator.Run multi-stage test e2e-aws-proxy - ...</td>\n",
       "      <td>[{'count': 9, 'value': 1}, {'count': 1, 'value...</td>\n",
       "    </tr>\n",
       "    <tr>\n",
       "      <th>6</th>\n",
       "      <td>[sig-api-machinery][Feature:APIServer][Late] k...</td>\n",
       "      <td>[{'count': 20, 'value': 0}, {'count': 1, 'valu...</td>\n",
       "    </tr>\n",
       "    <tr>\n",
       "      <th>7</th>\n",
       "      <td>[sig-auth][Feature:SCC][Early] should not have...</td>\n",
       "      <td>[{'count': 20, 'value': 0}, {'count': 1, 'valu...</td>\n",
       "    </tr>\n",
       "    <tr>\n",
       "      <th>8</th>\n",
       "      <td>[sig-arch] Monitor cluster while tests execute</td>\n",
       "      <td>[{'count': 20, 'value': 0}, {'count': 20, 'val...</td>\n",
       "    </tr>\n",
       "    <tr>\n",
       "      <th>9</th>\n",
       "      <td>[sig-node] pods should never transition back t...</td>\n",
       "      <td>[{'count': 20, 'value': 0}, {'count': 18, 'val...</td>\n",
       "    </tr>\n",
       "  </tbody>\n",
       "</table>\n",
       "</div>"
      ],
      "text/plain": [
       "                                                name  \\\n",
       "0                                            Overall   \n",
       "1  operator.Run multi-stage test e2e-aws-proxy - ...   \n",
       "2  operator.Run multi-stage test e2e-aws-proxy - ...   \n",
       "3  operator.Run multi-stage test e2e-aws-proxy - ...   \n",
       "4  operator.Run multi-stage test e2e-aws-proxy - ...   \n",
       "5  operator.Run multi-stage test e2e-aws-proxy - ...   \n",
       "6  [sig-api-machinery][Feature:APIServer][Late] k...   \n",
       "7  [sig-auth][Feature:SCC][Early] should not have...   \n",
       "8     [sig-arch] Monitor cluster while tests execute   \n",
       "9  [sig-node] pods should never transition back t...   \n",
       "\n",
       "                                            statuses  \n",
       "0  [{'count': 21, 'value': 12}, {'count': 1, 'val...  \n",
       "1  [{'count': 9, 'value': 12}, {'count': 1, 'valu...  \n",
       "2  [{'count': 9, 'value': 12}, {'count': 1, 'valu...  \n",
       "3  [{'count': 9, 'value': 12}, {'count': 1, 'valu...  \n",
       "4  [{'count': 9, 'value': 12}, {'count': 1, 'valu...  \n",
       "5  [{'count': 9, 'value': 1}, {'count': 1, 'value...  \n",
       "6  [{'count': 20, 'value': 0}, {'count': 1, 'valu...  \n",
       "7  [{'count': 20, 'value': 0}, {'count': 1, 'valu...  \n",
       "8  [{'count': 20, 'value': 0}, {'count': 20, 'val...  \n",
       "9  [{'count': 20, 'value': 0}, {'count': 18, 'val...  "
      ]
     },
     "execution_count": 2,
     "metadata": {},
     "output_type": "execute_result"
    }
   ],
   "source": [
    "## Do you want to use download data or stored data?\n",
    "download_data = False\n",
    "\n",
    "dashboard_name = \"redhat-openshift-ocp-release-4.6-informing\"\n",
    "job_name = \"periodic-ci-openshift-release-master-ocp-4.6-e2e-aws-proxy\"\n",
    "\n",
    "if download_data:\n",
    "    payload = {\"show-stale-tests\": job_name, \"tab\": job_name}\n",
    "    response = requests.get(\n",
    "        \"https://testgrid.k8s.io/\" + dashboard_name + \"/table\", params=payload\n",
    "    )\n",
    "    details = pd.DataFrame(response.json()[\"tests\"]).drop(\n",
    "        [\n",
    "            \"linked_bugs\",\n",
    "            \"messages\",\n",
    "            \"user_property\",\n",
    "            \"target\",\n",
    "            \"original-name\",\n",
    "        ],\n",
    "        axis=1,\n",
    "    )\n",
    "else:\n",
    "    with gzip.open(\n",
    "        \"../../../data/raw/testgrid_810.json.gz\", \"rb\"\n",
    "    ) as read_file:\n",
    "        data = json.load(read_file)\n",
    "    details = data['\"' + dashboard_name + '\"'][job_name][\"grid\"]\n",
    "    details = pd.DataFrame(details)\n",
    "\n",
    "details.head(10)"
   ]
  },
  {
   "cell_type": "markdown",
   "metadata": {},
   "source": [
    "From the column \"statuses\" above we can see that the time series data is run length encoded. Let's add a decoded column so we can get the data in an easier to use array format."
   ]
  },
  {
   "cell_type": "code",
   "execution_count": 3,
   "metadata": {
    "ExecuteTime": {
     "end_time": "2020-11-24T04:22:31.912919Z",
     "start_time": "2020-11-24T04:22:31.885300Z"
    }
   },
   "outputs": [],
   "source": [
    "def decode_run_length(x):\n",
    "    lst = []\n",
    "    for run_length in x:\n",
    "        extension = [run_length[\"value\"]] * run_length[\"count\"]\n",
    "        lst.extend(extension)\n",
    "    return lst\n",
    "\n",
    "\n",
    "details[\"values\"] = details[\"statuses\"].apply(decode_run_length)"
   ]
  },
  {
   "cell_type": "markdown",
   "metadata": {},
   "source": [
    "Column \"short_texts\" is the existing labels of the flaky test. There are some missing entries for this column corresponding to 'not_run' test cases. Let's add that. "
   ]
  },
  {
   "cell_type": "code",
   "execution_count": 4,
   "metadata": {
    "ExecuteTime": {
     "end_time": "2020-11-24T04:22:34.622519Z",
     "start_time": "2020-11-24T04:22:34.568436Z"
    }
   },
   "outputs": [],
   "source": [
    "def label_arr(val_array, text_array):\n",
    "    iter_text = iter(text_array)\n",
    "    return list(map(lambda x: next(iter_text) if x else \"\", val_array))"
   ]
  },
  {
   "cell_type": "markdown",
   "metadata": {},
   "source": [
    "TestGrids are made of a set of tests that either pass or fail over time. They are multidimensional time series where the values can take either 0 (not run), 1 (pass), 12 (fail), or 13(flaky). \n",
    "\n",
    "Now that we have all our data unrolled, lets plot it. We will use green for pass (1), red for fail (12), white for not run (0) and purple for flaky (13). We will also just plot the first 40 rows to save some space."
   ]
  },
  {
   "cell_type": "code",
   "execution_count": 5,
   "metadata": {},
   "outputs": [
    {
     "data": {
      "image/png": "[encoded data removed]",
      "text/plain": [
       "<Figure size 1440x720 with 1 Axes>"
      ]
     },
     "metadata": {
      "needs_background": "light"
     },
     "output_type": "display_data"
    }
   ],
   "source": [
    "plt.figure(figsize=(20, 10))\n",
    "cmap = colors.ListedColormap([\"white\", \"green\", \"red\", \"purple\"])\n",
    "norm = colors.BoundaryNorm(boundaries=[0, 1, 12, 13], ncolors=3)\n",
    "sns.heatmap(\n",
    "    np.array(list(details[\"values\"].values))[:40],\n",
    "    fmt=\"\",\n",
    "    cmap=cmap,\n",
    "    norm=norm,\n",
    "    cbar=False,\n",
    "    linewidths=0.1,\n",
    "    linecolor=\"Black\",\n",
    ")\n",
    "plt.ylabel(\"Tests\")\n",
    "plt.xlabel(\"Days\")\n",
    "plt.title(\n",
    "    \"Redhat-openshift-ocp-release-4.6-informing/periodic-ci-\\\n",
    "openshift-release-master-ocp-4.6-e2e-aws-proxy\\n\",\n",
    "    fontsize=20,\n",
    ")\n",
    "plt.show()"
   ]
  },
  {
   "cell_type": "markdown",
   "metadata": {
    "ExecuteTime": {
     "end_time": "2020-11-16T16:42:31.790008Z",
     "start_time": "2020-11-16T16:42:31.786912Z"
    }
   },
   "source": [
    "Cells with Purple color in the above graph are the existing flake labels defined by the build process. Currently, each failed test is retried, and if it passes on a subsequent run it is considered to be flaky.\n",
    "\n",
    "We can see from the grid above that there is a large chunk of flakes between test 7 and 15, but there is also a fair amount of irregular pass/failure patterns on the grid that are not being flagged. Let's see if we can create a method to better capture these flakes. "
   ]
  },
  {
   "cell_type": "markdown",
   "metadata": {
    "ExecuteTime": {
     "end_time": "2020-11-06T14:48:18.171340Z",
     "start_time": "2020-11-06T14:48:18.169258Z"
    }
   },
   "source": [
    "## Flaky test detection\n",
    "\n",
    "In the following section, we will explore different methods to detect flaky tests. "
   ]
  },
  {
   "cell_type": "markdown",
   "metadata": {
    "ExecuteTime": {
     "end_time": "2020-11-06T14:49:12.344626Z",
     "start_time": "2020-11-06T14:49:12.342633Z"
    }
   },
   "source": [
    "## Naive flakiness method\n",
    "\n",
    "This method calculates flakiness as a ratio of failed or flaky tests to total tests. The idea being that a score of 50 would mean a 50/50 (random) chance of a pass or fail occurring, indicating a flaky test. The major drawback of this method is that it evaluates the time series as a whole and can't account for specific pass/fail patterns or sub-sequences. If the first half of a series are all pass and the second half are all fail, we would not consider that to be a flake, despite this method flagging it as such.\n",
    "\n",
    "This is all to say, this is our naive baseline we can use to ensure our later methods are performing well.  "
   ]
  },
  {
   "cell_type": "code",
   "execution_count": 6,
   "metadata": {
    "ExecuteTime": {
     "end_time": "2020-11-19T20:16:37.274191Z",
     "start_time": "2020-11-19T20:16:37.271422Z"
    }
   },
   "outputs": [],
   "source": [
    "def naive_flake_calc(test_row):\n",
    "    return (\n",
    "        100\n",
    "        * np.logical_or(\n",
    "            np.array(test_row) == 12, np.array(test_row) == 13\n",
    "        ).sum()\n",
    "        / len(test_row)\n",
    "    )"
   ]
  },
  {
   "cell_type": "code",
   "execution_count": 7,
   "metadata": {
    "ExecuteTime": {
     "end_time": "2020-11-19T20:16:45.999136Z",
     "start_time": "2020-11-19T20:16:45.994511Z"
    }
   },
   "outputs": [
    {
     "data": {
      "image/png": "[encoded data removed]",
      "text/plain": [
       "<Figure size 1440x360 with 1 Axes>"
      ]
     },
     "metadata": {
      "needs_background": "light"
     },
     "output_type": "display_data"
    },
    {
     "name": "stdout",
     "output_type": "stream",
     "text": [
      "Naive Flake Score 45.833333333333336\n"
     ]
    }
   ],
   "source": [
    "test_array = [1] * 6 + [12] * 11 + [1] * 7\n",
    "plt.figure(figsize=(20, 5))\n",
    "plt.plot(test_array)\n",
    "plt.title(\"Consecutive Failures\", fontsize=20)\n",
    "plt.xlabel(\"time\")\n",
    "plt.show()\n",
    "print(f\"Naive Flake Score {naive_flake_calc(test_array)}\")"
   ]
  },
  {
   "cell_type": "markdown",
   "metadata": {},
   "source": [
    "In the above cell, we have shown a drawback of the naive flakiness method. As we can see, we have a test array that consist of consecutive test failures, which is not an attribute of a flaky test. However, we got a very high flakiness score."
   ]
  },
  {
   "cell_type": "markdown",
   "metadata": {},
   "source": [
    "##  Flip flakiness method\n",
    "\n",
    "As we discussed earlier, flaky tests pass and fail across multiple runs over a certain period of time. We can characterize this behavior by using the concept of an _edge_. Here we will define an edge as the transition of a particular test case from pass to fail (or fail to pass). Let's look at a couple examples below to illustrate the idea further. "
   ]
  },
  {
   "cell_type": "code",
   "execution_count": 8,
   "metadata": {
    "ExecuteTime": {
     "end_time": "2020-11-19T20:16:47.304213Z",
     "start_time": "2020-11-19T20:16:47.099005Z"
    }
   },
   "outputs": [
    {
     "data": {
      "image/png": "[encoded data removed]",
      "text/plain": [
       "<Figure size 1440x720 with 2 Axes>"
      ]
     },
     "metadata": {
      "needs_background": "light"
     },
     "output_type": "display_data"
    }
   ],
   "source": [
    "plt.figure(\n",
    "    figsize=(20, 10)\n",
    ")  # instantiating figure to be 5\"x5\", 100 dpi resolution\n",
    "\n",
    "\n",
    "test_array = [1] * 6 + [12] * 11 + [1] * 7\n",
    "x = np.arange(len(test_array))\n",
    "plt.subplot(2, 1, 1, aspect=0.3)\n",
    "plt.step(x, test_array)\n",
    "plt.title(\"Single edge and multiple fails\", fontsize=20)\n",
    "\n",
    "plt.subplot(2, 1, 2, aspect=0.3)\n",
    "test_array_1 = [1] * 5 + [1, 12] * 8 + [1] * 3\n",
    "plt.step(x, test_array_1)\n",
    "plt.title(\"multiple edges and multiple fails\", fontsize=20)\n",
    "\n",
    "\n",
    "plt.show()"
   ]
  },
  {
   "cell_type": "markdown",
   "metadata": {},
   "source": [
    "In the images above, we have shown example results for 25  test runs. In the first image we can see there are multiple fails but only a single edge. In the second image, we have fewer fails but many more edges. Therefore, the second test exhibits a more erratic behavior pattern, and one we would associate more with a flaky test. \n",
    "\n",
    "We calculated the flakiness score as the number of edges divided by total runs. The most common approach to detect flaky test is to run flaky test multiple times and if it's passes in any run then it is not considered to be a flaky test ([please see paper for details](http://mir.cs.illinois.edu/~eloussi2/publications/fse14.pdf)). At Google, for example, if a test fails three times in a row, only then is it reported as a real failure; otherwise, it's considered a flake [please see blog for details](https://testing.googleblog.com/2016/05/flaky-tests-at-google-and-how-we.html). We will follow suite and also ignore three or more consecutive failures when calculating a flakiness score.\n",
    "\n",
    "For the flip flakiness method below the possible scores will lie between 0 and 50; where 0 is no flakiness and 50 is maximum flakiness. "
   ]
  },
  {
   "cell_type": "code",
   "execution_count": 9,
   "metadata": {
    "ExecuteTime": {
     "end_time": "2020-11-19T20:16:49.335634Z",
     "start_time": "2020-11-19T20:16:49.326743Z"
    }
   },
   "outputs": [],
   "source": [
    "def calc_consecutive_failures(test_row, i):\n",
    "    \"\"\"This function calculates number of consecutive failures\n",
    "\n",
    "    Parameters\n",
    "    ----------\n",
    "    test_row : array\n",
    "            array of test runs with 0, 1, 12 values as not run, pass, fail respectively\n",
    "    i : float, int\n",
    "            index in array i\n",
    "\n",
    "    Returns\n",
    "    ----------\n",
    "    result: int\n",
    "            number of consecutive failures from index i\n",
    "    \"\"\"\n",
    "\n",
    "    result = 0\n",
    "    while i < len(test_row) and (test_row[i] == 12 or test_row[i] == 0):\n",
    "        if test_row[i] == 12:\n",
    "            result += 1\n",
    "        i += 1\n",
    "    return result\n",
    "\n",
    "\n",
    "def calc_flakiness_score(test_row, ignore_failures_in_a_row=3):\n",
    "    \"\"\"This function calculate flakiness score as the number of edges divided by total runs.\n",
    "    At google, If the test is failing three times in a row, then only it reported as real failures;\n",
    "    otherwise, it's considered a flaky test.\n",
    "    (https://testing.googleblog.com/2016/05/flaky-tests-at-google-and-how-we.html)\n",
    "    Hence, we ignored three or more than three consecutive failures\n",
    "    and test cases that are not run while calculating the flakiness score.\n",
    "\n",
    "    We always considerd label 13 as a edge.\n",
    "    since Currently, each failed test is retry, and if it's passed on a subsequent run it is considered as flaky.\n",
    "\n",
    "    Parameters\n",
    "    ----------\n",
    "    test_row : array\n",
    "            array of test runs with 0, 1, 12, 13 values as not run, pass, fail, flaky respectively\n",
    "\n",
    "    Returns\n",
    "    ----------\n",
    "    flakiness: int\n",
    "            Flakiness score lies between 0 and 100; 0 is no flakiness, and 100 is maximum flakiness.\n",
    "    \"\"\"\n",
    "    flips = 0\n",
    "    i = 0\n",
    "    ## ignore not run instances in the starting\n",
    "    while i < len(test_row) and test_row[i] == 0:\n",
    "        i += 1\n",
    "\n",
    "    ## intializing last_passing variable value\n",
    "    if i >= len(test_row):\n",
    "        return 0\n",
    "    elif test_row[i] == 1:\n",
    "        last_passing = True\n",
    "    elif test_row[i] == 13:\n",
    "        last_passing = True\n",
    "        flips += 1\n",
    "    elif test_row[i] == 12:\n",
    "        last_passing = False\n",
    "    else:\n",
    "        last_passing = True\n",
    "    considerd = 1\n",
    "    i += 1\n",
    "\n",
    "    while i < len(test_row):\n",
    "        ## ignoring more than three consecutive failures\n",
    "        ## If the test is consecutively failing for three or more than three runs,\n",
    "        ## we considered did not consider it an edge.\n",
    "        cf = calc_consecutive_failures(test_row, i)\n",
    "        if cf >= ignore_failures_in_a_row:\n",
    "            i = i + cf\n",
    "            if i >= len(test_row):\n",
    "                break\n",
    "\n",
    "        s = test_row[i]\n",
    "        if s == 1:\n",
    "            ## run is pass\n",
    "            considerd += 1\n",
    "            last_passing = True\n",
    "        elif s == 0:\n",
    "            ## not run\n",
    "            pass\n",
    "        elif s == 13:\n",
    "            ## flaky\n",
    "            flips += 1\n",
    "            considerd += 1\n",
    "            last_passing = True\n",
    "        elif s == 12:\n",
    "            ## run is fail\n",
    "            considerd += 1\n",
    "            if last_passing:\n",
    "                flips += 1\n",
    "            last_passing = False\n",
    "        i += 1\n",
    "    if considerd == 0:\n",
    "        return 0\n",
    "    ## multiplying by 2 since flakiness score lies between 0 and 100\n",
    "    flakiness = (flips / (considerd)) * 100\n",
    "    return flakiness"
   ]
  },
  {
   "cell_type": "markdown",
   "metadata": {},
   "source": [
    "Below, we have tested our function using some basic test cases."
   ]
  },
  {
   "cell_type": "code",
   "execution_count": 10,
   "metadata": {
    "ExecuteTime": {
     "end_time": "2020-11-19T20:16:50.968854Z",
     "start_time": "2020-11-19T20:16:50.864457Z"
    }
   },
   "outputs": [
    {
     "data": {
      "image/png": "[encoded data removed]",
      "text/plain": [
       "<Figure size 1440x360 with 1 Axes>"
      ]
     },
     "metadata": {
      "needs_background": "light"
     },
     "output_type": "display_data"
    },
    {
     "name": "stdout",
     "output_type": "stream",
     "text": [
      "flip-flakiness score:  0.0\n"
     ]
    }
   ],
   "source": [
    "plt.figure(figsize=(20, 5))\n",
    "x = np.arange(len(test_array))\n",
    "plt.step(x, test_array)\n",
    "plt.title(\"Single edge and multiple fails\", fontsize=20)\n",
    "plt.ylim(1, 13)\n",
    "plt.show()\n",
    "print(\n",
    "    \"flip-flakiness score: \",\n",
    "    calc_flakiness_score(test_array),\n",
    ")"
   ]
  },
  {
   "cell_type": "markdown",
   "metadata": {},
   "source": [
    "In the above figure, we can see there is only one edge with more than three consecutive failures. Hence we did not consider the above test as a flaky test. Hence, the total flakiness score using the `flip flakiness` method is 0"
   ]
  },
  {
   "cell_type": "code",
   "execution_count": 11,
   "metadata": {
    "ExecuteTime": {
     "end_time": "2020-11-19T20:16:52.621886Z",
     "start_time": "2020-11-19T20:16:52.519196Z"
    }
   },
   "outputs": [
    {
     "data": {
      "image/png": "[encoded data removed]",
      "text/plain": [
       "<Figure size 1440x360 with 1 Axes>"
      ]
     },
     "metadata": {
      "needs_background": "light"
     },
     "output_type": "display_data"
    },
    {
     "name": "stdout",
     "output_type": "stream",
     "text": [
      "flip-flakiness score:  33.33333333333333\n"
     ]
    }
   ],
   "source": [
    "plt.figure(figsize=(20, 5))\n",
    "x = np.arange(len(test_array_1))\n",
    "plt.step(x, test_array_1)\n",
    "plt.ylim(1, 13)\n",
    "plt.title(\"multiple edges and multiple fails\", fontsize=20)\n",
    "plt.show()\n",
    "\n",
    "print(\n",
    "    \"flip-flakiness score: \",\n",
    "    calc_flakiness_score(test_array_1),\n",
    ")"
   ]
  },
  {
   "cell_type": "markdown",
   "metadata": {},
   "source": [
    "In the above figure, we can see there are multiples edges. Hence, this test exhibits a more flake-like behavior pattern. Therefore, our flakiness score is greater. "
   ]
  },
  {
   "cell_type": "code",
   "execution_count": 12,
   "metadata": {
    "ExecuteTime": {
     "end_time": "2020-11-19T20:17:20.428333Z",
     "start_time": "2020-11-19T20:17:20.304348Z"
    }
   },
   "outputs": [
    {
     "data": {
      "image/png": "[encoded data removed]",
      "text/plain": [
       "<Figure size 1440x360 with 1 Axes>"
      ]
     },
     "metadata": {
      "needs_background": "light"
     },
     "output_type": "display_data"
    },
    {
     "name": "stdout",
     "output_type": "stream",
     "text": [
      "flip-flakiness score:  50.0\n"
     ]
    }
   ],
   "source": [
    "plt.figure(figsize=(20, 5))\n",
    "test_array_7 = [1, 12] * 11\n",
    "x = np.arange(len(test_array_7))\n",
    "plt.step(x, test_array_7)\n",
    "plt.title(\"more multiple edges and multiple fails\", fontsize=20)\n",
    "plt.show()\n",
    "print(\n",
    "    \"flip-flakiness score: \",\n",
    "    calc_flakiness_score(test_array_7),\n",
    ")"
   ]
  },
  {
   "cell_type": "markdown",
   "metadata": {},
   "source": [
    "In the above figure, we have simulated an extremely flaky test with an inconsistent pass behavior pattern. And as you can see we get a maximum flakiness score of 50."
   ]
  },
  {
   "cell_type": "code",
   "execution_count": 13,
   "metadata": {
    "ExecuteTime": {
     "end_time": "2020-11-19T20:18:12.906952Z",
     "start_time": "2020-11-19T20:18:12.777591Z"
    }
   },
   "outputs": [
    {
     "data": {
      "image/png": "[encoded data removed]",
      "text/plain": [
       "<Figure size 1440x360 with 1 Axes>"
      ]
     },
     "metadata": {
      "needs_background": "light"
     },
     "output_type": "display_data"
    },
    {
     "name": "stdout",
     "output_type": "stream",
     "text": [
      "flip-flakiness score:  0.0\n"
     ]
    }
   ],
   "source": [
    "plt.figure(figsize=(20, 5))\n",
    "test_array_2 = [1] * 24\n",
    "x = np.arange(len(test_array_2))\n",
    "plt.step(x, test_array_2)\n",
    "plt.ylim(0, 13)\n",
    "plt.title(\"all tests pass\", fontsize=20)\n",
    "plt.show()\n",
    "\n",
    "print(\n",
    "    \"flip-flakiness score: \",\n",
    "    calc_flakiness_score(test_array_2),\n",
    ")"
   ]
  },
  {
   "cell_type": "markdown",
   "metadata": {},
   "source": [
    "In the above figure, we can see all the test runs passed. And as we would expect, our flakiness score is 0"
   ]
  },
  {
   "cell_type": "code",
   "execution_count": 14,
   "metadata": {
    "ExecuteTime": {
     "end_time": "2020-11-19T20:18:55.257570Z",
     "start_time": "2020-11-19T20:18:55.153735Z"
    }
   },
   "outputs": [
    {
     "data": {
      "image/png": "[encoded data removed]",
      "text/plain": [
       "<Figure size 1440x360 with 1 Axes>"
      ]
     },
     "metadata": {
      "needs_background": "light"
     },
     "output_type": "display_data"
    },
    {
     "name": "stdout",
     "output_type": "stream",
     "text": [
      "flip-flakiness score:  0.0\n"
     ]
    }
   ],
   "source": [
    "plt.figure(figsize=(20, 5))\n",
    "test_array_3 = [12] * 24\n",
    "x = np.arange(len(test_array_3))\n",
    "plt.step(x, test_array_3)\n",
    "plt.ylim(1, 13)\n",
    "plt.title(\"all tests fail\", fontsize=20)\n",
    "plt.show()\n",
    "\n",
    "print(\n",
    "    \"flip-flakiness score: \",\n",
    "    calc_flakiness_score(test_array_3),\n",
    ")"
   ]
  },
  {
   "cell_type": "markdown",
   "metadata": {},
   "source": [
    "In the above example, we can see that there are no edges and consistent failures occurring for each run. We do not consider this pattern to represent a flake, so the flakiness score using the `flip flakiness` method is 0."
   ]
  },
  {
   "cell_type": "code",
   "execution_count": 15,
   "metadata": {
    "ExecuteTime": {
     "end_time": "2020-11-19T20:19:32.185933Z",
     "start_time": "2020-11-19T20:19:32.181639Z"
    }
   },
   "outputs": [
    {
     "data": {
      "image/png": "[encoded data removed]",
      "text/plain": [
       "<Figure size 1440x360 with 1 Axes>"
      ]
     },
     "metadata": {
      "needs_background": "light"
     },
     "output_type": "display_data"
    },
    {
     "name": "stdout",
     "output_type": "stream",
     "text": [
      "flip-flakiness score:  0.0\n"
     ]
    }
   ],
   "source": [
    "plt.figure(figsize=(20, 5))\n",
    "test_array_4 = [12, 0] * 2 + [12] * 5 + [0] * 2 + [12] * 7\n",
    "x = np.arange(len(test_array_4))\n",
    "plt.step(x, test_array_4)\n",
    "plt.ylim(0, 13)\n",
    "plt.title(\"fail or not run tests\", fontsize=20)\n",
    "plt.show()\n",
    "\n",
    "print(\n",
    "    \"flip-flakiness score: \",\n",
    "    calc_flakiness_score(test_array_4),\n",
    ")"
   ]
  },
  {
   "cell_type": "markdown",
   "metadata": {},
   "source": [
    "In the above example we have simulated consistent failures with irregular non-run instances. As we can see, this method has ignored the not run instances in our calculation of flakiness score.\n",
    "\n",
    "In addition to the examples above, we have also included the [test cases](https://github.com/GoogleCloudPlatform/testgrid/blob/2a016ff75a27fff1550f5e9f5319cf0114182547/pkg/summarizer/analyzers/flipanalyzer_test.go) used by the TestGrid developers below. "
   ]
  },
  {
   "cell_type": "code",
   "execution_count": 16,
   "metadata": {
    "ExecuteTime": {
     "end_time": "2020-11-19T20:19:33.985966Z",
     "start_time": "2020-11-19T20:19:33.979296Z"
    }
   },
   "outputs": [
    {
     "name": "stdout",
     "output_type": "stream",
     "text": [
      "Empty list: Passed\n",
      "All passing: Passed\n",
      "Multiple flakes: Passed\n",
      "Short run: Passed\n",
      "Long run: Passed\n",
      "Long run interupted by flakes: Passed\n"
     ]
    }
   ],
   "source": [
    "test_array_google_1 = []\n",
    "print(\n",
    "    \"Empty list:\",\n",
    "    \"Passed\" if calc_flakiness_score(test_array_google_1) == 0 else \"Failed\",\n",
    ")\n",
    "test_array_google_2 = [1, 1, 1]\n",
    "print(\n",
    "    \"All passing:\",\n",
    "    \"Passed\" if calc_flakiness_score(test_array_google_2) == 0 else \"Failed\",\n",
    ")\n",
    "test_array_google_3 = [1, 12, 1, 1, 13, 1, 1, 1, 1, 12]\n",
    "print(\n",
    "    \"Multiple flakes:\",\n",
    "    \"Passed\" if calc_flakiness_score(test_array_google_3) == 30 else \"Failed\",\n",
    ")\n",
    "test_array_google_4 = [1, 12, 12, 1, 1, 1, 1, 12, 1, 1]\n",
    "print(\n",
    "    \"Short run:\",\n",
    "    \"Passed\" if calc_flakiness_score(test_array_google_4) == 20 else \"Failed\",\n",
    ")\n",
    "test_array_google_5 = [1, 12, 12, 12, 12, 12, 1, 12, 1, 12]\n",
    "print(\n",
    "    \"Long run:\",\n",
    "    \"Passed\" if calc_flakiness_score(test_array_google_5) == 40 else \"Failed\",\n",
    ")\n",
    "test_array_google_6 = [1, 12, 12, 13, 12, 12, 1, 12, 1, 12]\n",
    "print(\n",
    "    \"Long run interupted by flakes:\",\n",
    "    \"Passed\" if calc_flakiness_score(test_array_google_6) == 50 else \"Failed\",\n",
    ")"
   ]
  },
  {
   "cell_type": "markdown",
   "metadata": {},
   "source": [
    "Excellent! All tests passed. From our hand-crafted examples and the tests cases above we can concluded that the flip flakiness method we have used here performs at least on pare with the methods implemented by TestGrid. \n",
    "\n",
    "One draw back of this method you may have noticed is that it evaluates the entire pass/fail time series for each test, and does not account for possible flaky subset within an otherwise stable test. Let's extend this method to find flaky regions (subsets) in our test data.   "
   ]
  },
  {
   "cell_type": "markdown",
   "metadata": {},
   "source": [
    "## Flip Flakiness with Optimal Distance\n",
    "\n",
    "One of the downsides of finding a single value for each test case is that there might be two different consecutive time periods for which the test case is behaving flaky, or the number of edges is relatively low compares to total runs. This could lead to a low flakiness score, despite the test is still being flaky. Let's illustrate this statement with an example. "
   ]
  },
  {
   "cell_type": "code",
   "execution_count": 17,
   "metadata": {
    "ExecuteTime": {
     "end_time": "2020-11-19T20:19:35.230555Z",
     "start_time": "2020-11-19T20:19:35.147159Z"
    }
   },
   "outputs": [
    {
     "data": {
      "image/png": "[encoded data removed]",
      "text/plain": [
       "<Figure size 1440x360 with 1 Axes>"
      ]
     },
     "metadata": {
      "needs_background": "light"
     },
     "output_type": "display_data"
    },
    {
     "name": "stdout",
     "output_type": "stream",
     "text": [
      "flip-flakiness score:  8.620689655172415\n"
     ]
    }
   ],
   "source": [
    "plt.figure(figsize=(20, 5))\n",
    "test_array_5 = (\n",
    "    [1] * 8 + [1, 12] * 2 + [1] * 23 + [1, 12, 1, 1, 12, 1, 12] + [1] * 16\n",
    ")\n",
    "x = np.arange(len(test_array_5))\n",
    "plt.step(x, test_array_5)\n",
    "plt.ylim(1, 14)\n",
    "plt.title(\"two flaky regions\", fontsize=20)\n",
    "plt.show()\n",
    "\n",
    "print(\n",
    "    \"flip-flakiness score: \",\n",
    "    calc_flakiness_score(test_array_5),\n",
    ")"
   ]
  },
  {
   "cell_type": "markdown",
   "metadata": {},
   "source": [
    "As we can see in the above graph, we have two separate time periods for which behavior is flaky, between runs [8,11] and [35,41]. However, our flakiness score is rather low since the total number of runs is high in comparisons. "
   ]
  },
  {
   "cell_type": "markdown",
   "metadata": {},
   "source": [
    "To overcome this limitation, instead of calculating the flakiness score on the entire run we will calculate the flakiness score between edges to maximize our flakiness score for flaky subsets of the test. \n",
    "\n",
    "Specifically, we calculate the flakiness score between the two farthest edges, which have a flakiness score greater than a user defined threshold. Currently, we use a threshold of flakiness score of 30, but this can tuned according to needs of an application. "
   ]
  },
  {
   "cell_type": "code",
   "execution_count": 18,
   "metadata": {},
   "outputs": [],
   "source": [
    "def calc_flake_edges(test_array):\n",
    "    \"\"\"This function calculates the number of edges, the transition of a\n",
    "    particular test case from pass to fail.\n",
    "\n",
    "    Parameters\n",
    "    ----------\n",
    "    test_array : numpy array\n",
    "            array of test runs with 0, 1, 12, 13 values as not run, pass, fail, flaky respectively\n",
    "\n",
    "    Returns\n",
    "    ----------\n",
    "    flake_edges: numpy array\n",
    "                        array where the value are the starting of the edge\n",
    "\n",
    "    \"\"\"\n",
    "    flake_edges = []  ## array to store edges\n",
    "    ignore_failures_in_a_row = 3\n",
    "    i = 0\n",
    "    valid = 0\n",
    "    while i < len(test_array) and test_array[i] == 0:\n",
    "        i += 1\n",
    "    ## intializing last_passing variable value\n",
    "    if i >= len(test_array):\n",
    "        return 0\n",
    "    elif test_array[i] == 1:\n",
    "        last_passing = True\n",
    "        valid = i\n",
    "    elif test_array[i] == 13:\n",
    "        last_passing = True\n",
    "    elif test_array[i] == 12:\n",
    "        last_passing = False\n",
    "    else:\n",
    "        last_passing = True\n",
    "    i += 1\n",
    "\n",
    "    ## Finding all the edges in our test runs\n",
    "    while i < len(test_array):\n",
    "        ## ignoring more than three consecutive failures\n",
    "        ## If the test is consecutively failing for three or more than three runs,\n",
    "        ## we do not consider it an edge.\n",
    "        cf = calc_consecutive_failures(test_array, i)\n",
    "        if cf >= ignore_failures_in_a_row:\n",
    "            i = i + cf\n",
    "            if i >= len(test_array):\n",
    "                break\n",
    "\n",
    "        s = test_array[i]\n",
    "        if s == 1:\n",
    "            ## run is pass\n",
    "            last_passing = True\n",
    "            valid = i\n",
    "        elif s == 0:\n",
    "            ## not run\n",
    "            pass\n",
    "        elif s == 13:\n",
    "            last_passing = True\n",
    "            flake_edges.append(i)\n",
    "        elif s == 12:\n",
    "            ## run is fail\n",
    "            if last_passing:\n",
    "                flake_edges.append(valid)\n",
    "            last_passing = False\n",
    "        i = i + 1\n",
    "    return flake_edges\n",
    "\n",
    "\n",
    "def flake_edge_end(test_array, flake_edges, index):\n",
    "    \"\"\"This function calculates the end of the edges. Starting of the edge will always be 1 or 13\n",
    "\n",
    "    Parameters\n",
    "    ----------\n",
    "    test_array : numpy array\n",
    "            array of test runs with 0, 1, 12, 13 values as not run, pass, fail, flaky respectively\n",
    "\n",
    "    Returns\n",
    "    ----------\n",
    "    flake_edges: numpy array\n",
    "                        array where the value are the starting of the edge\n",
    "\n",
    "    \"\"\"\n",
    "    flake_end = flake_edges[index]\n",
    "    while test_array[flake_end] != 12 and test_array[flake_end] != 13:\n",
    "        flake_end = flake_end + 1\n",
    "        if flake_end > len(test_array):\n",
    "            break\n",
    "    return flake_end\n",
    "\n",
    "\n",
    "def calc_optimal_flakiness_score(test_array, threshold=30):\n",
    "    \"\"\"Calculate the flakiness score between edges since it will maximize the flakiness score.\n",
    "    Specifically, we calculate the flakiness score between the two farthest edges\n",
    "    which have a flakiness score greater than a threshold.\n",
    "\n",
    "    Parameters\n",
    "    ----------\n",
    "    test_array : array\n",
    "            array of test runs with 0, 1, 12, 13 values as not run, pass, fail, flaky respectively\n",
    "    threshold: int default 30\n",
    "\n",
    "    Returns\n",
    "    ----------\n",
    "    modified_test_array: numpy array\n",
    "                        modified test grid where the value of failure due to flake is 13\n",
    "    flake_edges_dict: dictionary\n",
    "            key of the dictionary is a tuple of time period, and value is the flakiness score between the time period\n",
    "    \"\"\"\n",
    "    modified_test_array = test_array.copy()\n",
    "    flake_edges_dict = {}\n",
    "    flake_edges = calc_flake_edges(test_array)\n",
    "    ## flakiness score between the two farthest edges\n",
    "    p = 0\n",
    "    q = 0\n",
    "    while p < len(flake_edges):\n",
    "        possible_flake = False\n",
    "        for q in range(p + 1, len(flake_edges)):\n",
    "            flake_end = flake_edge_end(test_array, flake_edges, q)\n",
    "            curr_flake = calc_flakiness_score(\n",
    "                test_array[flake_edges[p] : flake_end + 1]\n",
    "            )\n",
    "            if curr_flake > threshold:\n",
    "                possible_flake = True\n",
    "                max_flake = curr_flake\n",
    "                max_p = flake_edges[p]\n",
    "                max_q = flake_end\n",
    "            else:\n",
    "                break\n",
    "        p = q\n",
    "        if possible_flake:\n",
    "            for k in range(max_p, flake_end + 1):\n",
    "                if modified_test_array[k] == 12:\n",
    "                    modified_test_array[k] = 13\n",
    "                    curr = k + 1\n",
    "                    while curr < len(modified_test_array):\n",
    "                        if modified_test_array[curr] == 12:\n",
    "                            modified_test_array[curr] = 13\n",
    "                        else:\n",
    "                            break\n",
    "            arr = []\n",
    "            arr.append(max_p)\n",
    "            arr.append(max_q)\n",
    "            flake_edges_dict[tuple(arr)] = max_flake\n",
    "        if p == len(flake_edges) - 1:\n",
    "            break\n",
    "    return modified_test_array, flake_edges_dict"
   ]
  },
  {
   "cell_type": "code",
   "execution_count": 19,
   "metadata": {
    "ExecuteTime": {
     "end_time": "2020-11-19T20:19:43.079987Z",
     "start_time": "2020-11-19T20:19:42.986171Z"
    }
   },
   "outputs": [
    {
     "data": {
      "image/png": "[encoded data removed]",
      "text/plain": [
       "<Figure size 1440x360 with 1 Axes>"
      ]
     },
     "metadata": {
      "needs_background": "light"
     },
     "output_type": "display_data"
    },
    {
     "name": "stdout",
     "output_type": "stream",
     "text": [
      "Flip Flakiness with Optimal Distance results: \n",
      " flake between (8, 11) with score of 50.0\n",
      " flake between (35, 41) with score of 42.857142857142854\n"
     ]
    }
   ],
   "source": [
    "plt.figure(figsize=(20, 5))\n",
    "x = np.arange(len(test_array_5))\n",
    "plt.step(x, test_array_5)\n",
    "plt.ylim(1, 14)\n",
    "plt.title(\"two flaky regions\", fontsize=20)\n",
    "plt.show()\n",
    "\n",
    "modified_test_array, flake_dict = calc_optimal_flakiness_score(test_array_5)\n",
    "print(\n",
    "    \"Flip Flakiness with Optimal Distance results: \",\n",
    ")\n",
    "for i in flake_dict.keys():\n",
    "    print(f\" flake between {i} with score of {flake_dict[i]}\")"
   ]
  },
  {
   "cell_type": "markdown",
   "metadata": {},
   "source": [
    "As we can see in the graph above, we have two separate time periods for which behavior is flaky, between runs [8,11] and [35,41]. Using `flip flakiness with optimal distance` we have a successfully identified these two flaky regions. "
   ]
  },
  {
   "cell_type": "markdown",
   "metadata": {},
   "source": [
    "## Comparison of different methods\n",
    "\n",
    "Now that we have explored 3 different methods for identifying flakes in TestGrid data, lets compare them directly and make sure we move forward with the best method. \n",
    "\n",
    "### Comparison of custom test cases\n",
    "Below use the our custom test cases to compare performance."
   ]
  },
  {
   "cell_type": "code",
   "execution_count": 20,
   "metadata": {
    "ExecuteTime": {
     "end_time": "2020-11-19T20:19:45.280113Z",
     "start_time": "2020-11-19T20:19:45.175637Z"
    }
   },
   "outputs": [
    {
     "data": {
      "image/png": "[encoded data removed]",
      "text/plain": [
       "<Figure size 1440x360 with 1 Axes>"
      ]
     },
     "metadata": {
      "needs_background": "light"
     },
     "output_type": "display_data"
    },
    {
     "name": "stdout",
     "output_type": "stream",
     "text": [
      "Naive Score:  45.833333333333336  Number of Flaky Tests Detected:  11\n",
      "Flip-Flakiness Score:  0.0  Number of Flaky Tests Detected:  0\n",
      "Flip Flakiness with Optimal Distance score:  {}  Number of Flaky Tests Detected:  0\n"
     ]
    }
   ],
   "source": [
    "def flake_annotation(val_array, flake_score, flake_score_threshold):\n",
    "    # for illustration purposes, we are removing the flaky labels\n",
    "    val_array = [12 if (x == 13) else x for x in val_array]\n",
    "    if flake_score > flake_score_threshold:\n",
    "        return [13 if (x == 12) else x for x in val_array]\n",
    "    else:\n",
    "        return val_array\n",
    "\n",
    "\n",
    "plt.figure(figsize=(20, 5))\n",
    "x = np.arange(len(test_array))\n",
    "plt.step(x, test_array)\n",
    "plt.title(\"Single edge and multiple fails\", fontsize=20)\n",
    "plt.ylim(1, 13)\n",
    "plt.show()\n",
    "\n",
    "naive_score = naive_flake_calc(test_array)\n",
    "total_error_naive = flake_annotation(test_array, naive_score, 10).count(13)\n",
    "flip_score = calc_flakiness_score(test_array)\n",
    "total_error_flip = flake_annotation(test_array, flip_score, 10).count(13)\n",
    "modified_test_array, flake_dict = calc_optimal_flakiness_score(test_array, 30)\n",
    "total_error_optimal_flip = modified_test_array.count(13)\n",
    "\n",
    "print(\n",
    "    \"Naive Score: \",\n",
    "    naive_score,\n",
    "    \" Number of Flaky Tests Detected: \",\n",
    "    total_error_naive,\n",
    ")\n",
    "print(\n",
    "    \"Flip-Flakiness Score: \",\n",
    "    flip_score,\n",
    "    \" Number of Flaky Tests Detected: \",\n",
    "    total_error_flip,\n",
    ")\n",
    "print(\n",
    "    \"Flip Flakiness with Optimal Distance score: \",\n",
    "    flake_dict,\n",
    "    \" Number of Flaky Tests Detected: \",\n",
    "    total_error_optimal_flip,\n",
    ")"
   ]
  },
  {
   "cell_type": "markdown",
   "metadata": {},
   "source": [
    "Given the above example, which we do not consider to be a flake, we can see that both `Flip-Flakiness with optimal distance` and `Flip-Flakiness` performed equally well, whereas the `Naive` method incorrectly flagged this example as flaky. "
   ]
  },
  {
   "cell_type": "code",
   "execution_count": 21,
   "metadata": {
    "ExecuteTime": {
     "end_time": "2020-11-19T20:19:46.318189Z",
     "start_time": "2020-11-19T20:19:46.190233Z"
    }
   },
   "outputs": [
    {
     "data": {
      "image/png": "[encoded data removed]",
      "text/plain": [
       "<Figure size 1440x360 with 1 Axes>"
      ]
     },
     "metadata": {
      "needs_background": "light"
     },
     "output_type": "display_data"
    },
    {
     "name": "stdout",
     "output_type": "stream",
     "text": [
      "Naive Score:  100.0  Number of Flaky Tests Detected:  24\n",
      "Flip-Flakiness Score:  0.0  Number of Flaky Tests Detected:  0\n",
      "Flip Flakiness with Optimal Distance score:  {}  Number of Flaky Tests Detected:  0\n"
     ]
    }
   ],
   "source": [
    "plt.figure(figsize=(20, 5))\n",
    "x = np.arange(len(test_array_3))\n",
    "plt.step(x, test_array_3)\n",
    "plt.ylim(1, 13)\n",
    "plt.title(\"all tests fail\", fontsize=20)\n",
    "plt.show()\n",
    "\n",
    "naive_score = naive_flake_calc(test_array_3)\n",
    "total_error_naive = flake_annotation(test_array_3, naive_score, 10).count(13)\n",
    "flip_score = calc_flakiness_score(test_array_3)\n",
    "total_error_flip = flake_annotation(test_array_3, flip_score, 10).count(13)\n",
    "modified_test_array, flake_dict = calc_optimal_flakiness_score(\n",
    "    test_array_3, 30\n",
    ")\n",
    "total_error_optimal_flip = modified_test_array.count(13)\n",
    "\n",
    "print(\n",
    "    \"Naive Score: \",\n",
    "    naive_score,\n",
    "    \" Number of Flaky Tests Detected: \",\n",
    "    total_error_naive,\n",
    ")\n",
    "print(\n",
    "    \"Flip-Flakiness Score: \",\n",
    "    flip_score,\n",
    "    \" Number of Flaky Tests Detected: \",\n",
    "    total_error_flip,\n",
    ")\n",
    "print(\n",
    "    \"Flip Flakiness with Optimal Distance score: \",\n",
    "    flake_dict,\n",
    "    \" Number of Flaky Tests Detected: \",\n",
    "    total_error_optimal_flip,\n",
    ")"
   ]
  },
  {
   "cell_type": "markdown",
   "metadata": {},
   "source": [
    "Again, we do not consider the above  example to be a flake as it shows consistent failing behavior. And as expected, both `Flip-Flakiness with optimal distance` and `Flip-Flakiness` performed equally well again, whereas the `Naive` method incorrectly flagged this example as flaky. "
   ]
  },
  {
   "cell_type": "code",
   "execution_count": 22,
   "metadata": {
    "ExecuteTime": {
     "end_time": "2020-11-19T20:19:48.303966Z",
     "start_time": "2020-11-19T20:19:48.206695Z"
    }
   },
   "outputs": [
    {
     "data": {
      "image/png": "[encoded data removed]",
      "text/plain": [
       "<Figure size 1440x360 with 1 Axes>"
      ]
     },
     "metadata": {
      "needs_background": "light"
     },
     "output_type": "display_data"
    },
    {
     "name": "stdout",
     "output_type": "stream",
     "text": [
      "Naive Score:  8.620689655172415  Number of Flaky Tests Detected:  0\n",
      "Flip-Flakiness Score:  8.620689655172415  Number of Flaky Tests Detected:  0\n",
      "Flip Flakiness with Optimal Distance score:  {(8, 11): 50.0, (35, 41): 42.857142857142854} \n",
      "\tNumber of Flaky Tests Detected:  5\n"
     ]
    }
   ],
   "source": [
    "plt.figure(figsize=(20, 5))\n",
    "x = np.arange(len(test_array_5))\n",
    "plt.step(x, test_array_5)\n",
    "plt.ylim(1, 13)\n",
    "plt.title(\"two flaky regions\", fontsize=20)\n",
    "plt.show()\n",
    "\n",
    "naive_score = naive_flake_calc(test_array_5)\n",
    "total_error_naive = flake_annotation(test_array_5, naive_score, 10).count(13)\n",
    "flip_score = calc_flakiness_score(test_array_5)\n",
    "total_error_flip = flake_annotation(test_array_5, flip_score, 10).count(13)\n",
    "modified_test_array, flake_dict = calc_optimal_flakiness_score(\n",
    "    test_array_5, 30\n",
    ")\n",
    "total_error_optimal_flip = modified_test_array.count(13)\n",
    "\n",
    "print(\n",
    "    \"Naive Score: \",\n",
    "    naive_score,\n",
    "    \" Number of Flaky Tests Detected: \",\n",
    "    total_error_naive,\n",
    ")\n",
    "print(\n",
    "    \"Flip-Flakiness Score: \",\n",
    "    flip_score,\n",
    "    \" Number of Flaky Tests Detected: \",\n",
    "    total_error_flip,\n",
    ")\n",
    "print(\n",
    "    \"Flip Flakiness with Optimal Distance score: \",\n",
    "    flake_dict,\n",
    "    \"\\n\\tNumber of Flaky Tests Detected: \",\n",
    "    total_error_optimal_flip,\n",
    ")"
   ]
  },
  {
   "cell_type": "markdown",
   "metadata": {},
   "source": [
    "As we can see in the above example, we have two separate time periods for which behavior is flaky, between runs [8,7] and [31,37]. However, our flakiness score using `flip-flakiness` and `naive flakiness` method is rather low since the total number of runs is high compared to the number of edges and both methods performed poorly at detecting flaky tests. \n",
    "\n",
    "However, `Flip Flakiness with Optimal Distance` method is able to  correctly detect the flaky test regions."
   ]
  },
  {
   "cell_type": "markdown",
   "metadata": {},
   "source": [
    "Given the results of the above tests, it is safe to conclude that `Flip Flakiness with Optimal Distance` is the best method to identify flakes moving forward. However, that is only based on these handcrafted test examples. Now lets look at some read testgrid data and see how each method performs. "
   ]
  },
  {
   "cell_type": "markdown",
   "metadata": {},
   "source": [
    "## Comparison of TestGrids\n",
    "\n",
    "We will now apply each method to real testgrid data and see how well each performs.\n",
    "\n",
    "\n",
    "### Original TestGrid"
   ]
  },
  {
   "cell_type": "code",
   "execution_count": 23,
   "metadata": {
    "ExecuteTime": {
     "end_time": "2020-11-19T20:20:00.250844Z",
     "start_time": "2020-11-19T20:19:56.068824Z"
    }
   },
   "outputs": [
    {
     "data": {
      "image/png": "[encoded data removed]",
      "text/plain": [
       "<Figure size 1440x720 with 1 Axes>"
      ]
     },
     "metadata": {
      "needs_background": "light"
     },
     "output_type": "display_data"
    }
   ],
   "source": [
    "plt.figure(figsize=(20, 10))\n",
    "cmap = colors.ListedColormap([\"white\", \"green\", \"red\", \"purple\"])\n",
    "norm = colors.BoundaryNorm(boundaries=[0, 1, 12, 13], ncolors=3)\n",
    "sns.heatmap(\n",
    "    np.array(list(details[\"values\"][:40].values)),\n",
    "    fmt=\"\",\n",
    "    cmap=cmap,\n",
    "    norm=norm,\n",
    "    cbar=False,\n",
    "    linewidths=0.1,\n",
    "    linecolor=\"Black\",\n",
    ")\n",
    "plt.ylabel(\"Tests\")\n",
    "plt.xlabel(\"Days\")\n",
    "plt.title(\"raw data\\n\", fontsize=20)\n",
    "plt.show()"
   ]
  },
  {
   "cell_type": "markdown",
   "metadata": {},
   "source": [
    "Cells with Purple color in the above graph are the existing flake labels for individual test runs provided by the underlying CI system. "
   ]
  },
  {
   "cell_type": "code",
   "execution_count": 24,
   "metadata": {
    "ExecuteTime": {
     "end_time": "2020-11-19T20:20:00.255882Z",
     "start_time": "2020-11-19T20:20:00.252265Z"
    }
   },
   "outputs": [
    {
     "name": "stdout",
     "output_type": "stream",
     "text": [
      "total number of flakes labeled by the ci system's algorithm: 207\n"
     ]
    }
   ],
   "source": [
    "total_existing_flake_label = np.count_nonzero(\n",
    "    np.array(list(details[\"values\"][:40].values)) == 13\n",
    ")\n",
    "print(\n",
    "    \"total number of flakes labeled by the ci system's algorithm:\",\n",
    "    total_existing_flake_label,\n",
    ")"
   ]
  },
  {
   "cell_type": "markdown",
   "metadata": {
    "ExecuteTime": {
     "end_time": "2020-11-17T12:44:43.917643Z",
     "start_time": "2020-11-17T12:44:43.913369Z"
    }
   },
   "source": [
    "### Naive flake method\n",
    "\n",
    "Below we are annotating a testgrid using the naive flake detection method. "
   ]
  },
  {
   "cell_type": "code",
   "execution_count": 25,
   "metadata": {
    "ExecuteTime": {
     "end_time": "2020-11-19T20:20:39.070779Z",
     "start_time": "2020-11-19T20:20:39.044628Z"
    }
   },
   "outputs": [],
   "source": [
    "flake_score_threshold = 30\n",
    "# calculate the flakiness score by naive method for each test in our dataset.\n",
    "details[\"naive_flakiness_score\"] = details[\"values\"].apply(\n",
    "    lambda x: naive_flake_calc(x)\n",
    ")\n",
    "details[\"naive_flakiness\"] = details.apply(\n",
    "    lambda x: flake_annotation(\n",
    "        x[\"values\"], x[\"naive_flakiness_score\"], flake_score_threshold\n",
    "    ),\n",
    "    axis=1,\n",
    ")"
   ]
  },
  {
   "cell_type": "code",
   "execution_count": 26,
   "metadata": {
    "ExecuteTime": {
     "end_time": "2020-11-19T20:20:43.778690Z",
     "start_time": "2020-11-19T20:20:39.971389Z"
    }
   },
   "outputs": [
    {
     "data": {
      "image/png": "[encoded data removed]",
      "text/plain": [
       "<Figure size 1440x720 with 1 Axes>"
      ]
     },
     "metadata": {
      "needs_background": "light"
     },
     "output_type": "display_data"
    }
   ],
   "source": [
    "plt.figure(figsize=(20, 10))\n",
    "cmap = colors.ListedColormap([\"white\", \"green\", \"red\", \"purple\"])\n",
    "norm = colors.BoundaryNorm(boundaries=[0, 1, 12, 13], ncolors=3)\n",
    "sns.heatmap(\n",
    "    np.array(list(details[\"naive_flakiness\"][:40].values)),\n",
    "    fmt=\"\",\n",
    "    cmap=cmap,\n",
    "    norm=norm,\n",
    "    cbar=False,\n",
    "    linewidths=0.1,\n",
    "    linecolor=\"Black\",\n",
    ")\n",
    "plt.ylabel(\"Tests\")\n",
    "plt.xlabel(\"Days\")\n",
    "plt.title(\"Naive Method\\n\", fontsize=20)\n",
    "plt.show()"
   ]
  },
  {
   "cell_type": "markdown",
   "metadata": {
    "ExecuteTime": {
     "end_time": "2020-11-17T12:45:37.629922Z",
     "start_time": "2020-11-17T12:45:37.624408Z"
    }
   },
   "source": [
    "Cells with Purple color in the above graph are the labels given by the naive flake algorithm. We can see the `naive flake algorithm` is unable to detect many flay tests such as test number 19, 22, 23, 24, 25, 34, 35, 37. Also, for tests 1, 3 from the time-stamp 0 to 17 consistent failures are occurring, which is not a flake behavior but this method still incorrectly identifies them as flaky. "
   ]
  },
  {
   "cell_type": "code",
   "execution_count": 27,
   "metadata": {
    "ExecuteTime": {
     "end_time": "2020-11-19T20:20:54.961086Z",
     "start_time": "2020-11-19T20:20:54.949256Z"
    }
   },
   "outputs": [
    {
     "name": "stdout",
     "output_type": "stream",
     "text": [
      "Number of flake labels given by the naive flakiness method:  332\n",
      "Total flaky tests detected by the `naive flakiness method` is 1.6 times \n",
      "the total flaky test detected by the existing testgrid method \n"
     ]
    }
   ],
   "source": [
    "total_naive_flake_label = np.count_nonzero(\n",
    "    np.array(list(details[\"naive_flakiness\"][:40].values)) == 13\n",
    ")\n",
    "print(\n",
    "    \"Number of flake labels given by the naive flakiness method: \",\n",
    "    total_naive_flake_label,\n",
    ")\n",
    "print(\n",
    "    \"Total flaky tests detected by the `naive flakiness method` is\",\n",
    "    round(total_naive_flake_label / total_existing_flake_label, 2),\n",
    "    \"times \\nthe total flaky test detected by the existing testgrid method \",\n",
    ")"
   ]
  },
  {
   "cell_type": "markdown",
   "metadata": {
    "ExecuteTime": {
     "end_time": "2020-11-17T12:46:24.574634Z",
     "start_time": "2020-11-17T12:46:24.569437Z"
    }
   },
   "source": [
    "### Flip flake method \n",
    "Below we are annotating testgrid using the flip flake detection method."
   ]
  },
  {
   "cell_type": "code",
   "execution_count": 28,
   "metadata": {
    "ExecuteTime": {
     "end_time": "2020-11-19T20:20:59.034866Z",
     "start_time": "2020-11-19T20:20:58.796452Z"
    }
   },
   "outputs": [],
   "source": [
    "flake_score_threshold = 30\n",
    "## calculate the flakiness score by flip method for each test in our dataset.\n",
    "details[\"flip_flakiness_score\"] = details[\"values\"].apply(\n",
    "    lambda x: calc_flakiness_score(x)\n",
    ")\n",
    "details[\"flip_flakiness\"] = details.apply(\n",
    "    lambda x: flake_annotation(\n",
    "        x[\"values\"], x[\"flip_flakiness_score\"], flake_score_threshold\n",
    "    ),\n",
    "    axis=1,\n",
    ")"
   ]
  },
  {
   "cell_type": "code",
   "execution_count": 29,
   "metadata": {
    "ExecuteTime": {
     "end_time": "2020-11-18T19:04:26.582563Z",
     "start_time": "2020-11-18T19:04:23.399698Z"
    }
   },
   "outputs": [
    {
     "data": {
      "image/png": "[encoded data removed]",
      "text/plain": [
       "<Figure size 1440x720 with 1 Axes>"
      ]
     },
     "metadata": {
      "needs_background": "light"
     },
     "output_type": "display_data"
    }
   ],
   "source": [
    "plt.figure(figsize=(20, 10))\n",
    "cmap = colors.ListedColormap([\"white\", \"green\", \"red\", \"purple\"])\n",
    "norm = colors.BoundaryNorm(boundaries=[0, 1, 12, 13], ncolors=3)\n",
    "sns.heatmap(\n",
    "    np.array(list(details[\"flip_flakiness\"][:40].values)),\n",
    "    fmt=\"\",\n",
    "    cmap=cmap,\n",
    "    norm=norm,\n",
    "    cbar=False,\n",
    "    linewidths=0.1,\n",
    "    linecolor=\"Black\",\n",
    ")\n",
    "plt.ylabel(\"Tests\")\n",
    "plt.xlabel(\"Days\")\n",
    "plt.title(\"Flip Flakiness\\n\", fontsize=20)\n",
    "plt.show()"
   ]
  },
  {
   "cell_type": "markdown",
   "metadata": {},
   "source": [
    "Cells with Purple color in the above graph are the labels given by the `flip flake algorithm`. Though it performed better than `naive flake algorithm`, but it was still unable to detect flaky behaviors for test number 23 and 24 due to a low occurrence of failures in those tests. Also, for tests 1,2,3,4 from the time-stamp 0 to 17 and for test 17 for time-stamp 74 to 96 consistent failures are occurring, which not a behavior of flaky test but still incorrectly detected as flaky."
   ]
  },
  {
   "cell_type": "code",
   "execution_count": 30,
   "metadata": {
    "ExecuteTime": {
     "end_time": "2020-11-18T19:10:40.095030Z",
     "start_time": "2020-11-18T19:10:40.084140Z"
    }
   },
   "outputs": [
    {
     "name": "stdout",
     "output_type": "stream",
     "text": [
      "Number of flake labels given by the `flip flakiness` method: 333\n",
      "Total flaky test detected by the `flip flake` method is 1.61 times \n",
      "the total flaky tests detected by the existing testgrid method \n"
     ]
    }
   ],
   "source": [
    "total_flip_flake_label = np.count_nonzero(\n",
    "    np.array(list(details[\"flip_flakiness\"][:40].values)) == 13\n",
    ")\n",
    "print(\n",
    "    \"Number of flake labels given by the `flip flakiness` method:\",\n",
    "    total_flip_flake_label,\n",
    ")\n",
    "print(\n",
    "    \"Total flaky test detected by the `flip flake` method is\",\n",
    "    round(total_flip_flake_label / total_existing_flake_label, 2),\n",
    "    \"times \\nthe total flaky tests detected by the existing testgrid method \",\n",
    ")"
   ]
  },
  {
   "cell_type": "markdown",
   "metadata": {},
   "source": [
    "### Flip flakiness with optimal distance method\n",
    "Below we are annotating testgrid using the `Flip flakiness with optimal distance` method"
   ]
  },
  {
   "cell_type": "code",
   "execution_count": 31,
   "metadata": {
    "ExecuteTime": {
     "end_time": "2020-11-18T19:10:27.382993Z",
     "start_time": "2020-11-18T19:10:27.327838Z"
    }
   },
   "outputs": [],
   "source": [
    "details[\"flip_flakiness_optimal\"] = details[\"values\"][:40].apply(\n",
    "    lambda x: calc_optimal_flakiness_score(x, 10)[0]\n",
    ")"
   ]
  },
  {
   "cell_type": "code",
   "execution_count": 32,
   "metadata": {},
   "outputs": [
    {
     "data": {
      "image/png": "[encoded data removed]",
      "text/plain": [
       "<Figure size 1440x720 with 1 Axes>"
      ]
     },
     "metadata": {
      "needs_background": "light"
     },
     "output_type": "display_data"
    }
   ],
   "source": [
    "plt.figure(figsize=(20, 10))\n",
    "cmap = colors.ListedColormap([\"white\", \"green\", \"red\", \"purple\"])\n",
    "norm = colors.BoundaryNorm(boundaries=[0, 1, 12, 13], ncolors=3)\n",
    "sns.heatmap(\n",
    "    np.array(list(details[\"flip_flakiness_optimal\"][:40].values)),\n",
    "    fmt=\"\",\n",
    "    cmap=cmap,\n",
    "    norm=norm,\n",
    "    cbar=False,\n",
    "    linewidths=0.1,\n",
    "    linecolor=\"Black\",\n",
    ")\n",
    "plt.ylabel(\"Tests\")\n",
    "plt.xlabel(\"Days\")\n",
    "plt.title(\"Flip Flakiness with Optimal Distance\\n\", fontsize=20)\n",
    "plt.show()"
   ]
  },
  {
   "cell_type": "markdown",
   "metadata": {},
   "source": [
    "Cells with purple color in the above graph are the labels given by the `flip flake with optimal distance algorithm`.\n",
    "\n",
    "In the above figure, we can see that `flip flakiness with optimal distance` method is able to detect the flaky behavior in test number 4, 19, 22, 23, 24, 25, 34, 35, 37, which `naive flake algorithm` were failed to detect and test 4 and 23  which `flip flake algorithm` was failed to detect. Also, it correctly classified flaky tests for test cases 1, 3, 17.  \n",
    "\n",
    "Given the above, its safe to conclude that `Flip flakiness with optimal distance` works better than `naive flakiness` and `flip flakiness` methods on both are example and real world data sets."
   ]
  },
  {
   "cell_type": "code",
   "execution_count": 33,
   "metadata": {
    "ExecuteTime": {
     "end_time": "2020-11-18T19:10:55.995274Z",
     "start_time": "2020-11-18T19:10:55.985103Z"
    }
   },
   "outputs": [
    {
     "name": "stdout",
     "output_type": "stream",
     "text": [
      "Number of flake labels given by the `flip flake optimal distance` method: 424\n",
      "Total flaky test detected by the `flip flake optimal distance method` is 2.05 times \n",
      "the total flaky tests detected by the existing testgrid method \n"
     ]
    }
   ],
   "source": [
    "total_flip_flake__optimal_label = np.count_nonzero(\n",
    "    np.array(list(details[\"flip_flakiness_optimal\"][:40].values)) == 13\n",
    ")\n",
    "print(\n",
    "    \"Number of flake labels given by the `flip flake optimal distance` method:\",\n",
    "    total_flip_flake__optimal_label,\n",
    ")\n",
    "print(\n",
    "    \"Total flaky test detected by the `flip flake optimal distance method` is\",\n",
    "    round(total_flip_flake__optimal_label / total_existing_flake_label, 2),\n",
    "    \"times \\nthe total flaky tests detected by the existing testgrid method \",\n",
    ")"
   ]
  },
  {
   "cell_type": "markdown",
   "metadata": {},
   "source": [
    "## Conclusion\n",
    "\n",
    "\n",
    "**TLDR: Flip Flakiness with Optimal Distance is best!**\n",
    "\n",
    "In this notebook, we explored 3 different methods for automatically identifying flaky tests.\n",
    "\n",
    "1) **Naive Flakiness**: This was our baseline method to compare the performance of the other two methods. This method simply calculates flakiness as a ratio of failed tests over total tests. As we expected, this method performed the worst and should not be used in the future for flake identification. \n",
    "\n",
    "\n",
    "2) **Flip Flakiness**: This method relied on counting the number of edges (flips from pass to fail) for a test. Although it performed much better than the naive method, it fell short for longer test examples with flaky regions in an otherwise stable time-series. Moving forward, this method should not be used either. \n",
    "\n",
    "\n",
    "3) **Flip Flakiness with Optimal Distance**: This method extended the flip flakiness method by identifying irregular subsets within a test. This was the best performing method explored in this notebook and should be carried forward into the [failure type classification](https://github.com/aicoe-aiops/ocp-ci-analysis/blob/master/notebooks/failure-type-classification/README.md) tool and serve as the new baseline.   \n",
    "\n"
   ]
  },
  {
   "cell_type": "markdown",
   "metadata": {},
   "source": [
    "## Next Steps"
   ]
  },
  {
   "cell_type": "markdown",
   "metadata": {},
   "source": [
    "* The current upstream [testgrid repo](https://github.com/GoogleCloudPlatform/testgrid) uses both `Naive flakiness` and `Flip flakiness`  methods for detecting flakes. We should open an issue and suggest including `Flip flakiness with optimal distance` into their workflow to further improve flake identification. \n",
    "\n",
    "\n",
    "* One limitation of the work in this notebook is that we only used the results of previous runs as our data to detect flaky tests. This is not the only data available to us. Next, we can try incorporating additional metadata (like git revisions or linked bugzillas) to improve upon our existing flake identification methods. See [this article](https://medium.com/fitbit-tech-blog/a-machine-learning-solution-for-detecting-and-mitigating-flaky-tests-c5626ca7e853) for possible avenues of future development.  "
   ]
  },
  {
   "cell_type": "code",
   "execution_count": null,
   "metadata": {},
   "outputs": [],
   "source": []
  }
 ],
 "metadata": {
  "kernelspec": {
   "display_name": "Python 3",
   "language": "python",
   "name": "python3"
  },
  "language_info": {
   "codemirror_mode": {
    "name": "ipython",
    "version": 3
   },
   "file_extension": ".py",
   "mimetype": "text/x-python",
   "name": "python",
   "nbconvert_exporter": "python",
   "pygments_lexer": "ipython3",
   "version": "3.7.3"
  },
  "toc": {
   "base_numbering": 1,
   "nav_menu": {},
   "number_sections": true,
   "sideBar": true,
   "skip_h1_title": false,
   "title_cell": "Table of Contents",
   "title_sidebar": "Contents",
   "toc_cell": false,
   "toc_position": {},
   "toc_section_display": true,
   "toc_window_display": false
  }
 },
 "nbformat": 4,
 "nbformat_minor": 4
}
