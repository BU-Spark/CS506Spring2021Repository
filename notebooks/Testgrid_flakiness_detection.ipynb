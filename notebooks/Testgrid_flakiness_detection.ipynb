{
 "cells": [
  {
   "cell_type": "markdown",
   "metadata": {},
   "source": [
    "# Overview\n",
    "\n",
    "\n",
    "In continuous integration (CI) project workflow, developers frequently integrate code into a shared repository. Each integration can then be verified by an automated build and numerous different automated tests. Whenever a failure occurs in a test, developers manually need to analyze failures. Failures in the build can be a legitimate failure or due to some other issues like infrastructure flake, install flake, flaky test, etc. SME can analyze the TestGrid data and determine if failures are legitimate or not. However, it takes a lot of manual effort and reduces the productivity of a team.In this notebook, we will try to detect flaky test. \n",
    "\n",
    "## What is flaky test?\n",
    "A test that passes or fails in a nondeterministic way is known as a flaky test [Refrence](http://mir.cs.illinois.edu/~eloussi2/publications/fse14.pdf). In data science terms, flaky tests pass and fail across multiple runs over a certain period of time. If the test fails consistently over an interval, then it's not an attribute of the flaky test. We will discuss the interval attribute in the later part of this notebook. \n"
   ]
  },
  {
   "cell_type": "code",
   "execution_count": 1,
   "metadata": {
    "ExecuteTime": {
     "end_time": "2020-11-24T03:30:13.501268Z",
     "start_time": "2020-11-24T03:30:02.813343Z"
    }
   },
   "outputs": [],
   "source": [
    "import requests\n",
    "import pandas as pd\n",
    "import numpy as np\n",
    "\n",
    "import matplotlib.pyplot as plt\n",
    "from matplotlib import colors\n",
    "import seaborn as sns\n",
    "import warnings\n",
    "\n",
    "%matplotlib inline\n",
    "warnings.filterwarnings(\"ignore\")"
   ]
  },
  {
   "cell_type": "markdown",
   "metadata": {},
   "source": [
    "# Preparing data\n",
    "\n",
    "In depth details of this step is given in another [notebook](https://github.com/aicoe-aiops/ocp-ci-analysis/blob/master/notebooks/TestGrid_EDA.ipynb). \n",
    "\n",
    "To pull the desired json we can follow this syntax:\n",
    "\n",
    "https://testgrid.k8s.io/{dashboard_name}/table?&show-stale-tests=&tab={job_name}\n",
    "\n",
    "From the work above we know how to get the list of all the dashboards and associated jobs. Here we will get the data for the job \"release-openshift-ocp-e2e-aws-scaleup-rhel7-4.3\" as an example."
   ]
  },
  {
   "cell_type": "code",
   "execution_count": 2,
   "metadata": {
    "ExecuteTime": {
     "end_time": "2020-11-24T04:22:25.327771Z",
     "start_time": "2020-11-24T04:22:21.490755Z"
    }
   },
   "outputs": [],
   "source": [
    "payload = {\n",
    "    \"show-stale-tests\": \"release-openshift-ocp-installer-e2e-aws-upi-4.6\",\n",
    "    \"tab\": \"release-openshift-ocp-installer-e2e-aws-upi-4.6\",\n",
    "}\n",
    "response = requests.get(\n",
    "    \"https://testgrid.k8s.io/redhat-openshift-ocp-release-4.6-informing/table\",\n",
    "    params=payload,\n",
    ")"
   ]
  },
  {
   "cell_type": "code",
   "execution_count": 3,
   "metadata": {
    "ExecuteTime": {
     "end_time": "2020-11-24T04:22:27.371580Z",
     "start_time": "2020-11-24T04:22:27.189826Z"
    }
   },
   "outputs": [
    {
     "data": {
      "text/html": [
       "<div>\n",
       "<style scoped>\n",
       "    .dataframe tbody tr th:only-of-type {\n",
       "        vertical-align: middle;\n",
       "    }\n",
       "\n",
       "    .dataframe tbody tr th {\n",
       "        vertical-align: top;\n",
       "    }\n",
       "\n",
       "    .dataframe thead th {\n",
       "        text-align: right;\n",
       "    }\n",
       "</style>\n",
       "<table border=\"1\" class=\"dataframe\">\n",
       "  <thead>\n",
       "    <tr style=\"text-align: right;\">\n",
       "      <th></th>\n",
       "      <th>name</th>\n",
       "      <th>alert</th>\n",
       "      <th>short_texts</th>\n",
       "      <th>statuses</th>\n",
       "    </tr>\n",
       "  </thead>\n",
       "  <tbody>\n",
       "    <tr>\n",
       "      <th>0</th>\n",
       "      <td>Overall</td>\n",
       "      <td>{'fail-cl': '1', 'fail-count': 4, 'fail-time':...</td>\n",
       "      <td>[, , , , , , , , , , , , , , , , , , , , , , ,...</td>\n",
       "      <td>[{'count': 1, 'value': 4}, {'count': 4, 'value...</td>\n",
       "    </tr>\n",
       "    <tr>\n",
       "      <th>1</th>\n",
       "      <td>[sig-api-machinery][Feature:APIServer][Late] k...</td>\n",
       "      <td>None</td>\n",
       "      <td>[, , , , , , , , , , , , , , , , , , , , , , ,...</td>\n",
       "      <td>[{'count': 1, 'value': 0}, {'count': 1, 'value...</td>\n",
       "    </tr>\n",
       "    <tr>\n",
       "      <th>2</th>\n",
       "      <td>[sig-arch] Managed cluster should have no cras...</td>\n",
       "      <td>None</td>\n",
       "      <td>[, , , , , , , , , , , , , , , , , , , , , , ,...</td>\n",
       "      <td>[{'count': 1, 'value': 0}, {'count': 1, 'value...</td>\n",
       "    </tr>\n",
       "    <tr>\n",
       "      <th>3</th>\n",
       "      <td>operator.Run template e2e-aws-upi - e2e-aws-up...</td>\n",
       "      <td>None</td>\n",
       "      <td>[, , , , , , , , , , , , , , , , , , , , , , ,...</td>\n",
       "      <td>[{'count': 1, 'value': 0}, {'count': 1, 'value...</td>\n",
       "    </tr>\n",
       "    <tr>\n",
       "      <th>4</th>\n",
       "      <td>[sig-apps] CronJob should delete failed finish...</td>\n",
       "      <td>None</td>\n",
       "      <td>[, , , , , , , , , , , , , , , , , , , , , , ,...</td>\n",
       "      <td>[{'count': 1, 'value': 0}, {'count': 1, 'value...</td>\n",
       "    </tr>\n",
       "    <tr>\n",
       "      <th>5</th>\n",
       "      <td>[sig-arch] Monitor cluster while tests execute</td>\n",
       "      <td>{'fail-cl': '1', 'fail-count': 3, 'fail-time':...</td>\n",
       "      <td>[, , , , , , , , , , , , , , , , , , , , , , ,...</td>\n",
       "      <td>[{'count': 1, 'value': 0}, {'count': 1, 'value...</td>\n",
       "    </tr>\n",
       "    <tr>\n",
       "      <th>6</th>\n",
       "      <td>[sig-auth][Feature:SCC][Early] should not have...</td>\n",
       "      <td>{'fail-cl': '1', 'fail-count': 3, 'fail-time':...</td>\n",
       "      <td>[, , , , , , , , , , , , , , , , , , , , , , ,...</td>\n",
       "      <td>[{'count': 1, 'value': 0}, {'count': 1, 'value...</td>\n",
       "    </tr>\n",
       "    <tr>\n",
       "      <th>7</th>\n",
       "      <td>[sig-network] pods should successfully create ...</td>\n",
       "      <td>{'fail-cl': '1', 'fail-count': 3, 'fail-time':...</td>\n",
       "      <td>[, , , , , , , , , , , , , , , , , , , , , , ,...</td>\n",
       "      <td>[{'count': 1, 'value': 0}, {'count': 1, 'value...</td>\n",
       "    </tr>\n",
       "    <tr>\n",
       "      <th>8</th>\n",
       "      <td>[sig-network] pods should successfully create ...</td>\n",
       "      <td>None</td>\n",
       "      <td>[, , , , , , , , , , , , , , , , , , , , , , ,...</td>\n",
       "      <td>[{'count': 1, 'value': 0}, {'count': 1, 'value...</td>\n",
       "    </tr>\n",
       "    <tr>\n",
       "      <th>9</th>\n",
       "      <td>[sig-network] pods should successfully create ...</td>\n",
       "      <td>{'fail-cl': '1', 'fail-count': 3, 'fail-time':...</td>\n",
       "      <td>[, , , , , , , , , , , , , , , , , , , , , , ,...</td>\n",
       "      <td>[{'count': 1, 'value': 0}, {'count': 1, 'value...</td>\n",
       "    </tr>\n",
       "  </tbody>\n",
       "</table>\n",
       "</div>"
      ],
      "text/plain": [
       "                                                name  \\\n",
       "0                                            Overall   \n",
       "1  [sig-api-machinery][Feature:APIServer][Late] k...   \n",
       "2  [sig-arch] Managed cluster should have no cras...   \n",
       "3  operator.Run template e2e-aws-upi - e2e-aws-up...   \n",
       "4  [sig-apps] CronJob should delete failed finish...   \n",
       "5     [sig-arch] Monitor cluster while tests execute   \n",
       "6  [sig-auth][Feature:SCC][Early] should not have...   \n",
       "7  [sig-network] pods should successfully create ...   \n",
       "8  [sig-network] pods should successfully create ...   \n",
       "9  [sig-network] pods should successfully create ...   \n",
       "\n",
       "                                               alert  \\\n",
       "0  {'fail-cl': '1', 'fail-count': 4, 'fail-time':...   \n",
       "1                                               None   \n",
       "2                                               None   \n",
       "3                                               None   \n",
       "4                                               None   \n",
       "5  {'fail-cl': '1', 'fail-count': 3, 'fail-time':...   \n",
       "6  {'fail-cl': '1', 'fail-count': 3, 'fail-time':...   \n",
       "7  {'fail-cl': '1', 'fail-count': 3, 'fail-time':...   \n",
       "8                                               None   \n",
       "9  {'fail-cl': '1', 'fail-count': 3, 'fail-time':...   \n",
       "\n",
       "                                         short_texts  \\\n",
       "0  [, , , , , , , , , , , , , , , , , , , , , , ,...   \n",
       "1  [, , , , , , , , , , , , , , , , , , , , , , ,...   \n",
       "2  [, , , , , , , , , , , , , , , , , , , , , , ,...   \n",
       "3  [, , , , , , , , , , , , , , , , , , , , , , ,...   \n",
       "4  [, , , , , , , , , , , , , , , , , , , , , , ,...   \n",
       "5  [, , , , , , , , , , , , , , , , , , , , , , ,...   \n",
       "6  [, , , , , , , , , , , , , , , , , , , , , , ,...   \n",
       "7  [, , , , , , , , , , , , , , , , , , , , , , ,...   \n",
       "8  [, , , , , , , , , , , , , , , , , , , , , , ,...   \n",
       "9  [, , , , , , , , , , , , , , , , , , , , , , ,...   \n",
       "\n",
       "                                            statuses  \n",
       "0  [{'count': 1, 'value': 4}, {'count': 4, 'value...  \n",
       "1  [{'count': 1, 'value': 0}, {'count': 1, 'value...  \n",
       "2  [{'count': 1, 'value': 0}, {'count': 1, 'value...  \n",
       "3  [{'count': 1, 'value': 0}, {'count': 1, 'value...  \n",
       "4  [{'count': 1, 'value': 0}, {'count': 1, 'value...  \n",
       "5  [{'count': 1, 'value': 0}, {'count': 1, 'value...  \n",
       "6  [{'count': 1, 'value': 0}, {'count': 1, 'value...  \n",
       "7  [{'count': 1, 'value': 0}, {'count': 1, 'value...  \n",
       "8  [{'count': 1, 'value': 0}, {'count': 1, 'value...  \n",
       "9  [{'count': 1, 'value': 0}, {'count': 1, 'value...  "
      ]
     },
     "execution_count": 3,
     "metadata": {},
     "output_type": "execute_result"
    }
   ],
   "source": [
    "details = pd.DataFrame(response.json()[\"tests\"]).drop(\n",
    "    [\"linked_bugs\", \"messages\", \"user_property\", \"target\", \"original-name\"],\n",
    "    axis=1,\n",
    ")\n",
    "details.head(10)"
   ]
  },
  {
   "cell_type": "markdown",
   "metadata": {},
   "source": [
    "From the column \"statuses\" above we can see that the time series data is run length encoded. Let's add a decoded column so we can get the data in an array format we could use for machine learning."
   ]
  },
  {
   "cell_type": "code",
   "execution_count": 4,
   "metadata": {
    "ExecuteTime": {
     "end_time": "2020-11-24T04:22:31.912919Z",
     "start_time": "2020-11-24T04:22:31.885300Z"
    }
   },
   "outputs": [],
   "source": [
    "def decode_run_length(x):\n",
    "    lst = []\n",
    "    for run_length in x:\n",
    "        extension = [run_length[\"value\"]] * run_length[\"count\"]\n",
    "        lst.extend(extension)\n",
    "    return lst\n",
    "\n",
    "\n",
    "details[\"values\"] = details[\"statuses\"].apply(decode_run_length)"
   ]
  },
  {
   "cell_type": "markdown",
   "metadata": {},
   "source": [
    "Column \"short_texts\" is the existing labels of the flaky test. There are some missing entries for this column corresponding to 'not_run' test cases. Let's add that. "
   ]
  },
  {
   "cell_type": "code",
   "execution_count": 5,
   "metadata": {
    "ExecuteTime": {
     "end_time": "2020-11-24T04:22:34.622519Z",
     "start_time": "2020-11-24T04:22:34.568436Z"
    }
   },
   "outputs": [],
   "source": [
    "def label_arr(val_array, text_array):\n",
    "    iter_text = iter(text_array)\n",
    "    return list(map(lambda x: next(iter_text) if x else \"\", val_array))\n",
    "\n",
    "\n",
    "details[\"label_arr\"] = details.apply(\n",
    "    lambda x: label_arr(x[\"values\"], x[\"short_texts\"]), axis=1\n",
    ")"
   ]
  },
  {
   "cell_type": "code",
   "execution_count": 6,
   "metadata": {
    "ExecuteTime": {
     "end_time": "2020-11-24T04:22:37.143774Z",
     "start_time": "2020-11-24T04:22:37.047733Z"
    }
   },
   "outputs": [
    {
     "data": {
      "text/html": [
       "<div>\n",
       "<style scoped>\n",
       "    .dataframe tbody tr th:only-of-type {\n",
       "        vertical-align: middle;\n",
       "    }\n",
       "\n",
       "    .dataframe tbody tr th {\n",
       "        vertical-align: top;\n",
       "    }\n",
       "\n",
       "    .dataframe thead th {\n",
       "        text-align: right;\n",
       "    }\n",
       "</style>\n",
       "<table border=\"1\" class=\"dataframe\">\n",
       "  <thead>\n",
       "    <tr style=\"text-align: right;\">\n",
       "      <th></th>\n",
       "      <th>name</th>\n",
       "      <th>alert</th>\n",
       "      <th>short_texts</th>\n",
       "      <th>statuses</th>\n",
       "      <th>values</th>\n",
       "      <th>label_arr</th>\n",
       "    </tr>\n",
       "  </thead>\n",
       "  <tbody>\n",
       "    <tr>\n",
       "      <th>0</th>\n",
       "      <td>Overall</td>\n",
       "      <td>{'fail-cl': '1', 'fail-count': 4, 'fail-time':...</td>\n",
       "      <td>[, , , , , , , , , , , , , , , , , , , , , , ,...</td>\n",
       "      <td>[{'count': 1, 'value': 4}, {'count': 4, 'value...</td>\n",
       "      <td>[4, 12, 12, 12, 12, 13, 13, 12, 13, 12, 12, 12...</td>\n",
       "      <td>[, , , , , , , , , , , , , , , , , , , , , , ,...</td>\n",
       "    </tr>\n",
       "    <tr>\n",
       "      <th>1</th>\n",
       "      <td>[sig-api-machinery][Feature:APIServer][Late] k...</td>\n",
       "      <td>None</td>\n",
       "      <td>[, , , , , , , , , , , , , , , , , , , , , , ,...</td>\n",
       "      <td>[{'count': 1, 'value': 0}, {'count': 1, 'value...</td>\n",
       "      <td>[0, 12, 0, 0, 1, 1, 1, 1, 1, 1, 1, 1, 1, 1, 1,...</td>\n",
       "      <td>[, , , , , , , , , , , , , , , , , , , , , , ,...</td>\n",
       "    </tr>\n",
       "    <tr>\n",
       "      <th>2</th>\n",
       "      <td>[sig-arch] Managed cluster should have no cras...</td>\n",
       "      <td>None</td>\n",
       "      <td>[, , , , , , , , , , , , , , , , , , , , , , ,...</td>\n",
       "      <td>[{'count': 1, 'value': 0}, {'count': 1, 'value...</td>\n",
       "      <td>[0, 12, 0, 0, 12, 1, 1, 12, 13, 12, 12, 12, 12...</td>\n",
       "      <td>[, , , , , , , , , , , , , , , , , , , , , , ,...</td>\n",
       "    </tr>\n",
       "    <tr>\n",
       "      <th>3</th>\n",
       "      <td>operator.Run template e2e-aws-upi - e2e-aws-up...</td>\n",
       "      <td>None</td>\n",
       "      <td>[, , , , , , , , , , , , , , , , , , , , , , ,...</td>\n",
       "      <td>[{'count': 1, 'value': 0}, {'count': 1, 'value...</td>\n",
       "      <td>[0, 12, 1, 1, 12, 1, 1, 12, 1, 12, 12, 12, 12,...</td>\n",
       "      <td>[, , , , , , , , , , , , , , , , , , , , , , ,...</td>\n",
       "    </tr>\n",
       "    <tr>\n",
       "      <th>4</th>\n",
       "      <td>[sig-apps] CronJob should delete failed finish...</td>\n",
       "      <td>None</td>\n",
       "      <td>[, , , , , , , , , , , , , , , , , , , , , , ,...</td>\n",
       "      <td>[{'count': 1, 'value': 0}, {'count': 1, 'value...</td>\n",
       "      <td>[0, 13, 0, 0, 1, 1, 1, 1, 1, 1, 1, 1, 1, 1, 1,...</td>\n",
       "      <td>[, , , , , , , , , , , , , , , , , , , , , , ,...</td>\n",
       "    </tr>\n",
       "    <tr>\n",
       "      <th>...</th>\n",
       "      <td>...</td>\n",
       "      <td>...</td>\n",
       "      <td>...</td>\n",
       "      <td>...</td>\n",
       "      <td>...</td>\n",
       "      <td>...</td>\n",
       "    </tr>\n",
       "    <tr>\n",
       "      <th>1075</th>\n",
       "      <td>operator install service-ca</td>\n",
       "      <td>None</td>\n",
       "      <td>[, , , , , , , , , , , , , , , , , , , , , , ,...</td>\n",
       "      <td>[{'count': 97, 'value': 0}, {'count': 1, 'valu...</td>\n",
       "      <td>[0, 0, 0, 0, 0, 0, 0, 0, 0, 0, 0, 0, 0, 0, 0, ...</td>\n",
       "      <td>[, , , , , , , , , , , , , , , , , , , , , , ,...</td>\n",
       "    </tr>\n",
       "    <tr>\n",
       "      <th>1076</th>\n",
       "      <td>operator install storage</td>\n",
       "      <td>None</td>\n",
       "      <td>[, , , , , , , , , , , , , , , , , , , , , , ,...</td>\n",
       "      <td>[{'count': 97, 'value': 0}, {'count': 1, 'valu...</td>\n",
       "      <td>[0, 0, 0, 0, 0, 0, 0, 0, 0, 0, 0, 0, 0, 0, 0, ...</td>\n",
       "      <td>[, , , , , , , , , , , , , , , , , , , , , , ,...</td>\n",
       "    </tr>\n",
       "    <tr>\n",
       "      <th>1077</th>\n",
       "      <td>operator.All images are built and tagged into ...</td>\n",
       "      <td>None</td>\n",
       "      <td>[, , , , , , , , , , , , , , , , , , , , , , ,...</td>\n",
       "      <td>[{'count': 1, 'value': 0}, {'count': 47, 'valu...</td>\n",
       "      <td>[0, 1, 1, 1, 1, 1, 1, 1, 1, 1, 1, 1, 1, 1, 1, ...</td>\n",
       "      <td>[, , , , , , , , , , , , , , , , , , , , , , ,...</td>\n",
       "    </tr>\n",
       "    <tr>\n",
       "      <th>1078</th>\n",
       "      <td>operator.Find all of the input images from ocp...</td>\n",
       "      <td>None</td>\n",
       "      <td>[, , , , , , , , , , , , , , , , , , , , , , ,...</td>\n",
       "      <td>[{'count': 1, 'value': 0}, {'count': 47, 'valu...</td>\n",
       "      <td>[0, 1, 1, 1, 1, 1, 1, 1, 1, 1, 1, 1, 1, 1, 1, ...</td>\n",
       "      <td>[, , , , , , , , , , , , , , , , , , , , , , ,...</td>\n",
       "    </tr>\n",
       "    <tr>\n",
       "      <th>1079</th>\n",
       "      <td>operator.Run template e2e-aws-upi - e2e-aws-up...</td>\n",
       "      <td>None</td>\n",
       "      <td>[, , , , , , , , , , , , , , , , , , , , , , ,...</td>\n",
       "      <td>[{'count': 1, 'value': 0}, {'count': 47, 'valu...</td>\n",
       "      <td>[0, 1, 1, 1, 1, 1, 1, 1, 1, 1, 1, 1, 1, 1, 1, ...</td>\n",
       "      <td>[, , , , , , , , , , , , , , , , , , , , , , ,...</td>\n",
       "    </tr>\n",
       "  </tbody>\n",
       "</table>\n",
       "<p>1080 rows × 6 columns</p>\n",
       "</div>"
      ],
      "text/plain": [
       "                                                   name  \\\n",
       "0                                               Overall   \n",
       "1     [sig-api-machinery][Feature:APIServer][Late] k...   \n",
       "2     [sig-arch] Managed cluster should have no cras...   \n",
       "3     operator.Run template e2e-aws-upi - e2e-aws-up...   \n",
       "4     [sig-apps] CronJob should delete failed finish...   \n",
       "...                                                 ...   \n",
       "1075                        operator install service-ca   \n",
       "1076                           operator install storage   \n",
       "1077  operator.All images are built and tagged into ...   \n",
       "1078  operator.Find all of the input images from ocp...   \n",
       "1079  operator.Run template e2e-aws-upi - e2e-aws-up...   \n",
       "\n",
       "                                                  alert  \\\n",
       "0     {'fail-cl': '1', 'fail-count': 4, 'fail-time':...   \n",
       "1                                                  None   \n",
       "2                                                  None   \n",
       "3                                                  None   \n",
       "4                                                  None   \n",
       "...                                                 ...   \n",
       "1075                                               None   \n",
       "1076                                               None   \n",
       "1077                                               None   \n",
       "1078                                               None   \n",
       "1079                                               None   \n",
       "\n",
       "                                            short_texts  \\\n",
       "0     [, , , , , , , , , , , , , , , , , , , , , , ,...   \n",
       "1     [, , , , , , , , , , , , , , , , , , , , , , ,...   \n",
       "2     [, , , , , , , , , , , , , , , , , , , , , , ,...   \n",
       "3     [, , , , , , , , , , , , , , , , , , , , , , ,...   \n",
       "4     [, , , , , , , , , , , , , , , , , , , , , , ,...   \n",
       "...                                                 ...   \n",
       "1075  [, , , , , , , , , , , , , , , , , , , , , , ,...   \n",
       "1076  [, , , , , , , , , , , , , , , , , , , , , , ,...   \n",
       "1077  [, , , , , , , , , , , , , , , , , , , , , , ,...   \n",
       "1078  [, , , , , , , , , , , , , , , , , , , , , , ,...   \n",
       "1079  [, , , , , , , , , , , , , , , , , , , , , , ,...   \n",
       "\n",
       "                                               statuses  \\\n",
       "0     [{'count': 1, 'value': 4}, {'count': 4, 'value...   \n",
       "1     [{'count': 1, 'value': 0}, {'count': 1, 'value...   \n",
       "2     [{'count': 1, 'value': 0}, {'count': 1, 'value...   \n",
       "3     [{'count': 1, 'value': 0}, {'count': 1, 'value...   \n",
       "4     [{'count': 1, 'value': 0}, {'count': 1, 'value...   \n",
       "...                                                 ...   \n",
       "1075  [{'count': 97, 'value': 0}, {'count': 1, 'valu...   \n",
       "1076  [{'count': 97, 'value': 0}, {'count': 1, 'valu...   \n",
       "1077  [{'count': 1, 'value': 0}, {'count': 47, 'valu...   \n",
       "1078  [{'count': 1, 'value': 0}, {'count': 47, 'valu...   \n",
       "1079  [{'count': 1, 'value': 0}, {'count': 47, 'valu...   \n",
       "\n",
       "                                                 values  \\\n",
       "0     [4, 12, 12, 12, 12, 13, 13, 12, 13, 12, 12, 12...   \n",
       "1     [0, 12, 0, 0, 1, 1, 1, 1, 1, 1, 1, 1, 1, 1, 1,...   \n",
       "2     [0, 12, 0, 0, 12, 1, 1, 12, 13, 12, 12, 12, 12...   \n",
       "3     [0, 12, 1, 1, 12, 1, 1, 12, 1, 12, 12, 12, 12,...   \n",
       "4     [0, 13, 0, 0, 1, 1, 1, 1, 1, 1, 1, 1, 1, 1, 1,...   \n",
       "...                                                 ...   \n",
       "1075  [0, 0, 0, 0, 0, 0, 0, 0, 0, 0, 0, 0, 0, 0, 0, ...   \n",
       "1076  [0, 0, 0, 0, 0, 0, 0, 0, 0, 0, 0, 0, 0, 0, 0, ...   \n",
       "1077  [0, 1, 1, 1, 1, 1, 1, 1, 1, 1, 1, 1, 1, 1, 1, ...   \n",
       "1078  [0, 1, 1, 1, 1, 1, 1, 1, 1, 1, 1, 1, 1, 1, 1, ...   \n",
       "1079  [0, 1, 1, 1, 1, 1, 1, 1, 1, 1, 1, 1, 1, 1, 1, ...   \n",
       "\n",
       "                                              label_arr  \n",
       "0     [, , , , , , , , , , , , , , , , , , , , , , ,...  \n",
       "1     [, , , , , , , , , , , , , , , , , , , , , , ,...  \n",
       "2     [, , , , , , , , , , , , , , , , , , , , , , ,...  \n",
       "3     [, , , , , , , , , , , , , , , , , , , , , , ,...  \n",
       "4     [, , , , , , , , , , , , , , , , , , , , , , ,...  \n",
       "...                                                 ...  \n",
       "1075  [, , , , , , , , , , , , , , , , , , , , , , ,...  \n",
       "1076  [, , , , , , , , , , , , , , , , , , , , , , ,...  \n",
       "1077  [, , , , , , , , , , , , , , , , , , , , , , ,...  \n",
       "1078  [, , , , , , , , , , , , , , , , , , , , , , ,...  \n",
       "1079  [, , , , , , , , , , , , , , , , , , , , , , ,...  \n",
       "\n",
       "[1080 rows x 6 columns]"
      ]
     },
     "execution_count": 6,
     "metadata": {},
     "output_type": "execute_result"
    }
   ],
   "source": [
    "details"
   ]
  },
  {
   "cell_type": "markdown",
   "metadata": {},
   "source": [
    "TestGrids are made of a set of tests that either pass or failing over time, essentially they are multidimensional time series where the values can take either 0 (not run), 1 (pass), 12 (fail), or 13(flaky). \n",
    "\n",
    "Now that we have all our data unrolled, lets plot it. We will use green color for pass (1), red color for fail (12), white color for not run (0) and purple color for flaky (13). We plotted just the first 40 rows to save space."
   ]
  },
  {
   "cell_type": "code",
   "execution_count": 7,
   "metadata": {
    "ExecuteTime": {
     "end_time": "2020-11-24T04:23:15.942052Z",
     "start_time": "2020-11-24T04:23:11.558304Z"
    }
   },
   "outputs": [
    {
     "data": {
      "image/png": "[encoded data removed]",
      "text/plain": [
       "<Figure size 1440x720 with 1 Axes>"
      ]
     },
     "metadata": {
      "needs_background": "light"
     },
     "output_type": "display_data"
    }
   ],
   "source": [
    "plt.figure(figsize=(20, 10))\n",
    "cmap = colors.ListedColormap([\"white\", \"green\", \"red\", \"purple\"])\n",
    "norm = colors.BoundaryNorm(boundaries=[0, 1, 12, 13], ncolors=3)\n",
    "sns.heatmap(\n",
    "    np.array(list(details[\"values\"][:40].values)),\n",
    "    annot=np.array(list(details[\"label_arr\"][:40].values)),\n",
    "    fmt=\"\",\n",
    "    cmap=cmap,\n",
    "    norm=norm,\n",
    "    cbar=False,\n",
    "    linewidths=0.1,\n",
    "    linecolor=\"Black\",\n",
    ")\n",
    "plt.show()"
   ]
  },
  {
   "cell_type": "markdown",
   "metadata": {
    "ExecuteTime": {
     "end_time": "2020-11-16T16:42:31.790008Z",
     "start_time": "2020-11-16T16:42:31.786912Z"
    }
   },
   "source": [
    "Cells with Purple color in the above graph are the existing flake labels. Currently, each failed test is retry, and if it's passed on a subsequent run it is considered as flaky. "
   ]
  },
  {
   "cell_type": "markdown",
   "metadata": {
    "ExecuteTime": {
     "end_time": "2020-11-06T14:48:18.171340Z",
     "start_time": "2020-11-06T14:48:18.169258Z"
    }
   },
   "source": [
    "# Flaky test detection\n",
    "\n",
    "In the following section, we will explore different methods to detect flaky test. "
   ]
  },
  {
   "cell_type": "markdown",
   "metadata": {
    "ExecuteTime": {
     "end_time": "2020-11-06T14:49:12.344626Z",
     "start_time": "2020-11-06T14:49:12.342633Z"
    }
   },
   "source": [
    "## Naive flakiness method\n",
    "\n",
    "This method calculates flakiness as a ratio of failed tests to total tests. Flaky test passes and fails on several successive revisions, but this method cannot catch this signal of the flaky test. "
   ]
  },
  {
   "cell_type": "code",
   "execution_count": 8,
   "metadata": {
    "ExecuteTime": {
     "end_time": "2020-11-19T20:16:37.274191Z",
     "start_time": "2020-11-19T20:16:37.271422Z"
    }
   },
   "outputs": [],
   "source": [
    "def naive_flake_calc(test_row):\n",
    "    return 100 * (np.array(test_row) == 12).sum() / len(test_row)"
   ]
  },
  {
   "cell_type": "markdown",
   "metadata": {},
   "source": [
    "In the following cell, we have shown a drawback of the naive flakiness method. As we can see in the below cell, we have `test_array` consist of consecutive test failures over a certain period type, which is not an attribute of a flaky test still. However, we got a high flakiness score. "
   ]
  },
  {
   "cell_type": "code",
   "execution_count": 9,
   "metadata": {
    "ExecuteTime": {
     "end_time": "2020-11-19T20:16:45.999136Z",
     "start_time": "2020-11-19T20:16:45.994511Z"
    }
   },
   "outputs": [
    {
     "data": {
      "text/plain": [
       "45.833333333333336"
      ]
     },
     "execution_count": 9,
     "metadata": {},
     "output_type": "execute_result"
    }
   ],
   "source": [
    "test_array = [1] * 6 + [12] * 11 + [1] * 7\n",
    "naive_flake_calc(test_array)"
   ]
  },
  {
   "cell_type": "markdown",
   "metadata": {},
   "source": [
    "##  Flip flakiness method\n",
    "\n",
    "As we discussed earlier, flaky test pass and fail across multiple runs over a certain period of time. We trigger this behavior of a flaky test by using the concept of edge. Edge is the transition of a particular test case from pass to fail. Let's dig this behavior into more detail using the following example."
   ]
  },
  {
   "cell_type": "code",
   "execution_count": 10,
   "metadata": {
    "ExecuteTime": {
     "end_time": "2020-11-19T20:16:47.304213Z",
     "start_time": "2020-11-19T20:16:47.099005Z"
    }
   },
   "outputs": [
    {
     "data": {
      "image/png": "[encoded data removed]",
      "text/plain": [
       "<Figure size 1440x720 with 2 Axes>"
      ]
     },
     "metadata": {
      "needs_background": "light"
     },
     "output_type": "display_data"
    }
   ],
   "source": [
    "plt.figure(\n",
    "    figsize=(20, 10)\n",
    ")  # instantiating figure to be 5\"x5\", 100 dpi resolution\n",
    "\n",
    "\n",
    "test_array = [1] * 6 + [12] * 11 + [1] * 7\n",
    "x = np.arange(len(test_array))\n",
    "plt.subplot(2, 1, 1, aspect=0.3)\n",
    "plt.step(x, test_array)\n",
    "plt.title(\"Single edge and multiple fails\", fontsize=20)\n",
    "\n",
    "plt.subplot(2, 1, 2, aspect=0.3)\n",
    "test_array_1 = [1] * 5 + [1, 12] * 8 + [1] * 3\n",
    "plt.step(x, test_array_1)\n",
    "plt.title(\"multiple edges and multiple fails\", fontsize=20)\n",
    "\n",
    "\n",
    "plt.show()"
   ]
  },
  {
   "cell_type": "markdown",
   "metadata": {},
   "source": [
    "In the images above, we have shown test case results for 25 runs. In the first image, we can see there are multiple fails but only a single edge. In the second image, we have fewer fails compared to first images but multiple edges. Therefore, the second test exhibits a more irregular behavior pattern with many more edges. Therefore, we can conclude that test case 2 is more likely to be a flaky test, whereas test case 1 seems not to be.\n",
    "\n",
    "We calculated the flakiness score as the number of edges divided by total runs. The most common approach to detect flaky test is to run flaky test multiple times and if it's passes in any run then it is not considerd flaky test [Refrence](http://mir.cs.illinois.edu/~eloussi2/publications/fse14.pdf). At google, If the test is failing three times in a row, then only it reported as real failures; otherwise, it's considered a flaky test [Refrence](https://testing.googleblog.com/2016/05/flaky-tests-at-google-and-how-we.html). Hence, we ignored more than three consecutive failures and test cases that are not run while calculating the flakiness score.\n",
    "\n",
    "Flakiness score lies between 0 and 100; 0 is no flakiness, and 100 is maximum flakiness. "
   ]
  },
  {
   "cell_type": "code",
   "execution_count": 11,
   "metadata": {
    "ExecuteTime": {
     "end_time": "2020-11-19T20:16:49.335634Z",
     "start_time": "2020-11-19T20:16:49.326743Z"
    }
   },
   "outputs": [],
   "source": [
    "def calc_consecutive_failures(test_row, i):\n",
    "    \"\"\"This function calculates number of consecutive failures\n",
    "\n",
    "    Parameters\n",
    "    ----------\n",
    "    test_row : array\n",
    "            array of test runs with 0, 1, 12 values as not run, pass, fail respectively\n",
    "    i : float, int\n",
    "            index in array i\n",
    "\n",
    "    Returns\n",
    "    ----------\n",
    "    result: int\n",
    "            number of consecutive failures from index i\n",
    "    \"\"\"\n",
    "\n",
    "    result = 0\n",
    "    while i < len(test_row) and (test_row[i] == 12 or test_row[i] == 0):\n",
    "        if test_row[i] == 12:\n",
    "            result += 1\n",
    "        i += 1\n",
    "    return result\n",
    "\n",
    "\n",
    "def calc_flakiness_score(test_row, ignore_failures_in_a_row=3):\n",
    "    \"\"\"This function calculate flakiness score as the number of edges divided by total runs.\n",
    "    At google, If the test is failing three times in a row, then only it reported as real failures;\n",
    "    otherwise, it's considered a flaky test.\n",
    "    (https://testing.googleblog.com/2016/05/flaky-tests-at-google-and-how-we.html)\n",
    "    Hence, we ignored three or more than three consecutive failures\n",
    "    and test cases that are not run while calculating the flakiness score.\n",
    "\n",
    "    We always considerd label 13 as a edge.\n",
    "    since Currently, each failed test is retry, and if it's passed on a subsequent run it is considered as flaky.\n",
    "\n",
    "    Parameters\n",
    "    ----------\n",
    "    test_row : array\n",
    "            array of test runs with 0, 1, 12, 13 values as not run, pass, fail, flaky respectively\n",
    "\n",
    "    Returns\n",
    "    ----------\n",
    "    flakiness: int\n",
    "            Flakiness score lies between 0 and 100; 0 is no flakiness, and 100 is maximum flakiness.\n",
    "    \"\"\"\n",
    "    flips = 0\n",
    "    i = 0\n",
    "    ## ignore not run instances in the starting\n",
    "    while i < len(test_row) and test_row[i] == 0:\n",
    "        i += 1\n",
    "\n",
    "    ## intializing last_passing variable value\n",
    "    if i >= len(test_row):\n",
    "        return 0\n",
    "    elif test_row[i] == 1:\n",
    "        last_passing = True\n",
    "    elif test_row[i] == 13:\n",
    "        last_passing = True\n",
    "        flips += 1\n",
    "    elif test_row[i] == 12:\n",
    "        last_passing = False\n",
    "    else:\n",
    "        last_passing = True\n",
    "    considerd = 1\n",
    "    i += 1\n",
    "\n",
    "    while i < len(test_row):\n",
    "        ## ignoring more than three consecutive failures\n",
    "        ## If the test is consecutively failing for three or more than three runs,\n",
    "        ## we considered did not consider it an edge.\n",
    "        cf = calc_consecutive_failures(test_row, i)\n",
    "        if cf >= ignore_failures_in_a_row:\n",
    "            i = i + cf\n",
    "            if i >= len(test_row):\n",
    "                break\n",
    "\n",
    "        s = test_row[i]\n",
    "        if s == 1:\n",
    "            ## run is pass\n",
    "            considerd += 1\n",
    "            last_passing = True\n",
    "        elif s == 0:\n",
    "            ## not run\n",
    "            pass\n",
    "        elif s == 13:\n",
    "            ## flaky\n",
    "            flips += 1\n",
    "            considerd += 1\n",
    "            last_passing = True\n",
    "        elif s == 12:\n",
    "            ## run is fail\n",
    "            considerd += 1\n",
    "            if last_passing:\n",
    "                flips += 1\n",
    "            last_passing = False\n",
    "        i += 1\n",
    "    if considerd == 0:\n",
    "        return 0\n",
    "    ## multiplying by 2 since flakiness score lies between 0 and 100\n",
    "    flakiness = (flips / (considerd)) * 100\n",
    "    return flakiness"
   ]
  },
  {
   "cell_type": "markdown",
   "metadata": {},
   "source": [
    "Below, we have tested our function using some basic test cases."
   ]
  },
  {
   "cell_type": "code",
   "execution_count": 12,
   "metadata": {
    "ExecuteTime": {
     "end_time": "2020-11-19T20:16:50.968854Z",
     "start_time": "2020-11-19T20:16:50.864457Z"
    }
   },
   "outputs": [
    {
     "data": {
      "image/png": "[encoded data removed]",
      "text/plain": [
       "<Figure size 1440x720 with 1 Axes>"
      ]
     },
     "metadata": {
      "needs_background": "light"
     },
     "output_type": "display_data"
    },
    {
     "name": "stdout",
     "output_type": "stream",
     "text": [
      "flakiness score of above test run using flip-flakiness method is:  0.0\n"
     ]
    }
   ],
   "source": [
    "plt.figure(figsize=(20, 10))\n",
    "x = np.arange(len(test_array))\n",
    "plt.step(x, test_array)\n",
    "plt.ylim(1, 13)\n",
    "plt.axes().set_aspect(0.2)\n",
    "plt.show()\n",
    "\n",
    "print(\n",
    "    \"flakiness score of above test run using flip-flakiness method is: \",\n",
    "    calc_flakiness_score(test_array),\n",
    ")"
   ]
  },
  {
   "cell_type": "markdown",
   "metadata": {},
   "source": [
    "In the above figure, we can see there is only one edge with more than three consecutive failures. Hence we did not consider the above test as a flaky test. Hence, the total flakiness score using the `flip flakiness` method is 0"
   ]
  },
  {
   "cell_type": "code",
   "execution_count": 13,
   "metadata": {
    "ExecuteTime": {
     "end_time": "2020-11-19T20:16:52.621886Z",
     "start_time": "2020-11-19T20:16:52.519196Z"
    }
   },
   "outputs": [
    {
     "data": {
      "image/png": "[encoded data removed]",
      "text/plain": [
       "<Figure size 1440x720 with 1 Axes>"
      ]
     },
     "metadata": {
      "needs_background": "light"
     },
     "output_type": "display_data"
    },
    {
     "name": "stdout",
     "output_type": "stream",
     "text": [
      "flakiness score of above test run using flip-flakiness method is:  33.33333333333333\n"
     ]
    }
   ],
   "source": [
    "plt.figure(figsize=(20, 10))\n",
    "x = np.arange(len(test_array_1))\n",
    "plt.step(x, test_array_1)\n",
    "plt.ylim(1, 13)\n",
    "plt.axes().set_aspect(0.2)\n",
    "plt.show()\n",
    "\n",
    "print(\n",
    "    \"flakiness score of above test run using flip-flakiness method is: \",\n",
    "    calc_flakiness_score(test_array_1),\n",
    ")"
   ]
  },
  {
   "cell_type": "markdown",
   "metadata": {},
   "source": [
    "In the above figure, we can see there are multiples edges. Hence, this test exhibits a more irregular behavior pattern. Therefore, our flakiness score is on the higher side. "
   ]
  },
  {
   "cell_type": "code",
   "execution_count": 14,
   "metadata": {
    "ExecuteTime": {
     "end_time": "2020-11-19T20:17:20.428333Z",
     "start_time": "2020-11-19T20:17:20.304348Z"
    }
   },
   "outputs": [
    {
     "data": {
      "image/png": "[encoded data removed]",
      "text/plain": [
       "<Figure size 1440x720 with 1 Axes>"
      ]
     },
     "metadata": {
      "needs_background": "light"
     },
     "output_type": "display_data"
    },
    {
     "name": "stdout",
     "output_type": "stream",
     "text": [
      "flakiness score of above test run using flip-flakiness method is:  50.0\n"
     ]
    }
   ],
   "source": [
    "plt.figure(figsize=(20, 10))\n",
    "test_array_7 = [1, 12] * 11\n",
    "x = np.arange(len(test_array_7))\n",
    "plt.step(x, test_array_7)\n",
    "plt.ylim(1, 13)\n",
    "plt.axes().set_aspect(0.2)\n",
    "plt.show()\n",
    "\n",
    "print(\n",
    "    \"flakiness score of above test run using flip-flakiness method is: \",\n",
    "    calc_flakiness_score(test_array_7),\n",
    ")"
   ]
  },
  {
   "cell_type": "markdown",
   "metadata": {},
   "source": [
    "In the above figure, we have shown the extreme flaky test with irregular behavior patterns. Therefore, our flakiness score is 50."
   ]
  },
  {
   "cell_type": "code",
   "execution_count": 15,
   "metadata": {
    "ExecuteTime": {
     "end_time": "2020-11-19T20:18:12.906952Z",
     "start_time": "2020-11-19T20:18:12.777591Z"
    }
   },
   "outputs": [
    {
     "data": {
      "image/png": "[encoded data removed]",
      "text/plain": [
       "<Figure size 1440x720 with 1 Axes>"
      ]
     },
     "metadata": {
      "needs_background": "light"
     },
     "output_type": "display_data"
    },
    {
     "name": "stdout",
     "output_type": "stream",
     "text": [
      "flakiness score of above test run using flip-flakiness method is: 0.0\n"
     ]
    }
   ],
   "source": [
    "plt.figure(figsize=(20, 10))\n",
    "test_array_2 = [1] * 24\n",
    "x = np.arange(len(test_array_2))\n",
    "plt.step(x, test_array_2)\n",
    "plt.ylim(1, 13)\n",
    "plt.axes().set_aspect(0.2)\n",
    "plt.show()\n",
    "\n",
    "print(\n",
    "    \"flakiness score of above test run using flip-flakiness method is:\",\n",
    "    calc_flakiness_score(test_array_2),\n",
    ")"
   ]
  },
  {
   "cell_type": "markdown",
   "metadata": {},
   "source": [
    "In the above figure, we can see all the test runs passed. Hence, our flakiness score is 0"
   ]
  },
  {
   "cell_type": "code",
   "execution_count": 16,
   "metadata": {
    "ExecuteTime": {
     "end_time": "2020-11-19T20:18:55.257570Z",
     "start_time": "2020-11-19T20:18:55.153735Z"
    }
   },
   "outputs": [
    {
     "data": {
      "image/png": "[encoded data removed]",
      "text/plain": [
       "<Figure size 1440x720 with 1 Axes>"
      ]
     },
     "metadata": {
      "needs_background": "light"
     },
     "output_type": "display_data"
    },
    {
     "name": "stdout",
     "output_type": "stream",
     "text": [
      "flakiness score of above test run using flip-flakiness method is:  0.0\n"
     ]
    }
   ],
   "source": [
    "plt.figure(figsize=(20, 10))\n",
    "test_array_3 = [12] * 24\n",
    "x = np.arange(len(test_array_3))\n",
    "plt.step(x, test_array_3)\n",
    "plt.ylim(1, 13)\n",
    "plt.axes().set_aspect(0.2)\n",
    "plt.show()\n",
    "\n",
    "print(\n",
    "    \"flakiness score of above test run using flip-flakiness method is: \",\n",
    "    calc_flakiness_score(test_array_3),\n",
    ")"
   ]
  },
  {
   "cell_type": "markdown",
   "metadata": {},
   "source": [
    "In the above figure, we can see there is no edge in this test run, and there are consistent failures occurring for all the runs. Hence we did not consider the above test as a flaky test. Hence, the total flakiness score using the `flip flakiness` method is 0"
   ]
  },
  {
   "cell_type": "code",
   "execution_count": 17,
   "metadata": {
    "ExecuteTime": {
     "end_time": "2020-11-19T20:19:32.185933Z",
     "start_time": "2020-11-19T20:19:32.181639Z"
    }
   },
   "outputs": [
    {
     "data": {
      "text/plain": [
       "0.0"
      ]
     },
     "execution_count": 17,
     "metadata": {},
     "output_type": "execute_result"
    }
   ],
   "source": [
    "test_array_4 = [12, 0] * 2 + [12] * 5 + [0] * 2 + [12] * 7\n",
    "calc_flakiness_score(test_array_4)"
   ]
  },
  {
   "cell_type": "markdown",
   "metadata": {},
   "source": [
    "Above, we can see we ignore not run instants in our calculation of flakiness score. <br>\n",
    "Below, we are included test cases from testgrid repos. [Refrence](https://github.com/GoogleCloudPlatform/testgrid/blob/2a016ff75a27fff1550f5e9f5319cf0114182547/pkg/summarizer/analyzers/flipanalyzer_test.go)"
   ]
  },
  {
   "cell_type": "code",
   "execution_count": 18,
   "metadata": {
    "ExecuteTime": {
     "end_time": "2020-11-19T20:19:33.985966Z",
     "start_time": "2020-11-19T20:19:33.979296Z"
    }
   },
   "outputs": [
    {
     "name": "stdout",
     "output_type": "stream",
     "text": [
      "Zeroth test case Passed\n",
      "First test case Passed\n",
      "Second test case Passed\n",
      "Thrid test case Passed\n",
      "Fourth test case Passed\n",
      "Fifth test case Passed\n"
     ]
    }
   ],
   "source": [
    "test_array_google_0 = []\n",
    "print(\n",
    "    \"Zeroth test case\",\n",
    "    \"Passed\" if calc_flakiness_score(test_array_google_0) == 0 else \"Failed\",\n",
    ")\n",
    "test_array_google_1 = [1, 1, 1]\n",
    "print(\n",
    "    \"First test case\",\n",
    "    \"Passed\" if calc_flakiness_score(test_array_google_1) == 0 else \"Failed\",\n",
    ")\n",
    "test_array_google_2 = [1, 12, 1, 1, 13, 1, 1, 1, 1, 12]\n",
    "print(\n",
    "    \"Second test case\",\n",
    "    \"Passed\" if calc_flakiness_score(test_array_google_2) == 30 else \"Failed\",\n",
    ")\n",
    "test_array_google_3 = [1, 12, 12, 1, 1, 1, 1, 12, 1, 1]\n",
    "print(\n",
    "    \"Thrid test case\",\n",
    "    \"Passed\" if calc_flakiness_score(test_array_google_3) == 20 else \"Failed\",\n",
    ")\n",
    "test_array_google_4 = [1, 12, 12, 12, 12, 12, 1, 12, 1, 12]\n",
    "print(\n",
    "    \"Fourth test case\",\n",
    "    \"Passed\" if calc_flakiness_score(test_array_google_4) == 40 else \"Failed\",\n",
    ")\n",
    "test_array_google_5 = [1, 12, 12, 13, 12, 12, 1, 12, 1, 12]\n",
    "print(\n",
    "    \"Fifth test case\",\n",
    "    \"Passed\" if calc_flakiness_score(test_array_google_5) == 50 else \"Failed\",\n",
    ")"
   ]
  },
  {
   "cell_type": "markdown",
   "metadata": {},
   "source": [
    "## Flip Flakiness with Optimal Distance\n",
    "\n",
    "One of the downsides of finding a single value for each test case is that there might be two different consecutive time periods for which the test case is behaving flaky. Or the number of edges is relatively low compares to total runes; hence your flakiness score is really low, but the test is still flaky. Let's illustrate this statement by the example. "
   ]
  },
  {
   "cell_type": "code",
   "execution_count": 19,
   "metadata": {
    "ExecuteTime": {
     "end_time": "2020-11-19T20:19:35.230555Z",
     "start_time": "2020-11-19T20:19:35.147159Z"
    }
   },
   "outputs": [
    {
     "data": {
      "image/png": "[encoded data removed]",
      "text/plain": [
       "<Figure size 1440x720 with 1 Axes>"
      ]
     },
     "metadata": {
      "needs_background": "light"
     },
     "output_type": "display_data"
    },
    {
     "name": "stdout",
     "output_type": "stream",
     "text": [
      "flakiness score of above test run using flip-flakiness method is:  8.620689655172415\n"
     ]
    }
   ],
   "source": [
    "plt.figure(figsize=(20, 10))\n",
    "test_array_5 = (\n",
    "    [1] * 8 + [1, 12] * 2 + [1] * 23 + [1, 12, 1, 1, 12, 1, 12] + [1] * 16\n",
    ")\n",
    "x = np.arange(len(test_array_5))\n",
    "plt.step(x, test_array_5)\n",
    "plt.ylim(1, 14)\n",
    "plt.axes().set_aspect(0.2)\n",
    "plt.show()\n",
    "\n",
    "print(\n",
    "    \"flakiness score of above test run using flip-flakiness method is: \",\n",
    "    calc_flakiness_score(test_array_5),\n",
    ")"
   ]
  },
  {
   "cell_type": "markdown",
   "metadata": {},
   "source": [
    "As we can see in the above image, we have two separate time periods for which behavior is flaky. We can see that the behavior of the test is flaky between runs [8,11] and [35,41]. However, our flakiness score is low since the total number of runs is higher. "
   ]
  },
  {
   "cell_type": "code",
   "execution_count": 20,
   "metadata": {
    "ExecuteTime": {
     "end_time": "2020-11-19T20:19:41.569081Z",
     "start_time": "2020-11-19T20:19:41.486744Z"
    }
   },
   "outputs": [
    {
     "data": {
      "image/png": "[encoded data removed]",
      "text/plain": [
       "<Figure size 1440x720 with 1 Axes>"
      ]
     },
     "metadata": {
      "needs_background": "light"
     },
     "output_type": "display_data"
    },
    {
     "name": "stdout",
     "output_type": "stream",
     "text": [
      "flakiness score of above test run using flip-flakiness method is:  3.508771929824561\n"
     ]
    }
   ],
   "source": [
    "plt.figure(figsize=(20, 10))\n",
    "test_array_6 = [1] * 8 + [1, 12] * 2 + [1] * 45\n",
    "x = np.arange(len(test_array_6))\n",
    "plt.step(x, test_array_6)\n",
    "plt.ylim(1, 13)\n",
    "plt.axes().set_aspect(0.2)\n",
    "plt.show()\n",
    "\n",
    "print(\n",
    "    \"flakiness score of above test run using flip-flakiness method is: \",\n",
    "    calc_flakiness_score(test_array_6),\n",
    ")"
   ]
  },
  {
   "cell_type": "markdown",
   "metadata": {},
   "source": [
    "Similarly, in the above image, we can see that the behavior of the test is flaky between runs [4,7]. However, our flakiness score is low since the number of the total number of runs is higher. "
   ]
  },
  {
   "cell_type": "markdown",
   "metadata": {},
   "source": [
    "To overcome this downside, instead of calculating the flakiness score on the entire run. We just decided to calculate the flakiness score between edges since it will maximize our flakiness score. More specifically, we calculated the flakiness score between the two farthest edges, which have a flakiness score greater than a certain threshold.  Currently, we are using the threshold as flakiness score 30, but we can change it according to need of the application. "
   ]
  },
  {
   "cell_type": "code",
   "execution_count": 21,
   "metadata": {},
   "outputs": [],
   "source": [
    "def calc_flake_edges(test_array):\n",
    "    \"\"\"This function calculates the edges,  Edge is the transition of a particular test case from pass to fail.\n",
    "\n",
    "    Parameters\n",
    "    ----------\n",
    "    test_row : array\n",
    "            array of test runs with 0, 1, 12, 13 values as not run, pass, fail, flaky respectively\n",
    "\n",
    "    Returns\n",
    "    ----------\n",
    "    flake_edges: numpy array\n",
    "                        array where the value are the starting of the edge\n",
    "\n",
    "    \"\"\"\n",
    "    flake_edges = []  ## array to store edges\n",
    "    ignore_failures_in_a_row = 3\n",
    "    i = 0\n",
    "    valid = 0\n",
    "    while i < len(test_array) and test_array[i] == 0:\n",
    "        i += 1\n",
    "    ## intializing last_passing variable value\n",
    "    if i >= len(test_array):\n",
    "        return 0\n",
    "    elif test_array[i] == 1:\n",
    "        last_passing = True\n",
    "        valid = i\n",
    "    elif test_array[i] == 13:\n",
    "        last_passing = True\n",
    "    elif test_array[i] == 12:\n",
    "        last_passing = False\n",
    "    else:\n",
    "        last_passing = True\n",
    "    i += 1\n",
    "\n",
    "    ## Finding all the edges in our test runs\n",
    "    while i < len(test_array):\n",
    "        ## ignoring more than three consecutive failures\n",
    "        ## If the test is consecutively failing for three or more than three runs,\n",
    "        ## we considered did not consider it an edge.\n",
    "        cf = calc_consecutive_failures(test_array, i)\n",
    "        if cf >= ignore_failures_in_a_row:\n",
    "            i = i + cf\n",
    "            if i >= len(test_array):\n",
    "                break\n",
    "\n",
    "        s = test_array[i]\n",
    "        if s == 1:\n",
    "            ## run is pass\n",
    "            last_passing = True\n",
    "            valid = i\n",
    "        elif s == 0:\n",
    "            ## not run\n",
    "            pass\n",
    "        elif s == 13:\n",
    "            last_passing = True\n",
    "            flake_edges.append(i)\n",
    "        elif s == 12:\n",
    "            ## run is fail\n",
    "            if last_passing:\n",
    "                flake_edges.append(valid)\n",
    "            last_passing = False\n",
    "        i = i + 1\n",
    "    return flake_edges\n",
    "\n",
    "\n",
    "def flake_edge_end(test_array, flake_edges, index):\n",
    "    \"\"\"This function calculates the end of the edges and starting of the edge will always be 1 or 13\n",
    "    Parameters\n",
    "    ----------\n",
    "    test_row : array\n",
    "            array of test runs with 0, 1, 12, 13 values as not run, pass, fail, flaky respectively\n",
    "\n",
    "    Returns\n",
    "    ----------\n",
    "    flake_edges: numpy array\n",
    "                        array where the value are the starting of the edge\n",
    "\n",
    "    \"\"\"\n",
    "    flake_end = flake_edges[index]\n",
    "    while test_array[flake_end] != 12 and test_array[flake_end] != 13:\n",
    "        flake_end = flake_end + 1\n",
    "        if flake_end > len(test_array):\n",
    "            break\n",
    "    return flake_end\n",
    "\n",
    "\n",
    "def calc_optimal_flakiness_score(test_array, threshold=30):\n",
    "    \"\"\"calculate the flakiness score between edges since it will maximize our flakiness score.\n",
    "    More specifically, we calculated the flakiness score between the two farthest edges,\n",
    "    which have a flakiness score greater than a certain threshold.\n",
    "\n",
    "    Parameters\n",
    "    ----------\n",
    "    test_row : array\n",
    "            array of test runs with 0, 1, 12, 13 values as not run, pass, fail, flaky respectively\n",
    "    threshold: int default 30\n",
    "\n",
    "    Returns\n",
    "    ----------\n",
    "    modified_test_array: numpy array\n",
    "                        modified test grid where the value of failure due to flake is 13\n",
    "    flake_edges_dict: dictionary\n",
    "            key of the dictionary is a tuple of time period, and value is the flakiness score between the time period\n",
    "    \"\"\"\n",
    "    modified_test_array = test_array.copy()\n",
    "    flake_edges_dict = {}\n",
    "    flake_edges = calc_flake_edges(test_array)\n",
    "    ## flakiness score between the two farthest edges, which have a flakiness score greater than a certain threshold.\n",
    "    p = 0\n",
    "    q = 0\n",
    "    while p < len(flake_edges):\n",
    "        possible_flake = False\n",
    "        for q in range(p + 1, len(flake_edges)):\n",
    "            flake_end = flake_edge_end(test_array, flake_edges, q)\n",
    "            curr_flake = calc_flakiness_score(\n",
    "                test_array[flake_edges[p] : flake_end + 1]\n",
    "            )\n",
    "            if curr_flake > threshold:\n",
    "                possible_flake = True\n",
    "                max_flake = curr_flake\n",
    "                max_p = flake_edges[p]\n",
    "                max_q = flake_end\n",
    "            else:\n",
    "                break\n",
    "        p = q\n",
    "        if possible_flake:\n",
    "            for k in range(max_p, flake_end + 1):\n",
    "                if modified_test_array[k] == 12:\n",
    "                    modified_test_array[k] = 13\n",
    "                    curr = k + 1\n",
    "                    while curr < len(modified_test_array):\n",
    "                        if modified_test_array[curr] == 12:\n",
    "                            modified_test_array[curr] = 13\n",
    "                        else:\n",
    "                            break\n",
    "            arr = []\n",
    "            arr.append(max_p)\n",
    "            arr.append(max_q)\n",
    "            flake_edges_dict[tuple(arr)] = max_flake\n",
    "        if p == len(flake_edges) - 1:\n",
    "            break\n",
    "    return modified_test_array, flake_edges_dict"
   ]
  },
  {
   "cell_type": "code",
   "execution_count": 22,
   "metadata": {
    "ExecuteTime": {
     "end_time": "2020-11-19T20:19:43.079987Z",
     "start_time": "2020-11-19T20:19:42.986171Z"
    }
   },
   "outputs": [
    {
     "data": {
      "image/png": "[encoded data removed]",
      "text/plain": [
       "<Figure size 1440x720 with 1 Axes>"
      ]
     },
     "metadata": {
      "needs_background": "light"
     },
     "output_type": "display_data"
    },
    {
     "name": "stdout",
     "output_type": "stream",
     "text": [
      "flakiness score dictionary using Flip Flakiness with Optimal Distance method is:  {(8, 11): 50.0, (35, 41): 42.857142857142854}\n"
     ]
    }
   ],
   "source": [
    "plt.figure(figsize=(20, 10))\n",
    "x = np.arange(len(test_array_5))\n",
    "plt.step(x, test_array_5)\n",
    "plt.ylim(1, 14)\n",
    "plt.axes().set_aspect(0.2)\n",
    "plt.show()\n",
    "\n",
    "modified_test_array, flake_dict = calc_optimal_flakiness_score(test_array_5)\n",
    "print(\n",
    "    \"flakiness score dictionary using Flip Flakiness with Optimal Distance method is: \",\n",
    "    flake_dict,\n",
    ")"
   ]
  },
  {
   "cell_type": "markdown",
   "metadata": {},
   "source": [
    "As we can see in the above image, we have two separate time periods for which behavior is flaky. We can see that the behavior of the test is flaky between runs [8,11] and [35,41]. Using `flip flakiness with optimal distance` methods we can see above, we have a flakiness score of 50 between test run 8 to 11 and a flakiness score of 42.85 between test run 35 to 41."
   ]
  },
  {
   "cell_type": "code",
   "execution_count": 23,
   "metadata": {
    "ExecuteTime": {
     "end_time": "2020-11-19T20:19:43.976945Z",
     "start_time": "2020-11-19T20:19:43.888060Z"
    }
   },
   "outputs": [
    {
     "data": {
      "image/png": "[encoded data removed]",
      "text/plain": [
       "<Figure size 1440x720 with 1 Axes>"
      ]
     },
     "metadata": {
      "needs_background": "light"
     },
     "output_type": "display_data"
    },
    {
     "name": "stdout",
     "output_type": "stream",
     "text": [
      "flakiness score dictionary using Flip Flakiness with Optimal Distance method is:  {(8, 11): 50.0}\n"
     ]
    }
   ],
   "source": [
    "plt.figure(figsize=(20, 10))\n",
    "x = np.arange(len(test_array_6))\n",
    "plt.step(x, test_array_6)\n",
    "plt.ylim(1, 13)\n",
    "plt.axes().set_aspect(0.2)\n",
    "plt.show()\n",
    "\n",
    "modified_test_array, flake_dict = calc_optimal_flakiness_score(test_array_6)\n",
    "print(\n",
    "    \"flakiness score dictionary using Flip Flakiness with Optimal Distance method is: \",\n",
    "    flake_dict,\n",
    ")"
   ]
  },
  {
   "cell_type": "markdown",
   "metadata": {},
   "source": [
    "As we can see above, we have a flakiness score of 50 between test run 8 to 11."
   ]
  },
  {
   "cell_type": "markdown",
   "metadata": {},
   "source": [
    "# Comparision of different methods\n",
    "\n",
    "## Comparison of custom test cases\n",
    "Below we are comparing custom test runs."
   ]
  },
  {
   "cell_type": "code",
   "execution_count": 24,
   "metadata": {
    "ExecuteTime": {
     "end_time": "2020-11-19T20:19:45.280113Z",
     "start_time": "2020-11-19T20:19:45.175637Z"
    }
   },
   "outputs": [
    {
     "data": {
      "image/png": "[encoded data removed]",
      "text/plain": [
       "<Figure size 1440x720 with 1 Axes>"
      ]
     },
     "metadata": {
      "needs_background": "light"
     },
     "output_type": "display_data"
    },
    {
     "name": "stdout",
     "output_type": "stream",
     "text": [
      "flakiness score of above test run using naive method is:  45.833333333333336  and total flaky test detecteds are  11\n",
      "flakiness score of above test run using flip-flakiness method is:  0.0  and total flaky test detecteds are  0\n",
      "flakiness score dictionary using Flip Flakiness with Optimal Distance method is:  {}  and total flaky test detecteds are  0\n"
     ]
    }
   ],
   "source": [
    "def flake_annotation(val_array, flake_score, flake_score_threshold):\n",
    "    if flake_score > flake_score_threshold:\n",
    "        return [13 if (x == 12) else x for x in val_array]\n",
    "    else:\n",
    "        return val_array\n",
    "\n",
    "\n",
    "plt.figure(figsize=(20, 10))\n",
    "x = np.arange(len(test_array))\n",
    "plt.step(x, test_array)\n",
    "plt.ylim(1, 13)\n",
    "plt.axes().set_aspect(0.2)\n",
    "plt.show()\n",
    "\n",
    "naive_score = naive_flake_calc(test_array)\n",
    "total_error_naive = flake_annotation(test_array, naive_score, 10).count(13)\n",
    "flip_score = calc_flakiness_score(test_array)\n",
    "total_error_flip = flake_annotation(test_array, flip_score, 10).count(13)\n",
    "modified_test_array, flake_dict = calc_optimal_flakiness_score(test_array, 0)\n",
    "total_error_optimal_flip = modified_test_array.count(13)\n",
    "\n",
    "print(\n",
    "    \"flakiness score of above test run using naive method is: \",\n",
    "    naive_score,\n",
    "    \" and total flaky test detecteds are \",\n",
    "    total_error_naive,\n",
    ")\n",
    "print(\n",
    "    \"flakiness score of above test run using flip-flakiness method is: \",\n",
    "    flip_score,\n",
    "    \" and total flaky test detecteds are \",\n",
    "    total_error_flip,\n",
    ")\n",
    "print(\n",
    "    \"flakiness score dictionary using Flip Flakiness with Optimal Distance method is: \",\n",
    "    flake_dict,\n",
    "    \" and total flaky test detecteds are \",\n",
    "    total_error_optimal_flip,\n",
    ")"
   ]
  },
  {
   "cell_type": "markdown",
   "metadata": {},
   "source": [
    "In the above figure, we got a flakiness score of 45.83 using the `naive flakiness` method and `naive flakiness` method detected 11 failures as flaky. <br>\n",
    "However, we can see there is only one edge with more than three consecutive failures. Therefore, there is no irregular behavior and we should not consider the above test as a flaky test. Hence, the total flakiness score using the `flip flakiness` method is 0 and detected flaky test using the `flip flakiness` method are also 0. Also, the flakiness score `flip flakiness with optimal distance` method is giving an empty dictionary i.e. there is no flakiness or flakiness score is 0. Since `flip flakiness with optimal distance` returns a dictionary where the flakiness score is above a certain threshold, and we set a threshold as 10. In this test case, we didn't get a single range where the flakiness score is above 0. "
   ]
  },
  {
   "cell_type": "code",
   "execution_count": 25,
   "metadata": {
    "ExecuteTime": {
     "end_time": "2020-11-19T20:19:46.318189Z",
     "start_time": "2020-11-19T20:19:46.190233Z"
    }
   },
   "outputs": [
    {
     "data": {
      "image/png": "[encoded data removed]",
      "text/plain": [
       "<Figure size 1440x720 with 1 Axes>"
      ]
     },
     "metadata": {
      "needs_background": "light"
     },
     "output_type": "display_data"
    },
    {
     "name": "stdout",
     "output_type": "stream",
     "text": [
      "flakiness score of above test run using naive method is:  100.0  and total flaky test detecteds are  24\n",
      "flakiness score of above test run using flip-flakiness method is:  0.0  and total flaky test detecteds are  0\n",
      "flakiness score dictionary using Flip Flakiness with Optimal Distance method is:  {}  and total flaky test detecteds are  0\n"
     ]
    }
   ],
   "source": [
    "plt.figure(figsize=(20, 10))\n",
    "x = np.arange(len(test_array_3))\n",
    "plt.step(x, test_array_3)\n",
    "plt.ylim(1, 13)\n",
    "plt.axes().set_aspect(0.2)\n",
    "plt.show()\n",
    "\n",
    "naive_score = naive_flake_calc(test_array_3)\n",
    "total_error_naive = flake_annotation(test_array_3, naive_score, 10).count(13)\n",
    "flip_score = calc_flakiness_score(test_array_3)\n",
    "total_error_flip = flake_annotation(test_array_3, flip_score, 10).count(13)\n",
    "modified_test_array, flake_dict = calc_optimal_flakiness_score(test_array_3, 0)\n",
    "total_error_optimal_flip = modified_test_array.count(13)\n",
    "\n",
    "print(\n",
    "    \"flakiness score of above test run using naive method is: \",\n",
    "    naive_score,\n",
    "    \" and total flaky test detecteds are \",\n",
    "    total_error_naive,\n",
    ")\n",
    "print(\n",
    "    \"flakiness score of above test run using flip-flakiness method is: \",\n",
    "    flip_score,\n",
    "    \" and total flaky test detecteds are \",\n",
    "    total_error_flip,\n",
    ")\n",
    "print(\n",
    "    \"flakiness score dictionary using Flip Flakiness with Optimal Distance method is: \",\n",
    "    flake_dict,\n",
    "    \" and total flaky test detecteds are \",\n",
    "    total_error_optimal_flip,\n",
    ")"
   ]
  },
  {
   "cell_type": "markdown",
   "metadata": {},
   "source": [
    "In the above figure, we got a flakiness score of 100 using the `naive flakiness` method and and `naive flakiness` method detected 11 failures as flaky. <br>\n",
    "However, we can see there is no edge in this test run, and there are consistent failures occurring for all the runs. Therefore, there is no irregular behavior and we should not consider the above test as a flaky test. Hence, the total flakiness score using the `flip flakiness` method is 0 and detected flaky test using the `flip flakiness` method are also 0. . Also, the flakiness score `flip flakiness with optimal distance` method is giving an empty dictionary i.e. there is no flakiness or flakiness score is 0. Since `flip flakiness with optimal distance` returns a dictionary where the flakiness score is above a certain threshold, and we set a threshold as 10. In this test case, we didn't get a single range where the flakiness score is above 0. "
   ]
  },
  {
   "cell_type": "code",
   "execution_count": 26,
   "metadata": {
    "ExecuteTime": {
     "end_time": "2020-11-19T20:19:48.303966Z",
     "start_time": "2020-11-19T20:19:48.206695Z"
    }
   },
   "outputs": [
    {
     "data": {
      "image/png": "[encoded data removed]",
      "text/plain": [
       "<Figure size 1440x720 with 1 Axes>"
      ]
     },
     "metadata": {
      "needs_background": "light"
     },
     "output_type": "display_data"
    },
    {
     "name": "stdout",
     "output_type": "stream",
     "text": [
      "flakiness score of above test run using naive method is:  8.620689655172415  and total flaky test detecteds are  0\n",
      "flakiness score of above test run using flip-flakiness method is:  8.620689655172415  and total flaky test detecteds are  0\n",
      "flakiness score dictionary using Flip Flakiness with Optimal Distance method is:  {(8, 11): 50.0, (35, 41): 42.857142857142854}  and total flaky test detecteds are  5\n"
     ]
    }
   ],
   "source": [
    "plt.figure(figsize=(20, 10))\n",
    "x = np.arange(len(test_array_5))\n",
    "plt.step(x, test_array_5)\n",
    "plt.ylim(1, 13)\n",
    "plt.axes().set_aspect(0.2)\n",
    "plt.show()\n",
    "\n",
    "naive_score = naive_flake_calc(test_array_5)\n",
    "total_error_naive = flake_annotation(test_array_5, naive_score, 10).count(13)\n",
    "flip_score = calc_flakiness_score(test_array_5)\n",
    "total_error_flip = flake_annotation(test_array_5, flip_score, 10).count(13)\n",
    "modified_test_array, flake_dict = calc_optimal_flakiness_score(\n",
    "    test_array_5, 30\n",
    ")\n",
    "total_error_optimal_flip = modified_test_array.count(13)\n",
    "\n",
    "print(\n",
    "    \"flakiness score of above test run using naive method is: \",\n",
    "    naive_score,\n",
    "    \" and total flaky test detecteds are \",\n",
    "    total_error_naive,\n",
    ")\n",
    "print(\n",
    "    \"flakiness score of above test run using flip-flakiness method is: \",\n",
    "    flip_score,\n",
    "    \" and total flaky test detecteds are \",\n",
    "    total_error_flip,\n",
    ")\n",
    "print(\n",
    "    \"flakiness score dictionary using Flip Flakiness with Optimal Distance method is: \",\n",
    "    flake_dict,\n",
    "    \" and total flaky test detecteds are \",\n",
    "    total_error_optimal_flip,\n",
    ")"
   ]
  },
  {
   "cell_type": "markdown",
   "metadata": {},
   "source": [
    "As we can see in the above image, we have two separate time periods for which behavior is flaky. We can see that the behavior of the test is flaky between runs [8,7] and [31,37]. However, our flakiness score using `flip-flakiness` and `naive flakiness` method is low since the number of the total number of runs is higher. <br>\n",
    "Hence, `flip-flakiness` and `naive flakiness` were unable to detect a flaky tests. However, `Flip Flakiness with Optimal Distance` method is able to detect the flaky test."
   ]
  },
  {
   "cell_type": "code",
   "execution_count": 27,
   "metadata": {
    "ExecuteTime": {
     "end_time": "2020-11-19T20:19:49.328891Z",
     "start_time": "2020-11-19T20:19:49.232610Z"
    }
   },
   "outputs": [
    {
     "data": {
      "image/png": "[encoded data removed]",
      "text/plain": [
       "<Figure size 1440x720 with 1 Axes>"
      ]
     },
     "metadata": {
      "needs_background": "light"
     },
     "output_type": "display_data"
    },
    {
     "name": "stdout",
     "output_type": "stream",
     "text": [
      "flakiness score of above test run using naive method is:  8.620689655172415  and total flaky test detecteds are  0\n",
      "flakiness score of above test run using flip-flakiness method is:  8.620689655172415  and total flaky test detecteds are  0\n",
      "flakiness score dictionary using Flip Flakiness with Optimal Distance method is:  {(8, 11): 50.0, (35, 41): 42.857142857142854}  and total flaky test detecteds are  5\n"
     ]
    }
   ],
   "source": [
    "plt.figure(figsize=(20, 10))\n",
    "x = np.arange(len(test_array_6))\n",
    "plt.step(x, test_array_6)\n",
    "plt.ylim(1, 13)\n",
    "plt.axes().set_aspect(0.2)\n",
    "plt.show()\n",
    "\n",
    "naive_score = naive_flake_calc(test_array_5)\n",
    "total_error_naive = flake_annotation(test_array_5, naive_score, 10).count(13)\n",
    "flip_score = calc_flakiness_score(test_array_5)\n",
    "total_error_flip = flake_annotation(test_array_5, flip_score, 10).count(13)\n",
    "modified_test_array, flake_dict = calc_optimal_flakiness_score(\n",
    "    test_array_5, 30\n",
    ")\n",
    "total_error_optimal_flip = modified_test_array.count(13)\n",
    "\n",
    "print(\n",
    "    \"flakiness score of above test run using naive method is: \",\n",
    "    naive_score,\n",
    "    \" and total flaky test detecteds are \",\n",
    "    total_error_naive,\n",
    ")\n",
    "print(\n",
    "    \"flakiness score of above test run using flip-flakiness method is: \",\n",
    "    flip_score,\n",
    "    \" and total flaky test detecteds are \",\n",
    "    total_error_flip,\n",
    ")\n",
    "print(\n",
    "    \"flakiness score dictionary using Flip Flakiness with Optimal Distance method is: \",\n",
    "    flake_dict,\n",
    "    \" and total flaky test detecteds are \",\n",
    "    total_error_optimal_flip,\n",
    ")"
   ]
  },
  {
   "cell_type": "markdown",
   "metadata": {},
   "source": [
    "As we can see above, in the above test case, we can see that the behavior of the test is flaky between runs [4,7]. However, our flakiness score using `flip-flakiness` and `naive flakiness` method is low since the number of the total number of runs is higher. <br>\n",
    "Hence, `flip-flakiness` and `naive flakiness` were unable to detect a flaky tests. However, `Flip Flakiness with Optimal Distance` method is able to detect the flaky test."
   ]
  },
  {
   "cell_type": "markdown",
   "metadata": {},
   "source": [
    "## Comparison of testgrids\n",
    "Below we are comparing custom testgirds with annotations.\n",
    "\n",
    "### Original testgrid"
   ]
  },
  {
   "cell_type": "code",
   "execution_count": 28,
   "metadata": {
    "ExecuteTime": {
     "end_time": "2020-11-19T20:20:00.250844Z",
     "start_time": "2020-11-19T20:19:56.068824Z"
    }
   },
   "outputs": [
    {
     "data": {
      "image/png": "[encoded data removed]",
      "text/plain": [
       "<Figure size 1440x720 with 1 Axes>"
      ]
     },
     "metadata": {
      "needs_background": "light"
     },
     "output_type": "display_data"
    }
   ],
   "source": [
    "plt.figure(figsize=(20, 10))\n",
    "cmap = colors.ListedColormap([\"white\", \"green\", \"red\", \"purple\"])\n",
    "norm = colors.BoundaryNorm(boundaries=[0, 1, 12, 13], ncolors=3)\n",
    "sns.heatmap(\n",
    "    np.array(list(details[\"values\"][:40].values)),\n",
    "    annot=np.array(list(details[\"label_arr\"][:40].values)),\n",
    "    fmt=\"\",\n",
    "    cmap=cmap,\n",
    "    norm=norm,\n",
    "    cbar=False,\n",
    "    linewidths=0.1,\n",
    "    linecolor=\"Black\",\n",
    ")\n",
    "plt.show()"
   ]
  },
  {
   "cell_type": "markdown",
   "metadata": {},
   "source": [
    "Cells with Purple color in the above graph are the existing flake labels. "
   ]
  },
  {
   "cell_type": "code",
   "execution_count": 29,
   "metadata": {
    "ExecuteTime": {
     "end_time": "2020-11-19T20:20:00.255882Z",
     "start_time": "2020-11-19T20:20:00.252265Z"
    }
   },
   "outputs": [
    {
     "name": "stdout",
     "output_type": "stream",
     "text": [
      "total number of existing flake label given by the testgrid algorithm is 771\n"
     ]
    }
   ],
   "source": [
    "total_existing_flake_label = np.count_nonzero(\n",
    "    np.array(list(details[\"values\"][:40].values)) == 13\n",
    ")\n",
    "print(\n",
    "    \"total number of existing flake label given by the testgrid algorithm is\",\n",
    "    total_existing_flake_label,\n",
    ")"
   ]
  },
  {
   "cell_type": "markdown",
   "metadata": {
    "ExecuteTime": {
     "end_time": "2020-11-17T12:44:43.917643Z",
     "start_time": "2020-11-17T12:44:43.913369Z"
    }
   },
   "source": [
    "### Naive flake method testgrid\n",
    "Below we are annotating testgrid using the naive flake detection method."
   ]
  },
  {
   "cell_type": "code",
   "execution_count": 30,
   "metadata": {
    "ExecuteTime": {
     "end_time": "2020-11-19T20:20:39.070779Z",
     "start_time": "2020-11-19T20:20:39.044628Z"
    }
   },
   "outputs": [],
   "source": [
    "flake_score_threshold = 10\n",
    "# calculate the flakiness score by naive method for each test in our dataset.\n",
    "details[\"naive_flakiness_score\"] = details[\"values\"].apply(\n",
    "    lambda x: naive_flake_calc(x)\n",
    ")\n",
    "details[\"naive_flakiness\"] = details.apply(\n",
    "    lambda x: flake_annotation(\n",
    "        x[\"values\"], x[\"naive_flakiness_score\"], flake_score_threshold\n",
    "    ),\n",
    "    axis=1,\n",
    ")"
   ]
  },
  {
   "cell_type": "code",
   "execution_count": 31,
   "metadata": {
    "ExecuteTime": {
     "end_time": "2020-11-19T20:20:43.778690Z",
     "start_time": "2020-11-19T20:20:39.971389Z"
    }
   },
   "outputs": [
    {
     "data": {
      "image/png": "[encoded data removed]",
      "text/plain": [
       "<Figure size 1440x720 with 1 Axes>"
      ]
     },
     "metadata": {
      "needs_background": "light"
     },
     "output_type": "display_data"
    }
   ],
   "source": [
    "plt.figure(figsize=(20, 10))\n",
    "cmap = colors.ListedColormap([\"white\", \"green\", \"red\", \"purple\"])\n",
    "norm = colors.BoundaryNorm(boundaries=[0, 1, 12, 13], ncolors=3)\n",
    "sns.heatmap(\n",
    "    np.array(list(details[\"naive_flakiness\"][:40].values)),\n",
    "    annot=np.array(list(details[\"label_arr\"][:40].values)),\n",
    "    fmt=\"\",\n",
    "    cmap=cmap,\n",
    "    norm=norm,\n",
    "    cbar=False,\n",
    "    linewidths=0.1,\n",
    "    linecolor=\"Black\",\n",
    ")\n",
    "plt.show()"
   ]
  },
  {
   "cell_type": "markdown",
   "metadata": {
    "ExecuteTime": {
     "end_time": "2020-11-17T12:45:37.629922Z",
     "start_time": "2020-11-17T12:45:37.624408Z"
    }
   },
   "source": [
    "Cells with Purple color in the above graph are the labels given by the naive flake algorithm. "
   ]
  },
  {
   "cell_type": "code",
   "execution_count": 32,
   "metadata": {
    "ExecuteTime": {
     "end_time": "2020-11-19T20:20:54.961086Z",
     "start_time": "2020-11-19T20:20:54.949256Z"
    }
   },
   "outputs": [
    {
     "name": "stdout",
     "output_type": "stream",
     "text": [
      "total number of flake label given by the `naive flakiness method` is 882\n",
      "the total flaky test detected by the `naive flakiness method` is 1.14 times than the total flaky test detected by the existing testgrid method \n"
     ]
    }
   ],
   "source": [
    "total_naive_flake_label = np.count_nonzero(\n",
    "    np.array(list(details[\"naive_flakiness\"][:40].values)) == 13\n",
    ")\n",
    "print(\n",
    "    \"total number of flake label given by the `naive flakiness method` is\",\n",
    "    total_naive_flake_label,\n",
    ")\n",
    "print(\n",
    "    \"the total flaky test detected by the `naive flakiness method` is\",\n",
    "    round(total_naive_flake_label / total_existing_flake_label, 2),\n",
    "    \"times than the total flaky test detected by the existing testgrid method \",\n",
    ")"
   ]
  },
  {
   "cell_type": "markdown",
   "metadata": {
    "ExecuteTime": {
     "end_time": "2020-11-17T12:46:24.574634Z",
     "start_time": "2020-11-17T12:46:24.569437Z"
    }
   },
   "source": [
    "### Flip flake method testgrid\n",
    "Below we are annotating testgrid using the flip flake detection method."
   ]
  },
  {
   "cell_type": "code",
   "execution_count": 33,
   "metadata": {
    "ExecuteTime": {
     "end_time": "2020-11-19T20:20:59.034866Z",
     "start_time": "2020-11-19T20:20:58.796452Z"
    }
   },
   "outputs": [],
   "source": [
    "flake_score_threshold = 10\n",
    "## calculate the flakiness score by flip method for each test in our dataset.\n",
    "details[\"flip_flakiness_score\"] = details[\"values\"].apply(\n",
    "    lambda x: calc_flakiness_score(x)\n",
    ")\n",
    "details[\"flip_flakiness\"] = details.apply(\n",
    "    lambda x: flake_annotation(\n",
    "        x[\"values\"], x[\"flip_flakiness_score\"], flake_score_threshold\n",
    "    ),\n",
    "    axis=1,\n",
    ")"
   ]
  },
  {
   "cell_type": "code",
   "execution_count": 34,
   "metadata": {
    "ExecuteTime": {
     "end_time": "2020-11-18T19:04:26.582563Z",
     "start_time": "2020-11-18T19:04:23.399698Z"
    }
   },
   "outputs": [
    {
     "data": {
      "image/png": "[encoded data removed]",
      "text/plain": [
       "<Figure size 1440x720 with 1 Axes>"
      ]
     },
     "metadata": {
      "needs_background": "light"
     },
     "output_type": "display_data"
    }
   ],
   "source": [
    "plt.figure(figsize=(20, 10))\n",
    "cmap = colors.ListedColormap([\"white\", \"green\", \"red\", \"purple\"])\n",
    "norm = colors.BoundaryNorm(boundaries=[0, 1, 12, 13], ncolors=3)\n",
    "sns.heatmap(\n",
    "    np.array(list(details[\"flip_flakiness\"][:40].values)),\n",
    "    annot=np.array(list(details[\"label_arr\"][:40].values)),\n",
    "    fmt=\"\",\n",
    "    cmap=cmap,\n",
    "    norm=norm,\n",
    "    cbar=False,\n",
    "    linewidths=0.1,\n",
    "    linecolor=\"Black\",\n",
    ")\n",
    "plt.show()"
   ]
  },
  {
   "cell_type": "markdown",
   "metadata": {},
   "source": [
    "Cells with Purple color in the above graph are the labels given by the flip flake algorithm. "
   ]
  },
  {
   "cell_type": "code",
   "execution_count": 35,
   "metadata": {
    "ExecuteTime": {
     "end_time": "2020-11-18T19:10:40.095030Z",
     "start_time": "2020-11-18T19:10:40.084140Z"
    }
   },
   "outputs": [
    {
     "name": "stdout",
     "output_type": "stream",
     "text": [
      "total number of flake label given by the `flip flakiness` method is 902\n",
      "the total flaky test detected by the `flip flake` method is 1.17 times than the total flaky test detected by the existing testgrid method \n"
     ]
    }
   ],
   "source": [
    "total_flip_flake_label = np.count_nonzero(\n",
    "    np.array(list(details[\"flip_flakiness\"][:40].values)) == 13\n",
    ")\n",
    "print(\n",
    "    \"total number of flake label given by the `flip flakiness` method is\",\n",
    "    total_flip_flake_label,\n",
    ")\n",
    "print(\n",
    "    \"the total flaky test detected by the `flip flake` method is\",\n",
    "    round(total_flip_flake_label / total_existing_flake_label, 2),\n",
    "    \"times than the total flaky test detected by the existing testgrid method \",\n",
    ")"
   ]
  },
  {
   "cell_type": "markdown",
   "metadata": {},
   "source": [
    "### Flip flakiness with optimal distance method testgrid\n",
    "Below we are annotating testgrid using the Flip flakiness with optimal distance method"
   ]
  },
  {
   "cell_type": "code",
   "execution_count": 36,
   "metadata": {
    "ExecuteTime": {
     "end_time": "2020-11-18T19:10:27.382993Z",
     "start_time": "2020-11-18T19:10:27.327838Z"
    }
   },
   "outputs": [],
   "source": [
    "details[\"flip_flakiness_optimal\"] = details[\"values\"][:40].apply(\n",
    "    lambda x: calc_optimal_flakiness_score(x, 10)[0]\n",
    ")"
   ]
  },
  {
   "cell_type": "code",
   "execution_count": 37,
   "metadata": {},
   "outputs": [
    {
     "data": {
      "image/png": "[encoded data removed]",
      "text/plain": [
       "<Figure size 1440x720 with 1 Axes>"
      ]
     },
     "metadata": {
      "needs_background": "light"
     },
     "output_type": "display_data"
    }
   ],
   "source": [
    "plt.figure(figsize=(20, 10))\n",
    "cmap = colors.ListedColormap([\"white\", \"green\", \"red\", \"purple\"])\n",
    "norm = colors.BoundaryNorm(boundaries=[0, 1, 12, 13], ncolors=3)\n",
    "sns.heatmap(\n",
    "    np.array(list(details[\"flip_flakiness_optimal\"][:40].values)),\n",
    "    annot=np.array(list(details[\"label_arr\"][:40].values)),\n",
    "    fmt=\"\",\n",
    "    cmap=cmap,\n",
    "    norm=norm,\n",
    "    cbar=False,\n",
    "    linewidths=0.1,\n",
    "    linecolor=\"Black\",\n",
    ")\n",
    "plt.show()"
   ]
  },
  {
   "cell_type": "markdown",
   "metadata": {},
   "source": [
    "Cells with purple color in the above graph are the labels given by the flip flake with optimal distance algorithm. "
   ]
  },
  {
   "cell_type": "code",
   "execution_count": 38,
   "metadata": {
    "ExecuteTime": {
     "end_time": "2020-11-18T19:10:55.995274Z",
     "start_time": "2020-11-18T19:10:55.985103Z"
    }
   },
   "outputs": [
    {
     "name": "stdout",
     "output_type": "stream",
     "text": [
      "total number of flake label given by the `flip flake optimal distance` method is 923\n",
      "the total flaky test detected by the `flip flake optimal distance method` is 1.2 times than the total flaky test detected by the existing testgrid method \n"
     ]
    }
   ],
   "source": [
    "total_flip_flake__optimal_label = np.count_nonzero(\n",
    "    np.array(list(details[\"flip_flakiness_optimal\"][:40].values)) == 13\n",
    ")\n",
    "print(\n",
    "    \"total number of flake label given by the `flip flake optimal distance` method is\",\n",
    "    total_flip_flake__optimal_label,\n",
    ")\n",
    "print(\n",
    "    \"the total flaky test detected by the `flip flake optimal distance method` is\",\n",
    "    round(total_flip_flake__optimal_label / total_existing_flake_label, 2),\n",
    "    \"times than the total flaky test detected by the existing testgrid method \",\n",
    ")"
   ]
  },
  {
   "cell_type": "markdown",
   "metadata": {},
   "source": [
    "# Conclusion\n",
    "\n",
    "In this notebook, we explored different methods to find flaky test. <br>\n",
    "1) Naive flakiness method: This method calculates flakiness as a ratio of failed tests to total tests. Flaky test passes and fails on several successive revisions, but this method cannot catch this signal of the flaky test. <br>\n",
    "2) Flip flakiness method: flaky test pass and fail across multiple runs over a certain period of time. We trigger this behavior of a flaky test by using the concept of edge. Edge is the transition of a particular test case from pass to fail. <br>\n",
    "3) Flip Flakiness with Optimal Distance: One of the downsides of finding a single value for each test case is that the number of edges is relatively low compares to total runes; hence your flakiness score is really low. To overcome this we decided to calculate the flakiness score between edges since it will maximize our flakiness score. <br>\n",
    "Next, we can try detecting flakiness with additional data such as meta data related to git revisions to improve the accuracy of the current methods."
   ]
  }
 ],
 "metadata": {
  "kernelspec": {
   "display_name": "Python 3",
   "language": "python",
   "name": "python3"
  },
  "language_info": {
   "codemirror_mode": {
    "name": "ipython",
    "version": 3
   },
   "file_extension": ".py",
   "mimetype": "text/x-python",
   "name": "python",
   "nbconvert_exporter": "python",
   "pygments_lexer": "ipython3",
   "version": "3.6.8"
  },
  "toc": {
   "base_numbering": 1,
   "nav_menu": {},
   "number_sections": true,
   "sideBar": true,
   "skip_h1_title": false,
   "title_cell": "Table of Contents",
   "title_sidebar": "Contents",
   "toc_cell": false,
   "toc_position": {},
   "toc_section_display": true,
   "toc_window_display": false
  }
 },
 "nbformat": 4,
 "nbformat_minor": 4
}
