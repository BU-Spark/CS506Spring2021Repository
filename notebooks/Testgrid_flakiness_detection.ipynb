{
 "cells": [
  {
   "cell_type": "markdown",
   "metadata": {},
   "source": [
    "# Overview\n",
    "\n",
    "\n",
    "In continuous integration (CI) project workflow, developers frequently integrate code into a shared repository. Each integration can then be verified by an automated build and numerous different automated tests. Whenever a failure occurs in a test, developers manually need to analyze failures. Failures in the build can be a legitimate failure or due to some other issues like infrastructure flake, install flake, flaky test, etc. SME can analyze the TestGrid data and determine if failures are legitimate or not. However, it takes a lot of manual effort and reduces the productivity of a team.In this notebook, we will try to detect flaky test. \n",
    "\n",
    "## What is flaky test?\n",
    "A test that passes or fails in a nondeterministic way is known as a flaky test [Refrence](http://mir.cs.illinois.edu/~eloussi2/publications/fse14.pdf). In data science terms, flaky tests pass and fail across multiple runs over a certain period of time. If the test fails consistently over an interval, then it's not an attribute of the flaky test. We will discuss the interval attribute in the later part of this notebook. \n"
   ]
  },
  {
   "cell_type": "code",
   "execution_count": 70,
   "metadata": {
    "ExecuteTime": {
     "end_time": "2020-11-18T18:48:29.372714Z",
     "start_time": "2020-11-18T18:48:29.366984Z"
    }
   },
   "outputs": [],
   "source": [
    "import requests\n",
    "import pandas as pd\n",
    "import numpy as np\n",
    "\n",
    "import matplotlib.pyplot as plt\n",
    "from matplotlib import colors\n",
    "import seaborn as sns\n",
    "import warnings\n",
    "\n",
    "%matplotlib inline\n",
    "warnings.filterwarnings(\"ignore\")"
   ]
  },
  {
   "cell_type": "markdown",
   "metadata": {},
   "source": [
    "# Preparing data\n",
    "\n",
    "In depth details of this step is given in another [notebook](https://github.com/aicoe-aiops/ocp-ci-analysis/blob/master/notebooks/TestGrid_EDA.ipynb). \n",
    "\n",
    "To pull the desired json we can follow this syntax:\n",
    "\n",
    "https://testgrid.k8s.io/{dashboard_name}/table?&show-stale-tests=&tab={job_name}\n",
    "\n",
    "From the work above we know how to get the list of all the dashboards and associated jobs. Here we will get the data for the job \"release-openshift-ocp-e2e-aws-scaleup-rhel7-4.3\" as an example."
   ]
  },
  {
   "cell_type": "code",
   "execution_count": 71,
   "metadata": {
    "ExecuteTime": {
     "end_time": "2020-11-18T18:48:36.437401Z",
     "start_time": "2020-11-18T18:48:32.628557Z"
    }
   },
   "outputs": [],
   "source": [
    "response = requests.get(\n",
    "    \"https://testgrid.k8s.io/redhat-openshift-ocp-release-4.3-informing/table?&show-stale-tests\"\n",
    "    \"=&tab=release-openshift-ocp-e2e-aws-scaleup-rhel7-4.3\"\n",
    ")"
   ]
  },
  {
   "cell_type": "code",
   "execution_count": 72,
   "metadata": {
    "ExecuteTime": {
     "end_time": "2020-11-18T18:48:36.521536Z",
     "start_time": "2020-11-18T18:48:36.438939Z"
    }
   },
   "outputs": [
    {
     "data": {
      "text/html": [
       "<div>\n",
       "<style scoped>\n",
       "    .dataframe tbody tr th:only-of-type {\n",
       "        vertical-align: middle;\n",
       "    }\n",
       "\n",
       "    .dataframe tbody tr th {\n",
       "        vertical-align: top;\n",
       "    }\n",
       "\n",
       "    .dataframe thead th {\n",
       "        text-align: right;\n",
       "    }\n",
       "</style>\n",
       "<table border=\"1\" class=\"dataframe\">\n",
       "  <thead>\n",
       "    <tr style=\"text-align: right;\">\n",
       "      <th></th>\n",
       "      <th>name</th>\n",
       "      <th>alert</th>\n",
       "      <th>short_texts</th>\n",
       "      <th>statuses</th>\n",
       "    </tr>\n",
       "  </thead>\n",
       "  <tbody>\n",
       "    <tr>\n",
       "      <th>0</th>\n",
       "      <td>openshift-tests.Monitor cluster while tests ex...</td>\n",
       "      <td>{'fail-cl': '097314e0e', 'fail-count': 71, 'fa...</td>\n",
       "      <td>[F, F, F, F, F, F, F, F, F, F, F, F, F, F, F, ...</td>\n",
       "      <td>[{'count': 2, 'value': 12}, {'count': 2, 'valu...</td>\n",
       "    </tr>\n",
       "    <tr>\n",
       "      <th>1</th>\n",
       "      <td>Overall</td>\n",
       "      <td>None</td>\n",
       "      <td>[, , , , , , , , , , , , , , , , , , , , , , ,...</td>\n",
       "      <td>[{'count': 1, 'value': 12}, {'count': 1, 'valu...</td>\n",
       "    </tr>\n",
       "    <tr>\n",
       "      <th>2</th>\n",
       "      <td>openshift-tests.[sig-network] DNS should provi...</td>\n",
       "      <td>None</td>\n",
       "      <td>[F, , , , , , , , , , , , , , , , , , , , , , ...</td>\n",
       "      <td>[{'count': 1, 'value': 12}, {'count': 1, 'valu...</td>\n",
       "    </tr>\n",
       "    <tr>\n",
       "      <th>3</th>\n",
       "      <td>openshift-tests.[sig-storage] In-tree Volumes ...</td>\n",
       "      <td>None</td>\n",
       "      <td>[F, , , , , , F, , , , , , , , , , , , , F, , ...</td>\n",
       "      <td>[{'count': 1, 'value': 12}, {'count': 1, 'valu...</td>\n",
       "    </tr>\n",
       "    <tr>\n",
       "      <th>4</th>\n",
       "      <td>openshift-tests.[sig-storage] In-tree Volumes ...</td>\n",
       "      <td>None</td>\n",
       "      <td>[F]</td>\n",
       "      <td>[{'count': 1, 'value': 12}, {'count': 86, 'val...</td>\n",
       "    </tr>\n",
       "    <tr>\n",
       "      <th>5</th>\n",
       "      <td>openshift-tests.[sig-storage] Zone Support Ver...</td>\n",
       "      <td>None</td>\n",
       "      <td>[F]</td>\n",
       "      <td>[{'count': 1, 'value': 12}, {'count': 86, 'val...</td>\n",
       "    </tr>\n",
       "    <tr>\n",
       "      <th>6</th>\n",
       "      <td>operator.Run template e2e-aws-scaleup-rhel7 - ...</td>\n",
       "      <td>None</td>\n",
       "      <td>[F, , F, , , , , F, , , , , , , , , , , , , , ...</td>\n",
       "      <td>[{'count': 1, 'value': 12}, {'count': 1, 'valu...</td>\n",
       "    </tr>\n",
       "    <tr>\n",
       "      <th>7</th>\n",
       "      <td>operator.Run template e2e-aws-scaleup-rhel7 - ...</td>\n",
       "      <td>None</td>\n",
       "      <td>[, , F, , , , , , , , , , , , , , , , , , , , ...</td>\n",
       "      <td>[{'count': 2, 'value': 1}, {'count': 1, 'value...</td>\n",
       "    </tr>\n",
       "    <tr>\n",
       "      <th>8</th>\n",
       "      <td>openshift-tests.[sig-scheduling] Multi-AZ Clus...</td>\n",
       "      <td>None</td>\n",
       "      <td>[, , , , , F, F, , , , , , , , , , , , , , , ,...</td>\n",
       "      <td>[{'count': 2, 'value': 1}, {'count': 1, 'value...</td>\n",
       "    </tr>\n",
       "    <tr>\n",
       "      <th>9</th>\n",
       "      <td>openshift-tests.[sig-apps] StatefulSet [k8s.io...</td>\n",
       "      <td>None</td>\n",
       "      <td>[, , , , , F, , , , , , , , , , , , , , , , , ...</td>\n",
       "      <td>[{'count': 2, 'value': 1}, {'count': 1, 'value...</td>\n",
       "    </tr>\n",
       "  </tbody>\n",
       "</table>\n",
       "</div>"
      ],
      "text/plain": [
       "                                                name  \\\n",
       "0  openshift-tests.Monitor cluster while tests ex...   \n",
       "1                                            Overall   \n",
       "2  openshift-tests.[sig-network] DNS should provi...   \n",
       "3  openshift-tests.[sig-storage] In-tree Volumes ...   \n",
       "4  openshift-tests.[sig-storage] In-tree Volumes ...   \n",
       "5  openshift-tests.[sig-storage] Zone Support Ver...   \n",
       "6  operator.Run template e2e-aws-scaleup-rhel7 - ...   \n",
       "7  operator.Run template e2e-aws-scaleup-rhel7 - ...   \n",
       "8  openshift-tests.[sig-scheduling] Multi-AZ Clus...   \n",
       "9  openshift-tests.[sig-apps] StatefulSet [k8s.io...   \n",
       "\n",
       "                                               alert  \\\n",
       "0  {'fail-cl': '097314e0e', 'fail-count': 71, 'fa...   \n",
       "1                                               None   \n",
       "2                                               None   \n",
       "3                                               None   \n",
       "4                                               None   \n",
       "5                                               None   \n",
       "6                                               None   \n",
       "7                                               None   \n",
       "8                                               None   \n",
       "9                                               None   \n",
       "\n",
       "                                         short_texts  \\\n",
       "0  [F, F, F, F, F, F, F, F, F, F, F, F, F, F, F, ...   \n",
       "1  [, , , , , , , , , , , , , , , , , , , , , , ,...   \n",
       "2  [F, , , , , , , , , , , , , , , , , , , , , , ...   \n",
       "3  [F, , , , , , F, , , , , , , , , , , , , F, , ...   \n",
       "4                                                [F]   \n",
       "5                                                [F]   \n",
       "6  [F, , F, , , , , F, , , , , , , , , , , , , , ...   \n",
       "7  [, , F, , , , , , , , , , , , , , , , , , , , ...   \n",
       "8  [, , , , , F, F, , , , , , , , , , , , , , , ,...   \n",
       "9  [, , , , , F, , , , , , , , , , , , , , , , , ...   \n",
       "\n",
       "                                            statuses  \n",
       "0  [{'count': 2, 'value': 12}, {'count': 2, 'valu...  \n",
       "1  [{'count': 1, 'value': 12}, {'count': 1, 'valu...  \n",
       "2  [{'count': 1, 'value': 12}, {'count': 1, 'valu...  \n",
       "3  [{'count': 1, 'value': 12}, {'count': 1, 'valu...  \n",
       "4  [{'count': 1, 'value': 12}, {'count': 86, 'val...  \n",
       "5  [{'count': 1, 'value': 12}, {'count': 86, 'val...  \n",
       "6  [{'count': 1, 'value': 12}, {'count': 1, 'valu...  \n",
       "7  [{'count': 2, 'value': 1}, {'count': 1, 'value...  \n",
       "8  [{'count': 2, 'value': 1}, {'count': 1, 'value...  \n",
       "9  [{'count': 2, 'value': 1}, {'count': 1, 'value...  "
      ]
     },
     "execution_count": 72,
     "metadata": {},
     "output_type": "execute_result"
    }
   ],
   "source": [
    "details = pd.DataFrame(response.json()[\"tests\"]).drop(\n",
    "    [\"linked_bugs\", \"messages\", \"user_property\", \"target\", \"original-name\"],\n",
    "    axis=1,\n",
    ")\n",
    "details.head(10)"
   ]
  },
  {
   "cell_type": "markdown",
   "metadata": {},
   "source": [
    "From the column \"statuses\" above we can see that the time series data is run length encoded. Let's add a decoded column so we can get the data in an array format we could use for machine learning."
   ]
  },
  {
   "cell_type": "code",
   "execution_count": 73,
   "metadata": {
    "ExecuteTime": {
     "end_time": "2020-11-18T18:48:39.515088Z",
     "start_time": "2020-11-18T18:48:39.505283Z"
    }
   },
   "outputs": [],
   "source": [
    "def decode_run_length(x):\n",
    "    lst = []\n",
    "    for run_length in x:\n",
    "        extension = [run_length[\"value\"]] * run_length[\"count\"]\n",
    "        lst.extend(extension)\n",
    "    return lst\n",
    "\n",
    "\n",
    "details[\"values\"] = details[\"statuses\"].apply(decode_run_length)"
   ]
  },
  {
   "cell_type": "markdown",
   "metadata": {},
   "source": [
    "Column \"short_texts\" is the existing labels of the flaky test. There are some missing entries for this column corresponding to 'not_run' test cases. Let's add that. "
   ]
  },
  {
   "cell_type": "code",
   "execution_count": 74,
   "metadata": {
    "ExecuteTime": {
     "end_time": "2020-11-18T18:48:41.851551Z",
     "start_time": "2020-11-18T18:48:41.819610Z"
    }
   },
   "outputs": [],
   "source": [
    "def label_arr(val_array, text_array):\n",
    "    iter_text = iter(text_array)\n",
    "    output_arr = []\n",
    "    for i in val_array:\n",
    "        if i == 0:\n",
    "            output_arr.append(\"\")\n",
    "        else:\n",
    "            output_arr.append(next(iter_text))\n",
    "    return output_arr\n",
    "\n",
    "\n",
    "details[\"label_arr\"] = details.apply(\n",
    "    lambda x: label_arr(x[\"values\"], x[\"short_texts\"]), axis=1\n",
    ")"
   ]
  },
  {
   "cell_type": "markdown",
   "metadata": {},
   "source": [
    "TestGrids are made of a set of tests that either pass or failing over time, essentially they are multidimensional time series where the values can take either 0 (not run), 1 (pass) or 12 (fail). \n",
    "\n",
    "Now that we have all our data unrolled, lets plot it. We will use green color for pass (1), red color for fail (12), and white color for not run (0). We plotted just the first 40 rows to save space."
   ]
  },
  {
   "cell_type": "code",
   "execution_count": 75,
   "metadata": {
    "ExecuteTime": {
     "end_time": "2020-11-18T18:48:48.331917Z",
     "start_time": "2020-11-18T18:48:44.582523Z"
    }
   },
   "outputs": [
    {
     "data": {
      "image/png": "[encoded data removed]",
      "text/plain": [
       "<Figure size 1440x720 with 1 Axes>"
      ]
     },
     "metadata": {
      "needs_background": "light"
     },
     "output_type": "display_data"
    }
   ],
   "source": [
    "plt.figure(figsize=(20, 10))\n",
    "cmap = colors.ListedColormap([\"white\", \"green\", \"red\"])\n",
    "norm = colors.BoundaryNorm(boundaries=[0, 1, 12], ncolors=2)\n",
    "sns.heatmap(\n",
    "    np.array(list(details[\"values\"][:40].values)),\n",
    "    annot=np.array(list(details[\"label_arr\"][:40].values)),\n",
    "    fmt=\"\",\n",
    "    cmap=cmap,\n",
    "    norm=norm,\n",
    "    cbar=False,\n",
    "    linewidths=0.1,\n",
    "    linecolor=\"Black\",\n",
    ")\n",
    "plt.show()"
   ]
  },
  {
   "cell_type": "markdown",
   "metadata": {
    "ExecuteTime": {
     "end_time": "2020-11-16T16:42:31.790008Z",
     "start_time": "2020-11-16T16:42:31.786912Z"
    }
   },
   "source": [
    "Cells with F annotations in the above graph are the existing labels given by the testgrid algorithm. "
   ]
  },
  {
   "cell_type": "markdown",
   "metadata": {
    "ExecuteTime": {
     "end_time": "2020-11-06T14:48:18.171340Z",
     "start_time": "2020-11-06T14:48:18.169258Z"
    }
   },
   "source": [
    "# Flakey test detection\n",
    "\n",
    "In the following section, we will explore different methods to detect flaky test. "
   ]
  },
  {
   "cell_type": "markdown",
   "metadata": {
    "ExecuteTime": {
     "end_time": "2020-11-06T14:49:12.344626Z",
     "start_time": "2020-11-06T14:49:12.342633Z"
    }
   },
   "source": [
    "## Naive flakiness method\n",
    "\n",
    "This method calculates flakiness as a ratio of failed tests to total tests. Flaky test passes and fails on several successive revisions, but this method cannot catch this signal of the flaky test. "
   ]
  },
  {
   "cell_type": "code",
   "execution_count": 8,
   "metadata": {
    "ExecuteTime": {
     "end_time": "2020-11-17T12:18:05.281115Z",
     "start_time": "2020-11-17T12:18:05.278148Z"
    }
   },
   "outputs": [],
   "source": [
    "def naive_flake_calc(test_row):\n",
    "    return 100 * (np.array(test_row) == 12).sum() / len(test_row)"
   ]
  },
  {
   "cell_type": "markdown",
   "metadata": {},
   "source": [
    "Now, we will calculate the flakiness score by naive method for each test in our dataset."
   ]
  },
  {
   "cell_type": "code",
   "execution_count": 76,
   "metadata": {
    "ExecuteTime": {
     "end_time": "2020-11-18T18:49:01.843762Z",
     "start_time": "2020-11-18T18:49:01.823881Z"
    }
   },
   "outputs": [
    {
     "data": {
      "text/plain": [
       "0       81.609195\n",
       "1       19.540230\n",
       "2        1.149425\n",
       "3        4.597701\n",
       "4        1.149425\n",
       "          ...    \n",
       "1004     0.000000\n",
       "1005     0.000000\n",
       "1006     0.000000\n",
       "1007     0.000000\n",
       "1008     0.000000\n",
       "Name: naive_flakiness_score, Length: 1009, dtype: float64"
      ]
     },
     "execution_count": 76,
     "metadata": {},
     "output_type": "execute_result"
    }
   ],
   "source": [
    "details[\"naive_flakiness_score\"] = details[\"values\"].apply(\n",
    "    lambda x: naive_flake_calc(x)\n",
    ")\n",
    "details[\"naive_flakiness_score\"]"
   ]
  },
  {
   "cell_type": "markdown",
   "metadata": {},
   "source": [
    "In the following cell, we have shown a drawback of the naive flakiness method. As we can see in the below cell, we have `test_array` consist of consecutive test failures over a certain period type, which is not an attribute of a flaky test still. However, we got a high flakiness score. "
   ]
  },
  {
   "cell_type": "code",
   "execution_count": 10,
   "metadata": {
    "ExecuteTime": {
     "end_time": "2020-11-17T12:18:12.912508Z",
     "start_time": "2020-11-17T12:18:12.907900Z"
    }
   },
   "outputs": [
    {
     "data": {
      "text/plain": [
       "45.833333333333336"
      ]
     },
     "execution_count": 10,
     "metadata": {},
     "output_type": "execute_result"
    }
   ],
   "source": [
    "test_array = [\n",
    "    1,\n",
    "    1,\n",
    "    1,\n",
    "    1,\n",
    "    1,\n",
    "    1,\n",
    "    12,\n",
    "    12,\n",
    "    12,\n",
    "    12,\n",
    "    12,\n",
    "    12,\n",
    "    12,\n",
    "    12,\n",
    "    12,\n",
    "    12,\n",
    "    12,\n",
    "    1,\n",
    "    1,\n",
    "    1,\n",
    "    1,\n",
    "    1,\n",
    "    1,\n",
    "    1,\n",
    "]\n",
    "naive_flake_calc(test_array)"
   ]
  },
  {
   "cell_type": "markdown",
   "metadata": {},
   "source": [
    "##  Flip flakiness method\n",
    "\n",
    "As we discussed earlier, flaky test pass and fail across multiple runs over a certain period of time. We trigger this behavior of a flaky test by using the concept of edge. Edge is the transition of a particular test case from pass to fail. Let's dig this behavior into more detail using the following example."
   ]
  },
  {
   "cell_type": "code",
   "execution_count": 11,
   "metadata": {
    "ExecuteTime": {
     "end_time": "2020-11-17T12:18:52.875172Z",
     "start_time": "2020-11-17T12:18:52.686754Z"
    }
   },
   "outputs": [
    {
     "data": {
      "image/png": "[encoded data removed]",
      "text/plain": [
       "<Figure size 1440x720 with 2 Axes>"
      ]
     },
     "metadata": {
      "needs_background": "light"
     },
     "output_type": "display_data"
    }
   ],
   "source": [
    "plt.figure(\n",
    "    figsize=(20, 10)\n",
    ")  # instantiating figure to be 5\"x5\", 100 dpi resolution\n",
    "\n",
    "\n",
    "test_array = [\n",
    "    1,\n",
    "    1,\n",
    "    1,\n",
    "    1,\n",
    "    1,\n",
    "    1,\n",
    "    12,\n",
    "    12,\n",
    "    12,\n",
    "    12,\n",
    "    12,\n",
    "    12,\n",
    "    12,\n",
    "    12,\n",
    "    12,\n",
    "    12,\n",
    "    12,\n",
    "    1,\n",
    "    1,\n",
    "    1,\n",
    "    1,\n",
    "    1,\n",
    "    1,\n",
    "    1,\n",
    "]\n",
    "x = np.arange(len(test_array))\n",
    "plt.subplot(2, 1, 1, aspect=0.3)\n",
    "plt.step(x, test_array)\n",
    "plt.title(\"Single edge and multiple fails\", fontsize=20)\n",
    "\n",
    "plt.subplot(2, 1, 2, aspect=0.3)\n",
    "test_array_1 = [\n",
    "    1,\n",
    "    1,\n",
    "    1,\n",
    "    1,\n",
    "    1,\n",
    "    1,\n",
    "    12,\n",
    "    1,\n",
    "    12,\n",
    "    1,\n",
    "    12,\n",
    "    1,\n",
    "    12,\n",
    "    1,\n",
    "    12,\n",
    "    1,\n",
    "    12,\n",
    "    1,\n",
    "    12,\n",
    "    1,\n",
    "    12,\n",
    "    1,\n",
    "    1,\n",
    "    1,\n",
    "]\n",
    "plt.step(x, test_array_1)\n",
    "plt.title(\"multiple edges and multiple fails\", fontsize=20)\n",
    "\n",
    "\n",
    "plt.show()"
   ]
  },
  {
   "cell_type": "markdown",
   "metadata": {},
   "source": [
    "In the images above, we have shown test case results for 25 runs. In the first image, we can see there are multiple fails but only a single edge. In the second image, we have fewer fails compared to first images but multiple edges. Therefore, the second test exhibits a more irregular behavior pattern with many more edges. Therefore, we can conclude that test case 2 is more likely to be a flaky test, whereas test case 1 seems not to be.\n",
    "\n",
    "We calculated the flakiness score as the number of edges divided by total runs. The most common approach to detect flaky test is to run flaky test multiple times and if it's passes in any run then it is not considerd flaky test [Refrence](http://mir.cs.illinois.edu/~eloussi2/publications/fse14.pdf). At google, If the test is failing three times in a row, then only it reported as real failures; otherwise, it's considered a flaky test [Refrence](https://testing.googleblog.com/2016/05/flaky-tests-at-google-and-how-we.html). Hence, we ignored more than three consecutive failures and test cases that are not run while calculating the flakiness score.\n",
    "\n",
    "Flakiness score lies between 0 and 100; 0 is no flakiness, and 100 is maximum flakiness. "
   ]
  },
  {
   "cell_type": "code",
   "execution_count": 77,
   "metadata": {
    "ExecuteTime": {
     "end_time": "2020-11-18T18:49:05.308909Z",
     "start_time": "2020-11-18T18:49:05.300817Z"
    }
   },
   "outputs": [],
   "source": [
    "def calc_consecutive_failures(test_row, i):\n",
    "    \"\"\"This function calculates number of consecutive failures\n",
    "\n",
    "    Parameters\n",
    "    ----------\n",
    "    test_row : array\n",
    "            array of test runs with 0, 1, 12 values as not run, pass, fail respectively\n",
    "    i : float, int\n",
    "            index in array i\n",
    "\n",
    "    Returns\n",
    "    ----------\n",
    "    result: int\n",
    "            number of consecutive failures from index i\n",
    "    \"\"\"\n",
    "\n",
    "    result = 0\n",
    "    while i < len(test_row) and (test_row[i] == 12 or test_row[i] == 0):\n",
    "        if test_row[i] == 12:\n",
    "            result += 1\n",
    "        i += 1\n",
    "    return result\n",
    "\n",
    "\n",
    "def calc_flakiness_score(test_row, ignore_failures_in_a_row=3):\n",
    "    \"\"\"This function calculate flakiness score as the number of edges divided by total runs.\n",
    "    At google, If the test is failing three times in a row, then only it reported as real failures;\n",
    "    otherwise, it's considered a flaky test.\n",
    "    (https://testing.googleblog.com/2016/05/flaky-tests-at-google-and-how-we.html)\n",
    "    Hence, we ignored three or more than three consecutive failures\n",
    "    and test cases that are not run while calculating the flakiness score.\n",
    "\n",
    "    Parameters\n",
    "    ----------\n",
    "    test_row : array\n",
    "            array of test runs with 0, 1, 12 values as not run, pass, fail respectively\n",
    "\n",
    "    Returns\n",
    "    ----------\n",
    "    flakiness: int\n",
    "            Flakiness score lies between 0 and 100; 0 is no flakiness, and 100 is maximum flakiness.\n",
    "    \"\"\"\n",
    "    flips = 0\n",
    "    i = 0\n",
    "    ## ignore not run instances in the starting\n",
    "    while i < len(test_row) and test_row[i] == 0:\n",
    "        i += 1\n",
    "\n",
    "    ## intializing last_passing variable value\n",
    "    if i >= len(test_row):\n",
    "        return 0\n",
    "    elif test_row[i] == 1:\n",
    "        last_passing = True\n",
    "    elif test_row[i] == 12:\n",
    "        last_passing = False\n",
    "    considerd = 1\n",
    "    i += 1\n",
    "\n",
    "    while i < len(test_row):\n",
    "        ## ignoring more than three consecutive failures\n",
    "        ## If the test is consecutively failing for three or more than three runs,\n",
    "        ## we considered did not consider it an edge.\n",
    "        cf = calc_consecutive_failures(test_row, i)\n",
    "        if cf >= ignore_failures_in_a_row:\n",
    "            i = i + cf\n",
    "            if i >= len(test_row):\n",
    "                break\n",
    "\n",
    "        s = test_row[i]\n",
    "        if s == 1:\n",
    "            ## run is pass\n",
    "            considerd += 1\n",
    "            last_passing = True\n",
    "        elif s == 0:\n",
    "            ## not run\n",
    "            pass\n",
    "        elif s == 12:\n",
    "            ## run is fail\n",
    "            considerd += 1\n",
    "            if last_passing:\n",
    "                flips += 1\n",
    "            last_passing = False\n",
    "        i += 1\n",
    "    if considerd == 0:\n",
    "        return 0\n",
    "    ## multiplying by 2 since flakiness score lies between 0 and 100\n",
    "    flakiness = 2 * (flips / (considerd)) * 100\n",
    "    return flakiness"
   ]
  },
  {
   "cell_type": "markdown",
   "metadata": {},
   "source": [
    "Below, we have tested our function using some basic test cases."
   ]
  },
  {
   "cell_type": "code",
   "execution_count": 14,
   "metadata": {
    "ExecuteTime": {
     "end_time": "2020-11-17T12:19:32.480316Z",
     "start_time": "2020-11-17T12:19:32.385009Z"
    }
   },
   "outputs": [
    {
     "data": {
      "image/png": "[encoded data removed]",
      "text/plain": [
       "<Figure size 1440x720 with 1 Axes>"
      ]
     },
     "metadata": {
      "needs_background": "light"
     },
     "output_type": "display_data"
    },
    {
     "name": "stdout",
     "output_type": "stream",
     "text": [
      "flakiness score of above test run using flip-flakiness method is:  0.0\n"
     ]
    }
   ],
   "source": [
    "plt.figure(figsize=(20, 10))\n",
    "test_array = [\n",
    "    1,\n",
    "    1,\n",
    "    1,\n",
    "    1,\n",
    "    1,\n",
    "    1,\n",
    "    12,\n",
    "    12,\n",
    "    12,\n",
    "    12,\n",
    "    12,\n",
    "    12,\n",
    "    12,\n",
    "    12,\n",
    "    12,\n",
    "    12,\n",
    "    12,\n",
    "    1,\n",
    "    1,\n",
    "    1,\n",
    "    1,\n",
    "    1,\n",
    "    1,\n",
    "    1,\n",
    "]\n",
    "x = np.arange(len(test_array))\n",
    "plt.step(x, test_array)\n",
    "plt.ylim(1, 13)\n",
    "plt.axes().set_aspect(0.2)\n",
    "plt.show()\n",
    "\n",
    "print(\n",
    "    \"flakiness score of above test run using flip-flakiness method is: \",\n",
    "    calc_flakiness_score(test_array),\n",
    ")"
   ]
  },
  {
   "cell_type": "markdown",
   "metadata": {},
   "source": [
    "In the above figure, we can see there is only one edge with more than three consecutive failures. Hence we did not consider the above test as a flaky test. Hence, the total flakiness score using the `flip flakiness` method is 0"
   ]
  },
  {
   "cell_type": "code",
   "execution_count": 15,
   "metadata": {
    "ExecuteTime": {
     "end_time": "2020-11-17T12:20:11.488554Z",
     "start_time": "2020-11-17T12:20:11.392462Z"
    }
   },
   "outputs": [
    {
     "data": {
      "image/png": "[encoded data removed]",
      "text/plain": [
       "<Figure size 1440x720 with 1 Axes>"
      ]
     },
     "metadata": {
      "needs_background": "light"
     },
     "output_type": "display_data"
    },
    {
     "name": "stdout",
     "output_type": "stream",
     "text": [
      "flakiness score of above test run using flip-flakiness method is:  66.66666666666666\n"
     ]
    }
   ],
   "source": [
    "plt.figure(figsize=(20, 10))\n",
    "test_array_1 = [\n",
    "    1,\n",
    "    1,\n",
    "    1,\n",
    "    1,\n",
    "    1,\n",
    "    1,\n",
    "    12,\n",
    "    1,\n",
    "    12,\n",
    "    1,\n",
    "    12,\n",
    "    1,\n",
    "    12,\n",
    "    1,\n",
    "    12,\n",
    "    1,\n",
    "    12,\n",
    "    1,\n",
    "    12,\n",
    "    1,\n",
    "    12,\n",
    "    1,\n",
    "    1,\n",
    "    1,\n",
    "]\n",
    "x = np.arange(len(test_array_1))\n",
    "plt.step(x, test_array_1)\n",
    "plt.ylim(1, 13)\n",
    "plt.axes().set_aspect(0.2)\n",
    "plt.show()\n",
    "\n",
    "print(\n",
    "    \"flakiness score of above test run using flip-flakiness method is: \",\n",
    "    calc_flakiness_score(test_array_1),\n",
    ")"
   ]
  },
  {
   "cell_type": "markdown",
   "metadata": {},
   "source": [
    "In the above figure, we can see there are multiples edges. Hence, this test exhibits a more irregular behavior pattern. Therefore, our flakiness score is on the higher side. "
   ]
  },
  {
   "cell_type": "code",
   "execution_count": 16,
   "metadata": {
    "ExecuteTime": {
     "end_time": "2020-11-17T12:20:15.957480Z",
     "start_time": "2020-11-17T12:20:15.618877Z"
    }
   },
   "outputs": [
    {
     "data": {
      "image/png": "[encoded data removed]",
      "text/plain": [
       "<Figure size 1440x720 with 1 Axes>"
      ]
     },
     "metadata": {
      "needs_background": "light"
     },
     "output_type": "display_data"
    },
    {
     "name": "stdout",
     "output_type": "stream",
     "text": [
      "flakiness score of above test run using flip-flakiness method is:  100.0\n"
     ]
    }
   ],
   "source": [
    "plt.figure(figsize=(20, 10))\n",
    "test_array_7 = [1, 12, 1, 12, 1, 12, 1, 12, 1, 12, 1, 12, 1, 12, 1, 12, 1, 12]\n",
    "x = np.arange(len(test_array_7))\n",
    "plt.step(x, test_array_7)\n",
    "plt.ylim(1, 13)\n",
    "plt.axes().set_aspect(0.2)\n",
    "plt.show()\n",
    "\n",
    "print(\n",
    "    \"flakiness score of above test run using flip-flakiness method is: \",\n",
    "    calc_flakiness_score(test_array_7),\n",
    ")"
   ]
  },
  {
   "cell_type": "markdown",
   "metadata": {},
   "source": [
    "In the above figure, we have shown the extreme flaky test with irregular behavior patterns. Therefore, our flakiness score is perfect 100."
   ]
  },
  {
   "cell_type": "code",
   "execution_count": 17,
   "metadata": {
    "ExecuteTime": {
     "end_time": "2020-11-17T12:20:17.830711Z",
     "start_time": "2020-11-17T12:20:17.718625Z"
    }
   },
   "outputs": [
    {
     "data": {
      "image/png": "[encoded data removed]",
      "text/plain": [
       "<Figure size 1440x720 with 1 Axes>"
      ]
     },
     "metadata": {
      "needs_background": "light"
     },
     "output_type": "display_data"
    },
    {
     "name": "stdout",
     "output_type": "stream",
     "text": [
      "flakiness score of above test run using flip-flakiness method is: 0.0\n"
     ]
    }
   ],
   "source": [
    "plt.figure(figsize=(20, 10))\n",
    "test_array_2 = [1, 1, 1, 1, 1, 1, 1, 1, 1, 1, 1, 1, 1, 1, 1]\n",
    "x = np.arange(len(test_array_2))\n",
    "plt.step(x, test_array_2)\n",
    "plt.ylim(1, 13)\n",
    "plt.axes().set_aspect(0.2)\n",
    "plt.show()\n",
    "\n",
    "print(\n",
    "    \"flakiness score of above test run using flip-flakiness method is:\",\n",
    "    calc_flakiness_score(test_array_2),\n",
    ")"
   ]
  },
  {
   "cell_type": "markdown",
   "metadata": {},
   "source": [
    "In the above figure, we can see all the test runs passed. Hence, our flakiness score is 0"
   ]
  },
  {
   "cell_type": "code",
   "execution_count": 18,
   "metadata": {
    "ExecuteTime": {
     "end_time": "2020-11-17T12:20:47.848684Z",
     "start_time": "2020-11-17T12:20:47.735505Z"
    }
   },
   "outputs": [
    {
     "data": {
      "image/png": "[encoded data removed]",
      "text/plain": [
       "<Figure size 1440x720 with 1 Axes>"
      ]
     },
     "metadata": {
      "needs_background": "light"
     },
     "output_type": "display_data"
    },
    {
     "name": "stdout",
     "output_type": "stream",
     "text": [
      "flakiness score of above test run using flip-flakiness method is:  0.0\n"
     ]
    }
   ],
   "source": [
    "plt.figure(figsize=(20, 10))\n",
    "test_array_3 = [\n",
    "    12,\n",
    "    12,\n",
    "    12,\n",
    "    12,\n",
    "    12,\n",
    "    12,\n",
    "    12,\n",
    "    12,\n",
    "    12,\n",
    "    12,\n",
    "    12,\n",
    "    12,\n",
    "    12,\n",
    "    12,\n",
    "    12,\n",
    "    12,\n",
    "    12,\n",
    "]\n",
    "x = np.arange(len(test_array_3))\n",
    "plt.step(x, test_array_3)\n",
    "plt.ylim(1, 13)\n",
    "plt.axes().set_aspect(0.2)\n",
    "plt.show()\n",
    "\n",
    "print(\n",
    "    \"flakiness score of above test run using flip-flakiness method is: \",\n",
    "    calc_flakiness_score(test_array_3),\n",
    ")"
   ]
  },
  {
   "cell_type": "markdown",
   "metadata": {},
   "source": [
    "In the above figure, we can see there is no edge in this test run, and there are consistent failures occurring for all the runs. Hence we did not consider the above test as a flaky test. Hence, the total flakiness score using the `flip flakiness` method is 0"
   ]
  },
  {
   "cell_type": "code",
   "execution_count": 19,
   "metadata": {
    "ExecuteTime": {
     "end_time": "2020-11-17T12:20:53.768061Z",
     "start_time": "2020-11-17T12:20:53.763932Z"
    }
   },
   "outputs": [
    {
     "data": {
      "text/plain": [
       "0.0"
      ]
     },
     "execution_count": 19,
     "metadata": {},
     "output_type": "execute_result"
    }
   ],
   "source": [
    "test_array_4 = [\n",
    "    12,\n",
    "    0,\n",
    "    12,\n",
    "    0,\n",
    "    12,\n",
    "    12,\n",
    "    12,\n",
    "    12,\n",
    "    12,\n",
    "    0,\n",
    "    0,\n",
    "    12,\n",
    "    12,\n",
    "    12,\n",
    "    12,\n",
    "    12,\n",
    "    12,\n",
    "    12,\n",
    "    12,\n",
    "]\n",
    "calc_flakiness_score(test_array_4)"
   ]
  },
  {
   "cell_type": "markdown",
   "metadata": {},
   "source": [
    "Above, we can see we ignore not run instants in our calculation of flakiness score. <br>\n",
    "Below, we are included test cases from testgrid repos. [Refrence](https://github.com/GoogleCloudPlatform/testgrid/blob/2a016ff75a27fff1550f5e9f5319cf0114182547/pkg/summarizer/analyzers/flipanalyzer_test.go)"
   ]
  },
  {
   "cell_type": "code",
   "execution_count": 60,
   "metadata": {
    "ExecuteTime": {
     "end_time": "2020-11-18T17:23:09.380722Z",
     "start_time": "2020-11-18T17:23:09.255072Z"
    }
   },
   "outputs": [
    {
     "data": {
      "image/png": "[encoded data removed]",
      "text/plain": [
       "<Figure size 432x288 with 1 Axes>"
      ]
     },
     "metadata": {
      "needs_background": "light"
     },
     "output_type": "display_data"
    },
    {
     "name": "stdout",
     "output_type": "stream",
     "text": [
      "flakiness score of above test run using flip-flakiness method is:  0.0\n"
     ]
    }
   ],
   "source": [
    "test_array_google_1 = [1, 1, 1]\n",
    "x = np.arange(len(test_array_google_1))\n",
    "plt.step(x, test_array_google_1)\n",
    "plt.ylim(1, 13)\n",
    "plt.axes().set_aspect(0.2)\n",
    "plt.show()\n",
    "print(\n",
    "    \"flakiness score of above test run using flip-flakiness method is: \",\n",
    "    calc_flakiness_score(test_array_google_1),\n",
    ")"
   ]
  },
  {
   "cell_type": "markdown",
   "metadata": {},
   "source": [
    "In the above test, we can see all the test runs passed. Hence, our flakiness score is 0"
   ]
  },
  {
   "cell_type": "code",
   "execution_count": 61,
   "metadata": {
    "ExecuteTime": {
     "end_time": "2020-11-18T17:23:41.342267Z",
     "start_time": "2020-11-18T17:23:41.264855Z"
    }
   },
   "outputs": [
    {
     "data": {
      "image/png": "[encoded data removed]",
      "text/plain": [
       "<Figure size 432x288 with 1 Axes>"
      ]
     },
     "metadata": {
      "needs_background": "light"
     },
     "output_type": "display_data"
    },
    {
     "name": "stdout",
     "output_type": "stream",
     "text": [
      "flakiness score of above test run using flip-flakiness method is:  60.0\n"
     ]
    }
   ],
   "source": [
    "test_array_google_2 = [1, 12, 1, 1, 12, 1, 1, 1, 1, 12]\n",
    "x = np.arange(len(test_array_google_2))\n",
    "plt.step(x, test_array_google_2)\n",
    "plt.ylim(1, 13)\n",
    "plt.axes().set_aspect(0.2)\n",
    "plt.show()\n",
    "print(\n",
    "    \"flakiness score of above test run using flip-flakiness method is: \",\n",
    "    calc_flakiness_score(test_array_google_2),\n",
    ")"
   ]
  },
  {
   "cell_type": "markdown",
   "metadata": {},
   "source": [
    "In the above figure, we can see there are multiples edges. Hence, this test exhibits a more irregular behavior pattern. Therefore, our flakiness score is on the higher side. "
   ]
  },
  {
   "cell_type": "code",
   "execution_count": 62,
   "metadata": {
    "ExecuteTime": {
     "end_time": "2020-11-18T17:24:38.849933Z",
     "start_time": "2020-11-18T17:24:38.768197Z"
    }
   },
   "outputs": [
    {
     "data": {
      "image/png": "[encoded data removed]",
      "text/plain": [
       "<Figure size 432x288 with 1 Axes>"
      ]
     },
     "metadata": {
      "needs_background": "light"
     },
     "output_type": "display_data"
    },
    {
     "name": "stdout",
     "output_type": "stream",
     "text": [
      "flakiness score of above test run using flip-flakiness method is:  40.0\n"
     ]
    }
   ],
   "source": [
    "test_array_google_3 = [1, 12, 12, 1, 1, 1, 1, 12, 1, 1]\n",
    "x = np.arange(len(test_array_google_3))\n",
    "plt.step(x, test_array_google_3)\n",
    "plt.ylim(1, 13)\n",
    "plt.axes().set_aspect(0.2)\n",
    "plt.show()\n",
    "print(\n",
    "    \"flakiness score of above test run using flip-flakiness method is: \",\n",
    "    calc_flakiness_score(test_array_google_3),\n",
    ")"
   ]
  },
  {
   "cell_type": "markdown",
   "metadata": {},
   "source": [
    "In the above figure, we can see there are multiples edges. Hence, this test exhibits a more irregular behavior pattern. Therefore, our flakiness score is on the higher side. "
   ]
  },
  {
   "cell_type": "code",
   "execution_count": 63,
   "metadata": {
    "ExecuteTime": {
     "end_time": "2020-11-18T17:25:44.655717Z",
     "start_time": "2020-11-18T17:25:44.570934Z"
    }
   },
   "outputs": [
    {
     "data": {
      "image/png": "[encoded data removed]",
      "text/plain": [
       "<Figure size 432x288 with 1 Axes>"
      ]
     },
     "metadata": {
      "needs_background": "light"
     },
     "output_type": "display_data"
    },
    {
     "name": "stdout",
     "output_type": "stream",
     "text": [
      "flakiness score of above test run using flip-flakiness method is:  80.0\n"
     ]
    }
   ],
   "source": [
    "test_array_google_4 = [1, 12, 12, 12, 12, 12, 1, 12, 1, 12]\n",
    "x = np.arange(len(test_array_google_4))\n",
    "plt.step(x, test_array_google_4)\n",
    "plt.ylim(1, 13)\n",
    "plt.axes().set_aspect(0.2)\n",
    "plt.show()\n",
    "print(\n",
    "    \"flakiness score of above test run using flip-flakiness method is: \",\n",
    "    calc_flakiness_score(test_array_google_4),\n",
    ")"
   ]
  },
  {
   "cell_type": "markdown",
   "metadata": {},
   "source": [
    "In the above figure, we can see there are multiples edges. Hence, this test exhibits a more irregular behavior pattern. Therefore, our flakiness score is on the higher side. Note that there is a continuous failure from the test run 2 to 5. Hence, we didnt consider it as an edge."
   ]
  },
  {
   "cell_type": "code",
   "execution_count": 64,
   "metadata": {
    "ExecuteTime": {
     "end_time": "2020-11-18T17:51:46.570434Z",
     "start_time": "2020-11-18T17:51:46.484992Z"
    }
   },
   "outputs": [
    {
     "data": {
      "image/png": "[encoded data removed]",
      "text/plain": [
       "<Figure size 432x288 with 1 Axes>"
      ]
     },
     "metadata": {
      "needs_background": "light"
     },
     "output_type": "display_data"
    },
    {
     "name": "stdout",
     "output_type": "stream",
     "text": [
      "flakiness score of above test run using flip-flakiness method is:  100.0\n"
     ]
    }
   ],
   "source": [
    "test_array_google_5 = [1, 12, 12, 0, 12, 12, 1, 12, 1, 12]\n",
    "x = np.arange(len(test_array_google_5))\n",
    "plt.step(x, test_array_google_5)\n",
    "plt.ylim(1, 13)\n",
    "plt.axes().set_aspect(0.2)\n",
    "plt.show()\n",
    "print(\n",
    "    \"flakiness score of above test run using flip-flakiness method is: \",\n",
    "    calc_flakiness_score(test_array_google_5),\n",
    ")"
   ]
  },
  {
   "cell_type": "markdown",
   "metadata": {},
   "source": [
    "In the above figure, we have shown the extreme flaky test with irregular behavior patterns. Therefore, our flakiness score is perfect 100. Note that there is a continuous failure from the test run 2 to 6 (Also, we are ignoring 0 test run). Hence, we didnt consider it as an edge."
   ]
  },
  {
   "cell_type": "markdown",
   "metadata": {
    "ExecuteTime": {
     "end_time": "2020-11-10T16:44:06.245432Z",
     "start_time": "2020-11-10T16:44:06.242177Z"
    }
   },
   "source": [
    "Now, we will calculate the flakiness score by flip method for each test in our dataset."
   ]
  },
  {
   "cell_type": "code",
   "execution_count": 78,
   "metadata": {
    "ExecuteTime": {
     "end_time": "2020-11-18T18:49:12.092479Z",
     "start_time": "2020-11-18T18:49:12.049749Z"
    }
   },
   "outputs": [
    {
     "data": {
      "text/plain": [
       "0        0.000000\n",
       "1       17.500000\n",
       "2        0.000000\n",
       "3        7.792208\n",
       "4        0.000000\n",
       "          ...    \n",
       "1004     0.000000\n",
       "1005     0.000000\n",
       "1006     0.000000\n",
       "1007     0.000000\n",
       "1008     0.000000\n",
       "Name: flip_flakiness_score, Length: 1009, dtype: float64"
      ]
     },
     "execution_count": 78,
     "metadata": {},
     "output_type": "execute_result"
    }
   ],
   "source": [
    "details[\"flip_flakiness_score\"] = details[\"values\"].apply(\n",
    "    lambda x: calc_flakiness_score(x)\n",
    ")\n",
    "details[\"flip_flakiness_score\"]"
   ]
  },
  {
   "cell_type": "markdown",
   "metadata": {},
   "source": [
    "## Flip Flakiness with Optimal Distance\n",
    "\n",
    "One of the downsides of finding a single value for each test case is that there might be two different consecutive time periods for which the test case is behaving flaky. Or the number of edges is relatively low compares to total runes; hence your flakiness score is really low, but the test is still flaky. Let's illustrate this statement by the example. "
   ]
  },
  {
   "cell_type": "code",
   "execution_count": 32,
   "metadata": {
    "ExecuteTime": {
     "end_time": "2020-11-17T12:33:31.852662Z",
     "start_time": "2020-11-17T12:33:31.757657Z"
    }
   },
   "outputs": [
    {
     "data": {
      "image/png": "[encoded data removed]",
      "text/plain": [
       "<Figure size 1440x720 with 1 Axes>"
      ]
     },
     "metadata": {
      "needs_background": "light"
     },
     "output_type": "display_data"
    },
    {
     "name": "stdout",
     "output_type": "stream",
     "text": [
      "flakiness score of above test run using flip-flakiness method is:  20.408163265306122\n"
     ]
    }
   ],
   "source": [
    "plt.figure(figsize=(20, 10))\n",
    "test_array_5 = [\n",
    "    1,\n",
    "    1,\n",
    "    1,\n",
    "    1,\n",
    "    1,\n",
    "    12,\n",
    "    1,\n",
    "    12,\n",
    "    1,\n",
    "    1,\n",
    "    1,\n",
    "    1,\n",
    "    1,\n",
    "    1,\n",
    "    1,\n",
    "    1,\n",
    "    1,\n",
    "    1,\n",
    "    1,\n",
    "    1,\n",
    "    1,\n",
    "    1,\n",
    "    1,\n",
    "    1,\n",
    "    1,\n",
    "    1,\n",
    "    1,\n",
    "    1,\n",
    "    1,\n",
    "    1,\n",
    "    1,\n",
    "    1,\n",
    "    12,\n",
    "    1,\n",
    "    1,\n",
    "    12,\n",
    "    1,\n",
    "    12,\n",
    "    1,\n",
    "    1,\n",
    "    1,\n",
    "    1,\n",
    "    1,\n",
    "    1,\n",
    "    1,\n",
    "    1,\n",
    "    1,\n",
    "    1,\n",
    "    1,\n",
    "]\n",
    "x = np.arange(len(test_array_5))\n",
    "plt.step(x, test_array_5)\n",
    "plt.ylim(1, 13)\n",
    "plt.axes().set_aspect(0.2)\n",
    "plt.show()\n",
    "\n",
    "print(\n",
    "    \"flakiness score of above test run using flip-flakiness method is: \",\n",
    "    calc_flakiness_score(test_array_5),\n",
    ")"
   ]
  },
  {
   "cell_type": "markdown",
   "metadata": {},
   "source": [
    "As we can see in the above image, we have two separate time periods for which behavior is flaky. We can see that the behavior of the test is flaky between runs [4,7] and [31,37]. However, our flakiness score is low since the total number of runs is higher. "
   ]
  },
  {
   "cell_type": "code",
   "execution_count": 33,
   "metadata": {
    "ExecuteTime": {
     "end_time": "2020-11-17T12:33:33.622634Z",
     "start_time": "2020-11-17T12:33:33.541702Z"
    }
   },
   "outputs": [
    {
     "data": {
      "image/png": "[encoded data removed]",
      "text/plain": [
       "<Figure size 1440x720 with 1 Axes>"
      ]
     },
     "metadata": {
      "needs_background": "light"
     },
     "output_type": "display_data"
    },
    {
     "name": "stdout",
     "output_type": "stream",
     "text": [
      "flakiness score of above test run using flip-flakiness method is:  8.333333333333332\n"
     ]
    }
   ],
   "source": [
    "plt.figure(figsize=(20, 10))\n",
    "test_array_6 = [\n",
    "    1,\n",
    "    1,\n",
    "    1,\n",
    "    1,\n",
    "    1,\n",
    "    12,\n",
    "    1,\n",
    "    12,\n",
    "    1,\n",
    "    1,\n",
    "    1,\n",
    "    1,\n",
    "    1,\n",
    "    1,\n",
    "    1,\n",
    "    1,\n",
    "    1,\n",
    "    1,\n",
    "    1,\n",
    "    1,\n",
    "    1,\n",
    "    1,\n",
    "    1,\n",
    "    1,\n",
    "    1,\n",
    "    1,\n",
    "    1,\n",
    "    1,\n",
    "    1,\n",
    "    1,\n",
    "    1,\n",
    "    1,\n",
    "    1,\n",
    "    1,\n",
    "    1,\n",
    "    1,\n",
    "    1,\n",
    "    1,\n",
    "    1,\n",
    "    1,\n",
    "    1,\n",
    "    1,\n",
    "    1,\n",
    "    1,\n",
    "    1,\n",
    "    1,\n",
    "    1,\n",
    "    1,\n",
    "]\n",
    "x = np.arange(len(test_array_6))\n",
    "plt.step(x, test_array_6)\n",
    "plt.ylim(1, 13)\n",
    "plt.axes().set_aspect(0.2)\n",
    "plt.show()\n",
    "\n",
    "print(\n",
    "    \"flakiness score of above test run using flip-flakiness method is: \",\n",
    "    calc_flakiness_score(test_array_6),\n",
    ")"
   ]
  },
  {
   "cell_type": "markdown",
   "metadata": {},
   "source": [
    "Similarly, in the above image, we can see that the behavior of the test is flaky between runs [4,7]. However, our flakiness score is low since the number of the total number of runs is higher. "
   ]
  },
  {
   "cell_type": "markdown",
   "metadata": {},
   "source": [
    "To overcome this downside, instead of calculating the flakiness score on the entire run. We just decided to calculate the flakiness score between edges since it will maximize our flakiness score. More specifically, we calculated the flakiness score between the two farthest edges, which have a flakiness score greater than a certain threshold.  Currently, we are using the threshold as flakiness score 30, but we can change it according to need of the application. "
   ]
  },
  {
   "cell_type": "code",
   "execution_count": 79,
   "metadata": {
    "ExecuteTime": {
     "end_time": "2020-11-18T18:49:19.763386Z",
     "start_time": "2020-11-18T18:49:19.752916Z"
    }
   },
   "outputs": [],
   "source": [
    "def calc_optimal_flakiness_score(test_array, thersold=30):\n",
    "    \"\"\"calculate the flakiness score between edges since it will maximize our flakiness score.\n",
    "    More specifically, we calculated the flakiness score between the two farthest edges,\n",
    "    which have a flakiness score greater than a certain threshold.\n",
    "\n",
    "    Parameters\n",
    "    ----------\n",
    "    test_row : array\n",
    "            array of test runs with 0, 1, 12 values as not run, pass, fail respectively\n",
    "    thersold: int default 30\n",
    "\n",
    "    Returns\n",
    "    ----------\n",
    "    modified_test_array: numpy array\n",
    "                        modified test grid where the value of failure due to flake is 6\n",
    "    flake_edges_dict: dictionary\n",
    "            key of the dictionary is a tuple of time period, and value is the flakiness score between the time period\n",
    "    \"\"\"\n",
    "    modified_test_array = test_array.copy()\n",
    "    flake_edges = []  ## array to store edges\n",
    "    label_array = [\"\"] * len(test_array)  ## array to stores labels\n",
    "    flake_edges_dict = {}\n",
    "    ignore_failures_in_a_row = 3\n",
    "    i = 0\n",
    "    while i < len(test_array) and test_array[i] == 0:\n",
    "        i += 1\n",
    "\n",
    "    ## intializing last_passing variable value\n",
    "    if i >= len(test_array):\n",
    "        return modified_test_array, flake_edges_dict\n",
    "    elif test_array[i] == 1:\n",
    "        last_passing = True\n",
    "    elif test_array[i] == 12:\n",
    "        last_passing = False\n",
    "    i += 1\n",
    "\n",
    "    ## Finding all the edges in our test runs\n",
    "    while i < len(test_array):\n",
    "        ## ignoring more than three consecutive failures\n",
    "        ## If the test is consecutively failing for three or more than three runs,\n",
    "        ## we considered did not consider it an edge.\n",
    "        cf = calc_consecutive_failures(test_array, i)\n",
    "        if cf >= ignore_failures_in_a_row:\n",
    "            i = i + cf\n",
    "            if i >= len(test_array):\n",
    "                break\n",
    "        s = test_array[i]\n",
    "        if s == 1:\n",
    "            last_passing = True\n",
    "        elif s == 0:\n",
    "            pass\n",
    "        else:\n",
    "            if last_passing:\n",
    "                flake_edges.append(i - 1)\n",
    "            last_passing = False\n",
    "        i = i + 1\n",
    "\n",
    "    ## flakiness score between the two farthest edges, which have a flakiness score greater than a certain threshold.\n",
    "    p = 0\n",
    "    while p < len(flake_edges) - 1:\n",
    "        possible_flake = False\n",
    "        for q in range(p + 1, len(flake_edges)):\n",
    "            curr_flake = calc_flakiness_score(\n",
    "                test_array[flake_edges[p] : flake_edges[q] + 2]\n",
    "            )\n",
    "            if curr_flake > thersold:\n",
    "                possible_flake = True\n",
    "                max_flake = curr_flake\n",
    "                max_p = flake_edges[p]\n",
    "                max_q = flake_edges[q]\n",
    "            else:\n",
    "                break\n",
    "        if possible_flake:\n",
    "            for k in range(max_p, max_q + 2):\n",
    "                if modified_test_array[k] == 12:\n",
    "                    modified_test_array[k] = 6\n",
    "                    label_array[k] = \"F\"\n",
    "                    if k + 1 < len(modified_test_array):\n",
    "                        if modified_test_array[k + 1] == 12:\n",
    "                            modified_test_array[k + 1] = 6\n",
    "                            label_array[k + 1] = \"F\"\n",
    "\n",
    "            arr = []\n",
    "            arr.append(max_p)\n",
    "            arr.append(max_q + 1)\n",
    "            flake_edges_dict[tuple(arr)] = max_flake\n",
    "\n",
    "        p = q\n",
    "    return modified_test_array, flake_edges_dict, label_array"
   ]
  },
  {
   "cell_type": "code",
   "execution_count": 35,
   "metadata": {
    "ExecuteTime": {
     "end_time": "2020-11-17T12:33:51.656387Z",
     "start_time": "2020-11-17T12:33:51.562266Z"
    }
   },
   "outputs": [
    {
     "data": {
      "image/png": "[encoded data removed]",
      "text/plain": [
       "<Figure size 1440x720 with 1 Axes>"
      ]
     },
     "metadata": {
      "needs_background": "light"
     },
     "output_type": "display_data"
    },
    {
     "name": "stdout",
     "output_type": "stream",
     "text": [
      "flakiness score dictionary using Flip Flakiness with Optimal Distance method is:  {(4, 7): 100.0, (31, 37): 85.71428571428571}\n"
     ]
    }
   ],
   "source": [
    "plt.figure(figsize=(20, 10))\n",
    "test_array_5 = [\n",
    "    1,\n",
    "    1,\n",
    "    1,\n",
    "    1,\n",
    "    1,\n",
    "    12,\n",
    "    1,\n",
    "    12,\n",
    "    1,\n",
    "    1,\n",
    "    1,\n",
    "    1,\n",
    "    1,\n",
    "    1,\n",
    "    1,\n",
    "    1,\n",
    "    1,\n",
    "    1,\n",
    "    1,\n",
    "    1,\n",
    "    1,\n",
    "    1,\n",
    "    1,\n",
    "    1,\n",
    "    1,\n",
    "    1,\n",
    "    1,\n",
    "    1,\n",
    "    1,\n",
    "    1,\n",
    "    1,\n",
    "    1,\n",
    "    12,\n",
    "    1,\n",
    "    1,\n",
    "    12,\n",
    "    1,\n",
    "    12,\n",
    "    1,\n",
    "    1,\n",
    "    1,\n",
    "    1,\n",
    "    1,\n",
    "    1,\n",
    "    1,\n",
    "    1,\n",
    "    1,\n",
    "    1,\n",
    "    1,\n",
    "]\n",
    "x = np.arange(len(test_array_5))\n",
    "plt.step(x, test_array_5)\n",
    "plt.ylim(1, 13)\n",
    "plt.axes().set_aspect(0.2)\n",
    "plt.show()\n",
    "\n",
    "(\n",
    "    modified_test_array,\n",
    "    flake_dict,\n",
    "    modified_label_array,\n",
    ") = calc_optimal_flakiness_score(test_array_5)\n",
    "print(\n",
    "    \"flakiness score dictionary using Flip Flakiness with Optimal Distance method is: \",\n",
    "    flake_dict,\n",
    ")"
   ]
  },
  {
   "cell_type": "markdown",
   "metadata": {},
   "source": [
    "As we can see in the above image, we have two separate time periods for which behavior is flaky. We can see that the behavior of the test is flaky between runs [4,7] and [31,37]. Using `flip flakiness with optimal distance` methods we can see above, we have a flakiness score of 100 between test run 4 to 7 and a flakiness score of 85.71 between test run 31 to 37."
   ]
  },
  {
   "cell_type": "code",
   "execution_count": 37,
   "metadata": {
    "ExecuteTime": {
     "end_time": "2020-11-17T12:34:42.309843Z",
     "start_time": "2020-11-17T12:34:42.224138Z"
    }
   },
   "outputs": [
    {
     "data": {
      "image/png": "[encoded data removed]",
      "text/plain": [
       "<Figure size 1440x720 with 1 Axes>"
      ]
     },
     "metadata": {
      "needs_background": "light"
     },
     "output_type": "display_data"
    },
    {
     "name": "stdout",
     "output_type": "stream",
     "text": [
      "flakiness score dictionary using Flip Flakiness with Optimal Distance method is:  {(4, 7): 100.0}\n"
     ]
    }
   ],
   "source": [
    "plt.figure(figsize=(20, 10))\n",
    "test_array_6 = [\n",
    "    1,\n",
    "    1,\n",
    "    1,\n",
    "    1,\n",
    "    1,\n",
    "    12,\n",
    "    1,\n",
    "    12,\n",
    "    1,\n",
    "    1,\n",
    "    1,\n",
    "    1,\n",
    "    1,\n",
    "    1,\n",
    "    1,\n",
    "    1,\n",
    "    1,\n",
    "    1,\n",
    "    1,\n",
    "    1,\n",
    "    1,\n",
    "    1,\n",
    "    1,\n",
    "    1,\n",
    "    1,\n",
    "    1,\n",
    "    1,\n",
    "    1,\n",
    "    1,\n",
    "    1,\n",
    "    1,\n",
    "    1,\n",
    "    1,\n",
    "    1,\n",
    "    1,\n",
    "    1,\n",
    "    1,\n",
    "    1,\n",
    "    1,\n",
    "    1,\n",
    "    1,\n",
    "    1,\n",
    "    1,\n",
    "    1,\n",
    "    1,\n",
    "    1,\n",
    "    1,\n",
    "    1,\n",
    "]\n",
    "x = np.arange(len(test_array_6))\n",
    "plt.step(x, test_array_6)\n",
    "plt.ylim(1, 13)\n",
    "plt.axes().set_aspect(0.2)\n",
    "plt.show()\n",
    "\n",
    "(\n",
    "    modified_test_array,\n",
    "    flake_dict,\n",
    "    modified_label_array,\n",
    ") = calc_optimal_flakiness_score(test_array_6)\n",
    "print(\n",
    "    \"flakiness score dictionary using Flip Flakiness with Optimal Distance method is: \",\n",
    "    flake_dict,\n",
    ")"
   ]
  },
  {
   "cell_type": "markdown",
   "metadata": {},
   "source": [
    "As we can see above, we have a flakiness score of 100 between test run 4 to 7."
   ]
  },
  {
   "cell_type": "markdown",
   "metadata": {},
   "source": [
    "# Comparision of different methods\n",
    "\n",
    "## Comparison of custom test cases\n",
    "Below we are comparing custom test runs."
   ]
  },
  {
   "cell_type": "code",
   "execution_count": 65,
   "metadata": {
    "ExecuteTime": {
     "end_time": "2020-11-18T18:04:02.409604Z",
     "start_time": "2020-11-18T18:04:02.316927Z"
    }
   },
   "outputs": [
    {
     "data": {
      "image/png": "[encoded data removed]",
      "text/plain": [
       "<Figure size 1440x720 with 1 Axes>"
      ]
     },
     "metadata": {
      "needs_background": "light"
     },
     "output_type": "display_data"
    },
    {
     "name": "stdout",
     "output_type": "stream",
     "text": [
      "flakiness score of above test run using naive method is:  45.833333333333336\n",
      "flakiness score of above test run using flip-flakiness method is:  0.0\n",
      "flakiness score dictionary using Flip Flakiness with Optimal Distance method is:  {}\n"
     ]
    }
   ],
   "source": [
    "plt.figure(figsize=(20, 10))\n",
    "test_array = [\n",
    "    1,\n",
    "    1,\n",
    "    1,\n",
    "    1,\n",
    "    1,\n",
    "    1,\n",
    "    12,\n",
    "    12,\n",
    "    12,\n",
    "    12,\n",
    "    12,\n",
    "    12,\n",
    "    12,\n",
    "    12,\n",
    "    12,\n",
    "    12,\n",
    "    12,\n",
    "    1,\n",
    "    1,\n",
    "    1,\n",
    "    1,\n",
    "    1,\n",
    "    1,\n",
    "    1,\n",
    "]\n",
    "x = np.arange(len(test_array))\n",
    "plt.step(x, test_array)\n",
    "plt.ylim(1, 13)\n",
    "plt.axes().set_aspect(0.2)\n",
    "plt.show()\n",
    "\n",
    "(\n",
    "    modified_test_array,\n",
    "    flake_dict,\n",
    "    modified_label_array,\n",
    ") = calc_optimal_flakiness_score(test_array)\n",
    "print(\n",
    "    \"flakiness score of above test run using naive method is: \",\n",
    "    naive_flake_calc(test_array),\n",
    ")\n",
    "print(\n",
    "    \"flakiness score of above test run using flip-flakiness method is: \",\n",
    "    calc_flakiness_score(test_array),\n",
    ")\n",
    "print(\n",
    "    \"flakiness score dictionary using Flip Flakiness with Optimal Distance method is: \",\n",
    "    flake_dict,\n",
    ")"
   ]
  },
  {
   "cell_type": "markdown",
   "metadata": {},
   "source": [
    "In the above figure, we got a flakiness score of 45.83 using the `naive flakiness` method. <br>\n",
    "However, we can see there is only one edge with more than three consecutive failures. Hence we did not consider the above test as a flaky test and considered it as a legitimate failure. Hence, the total flakiness score using the `flip flakiness` method is 0. Also, the flakiness score `flip flakiness with optimal distance` method is giving an empty dictionary i.e. there is no flakiness or flakiness score is 0."
   ]
  },
  {
   "cell_type": "code",
   "execution_count": 66,
   "metadata": {
    "ExecuteTime": {
     "end_time": "2020-11-18T18:06:18.075026Z",
     "start_time": "2020-11-18T18:06:17.961514Z"
    }
   },
   "outputs": [
    {
     "data": {
      "image/png": "[encoded data removed]",
      "text/plain": [
       "<Figure size 1440x720 with 1 Axes>"
      ]
     },
     "metadata": {
      "needs_background": "light"
     },
     "output_type": "display_data"
    },
    {
     "name": "stdout",
     "output_type": "stream",
     "text": [
      "flakiness score of above test run using naive method is:  100.0\n",
      "flakiness score of above test run using flip-flakiness method is:  0.0\n",
      "flakiness score dictionary using Flip Flakiness with Optimal Distance method is:  {}\n"
     ]
    }
   ],
   "source": [
    "plt.figure(figsize=(20, 10))\n",
    "test_array_3 = [\n",
    "    12,\n",
    "    12,\n",
    "    12,\n",
    "    12,\n",
    "    12,\n",
    "    12,\n",
    "    12,\n",
    "    12,\n",
    "    12,\n",
    "    12,\n",
    "    12,\n",
    "    12,\n",
    "    12,\n",
    "    12,\n",
    "    12,\n",
    "    12,\n",
    "    12,\n",
    "]\n",
    "x = np.arange(len(test_array_3))\n",
    "plt.step(x, test_array_3)\n",
    "plt.ylim(1, 13)\n",
    "plt.axes().set_aspect(0.2)\n",
    "plt.show()\n",
    "\n",
    "(\n",
    "    modified_test_array,\n",
    "    flake_dict,\n",
    "    modified_label_array,\n",
    ") = calc_optimal_flakiness_score(test_array_3)\n",
    "print(\n",
    "    \"flakiness score of above test run using naive method is: \",\n",
    "    naive_flake_calc(test_array_3),\n",
    ")\n",
    "print(\n",
    "    \"flakiness score of above test run using flip-flakiness method is: \",\n",
    "    calc_flakiness_score(test_array_3),\n",
    ")\n",
    "print(\n",
    "    \"flakiness score dictionary using Flip Flakiness with Optimal Distance method is: \",\n",
    "    flake_dict,\n",
    ")"
   ]
  },
  {
   "cell_type": "markdown",
   "metadata": {},
   "source": [
    "In the above figure, we got a flakiness score of 100 using the `naive flakiness` method. <br>\n",
    "However, we can see there is no edge in this test run, and there are consistent failures occurring for all the runs. Hence we did not consider the above test as a flaky test and considered it as a legitimate failure. Hence, the total flakiness score using the `flip flakiness` method is 0. Also, the flakiness score `flip flakiness with optimal distance` method is giving an empty dictionary i.e. there is no flakiness or flakiness score is 0."
   ]
  },
  {
   "cell_type": "code",
   "execution_count": 67,
   "metadata": {
    "ExecuteTime": {
     "end_time": "2020-11-18T18:10:10.782478Z",
     "start_time": "2020-11-18T18:10:10.682217Z"
    }
   },
   "outputs": [
    {
     "data": {
      "image/png": "[encoded data removed]",
      "text/plain": [
       "<Figure size 1440x720 with 1 Axes>"
      ]
     },
     "metadata": {
      "needs_background": "light"
     },
     "output_type": "display_data"
    },
    {
     "name": "stdout",
     "output_type": "stream",
     "text": [
      "flakiness score of above test run using naive method is:  10.204081632653061\n",
      "flakiness score of above test run using flip-flakiness method is:  20.408163265306122\n",
      "flakiness score dictionary using Flip Flakiness with Optimal Distance method is:  {(4, 7): 100.0, (31, 37): 85.71428571428571}\n"
     ]
    }
   ],
   "source": [
    "plt.figure(figsize=(20, 10))\n",
    "test_array_5 = [\n",
    "    1,\n",
    "    1,\n",
    "    1,\n",
    "    1,\n",
    "    1,\n",
    "    12,\n",
    "    1,\n",
    "    12,\n",
    "    1,\n",
    "    1,\n",
    "    1,\n",
    "    1,\n",
    "    1,\n",
    "    1,\n",
    "    1,\n",
    "    1,\n",
    "    1,\n",
    "    1,\n",
    "    1,\n",
    "    1,\n",
    "    1,\n",
    "    1,\n",
    "    1,\n",
    "    1,\n",
    "    1,\n",
    "    1,\n",
    "    1,\n",
    "    1,\n",
    "    1,\n",
    "    1,\n",
    "    1,\n",
    "    1,\n",
    "    12,\n",
    "    1,\n",
    "    1,\n",
    "    12,\n",
    "    1,\n",
    "    12,\n",
    "    1,\n",
    "    1,\n",
    "    1,\n",
    "    1,\n",
    "    1,\n",
    "    1,\n",
    "    1,\n",
    "    1,\n",
    "    1,\n",
    "    1,\n",
    "    1,\n",
    "]\n",
    "x = np.arange(len(test_array_5))\n",
    "plt.step(x, test_array_5)\n",
    "plt.ylim(1, 13)\n",
    "plt.axes().set_aspect(0.2)\n",
    "plt.show()\n",
    "\n",
    "(\n",
    "    modified_test_array,\n",
    "    flake_dict,\n",
    "    modified_label_array,\n",
    ") = calc_optimal_flakiness_score(test_array_5)\n",
    "print(\n",
    "    \"flakiness score of above test run using naive method is: \",\n",
    "    naive_flake_calc(test_array_5),\n",
    ")\n",
    "print(\n",
    "    \"flakiness score of above test run using flip-flakiness method is: \",\n",
    "    calc_flakiness_score(test_array_5),\n",
    ")\n",
    "print(\n",
    "    \"flakiness score dictionary using Flip Flakiness with Optimal Distance method is: \",\n",
    "    flake_dict,\n",
    ")"
   ]
  },
  {
   "cell_type": "markdown",
   "metadata": {},
   "source": [
    "As we can see in the above image, we have two separate time periods for which behavior is flaky. We can see that the behavior of the test is flaky between runs [4,7] and [31,37]. However, our flakiness score using `flip-flakiness` and `naive flakiness` method is low since the number of the total number of runs is higher. <br>\n",
    "\n",
    "Using `flip flakiness with optimal distance` methods we can see above, we have a flakiness score of 100 between test run 4 to 7 and a flakiness score of 85.71 between test run 31 to 37. Hence, we can conclude we are getting the best results with `flip flakiness with optimal distance` method for this particular test case."
   ]
  },
  {
   "cell_type": "code",
   "execution_count": 68,
   "metadata": {
    "ExecuteTime": {
     "end_time": "2020-11-18T18:21:35.633129Z",
     "start_time": "2020-11-18T18:21:35.549499Z"
    }
   },
   "outputs": [
    {
     "data": {
      "image/png": "[encoded data removed]",
      "text/plain": [
       "<Figure size 1440x720 with 1 Axes>"
      ]
     },
     "metadata": {
      "needs_background": "light"
     },
     "output_type": "display_data"
    },
    {
     "name": "stdout",
     "output_type": "stream",
     "text": [
      "flakiness score of above test run using naive method is:  4.166666666666667\n",
      "flakiness score of above test run using flip-flakiness method is:  8.333333333333332\n",
      "flakiness score dictionary using Flip Flakiness with Optimal Distance method is:  {(4, 7): 100.0}\n"
     ]
    }
   ],
   "source": [
    "plt.figure(figsize=(20, 10))\n",
    "test_array_6 = [\n",
    "    1,\n",
    "    1,\n",
    "    1,\n",
    "    1,\n",
    "    1,\n",
    "    12,\n",
    "    1,\n",
    "    12,\n",
    "    1,\n",
    "    1,\n",
    "    1,\n",
    "    1,\n",
    "    1,\n",
    "    1,\n",
    "    1,\n",
    "    1,\n",
    "    1,\n",
    "    1,\n",
    "    1,\n",
    "    1,\n",
    "    1,\n",
    "    1,\n",
    "    1,\n",
    "    1,\n",
    "    1,\n",
    "    1,\n",
    "    1,\n",
    "    1,\n",
    "    1,\n",
    "    1,\n",
    "    1,\n",
    "    1,\n",
    "    1,\n",
    "    1,\n",
    "    1,\n",
    "    1,\n",
    "    1,\n",
    "    1,\n",
    "    1,\n",
    "    1,\n",
    "    1,\n",
    "    1,\n",
    "    1,\n",
    "    1,\n",
    "    1,\n",
    "    1,\n",
    "    1,\n",
    "    1,\n",
    "]\n",
    "x = np.arange(len(test_array_6))\n",
    "plt.step(x, test_array_6)\n",
    "plt.ylim(1, 13)\n",
    "plt.axes().set_aspect(0.2)\n",
    "plt.show()\n",
    "\n",
    "(\n",
    "    modified_test_array,\n",
    "    flake_dict,\n",
    "    modified_label_array,\n",
    ") = calc_optimal_flakiness_score(test_array_6)\n",
    "print(\n",
    "    \"flakiness score of above test run using naive method is: \",\n",
    "    naive_flake_calc(test_array_6),\n",
    ")\n",
    "print(\n",
    "    \"flakiness score of above test run using flip-flakiness method is: \",\n",
    "    calc_flakiness_score(test_array_6),\n",
    ")\n",
    "print(\n",
    "    \"flakiness score dictionary using Flip Flakiness with Optimal Distance method is: \",\n",
    "    flake_dict,\n",
    ")"
   ]
  },
  {
   "cell_type": "markdown",
   "metadata": {},
   "source": [
    "As we can see above, in the above test case, we can see that the behavior of the test is flaky between runs [4,7]. However, our flakiness score using `flip-flakiness` and and `naive flakiness` method is low since the number of the total number of runs is higher. \n",
    "\n",
    "Using `flip flakiness with optimal distance` methods we can see above, we have a flakiness score of 100 between test run 4 to 7. Hence, we can conclude we are getting the best results with `flip flakiness with optimal distance` method for this particular test case."
   ]
  },
  {
   "cell_type": "markdown",
   "metadata": {},
   "source": [
    "## Comparison of testgrids\n",
    "Below we are comparing custom testgirds with annotations.\n",
    "\n",
    "### Original testgrid"
   ]
  },
  {
   "cell_type": "code",
   "execution_count": 43,
   "metadata": {
    "ExecuteTime": {
     "end_time": "2020-11-17T12:41:31.848916Z",
     "start_time": "2020-11-17T12:41:28.326186Z"
    }
   },
   "outputs": [
    {
     "data": {
      "image/png": "[encoded data removed]",
      "text/plain": [
       "<Figure size 1440x720 with 1 Axes>"
      ]
     },
     "metadata": {
      "needs_background": "light"
     },
     "output_type": "display_data"
    }
   ],
   "source": [
    "plt.figure(figsize=(20, 10))\n",
    "cmap = colors.ListedColormap([\"white\", \"green\", \"red\"])\n",
    "norm = colors.BoundaryNorm(boundaries=[0, 1, 12], ncolors=2)\n",
    "sns.heatmap(\n",
    "    np.array(list(details[\"values\"][:40].values)),\n",
    "    annot=np.array(list(details[\"label_arr\"][:40].values)),\n",
    "    fmt=\"\",\n",
    "    cmap=cmap,\n",
    "    norm=norm,\n",
    "    cbar=False,\n",
    "    linewidths=0.1,\n",
    "    linecolor=\"Black\",\n",
    ")\n",
    "plt.show()"
   ]
  },
  {
   "cell_type": "markdown",
   "metadata": {},
   "source": [
    "Cells with F annotations in the above graph are the existing labels given by the testgrid algorithm. "
   ]
  },
  {
   "cell_type": "code",
   "execution_count": 93,
   "metadata": {
    "ExecuteTime": {
     "end_time": "2020-11-18T18:55:32.148367Z",
     "start_time": "2020-11-18T18:55:32.144595Z"
    }
   },
   "outputs": [
    {
     "name": "stdout",
     "output_type": "stream",
     "text": [
      "total number of existing flake label given by the testgrid algorithm is 151\n"
     ]
    }
   ],
   "source": [
    "total_existing_flake_label = np.count_nonzero(\n",
    "    np.array(list(details[\"label_arr\"][:40].values)) == \"F\"\n",
    ")\n",
    "print(\n",
    "    \"total number of existing flake label given by the testgrid algorithm is\",\n",
    "    total_existing_flake_label,\n",
    ")"
   ]
  },
  {
   "cell_type": "markdown",
   "metadata": {
    "ExecuteTime": {
     "end_time": "2020-11-17T12:44:43.917643Z",
     "start_time": "2020-11-17T12:44:43.913369Z"
    }
   },
   "source": [
    "### Naive flake method testgrid\n",
    "Below we are annotating testgrid using the naive flake detection method."
   ]
  },
  {
   "cell_type": "code",
   "execution_count": 94,
   "metadata": {
    "ExecuteTime": {
     "end_time": "2020-11-18T18:56:14.882706Z",
     "start_time": "2020-11-18T18:56:14.867280Z"
    }
   },
   "outputs": [],
   "source": [
    "def navie_flake_annotation(val_array):\n",
    "    label_arr = [\"\"] * len(val_array)\n",
    "    for i in range(len(val_array)):\n",
    "        if val_array[i] == 12:\n",
    "            label_arr[i] = \"F\"\n",
    "    return label_arr\n",
    "\n",
    "\n",
    "flake_score_thersold = 15\n",
    "total_len = len(details[\"values\"].iloc[0])\n",
    "details[\"naive_label_array\"] = [[\"\"] * total_len] * len(details)\n",
    "flake_df = details[details[\"naive_flakiness_score\"] > flake_score_thersold]\n",
    "flake_df[\"naive_label_array\"] = flake_df[\"values\"].apply(\n",
    "    lambda x: navie_flake_annotation(x)\n",
    ")\n",
    "details = details.mask(\n",
    "    details[\"naive_flakiness_score\"] > flake_score_thersold, flake_df\n",
    ")"
   ]
  },
  {
   "cell_type": "code",
   "execution_count": 95,
   "metadata": {
    "ExecuteTime": {
     "end_time": "2020-11-18T18:56:20.438625Z",
     "start_time": "2020-11-18T18:56:16.897309Z"
    }
   },
   "outputs": [
    {
     "data": {
      "image/png": "[encoded data removed]",
      "text/plain": [
       "<Figure size 1440x720 with 1 Axes>"
      ]
     },
     "metadata": {
      "needs_background": "light"
     },
     "output_type": "display_data"
    }
   ],
   "source": [
    "plt.figure(figsize=(20, 10))\n",
    "cmap = colors.ListedColormap([\"white\", \"green\", \"red\"])\n",
    "norm = colors.BoundaryNorm(boundaries=[0, 1, 12], ncolors=2)\n",
    "sns.heatmap(\n",
    "    np.array(list(details[\"values\"][:40].values)),\n",
    "    annot=np.array(list(details[\"naive_label_array\"][:40].values)),\n",
    "    fmt=\"\",\n",
    "    cmap=cmap,\n",
    "    norm=norm,\n",
    "    cbar=False,\n",
    "    linewidths=0.1,\n",
    "    linecolor=\"Black\",\n",
    ")\n",
    "plt.show()"
   ]
  },
  {
   "cell_type": "code",
   "execution_count": 97,
   "metadata": {
    "ExecuteTime": {
     "end_time": "2020-11-18T18:57:20.649226Z",
     "start_time": "2020-11-18T18:57:20.645218Z"
    }
   },
   "outputs": [
    {
     "data": {
      "text/plain": [
       "102"
      ]
     },
     "execution_count": 97,
     "metadata": {},
     "output_type": "execute_result"
    }
   ],
   "source": [
    "np.count_nonzero(\n",
    "    np.array(list(details[\"naive_label_array\"][:40].values)) == \"F\"\n",
    ")"
   ]
  },
  {
   "cell_type": "markdown",
   "metadata": {
    "ExecuteTime": {
     "end_time": "2020-11-17T12:45:37.629922Z",
     "start_time": "2020-11-17T12:45:37.624408Z"
    }
   },
   "source": [
    "Cells with F annotations in the above graph are the labels given by the naive flake algorithm. "
   ]
  },
  {
   "cell_type": "code",
   "execution_count": 104,
   "metadata": {
    "ExecuteTime": {
     "end_time": "2020-11-18T19:09:29.230421Z",
     "start_time": "2020-11-18T19:09:29.219517Z"
    }
   },
   "outputs": [
    {
     "name": "stdout",
     "output_type": "stream",
     "text": [
      "total number of flake label given by the `naive flakiness method` is 102\n",
      "the total flaky test detected by the `naive flakiness method` is 0.68 times than the total flaky test detected by the existing testgrid method \n"
     ]
    }
   ],
   "source": [
    "total_naive_flake_label = np.count_nonzero(\n",
    "    np.array(list(details[\"naive_label_array\"].values)) == \"F\"\n",
    ")\n",
    "print(\n",
    "    \"total number of flake label given by the `naive flakiness method` is\",\n",
    "    total_naive_flake_label,\n",
    ")\n",
    "print(\n",
    "    \"the total flaky test detected by the `naive flakiness method` is\",\n",
    "    round(total_naive_flake_label / total_existing_flake_label, 2),\n",
    "    \"times than the total flaky test detected by the existing testgrid method \",\n",
    ")"
   ]
  },
  {
   "cell_type": "markdown",
   "metadata": {
    "ExecuteTime": {
     "end_time": "2020-11-17T12:46:24.574634Z",
     "start_time": "2020-11-17T12:46:24.569437Z"
    }
   },
   "source": [
    "### Flip flake method testgrid\n",
    "Below we are annotating testgrid using the flip flake detection method."
   ]
  },
  {
   "cell_type": "code",
   "execution_count": 100,
   "metadata": {
    "ExecuteTime": {
     "end_time": "2020-11-18T19:04:19.755486Z",
     "start_time": "2020-11-18T19:04:19.740316Z"
    }
   },
   "outputs": [],
   "source": [
    "def flip_flake_annotation(val_array, ignore_failures_in_a_row=3):\n",
    "    label_arr = [\"\"] * len(val_array)\n",
    "    i = 0\n",
    "    while i < len(val_array):\n",
    "        cf = calc_consecutive_failures(val_array, i)\n",
    "        if cf >= ignore_failures_in_a_row:\n",
    "            i = i + cf\n",
    "            if i >= len(val_array):\n",
    "                break\n",
    "        if val_array[i] == 12:\n",
    "            label_arr[i] = \"F\"\n",
    "        i = i + 1\n",
    "    return label_arr\n",
    "\n",
    "\n",
    "total_len = len(details[\"values\"].iloc[0])\n",
    "details[\"flip_flake_label_array\"] = [[\"\"] * total_len] * len(details)\n",
    "flake_df = details[details[\"flip_flakiness_score\"] > 15]\n",
    "flake_df[\"flip_flake_label_array\"] = flake_df[\"values\"].apply(\n",
    "    lambda x: flip_flake_annotation(x)\n",
    ")\n",
    "details = details.mask(details[\"flip_flakiness_score\"] > 15, flake_df)"
   ]
  },
  {
   "cell_type": "code",
   "execution_count": 101,
   "metadata": {
    "ExecuteTime": {
     "end_time": "2020-11-18T19:04:26.582563Z",
     "start_time": "2020-11-18T19:04:23.399698Z"
    }
   },
   "outputs": [
    {
     "data": {
      "image/png": "[encoded data removed]",
      "text/plain": [
       "<Figure size 1440x720 with 1 Axes>"
      ]
     },
     "metadata": {
      "needs_background": "light"
     },
     "output_type": "display_data"
    }
   ],
   "source": [
    "plt.figure(figsize=(20, 10))\n",
    "cmap = colors.ListedColormap([\"white\", \"green\", \"red\"])\n",
    "norm = colors.BoundaryNorm(boundaries=[0, 1, 12], ncolors=2)\n",
    "sns.heatmap(\n",
    "    np.array(list(details[\"values\"][:40].values)),\n",
    "    annot=np.array(list(details[\"flip_flake_label_array\"][:40].values)),\n",
    "    fmt=\"\",\n",
    "    cmap=cmap,\n",
    "    norm=norm,\n",
    "    cbar=False,\n",
    "    linewidths=0.1,\n",
    "    linecolor=\"Black\",\n",
    ")\n",
    "plt.show()"
   ]
  },
  {
   "cell_type": "markdown",
   "metadata": {},
   "source": [
    "Cells with F annotations in the above graph are the labels given by the flip flake algorithm. "
   ]
  },
  {
   "cell_type": "code",
   "execution_count": 109,
   "metadata": {
    "ExecuteTime": {
     "end_time": "2020-11-18T19:10:40.095030Z",
     "start_time": "2020-11-18T19:10:40.084140Z"
    }
   },
   "outputs": [
    {
     "name": "stdout",
     "output_type": "stream",
     "text": [
      "total number of flake label given by the `flip flakiness` method is 34\n",
      "the total flaky test detected by the `flip flake` method is 0.23 times than the total flaky test detected by the existing testgrid method \n"
     ]
    }
   ],
   "source": [
    "total_flip_flake_label = np.count_nonzero(\n",
    "    np.array(list(details[\"flip_flake_label_array\"].values)) == \"F\"\n",
    ")\n",
    "print(\n",
    "    \"total number of flake label given by the `flip flakiness` method is\",\n",
    "    total_flip_flake_label,\n",
    ")\n",
    "print(\n",
    "    \"the total flaky test detected by the `flip flake` method is\",\n",
    "    round(total_flip_flake_label / total_existing_flake_label, 2),\n",
    "    \"times than the total flaky test detected by the existing testgrid method \",\n",
    ")"
   ]
  },
  {
   "cell_type": "markdown",
   "metadata": {},
   "source": [
    "### Flip flakiness with optimal distance method testgrid\n",
    "Below we are annotating testgrid using the Flip flakiness with optimal distance method"
   ]
  },
  {
   "cell_type": "code",
   "execution_count": 107,
   "metadata": {
    "ExecuteTime": {
     "end_time": "2020-11-18T19:10:27.382993Z",
     "start_time": "2020-11-18T19:10:27.327838Z"
    }
   },
   "outputs": [],
   "source": [
    "modified_labled_array = details[\"values\"].apply(\n",
    "    lambda x: calc_optimal_flakiness_score(x, 20)[2]\n",
    ")"
   ]
  },
  {
   "cell_type": "code",
   "execution_count": 108,
   "metadata": {
    "ExecuteTime": {
     "end_time": "2020-11-18T19:10:32.035316Z",
     "start_time": "2020-11-18T19:10:28.545465Z"
    }
   },
   "outputs": [
    {
     "data": {
      "image/png": "[encoded data removed]",
      "text/plain": [
       "<Figure size 1440x720 with 1 Axes>"
      ]
     },
     "metadata": {
      "needs_background": "light"
     },
     "output_type": "display_data"
    }
   ],
   "source": [
    "plt.figure(figsize=(20, 10))\n",
    "cmap = colors.ListedColormap([\"white\", \"green\", \"red\"])\n",
    "norm = colors.BoundaryNorm(boundaries=[0, 1, 12], ncolors=2)\n",
    "sns.heatmap(\n",
    "    np.array(list(details[\"values\"][:40].values)),\n",
    "    annot=np.array(list(modified_labled_array[:40].values)),\n",
    "    fmt=\"\",\n",
    "    cmap=cmap,\n",
    "    norm=norm,\n",
    "    cbar=False,\n",
    "    linewidths=0.1,\n",
    "    linecolor=\"Black\",\n",
    ")\n",
    "plt.show()"
   ]
  },
  {
   "cell_type": "markdown",
   "metadata": {},
   "source": [
    "Cells with F annotations in the above graph are the labels given by the flip flake with optimal distance algorithm. "
   ]
  },
  {
   "cell_type": "code",
   "execution_count": 110,
   "metadata": {
    "ExecuteTime": {
     "end_time": "2020-11-18T19:10:55.995274Z",
     "start_time": "2020-11-18T19:10:55.985103Z"
    }
   },
   "outputs": [
    {
     "name": "stdout",
     "output_type": "stream",
     "text": [
      "total number of flake label given by the `flip flake optimal distance` method is 52\n",
      "the total flaky test detected by the `flip flake optimal distance method` is 0.34 times than the total flaky test detected by the existing testgrid method \n"
     ]
    }
   ],
   "source": [
    "total_flip_flake__optimal_label = np.count_nonzero(\n",
    "    np.array(list(modified_labled_array.values))\n",
    ")\n",
    "print(\n",
    "    \"total number of flake label given by the `flip flake optimal distance` method is\",\n",
    "    total_flip_flake__optimal_label,\n",
    ")\n",
    "print(\n",
    "    \"the total flaky test detected by the `flip flake optimal distance method` is\",\n",
    "    round(total_flip_flake__optimal_label / total_existing_flake_label, 2),\n",
    "    \"times than the total flaky test detected by the existing testgrid method \",\n",
    ")"
   ]
  },
  {
   "cell_type": "markdown",
   "metadata": {},
   "source": [
    "# Conclusion\n",
    "\n",
    "In this notebook, we explored different methods to find flaky test. <br>\n",
    "1) Naive flakiness method: This method calculates flakiness as a ratio of failed tests to total tests. Flaky test passes and fails on several successive revisions, but this method cannot catch this signal of the flaky test. <br>\n",
    "2) Flip flakiness method: flaky test pass and fail across multiple runs over a certain period of time. We trigger this behavior of a flaky test by using the concept of edge. Edge is the transition of a particular test case from pass to fail. <br>\n",
    "3) Flip Flakiness with Optimal Distance: One of the downsides of finding a single value for each test case is that the number of edges is relatively low compares to total runes; hence your flakiness score is really low. To overcome this we decided to calculate the flakiness score between edges since it will maximize our flakiness score. <br>\n",
    "Next, we can try detecting flakiness with additional data such as meta data related to git revisions to improve the accuracy of the current methods."
   ]
  }
 ],
 "metadata": {
  "kernelspec": {
   "display_name": "Python 3",
   "language": "python",
   "name": "python3"
  },
  "language_info": {
   "codemirror_mode": {
    "name": "ipython",
    "version": 3
   },
   "file_extension": ".py",
   "mimetype": "text/x-python",
   "name": "python",
   "nbconvert_exporter": "python",
   "pygments_lexer": "ipython3",
   "version": "3.6.8"
  },
  "toc": {
   "base_numbering": 1,
   "nav_menu": {},
   "number_sections": true,
   "sideBar": true,
   "skip_h1_title": false,
   "title_cell": "Table of Contents",
   "title_sidebar": "Contents",
   "toc_cell": false,
   "toc_position": {},
   "toc_section_display": true,
   "toc_window_display": false
  }
 },
 "nbformat": 4,
 "nbformat_minor": 4
}
