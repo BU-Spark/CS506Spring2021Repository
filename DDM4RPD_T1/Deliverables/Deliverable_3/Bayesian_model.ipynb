{
  "nbformat": 4,
  "nbformat_minor": 0,
  "metadata": {
    "colab": {
      "name": "Bayesian_model.ipynb",
      "provenance": []
    },
    "kernelspec": {
      "name": "python3",
      "display_name": "Python 3"
    },
    "language_info": {
      "name": "python"
    }
  },
  "cells": [
    {
      "cell_type": "markdown",
      "metadata": {
        "id": "wmdPmXU4Tlij"
      },
      "source": [
        "#### imports"
      ]
    },
    {
      "cell_type": "code",
      "metadata": {
        "id": "YdK1WbPLt0pw",
        "colab": {
          "base_uri": "https://localhost:8080/"
        },
        "outputId": "bb9aa2dd-dd33-45ca-ea47-3f2ea3830d50"
      },
      "source": [
        "# If you don't run this cell, arviz will give you an error. \n",
        "# This is the only fix I could find. \n",
        "!pip install arviz==0.6.1\n",
        "!pip install pymc3==3.8\n",
        "!pip install Theano==1.0.4"
      ],
      "execution_count": null,
      "outputs": [
        {
          "output_type": "stream",
          "text": [
            "Collecting arviz==0.6.1\n",
            "\u001b[?25l  Downloading https://files.pythonhosted.org/packages/ec/8b/83472d660e004a69b8e7b3c1dd12a607167774097138445d0dda1a3590dc/arviz-0.6.1-py3-none-any.whl (1.4MB)\n",
            "\u001b[K     |████████████████████████████████| 1.4MB 5.8MB/s \n",
            "\u001b[?25hRequirement already satisfied: scipy>=0.19 in /usr/local/lib/python3.7/dist-packages (from arviz==0.6.1) (1.4.1)\n",
            "Requirement already satisfied: xarray>=0.11 in /usr/local/lib/python3.7/dist-packages (from arviz==0.6.1) (0.15.1)\n",
            "Requirement already satisfied: packaging in /usr/local/lib/python3.7/dist-packages (from arviz==0.6.1) (20.9)\n",
            "Requirement already satisfied: numpy>=1.12 in /usr/local/lib/python3.7/dist-packages (from arviz==0.6.1) (1.19.5)\n",
            "Collecting netcdf4\n",
            "\u001b[?25l  Downloading https://files.pythonhosted.org/packages/37/56/f65978898fb8e7e5df9c67531d86eb24eb04938deae3b61dbcce12c98212/netCDF4-1.5.6-cp37-cp37m-manylinux2014_x86_64.whl (4.7MB)\n",
            "\u001b[K     |████████████████████████████████| 4.7MB 37.7MB/s \n",
            "\u001b[?25hRequirement already satisfied: matplotlib>=3.0 in /usr/local/lib/python3.7/dist-packages (from arviz==0.6.1) (3.2.2)\n",
            "Requirement already satisfied: pandas>=0.23 in /usr/local/lib/python3.7/dist-packages (from arviz==0.6.1) (1.1.5)\n",
            "Requirement already satisfied: setuptools>=41.2 in /usr/local/lib/python3.7/dist-packages (from xarray>=0.11->arviz==0.6.1) (54.2.0)\n",
            "Requirement already satisfied: pyparsing>=2.0.2 in /usr/local/lib/python3.7/dist-packages (from packaging->arviz==0.6.1) (2.4.7)\n",
            "Collecting cftime\n",
            "\u001b[?25l  Downloading https://files.pythonhosted.org/packages/41/e0/3e120cca16571c5ee3b35f1ed432c2aae5dc91e2b789e8b9c3a70e721ea0/cftime-1.4.1-cp37-cp37m-manylinux2014_x86_64.whl (313kB)\n",
            "\u001b[K     |████████████████████████████████| 317kB 51.6MB/s \n",
            "\u001b[?25hRequirement already satisfied: cycler>=0.10 in /usr/local/lib/python3.7/dist-packages (from matplotlib>=3.0->arviz==0.6.1) (0.10.0)\n",
            "Requirement already satisfied: python-dateutil>=2.1 in /usr/local/lib/python3.7/dist-packages (from matplotlib>=3.0->arviz==0.6.1) (2.8.1)\n",
            "Requirement already satisfied: kiwisolver>=1.0.1 in /usr/local/lib/python3.7/dist-packages (from matplotlib>=3.0->arviz==0.6.1) (1.3.1)\n",
            "Requirement already satisfied: pytz>=2017.2 in /usr/local/lib/python3.7/dist-packages (from pandas>=0.23->arviz==0.6.1) (2018.9)\n",
            "Requirement already satisfied: six in /usr/local/lib/python3.7/dist-packages (from cycler>=0.10->matplotlib>=3.0->arviz==0.6.1) (1.15.0)\n",
            "Installing collected packages: cftime, netcdf4, arviz\n",
            "Successfully installed arviz-0.6.1 cftime-1.4.1 netcdf4-1.5.6\n",
            "Collecting pymc3==3.8\n",
            "\u001b[?25l  Downloading https://files.pythonhosted.org/packages/32/19/6c94cbadb287745ac38ff1197b9fadd66500b6b9c468e79099b110c6a2e9/pymc3-3.8-py3-none-any.whl (908kB)\n",
            "\u001b[K     |████████████████████████████████| 911kB 4.4MB/s \n",
            "\u001b[?25hRequirement already satisfied: tqdm>=4.8.4 in /usr/local/lib/python3.7/dist-packages (from pymc3==3.8) (4.41.1)\n",
            "Requirement already satisfied: h5py>=2.7.0 in /usr/local/lib/python3.7/dist-packages (from pymc3==3.8) (2.10.0)\n",
            "Requirement already satisfied: patsy>=0.4.0 in /usr/local/lib/python3.7/dist-packages (from pymc3==3.8) (0.5.1)\n",
            "Requirement already satisfied: scipy>=0.18.1 in /usr/local/lib/python3.7/dist-packages (from pymc3==3.8) (1.4.1)\n",
            "Requirement already satisfied: pandas>=0.18.0 in /usr/local/lib/python3.7/dist-packages (from pymc3==3.8) (1.1.5)\n",
            "Requirement already satisfied: theano>=1.0.4 in /usr/local/lib/python3.7/dist-packages (from pymc3==3.8) (1.0.5)\n",
            "Requirement already satisfied: arviz>=0.4.1 in /usr/local/lib/python3.7/dist-packages (from pymc3==3.8) (0.6.1)\n",
            "Requirement already satisfied: numpy>=1.13.0 in /usr/local/lib/python3.7/dist-packages (from pymc3==3.8) (1.19.5)\n",
            "Requirement already satisfied: six in /usr/local/lib/python3.7/dist-packages (from h5py>=2.7.0->pymc3==3.8) (1.15.0)\n",
            "Requirement already satisfied: pytz>=2017.2 in /usr/local/lib/python3.7/dist-packages (from pandas>=0.18.0->pymc3==3.8) (2018.9)\n",
            "Requirement already satisfied: python-dateutil>=2.7.3 in /usr/local/lib/python3.7/dist-packages (from pandas>=0.18.0->pymc3==3.8) (2.8.1)\n",
            "Requirement already satisfied: matplotlib>=3.0 in /usr/local/lib/python3.7/dist-packages (from arviz>=0.4.1->pymc3==3.8) (3.2.2)\n",
            "Requirement already satisfied: packaging in /usr/local/lib/python3.7/dist-packages (from arviz>=0.4.1->pymc3==3.8) (20.9)\n",
            "Requirement already satisfied: xarray>=0.11 in /usr/local/lib/python3.7/dist-packages (from arviz>=0.4.1->pymc3==3.8) (0.15.1)\n",
            "Requirement already satisfied: netcdf4 in /usr/local/lib/python3.7/dist-packages (from arviz>=0.4.1->pymc3==3.8) (1.5.6)\n",
            "Requirement already satisfied: pyparsing!=2.0.4,!=2.1.2,!=2.1.6,>=2.0.1 in /usr/local/lib/python3.7/dist-packages (from matplotlib>=3.0->arviz>=0.4.1->pymc3==3.8) (2.4.7)\n",
            "Requirement already satisfied: kiwisolver>=1.0.1 in /usr/local/lib/python3.7/dist-packages (from matplotlib>=3.0->arviz>=0.4.1->pymc3==3.8) (1.3.1)\n",
            "Requirement already satisfied: cycler>=0.10 in /usr/local/lib/python3.7/dist-packages (from matplotlib>=3.0->arviz>=0.4.1->pymc3==3.8) (0.10.0)\n",
            "Requirement already satisfied: setuptools>=41.2 in /usr/local/lib/python3.7/dist-packages (from xarray>=0.11->arviz>=0.4.1->pymc3==3.8) (54.2.0)\n",
            "Requirement already satisfied: cftime in /usr/local/lib/python3.7/dist-packages (from netcdf4->arviz>=0.4.1->pymc3==3.8) (1.4.1)\n",
            "Installing collected packages: pymc3\n",
            "  Found existing installation: pymc3 3.7\n",
            "    Uninstalling pymc3-3.7:\n",
            "      Successfully uninstalled pymc3-3.7\n",
            "Successfully installed pymc3-3.8\n",
            "Collecting Theano==1.0.4\n",
            "\u001b[?25l  Downloading https://files.pythonhosted.org/packages/7d/c4/6341148ad458b6cd8361b774d7ee6895c38eab88f05331f22304c484ed5d/Theano-1.0.4.tar.gz (2.8MB)\n",
            "\u001b[K     |████████████████████████████████| 2.8MB 3.1MB/s \n",
            "\u001b[?25hRequirement already satisfied: numpy>=1.9.1 in /usr/local/lib/python3.7/dist-packages (from Theano==1.0.4) (1.19.5)\n",
            "Requirement already satisfied: scipy>=0.14 in /usr/local/lib/python3.7/dist-packages (from Theano==1.0.4) (1.4.1)\n",
            "Requirement already satisfied: six>=1.9.0 in /usr/local/lib/python3.7/dist-packages (from Theano==1.0.4) (1.15.0)\n",
            "Building wheels for collected packages: Theano\n",
            "  Building wheel for Theano (setup.py) ... \u001b[?25l\u001b[?25hdone\n",
            "  Created wheel for Theano: filename=Theano-1.0.4-cp37-none-any.whl size=2667178 sha256=13ef1936ac911a03a36691599017acac114a7208b473d4060eb325ff8888f365\n",
            "  Stored in directory: /root/.cache/pip/wheels/88/fb/be/483910ff7e9f703f30a10605ad7605f3316493875c86637014\n",
            "Successfully built Theano\n",
            "Installing collected packages: Theano\n",
            "  Found existing installation: Theano 1.0.5\n",
            "    Uninstalling Theano-1.0.5:\n",
            "      Successfully uninstalled Theano-1.0.5\n",
            "Successfully installed Theano-1.0.4\n"
          ],
          "name": "stdout"
        }
      ]
    },
    {
      "cell_type": "code",
      "metadata": {
        "id": "Y83lKvL1QiwM",
        "colab": {
          "base_uri": "https://localhost:8080/"
        },
        "outputId": "596b1323-f34a-4254-88e8-15c1173c9aa7"
      },
      "source": [
        "from google.colab import drive\n",
        "drive.mount('/content/drive')"
      ],
      "execution_count": null,
      "outputs": [
        {
          "output_type": "stream",
          "text": [
            "Drive already mounted at /content/drive; to attempt to forcibly remount, call drive.mount(\"/content/drive\", force_remount=True).\n"
          ],
          "name": "stdout"
        }
      ]
    },
    {
      "cell_type": "code",
      "metadata": {
        "id": "7ovrgek02pzV"
      },
      "source": [
        "# import arviz as az\n",
        "from scipy import stats\n",
        "import numpy as np\n",
        "import matplotlib.pyplot as plt\n",
        "import pymc3 as pm\n",
        "import seaborn as sns\n",
        "import pandas as pd\n",
        "# from theano import shared\n",
        "from sklearn import preprocessing\n",
        "\n",
        "from sklearn.model_selection import train_test_split\n",
        "from sklearn.naive_bayes import BernoulliNB, MultinomialNB\n",
        "from sklearn.metrics import accuracy_score\n",
        "from sklearn.metrics import confusion_matrix\n",
        "from sklearn.metrics import plot_confusion_matrix\n",
        "from sklearn.metrics import mean_squared_error"
      ],
      "execution_count": null,
      "outputs": []
    },
    {
      "cell_type": "markdown",
      "metadata": {
        "id": "eDwendXmT6B7"
      },
      "source": [
        "### data pre-processing\n",
        "remove nulls, define data frame.. etc"
      ]
    },
    {
      "cell_type": "code",
      "metadata": {
        "colab": {
          "base_uri": "https://localhost:8080/",
          "height": 444
        },
        "id": "PLfXEo9_UB8L",
        "outputId": "4502ae58-53f3-4f94-a369-04b44c7d3149"
      },
      "source": [
        "DATASET_PATH = '/content/drive/Shareddrives/CS506_Team/Data/Blake_RPD_Dataset-2.xlsx'\n",
        "df = pd.read_excel(DATASET_PATH, \"data\") # data is the sheet name\n",
        "tft = ['tft' + str(i) for i in range(1,11)]\n",
        "tft_rt = ['tft_rt' + str(i) for i in range(1,11)]\n",
        "coop = ['coop' + str(i) for i in range(1,11)]\n",
        "coop_rt = ['coop_rt' + str(i) for i in range(1,11)]\n",
        "defs = ['def' + str(i) for i in range(1,11)]\n",
        "def_rt = ['def_rt' + str(i) for i in range(1,11)]\n",
        "features = [tft, tft_rt, coop, coop_rt, defs, def_rt]\n",
        "#Dropping rows with NaN values:\n",
        "dropped_len = df.shape[0] - df.dropna().shape[0] \n",
        "data = df.dropna() #Now, we have a clean data frame.\n",
        "data"
      ],
      "execution_count": null,
      "outputs": [
        {
          "output_type": "execute_result",
          "data": {
            "text/html": [
              "<div>\n",
              "<style scoped>\n",
              "    .dataframe tbody tr th:only-of-type {\n",
              "        vertical-align: middle;\n",
              "    }\n",
              "\n",
              "    .dataframe tbody tr th {\n",
              "        vertical-align: top;\n",
              "    }\n",
              "\n",
              "    .dataframe thead th {\n",
              "        text-align: right;\n",
              "    }\n",
              "</style>\n",
              "<table border=\"1\" class=\"dataframe\">\n",
              "  <thead>\n",
              "    <tr style=\"text-align: right;\">\n",
              "      <th></th>\n",
              "      <th>RPD_code</th>\n",
              "      <th>Age_months</th>\n",
              "      <th>Age_years</th>\n",
              "      <th>Gender</th>\n",
              "      <th>Location</th>\n",
              "      <th>P-SDQ_Conduct</th>\n",
              "      <th>P-SDQ_Emo</th>\n",
              "      <th>P-SDQ_Hyper</th>\n",
              "      <th>P-SDQ_Peer</th>\n",
              "      <th>P-SDQ_Procosial</th>\n",
              "      <th>P-SDQ_Total_Problems</th>\n",
              "      <th>P-Proactive_aggr</th>\n",
              "      <th>P-Reactive_aggr</th>\n",
              "      <th>P-Aggression_Total</th>\n",
              "      <th>Order</th>\n",
              "      <th>tft1</th>\n",
              "      <th>tft_rt1</th>\n",
              "      <th>tft2</th>\n",
              "      <th>tft_rt2</th>\n",
              "      <th>tft3</th>\n",
              "      <th>tft_rt3</th>\n",
              "      <th>tft4</th>\n",
              "      <th>tft_rt4</th>\n",
              "      <th>tft5</th>\n",
              "      <th>tft_rt5</th>\n",
              "      <th>tft6</th>\n",
              "      <th>tft_rt6</th>\n",
              "      <th>tft7</th>\n",
              "      <th>tft_rt7</th>\n",
              "      <th>tft8</th>\n",
              "      <th>tft_rt8</th>\n",
              "      <th>tft9</th>\n",
              "      <th>tft_rt9</th>\n",
              "      <th>tft10</th>\n",
              "      <th>tft_rt10</th>\n",
              "      <th>coop1</th>\n",
              "      <th>coop_rt1</th>\n",
              "      <th>coop2</th>\n",
              "      <th>coop_rt2</th>\n",
              "      <th>coop3</th>\n",
              "      <th>coop_rt3</th>\n",
              "      <th>coop4</th>\n",
              "      <th>coop_rt4</th>\n",
              "      <th>coop5</th>\n",
              "      <th>coop_rt5</th>\n",
              "      <th>coop6</th>\n",
              "      <th>coop_rt6</th>\n",
              "      <th>coop7</th>\n",
              "      <th>coop_rt7</th>\n",
              "      <th>coop8</th>\n",
              "      <th>coop_rt8</th>\n",
              "      <th>coop9</th>\n",
              "      <th>coop_rt9</th>\n",
              "      <th>coop10</th>\n",
              "      <th>coop_rt10</th>\n",
              "      <th>def1</th>\n",
              "      <th>def_rt1</th>\n",
              "      <th>def2</th>\n",
              "      <th>def_rt2</th>\n",
              "      <th>def3</th>\n",
              "      <th>def_rt3</th>\n",
              "      <th>def4</th>\n",
              "      <th>def_rt4</th>\n",
              "      <th>def5</th>\n",
              "      <th>def_rt5</th>\n",
              "      <th>def6</th>\n",
              "      <th>def_rt6</th>\n",
              "      <th>def7</th>\n",
              "      <th>def_rt7</th>\n",
              "      <th>def8</th>\n",
              "      <th>def_rt8</th>\n",
              "      <th>def9</th>\n",
              "      <th>def_rt9</th>\n",
              "      <th>def10</th>\n",
              "      <th>def_rt10</th>\n",
              "    </tr>\n",
              "  </thead>\n",
              "  <tbody>\n",
              "    <tr>\n",
              "      <th>0</th>\n",
              "      <td>1J0NDS</td>\n",
              "      <td>130</td>\n",
              "      <td>10</td>\n",
              "      <td>1</td>\n",
              "      <td>0</td>\n",
              "      <td>2.0</td>\n",
              "      <td>7.0</td>\n",
              "      <td>0.0</td>\n",
              "      <td>1.0</td>\n",
              "      <td>8.0</td>\n",
              "      <td>10</td>\n",
              "      <td>1.0</td>\n",
              "      <td>7.0</td>\n",
              "      <td>8.0</td>\n",
              "      <td>1</td>\n",
              "      <td>1</td>\n",
              "      <td>1.39</td>\n",
              "      <td>1</td>\n",
              "      <td>3.45</td>\n",
              "      <td>0</td>\n",
              "      <td>1.13</td>\n",
              "      <td>1</td>\n",
              "      <td>6.01</td>\n",
              "      <td>0</td>\n",
              "      <td>1.35</td>\n",
              "      <td>0</td>\n",
              "      <td>1.54</td>\n",
              "      <td>1</td>\n",
              "      <td>2.77</td>\n",
              "      <td>0</td>\n",
              "      <td>1.87</td>\n",
              "      <td>0</td>\n",
              "      <td>3.43</td>\n",
              "      <td>1</td>\n",
              "      <td>9.97</td>\n",
              "      <td>1</td>\n",
              "      <td>2.64</td>\n",
              "      <td>1</td>\n",
              "      <td>1.09</td>\n",
              "      <td>1</td>\n",
              "      <td>1.20</td>\n",
              "      <td>0</td>\n",
              "      <td>0.60</td>\n",
              "      <td>0</td>\n",
              "      <td>1.64</td>\n",
              "      <td>0</td>\n",
              "      <td>2.07</td>\n",
              "      <td>1</td>\n",
              "      <td>1.77</td>\n",
              "      <td>1</td>\n",
              "      <td>1.15</td>\n",
              "      <td>0</td>\n",
              "      <td>2.17</td>\n",
              "      <td>1</td>\n",
              "      <td>3.58</td>\n",
              "      <td>1</td>\n",
              "      <td>2.48</td>\n",
              "      <td>0</td>\n",
              "      <td>1.18</td>\n",
              "      <td>1</td>\n",
              "      <td>1.35</td>\n",
              "      <td>0</td>\n",
              "      <td>2.25</td>\n",
              "      <td>0</td>\n",
              "      <td>1.21</td>\n",
              "      <td>0</td>\n",
              "      <td>1.29</td>\n",
              "      <td>1</td>\n",
              "      <td>0.92</td>\n",
              "      <td>0</td>\n",
              "      <td>3.27</td>\n",
              "      <td>0</td>\n",
              "      <td>4.81</td>\n",
              "      <td>0</td>\n",
              "      <td>1.82</td>\n",
              "    </tr>\n",
              "    <tr>\n",
              "      <th>1</th>\n",
              "      <td>1J3aGy</td>\n",
              "      <td>142</td>\n",
              "      <td>11</td>\n",
              "      <td>1</td>\n",
              "      <td>0</td>\n",
              "      <td>2.0</td>\n",
              "      <td>6.0</td>\n",
              "      <td>1.0</td>\n",
              "      <td>4.0</td>\n",
              "      <td>9.0</td>\n",
              "      <td>13</td>\n",
              "      <td>1.0</td>\n",
              "      <td>3.0</td>\n",
              "      <td>4.0</td>\n",
              "      <td>1</td>\n",
              "      <td>1</td>\n",
              "      <td>4.94</td>\n",
              "      <td>1</td>\n",
              "      <td>3.68</td>\n",
              "      <td>1</td>\n",
              "      <td>0.82</td>\n",
              "      <td>1</td>\n",
              "      <td>0.31</td>\n",
              "      <td>1</td>\n",
              "      <td>1.37</td>\n",
              "      <td>1</td>\n",
              "      <td>0.36</td>\n",
              "      <td>1</td>\n",
              "      <td>0.99</td>\n",
              "      <td>1</td>\n",
              "      <td>0.81</td>\n",
              "      <td>1</td>\n",
              "      <td>0.62</td>\n",
              "      <td>1</td>\n",
              "      <td>3.68</td>\n",
              "      <td>0</td>\n",
              "      <td>4.81</td>\n",
              "      <td>1</td>\n",
              "      <td>1.73</td>\n",
              "      <td>1</td>\n",
              "      <td>4.79</td>\n",
              "      <td>0</td>\n",
              "      <td>2.80</td>\n",
              "      <td>1</td>\n",
              "      <td>1.39</td>\n",
              "      <td>0</td>\n",
              "      <td>2.39</td>\n",
              "      <td>1</td>\n",
              "      <td>1.19</td>\n",
              "      <td>1</td>\n",
              "      <td>0.93</td>\n",
              "      <td>1</td>\n",
              "      <td>0.62</td>\n",
              "      <td>1</td>\n",
              "      <td>0.36</td>\n",
              "      <td>0</td>\n",
              "      <td>0.22</td>\n",
              "      <td>0</td>\n",
              "      <td>1.61</td>\n",
              "      <td>0</td>\n",
              "      <td>1.30</td>\n",
              "      <td>1</td>\n",
              "      <td>1.74</td>\n",
              "      <td>0</td>\n",
              "      <td>1.22</td>\n",
              "      <td>0</td>\n",
              "      <td>0.45</td>\n",
              "      <td>0</td>\n",
              "      <td>0.85</td>\n",
              "      <td>1</td>\n",
              "      <td>1.00</td>\n",
              "      <td>0</td>\n",
              "      <td>0.60</td>\n",
              "      <td>0</td>\n",
              "      <td>1.08</td>\n",
              "    </tr>\n",
              "    <tr>\n",
              "      <th>2</th>\n",
              "      <td>1yfy8K</td>\n",
              "      <td>122</td>\n",
              "      <td>10</td>\n",
              "      <td>1</td>\n",
              "      <td>0</td>\n",
              "      <td>1.0</td>\n",
              "      <td>0.0</td>\n",
              "      <td>1.0</td>\n",
              "      <td>0.0</td>\n",
              "      <td>6.0</td>\n",
              "      <td>2</td>\n",
              "      <td>0.0</td>\n",
              "      <td>1.0</td>\n",
              "      <td>1.0</td>\n",
              "      <td>0</td>\n",
              "      <td>1</td>\n",
              "      <td>3.50</td>\n",
              "      <td>0</td>\n",
              "      <td>5.06</td>\n",
              "      <td>0</td>\n",
              "      <td>3.48</td>\n",
              "      <td>1</td>\n",
              "      <td>2.61</td>\n",
              "      <td>1</td>\n",
              "      <td>1.90</td>\n",
              "      <td>0</td>\n",
              "      <td>2.15</td>\n",
              "      <td>0</td>\n",
              "      <td>2.87</td>\n",
              "      <td>0</td>\n",
              "      <td>7.77</td>\n",
              "      <td>1</td>\n",
              "      <td>4.48</td>\n",
              "      <td>0</td>\n",
              "      <td>1.39</td>\n",
              "      <td>0</td>\n",
              "      <td>1.82</td>\n",
              "      <td>0</td>\n",
              "      <td>1.03</td>\n",
              "      <td>0</td>\n",
              "      <td>0.45</td>\n",
              "      <td>0</td>\n",
              "      <td>0.49</td>\n",
              "      <td>0</td>\n",
              "      <td>0.42</td>\n",
              "      <td>0</td>\n",
              "      <td>0.66</td>\n",
              "      <td>0</td>\n",
              "      <td>0.61</td>\n",
              "      <td>0</td>\n",
              "      <td>1.42</td>\n",
              "      <td>0</td>\n",
              "      <td>0.76</td>\n",
              "      <td>0</td>\n",
              "      <td>1.17</td>\n",
              "      <td>1</td>\n",
              "      <td>3.91</td>\n",
              "      <td>0</td>\n",
              "      <td>1.90</td>\n",
              "      <td>0</td>\n",
              "      <td>2.73</td>\n",
              "      <td>0</td>\n",
              "      <td>1.71</td>\n",
              "      <td>0</td>\n",
              "      <td>0.45</td>\n",
              "      <td>0</td>\n",
              "      <td>0.73</td>\n",
              "      <td>0</td>\n",
              "      <td>0.16</td>\n",
              "      <td>0</td>\n",
              "      <td>1.00</td>\n",
              "      <td>0</td>\n",
              "      <td>0.35</td>\n",
              "      <td>0</td>\n",
              "      <td>0.43</td>\n",
              "    </tr>\n",
              "    <tr>\n",
              "      <th>3</th>\n",
              "      <td>2ER9VQ</td>\n",
              "      <td>109</td>\n",
              "      <td>9</td>\n",
              "      <td>1</td>\n",
              "      <td>0</td>\n",
              "      <td>1.0</td>\n",
              "      <td>3.0</td>\n",
              "      <td>0.0</td>\n",
              "      <td>2.0</td>\n",
              "      <td>10.0</td>\n",
              "      <td>6</td>\n",
              "      <td>0.0</td>\n",
              "      <td>4.0</td>\n",
              "      <td>4.0</td>\n",
              "      <td>0</td>\n",
              "      <td>0</td>\n",
              "      <td>8.86</td>\n",
              "      <td>0</td>\n",
              "      <td>5.91</td>\n",
              "      <td>0</td>\n",
              "      <td>6.96</td>\n",
              "      <td>0</td>\n",
              "      <td>2.64</td>\n",
              "      <td>0</td>\n",
              "      <td>2.73</td>\n",
              "      <td>0</td>\n",
              "      <td>4.65</td>\n",
              "      <td>1</td>\n",
              "      <td>11.43</td>\n",
              "      <td>0</td>\n",
              "      <td>2.64</td>\n",
              "      <td>0</td>\n",
              "      <td>2.64</td>\n",
              "      <td>0</td>\n",
              "      <td>0.27</td>\n",
              "      <td>0</td>\n",
              "      <td>1.59</td>\n",
              "      <td>0</td>\n",
              "      <td>2.80</td>\n",
              "      <td>0</td>\n",
              "      <td>5.92</td>\n",
              "      <td>0</td>\n",
              "      <td>3.83</td>\n",
              "      <td>0</td>\n",
              "      <td>3.26</td>\n",
              "      <td>0</td>\n",
              "      <td>1.54</td>\n",
              "      <td>0</td>\n",
              "      <td>0.97</td>\n",
              "      <td>0</td>\n",
              "      <td>1.96</td>\n",
              "      <td>0</td>\n",
              "      <td>1.32</td>\n",
              "      <td>0</td>\n",
              "      <td>0.83</td>\n",
              "      <td>0</td>\n",
              "      <td>1.27</td>\n",
              "      <td>0</td>\n",
              "      <td>0.97</td>\n",
              "      <td>0</td>\n",
              "      <td>0.64</td>\n",
              "      <td>0</td>\n",
              "      <td>3.78</td>\n",
              "      <td>0</td>\n",
              "      <td>2.55</td>\n",
              "      <td>0</td>\n",
              "      <td>0.58</td>\n",
              "      <td>0</td>\n",
              "      <td>4.04</td>\n",
              "      <td>0</td>\n",
              "      <td>1.60</td>\n",
              "      <td>0</td>\n",
              "      <td>1.59</td>\n",
              "      <td>0</td>\n",
              "      <td>11.78</td>\n",
              "    </tr>\n",
              "    <tr>\n",
              "      <th>4</th>\n",
              "      <td>2r04de</td>\n",
              "      <td>110</td>\n",
              "      <td>9</td>\n",
              "      <td>0</td>\n",
              "      <td>0</td>\n",
              "      <td>0.0</td>\n",
              "      <td>1.0</td>\n",
              "      <td>0.0</td>\n",
              "      <td>1.0</td>\n",
              "      <td>10.0</td>\n",
              "      <td>2</td>\n",
              "      <td>0.0</td>\n",
              "      <td>1.0</td>\n",
              "      <td>1.0</td>\n",
              "      <td>1</td>\n",
              "      <td>1</td>\n",
              "      <td>0.99</td>\n",
              "      <td>1</td>\n",
              "      <td>2.54</td>\n",
              "      <td>0</td>\n",
              "      <td>1.89</td>\n",
              "      <td>1</td>\n",
              "      <td>1.84</td>\n",
              "      <td>1</td>\n",
              "      <td>0.81</td>\n",
              "      <td>0</td>\n",
              "      <td>3.05</td>\n",
              "      <td>0</td>\n",
              "      <td>1.59</td>\n",
              "      <td>0</td>\n",
              "      <td>5.02</td>\n",
              "      <td>0</td>\n",
              "      <td>0.55</td>\n",
              "      <td>0</td>\n",
              "      <td>4.00</td>\n",
              "      <td>0</td>\n",
              "      <td>3.86</td>\n",
              "      <td>1</td>\n",
              "      <td>1.34</td>\n",
              "      <td>0</td>\n",
              "      <td>1.14</td>\n",
              "      <td>1</td>\n",
              "      <td>0.35</td>\n",
              "      <td>1</td>\n",
              "      <td>0.76</td>\n",
              "      <td>1</td>\n",
              "      <td>0.52</td>\n",
              "      <td>1</td>\n",
              "      <td>1.33</td>\n",
              "      <td>0</td>\n",
              "      <td>0.82</td>\n",
              "      <td>1</td>\n",
              "      <td>1.46</td>\n",
              "      <td>0</td>\n",
              "      <td>1.70</td>\n",
              "      <td>1</td>\n",
              "      <td>1.51</td>\n",
              "      <td>0</td>\n",
              "      <td>0.36</td>\n",
              "      <td>0</td>\n",
              "      <td>0.29</td>\n",
              "      <td>0</td>\n",
              "      <td>0.99</td>\n",
              "      <td>0</td>\n",
              "      <td>0.61</td>\n",
              "      <td>0</td>\n",
              "      <td>0.28</td>\n",
              "      <td>0</td>\n",
              "      <td>0.26</td>\n",
              "      <td>1</td>\n",
              "      <td>0.31</td>\n",
              "      <td>0</td>\n",
              "      <td>0.26</td>\n",
              "      <td>0</td>\n",
              "      <td>0.78</td>\n",
              "    </tr>\n",
              "    <tr>\n",
              "      <th>...</th>\n",
              "      <td>...</td>\n",
              "      <td>...</td>\n",
              "      <td>...</td>\n",
              "      <td>...</td>\n",
              "      <td>...</td>\n",
              "      <td>...</td>\n",
              "      <td>...</td>\n",
              "      <td>...</td>\n",
              "      <td>...</td>\n",
              "      <td>...</td>\n",
              "      <td>...</td>\n",
              "      <td>...</td>\n",
              "      <td>...</td>\n",
              "      <td>...</td>\n",
              "      <td>...</td>\n",
              "      <td>...</td>\n",
              "      <td>...</td>\n",
              "      <td>...</td>\n",
              "      <td>...</td>\n",
              "      <td>...</td>\n",
              "      <td>...</td>\n",
              "      <td>...</td>\n",
              "      <td>...</td>\n",
              "      <td>...</td>\n",
              "      <td>...</td>\n",
              "      <td>...</td>\n",
              "      <td>...</td>\n",
              "      <td>...</td>\n",
              "      <td>...</td>\n",
              "      <td>...</td>\n",
              "      <td>...</td>\n",
              "      <td>...</td>\n",
              "      <td>...</td>\n",
              "      <td>...</td>\n",
              "      <td>...</td>\n",
              "      <td>...</td>\n",
              "      <td>...</td>\n",
              "      <td>...</td>\n",
              "      <td>...</td>\n",
              "      <td>...</td>\n",
              "      <td>...</td>\n",
              "      <td>...</td>\n",
              "      <td>...</td>\n",
              "      <td>...</td>\n",
              "      <td>...</td>\n",
              "      <td>...</td>\n",
              "      <td>...</td>\n",
              "      <td>...</td>\n",
              "      <td>...</td>\n",
              "      <td>...</td>\n",
              "      <td>...</td>\n",
              "      <td>...</td>\n",
              "      <td>...</td>\n",
              "      <td>...</td>\n",
              "      <td>...</td>\n",
              "      <td>...</td>\n",
              "      <td>...</td>\n",
              "      <td>...</td>\n",
              "      <td>...</td>\n",
              "      <td>...</td>\n",
              "      <td>...</td>\n",
              "      <td>...</td>\n",
              "      <td>...</td>\n",
              "      <td>...</td>\n",
              "      <td>...</td>\n",
              "      <td>...</td>\n",
              "      <td>...</td>\n",
              "      <td>...</td>\n",
              "      <td>...</td>\n",
              "      <td>...</td>\n",
              "      <td>...</td>\n",
              "      <td>...</td>\n",
              "      <td>...</td>\n",
              "      <td>...</td>\n",
              "      <td>...</td>\n",
              "    </tr>\n",
              "    <tr>\n",
              "      <th>162</th>\n",
              "      <td>Z4GB1Z</td>\n",
              "      <td>133</td>\n",
              "      <td>11</td>\n",
              "      <td>0</td>\n",
              "      <td>0</td>\n",
              "      <td>1.0</td>\n",
              "      <td>4.0</td>\n",
              "      <td>1.0</td>\n",
              "      <td>4.0</td>\n",
              "      <td>6.0</td>\n",
              "      <td>10</td>\n",
              "      <td>0.0</td>\n",
              "      <td>3.0</td>\n",
              "      <td>3.0</td>\n",
              "      <td>0</td>\n",
              "      <td>0</td>\n",
              "      <td>3.35</td>\n",
              "      <td>0</td>\n",
              "      <td>10.59</td>\n",
              "      <td>1</td>\n",
              "      <td>2.05</td>\n",
              "      <td>1</td>\n",
              "      <td>3.83</td>\n",
              "      <td>0</td>\n",
              "      <td>3.25</td>\n",
              "      <td>1</td>\n",
              "      <td>1.32</td>\n",
              "      <td>1</td>\n",
              "      <td>3.42</td>\n",
              "      <td>1</td>\n",
              "      <td>3.90</td>\n",
              "      <td>0</td>\n",
              "      <td>3.44</td>\n",
              "      <td>1</td>\n",
              "      <td>9.88</td>\n",
              "      <td>1</td>\n",
              "      <td>11.59</td>\n",
              "      <td>1</td>\n",
              "      <td>1.09</td>\n",
              "      <td>1</td>\n",
              "      <td>0.48</td>\n",
              "      <td>1</td>\n",
              "      <td>1.44</td>\n",
              "      <td>0</td>\n",
              "      <td>0.80</td>\n",
              "      <td>0</td>\n",
              "      <td>1.68</td>\n",
              "      <td>1</td>\n",
              "      <td>0.94</td>\n",
              "      <td>0</td>\n",
              "      <td>0.77</td>\n",
              "      <td>0</td>\n",
              "      <td>1.93</td>\n",
              "      <td>1</td>\n",
              "      <td>3.76</td>\n",
              "      <td>1</td>\n",
              "      <td>0.79</td>\n",
              "      <td>0</td>\n",
              "      <td>1.35</td>\n",
              "      <td>0</td>\n",
              "      <td>2.01</td>\n",
              "      <td>0</td>\n",
              "      <td>1.42</td>\n",
              "      <td>1</td>\n",
              "      <td>0.88</td>\n",
              "      <td>0</td>\n",
              "      <td>1.78</td>\n",
              "      <td>0</td>\n",
              "      <td>2.54</td>\n",
              "      <td>0</td>\n",
              "      <td>2.53</td>\n",
              "      <td>1</td>\n",
              "      <td>0.54</td>\n",
              "      <td>0</td>\n",
              "      <td>1.27</td>\n",
              "    </tr>\n",
              "    <tr>\n",
              "      <th>163</th>\n",
              "      <td>zARNzA</td>\n",
              "      <td>114</td>\n",
              "      <td>9</td>\n",
              "      <td>0</td>\n",
              "      <td>1</td>\n",
              "      <td>3.0</td>\n",
              "      <td>5.0</td>\n",
              "      <td>4.0</td>\n",
              "      <td>5.0</td>\n",
              "      <td>3.0</td>\n",
              "      <td>17</td>\n",
              "      <td>1.0</td>\n",
              "      <td>6.0</td>\n",
              "      <td>7.0</td>\n",
              "      <td>1</td>\n",
              "      <td>0</td>\n",
              "      <td>6.20</td>\n",
              "      <td>0</td>\n",
              "      <td>0.21</td>\n",
              "      <td>0</td>\n",
              "      <td>0.01</td>\n",
              "      <td>0</td>\n",
              "      <td>0.10</td>\n",
              "      <td>0</td>\n",
              "      <td>0.93</td>\n",
              "      <td>0</td>\n",
              "      <td>0.05</td>\n",
              "      <td>0</td>\n",
              "      <td>0.24</td>\n",
              "      <td>0</td>\n",
              "      <td>0.15</td>\n",
              "      <td>0</td>\n",
              "      <td>0.11</td>\n",
              "      <td>0</td>\n",
              "      <td>0.15</td>\n",
              "      <td>0</td>\n",
              "      <td>0.20</td>\n",
              "      <td>0</td>\n",
              "      <td>0.03</td>\n",
              "      <td>0</td>\n",
              "      <td>0.22</td>\n",
              "      <td>0</td>\n",
              "      <td>0.25</td>\n",
              "      <td>0</td>\n",
              "      <td>0.02</td>\n",
              "      <td>0</td>\n",
              "      <td>0.07</td>\n",
              "      <td>0</td>\n",
              "      <td>0.12</td>\n",
              "      <td>0</td>\n",
              "      <td>0.11</td>\n",
              "      <td>0</td>\n",
              "      <td>0.24</td>\n",
              "      <td>0</td>\n",
              "      <td>0.27</td>\n",
              "      <td>0</td>\n",
              "      <td>0.05</td>\n",
              "      <td>0</td>\n",
              "      <td>0.04</td>\n",
              "      <td>0</td>\n",
              "      <td>0.01</td>\n",
              "      <td>0</td>\n",
              "      <td>0.11</td>\n",
              "      <td>0</td>\n",
              "      <td>0.09</td>\n",
              "      <td>0</td>\n",
              "      <td>0.08</td>\n",
              "      <td>0</td>\n",
              "      <td>0.05</td>\n",
              "      <td>0</td>\n",
              "      <td>0.38</td>\n",
              "      <td>0</td>\n",
              "      <td>0.37</td>\n",
              "      <td>0</td>\n",
              "      <td>0.18</td>\n",
              "    </tr>\n",
              "    <tr>\n",
              "      <th>164</th>\n",
              "      <td>zHDAMO</td>\n",
              "      <td>134</td>\n",
              "      <td>11</td>\n",
              "      <td>1</td>\n",
              "      <td>0</td>\n",
              "      <td>0.0</td>\n",
              "      <td>2.0</td>\n",
              "      <td>0.0</td>\n",
              "      <td>1.0</td>\n",
              "      <td>10.0</td>\n",
              "      <td>3</td>\n",
              "      <td>0.0</td>\n",
              "      <td>0.0</td>\n",
              "      <td>0.0</td>\n",
              "      <td>0</td>\n",
              "      <td>0</td>\n",
              "      <td>3.67</td>\n",
              "      <td>0</td>\n",
              "      <td>3.73</td>\n",
              "      <td>0</td>\n",
              "      <td>1.69</td>\n",
              "      <td>0</td>\n",
              "      <td>1.17</td>\n",
              "      <td>0</td>\n",
              "      <td>1.99</td>\n",
              "      <td>0</td>\n",
              "      <td>0.17</td>\n",
              "      <td>0</td>\n",
              "      <td>2.14</td>\n",
              "      <td>0</td>\n",
              "      <td>0.82</td>\n",
              "      <td>0</td>\n",
              "      <td>0.86</td>\n",
              "      <td>0</td>\n",
              "      <td>9.78</td>\n",
              "      <td>0</td>\n",
              "      <td>6.58</td>\n",
              "      <td>0</td>\n",
              "      <td>1.05</td>\n",
              "      <td>0</td>\n",
              "      <td>1.16</td>\n",
              "      <td>0</td>\n",
              "      <td>0.92</td>\n",
              "      <td>0</td>\n",
              "      <td>0.73</td>\n",
              "      <td>0</td>\n",
              "      <td>0.75</td>\n",
              "      <td>0</td>\n",
              "      <td>0.89</td>\n",
              "      <td>0</td>\n",
              "      <td>0.49</td>\n",
              "      <td>0</td>\n",
              "      <td>1.49</td>\n",
              "      <td>0</td>\n",
              "      <td>0.88</td>\n",
              "      <td>0</td>\n",
              "      <td>0.12</td>\n",
              "      <td>0</td>\n",
              "      <td>1.48</td>\n",
              "      <td>0</td>\n",
              "      <td>0.71</td>\n",
              "      <td>0</td>\n",
              "      <td>0.55</td>\n",
              "      <td>0</td>\n",
              "      <td>0.58</td>\n",
              "      <td>0</td>\n",
              "      <td>0.34</td>\n",
              "      <td>0</td>\n",
              "      <td>0.87</td>\n",
              "      <td>0</td>\n",
              "      <td>2.06</td>\n",
              "      <td>0</td>\n",
              "      <td>0.37</td>\n",
              "      <td>0</td>\n",
              "      <td>0.57</td>\n",
              "    </tr>\n",
              "    <tr>\n",
              "      <th>165</th>\n",
              "      <td>ZLEEv9</td>\n",
              "      <td>133</td>\n",
              "      <td>11</td>\n",
              "      <td>1</td>\n",
              "      <td>0</td>\n",
              "      <td>2.0</td>\n",
              "      <td>0.0</td>\n",
              "      <td>4.0</td>\n",
              "      <td>1.0</td>\n",
              "      <td>9.0</td>\n",
              "      <td>7</td>\n",
              "      <td>0.0</td>\n",
              "      <td>3.0</td>\n",
              "      <td>3.0</td>\n",
              "      <td>1</td>\n",
              "      <td>1</td>\n",
              "      <td>2.09</td>\n",
              "      <td>0</td>\n",
              "      <td>6.23</td>\n",
              "      <td>1</td>\n",
              "      <td>0.96</td>\n",
              "      <td>1</td>\n",
              "      <td>5.50</td>\n",
              "      <td>0</td>\n",
              "      <td>9.47</td>\n",
              "      <td>1</td>\n",
              "      <td>3.29</td>\n",
              "      <td>0</td>\n",
              "      <td>1.50</td>\n",
              "      <td>1</td>\n",
              "      <td>4.76</td>\n",
              "      <td>0</td>\n",
              "      <td>4.18</td>\n",
              "      <td>1</td>\n",
              "      <td>4.10</td>\n",
              "      <td>1</td>\n",
              "      <td>1.76</td>\n",
              "      <td>1</td>\n",
              "      <td>4.12</td>\n",
              "      <td>1</td>\n",
              "      <td>1.33</td>\n",
              "      <td>0</td>\n",
              "      <td>1.04</td>\n",
              "      <td>1</td>\n",
              "      <td>1.57</td>\n",
              "      <td>1</td>\n",
              "      <td>0.78</td>\n",
              "      <td>1</td>\n",
              "      <td>0.74</td>\n",
              "      <td>0</td>\n",
              "      <td>1.26</td>\n",
              "      <td>1</td>\n",
              "      <td>1.11</td>\n",
              "      <td>1</td>\n",
              "      <td>1.64</td>\n",
              "      <td>1</td>\n",
              "      <td>1.34</td>\n",
              "      <td>0</td>\n",
              "      <td>0.72</td>\n",
              "      <td>0</td>\n",
              "      <td>2.44</td>\n",
              "      <td>1</td>\n",
              "      <td>0.62</td>\n",
              "      <td>0</td>\n",
              "      <td>2.52</td>\n",
              "      <td>0</td>\n",
              "      <td>0.93</td>\n",
              "      <td>1</td>\n",
              "      <td>3.46</td>\n",
              "      <td>1</td>\n",
              "      <td>3.73</td>\n",
              "      <td>0</td>\n",
              "      <td>1.28</td>\n",
              "      <td>0</td>\n",
              "      <td>0.42</td>\n",
              "    </tr>\n",
              "    <tr>\n",
              "      <th>166</th>\n",
              "      <td>zW6kpX</td>\n",
              "      <td>132</td>\n",
              "      <td>11</td>\n",
              "      <td>1</td>\n",
              "      <td>0</td>\n",
              "      <td>1.0</td>\n",
              "      <td>1.0</td>\n",
              "      <td>0.0</td>\n",
              "      <td>1.0</td>\n",
              "      <td>10.0</td>\n",
              "      <td>3</td>\n",
              "      <td>1.0</td>\n",
              "      <td>4.0</td>\n",
              "      <td>5.0</td>\n",
              "      <td>1</td>\n",
              "      <td>1</td>\n",
              "      <td>1.67</td>\n",
              "      <td>0</td>\n",
              "      <td>1.96</td>\n",
              "      <td>0</td>\n",
              "      <td>3.16</td>\n",
              "      <td>1</td>\n",
              "      <td>2.60</td>\n",
              "      <td>0</td>\n",
              "      <td>2.02</td>\n",
              "      <td>0</td>\n",
              "      <td>0.70</td>\n",
              "      <td>0</td>\n",
              "      <td>0.57</td>\n",
              "      <td>0</td>\n",
              "      <td>0.68</td>\n",
              "      <td>0</td>\n",
              "      <td>0.51</td>\n",
              "      <td>0</td>\n",
              "      <td>0.87</td>\n",
              "      <td>0</td>\n",
              "      <td>1.68</td>\n",
              "      <td>0</td>\n",
              "      <td>0.43</td>\n",
              "      <td>0</td>\n",
              "      <td>0.49</td>\n",
              "      <td>0</td>\n",
              "      <td>0.44</td>\n",
              "      <td>0</td>\n",
              "      <td>0.43</td>\n",
              "      <td>1</td>\n",
              "      <td>0.40</td>\n",
              "      <td>0</td>\n",
              "      <td>1.31</td>\n",
              "      <td>1</td>\n",
              "      <td>0.74</td>\n",
              "      <td>1</td>\n",
              "      <td>0.47</td>\n",
              "      <td>1</td>\n",
              "      <td>1.59</td>\n",
              "      <td>0</td>\n",
              "      <td>0.97</td>\n",
              "      <td>1</td>\n",
              "      <td>0.39</td>\n",
              "      <td>0</td>\n",
              "      <td>0.34</td>\n",
              "      <td>0</td>\n",
              "      <td>0.52</td>\n",
              "      <td>0</td>\n",
              "      <td>0.50</td>\n",
              "      <td>0</td>\n",
              "      <td>1.34</td>\n",
              "      <td>0</td>\n",
              "      <td>0.44</td>\n",
              "      <td>0</td>\n",
              "      <td>0.37</td>\n",
              "      <td>1</td>\n",
              "      <td>0.49</td>\n",
              "      <td>0</td>\n",
              "      <td>0.56</td>\n",
              "    </tr>\n",
              "  </tbody>\n",
              "</table>\n",
              "<p>144 rows × 75 columns</p>\n",
              "</div>"
            ],
            "text/plain": [
              "    RPD_code  Age_months  Age_years  Gender  ...  def9  def_rt9  def10  def_rt10\n",
              "0     1J0NDS         130         10       1  ...     0     4.81      0      1.82\n",
              "1     1J3aGy         142         11       1  ...     0     0.60      0      1.08\n",
              "2     1yfy8K         122         10       1  ...     0     0.35      0      0.43\n",
              "3     2ER9VQ         109          9       1  ...     0     1.59      0     11.78\n",
              "4     2r04de         110          9       0  ...     0     0.26      0      0.78\n",
              "..       ...         ...        ...     ...  ...   ...      ...    ...       ...\n",
              "162   Z4GB1Z         133         11       0  ...     1     0.54      0      1.27\n",
              "163   zARNzA         114          9       0  ...     0     0.37      0      0.18\n",
              "164   zHDAMO         134         11       1  ...     0     0.37      0      0.57\n",
              "165   ZLEEv9         133         11       1  ...     0     1.28      0      0.42\n",
              "166   zW6kpX         132         11       1  ...     1     0.49      0      0.56\n",
              "\n",
              "[144 rows x 75 columns]"
            ]
          },
          "metadata": {
            "tags": []
          },
          "execution_count": 5
        }
      ]
    },
    {
      "cell_type": "markdown",
      "metadata": {
        "id": "i6eyDifiQ8Qw"
      },
      "source": [
        "# Using Bayesian models:\n",
        "In this notebook, I use bayesian models for two purposes: \n",
        "\n",
        "\n",
        "*   Predicting a child's aggression score based on their gaming strategy\n",
        "*   Predicting the child's next move based on aggression score and stratgey on previous rounds \n",
        "\n",
        "So far, I was only able to make progress with the first goal.\n",
        "\n"
      ]
    },
    {
      "cell_type": "markdown",
      "metadata": {
        "id": "WylMTiXHIkQN"
      },
      "source": [
        "## Implementing a Naive Bayesian classifier for multivariate Bernoulli models\n",
        "\n",
        "I chose this classifier because it is suitable for discrete data.It works similarity as a multinomial bayesian classifier, however this is designed for binary/boolean features - much like our defect/cooperate features. \n",
        "\n",
        "\n",
        "first, let us prep the data. I want to create a dataframe using tft and proactive aggression. "
      ]
    },
    {
      "cell_type": "markdown",
      "metadata": {
        "id": "Dv-Mu3n4SYcb"
      },
      "source": [
        "### proactive aggression & tft "
      ]
    },
    {
      "cell_type": "markdown",
      "metadata": {
        "id": "iDeJ7F_FO3Kt"
      },
      "source": [
        "Now, let us get to know our data a little more. I want to know more about our proactive aggression scores."
      ]
    },
    {
      "cell_type": "code",
      "metadata": {
        "colab": {
          "base_uri": "https://localhost:8080/"
        },
        "id": "eG7X1Z0kNmzX",
        "outputId": "20871479-9ebb-44c8-9dd3-888eafd5775b"
      },
      "source": [
        "# data frame that includes proactive agression scores and tft rounds \n",
        "proactive_tft = [\"P-Proactive_aggr\"]\n",
        "proactive_tft.extend(tft)\n",
        "proactive_tft_data = data[proactive_tft]\n",
        "data['P-Proactive_aggr'].describe()\n"
      ],
      "execution_count": null,
      "outputs": [
        {
          "output_type": "execute_result",
          "data": {
            "text/plain": [
              "count    144.000000\n",
              "mean       0.902778\n",
              "std        1.236504\n",
              "min        0.000000\n",
              "25%        0.000000\n",
              "50%        0.500000\n",
              "75%        1.000000\n",
              "max        6.000000\n",
              "Name: P-Proactive_aggr, dtype: float64"
            ]
          },
          "metadata": {
            "tags": []
          },
          "execution_count": 6
        }
      ]
    },
    {
      "cell_type": "code",
      "metadata": {
        "id": "8Gd5GvJFfJh4",
        "colab": {
          "base_uri": "https://localhost:8080/"
        },
        "outputId": "24f72024-5fe4-4722-98b3-93728fa12f2f"
      },
      "source": [
        "data['P-Proactive_aggr'].value_counts()\n"
      ],
      "execution_count": null,
      "outputs": [
        {
          "output_type": "execute_result",
          "data": {
            "text/plain": [
              "0.0    72\n",
              "1.0    42\n",
              "2.0    14\n",
              "3.0     8\n",
              "4.0     5\n",
              "5.0     2\n",
              "6.0     1\n",
              "Name: P-Proactive_aggr, dtype: int64"
            ]
          },
          "metadata": {
            "tags": []
          },
          "execution_count": 7
        }
      ]
    },
    {
      "cell_type": "markdown",
      "metadata": {
        "id": "yCn63pPmPD9Z"
      },
      "source": [
        "Now, let us prep our data for our classifier. "
      ]
    },
    {
      "cell_type": "code",
      "metadata": {
        "id": "vnh1SjFIDuAq"
      },
      "source": [
        "X = proactive_tft_data.drop(columns=['P-Proactive_aggr'])\n",
        "y = proactive_tft_data['P-Proactive_aggr']\n",
        "X_train, X_test, y_train, y_test = train_test_split(X, y, test_size=0.25, random_state=0)\n"
      ],
      "execution_count": null,
      "outputs": []
    },
    {
      "cell_type": "code",
      "metadata": {
        "colab": {
          "base_uri": "https://localhost:8080/"
        },
        "id": "AlSWR9U5wcS4",
        "outputId": "f79c3108-6502-4b65-a0a2-afb3ffd5881a"
      },
      "source": [
        "print(proactive_tft_data)"
      ],
      "execution_count": null,
      "outputs": [
        {
          "output_type": "stream",
          "text": [
            "     P-Proactive_aggr  tft1  tft2  tft3  tft4  ...  tft6  tft7  tft8  tft9  tft10\n",
            "0                 1.0     1     1     0     1  ...     0     1     0     0      1\n",
            "1                 1.0     1     1     1     1  ...     1     1     1     1      1\n",
            "2                 0.0     1     0     0     1  ...     0     0     0     1      0\n",
            "3                 0.0     0     0     0     0  ...     0     1     0     0      0\n",
            "4                 0.0     1     1     0     1  ...     0     0     0     0      0\n",
            "..                ...   ...   ...   ...   ...  ...   ...   ...   ...   ...    ...\n",
            "162               0.0     0     0     1     1  ...     1     1     1     0      1\n",
            "163               1.0     0     0     0     0  ...     0     0     0     0      0\n",
            "164               0.0     0     0     0     0  ...     0     0     0     0      0\n",
            "165               0.0     1     0     1     1  ...     1     0     1     0      1\n",
            "166               1.0     1     0     0     1  ...     0     0     0     0      0\n",
            "\n",
            "[144 rows x 11 columns]\n"
          ],
          "name": "stdout"
        }
      ]
    },
    {
      "cell_type": "markdown",
      "metadata": {
        "id": "yNKtM_IRLkvA"
      },
      "source": [
        "  Predicting proactive aggression score using TFT\n",
        "\n",
        "```\n",
        "# This is formatted as code\n",
        "```\n",
        "\n"
      ]
    },
    {
      "cell_type": "code",
      "metadata": {
        "colab": {
          "base_uri": "https://localhost:8080/",
          "height": 348
        },
        "id": "kSSJ68DJHoGx",
        "outputId": "f35283c0-f73a-4729-b0c8-36852ff12fd6"
      },
      "source": [
        "clf = BernoulliNB()\n",
        "y_pred = clf.fit(X_train, y_train).predict(X_test)\n",
        "print(\"Number of mislabeled points out of a total %d points : %d\"\n",
        "      % (X_test.shape[0], (y_test != y_pred).sum()))\n",
        "print(\"accuracy:\", accuracy_score(y_test, y_pred))\n",
        "print(\"RMSE: \", mean_squared_error(y_test, y_pred))\n",
        "plot_confusion_matrix(clf, X_test, y_test, display_labels=\"Predicting proactive aggression score using TFT\")"
      ],
      "execution_count": null,
      "outputs": [
        {
          "output_type": "stream",
          "text": [
            "Number of mislabeled points out of a total 36 points : 16\n",
            "accuracy: 0.5555555555555556\n",
            "RMSE:  2.4722222222222223\n"
          ],
          "name": "stdout"
        },
        {
          "output_type": "execute_result",
          "data": {
            "text/plain": [
              "<sklearn.metrics._plot.confusion_matrix.ConfusionMatrixDisplay at 0x7f823ef2ba10>"
            ]
          },
          "metadata": {
            "tags": []
          },
          "execution_count": 10
        },
        {
          "output_type": "display_data",
          "data": {
            "image/png": "[encoded data removed]",
            "text/plain": [
              "<Figure size 432x288 with 2 Axes>"
            ]
          },
          "metadata": {
            "tags": [],
            "needs_background": "light"
          }
        }
      ]
    },
    {
      "cell_type": "markdown",
      "metadata": {
        "id": "TeL7B3KN-tJH"
      },
      "source": [
        "Preditcing Proactive using *coop*"
      ]
    },
    {
      "cell_type": "code",
      "metadata": {
        "id": "-Z7TEjRa-pVI"
      },
      "source": [
        "X2 = data[coop]\n",
        "X_train, X_test, y_train, y_test = train_test_split(X2, y, test_size=0.25, random_state=0)\n"
      ],
      "execution_count": null,
      "outputs": []
    },
    {
      "cell_type": "code",
      "metadata": {
        "colab": {
          "base_uri": "https://localhost:8080/",
          "height": 352
        },
        "id": "443bW4gOvqBO",
        "outputId": "1d11cbb0-82f1-4969-dd5d-1381cdaf9e15"
      },
      "source": [
        "clf2 = MultinomialNB()\n",
        "y_pred = clf2.fit(X_train, y_train).predict(X_test)\n",
        "print(\"Number of mislabeled points out of a total %d points : %d\"\n",
        "      % (X_test.shape[0], (y_test != y_pred).sum()))\n",
        "print(\"accuracy:\", accuracy_score(y_test, y_pred))\n",
        "print(\"RMSE: \", mean_squared_error(y_test, y_pred))\n",
        "plot_confusion_matrix(clf2, X_test, y_test)"
      ],
      "execution_count": null,
      "outputs": [
        {
          "output_type": "stream",
          "text": [
            "Number of mislabeled points out of a total 36 points : 20\n",
            "accuracy: 0.4444444444444444\n",
            "RMSE:  2.4722222222222223\n"
          ],
          "name": "stdout"
        },
        {
          "output_type": "execute_result",
          "data": {
            "text/plain": [
              "<sklearn.metrics._plot.confusion_matrix.ConfusionMatrixDisplay at 0x7f8244a47990>"
            ]
          },
          "metadata": {
            "tags": []
          },
          "execution_count": 12
        },
        {
          "output_type": "display_data",
          "data": {
            "image/png": "[encoded data removed]",
            "text/plain": [
              "<Figure size 432x288 with 2 Axes>"
            ]
          },
          "metadata": {
            "tags": [],
            "needs_background": "light"
          }
        }
      ]
    },
    {
      "cell_type": "markdown",
      "metadata": {
        "id": "6y20T678_b4m"
      },
      "source": [
        "proactive using **def**"
      ]
    },
    {
      "cell_type": "code",
      "metadata": {
        "colab": {
          "base_uri": "https://localhost:8080/",
          "height": 348
        },
        "id": "LxSEN_Mz_d_A",
        "outputId": "f904422b-3677-48b0-80dc-6cf386c3ff5d"
      },
      "source": [
        "X3 = data[defs]\n",
        "X_train, X_test, y_train, y_test = train_test_split(X3, y, test_size=0.25, random_state=0)\n",
        "clf3 = MultinomialNB()\n",
        "y_pred = clf3.fit(X_train, y_train).predict(X_test)\n",
        "print(\"Number of mislabeled points out of a total %d points : %d\"\n",
        "      % (X_test.shape[0], (y_test != y_pred).sum()))\n",
        "print(\"accuracy:\", accuracy_score(y_test, y_pred))\n",
        "print(\"RMSE: \", mean_squared_error(y_test, y_pred))\n",
        "plot_confusion_matrix(clf3, X_test, y_test)"
      ],
      "execution_count": null,
      "outputs": [
        {
          "output_type": "stream",
          "text": [
            "Number of mislabeled points out of a total 36 points : 20\n",
            "accuracy: 0.4444444444444444\n",
            "RMSE:  2.6666666666666665\n"
          ],
          "name": "stdout"
        },
        {
          "output_type": "execute_result",
          "data": {
            "text/plain": [
              "<sklearn.metrics._plot.confusion_matrix.ConfusionMatrixDisplay at 0x7f823ef2be90>"
            ]
          },
          "metadata": {
            "tags": []
          },
          "execution_count": 13
        },
        {
          "output_type": "display_data",
          "data": {
            "image/png": "[encoded data removed]",
            "text/plain": [
              "<Figure size 432x288 with 2 Axes>"
            ]
          },
          "metadata": {
            "tags": [],
            "needs_background": "light"
          }
        }
      ]
    },
    {
      "cell_type": "markdown",
      "metadata": {
        "id": "mxwJyyUkSfDb"
      },
      "source": [
        "### Reactive aggression & defective rounds: This doesn't seem to work at all.. I wonder why? It gave an accuracy of 0.18 \n"
      ]
    },
    {
      "cell_type": "code",
      "metadata": {
        "colab": {
          "base_uri": "https://localhost:8080/"
        },
        "id": "-4dgKVBRSnbZ",
        "outputId": "a55972a7-fc8f-41f7-9a15-1752622da479"
      },
      "source": [
        "# data frame that includes reactive agression scores and defensive rounds \n",
        "reactive_defs = [\"P-Reactive_aggr\"]\n",
        "reactive_defs.extend(defs)\n",
        "reactive_defs_data = data[reactive_defs]\n",
        "data['P-Reactive_aggr'].describe()"
      ],
      "execution_count": null,
      "outputs": [
        {
          "output_type": "execute_result",
          "data": {
            "text/plain": [
              "count    144.000000\n",
              "mean       2.854167\n",
              "std        2.356270\n",
              "min        0.000000\n",
              "25%        1.000000\n",
              "50%        2.000000\n",
              "75%        4.250000\n",
              "max       10.000000\n",
              "Name: P-Reactive_aggr, dtype: float64"
            ]
          },
          "metadata": {
            "tags": []
          },
          "execution_count": 14
        }
      ]
    },
    {
      "cell_type": "code",
      "metadata": {
        "id": "mRc7SRnGS0kG"
      },
      "source": [
        "X = reactive_defs_data.drop(columns=['P-Reactive_aggr'])\n",
        "y = reactive_defs_data['P-Reactive_aggr']\n",
        "X_train, X_test, y_train, y_test = train_test_split(X, y, test_size=0.15, random_state=0)"
      ],
      "execution_count": null,
      "outputs": []
    },
    {
      "cell_type": "code",
      "metadata": {
        "colab": {
          "base_uri": "https://localhost:8080/",
          "height": 352
        },
        "id": "4Afr-knNTFLR",
        "outputId": "98eeb2e8-38b0-4a24-c5ab-edf0cca732e8"
      },
      "source": [
        "clf = BernoulliNB()\n",
        "y_pred = clf.fit(X_train, y_train).predict(X_test)\n",
        "print(\"Number of mislabeled points out of a total %d points : %d\"\n",
        "      % (X_test.shape[0], (y_test != y_pred).sum()))\n",
        "print(\"accuracy:\", accuracy_score(y_test, y_pred))\n",
        "print(\"RMSE: \", mean_squared_error(y_test, y_pred))\n",
        "plot_confusion_matrix(clf, X_test, y_test)"
      ],
      "execution_count": null,
      "outputs": [
        {
          "output_type": "stream",
          "text": [
            "Number of mislabeled points out of a total 22 points : 18\n",
            "accuracy: 0.18181818181818182\n",
            "RMSE:  10.818181818181818\n"
          ],
          "name": "stdout"
        },
        {
          "output_type": "execute_result",
          "data": {
            "text/plain": [
              "<sklearn.metrics._plot.confusion_matrix.ConfusionMatrixDisplay at 0x7f823dc41750>"
            ]
          },
          "metadata": {
            "tags": []
          },
          "execution_count": 16
        },
        {
          "output_type": "display_data",
          "data": {
            "image/png": "[encoded data removed]",
            "text/plain": [
              "<Figure size 432x288 with 2 Axes>"
            ]
          },
          "metadata": {
            "tags": [],
            "needs_background": "light"
          }
        }
      ]
    },
    {
      "cell_type": "markdown",
      "metadata": {
        "id": "hnKCDQO79cvy"
      },
      "source": [
        "reactive and tft"
      ]
    },
    {
      "cell_type": "code",
      "metadata": {
        "colab": {
          "base_uri": "https://localhost:8080/",
          "height": 352
        },
        "id": "hXn4JcaR9ehc",
        "outputId": "5d72353a-e45e-494a-bbb8-95a954955454"
      },
      "source": [
        "X4 = data[tft]\n",
        "y = reactive_defs_data['P-Reactive_aggr']\n",
        "X_train, X_test, y_train, y_test = train_test_split(X4, y, test_size=0.15, random_state=0)\n",
        "clf = BernoulliNB()\n",
        "y_pred = clf.fit(X_train, y_train).predict(X_test)\n",
        "print(\"Number of mislabeled points out of a total %d points : %d\"\n",
        "      % (X_test.shape[0], (y_test != y_pred).sum()))\n",
        "print(\"accuracy:\", accuracy_score(y_test, y_pred))\n",
        "print(\"RMSE: \", mean_squared_error(y_test, y_pred))\n",
        "plot_confusion_matrix(clf, X_test, y_test)"
      ],
      "execution_count": null,
      "outputs": [
        {
          "output_type": "stream",
          "text": [
            "Number of mislabeled points out of a total 22 points : 16\n",
            "accuracy: 0.2727272727272727\n",
            "RMSE:  11.045454545454545\n"
          ],
          "name": "stdout"
        },
        {
          "output_type": "execute_result",
          "data": {
            "text/plain": [
              "<sklearn.metrics._plot.confusion_matrix.ConfusionMatrixDisplay at 0x7f823ef1c250>"
            ]
          },
          "metadata": {
            "tags": []
          },
          "execution_count": 17
        },
        {
          "output_type": "display_data",
          "data": {
            "image/png": "[encoded data removed]",
            "text/plain": [
              "<Figure size 432x288 with 2 Axes>"
            ]
          },
          "metadata": {
            "tags": [],
            "needs_background": "light"
          }
        }
      ]
    },
    {
      "cell_type": "markdown",
      "metadata": {
        "id": "o7zpORpNAYZU"
      },
      "source": [
        "reactive and coop"
      ]
    },
    {
      "cell_type": "code",
      "metadata": {
        "colab": {
          "base_uri": "https://localhost:8080/",
          "height": 352
        },
        "id": "trrNAhU_AgRM",
        "outputId": "780adbc4-f98a-4398-950d-4e5f77fb2d2a"
      },
      "source": [
        "X5 = data[coop]\n",
        "y = reactive_defs_data['P-Reactive_aggr']\n",
        "X_train, X_test, y_train, y_test = train_test_split(X5, y, test_size=0.15, random_state=0)\n",
        "clf = BernoulliNB()\n",
        "y_pred = clf.fit(X_train, y_train).predict(X_test)\n",
        "print(\"Number of mislabeled points out of a total %d points : %d\"\n",
        "      % (X_test.shape[0], (y_test != y_pred).sum()))\n",
        "print(\"accuracy:\", accuracy_score(y_test, y_pred))\n",
        "print(\"RMSE: \", mean_squared_error(y_test, y_pred))\n",
        "plot_confusion_matrix(clf, X_test, y_test)"
      ],
      "execution_count": null,
      "outputs": [
        {
          "output_type": "stream",
          "text": [
            "Number of mislabeled points out of a total 22 points : 15\n",
            "accuracy: 0.3181818181818182\n",
            "RMSE:  11.318181818181818\n"
          ],
          "name": "stdout"
        },
        {
          "output_type": "execute_result",
          "data": {
            "text/plain": [
              "<sklearn.metrics._plot.confusion_matrix.ConfusionMatrixDisplay at 0x7f823dc4a190>"
            ]
          },
          "metadata": {
            "tags": []
          },
          "execution_count": 18
        },
        {
          "output_type": "display_data",
          "data": {
            "image/png": "[encoded data removed]",
            "text/plain": [
              "<Figure size 432x288 with 2 Axes>"
            ]
          },
          "metadata": {
            "tags": [],
            "needs_background": "light"
          }
        }
      ]
    },
    {
      "cell_type": "markdown",
      "metadata": {
        "id": "H3aQUoNtMuiq"
      },
      "source": [
        "## Implementing a Bayesian Statistical model using PYMC3"
      ]
    },
    {
      "cell_type": "markdown",
      "metadata": {
        "id": "e4lO6aOONBz-"
      },
      "source": [
        "This model seems to work, but I am not sure what the below plots signify. I need help using this model to predict future responses.  "
      ]
    },
    {
      "cell_type": "code",
      "metadata": {
        "colab": {
          "base_uri": "https://localhost:8080/"
        },
        "id": "QNdzAd8Yuod0",
        "outputId": "3a69d700-ae44-4251-9f92-620aeeeeba1e"
      },
      "source": [
        "\n",
        "with pm.Model() as model:\n",
        "    p = pm.Beta( 'p', alpha=2, beta=2 )\n",
        "    y = pm.Binomial('y_tft', 10, p, observed= proactive_tft_data)\n",
        "    step = pm.Metropolis()\n",
        "    trace = pm.sample( 10000, step=step, progressbar=True )\n"
      ],
      "execution_count": null,
      "outputs": [
        {
          "output_type": "stream",
          "text": [
            "Sequential sampling (2 chains in 1 job)\n",
            "Metropolis: [p]\n",
            "Sampling chain 0, 0 divergences: 100%|██████████| 10500/10500 [00:01<00:00, 6009.71it/s]\n",
            "Sampling chain 1, 0 divergences: 100%|██████████| 10500/10500 [00:02<00:00, 4647.15it/s]\n",
            "The number of effective samples is smaller than 10% for some parameters.\n"
          ],
          "name": "stderr"
        }
      ]
    },
    {
      "cell_type": "markdown",
      "metadata": {
        "id": "LYRnwmHgedJS"
      },
      "source": [
        "Here we see the marginalized distribution for each parameter on the left and the trace plot (parameter value as a function of step number) on the right."
      ]
    },
    {
      "cell_type": "code",
      "metadata": {
        "id": "3u2sACfBuww2",
        "colab": {
          "base_uri": "https://localhost:8080/",
          "height": 554
        },
        "outputId": "4210bd78-4177-46a9-8131-bf7d9938ed5c"
      },
      "source": [
        "pm.traceplot(trace )\n",
        "pm.plot_posterior(trace)\n",
        "plt.show()"
      ],
      "execution_count": null,
      "outputs": [
        {
          "output_type": "stream",
          "text": [
            "/usr/local/lib/python3.7/dist-packages/arviz/plots/backends/matplotlib/distplot.py:38: UserWarning: Argument backend_kwargs has not effect in matplotlib.plot_distSupplied value won't be used\n",
            "  \"Argument backend_kwargs has not effect in matplotlib.plot_dist\"\n",
            "/usr/local/lib/python3.7/dist-packages/arviz/plots/backends/matplotlib/distplot.py:38: UserWarning: Argument backend_kwargs has not effect in matplotlib.plot_distSupplied value won't be used\n",
            "  \"Argument backend_kwargs has not effect in matplotlib.plot_dist\"\n"
          ],
          "name": "stderr"
        },
        {
          "output_type": "display_data",
          "data": {
            "image/png": "[encoded data removed]",
            "text/plain": [
              "<Figure size 864x144 with 2 Axes>"
            ]
          },
          "metadata": {
            "tags": [],
            "needs_background": "light"
          }
        },
        {
          "output_type": "display_data",
          "data": {
            "image/png": "[encoded data removed]",
            "text/plain": [
              "<Figure size 432x288 with 1 Axes>"
            ]
          },
          "metadata": {
            "tags": [],
            "needs_background": "light"
          }
        }
      ]
    },
    {
      "cell_type": "code",
      "metadata": {
        "id": "tycz5mEC0_kJ",
        "colab": {
          "base_uri": "https://localhost:8080/",
          "height": 77
        },
        "outputId": "85586247-da9e-4fad-e95d-24c709f0fe7e"
      },
      "source": [
        ""
      ],
      "execution_count": null,
      "outputs": [
        {
          "output_type": "execute_result",
          "data": {
            "text/html": [
              "<div>\n",
              "<style scoped>\n",
              "    .dataframe tbody tr th:only-of-type {\n",
              "        vertical-align: middle;\n",
              "    }\n",
              "\n",
              "    .dataframe tbody tr th {\n",
              "        vertical-align: top;\n",
              "    }\n",
              "\n",
              "    .dataframe thead th {\n",
              "        text-align: right;\n",
              "    }\n",
              "</style>\n",
              "<table border=\"1\" class=\"dataframe\">\n",
              "  <thead>\n",
              "    <tr style=\"text-align: right;\">\n",
              "      <th></th>\n",
              "      <th>mean</th>\n",
              "      <th>sd</th>\n",
              "      <th>hpd_3%</th>\n",
              "      <th>hpd_97%</th>\n",
              "      <th>mcse_mean</th>\n",
              "      <th>mcse_sd</th>\n",
              "      <th>ess_mean</th>\n",
              "      <th>ess_sd</th>\n",
              "      <th>ess_bulk</th>\n",
              "      <th>ess_tail</th>\n",
              "      <th>r_hat</th>\n",
              "    </tr>\n",
              "  </thead>\n",
              "  <tbody>\n",
              "    <tr>\n",
              "      <th>p</th>\n",
              "      <td>0.048</td>\n",
              "      <td>0.002</td>\n",
              "      <td>0.045</td>\n",
              "      <td>0.052</td>\n",
              "      <td>0.0</td>\n",
              "      <td>0.0</td>\n",
              "      <td>1902.0</td>\n",
              "      <td>1902.0</td>\n",
              "      <td>1907.0</td>\n",
              "      <td>1855.0</td>\n",
              "      <td>1.0</td>\n",
              "    </tr>\n",
              "  </tbody>\n",
              "</table>\n",
              "</div>"
            ],
            "text/plain": [
              "    mean     sd  hpd_3%  hpd_97%  ...  ess_sd  ess_bulk  ess_tail  r_hat\n",
              "p  0.048  0.002   0.045    0.052  ...  1902.0    1907.0    1855.0    1.0\n",
              "\n",
              "[1 rows x 11 columns]"
            ]
          },
          "metadata": {
            "tags": []
          },
          "execution_count": 38
        }
      ]
    },
    {
      "cell_type": "code",
      "metadata": {
        "id": "AA2MWqaFNzyD"
      },
      "source": [
        ""
      ],
      "execution_count": null,
      "outputs": []
    }
  ]
}