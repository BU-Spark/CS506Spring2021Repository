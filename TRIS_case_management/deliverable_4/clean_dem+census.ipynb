{
 "cells": [
  {
   "cell_type": "code",
   "execution_count": null,
   "id": "binding-matthew",
   "metadata": {},
   "outputs": [],
   "source": [
    "import os, time\n",
    "\n",
    "import numpy as np\n",
    "import pandas as pd"
   ]
  },
  {
   "cell_type": "code",
   "execution_count": null,
   "id": "detailed-three",
   "metadata": {},
   "outputs": [],
   "source": [
    "def cvt(geo_id, prefix=''):\n",
    "    geo_id = str(geo_id).replace('.0', '')\n",
    "    if geo_id.isdigit():\n",
    "        return prefix + geo_id\n",
    "    else:\n",
    "        return ''"
   ]
  },
  {
   "cell_type": "code",
   "execution_count": null,
   "id": "complex-tolerance",
   "metadata": {},
   "outputs": [],
   "source": [
    "data = pd.read_csv('./data/dem+census.csv')\n",
    "print(data.columns)\n",
    "data"
   ]
  },
  {
   "cell_type": "code",
   "execution_count": null,
   "id": "cosmetic-liabilities",
   "metadata": {},
   "outputs": [],
   "source": [
    "data['GEOID'] = data['GEOID'].apply(cvt)\n",
    "data['ID'] = data['GEOID'].apply(cvt, prefix='1400000US')\n",
    "data"
   ]
  },
  {
   "cell_type": "code",
   "execution_count": null,
   "id": "whole-storm",
   "metadata": {},
   "outputs": [],
   "source": [
    "cols = list(data.columns)\n",
    "cols.remove('ID')\n",
    "i = cols.index('GEOID') + 1\n",
    "cols.insert(i, 'ID')\n",
    "\n",
    "data[~ (data['GEOID'] == '')][cols].to_excel('./data/dem+census-clean.xlsx', encoding='utf8', index=None)\n",
    "data[~ (data['GEOID'] == '')]"
   ]
  },
  {
   "cell_type": "code",
   "execution_count": null,
   "id": "attempted-bones",
   "metadata": {},
   "outputs": [],
   "source": []
  },
  {
   "cell_type": "code",
   "execution_count": null,
   "id": "anonymous-trinity",
   "metadata": {},
   "outputs": [],
   "source": []
  },
  {
   "cell_type": "code",
   "execution_count": null,
   "id": "wireless-lender",
   "metadata": {},
   "outputs": [],
   "source": []
  },
  {
   "cell_type": "code",
   "execution_count": null,
   "id": "hydraulic-delivery",
   "metadata": {},
   "outputs": [],
   "source": []
  }
 ],
 "metadata": {
  "kernelspec": {
   "display_name": "Python [conda env:torch]",
   "language": "python",
   "name": "conda-env-torch-py"
  },
  "language_info": {
   "codemirror_mode": {
    "name": "ipython",
    "version": 3
   },
   "file_extension": ".py",
   "mimetype": "text/x-python",
   "name": "python",
   "nbconvert_exporter": "python",
   "pygments_lexer": "ipython3",
   "version": "3.7.9"
  }
 },
 "nbformat": 4,
 "nbformat_minor": 5
}
