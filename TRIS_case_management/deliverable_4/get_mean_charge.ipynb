{
 "cells": [
  {
   "cell_type": "code",
   "execution_count": null,
   "id": "structural-chinese",
   "metadata": {},
   "outputs": [],
   "source": [
    "import os, time\n",
    "\n",
    "import numpy as np\n",
    "import pandas as pd"
   ]
  },
  {
   "cell_type": "code",
   "execution_count": null,
   "id": "rational-business",
   "metadata": {},
   "outputs": [],
   "source": [
    "demor = pd.read_excel('./data/dem+census-clean.xlsx')\n",
    "charge = pd.read_excel('./data/CPCS TRIS Source Data/Priority3-MaxChargesDispositions-Full-0.xlsx')"
   ]
  },
  {
   "cell_type": "code",
   "execution_count": null,
   "id": "identified-appraisal",
   "metadata": {},
   "outputs": [],
   "source": [
    "demor"
   ]
  },
  {
   "cell_type": "code",
   "execution_count": null,
   "id": "ahead-jonathan",
   "metadata": {},
   "outputs": [],
   "source": [
    "charge"
   ]
  },
  {
   "cell_type": "code",
   "execution_count": null,
   "id": "under-mauritius",
   "metadata": {},
   "outputs": [],
   "source": [
    "data = pd.merge(demor, charge, left_on='CASE_ID', right_on='CASE_ID')\n",
    "data"
   ]
  },
  {
   "cell_type": "code",
   "execution_count": null,
   "id": "modular-poison",
   "metadata": {},
   "outputs": [],
   "source": [
    "data[data['GEOID'].apply(str).str.len() < 10][['GEOID']]"
   ]
  },
  {
   "cell_type": "code",
   "execution_count": null,
   "id": "committed-collect",
   "metadata": {},
   "outputs": [],
   "source": [
    "group = data.groupby(by='ID')"
   ]
  },
  {
   "cell_type": "code",
   "execution_count": null,
   "id": "familiar-guess",
   "metadata": {},
   "outputs": [],
   "source": [
    "len(group)"
   ]
  },
  {
   "cell_type": "code",
   "execution_count": null,
   "id": "based-girlfriend",
   "metadata": {},
   "outputs": [],
   "source": [
    "tract_mean_charge = []\n",
    "for g in group:\n",
    "    row = {}\n",
    "    row['ID'] = g[0]\n",
    "    row['mean_charge'] = np.mean(g[1]['charge_grid_level'])\n",
    "    tract_mean_charge.append(row)\n",
    "\n",
    "tract_mean_charge.sort(key=lambda x: x.get('ID'))\n",
    "mean_charge_df = pd.DataFrame.from_records(tract_mean_charge)\n",
    "mean_charge_df"
   ]
  },
  {
   "cell_type": "code",
   "execution_count": null,
   "id": "military-surge",
   "metadata": {},
   "outputs": [],
   "source": [
    "mean_charge_df.to_csv('./data/CPCS TRIS Source Data/mean_charge.csv', encoding='utf-8', index=None)"
   ]
  }
 ],
 "metadata": {
  "kernelspec": {
   "display_name": "Python [conda env:torch]",
   "language": "python",
   "name": "conda-env-torch-py"
  },
  "language_info": {
   "codemirror_mode": {
    "name": "ipython",
    "version": 3
   },
   "file_extension": ".py",
   "mimetype": "text/x-python",
   "name": "python",
   "nbconvert_exporter": "python",
   "pygments_lexer": "ipython3",
   "version": "3.7.9"
  }
 },
 "nbformat": 4,
 "nbformat_minor": 5
}
