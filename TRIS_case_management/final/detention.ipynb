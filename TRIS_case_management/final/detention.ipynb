{
 "cells": [
  {
   "cell_type": "code",
   "execution_count": null,
   "id": "experienced-clothing",
   "metadata": {},
   "outputs": [],
   "source": [
    "import os, time\n",
    "\n",
    "import numpy as np\n",
    "import pandas as pd"
   ]
  },
  {
   "cell_type": "markdown",
   "id": "valued-orientation",
   "metadata": {},
   "source": [
    "# You's outcome detention"
   ]
  },
  {
   "cell_type": "code",
   "execution_count": null,
   "id": "introductory-focus",
   "metadata": {
    "scrolled": true
   },
   "outputs": [],
   "source": [
    "data = pd.read_excel('./data/CPCS TRIS Source Data/Priority3-MaxChargesDispositions-Full-0.xlsx')\n",
    "data"
   ]
  },
  {
   "cell_type": "code",
   "execution_count": null,
   "id": "unlikely-frank",
   "metadata": {
    "scrolled": true
   },
   "outputs": [],
   "source": [
    "codes = pd.read_excel('./data/CPCS TRIS Source Data/Code for charge disposition.xlsx', usecols='C:F', skiprows=1)\n",
    "codes = codes.drop(columns=codes.columns[2])\n",
    "codes = codes.dropna(subset=['Code'])\n",
    "codes"
   ]
  },
  {
   "cell_type": "code",
   "execution_count": null,
   "id": "requested-furniture",
   "metadata": {
    "scrolled": false
   },
   "outputs": [],
   "source": [
    "tmp = pd.merge(data, codes, left_on='charge_grid_level', right_on='code')\n",
    "tmp"
   ]
  },
  {
   "cell_type": "code",
   "execution_count": null,
   "id": "burning-deposit",
   "metadata": {
    "scrolled": true
   },
   "outputs": [],
   "source": [
    "res_1 = tmp[tmp['Code'] > 3].drop_duplicates(subset='CASE_ID', keep='first')\n",
    "res_1"
   ]
  },
  {
   "cell_type": "code",
   "execution_count": null,
   "id": "republican-ceiling",
   "metadata": {
    "scrolled": true
   },
   "outputs": [],
   "source": [
    "tmp[tmp['Code'] < 3.1]"
   ]
  },
  {
   "cell_type": "markdown",
   "id": "toxic-engineer",
   "metadata": {},
   "source": [
    "# Yuan's outcome detention"
   ]
  },
  {
   "cell_type": "code",
   "execution_count": null,
   "id": "seventh-university",
   "metadata": {},
   "outputs": [],
   "source": [
    "temp = pd.read_excel('./data/CPCS TRIS Source Data/Priority3-ChargesDispositions-Full-outcome.xlsx')"
   ]
  },
  {
   "cell_type": "code",
   "execution_count": null,
   "id": "premium-cooperative",
   "metadata": {
    "scrolled": false
   },
   "outputs": [],
   "source": [
    "codes = pd.read_excel('./data/CPCS TRIS Source Data/Code for charge disposition.xlsx', usecols='C:F', skiprows=1)\n",
    "codes = codes.drop(columns=codes.columns[2])\n",
    "codes = codes.dropna(subset=['Code'])\n",
    "codes"
   ]
  },
  {
   "cell_type": "code",
   "execution_count": null,
   "id": "tribal-focus",
   "metadata": {
    "scrolled": true
   },
   "outputs": [],
   "source": [
    "res_2 = temp[temp['OUTCOME'] > 3].drop_duplicates(subset='CASE_ID', keep='first')\n",
    "res_2"
   ]
  },
  {
   "cell_type": "code",
   "execution_count": null,
   "id": "infectious-faculty",
   "metadata": {},
   "outputs": [],
   "source": [
    "set(res_1['CASE_ID']) == set(res_2['CASE_ID'])"
   ]
  },
  {
   "cell_type": "code",
   "execution_count": null,
   "id": "starting-exercise",
   "metadata": {
    "scrolled": true
   },
   "outputs": [],
   "source": [
    "not_res_2 = temp[temp['OUTCOME'] <= 3].drop_duplicates(subset='CASE_ID', keep='first')\n",
    "not_res_2"
   ]
  },
  {
   "cell_type": "code",
   "execution_count": null,
   "id": "comparative-roman",
   "metadata": {},
   "outputs": [],
   "source": [
    "cols = list(res_2.columns)\n",
    "i = cols.index('OUTCOME')\n",
    "cols.insert(i + 1, 'DETENTION')\n",
    "cols[i+1]"
   ]
  },
  {
   "cell_type": "code",
   "execution_count": null,
   "id": "legitimate-distance",
   "metadata": {
    "scrolled": true
   },
   "outputs": [],
   "source": [
    "res_2['DETENTION'] = 1\n",
    "not_res_2['DETENTION'] = 0\n",
    "\n",
    "final = res_2.append(not_res_2, ignore_index=True)"
   ]
  },
  {
   "cell_type": "code",
   "execution_count": null,
   "id": "greatest-defendant",
   "metadata": {
    "scrolled": true
   },
   "outputs": [],
   "source": [
    "final = final.sort_values(by=['CASE_ID', 'DETENTION'], ascending=False)\n",
    "final"
   ]
  },
  {
   "cell_type": "code",
   "execution_count": null,
   "id": "alike-interpretation",
   "metadata": {
    "scrolled": true
   },
   "outputs": [],
   "source": [
    "final = final.drop_duplicates(subset='CASE_ID', keep='first')\n",
    "final"
   ]
  },
  {
   "cell_type": "code",
   "execution_count": null,
   "id": "higher-visitor",
   "metadata": {
    "scrolled": true
   },
   "outputs": [],
   "source": [
    "start = time.time()\n",
    "final.sort_values(by='CASE_ID').to_excel('./data/CPCS TRIS Source Data/Priority3-ChargesDispositions-Full-Outcome-Detention.xlsx', index=None)\n",
    "print(f'cost time: {time.time() - start}')"
   ]
  },
  {
   "cell_type": "code",
   "execution_count": null,
   "id": "virtual-offering",
   "metadata": {},
   "outputs": [],
   "source": []
  }
 ],
 "metadata": {
  "kernelspec": {
   "display_name": "Python [conda env:torch]",
   "language": "python",
   "name": "conda-env-torch-py"
  },
  "language_info": {
   "codemirror_mode": {
    "name": "ipython",
    "version": 3
   },
   "file_extension": ".py",
   "mimetype": "text/x-python",
   "name": "python",
   "nbconvert_exporter": "python",
   "pygments_lexer": "ipython3",
   "version": "3.7.9"
  }
 },
 "nbformat": 4,
 "nbformat_minor": 5
}
