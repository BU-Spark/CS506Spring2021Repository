{
 "cells": [
  {
   "cell_type": "code",
   "execution_count": null,
   "id": "absent-japanese",
   "metadata": {},
   "outputs": [],
   "source": [
    "import os, time, re\n",
    "import numpy as np\n",
    "import pandas as pd\n",
    "import multiprocessing\n",
    "\n",
    "from multiprocessing import Pool\n",
    "from itertools import product\n",
    "from multi_process import apply_f, merge_cases, init_process"
   ]
  },
  {
   "cell_type": "code",
   "execution_count": null,
   "id": "personal-receiver",
   "metadata": {},
   "outputs": [],
   "source": [
    "def get_max_charge(charge_grid_level):\n",
    "    \n",
    "    charge = -1\n",
    "    if type(charge_grid_level) == int:\n",
    "        charge = charge_grid_level\n",
    "        \n",
    "    elif type(charge_grid_level) == str:\n",
    "        # like '2,3,4'\n",
    "        if len(charge_grid_level) > 2:\n",
    "            charge = max(int(x) for x in charge_grid_level.split(','))\n",
    "        else: # like *, empty string\n",
    "            charge = charge_grid_level\n",
    "    else:\n",
    "        charge = ''\n",
    "    \n",
    "    return charge"
   ]
  },
  {
   "cell_type": "code",
   "execution_count": null,
   "id": "pregnant-momentum",
   "metadata": {},
   "outputs": [],
   "source": [
    "file = './data/CPCS TRIS Source Data/Priority3-ChargesDispositions-Full.xlsx'\n",
    "data = pd.read_excel(file, sheet_name='Data', skiprows=4)\n",
    "data"
   ]
  },
  {
   "cell_type": "code",
   "execution_count": null,
   "id": "wicked-inspection",
   "metadata": {},
   "outputs": [],
   "source": [
    "print(len(data.columns))\n",
    "data['max_charge_grid_level'] = data['charge_grid_level'].apply(get_max_charge)\n",
    "print(len(data.columns))"
   ]
  },
  {
   "cell_type": "code",
   "execution_count": null,
   "id": "formal-beaver",
   "metadata": {},
   "outputs": [],
   "source": [
    "cols = list(data.columns)\n",
    "cols.remove('max_charge_grid_level')\n",
    "i = cols.index('charge_grid_level')\n",
    "cols.insert(i+1, 'max_charge_grid_level')\n",
    "\n",
    "data[cols].to_excel('./data/CPCS TRIS Source Data/Priority3-MaxChargesDispositions-Full-2.xlsx', encoding='utf8', index=False)"
   ]
  },
  {
   "cell_type": "code",
   "execution_count": null,
   "id": "checked-cartridge",
   "metadata": {},
   "outputs": [],
   "source": []
  },
  {
   "cell_type": "code",
   "execution_count": null,
   "id": "demonstrated-wells",
   "metadata": {},
   "outputs": [],
   "source": []
  },
  {
   "cell_type": "code",
   "execution_count": null,
   "id": "prepared-paris",
   "metadata": {},
   "outputs": [],
   "source": []
  },
  {
   "cell_type": "code",
   "execution_count": null,
   "id": "eleven-access",
   "metadata": {},
   "outputs": [],
   "source": []
  },
  {
   "cell_type": "code",
   "execution_count": null,
   "id": "palestinian-ticket",
   "metadata": {},
   "outputs": [],
   "source": []
  },
  {
   "cell_type": "code",
   "execution_count": null,
   "id": "occupational-purpose",
   "metadata": {},
   "outputs": [],
   "source": [
    "case_ids = list(set(data['CASE_ID']))\n",
    "case_ids[:5]"
   ]
  },
  {
   "cell_type": "code",
   "execution_count": null,
   "id": "universal-sapphire",
   "metadata": {},
   "outputs": [],
   "source": [
    "group = data.groupby(by=['CASE_ID'])\n",
    "group"
   ]
  },
  {
   "cell_type": "code",
   "execution_count": null,
   "id": "hourly-concept",
   "metadata": {
    "scrolled": true
   },
   "outputs": [],
   "source": [
    "group.get_group(45).columns.to_list()"
   ]
  },
  {
   "cell_type": "code",
   "execution_count": null,
   "id": "least-guard",
   "metadata": {},
   "outputs": [],
   "source": [
    "part_case_ids = np.array_split(case_ids, multiprocessing.cpu_count())\n",
    "print('start')\n",
    "start = time.time()\n",
    "with Pool(processes=multiprocessing.cpu_count(), initializer=init_process, initargs=(None,)) as pool:\n",
    "    result_parts = pool.starmap(apply_f, product([merge_cases], part_case_ids, [data], [group]))\n",
    "print(\"time cost={}\".format(time.time() - start))\n",
    "start = time.time()\n",
    "tmp_data = pd.concat(result_parts)\n",
    "print(\"time cost={}\".format(time.time() - start))"
   ]
  },
  {
   "cell_type": "code",
   "execution_count": null,
   "id": "boxed-wells",
   "metadata": {
    "scrolled": true
   },
   "outputs": [],
   "source": [
    "err = sorted(set(case_ids) - set(tmp_data['CASE_ID']))\n",
    "print(f'missing caseID: {len(err)}\\n{err}')\n",
    "\n",
    "tmp_data"
   ]
  },
  {
   "cell_type": "code",
   "execution_count": null,
   "id": "other-sessions",
   "metadata": {},
   "outputs": [],
   "source": [
    "# tmp_data.to_excel('./data/CPCS TRIS Source Data/Priority3-MaxChargesDispositions-Full.xlsx', encoding='utf8', index=False)\n",
    "tmp_data = pd.read_excel('./data/CPCS TRIS Source Data/Priority3-MaxChargesDispositions-Full-0.xlsx')\n",
    "tmp_data"
   ]
  },
  {
   "cell_type": "code",
   "execution_count": null,
   "id": "pursuant-position",
   "metadata": {},
   "outputs": [],
   "source": [
    "tmp = tmp_data[['CASE_ID', 'charge_grid_level']]\n",
    "tmp = tmp.rename(columns={'charge_grid_level': 'max_charge_grid_level'})\n",
    "tmp"
   ]
  },
  {
   "cell_type": "code",
   "execution_count": null,
   "id": "regulation-fossil",
   "metadata": {},
   "outputs": [],
   "source": [
    "new = data.merge(tmp, how='left', on='CASE_ID')\n",
    "print(len(new), len(data))\n",
    "new"
   ]
  },
  {
   "cell_type": "code",
   "execution_count": null,
   "id": "alternate-candle",
   "metadata": {},
   "outputs": [],
   "source": [
    "cols = list(data.columns)\n",
    "i = cols.index('charge_grid_level')\n",
    "cols.insert(i+1, 'max_charge_grid_level')\n",
    "\n",
    "new[cols].to_excel('./data/CPCS TRIS Source Data/Priority3-MaxChargesDispositions-Full-1.xlsx', encoding='utf8', index=False)"
   ]
  },
  {
   "cell_type": "code",
   "execution_count": null,
   "id": "assigned-preliminary",
   "metadata": {},
   "outputs": [],
   "source": []
  },
  {
   "cell_type": "code",
   "execution_count": null,
   "id": "cloudy-appendix",
   "metadata": {},
   "outputs": [],
   "source": []
  },
  {
   "cell_type": "code",
   "execution_count": null,
   "id": "agreed-connectivity",
   "metadata": {},
   "outputs": [],
   "source": []
  },
  {
   "cell_type": "code",
   "execution_count": null,
   "id": "fitting-relevance",
   "metadata": {},
   "outputs": [],
   "source": [
    "# this cost 290 secs, too slow with single process, use multi-processing instead\n",
    "tmp_data = pd.DataFrame(columns=data.columns)\n",
    "err = []\n",
    "start = time.time()\n",
    "\n",
    "for case_id in case_ids[:]:\n",
    "    charge = -1\n",
    "    max_charge = -1\n",
    "    index = -1\n",
    "    case_charges = group.get_group(case_id)['charge_grid_level']\n",
    "    for i in case_charges.index:\n",
    "        charge_grid_level = case_charges[i]\n",
    "        if type(charge_grid_level) == int:\n",
    "            charge = charge_grid_level\n",
    "        \n",
    "        # like '2,3,4'\n",
    "        elif type(charge_grid_level) == str and len(charge_grid_level) > 2:\n",
    "            charge = max(int(x) for x in charge_grid_level.split(','))\n",
    "        \n",
    "        # else is NaN, type = float\n",
    "#         print(case_id, i, 'if else', index, max_charge, charge)\n",
    "        if max_charge < charge:\n",
    "            max_charge = charge\n",
    "            index = i\n",
    "#         print(case_id, i, 'if else', index, max_charge, charge)\n",
    "#     print(index, max_charge)\n",
    "    if index > -1:\n",
    "        row = data.loc[index].copy()\n",
    "        row.loc['charge_grid_level'] = max_charge\n",
    "        tmp_data = tmp_data.append(row, ignore_index=True)\n",
    "    else:\n",
    "        err.append(case_id)\n",
    "\n",
    "print(f'time: {time.time() - start}')\n",
    "print(f'err: {len(err)}\\n{err}')\n",
    "tmp_data"
   ]
  },
  {
   "cell_type": "code",
   "execution_count": null,
   "id": "similar-olympus",
   "metadata": {},
   "outputs": [],
   "source": [
    "len(err), len(data)"
   ]
  },
  {
   "cell_type": "code",
   "execution_count": null,
   "id": "filled-projection",
   "metadata": {},
   "outputs": [],
   "source": [
    "tmp_data[tmp_data['CASE_ID']==49]"
   ]
  },
  {
   "cell_type": "code",
   "execution_count": null,
   "id": "increased-solution",
   "metadata": {},
   "outputs": [],
   "source": []
  },
  {
   "cell_type": "code",
   "execution_count": null,
   "id": "successful-washer",
   "metadata": {},
   "outputs": [],
   "source": []
  },
  {
   "cell_type": "code",
   "execution_count": null,
   "id": "antique-operation",
   "metadata": {},
   "outputs": [],
   "source": []
  },
  {
   "cell_type": "code",
   "execution_count": null,
   "id": "unexpected-parish",
   "metadata": {},
   "outputs": [],
   "source": []
  }
 ],
 "metadata": {
  "kernelspec": {
   "display_name": "Python [conda env:torch]",
   "language": "python",
   "name": "conda-env-torch-py"
  },
  "language_info": {
   "codemirror_mode": {
    "name": "ipython",
    "version": 3
   },
   "file_extension": ".py",
   "mimetype": "text/x-python",
   "name": "python",
   "nbconvert_exporter": "python",
   "pygments_lexer": "ipython3",
   "version": "3.7.9"
  }
 },
 "nbformat": 4,
 "nbformat_minor": 5
}
